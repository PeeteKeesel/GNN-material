{
 "cells": [
  {
   "cell_type": "code",
   "execution_count": 7,
   "metadata": {},
   "outputs": [],
   "source": [
    "%reset"
   ]
  },
  {
   "cell_type": "code",
   "execution_count": 3,
   "metadata": {},
   "outputs": [
    {
     "name": "stdout",
     "output_type": "stream",
     "text": [
      "pytorch version: 1.11.0\n",
      "is cuda available: False\n"
     ]
    }
   ],
   "source": [
    "import time\n",
    "import copy\n",
    "import gzip\n",
    "import pickle\n",
    "import numpy as np\n",
    "import pandas as pd\n",
    "import matplotlib.pyplot as plt \n",
    "import seaborn as sns\n",
    "import torch\n",
    "\n",
    "from io import BytesIO\n",
    "from time import sleep \n",
    "from tqdm import tqdm\n",
    "\n",
    "from config import PATH_TO_FEATURES\n",
    "\n",
    "PATH_TO_LINKING_DATA = '../../datasets/string/'\n",
    "PATH_TO_SAVE_DATA_TO = '../../datasets/string/my_datasets/'\n",
    "\n",
    "PROTEIN_LINKS_FILE = '9606.protein.links.detailed.v11.5.txt.gz'\n",
    "PROTEIN_INFO_FILE = '9606.protein.info.v11.5.txt.gz'\n",
    "\n",
    "sns.set_theme(style=\"white\")\n",
    "\n",
    "print(\"pytorch version:\", torch.__version__)\n",
    "print(\"is cuda available:\", torch.cuda.is_available())"
   ]
  },
  {
   "cell_type": "markdown",
   "metadata": {},
   "source": [
    "# Build a Sparse Graph with as much landmark genes as possible\n",
    "\n",
    "We already created two datasets with graphs per cell-line. \n",
    "- In [`07_v1_get_linking_dataset.ipynb`](07_v1_get_linking_dataset.ipynb) we created a dataset with gene-gene interactions graphs per cell-line of topology `Data(x=[858, 4], edge_index=[2, 83126])`. They have been saved in `../../datasets/datasets_for_model_building/cl_graphs_as_dict.pkl`.\n",
    "  - __Problem__: The number of edges 83,126 was way to high to even run a single epoch locally.\n",
    "- In [`07_v2_graph_dataset.ipynb`](07_v2_graph_dataset.ipynb) we created a dataset with gene-gene interactions graphs per cell-line of topology `Data(x=[458, 4], edge_index=[2, 4760])`. They have been saved in `../../datasets/datasets_for_model_building/cl_graphs_as_dict_SPARSE.pkl`. We selected first only the protein tuples with a combined score higher then 950 and then selected only the landmark genes.\n",
    "  - __Problem__: Even though we lowered the number of edges significantly, now we lost nearly half of all the genes, which may provide valuable information.\n",
    "\n",
    "_Objective_: The objective of this notebook is to lower the number of edges down from 83,126 __while maintaining as much genes as possible__.\n",
    "\n",
    "_Approach_: We 1st select only landmark genes out of the protein database and then 2nd use the `combined_score` column in the protein-interaction dataset.\n",
    "\n",
    "_TODOs_: \n",
    "- [ ] select only the protein-protein tuples where both proteins are landmark genes\n",
    "- [ ] after the first step, tune the `combined_score` column threshold in such a way that as close to 858 genes as possible stay in the dataset"
   ]
  },
  {
   "cell_type": "markdown",
   "metadata": {},
   "source": [
    "### Helper Methods"
   ]
  },
  {
   "cell_type": "code",
   "execution_count": 6,
   "metadata": {},
   "outputs": [],
   "source": [
    "def read_protein_links(path: str):\n",
    "    print(f\"Start reading `{path}`...\")\n",
    "    contents = gzip.open(path, \"rb\").read()\n",
    "    data = BytesIO(contents)\n",
    "    protein_links_v1 = pd.read_csv(data, sep=' ')\n",
    "    print(\"Finished reading.\")\n",
    "\n",
    "    # Exclude the Homo Sapiens taxonomy ID from the protein columns.\n",
    "    protein_links_v2 = protein_links_v1.copy()\n",
    "    protein_links_v2.protein1 = protein_links_v2.protein1.str[5:]\n",
    "    protein_links_v2.protein2 = protein_links_v2.protein2.str[5:]\n",
    "\n",
    "    return protein_links_v2\n",
    "\n",
    "def read_protein_info(path: str):\n",
    "    contents = gzip.open(path, \"rb\").read()\n",
    "    data = BytesIO(contents)\n",
    "    protein_info_v1 = pd.read_csv(data, sep='\\t')\n",
    "    protein_info_v2 = protein_info_v1.rename(columns={'#string_protein_id': 'string_protein_id'}, inplace=False)\n",
    "\n",
    "    # Exclude the Homo Sapiens taxonomy ID from the protein columns.\n",
    "    protein_info_v2.string_protein_id = protein_info_v2.string_protein_id.str[5:]\n",
    "\n",
    "    return protein_info_v2\n",
    "\n",
    "def combine_protein_links_with_info(links: pd.DataFrame, infos: pd.DataFrame):\n",
    "    \"\"\"\n",
    "    Maps the corresponding gene symbols to the proteins in the protein link dataset.\n",
    "\n",
    "    Args:\n",
    "        links (pd.DataFrame): DataFrame containing at least the columns `protein1` and `protein2`.\n",
    "        infos (pd.DataFrame): DataFrame containing at least the columns `string_protein_id` and `preferred_name`.\n",
    "    Returns:\n",
    "        (pd.DataFrame): DataFrame containing the corresponding `gene_symbol` per `protein1` and `protein2`.\n",
    "    \"\"\"\n",
    "    # Get the gene symbols for the protein1 column.\n",
    "    res = links.merge(right    = infos[['string_protein_id', 'preferred_name']],\n",
    "                      how      = 'left',\n",
    "                      left_on  = 'protein1',\n",
    "                      right_on = 'string_protein_id')\n",
    "    res.rename(columns={'preferred_name': 'gene_symbol1'}, inplace=True)\n",
    "    res.drop(['string_protein_id'], axis=1, inplace=True)\n",
    "\n",
    "    # Get the gene symbols for the protein2 column.\n",
    "    res = res.merge(right    = infos[['string_protein_id', 'preferred_name']],\n",
    "                    how      = 'left',\n",
    "                    left_on  = 'protein2',\n",
    "                    right_on = 'string_protein_id')\n",
    "    res.rename(columns={'preferred_name': 'gene_symbol2'}, inplace=True)\n",
    "    res.drop(['string_protein_id'], axis=1, inplace=True)\n",
    "\n",
    "    # Drop all rows where the gene symbol has not been found.\n",
    "    res.dropna(subset=['gene_symbol1', 'gene_symbol2'], inplace=True)\n",
    "\n",
    "    assert not res[['gene_symbol1', 'gene_symbol2']].isna().sum().any(),\\\n",
    "        \"Some gene_symbol columns are missing!\"\n",
    "\n",
    "    return res    "
   ]
  },
  {
   "cell_type": "markdown",
   "metadata": {},
   "source": [
    "## Create protein dataset\n",
    "In this section we will create the full base protein dataset which then will be used for further model-specific selection.\n",
    "### Load protein link dataset\n",
    "In this subsection we will load the protein linking dataset which contains for a given protein-protein tuple information about their certainty of connection."
   ]
  },
  {
   "cell_type": "code",
   "execution_count": 7,
   "metadata": {},
   "outputs": [
    {
     "name": "stdout",
     "output_type": "stream",
     "text": [
      "Start reading `../../datasets/string/9606.protein.links.detailed.v11.5.txt.gz`...\n",
      "Finished reading.\n",
      "(11938498, 10)\n"
     ]
    },
    {
     "data": {
      "text/html": [
       "<div>\n",
       "<style scoped>\n",
       "    .dataframe tbody tr th:only-of-type {\n",
       "        vertical-align: middle;\n",
       "    }\n",
       "\n",
       "    .dataframe tbody tr th {\n",
       "        vertical-align: top;\n",
       "    }\n",
       "\n",
       "    .dataframe thead th {\n",
       "        text-align: right;\n",
       "    }\n",
       "</style>\n",
       "<table border=\"1\" class=\"dataframe\">\n",
       "  <thead>\n",
       "    <tr style=\"text-align: right;\">\n",
       "      <th></th>\n",
       "      <th>protein1</th>\n",
       "      <th>protein2</th>\n",
       "      <th>neighborhood</th>\n",
       "      <th>fusion</th>\n",
       "      <th>cooccurence</th>\n",
       "      <th>coexpression</th>\n",
       "      <th>experimental</th>\n",
       "      <th>database</th>\n",
       "      <th>textmining</th>\n",
       "      <th>combined_score</th>\n",
       "    </tr>\n",
       "  </thead>\n",
       "  <tbody>\n",
       "    <tr>\n",
       "      <th>0</th>\n",
       "      <td>ENSP00000000233</td>\n",
       "      <td>ENSP00000379496</td>\n",
       "      <td>0</td>\n",
       "      <td>0</td>\n",
       "      <td>0</td>\n",
       "      <td>54</td>\n",
       "      <td>0</td>\n",
       "      <td>0</td>\n",
       "      <td>144</td>\n",
       "      <td>155</td>\n",
       "    </tr>\n",
       "    <tr>\n",
       "      <th>1</th>\n",
       "      <td>ENSP00000000233</td>\n",
       "      <td>ENSP00000314067</td>\n",
       "      <td>0</td>\n",
       "      <td>0</td>\n",
       "      <td>0</td>\n",
       "      <td>0</td>\n",
       "      <td>180</td>\n",
       "      <td>0</td>\n",
       "      <td>61</td>\n",
       "      <td>197</td>\n",
       "    </tr>\n",
       "    <tr>\n",
       "      <th>2</th>\n",
       "      <td>ENSP00000000233</td>\n",
       "      <td>ENSP00000263116</td>\n",
       "      <td>0</td>\n",
       "      <td>0</td>\n",
       "      <td>0</td>\n",
       "      <td>62</td>\n",
       "      <td>152</td>\n",
       "      <td>0</td>\n",
       "      <td>101</td>\n",
       "      <td>222</td>\n",
       "    </tr>\n",
       "  </tbody>\n",
       "</table>\n",
       "</div>"
      ],
      "text/plain": [
       "          protein1         protein2  neighborhood  fusion  cooccurence  \\\n",
       "0  ENSP00000000233  ENSP00000379496             0       0            0   \n",
       "1  ENSP00000000233  ENSP00000314067             0       0            0   \n",
       "2  ENSP00000000233  ENSP00000263116             0       0            0   \n",
       "\n",
       "   coexpression  experimental  database  textmining  combined_score  \n",
       "0            54             0         0         144             155  \n",
       "1             0           180         0          61             197  \n",
       "2            62           152         0         101             222  "
      ]
     },
     "execution_count": 7,
     "metadata": {},
     "output_type": "execute_result"
    }
   ],
   "source": [
    "protein_links = read_protein_links(f'{PATH_TO_LINKING_DATA}{PROTEIN_LINKS_FILE}')\n",
    "print(protein_links.shape)\n",
    "protein_links.head(3)"
   ]
  },
  {
   "cell_type": "markdown",
   "metadata": {},
   "source": [
    "- there are 11,938,498 protein-protein connections in the given dataset\n",
    "- each connection row contains a `combined_score` value"
   ]
  },
  {
   "cell_type": "code",
   "execution_count": 9,
   "metadata": {},
   "outputs": [
    {
     "name": "stdout",
     "output_type": "stream",
     "text": [
      "      coexpression textmining experimental combined_score\n",
      "count     11938498   11938498     11938498       11938498\n",
      "mean            62        180           69            280\n",
      "std             97        153          120            167\n",
      "min              0          0            0            150\n",
      "25%              0         67            0            175\n",
      "50%             54        161            0            216\n",
      "75%             76        241          129            309\n",
      "max            999        997          999            999\n"
     ]
    },
    {
     "data": {
      "image/png": "[encoded data removed]",
      "text/plain": [
       "<Figure size 432x288 with 1 Axes>"
      ]
     },
     "metadata": {},
     "output_type": "display_data"
    }
   ],
   "source": [
    "print(protein_links[['coexpression', 'textmining', 'experimental', 'combined_score']].describe().apply(lambda s: s.apply('{0:.0f}'.format)))\n",
    "protein_links[['coexpression', 'textmining', 'experimental', 'combined_score']].boxplot(showfliers=False);"
   ]
  },
  {
   "cell_type": "markdown",
   "metadata": {},
   "source": [
    "- the `combined_score` column seems to lie in $[150, 999]$"
   ]
  },
  {
   "cell_type": "markdown",
   "metadata": {},
   "source": [
    "## Load protein info dataset\n",
    "\n",
    "In this subsection we will load the protein information dataset which contains the gene symbol for each protein ID. This will be used to obtain the corresponding gene symbols for each protein `protein1` and `protein2` respectively in the protein link dataset from the previous subsection."
   ]
  },
  {
   "cell_type": "code",
   "execution_count": 10,
   "metadata": {},
   "outputs": [
    {
     "name": "stdout",
     "output_type": "stream",
     "text": [
      "(19566, 4)\n",
      "There are 19563 unique gene symbols in `preferred_name`.\n"
     ]
    },
    {
     "data": {
      "text/html": [
       "<div>\n",
       "<style scoped>\n",
       "    .dataframe tbody tr th:only-of-type {\n",
       "        vertical-align: middle;\n",
       "    }\n",
       "\n",
       "    .dataframe tbody tr th {\n",
       "        vertical-align: top;\n",
       "    }\n",
       "\n",
       "    .dataframe thead th {\n",
       "        text-align: right;\n",
       "    }\n",
       "</style>\n",
       "<table border=\"1\" class=\"dataframe\">\n",
       "  <thead>\n",
       "    <tr style=\"text-align: right;\">\n",
       "      <th></th>\n",
       "      <th>string_protein_id</th>\n",
       "      <th>preferred_name</th>\n",
       "      <th>protein_size</th>\n",
       "      <th>annotation</th>\n",
       "    </tr>\n",
       "  </thead>\n",
       "  <tbody>\n",
       "    <tr>\n",
       "      <th>0</th>\n",
       "      <td>ENSP00000000233</td>\n",
       "      <td>ARF5</td>\n",
       "      <td>180</td>\n",
       "      <td>ADP-ribosylation factor 5; GTP-binding protein...</td>\n",
       "    </tr>\n",
       "    <tr>\n",
       "      <th>1</th>\n",
       "      <td>ENSP00000000412</td>\n",
       "      <td>M6PR</td>\n",
       "      <td>277</td>\n",
       "      <td>Cation-dependent mannose-6-phosphate receptor;...</td>\n",
       "    </tr>\n",
       "    <tr>\n",
       "      <th>2</th>\n",
       "      <td>ENSP00000001008</td>\n",
       "      <td>FKBP4</td>\n",
       "      <td>459</td>\n",
       "      <td>Peptidyl-prolyl cis-trans isomerase FKBP4; Imm...</td>\n",
       "    </tr>\n",
       "  </tbody>\n",
       "</table>\n",
       "</div>"
      ],
      "text/plain": [
       "  string_protein_id preferred_name  protein_size  \\\n",
       "0   ENSP00000000233           ARF5           180   \n",
       "1   ENSP00000000412           M6PR           277   \n",
       "2   ENSP00000001008          FKBP4           459   \n",
       "\n",
       "                                          annotation  \n",
       "0  ADP-ribosylation factor 5; GTP-binding protein...  \n",
       "1  Cation-dependent mannose-6-phosphate receptor;...  \n",
       "2  Peptidyl-prolyl cis-trans isomerase FKBP4; Imm...  "
      ]
     },
     "execution_count": 10,
     "metadata": {},
     "output_type": "execute_result"
    }
   ],
   "source": [
    "protein_infos_v0 = read_protein_info(f'{PATH_TO_LINKING_DATA}{PROTEIN_INFO_FILE}')\n",
    "print(protein_infos_v0.shape)\n",
    "print(f\"There are {len(protein_infos_v0.preferred_name.unique())} unique gene symbols in `preferred_name`.\")\n",
    "protein_infos_v0.head(3)"
   ]
  },
  {
   "cell_type": "markdown",
   "metadata": {},
   "source": [
    "- this dataset gives us the gene symbol for each protein ID.\n",
    "- some `preferred_name` (gene symbols) occur more then one time"
   ]
  },
  {
   "cell_type": "code",
   "execution_count": 11,
   "metadata": {},
   "outputs": [
    {
     "name": "stdout",
     "output_type": "stream",
     "text": [
      "       preferred_name  freq\n",
      "5100  ENSG00000205457     2\n",
      "5106  ENSG00000229117     2\n",
      "5243  ENSG00000268221     2\n",
      "(19560, 4)\n"
     ]
    },
    {
     "data": {
      "text/html": [
       "<div>\n",
       "<style scoped>\n",
       "    .dataframe tbody tr th:only-of-type {\n",
       "        vertical-align: middle;\n",
       "    }\n",
       "\n",
       "    .dataframe tbody tr th {\n",
       "        vertical-align: top;\n",
       "    }\n",
       "\n",
       "    .dataframe thead th {\n",
       "        text-align: right;\n",
       "    }\n",
       "</style>\n",
       "<table border=\"1\" class=\"dataframe\">\n",
       "  <thead>\n",
       "    <tr style=\"text-align: right;\">\n",
       "      <th></th>\n",
       "      <th>string_protein_id</th>\n",
       "      <th>preferred_name</th>\n",
       "      <th>protein_size</th>\n",
       "      <th>annotation</th>\n",
       "    </tr>\n",
       "  </thead>\n",
       "  <tbody>\n",
       "    <tr>\n",
       "      <th>0</th>\n",
       "      <td>ENSP00000000233</td>\n",
       "      <td>ARF5</td>\n",
       "      <td>180</td>\n",
       "      <td>ADP-ribosylation factor 5; GTP-binding protein...</td>\n",
       "    </tr>\n",
       "    <tr>\n",
       "      <th>1</th>\n",
       "      <td>ENSP00000000412</td>\n",
       "      <td>M6PR</td>\n",
       "      <td>277</td>\n",
       "      <td>Cation-dependent mannose-6-phosphate receptor;...</td>\n",
       "    </tr>\n",
       "    <tr>\n",
       "      <th>2</th>\n",
       "      <td>ENSP00000001008</td>\n",
       "      <td>FKBP4</td>\n",
       "      <td>459</td>\n",
       "      <td>Peptidyl-prolyl cis-trans isomerase FKBP4; Imm...</td>\n",
       "    </tr>\n",
       "  </tbody>\n",
       "</table>\n",
       "</div>"
      ],
      "text/plain": [
       "  string_protein_id preferred_name  protein_size  \\\n",
       "0   ENSP00000000233           ARF5           180   \n",
       "1   ENSP00000000412           M6PR           277   \n",
       "2   ENSP00000001008          FKBP4           459   \n",
       "\n",
       "                                          annotation  \n",
       "0  ADP-ribosylation factor 5; GTP-binding protein...  \n",
       "1  Cation-dependent mannose-6-phosphate receptor;...  \n",
       "2  Peptidyl-prolyl cis-trans isomerase FKBP4; Imm...  "
      ]
     },
     "execution_count": 11,
     "metadata": {},
     "output_type": "execute_result"
    }
   ],
   "source": [
    "freq_per_gene = protein_infos_v0.groupby(['preferred_name']).size().reset_index(name='freq', inplace=False).sort_values(['freq'], ascending=False)\n",
    "print(freq_per_gene[freq_per_gene.freq>1])\n",
    "\n",
    "# Remove the gene symbols which have a frequency higher than 1.\n",
    "protein_infos = protein_infos_v0[~protein_infos_v0.preferred_name.isin(freq_per_gene[freq_per_gene.freq>1].preferred_name.tolist())]\n",
    "print(protein_infos.shape)\n",
    "protein_infos.head(3)"
   ]
  },
  {
   "cell_type": "markdown",
   "metadata": {},
   "source": [
    "### Combine protein link and info\n",
    "\n",
    "In this subsection we will add the `preferred_name`'s to the protein columns of the link dataset. This way we obtain the corresponding gene symbols for each protein of each tuple."
   ]
  },
  {
   "cell_type": "code",
   "execution_count": 12,
   "metadata": {},
   "outputs": [
    {
     "name": "stdout",
     "output_type": "stream",
     "text": [
      "(11936122, 12)\n"
     ]
    },
    {
     "data": {
      "text/html": [
       "<div>\n",
       "<style scoped>\n",
       "    .dataframe tbody tr th:only-of-type {\n",
       "        vertical-align: middle;\n",
       "    }\n",
       "\n",
       "    .dataframe tbody tr th {\n",
       "        vertical-align: top;\n",
       "    }\n",
       "\n",
       "    .dataframe thead th {\n",
       "        text-align: right;\n",
       "    }\n",
       "</style>\n",
       "<table border=\"1\" class=\"dataframe\">\n",
       "  <thead>\n",
       "    <tr style=\"text-align: right;\">\n",
       "      <th></th>\n",
       "      <th>protein1</th>\n",
       "      <th>protein2</th>\n",
       "      <th>neighborhood</th>\n",
       "      <th>fusion</th>\n",
       "      <th>cooccurence</th>\n",
       "      <th>coexpression</th>\n",
       "      <th>experimental</th>\n",
       "      <th>database</th>\n",
       "      <th>textmining</th>\n",
       "      <th>combined_score</th>\n",
       "      <th>gene_symbol1</th>\n",
       "      <th>gene_symbol2</th>\n",
       "    </tr>\n",
       "  </thead>\n",
       "  <tbody>\n",
       "    <tr>\n",
       "      <th>0</th>\n",
       "      <td>ENSP00000000233</td>\n",
       "      <td>ENSP00000379496</td>\n",
       "      <td>0</td>\n",
       "      <td>0</td>\n",
       "      <td>0</td>\n",
       "      <td>54</td>\n",
       "      <td>0</td>\n",
       "      <td>0</td>\n",
       "      <td>144</td>\n",
       "      <td>155</td>\n",
       "      <td>ARF5</td>\n",
       "      <td>PDE1C</td>\n",
       "    </tr>\n",
       "    <tr>\n",
       "      <th>1</th>\n",
       "      <td>ENSP00000000233</td>\n",
       "      <td>ENSP00000314067</td>\n",
       "      <td>0</td>\n",
       "      <td>0</td>\n",
       "      <td>0</td>\n",
       "      <td>0</td>\n",
       "      <td>180</td>\n",
       "      <td>0</td>\n",
       "      <td>61</td>\n",
       "      <td>197</td>\n",
       "      <td>ARF5</td>\n",
       "      <td>PAK2</td>\n",
       "    </tr>\n",
       "    <tr>\n",
       "      <th>2</th>\n",
       "      <td>ENSP00000000233</td>\n",
       "      <td>ENSP00000263116</td>\n",
       "      <td>0</td>\n",
       "      <td>0</td>\n",
       "      <td>0</td>\n",
       "      <td>62</td>\n",
       "      <td>152</td>\n",
       "      <td>0</td>\n",
       "      <td>101</td>\n",
       "      <td>222</td>\n",
       "      <td>ARF5</td>\n",
       "      <td>RAB36</td>\n",
       "    </tr>\n",
       "  </tbody>\n",
       "</table>\n",
       "</div>"
      ],
      "text/plain": [
       "          protein1         protein2  neighborhood  fusion  cooccurence  \\\n",
       "0  ENSP00000000233  ENSP00000379496             0       0            0   \n",
       "1  ENSP00000000233  ENSP00000314067             0       0            0   \n",
       "2  ENSP00000000233  ENSP00000263116             0       0            0   \n",
       "\n",
       "   coexpression  experimental  database  textmining  combined_score  \\\n",
       "0            54             0         0         144             155   \n",
       "1             0           180         0          61             197   \n",
       "2            62           152         0         101             222   \n",
       "\n",
       "  gene_symbol1 gene_symbol2  \n",
       "0         ARF5        PDE1C  \n",
       "1         ARF5         PAK2  \n",
       "2         ARF5        RAB36  "
      ]
     },
     "execution_count": 12,
     "metadata": {},
     "output_type": "execute_result"
    }
   ],
   "source": [
    "proteins = combine_protein_links_with_info(protein_links, protein_infos)\n",
    "print(proteins.shape)\n",
    "proteins.head(3)"
   ]
  },
  {
   "cell_type": "code",
   "execution_count": 13,
   "metadata": {},
   "outputs": [
    {
     "name": "stdout",
     "output_type": "stream",
     "text": [
      "Shapes\n",
      "    before joining : (11938498, 10)\n",
      "    after  joining : (11936122, 12)\n",
      "There are \n",
      "    19379 unique genes (gene_symbol1) per column\n",
      "    19379 unique genes (gene_symbol2) per column    \n",
      "\n"
     ]
    },
    {
     "data": {
      "text/html": [
       "<div>\n",
       "<style scoped>\n",
       "    .dataframe tbody tr th:only-of-type {\n",
       "        vertical-align: middle;\n",
       "    }\n",
       "\n",
       "    .dataframe tbody tr th {\n",
       "        vertical-align: top;\n",
       "    }\n",
       "\n",
       "    .dataframe thead th {\n",
       "        text-align: right;\n",
       "    }\n",
       "</style>\n",
       "<table border=\"1\" class=\"dataframe\">\n",
       "  <thead>\n",
       "    <tr style=\"text-align: right;\">\n",
       "      <th></th>\n",
       "      <th>freq</th>\n",
       "      <th>count</th>\n",
       "    </tr>\n",
       "  </thead>\n",
       "  <tbody>\n",
       "    <tr>\n",
       "      <th>0</th>\n",
       "      <td>1</td>\n",
       "      <td>11936122</td>\n",
       "    </tr>\n",
       "  </tbody>\n",
       "</table>\n",
       "</div>"
      ],
      "text/plain": [
       "   freq     count\n",
       "0     1  11936122"
      ]
     },
     "execution_count": 13,
     "metadata": {},
     "output_type": "execute_result"
    }
   ],
   "source": [
    "print(f\"\"\"Shapes\n",
    "    before joining : {protein_links.shape}\n",
    "    after  joining : {proteins.shape}\n",
    "There are \n",
    "    {len(proteins.gene_symbol1.unique())} unique genes (gene_symbol1) per column\n",
    "    {len(proteins.gene_symbol2.unique())} unique genes (gene_symbol2) per column    \n",
    "\"\"\")\n",
    "# Unique number of gene-gene combinations.\n",
    "freq_per_tuple = proteins\\\n",
    "    .groupby(['gene_symbol1', 'gene_symbol2']).size()\\\n",
    "    .reset_index(name='freq', inplace=False)\\\n",
    "    .sort_values(['freq'], ascending=False)\n",
    "freq_per_tuple.groupby(['freq']).size().reset_index(name='count', inplace=False)"
   ]
  },
  {
   "cell_type": "markdown",
   "metadata": {},
   "source": [
    "## Select only landmark genes\n",
    "\n",
    "In this subsection we will select only the gene-gene tuples `(gene_i, gene_j)` where both `gene_i` and `gene_j` are landmark genes."
   ]
  },
  {
   "cell_type": "code",
   "execution_count": 15,
   "metadata": {},
   "outputs": [
    {
     "name": "stdout",
     "output_type": "stream",
     "text": [
      "Number of landmark genes: 858\n"
     ]
    },
    {
     "data": {
      "text/html": [
       "<div>\n",
       "<style scoped>\n",
       "    .dataframe tbody tr th:only-of-type {\n",
       "        vertical-align: middle;\n",
       "    }\n",
       "\n",
       "    .dataframe tbody tr th {\n",
       "        vertical-align: top;\n",
       "    }\n",
       "\n",
       "    .dataframe thead th {\n",
       "        text-align: right;\n",
       "    }\n",
       "</style>\n",
       "<table border=\"1\" class=\"dataframe\">\n",
       "  <thead>\n",
       "    <tr style=\"text-align: right;\">\n",
       "      <th></th>\n",
       "      <th>GENE_SYMBOL</th>\n",
       "      <th>GENE_INDEX</th>\n",
       "    </tr>\n",
       "  </thead>\n",
       "  <tbody>\n",
       "    <tr>\n",
       "      <th>0</th>\n",
       "      <td>ILK</td>\n",
       "      <td>0</td>\n",
       "    </tr>\n",
       "    <tr>\n",
       "      <th>1</th>\n",
       "      <td>MPC2</td>\n",
       "      <td>1</td>\n",
       "    </tr>\n",
       "    <tr>\n",
       "      <th>2</th>\n",
       "      <td>DAXX</td>\n",
       "      <td>2</td>\n",
       "    </tr>\n",
       "    <tr>\n",
       "      <th>3</th>\n",
       "      <td>NT5DC2</td>\n",
       "      <td>3</td>\n",
       "    </tr>\n",
       "    <tr>\n",
       "      <th>4</th>\n",
       "      <td>TSKU</td>\n",
       "      <td>4</td>\n",
       "    </tr>\n",
       "  </tbody>\n",
       "</table>\n",
       "</div>"
      ],
      "text/plain": [
       "  GENE_SYMBOL  GENE_INDEX\n",
       "0         ILK           0\n",
       "1        MPC2           1\n",
       "2        DAXX           2\n",
       "3      NT5DC2           3\n",
       "4        TSKU           4"
      ]
     },
     "execution_count": 15,
     "metadata": {},
     "output_type": "execute_result"
    }
   ],
   "source": [
    "with open(f'{PATH_TO_FEATURES}intersecting_genes.pkl', 'rb') as f: LANDMARK_GENES = list(pd.read_pickle(f))\n",
    "print(\"Number of landmark genes:\", len(LANDMARK_GENES))\n",
    "# Assign unique index to each of the genes.\n",
    "LM_GENES_IDXS = pd.DataFrame({'GENE_SYMBOL': list(LANDMARK_GENES)})\n",
    "LM_GENES_IDXS['GENE_INDEX'] = LM_GENES_IDXS.index\n",
    "LM_GENES_IDXS.head(5)"
   ]
  },
  {
   "cell_type": "code",
   "execution_count": 16,
   "metadata": {},
   "outputs": [
    {
     "name": "stdout",
     "output_type": "stream",
     "text": [
      "858\n",
      "858\n"
     ]
    }
   ],
   "source": [
    "# How many of the intersecting genes are also in the protein-protein interaction dataset?\n",
    "print(len(list(set(proteins.gene_symbol1.unique()).intersection(set(LM_GENES_IDXS.GENE_SYMBOL.unique())))))\n",
    "print(len(list(set(proteins.gene_symbol2.unique()).intersection(set(LM_GENES_IDXS.GENE_SYMBOL.unique())))))"
   ]
  },
  {
   "cell_type": "code",
   "execution_count": 28,
   "metadata": {},
   "outputs": [
    {
     "name": "stdout",
     "output_type": "stream",
     "text": [
      "(83126, 12), thus 99.30 % got removed\n",
      "Number of unique gene_symbol1's: 858 (95.57 % got removed)\n",
      "Number of unique gene_symbol2's: 858 (95.57 % got removed)\n"
     ]
    },
    {
     "data": {
      "text/html": [
       "<div>\n",
       "<style scoped>\n",
       "    .dataframe tbody tr th:only-of-type {\n",
       "        vertical-align: middle;\n",
       "    }\n",
       "\n",
       "    .dataframe tbody tr th {\n",
       "        vertical-align: top;\n",
       "    }\n",
       "\n",
       "    .dataframe thead th {\n",
       "        text-align: right;\n",
       "    }\n",
       "</style>\n",
       "<table border=\"1\" class=\"dataframe\">\n",
       "  <thead>\n",
       "    <tr style=\"text-align: right;\">\n",
       "      <th></th>\n",
       "      <th>protein1</th>\n",
       "      <th>protein2</th>\n",
       "      <th>neighborhood</th>\n",
       "      <th>fusion</th>\n",
       "      <th>cooccurence</th>\n",
       "      <th>coexpression</th>\n",
       "      <th>experimental</th>\n",
       "      <th>database</th>\n",
       "      <th>textmining</th>\n",
       "      <th>combined_score</th>\n",
       "      <th>gene_symbol1</th>\n",
       "      <th>gene_symbol2</th>\n",
       "    </tr>\n",
       "  </thead>\n",
       "  <tbody>\n",
       "    <tr>\n",
       "      <th>1940</th>\n",
       "      <td>ENSP00000001008</td>\n",
       "      <td>ENSP00000408295</td>\n",
       "      <td>0</td>\n",
       "      <td>0</td>\n",
       "      <td>0</td>\n",
       "      <td>81</td>\n",
       "      <td>0</td>\n",
       "      <td>0</td>\n",
       "      <td>258</td>\n",
       "      <td>288</td>\n",
       "      <td>FKBP4</td>\n",
       "      <td>RFC5</td>\n",
       "    </tr>\n",
       "    <tr>\n",
       "      <th>1953</th>\n",
       "      <td>ENSP00000001008</td>\n",
       "      <td>ENSP00000306245</td>\n",
       "      <td>0</td>\n",
       "      <td>0</td>\n",
       "      <td>0</td>\n",
       "      <td>0</td>\n",
       "      <td>59</td>\n",
       "      <td>0</td>\n",
       "      <td>177</td>\n",
       "      <td>192</td>\n",
       "      <td>FKBP4</td>\n",
       "      <td>FOS</td>\n",
       "    </tr>\n",
       "    <tr>\n",
       "      <th>1978</th>\n",
       "      <td>ENSP00000001008</td>\n",
       "      <td>ENSP00000340989</td>\n",
       "      <td>0</td>\n",
       "      <td>0</td>\n",
       "      <td>0</td>\n",
       "      <td>0</td>\n",
       "      <td>78</td>\n",
       "      <td>0</td>\n",
       "      <td>123</td>\n",
       "      <td>157</td>\n",
       "      <td>FKBP4</td>\n",
       "      <td>SFN</td>\n",
       "    </tr>\n",
       "  </tbody>\n",
       "</table>\n",
       "</div>"
      ],
      "text/plain": [
       "             protein1         protein2  neighborhood  fusion  cooccurence  \\\n",
       "1940  ENSP00000001008  ENSP00000408295             0       0            0   \n",
       "1953  ENSP00000001008  ENSP00000306245             0       0            0   \n",
       "1978  ENSP00000001008  ENSP00000340989             0       0            0   \n",
       "\n",
       "      coexpression  experimental  database  textmining  combined_score  \\\n",
       "1940            81             0         0         258             288   \n",
       "1953             0            59         0         177             192   \n",
       "1978             0            78         0         123             157   \n",
       "\n",
       "     gene_symbol1 gene_symbol2  \n",
       "1940        FKBP4         RFC5  \n",
       "1953        FKBP4          FOS  \n",
       "1978        FKBP4          SFN  "
      ]
     },
     "execution_count": 28,
     "metadata": {},
     "output_type": "execute_result"
    }
   ],
   "source": [
    "# Select only the rows where both gene symbols are landmark genes\n",
    "proteins_lm = proteins[(proteins.gene_symbol1.isin(LM_GENES_IDXS.GENE_SYMBOL)) &\n",
    "                       (proteins.gene_symbol2.isin(LM_GENES_IDXS.GENE_SYMBOL))]\n",
    "print(f\"{proteins_lm.shape}, thus {100-100*proteins_lm.shape[0]/proteins.shape[0]:2.2f} % got removed\")\n",
    "uniq_g1, uniq_g2 = len(proteins_lm.gene_symbol1.unique()), len(proteins_lm.gene_symbol2.unique())\n",
    "print(f\"Number of unique gene_symbol1's: {uniq_g1} ({100-100*uniq_g1/len(proteins.gene_symbol1.unique()):2.2f} % got removed)\")\n",
    "print(f\"Number of unique gene_symbol2's: {uniq_g2} ({100-100*uniq_g2/len(proteins.gene_symbol2.unique()):2.2f} % got removed)\")\n",
    "proteins_lm.head(3)"
   ]
  },
  {
   "cell_type": "markdown",
   "metadata": {},
   "source": [
    "## Tune `combined_score` threshold\n",
    "\n",
    "In this subsection we are going to tune the `combined_score` column such that as many gene symbols as possible stay in the resulting dataset."
   ]
  },
  {
   "cell_type": "code",
   "execution_count": 39,
   "metadata": {},
   "outputs": [],
   "source": [
    "threshs = np.arange(0.1, 1.0, 0.05)\n",
    "rows = np.repeat(None, len(threshs))\n",
    "uniq_g1s, uniq_g2s = np.repeat(None, len(threshs)), np.repeat(None, len(threshs))\n",
    "for i, thresh in enumerate(threshs): \n",
    "    # print(f\"thresh: {thresh*1_000:3.0f}\\n{20*'='}\")\n",
    "    protein_temp = proteins_lm[proteins_lm['combined_score'] > (thresh * 1_000)]\n",
    "    rows[i] = protein_temp.shape[0]\n",
    "    uniq_g1s[i] = len(protein_temp.gene_symbol1.unique())\n",
    "    uniq_g2s[i] = len(protein_temp.gene_symbol2.unique())"
   ]
  },
  {
   "cell_type": "code",
   "execution_count": 87,
   "metadata": {},
   "outputs": [
    {
     "data": {
      "image/png": "[encoded data removed]",
      "text/plain": [
       "<Figure size 720x432 with 2 Axes>"
      ]
     },
     "metadata": {},
     "output_type": "display_data"
    }
   ],
   "source": [
    "from matplotlib.pyplot import figure\n",
    "\n",
    "\n",
    "fig, ax1 = plt.subplots(figsize=(10, 6))\n",
    "\n",
    "ax1.plot(threshs*1_000, rows, 'bo-');\n",
    "ax1.set_xlabel(\"Thresholds\");\n",
    "ax1.set_ylabel(\"Number of Rows\", color='b');\n",
    "ax1.tick_params(axis ='y', labelcolor = 'b')\n",
    "\n",
    "ax2 = ax1.twinx()\n",
    "ax2.plot(threshs*1_000, uniq_g1s, 'go-');\n",
    "ax2.axhline(y=700, color='grey', linestyle='--');\n",
    "ax2.set_ylabel(\"Number of Unique Genes\", color='g');\n",
    "ax2.tick_params(axis ='y', labelcolor = 'g');\n",
    "ax2.set_ylim(300, 900);\n",
    "\n",
    "for thresh in threshs:\n",
    "    ax1.axvline(x=thresh*1_000, color='grey', linestyle='-', alpha=0.2);\n",
    "\n",
    "plt.xticks([200, 300, 400, 500, 600, 700, 800, 950]);\n",
    "plt.title(\"Number of Remaining Rows & Unique Columns for Score Thresholds\");\n",
    "plt.show();\n"
   ]
  },
  {
   "cell_type": "markdown",
   "metadata": {},
   "source": [
    "[Zhu et. al., 2022](https://academic.oup.com/bioinformatics/article/38/2/461/6374919) also only worked with GDSC2 and ended up with 706 genes. Thus, an orientation number for the unique number of genes we want to have after choosing a threshold could be 700."
   ]
  },
  {
   "cell_type": "code",
   "execution_count": null,
   "metadata": {},
   "outputs": [],
   "source": [
    "SCORE_THRESH = 700"
   ]
  },
  {
   "cell_type": "code",
   "execution_count": null,
   "metadata": {},
   "outputs": [],
   "source": []
  }
 ],
 "metadata": {
  "interpreter": {
   "hash": "c78b81650a0bd32063743affb6953ff71b1a0dba806fbca9e2db842718495748"
  },
  "kernelspec": {
   "display_name": "Python 3.10.4 ('master-thesis-log')",
   "language": "python",
   "name": "python3"
  },
  "language_info": {
   "codemirror_mode": {
    "name": "ipython",
    "version": 3
   },
   "file_extension": ".py",
   "mimetype": "text/x-python",
   "name": "python",
   "nbconvert_exporter": "python",
   "pygments_lexer": "ipython3",
   "version": "3.10.4"
  },
  "orig_nbformat": 4
 },
 "nbformat": 4,
 "nbformat_minor": 2
}
