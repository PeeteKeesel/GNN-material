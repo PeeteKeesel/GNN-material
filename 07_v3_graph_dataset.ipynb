{
 "cells": [
  {
   "cell_type": "code",
   "execution_count": 7,
   "metadata": {},
   "outputs": [],
   "source": [
    "%reset"
   ]
  },
  {
   "cell_type": "code",
   "execution_count": 229,
   "metadata": {},
   "outputs": [
    {
     "name": "stdout",
     "output_type": "stream",
     "text": [
      "The autoreload extension is already loaded. To reload it, use:\n",
      "  %reload_ext autoreload\n",
      "pytorch version: 1.11.0\n",
      "is cuda available: False\n"
     ]
    }
   ],
   "source": [
    "%load_ext autoreload\n",
    "%autoreload 2\n",
    "\n",
    "import time\n",
    "import copy\n",
    "import gzip\n",
    "import pickle\n",
    "import numpy as np\n",
    "import pandas as pd\n",
    "import matplotlib.pyplot as plt \n",
    "import seaborn as sns\n",
    "import torch\n",
    "\n",
    "from io import BytesIO\n",
    "from time import sleep \n",
    "from tqdm import tqdm\n",
    "from typing import List\n",
    "from torch_geometric.data import Data\n",
    "\n",
    "from config import PATH_TO_FEATURES\n",
    "from my_utils.global_vars import PlottingParameters\n",
    "\n",
    "PATH_TO_LINKING_DATA = '../../datasets/string/'\n",
    "PATH_TO_SAVE_DATA_TO = '../../datasets/string/my_datasets/'\n",
    "\n",
    "PROTEIN_LINKS_FILE = '9606.protein.links.detailed.v11.5.txt.gz'\n",
    "PROTEIN_INFO_FILE = '9606.protein.info.v11.5.txt.gz'\n",
    "\n",
    "IMGS_PATH = 'imgs'\n",
    "\n",
    "sns.set_theme(style=\"white\")\n",
    "\n",
    "print(\"pytorch version:\", torch.__version__)\n",
    "print(\"is cuda available:\", torch.cuda.is_available())"
   ]
  },
  {
   "cell_type": "markdown",
   "metadata": {},
   "source": [
    "# Build a Sparse Graph with as much landmark genes as possible\n",
    "\n",
    "We already created two datasets with graphs per cell-line. \n",
    "- In [`07_v1_get_linking_dataset.ipynb`](07_v1_get_linking_dataset.ipynb) we created a dataset with gene-gene interactions graphs per cell-line of topology `Data(x=[858, 4], edge_index=[2, 83126])`. They have been saved in `../../datasets/datasets_for_model_building/cl_graphs_as_dict.pkl`.\n",
    "  - __Problem__: The number of edges 83,126 was way to high to even run a single epoch locally.\n",
    "- In [`07_v2_graph_dataset.ipynb`](07_v2_graph_dataset.ipynb) we created a dataset with gene-gene interactions graphs per cell-line of topology `Data(x=[458, 4], edge_index=[2, 4760])`. They have been saved in `../../datasets/datasets_for_model_building/cl_graphs_as_dict_SPARSE.pkl`. We selected first only the protein tuples with a combined score higher then 950 and then selected only the landmark genes.\n",
    "  - __Problem__: Even though we lowered the number of edges significantly, now we lost nearly half of all the genes, which may provide valuable information.\n",
    "\n",
    "_Objective_: The objective of this notebook is to lower the number of edges down from 83,126 __while maintaining as much genes as possible__.\n",
    "\n",
    "_Approach_: We 1st select only landmark genes out of the protein database and then 2nd use the `combined_score` column in the protein-interaction dataset.\n",
    "\n",
    "_TODOs_: \n",
    "- [ ] select only the protein-protein tuples where both proteins are landmark genes\n",
    "- [ ] after the first step, tune the `combined_score` column threshold in such a way that as close to 858 genes as possible stay in the dataset"
   ]
  },
  {
   "cell_type": "markdown",
   "metadata": {},
   "source": [
    "### Helper Methods"
   ]
  },
  {
   "cell_type": "code",
   "execution_count": 6,
   "metadata": {},
   "outputs": [],
   "source": [
    "def read_protein_links(path: str):\n",
    "    print(f\"Start reading `{path}`...\")\n",
    "    contents = gzip.open(path, \"rb\").read()\n",
    "    data = BytesIO(contents)\n",
    "    protein_links_v1 = pd.read_csv(data, sep=' ')\n",
    "    print(\"Finished reading.\")\n",
    "\n",
    "    # Exclude the Homo Sapiens taxonomy ID from the protein columns.\n",
    "    protein_links_v2 = protein_links_v1.copy()\n",
    "    protein_links_v2.protein1 = protein_links_v2.protein1.str[5:]\n",
    "    protein_links_v2.protein2 = protein_links_v2.protein2.str[5:]\n",
    "\n",
    "    return protein_links_v2\n",
    "\n",
    "def read_protein_info(path: str):\n",
    "    contents = gzip.open(path, \"rb\").read()\n",
    "    data = BytesIO(contents)\n",
    "    protein_info_v1 = pd.read_csv(data, sep='\\t')\n",
    "    protein_info_v2 = protein_info_v1.rename(columns={'#string_protein_id': 'string_protein_id'}, inplace=False)\n",
    "\n",
    "    # Exclude the Homo Sapiens taxonomy ID from the protein columns.\n",
    "    protein_info_v2.string_protein_id = protein_info_v2.string_protein_id.str[5:]\n",
    "\n",
    "    return protein_info_v2\n",
    "\n",
    "def combine_protein_links_with_info(links: pd.DataFrame, infos: pd.DataFrame):\n",
    "    \"\"\"\n",
    "    Maps the corresponding gene symbols to the proteins in the protein link dataset.\n",
    "\n",
    "    Args:\n",
    "        links (pd.DataFrame): DataFrame containing at least the columns `protein1` and `protein2`.\n",
    "        infos (pd.DataFrame): DataFrame containing at least the columns `string_protein_id` and `preferred_name`.\n",
    "    Returns:\n",
    "        (pd.DataFrame): DataFrame containing the corresponding `gene_symbol` per `protein1` and `protein2`.\n",
    "    \"\"\"\n",
    "    # Get the gene symbols for the protein1 column.\n",
    "    res = links.merge(right    = infos[['string_protein_id', 'preferred_name']],\n",
    "                      how      = 'left',\n",
    "                      left_on  = 'protein1',\n",
    "                      right_on = 'string_protein_id')\n",
    "    res.rename(columns={'preferred_name': 'gene_symbol1'}, inplace=True)\n",
    "    res.drop(['string_protein_id'], axis=1, inplace=True)\n",
    "\n",
    "    # Get the gene symbols for the protein2 column.\n",
    "    res = res.merge(right    = infos[['string_protein_id', 'preferred_name']],\n",
    "                    how      = 'left',\n",
    "                    left_on  = 'protein2',\n",
    "                    right_on = 'string_protein_id')\n",
    "    res.rename(columns={'preferred_name': 'gene_symbol2'}, inplace=True)\n",
    "    res.drop(['string_protein_id'], axis=1, inplace=True)\n",
    "\n",
    "    # Drop all rows where the gene symbol has not been found.\n",
    "    res.dropna(subset=['gene_symbol1', 'gene_symbol2'], inplace=True)\n",
    "\n",
    "    assert not res[['gene_symbol1', 'gene_symbol2']].isna().sum().any(),\\\n",
    "        \"Some gene_symbol columns are missing!\"\n",
    "\n",
    "    return res \n",
    "\n",
    "def add_gene_index(proteins: pd.DataFrame, gene_idxs: pd.DataFrame=LM_GENES_IDXS):\n",
    "    \"\"\" \n",
    "    Append corresponding index for each gene symbol column as new column(s).\n",
    "    \"\"\"\n",
    "    temp = proteins.merge(\n",
    "        right=gene_idxs,\n",
    "        how='left',\n",
    "        left_on=['gene_symbol1'],\n",
    "        right_on=['GENE_SYMBOL'])\n",
    "    temp.rename(columns={'GENE_INDEX': 'index_gene_symbol1'}, inplace=True)\n",
    "    temp.drop(['GENE_SYMBOL'], axis=1, inplace=True)\n",
    "\n",
    "    res = temp.merge(\n",
    "        right=gene_idxs,\n",
    "        how='left',\n",
    "        left_on=['gene_symbol2'],\n",
    "        right_on=['GENE_SYMBOL'])\n",
    "    res.rename(columns={'GENE_INDEX': 'index_gene_symbol2'}, inplace=True)\n",
    "    res.drop(['GENE_SYMBOL'], axis=1, inplace=True) \n",
    "\n",
    "    del temp\n",
    "    return res    "
   ]
  },
  {
   "cell_type": "markdown",
   "metadata": {},
   "source": [
    "## Create protein dataset\n",
    "In this section we will create the full base protein dataset which then will be used for further model-specific selection.\n",
    "### Load protein link dataset\n",
    "In this subsection we will load the protein linking dataset which contains for a given protein-protein tuple information about their certainty of connection."
   ]
  },
  {
   "cell_type": "code",
   "execution_count": 7,
   "metadata": {},
   "outputs": [
    {
     "name": "stdout",
     "output_type": "stream",
     "text": [
      "Start reading `../../datasets/string/9606.protein.links.detailed.v11.5.txt.gz`...\n",
      "Finished reading.\n",
      "(11938498, 10)\n"
     ]
    },
    {
     "data": {
      "text/html": [
       "<div>\n",
       "<style scoped>\n",
       "    .dataframe tbody tr th:only-of-type {\n",
       "        vertical-align: middle;\n",
       "    }\n",
       "\n",
       "    .dataframe tbody tr th {\n",
       "        vertical-align: top;\n",
       "    }\n",
       "\n",
       "    .dataframe thead th {\n",
       "        text-align: right;\n",
       "    }\n",
       "</style>\n",
       "<table border=\"1\" class=\"dataframe\">\n",
       "  <thead>\n",
       "    <tr style=\"text-align: right;\">\n",
       "      <th></th>\n",
       "      <th>protein1</th>\n",
       "      <th>protein2</th>\n",
       "      <th>neighborhood</th>\n",
       "      <th>fusion</th>\n",
       "      <th>cooccurence</th>\n",
       "      <th>coexpression</th>\n",
       "      <th>experimental</th>\n",
       "      <th>database</th>\n",
       "      <th>textmining</th>\n",
       "      <th>combined_score</th>\n",
       "    </tr>\n",
       "  </thead>\n",
       "  <tbody>\n",
       "    <tr>\n",
       "      <th>0</th>\n",
       "      <td>ENSP00000000233</td>\n",
       "      <td>ENSP00000379496</td>\n",
       "      <td>0</td>\n",
       "      <td>0</td>\n",
       "      <td>0</td>\n",
       "      <td>54</td>\n",
       "      <td>0</td>\n",
       "      <td>0</td>\n",
       "      <td>144</td>\n",
       "      <td>155</td>\n",
       "    </tr>\n",
       "    <tr>\n",
       "      <th>1</th>\n",
       "      <td>ENSP00000000233</td>\n",
       "      <td>ENSP00000314067</td>\n",
       "      <td>0</td>\n",
       "      <td>0</td>\n",
       "      <td>0</td>\n",
       "      <td>0</td>\n",
       "      <td>180</td>\n",
       "      <td>0</td>\n",
       "      <td>61</td>\n",
       "      <td>197</td>\n",
       "    </tr>\n",
       "    <tr>\n",
       "      <th>2</th>\n",
       "      <td>ENSP00000000233</td>\n",
       "      <td>ENSP00000263116</td>\n",
       "      <td>0</td>\n",
       "      <td>0</td>\n",
       "      <td>0</td>\n",
       "      <td>62</td>\n",
       "      <td>152</td>\n",
       "      <td>0</td>\n",
       "      <td>101</td>\n",
       "      <td>222</td>\n",
       "    </tr>\n",
       "  </tbody>\n",
       "</table>\n",
       "</div>"
      ],
      "text/plain": [
       "          protein1         protein2  neighborhood  fusion  cooccurence  \\\n",
       "0  ENSP00000000233  ENSP00000379496             0       0            0   \n",
       "1  ENSP00000000233  ENSP00000314067             0       0            0   \n",
       "2  ENSP00000000233  ENSP00000263116             0       0            0   \n",
       "\n",
       "   coexpression  experimental  database  textmining  combined_score  \n",
       "0            54             0         0         144             155  \n",
       "1             0           180         0          61             197  \n",
       "2            62           152         0         101             222  "
      ]
     },
     "execution_count": 7,
     "metadata": {},
     "output_type": "execute_result"
    }
   ],
   "source": [
    "protein_links = read_protein_links(f'{PATH_TO_LINKING_DATA}{PROTEIN_LINKS_FILE}')\n",
    "print(protein_links.shape)\n",
    "protein_links.head(3)"
   ]
  },
  {
   "cell_type": "markdown",
   "metadata": {},
   "source": [
    "- there are 11,938,498 protein-protein connections in the given dataset\n",
    "- each connection row contains a `combined_score` value"
   ]
  },
  {
   "cell_type": "code",
   "execution_count": 9,
   "metadata": {},
   "outputs": [
    {
     "name": "stdout",
     "output_type": "stream",
     "text": [
      "      coexpression textmining experimental combined_score\n",
      "count     11938498   11938498     11938498       11938498\n",
      "mean            62        180           69            280\n",
      "std             97        153          120            167\n",
      "min              0          0            0            150\n",
      "25%              0         67            0            175\n",
      "50%             54        161            0            216\n",
      "75%             76        241          129            309\n",
      "max            999        997          999            999\n"
     ]
    },
    {
     "data": {
      "image/png": "[encoded data removed]",
      "text/plain": [
       "<Figure size 432x288 with 1 Axes>"
      ]
     },
     "metadata": {},
     "output_type": "display_data"
    }
   ],
   "source": [
    "print(protein_links[['coexpression', 'textmining', 'experimental', 'combined_score']].describe().apply(lambda s: s.apply('{0:.0f}'.format)))\n",
    "protein_links[['coexpression', 'textmining', 'experimental', 'combined_score']].boxplot(showfliers=False);"
   ]
  },
  {
   "cell_type": "markdown",
   "metadata": {},
   "source": [
    "- the `combined_score` column seems to lie in $[150, 999]$"
   ]
  },
  {
   "cell_type": "markdown",
   "metadata": {},
   "source": [
    "## Load protein info dataset\n",
    "\n",
    "In this subsection we will load the protein information dataset which contains the gene symbol for each protein ID. This will be used to obtain the corresponding gene symbols for each protein `protein1` and `protein2` respectively in the protein link dataset from the previous subsection."
   ]
  },
  {
   "cell_type": "code",
   "execution_count": 10,
   "metadata": {},
   "outputs": [
    {
     "name": "stdout",
     "output_type": "stream",
     "text": [
      "(19566, 4)\n",
      "There are 19563 unique gene symbols in `preferred_name`.\n"
     ]
    },
    {
     "data": {
      "text/html": [
       "<div>\n",
       "<style scoped>\n",
       "    .dataframe tbody tr th:only-of-type {\n",
       "        vertical-align: middle;\n",
       "    }\n",
       "\n",
       "    .dataframe tbody tr th {\n",
       "        vertical-align: top;\n",
       "    }\n",
       "\n",
       "    .dataframe thead th {\n",
       "        text-align: right;\n",
       "    }\n",
       "</style>\n",
       "<table border=\"1\" class=\"dataframe\">\n",
       "  <thead>\n",
       "    <tr style=\"text-align: right;\">\n",
       "      <th></th>\n",
       "      <th>string_protein_id</th>\n",
       "      <th>preferred_name</th>\n",
       "      <th>protein_size</th>\n",
       "      <th>annotation</th>\n",
       "    </tr>\n",
       "  </thead>\n",
       "  <tbody>\n",
       "    <tr>\n",
       "      <th>0</th>\n",
       "      <td>ENSP00000000233</td>\n",
       "      <td>ARF5</td>\n",
       "      <td>180</td>\n",
       "      <td>ADP-ribosylation factor 5; GTP-binding protein...</td>\n",
       "    </tr>\n",
       "    <tr>\n",
       "      <th>1</th>\n",
       "      <td>ENSP00000000412</td>\n",
       "      <td>M6PR</td>\n",
       "      <td>277</td>\n",
       "      <td>Cation-dependent mannose-6-phosphate receptor;...</td>\n",
       "    </tr>\n",
       "    <tr>\n",
       "      <th>2</th>\n",
       "      <td>ENSP00000001008</td>\n",
       "      <td>FKBP4</td>\n",
       "      <td>459</td>\n",
       "      <td>Peptidyl-prolyl cis-trans isomerase FKBP4; Imm...</td>\n",
       "    </tr>\n",
       "  </tbody>\n",
       "</table>\n",
       "</div>"
      ],
      "text/plain": [
       "  string_protein_id preferred_name  protein_size  \\\n",
       "0   ENSP00000000233           ARF5           180   \n",
       "1   ENSP00000000412           M6PR           277   \n",
       "2   ENSP00000001008          FKBP4           459   \n",
       "\n",
       "                                          annotation  \n",
       "0  ADP-ribosylation factor 5; GTP-binding protein...  \n",
       "1  Cation-dependent mannose-6-phosphate receptor;...  \n",
       "2  Peptidyl-prolyl cis-trans isomerase FKBP4; Imm...  "
      ]
     },
     "execution_count": 10,
     "metadata": {},
     "output_type": "execute_result"
    }
   ],
   "source": [
    "protein_infos_v0 = read_protein_info(f'{PATH_TO_LINKING_DATA}{PROTEIN_INFO_FILE}')\n",
    "print(protein_infos_v0.shape)\n",
    "print(f\"There are {len(protein_infos_v0.preferred_name.unique())} unique gene symbols in `preferred_name`.\")\n",
    "protein_infos_v0.head(3)"
   ]
  },
  {
   "cell_type": "markdown",
   "metadata": {},
   "source": [
    "- this dataset gives us the gene symbol for each protein ID.\n",
    "- some `preferred_name` (gene symbols) occur more then one time"
   ]
  },
  {
   "cell_type": "code",
   "execution_count": 11,
   "metadata": {},
   "outputs": [
    {
     "name": "stdout",
     "output_type": "stream",
     "text": [
      "       preferred_name  freq\n",
      "5100  ENSG00000205457     2\n",
      "5106  ENSG00000229117     2\n",
      "5243  ENSG00000268221     2\n",
      "(19560, 4)\n"
     ]
    },
    {
     "data": {
      "text/html": [
       "<div>\n",
       "<style scoped>\n",
       "    .dataframe tbody tr th:only-of-type {\n",
       "        vertical-align: middle;\n",
       "    }\n",
       "\n",
       "    .dataframe tbody tr th {\n",
       "        vertical-align: top;\n",
       "    }\n",
       "\n",
       "    .dataframe thead th {\n",
       "        text-align: right;\n",
       "    }\n",
       "</style>\n",
       "<table border=\"1\" class=\"dataframe\">\n",
       "  <thead>\n",
       "    <tr style=\"text-align: right;\">\n",
       "      <th></th>\n",
       "      <th>string_protein_id</th>\n",
       "      <th>preferred_name</th>\n",
       "      <th>protein_size</th>\n",
       "      <th>annotation</th>\n",
       "    </tr>\n",
       "  </thead>\n",
       "  <tbody>\n",
       "    <tr>\n",
       "      <th>0</th>\n",
       "      <td>ENSP00000000233</td>\n",
       "      <td>ARF5</td>\n",
       "      <td>180</td>\n",
       "      <td>ADP-ribosylation factor 5; GTP-binding protein...</td>\n",
       "    </tr>\n",
       "    <tr>\n",
       "      <th>1</th>\n",
       "      <td>ENSP00000000412</td>\n",
       "      <td>M6PR</td>\n",
       "      <td>277</td>\n",
       "      <td>Cation-dependent mannose-6-phosphate receptor;...</td>\n",
       "    </tr>\n",
       "    <tr>\n",
       "      <th>2</th>\n",
       "      <td>ENSP00000001008</td>\n",
       "      <td>FKBP4</td>\n",
       "      <td>459</td>\n",
       "      <td>Peptidyl-prolyl cis-trans isomerase FKBP4; Imm...</td>\n",
       "    </tr>\n",
       "  </tbody>\n",
       "</table>\n",
       "</div>"
      ],
      "text/plain": [
       "  string_protein_id preferred_name  protein_size  \\\n",
       "0   ENSP00000000233           ARF5           180   \n",
       "1   ENSP00000000412           M6PR           277   \n",
       "2   ENSP00000001008          FKBP4           459   \n",
       "\n",
       "                                          annotation  \n",
       "0  ADP-ribosylation factor 5; GTP-binding protein...  \n",
       "1  Cation-dependent mannose-6-phosphate receptor;...  \n",
       "2  Peptidyl-prolyl cis-trans isomerase FKBP4; Imm...  "
      ]
     },
     "execution_count": 11,
     "metadata": {},
     "output_type": "execute_result"
    }
   ],
   "source": [
    "freq_per_gene = protein_infos_v0.groupby(['preferred_name']).size().reset_index(name='freq', inplace=False).sort_values(['freq'], ascending=False)\n",
    "print(freq_per_gene[freq_per_gene.freq>1])\n",
    "\n",
    "# Remove the gene symbols which have a frequency higher than 1.\n",
    "protein_infos = protein_infos_v0[~protein_infos_v0.preferred_name.isin(freq_per_gene[freq_per_gene.freq>1].preferred_name.tolist())]\n",
    "print(protein_infos.shape)\n",
    "protein_infos.head(3)"
   ]
  },
  {
   "cell_type": "markdown",
   "metadata": {},
   "source": [
    "### Combine protein link and info\n",
    "\n",
    "In this subsection we will add the `preferred_name`'s to the protein columns of the link dataset. This way we obtain the corresponding gene symbols for each protein of each tuple."
   ]
  },
  {
   "cell_type": "code",
   "execution_count": 12,
   "metadata": {},
   "outputs": [
    {
     "name": "stdout",
     "output_type": "stream",
     "text": [
      "(11936122, 12)\n"
     ]
    },
    {
     "data": {
      "text/html": [
       "<div>\n",
       "<style scoped>\n",
       "    .dataframe tbody tr th:only-of-type {\n",
       "        vertical-align: middle;\n",
       "    }\n",
       "\n",
       "    .dataframe tbody tr th {\n",
       "        vertical-align: top;\n",
       "    }\n",
       "\n",
       "    .dataframe thead th {\n",
       "        text-align: right;\n",
       "    }\n",
       "</style>\n",
       "<table border=\"1\" class=\"dataframe\">\n",
       "  <thead>\n",
       "    <tr style=\"text-align: right;\">\n",
       "      <th></th>\n",
       "      <th>protein1</th>\n",
       "      <th>protein2</th>\n",
       "      <th>neighborhood</th>\n",
       "      <th>fusion</th>\n",
       "      <th>cooccurence</th>\n",
       "      <th>coexpression</th>\n",
       "      <th>experimental</th>\n",
       "      <th>database</th>\n",
       "      <th>textmining</th>\n",
       "      <th>combined_score</th>\n",
       "      <th>gene_symbol1</th>\n",
       "      <th>gene_symbol2</th>\n",
       "    </tr>\n",
       "  </thead>\n",
       "  <tbody>\n",
       "    <tr>\n",
       "      <th>0</th>\n",
       "      <td>ENSP00000000233</td>\n",
       "      <td>ENSP00000379496</td>\n",
       "      <td>0</td>\n",
       "      <td>0</td>\n",
       "      <td>0</td>\n",
       "      <td>54</td>\n",
       "      <td>0</td>\n",
       "      <td>0</td>\n",
       "      <td>144</td>\n",
       "      <td>155</td>\n",
       "      <td>ARF5</td>\n",
       "      <td>PDE1C</td>\n",
       "    </tr>\n",
       "    <tr>\n",
       "      <th>1</th>\n",
       "      <td>ENSP00000000233</td>\n",
       "      <td>ENSP00000314067</td>\n",
       "      <td>0</td>\n",
       "      <td>0</td>\n",
       "      <td>0</td>\n",
       "      <td>0</td>\n",
       "      <td>180</td>\n",
       "      <td>0</td>\n",
       "      <td>61</td>\n",
       "      <td>197</td>\n",
       "      <td>ARF5</td>\n",
       "      <td>PAK2</td>\n",
       "    </tr>\n",
       "    <tr>\n",
       "      <th>2</th>\n",
       "      <td>ENSP00000000233</td>\n",
       "      <td>ENSP00000263116</td>\n",
       "      <td>0</td>\n",
       "      <td>0</td>\n",
       "      <td>0</td>\n",
       "      <td>62</td>\n",
       "      <td>152</td>\n",
       "      <td>0</td>\n",
       "      <td>101</td>\n",
       "      <td>222</td>\n",
       "      <td>ARF5</td>\n",
       "      <td>RAB36</td>\n",
       "    </tr>\n",
       "  </tbody>\n",
       "</table>\n",
       "</div>"
      ],
      "text/plain": [
       "          protein1         protein2  neighborhood  fusion  cooccurence  \\\n",
       "0  ENSP00000000233  ENSP00000379496             0       0            0   \n",
       "1  ENSP00000000233  ENSP00000314067             0       0            0   \n",
       "2  ENSP00000000233  ENSP00000263116             0       0            0   \n",
       "\n",
       "   coexpression  experimental  database  textmining  combined_score  \\\n",
       "0            54             0         0         144             155   \n",
       "1             0           180         0          61             197   \n",
       "2            62           152         0         101             222   \n",
       "\n",
       "  gene_symbol1 gene_symbol2  \n",
       "0         ARF5        PDE1C  \n",
       "1         ARF5         PAK2  \n",
       "2         ARF5        RAB36  "
      ]
     },
     "execution_count": 12,
     "metadata": {},
     "output_type": "execute_result"
    }
   ],
   "source": [
    "proteins = combine_protein_links_with_info(protein_links, protein_infos)\n",
    "print(proteins.shape)\n",
    "proteins.head(3)"
   ]
  },
  {
   "cell_type": "code",
   "execution_count": 13,
   "metadata": {},
   "outputs": [
    {
     "name": "stdout",
     "output_type": "stream",
     "text": [
      "Shapes\n",
      "    before joining : (11938498, 10)\n",
      "    after  joining : (11936122, 12)\n",
      "There are \n",
      "    19379 unique genes (gene_symbol1) per column\n",
      "    19379 unique genes (gene_symbol2) per column    \n",
      "\n"
     ]
    },
    {
     "data": {
      "text/html": [
       "<div>\n",
       "<style scoped>\n",
       "    .dataframe tbody tr th:only-of-type {\n",
       "        vertical-align: middle;\n",
       "    }\n",
       "\n",
       "    .dataframe tbody tr th {\n",
       "        vertical-align: top;\n",
       "    }\n",
       "\n",
       "    .dataframe thead th {\n",
       "        text-align: right;\n",
       "    }\n",
       "</style>\n",
       "<table border=\"1\" class=\"dataframe\">\n",
       "  <thead>\n",
       "    <tr style=\"text-align: right;\">\n",
       "      <th></th>\n",
       "      <th>freq</th>\n",
       "      <th>count</th>\n",
       "    </tr>\n",
       "  </thead>\n",
       "  <tbody>\n",
       "    <tr>\n",
       "      <th>0</th>\n",
       "      <td>1</td>\n",
       "      <td>11936122</td>\n",
       "    </tr>\n",
       "  </tbody>\n",
       "</table>\n",
       "</div>"
      ],
      "text/plain": [
       "   freq     count\n",
       "0     1  11936122"
      ]
     },
     "execution_count": 13,
     "metadata": {},
     "output_type": "execute_result"
    }
   ],
   "source": [
    "print(f\"\"\"Shapes\n",
    "    before joining : {protein_links.shape}\n",
    "    after  joining : {proteins.shape}\n",
    "There are \n",
    "    {len(proteins.gene_symbol1.unique())} unique genes (gene_symbol1) per column\n",
    "    {len(proteins.gene_symbol2.unique())} unique genes (gene_symbol2) per column    \n",
    "\"\"\")\n",
    "# Unique number of gene-gene combinations.\n",
    "freq_per_tuple = proteins\\\n",
    "    .groupby(['gene_symbol1', 'gene_symbol2']).size()\\\n",
    "    .reset_index(name='freq', inplace=False)\\\n",
    "    .sort_values(['freq'], ascending=False)\n",
    "freq_per_tuple.groupby(['freq']).size().reset_index(name='count', inplace=False)"
   ]
  },
  {
   "cell_type": "markdown",
   "metadata": {},
   "source": [
    "## Select only landmark genes\n",
    "\n",
    "In this subsection we will select only the gene-gene tuples `(gene_i, gene_j)` where both `gene_i` and `gene_j` are landmark genes."
   ]
  },
  {
   "cell_type": "code",
   "execution_count": 15,
   "metadata": {},
   "outputs": [
    {
     "name": "stdout",
     "output_type": "stream",
     "text": [
      "Number of landmark genes: 858\n"
     ]
    },
    {
     "data": {
      "text/html": [
       "<div>\n",
       "<style scoped>\n",
       "    .dataframe tbody tr th:only-of-type {\n",
       "        vertical-align: middle;\n",
       "    }\n",
       "\n",
       "    .dataframe tbody tr th {\n",
       "        vertical-align: top;\n",
       "    }\n",
       "\n",
       "    .dataframe thead th {\n",
       "        text-align: right;\n",
       "    }\n",
       "</style>\n",
       "<table border=\"1\" class=\"dataframe\">\n",
       "  <thead>\n",
       "    <tr style=\"text-align: right;\">\n",
       "      <th></th>\n",
       "      <th>GENE_SYMBOL</th>\n",
       "      <th>GENE_INDEX</th>\n",
       "    </tr>\n",
       "  </thead>\n",
       "  <tbody>\n",
       "    <tr>\n",
       "      <th>0</th>\n",
       "      <td>ILK</td>\n",
       "      <td>0</td>\n",
       "    </tr>\n",
       "    <tr>\n",
       "      <th>1</th>\n",
       "      <td>MPC2</td>\n",
       "      <td>1</td>\n",
       "    </tr>\n",
       "    <tr>\n",
       "      <th>2</th>\n",
       "      <td>DAXX</td>\n",
       "      <td>2</td>\n",
       "    </tr>\n",
       "    <tr>\n",
       "      <th>3</th>\n",
       "      <td>NT5DC2</td>\n",
       "      <td>3</td>\n",
       "    </tr>\n",
       "    <tr>\n",
       "      <th>4</th>\n",
       "      <td>TSKU</td>\n",
       "      <td>4</td>\n",
       "    </tr>\n",
       "  </tbody>\n",
       "</table>\n",
       "</div>"
      ],
      "text/plain": [
       "  GENE_SYMBOL  GENE_INDEX\n",
       "0         ILK           0\n",
       "1        MPC2           1\n",
       "2        DAXX           2\n",
       "3      NT5DC2           3\n",
       "4        TSKU           4"
      ]
     },
     "execution_count": 15,
     "metadata": {},
     "output_type": "execute_result"
    }
   ],
   "source": [
    "with open(f'{PATH_TO_FEATURES}intersecting_genes.pkl', 'rb') as f: \n",
    "    LANDMARK_GENES = list(pd.read_pickle(f))\n",
    "print(\"Number of landmark genes:\", len(LANDMARK_GENES))\n",
    "# Assign unique index to each of the genes.\n",
    "LM_GENES_IDXS = pd.DataFrame({'GENE_SYMBOL': list(LANDMARK_GENES)})\n",
    "LM_GENES_IDXS['GENE_INDEX'] = LM_GENES_IDXS.index\n",
    "LM_GENES_IDXS.head(5)"
   ]
  },
  {
   "cell_type": "code",
   "execution_count": 16,
   "metadata": {},
   "outputs": [
    {
     "name": "stdout",
     "output_type": "stream",
     "text": [
      "858\n",
      "858\n"
     ]
    }
   ],
   "source": [
    "# How many of the intersecting genes are also in the protein-protein interaction dataset?\n",
    "print(len(list(set(proteins.gene_symbol1.unique()).intersection(set(LM_GENES_IDXS.GENE_SYMBOL.unique())))))\n",
    "print(len(list(set(proteins.gene_symbol2.unique()).intersection(set(LM_GENES_IDXS.GENE_SYMBOL.unique())))))"
   ]
  },
  {
   "cell_type": "code",
   "execution_count": 28,
   "metadata": {},
   "outputs": [
    {
     "name": "stdout",
     "output_type": "stream",
     "text": [
      "(83126, 12), thus 99.30 % got removed\n",
      "Number of unique gene_symbol1's: 858 (95.57 % got removed)\n",
      "Number of unique gene_symbol2's: 858 (95.57 % got removed)\n"
     ]
    },
    {
     "data": {
      "text/html": [
       "<div>\n",
       "<style scoped>\n",
       "    .dataframe tbody tr th:only-of-type {\n",
       "        vertical-align: middle;\n",
       "    }\n",
       "\n",
       "    .dataframe tbody tr th {\n",
       "        vertical-align: top;\n",
       "    }\n",
       "\n",
       "    .dataframe thead th {\n",
       "        text-align: right;\n",
       "    }\n",
       "</style>\n",
       "<table border=\"1\" class=\"dataframe\">\n",
       "  <thead>\n",
       "    <tr style=\"text-align: right;\">\n",
       "      <th></th>\n",
       "      <th>protein1</th>\n",
       "      <th>protein2</th>\n",
       "      <th>neighborhood</th>\n",
       "      <th>fusion</th>\n",
       "      <th>cooccurence</th>\n",
       "      <th>coexpression</th>\n",
       "      <th>experimental</th>\n",
       "      <th>database</th>\n",
       "      <th>textmining</th>\n",
       "      <th>combined_score</th>\n",
       "      <th>gene_symbol1</th>\n",
       "      <th>gene_symbol2</th>\n",
       "    </tr>\n",
       "  </thead>\n",
       "  <tbody>\n",
       "    <tr>\n",
       "      <th>1940</th>\n",
       "      <td>ENSP00000001008</td>\n",
       "      <td>ENSP00000408295</td>\n",
       "      <td>0</td>\n",
       "      <td>0</td>\n",
       "      <td>0</td>\n",
       "      <td>81</td>\n",
       "      <td>0</td>\n",
       "      <td>0</td>\n",
       "      <td>258</td>\n",
       "      <td>288</td>\n",
       "      <td>FKBP4</td>\n",
       "      <td>RFC5</td>\n",
       "    </tr>\n",
       "    <tr>\n",
       "      <th>1953</th>\n",
       "      <td>ENSP00000001008</td>\n",
       "      <td>ENSP00000306245</td>\n",
       "      <td>0</td>\n",
       "      <td>0</td>\n",
       "      <td>0</td>\n",
       "      <td>0</td>\n",
       "      <td>59</td>\n",
       "      <td>0</td>\n",
       "      <td>177</td>\n",
       "      <td>192</td>\n",
       "      <td>FKBP4</td>\n",
       "      <td>FOS</td>\n",
       "    </tr>\n",
       "    <tr>\n",
       "      <th>1978</th>\n",
       "      <td>ENSP00000001008</td>\n",
       "      <td>ENSP00000340989</td>\n",
       "      <td>0</td>\n",
       "      <td>0</td>\n",
       "      <td>0</td>\n",
       "      <td>0</td>\n",
       "      <td>78</td>\n",
       "      <td>0</td>\n",
       "      <td>123</td>\n",
       "      <td>157</td>\n",
       "      <td>FKBP4</td>\n",
       "      <td>SFN</td>\n",
       "    </tr>\n",
       "  </tbody>\n",
       "</table>\n",
       "</div>"
      ],
      "text/plain": [
       "             protein1         protein2  neighborhood  fusion  cooccurence  \\\n",
       "1940  ENSP00000001008  ENSP00000408295             0       0            0   \n",
       "1953  ENSP00000001008  ENSP00000306245             0       0            0   \n",
       "1978  ENSP00000001008  ENSP00000340989             0       0            0   \n",
       "\n",
       "      coexpression  experimental  database  textmining  combined_score  \\\n",
       "1940            81             0         0         258             288   \n",
       "1953             0            59         0         177             192   \n",
       "1978             0            78         0         123             157   \n",
       "\n",
       "     gene_symbol1 gene_symbol2  \n",
       "1940        FKBP4         RFC5  \n",
       "1953        FKBP4          FOS  \n",
       "1978        FKBP4          SFN  "
      ]
     },
     "execution_count": 28,
     "metadata": {},
     "output_type": "execute_result"
    }
   ],
   "source": [
    "# Select only the rows where both gene symbols are landmark genes\n",
    "proteins_lm = proteins[(proteins.gene_symbol1.isin(LM_GENES_IDXS.GENE_SYMBOL)) &\n",
    "                       (proteins.gene_symbol2.isin(LM_GENES_IDXS.GENE_SYMBOL))]\n",
    "print(f\"{proteins_lm.shape}, thus {100-100*proteins_lm.shape[0]/proteins.shape[0]:2.2f} % got removed\")\n",
    "uniq_g1, uniq_g2 = len(proteins_lm.gene_symbol1.unique()), len(proteins_lm.gene_symbol2.unique())\n",
    "print(f\"Number of unique gene_symbol1's: {uniq_g1} ({100-100*uniq_g1/len(proteins.gene_symbol1.unique()):2.2f} % got removed)\")\n",
    "print(f\"Number of unique gene_symbol2's: {uniq_g2} ({100-100*uniq_g2/len(proteins.gene_symbol2.unique()):2.2f} % got removed)\")\n",
    "proteins_lm.head(3)"
   ]
  },
  {
   "cell_type": "markdown",
   "metadata": {},
   "source": [
    "## Tune `combined_score` threshold\n",
    "\n",
    "In this subsection we are going to tune the `combined_score` column such that as many gene symbols as possible stay in the resulting dataset."
   ]
  },
  {
   "cell_type": "code",
   "execution_count": 39,
   "metadata": {},
   "outputs": [],
   "source": [
    "threshs = np.arange(0.1, 1.0, 0.05)\n",
    "rows = np.repeat(None, len(threshs))\n",
    "uniq_g1s, uniq_g2s = np.repeat(None, len(threshs)), np.repeat(None, len(threshs))\n",
    "for i, thresh in enumerate(threshs): \n",
    "    # print(f\"thresh: {thresh*1_000:3.0f}\\n{20*'='}\")\n",
    "    protein_temp = proteins_lm[proteins_lm['combined_score'] > (thresh * 1_000)]\n",
    "    rows[i] = protein_temp.shape[0]\n",
    "    uniq_g1s[i] = len(protein_temp.gene_symbol1.unique())\n",
    "    uniq_g2s[i] = len(protein_temp.gene_symbol2.unique())"
   ]
  },
  {
   "cell_type": "code",
   "execution_count": 181,
   "metadata": {},
   "outputs": [
    {
     "data": {
      "image/png": "[encoded data removed]",
      "text/plain": [
       "<Figure size 720x432 with 2 Axes>"
      ]
     },
     "metadata": {},
     "output_type": "display_data"
    }
   ],
   "source": [
    "fig, ax1 = plt.subplots(figsize=(10, 6))\n",
    "\n",
    "ax1.plot(threshs*1_000, rows, 'bo-');\n",
    "ax1.set_xlabel(\"Thresholds\", fontsize=15);\n",
    "ax1.set_ylabel(\"Number of Rows\", color='b', fontsize=PlottingParameters.YLABEL_FONTSIZE.value);\n",
    "ax1.tick_params(axis='y', labelcolor = 'b', labelsize=PlottingParameters.YTICKS_LABELSIZE.value)\n",
    "\n",
    "ax2 = ax1.twinx()\n",
    "ax2.plot(threshs*1_000, uniq_g1s, 'go-');\n",
    "ax2.axhline(y=700, color='grey', linestyle='--');\n",
    "ax2.set_ylabel(\"Number of Unique Genes\", color='g', fontsize=PlottingParameters.YLABEL_FONTSIZE.value);\n",
    "ax2.tick_params(axis='y', labelcolor = 'g', labelsize=PlottingParameters.YTICKS_LABELSIZE.value);\n",
    "ax2.set_ylim(300, 900);\n",
    "\n",
    "for thresh in threshs:\n",
    "    ax1.axvline(x=thresh*1_000, color='grey', linestyle='-', alpha=0.2);\n",
    "\n",
    "plt.xticks([200, 300, 400, 500, 600, 700, 800, 950]);\n",
    "ax1.tick_params(axis='x', labelcolor='black', labelsize=PlottingParameters.YTICKS_LABELSIZE.value);\n",
    "plt.title(\"Number of Remaining Rows & Unique Columns for Score Thresholds\", \n",
    "          fontsize=PlottingParameters.TITLE_FONTSIZE.value);\n",
    "plt.show();\n"
   ]
  },
  {
   "cell_type": "markdown",
   "metadata": {},
   "source": [
    "[Zhu et. al., 2022](https://academic.oup.com/bioinformatics/article/38/2/461/6374919) also only worked with GDSC2 and ended up with 706 genes. Thus, an orientation number for the unique number of genes we want to have after choosing a threshold could be 700."
   ]
  },
  {
   "cell_type": "code",
   "execution_count": 280,
   "metadata": {},
   "outputs": [
    {
     "name": "stdout",
     "output_type": "stream",
     "text": [
      "Choosing threshold 700 we end up with shape: (7794, 12)\n",
      "Number of unique gene_symbol1's: 696\n",
      "Number of unique gene_symbol2's: 696\n"
     ]
    }
   ],
   "source": [
    "SCORE_THRESH = 700\n",
    "\n",
    "# Select only the rows above the chose threshold.\n",
    "proteins_above = proteins_lm[proteins_lm['combined_score'] > SCORE_THRESH]\n",
    "print(f\"Choosing threshold {SCORE_THRESH} we end up with shape: {proteins_above.shape}\")\n",
    "print(\"Number of unique gene_symbol1's:\", len(proteins_above.gene_symbol1.unique()))\n",
    "print(\"Number of unique gene_symbol2's:\", len(proteins_above.gene_symbol2.unique()))\n",
    "assert set(proteins_above.gene_symbol1.unique()) == set(proteins_above.gene_symbol2.unique()), \\\n",
    "    \"ERROR: The unique gene_symbol1's are not the same as the unique gene_symbol2's!\"\n",
    "UNIQ_GENE_SYMBOLS = list(set(proteins_above.gene_symbol1.unique()))"
   ]
  },
  {
   "cell_type": "markdown",
   "metadata": {},
   "source": [
    "## Correct indices\n",
    "\n",
    "In this subsection we are going to correct the indices in the table which holds the `GENE_INDEX` for each `GENE_SYMBOL`. This table is only a reference for us and we can decide the index. And since we selected only a subset of the gene symbols in the previous section we need to correct the dataframe to only include these gene symbols. Therefore also the indices need to be corrected, such that later in the graph, a gene symbol index is not higher then the number of nodes in the graph. Below is shown how it should look like after this subsections step.\n",
    "\n",
    "<ins>Before:</ins>\n",
    "| `GENE_SYMBOL` | `GENE_INDEX` |\n",
    "| ------------- | ------------ |\n",
    "| A | 0 |\n",
    "| B | 1 |\n",
    "| C | 2 |\n",
    "| D | 3 |\n",
    "| E | 4 | \n",
    "| F | 5 |\n",
    "\n",
    "Now we selected only those gene tuples with a `combined_score` value over our chose threshold (700). Thus, we also selected only a subset of gene symbols. Let's say in the Before-table, `B` and `E` didn't have any `combined_score` above the chose threshold of 700. We therefore end up with the updated table:\n",
    "\n",
    "<ins>After:</ins>\n",
    "| `GENE_SYMBOL` | `GENE_INDEX` | \n",
    "| ------------- | ------------ | \n",
    "| A | 0 |\n",
    "| C | 1 | \n",
    "| D | 2 | \n",
    "| F | 3 |\n",
    "\n",
    "In this step the important part is to update the indices as seen in the After-table."
   ]
  },
  {
   "cell_type": "code",
   "execution_count": 315,
   "metadata": {},
   "outputs": [
    {
     "name": "stdout",
     "output_type": "stream",
     "text": [
      "Shape before: (858, 2)\n",
      "  GENE_SYMBOL  GENE_INDEX\n",
      "0         ILK           0\n",
      "1        MPC2           1\n",
      "2        DAXX           2\n",
      "Shape after : (696, 2)\n",
      "  GENE_SYMBOL  GENE_INDEX\n",
      "0         ILK           0\n",
      "1        DAXX           1\n",
      "2       PLOD3           2\n"
     ]
    }
   ],
   "source": [
    "# Select only the gene symbols with a combined_score > SCORE_THRESH.\n",
    "temp = LM_GENES_IDXS[LM_GENES_IDXS.GENE_SYMBOL.isin(UNIQ_GENE_SYMBOLS)]\n",
    "temp.reset_index(inplace=True, drop=True)\n",
    "GENE_SYMBOL_IDXS = temp.copy()\n",
    "GENE_SYMBOL_IDXS.loc[:, 'GENE_INDEX'] = GENE_SYMBOL_IDXS.index\n",
    "del temp\n",
    "print(\"Shape before:\", LM_GENES_IDXS.shape)\n",
    "print(LM_GENES_IDXS.head(3))\n",
    "print(\"Shape after :\", GENE_SYMBOL_IDXS.shape)\n",
    "print(GENE_SYMBOL_IDXS.head(3))"
   ]
  },
  {
   "cell_type": "markdown",
   "metadata": {},
   "source": [
    "## Add gene index\n",
    "\n",
    "In this subsection we will add the corresponding index to each gene symbol."
   ]
  },
  {
   "cell_type": "code",
   "execution_count": 316,
   "metadata": {},
   "outputs": [
    {
     "name": "stdout",
     "output_type": "stream",
     "text": [
      "There will be 696 nodes in the graph.\n",
      "There will be 696 indices in the graph.\n",
      "(7794, 7)\n"
     ]
    },
    {
     "data": {
      "text/html": [
       "<div>\n",
       "<style scoped>\n",
       "    .dataframe tbody tr th:only-of-type {\n",
       "        vertical-align: middle;\n",
       "    }\n",
       "\n",
       "    .dataframe tbody tr th {\n",
       "        vertical-align: top;\n",
       "    }\n",
       "\n",
       "    .dataframe thead th {\n",
       "        text-align: right;\n",
       "    }\n",
       "</style>\n",
       "<table border=\"1\" class=\"dataframe\">\n",
       "  <thead>\n",
       "    <tr style=\"text-align: right;\">\n",
       "      <th></th>\n",
       "      <th>protein1</th>\n",
       "      <th>protein2</th>\n",
       "      <th>gene_symbol1</th>\n",
       "      <th>gene_symbol2</th>\n",
       "      <th>index_gene_symbol1</th>\n",
       "      <th>index_gene_symbol2</th>\n",
       "      <th>combined_score</th>\n",
       "    </tr>\n",
       "  </thead>\n",
       "  <tbody>\n",
       "    <tr>\n",
       "      <th>0</th>\n",
       "      <td>ENSP00000001008</td>\n",
       "      <td>ENSP00000387365</td>\n",
       "      <td>FKBP4</td>\n",
       "      <td>PWP1</td>\n",
       "      <td>133</td>\n",
       "      <td>83</td>\n",
       "      <td>726</td>\n",
       "    </tr>\n",
       "    <tr>\n",
       "      <th>1</th>\n",
       "      <td>ENSP00000001008</td>\n",
       "      <td>ENSP00000254322</td>\n",
       "      <td>FKBP4</td>\n",
       "      <td>DNAJB1</td>\n",
       "      <td>133</td>\n",
       "      <td>147</td>\n",
       "      <td>749</td>\n",
       "    </tr>\n",
       "    <tr>\n",
       "      <th>2</th>\n",
       "      <td>ENSP00000001008</td>\n",
       "      <td>ENSP00000302961</td>\n",
       "      <td>FKBP4</td>\n",
       "      <td>HSPA4</td>\n",
       "      <td>133</td>\n",
       "      <td>241</td>\n",
       "      <td>988</td>\n",
       "    </tr>\n",
       "  </tbody>\n",
       "</table>\n",
       "</div>"
      ],
      "text/plain": [
       "          protein1         protein2 gene_symbol1 gene_symbol2  \\\n",
       "0  ENSP00000001008  ENSP00000387365        FKBP4         PWP1   \n",
       "1  ENSP00000001008  ENSP00000254322        FKBP4       DNAJB1   \n",
       "2  ENSP00000001008  ENSP00000302961        FKBP4        HSPA4   \n",
       "\n",
       "   index_gene_symbol1  index_gene_symbol2  combined_score  \n",
       "0                 133                  83             726  \n",
       "1                 133                 147             749  \n",
       "2                 133                 241             988  "
      ]
     },
     "execution_count": 316,
     "metadata": {},
     "output_type": "execute_result"
    }
   ],
   "source": [
    "proteins_above_with_idx = add_gene_index(proteins_above, GENE_SYMBOL_IDXS)\n",
    "proteins_above_with_idx = proteins_above_with_idx[['protein1', 'protein2', \n",
    "                                                   'gene_symbol1', 'gene_symbol2', \n",
    "                                                   'index_gene_symbol1', 'index_gene_symbol2', \n",
    "                                                   'combined_score']]\n",
    "\n",
    "NODES_AS_SYMBOLS = np.unique(proteins_above_with_idx[['gene_symbol1', 'gene_symbol2']].values)\n",
    "NODES_AS_INDECES = np.unique(proteins_above_with_idx[['index_gene_symbol1', 'index_gene_symbol2']].values)\n",
    "print(f\"There will be {len(NODES_AS_SYMBOLS)} nodes in the graph.\")\n",
    "print(f\"There will be {len(NODES_AS_INDECES)} indices in the graph.\")\n",
    "\n",
    "print(proteins_above_with_idx.shape)\n",
    "proteins_above_with_idx.head(3)"
   ]
  },
  {
   "cell_type": "markdown",
   "metadata": {},
   "source": [
    "## Create neighbor tuples\n",
    "\n",
    "In this subsection we will create a list of tuples of neighbor genes."
   ]
  },
  {
   "cell_type": "code",
   "execution_count": 317,
   "metadata": {},
   "outputs": [
    {
     "name": "stdout",
     "output_type": "stream",
     "text": [
      "[('CDK7', 'CCNE2'), ('AURKB', 'RASA1'), ('PTPN6', 'LYN'), ('YME1L1', 'FIS1'), ('RAD51C', 'RFC2')]\n",
      "[(233, 431), (652, 238), (268, 510), (263, 170), (415, 184)]\n",
      "Number of neighbor tuples: 7794\n"
     ]
    }
   ],
   "source": [
    "# Create a list of tuples which hold neighbor nodes.\n",
    "gene_symbol_tuples = list(set(list(zip(proteins_above_with_idx.gene_symbol1, \n",
    "                                       proteins_above_with_idx.gene_symbol2))))\n",
    "print(gene_symbol_tuples[:5])\n",
    "\n",
    "# Map the list of tuples of neighbor gene nodes to the corresponding int. \n",
    "transform_gene_tuple_to_index_tuple = lambda x : (\n",
    "    GENE_SYMBOL_IDXS[GENE_SYMBOL_IDXS['GENE_SYMBOL']==x[0]]['GENE_INDEX'].values[0], \n",
    "    GENE_SYMBOL_IDXS[GENE_SYMBOL_IDXS['GENE_SYMBOL']==x[1]]['GENE_INDEX'].values[0])\n",
    "input_vec = [transform_gene_tuple_to_index_tuple(tup) for tup in gene_symbol_tuples]\n",
    "print(input_vec[:5])\n",
    "\n",
    "neighbor_gene_tuples = copy.deepcopy(input_vec)\n",
    "print(\"Number of neighbor tuples:\", len(neighbor_gene_tuples))"
   ]
  },
  {
   "cell_type": "markdown",
   "metadata": {},
   "source": [
    "## Check undirectness of neighbor tuples\n",
    "\n",
    "In this subsection we will check if the tuple of neighbors is undirected. We do this to later create an undirected graph."
   ]
  },
  {
   "cell_type": "code",
   "execution_count": 318,
   "metadata": {},
   "outputs": [
    {
     "name": "stdout",
     "output_type": "stream",
     "text": [
      "SUCCESS: The given list of tuples is undirected!\n"
     ]
    }
   ],
   "source": [
    "def is_undirected_list_of_tuples(neighbors: List[tuple[int]]):\n",
    "    for neigh in neighbors:\n",
    "        a, b = neigh[0], neigh[1]\n",
    "        found = False\n",
    "        for n in neighbors:\n",
    "            if n == (b, a):\n",
    "                found = True\n",
    "                break\n",
    "        assert found, f\"ERROR: the list if directed since, couldn't find ({b}, {a}) for {neigh}!\"\n",
    "    print(\"SUCCESS: The given list of tuples is undirected!\")\n",
    "\n",
    "is_undirected_list_of_tuples(neighbor_gene_tuples)\n",
    "        "
   ]
  },
  {
   "cell_type": "code",
   "execution_count": 319,
   "metadata": {},
   "outputs": [
    {
     "name": "stdout",
     "output_type": "stream",
     "text": [
      "7794\n"
     ]
    }
   ],
   "source": [
    "NEIGHBOR_GENE_TUPLES_UNDIRECTED = neighbor_gene_tuples\n",
    "print(len(NEIGHBOR_GENE_TUPLES_UNDIRECTED))"
   ]
  },
  {
   "cell_type": "markdown",
   "metadata": {},
   "source": [
    "## Dictionary of neighbors per gene\n",
    "\n",
    "In this subsection we will use the `GENE_INDEX`'es to create a dictionary which holds all the neighbors for a specific gene. The list of neighbors will be the value and the gene will be the key. \n",
    "\n",
    "__Format__: \n",
    "- _key_: unique index of the gene symbol\n",
    "- _value_: list of  gene symbol indices which are neighbors of the gene symbol index of the key"
   ]
  },
  {
   "cell_type": "code",
   "execution_count": 320,
   "metadata": {},
   "outputs": [],
   "source": [
    "# Find neighbors using the indices.\n",
    "dict_as_indices = {gene_node: [] for gene_node in NODES_AS_INDECES}  # or dict(zip(nodes, []*len(nodes)))\n",
    "\n",
    "# Get the edges.\n",
    "for gene in dict_as_indices:\n",
    "    exists_in_gene_symbol1 = not proteins_above_with_idx.loc[proteins_above_with_idx.index_gene_symbol1==gene].empty\n",
    "    exists_in_gene_symbol2 = not proteins_above_with_idx.loc[proteins_above_with_idx.index_gene_symbol2==gene].empty\n",
    "\n",
    "    neighbor_nodes = None \n",
    "    if exists_in_gene_symbol1:\n",
    "        neighbor_nodes = list(set(proteins_above_with_idx.loc[proteins_above_with_idx.index_gene_symbol1==gene].index_gene_symbol2))\n",
    "    elif exists_in_gene_symbol2: \n",
    "        neighbor_nodes = list(set(proteins_above_with_idx.loc[proteins_above_with_idx.index_gene_symbol2==gene].index_gene_symbol1))\n",
    "    else: \n",
    "        print(f\"The gene {gene} couldn't be found in the dataset!\") \n",
    "\n",
    "    # Set neighbors for the gene.\n",
    "    dict_as_indices[gene] += [neighbor_node for neighbor_node in neighbor_nodes if neighbor_node not in dict_as_indices[gene]]"
   ]
  },
  {
   "cell_type": "code",
   "execution_count": 321,
   "metadata": {},
   "outputs": [
    {
     "data": {
      "image/png": "[encoded data removed]",
      "text/plain": [
       "<Figure size 864x432 with 2 Axes>"
      ]
     },
     "metadata": {},
     "output_type": "display_data"
    },
    {
     "name": "stderr",
     "output_type": "stream",
     "text": [
      "The PostScript backend does not support transparency; partially transparent artists will be rendered opaque.\n"
     ]
    },
    {
     "name": "stdout",
     "output_type": "stream",
     "text": [
      "nr_neighbors mean  : 11\n",
      "nr_neighbors median: 5\n",
      "Thus, on average there are  11 neighbors per node.\n",
      "Note that there are 696 keys/nodes/genes in total.\n",
      "Thus, on average 1.61 % of all genes are neighbors.\n"
     ]
    },
    {
     "data": {
      "text/html": [
       "<div>\n",
       "<style scoped>\n",
       "    .dataframe tbody tr th:only-of-type {\n",
       "        vertical-align: middle;\n",
       "    }\n",
       "\n",
       "    .dataframe tbody tr th {\n",
       "        vertical-align: top;\n",
       "    }\n",
       "\n",
       "    .dataframe thead th {\n",
       "        text-align: right;\n",
       "    }\n",
       "</style>\n",
       "<table border=\"1\" class=\"dataframe\">\n",
       "  <thead>\n",
       "    <tr style=\"text-align: right;\">\n",
       "      <th></th>\n",
       "      <th>nr_neighbors</th>\n",
       "    </tr>\n",
       "  </thead>\n",
       "  <tbody>\n",
       "    <tr>\n",
       "      <th>count</th>\n",
       "      <td>696.000000</td>\n",
       "    </tr>\n",
       "    <tr>\n",
       "      <th>mean</th>\n",
       "      <td>11.198276</td>\n",
       "    </tr>\n",
       "    <tr>\n",
       "      <th>std</th>\n",
       "      <td>14.727776</td>\n",
       "    </tr>\n",
       "    <tr>\n",
       "      <th>min</th>\n",
       "      <td>1.000000</td>\n",
       "    </tr>\n",
       "    <tr>\n",
       "      <th>25%</th>\n",
       "      <td>2.000000</td>\n",
       "    </tr>\n",
       "    <tr>\n",
       "      <th>50%</th>\n",
       "      <td>5.000000</td>\n",
       "    </tr>\n",
       "    <tr>\n",
       "      <th>75%</th>\n",
       "      <td>14.000000</td>\n",
       "    </tr>\n",
       "    <tr>\n",
       "      <th>max</th>\n",
       "      <td>139.000000</td>\n",
       "    </tr>\n",
       "  </tbody>\n",
       "</table>\n",
       "</div>"
      ],
      "text/plain": [
       "       nr_neighbors\n",
       "count    696.000000\n",
       "mean      11.198276\n",
       "std       14.727776\n",
       "min        1.000000\n",
       "25%        2.000000\n",
       "50%        5.000000\n",
       "75%       14.000000\n",
       "max      139.000000"
      ]
     },
     "execution_count": 321,
     "metadata": {},
     "output_type": "execute_result"
    }
   ],
   "source": [
    "# How many neighbors are there on average?\n",
    "len_of_neighbors = [len(neighbors) for _, neighbors in dict_as_indices.items()]\n",
    "assert len(len_of_neighbors) == len(NODES_AS_INDECES)\n",
    "f, (ax_box, ax_hist) = plt.subplots(2, sharex=True, gridspec_kw={\"height_ratios\": (.15, .85)}, figsize=(12, 6));\n",
    "\n",
    "sns.histplot(x=len_of_neighbors, kde=False, ax=ax_hist); #, element=\"step\"\n",
    "sns.boxplot(x=len_of_neighbors, ax=ax_box, fliersize=3);\n",
    "plt.suptitle(\"Number of Neighbors per Cell-Line Graph\", fontsize=PlottingParameters.TITLE_FONTSIZE.value);\n",
    "plt.xlabel(\"Number of Neighbors\", fontsize=PlottingParameters.XLABEL_FONTSIZE.value);\n",
    "plt.ylabel(\"Frequency\", fontsize=PlottingParameters.YLABEL_FONTSIZE.value);\n",
    "ax_hist.tick_params(axis='both', which='major', labelsize=PlottingParameters.XTICKS_LABELSIZE.value);\n",
    "\n",
    "ax_box.set(xlabel='');\n",
    "plt.show();\n",
    "f.savefig(f'{IMGS_PATH}/NumberOfNeighborsPerCellLineGraph.eps', format='eps');\n",
    "\n",
    "print(\"nr_neighbors mean  :\", round(np.mean(len_of_neighbors)))\n",
    "print(\"nr_neighbors median:\", round(np.median(len_of_neighbors)))\n",
    "print(f\"Thus, on average there are {np.mean(len_of_neighbors):3.0f} neighbors per node.\")\n",
    "print(f\"Note that there are {len(dict_as_indices.keys())} keys/nodes/genes in total.\")\n",
    "print(f\"Thus, on average {100*np.mean(len_of_neighbors)/len(dict_as_indices.keys()):2.2f} %\" +\n",
    "    \" of all genes are neighbors.\")\n",
    "\n",
    "pd.DataFrame(len_of_neighbors, columns=['nr_neighbors']).describe()"
   ]
  },
  {
   "cell_type": "markdown",
   "metadata": {},
   "source": [
    "## Loading the node feature datasets\n",
    "\n",
    "In this subsection we are going to load the node feature datasets. These include the previously processed features\n",
    "- Gene expression\n",
    "- Copy number variation (as _picnic_ and _gistic_)\n",
    "- Gene mutation\n",
    "\n",
    "These will serve as the node features for the cell-line graphs."
   ]
  },
  {
   "cell_type": "code",
   "execution_count": 322,
   "metadata": {},
   "outputs": [
    {
     "name": "stdout",
     "output_type": "stream",
     "text": [
      "Took 0.08432 seconds to read the cell-line feature datasets.\n",
      "Shapes\n",
      "    Gene Expression : (983, 859)\n",
      "    CNV Gistic      : (983, 859)\n",
      "    CNV Picnic      : (983, 859)\n",
      "    Mutation        : (983, 859)\n",
      "    \n"
     ]
    }
   ],
   "source": [
    "# -------------------------------------- #\n",
    "# Read cell-line - gene feature datasets #\n",
    "# -------------------------------------- #\n",
    "READ = True\n",
    "\n",
    "if READ:\n",
    "    start = time.time()\n",
    "    with open(f'{PATH_TO_FEATURES}gexpr_sparse.pkl', 'rb') as f: \n",
    "        gexpr = pickle.load(f)\n",
    "    with open(f'{PATH_TO_FEATURES}cnvg_sparse.pkl', 'rb') as f: \n",
    "        cnvg = pickle.load(f)\n",
    "    with open(f'{PATH_TO_FEATURES}cnvp_sparse.pkl', 'rb') as f: \n",
    "        cnvp = pickle.load(f)\n",
    "    with open(f'{PATH_TO_FEATURES}mut_sparse.pkl', 'rb') as f: \n",
    "        mut = pickle.load(f)  \n",
    "    print(f\"Took {time.time()-start:.5f} seconds to read the cell-line feature datasets.\")\n",
    "    print(f\"\"\"Shapes\n",
    "    Gene Expression : {gexpr.shape}\n",
    "    CNV Gistic      : {cnvg.shape}\n",
    "    CNV Picnic      : {cnvp.shape}\n",
    "    Mutation        : {mut.shape}\n",
    "    \"\"\")"
   ]
  },
  {
   "cell_type": "code",
   "execution_count": 323,
   "metadata": {},
   "outputs": [],
   "source": [
    "def get_uniqs(df: pd.DataFrame, col: str):\n",
    "    return np.unique(df[col].values).tolist()\n",
    "\n",
    "# Test that all feature datasets contains exactly the same cell-lines.\n",
    "gexpr_cls = get_uniqs(gexpr, 'CELL_LINE_NAME')\n",
    "cnvg_cls = get_uniqs(cnvg, 'CELL_LINE_NAME')\n",
    "cnvp_cls = get_uniqs(cnvp, 'CELL_LINE_NAME')\n",
    "mut_cls = get_uniqs(mut, 'CELL_LINE_NAME')\n",
    "INTER_CLS = set(gexpr_cls) \\\n",
    "    .intersection(set(cnvp_cls)) \\\n",
    "    .intersection(set(cnvp_cls)) \\\n",
    "    .intersection(set(mut_cls))\n",
    "\n",
    "assert len(INTER_CLS) == len(gexpr_cls) == len(cnvg_cls) == len(cnvp_cls) == len(mut_cls), \\\n",
    "    \"Not all feature datasets contain the exact same cell-lines as rows!\"\n",
    "\n",
    "# Test that all feature datasets contains exactly the same gene symbols.\n",
    "inter_genes = set(np.unique(gexpr.columns.values).tolist()) \\\n",
    "    .intersection(set(np.unique(cnvg.columns.values).tolist())) \\\n",
    "    .intersection(set(np.unique(cnvp.columns.values).tolist())) \\\n",
    "    .intersection(set(np.unique(mut.columns.values).tolist()))\n",
    "\n",
    "assert len(inter_genes) == \\\n",
    "    len(np.unique(gexpr.columns.values).tolist()) == \\\n",
    "    len(np.unique(cnvg.columns.values).tolist()) == \\\n",
    "    len(np.unique(cnvp.columns.values).tolist()) == \\\n",
    "    len(np.unique(mut.columns.values).tolist()), \\\n",
    "        \"Not all feature datasets contain the exact same gene symbols as columns!\"\n",
    "\n",
    "del gexpr_cls, cnvg_cls, cnvp_cls, mut_cls, inter_genes"
   ]
  },
  {
   "cell_type": "code",
   "execution_count": 324,
   "metadata": {},
   "outputs": [],
   "source": [
    "gexpr.set_index('CELL_LINE_NAME', inplace=True)\n",
    "cnvg.set_index('CELL_LINE_NAME', inplace=True)\n",
    "cnvp.set_index('CELL_LINE_NAME', inplace=True)\n",
    "mut.set_index('CELL_LINE_NAME', inplace=True)"
   ]
  },
  {
   "cell_type": "markdown",
   "metadata": {},
   "source": [
    "## Build PyTorch-Geometric Formatted Graph\n",
    "\n",
    "Note that since the topology of each graph per cell-line will be identical, only the feature values are changing.\n",
    "\n",
    "```python\n",
    "    Data(\n",
    "        x           # changing for each cell-line.\n",
    "        edge_index  # doesn't change for each cell-line.\n",
    "    )\n",
    "```"
   ]
  },
  {
   "cell_type": "code",
   "execution_count": 325,
   "metadata": {},
   "outputs": [
    {
     "name": "stderr",
     "output_type": "stream",
     "text": [
      "100%|██████████| 983/983 [00:06<00:00, 144.23it/s]\n"
     ]
    }
   ],
   "source": [
    "from typing import Tuple, FrozenSet\n",
    "\n",
    "def create_cell_line_gene_graphs(gene_symbols: List[str], \n",
    "                                 gene_features: List[pd.DataFrame], \n",
    "                                 cls: List[str],\n",
    "                                 neighbor_gene_tuples: List[Tuple[int]]):\n",
    "    \"\"\" \n",
    "    Creates pytorch geometric gene-gene interaction graphs for each of the\n",
    "    given cell-lines. The each graph has the exact same topology, meaning\n",
    "    the same gene symbols as nodes and the same edges. However, each graph\n",
    "    has different gene feature values per node.\n",
    "\n",
    "    Args: \n",
    "        gene_symbols (`List[str]`):\n",
    "            List of gene symbols which need to be available as columns in the \n",
    "            gene features (`gene_features`).\n",
    "        gene_features (`List[pd.DataFrame]`):\n",
    "            List of feature pd.DataFrame's. All dataframe need to have all the \n",
    "            given cell-lines (`cls`) as indices and gene symbols (`gene_symbols`) as \n",
    "            columns.\n",
    "        cls (`List[str]`):\n",
    "            List of cell-lines for which to create graphs.\n",
    "        neighbor_gene_tuples (`List[Tuple[int]]`):\n",
    "            List of tuples of neighbors, where the neighbors are given as gene indices, \n",
    "            not symbols.\n",
    "    Returns:\n",
    "        `Dict[torch_geometric.data.Data]`:\n",
    "            Dictionary with the cell-line names as keys and pytorch geometric\n",
    "            gene-gene interaction graphs as values.\n",
    "    \"\"\"\n",
    "    Gs = {}\n",
    "    for cl in tqdm(cls):\n",
    "        # Convert the feature values to tensors and stack them up.\n",
    "        cl_features = []\n",
    "        for feature in gene_features:\n",
    "            cl_features.append(torch.tensor(feature.loc[cl][gene_symbols].values, dtype=torch.float64))\n",
    "        features = torch.stack(cl_features).t()\n",
    "\n",
    "        # Generate the graph.\n",
    "        edge_index = torch.tensor(neighbor_gene_tuples, dtype=torch.long).t().contiguous()\n",
    "        G_cl = Data(x=features, edge_index=edge_index)\n",
    "\n",
    "        Gs[cl] = G_cl\n",
    "\n",
    "    return Gs\n",
    "\n",
    "cl_graphs = create_cell_line_gene_graphs(NODES_AS_SYMBOLS.tolist(), \n",
    "                                         [gexpr, cnvg, cnvp, mut],\n",
    "                                         list(INTER_CLS),\n",
    "                                         NEIGHBOR_GENE_TUPLES_UNDIRECTED)"
   ]
  },
  {
   "cell_type": "code",
   "execution_count": 326,
   "metadata": {},
   "outputs": [
    {
     "name": "stdout",
     "output_type": "stream",
     "text": [
      "Cell-line: 22RV1      Graph: Data(x=[696, 4], edge_index=[2, 7794])\n",
      "Cell-line: 23132-87   Graph: Data(x=[696, 4], edge_index=[2, 7794])\n",
      "Cell-line: 42-MG-BA   Graph: Data(x=[696, 4], edge_index=[2, 7794])\n",
      "Cell-line: 451Lu      Graph: Data(x=[696, 4], edge_index=[2, 7794])\n",
      "Cell-line: 5637       Graph: Data(x=[696, 4], edge_index=[2, 7794])\n"
     ]
    }
   ],
   "source": [
    "# Showcase topology for some cell-line examples.\n",
    "for cl in gexpr.index[:5].tolist():\n",
    "    print(f\"Cell-line: {cl:8s}   Graph: {cl_graphs[cl]}\")"
   ]
  },
  {
   "cell_type": "code",
   "execution_count": 329,
   "metadata": {},
   "outputs": [
    {
     "name": "stdout",
     "output_type": "stream",
     "text": [
      "Data(x=[696, 4], edge_index=[2, 7794])\n",
      "tensor([233, 652, 268,  ...,  85, 127, 690])\n",
      "tensor([[233, 652, 268,  ...,  85, 127, 690],\n",
      "        [431, 238, 510,  ..., 276, 441, 226]])\n",
      "696\n",
      "tensor(16.)\n"
     ]
    },
    {
     "data": {
      "text/plain": [
       "torch.Size([2, 7794])"
      ]
     },
     "execution_count": 329,
     "metadata": {},
     "output_type": "execute_result"
    }
   ],
   "source": [
    "from torch_geometric.utils import degree\n",
    "\n",
    "# Number of neighbors per graph.\n",
    "g = cl_graphs['22RV1']\n",
    "print(g)\n",
    "print(g.edge_index[0])\n",
    "print(g.edge_index)\n",
    "print(g.num_nodes)\n",
    "deg = degree(g.edge_index[0], g.num_nodes)\n",
    "print(deg[0])\n",
    "g.edge_index.shape"
   ]
  },
  {
   "cell_type": "code",
   "execution_count": 330,
   "metadata": {},
   "outputs": [],
   "source": [
    "with open(f'{PATH_TO_FEATURES}cl_graphs_as_dict_v3.pkl', 'wb') as f:\n",
    "    pickle.dump(cl_graphs, f, protocol=pickle.HIGHEST_PROTOCOL)"
   ]
  },
  {
   "cell_type": "code",
   "execution_count": null,
   "metadata": {},
   "outputs": [],
   "source": []
  }
 ],
 "metadata": {
  "interpreter": {
   "hash": "c78b81650a0bd32063743affb6953ff71b1a0dba806fbca9e2db842718495748"
  },
  "kernelspec": {
   "display_name": "Python 3.10.4 ('master-thesis-log')",
   "language": "python",
   "name": "python3"
  },
  "language_info": {
   "codemirror_mode": {
    "name": "ipython",
    "version": 3
   },
   "file_extension": ".py",
   "mimetype": "text/x-python",
   "name": "python",
   "nbconvert_exporter": "python",
   "pygments_lexer": "ipython3",
   "version": "3.10.4"
  },
  "orig_nbformat": 4
 },
 "nbformat": 4,
 "nbformat_minor": 2
}
