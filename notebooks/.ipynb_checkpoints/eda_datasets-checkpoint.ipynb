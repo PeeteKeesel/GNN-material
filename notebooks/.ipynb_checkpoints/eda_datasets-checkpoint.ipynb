{
 "cells": [
  {
   "cell_type": "code",
   "execution_count": null,
   "id": "ac309027",
   "metadata": {},
   "outputs": [],
   "source": []
  },
  {
   "cell_type": "markdown",
   "id": "668ada05",
   "metadata": {},
   "source": [
    "__GDSC2__:\n",
    "\n",
    "- nr of rows\n",
    "- nr of unique cell lines: `809`\n",
    "- nr of unique drug names: `192`\n",
    "- nr of unique drug ids: `198`\n",
    "- dist of ln_ic50\n",
    "- how many rows have ic50 values, how many haven't\n",
    "- dist of uniq drugs per cell line\n",
    "    - [ ] which are the cell lines with the highest number of unique drugs? how much more do they have compared to mean and median?\n",
    "- count of drugs in total. \n",
    "    - [ ] which are the top 10 occuring drugs?\n",
    "\n",
    "__Final dataset used for training__:\n",
    "- nr of rows: `137,835`\n",
    "    - [ ] how can this be higher than all rows in GDSC2 `135,242`?\n",
    "    - [ ] shouldn't we sparse down the dataset a bit? why isn't it sparsed down\n",
    "- nr of unique cell lines\n",
    "- nr of unique drugs\n",
    "- dist of ln_ic50\n",
    "- dist of uniq drugs per cell line\n",
    "\n",
    "__Gene Expression__:\n",
    "- which dataset and from where? \n",
    "\n",
    "--- \n",
    "\n",
    "- [ ] Change whole pipeline to ONLY inlcude GDSC2. Currently I included GDSC1 and GDSC2\n",
    "- [ ] Then run a model for `combined_score_thresh` of 700, 750, 800, 850, 900, 950, 990"
   ]
  },
  {
   "cell_type": "code",
   "execution_count": null,
   "id": "e4b0b1d8",
   "metadata": {},
   "outputs": [],
   "source": [
    "!pwd"
   ]
  },
  {
   "cell_type": "code",
   "execution_count": null,
   "id": "08e247f6",
   "metadata": {},
   "outputs": [],
   "source": []
  }
 ],
 "metadata": {
  "kernelspec": {
   "display_name": "conda_python3",
   "language": "python",
   "name": "conda_python3"
  },
  "language_info": {
   "codemirror_mode": {
    "name": "ipython",
    "version": 3
   },
   "file_extension": ".py",
   "mimetype": "text/x-python",
   "name": "python",
   "nbconvert_exporter": "python",
   "pygments_lexer": "ipython3",
   "version": "3.6.13"
  }
 },
 "nbformat": 4,
 "nbformat_minor": 5
}
