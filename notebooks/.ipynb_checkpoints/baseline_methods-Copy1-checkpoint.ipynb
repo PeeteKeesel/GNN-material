{
 "cells": [
  {
   "cell_type": "markdown",
   "id": "44f4c720",
   "metadata": {},
   "source": [
    "The intention of this notebook is to provide the performance for baseline models.\n",
    "\n",
    "<ins>Contents of this notebook:</ins>\n",
    "\n",
    "- [ ] Regression baseline\n",
    "- [ ] SVM baseline\n",
    "- [ ] Random forest baseline\n",
    "- [ ] MLP baseline\n",
    "- [x] Drug mean baseline"
   ]
  },
  {
   "cell_type": "markdown",
   "id": "1583abf9",
   "metadata": {},
   "source": [
    "# Imports <a name=\"imports\"/>"
   ]
  },
  {
   "cell_type": "code",
   "execution_count": 2,
   "id": "c7c9842f",
   "metadata": {
    "collapsed": true,
    "jupyter": {
     "outputs_hidden": true
    }
   },
   "outputs": [
    {
     "name": "stdout",
     "output_type": "stream",
     "text": [
      "Collecting torch\n",
      "  Downloading torch-1.10.2-cp36-cp36m-manylinux1_x86_64.whl (881.9 MB)\n",
      "     |████████████████████████████████| 881.9 MB 7.9 kB/s              \n",
      "\u001b[?25hRequirement already satisfied: dataclasses in /home/ec2-user/anaconda3/envs/python3/lib/python3.6/site-packages (from torch) (0.8)\n",
      "Requirement already satisfied: typing-extensions in /home/ec2-user/anaconda3/envs/python3/lib/python3.6/site-packages (from torch) (4.0.1)\n",
      "Installing collected packages: torch\n",
      "Successfully installed torch-1.10.2\n"
     ]
    }
   ],
   "source": [
    "!pip install torch\n",
    "!pip install torch_geometric"
   ]
  },
  {
   "cell_type": "code",
   "execution_count": 1,
   "id": "a6413ed8",
   "metadata": {},
   "outputs": [
    {
     "name": "stderr",
     "output_type": "stream",
     "text": [
      "/home/ec2-user/anaconda3/envs/env2801/lib/python3.10/site-packages/tqdm/auto.py:22: TqdmWarning: IProgress not found. Please update jupyter and ipywidgets. See https://ipywidgets.readthedocs.io/en/stable/user_install.html\n",
      "  from .autonotebook import tqdm as notebook_tqdm\n"
     ]
    }
   ],
   "source": [
    "import sys\n",
    "import os\n",
    "import pickle\n",
    "import random\n",
    "import torch\n",
    "import torch.nn as nn\n",
    "import tqdm as tqdm\n",
    "# import matplotlib.pyplot as plt\n",
    "# import seaborn as sns\n",
    "import pandas as pd\n",
    "import numpy as np\n",
    "\n",
    "sys.path.append('/home/ec2-user/SageMaker/projects/gnn/GNN-material/src')\n",
    "sys.path.append('/home/ec2-user/SageMaker/projects/gnn/data/')\n",
    "sys.path = list(set(sys.path))"
   ]
  },
  {
   "cell_type": "markdown",
   "id": "f45d53a2",
   "metadata": {},
   "source": [
    "# Global Settings <a name=\"global-settings\"/>\n",
    "\n",
    "- __train set__: Data to train the model on. Used for model selection.\n",
    "- __validation set__: Data to validate how well the model has been trained. Used for model selection.\n",
    "- __test set__: Data for prediction error of the final model (the model which has been selected in the selection process)."
   ]
  },
  {
   "cell_type": "code",
   "execution_count": 2,
   "id": "7db36868",
   "metadata": {},
   "outputs": [],
   "source": [
    "RANDOM_STATE = 42\n",
    "random.seed(RANDOM_STATE)\n",
    "np.random.seed(RANDOM_STATE)\n",
    "torch.manual_seed(RANDOM_STATE)\n",
    "\n",
    "TRAIN_RATIO = 0.8\n",
    "TEST_RATIO = 0.2"
   ]
  },
  {
   "cell_type": "markdown",
   "id": "8103fcc5",
   "metadata": {},
   "source": [
    "---\n",
    "\n",
    "# Dataset Preparation <a name=\"Dataset Preparation\"/>\n",
    "\n",
    "In this notebook we are going to build simple baselines to the other models. The dataset for this model will be a simple table with the following columns\n",
    "- cell-line indicator (`CELL_LINE_NAME`)\n",
    "- drug (`DRUG_ID`)\n",
    "- gene expression features (`<gene_id>_gexpr`)\n",
    "- mutation features (`<gene_id>_mut`)\n",
    "- copy number features (`<gene_id>_cnvg`, `<gene_id>_cnvp`)\n",
    "- target value (`LN_IC50`)\n",
    "\n",
    "Notes: \n",
    "- for the same cell-line `i`, there will be drug values `1, ...j, ..., q`, where `q = # of drugs` and `i = {1, ..., m}`, where `i = # of cell-lines`\n",
    "- for the same cell-line `i` the feature values are exactly the same\n",
    "  - this is because the gene expression, mutation and copy number values are PER CELL-LINE and HAVE NOTHING TO DO WITH THE DRUG\n",
    "- the ic50 value however will be per cell-line drug tuple and thus be dependent on the cell-line as well as the drug"
   ]
  },
  {
   "cell_type": "markdown",
   "id": "e0c6b103",
   "metadata": {},
   "source": [
    "## Load Root Datasets <a name=\"load-root-datasets\"/>"
   ]
  },
  {
   "cell_type": "code",
   "execution_count": 3,
   "id": "e5c636d3",
   "metadata": {},
   "outputs": [
    {
     "name": "stdout",
     "output_type": "stream",
     "text": [
      "(137835, 9)\n",
      "Number of unique drug names:  181\n",
      "Number of unique drug-ids  :  181\n",
      "Number of unique cell-lines:  856\n"
     ]
    },
    {
     "data": {
      "text/html": [
       "<div>\n",
       "<style scoped>\n",
       "    .dataframe tbody tr th:only-of-type {\n",
       "        vertical-align: middle;\n",
       "    }\n",
       "\n",
       "    .dataframe tbody tr th {\n",
       "        vertical-align: top;\n",
       "    }\n",
       "\n",
       "    .dataframe thead th {\n",
       "        text-align: right;\n",
       "    }\n",
       "</style>\n",
       "<table border=\"1\" class=\"dataframe\">\n",
       "  <thead>\n",
       "    <tr style=\"text-align: right;\">\n",
       "      <th></th>\n",
       "      <th>DATASET</th>\n",
       "      <th>CELL_LINE_NAME</th>\n",
       "      <th>DRUG_NAME</th>\n",
       "      <th>DRUG_ID</th>\n",
       "      <th>SANGER_MODEL_ID</th>\n",
       "      <th>AUC</th>\n",
       "      <th>RMSE</th>\n",
       "      <th>Z_SCORE</th>\n",
       "      <th>LN_IC50</th>\n",
       "    </tr>\n",
       "  </thead>\n",
       "  <tbody>\n",
       "    <tr>\n",
       "      <th>333161</th>\n",
       "      <td>GDSC2</td>\n",
       "      <td>PFSK-1</td>\n",
       "      <td>Camptothecin</td>\n",
       "      <td>1003</td>\n",
       "      <td>SIDM01132</td>\n",
       "      <td>0.930105</td>\n",
       "      <td>0.088999</td>\n",
       "      <td>0.432482</td>\n",
       "      <td>-1.462148</td>\n",
       "    </tr>\n",
       "    <tr>\n",
       "      <th>333162</th>\n",
       "      <td>GDSC2</td>\n",
       "      <td>A673</td>\n",
       "      <td>Camptothecin</td>\n",
       "      <td>1003</td>\n",
       "      <td>SIDM00848</td>\n",
       "      <td>0.614932</td>\n",
       "      <td>0.111423</td>\n",
       "      <td>-1.420322</td>\n",
       "      <td>-4.869447</td>\n",
       "    </tr>\n",
       "    <tr>\n",
       "      <th>333163</th>\n",
       "      <td>GDSC2</td>\n",
       "      <td>ES5</td>\n",
       "      <td>Camptothecin</td>\n",
       "      <td>1003</td>\n",
       "      <td>SIDM00263</td>\n",
       "      <td>0.790953</td>\n",
       "      <td>0.142754</td>\n",
       "      <td>-0.599894</td>\n",
       "      <td>-3.360684</td>\n",
       "    </tr>\n",
       "    <tr>\n",
       "      <th>333164</th>\n",
       "      <td>GDSC2</td>\n",
       "      <td>ES7</td>\n",
       "      <td>Camptothecin</td>\n",
       "      <td>1003</td>\n",
       "      <td>SIDM00269</td>\n",
       "      <td>0.592624</td>\n",
       "      <td>0.135642</td>\n",
       "      <td>-1.515791</td>\n",
       "      <td>-5.045014</td>\n",
       "    </tr>\n",
       "    <tr>\n",
       "      <th>333165</th>\n",
       "      <td>GDSC2</td>\n",
       "      <td>EW-11</td>\n",
       "      <td>Camptothecin</td>\n",
       "      <td>1003</td>\n",
       "      <td>SIDM00203</td>\n",
       "      <td>0.733992</td>\n",
       "      <td>0.128066</td>\n",
       "      <td>-0.807038</td>\n",
       "      <td>-3.741620</td>\n",
       "    </tr>\n",
       "  </tbody>\n",
       "</table>\n",
       "</div>"
      ],
      "text/plain": [
       "       DATASET CELL_LINE_NAME     DRUG_NAME  DRUG_ID SANGER_MODEL_ID  \\\n",
       "333161   GDSC2         PFSK-1  Camptothecin     1003       SIDM01132   \n",
       "333162   GDSC2           A673  Camptothecin     1003       SIDM00848   \n",
       "333163   GDSC2            ES5  Camptothecin     1003       SIDM00263   \n",
       "333164   GDSC2            ES7  Camptothecin     1003       SIDM00269   \n",
       "333165   GDSC2          EW-11  Camptothecin     1003       SIDM00203   \n",
       "\n",
       "             AUC      RMSE   Z_SCORE   LN_IC50  \n",
       "333161  0.930105  0.088999  0.432482 -1.462148  \n",
       "333162  0.614932  0.111423 -1.420322 -4.869447  \n",
       "333163  0.790953  0.142754 -0.599894 -3.360684  \n",
       "333164  0.592624  0.135642 -1.515791 -5.045014  \n",
       "333165  0.733992  0.128066 -0.807038 -3.741620  "
      ]
     },
     "execution_count": 3,
     "metadata": {},
     "output_type": "execute_result"
    }
   ],
   "source": [
    "# --- Drug response matrix ---\n",
    "with open('../../data/processed/' + 'gdsc2_drm.pkl', 'rb') as f: \n",
    "    drm = pickle.load(f)\n",
    "    assert not drm.isna().sum().any(), \"Some rows have missing cells.\"\n",
    "print(drm.shape)\n",
    "print(\"Number of unique drug names: \", len(drm.DRUG_ID.unique()))\n",
    "print(\"Number of unique drug-ids  : \", len(drm.DRUG_NAME.unique()))\n",
    "print(\"Number of unique cell-lines: \", len(drm.CELL_LINE_NAME.unique()))\n",
    "drm.head(5)"
   ]
  },
  {
   "cell_type": "code",
   "execution_count": 4,
   "id": "8e64b61e",
   "metadata": {},
   "outputs": [
    {
     "name": "stdout",
     "output_type": "stream",
     "text": [
      "(856, 1173)\n",
      "Number of unique cell-lines:  856\n"
     ]
    },
    {
     "data": {
      "text/html": [
       "<div>\n",
       "<style scoped>\n",
       "    .dataframe tbody tr th:only-of-type {\n",
       "        vertical-align: middle;\n",
       "    }\n",
       "\n",
       "    .dataframe tbody tr th {\n",
       "        vertical-align: top;\n",
       "    }\n",
       "\n",
       "    .dataframe thead th {\n",
       "        text-align: right;\n",
       "    }\n",
       "</style>\n",
       "<table border=\"1\" class=\"dataframe\">\n",
       "  <thead>\n",
       "    <tr style=\"text-align: right;\">\n",
       "      <th></th>\n",
       "      <th>CELL_LINE_NAME</th>\n",
       "      <th>PLK1_gexpr</th>\n",
       "      <th>RUVBL1_gexpr</th>\n",
       "      <th>TERT_gexpr</th>\n",
       "      <th>EIF4EBP1_gexpr</th>\n",
       "      <th>RPS6_gexpr</th>\n",
       "      <th>STXBP1_gexpr</th>\n",
       "      <th>CDC42_gexpr</th>\n",
       "      <th>SFN_gexpr</th>\n",
       "      <th>POLB_gexpr</th>\n",
       "      <th>...</th>\n",
       "      <th>MYC_mut</th>\n",
       "      <th>CCNB1_mut</th>\n",
       "      <th>TICAM1_mut</th>\n",
       "      <th>CENPE_mut</th>\n",
       "      <th>CFLAR_mut</th>\n",
       "      <th>AKT1_mut</th>\n",
       "      <th>FBXO11_mut</th>\n",
       "      <th>PSMB8_mut</th>\n",
       "      <th>PRKCD_mut</th>\n",
       "      <th>FBXO7_mut</th>\n",
       "    </tr>\n",
       "  </thead>\n",
       "  <tbody>\n",
       "    <tr>\n",
       "      <th>0</th>\n",
       "      <td>22RV1</td>\n",
       "      <td>3.376377</td>\n",
       "      <td>7.935522</td>\n",
       "      <td>3.222590</td>\n",
       "      <td>9.062096</td>\n",
       "      <td>12.713941</td>\n",
       "      <td>4.554855</td>\n",
       "      <td>4.461362</td>\n",
       "      <td>8.570664</td>\n",
       "      <td>8.331353</td>\n",
       "      <td>...</td>\n",
       "      <td>0.0</td>\n",
       "      <td>0.0</td>\n",
       "      <td>0.0</td>\n",
       "      <td>1.0</td>\n",
       "      <td>0.0</td>\n",
       "      <td>1.0</td>\n",
       "      <td>0.0</td>\n",
       "      <td>0.0</td>\n",
       "      <td>1.0</td>\n",
       "      <td>0.0</td>\n",
       "    </tr>\n",
       "    <tr>\n",
       "      <th>1</th>\n",
       "      <td>23132-87</td>\n",
       "      <td>3.525281</td>\n",
       "      <td>8.745985</td>\n",
       "      <td>3.329384</td>\n",
       "      <td>10.303132</td>\n",
       "      <td>12.802973</td>\n",
       "      <td>4.206494</td>\n",
       "      <td>4.112894</td>\n",
       "      <td>9.069540</td>\n",
       "      <td>8.788701</td>\n",
       "      <td>...</td>\n",
       "      <td>0.0</td>\n",
       "      <td>1.0</td>\n",
       "      <td>0.0</td>\n",
       "      <td>0.0</td>\n",
       "      <td>0.0</td>\n",
       "      <td>1.0</td>\n",
       "      <td>0.0</td>\n",
       "      <td>0.0</td>\n",
       "      <td>0.0</td>\n",
       "      <td>0.0</td>\n",
       "    </tr>\n",
       "    <tr>\n",
       "      <th>2</th>\n",
       "      <td>42-MG-BA</td>\n",
       "      <td>3.769823</td>\n",
       "      <td>6.651761</td>\n",
       "      <td>3.492581</td>\n",
       "      <td>9.790909</td>\n",
       "      <td>11.856622</td>\n",
       "      <td>5.397945</td>\n",
       "      <td>4.457850</td>\n",
       "      <td>3.673494</td>\n",
       "      <td>7.443434</td>\n",
       "      <td>...</td>\n",
       "      <td>0.0</td>\n",
       "      <td>0.0</td>\n",
       "      <td>0.0</td>\n",
       "      <td>0.0</td>\n",
       "      <td>0.0</td>\n",
       "      <td>0.0</td>\n",
       "      <td>0.0</td>\n",
       "      <td>0.0</td>\n",
       "      <td>0.0</td>\n",
       "      <td>0.0</td>\n",
       "    </tr>\n",
       "    <tr>\n",
       "      <th>3</th>\n",
       "      <td>451Lu</td>\n",
       "      <td>3.922186</td>\n",
       "      <td>8.386289</td>\n",
       "      <td>3.479026</td>\n",
       "      <td>9.408780</td>\n",
       "      <td>12.290141</td>\n",
       "      <td>6.228226</td>\n",
       "      <td>5.412469</td>\n",
       "      <td>4.064795</td>\n",
       "      <td>8.272650</td>\n",
       "      <td>...</td>\n",
       "      <td>1.0</td>\n",
       "      <td>0.0</td>\n",
       "      <td>0.0</td>\n",
       "      <td>0.0</td>\n",
       "      <td>1.0</td>\n",
       "      <td>0.0</td>\n",
       "      <td>0.0</td>\n",
       "      <td>0.0</td>\n",
       "      <td>0.0</td>\n",
       "      <td>0.0</td>\n",
       "    </tr>\n",
       "    <tr>\n",
       "      <th>4</th>\n",
       "      <td>5637</td>\n",
       "      <td>3.531716</td>\n",
       "      <td>8.347308</td>\n",
       "      <td>3.243133</td>\n",
       "      <td>9.884705</td>\n",
       "      <td>12.588677</td>\n",
       "      <td>3.683614</td>\n",
       "      <td>4.389642</td>\n",
       "      <td>9.927606</td>\n",
       "      <td>8.998844</td>\n",
       "      <td>...</td>\n",
       "      <td>0.0</td>\n",
       "      <td>0.0</td>\n",
       "      <td>0.0</td>\n",
       "      <td>1.0</td>\n",
       "      <td>1.0</td>\n",
       "      <td>0.0</td>\n",
       "      <td>0.0</td>\n",
       "      <td>0.0</td>\n",
       "      <td>0.0</td>\n",
       "      <td>0.0</td>\n",
       "    </tr>\n",
       "  </tbody>\n",
       "</table>\n",
       "<p>5 rows × 1173 columns</p>\n",
       "</div>"
      ],
      "text/plain": [
       "  CELL_LINE_NAME  PLK1_gexpr  RUVBL1_gexpr  TERT_gexpr  EIF4EBP1_gexpr  \\\n",
       "0          22RV1    3.376377      7.935522    3.222590        9.062096   \n",
       "1       23132-87    3.525281      8.745985    3.329384       10.303132   \n",
       "2       42-MG-BA    3.769823      6.651761    3.492581        9.790909   \n",
       "3          451Lu    3.922186      8.386289    3.479026        9.408780   \n",
       "4           5637    3.531716      8.347308    3.243133        9.884705   \n",
       "\n",
       "   RPS6_gexpr  STXBP1_gexpr  CDC42_gexpr  SFN_gexpr  POLB_gexpr  ...  MYC_mut  \\\n",
       "0   12.713941      4.554855     4.461362   8.570664    8.331353  ...      0.0   \n",
       "1   12.802973      4.206494     4.112894   9.069540    8.788701  ...      0.0   \n",
       "2   11.856622      5.397945     4.457850   3.673494    7.443434  ...      0.0   \n",
       "3   12.290141      6.228226     5.412469   4.064795    8.272650  ...      1.0   \n",
       "4   12.588677      3.683614     4.389642   9.927606    8.998844  ...      0.0   \n",
       "\n",
       "   CCNB1_mut  TICAM1_mut  CENPE_mut  CFLAR_mut  AKT1_mut  FBXO11_mut  \\\n",
       "0        0.0         0.0        1.0        0.0       1.0         0.0   \n",
       "1        1.0         0.0        0.0        0.0       1.0         0.0   \n",
       "2        0.0         0.0        0.0        0.0       0.0         0.0   \n",
       "3        0.0         0.0        0.0        1.0       0.0         0.0   \n",
       "4        0.0         0.0        1.0        1.0       0.0         0.0   \n",
       "\n",
       "   PSMB8_mut  PRKCD_mut  FBXO7_mut  \n",
       "0        0.0        1.0        0.0  \n",
       "1        0.0        0.0        0.0  \n",
       "2        0.0        0.0        0.0  \n",
       "3        0.0        0.0        0.0  \n",
       "4        0.0        0.0        0.0  \n",
       "\n",
       "[5 rows x 1173 columns]"
      ]
     },
     "execution_count": 4,
     "metadata": {},
     "output_type": "execute_result"
    }
   ],
   "source": [
    "# --- Gene feature matrix ---\n",
    "with open('../../data/processed/gdsc2/990/' + f'thresh_gdsc2_990_gene_mat.pkl', 'rb') as f: \n",
    "    cl_gene_mat = pickle.load(f)\n",
    "    assert not cl_gene_mat.isna().sum().any(), \"Some rows have missing cells.\"\n",
    "print(cl_gene_mat.shape)\n",
    "print(\"Number of unique cell-lines: \", len(cl_gene_mat.CELL_LINE_NAME.unique()))\n",
    "cl_gene_mat.head(5)"
   ]
  },
  {
   "cell_type": "code",
   "execution_count": 5,
   "id": "19eb2d07",
   "metadata": {},
   "outputs": [
    {
     "name": "stdout",
     "output_type": "stream",
     "text": [
      "(137835, 1174)\n"
     ]
    },
    {
     "data": {
      "text/html": [
       "<div>\n",
       "<style scoped>\n",
       "    .dataframe tbody tr th:only-of-type {\n",
       "        vertical-align: middle;\n",
       "    }\n",
       "\n",
       "    .dataframe tbody tr th {\n",
       "        vertical-align: top;\n",
       "    }\n",
       "\n",
       "    .dataframe thead th {\n",
       "        text-align: right;\n",
       "    }\n",
       "</style>\n",
       "<table border=\"1\" class=\"dataframe\">\n",
       "  <thead>\n",
       "    <tr style=\"text-align: right;\">\n",
       "      <th></th>\n",
       "      <th>CELL_LINE_NAME</th>\n",
       "      <th>LN_IC50</th>\n",
       "      <th>PLK1_gexpr</th>\n",
       "      <th>RUVBL1_gexpr</th>\n",
       "      <th>TERT_gexpr</th>\n",
       "      <th>EIF4EBP1_gexpr</th>\n",
       "      <th>RPS6_gexpr</th>\n",
       "      <th>STXBP1_gexpr</th>\n",
       "      <th>CDC42_gexpr</th>\n",
       "      <th>SFN_gexpr</th>\n",
       "      <th>...</th>\n",
       "      <th>MYC_mut</th>\n",
       "      <th>CCNB1_mut</th>\n",
       "      <th>TICAM1_mut</th>\n",
       "      <th>CENPE_mut</th>\n",
       "      <th>CFLAR_mut</th>\n",
       "      <th>AKT1_mut</th>\n",
       "      <th>FBXO11_mut</th>\n",
       "      <th>PSMB8_mut</th>\n",
       "      <th>PRKCD_mut</th>\n",
       "      <th>FBXO7_mut</th>\n",
       "    </tr>\n",
       "  </thead>\n",
       "  <tbody>\n",
       "    <tr>\n",
       "      <th>0</th>\n",
       "      <td>PFSK-1</td>\n",
       "      <td>-1.462148</td>\n",
       "      <td>4.457667</td>\n",
       "      <td>8.072458</td>\n",
       "      <td>3.422545</td>\n",
       "      <td>10.496699</td>\n",
       "      <td>12.776203</td>\n",
       "      <td>4.993946</td>\n",
       "      <td>4.82063</td>\n",
       "      <td>3.56576</td>\n",
       "      <td>...</td>\n",
       "      <td>0.0</td>\n",
       "      <td>0.0</td>\n",
       "      <td>0.0</td>\n",
       "      <td>0.0</td>\n",
       "      <td>0.0</td>\n",
       "      <td>0.0</td>\n",
       "      <td>1.0</td>\n",
       "      <td>0.0</td>\n",
       "      <td>0.0</td>\n",
       "      <td>0.0</td>\n",
       "    </tr>\n",
       "    <tr>\n",
       "      <th>1</th>\n",
       "      <td>PFSK-1</td>\n",
       "      <td>-4.996545</td>\n",
       "      <td>4.457667</td>\n",
       "      <td>8.072458</td>\n",
       "      <td>3.422545</td>\n",
       "      <td>10.496699</td>\n",
       "      <td>12.776203</td>\n",
       "      <td>4.993946</td>\n",
       "      <td>4.82063</td>\n",
       "      <td>3.56576</td>\n",
       "      <td>...</td>\n",
       "      <td>0.0</td>\n",
       "      <td>0.0</td>\n",
       "      <td>0.0</td>\n",
       "      <td>0.0</td>\n",
       "      <td>0.0</td>\n",
       "      <td>0.0</td>\n",
       "      <td>1.0</td>\n",
       "      <td>0.0</td>\n",
       "      <td>0.0</td>\n",
       "      <td>0.0</td>\n",
       "    </tr>\n",
       "    <tr>\n",
       "      <th>2</th>\n",
       "      <td>PFSK-1</td>\n",
       "      <td>3.213791</td>\n",
       "      <td>4.457667</td>\n",
       "      <td>8.072458</td>\n",
       "      <td>3.422545</td>\n",
       "      <td>10.496699</td>\n",
       "      <td>12.776203</td>\n",
       "      <td>4.993946</td>\n",
       "      <td>4.82063</td>\n",
       "      <td>3.56576</td>\n",
       "      <td>...</td>\n",
       "      <td>0.0</td>\n",
       "      <td>0.0</td>\n",
       "      <td>0.0</td>\n",
       "      <td>0.0</td>\n",
       "      <td>0.0</td>\n",
       "      <td>0.0</td>\n",
       "      <td>1.0</td>\n",
       "      <td>0.0</td>\n",
       "      <td>0.0</td>\n",
       "      <td>0.0</td>\n",
       "    </tr>\n",
       "    <tr>\n",
       "      <th>3</th>\n",
       "      <td>PFSK-1</td>\n",
       "      <td>-1.847259</td>\n",
       "      <td>4.457667</td>\n",
       "      <td>8.072458</td>\n",
       "      <td>3.422545</td>\n",
       "      <td>10.496699</td>\n",
       "      <td>12.776203</td>\n",
       "      <td>4.993946</td>\n",
       "      <td>4.82063</td>\n",
       "      <td>3.56576</td>\n",
       "      <td>...</td>\n",
       "      <td>0.0</td>\n",
       "      <td>0.0</td>\n",
       "      <td>0.0</td>\n",
       "      <td>0.0</td>\n",
       "      <td>0.0</td>\n",
       "      <td>0.0</td>\n",
       "      <td>1.0</td>\n",
       "      <td>0.0</td>\n",
       "      <td>0.0</td>\n",
       "      <td>0.0</td>\n",
       "    </tr>\n",
       "    <tr>\n",
       "      <th>4</th>\n",
       "      <td>PFSK-1</td>\n",
       "      <td>2.101370</td>\n",
       "      <td>4.457667</td>\n",
       "      <td>8.072458</td>\n",
       "      <td>3.422545</td>\n",
       "      <td>10.496699</td>\n",
       "      <td>12.776203</td>\n",
       "      <td>4.993946</td>\n",
       "      <td>4.82063</td>\n",
       "      <td>3.56576</td>\n",
       "      <td>...</td>\n",
       "      <td>0.0</td>\n",
       "      <td>0.0</td>\n",
       "      <td>0.0</td>\n",
       "      <td>0.0</td>\n",
       "      <td>0.0</td>\n",
       "      <td>0.0</td>\n",
       "      <td>1.0</td>\n",
       "      <td>0.0</td>\n",
       "      <td>0.0</td>\n",
       "      <td>0.0</td>\n",
       "    </tr>\n",
       "  </tbody>\n",
       "</table>\n",
       "<p>5 rows × 1174 columns</p>\n",
       "</div>"
      ],
      "text/plain": [
       "  CELL_LINE_NAME   LN_IC50  PLK1_gexpr  RUVBL1_gexpr  TERT_gexpr  \\\n",
       "0         PFSK-1 -1.462148    4.457667      8.072458    3.422545   \n",
       "1         PFSK-1 -4.996545    4.457667      8.072458    3.422545   \n",
       "2         PFSK-1  3.213791    4.457667      8.072458    3.422545   \n",
       "3         PFSK-1 -1.847259    4.457667      8.072458    3.422545   \n",
       "4         PFSK-1  2.101370    4.457667      8.072458    3.422545   \n",
       "\n",
       "   EIF4EBP1_gexpr  RPS6_gexpr  STXBP1_gexpr  CDC42_gexpr  SFN_gexpr  ...  \\\n",
       "0       10.496699   12.776203      4.993946      4.82063    3.56576  ...   \n",
       "1       10.496699   12.776203      4.993946      4.82063    3.56576  ...   \n",
       "2       10.496699   12.776203      4.993946      4.82063    3.56576  ...   \n",
       "3       10.496699   12.776203      4.993946      4.82063    3.56576  ...   \n",
       "4       10.496699   12.776203      4.993946      4.82063    3.56576  ...   \n",
       "\n",
       "   MYC_mut  CCNB1_mut  TICAM1_mut  CENPE_mut  CFLAR_mut  AKT1_mut  FBXO11_mut  \\\n",
       "0      0.0        0.0         0.0        0.0        0.0       0.0         1.0   \n",
       "1      0.0        0.0         0.0        0.0        0.0       0.0         1.0   \n",
       "2      0.0        0.0         0.0        0.0        0.0       0.0         1.0   \n",
       "3      0.0        0.0         0.0        0.0        0.0       0.0         1.0   \n",
       "4      0.0        0.0         0.0        0.0        0.0       0.0         1.0   \n",
       "\n",
       "   PSMB8_mut  PRKCD_mut  FBXO7_mut  \n",
       "0        0.0        0.0        0.0  \n",
       "1        0.0        0.0        0.0  \n",
       "2        0.0        0.0        0.0  \n",
       "3        0.0        0.0        0.0  \n",
       "4        0.0        0.0        0.0  \n",
       "\n",
       "[5 rows x 1174 columns]"
      ]
     },
     "execution_count": 5,
     "metadata": {},
     "output_type": "execute_result"
    }
   ],
   "source": [
    "# Inner join drug response matrix with the features.\n",
    "join = pd.merge(left=drm[['CELL_LINE_NAME', 'LN_IC50']],\n",
    "                right=cl_gene_mat,\n",
    "                on=['CELL_LINE_NAME'],\n",
    "                how='inner')\n",
    "print(join.shape)\n",
    "join.head(5)"
   ]
  },
  {
   "cell_type": "code",
   "execution_count": 6,
   "id": "b07e477a",
   "metadata": {},
   "outputs": [
    {
     "name": "stdout",
     "output_type": "stream",
     "text": [
      "(137835, 293)\n",
      "(137835, 293)\n",
      "(137835, 293)\n"
     ]
    }
   ],
   "source": [
    "gexpr_cols = join.filter(like='_gexpr'); print(gexpr_cols.shape)\n",
    "cnvg_cols = join.filter(like='_cnvg'); print(cnvg_cols.shape)\n",
    "cnvp_cols = join.filter(like='_cnvp'); print(cnvp_cols.shape)"
   ]
  },
  {
   "cell_type": "code",
   "execution_count": 7,
   "id": "af01fa4d",
   "metadata": {},
   "outputs": [
    {
     "name": "stderr",
     "output_type": "stream",
     "text": [
      "\n",
      "KeyboardInterrupt\n",
      "\n"
     ]
    }
   ],
   "source": [
    "from sklearn.preprocessing import StandardScaler\n",
    "\n",
    "scaler = StandardScaler()\n",
    "\n",
    "# Apply standard scaling to the specified columns\n",
    "join[gexpr_cols.columns.tolist()] = scaler.fit_transform(join[gexpr_cols.columns.tolist()])\n",
    "join[cnvg_cols.columns.tolist()] = scaler.fit_transform(join[cnvg_cols.columns.tolist()])\n",
    "join[cnvp_cols.columns.tolist()] = scaler.fit_transform(join[cnvp_cols.columns.tolist()])\n",
    "join.head(3)"
   ]
  },
  {
   "cell_type": "markdown",
   "id": "cfb546aa",
   "metadata": {},
   "source": [
    "## Create Modeling Datasets <a name=\"create-modeling-datasets\"/>"
   ]
  },
  {
   "cell_type": "code",
   "execution_count": 8,
   "id": "b4bc3459",
   "metadata": {},
   "outputs": [],
   "source": [
    "from sklearn.model_selection import train_test_split"
   ]
  },
  {
   "cell_type": "code",
   "execution_count": 9,
   "id": "e49d4c1f",
   "metadata": {},
   "outputs": [
    {
     "name": "stdout",
     "output_type": "stream",
     "text": [
      "train: 110,268\n",
      "test :  27,567\n"
     ]
    }
   ],
   "source": [
    "drm_train, drm_test = train_test_split(\n",
    "    join, \n",
    "    test_size=0.2,\n",
    "    random_state=42,\n",
    "    stratify=drm['CELL_LINE_NAME']\n",
    ")\n",
    "print(f\"train: {drm_train.shape[0]:7,}\")\n",
    "print(f\"test : {drm_test.shape[0]:7,}\")"
   ]
  },
  {
   "cell_type": "code",
   "execution_count": 10,
   "id": "21d31a55",
   "metadata": {},
   "outputs": [],
   "source": [
    "X = join.loc[:, ~join.columns.isin(['CELL_LINE_NAME', 'LN_IC50'])]\n",
    "y = join['LN_IC50']\n",
    "\n",
    "X_train = drm_train.loc[:, ~drm_train.columns.isin(['CELL_LINE_NAME', 'LN_IC50'])]\n",
    "y_train = drm_train['LN_IC50']\n",
    "\n",
    "X_test = drm_test.loc[:, ~drm_test.columns.isin(['CELL_LINE_NAME', 'LN_IC50'])]\n",
    "y_test = drm_test['LN_IC50']"
   ]
  },
  {
   "cell_type": "code",
   "execution_count": 11,
   "id": "b1ee7e73",
   "metadata": {},
   "outputs": [
    {
     "name": "stdout",
     "output_type": "stream",
     "text": [
      "Final dataset shapes:\n",
      "=====================\n",
      "             X               y         \n",
      "Training   : (110268, 1172)  (110268,) \n",
      "Testing    : (27567, 1172)   (27567,)  \n",
      "\n"
     ]
    }
   ],
   "source": [
    "print(f\"\"\"Final dataset shapes:\n",
    "=====================\n",
    "             {'X':<15s} {'y':<10s}\n",
    "Training   : {str(X_train.shape):15s} {str(y_train.shape):10s}\n",
    "Testing    : {str(X_test.shape):15s} {str(y_test.shape):10s}\n",
    "\"\"\")"
   ]
  },
  {
   "cell_type": "markdown",
   "id": "2a5ca6f9",
   "metadata": {},
   "source": [
    "# Model Building <a name=\"model-building\"/>"
   ]
  },
  {
   "cell_type": "markdown",
   "id": "4018749a",
   "metadata": {},
   "source": [
    "## Linear Regression <a name=\"#linear-regression\"/>"
   ]
  },
  {
   "cell_type": "code",
   "execution_count": 13,
   "id": "0fbec635",
   "metadata": {},
   "outputs": [
    {
     "name": "stdout",
     "output_type": "stream",
     "text": [
      "0.10609938812474695\n"
     ]
    }
   ],
   "source": [
    "from sklearn.linear_model import LinearRegression\n",
    "\n",
    "linregr = LinearRegression()\n",
    "linregr.fit(X_train, y_train)\n",
    "print(linregr.score(X_test, y_test))"
   ]
  },
  {
   "cell_type": "code",
   "execution_count": 35,
   "id": "840ab62a",
   "metadata": {},
   "outputs": [
    {
     "name": "stdout",
     "output_type": "stream",
     "text": [
      "MAE  : 1.9694354439357937\n",
      "MSE  : 6.433135124786564\n",
      "RMSE : 2.536362577548124\n",
      "PCC  : 0.3202600667251888\n",
      "SCC  : 0.3333729438920468\n"
     ]
    }
   ],
   "source": [
    "from sklearn.metrics import mean_absolute_error, mean_squared_error\n",
    "from scipy.stats import pearsonr, spearmanr\n",
    "  \n",
    "y_pred = linregr.predict(X_test)\n",
    "\n",
    "mae = mean_absolute_error(y_true=y_test, y_pred=y_pred)\n",
    "mse = mean_squared_error(y_true=y_test, y_pred=y_pred, squared=True)\n",
    "rmse = mean_squared_error(y_true=y_test, y_pred=y_pred, squared=False)\n",
    "pcc, _ = pearsonr(y_test, y_pred)\n",
    "scc, _ = spearmanr(y_test, y_pred)\n",
    "r2 = r2_score(y_test, y_pred)\n",
    "\n",
    "print(\"MAE  :\", mae)\n",
    "print(\"MSE  :\", mse)\n",
    "print(\"RMSE :\", rmse)\n",
    "print(\"PCC  :\", pcc)\n",
    "print(\"SCC  :\", scc)\n",
    "print(\"R2   :\", r2)"
   ]
  },
  {
   "cell_type": "markdown",
   "id": "bb44cc9d",
   "metadata": {},
   "source": [
    "## Ridge Regression"
   ]
  },
  {
   "cell_type": "code",
   "execution_count": 39,
   "id": "063a25a3",
   "metadata": {},
   "outputs": [
    {
     "name": "stdout",
     "output_type": "stream",
     "text": [
      "MAE  : 1.9626524830148593\n",
      "MSE  : 6.393542803236027\n",
      "RMSE : 2.528545590499809\n",
      "PCC  : 0.32708891069741136\n",
      "SCC  : 0.34069741173046386\n"
     ]
    }
   ],
   "source": [
    "from sklearn.linear_model import Ridge\n",
    "from sklearn.metrics import r2_score\n",
    "\n",
    "ridge = Ridge(alpha=0.5)\n",
    "ridge.fit(X_train, y_train)\n",
    "\n",
    "# Predict on test data\n",
    "y_pred = ridge.predict(X_test)\n",
    "\n",
    "from sklearn.metrics import mean_absolute_error, mean_squared_error\n",
    "from scipy.stats import pearsonr, spearmanr\n",
    "  \n",
    "y_pred = ridge.predict(X_test)\n",
    "\n",
    "mae = mean_absolute_error(y_true=y_test, y_pred=y_pred)\n",
    "mse = mean_squared_error(y_true=y_test, y_pred=y_pred, squared=True)\n",
    "rmse = mean_squared_error(y_true=y_test, y_pred=y_pred, squared=False)\n",
    "pcc, _ = pearsonr(y_test, y_pred)\n",
    "scc, _ = spearmanr(y_test, y_pred)\n",
    "r2 = r2_score(y_test, y_pred)\n",
    "\n",
    "print(\"MAE  :\", mae)\n",
    "print(\"MSE  :\", mse)\n",
    "print(\"RMSE :\", rmse)\n",
    "print(\"PCC  :\", pcc)\n",
    "print(\"SCC  :\", scc)\n",
    "print(\"R2   :\", r2)"
   ]
  },
  {
   "cell_type": "markdown",
   "id": "02308ce6",
   "metadata": {},
   "source": [
    "## Lasso Regression"
   ]
  },
  {
   "cell_type": "code",
   "execution_count": 46,
   "id": "99385ee2",
   "metadata": {},
   "outputs": [
    {
     "name": "stdout",
     "output_type": "stream",
     "text": [
      "MAE  : 2.042081832190281\n",
      "MSE  : 6.940327659961665\n",
      "RMSE : 2.634450162740162\n",
      "PCC  : 0.21156487305145985\n",
      "SCC  : 0.1825619715724882\n"
     ]
    }
   ],
   "source": [
    "from sklearn.linear_model import Lasso\n",
    "from sklearn.metrics import r2_score\n",
    "\n",
    "lasso = Lasso(alpha=0.3)\n",
    "lasso.fit(X_train, y_train)\n",
    "\n",
    "# Predict on test data\n",
    "y_pred = lasso.predict(X_test)\n",
    "\n",
    "from sklearn.metrics import mean_absolute_error, mean_squared_error\n",
    "from scipy.stats import pearsonr, spearmanr\n",
    "  \n",
    "y_pred = lasso.predict(X_test)\n",
    "\n",
    "mae = mean_absolute_error(y_true=y_test, y_pred=y_pred)\n",
    "mse = mean_squared_error(y_true=y_test, y_pred=y_pred, squared=True)\n",
    "rmse = mean_squared_error(y_true=y_test, y_pred=y_pred, squared=False)\n",
    "pcc, _ = pearsonr(y_test, y_pred)\n",
    "scc, _ = spearmanr(y_test, y_pred)\n",
    "r2 = r2_score(y_test, y_pred)\n",
    "\n",
    "print(\"MAE  :\", mae)\n",
    "print(\"MSE  :\", mse)\n",
    "print(\"RMSE :\", rmse)\n",
    "print(\"PCC  :\", pcc)\n",
    "print(\"SCC  :\", scc)\n",
    "print(\"R2   :\", r2)"
   ]
  },
  {
   "cell_type": "markdown",
   "id": "a4b2194d",
   "metadata": {},
   "source": [
    "## GradientBoostingRegressor"
   ]
  },
  {
   "cell_type": "code",
   "execution_count": 17,
   "id": "5e6c3b17",
   "metadata": {
    "collapsed": true,
    "jupyter": {
     "outputs_hidden": true
    }
   },
   "outputs": [
    {
     "name": "stdout",
     "output_type": "stream",
     "text": [
      "Start GridSearchCV...\n",
      "Finished GridSearchCV!\n",
      "Start fitting...\n",
      "Fitting 5 folds for each of 3 candidates, totalling 15 fits\n"
     ]
    },
    {
     "ename": "KeyboardInterrupt",
     "evalue": "",
     "output_type": "error",
     "traceback": [
      "\u001b[0;31m---------------------------------------------------------------------------\u001b[0m",
      "\u001b[0;31mKeyboardInterrupt\u001b[0m                         Traceback (most recent call last)",
      "File \u001b[0;32m~/anaconda3/envs/env2801/lib/python3.10/site-packages/joblib/parallel.py:975\u001b[0m, in \u001b[0;36mParallel.retrieve\u001b[0;34m(self)\u001b[0m\n\u001b[1;32m    974\u001b[0m \u001b[38;5;28;01mif\u001b[39;00m \u001b[38;5;28mgetattr\u001b[39m(\u001b[38;5;28mself\u001b[39m\u001b[38;5;241m.\u001b[39m_backend, \u001b[38;5;124m'\u001b[39m\u001b[38;5;124msupports_timeout\u001b[39m\u001b[38;5;124m'\u001b[39m, \u001b[38;5;28;01mFalse\u001b[39;00m):\n\u001b[0;32m--> 975\u001b[0m     \u001b[38;5;28mself\u001b[39m\u001b[38;5;241m.\u001b[39m_output\u001b[38;5;241m.\u001b[39mextend(\u001b[43mjob\u001b[49m\u001b[38;5;241;43m.\u001b[39;49m\u001b[43mget\u001b[49m\u001b[43m(\u001b[49m\u001b[43mtimeout\u001b[49m\u001b[38;5;241;43m=\u001b[39;49m\u001b[38;5;28;43mself\u001b[39;49m\u001b[38;5;241;43m.\u001b[39;49m\u001b[43mtimeout\u001b[49m\u001b[43m)\u001b[49m)\n\u001b[1;32m    976\u001b[0m \u001b[38;5;28;01melse\u001b[39;00m:\n",
      "File \u001b[0;32m~/anaconda3/envs/env2801/lib/python3.10/site-packages/joblib/_parallel_backends.py:567\u001b[0m, in \u001b[0;36mLokyBackend.wrap_future_result\u001b[0;34m(future, timeout)\u001b[0m\n\u001b[1;32m    566\u001b[0m \u001b[38;5;28;01mtry\u001b[39;00m:\n\u001b[0;32m--> 567\u001b[0m     \u001b[38;5;28;01mreturn\u001b[39;00m \u001b[43mfuture\u001b[49m\u001b[38;5;241;43m.\u001b[39;49m\u001b[43mresult\u001b[49m\u001b[43m(\u001b[49m\u001b[43mtimeout\u001b[49m\u001b[38;5;241;43m=\u001b[39;49m\u001b[43mtimeout\u001b[49m\u001b[43m)\u001b[49m\n\u001b[1;32m    568\u001b[0m \u001b[38;5;28;01mexcept\u001b[39;00m CfTimeoutError \u001b[38;5;28;01mas\u001b[39;00m e:\n",
      "File \u001b[0;32m~/anaconda3/envs/env2801/lib/python3.10/concurrent/futures/_base.py:441\u001b[0m, in \u001b[0;36mFuture.result\u001b[0;34m(self, timeout)\u001b[0m\n\u001b[1;32m    439\u001b[0m     \u001b[38;5;28;01mreturn\u001b[39;00m \u001b[38;5;28mself\u001b[39m\u001b[38;5;241m.\u001b[39m__get_result()\n\u001b[0;32m--> 441\u001b[0m \u001b[38;5;28;43mself\u001b[39;49m\u001b[38;5;241;43m.\u001b[39;49m\u001b[43m_condition\u001b[49m\u001b[38;5;241;43m.\u001b[39;49m\u001b[43mwait\u001b[49m\u001b[43m(\u001b[49m\u001b[43mtimeout\u001b[49m\u001b[43m)\u001b[49m\n\u001b[1;32m    443\u001b[0m \u001b[38;5;28;01mif\u001b[39;00m \u001b[38;5;28mself\u001b[39m\u001b[38;5;241m.\u001b[39m_state \u001b[38;5;129;01min\u001b[39;00m [CANCELLED, CANCELLED_AND_NOTIFIED]:\n",
      "File \u001b[0;32m~/anaconda3/envs/env2801/lib/python3.10/threading.py:320\u001b[0m, in \u001b[0;36mCondition.wait\u001b[0;34m(self, timeout)\u001b[0m\n\u001b[1;32m    319\u001b[0m \u001b[38;5;28;01mif\u001b[39;00m timeout \u001b[38;5;129;01mis\u001b[39;00m \u001b[38;5;28;01mNone\u001b[39;00m:\n\u001b[0;32m--> 320\u001b[0m     \u001b[43mwaiter\u001b[49m\u001b[38;5;241;43m.\u001b[39;49m\u001b[43macquire\u001b[49m\u001b[43m(\u001b[49m\u001b[43m)\u001b[49m\n\u001b[1;32m    321\u001b[0m     gotit \u001b[38;5;241m=\u001b[39m \u001b[38;5;28;01mTrue\u001b[39;00m\n",
      "\u001b[0;31mKeyboardInterrupt\u001b[0m: ",
      "\nDuring handling of the above exception, another exception occurred:\n",
      "\u001b[0;31mKeyboardInterrupt\u001b[0m                         Traceback (most recent call last)",
      "Cell \u001b[0;32mIn[17], line 32\u001b[0m\n\u001b[1;32m     30\u001b[0m \u001b[38;5;66;03m# Fit the model with grid search for hyperparameter tuning\u001b[39;00m\n\u001b[1;32m     31\u001b[0m \u001b[38;5;28mprint\u001b[39m(\u001b[38;5;124mf\u001b[39m\u001b[38;5;124m\"\u001b[39m\u001b[38;5;124mStart fitting...\u001b[39m\u001b[38;5;124m\"\u001b[39m)\n\u001b[0;32m---> 32\u001b[0m \u001b[43mgrid_search\u001b[49m\u001b[38;5;241;43m.\u001b[39;49m\u001b[43mfit\u001b[49m\u001b[43m(\u001b[49m\u001b[43mX_train\u001b[49m\u001b[43m,\u001b[49m\u001b[43m \u001b[49m\u001b[43my_train\u001b[49m\u001b[43m)\u001b[49m\n\u001b[1;32m     33\u001b[0m \u001b[38;5;28mprint\u001b[39m(\u001b[38;5;124mf\u001b[39m\u001b[38;5;124m\"\u001b[39m\u001b[38;5;124mFinished fitting!\u001b[39m\u001b[38;5;124m\"\u001b[39m)\n\u001b[1;32m     35\u001b[0m \u001b[38;5;66;03m# Get the best hyperparameters\u001b[39;00m\n",
      "File \u001b[0;32m~/anaconda3/envs/env2801/lib/python3.10/site-packages/sklearn/model_selection/_search.py:874\u001b[0m, in \u001b[0;36mBaseSearchCV.fit\u001b[0;34m(self, X, y, groups, **fit_params)\u001b[0m\n\u001b[1;32m    868\u001b[0m     results \u001b[38;5;241m=\u001b[39m \u001b[38;5;28mself\u001b[39m\u001b[38;5;241m.\u001b[39m_format_results(\n\u001b[1;32m    869\u001b[0m         all_candidate_params, n_splits, all_out, all_more_results\n\u001b[1;32m    870\u001b[0m     )\n\u001b[1;32m    872\u001b[0m     \u001b[38;5;28;01mreturn\u001b[39;00m results\n\u001b[0;32m--> 874\u001b[0m \u001b[38;5;28;43mself\u001b[39;49m\u001b[38;5;241;43m.\u001b[39;49m\u001b[43m_run_search\u001b[49m\u001b[43m(\u001b[49m\u001b[43mevaluate_candidates\u001b[49m\u001b[43m)\u001b[49m\n\u001b[1;32m    876\u001b[0m \u001b[38;5;66;03m# multimetric is determined here because in the case of a callable\u001b[39;00m\n\u001b[1;32m    877\u001b[0m \u001b[38;5;66;03m# self.scoring the return type is only known after calling\u001b[39;00m\n\u001b[1;32m    878\u001b[0m first_test_score \u001b[38;5;241m=\u001b[39m all_out[\u001b[38;5;241m0\u001b[39m][\u001b[38;5;124m\"\u001b[39m\u001b[38;5;124mtest_scores\u001b[39m\u001b[38;5;124m\"\u001b[39m]\n",
      "File \u001b[0;32m~/anaconda3/envs/env2801/lib/python3.10/site-packages/sklearn/model_selection/_search.py:1388\u001b[0m, in \u001b[0;36mGridSearchCV._run_search\u001b[0;34m(self, evaluate_candidates)\u001b[0m\n\u001b[1;32m   1386\u001b[0m \u001b[38;5;28;01mdef\u001b[39;00m \u001b[38;5;21m_run_search\u001b[39m(\u001b[38;5;28mself\u001b[39m, evaluate_candidates):\n\u001b[1;32m   1387\u001b[0m     \u001b[38;5;124;03m\"\"\"Search all candidates in param_grid\"\"\"\u001b[39;00m\n\u001b[0;32m-> 1388\u001b[0m     \u001b[43mevaluate_candidates\u001b[49m\u001b[43m(\u001b[49m\u001b[43mParameterGrid\u001b[49m\u001b[43m(\u001b[49m\u001b[38;5;28;43mself\u001b[39;49m\u001b[38;5;241;43m.\u001b[39;49m\u001b[43mparam_grid\u001b[49m\u001b[43m)\u001b[49m\u001b[43m)\u001b[49m\n",
      "File \u001b[0;32m~/anaconda3/envs/env2801/lib/python3.10/site-packages/sklearn/model_selection/_search.py:821\u001b[0m, in \u001b[0;36mBaseSearchCV.fit.<locals>.evaluate_candidates\u001b[0;34m(candidate_params, cv, more_results)\u001b[0m\n\u001b[1;32m    813\u001b[0m \u001b[38;5;28;01mif\u001b[39;00m \u001b[38;5;28mself\u001b[39m\u001b[38;5;241m.\u001b[39mverbose \u001b[38;5;241m>\u001b[39m \u001b[38;5;241m0\u001b[39m:\n\u001b[1;32m    814\u001b[0m     \u001b[38;5;28mprint\u001b[39m(\n\u001b[1;32m    815\u001b[0m         \u001b[38;5;124m\"\u001b[39m\u001b[38;5;124mFitting \u001b[39m\u001b[38;5;132;01m{0}\u001b[39;00m\u001b[38;5;124m folds for each of \u001b[39m\u001b[38;5;132;01m{1}\u001b[39;00m\u001b[38;5;124m candidates,\u001b[39m\u001b[38;5;124m\"\u001b[39m\n\u001b[1;32m    816\u001b[0m         \u001b[38;5;124m\"\u001b[39m\u001b[38;5;124m totalling \u001b[39m\u001b[38;5;132;01m{2}\u001b[39;00m\u001b[38;5;124m fits\u001b[39m\u001b[38;5;124m\"\u001b[39m\u001b[38;5;241m.\u001b[39mformat(\n\u001b[1;32m    817\u001b[0m             n_splits, n_candidates, n_candidates \u001b[38;5;241m*\u001b[39m n_splits\n\u001b[1;32m    818\u001b[0m         )\n\u001b[1;32m    819\u001b[0m     )\n\u001b[0;32m--> 821\u001b[0m out \u001b[38;5;241m=\u001b[39m \u001b[43mparallel\u001b[49m\u001b[43m(\u001b[49m\n\u001b[1;32m    822\u001b[0m \u001b[43m    \u001b[49m\u001b[43mdelayed\u001b[49m\u001b[43m(\u001b[49m\u001b[43m_fit_and_score\u001b[49m\u001b[43m)\u001b[49m\u001b[43m(\u001b[49m\n\u001b[1;32m    823\u001b[0m \u001b[43m        \u001b[49m\u001b[43mclone\u001b[49m\u001b[43m(\u001b[49m\u001b[43mbase_estimator\u001b[49m\u001b[43m)\u001b[49m\u001b[43m,\u001b[49m\n\u001b[1;32m    824\u001b[0m \u001b[43m        \u001b[49m\u001b[43mX\u001b[49m\u001b[43m,\u001b[49m\n\u001b[1;32m    825\u001b[0m \u001b[43m        \u001b[49m\u001b[43my\u001b[49m\u001b[43m,\u001b[49m\n\u001b[1;32m    826\u001b[0m \u001b[43m        \u001b[49m\u001b[43mtrain\u001b[49m\u001b[38;5;241;43m=\u001b[39;49m\u001b[43mtrain\u001b[49m\u001b[43m,\u001b[49m\n\u001b[1;32m    827\u001b[0m \u001b[43m        \u001b[49m\u001b[43mtest\u001b[49m\u001b[38;5;241;43m=\u001b[39;49m\u001b[43mtest\u001b[49m\u001b[43m,\u001b[49m\n\u001b[1;32m    828\u001b[0m \u001b[43m        \u001b[49m\u001b[43mparameters\u001b[49m\u001b[38;5;241;43m=\u001b[39;49m\u001b[43mparameters\u001b[49m\u001b[43m,\u001b[49m\n\u001b[1;32m    829\u001b[0m \u001b[43m        \u001b[49m\u001b[43msplit_progress\u001b[49m\u001b[38;5;241;43m=\u001b[39;49m\u001b[43m(\u001b[49m\u001b[43msplit_idx\u001b[49m\u001b[43m,\u001b[49m\u001b[43m \u001b[49m\u001b[43mn_splits\u001b[49m\u001b[43m)\u001b[49m\u001b[43m,\u001b[49m\n\u001b[1;32m    830\u001b[0m \u001b[43m        \u001b[49m\u001b[43mcandidate_progress\u001b[49m\u001b[38;5;241;43m=\u001b[39;49m\u001b[43m(\u001b[49m\u001b[43mcand_idx\u001b[49m\u001b[43m,\u001b[49m\u001b[43m \u001b[49m\u001b[43mn_candidates\u001b[49m\u001b[43m)\u001b[49m\u001b[43m,\u001b[49m\n\u001b[1;32m    831\u001b[0m \u001b[43m        \u001b[49m\u001b[38;5;241;43m*\u001b[39;49m\u001b[38;5;241;43m*\u001b[39;49m\u001b[43mfit_and_score_kwargs\u001b[49m\u001b[43m,\u001b[49m\n\u001b[1;32m    832\u001b[0m \u001b[43m    \u001b[49m\u001b[43m)\u001b[49m\n\u001b[1;32m    833\u001b[0m \u001b[43m    \u001b[49m\u001b[38;5;28;43;01mfor\u001b[39;49;00m\u001b[43m \u001b[49m\u001b[43m(\u001b[49m\u001b[43mcand_idx\u001b[49m\u001b[43m,\u001b[49m\u001b[43m \u001b[49m\u001b[43mparameters\u001b[49m\u001b[43m)\u001b[49m\u001b[43m,\u001b[49m\u001b[43m \u001b[49m\u001b[43m(\u001b[49m\u001b[43msplit_idx\u001b[49m\u001b[43m,\u001b[49m\u001b[43m \u001b[49m\u001b[43m(\u001b[49m\u001b[43mtrain\u001b[49m\u001b[43m,\u001b[49m\u001b[43m \u001b[49m\u001b[43mtest\u001b[49m\u001b[43m)\u001b[49m\u001b[43m)\u001b[49m\u001b[43m \u001b[49m\u001b[38;5;129;43;01min\u001b[39;49;00m\u001b[43m \u001b[49m\u001b[43mproduct\u001b[49m\u001b[43m(\u001b[49m\n\u001b[1;32m    834\u001b[0m \u001b[43m        \u001b[49m\u001b[38;5;28;43menumerate\u001b[39;49m\u001b[43m(\u001b[49m\u001b[43mcandidate_params\u001b[49m\u001b[43m)\u001b[49m\u001b[43m,\u001b[49m\u001b[43m \u001b[49m\u001b[38;5;28;43menumerate\u001b[39;49m\u001b[43m(\u001b[49m\u001b[43mcv\u001b[49m\u001b[38;5;241;43m.\u001b[39;49m\u001b[43msplit\u001b[49m\u001b[43m(\u001b[49m\u001b[43mX\u001b[49m\u001b[43m,\u001b[49m\u001b[43m \u001b[49m\u001b[43my\u001b[49m\u001b[43m,\u001b[49m\u001b[43m \u001b[49m\u001b[43mgroups\u001b[49m\u001b[43m)\u001b[49m\u001b[43m)\u001b[49m\n\u001b[1;32m    835\u001b[0m \u001b[43m    \u001b[49m\u001b[43m)\u001b[49m\n\u001b[1;32m    836\u001b[0m \u001b[43m\u001b[49m\u001b[43m)\u001b[49m\n\u001b[1;32m    838\u001b[0m \u001b[38;5;28;01mif\u001b[39;00m \u001b[38;5;28mlen\u001b[39m(out) \u001b[38;5;241m<\u001b[39m \u001b[38;5;241m1\u001b[39m:\n\u001b[1;32m    839\u001b[0m     \u001b[38;5;28;01mraise\u001b[39;00m \u001b[38;5;167;01mValueError\u001b[39;00m(\n\u001b[1;32m    840\u001b[0m         \u001b[38;5;124m\"\u001b[39m\u001b[38;5;124mNo fits were performed. \u001b[39m\u001b[38;5;124m\"\u001b[39m\n\u001b[1;32m    841\u001b[0m         \u001b[38;5;124m\"\u001b[39m\u001b[38;5;124mWas the CV iterator empty? \u001b[39m\u001b[38;5;124m\"\u001b[39m\n\u001b[1;32m    842\u001b[0m         \u001b[38;5;124m\"\u001b[39m\u001b[38;5;124mWere there no candidates?\u001b[39m\u001b[38;5;124m\"\u001b[39m\n\u001b[1;32m    843\u001b[0m     )\n",
      "File \u001b[0;32m~/anaconda3/envs/env2801/lib/python3.10/site-packages/sklearn/utils/parallel.py:63\u001b[0m, in \u001b[0;36mParallel.__call__\u001b[0;34m(self, iterable)\u001b[0m\n\u001b[1;32m     58\u001b[0m config \u001b[38;5;241m=\u001b[39m get_config()\n\u001b[1;32m     59\u001b[0m iterable_with_config \u001b[38;5;241m=\u001b[39m (\n\u001b[1;32m     60\u001b[0m     (_with_config(delayed_func, config), args, kwargs)\n\u001b[1;32m     61\u001b[0m     \u001b[38;5;28;01mfor\u001b[39;00m delayed_func, args, kwargs \u001b[38;5;129;01min\u001b[39;00m iterable\n\u001b[1;32m     62\u001b[0m )\n\u001b[0;32m---> 63\u001b[0m \u001b[38;5;28;01mreturn\u001b[39;00m \u001b[38;5;28;43msuper\u001b[39;49m\u001b[43m(\u001b[49m\u001b[43m)\u001b[49m\u001b[38;5;241;43m.\u001b[39;49m\u001b[38;5;21;43m__call__\u001b[39;49m\u001b[43m(\u001b[49m\u001b[43miterable_with_config\u001b[49m\u001b[43m)\u001b[49m\n",
      "File \u001b[0;32m~/anaconda3/envs/env2801/lib/python3.10/site-packages/joblib/parallel.py:1098\u001b[0m, in \u001b[0;36mParallel.__call__\u001b[0;34m(self, iterable)\u001b[0m\n\u001b[1;32m   1095\u001b[0m     \u001b[38;5;28mself\u001b[39m\u001b[38;5;241m.\u001b[39m_iterating \u001b[38;5;241m=\u001b[39m \u001b[38;5;28;01mFalse\u001b[39;00m\n\u001b[1;32m   1097\u001b[0m \u001b[38;5;28;01mwith\u001b[39;00m \u001b[38;5;28mself\u001b[39m\u001b[38;5;241m.\u001b[39m_backend\u001b[38;5;241m.\u001b[39mretrieval_context():\n\u001b[0;32m-> 1098\u001b[0m     \u001b[38;5;28;43mself\u001b[39;49m\u001b[38;5;241;43m.\u001b[39;49m\u001b[43mretrieve\u001b[49m\u001b[43m(\u001b[49m\u001b[43m)\u001b[49m\n\u001b[1;32m   1099\u001b[0m \u001b[38;5;66;03m# Make sure that we get a last message telling us we are done\u001b[39;00m\n\u001b[1;32m   1100\u001b[0m elapsed_time \u001b[38;5;241m=\u001b[39m time\u001b[38;5;241m.\u001b[39mtime() \u001b[38;5;241m-\u001b[39m \u001b[38;5;28mself\u001b[39m\u001b[38;5;241m.\u001b[39m_start_time\n",
      "File \u001b[0;32m~/anaconda3/envs/env2801/lib/python3.10/site-packages/joblib/parallel.py:997\u001b[0m, in \u001b[0;36mParallel.retrieve\u001b[0;34m(self)\u001b[0m\n\u001b[1;32m    991\u001b[0m \u001b[38;5;28;01mif\u001b[39;00m (backend \u001b[38;5;129;01mis\u001b[39;00m \u001b[38;5;129;01mnot\u001b[39;00m \u001b[38;5;28;01mNone\u001b[39;00m \u001b[38;5;129;01mand\u001b[39;00m\n\u001b[1;32m    992\u001b[0m         \u001b[38;5;28mhasattr\u001b[39m(backend, \u001b[38;5;124m'\u001b[39m\u001b[38;5;124mabort_everything\u001b[39m\u001b[38;5;124m'\u001b[39m)):\n\u001b[1;32m    993\u001b[0m     \u001b[38;5;66;03m# If the backend is managed externally we need to make sure\u001b[39;00m\n\u001b[1;32m    994\u001b[0m     \u001b[38;5;66;03m# to leave it in a working state to allow for future jobs\u001b[39;00m\n\u001b[1;32m    995\u001b[0m     \u001b[38;5;66;03m# scheduling.\u001b[39;00m\n\u001b[1;32m    996\u001b[0m     ensure_ready \u001b[38;5;241m=\u001b[39m \u001b[38;5;28mself\u001b[39m\u001b[38;5;241m.\u001b[39m_managed_backend\n\u001b[0;32m--> 997\u001b[0m     \u001b[43mbackend\u001b[49m\u001b[38;5;241;43m.\u001b[39;49m\u001b[43mabort_everything\u001b[49m\u001b[43m(\u001b[49m\u001b[43mensure_ready\u001b[49m\u001b[38;5;241;43m=\u001b[39;49m\u001b[43mensure_ready\u001b[49m\u001b[43m)\u001b[49m\n\u001b[1;32m    998\u001b[0m \u001b[38;5;28;01mraise\u001b[39;00m\n",
      "File \u001b[0;32m~/anaconda3/envs/env2801/lib/python3.10/site-packages/joblib/_parallel_backends.py:586\u001b[0m, in \u001b[0;36mLokyBackend.abort_everything\u001b[0;34m(self, ensure_ready)\u001b[0m\n\u001b[1;32m    583\u001b[0m \u001b[38;5;28;01mdef\u001b[39;00m \u001b[38;5;21mabort_everything\u001b[39m(\u001b[38;5;28mself\u001b[39m, ensure_ready\u001b[38;5;241m=\u001b[39m\u001b[38;5;28;01mTrue\u001b[39;00m):\n\u001b[1;32m    584\u001b[0m     \u001b[38;5;124;03m\"\"\"Shutdown the workers and restart a new one with the same parameters\u001b[39;00m\n\u001b[1;32m    585\u001b[0m \u001b[38;5;124;03m    \"\"\"\u001b[39;00m\n\u001b[0;32m--> 586\u001b[0m     \u001b[38;5;28;43mself\u001b[39;49m\u001b[38;5;241;43m.\u001b[39;49m\u001b[43m_workers\u001b[49m\u001b[38;5;241;43m.\u001b[39;49m\u001b[43mterminate\u001b[49m\u001b[43m(\u001b[49m\u001b[43mkill_workers\u001b[49m\u001b[38;5;241;43m=\u001b[39;49m\u001b[38;5;28;43;01mTrue\u001b[39;49;00m\u001b[43m)\u001b[49m\n\u001b[1;32m    587\u001b[0m     \u001b[38;5;28mself\u001b[39m\u001b[38;5;241m.\u001b[39m_workers \u001b[38;5;241m=\u001b[39m \u001b[38;5;28;01mNone\u001b[39;00m\n\u001b[1;32m    589\u001b[0m     \u001b[38;5;28;01mif\u001b[39;00m ensure_ready:\n",
      "File \u001b[0;32m~/anaconda3/envs/env2801/lib/python3.10/site-packages/joblib/executor.py:74\u001b[0m, in \u001b[0;36mMemmappingExecutor.terminate\u001b[0;34m(self, kill_workers)\u001b[0m\n\u001b[1;32m     73\u001b[0m \u001b[38;5;28;01mdef\u001b[39;00m \u001b[38;5;21mterminate\u001b[39m(\u001b[38;5;28mself\u001b[39m, kill_workers\u001b[38;5;241m=\u001b[39m\u001b[38;5;28;01mFalse\u001b[39;00m):\n\u001b[0;32m---> 74\u001b[0m     \u001b[38;5;28;43mself\u001b[39;49m\u001b[38;5;241;43m.\u001b[39;49m\u001b[43mshutdown\u001b[49m\u001b[43m(\u001b[49m\u001b[43mkill_workers\u001b[49m\u001b[38;5;241;43m=\u001b[39;49m\u001b[43mkill_workers\u001b[49m\u001b[43m)\u001b[49m\n\u001b[1;32m     75\u001b[0m     \u001b[38;5;28;01mif\u001b[39;00m kill_workers:\n\u001b[1;32m     76\u001b[0m         \u001b[38;5;66;03m# When workers are killed in such a brutal manner, they cannot\u001b[39;00m\n\u001b[1;32m     77\u001b[0m         \u001b[38;5;66;03m# execute the finalizer of their shared memmaps. The refcount of\u001b[39;00m\n\u001b[0;32m   (...)\u001b[0m\n\u001b[1;32m     83\u001b[0m \n\u001b[1;32m     84\u001b[0m         \u001b[38;5;66;03m# unregister temporary resources from all contexts\u001b[39;00m\n\u001b[1;32m     85\u001b[0m         \u001b[38;5;28;01mwith\u001b[39;00m \u001b[38;5;28mself\u001b[39m\u001b[38;5;241m.\u001b[39m_submit_resize_lock:\n",
      "File \u001b[0;32m~/anaconda3/envs/env2801/lib/python3.10/site-packages/joblib/externals/loky/process_executor.py:1199\u001b[0m, in \u001b[0;36mProcessPoolExecutor.shutdown\u001b[0;34m(self, wait, kill_workers)\u001b[0m\n\u001b[1;32m   1196\u001b[0m         \u001b[38;5;28mself\u001b[39m\u001b[38;5;241m.\u001b[39m_executor_manager_thread_wakeup\u001b[38;5;241m.\u001b[39mwakeup()\n\u001b[1;32m   1198\u001b[0m \u001b[38;5;28;01mif\u001b[39;00m executor_manager_thread \u001b[38;5;129;01mis\u001b[39;00m \u001b[38;5;129;01mnot\u001b[39;00m \u001b[38;5;28;01mNone\u001b[39;00m \u001b[38;5;129;01mand\u001b[39;00m wait:\n\u001b[0;32m-> 1199\u001b[0m     \u001b[43mexecutor_manager_thread\u001b[49m\u001b[38;5;241;43m.\u001b[39;49m\u001b[43mjoin\u001b[49m\u001b[43m(\u001b[49m\u001b[43m)\u001b[49m\n\u001b[1;32m   1201\u001b[0m \u001b[38;5;66;03m# To reduce the risk of opening too many files, remove references to\u001b[39;00m\n\u001b[1;32m   1202\u001b[0m \u001b[38;5;66;03m# objects that use file descriptors.\u001b[39;00m\n\u001b[1;32m   1203\u001b[0m \u001b[38;5;28mself\u001b[39m\u001b[38;5;241m.\u001b[39m_executor_manager_thread \u001b[38;5;241m=\u001b[39m \u001b[38;5;28;01mNone\u001b[39;00m\n",
      "File \u001b[0;32m~/anaconda3/envs/env2801/lib/python3.10/threading.py:1089\u001b[0m, in \u001b[0;36mThread.join\u001b[0;34m(self, timeout)\u001b[0m\n\u001b[1;32m   1086\u001b[0m     \u001b[38;5;28;01mraise\u001b[39;00m \u001b[38;5;167;01mRuntimeError\u001b[39;00m(\u001b[38;5;124m\"\u001b[39m\u001b[38;5;124mcannot join current thread\u001b[39m\u001b[38;5;124m\"\u001b[39m)\n\u001b[1;32m   1088\u001b[0m \u001b[38;5;28;01mif\u001b[39;00m timeout \u001b[38;5;129;01mis\u001b[39;00m \u001b[38;5;28;01mNone\u001b[39;00m:\n\u001b[0;32m-> 1089\u001b[0m     \u001b[38;5;28;43mself\u001b[39;49m\u001b[38;5;241;43m.\u001b[39;49m\u001b[43m_wait_for_tstate_lock\u001b[49m\u001b[43m(\u001b[49m\u001b[43m)\u001b[49m\n\u001b[1;32m   1090\u001b[0m \u001b[38;5;28;01melse\u001b[39;00m:\n\u001b[1;32m   1091\u001b[0m     \u001b[38;5;66;03m# the behavior of a negative timeout isn't documented, but\u001b[39;00m\n\u001b[1;32m   1092\u001b[0m     \u001b[38;5;66;03m# historically .join(timeout=x) for x<0 has acted as if timeout=0\u001b[39;00m\n\u001b[1;32m   1093\u001b[0m     \u001b[38;5;28mself\u001b[39m\u001b[38;5;241m.\u001b[39m_wait_for_tstate_lock(timeout\u001b[38;5;241m=\u001b[39m\u001b[38;5;28mmax\u001b[39m(timeout, \u001b[38;5;241m0\u001b[39m))\n",
      "File \u001b[0;32m~/anaconda3/envs/env2801/lib/python3.10/threading.py:1109\u001b[0m, in \u001b[0;36mThread._wait_for_tstate_lock\u001b[0;34m(self, block, timeout)\u001b[0m\n\u001b[1;32m   1106\u001b[0m     \u001b[38;5;28;01mreturn\u001b[39;00m\n\u001b[1;32m   1108\u001b[0m \u001b[38;5;28;01mtry\u001b[39;00m:\n\u001b[0;32m-> 1109\u001b[0m     \u001b[38;5;28;01mif\u001b[39;00m \u001b[43mlock\u001b[49m\u001b[38;5;241;43m.\u001b[39;49m\u001b[43macquire\u001b[49m\u001b[43m(\u001b[49m\u001b[43mblock\u001b[49m\u001b[43m,\u001b[49m\u001b[43m \u001b[49m\u001b[43mtimeout\u001b[49m\u001b[43m)\u001b[49m:\n\u001b[1;32m   1110\u001b[0m         lock\u001b[38;5;241m.\u001b[39mrelease()\n\u001b[1;32m   1111\u001b[0m         \u001b[38;5;28mself\u001b[39m\u001b[38;5;241m.\u001b[39m_stop()\n",
      "\u001b[0;31mKeyboardInterrupt\u001b[0m: "
     ]
    }
   ],
   "source": [
    "from sklearn.ensemble import GradientBoostingRegressor\n",
    "from sklearn.model_selection import GridSearchCV\n",
    "from sklearn.metrics import mean_absolute_error, mean_squared_error, r2_score\n",
    "from scipy.stats import randint\n",
    "\n",
    "# Define your parameter grid for hyperparameter tuning\n",
    "param_grid = {\n",
    "    'n_estimators': [100, 150, 200],  # Number of boosting stages\n",
    "#     'learning_rate': [0.01, 0.1, 0.3],  # Learning rate\n",
    "#     'max_depth': [3, 5, None],  # Maximum depth of regression estimators\n",
    "#     'min_samples_split': [2, 3, 6],  # Minimum number of samples required to split an internal node\n",
    "#     'min_samples_leaf': [1, 3, 6],  # Minimum number of samples required to be at a leaf node\n",
    "#     'subsample': [0.8, 0.9, 1.0],  # Subsample ratio of samples for fitting individual base learners\n",
    "#     'random_state': [42]  # Seed for reproducibility\n",
    "}\n",
    "\n",
    "# Create an instance of GradientBoostingRegressor\n",
    "gbr = GradientBoostingRegressor()\n",
    "\n",
    "# Create GridSearchCV object\n",
    "print(f\"Start GridSearchCV...\")\n",
    "grid_search = GridSearchCV(gbr, \n",
    "                           param_grid=param_grid, \n",
    "                           cv=5, \n",
    "                           verbose=10,\n",
    "                           n_jobs=-1,\n",
    "                           scoring='neg_mean_squared_error')\n",
    "print(f\"Finished GridSearchCV!\")\n",
    "\n",
    "# Fit the model with grid search for hyperparameter tuning\n",
    "print(f\"Start fitting...\")\n",
    "grid_search.fit(X_train, y_train)\n",
    "print(f\"Finished fitting!\")\n",
    "\n",
    "# Get the best hyperparameters\n",
    "best_params = grid_search.best_params_\n",
    "\n",
    "# Create an instance of GradientBoostingRegressor with the best hyperparameters\n",
    "gbr_best = GradientBoostingRegressor(**best_params)\n",
    "\n",
    "# Fit the model with the best hyperparameters\n",
    "gbr_best.fit(X_train, y_train)\n",
    "\n",
    "# Make predictions\n",
    "y_pred = gbr_best.predict(X_test)\n",
    "\n",
    "# Calculate evaluation metrics\n",
    "mae = mean_absolute_error(y_true=y_test, y_pred=y_pred)\n",
    "mse = mean_squared_error(y_true=y_test, y_pred=y_pred, squared=True)\n",
    "rmse = mean_squared_error(y_true=y_test, y_pred=y_pred, squared=False)\n",
    "pcc, _ = pearsonr(y_test, y_pred)\n",
    "scc, _ = spearmanr(y_test, y_pred)\n",
    "r2 = r2_score(y_test, y_pred)\n",
    "\n",
    "# Print evaluation metrics\n",
    "print(\"Best Hyperparameters: \", best_params)\n",
    "print(\"MAE  :\", mae)\n",
    "print(\"MSE  :\", mse)\n",
    "print(\"RMSE :\", rmse)\n",
    "print(\"PCC  :\", pcc)\n",
    "print(\"SCC  :\", scc)\n",
    "print(\"R2   :\", r2)"
   ]
  },
  {
   "cell_type": "code",
   "execution_count": 49,
   "id": "56bd92e3",
   "metadata": {},
   "outputs": [
    {
     "name": "stdout",
     "output_type": "stream",
     "text": [
      "MAE  : 1.9700595586832526\n",
      "MSE  : 6.43330385305926\n",
      "RMSE : 2.5363958391897863\n",
      "PCC  : 0.3194547546295964\n",
      "SCC  : 0.33296268479824437\n",
      "R2   : 0.10087704327601832\n"
     ]
    }
   ],
   "source": [
    "from sklearn.ensemble import GradientBoostingRegressor\n",
    "\n",
    "gbr = GradientBoostingRegressor()\n",
    "gbr.fit(X_train, y_train)\n",
    "\n",
    "y_pred = gbr.predict(X_test)\n",
    "\n",
    "mae = mean_absolute_error(y_true=y_test, y_pred=y_pred)\n",
    "mse = mean_squared_error(y_true=y_test, y_pred=y_pred, squared=True)\n",
    "rmse = mean_squared_error(y_true=y_test, y_pred=y_pred, squared=False)\n",
    "pcc, _ = pearsonr(y_test, y_pred)\n",
    "scc, _ = spearmanr(y_test, y_pred)\n",
    "r2 = r2_score(y_test, y_pred)\n",
    "  \n",
    "print(\"MAE  :\", mae)\n",
    "print(\"MSE  :\", mse)\n",
    "print(\"RMSE :\", rmse)\n",
    "print(\"PCC  :\", pcc)\n",
    "print(\"SCC  :\", scc)\n",
    "print(\"R2   :\", r2)"
   ]
  },
  {
   "cell_type": "markdown",
   "id": "713e31c5",
   "metadata": {},
   "source": [
    "## Random Forest <a name=\"random-forest\"/>"
   ]
  },
  {
   "cell_type": "code",
   "execution_count": 19,
   "id": "88125956",
   "metadata": {
    "collapsed": true,
    "jupyter": {
     "outputs_hidden": true
    }
   },
   "outputs": [
    {
     "name": "stderr",
     "output_type": "stream",
     "text": [
      "[Parallel(n_jobs=-1)]: Using backend ThreadingBackend with 48 concurrent workers.\n"
     ]
    },
    {
     "name": "stdout",
     "output_type": "stream",
     "text": [
      "building tree 1 of 100\n",
      "building tree 2 of 100\n",
      "building tree 3 of 100\n",
      "building tree 4 of 100\n",
      "building tree 5 of 100\n",
      "building tree 6 of 100\n",
      "building tree 7 of 100\n",
      "building tree 8 of 100\n",
      "building tree 9 of 100\n",
      "building tree 10 of 100\n",
      "building tree 11 of 100\n",
      "building tree 12 of 100\n",
      "building tree 13 of 100\n",
      "building tree 14 of 100\n",
      "building tree 15 of 100\n",
      "building tree 16 of 100\n",
      "building tree 17 of 100\n",
      "building tree 18 of 100\n",
      "building tree 19 of 100\n",
      "building tree 20 of 100\n",
      "building tree 21 of 100\n",
      "building tree 22 of 100\n",
      "building tree 23 of 100\n",
      "building tree 24 of 100\n",
      "building tree 25 of 100\n",
      "building tree 26 of 100\n",
      "building tree 27 of 100\n",
      "building tree 28 of 100\n",
      "building tree 29 of 100\n",
      "building tree 30 of 100\n",
      "building tree 31 of 100\n",
      "building tree 32 of 100\n",
      "building tree 33 of 100\n",
      "building tree 34 of 100\n",
      "building tree 35 of 100\n",
      "building tree 36 of 100\n",
      "building tree 37 of 100\n",
      "building tree 38 of 100\n",
      "building tree 39 of 100\n",
      "building tree 40 of 100\n",
      "building tree 41 of 100\n",
      "building tree 42 of 100\n",
      "building tree 43 of 100\n",
      "building tree 44 of 100\n",
      "building tree 45 of 100\n",
      "building tree 46 of 100\n",
      "building tree 47 of 100\n",
      "building tree 48 of 100\n",
      "building tree 49 of 100\n",
      "building tree 50 of 100\n"
     ]
    },
    {
     "name": "stderr",
     "output_type": "stream",
     "text": [
      "[Parallel(n_jobs=-1)]: Done   2 tasks      | elapsed:   31.8s\n"
     ]
    },
    {
     "name": "stdout",
     "output_type": "stream",
     "text": [
      "building tree 51 of 100\n",
      "building tree 52 of 100\n",
      "building tree 53 of 100\n",
      "building tree 54 of 100\n",
      "building tree 55 of 100\n",
      "building tree 56 of 100\n",
      "building tree 57 of 100\n",
      "building tree 58 of 100\n",
      "building tree 59 of 100\n",
      "building tree 60 of 100\n",
      "building tree 61 of 100\n",
      "building tree 62 of 100\n",
      "building tree 63 of 100\n",
      "building tree 64 of 100\n",
      "building tree 65 of 100\n",
      "building tree 66 of 100\n",
      "building tree 67 of 100\n",
      "building tree 68 of 100\n",
      "building tree 69 of 100\n",
      "building tree 70 of 100\n",
      "building tree 71 of 100\n",
      "building tree 72 of 100\n",
      "building tree 73 of 100\n",
      "building tree 74 of 100\n",
      "building tree 75 of 100\n",
      "building tree 76 of 100\n",
      "building tree 77 of 100\n",
      "building tree 78 of 100\n",
      "building tree 79 of 100\n",
      "building tree 80 of 100\n",
      "building tree 81 of 100\n",
      "building tree 82 of 100\n"
     ]
    },
    {
     "name": "stderr",
     "output_type": "stream",
     "text": [
      "[Parallel(n_jobs=-1)]: Done  31 out of 100 | elapsed:   34.9s remaining:  1.3min\n"
     ]
    },
    {
     "name": "stdout",
     "output_type": "stream",
     "text": [
      "building tree 83 of 100\n",
      "building tree 84 of 100\n",
      "building tree 85 of 100\n",
      "building tree 86 of 100\n",
      "building tree 87 of 100\n",
      "building tree 88 of 100\n",
      "building tree 89 of 100\n",
      "building tree 90 of 100\n",
      "building tree 91 of 100\n",
      "building tree 92 of 100\n",
      "building tree 93 of 100\n",
      "building tree 94 of 100\n",
      "building tree 95 of 100\n",
      "building tree 96 of 100\n",
      "building tree 97 of 100\n",
      "building tree 98 of 100\n",
      "building tree 99 of 100\n",
      "building tree 100 of 100\n"
     ]
    },
    {
     "name": "stderr",
     "output_type": "stream",
     "text": [
      "[Parallel(n_jobs=-1)]: Done  57 out of 100 | elapsed:  1.1min remaining:   49.6s\n",
      "[Parallel(n_jobs=-1)]: Done  83 out of 100 | elapsed:  1.1min remaining:   14.0s\n"
     ]
    },
    {
     "name": "stdout",
     "output_type": "stream",
     "text": [
      "0.10630168858682032\n"
     ]
    },
    {
     "name": "stderr",
     "output_type": "stream",
     "text": [
      "[Parallel(n_jobs=-1)]: Done 100 out of 100 | elapsed:  1.4min finished\n",
      "[Parallel(n_jobs=48)]: Using backend ThreadingBackend with 48 concurrent workers.\n",
      "[Parallel(n_jobs=48)]: Done   2 tasks      | elapsed:    0.0s\n",
      "[Parallel(n_jobs=48)]: Done  31 out of 100 | elapsed:    0.0s remaining:    0.1s\n",
      "[Parallel(n_jobs=48)]: Done  57 out of 100 | elapsed:    0.0s remaining:    0.0s\n",
      "[Parallel(n_jobs=48)]: Done  83 out of 100 | elapsed:    0.0s remaining:    0.0s\n",
      "[Parallel(n_jobs=48)]: Done 100 out of 100 | elapsed:    0.0s finished\n"
     ]
    }
   ],
   "source": [
    "from sklearn.ensemble import RandomForestRegressor\n",
    "\n",
    "rfregr = RandomForestRegressor(n_jobs=-1, verbose=4)\n",
    "rfregr.fit(X_train, y_train)\n",
    "print(rfregr.score(X_test, y_test))"
   ]
  },
  {
   "cell_type": "code",
   "execution_count": 20,
   "id": "3463a254",
   "metadata": {},
   "outputs": [
    {
     "name": "stdout",
     "output_type": "stream",
     "text": [
      "MAE  : 1.962961526146799\n",
      "MSE  : 6.394490038643246\n",
      "RMSE : 2.528732891913111\n",
      "PCC  : 0.3269068685604164\n",
      "SCC  : 0.3404552950023747\n",
      "R2   : 0.10630168858682032\n"
     ]
    },
    {
     "name": "stderr",
     "output_type": "stream",
     "text": [
      "[Parallel(n_jobs=48)]: Using backend ThreadingBackend with 48 concurrent workers.\n",
      "[Parallel(n_jobs=48)]: Done   2 tasks      | elapsed:    0.0s\n",
      "[Parallel(n_jobs=48)]: Done  31 out of 100 | elapsed:    0.0s remaining:    0.1s\n",
      "[Parallel(n_jobs=48)]: Done  57 out of 100 | elapsed:    0.0s remaining:    0.0s\n",
      "[Parallel(n_jobs=48)]: Done  83 out of 100 | elapsed:    0.0s remaining:    0.0s\n",
      "[Parallel(n_jobs=48)]: Done 100 out of 100 | elapsed:    0.0s finished\n"
     ]
    }
   ],
   "source": [
    "from sklearn.metrics import mean_absolute_error, mean_squared_error\n",
    "from scipy.stats import pearsonr, spearmanr\n",
    "  \n",
    "y_pred = rfregr.predict(X_test)\n",
    "\n",
    "mae = mean_absolute_error(y_true=y_test, y_pred=y_pred)\n",
    "mse = mean_squared_error(y_true=y_test, y_pred=y_pred, squared=True)\n",
    "rmse = mean_squared_error(y_true=y_test, y_pred=y_pred, squared=False)\n",
    "pcc, _ = pearsonr(y_test, y_pred)\n",
    "scc, _ = spearmanr(y_test, y_pred)\n",
    "r2 = r2_score(y_test, y_pred) \n",
    "  \n",
    "print(\"MAE  :\", mae)\n",
    "print(\"MSE  :\", mse)\n",
    "print(\"RMSE :\", rmse)\n",
    "print(\"PCC  :\", pcc)\n",
    "print(\"SCC  :\", scc)\n",
    "print(\"R2   :\", r2)"
   ]
  },
  {
   "cell_type": "markdown",
   "id": "d9c86f5d",
   "metadata": {},
   "source": [
    "## Drug Mean\n",
    "\n",
    "In this section we are going to calculate the performance if we would exclusively predict the drug mean from the training set."
   ]
  },
  {
   "cell_type": "code",
   "execution_count": 92,
   "id": "85c65765",
   "metadata": {},
   "outputs": [
    {
     "name": "stdout",
     "output_type": "stream",
     "text": [
      "Finished reading drug response matrix: (137835, 9)\n"
     ]
    },
    {
     "data": {
      "text/html": [
       "<div>\n",
       "<style scoped>\n",
       "    .dataframe tbody tr th:only-of-type {\n",
       "        vertical-align: middle;\n",
       "    }\n",
       "\n",
       "    .dataframe tbody tr th {\n",
       "        vertical-align: top;\n",
       "    }\n",
       "\n",
       "    .dataframe thead th {\n",
       "        text-align: right;\n",
       "    }\n",
       "</style>\n",
       "<table border=\"1\" class=\"dataframe\">\n",
       "  <thead>\n",
       "    <tr style=\"text-align: right;\">\n",
       "      <th></th>\n",
       "      <th>DATASET</th>\n",
       "      <th>CELL_LINE_NAME</th>\n",
       "      <th>DRUG_NAME</th>\n",
       "      <th>DRUG_ID</th>\n",
       "      <th>SANGER_MODEL_ID</th>\n",
       "      <th>AUC</th>\n",
       "      <th>RMSE</th>\n",
       "      <th>Z_SCORE</th>\n",
       "      <th>LN_IC50</th>\n",
       "    </tr>\n",
       "  </thead>\n",
       "  <tbody>\n",
       "    <tr>\n",
       "      <th>333161</th>\n",
       "      <td>GDSC2</td>\n",
       "      <td>PFSK-1</td>\n",
       "      <td>Camptothecin</td>\n",
       "      <td>1003</td>\n",
       "      <td>SIDM01132</td>\n",
       "      <td>0.930105</td>\n",
       "      <td>0.088999</td>\n",
       "      <td>0.432482</td>\n",
       "      <td>-1.462148</td>\n",
       "    </tr>\n",
       "    <tr>\n",
       "      <th>333162</th>\n",
       "      <td>GDSC2</td>\n",
       "      <td>A673</td>\n",
       "      <td>Camptothecin</td>\n",
       "      <td>1003</td>\n",
       "      <td>SIDM00848</td>\n",
       "      <td>0.614932</td>\n",
       "      <td>0.111423</td>\n",
       "      <td>-1.420322</td>\n",
       "      <td>-4.869447</td>\n",
       "    </tr>\n",
       "    <tr>\n",
       "      <th>333163</th>\n",
       "      <td>GDSC2</td>\n",
       "      <td>ES5</td>\n",
       "      <td>Camptothecin</td>\n",
       "      <td>1003</td>\n",
       "      <td>SIDM00263</td>\n",
       "      <td>0.790953</td>\n",
       "      <td>0.142754</td>\n",
       "      <td>-0.599894</td>\n",
       "      <td>-3.360684</td>\n",
       "    </tr>\n",
       "  </tbody>\n",
       "</table>\n",
       "</div>"
      ],
      "text/plain": [
       "       DATASET CELL_LINE_NAME     DRUG_NAME  DRUG_ID SANGER_MODEL_ID  \\\n",
       "333161   GDSC2         PFSK-1  Camptothecin     1003       SIDM01132   \n",
       "333162   GDSC2           A673  Camptothecin     1003       SIDM00848   \n",
       "333163   GDSC2            ES5  Camptothecin     1003       SIDM00263   \n",
       "\n",
       "             AUC      RMSE   Z_SCORE   LN_IC50  \n",
       "333161  0.930105  0.088999  0.432482 -1.462148  \n",
       "333162  0.614932  0.111423 -1.420322 -4.869447  \n",
       "333163  0.790953  0.142754 -0.599894 -3.360684  "
      ]
     },
     "execution_count": 92,
     "metadata": {},
     "output_type": "execute_result"
    }
   ],
   "source": [
    "import pickle\n",
    "import pandas as pd \n",
    "\n",
    "path_to_drm = '../../data/processed/gdsc2/gdsc2_drm.pkl'\n",
    "\n",
    "with open(path_to_drm, 'rb') as f: \n",
    "    drm = pickle.load(f)\n",
    "    print(f\"Finished reading drug response matrix: {drm.shape}\")\n",
    "drm.head(3)"
   ]
  },
  {
   "cell_type": "code",
   "execution_count": 107,
   "id": "8626c878",
   "metadata": {},
   "outputs": [
    {
     "name": "stdout",
     "output_type": "stream",
     "text": [
      "train: 110,268\n",
      "test :  27,567\n"
     ]
    }
   ],
   "source": [
    "drm_train, drm_test = train_test_split(\n",
    "    drm, \n",
    "    test_size=0.2,\n",
    "    random_state=42,\n",
    "    stratify=drm['CELL_LINE_NAME']\n",
    ")\n",
    "print(f\"train: {drm_train.shape[0]:7,}\")\n",
    "print(f\"test : {drm_test.shape[0]:7,}\")"
   ]
  },
  {
   "cell_type": "code",
   "execution_count": 101,
   "id": "679adbb8",
   "metadata": {},
   "outputs": [
    {
     "data": {
      "text/html": [
       "<div>\n",
       "<style scoped>\n",
       "    .dataframe tbody tr th:only-of-type {\n",
       "        vertical-align: middle;\n",
       "    }\n",
       "\n",
       "    .dataframe tbody tr th {\n",
       "        vertical-align: top;\n",
       "    }\n",
       "\n",
       "    .dataframe thead th {\n",
       "        text-align: right;\n",
       "    }\n",
       "</style>\n",
       "<table border=\"1\" class=\"dataframe\">\n",
       "  <thead>\n",
       "    <tr style=\"text-align: right;\">\n",
       "      <th></th>\n",
       "      <th>DRUG_NAME</th>\n",
       "      <th>AVG_LN_IC50</th>\n",
       "    </tr>\n",
       "  </thead>\n",
       "  <tbody>\n",
       "    <tr>\n",
       "      <th>0</th>\n",
       "      <td>5-Fluorouracil</td>\n",
       "      <td>4.400241</td>\n",
       "    </tr>\n",
       "    <tr>\n",
       "      <th>1</th>\n",
       "      <td>ABT737</td>\n",
       "      <td>1.881357</td>\n",
       "    </tr>\n",
       "    <tr>\n",
       "      <th>2</th>\n",
       "      <td>AGI-5198</td>\n",
       "      <td>4.704752</td>\n",
       "    </tr>\n",
       "  </tbody>\n",
       "</table>\n",
       "</div>"
      ],
      "text/plain": [
       "        DRUG_NAME  AVG_LN_IC50\n",
       "0  5-Fluorouracil     4.400241\n",
       "1          ABT737     1.881357\n",
       "2        AGI-5198     4.704752"
      ]
     },
     "execution_count": 101,
     "metadata": {},
     "output_type": "execute_result"
    }
   ],
   "source": [
    "drug_mean_train = drm_train.groupby(['DRUG_NAME'])['LN_IC50'].mean().to_frame().reset_index()\n",
    "drug_mean_train.rename(columns={'LN_IC50': 'AVG_LN_IC50'}, inplace=True)\n",
    "drug_mean_train.head(3)"
   ]
  },
  {
   "cell_type": "code",
   "execution_count": 110,
   "id": "7f467c65",
   "metadata": {},
   "outputs": [
    {
     "name": "stdout",
     "output_type": "stream",
     "text": [
      "(27567, 10)\n"
     ]
    },
    {
     "data": {
      "text/html": [
       "<div>\n",
       "<style scoped>\n",
       "    .dataframe tbody tr th:only-of-type {\n",
       "        vertical-align: middle;\n",
       "    }\n",
       "\n",
       "    .dataframe tbody tr th {\n",
       "        vertical-align: top;\n",
       "    }\n",
       "\n",
       "    .dataframe thead th {\n",
       "        text-align: right;\n",
       "    }\n",
       "</style>\n",
       "<table border=\"1\" class=\"dataframe\">\n",
       "  <thead>\n",
       "    <tr style=\"text-align: right;\">\n",
       "      <th></th>\n",
       "      <th>DATASET</th>\n",
       "      <th>CELL_LINE_NAME</th>\n",
       "      <th>DRUG_NAME</th>\n",
       "      <th>DRUG_ID</th>\n",
       "      <th>SANGER_MODEL_ID</th>\n",
       "      <th>AUC</th>\n",
       "      <th>RMSE</th>\n",
       "      <th>Z_SCORE</th>\n",
       "      <th>LN_IC50</th>\n",
       "      <th>AVG_LN_IC50</th>\n",
       "    </tr>\n",
       "  </thead>\n",
       "  <tbody>\n",
       "    <tr>\n",
       "      <th>0</th>\n",
       "      <td>GDSC2</td>\n",
       "      <td>GOTO</td>\n",
       "      <td>Dinaciclib</td>\n",
       "      <td>1180</td>\n",
       "      <td>SIDM00544</td>\n",
       "      <td>0.735695</td>\n",
       "      <td>0.116286</td>\n",
       "      <td>0.797829</td>\n",
       "      <td>-1.478976</td>\n",
       "      <td>-2.675501</td>\n",
       "    </tr>\n",
       "    <tr>\n",
       "      <th>1</th>\n",
       "      <td>GDSC2</td>\n",
       "      <td>COR-L311</td>\n",
       "      <td>AZ960</td>\n",
       "      <td>1250</td>\n",
       "      <td>SIDM00509</td>\n",
       "      <td>0.841005</td>\n",
       "      <td>0.126621</td>\n",
       "      <td>-0.124919</td>\n",
       "      <td>1.680296</td>\n",
       "      <td>1.916362</td>\n",
       "    </tr>\n",
       "    <tr>\n",
       "      <th>2</th>\n",
       "      <td>GDSC2</td>\n",
       "      <td>SCC-25</td>\n",
       "      <td>Ruxolitinib</td>\n",
       "      <td>1507</td>\n",
       "      <td>SIDM01082</td>\n",
       "      <td>0.968012</td>\n",
       "      <td>0.056758</td>\n",
       "      <td>-0.522201</td>\n",
       "      <td>4.190730</td>\n",
       "      <td>4.789988</td>\n",
       "    </tr>\n",
       "  </tbody>\n",
       "</table>\n",
       "</div>"
      ],
      "text/plain": [
       "  DATASET CELL_LINE_NAME    DRUG_NAME  DRUG_ID SANGER_MODEL_ID       AUC  \\\n",
       "0   GDSC2           GOTO   Dinaciclib     1180       SIDM00544  0.735695   \n",
       "1   GDSC2       COR-L311        AZ960     1250       SIDM00509  0.841005   \n",
       "2   GDSC2         SCC-25  Ruxolitinib     1507       SIDM01082  0.968012   \n",
       "\n",
       "       RMSE   Z_SCORE   LN_IC50  AVG_LN_IC50  \n",
       "0  0.116286  0.797829 -1.478976    -2.675501  \n",
       "1  0.126621 -0.124919  1.680296     1.916362  \n",
       "2  0.056758 -0.522201  4.190730     4.789988  "
      ]
     },
     "execution_count": 110,
     "metadata": {},
     "output_type": "execute_result"
    }
   ],
   "source": [
    "drm_test_with_avg = pd.merge(drm_test, drug_mean_train, on='DRUG_NAME', how='left')\n",
    "print(drm_test_with_avg.shape)\n",
    "drm_test_with_avg.head(3)"
   ]
  },
  {
   "cell_type": "code",
   "execution_count": 115,
   "id": "66ceb9e4",
   "metadata": {},
   "outputs": [],
   "source": [
    "# --- Calculate metrics ---\n",
    "import numpy as np\n",
    "import pandas as pd\n",
    "from sklearn.metrics import mean_squared_error, mean_absolute_error, r2_score\n",
    "from scipy.stats     import pearsonr, spearmanr"
   ]
  },
  {
   "cell_type": "code",
   "execution_count": 120,
   "id": "eb1010eb",
   "metadata": {},
   "outputs": [
    {
     "name": "stdout",
     "output_type": "stream",
     "text": [
      "MSE : 2.4007143763336902\n",
      "RMSE: 1.5494238852985616\n",
      "MAE : 1.164739616495685\n",
      "PCC : 0.8137098935802614\n",
      "SCC : 0.7705617591171653\n",
      "R2  : 0.6620864191924242\n"
     ]
    }
   ],
   "source": [
    "y_true = drm_test_with_avg['LN_IC50'].values.tolist()\n",
    "y_pred = drm_test_with_avg['AVG_LN_IC50'].values.tolist()\n",
    "\n",
    "mse = mean_squared_error(y_true, y_pred)\n",
    "rmse = np.sqrt(mse)\n",
    "mae = mean_absolute_error(y_true, y_pred)\n",
    "pcc = pearsonr(y_true, y_pred).statistic\n",
    "scc = spearmanr(y_true, y_pred).statistic\n",
    "r2 = r2_score(y_true, y_pred)\n",
    "\n",
    "print(f\"MSE : {mse}\")\n",
    "print(f\"RMSE: {rmse}\")\n",
    "print(f\"MAE : {mae}\")\n",
    "print(f\"PCC : {pcc}\")\n",
    "print(f\"SCC : {scc}\")\n",
    "print(f\"R2  : {r2}\")"
   ]
  },
  {
   "cell_type": "code",
   "execution_count": null,
   "id": "9cf0d466",
   "metadata": {},
   "outputs": [],
   "source": []
  },
  {
   "cell_type": "code",
   "execution_count": null,
   "id": "76bb9fb5",
   "metadata": {},
   "outputs": [],
   "source": []
  },
  {
   "cell_type": "code",
   "execution_count": null,
   "id": "e9762fa0",
   "metadata": {},
   "outputs": [],
   "source": []
  }
 ],
 "metadata": {
  "kernelspec": {
   "display_name": "conda_env2801",
   "language": "python",
   "name": "conda_env2801"
  },
  "language_info": {
   "codemirror_mode": {
    "name": "ipython",
    "version": 3
   },
   "file_extension": ".py",
   "mimetype": "text/x-python",
   "name": "python",
   "nbconvert_exporter": "python",
   "pygments_lexer": "ipython3",
   "version": "3.10.4"
  }
 },
 "nbformat": 4,
 "nbformat_minor": 5
}
