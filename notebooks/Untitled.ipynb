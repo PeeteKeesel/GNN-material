{
 "cells": [
  {
   "cell_type": "code",
   "execution_count": null,
   "id": "4ca1cf16",
   "metadata": {},
   "outputs": [],
   "source": []
  },
  {
   "cell_type": "code",
   "execution_count": 6,
   "id": "75a04cae",
   "metadata": {},
   "outputs": [],
   "source": [
    "import torch\n",
    "import numpy as np"
   ]
  },
  {
   "cell_type": "code",
   "execution_count": 4,
   "id": "7b4fce42",
   "metadata": {},
   "outputs": [
    {
     "data": {
      "text/plain": [
       "[[tensor(2.3037, device='cuda:0'), tensor(2.3392, device='cuda:0')],\n",
       " [tensor(2.0801, device='cuda:0'), tensor(2.1618, device='cuda:0')],\n",
       " [tensor(2.0837, device='cuda:0'), tensor(1.7664, device='cuda:0')]]"
      ]
     },
     "execution_count": 4,
     "metadata": {},
     "output_type": "execute_result"
    }
   ],
   "source": [
    "t = [[torch.tensor(2.3037, device='cuda:0'), torch.tensor(2.3392, device='cuda:0')], \n",
    "     [torch.tensor(2.0801, device='cuda:0'), torch.tensor(2.1618, device='cuda:0')], \n",
    "     [torch.tensor(2.0837, device='cuda:0'), torch.tensor(1.7664, device='cuda:0')]]\n",
    "t"
   ]
  },
  {
   "cell_type": "code",
   "execution_count": 19,
   "id": "903e0fb3",
   "metadata": {},
   "outputs": [
    {
     "data": {
      "text/plain": [
       "2.1224835"
      ]
     },
     "execution_count": 19,
     "metadata": {},
     "output_type": "execute_result"
    }
   ],
   "source": [
    "np.mean(torch.tensor(t).cpu().numpy())"
   ]
  },
  {
   "cell_type": "code",
   "execution_count": 24,
   "id": "539618c7",
   "metadata": {},
   "outputs": [
    {
     "name": "stdout",
     "output_type": "stream",
     "text": [
      "0.123123   +- 0.2\n"
     ]
    }
   ],
   "source": [
    "print(f\"{0.1231234121231243132:<10f} +- {0.2}\")"
   ]
  },
  {
   "cell_type": "code",
   "execution_count": null,
   "id": "3cb74aa5",
   "metadata": {},
   "outputs": [],
   "source": []
  }
 ],
 "metadata": {
  "kernelspec": {
   "display_name": "conda_thesis",
   "language": "python",
   "name": "conda_thesis"
  },
  "language_info": {
   "codemirror_mode": {
    "name": "ipython",
    "version": 3
   },
   "file_extension": ".py",
   "mimetype": "text/x-python",
   "name": "python",
   "nbconvert_exporter": "python",
   "pygments_lexer": "ipython3",
   "version": "3.10.4"
  }
 },
 "nbformat": 4,
 "nbformat_minor": 5
}
