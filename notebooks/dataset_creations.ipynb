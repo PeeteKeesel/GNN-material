{
 "cells": [
  {
   "cell_type": "code",
   "execution_count": 10,
   "metadata": {},
   "outputs": [
    {
     "data": {
      "text/plain": [
       "'/Users/cwoest/Documents/Academics/Data_Science_UP/master_thesis/material/GNN-material/notebooks'"
      ]
     },
     "execution_count": 10,
     "metadata": {},
     "output_type": "execute_result"
    }
   ],
   "source": [
    "%pwd"
   ]
  },
  {
   "cell_type": "code",
   "execution_count": 1,
   "metadata": {},
   "outputs": [],
   "source": [
    "import torch\n",
    "import time\n",
    "import numpy as np\n",
    "import pandas as pd\n",
    "import matplotlib.pyplot as plt \n",
    "import seaborn as sns\n",
    "\n",
    "sns.set_theme(style=\"white\")\n",
    "\n",
    "import sys\n",
    "import os\n",
    "# Make sure everything is on the path.\n",
    "sys.path.insert(1, os.path.join(sys.path[0], '../src'))\n",
    "\n",
    "from src.preprocess.build_drug_response_matrix import (\n",
    "    get_gdsc_gene_expression,\n",
    "    cosmic_ids_to_cell_line_names\n",
    ")\n",
    "from src.utils.file_helper import (\n",
    "    compress_pickle,\n",
    "    decompress_pickle\n",
    ")"
   ]
  },
  {
   "cell_type": "code",
   "execution_count": 2,
   "metadata": {},
   "outputs": [
    {
     "name": "stdout",
     "output_type": "stream",
     "text": [
      "conda 4.10.3\n",
      "\n",
      "Note: you may need to restart the kernel to use updated packages.\n"
     ]
    }
   ],
   "source": [
    "%conda --version"
   ]
  },
  {
   "cell_type": "markdown",
   "metadata": {},
   "source": [
    "In this notebook we are going to create all the datasets.\n",
    "\n",
    "- `../../datasets/gdsc/screening_data/GDSC2_fitted_dose_response_25Feb20.xlsx`\n",
    "- `../../datasets/gdsc/screening_data/GDSC1_fitted_dose_response_25Feb20.xlsx`\n",
    "- `../../datasets/gdsc/screening_data/GDSC1_public_raw_data_25Feb20.csv`\n",
    "- `../../datasets/gdsc/screening_data/GDSC2_public_raw_data_25Feb20.csv`"
   ]
  },
  {
   "cell_type": "code",
   "execution_count": 2,
   "metadata": {},
   "outputs": [],
   "source": [
    "RAW_DATA_PATH = '../data/raw/'\n",
    "PROCESSED_DATA_PATH = '../data/processed/'"
   ]
  },
  {
   "cell_type": "markdown",
   "metadata": {},
   "source": [
    "# Drug response matrix"
   ]
  },
  {
   "cell_type": "code",
   "execution_count": 3,
   "metadata": {},
   "outputs": [],
   "source": [
    "PATH_TO_GDSC_SCREENING_DATA = '../../../datasets/gdsc/screening_data/'"
   ]
  },
  {
   "cell_type": "markdown",
   "metadata": {},
   "source": [
    "## IC50's"
   ]
  },
  {
   "cell_type": "code",
   "execution_count": 4,
   "metadata": {},
   "outputs": [
    {
     "name": "stdout",
     "output_type": "stream",
     "text": [
      "File `GDSC1_fitted_dose_response_25Feb20.xlsx` took 96.41459 seconds to import. It has shape (310904, 19)\n",
      "File `GDSC2_fitted_dose_response_25Feb20.xlsx` took 38.82771 seconds to import. It has shape (135242, 19)\n"
     ]
    }
   ],
   "source": [
    "GDSC1_IC50_FILE = 'GDSC1_fitted_dose_response_25Feb20.xlsx'\n",
    "GDSC2_IC50_FILE = 'GDSC2_fitted_dose_response_25Feb20.xlsx'\n",
    "\n",
    "# Read the IC50 files.\n",
    "# GDSC1\n",
    "start = time.time()\n",
    "gdsc1_ic50s = pd.read_excel(f'{PATH_TO_GDSC_SCREENING_DATA}{GDSC1_IC50_FILE}', header=0)\n",
    "print(f\"File `{GDSC1_IC50_FILE}` took {time.time()-start:.5f} seconds to import. It has shape {gdsc1_ic50s.shape}\")\n",
    "\n",
    "# GDSC2\n",
    "start = time.time()\n",
    "gdsc2_ic50s = pd.read_excel(f'{PATH_TO_GDSC_SCREENING_DATA}{GDSC2_IC50_FILE}', header=0)\n",
    "print(f\"File `{GDSC2_IC50_FILE}` took {time.time()-start:.5f} seconds to import. It has shape {gdsc2_ic50s.shape}\")"
   ]
  },
  {
   "cell_type": "code",
   "execution_count": 5,
   "metadata": {},
   "outputs": [
    {
     "name": "stdout",
     "output_type": "stream",
     "text": [
      "|    | DATASET   |   NLME_RESULT_ID |   NLME_CURVE_ID |   COSMIC_ID | CELL_LINE_NAME   | SANGER_MODEL_ID   | TCGA_DESC    |   DRUG_ID | DRUG_NAME   | PUTATIVE_TARGET   | PATHWAY_NAME   |   COMPANY_ID | WEBRELEASE   |   MIN_CONC |   MAX_CONC |   LN_IC50 |      AUC |     RMSE |   Z_SCORE |\n",
      "|---:|:----------|-----------------:|----------------:|------------:|:-----------------|:------------------|:-------------|----------:|:------------|:------------------|:---------------|-------------:|:-------------|-----------:|-----------:|----------:|---------:|---------:|----------:|\n",
      "|  0 | GDSC1     |              281 |        12974350 |      683665 | MC-CAR           | SIDM00636         | MM           |         1 | Erlotinib   | EGFR              | EGFR signaling |         1045 | Y            |   0.007813 |          2 |   2.39568 | 0.982114 | 0.022521 | -0.189576 |\n",
      "|  1 | GDSC1     |              281 |        12975300 |      684055 | ES3              | SIDM00265         | UNCLASSIFIED |         1 | Erlotinib   | EGFR              | EGFR signaling |         1045 | Y            |   0.007813 |          2 |   3.14092 | 0.984816 | 0.03184  |  0.508635 |\n",
      "|  2 | GDSC1     |              281 |        12975647 |      684057 | ES5              | SIDM00263         | UNCLASSIFIED |         1 | Erlotinib   | EGFR              | EGFR signaling |         1045 | Y            |   0.007813 |          2 |   3.96876 | 0.985693 | 0.026052 |  1.28423  |\n",
      "\n",
      "|    | DATASET   |   NLME_RESULT_ID |   NLME_CURVE_ID |   COSMIC_ID | CELL_LINE_NAME   | SANGER_MODEL_ID   | TCGA_DESC   |   DRUG_ID | DRUG_NAME    | PUTATIVE_TARGET   | PATHWAY_NAME    |   COMPANY_ID | WEBRELEASE   |   MIN_CONC |   MAX_CONC |   LN_IC50 |      AUC |     RMSE |   Z_SCORE |\n",
      "|---:|:----------|-----------------:|----------------:|------------:|:-----------------|:------------------|:------------|----------:|:-------------|:------------------|:----------------|-------------:|:-------------|-----------:|-----------:|----------:|---------:|---------:|----------:|\n",
      "|  0 | GDSC2     |              282 |        13320532 |      749709 | HCC1954          | SIDM00872         | BRCA        |      1003 | Camptothecin | TOP1              | DNA replication |         1046 | Y            |    9.8e-05 |        0.1 | -0.251083 | 0.975203 | 0.112373 |  0.906631 |\n",
      "|  1 | GDSC2     |              282 |        13320565 |      749710 | HCC1143          | SIDM00866         | BRCA        |      1003 | Camptothecin | TOP1              | DNA replication |         1046 | Y            |    9.8e-05 |        0.1 |  1.34332  | 0.978464 | 0.067577 |  1.68357  |\n",
      "|  2 | GDSC2     |              282 |        13320598 |      749711 | HCC1187          | SIDM00885         | BRCA        |      1003 | Camptothecin | TOP1              | DNA replication |         1046 | Y            |    9.8e-05 |        0.1 |  1.73699  | 0.9951   | 0.045205 |  1.8754   |\n"
     ]
    }
   ],
   "source": [
    "print(gdsc1_ic50s.head(3).to_markdown())\n",
    "print()\n",
    "print(gdsc2_ic50s.head(3).to_markdown())"
   ]
  },
  {
   "cell_type": "code",
   "execution_count": 6,
   "metadata": {},
   "outputs": [
    {
     "name": "stdout",
     "output_type": "stream",
     "text": [
      "(446146, 19)\n"
     ]
    }
   ],
   "source": [
    "# Join both datasets for analysis purposes.\n",
    "gdsc_ic50s_join = pd.concat([gdsc1_ic50s, gdsc2_ic50s], ignore_index=True)\n",
    "print(gdsc_ic50s_join.shape)\n",
    "assert gdsc_ic50s_join[gdsc_ic50s_join.index.duplicated()].shape[0] == 0\n",
    "assert gdsc_ic50s_join.shape[0] == gdsc1_ic50s.shape[0] + gdsc2_ic50s.shape[0]"
   ]
  },
  {
   "cell_type": "markdown",
   "metadata": {},
   "source": [
    "## Raw data"
   ]
  },
  {
   "cell_type": "code",
   "execution_count": 6,
   "metadata": {},
   "outputs": [
    {
     "name": "stderr",
     "output_type": "stream",
     "text": [
      "/var/folders/kv/l0jzxgbj1kggff_kd35bfzkw0000gn/T/ipykernel_14016/2266331805.py:7: DtypeWarning: Columns (1) have mixed types. Specify dtype option on import or set low_memory=False.\n",
      "  gdsc1_raw = pd.read_csv(f'{PATH_TO_GDSC_SCREENING_DATA}{GDSC1_RAW_FILE}', header=0)\n"
     ]
    },
    {
     "name": "stdout",
     "output_type": "stream",
     "text": [
      "File `GDSC1_public_raw_data_25Feb20.csv` took 16.18649 seconds to import. It has shape (5837703, 18)\n",
      "File `GDSC2_public_raw_data_25Feb20.csv` took 18.13408 seconds to import. It has shape (6646430, 18)\n"
     ]
    }
   ],
   "source": [
    "GDSC1_RAW_FILE = 'GDSC1_public_raw_data_25Feb20.csv'\n",
    "GDSC2_RAW_FILE = 'GDSC2_public_raw_data_25Feb20.csv'\n",
    "\n",
    "# Read the raw files.\n",
    "# GDSC1\n",
    "start = time.time()\n",
    "gdsc1_raw = pd.read_csv(f'{PATH_TO_GDSC_SCREENING_DATA}{GDSC1_RAW_FILE}', header=0)\n",
    "print(f\"File `{GDSC1_RAW_FILE}` took {time.time()-start:.5f} seconds to import. It has shape {gdsc1_raw.shape}\")\n",
    "\n",
    "# GDSC2\n",
    "start = time.time()\n",
    "gdsc2_raw = pd.read_csv(f'{PATH_TO_GDSC_SCREENING_DATA}{GDSC2_RAW_FILE}', header=0)\n",
    "print(f\"File `{GDSC2_RAW_FILE}` took {time.time()-start:.5f} seconds to import. It has shape {gdsc2_raw.shape}\")"
   ]
  },
  {
   "cell_type": "code",
   "execution_count": 21,
   "metadata": {},
   "outputs": [
    {
     "name": "stdout",
     "output_type": "stream",
     "text": [
      "|    | RESEARCH_PROJECT   |   BARCODE |   SCAN_ID | DATE_CREATED         |   SCAN_DATE |   CELL_ID |   MASTER_CELL_ID |   COSMIC_ID | CELL_LINE_NAME   |   SEEDING_DENSITY | DRUGSET_ID   | ASSAY   |   DURATION |   POSITION | TAG     |   DRUG_ID |   CONC |   INTENSITY |\n",
      "|---:|:-------------------|----------:|----------:|:---------------------|------------:|----------:|-----------------:|------------:|:-----------------|------------------:|:-------------|:--------|-----------:|-----------:|:--------|----------:|-------:|------------:|\n",
      "|  0 | Sanger_GDSC1       |    100541 |      1765 | 2010-04-18T23:00:00Z |         nan |      2415 |              365 |      924238 | K5               |               250 | 505_a_5      | a       |          3 |          1 | B       |       nan |    nan |       26022 |\n",
      "|  1 | Sanger_GDSC1       |    100541 |      1765 | 2010-04-18T23:00:00Z |         nan |      2415 |              365 |      924238 | K5               |               250 | 505_a_5      | a       |          3 |          2 | B       |       nan |    nan |       20491 |\n",
      "|  2 | Sanger_GDSC1       |    100541 |      1765 | 2010-04-18T23:00:00Z |         nan |      2415 |              365 |      924238 | K5               |               250 | 505_a_5      | a       |          3 |          3 | UN-USED |       nan |    nan |      181946 |\n",
      "\n",
      "|    | RESEARCH_PROJECT   |   BARCODE |   SCAN_ID | DATE_CREATED         | SCAN_DATE            |   CELL_ID |   MASTER_CELL_ID |   COSMIC_ID | CELL_LINE_NAME   |   SEEDING_DENSITY |   DRUGSET_ID | ASSAY   |   DURATION |   POSITION | TAG     |   DRUG_ID |   CONC |   INTENSITY |\n",
      "|---:|:-------------------|----------:|----------:|:---------------------|:---------------------|----------:|-----------------:|------------:|:-----------------|------------------:|-------------:|:--------|-----------:|-----------:|:--------|----------:|-------:|------------:|\n",
      "|  0 | GDSC_SA            |      3230 |      2945 | 2015-02-13T00:00:00Z | 2015-02-17T00:00:00Z |      4712 |              198 |      753608 | PC-14            |               250 |          159 | Glo     |          4 |          1 | UN-USED |       nan |    nan |           0 |\n",
      "|  1 | GDSC_SA            |      3230 |      2945 | 2015-02-13T00:00:00Z | 2015-02-17T00:00:00Z |      4712 |              198 |      753608 | PC-14            |               250 |          159 | Glo     |          4 |          2 | UN-USED |       nan |    nan |           0 |\n",
      "|  2 | GDSC_SA            |      3230 |      2945 | 2015-02-13T00:00:00Z | 2015-02-17T00:00:00Z |      4712 |              198 |      753608 | PC-14            |               250 |          159 | Glo     |          4 |          3 | UN-USED |       nan |    nan |         398 |\n"
     ]
    }
   ],
   "source": [
    "print(gdsc1_raw.head(3).to_markdown())\n",
    "print()\n",
    "print(gdsc2_raw.head(3).to_markdown())"
   ]
  },
  {
   "cell_type": "code",
   "execution_count": 7,
   "metadata": {},
   "outputs": [
    {
     "name": "stdout",
     "output_type": "stream",
     "text": [
      "(12484133, 18)\n"
     ]
    }
   ],
   "source": [
    "# Join both datasets for analysis purposes.\n",
    "gdsc_raw_join = pd.concat([gdsc1_raw, gdsc2_raw], ignore_index=True)\n",
    "print(gdsc_raw_join.shape)\n",
    "assert gdsc_raw_join[gdsc_raw_join.index.duplicated()].shape[0] == 0\n",
    "assert gdsc_raw_join.shape[0] == gdsc1_raw.shape[0] + gdsc2_raw.shape[0]"
   ]
  },
  {
   "cell_type": "markdown",
   "metadata": {},
   "source": [
    "## Preprocess"
   ]
  },
  {
   "cell_type": "code",
   "execution_count": 7,
   "metadata": {},
   "outputs": [
    {
     "name": "stdout",
     "output_type": "stream",
     "text": [
      "(446146, 19)\n",
      "Index(['DATASET', 'NLME_RESULT_ID', 'NLME_CURVE_ID', 'COSMIC_ID',\n",
      "       'CELL_LINE_NAME', 'SANGER_MODEL_ID', 'TCGA_DESC', 'DRUG_ID',\n",
      "       'DRUG_NAME', 'PUTATIVE_TARGET', 'PATHWAY_NAME', 'COMPANY_ID',\n",
      "       'WEBRELEASE', 'MIN_CONC', 'MAX_CONC', 'LN_IC50', 'AUC', 'RMSE',\n",
      "       'Z_SCORE'],\n",
      "      dtype='object')\n"
     ]
    },
    {
     "data": {
      "text/html": [
       "<div>\n",
       "<style scoped>\n",
       "    .dataframe tbody tr th:only-of-type {\n",
       "        vertical-align: middle;\n",
       "    }\n",
       "\n",
       "    .dataframe tbody tr th {\n",
       "        vertical-align: top;\n",
       "    }\n",
       "\n",
       "    .dataframe thead th {\n",
       "        text-align: right;\n",
       "    }\n",
       "</style>\n",
       "<table border=\"1\" class=\"dataframe\">\n",
       "  <thead>\n",
       "    <tr style=\"text-align: right;\">\n",
       "      <th></th>\n",
       "      <th>DATASET</th>\n",
       "      <th>NLME_RESULT_ID</th>\n",
       "      <th>NLME_CURVE_ID</th>\n",
       "      <th>COSMIC_ID</th>\n",
       "      <th>CELL_LINE_NAME</th>\n",
       "      <th>SANGER_MODEL_ID</th>\n",
       "      <th>TCGA_DESC</th>\n",
       "      <th>DRUG_ID</th>\n",
       "      <th>DRUG_NAME</th>\n",
       "      <th>PUTATIVE_TARGET</th>\n",
       "      <th>PATHWAY_NAME</th>\n",
       "      <th>COMPANY_ID</th>\n",
       "      <th>WEBRELEASE</th>\n",
       "      <th>MIN_CONC</th>\n",
       "      <th>MAX_CONC</th>\n",
       "      <th>LN_IC50</th>\n",
       "      <th>AUC</th>\n",
       "      <th>RMSE</th>\n",
       "      <th>Z_SCORE</th>\n",
       "    </tr>\n",
       "  </thead>\n",
       "  <tbody>\n",
       "    <tr>\n",
       "      <th>0</th>\n",
       "      <td>GDSC1</td>\n",
       "      <td>281</td>\n",
       "      <td>12974350</td>\n",
       "      <td>683665</td>\n",
       "      <td>MC-CAR</td>\n",
       "      <td>SIDM00636</td>\n",
       "      <td>MM</td>\n",
       "      <td>1</td>\n",
       "      <td>Erlotinib</td>\n",
       "      <td>EGFR</td>\n",
       "      <td>EGFR signaling</td>\n",
       "      <td>1045</td>\n",
       "      <td>Y</td>\n",
       "      <td>0.007813</td>\n",
       "      <td>2.0</td>\n",
       "      <td>2.395685</td>\n",
       "      <td>0.982114</td>\n",
       "      <td>0.022521</td>\n",
       "      <td>-0.189576</td>\n",
       "    </tr>\n",
       "    <tr>\n",
       "      <th>1</th>\n",
       "      <td>GDSC1</td>\n",
       "      <td>281</td>\n",
       "      <td>12975300</td>\n",
       "      <td>684055</td>\n",
       "      <td>ES3</td>\n",
       "      <td>SIDM00265</td>\n",
       "      <td>UNCLASSIFIED</td>\n",
       "      <td>1</td>\n",
       "      <td>Erlotinib</td>\n",
       "      <td>EGFR</td>\n",
       "      <td>EGFR signaling</td>\n",
       "      <td>1045</td>\n",
       "      <td>Y</td>\n",
       "      <td>0.007813</td>\n",
       "      <td>2.0</td>\n",
       "      <td>3.140923</td>\n",
       "      <td>0.984816</td>\n",
       "      <td>0.031840</td>\n",
       "      <td>0.508635</td>\n",
       "    </tr>\n",
       "    <tr>\n",
       "      <th>2</th>\n",
       "      <td>GDSC1</td>\n",
       "      <td>281</td>\n",
       "      <td>12975647</td>\n",
       "      <td>684057</td>\n",
       "      <td>ES5</td>\n",
       "      <td>SIDM00263</td>\n",
       "      <td>UNCLASSIFIED</td>\n",
       "      <td>1</td>\n",
       "      <td>Erlotinib</td>\n",
       "      <td>EGFR</td>\n",
       "      <td>EGFR signaling</td>\n",
       "      <td>1045</td>\n",
       "      <td>Y</td>\n",
       "      <td>0.007813</td>\n",
       "      <td>2.0</td>\n",
       "      <td>3.968757</td>\n",
       "      <td>0.985693</td>\n",
       "      <td>0.026052</td>\n",
       "      <td>1.284229</td>\n",
       "    </tr>\n",
       "  </tbody>\n",
       "</table>\n",
       "</div>"
      ],
      "text/plain": [
       "  DATASET  NLME_RESULT_ID  NLME_CURVE_ID  COSMIC_ID CELL_LINE_NAME  \\\n",
       "0   GDSC1             281       12974350     683665         MC-CAR   \n",
       "1   GDSC1             281       12975300     684055            ES3   \n",
       "2   GDSC1             281       12975647     684057            ES5   \n",
       "\n",
       "  SANGER_MODEL_ID     TCGA_DESC  DRUG_ID  DRUG_NAME PUTATIVE_TARGET  \\\n",
       "0       SIDM00636            MM        1  Erlotinib            EGFR   \n",
       "1       SIDM00265  UNCLASSIFIED        1  Erlotinib            EGFR   \n",
       "2       SIDM00263  UNCLASSIFIED        1  Erlotinib            EGFR   \n",
       "\n",
       "     PATHWAY_NAME  COMPANY_ID WEBRELEASE  MIN_CONC  MAX_CONC   LN_IC50  \\\n",
       "0  EGFR signaling        1045          Y  0.007813       2.0  2.395685   \n",
       "1  EGFR signaling        1045          Y  0.007813       2.0  3.140923   \n",
       "2  EGFR signaling        1045          Y  0.007813       2.0  3.968757   \n",
       "\n",
       "        AUC      RMSE   Z_SCORE  \n",
       "0  0.982114  0.022521 -0.189576  \n",
       "1  0.984816  0.031840  0.508635  \n",
       "2  0.985693  0.026052  1.284229  "
      ]
     },
     "execution_count": 7,
     "metadata": {},
     "output_type": "execute_result"
    }
   ],
   "source": [
    "print(gdsc_ic50s_join.shape)\n",
    "print(gdsc_ic50s_join.columns)\n",
    "gdsc_ic50s_join.head(3)"
   ]
  },
  {
   "cell_type": "code",
   "execution_count": 8,
   "metadata": {},
   "outputs": [
    {
     "name": "stdout",
     "output_type": "stream",
     "text": [
      "(446146, 8)\n",
      "Missing rates:\n",
      "==============\n",
      "DATASET           0.0\n",
      "CELL_LINE_NAME    0.0\n",
      "DRUG_NAME         0.0\n",
      "DRUG_ID           0.0\n",
      "AUC               0.0\n",
      "RMSE              0.0\n",
      "Z_SCORE           0.0\n",
      "LN_IC50           0.0\n",
      "dtype: float64\n"
     ]
    },
    {
     "data": {
      "text/html": [
       "<div>\n",
       "<style scoped>\n",
       "    .dataframe tbody tr th:only-of-type {\n",
       "        vertical-align: middle;\n",
       "    }\n",
       "\n",
       "    .dataframe tbody tr th {\n",
       "        vertical-align: top;\n",
       "    }\n",
       "\n",
       "    .dataframe thead th {\n",
       "        text-align: right;\n",
       "    }\n",
       "</style>\n",
       "<table border=\"1\" class=\"dataframe\">\n",
       "  <thead>\n",
       "    <tr style=\"text-align: right;\">\n",
       "      <th></th>\n",
       "      <th>DATASET</th>\n",
       "      <th>CELL_LINE_NAME</th>\n",
       "      <th>DRUG_NAME</th>\n",
       "      <th>DRUG_ID</th>\n",
       "      <th>AUC</th>\n",
       "      <th>RMSE</th>\n",
       "      <th>Z_SCORE</th>\n",
       "      <th>LN_IC50</th>\n",
       "    </tr>\n",
       "  </thead>\n",
       "  <tbody>\n",
       "    <tr>\n",
       "      <th>0</th>\n",
       "      <td>GDSC1</td>\n",
       "      <td>MC-CAR</td>\n",
       "      <td>Erlotinib</td>\n",
       "      <td>1</td>\n",
       "      <td>0.982114</td>\n",
       "      <td>0.022521</td>\n",
       "      <td>-0.189576</td>\n",
       "      <td>2.395685</td>\n",
       "    </tr>\n",
       "    <tr>\n",
       "      <th>1</th>\n",
       "      <td>GDSC1</td>\n",
       "      <td>ES3</td>\n",
       "      <td>Erlotinib</td>\n",
       "      <td>1</td>\n",
       "      <td>0.984816</td>\n",
       "      <td>0.031840</td>\n",
       "      <td>0.508635</td>\n",
       "      <td>3.140923</td>\n",
       "    </tr>\n",
       "    <tr>\n",
       "      <th>2</th>\n",
       "      <td>GDSC1</td>\n",
       "      <td>ES5</td>\n",
       "      <td>Erlotinib</td>\n",
       "      <td>1</td>\n",
       "      <td>0.985693</td>\n",
       "      <td>0.026052</td>\n",
       "      <td>1.284229</td>\n",
       "      <td>3.968757</td>\n",
       "    </tr>\n",
       "  </tbody>\n",
       "</table>\n",
       "</div>"
      ],
      "text/plain": [
       "  DATASET CELL_LINE_NAME  DRUG_NAME  DRUG_ID       AUC      RMSE   Z_SCORE  \\\n",
       "0   GDSC1         MC-CAR  Erlotinib        1  0.982114  0.022521 -0.189576   \n",
       "1   GDSC1            ES3  Erlotinib        1  0.984816  0.031840  0.508635   \n",
       "2   GDSC1            ES5  Erlotinib        1  0.985693  0.026052  1.284229   \n",
       "\n",
       "    LN_IC50  \n",
       "0  2.395685  \n",
       "1  3.140923  \n",
       "2  3.968757  "
      ]
     },
     "execution_count": 8,
     "metadata": {},
     "output_type": "execute_result"
    }
   ],
   "source": [
    "COLS_TO_KEEP = ['DATASET', 'CELL_LINE_NAME', 'DRUG_NAME', 'DRUG_ID', 'AUC', 'RMSE', 'Z_SCORE', 'LN_IC50']\n",
    "gdsc_base = gdsc_ic50s_join[COLS_TO_KEEP].drop_duplicates()\n",
    "print(gdsc_base.shape)\n",
    "# Percent of NaN values per column\n",
    "print(\"Missing rates:\")\n",
    "print(\"==============\")\n",
    "print(100 * gdsc_base.isna().sum() / gdsc_base.shape[0])\n",
    "gdsc_base.head(3)"
   ]
  },
  {
   "cell_type": "code",
   "execution_count": 9,
   "metadata": {},
   "outputs": [],
   "source": [
    "gdsc_base.to_pickle(PROCESSED_DATA_PATH + 'drm_full.pkl')"
   ]
  },
  {
   "cell_type": "markdown",
   "metadata": {},
   "source": [
    "# Features"
   ]
  },
  {
   "cell_type": "markdown",
   "metadata": {},
   "source": [
    "## Gene expression"
   ]
  },
  {
   "cell_type": "code",
   "execution_count": 11,
   "metadata": {},
   "outputs": [
    {
     "name": "stdout",
     "output_type": "stream",
     "text": [
      "(1002, 13)\n",
      "|    | Sample Name   |   COSMIC identifier | Whole Exome Sequencing (WES)   | Copy Number Alterations (CNA)   | Gene Expression   | Methylation   | Drug       | GDSC                  | GDSC           | Cancer Type             | Microsatellite             | Screen Medium   | Growth Properties   |\n",
      "|    |               |                     |                                |                                 |                   |               | Response   | Tissue descriptor 1   | Tissue         | (matching TCGA label)   | instability Status (MSI)   |                 |                     |\n",
      "|    |               |                     |                                |                                 |                   |               |            |                       | descriptor 2   |                         |                            |                 |                     |\n",
      "|---:|:--------------|--------------------:|:-------------------------------|:--------------------------------|:------------------|:--------------|:-----------|:----------------------|:---------------|:------------------------|:---------------------------|:----------------|:--------------------|\n",
      "|  0 | A253          |              906794 | Y                              | Y                               | Y                 | Y             | Y          | aero_dig_tract        | head and neck  | nan                     | MSS/MSI-L                  | D/F12           | Adherent            |\n",
      "|  1 | BB30-HNC      |              753531 | Y                              | Y                               | Y                 | Y             | Y          | aero_dig_tract        | head and neck  | HNSC                    | MSS/MSI-L                  | D/F12           | Adherent            |\n",
      "|  2 | BB49-HNC      |              753532 | Y                              | Y                               | Y                 | Y             | Y          | aero_dig_tract        | head and neck  | HNSC                    | MSS/MSI-L                  | D/F12           | Adherent            |\n"
     ]
    },
    {
     "name": "stderr",
     "output_type": "stream",
     "text": [
      "/users/cwoest/Applications/anaconda3/envs/master-thesis-log/lib/python3.10/site-packages/openpyxl/worksheet/_reader.py:312: UserWarning: Unknown extension is not supported and will be removed\n",
      "  warn(msg)\n"
     ]
    }
   ],
   "source": [
    "cl_details = pd.read_excel(RAW_DATA_PATH + 'Cell_Lines_Details.xlsx')\n",
    "print(cl_details.shape)\n",
    "print(cl_details.head(3).to_markdown())"
   ]
  },
  {
   "cell_type": "code",
   "execution_count": 12,
   "metadata": {},
   "outputs": [
    {
     "name": "stdout",
     "output_type": "stream",
     "text": [
      "(17737, 1020)\n",
      "|    | GENE_SYMBOLS   | GENE_title                                   |   DATA.906826 |   DATA.687983 |   DATA.910927 |\n",
      "|---:|:---------------|:---------------------------------------------|--------------:|--------------:|--------------:|\n",
      "|  0 | TSPAN6         | tetraspanin 6 [Source:HGNC Symbol;Acc:11858] |       7.63202 |       7.54867 |       8.71234 |\n",
      "|  1 | TNMD           | tenomodulin [Source:HGNC Symbol;Acc:17757]   |       2.96459 |       2.77772 |       2.64351 |\n"
     ]
    }
   ],
   "source": [
    "gene_expression = pd.read_csv(RAW_DATA_PATH + 'Cell_line_RMA_proc_basalExp.txt', sep=\"\\t\")\n",
    "print(gene_expression.shape)\n",
    "print(gene_expression.iloc[:2, :5].to_markdown())"
   ]
  },
  {
   "cell_type": "code",
   "execution_count": 13,
   "metadata": {},
   "outputs": [
    {
     "name": "stdout",
     "output_type": "stream",
     "text": [
      "Note: 50 Cosmic IDs not found in cell annotation data: \n",
      "['906815', '1330955', '907284', '1330944', '1330943', '1298232', '1299076', '1299051', '906829', '1290773', '907049', '909730', '910946', '907391', '687509', '1327761', '753536', '1240152', '925342', '687814', '1479994', '1479991', '1298355', '1331026', '1298150', '1479993', '11223344', '1330945', '1479992', '998179', '1331060', '1331028', '1503362.1', '906850', '1240211', '1299049', '908119', '1331031', '907785', '1330983.1', '906867', '1723793', '1723794', '1240156', '1299067', '906803', '1298154', '909976.1', '1659787', '905954.1']\n",
      "(1018, 17737)\n"
     ]
    },
    {
     "name": "stderr",
     "output_type": "stream",
     "text": [
      "/users/cwoest/Applications/anaconda3/envs/master-thesis-log/lib/python3.10/site-packages/openpyxl/worksheet/_reader.py:312: UserWarning: Unknown extension is not supported and will be removed\n",
      "  warn(msg)\n"
     ]
    },
    {
     "data": {
      "text/html": [
       "<div>\n",
       "<style scoped>\n",
       "    .dataframe tbody tr th:only-of-type {\n",
       "        vertical-align: middle;\n",
       "    }\n",
       "\n",
       "    .dataframe tbody tr th {\n",
       "        vertical-align: top;\n",
       "    }\n",
       "\n",
       "    .dataframe thead th {\n",
       "        text-align: right;\n",
       "    }\n",
       "</style>\n",
       "<table border=\"1\" class=\"dataframe\">\n",
       "  <thead>\n",
       "    <tr style=\"text-align: right;\">\n",
       "      <th>Sample Name</th>\n",
       "      <th>TSPAN6</th>\n",
       "      <th>TNMD</th>\n",
       "      <th>DPM1</th>\n",
       "      <th>SCYL3</th>\n",
       "      <th>C1orf112</th>\n",
       "      <th>FGR</th>\n",
       "      <th>CFH</th>\n",
       "      <th>FUCA2</th>\n",
       "      <th>GCLC</th>\n",
       "      <th>NFYA</th>\n",
       "      <th>...</th>\n",
       "      <th>LINC00526</th>\n",
       "      <th>PPY2</th>\n",
       "      <th>nan</th>\n",
       "      <th>nan</th>\n",
       "      <th>KRT18P55</th>\n",
       "      <th>nan</th>\n",
       "      <th>POLRMTP1</th>\n",
       "      <th>UBL5P2</th>\n",
       "      <th>TBC1D3P5</th>\n",
       "      <th>nan</th>\n",
       "    </tr>\n",
       "  </thead>\n",
       "  <tbody>\n",
       "    <tr>\n",
       "      <th>CAL-120</th>\n",
       "      <td>7.632023</td>\n",
       "      <td>2.964585</td>\n",
       "      <td>10.379553</td>\n",
       "      <td>3.614794</td>\n",
       "      <td>3.380681</td>\n",
       "      <td>3.324692</td>\n",
       "      <td>3.566350</td>\n",
       "      <td>8.204530</td>\n",
       "      <td>5.235118</td>\n",
       "      <td>5.369039</td>\n",
       "      <td>...</td>\n",
       "      <td>6.786925</td>\n",
       "      <td>2.997054</td>\n",
       "      <td>3.109774</td>\n",
       "      <td>7.882377</td>\n",
       "      <td>3.331134</td>\n",
       "      <td>2.852537</td>\n",
       "      <td>3.130696</td>\n",
       "      <td>9.986616</td>\n",
       "      <td>3.073724</td>\n",
       "      <td>7.284733</td>\n",
       "    </tr>\n",
       "    <tr>\n",
       "      <th>DMS-114</th>\n",
       "      <td>7.548671</td>\n",
       "      <td>2.777716</td>\n",
       "      <td>11.807341</td>\n",
       "      <td>4.066887</td>\n",
       "      <td>3.732485</td>\n",
       "      <td>3.152404</td>\n",
       "      <td>7.827172</td>\n",
       "      <td>6.616972</td>\n",
       "      <td>5.809264</td>\n",
       "      <td>7.209653</td>\n",
       "      <td>...</td>\n",
       "      <td>5.317911</td>\n",
       "      <td>3.263745</td>\n",
       "      <td>3.059424</td>\n",
       "      <td>8.681302</td>\n",
       "      <td>2.992611</td>\n",
       "      <td>2.776771</td>\n",
       "      <td>3.260982</td>\n",
       "      <td>9.002814</td>\n",
       "      <td>3.000182</td>\n",
       "      <td>8.504804</td>\n",
       "    </tr>\n",
       "    <tr>\n",
       "      <th>CAL-51</th>\n",
       "      <td>8.712338</td>\n",
       "      <td>2.643508</td>\n",
       "      <td>9.880733</td>\n",
       "      <td>3.956230</td>\n",
       "      <td>3.236620</td>\n",
       "      <td>3.241246</td>\n",
       "      <td>2.931034</td>\n",
       "      <td>8.191246</td>\n",
       "      <td>5.426841</td>\n",
       "      <td>5.120747</td>\n",
       "      <td>...</td>\n",
       "      <td>3.143006</td>\n",
       "      <td>3.112145</td>\n",
       "      <td>2.930254</td>\n",
       "      <td>8.707886</td>\n",
       "      <td>2.886574</td>\n",
       "      <td>2.685307</td>\n",
       "      <td>3.176239</td>\n",
       "      <td>9.113243</td>\n",
       "      <td>2.916274</td>\n",
       "      <td>7.059092</td>\n",
       "    </tr>\n",
       "  </tbody>\n",
       "</table>\n",
       "<p>3 rows × 17737 columns</p>\n",
       "</div>"
      ],
      "text/plain": [
       "Sample Name    TSPAN6      TNMD       DPM1     SCYL3  C1orf112       FGR  \\\n",
       "CAL-120      7.632023  2.964585  10.379553  3.614794  3.380681  3.324692   \n",
       "DMS-114      7.548671  2.777716  11.807341  4.066887  3.732485  3.152404   \n",
       "CAL-51       8.712338  2.643508   9.880733  3.956230  3.236620  3.241246   \n",
       "\n",
       "Sample Name       CFH     FUCA2      GCLC      NFYA  ...  LINC00526      PPY2  \\\n",
       "CAL-120      3.566350  8.204530  5.235118  5.369039  ...   6.786925  2.997054   \n",
       "DMS-114      7.827172  6.616972  5.809264  7.209653  ...   5.317911  3.263745   \n",
       "CAL-51       2.931034  8.191246  5.426841  5.120747  ...   3.143006  3.112145   \n",
       "\n",
       "Sample Name       nan       nan  KRT18P55       nan  POLRMTP1    UBL5P2  \\\n",
       "CAL-120      3.109774  7.882377  3.331134  2.852537  3.130696  9.986616   \n",
       "DMS-114      3.059424  8.681302  2.992611  2.776771  3.260982  9.002814   \n",
       "CAL-51       2.930254  8.707886  2.886574  2.685307  3.176239  9.113243   \n",
       "\n",
       "Sample Name  TBC1D3P5       nan  \n",
       "CAL-120      3.073724  7.284733  \n",
       "DMS-114      3.000182  8.504804  \n",
       "CAL-51       2.916274  7.059092  \n",
       "\n",
       "[3 rows x 17737 columns]"
      ]
     },
     "execution_count": 13,
     "metadata": {},
     "output_type": "execute_result"
    }
   ],
   "source": [
    "# from src.preprocess.build_drug_response_matrix import (\n",
    "#     get_gdsc_gene_expression, cosmic_ids_to_cell_line_names\n",
    "# )\n",
    "\n",
    "CELL_LINE_DETAILS_FILE = 'Cell_Lines_Details.xlsx'\n",
    "GENE_EXPRESSION_RAW_FILE = 'Cell_line_RMA_proc_basalExp.txt'\n",
    "\n",
    "# Return the gene expression dataframe(n_cells x n_genes) for a set of gene symbols for all cell_lines of the GDSC cell line annotation file.\n",
    "# If the genes are None, return the data for all genes.\n",
    "gene_expr = get_gdsc_gene_expression(\n",
    "    path_cell_annotations=RAW_DATA_PATH + CELL_LINE_DETAILS_FILE,\n",
    "    path_gene_expression=RAW_DATA_PATH + GENE_EXPRESSION_RAW_FILE \n",
    ")\n",
    "print(gene_expr.shape)\n",
    "gene_expr.head(3)"
   ]
  },
  {
   "cell_type": "code",
   "execution_count": 14,
   "metadata": {},
   "outputs": [
    {
     "name": "stdout",
     "output_type": "stream",
     "text": [
      "(978, 7)\n",
      "|    |   Entrez ID | Symbol   | Name                   | Gene Family                | Type     |   RNA-Seq Correlation |   RNA-Seq Correlation Self-Rank |\n",
      "|---:|------------:|:---------|:-----------------------|:---------------------------|:---------|----------------------:|--------------------------------:|\n",
      "|  0 |        3638 | INSIG1   | insulin induced gene 1 | nan                        | landmark |                   nan |                             nan |\n",
      "|  1 |        2309 | FOXO3    | forkhead box O3        | Forkhead boxes             | landmark |                   nan |                             nan |\n",
      "|  2 |        1001 | CDH3     | cadherin 3             | Type I classical cadherins | landmark |                   nan |                             nan |\n"
     ]
    }
   ],
   "source": [
    "LANDMARK_GENES_FILE = 'landmark_genes.csv' \n",
    "\n",
    "landmark_genes = pd.read_csv(RAW_DATA_PATH + LANDMARK_GENES_FILE, sep=\"\\t\")\n",
    "print(landmark_genes.shape)\n",
    "print(landmark_genes.head(3).to_markdown())\n"
   ]
  },
  {
   "cell_type": "code",
   "execution_count": 15,
   "metadata": {},
   "outputs": [
    {
     "name": "stdout",
     "output_type": "stream",
     "text": [
      "(1018, 908)\n"
     ]
    },
    {
     "data": {
      "text/html": [
       "<div>\n",
       "<style scoped>\n",
       "    .dataframe tbody tr th:only-of-type {\n",
       "        vertical-align: middle;\n",
       "    }\n",
       "\n",
       "    .dataframe tbody tr th {\n",
       "        vertical-align: top;\n",
       "    }\n",
       "\n",
       "    .dataframe thead th {\n",
       "        text-align: right;\n",
       "    }\n",
       "</style>\n",
       "<table border=\"1\" class=\"dataframe\">\n",
       "  <thead>\n",
       "    <tr style=\"text-align: right;\">\n",
       "      <th>CELL_LINE_NAME</th>\n",
       "      <th>PWP1</th>\n",
       "      <th>GFPT1</th>\n",
       "      <th>PAFAH1B1</th>\n",
       "      <th>CYTH1</th>\n",
       "      <th>PLK1</th>\n",
       "      <th>MRPL19</th>\n",
       "      <th>NCOA3</th>\n",
       "      <th>SNX11</th>\n",
       "      <th>MVP</th>\n",
       "      <th>PYGL</th>\n",
       "      <th>...</th>\n",
       "      <th>MYL9</th>\n",
       "      <th>FRS2</th>\n",
       "      <th>BACE2</th>\n",
       "      <th>SLC1A4</th>\n",
       "      <th>TEX10</th>\n",
       "      <th>PXN</th>\n",
       "      <th>FYN</th>\n",
       "      <th>ATMIN</th>\n",
       "      <th>ZNF318</th>\n",
       "      <th>FAH</th>\n",
       "    </tr>\n",
       "  </thead>\n",
       "  <tbody>\n",
       "    <tr>\n",
       "      <th>CAL-120</th>\n",
       "      <td>8.545450</td>\n",
       "      <td>7.748112</td>\n",
       "      <td>7.778578</td>\n",
       "      <td>4.378528</td>\n",
       "      <td>3.853142</td>\n",
       "      <td>9.854163</td>\n",
       "      <td>5.715514</td>\n",
       "      <td>4.767457</td>\n",
       "      <td>7.524185</td>\n",
       "      <td>8.526754</td>\n",
       "      <td>...</td>\n",
       "      <td>6.713753</td>\n",
       "      <td>8.174987</td>\n",
       "      <td>7.793436</td>\n",
       "      <td>3.806608</td>\n",
       "      <td>7.107863</td>\n",
       "      <td>4.330679</td>\n",
       "      <td>7.225757</td>\n",
       "      <td>7.091893</td>\n",
       "      <td>4.877458</td>\n",
       "      <td>5.423768</td>\n",
       "    </tr>\n",
       "    <tr>\n",
       "      <th>DMS-114</th>\n",
       "      <td>9.541265</td>\n",
       "      <td>6.838576</td>\n",
       "      <td>8.314279</td>\n",
       "      <td>4.361999</td>\n",
       "      <td>4.218736</td>\n",
       "      <td>10.905396</td>\n",
       "      <td>4.902592</td>\n",
       "      <td>5.246301</td>\n",
       "      <td>3.831505</td>\n",
       "      <td>9.215297</td>\n",
       "      <td>...</td>\n",
       "      <td>5.519753</td>\n",
       "      <td>4.901783</td>\n",
       "      <td>4.981265</td>\n",
       "      <td>3.670515</td>\n",
       "      <td>6.469308</td>\n",
       "      <td>3.635382</td>\n",
       "      <td>5.784534</td>\n",
       "      <td>8.208162</td>\n",
       "      <td>7.561376</td>\n",
       "      <td>5.086421</td>\n",
       "    </tr>\n",
       "    <tr>\n",
       "      <th>CAL-51</th>\n",
       "      <td>8.450964</td>\n",
       "      <td>7.699202</td>\n",
       "      <td>7.624126</td>\n",
       "      <td>4.032946</td>\n",
       "      <td>3.694307</td>\n",
       "      <td>9.996235</td>\n",
       "      <td>5.405683</td>\n",
       "      <td>4.645800</td>\n",
       "      <td>5.912042</td>\n",
       "      <td>9.593290</td>\n",
       "      <td>...</td>\n",
       "      <td>7.639868</td>\n",
       "      <td>4.456291</td>\n",
       "      <td>3.747179</td>\n",
       "      <td>5.145114</td>\n",
       "      <td>6.600039</td>\n",
       "      <td>4.071145</td>\n",
       "      <td>5.551893</td>\n",
       "      <td>8.019902</td>\n",
       "      <td>5.761437</td>\n",
       "      <td>5.633228</td>\n",
       "    </tr>\n",
       "  </tbody>\n",
       "</table>\n",
       "<p>3 rows × 908 columns</p>\n",
       "</div>"
      ],
      "text/plain": [
       "CELL_LINE_NAME      PWP1     GFPT1  PAFAH1B1     CYTH1      PLK1     MRPL19  \\\n",
       "CAL-120         8.545450  7.748112  7.778578  4.378528  3.853142   9.854163   \n",
       "DMS-114         9.541265  6.838576  8.314279  4.361999  4.218736  10.905396   \n",
       "CAL-51          8.450964  7.699202  7.624126  4.032946  3.694307   9.996235   \n",
       "\n",
       "CELL_LINE_NAME     NCOA3     SNX11       MVP      PYGL  ...      MYL9  \\\n",
       "CAL-120         5.715514  4.767457  7.524185  8.526754  ...  6.713753   \n",
       "DMS-114         4.902592  5.246301  3.831505  9.215297  ...  5.519753   \n",
       "CAL-51          5.405683  4.645800  5.912042  9.593290  ...  7.639868   \n",
       "\n",
       "CELL_LINE_NAME      FRS2     BACE2    SLC1A4     TEX10       PXN       FYN  \\\n",
       "CAL-120         8.174987  7.793436  3.806608  7.107863  4.330679  7.225757   \n",
       "DMS-114         4.901783  4.981265  3.670515  6.469308  3.635382  5.784534   \n",
       "CAL-51          4.456291  3.747179  5.145114  6.600039  4.071145  5.551893   \n",
       "\n",
       "CELL_LINE_NAME     ATMIN    ZNF318       FAH  \n",
       "CAL-120         7.091893  4.877458  5.423768  \n",
       "DMS-114         8.208162  7.561376  5.086421  \n",
       "CAL-51          8.019902  5.761437  5.633228  \n",
       "\n",
       "[3 rows x 908 columns]"
      ]
     },
     "execution_count": 15,
     "metadata": {},
     "output_type": "execute_result"
    }
   ],
   "source": [
    "# Choose only the cell-line columns of the gene expressions table that are in the landmark gene file.\n",
    "inter_cols = list(set(gene_expr.columns).intersection(set(landmark_genes.Symbol)))\n",
    "gene_expr_sparse = gene_expr[inter_cols]\n",
    "gene_expr_sparse.columns.rename('CELL_LINE_NAME', inplace=True)\n",
    "print(gene_expr_sparse.shape)\n",
    "gene_expr_sparse.head(3)"
   ]
  },
  {
   "cell_type": "code",
   "execution_count": 16,
   "metadata": {},
   "outputs": [
    {
     "name": "stdout",
     "output_type": "stream",
     "text": [
      "(446146, 916)\n"
     ]
    },
    {
     "data": {
      "text/html": [
       "<div>\n",
       "<style scoped>\n",
       "    .dataframe tbody tr th:only-of-type {\n",
       "        vertical-align: middle;\n",
       "    }\n",
       "\n",
       "    .dataframe tbody tr th {\n",
       "        vertical-align: top;\n",
       "    }\n",
       "\n",
       "    .dataframe thead th {\n",
       "        text-align: right;\n",
       "    }\n",
       "</style>\n",
       "<table border=\"1\" class=\"dataframe\">\n",
       "  <thead>\n",
       "    <tr style=\"text-align: right;\">\n",
       "      <th></th>\n",
       "      <th>DATASET</th>\n",
       "      <th>CELL_LINE_NAME</th>\n",
       "      <th>DRUG_NAME</th>\n",
       "      <th>DRUG_ID</th>\n",
       "      <th>AUC</th>\n",
       "      <th>RMSE</th>\n",
       "      <th>Z_SCORE</th>\n",
       "      <th>LN_IC50</th>\n",
       "      <th>PWP1</th>\n",
       "      <th>GFPT1</th>\n",
       "      <th>...</th>\n",
       "      <th>MYL9</th>\n",
       "      <th>FRS2</th>\n",
       "      <th>BACE2</th>\n",
       "      <th>SLC1A4</th>\n",
       "      <th>TEX10</th>\n",
       "      <th>PXN</th>\n",
       "      <th>FYN</th>\n",
       "      <th>ATMIN</th>\n",
       "      <th>ZNF318</th>\n",
       "      <th>FAH</th>\n",
       "    </tr>\n",
       "  </thead>\n",
       "  <tbody>\n",
       "    <tr>\n",
       "      <th>0</th>\n",
       "      <td>GDSC1</td>\n",
       "      <td>MC-CAR</td>\n",
       "      <td>Erlotinib</td>\n",
       "      <td>1</td>\n",
       "      <td>0.982114</td>\n",
       "      <td>0.022521</td>\n",
       "      <td>-0.189576</td>\n",
       "      <td>2.395685</td>\n",
       "      <td>9.141991</td>\n",
       "      <td>7.037431</td>\n",
       "      <td>...</td>\n",
       "      <td>4.243679</td>\n",
       "      <td>3.639442</td>\n",
       "      <td>3.773685</td>\n",
       "      <td>5.512912</td>\n",
       "      <td>7.081855</td>\n",
       "      <td>3.202161</td>\n",
       "      <td>7.904451</td>\n",
       "      <td>7.887220</td>\n",
       "      <td>5.284856</td>\n",
       "      <td>4.795894</td>\n",
       "    </tr>\n",
       "    <tr>\n",
       "      <th>1</th>\n",
       "      <td>GDSC1</td>\n",
       "      <td>ES3</td>\n",
       "      <td>Erlotinib</td>\n",
       "      <td>1</td>\n",
       "      <td>0.984816</td>\n",
       "      <td>0.031840</td>\n",
       "      <td>0.508635</td>\n",
       "      <td>3.140923</td>\n",
       "      <td>9.529654</td>\n",
       "      <td>8.758251</td>\n",
       "      <td>...</td>\n",
       "      <td>3.497337</td>\n",
       "      <td>4.917604</td>\n",
       "      <td>5.607234</td>\n",
       "      <td>5.294418</td>\n",
       "      <td>7.174595</td>\n",
       "      <td>3.688081</td>\n",
       "      <td>8.867842</td>\n",
       "      <td>8.525991</td>\n",
       "      <td>5.736538</td>\n",
       "      <td>4.854200</td>\n",
       "    </tr>\n",
       "    <tr>\n",
       "      <th>2</th>\n",
       "      <td>GDSC1</td>\n",
       "      <td>ES5</td>\n",
       "      <td>Erlotinib</td>\n",
       "      <td>1</td>\n",
       "      <td>0.985693</td>\n",
       "      <td>0.026052</td>\n",
       "      <td>1.284229</td>\n",
       "      <td>3.968757</td>\n",
       "      <td>8.582288</td>\n",
       "      <td>8.474621</td>\n",
       "      <td>...</td>\n",
       "      <td>3.095744</td>\n",
       "      <td>4.694516</td>\n",
       "      <td>6.901761</td>\n",
       "      <td>6.730694</td>\n",
       "      <td>7.215499</td>\n",
       "      <td>3.851262</td>\n",
       "      <td>7.698497</td>\n",
       "      <td>7.383650</td>\n",
       "      <td>5.474494</td>\n",
       "      <td>5.038323</td>\n",
       "    </tr>\n",
       "  </tbody>\n",
       "</table>\n",
       "<p>3 rows × 916 columns</p>\n",
       "</div>"
      ],
      "text/plain": [
       "  DATASET CELL_LINE_NAME  DRUG_NAME  DRUG_ID       AUC      RMSE   Z_SCORE  \\\n",
       "0   GDSC1         MC-CAR  Erlotinib        1  0.982114  0.022521 -0.189576   \n",
       "1   GDSC1            ES3  Erlotinib        1  0.984816  0.031840  0.508635   \n",
       "2   GDSC1            ES5  Erlotinib        1  0.985693  0.026052  1.284229   \n",
       "\n",
       "    LN_IC50      PWP1     GFPT1  ...      MYL9      FRS2     BACE2    SLC1A4  \\\n",
       "0  2.395685  9.141991  7.037431  ...  4.243679  3.639442  3.773685  5.512912   \n",
       "1  3.140923  9.529654  8.758251  ...  3.497337  4.917604  5.607234  5.294418   \n",
       "2  3.968757  8.582288  8.474621  ...  3.095744  4.694516  6.901761  6.730694   \n",
       "\n",
       "      TEX10       PXN       FYN     ATMIN    ZNF318       FAH  \n",
       "0  7.081855  3.202161  7.904451  7.887220  5.284856  4.795894  \n",
       "1  7.174595  3.688081  8.867842  8.525991  5.736538  4.854200  \n",
       "2  7.215499  3.851262  7.698497  7.383650  5.474494  5.038323  \n",
       "\n",
       "[3 rows x 916 columns]"
      ]
     },
     "execution_count": 16,
     "metadata": {},
     "output_type": "execute_result"
    }
   ],
   "source": [
    "cols_to_join_on = ['CELL_LINE_NAME']\n",
    "join_gdsc_geneexpr = gdsc_base.merge(right=gene_expr_sparse,\n",
    "                                     left_on=['CELL_LINE_NAME'],\n",
    "                                     right_index=True,\n",
    "                                     how='left',\n",
    "                                     suffixes=['_gdsc', '_geneexpr'])\n",
    "print(join_gdsc_geneexpr.shape)\n",
    "join_gdsc_geneexpr.head(3)"
   ]
  },
  {
   "cell_type": "code",
   "execution_count": null,
   "metadata": {},
   "outputs": [],
   "source": [
    "# Save the GDSC table with the gene expression information to a file.\n",
    "join_gdsc_geneexpr.to_pickle(PROCESSED_DATA_PATH + 'gexpr_full.pkl')"
   ]
  },
  {
   "cell_type": "markdown",
   "metadata": {},
   "source": [
    "## Copy number variation"
   ]
  },
  {
   "cell_type": "code",
   "execution_count": null,
   "metadata": {},
   "outputs": [],
   "source": []
  },
  {
   "cell_type": "markdown",
   "metadata": {},
   "source": [
    "## Mutation"
   ]
  },
  {
   "cell_type": "code",
   "execution_count": null,
   "metadata": {},
   "outputs": [],
   "source": []
  },
  {
   "cell_type": "code",
   "execution_count": null,
   "metadata": {},
   "outputs": [],
   "source": []
  }
 ],
 "metadata": {
  "interpreter": {
   "hash": "c78b81650a0bd32063743affb6953ff71b1a0dba806fbca9e2db842718495748"
  },
  "kernelspec": {
   "display_name": "Python 3.10.4 ('master-thesis-log')",
   "language": "python",
   "name": "python3"
  },
  "language_info": {
   "codemirror_mode": {
    "name": "ipython",
    "version": 3
   },
   "file_extension": ".py",
   "mimetype": "text/x-python",
   "name": "python",
   "nbconvert_exporter": "python",
   "pygments_lexer": "ipython3",
   "version": "3.10.4"
  },
  "orig_nbformat": 4
 },
 "nbformat": 4,
 "nbformat_minor": 2
}
