{
 "cells": [
  {
   "cell_type": "markdown",
   "metadata": {},
   "source": [
    "The intention of this notebook is to showcase how to download the needed raw files. "
   ]
  },
  {
   "cell_type": "code",
   "execution_count": 2,
   "metadata": {},
   "outputs": [
    {
     "data": {
      "text/plain": [
       "'/Users/cwoest/Documents/Academics/Data_Science_UP/master_thesis/material/GNN-material/notebooks'"
      ]
     },
     "execution_count": 2,
     "metadata": {},
     "output_type": "execute_result"
    }
   ],
   "source": [
    "%pwd"
   ]
  },
  {
   "cell_type": "code",
   "execution_count": 3,
   "metadata": {},
   "outputs": [],
   "source": [
    "from pathlib import Path\n",
    "Path(\"../../datatest/raw/\").mkdir(parents=True, exist_ok=True)\n",
    "Path(\"../../datatest/processed/\").mkdir(parents=True, exist_ok=True)"
   ]
  },
  {
   "cell_type": "code",
   "execution_count": 1,
   "metadata": {},
   "outputs": [
    {
     "name": "stdout",
     "output_type": "stream",
     "text": [
      "====================\n",
      "Downloading GDSC1...\n",
      "Downloading from ftp://ftp.sanger.ac.uk/pub/project/cancerrxgene/releases/release-8.4/GDSC1_fitted_dose_response_24Jul22.xlsx\n",
      "Finished download into `../../datatest/raw/GDSC1_fitted_dose_response_24Jul22.xlsx`.\n",
      "====================\n",
      "Downloading GDSC2...\n",
      "Downloading from ftp://ftp.sanger.ac.uk/pub/project/cancerrxgene/releases/release-8.4/GDSC2_fitted_dose_response_24Jul22.xlsx\n",
      "Finished download into `../../datatest/raw/GDSC2_fitted_dose_response_24Jul22.xlsx`.\n",
      "====================\n",
      "Downloading GEXPR...\n",
      "Downloading from https://www.cancerrxgene.org/gdsc1000/GDSC1000_WebResources//Data/preprocessed/Cell_line_RMA_proc_basalExp.txt.zip\n",
      "Finished download into `../../datatest/raw/Cell_line_RMA_proc_basalExp.txt.zip`.\n",
      "====================\n",
      "Downloading CL_DETAILS...\n",
      "Downloading from ftp://ftp.sanger.ac.uk/pub/project/cancerrxgene/releases/release-8.4/Cell_Lines_Details.xlsx\n",
      "Finished download into `../../datatest/raw/Cell_Lines_Details.xlsx`.\n",
      "====================\n",
      "Downloading CNV...\n",
      "Downloading from https://cog.sanger.ac.uk/cmp/download/cnv_20191101.zip\n",
      "Finished download into `../../datatest/raw/cnv_20191101.zip`.\n",
      "====================\n",
      "Downloading MUT...\n",
      "Downloading from https://cog.sanger.ac.uk/cmp/download/mutations_all_20220315.zip\n",
      "Finished download into `../../datatest/raw/mutations_all_20220315.zip`.\n",
      "====================\n",
      "Downloading PROTEIN_LINKS...\n",
      "Downloading from https://stringdb-static.org/download/protein.links.detailed.v11.5/9606.protein.links.detailed.v11.5.txt.gz\n",
      "Finished download into `../../datatest/raw/9606.protein.links.detailed.v11.5.txt.gz`.\n",
      "====================\n",
      "Downloading PROTEIN_INFO...\n",
      "Downloading from https://stringdb-static.org/download/protein.info.v11.5/9606.protein.info.v11.5.txt.gz\n",
      "Finished download into `../../datatest/raw/9606.protein.info.v11.5.txt.gz`.\n",
      "CPU times: user 4.23 s, sys: 4.11 s, total: 8.34 s\n",
      "Wall time: 1min 10s\n"
     ]
    }
   ],
   "source": [
    "%%time \n",
    "\n",
    "from src.preprocess.build_features import DownloadLinks, Processor\n",
    "processor = Processor(raw_path='../../datatest/raw/', \n",
    "                      processed_path='../../datatest/processed/')\n",
    "\n",
    "processor.download_raw_datasets()"
   ]
  },
  {
   "cell_type": "code",
   "execution_count": null,
   "metadata": {},
   "outputs": [],
   "source": []
  }
 ],
 "metadata": {
  "interpreter": {
   "hash": "aee8b7b246df8f9039afb4144a1f6fd8d2ca17a180786b69acc140d282b71a49"
  },
  "kernelspec": {
   "display_name": "Python 3.9.0 64-bit",
   "language": "python",
   "name": "python3"
  },
  "language_info": {
   "codemirror_mode": {
    "name": "ipython",
    "version": 3
   },
   "file_extension": ".py",
   "mimetype": "text/x-python",
   "name": "python",
   "nbconvert_exporter": "python",
   "pygments_lexer": "ipython3",
   "version": "3.10.4"
  },
  "orig_nbformat": 4
 },
 "nbformat": 4,
 "nbformat_minor": 2
}
