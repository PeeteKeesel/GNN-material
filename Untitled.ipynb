{
 "cells": [
  {
   "cell_type": "code",
   "execution_count": 13,
   "id": "931ace76",
   "metadata": {
    "collapsed": true,
    "jupyter": {
     "outputs_hidden": true
    }
   },
   "outputs": [
    {
     "name": "stdout",
     "output_type": "stream",
     "text": [
      "Collecting matplotlib\n",
      "  Downloading matplotlib-3.7.1-cp310-cp310-manylinux_2_17_x86_64.manylinux2014_x86_64.whl (11.6 MB)\n",
      "\u001b[2K     \u001b[90m━━━━━━━━━━━━━━━━━━━━━━━━━━━━━━━━━━━━━━━━\u001b[0m \u001b[32m11.6/11.6 MB\u001b[0m \u001b[31m74.9 MB/s\u001b[0m eta \u001b[36m0:00:00\u001b[0m00:01\u001b[0m00:01\u001b[0m\n",
      "\u001b[?25hRequirement already satisfied: numpy>=1.20 in /home/ec2-user/anaconda3/envs/gnn/lib/python3.10/site-packages (from matplotlib) (1.24.1)\n",
      "Collecting cycler>=0.10\n",
      "  Downloading cycler-0.11.0-py3-none-any.whl (6.4 kB)\n",
      "Collecting pillow>=6.2.0\n",
      "  Downloading Pillow-9.4.0-cp310-cp310-manylinux_2_17_x86_64.manylinux2014_x86_64.whl (3.3 MB)\n",
      "\u001b[2K     \u001b[90m━━━━━━━━━━━━━━━━━━━━━━━━━━━━━━━━━━━━━━━━\u001b[0m \u001b[32m3.3/3.3 MB\u001b[0m \u001b[31m85.5 MB/s\u001b[0m eta \u001b[36m0:00:00\u001b[0m:00:01\u001b[0m\n",
      "\u001b[?25hRequirement already satisfied: pyparsing>=2.3.1 in /home/ec2-user/anaconda3/envs/gnn/lib/python3.10/site-packages (from matplotlib) (3.0.9)\n",
      "Collecting kiwisolver>=1.0.1\n",
      "  Downloading kiwisolver-1.4.4-cp310-cp310-manylinux_2_12_x86_64.manylinux2010_x86_64.whl (1.6 MB)\n",
      "\u001b[2K     \u001b[90m━━━━━━━━━━━━━━━━━━━━━━━━━━━━━━━━━━━━━━━━\u001b[0m \u001b[32m1.6/1.6 MB\u001b[0m \u001b[31m81.6 MB/s\u001b[0m eta \u001b[36m0:00:00\u001b[0m\n",
      "\u001b[?25hRequirement already satisfied: packaging>=20.0 in /home/ec2-user/anaconda3/envs/gnn/lib/python3.10/site-packages (from matplotlib) (23.0)\n",
      "Collecting fonttools>=4.22.0\n",
      "  Downloading fonttools-4.38.0-py3-none-any.whl (965 kB)\n",
      "\u001b[2K     \u001b[90m━━━━━━━━━━━━━━━━━━━━━━━━━━━━━━━━━━━━━━\u001b[0m \u001b[32m965.4/965.4 kB\u001b[0m \u001b[31m75.2 MB/s\u001b[0m eta \u001b[36m0:00:00\u001b[0m\n",
      "\u001b[?25hCollecting contourpy>=1.0.1\n",
      "  Downloading contourpy-1.0.7-cp310-cp310-manylinux_2_17_x86_64.manylinux2014_x86_64.whl (300 kB)\n",
      "\u001b[2K     \u001b[90m━━━━━━━━━━━━━━━━━━━━━━━━━━━━━━━━━━━━━━\u001b[0m \u001b[32m300.3/300.3 kB\u001b[0m \u001b[31m32.1 MB/s\u001b[0m eta \u001b[36m0:00:00\u001b[0m\n",
      "\u001b[?25hRequirement already satisfied: python-dateutil>=2.7 in /home/ec2-user/anaconda3/envs/gnn/lib/python3.10/site-packages (from matplotlib) (2.8.2)\n",
      "Requirement already satisfied: six>=1.5 in /home/ec2-user/anaconda3/envs/gnn/lib/python3.10/site-packages (from python-dateutil>=2.7->matplotlib) (1.16.0)\n",
      "Installing collected packages: pillow, kiwisolver, fonttools, cycler, contourpy, matplotlib\n",
      "Successfully installed contourpy-1.0.7 cycler-0.11.0 fonttools-4.38.0 kiwisolver-1.4.4 matplotlib-3.7.1 pillow-9.4.0\n"
     ]
    }
   ],
   "source": [
    "!pip install matplotlib"
   ]
  },
  {
   "cell_type": "code",
   "execution_count": 14,
   "id": "80848463",
   "metadata": {},
   "outputs": [],
   "source": [
    "import pandas as pd\n",
    "import numpy as np\n",
    "import time\n",
    "import matplotlib.pyplot as plt\n",
    "from sklearn.preprocessing import StandardScaler"
   ]
  },
  {
   "cell_type": "code",
   "execution_count": 17,
   "id": "7233412a",
   "metadata": {},
   "outputs": [
    {
     "name": "stdout",
     "output_type": "stream",
     "text": [
      "The history saving thread hit an unexpected error (OperationalError('database or disk is full')).History will not be written to the database.\n"
     ]
    },
    {
     "data": {
      "text/plain": [
       "2224"
      ]
     },
     "execution_count": 17,
     "metadata": {},
     "output_type": "execute_result"
    }
   ],
   "source": [
    "import gc\n",
    "\n",
    "gc.collect()"
   ]
  },
  {
   "cell_type": "code",
   "execution_count": 3,
   "id": "c194c4ea",
   "metadata": {},
   "outputs": [],
   "source": [
    "processed_path = '../data/processed/'"
   ]
  },
  {
   "cell_type": "code",
   "execution_count": 5,
   "id": "582d567f",
   "metadata": {},
   "outputs": [
    {
     "name": "stdout",
     "output_type": "stream",
     "text": [
      "DRM   : (575197, 9)   took 0.08431005477905273 seconds\n",
      "GEXPR : (575197, 917)   took 2.4080872535705566 seconds\n",
      "CNVG  : (575197, 947)   took 32.742366313934326 seconds\n",
      "CNVP  : (575197, 975)   took 31.004131317138672 seconds\n",
      "MUT   : (573952, 965)   took 2.4590988159179688 seconds\n"
     ]
    }
   ],
   "source": [
    "tic = time.time()\n",
    "drm   = pd.read_pickle(processed_path + 'drm_full.pkl');   print(f\"DRM   : {drm.shape}   took {time.time()-tic} seconds\")\n",
    "tic = time.time()\n",
    "gexpr = pd.read_pickle(processed_path + 'gexpr_full.pkl'); print(f\"GEXPR : {gexpr.shape}   took {time.time()-tic} seconds\")\n",
    "tic = time.time()\n",
    "cnvg  = pd.read_pickle(processed_path + 'cnvg_full.pkl');  print(f\"CNVG  : {cnvg.shape}   took {time.time()-tic} seconds\")\n",
    "tic = time.time()\n",
    "cnvp  = pd.read_pickle(processed_path + 'cnvp_full.pkl');  print(f\"CNVP  : {cnvp.shape}   took {time.time()-tic} seconds\")\n",
    "tic = time.time()\n",
    "mut   = pd.read_pickle(processed_path + 'mut_full.pkl');   print(f\"MUT   : {mut.shape}   took {time.time()-tic} seconds\")"
   ]
  },
  {
   "cell_type": "code",
   "execution_count": 12,
   "id": "e980c2c8",
   "metadata": {},
   "outputs": [
    {
     "data": {
      "text/html": [
       "<div>\n",
       "<style scoped>\n",
       "    .dataframe tbody tr th:only-of-type {\n",
       "        vertical-align: middle;\n",
       "    }\n",
       "\n",
       "    .dataframe tbody tr th {\n",
       "        vertical-align: top;\n",
       "    }\n",
       "\n",
       "    .dataframe thead th {\n",
       "        text-align: right;\n",
       "    }\n",
       "</style>\n",
       "<table border=\"1\" class=\"dataframe\">\n",
       "  <thead>\n",
       "    <tr style=\"text-align: right;\">\n",
       "      <th></th>\n",
       "      <th>SDHB</th>\n",
       "      <th>NPRL2</th>\n",
       "      <th>STAP2</th>\n",
       "      <th>UBE3B</th>\n",
       "      <th>TRAPPC6A</th>\n",
       "      <th>CDKN2A</th>\n",
       "      <th>TFAP2A</th>\n",
       "      <th>PHKA1</th>\n",
       "      <th>USP14</th>\n",
       "      <th>PGM1</th>\n",
       "      <th>...</th>\n",
       "      <th>GHR</th>\n",
       "      <th>STX4</th>\n",
       "      <th>MAP3K4</th>\n",
       "      <th>PIK3C3</th>\n",
       "      <th>RELB</th>\n",
       "      <th>HOOK2</th>\n",
       "      <th>SUZ12</th>\n",
       "      <th>PTPN1</th>\n",
       "      <th>FAH</th>\n",
       "      <th>CREG1</th>\n",
       "    </tr>\n",
       "  </thead>\n",
       "  <tbody>\n",
       "    <tr>\n",
       "      <th>0</th>\n",
       "      <td>9.109725</td>\n",
       "      <td>9.086776</td>\n",
       "      <td>5.157154</td>\n",
       "      <td>4.315447</td>\n",
       "      <td>7.472550</td>\n",
       "      <td>7.226276</td>\n",
       "      <td>3.253784</td>\n",
       "      <td>6.071884</td>\n",
       "      <td>8.082069</td>\n",
       "      <td>6.700014</td>\n",
       "      <td>...</td>\n",
       "      <td>2.771988</td>\n",
       "      <td>6.961752</td>\n",
       "      <td>8.205899</td>\n",
       "      <td>8.960452</td>\n",
       "      <td>4.238570</td>\n",
       "      <td>7.635361</td>\n",
       "      <td>8.870128</td>\n",
       "      <td>7.453476</td>\n",
       "      <td>5.038323</td>\n",
       "      <td>7.685916</td>\n",
       "    </tr>\n",
       "    <tr>\n",
       "      <th>1</th>\n",
       "      <td>8.780706</td>\n",
       "      <td>7.528519</td>\n",
       "      <td>4.176773</td>\n",
       "      <td>4.141071</td>\n",
       "      <td>7.659283</td>\n",
       "      <td>7.960850</td>\n",
       "      <td>4.343751</td>\n",
       "      <td>3.101567</td>\n",
       "      <td>8.261330</td>\n",
       "      <td>7.437969</td>\n",
       "      <td>...</td>\n",
       "      <td>3.264623</td>\n",
       "      <td>6.919099</td>\n",
       "      <td>7.298478</td>\n",
       "      <td>8.453087</td>\n",
       "      <td>5.189493</td>\n",
       "      <td>6.411069</td>\n",
       "      <td>8.437224</td>\n",
       "      <td>7.378249</td>\n",
       "      <td>4.583910</td>\n",
       "      <td>6.644742</td>\n",
       "    </tr>\n",
       "    <tr>\n",
       "      <th>2</th>\n",
       "      <td>9.314624</td>\n",
       "      <td>7.467248</td>\n",
       "      <td>3.871328</td>\n",
       "      <td>4.226586</td>\n",
       "      <td>6.841339</td>\n",
       "      <td>7.253778</td>\n",
       "      <td>3.201260</td>\n",
       "      <td>2.823318</td>\n",
       "      <td>8.050450</td>\n",
       "      <td>5.850007</td>\n",
       "      <td>...</td>\n",
       "      <td>2.949338</td>\n",
       "      <td>7.293553</td>\n",
       "      <td>7.175848</td>\n",
       "      <td>8.199424</td>\n",
       "      <td>3.644850</td>\n",
       "      <td>6.356074</td>\n",
       "      <td>8.868499</td>\n",
       "      <td>7.827766</td>\n",
       "      <td>4.703183</td>\n",
       "      <td>7.166268</td>\n",
       "    </tr>\n",
       "  </tbody>\n",
       "</table>\n",
       "<p>3 rows × 908 columns</p>\n",
       "</div>"
      ],
      "text/plain": [
       "       SDHB     NPRL2     STAP2     UBE3B  TRAPPC6A    CDKN2A    TFAP2A  \\\n",
       "0  9.109725  9.086776  5.157154  4.315447  7.472550  7.226276  3.253784   \n",
       "1  8.780706  7.528519  4.176773  4.141071  7.659283  7.960850  4.343751   \n",
       "2  9.314624  7.467248  3.871328  4.226586  6.841339  7.253778  3.201260   \n",
       "\n",
       "      PHKA1     USP14      PGM1  ...       GHR      STX4    MAP3K4    PIK3C3  \\\n",
       "0  6.071884  8.082069  6.700014  ...  2.771988  6.961752  8.205899  8.960452   \n",
       "1  3.101567  8.261330  7.437969  ...  3.264623  6.919099  7.298478  8.453087   \n",
       "2  2.823318  8.050450  5.850007  ...  2.949338  7.293553  7.175848  8.199424   \n",
       "\n",
       "       RELB     HOOK2     SUZ12     PTPN1       FAH     CREG1  \n",
       "0  4.238570  7.635361  8.870128  7.453476  5.038323  7.685916  \n",
       "1  5.189493  6.411069  8.437224  7.378249  4.583910  6.644742  \n",
       "2  3.644850  6.356074  8.868499  7.827766  4.703183  7.166268  \n",
       "\n",
       "[3 rows x 908 columns]"
      ]
     },
     "execution_count": 12,
     "metadata": {},
     "output_type": "execute_result"
    }
   ],
   "source": [
    "gexpr[gexpr.columns[9:]].head(3)"
   ]
  },
  {
   "cell_type": "code",
   "execution_count": 73,
   "id": "1278e054",
   "metadata": {},
   "outputs": [
    {
     "data": {
      "text/html": [
       "<div>\n",
       "<style scoped>\n",
       "    .dataframe tbody tr th:only-of-type {\n",
       "        vertical-align: middle;\n",
       "    }\n",
       "\n",
       "    .dataframe tbody tr th {\n",
       "        vertical-align: top;\n",
       "    }\n",
       "\n",
       "    .dataframe thead th {\n",
       "        text-align: right;\n",
       "    }\n",
       "</style>\n",
       "<table border=\"1\" class=\"dataframe\">\n",
       "  <thead>\n",
       "    <tr style=\"text-align: right;\">\n",
       "      <th></th>\n",
       "      <th>DATASET</th>\n",
       "      <th>CELL_LINE_NAME</th>\n",
       "      <th>DRUG_NAME</th>\n",
       "      <th>DRUG_ID</th>\n",
       "      <th>SANGER_MODEL_ID</th>\n",
       "      <th>AUC</th>\n",
       "      <th>RMSE</th>\n",
       "      <th>Z_SCORE</th>\n",
       "      <th>LN_IC50</th>\n",
       "      <th>AARS</th>\n",
       "      <th>...</th>\n",
       "      <th>ZMIZ1</th>\n",
       "      <th>ZMYM2</th>\n",
       "      <th>ZNF131</th>\n",
       "      <th>ZNF274</th>\n",
       "      <th>ZNF318</th>\n",
       "      <th>ZNF395</th>\n",
       "      <th>ZNF451</th>\n",
       "      <th>ZNF586</th>\n",
       "      <th>ZNF589</th>\n",
       "      <th>ZW10</th>\n",
       "    </tr>\n",
       "  </thead>\n",
       "  <tbody>\n",
       "    <tr>\n",
       "      <th>0</th>\n",
       "      <td>GDSC1</td>\n",
       "      <td>ES5</td>\n",
       "      <td>Erlotinib</td>\n",
       "      <td>1</td>\n",
       "      <td>SIDM00263</td>\n",
       "      <td>0.985678</td>\n",
       "      <td>0.026081</td>\n",
       "      <td>1.299144</td>\n",
       "      <td>3.966813</td>\n",
       "      <td>3.0</td>\n",
       "      <td>...</td>\n",
       "      <td>2.0</td>\n",
       "      <td>3.0</td>\n",
       "      <td>3.0</td>\n",
       "      <td>3.0</td>\n",
       "      <td>4.0</td>\n",
       "      <td>6.0</td>\n",
       "      <td>4.0</td>\n",
       "      <td>3.0</td>\n",
       "      <td>4.0</td>\n",
       "      <td>3.0</td>\n",
       "    </tr>\n",
       "    <tr>\n",
       "      <th>1</th>\n",
       "      <td>GDSC1</td>\n",
       "      <td>ES7</td>\n",
       "      <td>Erlotinib</td>\n",
       "      <td>1</td>\n",
       "      <td>SIDM00269</td>\n",
       "      <td>0.972690</td>\n",
       "      <td>0.110059</td>\n",
       "      <td>0.156076</td>\n",
       "      <td>2.692090</td>\n",
       "      <td>3.0</td>\n",
       "      <td>...</td>\n",
       "      <td>3.0</td>\n",
       "      <td>4.0</td>\n",
       "      <td>4.0</td>\n",
       "      <td>3.0</td>\n",
       "      <td>4.0</td>\n",
       "      <td>3.0</td>\n",
       "      <td>4.0</td>\n",
       "      <td>3.0</td>\n",
       "      <td>3.0</td>\n",
       "      <td>2.0</td>\n",
       "    </tr>\n",
       "    <tr>\n",
       "      <th>2</th>\n",
       "      <td>GDSC1</td>\n",
       "      <td>EW-11</td>\n",
       "      <td>Erlotinib</td>\n",
       "      <td>1</td>\n",
       "      <td>SIDM00203</td>\n",
       "      <td>0.944459</td>\n",
       "      <td>0.087019</td>\n",
       "      <td>-0.035912</td>\n",
       "      <td>2.477990</td>\n",
       "      <td>3.0</td>\n",
       "      <td>...</td>\n",
       "      <td>2.0</td>\n",
       "      <td>3.0</td>\n",
       "      <td>5.0</td>\n",
       "      <td>3.0</td>\n",
       "      <td>4.0</td>\n",
       "      <td>5.0</td>\n",
       "      <td>4.0</td>\n",
       "      <td>3.0</td>\n",
       "      <td>3.0</td>\n",
       "      <td>4.0</td>\n",
       "    </tr>\n",
       "  </tbody>\n",
       "</table>\n",
       "<p>3 rows × 975 columns</p>\n",
       "</div>"
      ],
      "text/plain": [
       "  DATASET CELL_LINE_NAME  DRUG_NAME  DRUG_ID SANGER_MODEL_ID       AUC  \\\n",
       "0   GDSC1            ES5  Erlotinib        1       SIDM00263  0.985678   \n",
       "1   GDSC1            ES7  Erlotinib        1       SIDM00269  0.972690   \n",
       "2   GDSC1          EW-11  Erlotinib        1       SIDM00203  0.944459   \n",
       "\n",
       "       RMSE   Z_SCORE   LN_IC50 AARS  ... ZMIZ1 ZMYM2 ZNF131 ZNF274 ZNF318  \\\n",
       "0  0.026081  1.299144  3.966813  3.0  ...   2.0   3.0    3.0    3.0    4.0   \n",
       "1  0.110059  0.156076  2.692090  3.0  ...   3.0   4.0    4.0    3.0    4.0   \n",
       "2  0.087019 -0.035912  2.477990  3.0  ...   2.0   3.0    5.0    3.0    4.0   \n",
       "\n",
       "  ZNF395 ZNF451 ZNF586 ZNF589 ZW10  \n",
       "0    6.0    4.0    3.0    4.0  3.0  \n",
       "1    3.0    4.0    3.0    3.0  2.0  \n",
       "2    5.0    4.0    3.0    3.0  4.0  \n",
       "\n",
       "[3 rows x 975 columns]"
      ]
     },
     "execution_count": 73,
     "metadata": {},
     "output_type": "execute_result"
    }
   ],
   "source": [
    "cnvp.head(3)"
   ]
  },
  {
   "cell_type": "code",
   "execution_count": 74,
   "id": "3026d66e",
   "metadata": {},
   "outputs": [
    {
     "data": {
      "text/html": [
       "<div>\n",
       "<style scoped>\n",
       "    .dataframe tbody tr th:only-of-type {\n",
       "        vertical-align: middle;\n",
       "    }\n",
       "\n",
       "    .dataframe tbody tr th {\n",
       "        vertical-align: top;\n",
       "    }\n",
       "\n",
       "    .dataframe thead th {\n",
       "        text-align: right;\n",
       "    }\n",
       "</style>\n",
       "<table border=\"1\" class=\"dataframe\">\n",
       "  <thead>\n",
       "    <tr style=\"text-align: right;\">\n",
       "      <th></th>\n",
       "      <th>DATASET</th>\n",
       "      <th>CELL_LINE_NAME</th>\n",
       "      <th>DRUG_NAME</th>\n",
       "      <th>DRUG_ID</th>\n",
       "      <th>SANGER_MODEL_ID</th>\n",
       "      <th>AUC</th>\n",
       "      <th>RMSE</th>\n",
       "      <th>Z_SCORE</th>\n",
       "      <th>LN_IC50</th>\n",
       "      <th>AARS</th>\n",
       "      <th>...</th>\n",
       "      <th>ZMIZ1</th>\n",
       "      <th>ZMYM2</th>\n",
       "      <th>ZNF131</th>\n",
       "      <th>ZNF274</th>\n",
       "      <th>ZNF318</th>\n",
       "      <th>ZNF395</th>\n",
       "      <th>ZNF451</th>\n",
       "      <th>ZNF586</th>\n",
       "      <th>ZNF589</th>\n",
       "      <th>ZW10</th>\n",
       "    </tr>\n",
       "  </thead>\n",
       "  <tbody>\n",
       "    <tr>\n",
       "      <th>0</th>\n",
       "      <td>GDSC1</td>\n",
       "      <td>ES5</td>\n",
       "      <td>Erlotinib</td>\n",
       "      <td>1</td>\n",
       "      <td>SIDM00263</td>\n",
       "      <td>0.985678</td>\n",
       "      <td>0.026081</td>\n",
       "      <td>1.299144</td>\n",
       "      <td>3.966813</td>\n",
       "      <td>-1.0</td>\n",
       "      <td>...</td>\n",
       "      <td>-1.0</td>\n",
       "      <td>-1.0</td>\n",
       "      <td>-1.0</td>\n",
       "      <td>-1.0</td>\n",
       "      <td>0.0</td>\n",
       "      <td>1.0</td>\n",
       "      <td>1.0</td>\n",
       "      <td>-1.0</td>\n",
       "      <td>0.0</td>\n",
       "      <td>-1.0</td>\n",
       "    </tr>\n",
       "    <tr>\n",
       "      <th>1</th>\n",
       "      <td>GDSC1</td>\n",
       "      <td>ES7</td>\n",
       "      <td>Erlotinib</td>\n",
       "      <td>1</td>\n",
       "      <td>SIDM00269</td>\n",
       "      <td>0.972690</td>\n",
       "      <td>0.110059</td>\n",
       "      <td>0.156076</td>\n",
       "      <td>2.692090</td>\n",
       "      <td>0.0</td>\n",
       "      <td>...</td>\n",
       "      <td>-1.0</td>\n",
       "      <td>1.0</td>\n",
       "      <td>1.0</td>\n",
       "      <td>0.0</td>\n",
       "      <td>1.0</td>\n",
       "      <td>0.0</td>\n",
       "      <td>1.0</td>\n",
       "      <td>0.0</td>\n",
       "      <td>-1.0</td>\n",
       "      <td>-1.0</td>\n",
       "    </tr>\n",
       "    <tr>\n",
       "      <th>2</th>\n",
       "      <td>GDSC1</td>\n",
       "      <td>EW-11</td>\n",
       "      <td>Erlotinib</td>\n",
       "      <td>1</td>\n",
       "      <td>SIDM00203</td>\n",
       "      <td>0.944459</td>\n",
       "      <td>0.087019</td>\n",
       "      <td>-0.035912</td>\n",
       "      <td>2.477990</td>\n",
       "      <td>-1.0</td>\n",
       "      <td>...</td>\n",
       "      <td>-1.0</td>\n",
       "      <td>-1.0</td>\n",
       "      <td>1.0</td>\n",
       "      <td>-1.0</td>\n",
       "      <td>0.0</td>\n",
       "      <td>1.0</td>\n",
       "      <td>0.0</td>\n",
       "      <td>-1.0</td>\n",
       "      <td>-1.0</td>\n",
       "      <td>0.0</td>\n",
       "    </tr>\n",
       "  </tbody>\n",
       "</table>\n",
       "<p>3 rows × 947 columns</p>\n",
       "</div>"
      ],
      "text/plain": [
       "  DATASET CELL_LINE_NAME  DRUG_NAME  DRUG_ID SANGER_MODEL_ID       AUC  \\\n",
       "0   GDSC1            ES5  Erlotinib        1       SIDM00263  0.985678   \n",
       "1   GDSC1            ES7  Erlotinib        1       SIDM00269  0.972690   \n",
       "2   GDSC1          EW-11  Erlotinib        1       SIDM00203  0.944459   \n",
       "\n",
       "       RMSE   Z_SCORE   LN_IC50 AARS  ... ZMIZ1 ZMYM2 ZNF131 ZNF274 ZNF318  \\\n",
       "0  0.026081  1.299144  3.966813 -1.0  ...  -1.0  -1.0   -1.0   -1.0    0.0   \n",
       "1  0.110059  0.156076  2.692090  0.0  ...  -1.0   1.0    1.0    0.0    1.0   \n",
       "2  0.087019 -0.035912  2.477990 -1.0  ...  -1.0  -1.0    1.0   -1.0    0.0   \n",
       "\n",
       "  ZNF395 ZNF451 ZNF586 ZNF589 ZW10  \n",
       "0    1.0    1.0   -1.0    0.0 -1.0  \n",
       "1    0.0    1.0    0.0   -1.0 -1.0  \n",
       "2    1.0    0.0   -1.0   -1.0  0.0  \n",
       "\n",
       "[3 rows x 947 columns]"
      ]
     },
     "execution_count": 74,
     "metadata": {},
     "output_type": "execute_result"
    }
   ],
   "source": [
    "cnvg.head(3)"
   ]
  },
  {
   "cell_type": "code",
   "execution_count": 13,
   "id": "a62730ac",
   "metadata": {},
   "outputs": [],
   "source": [
    "scaler = StandardScaler()\n",
    "ex = scaler.fit_transform(gexpr[gexpr.columns[9:]])\n",
    "cg = scaler.fit_transform(cnvg[cnvg.columns[9:]])\n",
    "cp = scaler.fit_transform(cnvp[cnvp.columns[9:]])"
   ]
  },
  {
   "cell_type": "code",
   "execution_count": 19,
   "id": "b2309af4",
   "metadata": {},
   "outputs": [
    {
     "name": "stdout",
     "output_type": "stream",
     "text": [
      "(575197, 908)\n"
     ]
    },
    {
     "data": {
      "text/plain": [
       "array([[ 0.26375657,  2.06230366, -0.19791464, ..., -0.29075277,\n",
       "        -0.72268831, -0.22799297],\n",
       "       [-0.34703405, -0.11385883, -0.84349026, ..., -0.40821427,\n",
       "        -1.24403314, -1.03111564],\n",
       "       [ 0.64413152, -0.19942584, -1.04462392, ...,  0.29367518,\n",
       "        -1.1071919 , -0.62883024],\n",
       "       ...,\n",
       "       [-0.38701617, -0.61689715,  1.18446873, ..., -0.56145475,\n",
       "        -0.37301947,  1.09332388],\n",
       "       [ 0.61214642, -0.35648582,  1.1165492 , ..., -0.55249644,\n",
       "        -1.07889913,  0.6200854 ],\n",
       "       [        nan,         nan,         nan, ...,         nan,\n",
       "                nan,         nan]])"
      ]
     },
     "execution_count": 19,
     "metadata": {},
     "output_type": "execute_result"
    }
   ],
   "source": [
    "print(ex.shape)\n",
    "ex"
   ]
  },
  {
   "cell_type": "code",
   "execution_count": 18,
   "id": "f7c43132",
   "metadata": {},
   "outputs": [
    {
     "data": {
      "text/plain": [
       "(575197, 908)"
      ]
     },
     "execution_count": 18,
     "metadata": {},
     "output_type": "execute_result"
    }
   ],
   "source": [
    "ex.shape"
   ]
  },
  {
   "cell_type": "code",
   "execution_count": 16,
   "id": "0e5997d2",
   "metadata": {},
   "outputs": [
    {
     "data": {
      "text/html": [
       "<div>\n",
       "<style scoped>\n",
       "    .dataframe tbody tr th:only-of-type {\n",
       "        vertical-align: middle;\n",
       "    }\n",
       "\n",
       "    .dataframe tbody tr th {\n",
       "        vertical-align: top;\n",
       "    }\n",
       "\n",
       "    .dataframe thead th {\n",
       "        text-align: right;\n",
       "    }\n",
       "</style>\n",
       "<table border=\"1\" class=\"dataframe\">\n",
       "  <thead>\n",
       "    <tr style=\"text-align: right;\">\n",
       "      <th></th>\n",
       "      <th>DATASET</th>\n",
       "      <th>CELL_LINE_NAME</th>\n",
       "      <th>DRUG_NAME</th>\n",
       "      <th>DRUG_ID</th>\n",
       "      <th>SANGER_MODEL_ID</th>\n",
       "      <th>AUC</th>\n",
       "      <th>RMSE</th>\n",
       "      <th>Z_SCORE</th>\n",
       "      <th>LN_IC50</th>\n",
       "      <th>ABCB6</th>\n",
       "      <th>...</th>\n",
       "      <th>ZMIZ1</th>\n",
       "      <th>ZMYM2</th>\n",
       "      <th>ZNF131</th>\n",
       "      <th>ZNF274</th>\n",
       "      <th>ZNF318</th>\n",
       "      <th>ZNF395</th>\n",
       "      <th>ZNF451</th>\n",
       "      <th>ZNF586</th>\n",
       "      <th>ZNF589</th>\n",
       "      <th>ZW10</th>\n",
       "    </tr>\n",
       "  </thead>\n",
       "  <tbody>\n",
       "    <tr>\n",
       "      <th>0</th>\n",
       "      <td>GDSC1</td>\n",
       "      <td>ES5</td>\n",
       "      <td>Erlotinib</td>\n",
       "      <td>1</td>\n",
       "      <td>SIDM00263</td>\n",
       "      <td>0.985678</td>\n",
       "      <td>0.026081</td>\n",
       "      <td>1.299144</td>\n",
       "      <td>3.966813</td>\n",
       "      <td>0.0</td>\n",
       "      <td>...</td>\n",
       "      <td>0.0</td>\n",
       "      <td>1.0</td>\n",
       "      <td>0.0</td>\n",
       "      <td>0.0</td>\n",
       "      <td>0.0</td>\n",
       "      <td>0.0</td>\n",
       "      <td>0.0</td>\n",
       "      <td>0.0</td>\n",
       "      <td>0.0</td>\n",
       "      <td>0.0</td>\n",
       "    </tr>\n",
       "    <tr>\n",
       "      <th>1</th>\n",
       "      <td>GDSC1</td>\n",
       "      <td>ES5</td>\n",
       "      <td>Rapamycin</td>\n",
       "      <td>3</td>\n",
       "      <td>SIDM00263</td>\n",
       "      <td>0.980574</td>\n",
       "      <td>0.036137</td>\n",
       "      <td>1.417441</td>\n",
       "      <td>0.584990</td>\n",
       "      <td>0.0</td>\n",
       "      <td>...</td>\n",
       "      <td>0.0</td>\n",
       "      <td>1.0</td>\n",
       "      <td>0.0</td>\n",
       "      <td>0.0</td>\n",
       "      <td>0.0</td>\n",
       "      <td>0.0</td>\n",
       "      <td>0.0</td>\n",
       "      <td>0.0</td>\n",
       "      <td>0.0</td>\n",
       "      <td>0.0</td>\n",
       "    </tr>\n",
       "    <tr>\n",
       "      <th>2</th>\n",
       "      <td>GDSC1</td>\n",
       "      <td>ES5</td>\n",
       "      <td>Sunitinib</td>\n",
       "      <td>5</td>\n",
       "      <td>SIDM00263</td>\n",
       "      <td>0.951721</td>\n",
       "      <td>0.044085</td>\n",
       "      <td>0.800508</td>\n",
       "      <td>3.773630</td>\n",
       "      <td>0.0</td>\n",
       "      <td>...</td>\n",
       "      <td>0.0</td>\n",
       "      <td>1.0</td>\n",
       "      <td>0.0</td>\n",
       "      <td>0.0</td>\n",
       "      <td>0.0</td>\n",
       "      <td>0.0</td>\n",
       "      <td>0.0</td>\n",
       "      <td>0.0</td>\n",
       "      <td>0.0</td>\n",
       "      <td>0.0</td>\n",
       "    </tr>\n",
       "  </tbody>\n",
       "</table>\n",
       "<p>3 rows × 965 columns</p>\n",
       "</div>"
      ],
      "text/plain": [
       "  DATASET CELL_LINE_NAME  DRUG_NAME  DRUG_ID SANGER_MODEL_ID       AUC  \\\n",
       "0   GDSC1            ES5  Erlotinib        1       SIDM00263  0.985678   \n",
       "1   GDSC1            ES5  Rapamycin        3       SIDM00263  0.980574   \n",
       "2   GDSC1            ES5  Sunitinib        5       SIDM00263  0.951721   \n",
       "\n",
       "       RMSE   Z_SCORE   LN_IC50  ABCB6  ...  ZMIZ1  ZMYM2  ZNF131  ZNF274  \\\n",
       "0  0.026081  1.299144  3.966813    0.0  ...    0.0    1.0     0.0     0.0   \n",
       "1  0.036137  1.417441  0.584990    0.0  ...    0.0    1.0     0.0     0.0   \n",
       "2  0.044085  0.800508  3.773630    0.0  ...    0.0    1.0     0.0     0.0   \n",
       "\n",
       "   ZNF318  ZNF395  ZNF451  ZNF586  ZNF589  ZW10  \n",
       "0     0.0     0.0     0.0     0.0     0.0   0.0  \n",
       "1     0.0     0.0     0.0     0.0     0.0   0.0  \n",
       "2     0.0     0.0     0.0     0.0     0.0   0.0  \n",
       "\n",
       "[3 rows x 965 columns]"
      ]
     },
     "execution_count": 16,
     "metadata": {},
     "output_type": "execute_result"
    }
   ],
   "source": [
    "mut.head(3)"
   ]
  },
  {
   "cell_type": "code",
   "execution_count": null,
   "id": "89c3eb1e",
   "metadata": {},
   "outputs": [],
   "source": [
    "gexpr.head(3)"
   ]
  },
  {
   "cell_type": "code",
   "execution_count": null,
   "id": "d230dab6",
   "metadata": {},
   "outputs": [],
   "source": []
  },
  {
   "cell_type": "code",
   "execution_count": 21,
   "id": "7e1e97b9",
   "metadata": {},
   "outputs": [
    {
     "name": "stdout",
     "output_type": "stream",
     "text": [
      "(856, 294)\n"
     ]
    },
    {
     "data": {
      "text/html": [
       "<div>\n",
       "<style scoped>\n",
       "    .dataframe tbody tr th:only-of-type {\n",
       "        vertical-align: middle;\n",
       "    }\n",
       "\n",
       "    .dataframe tbody tr th {\n",
       "        vertical-align: top;\n",
       "    }\n",
       "\n",
       "    .dataframe thead th {\n",
       "        text-align: right;\n",
       "    }\n",
       "</style>\n",
       "<table border=\"1\" class=\"dataframe\">\n",
       "  <thead>\n",
       "    <tr style=\"text-align: right;\">\n",
       "      <th></th>\n",
       "      <th>CELL_LINE_NAME</th>\n",
       "      <th>PLK1</th>\n",
       "      <th>RUVBL1</th>\n",
       "      <th>TERT</th>\n",
       "      <th>EIF4EBP1</th>\n",
       "      <th>RPS6</th>\n",
       "      <th>STXBP1</th>\n",
       "      <th>CDC42</th>\n",
       "      <th>SFN</th>\n",
       "      <th>POLB</th>\n",
       "      <th>...</th>\n",
       "      <th>MYC</th>\n",
       "      <th>CCNB1</th>\n",
       "      <th>TICAM1</th>\n",
       "      <th>CENPE</th>\n",
       "      <th>CFLAR</th>\n",
       "      <th>AKT1</th>\n",
       "      <th>FBXO11</th>\n",
       "      <th>PSMB8</th>\n",
       "      <th>PRKCD</th>\n",
       "      <th>FBXO7</th>\n",
       "    </tr>\n",
       "  </thead>\n",
       "  <tbody>\n",
       "    <tr>\n",
       "      <th>0</th>\n",
       "      <td>22RV1</td>\n",
       "      <td>3.376377</td>\n",
       "      <td>7.935522</td>\n",
       "      <td>3.222590</td>\n",
       "      <td>9.062096</td>\n",
       "      <td>12.713941</td>\n",
       "      <td>4.554855</td>\n",
       "      <td>4.461362</td>\n",
       "      <td>8.570664</td>\n",
       "      <td>8.331353</td>\n",
       "      <td>...</td>\n",
       "      <td>10.920040</td>\n",
       "      <td>8.254219</td>\n",
       "      <td>4.831913</td>\n",
       "      <td>5.341961</td>\n",
       "      <td>4.323088</td>\n",
       "      <td>4.594153</td>\n",
       "      <td>4.747666</td>\n",
       "      <td>3.677478</td>\n",
       "      <td>7.051772</td>\n",
       "      <td>8.919430</td>\n",
       "    </tr>\n",
       "    <tr>\n",
       "      <th>1</th>\n",
       "      <td>23132-87</td>\n",
       "      <td>3.525281</td>\n",
       "      <td>8.745985</td>\n",
       "      <td>3.329384</td>\n",
       "      <td>10.303132</td>\n",
       "      <td>12.802973</td>\n",
       "      <td>4.206494</td>\n",
       "      <td>4.112894</td>\n",
       "      <td>9.069540</td>\n",
       "      <td>8.788701</td>\n",
       "      <td>...</td>\n",
       "      <td>10.522272</td>\n",
       "      <td>6.424800</td>\n",
       "      <td>6.178624</td>\n",
       "      <td>5.267080</td>\n",
       "      <td>5.769137</td>\n",
       "      <td>5.339412</td>\n",
       "      <td>5.664963</td>\n",
       "      <td>7.559524</td>\n",
       "      <td>6.979114</td>\n",
       "      <td>8.766610</td>\n",
       "    </tr>\n",
       "    <tr>\n",
       "      <th>2</th>\n",
       "      <td>42-MG-BA</td>\n",
       "      <td>3.769823</td>\n",
       "      <td>6.651761</td>\n",
       "      <td>3.492581</td>\n",
       "      <td>9.790909</td>\n",
       "      <td>11.856622</td>\n",
       "      <td>5.397945</td>\n",
       "      <td>4.457850</td>\n",
       "      <td>3.673494</td>\n",
       "      <td>7.443434</td>\n",
       "      <td>...</td>\n",
       "      <td>10.953158</td>\n",
       "      <td>9.040419</td>\n",
       "      <td>4.982033</td>\n",
       "      <td>7.094806</td>\n",
       "      <td>5.080592</td>\n",
       "      <td>5.116140</td>\n",
       "      <td>6.172364</td>\n",
       "      <td>8.020463</td>\n",
       "      <td>4.829879</td>\n",
       "      <td>9.283718</td>\n",
       "    </tr>\n",
       "  </tbody>\n",
       "</table>\n",
       "<p>3 rows × 294 columns</p>\n",
       "</div>"
      ],
      "text/plain": [
       "  CELL_LINE_NAME      PLK1    RUVBL1      TERT   EIF4EBP1       RPS6  \\\n",
       "0          22RV1  3.376377  7.935522  3.222590   9.062096  12.713941   \n",
       "1       23132-87  3.525281  8.745985  3.329384  10.303132  12.802973   \n",
       "2       42-MG-BA  3.769823  6.651761  3.492581   9.790909  11.856622   \n",
       "\n",
       "     STXBP1     CDC42       SFN      POLB  ...        MYC     CCNB1    TICAM1  \\\n",
       "0  4.554855  4.461362  8.570664  8.331353  ...  10.920040  8.254219  4.831913   \n",
       "1  4.206494  4.112894  9.069540  8.788701  ...  10.522272  6.424800  6.178624   \n",
       "2  5.397945  4.457850  3.673494  7.443434  ...  10.953158  9.040419  4.982033   \n",
       "\n",
       "      CENPE     CFLAR      AKT1    FBXO11     PSMB8     PRKCD     FBXO7  \n",
       "0  5.341961  4.323088  4.594153  4.747666  3.677478  7.051772  8.919430  \n",
       "1  5.267080  5.769137  5.339412  5.664963  7.559524  6.979114  8.766610  \n",
       "2  7.094806  5.080592  5.116140  6.172364  8.020463  4.829879  9.283718  \n",
       "\n",
       "[3 rows x 294 columns]"
      ]
     },
     "execution_count": 21,
     "metadata": {},
     "output_type": "execute_result"
    }
   ],
   "source": [
    "gexprGDSC = pd.read_pickle('../data/processed/gdsc2/990/thresh_gdsc2_990_gexpr.pkl')\n",
    "print(gexprGDSC.shape)\n",
    "gexprGDSC.head(3)"
   ]
  },
  {
   "cell_type": "code",
   "execution_count": 22,
   "id": "3cd80600",
   "metadata": {},
   "outputs": [
    {
     "name": "stdout",
     "output_type": "stream",
     "text": [
      "(856, 294)\n"
     ]
    },
    {
     "data": {
      "text/html": [
       "<div>\n",
       "<style scoped>\n",
       "    .dataframe tbody tr th:only-of-type {\n",
       "        vertical-align: middle;\n",
       "    }\n",
       "\n",
       "    .dataframe tbody tr th {\n",
       "        vertical-align: top;\n",
       "    }\n",
       "\n",
       "    .dataframe thead th {\n",
       "        text-align: right;\n",
       "    }\n",
       "</style>\n",
       "<table border=\"1\" class=\"dataframe\">\n",
       "  <thead>\n",
       "    <tr style=\"text-align: right;\">\n",
       "      <th></th>\n",
       "      <th>CELL_LINE_NAME</th>\n",
       "      <th>PLK1</th>\n",
       "      <th>RUVBL1</th>\n",
       "      <th>TERT</th>\n",
       "      <th>EIF4EBP1</th>\n",
       "      <th>RPS6</th>\n",
       "      <th>STXBP1</th>\n",
       "      <th>CDC42</th>\n",
       "      <th>SFN</th>\n",
       "      <th>POLB</th>\n",
       "      <th>...</th>\n",
       "      <th>MYC</th>\n",
       "      <th>CCNB1</th>\n",
       "      <th>TICAM1</th>\n",
       "      <th>CENPE</th>\n",
       "      <th>CFLAR</th>\n",
       "      <th>AKT1</th>\n",
       "      <th>FBXO11</th>\n",
       "      <th>PSMB8</th>\n",
       "      <th>PRKCD</th>\n",
       "      <th>FBXO7</th>\n",
       "    </tr>\n",
       "  </thead>\n",
       "  <tbody>\n",
       "    <tr>\n",
       "      <th>0</th>\n",
       "      <td>22RV1</td>\n",
       "      <td>-1.362606</td>\n",
       "      <td>-0.640817</td>\n",
       "      <td>-0.588595</td>\n",
       "      <td>0.038135</td>\n",
       "      <td>0.559050</td>\n",
       "      <td>-0.321945</td>\n",
       "      <td>-0.322668</td>\n",
       "      <td>0.895939</td>\n",
       "      <td>0.011609</td>\n",
       "      <td>...</td>\n",
       "      <td>0.277237</td>\n",
       "      <td>-0.979694</td>\n",
       "      <td>-0.803350</td>\n",
       "      <td>-1.493744</td>\n",
       "      <td>-1.221711</td>\n",
       "      <td>0.200206</td>\n",
       "      <td>-2.912013</td>\n",
       "      <td>-2.076492</td>\n",
       "      <td>1.403287</td>\n",
       "      <td>0.211047</td>\n",
       "    </tr>\n",
       "    <tr>\n",
       "      <th>1</th>\n",
       "      <td>23132-87</td>\n",
       "      <td>-1.043208</td>\n",
       "      <td>0.578004</td>\n",
       "      <td>-0.392743</td>\n",
       "      <td>1.207949</td>\n",
       "      <td>0.756937</td>\n",
       "      <td>-0.795347</td>\n",
       "      <td>-1.103793</td>\n",
       "      <td>1.091535</td>\n",
       "      <td>0.635168</td>\n",
       "      <td>...</td>\n",
       "      <td>0.080598</td>\n",
       "      <td>-2.930705</td>\n",
       "      <td>0.845233</td>\n",
       "      <td>-1.557272</td>\n",
       "      <td>0.258189</td>\n",
       "      <td>2.163120</td>\n",
       "      <td>-0.766075</td>\n",
       "      <td>-0.135484</td>\n",
       "      <td>1.331157</td>\n",
       "      <td>-0.028408</td>\n",
       "    </tr>\n",
       "    <tr>\n",
       "      <th>2</th>\n",
       "      <td>42-MG-BA</td>\n",
       "      <td>-0.518667</td>\n",
       "      <td>-2.571412</td>\n",
       "      <td>-0.093453</td>\n",
       "      <td>0.725122</td>\n",
       "      <td>-1.346460</td>\n",
       "      <td>0.823764</td>\n",
       "      <td>-0.330542</td>\n",
       "      <td>-1.024104</td>\n",
       "      <td>-1.199002</td>\n",
       "      <td>...</td>\n",
       "      <td>0.293609</td>\n",
       "      <td>-0.141240</td>\n",
       "      <td>-0.619581</td>\n",
       "      <td>-0.006659</td>\n",
       "      <td>-0.446475</td>\n",
       "      <td>1.575050</td>\n",
       "      <td>0.420946</td>\n",
       "      <td>0.094984</td>\n",
       "      <td>-0.802449</td>\n",
       "      <td>0.781856</td>\n",
       "    </tr>\n",
       "  </tbody>\n",
       "</table>\n",
       "<p>3 rows × 294 columns</p>\n",
       "</div>"
      ],
      "text/plain": [
       "  CELL_LINE_NAME      PLK1    RUVBL1      TERT  EIF4EBP1      RPS6    STXBP1  \\\n",
       "0          22RV1 -1.362606 -0.640817 -0.588595  0.038135  0.559050 -0.321945   \n",
       "1       23132-87 -1.043208  0.578004 -0.392743  1.207949  0.756937 -0.795347   \n",
       "2       42-MG-BA -0.518667 -2.571412 -0.093453  0.725122 -1.346460  0.823764   \n",
       "\n",
       "      CDC42       SFN      POLB  ...       MYC     CCNB1    TICAM1     CENPE  \\\n",
       "0 -0.322668  0.895939  0.011609  ...  0.277237 -0.979694 -0.803350 -1.493744   \n",
       "1 -1.103793  1.091535  0.635168  ...  0.080598 -2.930705  0.845233 -1.557272   \n",
       "2 -0.330542 -1.024104 -1.199002  ...  0.293609 -0.141240 -0.619581 -0.006659   \n",
       "\n",
       "      CFLAR      AKT1    FBXO11     PSMB8     PRKCD     FBXO7  \n",
       "0 -1.221711  0.200206 -2.912013 -2.076492  1.403287  0.211047  \n",
       "1  0.258189  2.163120 -0.766075 -0.135484  1.331157 -0.028408  \n",
       "2 -0.446475  1.575050  0.420946  0.094984 -0.802449  0.781856  \n",
       "\n",
       "[3 rows x 294 columns]"
      ]
     },
     "execution_count": 22,
     "metadata": {},
     "output_type": "execute_result"
    }
   ],
   "source": [
    "gexprGDSC[gexprGDSC.columns[1:]] = scaler.fit_transform(gexprGDSC[gexprGDSC.columns[1:]])\n",
    "print(gexprGDSC.shape)\n",
    "gexprGDSC.head(3)"
   ]
  },
  {
   "cell_type": "code",
   "execution_count": 58,
   "id": "7878185a",
   "metadata": {},
   "outputs": [
    {
     "name": "stdout",
     "output_type": "stream",
     "text": [
      "3\n",
      "706\n"
     ]
    },
    {
     "data": {
      "text/plain": [
       "array([-0.06600455, -1.3414347 , -0.97264653, -0.6213929 , -0.26127562,\n",
       "       -0.5738354 ,  0.43352032, -0.33678564, -0.4462347 ,  0.10608226],\n",
       "      dtype=float32)"
      ]
     },
     "execution_count": 58,
     "metadata": {},
     "output_type": "execute_result"
    }
   ],
   "source": [
    "cell_feature_all_list = np.load('../data/processed/TGSA/cell_feature_all_list.npy', allow_pickle=True).item()\n",
    "TGSA_cell_lines = list(cell_feature_all_list.keys())\n",
    "print(len(cell_feature_all_list.get('ACH-000001')))\n",
    "print(len(cell_feature_all_list.get('ACH-000001')[0]))\n",
    "cell_feature_all_list.get('ACH-000001')[0][:10]"
   ]
  },
  {
   "cell_type": "code",
   "execution_count": 72,
   "id": "23d5ec94",
   "metadata": {},
   "outputs": [
    {
     "name": "stdout",
     "output_type": "stream",
     "text": [
      "580\n"
     ]
    },
    {
     "data": {
      "text/plain": [
       "['ACH-000001',\n",
       " 'ACH-000002',\n",
       " 'ACH-000006',\n",
       " 'ACH-000007',\n",
       " 'ACH-000008',\n",
       " 'ACH-000009',\n",
       " 'ACH-000012',\n",
       " 'ACH-000015',\n",
       " 'ACH-000019',\n",
       " 'ACH-000020']"
      ]
     },
     "execution_count": 72,
     "metadata": {},
     "output_type": "execute_result"
    }
   ],
   "source": [
    "print(len(TGSA_cell_lines))\n",
    "TGSA_cell_lines[:10]"
   ]
  },
  {
   "cell_type": "code",
   "execution_count": 64,
   "id": "0309f6b3",
   "metadata": {},
   "outputs": [
    {
     "data": {
      "text/plain": [
       "856"
      ]
     },
     "execution_count": 64,
     "metadata": {},
     "output_type": "execute_result"
    }
   ],
   "source": [
    "my_cell_lines = gexprGDSC.CELL_LINE_NAME.unique().tolist()\n",
    "len(my_cell_lines)"
   ]
  },
  {
   "cell_type": "code",
   "execution_count": 66,
   "id": "3fcf1e41",
   "metadata": {},
   "outputs": [
    {
     "data": {
      "text/plain": [
       "set()"
      ]
     },
     "execution_count": 66,
     "metadata": {},
     "output_type": "execute_result"
    }
   ],
   "source": [
    "set(my_cell_lines).intersection(set(TGSA_cell_lines))"
   ]
  },
  {
   "cell_type": "code",
   "execution_count": 71,
   "id": "1ca4feab",
   "metadata": {},
   "outputs": [
    {
     "data": {
      "text/plain": [
       "True"
      ]
     },
     "execution_count": 71,
     "metadata": {},
     "output_type": "execute_result"
    }
   ],
   "source": [
    "'ACHN' in my_cell_lines"
   ]
  },
  {
   "cell_type": "code",
   "execution_count": null,
   "id": "67ac3f4e",
   "metadata": {},
   "outputs": [],
   "source": []
  },
  {
   "cell_type": "code",
   "execution_count": 52,
   "id": "14d1517b",
   "metadata": {},
   "outputs": [
    {
     "data": {
      "text/plain": [
       "580"
      ]
     },
     "execution_count": 52,
     "metadata": {},
     "output_type": "execute_result"
    }
   ],
   "source": [
    "cell_feature_all_list.keys()"
   ]
  },
  {
   "cell_type": "code",
   "execution_count": 49,
   "id": "2f7b1146",
   "metadata": {
    "collapsed": true,
    "jupyter": {
     "outputs_hidden": true
    }
   },
   "outputs": [
    {
     "ename": "RuntimeError",
     "evalue": "The 'data' object was created by an older version of PyG. If this error occurred while loading an already existing dataset, remove the 'processed/' directory in the dataset's root folder and try again.",
     "output_type": "error",
     "traceback": [
      "\u001b[0;31m---------------------------------------------------------------------------\u001b[0m",
      "\u001b[0;31mRuntimeError\u001b[0m                              Traceback (most recent call last)",
      "File \u001b[0;32m~/anaconda3/envs/gnn/lib/python3.10/site-packages/IPython/core/formatters.py:706\u001b[0m, in \u001b[0;36mPlainTextFormatter.__call__\u001b[0;34m(self, obj)\u001b[0m\n\u001b[1;32m    699\u001b[0m stream \u001b[38;5;241m=\u001b[39m StringIO()\n\u001b[1;32m    700\u001b[0m printer \u001b[38;5;241m=\u001b[39m pretty\u001b[38;5;241m.\u001b[39mRepresentationPrinter(stream, \u001b[38;5;28mself\u001b[39m\u001b[38;5;241m.\u001b[39mverbose,\n\u001b[1;32m    701\u001b[0m     \u001b[38;5;28mself\u001b[39m\u001b[38;5;241m.\u001b[39mmax_width, \u001b[38;5;28mself\u001b[39m\u001b[38;5;241m.\u001b[39mnewline,\n\u001b[1;32m    702\u001b[0m     max_seq_length\u001b[38;5;241m=\u001b[39m\u001b[38;5;28mself\u001b[39m\u001b[38;5;241m.\u001b[39mmax_seq_length,\n\u001b[1;32m    703\u001b[0m     singleton_pprinters\u001b[38;5;241m=\u001b[39m\u001b[38;5;28mself\u001b[39m\u001b[38;5;241m.\u001b[39msingleton_printers,\n\u001b[1;32m    704\u001b[0m     type_pprinters\u001b[38;5;241m=\u001b[39m\u001b[38;5;28mself\u001b[39m\u001b[38;5;241m.\u001b[39mtype_printers,\n\u001b[1;32m    705\u001b[0m     deferred_pprinters\u001b[38;5;241m=\u001b[39m\u001b[38;5;28mself\u001b[39m\u001b[38;5;241m.\u001b[39mdeferred_printers)\n\u001b[0;32m--> 706\u001b[0m \u001b[43mprinter\u001b[49m\u001b[38;5;241;43m.\u001b[39;49m\u001b[43mpretty\u001b[49m\u001b[43m(\u001b[49m\u001b[43mobj\u001b[49m\u001b[43m)\u001b[49m\n\u001b[1;32m    707\u001b[0m printer\u001b[38;5;241m.\u001b[39mflush()\n\u001b[1;32m    708\u001b[0m \u001b[38;5;28;01mreturn\u001b[39;00m stream\u001b[38;5;241m.\u001b[39mgetvalue()\n",
      "File \u001b[0;32m~/anaconda3/envs/gnn/lib/python3.10/site-packages/IPython/lib/pretty.py:410\u001b[0m, in \u001b[0;36mRepresentationPrinter.pretty\u001b[0;34m(self, obj)\u001b[0m\n\u001b[1;32m    407\u001b[0m                         \u001b[38;5;28;01mreturn\u001b[39;00m meth(obj, \u001b[38;5;28mself\u001b[39m, cycle)\n\u001b[1;32m    408\u001b[0m                 \u001b[38;5;28;01mif\u001b[39;00m \u001b[38;5;28mcls\u001b[39m \u001b[38;5;129;01mis\u001b[39;00m \u001b[38;5;129;01mnot\u001b[39;00m \u001b[38;5;28mobject\u001b[39m \\\n\u001b[1;32m    409\u001b[0m                         \u001b[38;5;129;01mand\u001b[39;00m callable(\u001b[38;5;28mcls\u001b[39m\u001b[38;5;241m.\u001b[39m\u001b[38;5;18m__dict__\u001b[39m\u001b[38;5;241m.\u001b[39mget(\u001b[38;5;124m'\u001b[39m\u001b[38;5;124m__repr__\u001b[39m\u001b[38;5;124m'\u001b[39m)):\n\u001b[0;32m--> 410\u001b[0m                     \u001b[38;5;28;01mreturn\u001b[39;00m \u001b[43m_repr_pprint\u001b[49m\u001b[43m(\u001b[49m\u001b[43mobj\u001b[49m\u001b[43m,\u001b[49m\u001b[43m \u001b[49m\u001b[38;5;28;43mself\u001b[39;49m\u001b[43m,\u001b[49m\u001b[43m \u001b[49m\u001b[43mcycle\u001b[49m\u001b[43m)\u001b[49m\n\u001b[1;32m    412\u001b[0m     \u001b[38;5;28;01mreturn\u001b[39;00m _default_pprint(obj, \u001b[38;5;28mself\u001b[39m, cycle)\n\u001b[1;32m    413\u001b[0m \u001b[38;5;28;01mfinally\u001b[39;00m:\n",
      "File \u001b[0;32m~/anaconda3/envs/gnn/lib/python3.10/site-packages/IPython/lib/pretty.py:778\u001b[0m, in \u001b[0;36m_repr_pprint\u001b[0;34m(obj, p, cycle)\u001b[0m\n\u001b[1;32m    776\u001b[0m \u001b[38;5;124;03m\"\"\"A pprint that just redirects to the normal repr function.\"\"\"\u001b[39;00m\n\u001b[1;32m    777\u001b[0m \u001b[38;5;66;03m# Find newlines and replace them with p.break_()\u001b[39;00m\n\u001b[0;32m--> 778\u001b[0m output \u001b[38;5;241m=\u001b[39m \u001b[38;5;28;43mrepr\u001b[39;49m\u001b[43m(\u001b[49m\u001b[43mobj\u001b[49m\u001b[43m)\u001b[49m\n\u001b[1;32m    779\u001b[0m lines \u001b[38;5;241m=\u001b[39m output\u001b[38;5;241m.\u001b[39msplitlines()\n\u001b[1;32m    780\u001b[0m \u001b[38;5;28;01mwith\u001b[39;00m p\u001b[38;5;241m.\u001b[39mgroup():\n",
      "File \u001b[0;32m~/anaconda3/envs/gnn/lib/python3.10/site-packages/numpy/core/arrayprint.py:1484\u001b[0m, in \u001b[0;36m_array_repr_implementation\u001b[0;34m(arr, max_line_width, precision, suppress_small, array2string)\u001b[0m\n\u001b[1;32m   1482\u001b[0m     lst \u001b[38;5;241m=\u001b[39m \u001b[38;5;28mrepr\u001b[39m(arr\u001b[38;5;241m.\u001b[39mitem())\n\u001b[1;32m   1483\u001b[0m \u001b[38;5;28;01melif\u001b[39;00m arr\u001b[38;5;241m.\u001b[39msize \u001b[38;5;241m>\u001b[39m \u001b[38;5;241m0\u001b[39m \u001b[38;5;129;01mor\u001b[39;00m arr\u001b[38;5;241m.\u001b[39mshape \u001b[38;5;241m==\u001b[39m (\u001b[38;5;241m0\u001b[39m,):\n\u001b[0;32m-> 1484\u001b[0m     lst \u001b[38;5;241m=\u001b[39m \u001b[43marray2string\u001b[49m\u001b[43m(\u001b[49m\u001b[43marr\u001b[49m\u001b[43m,\u001b[49m\u001b[43m \u001b[49m\u001b[43mmax_line_width\u001b[49m\u001b[43m,\u001b[49m\u001b[43m \u001b[49m\u001b[43mprecision\u001b[49m\u001b[43m,\u001b[49m\u001b[43m \u001b[49m\u001b[43msuppress_small\u001b[49m\u001b[43m,\u001b[49m\n\u001b[1;32m   1485\u001b[0m \u001b[43m                       \u001b[49m\u001b[38;5;124;43m'\u001b[39;49m\u001b[38;5;124;43m, \u001b[39;49m\u001b[38;5;124;43m'\u001b[39;49m\u001b[43m,\u001b[49m\u001b[43m \u001b[49m\u001b[43mprefix\u001b[49m\u001b[43m,\u001b[49m\u001b[43m \u001b[49m\u001b[43msuffix\u001b[49m\u001b[38;5;241;43m=\u001b[39;49m\u001b[43msuffix\u001b[49m\u001b[43m)\u001b[49m\n\u001b[1;32m   1486\u001b[0m \u001b[38;5;28;01melse\u001b[39;00m:  \u001b[38;5;66;03m# show zero-length shape unless it is (0,)\u001b[39;00m\n\u001b[1;32m   1487\u001b[0m     lst \u001b[38;5;241m=\u001b[39m \u001b[38;5;124m\"\u001b[39m\u001b[38;5;124m[], shape=\u001b[39m\u001b[38;5;132;01m%s\u001b[39;00m\u001b[38;5;124m\"\u001b[39m \u001b[38;5;241m%\u001b[39m (\u001b[38;5;28mrepr\u001b[39m(arr\u001b[38;5;241m.\u001b[39mshape),)\n",
      "File \u001b[0;32m~/anaconda3/envs/gnn/lib/python3.10/site-packages/numpy/core/arrayprint.py:736\u001b[0m, in \u001b[0;36marray2string\u001b[0;34m(a, max_line_width, precision, suppress_small, separator, prefix, style, formatter, threshold, edgeitems, sign, floatmode, suffix, legacy)\u001b[0m\n\u001b[1;32m    733\u001b[0m \u001b[38;5;28;01mif\u001b[39;00m a\u001b[38;5;241m.\u001b[39msize \u001b[38;5;241m==\u001b[39m \u001b[38;5;241m0\u001b[39m:\n\u001b[1;32m    734\u001b[0m     \u001b[38;5;28;01mreturn\u001b[39;00m \u001b[38;5;124m\"\u001b[39m\u001b[38;5;124m[]\u001b[39m\u001b[38;5;124m\"\u001b[39m\n\u001b[0;32m--> 736\u001b[0m \u001b[38;5;28;01mreturn\u001b[39;00m \u001b[43m_array2string\u001b[49m\u001b[43m(\u001b[49m\u001b[43ma\u001b[49m\u001b[43m,\u001b[49m\u001b[43m \u001b[49m\u001b[43moptions\u001b[49m\u001b[43m,\u001b[49m\u001b[43m \u001b[49m\u001b[43mseparator\u001b[49m\u001b[43m,\u001b[49m\u001b[43m \u001b[49m\u001b[43mprefix\u001b[49m\u001b[43m)\u001b[49m\n",
      "File \u001b[0;32m~/anaconda3/envs/gnn/lib/python3.10/site-packages/numpy/core/arrayprint.py:513\u001b[0m, in \u001b[0;36m_recursive_guard.<locals>.decorating_function.<locals>.wrapper\u001b[0;34m(self, *args, **kwargs)\u001b[0m\n\u001b[1;32m    511\u001b[0m repr_running\u001b[38;5;241m.\u001b[39madd(key)\n\u001b[1;32m    512\u001b[0m \u001b[38;5;28;01mtry\u001b[39;00m:\n\u001b[0;32m--> 513\u001b[0m     \u001b[38;5;28;01mreturn\u001b[39;00m \u001b[43mf\u001b[49m\u001b[43m(\u001b[49m\u001b[38;5;28;43mself\u001b[39;49m\u001b[43m,\u001b[49m\u001b[43m \u001b[49m\u001b[38;5;241;43m*\u001b[39;49m\u001b[43margs\u001b[49m\u001b[43m,\u001b[49m\u001b[43m \u001b[49m\u001b[38;5;241;43m*\u001b[39;49m\u001b[38;5;241;43m*\u001b[39;49m\u001b[43mkwargs\u001b[49m\u001b[43m)\u001b[49m\n\u001b[1;32m    514\u001b[0m \u001b[38;5;28;01mfinally\u001b[39;00m:\n\u001b[1;32m    515\u001b[0m     repr_running\u001b[38;5;241m.\u001b[39mdiscard(key)\n",
      "File \u001b[0;32m~/anaconda3/envs/gnn/lib/python3.10/site-packages/numpy/core/arrayprint.py:546\u001b[0m, in \u001b[0;36m_array2string\u001b[0;34m(a, options, separator, prefix)\u001b[0m\n\u001b[1;32m    543\u001b[0m \u001b[38;5;66;03m# skip over array(\u001b[39;00m\n\u001b[1;32m    544\u001b[0m next_line_prefix \u001b[38;5;241m+\u001b[39m\u001b[38;5;241m=\u001b[39m \u001b[38;5;124m\"\u001b[39m\u001b[38;5;124m \u001b[39m\u001b[38;5;124m\"\u001b[39m\u001b[38;5;241m*\u001b[39m\u001b[38;5;28mlen\u001b[39m(prefix)\n\u001b[0;32m--> 546\u001b[0m lst \u001b[38;5;241m=\u001b[39m \u001b[43m_formatArray\u001b[49m\u001b[43m(\u001b[49m\u001b[43ma\u001b[49m\u001b[43m,\u001b[49m\u001b[43m \u001b[49m\u001b[43mformat_function\u001b[49m\u001b[43m,\u001b[49m\u001b[43m \u001b[49m\u001b[43moptions\u001b[49m\u001b[43m[\u001b[49m\u001b[38;5;124;43m'\u001b[39;49m\u001b[38;5;124;43mlinewidth\u001b[39;49m\u001b[38;5;124;43m'\u001b[39;49m\u001b[43m]\u001b[49m\u001b[43m,\u001b[49m\n\u001b[1;32m    547\u001b[0m \u001b[43m                   \u001b[49m\u001b[43mnext_line_prefix\u001b[49m\u001b[43m,\u001b[49m\u001b[43m \u001b[49m\u001b[43mseparator\u001b[49m\u001b[43m,\u001b[49m\u001b[43m \u001b[49m\u001b[43moptions\u001b[49m\u001b[43m[\u001b[49m\u001b[38;5;124;43m'\u001b[39;49m\u001b[38;5;124;43medgeitems\u001b[39;49m\u001b[38;5;124;43m'\u001b[39;49m\u001b[43m]\u001b[49m\u001b[43m,\u001b[49m\n\u001b[1;32m    548\u001b[0m \u001b[43m                   \u001b[49m\u001b[43msummary_insert\u001b[49m\u001b[43m,\u001b[49m\u001b[43m \u001b[49m\u001b[43moptions\u001b[49m\u001b[43m[\u001b[49m\u001b[38;5;124;43m'\u001b[39;49m\u001b[38;5;124;43mlegacy\u001b[39;49m\u001b[38;5;124;43m'\u001b[39;49m\u001b[43m]\u001b[49m\u001b[43m)\u001b[49m\n\u001b[1;32m    549\u001b[0m \u001b[38;5;28;01mreturn\u001b[39;00m lst\n",
      "File \u001b[0;32m~/anaconda3/envs/gnn/lib/python3.10/site-packages/numpy/core/arrayprint.py:889\u001b[0m, in \u001b[0;36m_formatArray\u001b[0;34m(a, format_function, line_width, next_line_prefix, separator, edge_items, summary_insert, legacy)\u001b[0m\n\u001b[1;32m    885\u001b[0m     \u001b[38;5;28;01mreturn\u001b[39;00m s\n\u001b[1;32m    887\u001b[0m \u001b[38;5;28;01mtry\u001b[39;00m:\n\u001b[1;32m    888\u001b[0m     \u001b[38;5;66;03m# invoke the recursive part with an initial index and prefix\u001b[39;00m\n\u001b[0;32m--> 889\u001b[0m     \u001b[38;5;28;01mreturn\u001b[39;00m \u001b[43mrecurser\u001b[49m\u001b[43m(\u001b[49m\u001b[43mindex\u001b[49m\u001b[38;5;241;43m=\u001b[39;49m\u001b[43m(\u001b[49m\u001b[43m)\u001b[49m\u001b[43m,\u001b[49m\n\u001b[1;32m    890\u001b[0m \u001b[43m                    \u001b[49m\u001b[43mhanging_indent\u001b[49m\u001b[38;5;241;43m=\u001b[39;49m\u001b[43mnext_line_prefix\u001b[49m\u001b[43m,\u001b[49m\n\u001b[1;32m    891\u001b[0m \u001b[43m                    \u001b[49m\u001b[43mcurr_width\u001b[49m\u001b[38;5;241;43m=\u001b[39;49m\u001b[43mline_width\u001b[49m\u001b[43m)\u001b[49m\n\u001b[1;32m    892\u001b[0m \u001b[38;5;28;01mfinally\u001b[39;00m:\n\u001b[1;32m    893\u001b[0m     \u001b[38;5;66;03m# recursive closures have a cyclic reference to themselves, which\u001b[39;00m\n\u001b[1;32m    894\u001b[0m     \u001b[38;5;66;03m# requires gc to collect (gh-10620). To avoid this problem, for\u001b[39;00m\n\u001b[1;32m    895\u001b[0m     \u001b[38;5;66;03m# performance and PyPy friendliness, we break the cycle:\u001b[39;00m\n\u001b[1;32m    896\u001b[0m     recurser \u001b[38;5;241m=\u001b[39m \u001b[38;5;28;01mNone\u001b[39;00m\n",
      "File \u001b[0;32m~/anaconda3/envs/gnn/lib/python3.10/site-packages/numpy/core/arrayprint.py:799\u001b[0m, in \u001b[0;36m_formatArray.<locals>.recurser\u001b[0;34m(index, hanging_indent, curr_width)\u001b[0m\n\u001b[1;32m    796\u001b[0m axes_left \u001b[38;5;241m=\u001b[39m a\u001b[38;5;241m.\u001b[39mndim \u001b[38;5;241m-\u001b[39m axis\n\u001b[1;32m    798\u001b[0m \u001b[38;5;28;01mif\u001b[39;00m axes_left \u001b[38;5;241m==\u001b[39m \u001b[38;5;241m0\u001b[39m:\n\u001b[0;32m--> 799\u001b[0m     \u001b[38;5;28;01mreturn\u001b[39;00m \u001b[43mformat_function\u001b[49m\u001b[43m(\u001b[49m\u001b[43ma\u001b[49m\u001b[43m[\u001b[49m\u001b[43mindex\u001b[49m\u001b[43m]\u001b[49m\u001b[43m)\u001b[49m\n\u001b[1;32m    801\u001b[0m \u001b[38;5;66;03m# when recursing, add a space to align with the [ added, and reduce the\u001b[39;00m\n\u001b[1;32m    802\u001b[0m \u001b[38;5;66;03m# length of the line by 1\u001b[39;00m\n\u001b[1;32m    803\u001b[0m next_hanging_indent \u001b[38;5;241m=\u001b[39m hanging_indent \u001b[38;5;241m+\u001b[39m \u001b[38;5;124m'\u001b[39m\u001b[38;5;124m \u001b[39m\u001b[38;5;124m'\u001b[39m\n",
      "File \u001b[0;32m~/anaconda3/envs/gnn/lib/python3.10/site-packages/numpy/core/arrayprint.py:395\u001b[0m, in \u001b[0;36m_object_format\u001b[0;34m(o)\u001b[0m\n\u001b[1;32m    393\u001b[0m \u001b[38;5;28;01melse\u001b[39;00m:\n\u001b[1;32m    394\u001b[0m     fmt \u001b[38;5;241m=\u001b[39m \u001b[38;5;124m'\u001b[39m\u001b[38;5;132;01m{!r}\u001b[39;00m\u001b[38;5;124m'\u001b[39m\n\u001b[0;32m--> 395\u001b[0m \u001b[38;5;28;01mreturn\u001b[39;00m \u001b[43mfmt\u001b[49m\u001b[38;5;241;43m.\u001b[39;49m\u001b[43mformat\u001b[49m\u001b[43m(\u001b[49m\u001b[43mo\u001b[49m\u001b[43m)\u001b[49m\n",
      "File \u001b[0;32m~/anaconda3/envs/gnn/lib/python3.10/site-packages/torch_geometric/data/data.py:470\u001b[0m, in \u001b[0;36mData.__repr__\u001b[0;34m(self)\u001b[0m\n\u001b[1;32m    468\u001b[0m \u001b[38;5;28;01mdef\u001b[39;00m \u001b[38;5;21m__repr__\u001b[39m(\u001b[38;5;28mself\u001b[39m) \u001b[38;5;241m-\u001b[39m\u001b[38;5;241m>\u001b[39m \u001b[38;5;28mstr\u001b[39m:\n\u001b[1;32m    469\u001b[0m     \u001b[38;5;28mcls\u001b[39m \u001b[38;5;241m=\u001b[39m \u001b[38;5;28mself\u001b[39m\u001b[38;5;241m.\u001b[39m\u001b[38;5;18m__class__\u001b[39m\u001b[38;5;241m.\u001b[39m\u001b[38;5;18m__name__\u001b[39m\n\u001b[0;32m--> 470\u001b[0m     has_dict \u001b[38;5;241m=\u001b[39m \u001b[38;5;28many\u001b[39m([\u001b[38;5;28misinstance\u001b[39m(v, Mapping) \u001b[38;5;28;01mfor\u001b[39;00m v \u001b[38;5;129;01min\u001b[39;00m \u001b[38;5;28;43mself\u001b[39;49m\u001b[38;5;241;43m.\u001b[39;49m\u001b[43m_store\u001b[49m\u001b[38;5;241m.\u001b[39mvalues()])\n\u001b[1;32m    472\u001b[0m     \u001b[38;5;28;01mif\u001b[39;00m \u001b[38;5;129;01mnot\u001b[39;00m has_dict:\n\u001b[1;32m    473\u001b[0m         info \u001b[38;5;241m=\u001b[39m [size_repr(k, v) \u001b[38;5;28;01mfor\u001b[39;00m k, v \u001b[38;5;129;01min\u001b[39;00m \u001b[38;5;28mself\u001b[39m\u001b[38;5;241m.\u001b[39m_store\u001b[38;5;241m.\u001b[39mitems()]\n",
      "File \u001b[0;32m~/anaconda3/envs/gnn/lib/python3.10/site-packages/torch_geometric/data/data.py:423\u001b[0m, in \u001b[0;36mData.__getattr__\u001b[0;34m(self, key)\u001b[0m\n\u001b[1;32m    421\u001b[0m \u001b[38;5;28;01mdef\u001b[39;00m \u001b[38;5;21m__getattr__\u001b[39m(\u001b[38;5;28mself\u001b[39m, key: \u001b[38;5;28mstr\u001b[39m) \u001b[38;5;241m-\u001b[39m\u001b[38;5;241m>\u001b[39m Any:\n\u001b[1;32m    422\u001b[0m     \u001b[38;5;28;01mif\u001b[39;00m \u001b[38;5;124m'\u001b[39m\u001b[38;5;124m_store\u001b[39m\u001b[38;5;124m'\u001b[39m \u001b[38;5;129;01mnot\u001b[39;00m \u001b[38;5;129;01min\u001b[39;00m \u001b[38;5;28mself\u001b[39m\u001b[38;5;241m.\u001b[39m\u001b[38;5;18m__dict__\u001b[39m:\n\u001b[0;32m--> 423\u001b[0m         \u001b[38;5;28;01mraise\u001b[39;00m \u001b[38;5;167;01mRuntimeError\u001b[39;00m(\n\u001b[1;32m    424\u001b[0m             \u001b[38;5;124m\"\u001b[39m\u001b[38;5;124mThe \u001b[39m\u001b[38;5;124m'\u001b[39m\u001b[38;5;124mdata\u001b[39m\u001b[38;5;124m'\u001b[39m\u001b[38;5;124m object was created by an older version of PyG. \u001b[39m\u001b[38;5;124m\"\u001b[39m\n\u001b[1;32m    425\u001b[0m             \u001b[38;5;124m\"\u001b[39m\u001b[38;5;124mIf this error occurred while loading an already existing \u001b[39m\u001b[38;5;124m\"\u001b[39m\n\u001b[1;32m    426\u001b[0m             \u001b[38;5;124m\"\u001b[39m\u001b[38;5;124mdataset, remove the \u001b[39m\u001b[38;5;124m'\u001b[39m\u001b[38;5;124mprocessed/\u001b[39m\u001b[38;5;124m'\u001b[39m\u001b[38;5;124m directory in the dataset\u001b[39m\u001b[38;5;124m'\u001b[39m\u001b[38;5;124ms \u001b[39m\u001b[38;5;124m\"\u001b[39m\n\u001b[1;32m    427\u001b[0m             \u001b[38;5;124m\"\u001b[39m\u001b[38;5;124mroot folder and try again.\u001b[39m\u001b[38;5;124m\"\u001b[39m)\n\u001b[1;32m    428\u001b[0m     \u001b[38;5;28;01mreturn\u001b[39;00m \u001b[38;5;28mgetattr\u001b[39m(\u001b[38;5;28mself\u001b[39m\u001b[38;5;241m.\u001b[39m_store, key)\n",
      "\u001b[0;31mRuntimeError\u001b[0m: The 'data' object was created by an older version of PyG. If this error occurred while loading an already existing dataset, remove the 'processed/' directory in the dataset's root folder and try again."
     ]
    }
   ],
   "source": [
    "cell_feature_all = np.load('../data/processed/TGSA/cell_feature_all.npy', allow_pickle=True)\n",
    "cell_feature_all"
   ]
  },
  {
   "cell_type": "code",
   "execution_count": 2,
   "id": "8f12025f",
   "metadata": {},
   "outputs": [],
   "source": [
    "gexpr = pd.read_pickle('../data/processed/gdsc2/950/thresh_gdsc2_950_gexpr.pkl')"
   ]
  },
  {
   "cell_type": "code",
   "execution_count": 3,
   "id": "d0c27a0d",
   "metadata": {},
   "outputs": [
    {
     "name": "stdout",
     "output_type": "stream",
     "text": [
      "(856, 459)\n"
     ]
    },
    {
     "data": {
      "text/html": [
       "<div>\n",
       "<style scoped>\n",
       "    .dataframe tbody tr th:only-of-type {\n",
       "        vertical-align: middle;\n",
       "    }\n",
       "\n",
       "    .dataframe tbody tr th {\n",
       "        vertical-align: top;\n",
       "    }\n",
       "\n",
       "    .dataframe thead th {\n",
       "        text-align: right;\n",
       "    }\n",
       "</style>\n",
       "<table border=\"1\" class=\"dataframe\">\n",
       "  <thead>\n",
       "    <tr style=\"text-align: right;\">\n",
       "      <th></th>\n",
       "      <th>CELL_LINE_NAME</th>\n",
       "      <th>HDAC2</th>\n",
       "      <th>TOR1A</th>\n",
       "      <th>GADD45B</th>\n",
       "      <th>DNM1L</th>\n",
       "      <th>CASP10</th>\n",
       "      <th>NUP88</th>\n",
       "      <th>CRK</th>\n",
       "      <th>VAV3</th>\n",
       "      <th>CSK</th>\n",
       "      <th>...</th>\n",
       "      <th>PCK2</th>\n",
       "      <th>MYLK</th>\n",
       "      <th>CDK1</th>\n",
       "      <th>HMGA2</th>\n",
       "      <th>PRKACA</th>\n",
       "      <th>HSPA8</th>\n",
       "      <th>RPS6KA1</th>\n",
       "      <th>STAT3</th>\n",
       "      <th>SYK</th>\n",
       "      <th>FOS</th>\n",
       "    </tr>\n",
       "  </thead>\n",
       "  <tbody>\n",
       "    <tr>\n",
       "      <th>0</th>\n",
       "      <td>22RV1</td>\n",
       "      <td>0.187178</td>\n",
       "      <td>0.126827</td>\n",
       "      <td>0.591977</td>\n",
       "      <td>-0.044123</td>\n",
       "      <td>-0.923568</td>\n",
       "      <td>-0.359427</td>\n",
       "      <td>-0.333318</td>\n",
       "      <td>0.211132</td>\n",
       "      <td>-1.024900</td>\n",
       "      <td>...</td>\n",
       "      <td>0.970545</td>\n",
       "      <td>-1.002723</td>\n",
       "      <td>-0.498353</td>\n",
       "      <td>-0.547275</td>\n",
       "      <td>-0.274985</td>\n",
       "      <td>0.656368</td>\n",
       "      <td>-0.717755</td>\n",
       "      <td>-1.296855</td>\n",
       "      <td>-0.435845</td>\n",
       "      <td>-0.708159</td>\n",
       "    </tr>\n",
       "    <tr>\n",
       "      <th>1</th>\n",
       "      <td>23132-87</td>\n",
       "      <td>-1.374294</td>\n",
       "      <td>-0.054917</td>\n",
       "      <td>1.078900</td>\n",
       "      <td>-0.507117</td>\n",
       "      <td>-0.695841</td>\n",
       "      <td>0.114124</td>\n",
       "      <td>0.530523</td>\n",
       "      <td>0.835903</td>\n",
       "      <td>-0.394350</td>\n",
       "      <td>...</td>\n",
       "      <td>1.768138</td>\n",
       "      <td>-1.014755</td>\n",
       "      <td>-1.559431</td>\n",
       "      <td>-0.742058</td>\n",
       "      <td>-1.027031</td>\n",
       "      <td>0.374435</td>\n",
       "      <td>1.488272</td>\n",
       "      <td>0.747202</td>\n",
       "      <td>0.580942</td>\n",
       "      <td>0.869515</td>\n",
       "    </tr>\n",
       "    <tr>\n",
       "      <th>2</th>\n",
       "      <td>42-MG-BA</td>\n",
       "      <td>-0.339358</td>\n",
       "      <td>-3.097103</td>\n",
       "      <td>1.146494</td>\n",
       "      <td>-1.882006</td>\n",
       "      <td>-0.663870</td>\n",
       "      <td>-1.709862</td>\n",
       "      <td>0.077265</td>\n",
       "      <td>-0.664229</td>\n",
       "      <td>-0.139018</td>\n",
       "      <td>...</td>\n",
       "      <td>1.620578</td>\n",
       "      <td>-0.373594</td>\n",
       "      <td>0.405143</td>\n",
       "      <td>-0.616835</td>\n",
       "      <td>-0.674836</td>\n",
       "      <td>-2.282742</td>\n",
       "      <td>0.340227</td>\n",
       "      <td>0.314333</td>\n",
       "      <td>-0.943458</td>\n",
       "      <td>-0.223316</td>\n",
       "    </tr>\n",
       "  </tbody>\n",
       "</table>\n",
       "<p>3 rows × 459 columns</p>\n",
       "</div>"
      ],
      "text/plain": [
       "  CELL_LINE_NAME     HDAC2     TOR1A   GADD45B     DNM1L    CASP10     NUP88  \\\n",
       "0          22RV1  0.187178  0.126827  0.591977 -0.044123 -0.923568 -0.359427   \n",
       "1       23132-87 -1.374294 -0.054917  1.078900 -0.507117 -0.695841  0.114124   \n",
       "2       42-MG-BA -0.339358 -3.097103  1.146494 -1.882006 -0.663870 -1.709862   \n",
       "\n",
       "        CRK      VAV3       CSK  ...      PCK2      MYLK      CDK1     HMGA2  \\\n",
       "0 -0.333318  0.211132 -1.024900  ...  0.970545 -1.002723 -0.498353 -0.547275   \n",
       "1  0.530523  0.835903 -0.394350  ...  1.768138 -1.014755 -1.559431 -0.742058   \n",
       "2  0.077265 -0.664229 -0.139018  ...  1.620578 -0.373594  0.405143 -0.616835   \n",
       "\n",
       "     PRKACA     HSPA8   RPS6KA1     STAT3       SYK       FOS  \n",
       "0 -0.274985  0.656368 -0.717755 -1.296855 -0.435845 -0.708159  \n",
       "1 -1.027031  0.374435  1.488272  0.747202  0.580942  0.869515  \n",
       "2 -0.674836 -2.282742  0.340227  0.314333 -0.943458 -0.223316  \n",
       "\n",
       "[3 rows x 459 columns]"
      ]
     },
     "execution_count": 3,
     "metadata": {},
     "output_type": "execute_result"
    }
   ],
   "source": [
    "print(gexpr.shape)\n",
    "gexpr.head(3)"
   ]
  },
  {
   "cell_type": "code",
   "execution_count": 16,
   "id": "383c90ce",
   "metadata": {},
   "outputs": [
    {
     "data": {
      "text/plain": [
       "array([[ 0.1871778 ,  0.126827  ,  0.59197696, ..., -1.29685506,\n",
       "        -0.43584496, -0.70815865],\n",
       "       [-1.37429385, -0.05491727,  1.07889973, ...,  0.74720234,\n",
       "         0.58094191,  0.86951518],\n",
       "       [-0.33935775, -3.09710315,  1.14649417, ...,  0.31433252,\n",
       "        -0.94345822, -0.22331597],\n",
       "       ...,\n",
       "       [-0.91954901, -0.11003835, -0.10412301, ..., -0.22618166,\n",
       "        -0.81946987, -0.06883175],\n",
       "       [-0.76400028, -1.17089896,  0.90361685, ...,  0.30616639,\n",
       "        -0.82971725, -0.51878587],\n",
       "       [ 0.23171122,  0.48304247, -0.1262515 , ...,  0.62354242,\n",
       "        -0.93604973,  1.66543078]])"
      ]
     },
     "execution_count": 16,
     "metadata": {},
     "output_type": "execute_result"
    }
   ],
   "source": [
    "plt.hist(gexpr.loc[:, gexpr.columns != 'CELL_LINE_NAME'].values);"
   ]
  },
  {
   "cell_type": "markdown",
   "id": "db71df00",
   "metadata": {},
   "source": [
    "## Performance on Test"
   ]
  },
  {
   "cell_type": "code",
   "execution_count": 22,
   "id": "7cd86af6",
   "metadata": {},
   "outputs": [],
   "source": [
    "from sklearn.model_selection import train_test_split\n",
    "import torch.nn as nn\n",
    "from src.models.GraphTab.graph_tab_early_stopping import GraphTabDataset, create_gt_loaders, BuildGraphTabModel, GraphTab"
   ]
  },
  {
   "cell_type": "code",
   "execution_count": 20,
   "id": "5d1c6004",
   "metadata": {},
   "outputs": [
    {
     "name": "stdout",
     "output_type": "stream",
     "text": [
      "Finished reading drug response matrix: (137835, 9)\n",
      "Finished reading cell-line graphs: Data(x=[293, 4], edge_index=[2, 874])\n",
      "Finished reading drug SMILES graphs: Data(x=[26, 9], edge_index=[2, 60], edge_attr=[60, 3], smiles='CC[C@@]1(c2cc3c4c(cc5ccccc5n4)Cn3c(=O)c2COC1=O)O')\n"
     ]
    }
   ],
   "source": [
    "import pickle\n",
    "import pandas as pd \n",
    "\n",
    "path_to_drm = '../data/processed/gdsc2/gdsc2_drm.pkl'\n",
    "path_to_gene_graphs = '../data/processed/gdsc2/990/thresh_gdsc2_990_gene_graphs.pkl'\n",
    "path_to_simles_graphs = '../data/processed/gdsc2/gdsc2_smiles_graphs.pkl'\n",
    "path_to_fps = '../data/processed/gdsc2/gdsc2_smiles_dict.pkl'\n",
    "\n",
    "with open(path_to_drm, 'rb') as f: \n",
    "    drm = pickle.load(f)\n",
    "    print(f\"Finished reading drug response matrix: {drm.shape}\")\n",
    "\n",
    "with open(path_to_gene_graphs, 'rb') as f:\n",
    "    cl_graphs = pd.read_pickle(f)\n",
    "    print(f\"Finished reading cell-line graphs: {cl_graphs['22RV1']}\")\n",
    "# Read drug smiles graphs.\n",
    "with open(path_to_simles_graphs, 'rb') as f: \n",
    "    drug_graphs = pickle.load(f)\n",
    "    print(f\"Finished reading drug SMILES graphs: {drug_graphs[1003]}\")\n",
    "    \n",
    "with open(path_to_fps, 'rb') as f:\n",
    "    fingerprints_dict = pickle.load(f)    "
   ]
  },
  {
   "cell_type": "code",
   "execution_count": 71,
   "id": "7507dcf2",
   "metadata": {},
   "outputs": [],
   "source": [
    "import torch\n",
    "\n",
    "model_trained = torch.load(\n",
    "    'performances/grid_experiments/model_performance_GraphTab_v1_gdsc2_990_42_GCNConv_Gcn2Gin990Max150.pth', \n",
    "    map_location=torch.device('cpu')\n",
    ")"
   ]
  },
  {
   "cell_type": "code",
   "execution_count": 30,
   "id": "c9078839",
   "metadata": {},
   "outputs": [
    {
     "data": {
      "text/plain": [
       "150"
      ]
     },
     "execution_count": 30,
     "metadata": {},
     "output_type": "execute_result"
    }
   ],
   "source": [
    "model_trained.get('num_epochs')"
   ]
  },
  {
   "cell_type": "code",
   "execution_count": 12,
   "id": "03576f75",
   "metadata": {},
   "outputs": [
    {
     "data": {
      "text/plain": [
       "['num_epochs',\n",
       " 'batch_size',\n",
       " 'learning_rate',\n",
       " 'train_ratio',\n",
       " 'test_ratio',\n",
       " 'early_stopping_thresh',\n",
       " 'model_state_dict',\n",
       " 'optimizer_state_dict',\n",
       " 'performances']"
      ]
     },
     "execution_count": 12,
     "metadata": {},
     "output_type": "execute_result"
    }
   ],
   "source": [
    "list(model_trained.keys())"
   ]
  },
  {
   "cell_type": "code",
   "execution_count": 88,
   "id": "b5f8ccf2",
   "metadata": {},
   "outputs": [
    {
     "name": "stdout",
     "output_type": "stream",
     "text": [
      "Namespace(batch_size=128, num_workers=1)\n",
      "Finished building GraphTabDataset!\n",
      "Device: cpu\n",
      "Finished BuildGraphTabModel()\n"
     ]
    },
    {
     "data": {
      "text/plain": [
       "GraphTab(\n",
       "  (cell_emb): Sequential(\n",
       "    (0): GCNConv(4, 128)\n",
       "    (1): BatchNorm1d(128, eps=1e-05, momentum=0.1, affine=True, track_running_stats=True)\n",
       "    (2): ReLU(inplace=True)\n",
       "    (3): GCNConv(128, 128)\n",
       "    (4): BatchNorm1d(128, eps=1e-05, momentum=0.1, affine=True, track_running_stats=True)\n",
       "    (5): <function global_max_pool at 0x7f21603b2050>\n",
       "    (6): Linear(in_features=128, out_features=128, bias=True)\n",
       "    (7): BatchNorm1d(128, eps=1e-05, momentum=0.1, affine=True, track_running_stats=True)\n",
       "    (8): ReLU()\n",
       "    (9): Dropout(p=0.1, inplace=False)\n",
       "    (10): Linear(in_features=128, out_features=128, bias=True)\n",
       "    (11): ReLU()\n",
       "  )\n",
       "  (drug_emb): Sequential(\n",
       "    (0): Linear(in_features=256, out_features=128, bias=True)\n",
       "    (1): BatchNorm1d(128, eps=1e-05, momentum=0.1, affine=True, track_running_stats=True)\n",
       "    (2): ReLU()\n",
       "    (3): Dropout(p=0.1, inplace=False)\n",
       "    (4): Linear(in_features=128, out_features=128, bias=True)\n",
       "    (5): BatchNorm1d(128, eps=1e-05, momentum=0.1, affine=True, track_running_stats=True)\n",
       "    (6): ReLU()\n",
       "  )\n",
       "  (fcn): Sequential(\n",
       "    (0): Linear(in_features=256, out_features=128, bias=True)\n",
       "    (1): BatchNorm1d(128, eps=1e-05, momentum=0.1, affine=True, track_running_stats=True)\n",
       "    (2): ELU(alpha=1.0)\n",
       "    (3): Dropout(p=0.1, inplace=False)\n",
       "    (4): Linear(in_features=128, out_features=64, bias=True)\n",
       "    (5): BatchNorm1d(64, eps=1e-05, momentum=0.1, affine=True, track_running_stats=True)\n",
       "    (6): ELU(alpha=1.0)\n",
       "    (7): Dropout(p=0.1, inplace=False)\n",
       "    (8): Linear(in_features=64, out_features=1, bias=True)\n",
       "  )\n",
       ")"
      ]
     },
     "execution_count": 88,
     "metadata": {},
     "output_type": "execute_result"
    }
   ],
   "source": [
    "import argparse\n",
    "\n",
    "parser = argparse.ArgumentParser()\n",
    "parser.add_argument('--batch_size', type=int, default=128, help='the batch size (default: 10)')\n",
    "parser.add_argument('--num_workers', type=int, default=1, help='number of workers for DataLoader (default: 4)')\n",
    "args, unknown = parser.parse_known_args()\n",
    "print(args)\n",
    "\n",
    "graph_tab_dataset = GraphTabDataset(\n",
    "    cl_graphs, \n",
    "    fingerprints_dict, \n",
    "    drm\n",
    ")\n",
    "print(\"Finished building GraphTabDataset!\")\n",
    "\n",
    "drm_train, drm_test = train_test_split(\n",
    "    drm, \n",
    "    test_size=model_trained.get('test_ratio'),\n",
    "    random_state=42,\n",
    "    stratify=drm['CELL_LINE_NAME']\n",
    ")\n",
    "\n",
    "train_loader, test_loader = create_gt_loaders(\n",
    "    drm_train,\n",
    "    drm_test,\n",
    "    cl_graphs,\n",
    "    fingerprints_dict,\n",
    "    args\n",
    ")\n",
    "\n",
    "device = torch.device(\"cpu\")\n",
    "print(f\"Device: {device}\")\n",
    "\n",
    "model_temp = GraphTab(\n",
    "    dropout=0.1,\n",
    "    conv_type='GCNConv',\n",
    "    conv_layers=2\n",
    ")    \n",
    "\n",
    "loss_func = nn.MSELoss()\n",
    "optimizer = torch.optim.Adam(\n",
    "    params=model_temp.parameters(), \n",
    "    lr=model_trained.get('learning_rate'),\n",
    "    weight_decay=0.0\n",
    ") \n",
    "\n",
    "model = BuildGraphTabModel(\n",
    "    model=model_temp, \n",
    "    criterion=loss_func, \n",
    "    optimizer=optimizer,\n",
    "    num_epochs=model_trained.get('num_epochs'), \n",
    "    train_loader=train_loader,\n",
    "    test_loader=test_loader,\n",
    "    early_stopping_threshold=model_trained.get('early_stopping_thresh'),            \n",
    "    device=torch.device(\"cuda\" if torch.cuda.is_available() else \"cpu\")\n",
    ")\n",
    "print(\"Finished BuildGraphTabModel()\")\n",
    "\n",
    "model_state_dict = model_trained.get('model_state_dict')\n",
    "# model_state_dict = {k: v.to(device) for k, v in model_state_dict.items()}\n",
    "for key in model_state_dict:\n",
    "    model_state_dict[key] = model_state_dict[key].to(torch.device('cpu'))\n",
    "    \n",
    "model.device = device\n",
    "\n",
    "model.model.load_state_dict(model_state_dict)\n",
    "model.model.to(device)"
   ]
  },
  {
   "cell_type": "code",
   "execution_count": 89,
   "id": "49230ad6",
   "metadata": {},
   "outputs": [
    {
     "name": "stderr",
     "output_type": "stream",
     "text": [
      "Iteration (val): 100%|██████████| 216/216 [00:32<00:00,  6.61it/s]\n"
     ]
    }
   ],
   "source": [
    "mse, rmse, mae, r2, pcc, scc, _, _ = model.validate(test_loader)"
   ]
  },
  {
   "cell_type": "code",
   "execution_count": 91,
   "id": "5337b5c9",
   "metadata": {},
   "outputs": [
    {
     "name": "stdout",
     "output_type": "stream",
     "text": [
      "Test  | MSE: 0.976815938949585 | RMSE: 0.9883400201797485 | MAE: 0.7357728481292725 | R2: 0.8622735007309632 | PCC: 0.9288251886397159 | SCC: 0.9070859795797119\n"
     ]
    }
   ],
   "source": [
    "print(f\"Test  | MSE: {mse} | RMSE: {rmse} | MAE: {mae} | R2: {r2} | PCC: {pcc} | SCC: {scc}\")   "
   ]
  },
  {
   "cell_type": "markdown",
   "id": "dcc7073d",
   "metadata": {},
   "source": [
    "## Drug Mean Baseline\n",
    "\n",
    "In this section we are going to calculate the performance if we would exclusively predict the drug mean from the training set."
   ]
  },
  {
   "cell_type": "code",
   "execution_count": 92,
   "id": "740775e9",
   "metadata": {},
   "outputs": [
    {
     "name": "stdout",
     "output_type": "stream",
     "text": [
      "Finished reading drug response matrix: (137835, 9)\n"
     ]
    },
    {
     "data": {
      "text/html": [
       "<div>\n",
       "<style scoped>\n",
       "    .dataframe tbody tr th:only-of-type {\n",
       "        vertical-align: middle;\n",
       "    }\n",
       "\n",
       "    .dataframe tbody tr th {\n",
       "        vertical-align: top;\n",
       "    }\n",
       "\n",
       "    .dataframe thead th {\n",
       "        text-align: right;\n",
       "    }\n",
       "</style>\n",
       "<table border=\"1\" class=\"dataframe\">\n",
       "  <thead>\n",
       "    <tr style=\"text-align: right;\">\n",
       "      <th></th>\n",
       "      <th>DATASET</th>\n",
       "      <th>CELL_LINE_NAME</th>\n",
       "      <th>DRUG_NAME</th>\n",
       "      <th>DRUG_ID</th>\n",
       "      <th>SANGER_MODEL_ID</th>\n",
       "      <th>AUC</th>\n",
       "      <th>RMSE</th>\n",
       "      <th>Z_SCORE</th>\n",
       "      <th>LN_IC50</th>\n",
       "    </tr>\n",
       "  </thead>\n",
       "  <tbody>\n",
       "    <tr>\n",
       "      <th>333161</th>\n",
       "      <td>GDSC2</td>\n",
       "      <td>PFSK-1</td>\n",
       "      <td>Camptothecin</td>\n",
       "      <td>1003</td>\n",
       "      <td>SIDM01132</td>\n",
       "      <td>0.930105</td>\n",
       "      <td>0.088999</td>\n",
       "      <td>0.432482</td>\n",
       "      <td>-1.462148</td>\n",
       "    </tr>\n",
       "    <tr>\n",
       "      <th>333162</th>\n",
       "      <td>GDSC2</td>\n",
       "      <td>A673</td>\n",
       "      <td>Camptothecin</td>\n",
       "      <td>1003</td>\n",
       "      <td>SIDM00848</td>\n",
       "      <td>0.614932</td>\n",
       "      <td>0.111423</td>\n",
       "      <td>-1.420322</td>\n",
       "      <td>-4.869447</td>\n",
       "    </tr>\n",
       "    <tr>\n",
       "      <th>333163</th>\n",
       "      <td>GDSC2</td>\n",
       "      <td>ES5</td>\n",
       "      <td>Camptothecin</td>\n",
       "      <td>1003</td>\n",
       "      <td>SIDM00263</td>\n",
       "      <td>0.790953</td>\n",
       "      <td>0.142754</td>\n",
       "      <td>-0.599894</td>\n",
       "      <td>-3.360684</td>\n",
       "    </tr>\n",
       "  </tbody>\n",
       "</table>\n",
       "</div>"
      ],
      "text/plain": [
       "       DATASET CELL_LINE_NAME     DRUG_NAME  DRUG_ID SANGER_MODEL_ID  \\\n",
       "333161   GDSC2         PFSK-1  Camptothecin     1003       SIDM01132   \n",
       "333162   GDSC2           A673  Camptothecin     1003       SIDM00848   \n",
       "333163   GDSC2            ES5  Camptothecin     1003       SIDM00263   \n",
       "\n",
       "             AUC      RMSE   Z_SCORE   LN_IC50  \n",
       "333161  0.930105  0.088999  0.432482 -1.462148  \n",
       "333162  0.614932  0.111423 -1.420322 -4.869447  \n",
       "333163  0.790953  0.142754 -0.599894 -3.360684  "
      ]
     },
     "execution_count": 92,
     "metadata": {},
     "output_type": "execute_result"
    }
   ],
   "source": [
    "import pickle\n",
    "import pandas as pd \n",
    "\n",
    "path_to_drm = '../data/processed/gdsc2/gdsc2_drm.pkl'\n",
    "\n",
    "with open(path_to_drm, 'rb') as f: \n",
    "    drm = pickle.load(f)\n",
    "    print(f\"Finished reading drug response matrix: {drm.shape}\")\n",
    "drm.head(3)"
   ]
  },
  {
   "cell_type": "code",
   "execution_count": 107,
   "id": "11c0b771",
   "metadata": {},
   "outputs": [
    {
     "name": "stdout",
     "output_type": "stream",
     "text": [
      "train: 110,268\n",
      "test :  27,567\n"
     ]
    }
   ],
   "source": [
    "drm_train, drm_test = train_test_split(\n",
    "    drm, \n",
    "    test_size=0.2,\n",
    "    random_state=42,\n",
    "    stratify=drm['CELL_LINE_NAME']\n",
    ")\n",
    "print(f\"train: {drm_train.shape[0]:7,}\")\n",
    "print(f\"test : {drm_test.shape[0]:7,}\")"
   ]
  },
  {
   "cell_type": "code",
   "execution_count": 101,
   "id": "db230c16",
   "metadata": {},
   "outputs": [
    {
     "data": {
      "text/html": [
       "<div>\n",
       "<style scoped>\n",
       "    .dataframe tbody tr th:only-of-type {\n",
       "        vertical-align: middle;\n",
       "    }\n",
       "\n",
       "    .dataframe tbody tr th {\n",
       "        vertical-align: top;\n",
       "    }\n",
       "\n",
       "    .dataframe thead th {\n",
       "        text-align: right;\n",
       "    }\n",
       "</style>\n",
       "<table border=\"1\" class=\"dataframe\">\n",
       "  <thead>\n",
       "    <tr style=\"text-align: right;\">\n",
       "      <th></th>\n",
       "      <th>DRUG_NAME</th>\n",
       "      <th>AVG_LN_IC50</th>\n",
       "    </tr>\n",
       "  </thead>\n",
       "  <tbody>\n",
       "    <tr>\n",
       "      <th>0</th>\n",
       "      <td>5-Fluorouracil</td>\n",
       "      <td>4.400241</td>\n",
       "    </tr>\n",
       "    <tr>\n",
       "      <th>1</th>\n",
       "      <td>ABT737</td>\n",
       "      <td>1.881357</td>\n",
       "    </tr>\n",
       "    <tr>\n",
       "      <th>2</th>\n",
       "      <td>AGI-5198</td>\n",
       "      <td>4.704752</td>\n",
       "    </tr>\n",
       "  </tbody>\n",
       "</table>\n",
       "</div>"
      ],
      "text/plain": [
       "        DRUG_NAME  AVG_LN_IC50\n",
       "0  5-Fluorouracil     4.400241\n",
       "1          ABT737     1.881357\n",
       "2        AGI-5198     4.704752"
      ]
     },
     "execution_count": 101,
     "metadata": {},
     "output_type": "execute_result"
    }
   ],
   "source": [
    "drug_mean_train = drm_train.groupby(['DRUG_NAME'])['LN_IC50'].mean().to_frame().reset_index()\n",
    "drug_mean_train.rename(columns={'LN_IC50': 'AVG_LN_IC50'}, inplace=True)\n",
    "drug_mean_train.head(3)"
   ]
  },
  {
   "cell_type": "code",
   "execution_count": 110,
   "id": "d8b9b5ea",
   "metadata": {},
   "outputs": [
    {
     "name": "stdout",
     "output_type": "stream",
     "text": [
      "(27567, 10)\n"
     ]
    },
    {
     "data": {
      "text/html": [
       "<div>\n",
       "<style scoped>\n",
       "    .dataframe tbody tr th:only-of-type {\n",
       "        vertical-align: middle;\n",
       "    }\n",
       "\n",
       "    .dataframe tbody tr th {\n",
       "        vertical-align: top;\n",
       "    }\n",
       "\n",
       "    .dataframe thead th {\n",
       "        text-align: right;\n",
       "    }\n",
       "</style>\n",
       "<table border=\"1\" class=\"dataframe\">\n",
       "  <thead>\n",
       "    <tr style=\"text-align: right;\">\n",
       "      <th></th>\n",
       "      <th>DATASET</th>\n",
       "      <th>CELL_LINE_NAME</th>\n",
       "      <th>DRUG_NAME</th>\n",
       "      <th>DRUG_ID</th>\n",
       "      <th>SANGER_MODEL_ID</th>\n",
       "      <th>AUC</th>\n",
       "      <th>RMSE</th>\n",
       "      <th>Z_SCORE</th>\n",
       "      <th>LN_IC50</th>\n",
       "      <th>AVG_LN_IC50</th>\n",
       "    </tr>\n",
       "  </thead>\n",
       "  <tbody>\n",
       "    <tr>\n",
       "      <th>0</th>\n",
       "      <td>GDSC2</td>\n",
       "      <td>GOTO</td>\n",
       "      <td>Dinaciclib</td>\n",
       "      <td>1180</td>\n",
       "      <td>SIDM00544</td>\n",
       "      <td>0.735695</td>\n",
       "      <td>0.116286</td>\n",
       "      <td>0.797829</td>\n",
       "      <td>-1.478976</td>\n",
       "      <td>-2.675501</td>\n",
       "    </tr>\n",
       "    <tr>\n",
       "      <th>1</th>\n",
       "      <td>GDSC2</td>\n",
       "      <td>COR-L311</td>\n",
       "      <td>AZ960</td>\n",
       "      <td>1250</td>\n",
       "      <td>SIDM00509</td>\n",
       "      <td>0.841005</td>\n",
       "      <td>0.126621</td>\n",
       "      <td>-0.124919</td>\n",
       "      <td>1.680296</td>\n",
       "      <td>1.916362</td>\n",
       "    </tr>\n",
       "    <tr>\n",
       "      <th>2</th>\n",
       "      <td>GDSC2</td>\n",
       "      <td>SCC-25</td>\n",
       "      <td>Ruxolitinib</td>\n",
       "      <td>1507</td>\n",
       "      <td>SIDM01082</td>\n",
       "      <td>0.968012</td>\n",
       "      <td>0.056758</td>\n",
       "      <td>-0.522201</td>\n",
       "      <td>4.190730</td>\n",
       "      <td>4.789988</td>\n",
       "    </tr>\n",
       "  </tbody>\n",
       "</table>\n",
       "</div>"
      ],
      "text/plain": [
       "  DATASET CELL_LINE_NAME    DRUG_NAME  DRUG_ID SANGER_MODEL_ID       AUC  \\\n",
       "0   GDSC2           GOTO   Dinaciclib     1180       SIDM00544  0.735695   \n",
       "1   GDSC2       COR-L311        AZ960     1250       SIDM00509  0.841005   \n",
       "2   GDSC2         SCC-25  Ruxolitinib     1507       SIDM01082  0.968012   \n",
       "\n",
       "       RMSE   Z_SCORE   LN_IC50  AVG_LN_IC50  \n",
       "0  0.116286  0.797829 -1.478976    -2.675501  \n",
       "1  0.126621 -0.124919  1.680296     1.916362  \n",
       "2  0.056758 -0.522201  4.190730     4.789988  "
      ]
     },
     "execution_count": 110,
     "metadata": {},
     "output_type": "execute_result"
    }
   ],
   "source": [
    "drm_test_with_avg = pd.merge(drm_test, drug_mean_train, on='DRUG_NAME', how='left')\n",
    "print(drm_test_with_avg.shape)\n",
    "drm_test_with_avg.head(3)"
   ]
  },
  {
   "cell_type": "code",
   "execution_count": 115,
   "id": "b1ec2ca4",
   "metadata": {},
   "outputs": [],
   "source": [
    "# --- Calculate metrics ---\n",
    "import numpy as np\n",
    "import pandas as pd\n",
    "from sklearn.metrics import mean_squared_error, mean_absolute_error, r2_score\n",
    "from scipy.stats     import pearsonr, spearmanr"
   ]
  },
  {
   "cell_type": "code",
   "execution_count": 120,
   "id": "c9224c26",
   "metadata": {},
   "outputs": [
    {
     "name": "stdout",
     "output_type": "stream",
     "text": [
      "MSE : 2.4007143763336902\n",
      "RMSE: 1.5494238852985616\n",
      "MAE : 1.164739616495685\n",
      "PCC : 0.8137098935802614\n",
      "SCC : 0.7705617591171653\n",
      "R2  : 0.6620864191924242\n"
     ]
    }
   ],
   "source": [
    "y_true = drm_test_with_avg['LN_IC50'].values.tolist()\n",
    "y_pred = drm_test_with_avg['AVG_LN_IC50'].values.tolist()\n",
    "\n",
    "mse = mean_squared_error(y_true, y_pred)\n",
    "rmse = np.sqrt(mse)\n",
    "mae = mean_absolute_error(y_true, y_pred)\n",
    "pcc = pearsonr(y_true, y_pred).statistic\n",
    "scc = spearmanr(y_true, y_pred).statistic\n",
    "r2 = r2_score(y_true, y_pred)\n",
    "\n",
    "print(f\"MSE : {mse}\")\n",
    "print(f\"RMSE: {rmse}\")\n",
    "print(f\"MAE : {mae}\")\n",
    "print(f\"PCC : {pcc}\")\n",
    "print(f\"SCC : {scc}\")\n",
    "print(f\"R2  : {r2}\")"
   ]
  },
  {
   "cell_type": "code",
   "execution_count": null,
   "id": "5df079f8",
   "metadata": {},
   "outputs": [],
   "source": []
  }
 ],
 "metadata": {
  "kernelspec": {
   "display_name": "conda_gnn2803",
   "language": "python",
   "name": "conda_gnn2803"
  },
  "language_info": {
   "codemirror_mode": {
    "name": "ipython",
    "version": 3
   },
   "file_extension": ".py",
   "mimetype": "text/x-python",
   "name": "python",
   "nbconvert_exporter": "python",
   "pygments_lexer": "ipython3",
   "version": "3.10.4"
  }
 },
 "nbformat": 4,
 "nbformat_minor": 5
}
