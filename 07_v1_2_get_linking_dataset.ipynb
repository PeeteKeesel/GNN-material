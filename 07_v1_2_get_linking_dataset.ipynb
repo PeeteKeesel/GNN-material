{
 "cells": [
  {
   "cell_type": "code",
   "execution_count": 380,
   "metadata": {},
   "outputs": [],
   "source": [
    "import sys\n",
    "import time\n",
    "import os\n",
    "import gzip\n",
    "import copy\n",
    "import pickle\n",
    "import numpy as np\n",
    "import pandas as pd\n",
    "import matplotlib.pyplot as plt \n",
    "import seaborn as sns\n",
    "import torch\n",
    "import torch.nn as nn\n",
    "from torch_geometric.data import Data\n",
    "from tqdm import tqdm\n",
    "import networkx as nx\n",
    "import torch_geometric\n",
    "\n",
    "from io import BytesIO\n",
    "from time import sleep \n",
    "from tqdm import tqdm\n",
    "\n",
    "from config import (\n",
    "    PATH_TO_FEATURES    \n",
    ")\n",
    "\n",
    "PATH_TO_LINKING_DATA = '../../datasets/string/'\n",
    "PATH_TO_SAVE_DATA_TO = '../../datasets/string/my_datasets/'\n",
    "\n",
    "PROTEIN_LINKS_FILE = '9606.protein.links.detailed.v11.5.txt.gz'\n",
    "PROTEIN_INFO_FILE = '9606.protein.info.v11.5.txt.gz'\n",
    "\n",
    "sns.set_theme(style=\"white\")"
   ]
  },
  {
   "cell_type": "markdown",
   "metadata": {},
   "source": [
    "## Protein links"
   ]
  },
  {
   "cell_type": "code",
   "execution_count": 3,
   "metadata": {},
   "outputs": [
    {
     "name": "stdout",
     "output_type": "stream",
     "text": [
      "(11938498, 10)\n"
     ]
    },
    {
     "data": {
      "text/html": [
       "<div>\n",
       "<style scoped>\n",
       "    .dataframe tbody tr th:only-of-type {\n",
       "        vertical-align: middle;\n",
       "    }\n",
       "\n",
       "    .dataframe tbody tr th {\n",
       "        vertical-align: top;\n",
       "    }\n",
       "\n",
       "    .dataframe thead th {\n",
       "        text-align: right;\n",
       "    }\n",
       "</style>\n",
       "<table border=\"1\" class=\"dataframe\">\n",
       "  <thead>\n",
       "    <tr style=\"text-align: right;\">\n",
       "      <th></th>\n",
       "      <th>protein1</th>\n",
       "      <th>protein2</th>\n",
       "      <th>neighborhood</th>\n",
       "      <th>fusion</th>\n",
       "      <th>cooccurence</th>\n",
       "      <th>coexpression</th>\n",
       "      <th>experimental</th>\n",
       "      <th>database</th>\n",
       "      <th>textmining</th>\n",
       "      <th>combined_score</th>\n",
       "    </tr>\n",
       "  </thead>\n",
       "  <tbody>\n",
       "    <tr>\n",
       "      <th>0</th>\n",
       "      <td>9606.ENSP00000000233</td>\n",
       "      <td>9606.ENSP00000379496</td>\n",
       "      <td>0</td>\n",
       "      <td>0</td>\n",
       "      <td>0</td>\n",
       "      <td>54</td>\n",
       "      <td>0</td>\n",
       "      <td>0</td>\n",
       "      <td>144</td>\n",
       "      <td>155</td>\n",
       "    </tr>\n",
       "    <tr>\n",
       "      <th>1</th>\n",
       "      <td>9606.ENSP00000000233</td>\n",
       "      <td>9606.ENSP00000314067</td>\n",
       "      <td>0</td>\n",
       "      <td>0</td>\n",
       "      <td>0</td>\n",
       "      <td>0</td>\n",
       "      <td>180</td>\n",
       "      <td>0</td>\n",
       "      <td>61</td>\n",
       "      <td>197</td>\n",
       "    </tr>\n",
       "    <tr>\n",
       "      <th>2</th>\n",
       "      <td>9606.ENSP00000000233</td>\n",
       "      <td>9606.ENSP00000263116</td>\n",
       "      <td>0</td>\n",
       "      <td>0</td>\n",
       "      <td>0</td>\n",
       "      <td>62</td>\n",
       "      <td>152</td>\n",
       "      <td>0</td>\n",
       "      <td>101</td>\n",
       "      <td>222</td>\n",
       "    </tr>\n",
       "    <tr>\n",
       "      <th>3</th>\n",
       "      <td>9606.ENSP00000000233</td>\n",
       "      <td>9606.ENSP00000361263</td>\n",
       "      <td>0</td>\n",
       "      <td>0</td>\n",
       "      <td>0</td>\n",
       "      <td>0</td>\n",
       "      <td>161</td>\n",
       "      <td>0</td>\n",
       "      <td>64</td>\n",
       "      <td>181</td>\n",
       "    </tr>\n",
       "    <tr>\n",
       "      <th>4</th>\n",
       "      <td>9606.ENSP00000000233</td>\n",
       "      <td>9606.ENSP00000409666</td>\n",
       "      <td>0</td>\n",
       "      <td>0</td>\n",
       "      <td>0</td>\n",
       "      <td>82</td>\n",
       "      <td>213</td>\n",
       "      <td>0</td>\n",
       "      <td>72</td>\n",
       "      <td>270</td>\n",
       "    </tr>\n",
       "  </tbody>\n",
       "</table>\n",
       "</div>"
      ],
      "text/plain": [
       "               protein1              protein2  neighborhood  fusion  \\\n",
       "0  9606.ENSP00000000233  9606.ENSP00000379496             0       0   \n",
       "1  9606.ENSP00000000233  9606.ENSP00000314067             0       0   \n",
       "2  9606.ENSP00000000233  9606.ENSP00000263116             0       0   \n",
       "3  9606.ENSP00000000233  9606.ENSP00000361263             0       0   \n",
       "4  9606.ENSP00000000233  9606.ENSP00000409666             0       0   \n",
       "\n",
       "   cooccurence  coexpression  experimental  database  textmining  \\\n",
       "0            0            54             0         0         144   \n",
       "1            0             0           180         0          61   \n",
       "2            0            62           152         0         101   \n",
       "3            0             0           161         0          64   \n",
       "4            0            82           213         0          72   \n",
       "\n",
       "   combined_score  \n",
       "0             155  \n",
       "1             197  \n",
       "2             222  \n",
       "3             181  \n",
       "4             270  "
      ]
     },
     "execution_count": 3,
     "metadata": {},
     "output_type": "execute_result"
    }
   ],
   "source": [
    "# Read content of .gz file as bytes.\n",
    "contents = gzip.open(f'{PATH_TO_LINKING_DATA}{PROTEIN_LINKS_FILE}', \"rb\").read()\n",
    "\n",
    "# Convert bytes to pd.DataFrame.\n",
    "data = BytesIO(contents)\n",
    "protein_links_v1 = pd.read_csv(data, sep=' ')\n",
    "\n",
    "print(protein_links_v1.shape)\n",
    "protein_links_v1.head(5)"
   ]
  },
  {
   "cell_type": "code",
   "execution_count": 4,
   "metadata": {},
   "outputs": [
    {
     "data": {
      "text/html": [
       "<div>\n",
       "<style scoped>\n",
       "    .dataframe tbody tr th:only-of-type {\n",
       "        vertical-align: middle;\n",
       "    }\n",
       "\n",
       "    .dataframe tbody tr th {\n",
       "        vertical-align: top;\n",
       "    }\n",
       "\n",
       "    .dataframe thead th {\n",
       "        text-align: right;\n",
       "    }\n",
       "</style>\n",
       "<table border=\"1\" class=\"dataframe\">\n",
       "  <thead>\n",
       "    <tr style=\"text-align: right;\">\n",
       "      <th></th>\n",
       "      <th>protein1</th>\n",
       "      <th>protein2</th>\n",
       "      <th>neighborhood</th>\n",
       "      <th>fusion</th>\n",
       "      <th>cooccurence</th>\n",
       "      <th>coexpression</th>\n",
       "      <th>experimental</th>\n",
       "      <th>database</th>\n",
       "      <th>textmining</th>\n",
       "      <th>combined_score</th>\n",
       "    </tr>\n",
       "  </thead>\n",
       "  <tbody>\n",
       "    <tr>\n",
       "      <th>0</th>\n",
       "      <td>ENSP00000000233</td>\n",
       "      <td>ENSP00000379496</td>\n",
       "      <td>0</td>\n",
       "      <td>0</td>\n",
       "      <td>0</td>\n",
       "      <td>54</td>\n",
       "      <td>0</td>\n",
       "      <td>0</td>\n",
       "      <td>144</td>\n",
       "      <td>155</td>\n",
       "    </tr>\n",
       "    <tr>\n",
       "      <th>1</th>\n",
       "      <td>ENSP00000000233</td>\n",
       "      <td>ENSP00000314067</td>\n",
       "      <td>0</td>\n",
       "      <td>0</td>\n",
       "      <td>0</td>\n",
       "      <td>0</td>\n",
       "      <td>180</td>\n",
       "      <td>0</td>\n",
       "      <td>61</td>\n",
       "      <td>197</td>\n",
       "    </tr>\n",
       "    <tr>\n",
       "      <th>2</th>\n",
       "      <td>ENSP00000000233</td>\n",
       "      <td>ENSP00000263116</td>\n",
       "      <td>0</td>\n",
       "      <td>0</td>\n",
       "      <td>0</td>\n",
       "      <td>62</td>\n",
       "      <td>152</td>\n",
       "      <td>0</td>\n",
       "      <td>101</td>\n",
       "      <td>222</td>\n",
       "    </tr>\n",
       "  </tbody>\n",
       "</table>\n",
       "</div>"
      ],
      "text/plain": [
       "          protein1         protein2  neighborhood  fusion  cooccurence  \\\n",
       "0  ENSP00000000233  ENSP00000379496             0       0            0   \n",
       "1  ENSP00000000233  ENSP00000314067             0       0            0   \n",
       "2  ENSP00000000233  ENSP00000263116             0       0            0   \n",
       "\n",
       "   coexpression  experimental  database  textmining  combined_score  \n",
       "0            54             0         0         144             155  \n",
       "1             0           180         0          61             197  \n",
       "2            62           152         0         101             222  "
      ]
     },
     "execution_count": 4,
     "metadata": {},
     "output_type": "execute_result"
    }
   ],
   "source": [
    "# Exclude the Homo Sapiens taxonomy ID from the protein columns.\n",
    "protein_links_v2 = protein_links_v1.copy()\n",
    "protein_links_v2.protein1 = protein_links_v2.protein1.str[5:]\n",
    "protein_links_v2.protein2 = protein_links_v2.protein2.str[5:]\n",
    "protein_links_v2.head(3)"
   ]
  },
  {
   "cell_type": "markdown",
   "metadata": {},
   "source": [
    "## Protein Info"
   ]
  },
  {
   "cell_type": "code",
   "execution_count": 5,
   "metadata": {},
   "outputs": [
    {
     "name": "stdout",
     "output_type": "stream",
     "text": [
      "(19566, 4)\n"
     ]
    },
    {
     "data": {
      "text/html": [
       "<div>\n",
       "<style scoped>\n",
       "    .dataframe tbody tr th:only-of-type {\n",
       "        vertical-align: middle;\n",
       "    }\n",
       "\n",
       "    .dataframe tbody tr th {\n",
       "        vertical-align: top;\n",
       "    }\n",
       "\n",
       "    .dataframe thead th {\n",
       "        text-align: right;\n",
       "    }\n",
       "</style>\n",
       "<table border=\"1\" class=\"dataframe\">\n",
       "  <thead>\n",
       "    <tr style=\"text-align: right;\">\n",
       "      <th></th>\n",
       "      <th>#string_protein_id</th>\n",
       "      <th>preferred_name</th>\n",
       "      <th>protein_size</th>\n",
       "      <th>annotation</th>\n",
       "    </tr>\n",
       "  </thead>\n",
       "  <tbody>\n",
       "    <tr>\n",
       "      <th>0</th>\n",
       "      <td>9606.ENSP00000000233</td>\n",
       "      <td>ARF5</td>\n",
       "      <td>180</td>\n",
       "      <td>ADP-ribosylation factor 5; GTP-binding protein...</td>\n",
       "    </tr>\n",
       "    <tr>\n",
       "      <th>1</th>\n",
       "      <td>9606.ENSP00000000412</td>\n",
       "      <td>M6PR</td>\n",
       "      <td>277</td>\n",
       "      <td>Cation-dependent mannose-6-phosphate receptor;...</td>\n",
       "    </tr>\n",
       "    <tr>\n",
       "      <th>2</th>\n",
       "      <td>9606.ENSP00000001008</td>\n",
       "      <td>FKBP4</td>\n",
       "      <td>459</td>\n",
       "      <td>Peptidyl-prolyl cis-trans isomerase FKBP4; Imm...</td>\n",
       "    </tr>\n",
       "    <tr>\n",
       "      <th>3</th>\n",
       "      <td>9606.ENSP00000001146</td>\n",
       "      <td>CYP26B1</td>\n",
       "      <td>512</td>\n",
       "      <td>Cytochrome P450 26B1; Involved in the metaboli...</td>\n",
       "    </tr>\n",
       "    <tr>\n",
       "      <th>4</th>\n",
       "      <td>9606.ENSP00000002125</td>\n",
       "      <td>NDUFAF7</td>\n",
       "      <td>441</td>\n",
       "      <td>Protein arginine methyltransferase NDUFAF7, mi...</td>\n",
       "    </tr>\n",
       "  </tbody>\n",
       "</table>\n",
       "</div>"
      ],
      "text/plain": [
       "     #string_protein_id preferred_name  protein_size  \\\n",
       "0  9606.ENSP00000000233           ARF5           180   \n",
       "1  9606.ENSP00000000412           M6PR           277   \n",
       "2  9606.ENSP00000001008          FKBP4           459   \n",
       "3  9606.ENSP00000001146        CYP26B1           512   \n",
       "4  9606.ENSP00000002125        NDUFAF7           441   \n",
       "\n",
       "                                          annotation  \n",
       "0  ADP-ribosylation factor 5; GTP-binding protein...  \n",
       "1  Cation-dependent mannose-6-phosphate receptor;...  \n",
       "2  Peptidyl-prolyl cis-trans isomerase FKBP4; Imm...  \n",
       "3  Cytochrome P450 26B1; Involved in the metaboli...  \n",
       "4  Protein arginine methyltransferase NDUFAF7, mi...  "
      ]
     },
     "execution_count": 5,
     "metadata": {},
     "output_type": "execute_result"
    }
   ],
   "source": [
    "# Read content of .gz file as bytes.\n",
    "contents = gzip.open(f'{PATH_TO_LINKING_DATA}{PROTEIN_INFO_FILE}', \"rb\").read()\n",
    "\n",
    "# Convert bytes to pd.DataFrame.\n",
    "data = BytesIO(contents)\n",
    "protein_info_v1 = pd.read_csv(data, sep='\\t')\n",
    "\n",
    "print(protein_info_v1.shape)\n",
    "protein_info_v1.head(5)"
   ]
  },
  {
   "cell_type": "code",
   "execution_count": 6,
   "metadata": {},
   "outputs": [
    {
     "data": {
      "text/html": [
       "<div>\n",
       "<style scoped>\n",
       "    .dataframe tbody tr th:only-of-type {\n",
       "        vertical-align: middle;\n",
       "    }\n",
       "\n",
       "    .dataframe tbody tr th {\n",
       "        vertical-align: top;\n",
       "    }\n",
       "\n",
       "    .dataframe thead th {\n",
       "        text-align: right;\n",
       "    }\n",
       "</style>\n",
       "<table border=\"1\" class=\"dataframe\">\n",
       "  <thead>\n",
       "    <tr style=\"text-align: right;\">\n",
       "      <th></th>\n",
       "      <th>string_protein_id</th>\n",
       "      <th>preferred_name</th>\n",
       "      <th>protein_size</th>\n",
       "      <th>annotation</th>\n",
       "    </tr>\n",
       "  </thead>\n",
       "  <tbody>\n",
       "    <tr>\n",
       "      <th>0</th>\n",
       "      <td>ENSP00000000233</td>\n",
       "      <td>ARF5</td>\n",
       "      <td>180</td>\n",
       "      <td>ADP-ribosylation factor 5; GTP-binding protein...</td>\n",
       "    </tr>\n",
       "    <tr>\n",
       "      <th>1</th>\n",
       "      <td>ENSP00000000412</td>\n",
       "      <td>M6PR</td>\n",
       "      <td>277</td>\n",
       "      <td>Cation-dependent mannose-6-phosphate receptor;...</td>\n",
       "    </tr>\n",
       "    <tr>\n",
       "      <th>2</th>\n",
       "      <td>ENSP00000001008</td>\n",
       "      <td>FKBP4</td>\n",
       "      <td>459</td>\n",
       "      <td>Peptidyl-prolyl cis-trans isomerase FKBP4; Imm...</td>\n",
       "    </tr>\n",
       "  </tbody>\n",
       "</table>\n",
       "</div>"
      ],
      "text/plain": [
       "  string_protein_id preferred_name  protein_size  \\\n",
       "0   ENSP00000000233           ARF5           180   \n",
       "1   ENSP00000000412           M6PR           277   \n",
       "2   ENSP00000001008          FKBP4           459   \n",
       "\n",
       "                                          annotation  \n",
       "0  ADP-ribosylation factor 5; GTP-binding protein...  \n",
       "1  Cation-dependent mannose-6-phosphate receptor;...  \n",
       "2  Peptidyl-prolyl cis-trans isomerase FKBP4; Imm...  "
      ]
     },
     "execution_count": 6,
     "metadata": {},
     "output_type": "execute_result"
    }
   ],
   "source": [
    "# Rename protein identifier column.\n",
    "protein_info_v2 = protein_info_v1.rename(columns={'#string_protein_id': 'string_protein_id'}, inplace=False)\n",
    "\n",
    "# Exclude the Homo Sapiens taxonomy ID from the protein columns.\n",
    "protein_info_v2.string_protein_id = protein_info_v2.string_protein_id.str[5:]\n",
    "protein_info_v2.head(3)"
   ]
  },
  {
   "cell_type": "markdown",
   "metadata": {},
   "source": [
    "## Combine protein link and info"
   ]
  },
  {
   "cell_type": "code",
   "execution_count": 9,
   "metadata": {},
   "outputs": [
    {
     "name": "stdout",
     "output_type": "stream",
     "text": [
      "\n",
      "    Shape:\n",
      "        before joining : (11938498, 10)\n",
      "        after  joining : (11938498, 12)\n",
      "\n",
      "gene_symbol1    0\n",
      "gene_symbol2    0\n",
      "dtype: int64\n",
      "\n",
      "    There are \n",
      "        19382 unique gene_symbol1\n",
      "        19382 unique gene_symbol2\n",
      "\n"
     ]
    },
    {
     "data": {
      "text/html": [
       "<div>\n",
       "<style scoped>\n",
       "    .dataframe tbody tr th:only-of-type {\n",
       "        vertical-align: middle;\n",
       "    }\n",
       "\n",
       "    .dataframe tbody tr th {\n",
       "        vertical-align: top;\n",
       "    }\n",
       "\n",
       "    .dataframe thead th {\n",
       "        text-align: right;\n",
       "    }\n",
       "</style>\n",
       "<table border=\"1\" class=\"dataframe\">\n",
       "  <thead>\n",
       "    <tr style=\"text-align: right;\">\n",
       "      <th></th>\n",
       "      <th>protein1</th>\n",
       "      <th>protein2</th>\n",
       "      <th>neighborhood</th>\n",
       "      <th>fusion</th>\n",
       "      <th>cooccurence</th>\n",
       "      <th>coexpression</th>\n",
       "      <th>experimental</th>\n",
       "      <th>database</th>\n",
       "      <th>textmining</th>\n",
       "      <th>combined_score</th>\n",
       "      <th>gene_symbol1</th>\n",
       "      <th>gene_symbol2</th>\n",
       "    </tr>\n",
       "  </thead>\n",
       "  <tbody>\n",
       "    <tr>\n",
       "      <th>0</th>\n",
       "      <td>ENSP00000000233</td>\n",
       "      <td>ENSP00000379496</td>\n",
       "      <td>0</td>\n",
       "      <td>0</td>\n",
       "      <td>0</td>\n",
       "      <td>54</td>\n",
       "      <td>0</td>\n",
       "      <td>0</td>\n",
       "      <td>144</td>\n",
       "      <td>155</td>\n",
       "      <td>ARF5</td>\n",
       "      <td>PDE1C</td>\n",
       "    </tr>\n",
       "    <tr>\n",
       "      <th>1</th>\n",
       "      <td>ENSP00000000233</td>\n",
       "      <td>ENSP00000314067</td>\n",
       "      <td>0</td>\n",
       "      <td>0</td>\n",
       "      <td>0</td>\n",
       "      <td>0</td>\n",
       "      <td>180</td>\n",
       "      <td>0</td>\n",
       "      <td>61</td>\n",
       "      <td>197</td>\n",
       "      <td>ARF5</td>\n",
       "      <td>PAK2</td>\n",
       "    </tr>\n",
       "    <tr>\n",
       "      <th>2</th>\n",
       "      <td>ENSP00000000233</td>\n",
       "      <td>ENSP00000263116</td>\n",
       "      <td>0</td>\n",
       "      <td>0</td>\n",
       "      <td>0</td>\n",
       "      <td>62</td>\n",
       "      <td>152</td>\n",
       "      <td>0</td>\n",
       "      <td>101</td>\n",
       "      <td>222</td>\n",
       "      <td>ARF5</td>\n",
       "      <td>RAB36</td>\n",
       "    </tr>\n",
       "    <tr>\n",
       "      <th>3</th>\n",
       "      <td>ENSP00000000233</td>\n",
       "      <td>ENSP00000361263</td>\n",
       "      <td>0</td>\n",
       "      <td>0</td>\n",
       "      <td>0</td>\n",
       "      <td>0</td>\n",
       "      <td>161</td>\n",
       "      <td>0</td>\n",
       "      <td>64</td>\n",
       "      <td>181</td>\n",
       "      <td>ARF5</td>\n",
       "      <td>RAPGEF1</td>\n",
       "    </tr>\n",
       "    <tr>\n",
       "      <th>4</th>\n",
       "      <td>ENSP00000000233</td>\n",
       "      <td>ENSP00000409666</td>\n",
       "      <td>0</td>\n",
       "      <td>0</td>\n",
       "      <td>0</td>\n",
       "      <td>82</td>\n",
       "      <td>213</td>\n",
       "      <td>0</td>\n",
       "      <td>72</td>\n",
       "      <td>270</td>\n",
       "      <td>ARF5</td>\n",
       "      <td>SUMO3</td>\n",
       "    </tr>\n",
       "  </tbody>\n",
       "</table>\n",
       "</div>"
      ],
      "text/plain": [
       "          protein1         protein2  neighborhood  fusion  cooccurence  \\\n",
       "0  ENSP00000000233  ENSP00000379496             0       0            0   \n",
       "1  ENSP00000000233  ENSP00000314067             0       0            0   \n",
       "2  ENSP00000000233  ENSP00000263116             0       0            0   \n",
       "3  ENSP00000000233  ENSP00000361263             0       0            0   \n",
       "4  ENSP00000000233  ENSP00000409666             0       0            0   \n",
       "\n",
       "   coexpression  experimental  database  textmining  combined_score  \\\n",
       "0            54             0         0         144             155   \n",
       "1             0           180         0          61             197   \n",
       "2            62           152         0         101             222   \n",
       "3             0           161         0          64             181   \n",
       "4            82           213         0          72             270   \n",
       "\n",
       "  gene_symbol1 gene_symbol2  \n",
       "0         ARF5        PDE1C  \n",
       "1         ARF5         PAK2  \n",
       "2         ARF5        RAB36  \n",
       "3         ARF5      RAPGEF1  \n",
       "4         ARF5        SUMO3  "
      ]
     },
     "execution_count": 9,
     "metadata": {},
     "output_type": "execute_result"
    }
   ],
   "source": [
    "# ------------------------------------------------------------------------ #\n",
    "# Map the corresponding genes to the proteins in the protein link dataset.\n",
    "# ------------------------------------------------------------------------ #\n",
    "# Get the gene symbols for the protein1 column.\n",
    "protein_links_v3 = protein_links_v2.merge(right    = protein_info_v2[['string_protein_id', 'preferred_name']],\n",
    "                                          how      = 'left',\n",
    "                                          left_on  = 'protein1',\n",
    "                                          right_on = 'string_protein_id')\n",
    "protein_links_v3.rename(columns={'preferred_name': 'gene_symbol1'}, inplace=True)\n",
    "protein_links_v3.drop(['string_protein_id'], axis=1, inplace=True)\n",
    "\n",
    "# Get the gene symbols for the protein2 column.\n",
    "protein_links_v4 = protein_links_v3.merge(right    = protein_info_v2[['string_protein_id', 'preferred_name']],\n",
    "                                          how      = 'left',\n",
    "                                          left_on  = 'protein2',\n",
    "                                          right_on = 'string_protein_id')\n",
    "protein_links_v4.rename(columns={'preferred_name': 'gene_symbol2'}, inplace=True)\n",
    "protein_links_v4.drop(['string_protein_id'], axis=1, inplace=True)\n",
    "\n",
    "print(f\"\"\"\n",
    "    Shape:\n",
    "        before joining : {protein_links_v2.shape}\n",
    "        after  joining : {protein_links_v4.shape}\n",
    "\"\"\")         \n",
    "print(protein_links_v4[['gene_symbol1', 'gene_symbol2']].isna().sum())\n",
    "\n",
    "# Unique number of genes per column.\n",
    "uniq_gene1 = np.unique(protein_links_v4.gene_symbol1.values)\n",
    "uniq_gene2 = np.unique(protein_links_v4.gene_symbol2.values)\n",
    "\n",
    "print(f\"\"\"\n",
    "    There are \n",
    "        {len(uniq_gene1)} unique gene_symbol1\n",
    "        {len(uniq_gene2)} unique gene_symbol2\n",
    "\"\"\")\n",
    "\n",
    "protein_links_v4.head(5)"
   ]
  },
  {
   "cell_type": "code",
   "execution_count": 10,
   "metadata": {},
   "outputs": [
    {
     "data": {
      "text/html": [
       "<div>\n",
       "<style scoped>\n",
       "    .dataframe tbody tr th:only-of-type {\n",
       "        vertical-align: middle;\n",
       "    }\n",
       "\n",
       "    .dataframe tbody tr th {\n",
       "        vertical-align: top;\n",
       "    }\n",
       "\n",
       "    .dataframe thead th {\n",
       "        text-align: right;\n",
       "    }\n",
       "</style>\n",
       "<table border=\"1\" class=\"dataframe\">\n",
       "  <thead>\n",
       "    <tr style=\"text-align: right;\">\n",
       "      <th></th>\n",
       "      <th>freq</th>\n",
       "      <th>count</th>\n",
       "    </tr>\n",
       "  </thead>\n",
       "  <tbody>\n",
       "    <tr>\n",
       "      <th>0</th>\n",
       "      <td>1</td>\n",
       "      <td>11936220</td>\n",
       "    </tr>\n",
       "    <tr>\n",
       "      <th>1</th>\n",
       "      <td>2</td>\n",
       "      <td>1139</td>\n",
       "    </tr>\n",
       "  </tbody>\n",
       "</table>\n",
       "</div>"
      ],
      "text/plain": [
       "   freq     count\n",
       "0     1  11936220\n",
       "1     2      1139"
      ]
     },
     "execution_count": 10,
     "metadata": {},
     "output_type": "execute_result"
    }
   ],
   "source": [
    "# Unique number of gene-gene combinations.\n",
    "freq_per_tuple = protein_links_v4.groupby(['gene_symbol1', 'gene_symbol2']).size().reset_index(name='freq', inplace=False).sort_values(['freq'], ascending=False)\n",
    "freq_per_tuple.groupby(['freq']).size().reset_index(name='count', inplace=False)"
   ]
  },
  {
   "cell_type": "markdown",
   "metadata": {},
   "source": [
    "- Some `(gene_symbol1, gene_symbol2)` tuples occur two times.\n",
    "- However, the majority occurs only one time."
   ]
  },
  {
   "cell_type": "markdown",
   "metadata": {},
   "source": [
    "## Sparse dataset using overlapping genes"
   ]
  },
  {
   "cell_type": "code",
   "execution_count": 422,
   "metadata": {},
   "outputs": [
    {
     "name": "stdout",
     "output_type": "stream",
     "text": [
      "Took 0.02138 seconds to read the cell-line feature datasets.\n",
      "Shapes\n",
      "    Gene Expression : (983, 859)\n",
      "    CNV Gistic      : (983, 859)\n",
      "    CNV Picnic      : (983, 859)\n",
      "    Mutation        : (983, 859)\n",
      "    \n",
      "Number of intersecting gene symbol columns: 858\n"
     ]
    }
   ],
   "source": [
    "READ = True\n",
    "\n",
    "if READ:\n",
    "    start = time.time()\n",
    "    with open(f'{PATH_TO_FEATURES}gexpr_sparse.pkl', 'rb') as f: \n",
    "        gexpr = pickle.load(f)\n",
    "    with open(f'{PATH_TO_FEATURES}cnvg_sparse.pkl', 'rb') as f: \n",
    "        cnvg = pickle.load(f)\n",
    "    with open(f'{PATH_TO_FEATURES}cnvp_sparse.pkl', 'rb') as f: \n",
    "        cnvp = pickle.load(f)\n",
    "    with open(f'{PATH_TO_FEATURES}mut_sparse.pkl', 'rb') as f: \n",
    "        mut = pickle.load(f)  \n",
    "    print(f\"Took {time.time()-start:.5f} seconds to read the cell-line feature datasets.\")\n",
    "    print(f\"\"\"Shapes\n",
    "    Gene Expression : {gexpr.shape}\n",
    "    CNV Gistic      : {cnvg.shape}\n",
    "    CNV Picnic      : {cnvp.shape}\n",
    "    Mutation        : {mut.shape}\n",
    "    \"\"\")\n",
    "\n",
    "INTER_CLS = set(np.unique(gexpr.CELL_LINE_NAME.values).tolist()) \\\n",
    "    .intersection(set(np.unique(cnvg.CELL_LINE_NAME.values).tolist())) \\\n",
    "    .intersection(set(np.unique(cnvp.CELL_LINE_NAME.values).tolist())) \\\n",
    "    .intersection(set(np.unique(mut.CELL_LINE_NAME.values).tolist()))\n",
    "    \n",
    "assert len(INTER_CLS) == \\\n",
    "    len(np.unique(gexpr.CELL_LINE_NAME.values).tolist()) == \\\n",
    "    len(np.unique(cnvg.CELL_LINE_NAME.values).tolist()) == \\\n",
    "    len(np.unique(cnvp.CELL_LINE_NAME.values).tolist()) == \\\n",
    "    len(np.unique(mut.CELL_LINE_NAME.values).tolist()), \\\n",
    "        \"Not all feature datasets contain the exact same cell lines as rows!\"\n",
    "\n",
    "INTER_GENES = set(np.unique(gexpr.columns[1:].values).tolist()) \\\n",
    "    .intersection(set(np.unique(cnvg.columns[1:].values).tolist())) \\\n",
    "    .intersection(set(np.unique(cnvp.columns[1:].values).tolist())) \\\n",
    "    .intersection(set(np.unique(mut.columns[1:].values).tolist()))\n",
    "\n",
    "assert len(INTER_GENES) == \\\n",
    "    len(np.unique(gexpr.columns[1:].values).tolist()) == \\\n",
    "    len(np.unique(cnvg.columns[1:].values).tolist()) == \\\n",
    "    len(np.unique(cnvp.columns[1:].values).tolist()) == \\\n",
    "    len(np.unique(mut.columns[1:].values).tolist()), \\\n",
    "        \"Not all feature datasets contain the exact same gene symbols as columns!\"\n",
    "\n",
    "print(f\"Number of intersecting gene symbol columns: {len(INTER_GENES)}\")    "
   ]
  },
  {
   "cell_type": "code",
   "execution_count": 440,
   "metadata": {},
   "outputs": [],
   "source": [
    "with open(f'{PATH_TO_FEATURES}intersecting_cls.pkl', 'wb') as f:\n",
    "    pickle.dump(INTER_CLS, f, protocol=pickle.HIGHEST_PROTOCOL)\n",
    "with open(f'{PATH_TO_FEATURES}intersecting_genes.pkl', 'wb') as f:\n",
    "    pickle.dump(INTER_GENES, f, protocol=pickle.HIGHEST_PROTOCOL)"
   ]
  },
  {
   "cell_type": "markdown",
   "metadata": {},
   "source": [
    "- Note that these gene symbol column are already only langmark genes"
   ]
  },
  {
   "cell_type": "markdown",
   "metadata": {},
   "source": [
    "#### Assign indices"
   ]
  },
  {
   "cell_type": "code",
   "execution_count": 33,
   "metadata": {},
   "outputs": [
    {
     "data": {
      "text/html": [
       "<div>\n",
       "<style scoped>\n",
       "    .dataframe tbody tr th:only-of-type {\n",
       "        vertical-align: middle;\n",
       "    }\n",
       "\n",
       "    .dataframe tbody tr th {\n",
       "        vertical-align: top;\n",
       "    }\n",
       "\n",
       "    .dataframe thead th {\n",
       "        text-align: right;\n",
       "    }\n",
       "</style>\n",
       "<table border=\"1\" class=\"dataframe\">\n",
       "  <thead>\n",
       "    <tr style=\"text-align: right;\">\n",
       "      <th></th>\n",
       "      <th>GENE_SYMBOL</th>\n",
       "      <th>GENE_INDEX</th>\n",
       "    </tr>\n",
       "  </thead>\n",
       "  <tbody>\n",
       "    <tr>\n",
       "      <th>0</th>\n",
       "      <td>ARFIP2</td>\n",
       "      <td>0</td>\n",
       "    </tr>\n",
       "    <tr>\n",
       "      <th>1</th>\n",
       "      <td>CYTH1</td>\n",
       "      <td>1</td>\n",
       "    </tr>\n",
       "    <tr>\n",
       "      <th>2</th>\n",
       "      <td>HAT1</td>\n",
       "      <td>2</td>\n",
       "    </tr>\n",
       "    <tr>\n",
       "      <th>3</th>\n",
       "      <td>POLE2</td>\n",
       "      <td>3</td>\n",
       "    </tr>\n",
       "    <tr>\n",
       "      <th>4</th>\n",
       "      <td>PTPN1</td>\n",
       "      <td>4</td>\n",
       "    </tr>\n",
       "  </tbody>\n",
       "</table>\n",
       "</div>"
      ],
      "text/plain": [
       "  GENE_SYMBOL  GENE_INDEX\n",
       "0      ARFIP2           0\n",
       "1       CYTH1           1\n",
       "2        HAT1           2\n",
       "3       POLE2           3\n",
       "4       PTPN1           4"
      ]
     },
     "execution_count": 33,
     "metadata": {},
     "output_type": "execute_result"
    }
   ],
   "source": [
    "INTER_GENES_DF = pd.DataFrame({'GENE_SYMBOL': list(INTER_GENES)})\n",
    "INTER_GENES_DF['GENE_INDEX'] = INTER_GENES_DF.index\n",
    "INTER_GENES_DF.head(5)"
   ]
  },
  {
   "cell_type": "markdown",
   "metadata": {},
   "source": [
    "- To each of these gene symbols we assigned a unique index\n",
    "- This will be the key for the node in the graph"
   ]
  },
  {
   "cell_type": "markdown",
   "metadata": {},
   "source": [
    "#### Only intersecting genes"
   ]
  },
  {
   "cell_type": "code",
   "execution_count": 23,
   "metadata": {},
   "outputs": [
    {
     "name": "stdout",
     "output_type": "stream",
     "text": [
      "After filtered down such that both columns ´gene_symbol1´ and ´gene_symbol2´ are landmark genes the shape is 83126 (0.70 %). \n",
      "This means 11855372 have either one or both gene symbols not in the set of 859 intersecting genes.\n",
      "\n"
     ]
    }
   ],
   "source": [
    "protein_links_v5_sparsed = protein_links_v4.loc[(protein_links_v4.gene_symbol1.isin(INTER_GENES_DF.GENE_SYMBOL)) & \n",
    "                                                (protein_links_v4.gene_symbol2.isin(INTER_GENES_DF.GENE_SYMBOL))]\n",
    "n_rows = protein_links_v5_sparsed.shape[0]\n",
    "perc_kept = 100*n_rows/protein_links_v4.shape[0]\n",
    "print(f\"\"\"After filtered down such that both columns ´gene_symbol1´ and ´gene_symbol2´ are landmark genes the shape is {n_rows} ({perc_kept:2.2f} %). \n",
    "This means {protein_links_v4.shape[0]-protein_links_v5_sparsed.shape[0]} have either one or both gene symbols not in the set of {INTER_GENES_DF.shape[0]} intersecting genes.\n",
    "\"\"\")"
   ]
  },
  {
   "cell_type": "code",
   "execution_count": 35,
   "metadata": {},
   "outputs": [
    {
     "name": "stdout",
     "output_type": "stream",
     "text": [
      "Shape: (83126, 14)\n"
     ]
    },
    {
     "data": {
      "text/html": [
       "<div>\n",
       "<style scoped>\n",
       "    .dataframe tbody tr th:only-of-type {\n",
       "        vertical-align: middle;\n",
       "    }\n",
       "\n",
       "    .dataframe tbody tr th {\n",
       "        vertical-align: top;\n",
       "    }\n",
       "\n",
       "    .dataframe thead th {\n",
       "        text-align: right;\n",
       "    }\n",
       "</style>\n",
       "<table border=\"1\" class=\"dataframe\">\n",
       "  <thead>\n",
       "    <tr style=\"text-align: right;\">\n",
       "      <th></th>\n",
       "      <th>protein1</th>\n",
       "      <th>protein2</th>\n",
       "      <th>neighborhood</th>\n",
       "      <th>fusion</th>\n",
       "      <th>cooccurence</th>\n",
       "      <th>coexpression</th>\n",
       "      <th>experimental</th>\n",
       "      <th>database</th>\n",
       "      <th>textmining</th>\n",
       "      <th>combined_score</th>\n",
       "      <th>gene_symbol1</th>\n",
       "      <th>gene_symbol2</th>\n",
       "      <th>index_gene_symbol1</th>\n",
       "      <th>index_gene_symbol2</th>\n",
       "    </tr>\n",
       "  </thead>\n",
       "  <tbody>\n",
       "    <tr>\n",
       "      <th>0</th>\n",
       "      <td>ENSP00000001008</td>\n",
       "      <td>ENSP00000408295</td>\n",
       "      <td>0</td>\n",
       "      <td>0</td>\n",
       "      <td>0</td>\n",
       "      <td>81</td>\n",
       "      <td>0</td>\n",
       "      <td>0</td>\n",
       "      <td>258</td>\n",
       "      <td>288</td>\n",
       "      <td>FKBP4</td>\n",
       "      <td>RFC5</td>\n",
       "      <td>324</td>\n",
       "      <td>827</td>\n",
       "    </tr>\n",
       "    <tr>\n",
       "      <th>1</th>\n",
       "      <td>ENSP00000001008</td>\n",
       "      <td>ENSP00000306245</td>\n",
       "      <td>0</td>\n",
       "      <td>0</td>\n",
       "      <td>0</td>\n",
       "      <td>0</td>\n",
       "      <td>59</td>\n",
       "      <td>0</td>\n",
       "      <td>177</td>\n",
       "      <td>192</td>\n",
       "      <td>FKBP4</td>\n",
       "      <td>FOS</td>\n",
       "      <td>324</td>\n",
       "      <td>688</td>\n",
       "    </tr>\n",
       "    <tr>\n",
       "      <th>2</th>\n",
       "      <td>ENSP00000001008</td>\n",
       "      <td>ENSP00000340989</td>\n",
       "      <td>0</td>\n",
       "      <td>0</td>\n",
       "      <td>0</td>\n",
       "      <td>0</td>\n",
       "      <td>78</td>\n",
       "      <td>0</td>\n",
       "      <td>123</td>\n",
       "      <td>157</td>\n",
       "      <td>FKBP4</td>\n",
       "      <td>SFN</td>\n",
       "      <td>324</td>\n",
       "      <td>39</td>\n",
       "    </tr>\n",
       "  </tbody>\n",
       "</table>\n",
       "</div>"
      ],
      "text/plain": [
       "          protein1         protein2  neighborhood  fusion  cooccurence  \\\n",
       "0  ENSP00000001008  ENSP00000408295             0       0            0   \n",
       "1  ENSP00000001008  ENSP00000306245             0       0            0   \n",
       "2  ENSP00000001008  ENSP00000340989             0       0            0   \n",
       "\n",
       "   coexpression  experimental  database  textmining  combined_score  \\\n",
       "0            81             0         0         258             288   \n",
       "1             0            59         0         177             192   \n",
       "2             0            78         0         123             157   \n",
       "\n",
       "  gene_symbol1 gene_symbol2  index_gene_symbol1  index_gene_symbol2  \n",
       "0        FKBP4         RFC5                 324                 827  \n",
       "1        FKBP4          FOS                 324                 688  \n",
       "2        FKBP4          SFN                 324                  39  "
      ]
     },
     "execution_count": 35,
     "metadata": {},
     "output_type": "execute_result"
    }
   ],
   "source": [
    "# Append corresponding index for each gene symbol column as new column(s).\n",
    "protein_links_v6_indexed = protein_links_v5_sparsed.merge(\n",
    "    right=INTER_GENES_DF,\n",
    "    how='left',\n",
    "    left_on=['gene_symbol1'],\n",
    "    right_on=['GENE_SYMBOL'])\n",
    "protein_links_v6_indexed.rename(columns={'GENE_INDEX': 'index_gene_symbol1'}, inplace=True)\n",
    "protein_links_v6_indexed.drop(['GENE_SYMBOL'], axis=1, inplace=True)\n",
    "\n",
    "protein_links_v7_indexed = protein_links_v6_indexed.merge(\n",
    "    right=INTER_GENES_DF,\n",
    "    how='left',\n",
    "    left_on=['gene_symbol2'],\n",
    "    right_on=['GENE_SYMBOL'])\n",
    "protein_links_v7_indexed.rename(columns={'GENE_INDEX': 'index_gene_symbol2'}, inplace=True)\n",
    "protein_links_v7_indexed.drop(['GENE_SYMBOL'], axis=1, inplace=True)\n",
    "\n",
    "print(f\"Shape: {protein_links_v7_indexed.shape}\")\n",
    "protein_links_v7_indexed.head(3) "
   ]
  },
  {
   "cell_type": "code",
   "execution_count": 36,
   "metadata": {},
   "outputs": [
    {
     "data": {
      "text/html": [
       "<div>\n",
       "<style scoped>\n",
       "    .dataframe tbody tr th:only-of-type {\n",
       "        vertical-align: middle;\n",
       "    }\n",
       "\n",
       "    .dataframe tbody tr th {\n",
       "        vertical-align: top;\n",
       "    }\n",
       "\n",
       "    .dataframe thead th {\n",
       "        text-align: right;\n",
       "    }\n",
       "</style>\n",
       "<table border=\"1\" class=\"dataframe\">\n",
       "  <thead>\n",
       "    <tr style=\"text-align: right;\">\n",
       "      <th></th>\n",
       "      <th>protein1</th>\n",
       "      <th>protein2</th>\n",
       "      <th>gene_symbol1</th>\n",
       "      <th>gene_symbol2</th>\n",
       "      <th>index_gene_symbol1</th>\n",
       "      <th>index_gene_symbol2</th>\n",
       "      <th>neighborhood</th>\n",
       "      <th>fusion</th>\n",
       "      <th>cooccurence</th>\n",
       "      <th>coexpression</th>\n",
       "      <th>experimental</th>\n",
       "      <th>database</th>\n",
       "      <th>textmining</th>\n",
       "      <th>combined_score</th>\n",
       "    </tr>\n",
       "  </thead>\n",
       "  <tbody>\n",
       "    <tr>\n",
       "      <th>0</th>\n",
       "      <td>ENSP00000001008</td>\n",
       "      <td>ENSP00000408295</td>\n",
       "      <td>FKBP4</td>\n",
       "      <td>RFC5</td>\n",
       "      <td>324</td>\n",
       "      <td>827</td>\n",
       "      <td>0</td>\n",
       "      <td>0</td>\n",
       "      <td>0</td>\n",
       "      <td>81</td>\n",
       "      <td>0</td>\n",
       "      <td>0</td>\n",
       "      <td>258</td>\n",
       "      <td>288</td>\n",
       "    </tr>\n",
       "    <tr>\n",
       "      <th>1</th>\n",
       "      <td>ENSP00000001008</td>\n",
       "      <td>ENSP00000306245</td>\n",
       "      <td>FKBP4</td>\n",
       "      <td>FOS</td>\n",
       "      <td>324</td>\n",
       "      <td>688</td>\n",
       "      <td>0</td>\n",
       "      <td>0</td>\n",
       "      <td>0</td>\n",
       "      <td>0</td>\n",
       "      <td>59</td>\n",
       "      <td>0</td>\n",
       "      <td>177</td>\n",
       "      <td>192</td>\n",
       "    </tr>\n",
       "    <tr>\n",
       "      <th>2</th>\n",
       "      <td>ENSP00000001008</td>\n",
       "      <td>ENSP00000340989</td>\n",
       "      <td>FKBP4</td>\n",
       "      <td>SFN</td>\n",
       "      <td>324</td>\n",
       "      <td>39</td>\n",
       "      <td>0</td>\n",
       "      <td>0</td>\n",
       "      <td>0</td>\n",
       "      <td>0</td>\n",
       "      <td>78</td>\n",
       "      <td>0</td>\n",
       "      <td>123</td>\n",
       "      <td>157</td>\n",
       "    </tr>\n",
       "    <tr>\n",
       "      <th>3</th>\n",
       "      <td>ENSP00000001008</td>\n",
       "      <td>ENSP00000287156</td>\n",
       "      <td>FKBP4</td>\n",
       "      <td>UBE2L6</td>\n",
       "      <td>324</td>\n",
       "      <td>273</td>\n",
       "      <td>0</td>\n",
       "      <td>0</td>\n",
       "      <td>0</td>\n",
       "      <td>62</td>\n",
       "      <td>149</td>\n",
       "      <td>0</td>\n",
       "      <td>0</td>\n",
       "      <td>167</td>\n",
       "    </tr>\n",
       "    <tr>\n",
       "      <th>4</th>\n",
       "      <td>ENSP00000001008</td>\n",
       "      <td>ENSP00000217233</td>\n",
       "      <td>FKBP4</td>\n",
       "      <td>TRIB3</td>\n",
       "      <td>324</td>\n",
       "      <td>455</td>\n",
       "      <td>0</td>\n",
       "      <td>0</td>\n",
       "      <td>0</td>\n",
       "      <td>63</td>\n",
       "      <td>62</td>\n",
       "      <td>0</td>\n",
       "      <td>189</td>\n",
       "      <td>224</td>\n",
       "    </tr>\n",
       "  </tbody>\n",
       "</table>\n",
       "</div>"
      ],
      "text/plain": [
       "          protein1         protein2 gene_symbol1 gene_symbol2  \\\n",
       "0  ENSP00000001008  ENSP00000408295        FKBP4         RFC5   \n",
       "1  ENSP00000001008  ENSP00000306245        FKBP4          FOS   \n",
       "2  ENSP00000001008  ENSP00000340989        FKBP4          SFN   \n",
       "3  ENSP00000001008  ENSP00000287156        FKBP4       UBE2L6   \n",
       "4  ENSP00000001008  ENSP00000217233        FKBP4        TRIB3   \n",
       "\n",
       "   index_gene_symbol1  index_gene_symbol2  neighborhood  fusion  cooccurence  \\\n",
       "0                 324                 827             0       0            0   \n",
       "1                 324                 688             0       0            0   \n",
       "2                 324                  39             0       0            0   \n",
       "3                 324                 273             0       0            0   \n",
       "4                 324                 455             0       0            0   \n",
       "\n",
       "   coexpression  experimental  database  textmining  combined_score  \n",
       "0            81             0         0         258             288  \n",
       "1             0            59         0         177             192  \n",
       "2             0            78         0         123             157  \n",
       "3            62           149         0           0             167  \n",
       "4            63            62         0         189             224  "
      ]
     },
     "execution_count": 36,
     "metadata": {},
     "output_type": "execute_result"
    }
   ],
   "source": [
    "new_col_order = [\n",
    "    'protein1',\n",
    "    'protein2',\n",
    "    'gene_symbol1',\n",
    "    'gene_symbol2',\n",
    "    'index_gene_symbol1',\n",
    "    'index_gene_symbol2',\n",
    "    'neighborhood',\n",
    "    'fusion',\n",
    "    'cooccurence',\n",
    "    'coexpression',\n",
    "    'experimental',\n",
    "    'database',\n",
    "    'textmining',\n",
    "    'combined_score'\n",
    "]\n",
    "protein_links_v7_indexed = protein_links_v7_indexed[new_col_order]\n",
    "del new_col_order\n",
    "protein_links_v7_indexed.head(5)"
   ]
  },
  {
   "cell_type": "code",
   "execution_count": 37,
   "metadata": {},
   "outputs": [
    {
     "name": "stdout",
     "output_type": "stream",
     "text": [
      "There will be 858 nodes in the graph.\n",
      "There will be 858 indices in the graph.\n"
     ]
    }
   ],
   "source": [
    "# Set of unique gene symbols.\n",
    "nodes = np.unique(protein_links_v7_indexed[['gene_symbol1', 'gene_symbol2']].values)\n",
    "print(f\"There will be {len(nodes)} nodes in the graph.\")\n",
    "\n",
    "nodes_as_indices = np.unique(protein_links_v7_indexed[['index_gene_symbol1', 'index_gene_symbol2']].values)\n",
    "print(f\"There will be {len(nodes_as_indices)} indices in the graph.\")"
   ]
  },
  {
   "cell_type": "code",
   "execution_count": 41,
   "metadata": {},
   "outputs": [
    {
     "name": "stdout",
     "output_type": "stream",
     "text": [
      "[('KDM5B', 'CD44'), ('TESK1', 'PPP2R5A'), ('AKAP8', 'RPS6KA1'), ('ZNF395', 'CASP3'), ('ACAT2', 'ALDH7A1')]\n",
      "[(195, 198), (615, 540), (564, 411), (213, 201), (94, 89)]\n"
     ]
    }
   ],
   "source": [
    "# Create a list of tuples which hold neighbor nodes.\n",
    "gene_symbol_tuples = list(set(list(zip(protein_links_v7_indexed.gene_symbol1, protein_links_v7_indexed.gene_symbol2))))\n",
    "print(gene_symbol_tuples[:5])\n",
    "\n",
    "\n",
    "# Map the list of tuples of neighbor gene nodes to the corresponding int. \n",
    "transform_gene_tuple_to_index_tuple = lambda x : (\n",
    "    INTER_GENES_DF[INTER_GENES_DF['GENE_SYMBOL']==x[0]]['GENE_INDEX'].values[0], \n",
    "    INTER_GENES_DF[INTER_GENES_DF['GENE_SYMBOL']==x[1]]['GENE_INDEX'].values[0])\n",
    "input_vec = [transform_gene_tuple_to_index_tuple(tup) for tup in gene_symbol_tuples]\n",
    "print(input_vec[:5])"
   ]
  },
  {
   "cell_type": "code",
   "execution_count": 181,
   "metadata": {},
   "outputs": [
    {
     "data": {
      "text/plain": [
       "83126"
      ]
     },
     "execution_count": 181,
     "metadata": {},
     "output_type": "execute_result"
    }
   ],
   "source": [
    "neighbor_gene_tuples = copy.deepcopy(input_vec)\n",
    "len(neighbor_gene_tuples)"
   ]
  },
  {
   "cell_type": "markdown",
   "metadata": {},
   "source": [
    "##### Create undirected neighbor tuple\n",
    "\n",
    "Since we want to create an undirected graph, each tuple `(g1, g2)` needs to be also present as `(g2, g1)` in the list."
   ]
  },
  {
   "cell_type": "code",
   "execution_count": 192,
   "metadata": {},
   "outputs": [
    {
     "name": "stdout",
     "output_type": "stream",
     "text": [
      "166252\n"
     ]
    },
    {
     "data": {
      "text/plain": [
       "[[195, 198], [615, 540], [564, 411], [213, 201], [94, 89]]"
      ]
     },
     "execution_count": 192,
     "metadata": {},
     "output_type": "execute_result"
    }
   ],
   "source": [
    "# Saving all tuples the other way around.\n",
    "a_to_b = [[tup[0], tup[1]] for tup in neighbor_gene_tuples]\n",
    "b_to_a = [[tup[1], tup[0]] for tup in neighbor_gene_tuples]\n",
    "\n",
    "NEIGHBOR_GENES_UNDIRECTED = a_to_b + b_to_a\n",
    "assert len(NEIGHBOR_GENES_UNDIRECTED) == 2*len(neighbor_gene_tuples), \\\n",
    "    \"The undirected list of gene tuples needs to be exactly two times the directed one!\"\n",
    "print(len(NEIGHBOR_GENES_UNDIRECTED))\n",
    "NEIGHBOR_GENES_UNDIRECTED[:5]"
   ]
  },
  {
   "cell_type": "code",
   "execution_count": null,
   "metadata": {},
   "outputs": [],
   "source": [
    "for tup in NEIGHBOR_GENES_UNDIRECTED:\n",
    "    assert [tup[1], tup[0]] in NEIGHBOR_GENES_UNDIRECTED, f\"{tup} not undirected!\""
   ]
  },
  {
   "cell_type": "markdown",
   "metadata": {},
   "source": [
    "##### Neighbors using the `GENE_SYMBOL`"
   ]
  },
  {
   "cell_type": "code",
   "execution_count": 42,
   "metadata": {},
   "outputs": [],
   "source": [
    "# Find neighbors using the gene symbols.\n",
    "dict_as_genes = {gene_node: [] for gene_node in nodes}  # or dict(zip(nodes, []*len(nodes)))\n",
    "\n",
    "# Get the edges.\n",
    "for gene in dict_as_genes:\n",
    "    exists_in_gene_symbol1 = not protein_links_v7_indexed.loc[protein_links_v7_indexed.gene_symbol1==gene].empty\n",
    "    exists_in_gene_symbol2 = not protein_links_v7_indexed.loc[protein_links_v7_indexed.gene_symbol2==gene].empty\n",
    "\n",
    "    neighbor_nodes = None \n",
    "    if exists_in_gene_symbol1:\n",
    "        neighbor_nodes = list(set(protein_links_v7_indexed.loc[protein_links_v7_indexed.gene_symbol1==gene].gene_symbol2))\n",
    "    elif exists_in_gene_symbol2: \n",
    "        neighbor_nodes = list(set(protein_links_v7_indexed.loc[protein_links_v7_indexed.gene_symbol2==gene].gene_symbol1))\n",
    "    else: \n",
    "        print(f\"The gene {gene} couldn't be found in the dataset!\") \n",
    "\n",
    "    # Set neighbors for the gene.\n",
    "    dict_as_genes[gene] += [neighbor_node for neighbor_node in neighbor_nodes if neighbor_node not in dict_as_genes[gene]]"
   ]
  },
  {
   "cell_type": "markdown",
   "metadata": {},
   "source": [
    "__Format__: \n",
    "- _key_: gene symbol\n",
    "- _value_: list of gene symbols which are neighbors of the gene symbol of the key"
   ]
  },
  {
   "cell_type": "markdown",
   "metadata": {},
   "source": [
    "##### Neighbors using the `GENE_INDEX`"
   ]
  },
  {
   "cell_type": "code",
   "execution_count": 43,
   "metadata": {},
   "outputs": [],
   "source": [
    "# Find neighbors using the indices.\n",
    "dict_as_indices = {gene_node: [] for gene_node in nodes_as_indices}  # or dict(zip(nodes, []*len(nodes)))\n",
    "\n",
    "# Get the edges.\n",
    "for gene in dict_as_indices:\n",
    "    exists_in_gene_symbol1 = not protein_links_v7_indexed.loc[protein_links_v7_indexed.index_gene_symbol1==gene].empty\n",
    "    exists_in_gene_symbol2 = not protein_links_v7_indexed.loc[protein_links_v7_indexed.index_gene_symbol2==gene].empty\n",
    "\n",
    "    neighbor_nodes = None \n",
    "    if exists_in_gene_symbol1:\n",
    "        neighbor_nodes = list(set(protein_links_v7_indexed.loc[protein_links_v7_indexed.index_gene_symbol1==gene].index_gene_symbol2))\n",
    "    elif exists_in_gene_symbol2: \n",
    "        neighbor_nodes = list(set(protein_links_v7_indexed.loc[protein_links_v7_indexed.index_gene_symbol2==gene].index_gene_symbol1))\n",
    "    else: \n",
    "        print(f\"The gene {gene} couldn't be found in the dataset!\") \n",
    "\n",
    "    # Set neighbors for the gene.\n",
    "    dict_as_indices[gene] += [neighbor_node for neighbor_node in neighbor_nodes if neighbor_node not in dict_as_indices[gene]]"
   ]
  },
  {
   "cell_type": "markdown",
   "metadata": {},
   "source": [
    "__Format__: \n",
    "- _key_: unique index of the gene symbol\n",
    "- _value_: list of  gene symbol indices which are neighbors of the gene symbol index of the key"
   ]
  },
  {
   "cell_type": "code",
   "execution_count": 55,
   "metadata": {},
   "outputs": [
    {
     "name": "stdout",
     "output_type": "stream",
     "text": [
      "On average there are    97 neighbors per node.\n",
      "Note that there are 858 keys/nodes/genes in total.\n",
      "Thus, on average 11.29 % of all genes are neighbors.\n"
     ]
    },
    {
     "data": {
      "image/png": "[encoded data removed]",
      "text/plain": [
       "<Figure size 432x288 with 1 Axes>"
      ]
     },
     "metadata": {},
     "output_type": "display_data"
    }
   ],
   "source": [
    "# How many neighbors are there on average?\n",
    "len_of_neighbors = [len(neighbors) for _, neighbors in dict_as_indices.items()]\n",
    "assert len(len_of_neighbors) == len(nodes)\n",
    "print(f\"On average there are {np.mean(len_of_neighbors):5.0f} neighbors per node.\")\n",
    "print(f\"Note that there are {len(dict_as_indices.keys())} keys/nodes/genes in total.\")\n",
    "print(f\"Thus, on average {100*np.mean(len_of_neighbors)/len(dict_as_indices.keys()):2.2f} %\" +\n",
    "    \" of all genes are neighbors.\")\n",
    "plt.hist(len_of_neighbors, bins=50);\n",
    "plt.title(\"Number of neighbors\");\n",
    "plt.xlabel(\"Number of neighbors\");\n",
    "plt.ylabel(\"Frequency\");"
   ]
  },
  {
   "cell_type": "code",
   "execution_count": 57,
   "metadata": {},
   "outputs": [
    {
     "data": {
      "text/plain": [
       "43"
      ]
     },
     "execution_count": 57,
     "metadata": {},
     "output_type": "execute_result"
    }
   ],
   "source": [
    "dict_as_indices[0]"
   ]
  },
  {
   "cell_type": "markdown",
   "metadata": {},
   "source": [
    "## Create PyTorch-Geometric format processed data"
   ]
  },
  {
   "cell_type": "markdown",
   "metadata": {},
   "source": [
    "### For one cell-line"
   ]
  },
  {
   "cell_type": "code",
   "execution_count": 137,
   "metadata": {},
   "outputs": [
    {
     "data": {
      "text/plain": [
       "['FBXL12',\n",
       " 'PIN1',\n",
       " 'PAK4',\n",
       " 'GNA15',\n",
       " 'ARPP19',\n",
       " 'EAPP',\n",
       " 'MOK',\n",
       " 'MTHFD2',\n",
       " 'TIPARP',\n",
       " 'CASP3']"
      ]
     },
     "execution_count": 137,
     "metadata": {},
     "output_type": "execute_result"
    }
   ],
   "source": [
    "example_cl = '22RV1'\n",
    "example_genes = list(gexpr[gexpr.CELL_LINE_NAME==example_cl].head(5).columns[1:])\n",
    "example_genes[:10]"
   ]
  },
  {
   "cell_type": "code",
   "execution_count": 138,
   "metadata": {},
   "outputs": [
    {
     "name": "stdout",
     "output_type": "stream",
     "text": [
      "[7.02375908764879 6.06753445474259 4.31875040993261 3.26142732955643\n",
      " 6.29758157647675 8.31399070206232 5.51491166262691 10.5941118116936\n",
      " 5.22236633590822]\n"
     ]
    },
    {
     "data": {
      "text/html": [
       "<div>\n",
       "<style scoped>\n",
       "    .dataframe tbody tr th:only-of-type {\n",
       "        vertical-align: middle;\n",
       "    }\n",
       "\n",
       "    .dataframe tbody tr th {\n",
       "        vertical-align: top;\n",
       "    }\n",
       "\n",
       "    .dataframe thead th {\n",
       "        text-align: right;\n",
       "    }\n",
       "</style>\n",
       "<table border=\"1\" class=\"dataframe\">\n",
       "  <thead>\n",
       "    <tr style=\"text-align: right;\">\n",
       "      <th></th>\n",
       "      <th>CELL_LINE_NAME</th>\n",
       "      <th>FBXL12</th>\n",
       "      <th>PIN1</th>\n",
       "      <th>PAK4</th>\n",
       "      <th>GNA15</th>\n",
       "      <th>ARPP19</th>\n",
       "      <th>EAPP</th>\n",
       "      <th>MOK</th>\n",
       "      <th>MTHFD2</th>\n",
       "      <th>TIPARP</th>\n",
       "      <th>...</th>\n",
       "      <th>PDHX</th>\n",
       "      <th>DFFB</th>\n",
       "      <th>FOSL1</th>\n",
       "      <th>ETS1</th>\n",
       "      <th>EBNA1BP2</th>\n",
       "      <th>MYL9</th>\n",
       "      <th>MLLT11</th>\n",
       "      <th>PFKL</th>\n",
       "      <th>FGFR4</th>\n",
       "      <th>SDHB</th>\n",
       "    </tr>\n",
       "  </thead>\n",
       "  <tbody>\n",
       "    <tr>\n",
       "      <th>0</th>\n",
       "      <td>22RV1</td>\n",
       "      <td>7.023759</td>\n",
       "      <td>6.067534</td>\n",
       "      <td>4.31875</td>\n",
       "      <td>3.261427</td>\n",
       "      <td>6.297582</td>\n",
       "      <td>8.313991</td>\n",
       "      <td>5.514912</td>\n",
       "      <td>10.594112</td>\n",
       "      <td>5.222366</td>\n",
       "      <td>...</td>\n",
       "      <td>7.821536</td>\n",
       "      <td>3.601622</td>\n",
       "      <td>3.225596</td>\n",
       "      <td>3.651201</td>\n",
       "      <td>7.895763</td>\n",
       "      <td>3.953414</td>\n",
       "      <td>4.059382</td>\n",
       "      <td>4.376822</td>\n",
       "      <td>3.215209</td>\n",
       "      <td>9.267565</td>\n",
       "    </tr>\n",
       "  </tbody>\n",
       "</table>\n",
       "<p>1 rows × 859 columns</p>\n",
       "</div>"
      ],
      "text/plain": [
       "  CELL_LINE_NAME    FBXL12      PIN1     PAK4     GNA15    ARPP19      EAPP  \\\n",
       "0          22RV1  7.023759  6.067534  4.31875  3.261427  6.297582  8.313991   \n",
       "\n",
       "        MOK     MTHFD2    TIPARP  ...      PDHX      DFFB     FOSL1      ETS1  \\\n",
       "0  5.514912  10.594112  5.222366  ...  7.821536  3.601622  3.225596  3.651201   \n",
       "\n",
       "   EBNA1BP2      MYL9    MLLT11      PFKL     FGFR4      SDHB  \n",
       "0  7.895763  3.953414  4.059382  4.376822  3.215209  9.267565  \n",
       "\n",
       "[1 rows x 859 columns]"
      ]
     },
     "execution_count": 138,
     "metadata": {},
     "output_type": "execute_result"
    }
   ],
   "source": [
    "gexpr_example = gexpr[gexpr.CELL_LINE_NAME==example_cl][['CELL_LINE_NAME'] + example_genes]\n",
    "print(gexpr_example.values[0, 1:10])\n",
    "gexpr_example"
   ]
  },
  {
   "cell_type": "code",
   "execution_count": 139,
   "metadata": {},
   "outputs": [
    {
     "name": "stdout",
     "output_type": "stream",
     "text": [
      "[0.0 0.0 0.0 0.0 0.0 0.0 -1.0 0.0 1.0]\n"
     ]
    },
    {
     "data": {
      "text/html": [
       "<div>\n",
       "<style scoped>\n",
       "    .dataframe tbody tr th:only-of-type {\n",
       "        vertical-align: middle;\n",
       "    }\n",
       "\n",
       "    .dataframe tbody tr th {\n",
       "        vertical-align: top;\n",
       "    }\n",
       "\n",
       "    .dataframe thead th {\n",
       "        text-align: right;\n",
       "    }\n",
       "</style>\n",
       "<table border=\"1\" class=\"dataframe\">\n",
       "  <thead>\n",
       "    <tr style=\"text-align: right;\">\n",
       "      <th></th>\n",
       "      <th>CELL_LINE_NAME</th>\n",
       "      <th>FBXL12</th>\n",
       "      <th>PIN1</th>\n",
       "      <th>PAK4</th>\n",
       "      <th>GNA15</th>\n",
       "      <th>ARPP19</th>\n",
       "      <th>EAPP</th>\n",
       "      <th>MOK</th>\n",
       "      <th>MTHFD2</th>\n",
       "      <th>TIPARP</th>\n",
       "      <th>...</th>\n",
       "      <th>PDHX</th>\n",
       "      <th>DFFB</th>\n",
       "      <th>FOSL1</th>\n",
       "      <th>ETS1</th>\n",
       "      <th>EBNA1BP2</th>\n",
       "      <th>MYL9</th>\n",
       "      <th>MLLT11</th>\n",
       "      <th>PFKL</th>\n",
       "      <th>FGFR4</th>\n",
       "      <th>SDHB</th>\n",
       "    </tr>\n",
       "  </thead>\n",
       "  <tbody>\n",
       "    <tr>\n",
       "      <th>0</th>\n",
       "      <td>22RV1</td>\n",
       "      <td>0.0</td>\n",
       "      <td>0.0</td>\n",
       "      <td>0.0</td>\n",
       "      <td>0.0</td>\n",
       "      <td>0.0</td>\n",
       "      <td>0.0</td>\n",
       "      <td>-1.0</td>\n",
       "      <td>0.0</td>\n",
       "      <td>1.0</td>\n",
       "      <td>...</td>\n",
       "      <td>-1.0</td>\n",
       "      <td>-1.0</td>\n",
       "      <td>0.0</td>\n",
       "      <td>0.0</td>\n",
       "      <td>0.0</td>\n",
       "      <td>0.0</td>\n",
       "      <td>1.0</td>\n",
       "      <td>-1.0</td>\n",
       "      <td>-1.0</td>\n",
       "      <td>-1.0</td>\n",
       "    </tr>\n",
       "  </tbody>\n",
       "</table>\n",
       "<p>1 rows × 859 columns</p>\n",
       "</div>"
      ],
      "text/plain": [
       "  CELL_LINE_NAME  FBXL12  PIN1  PAK4  GNA15  ARPP19  EAPP  MOK  MTHFD2  \\\n",
       "0          22RV1     0.0   0.0   0.0    0.0     0.0   0.0 -1.0     0.0   \n",
       "\n",
       "   TIPARP  ...  PDHX  DFFB  FOSL1  ETS1  EBNA1BP2  MYL9  MLLT11  PFKL  FGFR4  \\\n",
       "0     1.0  ...  -1.0  -1.0    0.0   0.0       0.0   0.0     1.0  -1.0   -1.0   \n",
       "\n",
       "   SDHB  \n",
       "0  -1.0  \n",
       "\n",
       "[1 rows x 859 columns]"
      ]
     },
     "execution_count": 139,
     "metadata": {},
     "output_type": "execute_result"
    }
   ],
   "source": [
    "cnvg_example = cnvg[cnvg.CELL_LINE_NAME==example_cl][['CELL_LINE_NAME'] + example_genes]\n",
    "print(cnvg_example.values[0, 1:10])\n",
    "cnvg_example"
   ]
  },
  {
   "cell_type": "code",
   "execution_count": 140,
   "metadata": {},
   "outputs": [
    {
     "name": "stdout",
     "output_type": "stream",
     "text": [
      "[2.0 2.0 2.0 2.0 2.0 2.0 2.0 2.0 2.0]\n"
     ]
    },
    {
     "data": {
      "text/html": [
       "<div>\n",
       "<style scoped>\n",
       "    .dataframe tbody tr th:only-of-type {\n",
       "        vertical-align: middle;\n",
       "    }\n",
       "\n",
       "    .dataframe tbody tr th {\n",
       "        vertical-align: top;\n",
       "    }\n",
       "\n",
       "    .dataframe thead th {\n",
       "        text-align: right;\n",
       "    }\n",
       "</style>\n",
       "<table border=\"1\" class=\"dataframe\">\n",
       "  <thead>\n",
       "    <tr style=\"text-align: right;\">\n",
       "      <th></th>\n",
       "      <th>CELL_LINE_NAME</th>\n",
       "      <th>FBXL12</th>\n",
       "      <th>PIN1</th>\n",
       "      <th>PAK4</th>\n",
       "      <th>GNA15</th>\n",
       "      <th>ARPP19</th>\n",
       "      <th>EAPP</th>\n",
       "      <th>MOK</th>\n",
       "      <th>MTHFD2</th>\n",
       "      <th>TIPARP</th>\n",
       "      <th>...</th>\n",
       "      <th>PDHX</th>\n",
       "      <th>DFFB</th>\n",
       "      <th>FOSL1</th>\n",
       "      <th>ETS1</th>\n",
       "      <th>EBNA1BP2</th>\n",
       "      <th>MYL9</th>\n",
       "      <th>MLLT11</th>\n",
       "      <th>PFKL</th>\n",
       "      <th>FGFR4</th>\n",
       "      <th>SDHB</th>\n",
       "    </tr>\n",
       "  </thead>\n",
       "  <tbody>\n",
       "    <tr>\n",
       "      <th>0</th>\n",
       "      <td>22RV1</td>\n",
       "      <td>2.0</td>\n",
       "      <td>2.0</td>\n",
       "      <td>2.0</td>\n",
       "      <td>2.0</td>\n",
       "      <td>2.0</td>\n",
       "      <td>2.0</td>\n",
       "      <td>2.0</td>\n",
       "      <td>2.0</td>\n",
       "      <td>2.0</td>\n",
       "      <td>...</td>\n",
       "      <td>2.0</td>\n",
       "      <td>2.0</td>\n",
       "      <td>2.0</td>\n",
       "      <td>2.0</td>\n",
       "      <td>2.0</td>\n",
       "      <td>2.0</td>\n",
       "      <td>3.0</td>\n",
       "      <td>2.0</td>\n",
       "      <td>2.0</td>\n",
       "      <td>2.0</td>\n",
       "    </tr>\n",
       "  </tbody>\n",
       "</table>\n",
       "<p>1 rows × 859 columns</p>\n",
       "</div>"
      ],
      "text/plain": [
       "  CELL_LINE_NAME  FBXL12  PIN1  PAK4  GNA15  ARPP19  EAPP  MOK  MTHFD2  \\\n",
       "0          22RV1     2.0   2.0   2.0    2.0     2.0   2.0  2.0     2.0   \n",
       "\n",
       "   TIPARP  ...  PDHX  DFFB  FOSL1  ETS1  EBNA1BP2  MYL9  MLLT11  PFKL  FGFR4  \\\n",
       "0     2.0  ...   2.0   2.0    2.0   2.0       2.0   2.0     3.0   2.0    2.0   \n",
       "\n",
       "   SDHB  \n",
       "0   2.0  \n",
       "\n",
       "[1 rows x 859 columns]"
      ]
     },
     "execution_count": 140,
     "metadata": {},
     "output_type": "execute_result"
    }
   ],
   "source": [
    "cnvp_example = cnvp[cnvp.CELL_LINE_NAME==example_cl][['CELL_LINE_NAME'] + example_genes]\n",
    "print(cnvp_example.values[0, 1:10])\n",
    "cnvp_example"
   ]
  },
  {
   "cell_type": "code",
   "execution_count": 375,
   "metadata": {},
   "outputs": [
    {
     "data": {
      "text/html": [
       "<div>\n",
       "<style scoped>\n",
       "    .dataframe tbody tr th:only-of-type {\n",
       "        vertical-align: middle;\n",
       "    }\n",
       "\n",
       "    .dataframe tbody tr th {\n",
       "        vertical-align: top;\n",
       "    }\n",
       "\n",
       "    .dataframe thead th {\n",
       "        text-align: right;\n",
       "    }\n",
       "</style>\n",
       "<table border=\"1\" class=\"dataframe\">\n",
       "  <thead>\n",
       "    <tr style=\"text-align: right;\">\n",
       "      <th></th>\n",
       "      <th>FBXL12</th>\n",
       "      <th>PIN1</th>\n",
       "      <th>PAK4</th>\n",
       "      <th>GNA15</th>\n",
       "      <th>ARPP19</th>\n",
       "      <th>EAPP</th>\n",
       "      <th>MOK</th>\n",
       "      <th>MTHFD2</th>\n",
       "      <th>TIPARP</th>\n",
       "      <th>CASP3</th>\n",
       "      <th>...</th>\n",
       "      <th>PDHX</th>\n",
       "      <th>DFFB</th>\n",
       "      <th>FOSL1</th>\n",
       "      <th>ETS1</th>\n",
       "      <th>EBNA1BP2</th>\n",
       "      <th>MYL9</th>\n",
       "      <th>MLLT11</th>\n",
       "      <th>PFKL</th>\n",
       "      <th>FGFR4</th>\n",
       "      <th>SDHB</th>\n",
       "    </tr>\n",
       "    <tr>\n",
       "      <th>CELL_LINE_NAME</th>\n",
       "      <th></th>\n",
       "      <th></th>\n",
       "      <th></th>\n",
       "      <th></th>\n",
       "      <th></th>\n",
       "      <th></th>\n",
       "      <th></th>\n",
       "      <th></th>\n",
       "      <th></th>\n",
       "      <th></th>\n",
       "      <th></th>\n",
       "      <th></th>\n",
       "      <th></th>\n",
       "      <th></th>\n",
       "      <th></th>\n",
       "      <th></th>\n",
       "      <th></th>\n",
       "      <th></th>\n",
       "      <th></th>\n",
       "      <th></th>\n",
       "      <th></th>\n",
       "    </tr>\n",
       "  </thead>\n",
       "  <tbody>\n",
       "    <tr>\n",
       "      <th>22RV1</th>\n",
       "      <td>2.0</td>\n",
       "      <td>2.0</td>\n",
       "      <td>2.0</td>\n",
       "      <td>2.0</td>\n",
       "      <td>2.0</td>\n",
       "      <td>2.0</td>\n",
       "      <td>2.0</td>\n",
       "      <td>2.0</td>\n",
       "      <td>2.0</td>\n",
       "      <td>2.0</td>\n",
       "      <td>...</td>\n",
       "      <td>2.0</td>\n",
       "      <td>2.0</td>\n",
       "      <td>2.0</td>\n",
       "      <td>2.0</td>\n",
       "      <td>2.0</td>\n",
       "      <td>2.0</td>\n",
       "      <td>3.0</td>\n",
       "      <td>2.0</td>\n",
       "      <td>2.0</td>\n",
       "      <td>2.0</td>\n",
       "    </tr>\n",
       "    <tr>\n",
       "      <th>23132-87</th>\n",
       "      <td>2.0</td>\n",
       "      <td>2.0</td>\n",
       "      <td>2.0</td>\n",
       "      <td>2.0</td>\n",
       "      <td>2.0</td>\n",
       "      <td>2.0</td>\n",
       "      <td>2.0</td>\n",
       "      <td>2.0</td>\n",
       "      <td>2.0</td>\n",
       "      <td>2.0</td>\n",
       "      <td>...</td>\n",
       "      <td>2.0</td>\n",
       "      <td>2.0</td>\n",
       "      <td>2.0</td>\n",
       "      <td>2.0</td>\n",
       "      <td>2.0</td>\n",
       "      <td>3.0</td>\n",
       "      <td>3.0</td>\n",
       "      <td>2.0</td>\n",
       "      <td>2.0</td>\n",
       "      <td>2.0</td>\n",
       "    </tr>\n",
       "    <tr>\n",
       "      <th>42-MG-BA</th>\n",
       "      <td>4.0</td>\n",
       "      <td>4.0</td>\n",
       "      <td>4.0</td>\n",
       "      <td>4.0</td>\n",
       "      <td>5.0</td>\n",
       "      <td>6.0</td>\n",
       "      <td>5.0</td>\n",
       "      <td>3.0</td>\n",
       "      <td>3.0</td>\n",
       "      <td>3.0</td>\n",
       "      <td>...</td>\n",
       "      <td>3.0</td>\n",
       "      <td>5.0</td>\n",
       "      <td>5.0</td>\n",
       "      <td>5.0</td>\n",
       "      <td>5.0</td>\n",
       "      <td>6.0</td>\n",
       "      <td>3.0</td>\n",
       "      <td>5.0</td>\n",
       "      <td>5.0</td>\n",
       "      <td>4.0</td>\n",
       "    </tr>\n",
       "    <tr>\n",
       "      <th>451Lu</th>\n",
       "      <td>4.0</td>\n",
       "      <td>4.0</td>\n",
       "      <td>4.0</td>\n",
       "      <td>4.0</td>\n",
       "      <td>4.0</td>\n",
       "      <td>3.0</td>\n",
       "      <td>3.0</td>\n",
       "      <td>4.0</td>\n",
       "      <td>4.0</td>\n",
       "      <td>3.0</td>\n",
       "      <td>...</td>\n",
       "      <td>3.0</td>\n",
       "      <td>5.0</td>\n",
       "      <td>3.0</td>\n",
       "      <td>3.0</td>\n",
       "      <td>5.0</td>\n",
       "      <td>6.0</td>\n",
       "      <td>4.0</td>\n",
       "      <td>4.0</td>\n",
       "      <td>4.0</td>\n",
       "      <td>5.0</td>\n",
       "    </tr>\n",
       "    <tr>\n",
       "      <th>5637</th>\n",
       "      <td>3.0</td>\n",
       "      <td>3.0</td>\n",
       "      <td>3.0</td>\n",
       "      <td>3.0</td>\n",
       "      <td>3.0</td>\n",
       "      <td>3.0</td>\n",
       "      <td>3.0</td>\n",
       "      <td>3.0</td>\n",
       "      <td>3.0</td>\n",
       "      <td>3.0</td>\n",
       "      <td>...</td>\n",
       "      <td>4.0</td>\n",
       "      <td>3.0</td>\n",
       "      <td>4.0</td>\n",
       "      <td>3.0</td>\n",
       "      <td>3.0</td>\n",
       "      <td>4.0</td>\n",
       "      <td>3.0</td>\n",
       "      <td>3.0</td>\n",
       "      <td>4.0</td>\n",
       "      <td>3.0</td>\n",
       "    </tr>\n",
       "  </tbody>\n",
       "</table>\n",
       "<p>5 rows × 858 columns</p>\n",
       "</div>"
      ],
      "text/plain": [
       "                FBXL12  PIN1  PAK4  GNA15  ARPP19  EAPP  MOK  MTHFD2  TIPARP  \\\n",
       "CELL_LINE_NAME                                                                 \n",
       "22RV1              2.0   2.0   2.0    2.0     2.0   2.0  2.0     2.0     2.0   \n",
       "23132-87           2.0   2.0   2.0    2.0     2.0   2.0  2.0     2.0     2.0   \n",
       "42-MG-BA           4.0   4.0   4.0    4.0     5.0   6.0  5.0     3.0     3.0   \n",
       "451Lu              4.0   4.0   4.0    4.0     4.0   3.0  3.0     4.0     4.0   \n",
       "5637               3.0   3.0   3.0    3.0     3.0   3.0  3.0     3.0     3.0   \n",
       "\n",
       "                CASP3  ...  PDHX  DFFB  FOSL1  ETS1  EBNA1BP2  MYL9  MLLT11  \\\n",
       "CELL_LINE_NAME         ...                                                    \n",
       "22RV1             2.0  ...   2.0   2.0    2.0   2.0       2.0   2.0     3.0   \n",
       "23132-87          2.0  ...   2.0   2.0    2.0   2.0       2.0   3.0     3.0   \n",
       "42-MG-BA          3.0  ...   3.0   5.0    5.0   5.0       5.0   6.0     3.0   \n",
       "451Lu             3.0  ...   3.0   5.0    3.0   3.0       5.0   6.0     4.0   \n",
       "5637              3.0  ...   4.0   3.0    4.0   3.0       3.0   4.0     3.0   \n",
       "\n",
       "                PFKL  FGFR4  SDHB  \n",
       "CELL_LINE_NAME                     \n",
       "22RV1            2.0    2.0   2.0  \n",
       "23132-87         2.0    2.0   2.0  \n",
       "42-MG-BA         5.0    5.0   4.0  \n",
       "451Lu            4.0    4.0   5.0  \n",
       "5637             3.0    4.0   3.0  \n",
       "\n",
       "[5 rows x 858 columns]"
      ]
     },
     "execution_count": 375,
     "metadata": {},
     "output_type": "execute_result"
    }
   ],
   "source": [
    "cnvp2 = copy.deepcopy(cnvp)\n",
    "cnvp2.set_index('CELL_LINE_NAME', inplace=True)\n",
    "cnvp2.head(5)"
   ]
  },
  {
   "cell_type": "code",
   "execution_count": 376,
   "metadata": {},
   "outputs": [
    {
     "data": {
      "text/plain": [
       "FBXL12    2.0\n",
       "PIN1      2.0\n",
       "PAK4      2.0\n",
       "GNA15     2.0\n",
       "ARPP19    2.0\n",
       "         ... \n",
       "MYL9      3.0\n",
       "MLLT11    3.0\n",
       "PFKL      2.0\n",
       "FGFR4     2.0\n",
       "SDHB      2.0\n",
       "Name: 23132-87, Length: 858, dtype: float64"
      ]
     },
     "execution_count": 376,
     "metadata": {},
     "output_type": "execute_result"
    }
   ],
   "source": [
    "cnvp2.loc['23132-87']"
   ]
  },
  {
   "cell_type": "code",
   "execution_count": 378,
   "metadata": {},
   "outputs": [
    {
     "data": {
      "text/plain": [
       "tensor([2., 2., 2., 2., 2., 2., 2., 2., 2., 2., 2., 2., 2., 2., 2., 3., 2., 2.,\n",
       "        2., 2., 2., 2., 2., 2., 2., 2., 2., 2., 2., 2., 2., 2., 2., 2., 2., 2.,\n",
       "        2., 2., 2., 2., 2., 2., 2., 2., 3., 2., 2., 2., 2., 2., 2., 2., 2., 2.,\n",
       "        2., 2., 2., 2., 2., 3., 2., 2., 2., 2., 2., 2., 2., 2., 2., 2., 3., 2.,\n",
       "        2., 2., 2., 2., 2., 2., 2., 2., 2., 2., 2., 2., 2., 2., 2., 2., 2., 2.,\n",
       "        2., 3., 2., 2., 2., 2., 2., 2., 2., 2., 2., 3., 3., 3., 2., 2., 3., 2.,\n",
       "        2., 2., 2., 2., 2., 2., 2., 3., 2., 2., 2., 2., 2., 2., 2., 2., 2., 2.,\n",
       "        2., 2., 2., 2., 1., 2., 2., 2., 2., 2., 2., 2., 2., 2., 2., 2., 2., 2.,\n",
       "        2., 2., 2., 2., 2., 2., 2., 2., 2., 2., 2., 2., 2., 2., 2., 2., 2., 2.,\n",
       "        2., 2., 2., 2., 2., 2., 2., 2., 1., 2., 2., 2., 2., 2., 3., 3., 3., 2.,\n",
       "        2., 2., 2., 3., 2., 2., 2., 2., 2., 2., 2., 2., 2., 2., 2., 3., 2., 3.,\n",
       "        2., 2., 3., 3., 3., 2., 2., 2., 2., 2., 2., 2., 2., 2., 2., 3., 2., 2.,\n",
       "        2., 2., 2., 2., 2., 2., 3., 2., 2., 2., 3., 2., 2., 3., 2., 2., 2., 2.,\n",
       "        2., 2., 2., 2., 2., 3., 2., 2., 2., 1., 3., 2., 2., 2., 2., 2., 2., 2.,\n",
       "        2., 1., 2., 2., 2., 2., 2., 2., 2., 2., 2., 2., 2., 2., 2., 2., 2., 2.,\n",
       "        2., 3., 2., 2., 2., 2., 3., 2., 2., 2., 2., 2., 2., 3., 2., 2., 2., 2.,\n",
       "        2., 2., 2., 3., 2., 2., 2., 2., 2., 2., 2., 2., 2., 2., 2., 2., 2., 2.,\n",
       "        2., 2., 3., 2., 2., 2., 3., 2., 2., 2., 2., 2., 2., 2., 2., 2., 2., 2.,\n",
       "        2., 2., 2., 2., 2., 2., 2., 2., 2., 3., 2., 2., 1., 2., 2., 2., 2., 3.,\n",
       "        2., 2., 2., 2., 2., 2., 2., 2., 2., 2., 3., 3., 3., 2., 2., 2., 2., 2.,\n",
       "        3., 2., 2., 2., 2., 2., 3., 2., 2., 3., 2., 2., 2., 2., 2., 2., 2., 2.,\n",
       "        2., 2., 2., 2., 3., 2., 3., 2., 2., 2., 2., 2., 2., 2., 2., 2., 2., 2.,\n",
       "        3., 2., 2., 3., 2., 2., 2., 3., 2., 2., 2., 2., 2., 2., 2., 2., 2., 3.,\n",
       "        3., 2., 2., 3., 2., 3., 2., 2., 2., 2., 2., 2., 2., 2., 2., 3., 2., 2.,\n",
       "        2., 2., 3., 2., 2., 3., 2., 2., 3., 2., 2., 2., 2., 2., 2., 3., 2., 2.,\n",
       "        2., 2., 2., 2., 2., 2., 2., 2., 2., 3., 2., 2., 2., 2., 2., 2., 3., 2.,\n",
       "        2., 2., 2., 2., 3., 2., 2., 2., 2., 2., 2., 2., 3., 2., 2., 2., 3., 2.,\n",
       "        2., 2., 2., 2., 2., 2., 2., 2., 2., 2., 2., 2., 2., 2., 2., 2., 2., 2.,\n",
       "        2., 3., 2., 2., 3., 2., 2., 2., 2., 2., 2., 2., 2., 2., 2., 2., 2., 3.,\n",
       "        2., 2., 2., 2., 2., 2., 2., 2., 2., 1., 2., 2., 2., 2., 2., 2., 3., 2.,\n",
       "        2., 2., 2., 3., 2., 2., 2., 2., 3., 2., 2., 3., 2., 3., 2., 2., 2., 2.,\n",
       "        2., 2., 2., 2., 2., 2., 2., 2., 2., 3., 2., 2., 2., 2., 2., 2., 2., 2.,\n",
       "        3., 2., 2., 3., 2., 2., 2., 2., 2., 2., 2., 2., 3., 2., 2., 2., 2., 2.,\n",
       "        2., 2., 3., 2., 2., 3., 2., 2., 2., 2., 2., 2., 3., 2., 2., 2., 2., 2.,\n",
       "        2., 2., 2., 2., 2., 2., 2., 2., 2., 2., 2., 2., 2., 2., 2., 3., 2., 2.,\n",
       "        2., 3., 2., 2., 2., 2., 2., 2., 2., 2., 2., 2., 2., 2., 2., 2., 2., 2.,\n",
       "        2., 2., 2., 2., 2., 2., 2., 3., 2., 2., 3., 2., 2., 2., 2., 2., 2., 2.,\n",
       "        2., 2., 2., 2., 2., 2., 2., 3., 2., 2., 2., 2., 2., 2., 2., 2., 2., 2.,\n",
       "        2., 2., 2., 2., 2., 2., 2., 2., 2., 2., 3., 1., 2., 2., 1., 2., 2., 3.,\n",
       "        2., 3., 3., 2., 2., 2., 2., 2., 2., 2., 2., 2., 2., 3., 2., 2., 2., 2.,\n",
       "        2., 2., 2., 2., 2., 2., 2., 3., 2., 2., 2., 2., 2., 2., 2., 2., 2., 3.,\n",
       "        3., 2., 2., 2., 3., 2., 2., 2., 2., 2., 3., 2., 2., 2., 3., 3., 3., 2.,\n",
       "        2., 2., 2., 2., 2., 2., 2., 2., 2., 2., 3., 2., 2., 2., 2., 2., 3., 2.,\n",
       "        2., 3., 2., 2., 2., 2., 3., 3., 2., 3., 2., 2., 2., 2., 3., 2., 2., 2.,\n",
       "        2., 2., 3., 1., 2., 2., 2., 2., 2., 2., 2., 2., 2., 2., 2., 3., 2., 2.,\n",
       "        2., 2., 3., 2., 2., 3., 2., 2., 2., 2., 2., 2., 3., 3., 2., 2., 2., 2.,\n",
       "        2., 2., 2., 2., 3., 3., 2., 2., 2., 2., 3., 2., 2., 2., 3., 2., 3., 2.,\n",
       "        2., 2., 2., 2., 2., 2., 2., 2., 3., 2., 2., 2.], dtype=torch.float64)"
      ]
     },
     "execution_count": 378,
     "metadata": {},
     "output_type": "execute_result"
    }
   ],
   "source": [
    "torch.tensor(cnvp[cnvp.CELL_LINE_NAME==example_cl][example_genes].values[0, :])"
   ]
  },
  {
   "cell_type": "code",
   "execution_count": 141,
   "metadata": {},
   "outputs": [
    {
     "name": "stdout",
     "output_type": "stream",
     "text": [
      "[0.0 0.0 0.0 0.0 0.0 0.0 0.0 0.0 1.0]\n"
     ]
    },
    {
     "data": {
      "text/html": [
       "<div>\n",
       "<style scoped>\n",
       "    .dataframe tbody tr th:only-of-type {\n",
       "        vertical-align: middle;\n",
       "    }\n",
       "\n",
       "    .dataframe tbody tr th {\n",
       "        vertical-align: top;\n",
       "    }\n",
       "\n",
       "    .dataframe thead th {\n",
       "        text-align: right;\n",
       "    }\n",
       "</style>\n",
       "<table border=\"1\" class=\"dataframe\">\n",
       "  <thead>\n",
       "    <tr style=\"text-align: right;\">\n",
       "      <th>gene_symbol</th>\n",
       "      <th>CELL_LINE_NAME</th>\n",
       "      <th>FBXL12</th>\n",
       "      <th>PIN1</th>\n",
       "      <th>PAK4</th>\n",
       "      <th>GNA15</th>\n",
       "      <th>ARPP19</th>\n",
       "      <th>EAPP</th>\n",
       "      <th>MOK</th>\n",
       "      <th>MTHFD2</th>\n",
       "      <th>TIPARP</th>\n",
       "      <th>...</th>\n",
       "      <th>PDHX</th>\n",
       "      <th>DFFB</th>\n",
       "      <th>FOSL1</th>\n",
       "      <th>ETS1</th>\n",
       "      <th>EBNA1BP2</th>\n",
       "      <th>MYL9</th>\n",
       "      <th>MLLT11</th>\n",
       "      <th>PFKL</th>\n",
       "      <th>FGFR4</th>\n",
       "      <th>SDHB</th>\n",
       "    </tr>\n",
       "  </thead>\n",
       "  <tbody>\n",
       "    <tr>\n",
       "      <th>0</th>\n",
       "      <td>22RV1</td>\n",
       "      <td>0.0</td>\n",
       "      <td>0.0</td>\n",
       "      <td>0.0</td>\n",
       "      <td>0.0</td>\n",
       "      <td>0.0</td>\n",
       "      <td>0.0</td>\n",
       "      <td>0.0</td>\n",
       "      <td>0.0</td>\n",
       "      <td>1.0</td>\n",
       "      <td>...</td>\n",
       "      <td>1.0</td>\n",
       "      <td>0.0</td>\n",
       "      <td>0.0</td>\n",
       "      <td>0.0</td>\n",
       "      <td>0.0</td>\n",
       "      <td>0.0</td>\n",
       "      <td>1.0</td>\n",
       "      <td>0.0</td>\n",
       "      <td>1.0</td>\n",
       "      <td>0.0</td>\n",
       "    </tr>\n",
       "  </tbody>\n",
       "</table>\n",
       "<p>1 rows × 859 columns</p>\n",
       "</div>"
      ],
      "text/plain": [
       "gene_symbol CELL_LINE_NAME  FBXL12  PIN1  PAK4  GNA15  ARPP19  EAPP  MOK  \\\n",
       "0                    22RV1     0.0   0.0   0.0    0.0     0.0   0.0  0.0   \n",
       "\n",
       "gene_symbol  MTHFD2  TIPARP  ...  PDHX  DFFB  FOSL1  ETS1  EBNA1BP2  MYL9  \\\n",
       "0               0.0     1.0  ...   1.0   0.0    0.0   0.0       0.0   0.0   \n",
       "\n",
       "gene_symbol  MLLT11  PFKL  FGFR4  SDHB  \n",
       "0               1.0   0.0    1.0   0.0  \n",
       "\n",
       "[1 rows x 859 columns]"
      ]
     },
     "execution_count": 141,
     "metadata": {},
     "output_type": "execute_result"
    }
   ],
   "source": [
    "mut_example = mut[mut.CELL_LINE_NAME==example_cl][['CELL_LINE_NAME'] + example_genes]\n",
    "print(mut_example.values[0, 1:10])\n",
    "mut_example"
   ]
  },
  {
   "cell_type": "code",
   "execution_count": 142,
   "metadata": {},
   "outputs": [
    {
     "name": "stdout",
     "output_type": "stream",
     "text": [
      "tensor([0., 0., 0., 0., 0., 0., 0., 0., 1.], dtype=torch.float64)\n",
      "tensor([0., 0., 0., 0., 0., 0., 0., 0., 1.], dtype=torch.float64)\n"
     ]
    }
   ],
   "source": [
    "# Two ways of converting\n",
    "print(torch.from_numpy(np.array(mut_example.values[0, 1:10], dtype=np.float64)))\n",
    "print(torch.tensor(np.array(mut_example.values[0, 1:10], dtype=np.float64), dtype=torch.float64))"
   ]
  },
  {
   "cell_type": "code",
   "execution_count": 143,
   "metadata": {},
   "outputs": [],
   "source": [
    "gexpr_tens = torch.tensor(np.array(gexpr_example.values[0, 1:], dtype=np.float64), dtype=torch.float64)\n",
    "cnvg_tens = torch.tensor(np.array(cnvg_example.values[0, 1:], dtype=np.float64), dtype=torch.float64)\n",
    "cnvp_tens = torch.tensor(np.array(cnvp_example.values[0, 1:], dtype=np.float64), dtype=torch.float64)\n",
    "mut_tens = torch.tensor(np.array(mut_example.values[0, 1:], dtype=np.float64), dtype=torch.float64)"
   ]
  },
  {
   "cell_type": "code",
   "execution_count": 159,
   "metadata": {},
   "outputs": [
    {
     "name": "stdout",
     "output_type": "stream",
     "text": [
      "torch.Size([4, 858])\n"
     ]
    },
    {
     "data": {
      "text/plain": [
       "tensor([[ 7.0238,  6.0675,  4.3188,  ...,  4.3768,  3.2152,  9.2676],\n",
       "        [ 0.0000,  0.0000,  0.0000,  ..., -1.0000, -1.0000, -1.0000],\n",
       "        [ 2.0000,  2.0000,  2.0000,  ...,  2.0000,  2.0000,  2.0000],\n",
       "        [ 0.0000,  0.0000,  0.0000,  ...,  0.0000,  1.0000,  0.0000]],\n",
       "       dtype=torch.float64)"
      ]
     },
     "execution_count": 159,
     "metadata": {},
     "output_type": "execute_result"
    }
   ],
   "source": [
    "example_stacked = torch.stack([gexpr_tens, cnvg_tens, cnvp_tens, mut_tens])\n",
    "print(example_stacked.shape)\n",
    "example_stacked"
   ]
  },
  {
   "cell_type": "code",
   "execution_count": 160,
   "metadata": {},
   "outputs": [
    {
     "name": "stdout",
     "output_type": "stream",
     "text": [
      "torch.Size([858, 4])\n"
     ]
    },
    {
     "data": {
      "text/plain": [
       "tensor([[ 7.0238,  0.0000,  2.0000,  0.0000],\n",
       "        [ 6.0675,  0.0000,  2.0000,  0.0000],\n",
       "        [ 4.3188,  0.0000,  2.0000,  0.0000],\n",
       "        ...,\n",
       "        [ 4.3768, -1.0000,  2.0000,  0.0000],\n",
       "        [ 3.2152, -1.0000,  2.0000,  1.0000],\n",
       "        [ 9.2676, -1.0000,  2.0000,  0.0000]], dtype=torch.float64)"
      ]
     },
     "execution_count": 160,
     "metadata": {},
     "output_type": "execute_result"
    }
   ],
   "source": [
    "# Swap dimension\n",
    "example_stacked_swap = example_stacked.permute(1,0)\n",
    "print(example_stacked_swap.shape)\n",
    "example_stacked_swap"
   ]
  },
  {
   "cell_type": "markdown",
   "metadata": {},
   "source": [
    "- 1st index = gene expression\n",
    "- 2nd index = copy number gistic\n",
    "- 3rd index = copy number picnic\n",
    "- 4th index = mutation"
   ]
  },
  {
   "cell_type": "code",
   "execution_count": 441,
   "metadata": {},
   "outputs": [
    {
     "name": "stdout",
     "output_type": "stream",
     "text": [
      "True\n",
      "False\n"
     ]
    },
    {
     "data": {
      "text/plain": [
       "Data(x=[858, 4], edge_index=[2, 83126])"
      ]
     },
     "execution_count": 441,
     "metadata": {},
     "output_type": "execute_result"
    }
   ],
   "source": [
    "import torch \n",
    "from torch_geometric.data import Data\n",
    "from torch_geometric.utils import to_undirected, is_undirected\n",
    "\n",
    "edge_index = torch.tensor(NEIGHBOR_GENES_UNDIRECTED, dtype=torch.long).t().contiguous() # All neighbor tuples.\n",
    "x = example_stacked_swap.clone().detach() # Per index (node/gene) the features. \n",
    "\n",
    "example_graph = Data(x=x, \n",
    "                    edge_index=to_undirected(edge_index))\n",
    "\n",
    "print(is_undirected(example_graph.edge_index))      \n",
    "print(example_graph.is_undirected()) \n",
    "example_graph"
   ]
  },
  {
   "cell_type": "code",
   "execution_count": 357,
   "metadata": {},
   "outputs": [
    {
     "data": {
      "text/plain": [
       "tensor([[  0,   0,   0,  ..., 858, 858, 858],\n",
       "        [  1,  71,  83,  ..., 829, 831, 856]])"
      ]
     },
     "execution_count": 357,
     "metadata": {},
     "output_type": "execute_result"
    }
   ],
   "source": [
    "example_graph.edge_index"
   ]
  },
  {
   "cell_type": "markdown",
   "metadata": {},
   "source": [
    "- `x`: 4 nodes features per each of the 858 gene nodes.\n",
    "- `edge_index`: 83,126 links in the graph, where the `i`'s entry of the 1st row is connected to the `i`'s entry of the 2nd row"
   ]
  },
  {
   "cell_type": "code",
   "execution_count": 356,
   "metadata": {},
   "outputs": [
    {
     "name": "stdout",
     "output_type": "stream",
     "text": [
      "\n",
      "    data.num_nodes          : 858\n",
      "    data.num_edges          : 83126\n",
      "    data.num_node_features  : 4\n",
      "    data.num_edge_features  : 0\n",
      "    data.has_isolated_nodes : False\n",
      "    data.has_self_loops     : False\n",
      "    data.is_directed        : True\n",
      "    data.is_undirected      : False\n",
      "\n"
     ]
    }
   ],
   "source": [
    "print(f\"\"\"\n",
    "    data.num_nodes          : {example_graph.num_nodes}\n",
    "    data.num_edges          : {example_graph.num_edges}\n",
    "    data.num_node_features  : {example_graph.num_node_features}\n",
    "    data.num_edge_features  : {example_graph.num_edge_features}\n",
    "    data.has_isolated_nodes : {example_graph.has_isolated_nodes()}\n",
    "    data.has_self_loops     : {example_graph.has_self_loops()}\n",
    "    data.is_directed        : {example_graph.is_directed()}\n",
    "    data.is_undirected      : {example_graph.is_undirected()}\n",
    "\"\"\")"
   ]
  },
  {
   "cell_type": "code",
   "execution_count": 245,
   "metadata": {},
   "outputs": [],
   "source": [
    "# TODO: Why is it not undirected??? Why is edge_index directed, but the entire graph is undirected?"
   ]
  },
  {
   "cell_type": "markdown",
   "metadata": {},
   "source": [
    "### For every cell-line\n",
    "\n",
    "Note that since the topology of each graph per cell-line will be identical, only the feature values are changing.\n",
    "\n",
    "```python\n",
    "    Data(\n",
    "        x           # changing for each cell-line.\n",
    "        edge_index  # doesn't change for each cell-line.\n",
    "    )\n",
    "```"
   ]
  },
  {
   "cell_type": "code",
   "execution_count": 424,
   "metadata": {},
   "outputs": [],
   "source": [
    "gexpr.set_index('CELL_LINE_NAME', inplace=True)\n",
    "cnvg.set_index('CELL_LINE_NAME', inplace=True)\n",
    "cnvp.set_index('CELL_LINE_NAME', inplace=True)\n",
    "mut.set_index('CELL_LINE_NAME', inplace=True)"
   ]
  },
  {
   "cell_type": "code",
   "execution_count": 452,
   "metadata": {},
   "outputs": [
    {
     "name": "stderr",
     "output_type": "stream",
     "text": [
      "100%|██████████| 983/983 [01:22<00:00, 11.97it/s]\n"
     ]
    }
   ],
   "source": [
    "GENES = list(INTER_GENES)\n",
    "Gs = {}\n",
    "for cl in tqdm(list(INTER_CLS)):\n",
    "    # Convert the feature values to tensors and stack them up.\n",
    "    gexpr_cl = torch.tensor(gexpr.loc[cl][GENES].values, dtype=torch.float64)\n",
    "    cnvg_cl = torch.tensor(cnvg.loc[cl][GENES].values, dtype=torch.float64)\n",
    "    cnvp_cl = torch.tensor(cnvp.loc[cl][GENES].values, dtype=torch.float64)\n",
    "    mut_cl = torch.tensor(mut.loc[cl][GENES].values, dtype=torch.float64)\n",
    "\n",
    "    features = torch.stack([gexpr_cl, cnvg_cl, cnvp_cl, mut_cl]).t()\n",
    "\n",
    "    # Generate the graph.\n",
    "    edge_index = torch.tensor(NEIGHBOR_GENES_UNDIRECTED, dtype=torch.long).t().contiguous()\n",
    "    G_cl = Data(x=features, edge_index=to_undirected(edge_index))\n",
    "\n",
    "    Gs[cl] = G_cl\n"
   ]
  },
  {
   "cell_type": "code",
   "execution_count": 453,
   "metadata": {},
   "outputs": [
    {
     "name": "stdout",
     "output_type": "stream",
     "text": [
      "983\n",
      "Data(x=[858, 4], edge_index=[2, 83126])\n",
      "tensor([[ 6.7396,  0.0000,  2.0000,  0.0000],\n",
      "        [ 4.3421, -1.0000,  2.0000,  1.0000],\n",
      "        [ 8.6186, -2.0000,  1.0000,  0.0000],\n",
      "        ...,\n",
      "        [ 9.2071,  0.0000,  2.0000,  0.0000],\n",
      "        [ 3.8831,  0.0000,  2.0000,  1.0000],\n",
      "        [ 6.0683,  1.0000,  3.0000,  1.0000]], dtype=torch.float64)\n"
     ]
    }
   ],
   "source": [
    "print(len(list(Gs.keys())))\n",
    "print(Gs['22RV1']) # Example cell line\n",
    "print(Gs['22RV1'].x)"
   ]
  },
  {
   "cell_type": "code",
   "execution_count": 454,
   "metadata": {},
   "outputs": [],
   "source": [
    "with open(f'{PATH_TO_FEATURES}cl_graphs_as_dict.pkl', 'wb') as f:\n",
    "    pickle.dump(Gs, f, protocol=pickle.HIGHEST_PROTOCOL)"
   ]
  },
  {
   "cell_type": "code",
   "execution_count": 455,
   "metadata": {},
   "outputs": [],
   "source": [
    "READ = False \n",
    "\n",
    "if READ: \n",
    "    with open(f'{PATH_TO_FEATURES}cl_graphs_as_dict.pkl', 'rb') as f:\n",
    "        Gs = pickle.load(f)"
   ]
  },
  {
   "cell_type": "markdown",
   "metadata": {},
   "source": [
    "##### Summary of final dataset\n",
    "\n",
    "The final dataset is now a dictionary with 983 keys which are the cell-lines and 983 graphs as values per cell-line. Each of these graphs has the exact same topology\n",
    "```python \n",
    "  Data(x=[858, 4], edge_index=[2, 83126])\n",
    "```\n",
    "which means there are \n",
    "- 858 genes as nodes\n",
    "- 4 node features\n",
    "  1. gene expression \n",
    "  2. copy number gistic \n",
    "  3. copy number picnic \n",
    "  4. gene mutation \n",
    "- 83,126 connections/links\n",
    "  - the 2 stands for two lists where always the `i`'s gene of the 1st list is connected to the `i`'s gene of the 2nd list"
   ]
  },
  {
   "cell_type": "code",
   "execution_count": null,
   "metadata": {},
   "outputs": [],
   "source": []
  },
  {
   "cell_type": "code",
   "execution_count": null,
   "metadata": {},
   "outputs": [],
   "source": []
  }
 ],
 "metadata": {
  "interpreter": {
   "hash": "c78b81650a0bd32063743affb6953ff71b1a0dba806fbca9e2db842718495748"
  },
  "kernelspec": {
   "display_name": "Python 3.10.4 ('master-thesis-log')",
   "language": "python",
   "name": "python3"
  },
  "language_info": {
   "codemirror_mode": {
    "name": "ipython",
    "version": 3
   },
   "file_extension": ".py",
   "mimetype": "text/x-python",
   "name": "python",
   "nbconvert_exporter": "python",
   "pygments_lexer": "ipython3",
   "version": "3.10.4"
  },
  "orig_nbformat": 4
 },
 "nbformat": 4,
 "nbformat_minor": 2
}
