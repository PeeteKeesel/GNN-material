{
 "cells": [
  {
   "cell_type": "code",
   "execution_count": null,
   "metadata": {},
   "outputs": [],
   "source": [
    "import time\n",
    "import pickle\n",
    "import torch\n",
    "import copy\n",
    "import torch.nn          as nn\n",
    "import numpy             as np\n",
    "import pandas            as pd\n",
    "import matplotlib.pyplot as plt \n",
    "import seaborn           as sns\n",
    "\n",
    "from typing           import List\n",
    "from torch.utils.data import Dataset, DataLoader\n",
    "from torch_geometric.loader import DataLoader as PyG_Dataloader\n",
    "\n",
    "from config import (\n",
    "    PATH_TO_FEATURES,\n",
    "    PATH_TO_SAVED_DRUG_FEATURES,\n",
    "    PATH_SUMMARY_DATASETS\n",
    ")\n",
    "\n",
    "torch.manual_seed(42)\n",
    "sns.set_theme(style=\"white\")"
   ]
  },
  {
   "cell_type": "markdown",
   "metadata": {},
   "source": [
    "---\n",
    "\n",
    "# Experiments on the `GraphGraph` approach\n",
    "\n",
    "In this notebook we are going to expirment the approach of \n",
    "- replacing the cell-line branch by a GNN (`Graph`)\n",
    "- replacing the drug branch by a GNN (`Graph`)"
   ]
  },
  {
   "cell_type": "markdown",
   "metadata": {},
   "source": [
    "## Pre-processing"
   ]
  },
  {
   "cell_type": "code",
   "execution_count": null,
   "metadata": {},
   "outputs": [],
   "source": [
    "# Reading the cell-line gene graphs.\n",
    "with open(f'{PATH_SUMMARY_DATASETS}cell_line_graphs_dict.pkl', 'rb') as f:\n",
    "    cl_graphs = pickle.load(f)\n",
    "\n",
    "# Reading the drug SMILES fingerprint graphs.\n",
    "with open(f'{PATH_SUMMARY_DATASETS}drug_smiles_fingerprints_dict.pkl', 'rb') as f:\n",
    "    drug_graphs = pickle.load(f)    \n",
    "\n",
    "# Reading the drug response matrix.\n",
    "with open(f'{PATH_SUMMARY_DATASETS}drug_response_matrix__gdsc2.pkl', 'rb') as f: \n",
    "    drm = pickle.load(f)  "
   ]
  },
  {
   "cell_type": "code",
   "execution_count": null,
   "metadata": {},
   "outputs": [],
   "source": []
  }
 ],
 "metadata": {
  "interpreter": {
   "hash": "c78b81650a0bd32063743affb6953ff71b1a0dba806fbca9e2db842718495748"
  },
  "kernelspec": {
   "display_name": "Python 3.10.4 ('master-thesis-log')",
   "language": "python",
   "name": "python3"
  },
  "language_info": {
   "codemirror_mode": {
    "name": "ipython",
    "version": 3
   },
   "file_extension": ".py",
   "mimetype": "text/x-python",
   "name": "python",
   "nbconvert_exporter": "python",
   "pygments_lexer": "ipython3",
   "version": "3.10.4"
  },
  "orig_nbformat": 4
 },
 "nbformat": 4,
 "nbformat_minor": 2
}
