{
 "cells": [
  {
   "cell_type": "code",
   "execution_count": 1,
   "metadata": {},
   "outputs": [],
   "source": [
    "import sys\n",
    "import time\n",
    "import os\n",
    "import numpy as np\n",
    "import pandas as pd\n",
    "import matplotlib.pyplot as plt \n",
    "import seaborn as sns\n",
    "\n",
    "sns.set_theme(style=\"white\")"
   ]
  },
  {
   "cell_type": "markdown",
   "metadata": {},
   "source": [
    "# Mutation Insights\n",
    "\n",
    "The objective of this notebook is to map mutation information to the GDSC database. In folder `knowledge_base/table_contents.md` it is described from where the Mutations and GDSC data is originating from. In the previous notebook `02_GDSC_map_GenExpr.ipynb` we mapped the GDSC data to gene-expression information. The resulting table is saved in `temp_datasets/joined_gdsc_geneexpr.pkl` which will be the starting point for this notebook."
   ]
  },
  {
   "cell_type": "code",
   "execution_count": 2,
   "metadata": {},
   "outputs": [
    {
     "name": "stdout",
     "output_type": "stream",
     "text": [
      "/Users/cwoest/Documents/Academics/Data_Science_UP/master_thesis/material/GNN-material\n",
      "37667912  1489888 -rw-------    1 cwoest           staff            749603667 Mar 15 12:09 ../../datasets/gdsc/cell_line_genomic_data/mutations_all_20220315.csv\n",
      "37707762     2376 -rw-------    1 cwoest           staff             1215200 Mar 15 11:59 ../../datasets/gdsc/cell_line_genomic_data/mutations_summary_20220315.csv\n"
     ]
    }
   ],
   "source": [
    "!pwd\n",
    "!find ../../datasets/gdsc/cell_line_genomic_data -name '*mutation*.csv' -ls"
   ]
  },
  {
   "cell_type": "markdown",
   "metadata": {},
   "source": [
    "The files we will use for mapping are\n",
    "- `mutations_all_20220315.csv`"
   ]
  },
  {
   "cell_type": "code",
   "execution_count": 2,
   "metadata": {},
   "outputs": [],
   "source": [
    "PATH_TO_CNV_DATA = '../../datasets/gdsc/cell_line_genomic_data/'\n",
    "PATH_TO_SAVE_DATA_TO = '../../datasets/gdsc/my_datasets/'\n",
    "\n",
    "MUTATION_FILE = 'mutations_all_20220315.csv'"
   ]
  },
  {
   "cell_type": "code",
   "execution_count": 3,
   "metadata": {},
   "outputs": [
    {
     "name": "stdout",
     "output_type": "stream",
     "text": [
      "(446521, 922)\n"
     ]
    },
    {
     "data": {
      "text/html": [
       "<div>\n",
       "<style scoped>\n",
       "    .dataframe tbody tr th:only-of-type {\n",
       "        vertical-align: middle;\n",
       "    }\n",
       "\n",
       "    .dataframe tbody tr th {\n",
       "        vertical-align: top;\n",
       "    }\n",
       "\n",
       "    .dataframe thead th {\n",
       "        text-align: right;\n",
       "    }\n",
       "</style>\n",
       "<table border=\"1\" class=\"dataframe\">\n",
       "  <thead>\n",
       "    <tr style=\"text-align: right;\">\n",
       "      <th></th>\n",
       "      <th>DRUG_ID</th>\n",
       "      <th>CELL_LINE_NAME</th>\n",
       "      <th>AUC</th>\n",
       "      <th>CELL_ID</th>\n",
       "      <th>LN_IC50</th>\n",
       "      <th>CONC</th>\n",
       "      <th>MASTER_CELL_ID</th>\n",
       "      <th>INTENSITY</th>\n",
       "      <th>DATASET</th>\n",
       "      <th>Z_SCORE</th>\n",
       "      <th>...</th>\n",
       "      <th>MYCBP</th>\n",
       "      <th>FIS1</th>\n",
       "      <th>IFRD2</th>\n",
       "      <th>NPEPL1</th>\n",
       "      <th>CEBPD</th>\n",
       "      <th>PLEKHM1</th>\n",
       "      <th>MIF</th>\n",
       "      <th>PRAF2</th>\n",
       "      <th>LYN</th>\n",
       "      <th>POLG2</th>\n",
       "    </tr>\n",
       "  </thead>\n",
       "  <tbody>\n",
       "    <tr>\n",
       "      <th>0</th>\n",
       "      <td>1</td>\n",
       "      <td>MC-CAR</td>\n",
       "      <td>0.982114</td>\n",
       "      <td>3137</td>\n",
       "      <td>2.395685</td>\n",
       "      <td>2.0</td>\n",
       "      <td>49</td>\n",
       "      <td>544404</td>\n",
       "      <td>GDSC1</td>\n",
       "      <td>-0.189576</td>\n",
       "      <td>...</td>\n",
       "      <td>8.355826</td>\n",
       "      <td>8.951680</td>\n",
       "      <td>7.205590</td>\n",
       "      <td>3.277948</td>\n",
       "      <td>3.465672</td>\n",
       "      <td>6.312806</td>\n",
       "      <td>12.112498</td>\n",
       "      <td>3.010237</td>\n",
       "      <td>8.750848</td>\n",
       "      <td>6.199366</td>\n",
       "    </tr>\n",
       "    <tr>\n",
       "      <th>9</th>\n",
       "      <td>1</td>\n",
       "      <td>ES3</td>\n",
       "      <td>0.984816</td>\n",
       "      <td>2366</td>\n",
       "      <td>3.140923</td>\n",
       "      <td>2.0</td>\n",
       "      <td>1342</td>\n",
       "      <td>404197</td>\n",
       "      <td>GDSC1</td>\n",
       "      <td>0.508635</td>\n",
       "      <td>...</td>\n",
       "      <td>5.995760</td>\n",
       "      <td>9.337588</td>\n",
       "      <td>7.468226</td>\n",
       "      <td>3.716270</td>\n",
       "      <td>5.363887</td>\n",
       "      <td>6.188079</td>\n",
       "      <td>12.281947</td>\n",
       "      <td>4.794624</td>\n",
       "      <td>3.588528</td>\n",
       "      <td>6.785201</td>\n",
       "    </tr>\n",
       "    <tr>\n",
       "      <th>27</th>\n",
       "      <td>1</td>\n",
       "      <td>ES5</td>\n",
       "      <td>0.985693</td>\n",
       "      <td>2368</td>\n",
       "      <td>3.968757</td>\n",
       "      <td>2.0</td>\n",
       "      <td>610</td>\n",
       "      <td>797378</td>\n",
       "      <td>GDSC1</td>\n",
       "      <td>1.284229</td>\n",
       "      <td>...</td>\n",
       "      <td>6.939741</td>\n",
       "      <td>8.688176</td>\n",
       "      <td>7.085349</td>\n",
       "      <td>3.688222</td>\n",
       "      <td>4.572119</td>\n",
       "      <td>6.345090</td>\n",
       "      <td>12.276166</td>\n",
       "      <td>4.114092</td>\n",
       "      <td>5.768098</td>\n",
       "      <td>7.505155</td>\n",
       "    </tr>\n",
       "  </tbody>\n",
       "</table>\n",
       "<p>3 rows × 922 columns</p>\n",
       "</div>"
      ],
      "text/plain": [
       "    DRUG_ID CELL_LINE_NAME       AUC  CELL_ID   LN_IC50  CONC  MASTER_CELL_ID  \\\n",
       "0         1         MC-CAR  0.982114     3137  2.395685   2.0              49   \n",
       "9         1            ES3  0.984816     2366  3.140923   2.0            1342   \n",
       "27        1            ES5  0.985693     2368  3.968757   2.0             610   \n",
       "\n",
       "    INTENSITY DATASET   Z_SCORE  ...     MYCBP      FIS1     IFRD2    NPEPL1  \\\n",
       "0      544404   GDSC1 -0.189576  ...  8.355826  8.951680  7.205590  3.277948   \n",
       "9      404197   GDSC1  0.508635  ...  5.995760  9.337588  7.468226  3.716270   \n",
       "27     797378   GDSC1  1.284229  ...  6.939741  8.688176  7.085349  3.688222   \n",
       "\n",
       "       CEBPD   PLEKHM1        MIF     PRAF2       LYN     POLG2  \n",
       "0   3.465672  6.312806  12.112498  3.010237  8.750848  6.199366  \n",
       "9   5.363887  6.188079  12.281947  4.794624  3.588528  6.785201  \n",
       "27  4.572119  6.345090  12.276166  4.114092  5.768098  7.505155  \n",
       "\n",
       "[3 rows x 922 columns]"
      ]
     },
     "execution_count": 3,
     "metadata": {},
     "output_type": "execute_result"
    }
   ],
   "source": [
    "# First, we load the GDSC dataset from the previous notebook.\n",
    "GDSC = pd.read_pickle(f'{PATH_TO_SAVE_DATA_TO}joined_gdsc_geneexpr.pkl')\n",
    "print(GDSC.shape)\n",
    "GDSC.head(3)"
   ]
  },
  {
   "cell_type": "code",
   "execution_count": 12,
   "metadata": {},
   "outputs": [
    {
     "data": {
      "text/plain": [
       "Index(['DRUG_ID', 'CELL_LINE_NAME', 'AUC', 'CELL_ID', 'LN_IC50', 'CONC',\n",
       "       'MASTER_CELL_ID', 'INTENSITY', 'DATASET', 'Z_SCORE', 'DRUG_NAME',\n",
       "       'RMSE', 'COSMIC_ID', 'POSITION'],\n",
       "      dtype='object')"
      ]
     },
     "execution_count": 12,
     "metadata": {},
     "output_type": "execute_result"
    }
   ],
   "source": [
    "GDSC.columns[:14]"
   ]
  },
  {
   "cell_type": "markdown",
   "metadata": {},
   "source": [
    "--- \n",
    "\n",
    "## Mutations\n",
    "\n",
    "In this subsection we will investigate and potentially map the `mutations_all_20220315.csv` content to the `GDSC` dataset.\n",
    "\n",
    "The following is taken from [here](https://depmap.sanger.ac.uk/documentation/datasets/):\n",
    "\n",
    "| Dataset Type | Description | Documentation |\n",
    "| :----------- | :---------- | :------------ | \n",
    "| Mutation | All sequencing data including WES, WGS & TGS used to generate mutation data for the cell line and organoid models.\t | [Mutation](https://depmap.sanger.ac.uk/documentation/datasets/mutation/) |"
   ]
  },
  {
   "cell_type": "code",
   "execution_count": 4,
   "metadata": {},
   "outputs": [
    {
     "data": {
      "text/plain": [
       "'mutations_all_20220315.csv'"
      ]
     },
     "execution_count": 4,
     "metadata": {},
     "output_type": "execute_result"
    }
   ],
   "source": [
    "MUTATION_FILE"
   ]
  },
  {
   "cell_type": "code",
   "execution_count": 5,
   "metadata": {},
   "outputs": [
    {
     "name": "stdout",
     "output_type": "stream",
     "text": [
      "File `mutations_all_20220315.csv` took 13.89153 seconds to import. \n",
      "Shape: (8322616, 13)\n"
     ]
    },
    {
     "data": {
      "text/html": [
       "<div>\n",
       "<style scoped>\n",
       "    .dataframe tbody tr th:only-of-type {\n",
       "        vertical-align: middle;\n",
       "    }\n",
       "\n",
       "    .dataframe tbody tr th {\n",
       "        vertical-align: top;\n",
       "    }\n",
       "\n",
       "    .dataframe thead th {\n",
       "        text-align: right;\n",
       "    }\n",
       "</style>\n",
       "<table border=\"1\" class=\"dataframe\">\n",
       "  <thead>\n",
       "    <tr style=\"text-align: right;\">\n",
       "      <th></th>\n",
       "      <th>gene_id</th>\n",
       "      <th>gene_symbol</th>\n",
       "      <th>model_id</th>\n",
       "      <th>protein_mutation</th>\n",
       "      <th>rna_mutation</th>\n",
       "      <th>cdna_mutation</th>\n",
       "      <th>cancer_driver</th>\n",
       "      <th>cancer_predisposition_variant</th>\n",
       "      <th>effect</th>\n",
       "      <th>vaf</th>\n",
       "      <th>coding</th>\n",
       "      <th>source</th>\n",
       "      <th>model_name</th>\n",
       "    </tr>\n",
       "  </thead>\n",
       "  <tbody>\n",
       "    <tr>\n",
       "      <th>0</th>\n",
       "      <td>SIDG36104</td>\n",
       "      <td>SOX30</td>\n",
       "      <td>SIDM02021</td>\n",
       "      <td>-</td>\n",
       "      <td>r.?</td>\n",
       "      <td>-</td>\n",
       "      <td>False</td>\n",
       "      <td>False</td>\n",
       "      <td>intronic</td>\n",
       "      <td>0.2703</td>\n",
       "      <td>False</td>\n",
       "      <td>Sanger</td>\n",
       "      <td>HCM-SANG-1082-C15</td>\n",
       "    </tr>\n",
       "    <tr>\n",
       "      <th>1</th>\n",
       "      <td>SIDG37647</td>\n",
       "      <td>THG1L</td>\n",
       "      <td>SIDM02021</td>\n",
       "      <td>-</td>\n",
       "      <td>r.?</td>\n",
       "      <td>-</td>\n",
       "      <td>False</td>\n",
       "      <td>False</td>\n",
       "      <td>intronic</td>\n",
       "      <td>0.7500</td>\n",
       "      <td>False</td>\n",
       "      <td>Sanger</td>\n",
       "      <td>HCM-SANG-1082-C15</td>\n",
       "    </tr>\n",
       "    <tr>\n",
       "      <th>2</th>\n",
       "      <td>SIDG16920</td>\n",
       "      <td>LSM11</td>\n",
       "      <td>SIDM02021</td>\n",
       "      <td>-</td>\n",
       "      <td>r.?</td>\n",
       "      <td>-</td>\n",
       "      <td>False</td>\n",
       "      <td>False</td>\n",
       "      <td>intronic</td>\n",
       "      <td>0.6452</td>\n",
       "      <td>False</td>\n",
       "      <td>Sanger</td>\n",
       "      <td>HCM-SANG-1082-C15</td>\n",
       "    </tr>\n",
       "    <tr>\n",
       "      <th>3</th>\n",
       "      <td>SIDG16920</td>\n",
       "      <td>LSM11</td>\n",
       "      <td>SIDM02021</td>\n",
       "      <td>p.?</td>\n",
       "      <td>r.3207delU</td>\n",
       "      <td>c.?</td>\n",
       "      <td>False</td>\n",
       "      <td>False</td>\n",
       "      <td>3prime_UTR_variant</td>\n",
       "      <td>0.7692</td>\n",
       "      <td>False</td>\n",
       "      <td>Sanger</td>\n",
       "      <td>HCM-SANG-1082-C15</td>\n",
       "    </tr>\n",
       "    <tr>\n",
       "      <th>4</th>\n",
       "      <td>SIDG16920</td>\n",
       "      <td>LSM11</td>\n",
       "      <td>SIDM02021</td>\n",
       "      <td>-</td>\n",
       "      <td>r.?</td>\n",
       "      <td>-</td>\n",
       "      <td>False</td>\n",
       "      <td>False</td>\n",
       "      <td>downstream</td>\n",
       "      <td>0.3571</td>\n",
       "      <td>False</td>\n",
       "      <td>Sanger</td>\n",
       "      <td>HCM-SANG-1082-C15</td>\n",
       "    </tr>\n",
       "    <tr>\n",
       "      <th>5</th>\n",
       "      <td>SIDG16920</td>\n",
       "      <td>LSM11</td>\n",
       "      <td>SIDM02021</td>\n",
       "      <td>-</td>\n",
       "      <td>r.?</td>\n",
       "      <td>-</td>\n",
       "      <td>False</td>\n",
       "      <td>False</td>\n",
       "      <td>downstream</td>\n",
       "      <td>0.7692</td>\n",
       "      <td>False</td>\n",
       "      <td>Sanger</td>\n",
       "      <td>HCM-SANG-1082-C15</td>\n",
       "    </tr>\n",
       "    <tr>\n",
       "      <th>6</th>\n",
       "      <td>SIDG04857</td>\n",
       "      <td>CLINT1</td>\n",
       "      <td>SIDM02021</td>\n",
       "      <td>-</td>\n",
       "      <td>r.?</td>\n",
       "      <td>-</td>\n",
       "      <td>False</td>\n",
       "      <td>False</td>\n",
       "      <td>downstream</td>\n",
       "      <td>0.4400</td>\n",
       "      <td>False</td>\n",
       "      <td>Sanger</td>\n",
       "      <td>HCM-SANG-1082-C15</td>\n",
       "    </tr>\n",
       "    <tr>\n",
       "      <th>7</th>\n",
       "      <td>SIDG04857</td>\n",
       "      <td>CLINT1</td>\n",
       "      <td>SIDM02021</td>\n",
       "      <td>-</td>\n",
       "      <td>r.?</td>\n",
       "      <td>-</td>\n",
       "      <td>False</td>\n",
       "      <td>False</td>\n",
       "      <td>intronic</td>\n",
       "      <td>0.3478</td>\n",
       "      <td>False</td>\n",
       "      <td>Sanger</td>\n",
       "      <td>HCM-SANG-1082-C15</td>\n",
       "    </tr>\n",
       "    <tr>\n",
       "      <th>8</th>\n",
       "      <td>SIDG04857</td>\n",
       "      <td>CLINT1</td>\n",
       "      <td>SIDM02021</td>\n",
       "      <td>-</td>\n",
       "      <td>r.?</td>\n",
       "      <td>-</td>\n",
       "      <td>False</td>\n",
       "      <td>False</td>\n",
       "      <td>intronic</td>\n",
       "      <td>0.3077</td>\n",
       "      <td>False</td>\n",
       "      <td>Sanger</td>\n",
       "      <td>HCM-SANG-1082-C15</td>\n",
       "    </tr>\n",
       "    <tr>\n",
       "      <th>9</th>\n",
       "      <td>SIDG04857</td>\n",
       "      <td>CLINT1</td>\n",
       "      <td>SIDM02021</td>\n",
       "      <td>-</td>\n",
       "      <td>r.?</td>\n",
       "      <td>-</td>\n",
       "      <td>False</td>\n",
       "      <td>False</td>\n",
       "      <td>intronic</td>\n",
       "      <td>0.3571</td>\n",
       "      <td>False</td>\n",
       "      <td>Sanger</td>\n",
       "      <td>HCM-SANG-1082-C15</td>\n",
       "    </tr>\n",
       "  </tbody>\n",
       "</table>\n",
       "</div>"
      ],
      "text/plain": [
       "     gene_id gene_symbol   model_id protein_mutation rna_mutation  \\\n",
       "0  SIDG36104       SOX30  SIDM02021                -          r.?   \n",
       "1  SIDG37647       THG1L  SIDM02021                -          r.?   \n",
       "2  SIDG16920       LSM11  SIDM02021                -          r.?   \n",
       "3  SIDG16920       LSM11  SIDM02021              p.?   r.3207delU   \n",
       "4  SIDG16920       LSM11  SIDM02021                -          r.?   \n",
       "5  SIDG16920       LSM11  SIDM02021                -          r.?   \n",
       "6  SIDG04857      CLINT1  SIDM02021                -          r.?   \n",
       "7  SIDG04857      CLINT1  SIDM02021                -          r.?   \n",
       "8  SIDG04857      CLINT1  SIDM02021                -          r.?   \n",
       "9  SIDG04857      CLINT1  SIDM02021                -          r.?   \n",
       "\n",
       "  cdna_mutation  cancer_driver  cancer_predisposition_variant  \\\n",
       "0             -          False                          False   \n",
       "1             -          False                          False   \n",
       "2             -          False                          False   \n",
       "3           c.?          False                          False   \n",
       "4             -          False                          False   \n",
       "5             -          False                          False   \n",
       "6             -          False                          False   \n",
       "7             -          False                          False   \n",
       "8             -          False                          False   \n",
       "9             -          False                          False   \n",
       "\n",
       "               effect     vaf  coding  source         model_name  \n",
       "0            intronic  0.2703   False  Sanger  HCM-SANG-1082-C15  \n",
       "1            intronic  0.7500   False  Sanger  HCM-SANG-1082-C15  \n",
       "2            intronic  0.6452   False  Sanger  HCM-SANG-1082-C15  \n",
       "3  3prime_UTR_variant  0.7692   False  Sanger  HCM-SANG-1082-C15  \n",
       "4          downstream  0.3571   False  Sanger  HCM-SANG-1082-C15  \n",
       "5          downstream  0.7692   False  Sanger  HCM-SANG-1082-C15  \n",
       "6          downstream  0.4400   False  Sanger  HCM-SANG-1082-C15  \n",
       "7            intronic  0.3478   False  Sanger  HCM-SANG-1082-C15  \n",
       "8            intronic  0.3077   False  Sanger  HCM-SANG-1082-C15  \n",
       "9            intronic  0.3571   False  Sanger  HCM-SANG-1082-C15  "
      ]
     },
     "execution_count": 5,
     "metadata": {},
     "output_type": "execute_result"
    }
   ],
   "source": [
    "start = time.time()\n",
    "mutations_all = pd.read_csv(f'{PATH_TO_CNV_DATA}{MUTATION_FILE}', sep=\",\", header=0)\n",
    "print(f\"File `{MUTATION_FILE}` took {time.time()-start:.5f} seconds to import. \\nShape: {mutations_all.shape}\")\n",
    "mutations_all.head(10)"
   ]
  },
  {
   "cell_type": "code",
   "execution_count": 6,
   "metadata": {},
   "outputs": [
    {
     "name": "stdout",
     "output_type": "stream",
     "text": [
      "File `mutations_summary_20220315.csv` took 0.10022 seconds to import. \n",
      "Shape: (11609, 13)\n"
     ]
    },
    {
     "data": {
      "text/html": [
       "<div>\n",
       "<style scoped>\n",
       "    .dataframe tbody tr th:only-of-type {\n",
       "        vertical-align: middle;\n",
       "    }\n",
       "\n",
       "    .dataframe tbody tr th {\n",
       "        vertical-align: top;\n",
       "    }\n",
       "\n",
       "    .dataframe thead th {\n",
       "        text-align: right;\n",
       "    }\n",
       "</style>\n",
       "<table border=\"1\" class=\"dataframe\">\n",
       "  <thead>\n",
       "    <tr style=\"text-align: right;\">\n",
       "      <th></th>\n",
       "      <th>gene_id</th>\n",
       "      <th>gene_symbol</th>\n",
       "      <th>model_id</th>\n",
       "      <th>protein_mutation</th>\n",
       "      <th>rna_mutation</th>\n",
       "      <th>cdna_mutation</th>\n",
       "      <th>cancer_driver</th>\n",
       "      <th>cancer_predisposition_variant</th>\n",
       "      <th>effect</th>\n",
       "      <th>vaf</th>\n",
       "      <th>coding</th>\n",
       "      <th>source</th>\n",
       "      <th>model_name</th>\n",
       "    </tr>\n",
       "  </thead>\n",
       "  <tbody>\n",
       "    <tr>\n",
       "      <th>0</th>\n",
       "      <td>SIDG13960</td>\n",
       "      <td>KRAS</td>\n",
       "      <td>SIDM01279</td>\n",
       "      <td>p.G12A</td>\n",
       "      <td>r.99g&gt;c</td>\n",
       "      <td>c.35G&gt;C</td>\n",
       "      <td>True</td>\n",
       "      <td>False</td>\n",
       "      <td>missense</td>\n",
       "      <td>0.5952</td>\n",
       "      <td>True</td>\n",
       "      <td>Sanger</td>\n",
       "      <td>HCM-SANG-0269-C18</td>\n",
       "    </tr>\n",
       "    <tr>\n",
       "      <th>1</th>\n",
       "      <td>SIDG01214</td>\n",
       "      <td>APC</td>\n",
       "      <td>SIDM01279</td>\n",
       "      <td>p.K1462*</td>\n",
       "      <td>r.4440a&gt;u</td>\n",
       "      <td>c.4384A&gt;T</td>\n",
       "      <td>True</td>\n",
       "      <td>False</td>\n",
       "      <td>nonsense</td>\n",
       "      <td>0.6757</td>\n",
       "      <td>True</td>\n",
       "      <td>Sanger</td>\n",
       "      <td>HCM-SANG-0269-C18</td>\n",
       "    </tr>\n",
       "    <tr>\n",
       "      <th>2</th>\n",
       "      <td>SIDG00920</td>\n",
       "      <td>AMER1</td>\n",
       "      <td>SIDM01279</td>\n",
       "      <td>p.W571*</td>\n",
       "      <td>r.1985g&gt;a</td>\n",
       "      <td>c.1712G&gt;A</td>\n",
       "      <td>True</td>\n",
       "      <td>False</td>\n",
       "      <td>nonsense</td>\n",
       "      <td>0.9714</td>\n",
       "      <td>True</td>\n",
       "      <td>Sanger</td>\n",
       "      <td>HCM-SANG-0269-C18</td>\n",
       "    </tr>\n",
       "    <tr>\n",
       "      <th>3</th>\n",
       "      <td>SIDG01764</td>\n",
       "      <td>ATM</td>\n",
       "      <td>SIDM01954</td>\n",
       "      <td>p.R1875*</td>\n",
       "      <td>r.6008c&gt;u</td>\n",
       "      <td>c.5623C&gt;T</td>\n",
       "      <td>True</td>\n",
       "      <td>False</td>\n",
       "      <td>nonsense</td>\n",
       "      <td>0.5000</td>\n",
       "      <td>True</td>\n",
       "      <td>Sanger</td>\n",
       "      <td>HCM-SANG-0537-C18</td>\n",
       "    </tr>\n",
       "    <tr>\n",
       "      <th>4</th>\n",
       "      <td>SIDG13960</td>\n",
       "      <td>KRAS</td>\n",
       "      <td>SIDM01954</td>\n",
       "      <td>p.G12S</td>\n",
       "      <td>r.98g&gt;a</td>\n",
       "      <td>c.34G&gt;A</td>\n",
       "      <td>True</td>\n",
       "      <td>False</td>\n",
       "      <td>missense</td>\n",
       "      <td>1.0000</td>\n",
       "      <td>True</td>\n",
       "      <td>Sanger</td>\n",
       "      <td>HCM-SANG-0537-C18</td>\n",
       "    </tr>\n",
       "    <tr>\n",
       "      <th>5</th>\n",
       "      <td>SIDG38363</td>\n",
       "      <td>TP53</td>\n",
       "      <td>SIDM01954</td>\n",
       "      <td>p.W91*</td>\n",
       "      <td>r.462g&gt;a</td>\n",
       "      <td>c.272G&gt;A</td>\n",
       "      <td>True</td>\n",
       "      <td>False</td>\n",
       "      <td>nonsense</td>\n",
       "      <td>1.0000</td>\n",
       "      <td>True</td>\n",
       "      <td>Sanger</td>\n",
       "      <td>HCM-SANG-0537-C18</td>\n",
       "    </tr>\n",
       "    <tr>\n",
       "      <th>6</th>\n",
       "      <td>SIDG24670</td>\n",
       "      <td>PIK3CA</td>\n",
       "      <td>SIDM01954</td>\n",
       "      <td>p.P104R</td>\n",
       "      <td>r.468c&gt;g</td>\n",
       "      <td>c.311C&gt;G</td>\n",
       "      <td>True</td>\n",
       "      <td>False</td>\n",
       "      <td>missense</td>\n",
       "      <td>0.4048</td>\n",
       "      <td>True</td>\n",
       "      <td>Sanger</td>\n",
       "      <td>HCM-SANG-0537-C18</td>\n",
       "    </tr>\n",
       "    <tr>\n",
       "      <th>7</th>\n",
       "      <td>SIDG38363</td>\n",
       "      <td>TP53</td>\n",
       "      <td>SIDM01277</td>\n",
       "      <td>p.E287_E294delENLRKKGE</td>\n",
       "      <td>r.1048_1071del24</td>\n",
       "      <td>c.858_881del24</td>\n",
       "      <td>True</td>\n",
       "      <td>False</td>\n",
       "      <td>inframe</td>\n",
       "      <td>1.0000</td>\n",
       "      <td>True</td>\n",
       "      <td>Sanger</td>\n",
       "      <td>HCM-SANG-0307-C15</td>\n",
       "    </tr>\n",
       "    <tr>\n",
       "      <th>8</th>\n",
       "      <td>SIDG16764</td>\n",
       "      <td>LRP1B</td>\n",
       "      <td>SIDM01277</td>\n",
       "      <td>p.T4475fs*3</td>\n",
       "      <td>r.14395_14396insa</td>\n",
       "      <td>c.13423_13424insA</td>\n",
       "      <td>True</td>\n",
       "      <td>False</td>\n",
       "      <td>frameshift</td>\n",
       "      <td>0.4872</td>\n",
       "      <td>True</td>\n",
       "      <td>Sanger</td>\n",
       "      <td>HCM-SANG-0307-C15</td>\n",
       "    </tr>\n",
       "    <tr>\n",
       "      <th>9</th>\n",
       "      <td>SIDG35070</td>\n",
       "      <td>SMAD4</td>\n",
       "      <td>SIDM01953</td>\n",
       "      <td>p.P293fs*10</td>\n",
       "      <td>r.1415_1428delCCUAUGCCGCCCCA</td>\n",
       "      <td>c.877_890delCCTATGCCGCCCCA</td>\n",
       "      <td>True</td>\n",
       "      <td>False</td>\n",
       "      <td>frameshift</td>\n",
       "      <td>1.0000</td>\n",
       "      <td>True</td>\n",
       "      <td>Sanger</td>\n",
       "      <td>HCM-SANG-0519-C20</td>\n",
       "    </tr>\n",
       "  </tbody>\n",
       "</table>\n",
       "</div>"
      ],
      "text/plain": [
       "     gene_id gene_symbol   model_id        protein_mutation  \\\n",
       "0  SIDG13960        KRAS  SIDM01279                  p.G12A   \n",
       "1  SIDG01214         APC  SIDM01279                p.K1462*   \n",
       "2  SIDG00920       AMER1  SIDM01279                 p.W571*   \n",
       "3  SIDG01764         ATM  SIDM01954                p.R1875*   \n",
       "4  SIDG13960        KRAS  SIDM01954                  p.G12S   \n",
       "5  SIDG38363        TP53  SIDM01954                  p.W91*   \n",
       "6  SIDG24670      PIK3CA  SIDM01954                 p.P104R   \n",
       "7  SIDG38363        TP53  SIDM01277  p.E287_E294delENLRKKGE   \n",
       "8  SIDG16764       LRP1B  SIDM01277             p.T4475fs*3   \n",
       "9  SIDG35070       SMAD4  SIDM01953             p.P293fs*10   \n",
       "\n",
       "                   rna_mutation               cdna_mutation  cancer_driver  \\\n",
       "0                       r.99g>c                     c.35G>C           True   \n",
       "1                     r.4440a>u                   c.4384A>T           True   \n",
       "2                     r.1985g>a                   c.1712G>A           True   \n",
       "3                     r.6008c>u                   c.5623C>T           True   \n",
       "4                       r.98g>a                     c.34G>A           True   \n",
       "5                      r.462g>a                    c.272G>A           True   \n",
       "6                      r.468c>g                    c.311C>G           True   \n",
       "7              r.1048_1071del24              c.858_881del24           True   \n",
       "8             r.14395_14396insa           c.13423_13424insA           True   \n",
       "9  r.1415_1428delCCUAUGCCGCCCCA  c.877_890delCCTATGCCGCCCCA           True   \n",
       "\n",
       "   cancer_predisposition_variant      effect     vaf  coding  source  \\\n",
       "0                          False    missense  0.5952    True  Sanger   \n",
       "1                          False    nonsense  0.6757    True  Sanger   \n",
       "2                          False    nonsense  0.9714    True  Sanger   \n",
       "3                          False    nonsense  0.5000    True  Sanger   \n",
       "4                          False    missense  1.0000    True  Sanger   \n",
       "5                          False    nonsense  1.0000    True  Sanger   \n",
       "6                          False    missense  0.4048    True  Sanger   \n",
       "7                          False     inframe  1.0000    True  Sanger   \n",
       "8                          False  frameshift  0.4872    True  Sanger   \n",
       "9                          False  frameshift  1.0000    True  Sanger   \n",
       "\n",
       "          model_name  \n",
       "0  HCM-SANG-0269-C18  \n",
       "1  HCM-SANG-0269-C18  \n",
       "2  HCM-SANG-0269-C18  \n",
       "3  HCM-SANG-0537-C18  \n",
       "4  HCM-SANG-0537-C18  \n",
       "5  HCM-SANG-0537-C18  \n",
       "6  HCM-SANG-0537-C18  \n",
       "7  HCM-SANG-0307-C15  \n",
       "8  HCM-SANG-0307-C15  \n",
       "9  HCM-SANG-0519-C20  "
      ]
     },
     "execution_count": 6,
     "metadata": {},
     "output_type": "execute_result"
    }
   ],
   "source": [
    "start = time.time()\n",
    "mutations_summary = pd.read_csv(f'{PATH_TO_CNV_DATA}mutations_summary_20220315.csv', sep=\",\", header=0)\n",
    "print(f\"File `mutations_summary_20220315.csv` took {time.time()-start:.5f} seconds to import. \\nShape: {mutations_summary.shape}\")\n",
    "mutations_summary.head(10)"
   ]
  },
  {
   "cell_type": "markdown",
   "metadata": {},
   "source": [
    "In the mutations dataset we only have the `gene_symbol` but not the cell line name specifically as a column. However, we are given the `model_id`. This `model_id` can be mapped to the GDSC database to the column `SANGER_MODEL_ID` and from there the `CELL_LINE_NAME` can be infered. Thus, the steps to take are as follows: \n",
    "- [ ] Proof that the `SANGER_MODEL_ID` can \n",
    "  - [ ] be mapped to the `model_id`\n",
    "  - [ ] has always one `CELL_LINE_NAME` (should be a 1-1 relationship, otherwise infering is not possible)\n",
    "- [ ] Join the GDSC onto the mutations table and therefore infer the corresponding `CELL_LINE_NAME` per row (if given)."
   ]
  },
  {
   "cell_type": "code",
   "execution_count": 7,
   "metadata": {},
   "outputs": [
    {
     "name": "stdout",
     "output_type": "stream",
     "text": [
      " \n",
      "    Mutations All\n",
      "        Out of 23123 unique Gene Symbols 890 (3.85%) are also present in the 908 GDSC gene symbol columns.\n",
      "\n",
      "    Mutations Summary\n",
      "        Out of 611 unique Gene Symbols 83 (13.58%) are also present in the 908 GDSC gene symbol columns. \n",
      "\n"
     ]
    }
   ],
   "source": [
    "gdsc_gene_symbols = GDSC.columns[14:]\n",
    "uniq_mut_all_gene_symbols = np.unique(mutations_all.gene_symbol).tolist()\n",
    "uniq_mut_summary_gene_symbols = np.unique(mutations_summary.gene_symbol).tolist()\n",
    "\n",
    "count_mut_all_gene_symbols_in_gdsc = sum(uniq_gene_symbol in gdsc_gene_symbols for uniq_gene_symbol in uniq_mut_all_gene_symbols)\n",
    "mut_all_found_rate = round(100*count_mut_all_gene_symbols_in_gdsc/len(uniq_mut_all_gene_symbols), 2)\n",
    "\n",
    "count_mut_summary_gene_symbols_in_gdsc = sum(uniq_gene_symbol in gdsc_gene_symbols for uniq_gene_symbol in uniq_mut_summary_gene_symbols)\n",
    "mut_summary_found_rate = round(100*count_mut_summary_gene_symbols_in_gdsc/len(uniq_mut_summary_gene_symbols), 2)\n",
    "\n",
    "print(f\"\"\" \n",
    "    Mutations All\n",
    "        Out of {len(uniq_mut_all_gene_symbols)} unique Gene Symbols {count_mut_all_gene_symbols_in_gdsc} ({mut_all_found_rate}%) are also present in the {len(gdsc_gene_symbols)} GDSC gene symbol columns.\n",
    "\n",
    "    Mutations Summary\n",
    "        Out of {len(uniq_mut_summary_gene_symbols)} unique Gene Symbols {count_mut_summary_gene_symbols_in_gdsc} ({mut_summary_found_rate}%) are also present in the {len(gdsc_gene_symbols)} GDSC gene symbol columns. \n",
    "\"\"\")"
   ]
  },
  {
   "cell_type": "markdown",
   "metadata": {},
   "source": [
    "Since the `Mutations Summary` dataset contains only mutations that were cancer drivers in the used models, we will continue with the `Mutations All` dataset only. The reason for that is to have also non-cancer driver information to let future models learn the difference. "
   ]
  },
  {
   "cell_type": "markdown",
   "metadata": {},
   "source": [
    "--- \n",
    "\n",
    "## Mutations All\n",
    "In this section we will investigate the `mutations_all_20220315.csv` dataset only. "
   ]
  },
  {
   "cell_type": "code",
   "execution_count": 8,
   "metadata": {},
   "outputs": [
    {
     "data": {
      "text/html": [
       "<div>\n",
       "<style scoped>\n",
       "    .dataframe tbody tr th:only-of-type {\n",
       "        vertical-align: middle;\n",
       "    }\n",
       "\n",
       "    .dataframe tbody tr th {\n",
       "        vertical-align: top;\n",
       "    }\n",
       "\n",
       "    .dataframe thead th {\n",
       "        text-align: right;\n",
       "    }\n",
       "</style>\n",
       "<table border=\"1\" class=\"dataframe\">\n",
       "  <thead>\n",
       "    <tr style=\"text-align: right;\">\n",
       "      <th></th>\n",
       "      <th>gene_id</th>\n",
       "      <th>gene_symbol</th>\n",
       "      <th>model_id</th>\n",
       "      <th>protein_mutation</th>\n",
       "      <th>rna_mutation</th>\n",
       "      <th>cdna_mutation</th>\n",
       "      <th>cancer_driver</th>\n",
       "      <th>cancer_predisposition_variant</th>\n",
       "      <th>effect</th>\n",
       "      <th>vaf</th>\n",
       "      <th>coding</th>\n",
       "      <th>source</th>\n",
       "      <th>model_name</th>\n",
       "    </tr>\n",
       "  </thead>\n",
       "  <tbody>\n",
       "    <tr>\n",
       "      <th>0</th>\n",
       "      <td>SIDG36104</td>\n",
       "      <td>SOX30</td>\n",
       "      <td>SIDM02021</td>\n",
       "      <td>-</td>\n",
       "      <td>r.?</td>\n",
       "      <td>-</td>\n",
       "      <td>False</td>\n",
       "      <td>False</td>\n",
       "      <td>intronic</td>\n",
       "      <td>0.2703</td>\n",
       "      <td>False</td>\n",
       "      <td>Sanger</td>\n",
       "      <td>HCM-SANG-1082-C15</td>\n",
       "    </tr>\n",
       "    <tr>\n",
       "      <th>1</th>\n",
       "      <td>SIDG37647</td>\n",
       "      <td>THG1L</td>\n",
       "      <td>SIDM02021</td>\n",
       "      <td>-</td>\n",
       "      <td>r.?</td>\n",
       "      <td>-</td>\n",
       "      <td>False</td>\n",
       "      <td>False</td>\n",
       "      <td>intronic</td>\n",
       "      <td>0.7500</td>\n",
       "      <td>False</td>\n",
       "      <td>Sanger</td>\n",
       "      <td>HCM-SANG-1082-C15</td>\n",
       "    </tr>\n",
       "    <tr>\n",
       "      <th>2</th>\n",
       "      <td>SIDG16920</td>\n",
       "      <td>LSM11</td>\n",
       "      <td>SIDM02021</td>\n",
       "      <td>-</td>\n",
       "      <td>r.?</td>\n",
       "      <td>-</td>\n",
       "      <td>False</td>\n",
       "      <td>False</td>\n",
       "      <td>intronic</td>\n",
       "      <td>0.6452</td>\n",
       "      <td>False</td>\n",
       "      <td>Sanger</td>\n",
       "      <td>HCM-SANG-1082-C15</td>\n",
       "    </tr>\n",
       "    <tr>\n",
       "      <th>3</th>\n",
       "      <td>SIDG16920</td>\n",
       "      <td>LSM11</td>\n",
       "      <td>SIDM02021</td>\n",
       "      <td>p.?</td>\n",
       "      <td>r.3207delU</td>\n",
       "      <td>c.?</td>\n",
       "      <td>False</td>\n",
       "      <td>False</td>\n",
       "      <td>3prime_UTR_variant</td>\n",
       "      <td>0.7692</td>\n",
       "      <td>False</td>\n",
       "      <td>Sanger</td>\n",
       "      <td>HCM-SANG-1082-C15</td>\n",
       "    </tr>\n",
       "    <tr>\n",
       "      <th>4</th>\n",
       "      <td>SIDG16920</td>\n",
       "      <td>LSM11</td>\n",
       "      <td>SIDM02021</td>\n",
       "      <td>-</td>\n",
       "      <td>r.?</td>\n",
       "      <td>-</td>\n",
       "      <td>False</td>\n",
       "      <td>False</td>\n",
       "      <td>downstream</td>\n",
       "      <td>0.3571</td>\n",
       "      <td>False</td>\n",
       "      <td>Sanger</td>\n",
       "      <td>HCM-SANG-1082-C15</td>\n",
       "    </tr>\n",
       "  </tbody>\n",
       "</table>\n",
       "</div>"
      ],
      "text/plain": [
       "     gene_id gene_symbol   model_id protein_mutation rna_mutation  \\\n",
       "0  SIDG36104       SOX30  SIDM02021                -          r.?   \n",
       "1  SIDG37647       THG1L  SIDM02021                -          r.?   \n",
       "2  SIDG16920       LSM11  SIDM02021                -          r.?   \n",
       "3  SIDG16920       LSM11  SIDM02021              p.?   r.3207delU   \n",
       "4  SIDG16920       LSM11  SIDM02021                -          r.?   \n",
       "\n",
       "  cdna_mutation  cancer_driver  cancer_predisposition_variant  \\\n",
       "0             -          False                          False   \n",
       "1             -          False                          False   \n",
       "2             -          False                          False   \n",
       "3           c.?          False                          False   \n",
       "4             -          False                          False   \n",
       "\n",
       "               effect     vaf  coding  source         model_name  \n",
       "0            intronic  0.2703   False  Sanger  HCM-SANG-1082-C15  \n",
       "1            intronic  0.7500   False  Sanger  HCM-SANG-1082-C15  \n",
       "2            intronic  0.6452   False  Sanger  HCM-SANG-1082-C15  \n",
       "3  3prime_UTR_variant  0.7692   False  Sanger  HCM-SANG-1082-C15  \n",
       "4          downstream  0.3571   False  Sanger  HCM-SANG-1082-C15  "
      ]
     },
     "execution_count": 8,
     "metadata": {},
     "output_type": "execute_result"
    }
   ],
   "source": [
    "mutations_all.head(5)"
   ]
  },
  {
   "cell_type": "markdown",
   "metadata": {},
   "source": [
    "- Column `gene_symbol` is again the column we can use to map to the `landmark_genes.csv` file to sparse down the set of genes.\n",
    "\n",
    "__Problem__: We don't have cell-line information in the `Mutations All` dataset. \n",
    "- _Possible Solution_: Map the `model_id` of `mutations_all` to the `SANGER_MODEL_ID` of the GDSC IC50 dataset."
   ]
  },
  {
   "cell_type": "code",
   "execution_count": 9,
   "metadata": {},
   "outputs": [
    {
     "name": "stderr",
     "output_type": "stream",
     "text": [
      "/var/folders/kv/l0jzxgbj1kggff_kd35bfzkw0000gn/T/ipykernel_42080/1662801193.py:9: DtypeWarning: Columns (1) have mixed types. Specify dtype option on import or set low_memory=False.\n",
      "  gdsc1_raw = pd.read_csv('../../datasets/gdsc/screening_data/GDSC1_public_raw_data_25Feb20.csv', header=0)\n"
     ]
    },
    {
     "name": "stdout",
     "output_type": "stream",
     "text": [
      "(5707271, 35)\n"
     ]
    },
    {
     "data": {
      "text/html": [
       "<div>\n",
       "<style scoped>\n",
       "    .dataframe tbody tr th:only-of-type {\n",
       "        vertical-align: middle;\n",
       "    }\n",
       "\n",
       "    .dataframe tbody tr th {\n",
       "        vertical-align: top;\n",
       "    }\n",
       "\n",
       "    .dataframe thead th {\n",
       "        text-align: right;\n",
       "    }\n",
       "</style>\n",
       "<table border=\"1\" class=\"dataframe\">\n",
       "  <thead>\n",
       "    <tr style=\"text-align: right;\">\n",
       "      <th></th>\n",
       "      <th>DATASET</th>\n",
       "      <th>NLME_RESULT_ID</th>\n",
       "      <th>NLME_CURVE_ID</th>\n",
       "      <th>COSMIC_ID_ic50</th>\n",
       "      <th>CELL_LINE_NAME</th>\n",
       "      <th>SANGER_MODEL_ID</th>\n",
       "      <th>TCGA_DESC</th>\n",
       "      <th>DRUG_ID</th>\n",
       "      <th>DRUG_NAME</th>\n",
       "      <th>PUTATIVE_TARGET</th>\n",
       "      <th>...</th>\n",
       "      <th>MASTER_CELL_ID</th>\n",
       "      <th>COSMIC_ID_raw</th>\n",
       "      <th>SEEDING_DENSITY</th>\n",
       "      <th>DRUGSET_ID</th>\n",
       "      <th>ASSAY</th>\n",
       "      <th>DURATION</th>\n",
       "      <th>POSITION</th>\n",
       "      <th>TAG</th>\n",
       "      <th>CONC</th>\n",
       "      <th>INTENSITY</th>\n",
       "    </tr>\n",
       "  </thead>\n",
       "  <tbody>\n",
       "    <tr>\n",
       "      <th>0</th>\n",
       "      <td>GDSC1</td>\n",
       "      <td>281</td>\n",
       "      <td>12974350</td>\n",
       "      <td>683665</td>\n",
       "      <td>MC-CAR</td>\n",
       "      <td>SIDM00636</td>\n",
       "      <td>MM</td>\n",
       "      <td>1</td>\n",
       "      <td>Erlotinib</td>\n",
       "      <td>EGFR</td>\n",
       "      <td>...</td>\n",
       "      <td>49</td>\n",
       "      <td>683665</td>\n",
       "      <td>NaN</td>\n",
       "      <td>410_a_9</td>\n",
       "      <td>s</td>\n",
       "      <td>3.0</td>\n",
       "      <td>14</td>\n",
       "      <td>L1-D1-S</td>\n",
       "      <td>2.000</td>\n",
       "      <td>544404</td>\n",
       "    </tr>\n",
       "    <tr>\n",
       "      <th>1</th>\n",
       "      <td>GDSC1</td>\n",
       "      <td>281</td>\n",
       "      <td>12974350</td>\n",
       "      <td>683665</td>\n",
       "      <td>MC-CAR</td>\n",
       "      <td>SIDM00636</td>\n",
       "      <td>MM</td>\n",
       "      <td>1</td>\n",
       "      <td>Erlotinib</td>\n",
       "      <td>EGFR</td>\n",
       "      <td>...</td>\n",
       "      <td>49</td>\n",
       "      <td>683665</td>\n",
       "      <td>NaN</td>\n",
       "      <td>410_a_9</td>\n",
       "      <td>s</td>\n",
       "      <td>3.0</td>\n",
       "      <td>15</td>\n",
       "      <td>L1-D2-S</td>\n",
       "      <td>1.000</td>\n",
       "      <td>599897</td>\n",
       "    </tr>\n",
       "    <tr>\n",
       "      <th>2</th>\n",
       "      <td>GDSC1</td>\n",
       "      <td>281</td>\n",
       "      <td>12974350</td>\n",
       "      <td>683665</td>\n",
       "      <td>MC-CAR</td>\n",
       "      <td>SIDM00636</td>\n",
       "      <td>MM</td>\n",
       "      <td>1</td>\n",
       "      <td>Erlotinib</td>\n",
       "      <td>EGFR</td>\n",
       "      <td>...</td>\n",
       "      <td>49</td>\n",
       "      <td>683665</td>\n",
       "      <td>NaN</td>\n",
       "      <td>410_a_9</td>\n",
       "      <td>s</td>\n",
       "      <td>3.0</td>\n",
       "      <td>16</td>\n",
       "      <td>L1-D3-S</td>\n",
       "      <td>0.500</td>\n",
       "      <td>587627</td>\n",
       "    </tr>\n",
       "    <tr>\n",
       "      <th>3</th>\n",
       "      <td>GDSC1</td>\n",
       "      <td>281</td>\n",
       "      <td>12974350</td>\n",
       "      <td>683665</td>\n",
       "      <td>MC-CAR</td>\n",
       "      <td>SIDM00636</td>\n",
       "      <td>MM</td>\n",
       "      <td>1</td>\n",
       "      <td>Erlotinib</td>\n",
       "      <td>EGFR</td>\n",
       "      <td>...</td>\n",
       "      <td>49</td>\n",
       "      <td>683665</td>\n",
       "      <td>NaN</td>\n",
       "      <td>410_a_9</td>\n",
       "      <td>s</td>\n",
       "      <td>3.0</td>\n",
       "      <td>17</td>\n",
       "      <td>L1-D4-S</td>\n",
       "      <td>0.250</td>\n",
       "      <td>597272</td>\n",
       "    </tr>\n",
       "    <tr>\n",
       "      <th>4</th>\n",
       "      <td>GDSC1</td>\n",
       "      <td>281</td>\n",
       "      <td>12974350</td>\n",
       "      <td>683665</td>\n",
       "      <td>MC-CAR</td>\n",
       "      <td>SIDM00636</td>\n",
       "      <td>MM</td>\n",
       "      <td>1</td>\n",
       "      <td>Erlotinib</td>\n",
       "      <td>EGFR</td>\n",
       "      <td>...</td>\n",
       "      <td>49</td>\n",
       "      <td>683665</td>\n",
       "      <td>NaN</td>\n",
       "      <td>410_a_9</td>\n",
       "      <td>s</td>\n",
       "      <td>3.0</td>\n",
       "      <td>18</td>\n",
       "      <td>L1-D5-S</td>\n",
       "      <td>0.125</td>\n",
       "      <td>594490</td>\n",
       "    </tr>\n",
       "  </tbody>\n",
       "</table>\n",
       "<p>5 rows × 35 columns</p>\n",
       "</div>"
      ],
      "text/plain": [
       "  DATASET  NLME_RESULT_ID  NLME_CURVE_ID  COSMIC_ID_ic50 CELL_LINE_NAME  \\\n",
       "0   GDSC1             281       12974350          683665         MC-CAR   \n",
       "1   GDSC1             281       12974350          683665         MC-CAR   \n",
       "2   GDSC1             281       12974350          683665         MC-CAR   \n",
       "3   GDSC1             281       12974350          683665         MC-CAR   \n",
       "4   GDSC1             281       12974350          683665         MC-CAR   \n",
       "\n",
       "  SANGER_MODEL_ID TCGA_DESC  DRUG_ID  DRUG_NAME PUTATIVE_TARGET  ...  \\\n",
       "0       SIDM00636        MM        1  Erlotinib            EGFR  ...   \n",
       "1       SIDM00636        MM        1  Erlotinib            EGFR  ...   \n",
       "2       SIDM00636        MM        1  Erlotinib            EGFR  ...   \n",
       "3       SIDM00636        MM        1  Erlotinib            EGFR  ...   \n",
       "4       SIDM00636        MM        1  Erlotinib            EGFR  ...   \n",
       "\n",
       "  MASTER_CELL_ID  COSMIC_ID_raw SEEDING_DENSITY  DRUGSET_ID  ASSAY  DURATION  \\\n",
       "0             49         683665             NaN     410_a_9      s       3.0   \n",
       "1             49         683665             NaN     410_a_9      s       3.0   \n",
       "2             49         683665             NaN     410_a_9      s       3.0   \n",
       "3             49         683665             NaN     410_a_9      s       3.0   \n",
       "4             49         683665             NaN     410_a_9      s       3.0   \n",
       "\n",
       "   POSITION      TAG   CONC INTENSITY  \n",
       "0        14  L1-D1-S  2.000    544404  \n",
       "1        15  L1-D2-S  1.000    599897  \n",
       "2        16  L1-D3-S  0.500    587627  \n",
       "3        17  L1-D4-S  0.250    597272  \n",
       "4        18  L1-D5-S  0.125    594490  \n",
       "\n",
       "[5 rows x 35 columns]"
      ]
     },
     "execution_count": 9,
     "metadata": {},
     "output_type": "execute_result"
    }
   ],
   "source": [
    "# Get the full GDSC database.\n",
    "\n",
    "# GDSC IC50s.\n",
    "gdsc1_ic50s = pd.read_excel('../../datasets/gdsc/screening_data/GDSC1_fitted_dose_response_25Feb20.xlsx', header=0)\n",
    "gdsc2_ic50s = pd.read_excel('../../datasets/gdsc/screening_data/GDSC2_fitted_dose_response_25Feb20.xlsx', header=0)\n",
    "gdsc_ic50s_join = pd.concat([gdsc1_ic50s, gdsc2_ic50s], ignore_index=True)\n",
    "\n",
    "# GDSC raw. \n",
    "gdsc1_raw = pd.read_csv('../../datasets/gdsc/screening_data/GDSC1_public_raw_data_25Feb20.csv', header=0)\n",
    "gdsc2_raw = pd.read_csv('../../datasets/gdsc/screening_data/GDSC2_public_raw_data_25Feb20.csv', header=0)\n",
    "gdsc_raw_join = pd.concat([gdsc1_raw, gdsc2_raw], ignore_index=True)\n",
    "\n",
    "# Join raw and ic50's.\n",
    "cols_to_join_on = ['CELL_LINE_NAME', 'DRUG_ID']\n",
    "gdsc_ic50_raw_join = gdsc_ic50s_join.merge(gdsc_raw_join,\n",
    "                                           on=cols_to_join_on,\n",
    "                                           how='left',\n",
    "                                           suffixes=['_ic50', '_raw'])\n",
    "print(gdsc_ic50_raw_join.shape)\n",
    "gdsc_ic50_raw_join.head(5)"
   ]
  },
  {
   "cell_type": "code",
   "execution_count": 28,
   "metadata": {},
   "outputs": [
    {
     "data": {
      "text/plain": [
       "Index(['DATASET', 'NLME_RESULT_ID', 'NLME_CURVE_ID', 'COSMIC_ID_ic50',\n",
       "       'CELL_LINE_NAME', 'SANGER_MODEL_ID', 'TCGA_DESC', 'DRUG_ID',\n",
       "       'DRUG_NAME', 'PUTATIVE_TARGET', 'PATHWAY_NAME', 'COMPANY_ID',\n",
       "       'WEBRELEASE', 'MIN_CONC', 'MAX_CONC', 'LN_IC50', 'AUC', 'RMSE',\n",
       "       'Z_SCORE', 'RESEARCH_PROJECT', 'BARCODE', 'SCAN_ID', 'DATE_CREATED',\n",
       "       'SCAN_DATE', 'CELL_ID', 'MASTER_CELL_ID', 'COSMIC_ID_raw',\n",
       "       'SEEDING_DENSITY', 'DRUGSET_ID', 'ASSAY', 'DURATION', 'POSITION', 'TAG',\n",
       "       'CONC', 'INTENSITY'],\n",
       "      dtype='object')"
      ]
     },
     "execution_count": 28,
     "metadata": {},
     "output_type": "execute_result"
    }
   ],
   "source": [
    "gdsc_ic50_raw_join.columns"
   ]
  },
  {
   "cell_type": "markdown",
   "metadata": {},
   "source": [
    "- First, we need to check which columns have a 1-to-1 relationship to the cell-line name. \n",
    "\n",
    "The following three have a 1-to-1 relationship to each other.\n",
    "```\n",
    "    CELL_LINE_NAME \n",
    "    MASTER_CELL_ID\n",
    "    COSMIC_ID\n",
    "```\n",
    "However, none of these are present in the `Mutations All` dataset."
   ]
  },
  {
   "cell_type": "code",
   "execution_count": 38,
   "metadata": {},
   "outputs": [],
   "source": [
    "uniq_sanger_model_ids__gdsc = np.unique(gdsc_ic50_raw_join.SANGER_MODEL_ID).tolist()\n",
    "uniq_model_ids__mutations = np.unique(mutations_all.model_id).tolist()"
   ]
  },
  {
   "cell_type": "code",
   "execution_count": 48,
   "metadata": {},
   "outputs": [
    {
     "name": "stdout",
     "output_type": "stream",
     "text": [
      "Out of 988 unique SANGER_MODEL_ID's in the GDSC table \n",
      "       983 (99.49 %) are also present under column `model_id` in the `Mutations All` table.\n"
     ]
    }
   ],
   "source": [
    "# Check which of the SANGER_MODEL_ID's are also present in the mutations dataset.\n",
    "not_present = set(uniq_sanger_model_ids__gdsc) - set(uniq_model_ids__mutations)\n",
    "present = set(uniq_sanger_model_ids__gdsc) - not_present\n",
    "print(f\"\"\"Out of {len(uniq_sanger_model_ids__gdsc)} unique SANGER_MODEL_ID's in the GDSC table \n",
    "       {len(present)} ({round(100*len(present)/len(uniq_sanger_model_ids__gdsc), 2)} %) are also present under column `model_id` in the `Mutations All` table.\"\"\")"
   ]
  },
  {
   "cell_type": "code",
   "execution_count": 79,
   "metadata": {},
   "outputs": [],
   "source": [
    "# Find the CELL_LINE_NAME's per SANGER_MODEL_ID.\n",
    "celllines_per_sangermodelid = gdsc_ic50_raw_join[['SANGER_MODEL_ID', 'CELL_LINE_NAME']].groupby('SANGER_MODEL_ID')['CELL_LINE_NAME'].nunique()\n",
    "counts_per_sangermodelid = celllines_per_sangermodelid.values\n",
    "\n",
    "assert (counts_per_sangermodelid != 1).any() == False\n",
    "assert (counts_per_sangermodelid == 1).all()"
   ]
  },
  {
   "cell_type": "markdown",
   "metadata": {},
   "source": [
    "__Note__: We validated that each `SANGER_MODEL_ID` has always only one `CELL_LINE_NAME`. Thus,\n",
    "> `SANGER_MODEL_ID` and `CELL_LINE_NAME` have a 1-to-1 relationship.\n",
    "\n",
    "__Conclusion__: If we map the GDSC table to the `Mutations All` table based on `SANGER_MODEL_ID` and `model_id` respectively, and include the `CELL_LINE_NAME` as well, we then have for each `gene_symbol` in the `Mutations All` table a corresponding cell-line name. "
   ]
  },
  {
   "cell_type": "markdown",
   "metadata": {},
   "source": [
    "### Map GDSC to Mutations All\n",
    "\n",
    "Based on the previous sections analysis we can map the `SANGER_MODEL_ID` from the GDSC table to the `model_id` from the `Mutations All` table."
   ]
  },
  {
   "cell_type": "code",
   "execution_count": 10,
   "metadata": {},
   "outputs": [
    {
     "data": {
      "text/html": [
       "<div>\n",
       "<style scoped>\n",
       "    .dataframe tbody tr th:only-of-type {\n",
       "        vertical-align: middle;\n",
       "    }\n",
       "\n",
       "    .dataframe tbody tr th {\n",
       "        vertical-align: top;\n",
       "    }\n",
       "\n",
       "    .dataframe thead th {\n",
       "        text-align: right;\n",
       "    }\n",
       "</style>\n",
       "<table border=\"1\" class=\"dataframe\">\n",
       "  <thead>\n",
       "    <tr style=\"text-align: right;\">\n",
       "      <th></th>\n",
       "      <th>gene_id</th>\n",
       "      <th>gene_symbol</th>\n",
       "      <th>model_id</th>\n",
       "      <th>protein_mutation</th>\n",
       "      <th>rna_mutation</th>\n",
       "      <th>cdna_mutation</th>\n",
       "      <th>cancer_driver</th>\n",
       "      <th>cancer_predisposition_variant</th>\n",
       "      <th>effect</th>\n",
       "      <th>vaf</th>\n",
       "      <th>coding</th>\n",
       "      <th>source</th>\n",
       "      <th>model_name</th>\n",
       "    </tr>\n",
       "  </thead>\n",
       "  <tbody>\n",
       "    <tr>\n",
       "      <th>0</th>\n",
       "      <td>SIDG36104</td>\n",
       "      <td>SOX30</td>\n",
       "      <td>SIDM02021</td>\n",
       "      <td>-</td>\n",
       "      <td>r.?</td>\n",
       "      <td>-</td>\n",
       "      <td>False</td>\n",
       "      <td>False</td>\n",
       "      <td>intronic</td>\n",
       "      <td>0.2703</td>\n",
       "      <td>False</td>\n",
       "      <td>Sanger</td>\n",
       "      <td>HCM-SANG-1082-C15</td>\n",
       "    </tr>\n",
       "    <tr>\n",
       "      <th>1</th>\n",
       "      <td>SIDG37647</td>\n",
       "      <td>THG1L</td>\n",
       "      <td>SIDM02021</td>\n",
       "      <td>-</td>\n",
       "      <td>r.?</td>\n",
       "      <td>-</td>\n",
       "      <td>False</td>\n",
       "      <td>False</td>\n",
       "      <td>intronic</td>\n",
       "      <td>0.7500</td>\n",
       "      <td>False</td>\n",
       "      <td>Sanger</td>\n",
       "      <td>HCM-SANG-1082-C15</td>\n",
       "    </tr>\n",
       "    <tr>\n",
       "      <th>2</th>\n",
       "      <td>SIDG16920</td>\n",
       "      <td>LSM11</td>\n",
       "      <td>SIDM02021</td>\n",
       "      <td>-</td>\n",
       "      <td>r.?</td>\n",
       "      <td>-</td>\n",
       "      <td>False</td>\n",
       "      <td>False</td>\n",
       "      <td>intronic</td>\n",
       "      <td>0.6452</td>\n",
       "      <td>False</td>\n",
       "      <td>Sanger</td>\n",
       "      <td>HCM-SANG-1082-C15</td>\n",
       "    </tr>\n",
       "  </tbody>\n",
       "</table>\n",
       "</div>"
      ],
      "text/plain": [
       "     gene_id gene_symbol   model_id protein_mutation rna_mutation  \\\n",
       "0  SIDG36104       SOX30  SIDM02021                -          r.?   \n",
       "1  SIDG37647       THG1L  SIDM02021                -          r.?   \n",
       "2  SIDG16920       LSM11  SIDM02021                -          r.?   \n",
       "\n",
       "  cdna_mutation  cancer_driver  cancer_predisposition_variant    effect  \\\n",
       "0             -          False                          False  intronic   \n",
       "1             -          False                          False  intronic   \n",
       "2             -          False                          False  intronic   \n",
       "\n",
       "      vaf  coding  source         model_name  \n",
       "0  0.2703   False  Sanger  HCM-SANG-1082-C15  \n",
       "1  0.7500   False  Sanger  HCM-SANG-1082-C15  \n",
       "2  0.6452   False  Sanger  HCM-SANG-1082-C15  "
      ]
     },
     "execution_count": 10,
     "metadata": {},
     "output_type": "execute_result"
    }
   ],
   "source": [
    "mutations_all.head(3)"
   ]
  },
  {
   "cell_type": "code",
   "execution_count": 13,
   "metadata": {},
   "outputs": [
    {
     "data": {
      "text/html": [
       "<div>\n",
       "<style scoped>\n",
       "    .dataframe tbody tr th:only-of-type {\n",
       "        vertical-align: middle;\n",
       "    }\n",
       "\n",
       "    .dataframe tbody tr th {\n",
       "        vertical-align: top;\n",
       "    }\n",
       "\n",
       "    .dataframe thead th {\n",
       "        text-align: right;\n",
       "    }\n",
       "</style>\n",
       "<table border=\"1\" class=\"dataframe\">\n",
       "  <thead>\n",
       "    <tr style=\"text-align: right;\">\n",
       "      <th></th>\n",
       "      <th>SANGER_MODEL_ID</th>\n",
       "      <th>CELL_LINE_NAME</th>\n",
       "    </tr>\n",
       "  </thead>\n",
       "  <tbody>\n",
       "    <tr>\n",
       "      <th>0</th>\n",
       "      <td>SIDM00003</td>\n",
       "      <td>M14</td>\n",
       "    </tr>\n",
       "    <tr>\n",
       "      <th>1</th>\n",
       "      <td>SIDM00023</td>\n",
       "      <td>TE-12</td>\n",
       "    </tr>\n",
       "    <tr>\n",
       "      <th>2</th>\n",
       "      <td>SIDM00040</td>\n",
       "      <td>TMK-1</td>\n",
       "    </tr>\n",
       "  </tbody>\n",
       "</table>\n",
       "</div>"
      ],
      "text/plain": [
       "  SANGER_MODEL_ID CELL_LINE_NAME\n",
       "0       SIDM00003            M14\n",
       "1       SIDM00023          TE-12\n",
       "2       SIDM00040          TMK-1"
      ]
     },
     "execution_count": 13,
     "metadata": {},
     "output_type": "execute_result"
    }
   ],
   "source": [
    "# Only take the interested columns for the mapping.\n",
    "gdsc_mapping_subset = gdsc_ic50_raw_join[['SANGER_MODEL_ID', 'CELL_LINE_NAME']]\n",
    "\n",
    "# Only take the unique SANGER_MODEL_ID's, since these have a 1-to-1 relationship to the CELL_LINE_NAME's anyways.\n",
    "gdsc_mapping_subset = gdsc_mapping_subset.groupby('SANGER_MODEL_ID').first().reset_index(level=0)\n",
    "gdsc_mapping_subset.head(3)"
   ]
  },
  {
   "cell_type": "code",
   "execution_count": 14,
   "metadata": {},
   "outputs": [
    {
     "name": "stdout",
     "output_type": "stream",
     "text": [
      "(8322616, 15)\n"
     ]
    },
    {
     "data": {
      "text/html": [
       "<div>\n",
       "<style scoped>\n",
       "    .dataframe tbody tr th:only-of-type {\n",
       "        vertical-align: middle;\n",
       "    }\n",
       "\n",
       "    .dataframe tbody tr th {\n",
       "        vertical-align: top;\n",
       "    }\n",
       "\n",
       "    .dataframe thead th {\n",
       "        text-align: right;\n",
       "    }\n",
       "</style>\n",
       "<table border=\"1\" class=\"dataframe\">\n",
       "  <thead>\n",
       "    <tr style=\"text-align: right;\">\n",
       "      <th></th>\n",
       "      <th>gene_id</th>\n",
       "      <th>gene_symbol</th>\n",
       "      <th>model_id</th>\n",
       "      <th>protein_mutation</th>\n",
       "      <th>rna_mutation</th>\n",
       "      <th>cdna_mutation</th>\n",
       "      <th>cancer_driver</th>\n",
       "      <th>cancer_predisposition_variant</th>\n",
       "      <th>effect</th>\n",
       "      <th>vaf</th>\n",
       "      <th>coding</th>\n",
       "      <th>source</th>\n",
       "      <th>model_name</th>\n",
       "      <th>SANGER_MODEL_ID</th>\n",
       "      <th>CELL_LINE_NAME</th>\n",
       "    </tr>\n",
       "  </thead>\n",
       "  <tbody>\n",
       "    <tr>\n",
       "      <th>0</th>\n",
       "      <td>SIDG36104</td>\n",
       "      <td>SOX30</td>\n",
       "      <td>SIDM02021</td>\n",
       "      <td>-</td>\n",
       "      <td>r.?</td>\n",
       "      <td>-</td>\n",
       "      <td>False</td>\n",
       "      <td>False</td>\n",
       "      <td>intronic</td>\n",
       "      <td>0.2703</td>\n",
       "      <td>False</td>\n",
       "      <td>Sanger</td>\n",
       "      <td>HCM-SANG-1082-C15</td>\n",
       "      <td>NaN</td>\n",
       "      <td>NaN</td>\n",
       "    </tr>\n",
       "    <tr>\n",
       "      <th>1</th>\n",
       "      <td>SIDG37647</td>\n",
       "      <td>THG1L</td>\n",
       "      <td>SIDM02021</td>\n",
       "      <td>-</td>\n",
       "      <td>r.?</td>\n",
       "      <td>-</td>\n",
       "      <td>False</td>\n",
       "      <td>False</td>\n",
       "      <td>intronic</td>\n",
       "      <td>0.7500</td>\n",
       "      <td>False</td>\n",
       "      <td>Sanger</td>\n",
       "      <td>HCM-SANG-1082-C15</td>\n",
       "      <td>NaN</td>\n",
       "      <td>NaN</td>\n",
       "    </tr>\n",
       "    <tr>\n",
       "      <th>2</th>\n",
       "      <td>SIDG16920</td>\n",
       "      <td>LSM11</td>\n",
       "      <td>SIDM02021</td>\n",
       "      <td>-</td>\n",
       "      <td>r.?</td>\n",
       "      <td>-</td>\n",
       "      <td>False</td>\n",
       "      <td>False</td>\n",
       "      <td>intronic</td>\n",
       "      <td>0.6452</td>\n",
       "      <td>False</td>\n",
       "      <td>Sanger</td>\n",
       "      <td>HCM-SANG-1082-C15</td>\n",
       "      <td>NaN</td>\n",
       "      <td>NaN</td>\n",
       "    </tr>\n",
       "    <tr>\n",
       "      <th>3</th>\n",
       "      <td>SIDG16920</td>\n",
       "      <td>LSM11</td>\n",
       "      <td>SIDM02021</td>\n",
       "      <td>p.?</td>\n",
       "      <td>r.3207delU</td>\n",
       "      <td>c.?</td>\n",
       "      <td>False</td>\n",
       "      <td>False</td>\n",
       "      <td>3prime_UTR_variant</td>\n",
       "      <td>0.7692</td>\n",
       "      <td>False</td>\n",
       "      <td>Sanger</td>\n",
       "      <td>HCM-SANG-1082-C15</td>\n",
       "      <td>NaN</td>\n",
       "      <td>NaN</td>\n",
       "    </tr>\n",
       "    <tr>\n",
       "      <th>4</th>\n",
       "      <td>SIDG16920</td>\n",
       "      <td>LSM11</td>\n",
       "      <td>SIDM02021</td>\n",
       "      <td>-</td>\n",
       "      <td>r.?</td>\n",
       "      <td>-</td>\n",
       "      <td>False</td>\n",
       "      <td>False</td>\n",
       "      <td>downstream</td>\n",
       "      <td>0.3571</td>\n",
       "      <td>False</td>\n",
       "      <td>Sanger</td>\n",
       "      <td>HCM-SANG-1082-C15</td>\n",
       "      <td>NaN</td>\n",
       "      <td>NaN</td>\n",
       "    </tr>\n",
       "  </tbody>\n",
       "</table>\n",
       "</div>"
      ],
      "text/plain": [
       "     gene_id gene_symbol   model_id protein_mutation rna_mutation  \\\n",
       "0  SIDG36104       SOX30  SIDM02021                -          r.?   \n",
       "1  SIDG37647       THG1L  SIDM02021                -          r.?   \n",
       "2  SIDG16920       LSM11  SIDM02021                -          r.?   \n",
       "3  SIDG16920       LSM11  SIDM02021              p.?   r.3207delU   \n",
       "4  SIDG16920       LSM11  SIDM02021                -          r.?   \n",
       "\n",
       "  cdna_mutation  cancer_driver  cancer_predisposition_variant  \\\n",
       "0             -          False                          False   \n",
       "1             -          False                          False   \n",
       "2             -          False                          False   \n",
       "3           c.?          False                          False   \n",
       "4             -          False                          False   \n",
       "\n",
       "               effect     vaf  coding  source         model_name  \\\n",
       "0            intronic  0.2703   False  Sanger  HCM-SANG-1082-C15   \n",
       "1            intronic  0.7500   False  Sanger  HCM-SANG-1082-C15   \n",
       "2            intronic  0.6452   False  Sanger  HCM-SANG-1082-C15   \n",
       "3  3prime_UTR_variant  0.7692   False  Sanger  HCM-SANG-1082-C15   \n",
       "4          downstream  0.3571   False  Sanger  HCM-SANG-1082-C15   \n",
       "\n",
       "  SANGER_MODEL_ID CELL_LINE_NAME  \n",
       "0             NaN            NaN  \n",
       "1             NaN            NaN  \n",
       "2             NaN            NaN  \n",
       "3             NaN            NaN  \n",
       "4             NaN            NaN  "
      ]
     },
     "execution_count": 14,
     "metadata": {},
     "output_type": "execute_result"
    }
   ],
   "source": [
    "# Join the CELL_LINE_NAME's onto the mutations_all dataset, based on the model_id.\n",
    "mutations_all_v2 = mutations_all.merge(gdsc_mapping_subset,\n",
    "                                       left_on='model_id',\n",
    "                                       right_on='SANGER_MODEL_ID',\n",
    "                                       how='left')\n",
    "print(mutations_all_v2.shape)\n",
    "mutations_all_v2.head(5)"
   ]
  },
  {
   "cell_type": "code",
   "execution_count": 16,
   "metadata": {},
   "outputs": [
    {
     "name": "stdout",
     "output_type": "stream",
     "text": [
      "(4574963, 15)\n"
     ]
    },
    {
     "data": {
      "text/html": [
       "<div>\n",
       "<style scoped>\n",
       "    .dataframe tbody tr th:only-of-type {\n",
       "        vertical-align: middle;\n",
       "    }\n",
       "\n",
       "    .dataframe tbody tr th {\n",
       "        vertical-align: top;\n",
       "    }\n",
       "\n",
       "    .dataframe thead th {\n",
       "        text-align: right;\n",
       "    }\n",
       "</style>\n",
       "<table border=\"1\" class=\"dataframe\">\n",
       "  <thead>\n",
       "    <tr style=\"text-align: right;\">\n",
       "      <th></th>\n",
       "      <th>gene_id</th>\n",
       "      <th>gene_symbol</th>\n",
       "      <th>model_id</th>\n",
       "      <th>protein_mutation</th>\n",
       "      <th>rna_mutation</th>\n",
       "      <th>cdna_mutation</th>\n",
       "      <th>cancer_driver</th>\n",
       "      <th>cancer_predisposition_variant</th>\n",
       "      <th>effect</th>\n",
       "      <th>vaf</th>\n",
       "      <th>coding</th>\n",
       "      <th>source</th>\n",
       "      <th>model_name</th>\n",
       "      <th>SANGER_MODEL_ID</th>\n",
       "      <th>CELL_LINE_NAME</th>\n",
       "    </tr>\n",
       "  </thead>\n",
       "  <tbody>\n",
       "    <tr>\n",
       "      <th>19</th>\n",
       "      <td>SIDG40054</td>\n",
       "      <td>UAP1</td>\n",
       "      <td>SIDM00615</td>\n",
       "      <td>-</td>\n",
       "      <td>r.?</td>\n",
       "      <td>-</td>\n",
       "      <td>False</td>\n",
       "      <td>False</td>\n",
       "      <td>intronic</td>\n",
       "      <td>0.2857</td>\n",
       "      <td>False</td>\n",
       "      <td>Sanger</td>\n",
       "      <td>JHH-6</td>\n",
       "      <td>SIDM00615</td>\n",
       "      <td>JHH-6</td>\n",
       "    </tr>\n",
       "    <tr>\n",
       "      <th>20</th>\n",
       "      <td>SIDG13175</td>\n",
       "      <td>IPO11</td>\n",
       "      <td>SIDM01119</td>\n",
       "      <td>-</td>\n",
       "      <td>r.?</td>\n",
       "      <td>-</td>\n",
       "      <td>False</td>\n",
       "      <td>False</td>\n",
       "      <td>intronic</td>\n",
       "      <td>0.3511</td>\n",
       "      <td>False</td>\n",
       "      <td>Sanger</td>\n",
       "      <td>NCI-H727</td>\n",
       "      <td>SIDM01119</td>\n",
       "      <td>NCI-H727</td>\n",
       "    </tr>\n",
       "    <tr>\n",
       "      <th>21</th>\n",
       "      <td>SIDG14638</td>\n",
       "      <td>LIN9</td>\n",
       "      <td>SIDM00933</td>\n",
       "      <td>-</td>\n",
       "      <td>r.?</td>\n",
       "      <td>-</td>\n",
       "      <td>False</td>\n",
       "      <td>False</td>\n",
       "      <td>downstream</td>\n",
       "      <td>1.0000</td>\n",
       "      <td>False</td>\n",
       "      <td>Sanger</td>\n",
       "      <td>CAL-51</td>\n",
       "      <td>SIDM00933</td>\n",
       "      <td>CAL-51</td>\n",
       "    </tr>\n",
       "    <tr>\n",
       "      <th>22</th>\n",
       "      <td>SIDG07173</td>\n",
       "      <td>DYM</td>\n",
       "      <td>SIDM00933</td>\n",
       "      <td>-</td>\n",
       "      <td>r.?</td>\n",
       "      <td>-</td>\n",
       "      <td>False</td>\n",
       "      <td>False</td>\n",
       "      <td>intronic</td>\n",
       "      <td>0.5294</td>\n",
       "      <td>False</td>\n",
       "      <td>Sanger</td>\n",
       "      <td>CAL-51</td>\n",
       "      <td>SIDM00933</td>\n",
       "      <td>CAL-51</td>\n",
       "    </tr>\n",
       "    <tr>\n",
       "      <th>23</th>\n",
       "      <td>SIDG08926</td>\n",
       "      <td>FCAMR</td>\n",
       "      <td>SIDM00620</td>\n",
       "      <td>-</td>\n",
       "      <td>r.?</td>\n",
       "      <td>-</td>\n",
       "      <td>False</td>\n",
       "      <td>False</td>\n",
       "      <td>intronic</td>\n",
       "      <td>0.6250</td>\n",
       "      <td>False</td>\n",
       "      <td>Sanger</td>\n",
       "      <td>D-336MG</td>\n",
       "      <td>SIDM00620</td>\n",
       "      <td>D-336MG</td>\n",
       "    </tr>\n",
       "  </tbody>\n",
       "</table>\n",
       "</div>"
      ],
      "text/plain": [
       "      gene_id gene_symbol   model_id protein_mutation rna_mutation  \\\n",
       "19  SIDG40054        UAP1  SIDM00615                -          r.?   \n",
       "20  SIDG13175       IPO11  SIDM01119                -          r.?   \n",
       "21  SIDG14638        LIN9  SIDM00933                -          r.?   \n",
       "22  SIDG07173         DYM  SIDM00933                -          r.?   \n",
       "23  SIDG08926       FCAMR  SIDM00620                -          r.?   \n",
       "\n",
       "   cdna_mutation  cancer_driver  cancer_predisposition_variant      effect  \\\n",
       "19             -          False                          False    intronic   \n",
       "20             -          False                          False    intronic   \n",
       "21             -          False                          False  downstream   \n",
       "22             -          False                          False    intronic   \n",
       "23             -          False                          False    intronic   \n",
       "\n",
       "       vaf  coding  source model_name SANGER_MODEL_ID CELL_LINE_NAME  \n",
       "19  0.2857   False  Sanger      JHH-6       SIDM00615          JHH-6  \n",
       "20  0.3511   False  Sanger   NCI-H727       SIDM01119       NCI-H727  \n",
       "21  1.0000   False  Sanger     CAL-51       SIDM00933         CAL-51  \n",
       "22  0.5294   False  Sanger     CAL-51       SIDM00933         CAL-51  \n",
       "23  0.6250   False  Sanger    D-336MG       SIDM00620        D-336MG  "
      ]
     },
     "execution_count": 16,
     "metadata": {},
     "output_type": "execute_result"
    }
   ],
   "source": [
    " # Only taking the once with a CELL_LINE_NAME.\n",
    "mutations_all_v3 = mutations_all_v2[mutations_all_v2['CELL_LINE_NAME'].notna()]\n",
    "print(mutations_all_v3.shape)\n",
    "mutations_all_v3.head(5)"
   ]
  },
  {
   "cell_type": "markdown",
   "metadata": {},
   "source": [
    "### Sparse Down Via Landmark Genes\n",
    "\n",
    "Now we sparse down the rows by only including the `gene_symbols` which are also been found in the `landmark_genes.csv` file."
   ]
  },
  {
   "cell_type": "code",
   "execution_count": 18,
   "metadata": {},
   "outputs": [
    {
     "name": "stdout",
     "output_type": "stream",
     "text": [
      "Number of unique `gene_symbol`s in the mutations dataset: 20450\n"
     ]
    }
   ],
   "source": [
    "print(f\"Number of unique `gene_symbol`s in the mutations dataset: {len(np.unique(mutations_all_v3.gene_symbol))}\")"
   ]
  },
  {
   "cell_type": "code",
   "execution_count": 19,
   "metadata": {},
   "outputs": [
    {
     "name": "stdout",
     "output_type": "stream",
     "text": [
      "File `landmark_genes.csv` took 0.07569 seconds to import. It has shape (978, 7)\n"
     ]
    },
    {
     "data": {
      "text/html": [
       "<div>\n",
       "<style scoped>\n",
       "    .dataframe tbody tr th:only-of-type {\n",
       "        vertical-align: middle;\n",
       "    }\n",
       "\n",
       "    .dataframe tbody tr th {\n",
       "        vertical-align: top;\n",
       "    }\n",
       "\n",
       "    .dataframe thead th {\n",
       "        text-align: right;\n",
       "    }\n",
       "</style>\n",
       "<table border=\"1\" class=\"dataframe\">\n",
       "  <thead>\n",
       "    <tr style=\"text-align: right;\">\n",
       "      <th></th>\n",
       "      <th>Entrez ID</th>\n",
       "      <th>Symbol</th>\n",
       "      <th>Name</th>\n",
       "      <th>Gene Family</th>\n",
       "      <th>Type</th>\n",
       "      <th>RNA-Seq Correlation</th>\n",
       "      <th>RNA-Seq Correlation Self-Rank</th>\n",
       "    </tr>\n",
       "  </thead>\n",
       "  <tbody>\n",
       "    <tr>\n",
       "      <th>0</th>\n",
       "      <td>3638</td>\n",
       "      <td>INSIG1</td>\n",
       "      <td>insulin induced gene 1</td>\n",
       "      <td>NaN</td>\n",
       "      <td>landmark</td>\n",
       "      <td>NaN</td>\n",
       "      <td>NaN</td>\n",
       "    </tr>\n",
       "    <tr>\n",
       "      <th>1</th>\n",
       "      <td>2309</td>\n",
       "      <td>FOXO3</td>\n",
       "      <td>forkhead box O3</td>\n",
       "      <td>Forkhead boxes</td>\n",
       "      <td>landmark</td>\n",
       "      <td>NaN</td>\n",
       "      <td>NaN</td>\n",
       "    </tr>\n",
       "    <tr>\n",
       "      <th>2</th>\n",
       "      <td>1001</td>\n",
       "      <td>CDH3</td>\n",
       "      <td>cadherin 3</td>\n",
       "      <td>Type I classical cadherins</td>\n",
       "      <td>landmark</td>\n",
       "      <td>NaN</td>\n",
       "      <td>NaN</td>\n",
       "    </tr>\n",
       "  </tbody>\n",
       "</table>\n",
       "</div>"
      ],
      "text/plain": [
       "   Entrez ID  Symbol                    Name                 Gene Family  \\\n",
       "0       3638  INSIG1  insulin induced gene 1                         NaN   \n",
       "1       2309   FOXO3         forkhead box O3              Forkhead boxes   \n",
       "2       1001    CDH3              cadherin 3  Type I classical cadherins   \n",
       "\n",
       "       Type  RNA-Seq Correlation  RNA-Seq Correlation Self-Rank  \n",
       "0  landmark                  NaN                            NaN  \n",
       "1  landmark                  NaN                            NaN  \n",
       "2  landmark                  NaN                            NaN  "
      ]
     },
     "execution_count": 19,
     "metadata": {},
     "output_type": "execute_result"
    }
   ],
   "source": [
    "PATH_TO_GDSC_DATASETS = '../../datasets/gdsc/'\n",
    "FILENAME_LANDMARK_GENES = 'landmark_genes.csv' \n",
    "\n",
    "start = time.time()\n",
    "landmark_genes = pd.read_csv(f'{PATH_TO_GDSC_DATASETS}{FILENAME_LANDMARK_GENES}', sep=\"\\t\")\n",
    "print(f\"File `{FILENAME_LANDMARK_GENES}` took {time.time()-start:.5f} seconds to import. It has shape {landmark_genes.shape}\")\n",
    "landmark_genes.head(3)"
   ]
  },
  {
   "cell_type": "code",
   "execution_count": 20,
   "metadata": {},
   "outputs": [],
   "source": [
    "landmark_genes_v2 = landmark_genes['Symbol']"
   ]
  },
  {
   "cell_type": "code",
   "execution_count": 21,
   "metadata": {},
   "outputs": [
    {
     "name": "stdout",
     "output_type": "stream",
     "text": [
      "(235906, 16)\n"
     ]
    },
    {
     "data": {
      "text/html": [
       "<div>\n",
       "<style scoped>\n",
       "    .dataframe tbody tr th:only-of-type {\n",
       "        vertical-align: middle;\n",
       "    }\n",
       "\n",
       "    .dataframe tbody tr th {\n",
       "        vertical-align: top;\n",
       "    }\n",
       "\n",
       "    .dataframe thead th {\n",
       "        text-align: right;\n",
       "    }\n",
       "</style>\n",
       "<table border=\"1\" class=\"dataframe\">\n",
       "  <thead>\n",
       "    <tr style=\"text-align: right;\">\n",
       "      <th></th>\n",
       "      <th>gene_id</th>\n",
       "      <th>gene_symbol</th>\n",
       "      <th>model_id</th>\n",
       "      <th>protein_mutation</th>\n",
       "      <th>rna_mutation</th>\n",
       "      <th>cdna_mutation</th>\n",
       "      <th>cancer_driver</th>\n",
       "      <th>cancer_predisposition_variant</th>\n",
       "      <th>effect</th>\n",
       "      <th>vaf</th>\n",
       "      <th>coding</th>\n",
       "      <th>source</th>\n",
       "      <th>model_name</th>\n",
       "      <th>SANGER_MODEL_ID</th>\n",
       "      <th>CELL_LINE_NAME</th>\n",
       "      <th>Symbol</th>\n",
       "    </tr>\n",
       "  </thead>\n",
       "  <tbody>\n",
       "    <tr>\n",
       "      <th>0</th>\n",
       "      <td>SIDG40702</td>\n",
       "      <td>VGLL4</td>\n",
       "      <td>SIDM00330</td>\n",
       "      <td>-</td>\n",
       "      <td>r.?</td>\n",
       "      <td>-</td>\n",
       "      <td>False</td>\n",
       "      <td>False</td>\n",
       "      <td>intronic</td>\n",
       "      <td>0.9926</td>\n",
       "      <td>False</td>\n",
       "      <td>Sanger</td>\n",
       "      <td>LAN-6</td>\n",
       "      <td>SIDM00330</td>\n",
       "      <td>LAN-6</td>\n",
       "      <td>VGLL4</td>\n",
       "    </tr>\n",
       "    <tr>\n",
       "      <th>1</th>\n",
       "      <td>SIDG40702</td>\n",
       "      <td>VGLL4</td>\n",
       "      <td>SIDM00944</td>\n",
       "      <td>p.?</td>\n",
       "      <td>r.407-7c&gt;u</td>\n",
       "      <td>c.?</td>\n",
       "      <td>False</td>\n",
       "      <td>False</td>\n",
       "      <td>splice_region</td>\n",
       "      <td>0.6190</td>\n",
       "      <td>False</td>\n",
       "      <td>Broad</td>\n",
       "      <td>CL-11</td>\n",
       "      <td>SIDM00944</td>\n",
       "      <td>CL-11</td>\n",
       "      <td>VGLL4</td>\n",
       "    </tr>\n",
       "    <tr>\n",
       "      <th>2</th>\n",
       "      <td>SIDG40702</td>\n",
       "      <td>VGLL4</td>\n",
       "      <td>SIDM00373</td>\n",
       "      <td>p.?</td>\n",
       "      <td>r.65c&gt;u</td>\n",
       "      <td>c.?</td>\n",
       "      <td>False</td>\n",
       "      <td>False</td>\n",
       "      <td>5prime_UTR_variant</td>\n",
       "      <td>0.4118</td>\n",
       "      <td>False</td>\n",
       "      <td>Broad</td>\n",
       "      <td>SNG-M</td>\n",
       "      <td>SIDM00373</td>\n",
       "      <td>SNG-M</td>\n",
       "      <td>VGLL4</td>\n",
       "    </tr>\n",
       "  </tbody>\n",
       "</table>\n",
       "</div>"
      ],
      "text/plain": [
       "     gene_id gene_symbol   model_id protein_mutation rna_mutation  \\\n",
       "0  SIDG40702       VGLL4  SIDM00330                -          r.?   \n",
       "1  SIDG40702       VGLL4  SIDM00944              p.?   r.407-7c>u   \n",
       "2  SIDG40702       VGLL4  SIDM00373              p.?      r.65c>u   \n",
       "\n",
       "  cdna_mutation  cancer_driver  cancer_predisposition_variant  \\\n",
       "0             -          False                          False   \n",
       "1           c.?          False                          False   \n",
       "2           c.?          False                          False   \n",
       "\n",
       "               effect     vaf  coding  source model_name SANGER_MODEL_ID  \\\n",
       "0            intronic  0.9926   False  Sanger      LAN-6       SIDM00330   \n",
       "1       splice_region  0.6190   False   Broad      CL-11       SIDM00944   \n",
       "2  5prime_UTR_variant  0.4118   False   Broad      SNG-M       SIDM00373   \n",
       "\n",
       "  CELL_LINE_NAME Symbol  \n",
       "0          LAN-6  VGLL4  \n",
       "1          CL-11  VGLL4  \n",
       "2          SNG-M  VGLL4  "
      ]
     },
     "execution_count": 21,
     "metadata": {},
     "output_type": "execute_result"
    }
   ],
   "source": [
    "# Take only the rows which have a `gene_symbol` which is also present in the landmark genes table.\n",
    "mutations_all_v4 = mutations_all_v3.merge(landmark_genes_v2,\n",
    "                                          left_on='gene_symbol',\n",
    "                                          right_on='Symbol')\n",
    "print(mutations_all_v4.shape)\n",
    "mutations_all_v4.head(3)                                          "
   ]
  },
  {
   "cell_type": "code",
   "execution_count": 22,
   "metadata": {},
   "outputs": [
    {
     "data": {
      "text/plain": [
       "CELL_LINE_NAME\n",
       "22RV1       297\n",
       "23132-87    252\n",
       "42-MG-BA     80\n",
       "451Lu        79\n",
       "5637        279\n",
       "           ... \n",
       "YT          196\n",
       "ZR-75-30    337\n",
       "huH-1       202\n",
       "no-10       191\n",
       "no-11       181\n",
       "Name: gene_symbol, Length: 983, dtype: int64"
      ]
     },
     "execution_count": 22,
     "metadata": {},
     "output_type": "execute_result"
    }
   ],
   "source": [
    "# How many unique genes are there per cell-line?\n",
    "uniq_genes_per_cellline =  mutations_all_v4[['gene_symbol', 'CELL_LINE_NAME']].groupby('CELL_LINE_NAME')['gene_symbol'].nunique()\n",
    "uniq_genes_per_cellline"
   ]
  },
  {
   "cell_type": "code",
   "execution_count": 24,
   "metadata": {},
   "outputs": [
    {
     "data": {
      "image/png": "[encoded data removed]",
      "text/plain": [
       "<Figure size 432x288 with 1 Axes>"
      ]
     },
     "metadata": {},
     "output_type": "display_data"
    }
   ],
   "source": [
    "plt.boxplot(uniq_genes_per_cellline);"
   ]
  },
  {
   "cell_type": "code",
   "execution_count": 26,
   "metadata": {},
   "outputs": [
    {
     "name": "stdout",
     "output_type": "stream",
     "text": [
      "(235906, 8)\n"
     ]
    },
    {
     "data": {
      "text/html": [
       "<div>\n",
       "<style scoped>\n",
       "    .dataframe tbody tr th:only-of-type {\n",
       "        vertical-align: middle;\n",
       "    }\n",
       "\n",
       "    .dataframe tbody tr th {\n",
       "        vertical-align: top;\n",
       "    }\n",
       "\n",
       "    .dataframe thead th {\n",
       "        text-align: right;\n",
       "    }\n",
       "</style>\n",
       "<table border=\"1\" class=\"dataframe\">\n",
       "  <thead>\n",
       "    <tr style=\"text-align: right;\">\n",
       "      <th></th>\n",
       "      <th>CELL_LINE_NAME</th>\n",
       "      <th>gene_symbol</th>\n",
       "      <th>model_id</th>\n",
       "      <th>protein_mutation</th>\n",
       "      <th>rna_mutation</th>\n",
       "      <th>cdna_mutation</th>\n",
       "      <th>cancer_driver</th>\n",
       "      <th>vaf</th>\n",
       "    </tr>\n",
       "  </thead>\n",
       "  <tbody>\n",
       "    <tr>\n",
       "      <th>0</th>\n",
       "      <td>LAN-6</td>\n",
       "      <td>VGLL4</td>\n",
       "      <td>SIDM00330</td>\n",
       "      <td>-</td>\n",
       "      <td>r.?</td>\n",
       "      <td>-</td>\n",
       "      <td>False</td>\n",
       "      <td>0.9926</td>\n",
       "    </tr>\n",
       "    <tr>\n",
       "      <th>1</th>\n",
       "      <td>CL-11</td>\n",
       "      <td>VGLL4</td>\n",
       "      <td>SIDM00944</td>\n",
       "      <td>p.?</td>\n",
       "      <td>r.407-7c&gt;u</td>\n",
       "      <td>c.?</td>\n",
       "      <td>False</td>\n",
       "      <td>0.6190</td>\n",
       "    </tr>\n",
       "    <tr>\n",
       "      <th>2</th>\n",
       "      <td>SNG-M</td>\n",
       "      <td>VGLL4</td>\n",
       "      <td>SIDM00373</td>\n",
       "      <td>p.?</td>\n",
       "      <td>r.65c&gt;u</td>\n",
       "      <td>c.?</td>\n",
       "      <td>False</td>\n",
       "      <td>0.4118</td>\n",
       "    </tr>\n",
       "    <tr>\n",
       "      <th>3</th>\n",
       "      <td>JHOS-2</td>\n",
       "      <td>VGLL4</td>\n",
       "      <td>SIDM00305</td>\n",
       "      <td>-</td>\n",
       "      <td>r.?</td>\n",
       "      <td>-</td>\n",
       "      <td>False</td>\n",
       "      <td>0.5698</td>\n",
       "    </tr>\n",
       "    <tr>\n",
       "      <th>4</th>\n",
       "      <td>NCI-H1436</td>\n",
       "      <td>VGLL4</td>\n",
       "      <td>SIDM00697</td>\n",
       "      <td>-</td>\n",
       "      <td>r.?</td>\n",
       "      <td>-</td>\n",
       "      <td>False</td>\n",
       "      <td>0.9677</td>\n",
       "    </tr>\n",
       "  </tbody>\n",
       "</table>\n",
       "</div>"
      ],
      "text/plain": [
       "  CELL_LINE_NAME gene_symbol   model_id protein_mutation rna_mutation  \\\n",
       "0          LAN-6       VGLL4  SIDM00330                -          r.?   \n",
       "1          CL-11       VGLL4  SIDM00944              p.?   r.407-7c>u   \n",
       "2          SNG-M       VGLL4  SIDM00373              p.?      r.65c>u   \n",
       "3         JHOS-2       VGLL4  SIDM00305                -          r.?   \n",
       "4      NCI-H1436       VGLL4  SIDM00697                -          r.?   \n",
       "\n",
       "  cdna_mutation  cancer_driver     vaf  \n",
       "0             -          False  0.9926  \n",
       "1           c.?          False  0.6190  \n",
       "2           c.?          False  0.4118  \n",
       "3             -          False  0.5698  \n",
       "4             -          False  0.9677  "
      ]
     },
     "execution_count": 26,
     "metadata": {},
     "output_type": "execute_result"
    }
   ],
   "source": [
    "mutations_all_v5 = mutations_all_v4[[\n",
    "    'CELL_LINE_NAME',\n",
    "    'gene_symbol',\n",
    "    'model_id',\n",
    "    'protein_mutation',\n",
    "    'rna_mutation',\n",
    "    'cdna_mutation',\n",
    "    'cancer_driver',\n",
    "    'vaf'\n",
    "]]\n",
    "print(mutations_all_v5.shape)\n",
    "mutations_all_v5.head(5)"
   ]
  },
  {
   "cell_type": "markdown",
   "metadata": {},
   "source": [
    "The final dataset contains for now still the `gene_symbol` as a column and not each gene as a separate column. Previous notebooks contained the cell-lines as rows and the genes as columns. However, since we have here \n",
    "- protein_mutation\n",
    "- rna_mutation\n",
    "- cdna_mutation\n",
    "as information columns regarding the mutation we would need to create 3 different table. Each table would hold for the `(CELL_LINE_NAME_i, gene_symbol_column_j)` cell either the protein, the rna or the cdna mutation value respectively."
   ]
  },
  {
   "cell_type": "code",
   "execution_count": 27,
   "metadata": {},
   "outputs": [],
   "source": [
    "mutations_all_v5.to_pickle(f'{PATH_TO_SAVE_DATA_TO}joined_gdsc_mutations.pkl')"
   ]
  },
  {
   "cell_type": "markdown",
   "metadata": {},
   "source": [
    "## Create Table Per Mutation Information\n",
    "\n",
    "In this subsection we will create a 2d table per mutation data: \n",
    "- protein_mutation\n",
    "- rna_mutation\n",
    "- cdna_mutation\n"
   ]
  },
  {
   "cell_type": "code",
   "execution_count": 34,
   "metadata": {},
   "outputs": [
    {
     "name": "stdout",
     "output_type": "stream",
     "text": [
      "Unique number of `gene_symbol`'s: 956\n"
     ]
    }
   ],
   "source": [
    "mutations_all_v5 = pd.read_pickle(f'{PATH_TO_SAVE_DATA_TO}joined_gdsc_mutations.pkl')\n",
    "uniq_mutation_genes = np.unique(mutations_all_v5.gene_symbol)\n",
    "print(f\"Unique number of `gene_symbol`'s: {len(uniq_mutation_genes)}\")"
   ]
  },
  {
   "cell_type": "markdown",
   "metadata": {},
   "source": [
    "### Protein Mutation"
   ]
  },
  {
   "cell_type": "code",
   "execution_count": 56,
   "metadata": {},
   "outputs": [
    {
     "data": {
      "text/html": [
       "<div>\n",
       "<style scoped>\n",
       "    .dataframe tbody tr th:only-of-type {\n",
       "        vertical-align: middle;\n",
       "    }\n",
       "\n",
       "    .dataframe tbody tr th {\n",
       "        vertical-align: top;\n",
       "    }\n",
       "\n",
       "    .dataframe thead th {\n",
       "        text-align: right;\n",
       "    }\n",
       "</style>\n",
       "<table border=\"1\" class=\"dataframe\">\n",
       "  <thead>\n",
       "    <tr style=\"text-align: right;\">\n",
       "      <th></th>\n",
       "      <th>CELL_LINE_NAME</th>\n",
       "      <th>gene_symbol</th>\n",
       "      <th>protein_mutation</th>\n",
       "    </tr>\n",
       "  </thead>\n",
       "  <tbody>\n",
       "    <tr>\n",
       "      <th>0</th>\n",
       "      <td>LAN-6</td>\n",
       "      <td>VGLL4</td>\n",
       "      <td>-</td>\n",
       "    </tr>\n",
       "    <tr>\n",
       "      <th>1</th>\n",
       "      <td>CL-11</td>\n",
       "      <td>VGLL4</td>\n",
       "      <td>p.?</td>\n",
       "    </tr>\n",
       "    <tr>\n",
       "      <th>2</th>\n",
       "      <td>SNG-M</td>\n",
       "      <td>VGLL4</td>\n",
       "      <td>p.?</td>\n",
       "    </tr>\n",
       "    <tr>\n",
       "      <th>3</th>\n",
       "      <td>JHOS-2</td>\n",
       "      <td>VGLL4</td>\n",
       "      <td>-</td>\n",
       "    </tr>\n",
       "    <tr>\n",
       "      <th>4</th>\n",
       "      <td>NCI-H1436</td>\n",
       "      <td>VGLL4</td>\n",
       "      <td>-</td>\n",
       "    </tr>\n",
       "    <tr>\n",
       "      <th>5</th>\n",
       "      <td>HCC1395</td>\n",
       "      <td>VGLL4</td>\n",
       "      <td>-</td>\n",
       "    </tr>\n",
       "    <tr>\n",
       "      <th>6</th>\n",
       "      <td>SNU-175</td>\n",
       "      <td>VGLL4</td>\n",
       "      <td>-</td>\n",
       "    </tr>\n",
       "    <tr>\n",
       "      <th>7</th>\n",
       "      <td>CL-40</td>\n",
       "      <td>VGLL4</td>\n",
       "      <td>p.?</td>\n",
       "    </tr>\n",
       "    <tr>\n",
       "      <th>8</th>\n",
       "      <td>TOV-21G</td>\n",
       "      <td>VGLL4</td>\n",
       "      <td>p.?</td>\n",
       "    </tr>\n",
       "    <tr>\n",
       "      <th>9</th>\n",
       "      <td>Hep3B2-1-7</td>\n",
       "      <td>VGLL4</td>\n",
       "      <td>-</td>\n",
       "    </tr>\n",
       "    <tr>\n",
       "      <th>10</th>\n",
       "      <td>NUGC-4</td>\n",
       "      <td>VGLL4</td>\n",
       "      <td>p.A95S</td>\n",
       "    </tr>\n",
       "    <tr>\n",
       "      <th>11</th>\n",
       "      <td>JURL-MK1</td>\n",
       "      <td>VGLL4</td>\n",
       "      <td>-</td>\n",
       "    </tr>\n",
       "    <tr>\n",
       "      <th>12</th>\n",
       "      <td>GDM-1</td>\n",
       "      <td>VGLL4</td>\n",
       "      <td>-</td>\n",
       "    </tr>\n",
       "    <tr>\n",
       "      <th>13</th>\n",
       "      <td>SNG-M</td>\n",
       "      <td>VGLL4</td>\n",
       "      <td>-</td>\n",
       "    </tr>\n",
       "    <tr>\n",
       "      <th>14</th>\n",
       "      <td>NCI-H2030</td>\n",
       "      <td>VGLL4</td>\n",
       "      <td>-</td>\n",
       "    </tr>\n",
       "    <tr>\n",
       "      <th>15</th>\n",
       "      <td>NTERA-2-cl-D1</td>\n",
       "      <td>VGLL4</td>\n",
       "      <td>-</td>\n",
       "    </tr>\n",
       "    <tr>\n",
       "      <th>16</th>\n",
       "      <td>NTERA-2-cl-D1</td>\n",
       "      <td>VGLL4</td>\n",
       "      <td>-</td>\n",
       "    </tr>\n",
       "    <tr>\n",
       "      <th>17</th>\n",
       "      <td>LN-229</td>\n",
       "      <td>VGLL4</td>\n",
       "      <td>-</td>\n",
       "    </tr>\n",
       "    <tr>\n",
       "      <th>18</th>\n",
       "      <td>Daudi</td>\n",
       "      <td>VGLL4</td>\n",
       "      <td>p.?</td>\n",
       "    </tr>\n",
       "    <tr>\n",
       "      <th>19</th>\n",
       "      <td>Daudi</td>\n",
       "      <td>VGLL4</td>\n",
       "      <td>p.S282T</td>\n",
       "    </tr>\n",
       "  </tbody>\n",
       "</table>\n",
       "</div>"
      ],
      "text/plain": [
       "   CELL_LINE_NAME gene_symbol protein_mutation\n",
       "0           LAN-6       VGLL4                -\n",
       "1           CL-11       VGLL4              p.?\n",
       "2           SNG-M       VGLL4              p.?\n",
       "3          JHOS-2       VGLL4                -\n",
       "4       NCI-H1436       VGLL4                -\n",
       "5         HCC1395       VGLL4                -\n",
       "6         SNU-175       VGLL4                -\n",
       "7           CL-40       VGLL4              p.?\n",
       "8         TOV-21G       VGLL4              p.?\n",
       "9      Hep3B2-1-7       VGLL4                -\n",
       "10         NUGC-4       VGLL4           p.A95S\n",
       "11       JURL-MK1       VGLL4                -\n",
       "12          GDM-1       VGLL4                -\n",
       "13          SNG-M       VGLL4                -\n",
       "14      NCI-H2030       VGLL4                -\n",
       "15  NTERA-2-cl-D1       VGLL4                -\n",
       "16  NTERA-2-cl-D1       VGLL4                -\n",
       "17         LN-229       VGLL4                -\n",
       "18          Daudi       VGLL4              p.?\n",
       "19          Daudi       VGLL4          p.S282T"
      ]
     },
     "execution_count": 56,
     "metadata": {},
     "output_type": "execute_result"
    }
   ],
   "source": [
    "mutations_all_protein = mutations_all_v5[['CELL_LINE_NAME', 'gene_symbol', 'protein_mutation']]\n",
    "mutations_all_protein.head(20)"
   ]
  },
  {
   "cell_type": "code",
   "execution_count": 39,
   "metadata": {},
   "outputs": [
    {
     "data": {
      "text/plain": [
       "0            -\n",
       "1          p.?\n",
       "2          p.?\n",
       "3            -\n",
       "4            -\n",
       "        ...   \n",
       "251          -\n",
       "252          -\n",
       "253    p.M119V\n",
       "254          -\n",
       "255          -\n",
       "Name: protein_mutation, Length: 256, dtype: object"
      ]
     },
     "execution_count": 39,
     "metadata": {},
     "output_type": "execute_result"
    }
   ],
   "source": [
    "mutations_all_protein.loc[mutations_all_protein['gene_symbol'] == 'VGLL4', 'protein_mutation']"
   ]
  },
  {
   "cell_type": "code",
   "execution_count": 57,
   "metadata": {},
   "outputs": [
    {
     "name": "stdout",
     "output_type": "stream",
     "text": [
      "Appending ABCB6...\n",
      "Appending ABCC5...\n",
      "Appending ABCF1...\n",
      "Appending ABCF3...\n",
      "Appending ABHD4...\n",
      "Appending ABHD6...\n",
      "Appending ABL1...\n",
      "Appending ACAA1...\n",
      "Appending ACAT2...\n",
      "Appending ACBD3...\n",
      "Appending ACD...\n",
      "Appending ACLY...\n",
      "Appending ACOT9...\n",
      "Appending ADAM10...\n",
      "Appending ADAT1...\n",
      "Appending ADGRE5...\n",
      "Appending ADGRG1...\n",
      "Appending ADH5...\n",
      "Appending ADI1...\n",
      "Appending ADO...\n",
      "Appending ADRB2...\n",
      "Appending AGL...\n",
      "Appending AKAP8...\n",
      "Appending AKAP8L...\n",
      "Appending AKR7A2...\n",
      "Appending AKT1...\n",
      "Appending ALAS1...\n",
      "Appending ALDH7A1...\n",
      "Appending ALDOA...\n",
      "Appending ALDOC...\n",
      "Appending AMDHD2...\n",
      "Appending ANKRD10...\n",
      "Appending ANO10...\n",
      "Appending ANXA7...\n",
      "Appending APBB2...\n",
      "Appending APOE...\n",
      "Appending APP...\n",
      "Appending APPBP2...\n",
      "Appending ARFIP2...\n",
      "Appending ARHGAP1...\n",
      "Appending ARHGEF12...\n",
      "Appending ARHGEF2...\n",
      "Appending ARID4B...\n",
      "Appending ARID5B...\n",
      "Appending ARL4C...\n",
      "Appending ARNT2...\n",
      "Appending ARPP19...\n",
      "Appending ASAH1...\n",
      "Appending ASCC3...\n",
      "Appending ATF1...\n",
      "Appending ATF5...\n",
      "Appending ATF6...\n",
      "Appending ATG3...\n",
      "Appending ATMIN...\n",
      "Appending ATP11B...\n",
      "Appending ATP1B1...\n",
      "Appending ATP2C1...\n",
      "Appending ATP6V0B...\n",
      "Appending ATP6V1D...\n",
      "Appending AURKA...\n",
      "Appending AURKB...\n",
      "Appending AXIN1...\n",
      "Appending B4GAT1...\n",
      "Appending BACE2...\n",
      "Appending BAD...\n",
      "Appending BAG3...\n",
      "Appending BAMBI...\n",
      "Appending BAX...\n",
      "Appending BCL2...\n",
      "Appending BCL7B...\n",
      "Appending BDH1...\n",
      "Appending BECN1...\n",
      "Appending BHLHE40...\n",
      "Appending BID...\n",
      "Appending BIRC2...\n",
      "Appending BIRC5...\n",
      "Appending BLCAP...\n",
      "Appending BLMH...\n",
      "Appending BLVRA...\n",
      "Appending BMP4...\n",
      "Appending BNIP3...\n",
      "Appending BNIP3L...\n",
      "Appending BPHL...\n",
      "Appending BRCA1...\n",
      "Appending BTK...\n",
      "Appending BUB1B...\n",
      "Appending BZW2...\n",
      "Appending C2CD2...\n",
      "Appending C2CD2L...\n",
      "Appending C2CD5...\n",
      "Appending C5...\n",
      "Appending CAB39...\n",
      "Appending CALM3...\n",
      "Appending CALU...\n",
      "Appending CAMSAP2...\n",
      "Appending CANT1...\n",
      "Appending CAPN1...\n",
      "Appending CARMIL1...\n",
      "Appending CASC3...\n",
      "Appending CASK...\n"
     ]
    },
    {
     "name": "stderr",
     "output_type": "stream",
     "text": [
      "/var/folders/kv/l0jzxgbj1kggff_kd35bfzkw0000gn/T/ipykernel_42080/1574832305.py:4: PerformanceWarning: DataFrame is highly fragmented.  This is usually the result of calling `frame.insert` many times, which has poor performance.  Consider joining all columns at once using pd.concat(axis=1) instead. To get a de-fragmented frame, use `newframe = frame.copy()`\n",
      "  mutations_all_protein.insert(current_max+i,\n"
     ]
    },
    {
     "name": "stdout",
     "output_type": "stream",
     "text": [
      "Appending CASP10...\n"
     ]
    },
    {
     "name": "stderr",
     "output_type": "stream",
     "text": [
      "/var/folders/kv/l0jzxgbj1kggff_kd35bfzkw0000gn/T/ipykernel_42080/1574832305.py:4: PerformanceWarning: DataFrame is highly fragmented.  This is usually the result of calling `frame.insert` many times, which has poor performance.  Consider joining all columns at once using pd.concat(axis=1) instead. To get a de-fragmented frame, use `newframe = frame.copy()`\n",
      "  mutations_all_protein.insert(current_max+i,\n"
     ]
    },
    {
     "name": "stdout",
     "output_type": "stream",
     "text": [
      "Appending CASP2...\n"
     ]
    },
    {
     "name": "stderr",
     "output_type": "stream",
     "text": [
      "/var/folders/kv/l0jzxgbj1kggff_kd35bfzkw0000gn/T/ipykernel_42080/1574832305.py:4: PerformanceWarning: DataFrame is highly fragmented.  This is usually the result of calling `frame.insert` many times, which has poor performance.  Consider joining all columns at once using pd.concat(axis=1) instead. To get a de-fragmented frame, use `newframe = frame.copy()`\n",
      "  mutations_all_protein.insert(current_max+i,\n"
     ]
    },
    {
     "name": "stdout",
     "output_type": "stream",
     "text": [
      "Appending CASP3...\n"
     ]
    },
    {
     "name": "stderr",
     "output_type": "stream",
     "text": [
      "/var/folders/kv/l0jzxgbj1kggff_kd35bfzkw0000gn/T/ipykernel_42080/1574832305.py:4: PerformanceWarning: DataFrame is highly fragmented.  This is usually the result of calling `frame.insert` many times, which has poor performance.  Consider joining all columns at once using pd.concat(axis=1) instead. To get a de-fragmented frame, use `newframe = frame.copy()`\n",
      "  mutations_all_protein.insert(current_max+i,\n"
     ]
    },
    {
     "name": "stdout",
     "output_type": "stream",
     "text": [
      "Appending CASP7...\n"
     ]
    },
    {
     "name": "stderr",
     "output_type": "stream",
     "text": [
      "/var/folders/kv/l0jzxgbj1kggff_kd35bfzkw0000gn/T/ipykernel_42080/1574832305.py:4: PerformanceWarning: DataFrame is highly fragmented.  This is usually the result of calling `frame.insert` many times, which has poor performance.  Consider joining all columns at once using pd.concat(axis=1) instead. To get a de-fragmented frame, use `newframe = frame.copy()`\n",
      "  mutations_all_protein.insert(current_max+i,\n"
     ]
    },
    {
     "name": "stdout",
     "output_type": "stream",
     "text": [
      "Appending CAST...\n"
     ]
    },
    {
     "name": "stderr",
     "output_type": "stream",
     "text": [
      "/var/folders/kv/l0jzxgbj1kggff_kd35bfzkw0000gn/T/ipykernel_42080/1574832305.py:4: PerformanceWarning: DataFrame is highly fragmented.  This is usually the result of calling `frame.insert` many times, which has poor performance.  Consider joining all columns at once using pd.concat(axis=1) instead. To get a de-fragmented frame, use `newframe = frame.copy()`\n",
      "  mutations_all_protein.insert(current_max+i,\n"
     ]
    },
    {
     "name": "stdout",
     "output_type": "stream",
     "text": [
      "Appending CAT...\n"
     ]
    },
    {
     "name": "stderr",
     "output_type": "stream",
     "text": [
      "/var/folders/kv/l0jzxgbj1kggff_kd35bfzkw0000gn/T/ipykernel_42080/1574832305.py:4: PerformanceWarning: DataFrame is highly fragmented.  This is usually the result of calling `frame.insert` many times, which has poor performance.  Consider joining all columns at once using pd.concat(axis=1) instead. To get a de-fragmented frame, use `newframe = frame.copy()`\n",
      "  mutations_all_protein.insert(current_max+i,\n"
     ]
    },
    {
     "name": "stdout",
     "output_type": "stream",
     "text": [
      "Appending CBLB...\n"
     ]
    },
    {
     "name": "stderr",
     "output_type": "stream",
     "text": [
      "/var/folders/kv/l0jzxgbj1kggff_kd35bfzkw0000gn/T/ipykernel_42080/1574832305.py:4: PerformanceWarning: DataFrame is highly fragmented.  This is usually the result of calling `frame.insert` many times, which has poor performance.  Consider joining all columns at once using pd.concat(axis=1) instead. To get a de-fragmented frame, use `newframe = frame.copy()`\n",
      "  mutations_all_protein.insert(current_max+i,\n"
     ]
    },
    {
     "name": "stdout",
     "output_type": "stream",
     "text": [
      "Appending CBR1...\n"
     ]
    },
    {
     "name": "stderr",
     "output_type": "stream",
     "text": [
      "/var/folders/kv/l0jzxgbj1kggff_kd35bfzkw0000gn/T/ipykernel_42080/1574832305.py:4: PerformanceWarning: DataFrame is highly fragmented.  This is usually the result of calling `frame.insert` many times, which has poor performance.  Consider joining all columns at once using pd.concat(axis=1) instead. To get a de-fragmented frame, use `newframe = frame.copy()`\n",
      "  mutations_all_protein.insert(current_max+i,\n"
     ]
    },
    {
     "name": "stdout",
     "output_type": "stream",
     "text": [
      "Appending CBR3...\n"
     ]
    },
    {
     "name": "stderr",
     "output_type": "stream",
     "text": [
      "/var/folders/kv/l0jzxgbj1kggff_kd35bfzkw0000gn/T/ipykernel_42080/1574832305.py:4: PerformanceWarning: DataFrame is highly fragmented.  This is usually the result of calling `frame.insert` many times, which has poor performance.  Consider joining all columns at once using pd.concat(axis=1) instead. To get a de-fragmented frame, use `newframe = frame.copy()`\n",
      "  mutations_all_protein.insert(current_max+i,\n"
     ]
    },
    {
     "name": "stdout",
     "output_type": "stream",
     "text": [
      "Appending CCDC85B...\n"
     ]
    },
    {
     "name": "stderr",
     "output_type": "stream",
     "text": [
      "/var/folders/kv/l0jzxgbj1kggff_kd35bfzkw0000gn/T/ipykernel_42080/1574832305.py:4: PerformanceWarning: DataFrame is highly fragmented.  This is usually the result of calling `frame.insert` many times, which has poor performance.  Consider joining all columns at once using pd.concat(axis=1) instead. To get a de-fragmented frame, use `newframe = frame.copy()`\n",
      "  mutations_all_protein.insert(current_max+i,\n"
     ]
    },
    {
     "name": "stdout",
     "output_type": "stream",
     "text": [
      "Appending CCDC86...\n"
     ]
    },
    {
     "name": "stderr",
     "output_type": "stream",
     "text": [
      "/var/folders/kv/l0jzxgbj1kggff_kd35bfzkw0000gn/T/ipykernel_42080/1574832305.py:4: PerformanceWarning: DataFrame is highly fragmented.  This is usually the result of calling `frame.insert` many times, which has poor performance.  Consider joining all columns at once using pd.concat(axis=1) instead. To get a de-fragmented frame, use `newframe = frame.copy()`\n",
      "  mutations_all_protein.insert(current_max+i,\n"
     ]
    },
    {
     "name": "stdout",
     "output_type": "stream",
     "text": [
      "Appending CCDC92...\n"
     ]
    },
    {
     "name": "stderr",
     "output_type": "stream",
     "text": [
      "/var/folders/kv/l0jzxgbj1kggff_kd35bfzkw0000gn/T/ipykernel_42080/1574832305.py:4: PerformanceWarning: DataFrame is highly fragmented.  This is usually the result of calling `frame.insert` many times, which has poor performance.  Consider joining all columns at once using pd.concat(axis=1) instead. To get a de-fragmented frame, use `newframe = frame.copy()`\n",
      "  mutations_all_protein.insert(current_max+i,\n"
     ]
    },
    {
     "name": "stdout",
     "output_type": "stream",
     "text": [
      "Appending CCL2...\n"
     ]
    },
    {
     "name": "stderr",
     "output_type": "stream",
     "text": [
      "/var/folders/kv/l0jzxgbj1kggff_kd35bfzkw0000gn/T/ipykernel_42080/1574832305.py:4: PerformanceWarning: DataFrame is highly fragmented.  This is usually the result of calling `frame.insert` many times, which has poor performance.  Consider joining all columns at once using pd.concat(axis=1) instead. To get a de-fragmented frame, use `newframe = frame.copy()`\n",
      "  mutations_all_protein.insert(current_max+i,\n"
     ]
    },
    {
     "name": "stdout",
     "output_type": "stream",
     "text": [
      "Appending CCNA1...\n"
     ]
    },
    {
     "name": "stderr",
     "output_type": "stream",
     "text": [
      "/var/folders/kv/l0jzxgbj1kggff_kd35bfzkw0000gn/T/ipykernel_42080/1574832305.py:4: PerformanceWarning: DataFrame is highly fragmented.  This is usually the result of calling `frame.insert` many times, which has poor performance.  Consider joining all columns at once using pd.concat(axis=1) instead. To get a de-fragmented frame, use `newframe = frame.copy()`\n",
      "  mutations_all_protein.insert(current_max+i,\n"
     ]
    },
    {
     "name": "stdout",
     "output_type": "stream",
     "text": [
      "Appending CCNA2...\n"
     ]
    },
    {
     "name": "stderr",
     "output_type": "stream",
     "text": [
      "/var/folders/kv/l0jzxgbj1kggff_kd35bfzkw0000gn/T/ipykernel_42080/1574832305.py:4: PerformanceWarning: DataFrame is highly fragmented.  This is usually the result of calling `frame.insert` many times, which has poor performance.  Consider joining all columns at once using pd.concat(axis=1) instead. To get a de-fragmented frame, use `newframe = frame.copy()`\n",
      "  mutations_all_protein.insert(current_max+i,\n"
     ]
    },
    {
     "name": "stdout",
     "output_type": "stream",
     "text": [
      "Appending CCNB1...\n"
     ]
    },
    {
     "name": "stderr",
     "output_type": "stream",
     "text": [
      "/var/folders/kv/l0jzxgbj1kggff_kd35bfzkw0000gn/T/ipykernel_42080/1574832305.py:4: PerformanceWarning: DataFrame is highly fragmented.  This is usually the result of calling `frame.insert` many times, which has poor performance.  Consider joining all columns at once using pd.concat(axis=1) instead. To get a de-fragmented frame, use `newframe = frame.copy()`\n",
      "  mutations_all_protein.insert(current_max+i,\n"
     ]
    },
    {
     "name": "stdout",
     "output_type": "stream",
     "text": [
      "Appending CCNB2...\n"
     ]
    },
    {
     "name": "stderr",
     "output_type": "stream",
     "text": [
      "/var/folders/kv/l0jzxgbj1kggff_kd35bfzkw0000gn/T/ipykernel_42080/1574832305.py:4: PerformanceWarning: DataFrame is highly fragmented.  This is usually the result of calling `frame.insert` many times, which has poor performance.  Consider joining all columns at once using pd.concat(axis=1) instead. To get a de-fragmented frame, use `newframe = frame.copy()`\n",
      "  mutations_all_protein.insert(current_max+i,\n"
     ]
    },
    {
     "name": "stdout",
     "output_type": "stream",
     "text": [
      "Appending CCND1...\n"
     ]
    },
    {
     "name": "stderr",
     "output_type": "stream",
     "text": [
      "/var/folders/kv/l0jzxgbj1kggff_kd35bfzkw0000gn/T/ipykernel_42080/1574832305.py:4: PerformanceWarning: DataFrame is highly fragmented.  This is usually the result of calling `frame.insert` many times, which has poor performance.  Consider joining all columns at once using pd.concat(axis=1) instead. To get a de-fragmented frame, use `newframe = frame.copy()`\n",
      "  mutations_all_protein.insert(current_max+i,\n"
     ]
    },
    {
     "name": "stdout",
     "output_type": "stream",
     "text": [
      "Appending CCND3...\n"
     ]
    },
    {
     "name": "stderr",
     "output_type": "stream",
     "text": [
      "/var/folders/kv/l0jzxgbj1kggff_kd35bfzkw0000gn/T/ipykernel_42080/1574832305.py:4: PerformanceWarning: DataFrame is highly fragmented.  This is usually the result of calling `frame.insert` many times, which has poor performance.  Consider joining all columns at once using pd.concat(axis=1) instead. To get a de-fragmented frame, use `newframe = frame.copy()`\n",
      "  mutations_all_protein.insert(current_max+i,\n"
     ]
    },
    {
     "name": "stdout",
     "output_type": "stream",
     "text": [
      "Appending CCNE2...\n"
     ]
    },
    {
     "name": "stderr",
     "output_type": "stream",
     "text": [
      "/var/folders/kv/l0jzxgbj1kggff_kd35bfzkw0000gn/T/ipykernel_42080/1574832305.py:4: PerformanceWarning: DataFrame is highly fragmented.  This is usually the result of calling `frame.insert` many times, which has poor performance.  Consider joining all columns at once using pd.concat(axis=1) instead. To get a de-fragmented frame, use `newframe = frame.copy()`\n",
      "  mutations_all_protein.insert(current_max+i,\n"
     ]
    },
    {
     "name": "stdout",
     "output_type": "stream",
     "text": [
      "Appending CCNF...\n"
     ]
    },
    {
     "name": "stderr",
     "output_type": "stream",
     "text": [
      "/var/folders/kv/l0jzxgbj1kggff_kd35bfzkw0000gn/T/ipykernel_42080/1574832305.py:4: PerformanceWarning: DataFrame is highly fragmented.  This is usually the result of calling `frame.insert` many times, which has poor performance.  Consider joining all columns at once using pd.concat(axis=1) instead. To get a de-fragmented frame, use `newframe = frame.copy()`\n",
      "  mutations_all_protein.insert(current_max+i,\n"
     ]
    },
    {
     "name": "stdout",
     "output_type": "stream",
     "text": [
      "Appending CCNH...\n"
     ]
    },
    {
     "name": "stderr",
     "output_type": "stream",
     "text": [
      "/var/folders/kv/l0jzxgbj1kggff_kd35bfzkw0000gn/T/ipykernel_42080/1574832305.py:4: PerformanceWarning: DataFrame is highly fragmented.  This is usually the result of calling `frame.insert` many times, which has poor performance.  Consider joining all columns at once using pd.concat(axis=1) instead. To get a de-fragmented frame, use `newframe = frame.copy()`\n",
      "  mutations_all_protein.insert(current_max+i,\n"
     ]
    },
    {
     "name": "stdout",
     "output_type": "stream",
     "text": [
      "Appending CCP110...\n"
     ]
    },
    {
     "name": "stderr",
     "output_type": "stream",
     "text": [
      "/var/folders/kv/l0jzxgbj1kggff_kd35bfzkw0000gn/T/ipykernel_42080/1574832305.py:4: PerformanceWarning: DataFrame is highly fragmented.  This is usually the result of calling `frame.insert` many times, which has poor performance.  Consider joining all columns at once using pd.concat(axis=1) instead. To get a de-fragmented frame, use `newframe = frame.copy()`\n",
      "  mutations_all_protein.insert(current_max+i,\n"
     ]
    },
    {
     "name": "stdout",
     "output_type": "stream",
     "text": [
      "Appending CD320...\n"
     ]
    },
    {
     "name": "stderr",
     "output_type": "stream",
     "text": [
      "/var/folders/kv/l0jzxgbj1kggff_kd35bfzkw0000gn/T/ipykernel_42080/1574832305.py:4: PerformanceWarning: DataFrame is highly fragmented.  This is usually the result of calling `frame.insert` many times, which has poor performance.  Consider joining all columns at once using pd.concat(axis=1) instead. To get a de-fragmented frame, use `newframe = frame.copy()`\n",
      "  mutations_all_protein.insert(current_max+i,\n"
     ]
    },
    {
     "name": "stdout",
     "output_type": "stream",
     "text": [
      "Appending CD40...\n"
     ]
    },
    {
     "name": "stderr",
     "output_type": "stream",
     "text": [
      "/var/folders/kv/l0jzxgbj1kggff_kd35bfzkw0000gn/T/ipykernel_42080/1574832305.py:4: PerformanceWarning: DataFrame is highly fragmented.  This is usually the result of calling `frame.insert` many times, which has poor performance.  Consider joining all columns at once using pd.concat(axis=1) instead. To get a de-fragmented frame, use `newframe = frame.copy()`\n",
      "  mutations_all_protein.insert(current_max+i,\n"
     ]
    },
    {
     "name": "stdout",
     "output_type": "stream",
     "text": [
      "Appending CD44...\n"
     ]
    },
    {
     "name": "stderr",
     "output_type": "stream",
     "text": [
      "/var/folders/kv/l0jzxgbj1kggff_kd35bfzkw0000gn/T/ipykernel_42080/1574832305.py:4: PerformanceWarning: DataFrame is highly fragmented.  This is usually the result of calling `frame.insert` many times, which has poor performance.  Consider joining all columns at once using pd.concat(axis=1) instead. To get a de-fragmented frame, use `newframe = frame.copy()`\n",
      "  mutations_all_protein.insert(current_max+i,\n"
     ]
    },
    {
     "name": "stdout",
     "output_type": "stream",
     "text": [
      "Appending CD58...\n"
     ]
    },
    {
     "name": "stderr",
     "output_type": "stream",
     "text": [
      "/var/folders/kv/l0jzxgbj1kggff_kd35bfzkw0000gn/T/ipykernel_42080/1574832305.py:4: PerformanceWarning: DataFrame is highly fragmented.  This is usually the result of calling `frame.insert` many times, which has poor performance.  Consider joining all columns at once using pd.concat(axis=1) instead. To get a de-fragmented frame, use `newframe = frame.copy()`\n",
      "  mutations_all_protein.insert(current_max+i,\n"
     ]
    },
    {
     "name": "stdout",
     "output_type": "stream",
     "text": [
      "Appending CDC20...\n"
     ]
    },
    {
     "name": "stderr",
     "output_type": "stream",
     "text": [
      "/var/folders/kv/l0jzxgbj1kggff_kd35bfzkw0000gn/T/ipykernel_42080/1574832305.py:4: PerformanceWarning: DataFrame is highly fragmented.  This is usually the result of calling `frame.insert` many times, which has poor performance.  Consider joining all columns at once using pd.concat(axis=1) instead. To get a de-fragmented frame, use `newframe = frame.copy()`\n",
      "  mutations_all_protein.insert(current_max+i,\n"
     ]
    },
    {
     "name": "stdout",
     "output_type": "stream",
     "text": [
      "Appending CDC25A...\n"
     ]
    },
    {
     "name": "stderr",
     "output_type": "stream",
     "text": [
      "/var/folders/kv/l0jzxgbj1kggff_kd35bfzkw0000gn/T/ipykernel_42080/1574832305.py:4: PerformanceWarning: DataFrame is highly fragmented.  This is usually the result of calling `frame.insert` many times, which has poor performance.  Consider joining all columns at once using pd.concat(axis=1) instead. To get a de-fragmented frame, use `newframe = frame.copy()`\n",
      "  mutations_all_protein.insert(current_max+i,\n"
     ]
    },
    {
     "name": "stdout",
     "output_type": "stream",
     "text": [
      "Appending CDC25B...\n"
     ]
    },
    {
     "name": "stderr",
     "output_type": "stream",
     "text": [
      "/var/folders/kv/l0jzxgbj1kggff_kd35bfzkw0000gn/T/ipykernel_42080/1574832305.py:4: PerformanceWarning: DataFrame is highly fragmented.  This is usually the result of calling `frame.insert` many times, which has poor performance.  Consider joining all columns at once using pd.concat(axis=1) instead. To get a de-fragmented frame, use `newframe = frame.copy()`\n",
      "  mutations_all_protein.insert(current_max+i,\n"
     ]
    },
    {
     "name": "stdout",
     "output_type": "stream",
     "text": [
      "Appending CDC42...\n"
     ]
    },
    {
     "name": "stderr",
     "output_type": "stream",
     "text": [
      "/var/folders/kv/l0jzxgbj1kggff_kd35bfzkw0000gn/T/ipykernel_42080/1574832305.py:4: PerformanceWarning: DataFrame is highly fragmented.  This is usually the result of calling `frame.insert` many times, which has poor performance.  Consider joining all columns at once using pd.concat(axis=1) instead. To get a de-fragmented frame, use `newframe = frame.copy()`\n",
      "  mutations_all_protein.insert(current_max+i,\n"
     ]
    },
    {
     "name": "stdout",
     "output_type": "stream",
     "text": [
      "Appending CDC45...\n"
     ]
    },
    {
     "name": "stderr",
     "output_type": "stream",
     "text": [
      "/var/folders/kv/l0jzxgbj1kggff_kd35bfzkw0000gn/T/ipykernel_42080/1574832305.py:4: PerformanceWarning: DataFrame is highly fragmented.  This is usually the result of calling `frame.insert` many times, which has poor performance.  Consider joining all columns at once using pd.concat(axis=1) instead. To get a de-fragmented frame, use `newframe = frame.copy()`\n",
      "  mutations_all_protein.insert(current_max+i,\n"
     ]
    },
    {
     "name": "stdout",
     "output_type": "stream",
     "text": [
      "Appending CDCA4...\n"
     ]
    },
    {
     "name": "stderr",
     "output_type": "stream",
     "text": [
      "/var/folders/kv/l0jzxgbj1kggff_kd35bfzkw0000gn/T/ipykernel_42080/1574832305.py:4: PerformanceWarning: DataFrame is highly fragmented.  This is usually the result of calling `frame.insert` many times, which has poor performance.  Consider joining all columns at once using pd.concat(axis=1) instead. To get a de-fragmented frame, use `newframe = frame.copy()`\n",
      "  mutations_all_protein.insert(current_max+i,\n"
     ]
    },
    {
     "name": "stdout",
     "output_type": "stream",
     "text": [
      "Appending CDH3...\n"
     ]
    },
    {
     "name": "stderr",
     "output_type": "stream",
     "text": [
      "/var/folders/kv/l0jzxgbj1kggff_kd35bfzkw0000gn/T/ipykernel_42080/1574832305.py:4: PerformanceWarning: DataFrame is highly fragmented.  This is usually the result of calling `frame.insert` many times, which has poor performance.  Consider joining all columns at once using pd.concat(axis=1) instead. To get a de-fragmented frame, use `newframe = frame.copy()`\n",
      "  mutations_all_protein.insert(current_max+i,\n"
     ]
    },
    {
     "name": "stdout",
     "output_type": "stream",
     "text": [
      "Appending CDK1...\n"
     ]
    },
    {
     "name": "stderr",
     "output_type": "stream",
     "text": [
      "/var/folders/kv/l0jzxgbj1kggff_kd35bfzkw0000gn/T/ipykernel_42080/1574832305.py:4: PerformanceWarning: DataFrame is highly fragmented.  This is usually the result of calling `frame.insert` many times, which has poor performance.  Consider joining all columns at once using pd.concat(axis=1) instead. To get a de-fragmented frame, use `newframe = frame.copy()`\n",
      "  mutations_all_protein.insert(current_max+i,\n"
     ]
    },
    {
     "name": "stdout",
     "output_type": "stream",
     "text": [
      "Appending CDK19...\n"
     ]
    },
    {
     "name": "stderr",
     "output_type": "stream",
     "text": [
      "/var/folders/kv/l0jzxgbj1kggff_kd35bfzkw0000gn/T/ipykernel_42080/1574832305.py:4: PerformanceWarning: DataFrame is highly fragmented.  This is usually the result of calling `frame.insert` many times, which has poor performance.  Consider joining all columns at once using pd.concat(axis=1) instead. To get a de-fragmented frame, use `newframe = frame.copy()`\n",
      "  mutations_all_protein.insert(current_max+i,\n"
     ]
    },
    {
     "name": "stdout",
     "output_type": "stream",
     "text": [
      "Appending CDK2...\n"
     ]
    },
    {
     "name": "stderr",
     "output_type": "stream",
     "text": [
      "/var/folders/kv/l0jzxgbj1kggff_kd35bfzkw0000gn/T/ipykernel_42080/1574832305.py:4: PerformanceWarning: DataFrame is highly fragmented.  This is usually the result of calling `frame.insert` many times, which has poor performance.  Consider joining all columns at once using pd.concat(axis=1) instead. To get a de-fragmented frame, use `newframe = frame.copy()`\n",
      "  mutations_all_protein.insert(current_max+i,\n"
     ]
    },
    {
     "name": "stdout",
     "output_type": "stream",
     "text": [
      "Appending CDK4...\n"
     ]
    },
    {
     "name": "stderr",
     "output_type": "stream",
     "text": [
      "/var/folders/kv/l0jzxgbj1kggff_kd35bfzkw0000gn/T/ipykernel_42080/1574832305.py:4: PerformanceWarning: DataFrame is highly fragmented.  This is usually the result of calling `frame.insert` many times, which has poor performance.  Consider joining all columns at once using pd.concat(axis=1) instead. To get a de-fragmented frame, use `newframe = frame.copy()`\n",
      "  mutations_all_protein.insert(current_max+i,\n"
     ]
    },
    {
     "name": "stdout",
     "output_type": "stream",
     "text": [
      "Appending CDK5R1...\n"
     ]
    },
    {
     "name": "stderr",
     "output_type": "stream",
     "text": [
      "/var/folders/kv/l0jzxgbj1kggff_kd35bfzkw0000gn/T/ipykernel_42080/1574832305.py:4: PerformanceWarning: DataFrame is highly fragmented.  This is usually the result of calling `frame.insert` many times, which has poor performance.  Consider joining all columns at once using pd.concat(axis=1) instead. To get a de-fragmented frame, use `newframe = frame.copy()`\n",
      "  mutations_all_protein.insert(current_max+i,\n"
     ]
    },
    {
     "name": "stdout",
     "output_type": "stream",
     "text": [
      "Appending CDK6...\n"
     ]
    },
    {
     "name": "stderr",
     "output_type": "stream",
     "text": [
      "/var/folders/kv/l0jzxgbj1kggff_kd35bfzkw0000gn/T/ipykernel_42080/1574832305.py:4: PerformanceWarning: DataFrame is highly fragmented.  This is usually the result of calling `frame.insert` many times, which has poor performance.  Consider joining all columns at once using pd.concat(axis=1) instead. To get a de-fragmented frame, use `newframe = frame.copy()`\n",
      "  mutations_all_protein.insert(current_max+i,\n"
     ]
    },
    {
     "name": "stdout",
     "output_type": "stream",
     "text": [
      "Appending CDK7...\n"
     ]
    },
    {
     "name": "stderr",
     "output_type": "stream",
     "text": [
      "/var/folders/kv/l0jzxgbj1kggff_kd35bfzkw0000gn/T/ipykernel_42080/1574832305.py:4: PerformanceWarning: DataFrame is highly fragmented.  This is usually the result of calling `frame.insert` many times, which has poor performance.  Consider joining all columns at once using pd.concat(axis=1) instead. To get a de-fragmented frame, use `newframe = frame.copy()`\n",
      "  mutations_all_protein.insert(current_max+i,\n"
     ]
    },
    {
     "name": "stdout",
     "output_type": "stream",
     "text": [
      "Appending CDKN1A...\n"
     ]
    },
    {
     "name": "stderr",
     "output_type": "stream",
     "text": [
      "/var/folders/kv/l0jzxgbj1kggff_kd35bfzkw0000gn/T/ipykernel_42080/1574832305.py:4: PerformanceWarning: DataFrame is highly fragmented.  This is usually the result of calling `frame.insert` many times, which has poor performance.  Consider joining all columns at once using pd.concat(axis=1) instead. To get a de-fragmented frame, use `newframe = frame.copy()`\n",
      "  mutations_all_protein.insert(current_max+i,\n"
     ]
    },
    {
     "name": "stdout",
     "output_type": "stream",
     "text": [
      "Appending CDKN1B...\n"
     ]
    },
    {
     "name": "stderr",
     "output_type": "stream",
     "text": [
      "/var/folders/kv/l0jzxgbj1kggff_kd35bfzkw0000gn/T/ipykernel_42080/1574832305.py:4: PerformanceWarning: DataFrame is highly fragmented.  This is usually the result of calling `frame.insert` many times, which has poor performance.  Consider joining all columns at once using pd.concat(axis=1) instead. To get a de-fragmented frame, use `newframe = frame.copy()`\n",
      "  mutations_all_protein.insert(current_max+i,\n"
     ]
    },
    {
     "name": "stdout",
     "output_type": "stream",
     "text": [
      "Appending CDKN2A...\n"
     ]
    },
    {
     "name": "stderr",
     "output_type": "stream",
     "text": [
      "/var/folders/kv/l0jzxgbj1kggff_kd35bfzkw0000gn/T/ipykernel_42080/1574832305.py:4: PerformanceWarning: DataFrame is highly fragmented.  This is usually the result of calling `frame.insert` many times, which has poor performance.  Consider joining all columns at once using pd.concat(axis=1) instead. To get a de-fragmented frame, use `newframe = frame.copy()`\n",
      "  mutations_all_protein.insert(current_max+i,\n"
     ]
    },
    {
     "name": "stdout",
     "output_type": "stream",
     "text": [
      "Appending CEBPA...\n"
     ]
    },
    {
     "name": "stderr",
     "output_type": "stream",
     "text": [
      "/var/folders/kv/l0jzxgbj1kggff_kd35bfzkw0000gn/T/ipykernel_42080/1574832305.py:4: PerformanceWarning: DataFrame is highly fragmented.  This is usually the result of calling `frame.insert` many times, which has poor performance.  Consider joining all columns at once using pd.concat(axis=1) instead. To get a de-fragmented frame, use `newframe = frame.copy()`\n",
      "  mutations_all_protein.insert(current_max+i,\n"
     ]
    },
    {
     "name": "stdout",
     "output_type": "stream",
     "text": [
      "Appending CEBPD...\n"
     ]
    },
    {
     "name": "stderr",
     "output_type": "stream",
     "text": [
      "/var/folders/kv/l0jzxgbj1kggff_kd35bfzkw0000gn/T/ipykernel_42080/1574832305.py:4: PerformanceWarning: DataFrame is highly fragmented.  This is usually the result of calling `frame.insert` many times, which has poor performance.  Consider joining all columns at once using pd.concat(axis=1) instead. To get a de-fragmented frame, use `newframe = frame.copy()`\n",
      "  mutations_all_protein.insert(current_max+i,\n"
     ]
    },
    {
     "name": "stdout",
     "output_type": "stream",
     "text": [
      "Appending CEBPZ...\n"
     ]
    },
    {
     "name": "stderr",
     "output_type": "stream",
     "text": [
      "/var/folders/kv/l0jzxgbj1kggff_kd35bfzkw0000gn/T/ipykernel_42080/1574832305.py:4: PerformanceWarning: DataFrame is highly fragmented.  This is usually the result of calling `frame.insert` many times, which has poor performance.  Consider joining all columns at once using pd.concat(axis=1) instead. To get a de-fragmented frame, use `newframe = frame.copy()`\n",
      "  mutations_all_protein.insert(current_max+i,\n"
     ]
    },
    {
     "name": "stdout",
     "output_type": "stream",
     "text": [
      "Appending CENPE...\n"
     ]
    },
    {
     "name": "stderr",
     "output_type": "stream",
     "text": [
      "/var/folders/kv/l0jzxgbj1kggff_kd35bfzkw0000gn/T/ipykernel_42080/1574832305.py:4: PerformanceWarning: DataFrame is highly fragmented.  This is usually the result of calling `frame.insert` many times, which has poor performance.  Consider joining all columns at once using pd.concat(axis=1) instead. To get a de-fragmented frame, use `newframe = frame.copy()`\n",
      "  mutations_all_protein.insert(current_max+i,\n"
     ]
    },
    {
     "name": "stdout",
     "output_type": "stream",
     "text": [
      "Appending CEP57...\n"
     ]
    },
    {
     "name": "stderr",
     "output_type": "stream",
     "text": [
      "/var/folders/kv/l0jzxgbj1kggff_kd35bfzkw0000gn/T/ipykernel_42080/1574832305.py:4: PerformanceWarning: DataFrame is highly fragmented.  This is usually the result of calling `frame.insert` many times, which has poor performance.  Consider joining all columns at once using pd.concat(axis=1) instead. To get a de-fragmented frame, use `newframe = frame.copy()`\n",
      "  mutations_all_protein.insert(current_max+i,\n"
     ]
    },
    {
     "name": "stdout",
     "output_type": "stream",
     "text": [
      "Appending CERK...\n"
     ]
    },
    {
     "name": "stderr",
     "output_type": "stream",
     "text": [
      "/var/folders/kv/l0jzxgbj1kggff_kd35bfzkw0000gn/T/ipykernel_42080/1574832305.py:4: PerformanceWarning: DataFrame is highly fragmented.  This is usually the result of calling `frame.insert` many times, which has poor performance.  Consider joining all columns at once using pd.concat(axis=1) instead. To get a de-fragmented frame, use `newframe = frame.copy()`\n",
      "  mutations_all_protein.insert(current_max+i,\n"
     ]
    },
    {
     "name": "stdout",
     "output_type": "stream",
     "text": [
      "Appending CETN3...\n"
     ]
    },
    {
     "name": "stderr",
     "output_type": "stream",
     "text": [
      "/var/folders/kv/l0jzxgbj1kggff_kd35bfzkw0000gn/T/ipykernel_42080/1574832305.py:4: PerformanceWarning: DataFrame is highly fragmented.  This is usually the result of calling `frame.insert` many times, which has poor performance.  Consider joining all columns at once using pd.concat(axis=1) instead. To get a de-fragmented frame, use `newframe = frame.copy()`\n",
      "  mutations_all_protein.insert(current_max+i,\n"
     ]
    },
    {
     "name": "stdout",
     "output_type": "stream",
     "text": [
      "Appending CFLAR...\n"
     ]
    },
    {
     "name": "stderr",
     "output_type": "stream",
     "text": [
      "/var/folders/kv/l0jzxgbj1kggff_kd35bfzkw0000gn/T/ipykernel_42080/1574832305.py:4: PerformanceWarning: DataFrame is highly fragmented.  This is usually the result of calling `frame.insert` many times, which has poor performance.  Consider joining all columns at once using pd.concat(axis=1) instead. To get a de-fragmented frame, use `newframe = frame.copy()`\n",
      "  mutations_all_protein.insert(current_max+i,\n"
     ]
    },
    {
     "name": "stdout",
     "output_type": "stream",
     "text": [
      "Appending CGRRF1...\n"
     ]
    },
    {
     "name": "stderr",
     "output_type": "stream",
     "text": [
      "/var/folders/kv/l0jzxgbj1kggff_kd35bfzkw0000gn/T/ipykernel_42080/1574832305.py:4: PerformanceWarning: DataFrame is highly fragmented.  This is usually the result of calling `frame.insert` many times, which has poor performance.  Consider joining all columns at once using pd.concat(axis=1) instead. To get a de-fragmented frame, use `newframe = frame.copy()`\n",
      "  mutations_all_protein.insert(current_max+i,\n"
     ]
    },
    {
     "name": "stdout",
     "output_type": "stream",
     "text": [
      "Appending CHAC1...\n"
     ]
    },
    {
     "name": "stderr",
     "output_type": "stream",
     "text": [
      "/var/folders/kv/l0jzxgbj1kggff_kd35bfzkw0000gn/T/ipykernel_42080/1574832305.py:4: PerformanceWarning: DataFrame is highly fragmented.  This is usually the result of calling `frame.insert` many times, which has poor performance.  Consider joining all columns at once using pd.concat(axis=1) instead. To get a de-fragmented frame, use `newframe = frame.copy()`\n",
      "  mutations_all_protein.insert(current_max+i,\n"
     ]
    },
    {
     "name": "stdout",
     "output_type": "stream",
     "text": [
      "Appending CHEK1...\n"
     ]
    },
    {
     "name": "stderr",
     "output_type": "stream",
     "text": [
      "/var/folders/kv/l0jzxgbj1kggff_kd35bfzkw0000gn/T/ipykernel_42080/1574832305.py:4: PerformanceWarning: DataFrame is highly fragmented.  This is usually the result of calling `frame.insert` many times, which has poor performance.  Consider joining all columns at once using pd.concat(axis=1) instead. To get a de-fragmented frame, use `newframe = frame.copy()`\n",
      "  mutations_all_protein.insert(current_max+i,\n"
     ]
    },
    {
     "name": "stdout",
     "output_type": "stream",
     "text": [
      "Appending CHEK2...\n"
     ]
    },
    {
     "name": "stderr",
     "output_type": "stream",
     "text": [
      "/var/folders/kv/l0jzxgbj1kggff_kd35bfzkw0000gn/T/ipykernel_42080/1574832305.py:4: PerformanceWarning: DataFrame is highly fragmented.  This is usually the result of calling `frame.insert` many times, which has poor performance.  Consider joining all columns at once using pd.concat(axis=1) instead. To get a de-fragmented frame, use `newframe = frame.copy()`\n",
      "  mutations_all_protein.insert(current_max+i,\n"
     ]
    },
    {
     "name": "stdout",
     "output_type": "stream",
     "text": [
      "Appending CHERP...\n"
     ]
    },
    {
     "name": "stderr",
     "output_type": "stream",
     "text": [
      "/var/folders/kv/l0jzxgbj1kggff_kd35bfzkw0000gn/T/ipykernel_42080/1574832305.py:4: PerformanceWarning: DataFrame is highly fragmented.  This is usually the result of calling `frame.insert` many times, which has poor performance.  Consider joining all columns at once using pd.concat(axis=1) instead. To get a de-fragmented frame, use `newframe = frame.copy()`\n",
      "  mutations_all_protein.insert(current_max+i,\n"
     ]
    },
    {
     "name": "stdout",
     "output_type": "stream",
     "text": [
      "Appending CHIC2...\n"
     ]
    },
    {
     "name": "stderr",
     "output_type": "stream",
     "text": [
      "/var/folders/kv/l0jzxgbj1kggff_kd35bfzkw0000gn/T/ipykernel_42080/1574832305.py:4: PerformanceWarning: DataFrame is highly fragmented.  This is usually the result of calling `frame.insert` many times, which has poor performance.  Consider joining all columns at once using pd.concat(axis=1) instead. To get a de-fragmented frame, use `newframe = frame.copy()`\n",
      "  mutations_all_protein.insert(current_max+i,\n"
     ]
    },
    {
     "name": "stdout",
     "output_type": "stream",
     "text": [
      "Appending CHMP4A...\n"
     ]
    },
    {
     "name": "stderr",
     "output_type": "stream",
     "text": [
      "/var/folders/kv/l0jzxgbj1kggff_kd35bfzkw0000gn/T/ipykernel_42080/1574832305.py:4: PerformanceWarning: DataFrame is highly fragmented.  This is usually the result of calling `frame.insert` many times, which has poor performance.  Consider joining all columns at once using pd.concat(axis=1) instead. To get a de-fragmented frame, use `newframe = frame.copy()`\n",
      "  mutations_all_protein.insert(current_max+i,\n"
     ]
    },
    {
     "name": "stdout",
     "output_type": "stream",
     "text": [
      "Appending CHMP6...\n"
     ]
    },
    {
     "name": "stderr",
     "output_type": "stream",
     "text": [
      "/var/folders/kv/l0jzxgbj1kggff_kd35bfzkw0000gn/T/ipykernel_42080/1574832305.py:4: PerformanceWarning: DataFrame is highly fragmented.  This is usually the result of calling `frame.insert` many times, which has poor performance.  Consider joining all columns at once using pd.concat(axis=1) instead. To get a de-fragmented frame, use `newframe = frame.copy()`\n",
      "  mutations_all_protein.insert(current_max+i,\n"
     ]
    },
    {
     "name": "stdout",
     "output_type": "stream",
     "text": [
      "Appending CHN1...\n"
     ]
    },
    {
     "name": "stderr",
     "output_type": "stream",
     "text": [
      "/var/folders/kv/l0jzxgbj1kggff_kd35bfzkw0000gn/T/ipykernel_42080/1574832305.py:4: PerformanceWarning: DataFrame is highly fragmented.  This is usually the result of calling `frame.insert` many times, which has poor performance.  Consider joining all columns at once using pd.concat(axis=1) instead. To get a de-fragmented frame, use `newframe = frame.copy()`\n",
      "  mutations_all_protein.insert(current_max+i,\n"
     ]
    },
    {
     "name": "stdout",
     "output_type": "stream",
     "text": [
      "Appending CHP1...\n"
     ]
    },
    {
     "name": "stderr",
     "output_type": "stream",
     "text": [
      "/var/folders/kv/l0jzxgbj1kggff_kd35bfzkw0000gn/T/ipykernel_42080/1574832305.py:4: PerformanceWarning: DataFrame is highly fragmented.  This is usually the result of calling `frame.insert` many times, which has poor performance.  Consider joining all columns at once using pd.concat(axis=1) instead. To get a de-fragmented frame, use `newframe = frame.copy()`\n",
      "  mutations_all_protein.insert(current_max+i,\n"
     ]
    },
    {
     "name": "stdout",
     "output_type": "stream",
     "text": [
      "Appending CIAPIN1...\n"
     ]
    },
    {
     "name": "stderr",
     "output_type": "stream",
     "text": [
      "/var/folders/kv/l0jzxgbj1kggff_kd35bfzkw0000gn/T/ipykernel_42080/1574832305.py:4: PerformanceWarning: DataFrame is highly fragmented.  This is usually the result of calling `frame.insert` many times, which has poor performance.  Consider joining all columns at once using pd.concat(axis=1) instead. To get a de-fragmented frame, use `newframe = frame.copy()`\n",
      "  mutations_all_protein.insert(current_max+i,\n"
     ]
    },
    {
     "name": "stdout",
     "output_type": "stream",
     "text": [
      "Appending CIRBP...\n"
     ]
    },
    {
     "name": "stderr",
     "output_type": "stream",
     "text": [
      "/var/folders/kv/l0jzxgbj1kggff_kd35bfzkw0000gn/T/ipykernel_42080/1574832305.py:4: PerformanceWarning: DataFrame is highly fragmented.  This is usually the result of calling `frame.insert` many times, which has poor performance.  Consider joining all columns at once using pd.concat(axis=1) instead. To get a de-fragmented frame, use `newframe = frame.copy()`\n",
      "  mutations_all_protein.insert(current_max+i,\n"
     ]
    },
    {
     "name": "stdout",
     "output_type": "stream",
     "text": [
      "Appending CISD1...\n"
     ]
    },
    {
     "name": "stderr",
     "output_type": "stream",
     "text": [
      "/var/folders/kv/l0jzxgbj1kggff_kd35bfzkw0000gn/T/ipykernel_42080/1574832305.py:4: PerformanceWarning: DataFrame is highly fragmented.  This is usually the result of calling `frame.insert` many times, which has poor performance.  Consider joining all columns at once using pd.concat(axis=1) instead. To get a de-fragmented frame, use `newframe = frame.copy()`\n",
      "  mutations_all_protein.insert(current_max+i,\n"
     ]
    },
    {
     "name": "stdout",
     "output_type": "stream",
     "text": [
      "Appending CLIC4...\n"
     ]
    },
    {
     "name": "stderr",
     "output_type": "stream",
     "text": [
      "/var/folders/kv/l0jzxgbj1kggff_kd35bfzkw0000gn/T/ipykernel_42080/1574832305.py:4: PerformanceWarning: DataFrame is highly fragmented.  This is usually the result of calling `frame.insert` many times, which has poor performance.  Consider joining all columns at once using pd.concat(axis=1) instead. To get a de-fragmented frame, use `newframe = frame.copy()`\n",
      "  mutations_all_protein.insert(current_max+i,\n"
     ]
    },
    {
     "name": "stdout",
     "output_type": "stream",
     "text": [
      "Appending CLPX...\n"
     ]
    },
    {
     "name": "stderr",
     "output_type": "stream",
     "text": [
      "/var/folders/kv/l0jzxgbj1kggff_kd35bfzkw0000gn/T/ipykernel_42080/1574832305.py:4: PerformanceWarning: DataFrame is highly fragmented.  This is usually the result of calling `frame.insert` many times, which has poor performance.  Consider joining all columns at once using pd.concat(axis=1) instead. To get a de-fragmented frame, use `newframe = frame.copy()`\n",
      "  mutations_all_protein.insert(current_max+i,\n"
     ]
    },
    {
     "name": "stdout",
     "output_type": "stream",
     "text": [
      "Appending CLSTN1...\n"
     ]
    },
    {
     "name": "stderr",
     "output_type": "stream",
     "text": [
      "/var/folders/kv/l0jzxgbj1kggff_kd35bfzkw0000gn/T/ipykernel_42080/1574832305.py:4: PerformanceWarning: DataFrame is highly fragmented.  This is usually the result of calling `frame.insert` many times, which has poor performance.  Consider joining all columns at once using pd.concat(axis=1) instead. To get a de-fragmented frame, use `newframe = frame.copy()`\n",
      "  mutations_all_protein.insert(current_max+i,\n"
     ]
    },
    {
     "name": "stdout",
     "output_type": "stream",
     "text": [
      "Appending CLTB...\n"
     ]
    },
    {
     "name": "stderr",
     "output_type": "stream",
     "text": [
      "/var/folders/kv/l0jzxgbj1kggff_kd35bfzkw0000gn/T/ipykernel_42080/1574832305.py:4: PerformanceWarning: DataFrame is highly fragmented.  This is usually the result of calling `frame.insert` many times, which has poor performance.  Consider joining all columns at once using pd.concat(axis=1) instead. To get a de-fragmented frame, use `newframe = frame.copy()`\n",
      "  mutations_all_protein.insert(current_max+i,\n"
     ]
    },
    {
     "name": "stdout",
     "output_type": "stream",
     "text": [
      "Appending CLTC...\n"
     ]
    },
    {
     "name": "stderr",
     "output_type": "stream",
     "text": [
      "/var/folders/kv/l0jzxgbj1kggff_kd35bfzkw0000gn/T/ipykernel_42080/1574832305.py:4: PerformanceWarning: DataFrame is highly fragmented.  This is usually the result of calling `frame.insert` many times, which has poor performance.  Consider joining all columns at once using pd.concat(axis=1) instead. To get a de-fragmented frame, use `newframe = frame.copy()`\n",
      "  mutations_all_protein.insert(current_max+i,\n"
     ]
    },
    {
     "name": "stdout",
     "output_type": "stream",
     "text": [
      "Appending CNDP2...\n"
     ]
    },
    {
     "name": "stderr",
     "output_type": "stream",
     "text": [
      "/var/folders/kv/l0jzxgbj1kggff_kd35bfzkw0000gn/T/ipykernel_42080/1574832305.py:4: PerformanceWarning: DataFrame is highly fragmented.  This is usually the result of calling `frame.insert` many times, which has poor performance.  Consider joining all columns at once using pd.concat(axis=1) instead. To get a de-fragmented frame, use `newframe = frame.copy()`\n",
      "  mutations_all_protein.insert(current_max+i,\n"
     ]
    },
    {
     "name": "stdout",
     "output_type": "stream",
     "text": [
      "Appending CNOT4...\n"
     ]
    },
    {
     "name": "stderr",
     "output_type": "stream",
     "text": [
      "/var/folders/kv/l0jzxgbj1kggff_kd35bfzkw0000gn/T/ipykernel_42080/1574832305.py:4: PerformanceWarning: DataFrame is highly fragmented.  This is usually the result of calling `frame.insert` many times, which has poor performance.  Consider joining all columns at once using pd.concat(axis=1) instead. To get a de-fragmented frame, use `newframe = frame.copy()`\n",
      "  mutations_all_protein.insert(current_max+i,\n"
     ]
    },
    {
     "name": "stdout",
     "output_type": "stream",
     "text": [
      "Appending CNPY3...\n"
     ]
    },
    {
     "name": "stderr",
     "output_type": "stream",
     "text": [
      "/var/folders/kv/l0jzxgbj1kggff_kd35bfzkw0000gn/T/ipykernel_42080/1574832305.py:4: PerformanceWarning: DataFrame is highly fragmented.  This is usually the result of calling `frame.insert` many times, which has poor performance.  Consider joining all columns at once using pd.concat(axis=1) instead. To get a de-fragmented frame, use `newframe = frame.copy()`\n",
      "  mutations_all_protein.insert(current_max+i,\n"
     ]
    },
    {
     "name": "stdout",
     "output_type": "stream",
     "text": [
      "Appending COASY...\n"
     ]
    },
    {
     "name": "stderr",
     "output_type": "stream",
     "text": [
      "/var/folders/kv/l0jzxgbj1kggff_kd35bfzkw0000gn/T/ipykernel_42080/1574832305.py:4: PerformanceWarning: DataFrame is highly fragmented.  This is usually the result of calling `frame.insert` many times, which has poor performance.  Consider joining all columns at once using pd.concat(axis=1) instead. To get a de-fragmented frame, use `newframe = frame.copy()`\n",
      "  mutations_all_protein.insert(current_max+i,\n"
     ]
    },
    {
     "name": "stdout",
     "output_type": "stream",
     "text": [
      "Appending COG2...\n"
     ]
    },
    {
     "name": "stderr",
     "output_type": "stream",
     "text": [
      "/var/folders/kv/l0jzxgbj1kggff_kd35bfzkw0000gn/T/ipykernel_42080/1574832305.py:4: PerformanceWarning: DataFrame is highly fragmented.  This is usually the result of calling `frame.insert` many times, which has poor performance.  Consider joining all columns at once using pd.concat(axis=1) instead. To get a de-fragmented frame, use `newframe = frame.copy()`\n",
      "  mutations_all_protein.insert(current_max+i,\n"
     ]
    },
    {
     "name": "stdout",
     "output_type": "stream",
     "text": [
      "Appending COG4...\n"
     ]
    },
    {
     "name": "stderr",
     "output_type": "stream",
     "text": [
      "/var/folders/kv/l0jzxgbj1kggff_kd35bfzkw0000gn/T/ipykernel_42080/1574832305.py:4: PerformanceWarning: DataFrame is highly fragmented.  This is usually the result of calling `frame.insert` many times, which has poor performance.  Consider joining all columns at once using pd.concat(axis=1) instead. To get a de-fragmented frame, use `newframe = frame.copy()`\n",
      "  mutations_all_protein.insert(current_max+i,\n"
     ]
    },
    {
     "name": "stdout",
     "output_type": "stream",
     "text": [
      "Appending COG7...\n"
     ]
    },
    {
     "name": "stderr",
     "output_type": "stream",
     "text": [
      "/var/folders/kv/l0jzxgbj1kggff_kd35bfzkw0000gn/T/ipykernel_42080/1574832305.py:4: PerformanceWarning: DataFrame is highly fragmented.  This is usually the result of calling `frame.insert` many times, which has poor performance.  Consider joining all columns at once using pd.concat(axis=1) instead. To get a de-fragmented frame, use `newframe = frame.copy()`\n",
      "  mutations_all_protein.insert(current_max+i,\n"
     ]
    },
    {
     "name": "stdout",
     "output_type": "stream",
     "text": [
      "Appending COL1A1...\n"
     ]
    },
    {
     "name": "stderr",
     "output_type": "stream",
     "text": [
      "/var/folders/kv/l0jzxgbj1kggff_kd35bfzkw0000gn/T/ipykernel_42080/1574832305.py:4: PerformanceWarning: DataFrame is highly fragmented.  This is usually the result of calling `frame.insert` many times, which has poor performance.  Consider joining all columns at once using pd.concat(axis=1) instead. To get a de-fragmented frame, use `newframe = frame.copy()`\n",
      "  mutations_all_protein.insert(current_max+i,\n"
     ]
    },
    {
     "name": "stdout",
     "output_type": "stream",
     "text": [
      "Appending COL4A1...\n"
     ]
    },
    {
     "name": "stderr",
     "output_type": "stream",
     "text": [
      "/var/folders/kv/l0jzxgbj1kggff_kd35bfzkw0000gn/T/ipykernel_42080/1574832305.py:4: PerformanceWarning: DataFrame is highly fragmented.  This is usually the result of calling `frame.insert` many times, which has poor performance.  Consider joining all columns at once using pd.concat(axis=1) instead. To get a de-fragmented frame, use `newframe = frame.copy()`\n",
      "  mutations_all_protein.insert(current_max+i,\n"
     ]
    },
    {
     "name": "stdout",
     "output_type": "stream",
     "text": [
      "Appending COPB2...\n"
     ]
    },
    {
     "name": "stderr",
     "output_type": "stream",
     "text": [
      "/var/folders/kv/l0jzxgbj1kggff_kd35bfzkw0000gn/T/ipykernel_42080/1574832305.py:4: PerformanceWarning: DataFrame is highly fragmented.  This is usually the result of calling `frame.insert` many times, which has poor performance.  Consider joining all columns at once using pd.concat(axis=1) instead. To get a de-fragmented frame, use `newframe = frame.copy()`\n",
      "  mutations_all_protein.insert(current_max+i,\n"
     ]
    },
    {
     "name": "stdout",
     "output_type": "stream",
     "text": [
      "Appending COPS7A...\n"
     ]
    },
    {
     "name": "stderr",
     "output_type": "stream",
     "text": [
      "/var/folders/kv/l0jzxgbj1kggff_kd35bfzkw0000gn/T/ipykernel_42080/1574832305.py:4: PerformanceWarning: DataFrame is highly fragmented.  This is usually the result of calling `frame.insert` many times, which has poor performance.  Consider joining all columns at once using pd.concat(axis=1) instead. To get a de-fragmented frame, use `newframe = frame.copy()`\n",
      "  mutations_all_protein.insert(current_max+i,\n"
     ]
    },
    {
     "name": "stdout",
     "output_type": "stream",
     "text": [
      "Appending COQ8A...\n"
     ]
    },
    {
     "name": "stderr",
     "output_type": "stream",
     "text": [
      "/var/folders/kv/l0jzxgbj1kggff_kd35bfzkw0000gn/T/ipykernel_42080/1574832305.py:4: PerformanceWarning: DataFrame is highly fragmented.  This is usually the result of calling `frame.insert` many times, which has poor performance.  Consider joining all columns at once using pd.concat(axis=1) instead. To get a de-fragmented frame, use `newframe = frame.copy()`\n",
      "  mutations_all_protein.insert(current_max+i,\n"
     ]
    },
    {
     "name": "stdout",
     "output_type": "stream",
     "text": [
      "Appending CORO1A...\n"
     ]
    },
    {
     "name": "stderr",
     "output_type": "stream",
     "text": [
      "/var/folders/kv/l0jzxgbj1kggff_kd35bfzkw0000gn/T/ipykernel_42080/1574832305.py:4: PerformanceWarning: DataFrame is highly fragmented.  This is usually the result of calling `frame.insert` many times, which has poor performance.  Consider joining all columns at once using pd.concat(axis=1) instead. To get a de-fragmented frame, use `newframe = frame.copy()`\n",
      "  mutations_all_protein.insert(current_max+i,\n"
     ]
    },
    {
     "name": "stdout",
     "output_type": "stream",
     "text": [
      "Appending CPNE3...\n"
     ]
    },
    {
     "name": "stderr",
     "output_type": "stream",
     "text": [
      "/var/folders/kv/l0jzxgbj1kggff_kd35bfzkw0000gn/T/ipykernel_42080/1574832305.py:4: PerformanceWarning: DataFrame is highly fragmented.  This is usually the result of calling `frame.insert` many times, which has poor performance.  Consider joining all columns at once using pd.concat(axis=1) instead. To get a de-fragmented frame, use `newframe = frame.copy()`\n",
      "  mutations_all_protein.insert(current_max+i,\n"
     ]
    },
    {
     "name": "stdout",
     "output_type": "stream",
     "text": [
      "Appending CPSF4...\n"
     ]
    },
    {
     "name": "stderr",
     "output_type": "stream",
     "text": [
      "/var/folders/kv/l0jzxgbj1kggff_kd35bfzkw0000gn/T/ipykernel_42080/1574832305.py:4: PerformanceWarning: DataFrame is highly fragmented.  This is usually the result of calling `frame.insert` many times, which has poor performance.  Consider joining all columns at once using pd.concat(axis=1) instead. To get a de-fragmented frame, use `newframe = frame.copy()`\n",
      "  mutations_all_protein.insert(current_max+i,\n"
     ]
    },
    {
     "name": "stdout",
     "output_type": "stream",
     "text": [
      "Appending CREB1...\n"
     ]
    },
    {
     "name": "stderr",
     "output_type": "stream",
     "text": [
      "/var/folders/kv/l0jzxgbj1kggff_kd35bfzkw0000gn/T/ipykernel_42080/1574832305.py:4: PerformanceWarning: DataFrame is highly fragmented.  This is usually the result of calling `frame.insert` many times, which has poor performance.  Consider joining all columns at once using pd.concat(axis=1) instead. To get a de-fragmented frame, use `newframe = frame.copy()`\n",
      "  mutations_all_protein.insert(current_max+i,\n"
     ]
    },
    {
     "name": "stdout",
     "output_type": "stream",
     "text": [
      "Appending CREG1...\n"
     ]
    },
    {
     "name": "stderr",
     "output_type": "stream",
     "text": [
      "/var/folders/kv/l0jzxgbj1kggff_kd35bfzkw0000gn/T/ipykernel_42080/1574832305.py:4: PerformanceWarning: DataFrame is highly fragmented.  This is usually the result of calling `frame.insert` many times, which has poor performance.  Consider joining all columns at once using pd.concat(axis=1) instead. To get a de-fragmented frame, use `newframe = frame.copy()`\n",
      "  mutations_all_protein.insert(current_max+i,\n"
     ]
    },
    {
     "name": "stdout",
     "output_type": "stream",
     "text": [
      "Appending CRELD2...\n"
     ]
    },
    {
     "name": "stderr",
     "output_type": "stream",
     "text": [
      "/var/folders/kv/l0jzxgbj1kggff_kd35bfzkw0000gn/T/ipykernel_42080/1574832305.py:4: PerformanceWarning: DataFrame is highly fragmented.  This is usually the result of calling `frame.insert` many times, which has poor performance.  Consider joining all columns at once using pd.concat(axis=1) instead. To get a de-fragmented frame, use `newframe = frame.copy()`\n",
      "  mutations_all_protein.insert(current_max+i,\n"
     ]
    },
    {
     "name": "stdout",
     "output_type": "stream",
     "text": [
      "Appending CRK...\n"
     ]
    },
    {
     "name": "stderr",
     "output_type": "stream",
     "text": [
      "/var/folders/kv/l0jzxgbj1kggff_kd35bfzkw0000gn/T/ipykernel_42080/1574832305.py:4: PerformanceWarning: DataFrame is highly fragmented.  This is usually the result of calling `frame.insert` many times, which has poor performance.  Consider joining all columns at once using pd.concat(axis=1) instead. To get a de-fragmented frame, use `newframe = frame.copy()`\n",
      "  mutations_all_protein.insert(current_max+i,\n"
     ]
    },
    {
     "name": "stdout",
     "output_type": "stream",
     "text": [
      "Appending CRKL...\n"
     ]
    },
    {
     "name": "stderr",
     "output_type": "stream",
     "text": [
      "/var/folders/kv/l0jzxgbj1kggff_kd35bfzkw0000gn/T/ipykernel_42080/1574832305.py:4: PerformanceWarning: DataFrame is highly fragmented.  This is usually the result of calling `frame.insert` many times, which has poor performance.  Consider joining all columns at once using pd.concat(axis=1) instead. To get a de-fragmented frame, use `newframe = frame.copy()`\n",
      "  mutations_all_protein.insert(current_max+i,\n"
     ]
    },
    {
     "name": "stdout",
     "output_type": "stream",
     "text": [
      "Appending CRTAP...\n"
     ]
    },
    {
     "name": "stderr",
     "output_type": "stream",
     "text": [
      "/var/folders/kv/l0jzxgbj1kggff_kd35bfzkw0000gn/T/ipykernel_42080/1574832305.py:4: PerformanceWarning: DataFrame is highly fragmented.  This is usually the result of calling `frame.insert` many times, which has poor performance.  Consider joining all columns at once using pd.concat(axis=1) instead. To get a de-fragmented frame, use `newframe = frame.copy()`\n",
      "  mutations_all_protein.insert(current_max+i,\n"
     ]
    },
    {
     "name": "stdout",
     "output_type": "stream",
     "text": [
      "Appending CRYZ...\n"
     ]
    },
    {
     "name": "stderr",
     "output_type": "stream",
     "text": [
      "/var/folders/kv/l0jzxgbj1kggff_kd35bfzkw0000gn/T/ipykernel_42080/1574832305.py:4: PerformanceWarning: DataFrame is highly fragmented.  This is usually the result of calling `frame.insert` many times, which has poor performance.  Consider joining all columns at once using pd.concat(axis=1) instead. To get a de-fragmented frame, use `newframe = frame.copy()`\n",
      "  mutations_all_protein.insert(current_max+i,\n"
     ]
    },
    {
     "name": "stdout",
     "output_type": "stream",
     "text": [
      "Appending CSK...\n"
     ]
    },
    {
     "name": "stderr",
     "output_type": "stream",
     "text": [
      "/var/folders/kv/l0jzxgbj1kggff_kd35bfzkw0000gn/T/ipykernel_42080/1574832305.py:4: PerformanceWarning: DataFrame is highly fragmented.  This is usually the result of calling `frame.insert` many times, which has poor performance.  Consider joining all columns at once using pd.concat(axis=1) instead. To get a de-fragmented frame, use `newframe = frame.copy()`\n",
      "  mutations_all_protein.insert(current_max+i,\n"
     ]
    },
    {
     "name": "stdout",
     "output_type": "stream",
     "text": [
      "Appending CSNK1A1...\n"
     ]
    },
    {
     "name": "stderr",
     "output_type": "stream",
     "text": [
      "/var/folders/kv/l0jzxgbj1kggff_kd35bfzkw0000gn/T/ipykernel_42080/1574832305.py:4: PerformanceWarning: DataFrame is highly fragmented.  This is usually the result of calling `frame.insert` many times, which has poor performance.  Consider joining all columns at once using pd.concat(axis=1) instead. To get a de-fragmented frame, use `newframe = frame.copy()`\n",
      "  mutations_all_protein.insert(current_max+i,\n"
     ]
    },
    {
     "name": "stdout",
     "output_type": "stream",
     "text": [
      "Appending CSNK1E...\n"
     ]
    },
    {
     "name": "stderr",
     "output_type": "stream",
     "text": [
      "/var/folders/kv/l0jzxgbj1kggff_kd35bfzkw0000gn/T/ipykernel_42080/1574832305.py:4: PerformanceWarning: DataFrame is highly fragmented.  This is usually the result of calling `frame.insert` many times, which has poor performance.  Consider joining all columns at once using pd.concat(axis=1) instead. To get a de-fragmented frame, use `newframe = frame.copy()`\n",
      "  mutations_all_protein.insert(current_max+i,\n"
     ]
    },
    {
     "name": "stdout",
     "output_type": "stream",
     "text": [
      "Appending CSNK2A2...\n"
     ]
    },
    {
     "name": "stderr",
     "output_type": "stream",
     "text": [
      "/var/folders/kv/l0jzxgbj1kggff_kd35bfzkw0000gn/T/ipykernel_42080/1574832305.py:4: PerformanceWarning: DataFrame is highly fragmented.  This is usually the result of calling `frame.insert` many times, which has poor performance.  Consider joining all columns at once using pd.concat(axis=1) instead. To get a de-fragmented frame, use `newframe = frame.copy()`\n",
      "  mutations_all_protein.insert(current_max+i,\n"
     ]
    },
    {
     "name": "stdout",
     "output_type": "stream",
     "text": [
      "Appending CSRP1...\n"
     ]
    },
    {
     "name": "stderr",
     "output_type": "stream",
     "text": [
      "/var/folders/kv/l0jzxgbj1kggff_kd35bfzkw0000gn/T/ipykernel_42080/1574832305.py:4: PerformanceWarning: DataFrame is highly fragmented.  This is usually the result of calling `frame.insert` many times, which has poor performance.  Consider joining all columns at once using pd.concat(axis=1) instead. To get a de-fragmented frame, use `newframe = frame.copy()`\n",
      "  mutations_all_protein.insert(current_max+i,\n"
     ]
    },
    {
     "name": "stdout",
     "output_type": "stream",
     "text": [
      "Appending CTNNAL1...\n"
     ]
    },
    {
     "name": "stderr",
     "output_type": "stream",
     "text": [
      "/var/folders/kv/l0jzxgbj1kggff_kd35bfzkw0000gn/T/ipykernel_42080/1574832305.py:4: PerformanceWarning: DataFrame is highly fragmented.  This is usually the result of calling `frame.insert` many times, which has poor performance.  Consider joining all columns at once using pd.concat(axis=1) instead. To get a de-fragmented frame, use `newframe = frame.copy()`\n",
      "  mutations_all_protein.insert(current_max+i,\n"
     ]
    },
    {
     "name": "stdout",
     "output_type": "stream",
     "text": [
      "Appending CTNND1...\n"
     ]
    },
    {
     "name": "stderr",
     "output_type": "stream",
     "text": [
      "/var/folders/kv/l0jzxgbj1kggff_kd35bfzkw0000gn/T/ipykernel_42080/1574832305.py:4: PerformanceWarning: DataFrame is highly fragmented.  This is usually the result of calling `frame.insert` many times, which has poor performance.  Consider joining all columns at once using pd.concat(axis=1) instead. To get a de-fragmented frame, use `newframe = frame.copy()`\n",
      "  mutations_all_protein.insert(current_max+i,\n"
     ]
    },
    {
     "name": "stdout",
     "output_type": "stream",
     "text": [
      "Appending CTSD...\n"
     ]
    },
    {
     "name": "stderr",
     "output_type": "stream",
     "text": [
      "/var/folders/kv/l0jzxgbj1kggff_kd35bfzkw0000gn/T/ipykernel_42080/1574832305.py:4: PerformanceWarning: DataFrame is highly fragmented.  This is usually the result of calling `frame.insert` many times, which has poor performance.  Consider joining all columns at once using pd.concat(axis=1) instead. To get a de-fragmented frame, use `newframe = frame.copy()`\n",
      "  mutations_all_protein.insert(current_max+i,\n"
     ]
    },
    {
     "name": "stdout",
     "output_type": "stream",
     "text": [
      "Appending CTSL...\n"
     ]
    },
    {
     "name": "stderr",
     "output_type": "stream",
     "text": [
      "/var/folders/kv/l0jzxgbj1kggff_kd35bfzkw0000gn/T/ipykernel_42080/1574832305.py:4: PerformanceWarning: DataFrame is highly fragmented.  This is usually the result of calling `frame.insert` many times, which has poor performance.  Consider joining all columns at once using pd.concat(axis=1) instead. To get a de-fragmented frame, use `newframe = frame.copy()`\n",
      "  mutations_all_protein.insert(current_max+i,\n"
     ]
    },
    {
     "name": "stdout",
     "output_type": "stream",
     "text": [
      "Appending CTTN...\n"
     ]
    },
    {
     "name": "stderr",
     "output_type": "stream",
     "text": [
      "/var/folders/kv/l0jzxgbj1kggff_kd35bfzkw0000gn/T/ipykernel_42080/1574832305.py:4: PerformanceWarning: DataFrame is highly fragmented.  This is usually the result of calling `frame.insert` many times, which has poor performance.  Consider joining all columns at once using pd.concat(axis=1) instead. To get a de-fragmented frame, use `newframe = frame.copy()`\n",
      "  mutations_all_protein.insert(current_max+i,\n"
     ]
    },
    {
     "name": "stdout",
     "output_type": "stream",
     "text": [
      "Appending CXCL2...\n"
     ]
    },
    {
     "name": "stderr",
     "output_type": "stream",
     "text": [
      "/var/folders/kv/l0jzxgbj1kggff_kd35bfzkw0000gn/T/ipykernel_42080/1574832305.py:4: PerformanceWarning: DataFrame is highly fragmented.  This is usually the result of calling `frame.insert` many times, which has poor performance.  Consider joining all columns at once using pd.concat(axis=1) instead. To get a de-fragmented frame, use `newframe = frame.copy()`\n",
      "  mutations_all_protein.insert(current_max+i,\n"
     ]
    },
    {
     "name": "stdout",
     "output_type": "stream",
     "text": [
      "Appending CXCR4...\n"
     ]
    },
    {
     "name": "stderr",
     "output_type": "stream",
     "text": [
      "/var/folders/kv/l0jzxgbj1kggff_kd35bfzkw0000gn/T/ipykernel_42080/1574832305.py:4: PerformanceWarning: DataFrame is highly fragmented.  This is usually the result of calling `frame.insert` many times, which has poor performance.  Consider joining all columns at once using pd.concat(axis=1) instead. To get a de-fragmented frame, use `newframe = frame.copy()`\n",
      "  mutations_all_protein.insert(current_max+i,\n"
     ]
    },
    {
     "name": "stdout",
     "output_type": "stream",
     "text": [
      "Appending CYB561...\n"
     ]
    },
    {
     "name": "stderr",
     "output_type": "stream",
     "text": [
      "/var/folders/kv/l0jzxgbj1kggff_kd35bfzkw0000gn/T/ipykernel_42080/1574832305.py:4: PerformanceWarning: DataFrame is highly fragmented.  This is usually the result of calling `frame.insert` many times, which has poor performance.  Consider joining all columns at once using pd.concat(axis=1) instead. To get a de-fragmented frame, use `newframe = frame.copy()`\n",
      "  mutations_all_protein.insert(current_max+i,\n"
     ]
    },
    {
     "name": "stdout",
     "output_type": "stream",
     "text": [
      "Appending CYCS...\n"
     ]
    },
    {
     "name": "stderr",
     "output_type": "stream",
     "text": [
      "/var/folders/kv/l0jzxgbj1kggff_kd35bfzkw0000gn/T/ipykernel_42080/1574832305.py:4: PerformanceWarning: DataFrame is highly fragmented.  This is usually the result of calling `frame.insert` many times, which has poor performance.  Consider joining all columns at once using pd.concat(axis=1) instead. To get a de-fragmented frame, use `newframe = frame.copy()`\n",
      "  mutations_all_protein.insert(current_max+i,\n"
     ]
    },
    {
     "name": "stdout",
     "output_type": "stream",
     "text": [
      "Appending CYTH1...\n"
     ]
    },
    {
     "name": "stderr",
     "output_type": "stream",
     "text": [
      "/var/folders/kv/l0jzxgbj1kggff_kd35bfzkw0000gn/T/ipykernel_42080/1574832305.py:4: PerformanceWarning: DataFrame is highly fragmented.  This is usually the result of calling `frame.insert` many times, which has poor performance.  Consider joining all columns at once using pd.concat(axis=1) instead. To get a de-fragmented frame, use `newframe = frame.copy()`\n",
      "  mutations_all_protein.insert(current_max+i,\n"
     ]
    },
    {
     "name": "stdout",
     "output_type": "stream",
     "text": [
      "Appending DAG1...\n"
     ]
    },
    {
     "name": "stderr",
     "output_type": "stream",
     "text": [
      "/var/folders/kv/l0jzxgbj1kggff_kd35bfzkw0000gn/T/ipykernel_42080/1574832305.py:4: PerformanceWarning: DataFrame is highly fragmented.  This is usually the result of calling `frame.insert` many times, which has poor performance.  Consider joining all columns at once using pd.concat(axis=1) instead. To get a de-fragmented frame, use `newframe = frame.copy()`\n",
      "  mutations_all_protein.insert(current_max+i,\n"
     ]
    },
    {
     "name": "stdout",
     "output_type": "stream",
     "text": [
      "Appending DAXX...\n"
     ]
    },
    {
     "name": "stderr",
     "output_type": "stream",
     "text": [
      "/var/folders/kv/l0jzxgbj1kggff_kd35bfzkw0000gn/T/ipykernel_42080/1574832305.py:4: PerformanceWarning: DataFrame is highly fragmented.  This is usually the result of calling `frame.insert` many times, which has poor performance.  Consider joining all columns at once using pd.concat(axis=1) instead. To get a de-fragmented frame, use `newframe = frame.copy()`\n",
      "  mutations_all_protein.insert(current_max+i,\n"
     ]
    },
    {
     "name": "stdout",
     "output_type": "stream",
     "text": [
      "Appending DCK...\n"
     ]
    },
    {
     "name": "stderr",
     "output_type": "stream",
     "text": [
      "/var/folders/kv/l0jzxgbj1kggff_kd35bfzkw0000gn/T/ipykernel_42080/1574832305.py:4: PerformanceWarning: DataFrame is highly fragmented.  This is usually the result of calling `frame.insert` many times, which has poor performance.  Consider joining all columns at once using pd.concat(axis=1) instead. To get a de-fragmented frame, use `newframe = frame.copy()`\n",
      "  mutations_all_protein.insert(current_max+i,\n"
     ]
    },
    {
     "name": "stdout",
     "output_type": "stream",
     "text": [
      "Appending DCTD...\n"
     ]
    },
    {
     "name": "stderr",
     "output_type": "stream",
     "text": [
      "/var/folders/kv/l0jzxgbj1kggff_kd35bfzkw0000gn/T/ipykernel_42080/1574832305.py:4: PerformanceWarning: DataFrame is highly fragmented.  This is usually the result of calling `frame.insert` many times, which has poor performance.  Consider joining all columns at once using pd.concat(axis=1) instead. To get a de-fragmented frame, use `newframe = frame.copy()`\n",
      "  mutations_all_protein.insert(current_max+i,\n"
     ]
    },
    {
     "name": "stdout",
     "output_type": "stream",
     "text": [
      "Appending DCUN1D4...\n"
     ]
    },
    {
     "name": "stderr",
     "output_type": "stream",
     "text": [
      "/var/folders/kv/l0jzxgbj1kggff_kd35bfzkw0000gn/T/ipykernel_42080/1574832305.py:4: PerformanceWarning: DataFrame is highly fragmented.  This is usually the result of calling `frame.insert` many times, which has poor performance.  Consider joining all columns at once using pd.concat(axis=1) instead. To get a de-fragmented frame, use `newframe = frame.copy()`\n",
      "  mutations_all_protein.insert(current_max+i,\n"
     ]
    },
    {
     "name": "stdout",
     "output_type": "stream",
     "text": [
      "Appending DDB2...\n"
     ]
    },
    {
     "name": "stderr",
     "output_type": "stream",
     "text": [
      "/var/folders/kv/l0jzxgbj1kggff_kd35bfzkw0000gn/T/ipykernel_42080/1574832305.py:4: PerformanceWarning: DataFrame is highly fragmented.  This is usually the result of calling `frame.insert` many times, which has poor performance.  Consider joining all columns at once using pd.concat(axis=1) instead. To get a de-fragmented frame, use `newframe = frame.copy()`\n",
      "  mutations_all_protein.insert(current_max+i,\n"
     ]
    },
    {
     "name": "stdout",
     "output_type": "stream",
     "text": [
      "Appending DDIT4...\n"
     ]
    },
    {
     "name": "stderr",
     "output_type": "stream",
     "text": [
      "/var/folders/kv/l0jzxgbj1kggff_kd35bfzkw0000gn/T/ipykernel_42080/1574832305.py:4: PerformanceWarning: DataFrame is highly fragmented.  This is usually the result of calling `frame.insert` many times, which has poor performance.  Consider joining all columns at once using pd.concat(axis=1) instead. To get a de-fragmented frame, use `newframe = frame.copy()`\n",
      "  mutations_all_protein.insert(current_max+i,\n"
     ]
    },
    {
     "name": "stdout",
     "output_type": "stream",
     "text": [
      "Appending DDR1...\n"
     ]
    },
    {
     "name": "stderr",
     "output_type": "stream",
     "text": [
      "/var/folders/kv/l0jzxgbj1kggff_kd35bfzkw0000gn/T/ipykernel_42080/1574832305.py:4: PerformanceWarning: DataFrame is highly fragmented.  This is usually the result of calling `frame.insert` many times, which has poor performance.  Consider joining all columns at once using pd.concat(axis=1) instead. To get a de-fragmented frame, use `newframe = frame.copy()`\n",
      "  mutations_all_protein.insert(current_max+i,\n"
     ]
    },
    {
     "name": "stdout",
     "output_type": "stream",
     "text": [
      "Appending DDX10...\n"
     ]
    },
    {
     "name": "stderr",
     "output_type": "stream",
     "text": [
      "/var/folders/kv/l0jzxgbj1kggff_kd35bfzkw0000gn/T/ipykernel_42080/1574832305.py:4: PerformanceWarning: DataFrame is highly fragmented.  This is usually the result of calling `frame.insert` many times, which has poor performance.  Consider joining all columns at once using pd.concat(axis=1) instead. To get a de-fragmented frame, use `newframe = frame.copy()`\n",
      "  mutations_all_protein.insert(current_max+i,\n"
     ]
    },
    {
     "name": "stdout",
     "output_type": "stream",
     "text": [
      "Appending DDX42...\n"
     ]
    },
    {
     "name": "stderr",
     "output_type": "stream",
     "text": [
      "/var/folders/kv/l0jzxgbj1kggff_kd35bfzkw0000gn/T/ipykernel_42080/1574832305.py:4: PerformanceWarning: DataFrame is highly fragmented.  This is usually the result of calling `frame.insert` many times, which has poor performance.  Consider joining all columns at once using pd.concat(axis=1) instead. To get a de-fragmented frame, use `newframe = frame.copy()`\n",
      "  mutations_all_protein.insert(current_max+i,\n"
     ]
    },
    {
     "name": "stdout",
     "output_type": "stream",
     "text": [
      "Appending DECR1...\n"
     ]
    },
    {
     "name": "stderr",
     "output_type": "stream",
     "text": [
      "/var/folders/kv/l0jzxgbj1kggff_kd35bfzkw0000gn/T/ipykernel_42080/1574832305.py:4: PerformanceWarning: DataFrame is highly fragmented.  This is usually the result of calling `frame.insert` many times, which has poor performance.  Consider joining all columns at once using pd.concat(axis=1) instead. To get a de-fragmented frame, use `newframe = frame.copy()`\n",
      "  mutations_all_protein.insert(current_max+i,\n"
     ]
    },
    {
     "name": "stdout",
     "output_type": "stream",
     "text": [
      "Appending DENND2D...\n"
     ]
    },
    {
     "name": "stderr",
     "output_type": "stream",
     "text": [
      "/var/folders/kv/l0jzxgbj1kggff_kd35bfzkw0000gn/T/ipykernel_42080/1574832305.py:4: PerformanceWarning: DataFrame is highly fragmented.  This is usually the result of calling `frame.insert` many times, which has poor performance.  Consider joining all columns at once using pd.concat(axis=1) instead. To get a de-fragmented frame, use `newframe = frame.copy()`\n",
      "  mutations_all_protein.insert(current_max+i,\n"
     ]
    },
    {
     "name": "stdout",
     "output_type": "stream",
     "text": [
      "Appending DERA...\n"
     ]
    },
    {
     "name": "stderr",
     "output_type": "stream",
     "text": [
      "/var/folders/kv/l0jzxgbj1kggff_kd35bfzkw0000gn/T/ipykernel_42080/1574832305.py:4: PerformanceWarning: DataFrame is highly fragmented.  This is usually the result of calling `frame.insert` many times, which has poor performance.  Consider joining all columns at once using pd.concat(axis=1) instead. To get a de-fragmented frame, use `newframe = frame.copy()`\n",
      "  mutations_all_protein.insert(current_max+i,\n"
     ]
    },
    {
     "name": "stdout",
     "output_type": "stream",
     "text": [
      "Appending DFFA...\n"
     ]
    },
    {
     "name": "stderr",
     "output_type": "stream",
     "text": [
      "/var/folders/kv/l0jzxgbj1kggff_kd35bfzkw0000gn/T/ipykernel_42080/1574832305.py:4: PerformanceWarning: DataFrame is highly fragmented.  This is usually the result of calling `frame.insert` many times, which has poor performance.  Consider joining all columns at once using pd.concat(axis=1) instead. To get a de-fragmented frame, use `newframe = frame.copy()`\n",
      "  mutations_all_protein.insert(current_max+i,\n"
     ]
    },
    {
     "name": "stdout",
     "output_type": "stream",
     "text": [
      "Appending DFFB...\n"
     ]
    },
    {
     "name": "stderr",
     "output_type": "stream",
     "text": [
      "/var/folders/kv/l0jzxgbj1kggff_kd35bfzkw0000gn/T/ipykernel_42080/1574832305.py:4: PerformanceWarning: DataFrame is highly fragmented.  This is usually the result of calling `frame.insert` many times, which has poor performance.  Consider joining all columns at once using pd.concat(axis=1) instead. To get a de-fragmented frame, use `newframe = frame.copy()`\n",
      "  mutations_all_protein.insert(current_max+i,\n"
     ]
    },
    {
     "name": "stdout",
     "output_type": "stream",
     "text": [
      "Appending DHDDS...\n"
     ]
    },
    {
     "name": "stderr",
     "output_type": "stream",
     "text": [
      "/var/folders/kv/l0jzxgbj1kggff_kd35bfzkw0000gn/T/ipykernel_42080/1574832305.py:4: PerformanceWarning: DataFrame is highly fragmented.  This is usually the result of calling `frame.insert` many times, which has poor performance.  Consider joining all columns at once using pd.concat(axis=1) instead. To get a de-fragmented frame, use `newframe = frame.copy()`\n",
      "  mutations_all_protein.insert(current_max+i,\n"
     ]
    },
    {
     "name": "stdout",
     "output_type": "stream",
     "text": [
      "Appending DHRS7...\n"
     ]
    },
    {
     "name": "stderr",
     "output_type": "stream",
     "text": [
      "/var/folders/kv/l0jzxgbj1kggff_kd35bfzkw0000gn/T/ipykernel_42080/1574832305.py:4: PerformanceWarning: DataFrame is highly fragmented.  This is usually the result of calling `frame.insert` many times, which has poor performance.  Consider joining all columns at once using pd.concat(axis=1) instead. To get a de-fragmented frame, use `newframe = frame.copy()`\n",
      "  mutations_all_protein.insert(current_max+i,\n"
     ]
    },
    {
     "name": "stdout",
     "output_type": "stream",
     "text": [
      "Appending DHX29...\n"
     ]
    },
    {
     "name": "stderr",
     "output_type": "stream",
     "text": [
      "/var/folders/kv/l0jzxgbj1kggff_kd35bfzkw0000gn/T/ipykernel_42080/1574832305.py:4: PerformanceWarning: DataFrame is highly fragmented.  This is usually the result of calling `frame.insert` many times, which has poor performance.  Consider joining all columns at once using pd.concat(axis=1) instead. To get a de-fragmented frame, use `newframe = frame.copy()`\n",
      "  mutations_all_protein.insert(current_max+i,\n"
     ]
    },
    {
     "name": "stdout",
     "output_type": "stream",
     "text": [
      "Appending DLD...\n"
     ]
    },
    {
     "name": "stderr",
     "output_type": "stream",
     "text": [
      "/var/folders/kv/l0jzxgbj1kggff_kd35bfzkw0000gn/T/ipykernel_42080/1574832305.py:4: PerformanceWarning: DataFrame is highly fragmented.  This is usually the result of calling `frame.insert` many times, which has poor performance.  Consider joining all columns at once using pd.concat(axis=1) instead. To get a de-fragmented frame, use `newframe = frame.copy()`\n",
      "  mutations_all_protein.insert(current_max+i,\n"
     ]
    },
    {
     "name": "stdout",
     "output_type": "stream",
     "text": [
      "Appending DMTF1...\n"
     ]
    },
    {
     "name": "stderr",
     "output_type": "stream",
     "text": [
      "/var/folders/kv/l0jzxgbj1kggff_kd35bfzkw0000gn/T/ipykernel_42080/1574832305.py:4: PerformanceWarning: DataFrame is highly fragmented.  This is usually the result of calling `frame.insert` many times, which has poor performance.  Consider joining all columns at once using pd.concat(axis=1) instead. To get a de-fragmented frame, use `newframe = frame.copy()`\n",
      "  mutations_all_protein.insert(current_max+i,\n"
     ]
    },
    {
     "name": "stdout",
     "output_type": "stream",
     "text": [
      "Appending DNAJA3...\n"
     ]
    },
    {
     "name": "stderr",
     "output_type": "stream",
     "text": [
      "/var/folders/kv/l0jzxgbj1kggff_kd35bfzkw0000gn/T/ipykernel_42080/1574832305.py:4: PerformanceWarning: DataFrame is highly fragmented.  This is usually the result of calling `frame.insert` many times, which has poor performance.  Consider joining all columns at once using pd.concat(axis=1) instead. To get a de-fragmented frame, use `newframe = frame.copy()`\n",
      "  mutations_all_protein.insert(current_max+i,\n"
     ]
    },
    {
     "name": "stdout",
     "output_type": "stream",
     "text": [
      "Appending DNAJB1...\n"
     ]
    },
    {
     "name": "stderr",
     "output_type": "stream",
     "text": [
      "/var/folders/kv/l0jzxgbj1kggff_kd35bfzkw0000gn/T/ipykernel_42080/1574832305.py:4: PerformanceWarning: DataFrame is highly fragmented.  This is usually the result of calling `frame.insert` many times, which has poor performance.  Consider joining all columns at once using pd.concat(axis=1) instead. To get a de-fragmented frame, use `newframe = frame.copy()`\n",
      "  mutations_all_protein.insert(current_max+i,\n"
     ]
    },
    {
     "name": "stdout",
     "output_type": "stream",
     "text": [
      "Appending DNAJB2...\n"
     ]
    },
    {
     "name": "stderr",
     "output_type": "stream",
     "text": [
      "/var/folders/kv/l0jzxgbj1kggff_kd35bfzkw0000gn/T/ipykernel_42080/1574832305.py:4: PerformanceWarning: DataFrame is highly fragmented.  This is usually the result of calling `frame.insert` many times, which has poor performance.  Consider joining all columns at once using pd.concat(axis=1) instead. To get a de-fragmented frame, use `newframe = frame.copy()`\n",
      "  mutations_all_protein.insert(current_max+i,\n"
     ]
    },
    {
     "name": "stdout",
     "output_type": "stream",
     "text": [
      "Appending DNAJB6...\n"
     ]
    },
    {
     "name": "stderr",
     "output_type": "stream",
     "text": [
      "/var/folders/kv/l0jzxgbj1kggff_kd35bfzkw0000gn/T/ipykernel_42080/1574832305.py:4: PerformanceWarning: DataFrame is highly fragmented.  This is usually the result of calling `frame.insert` many times, which has poor performance.  Consider joining all columns at once using pd.concat(axis=1) instead. To get a de-fragmented frame, use `newframe = frame.copy()`\n",
      "  mutations_all_protein.insert(current_max+i,\n"
     ]
    },
    {
     "name": "stdout",
     "output_type": "stream",
     "text": [
      "Appending DNAJC15...\n"
     ]
    },
    {
     "name": "stderr",
     "output_type": "stream",
     "text": [
      "/var/folders/kv/l0jzxgbj1kggff_kd35bfzkw0000gn/T/ipykernel_42080/1574832305.py:4: PerformanceWarning: DataFrame is highly fragmented.  This is usually the result of calling `frame.insert` many times, which has poor performance.  Consider joining all columns at once using pd.concat(axis=1) instead. To get a de-fragmented frame, use `newframe = frame.copy()`\n",
      "  mutations_all_protein.insert(current_max+i,\n"
     ]
    },
    {
     "name": "stdout",
     "output_type": "stream",
     "text": [
      "Appending DNM1...\n"
     ]
    },
    {
     "name": "stderr",
     "output_type": "stream",
     "text": [
      "/var/folders/kv/l0jzxgbj1kggff_kd35bfzkw0000gn/T/ipykernel_42080/1574832305.py:4: PerformanceWarning: DataFrame is highly fragmented.  This is usually the result of calling `frame.insert` many times, which has poor performance.  Consider joining all columns at once using pd.concat(axis=1) instead. To get a de-fragmented frame, use `newframe = frame.copy()`\n",
      "  mutations_all_protein.insert(current_max+i,\n"
     ]
    },
    {
     "name": "stdout",
     "output_type": "stream",
     "text": [
      "Appending DNM1L...\n"
     ]
    },
    {
     "name": "stderr",
     "output_type": "stream",
     "text": [
      "/var/folders/kv/l0jzxgbj1kggff_kd35bfzkw0000gn/T/ipykernel_42080/1574832305.py:4: PerformanceWarning: DataFrame is highly fragmented.  This is usually the result of calling `frame.insert` many times, which has poor performance.  Consider joining all columns at once using pd.concat(axis=1) instead. To get a de-fragmented frame, use `newframe = frame.copy()`\n",
      "  mutations_all_protein.insert(current_max+i,\n"
     ]
    },
    {
     "name": "stdout",
     "output_type": "stream",
     "text": [
      "Appending DNMT1...\n"
     ]
    },
    {
     "name": "stderr",
     "output_type": "stream",
     "text": [
      "/var/folders/kv/l0jzxgbj1kggff_kd35bfzkw0000gn/T/ipykernel_42080/1574832305.py:4: PerformanceWarning: DataFrame is highly fragmented.  This is usually the result of calling `frame.insert` many times, which has poor performance.  Consider joining all columns at once using pd.concat(axis=1) instead. To get a de-fragmented frame, use `newframe = frame.copy()`\n",
      "  mutations_all_protein.insert(current_max+i,\n"
     ]
    },
    {
     "name": "stdout",
     "output_type": "stream",
     "text": [
      "Appending DNMT3A...\n"
     ]
    },
    {
     "name": "stderr",
     "output_type": "stream",
     "text": [
      "/var/folders/kv/l0jzxgbj1kggff_kd35bfzkw0000gn/T/ipykernel_42080/1574832305.py:4: PerformanceWarning: DataFrame is highly fragmented.  This is usually the result of calling `frame.insert` many times, which has poor performance.  Consider joining all columns at once using pd.concat(axis=1) instead. To get a de-fragmented frame, use `newframe = frame.copy()`\n",
      "  mutations_all_protein.insert(current_max+i,\n"
     ]
    },
    {
     "name": "stdout",
     "output_type": "stream",
     "text": [
      "Appending DNTTIP2...\n"
     ]
    },
    {
     "name": "stderr",
     "output_type": "stream",
     "text": [
      "/var/folders/kv/l0jzxgbj1kggff_kd35bfzkw0000gn/T/ipykernel_42080/1574832305.py:4: PerformanceWarning: DataFrame is highly fragmented.  This is usually the result of calling `frame.insert` many times, which has poor performance.  Consider joining all columns at once using pd.concat(axis=1) instead. To get a de-fragmented frame, use `newframe = frame.copy()`\n",
      "  mutations_all_protein.insert(current_max+i,\n"
     ]
    },
    {
     "name": "stdout",
     "output_type": "stream",
     "text": [
      "Appending DPH2...\n"
     ]
    },
    {
     "name": "stderr",
     "output_type": "stream",
     "text": [
      "/var/folders/kv/l0jzxgbj1kggff_kd35bfzkw0000gn/T/ipykernel_42080/1574832305.py:4: PerformanceWarning: DataFrame is highly fragmented.  This is usually the result of calling `frame.insert` many times, which has poor performance.  Consider joining all columns at once using pd.concat(axis=1) instead. To get a de-fragmented frame, use `newframe = frame.copy()`\n",
      "  mutations_all_protein.insert(current_max+i,\n"
     ]
    },
    {
     "name": "stdout",
     "output_type": "stream",
     "text": [
      "Appending DRAP1...\n"
     ]
    },
    {
     "name": "stderr",
     "output_type": "stream",
     "text": [
      "/var/folders/kv/l0jzxgbj1kggff_kd35bfzkw0000gn/T/ipykernel_42080/1574832305.py:4: PerformanceWarning: DataFrame is highly fragmented.  This is usually the result of calling `frame.insert` many times, which has poor performance.  Consider joining all columns at once using pd.concat(axis=1) instead. To get a de-fragmented frame, use `newframe = frame.copy()`\n",
      "  mutations_all_protein.insert(current_max+i,\n"
     ]
    },
    {
     "name": "stdout",
     "output_type": "stream",
     "text": [
      "Appending DSG2...\n"
     ]
    },
    {
     "name": "stderr",
     "output_type": "stream",
     "text": [
      "/var/folders/kv/l0jzxgbj1kggff_kd35bfzkw0000gn/T/ipykernel_42080/1574832305.py:4: PerformanceWarning: DataFrame is highly fragmented.  This is usually the result of calling `frame.insert` many times, which has poor performance.  Consider joining all columns at once using pd.concat(axis=1) instead. To get a de-fragmented frame, use `newframe = frame.copy()`\n",
      "  mutations_all_protein.insert(current_max+i,\n"
     ]
    },
    {
     "name": "stdout",
     "output_type": "stream",
     "text": [
      "Appending DUSP11...\n"
     ]
    },
    {
     "name": "stderr",
     "output_type": "stream",
     "text": [
      "/var/folders/kv/l0jzxgbj1kggff_kd35bfzkw0000gn/T/ipykernel_42080/1574832305.py:4: PerformanceWarning: DataFrame is highly fragmented.  This is usually the result of calling `frame.insert` many times, which has poor performance.  Consider joining all columns at once using pd.concat(axis=1) instead. To get a de-fragmented frame, use `newframe = frame.copy()`\n",
      "  mutations_all_protein.insert(current_max+i,\n"
     ]
    },
    {
     "name": "stdout",
     "output_type": "stream",
     "text": [
      "Appending DUSP14...\n"
     ]
    },
    {
     "name": "stderr",
     "output_type": "stream",
     "text": [
      "/var/folders/kv/l0jzxgbj1kggff_kd35bfzkw0000gn/T/ipykernel_42080/1574832305.py:4: PerformanceWarning: DataFrame is highly fragmented.  This is usually the result of calling `frame.insert` many times, which has poor performance.  Consider joining all columns at once using pd.concat(axis=1) instead. To get a de-fragmented frame, use `newframe = frame.copy()`\n",
      "  mutations_all_protein.insert(current_max+i,\n"
     ]
    },
    {
     "name": "stdout",
     "output_type": "stream",
     "text": [
      "Appending DUSP22...\n"
     ]
    },
    {
     "name": "stderr",
     "output_type": "stream",
     "text": [
      "/var/folders/kv/l0jzxgbj1kggff_kd35bfzkw0000gn/T/ipykernel_42080/1574832305.py:4: PerformanceWarning: DataFrame is highly fragmented.  This is usually the result of calling `frame.insert` many times, which has poor performance.  Consider joining all columns at once using pd.concat(axis=1) instead. To get a de-fragmented frame, use `newframe = frame.copy()`\n",
      "  mutations_all_protein.insert(current_max+i,\n"
     ]
    },
    {
     "name": "stdout",
     "output_type": "stream",
     "text": [
      "Appending DUSP3...\n"
     ]
    },
    {
     "name": "stderr",
     "output_type": "stream",
     "text": [
      "/var/folders/kv/l0jzxgbj1kggff_kd35bfzkw0000gn/T/ipykernel_42080/1574832305.py:4: PerformanceWarning: DataFrame is highly fragmented.  This is usually the result of calling `frame.insert` many times, which has poor performance.  Consider joining all columns at once using pd.concat(axis=1) instead. To get a de-fragmented frame, use `newframe = frame.copy()`\n",
      "  mutations_all_protein.insert(current_max+i,\n"
     ]
    },
    {
     "name": "stdout",
     "output_type": "stream",
     "text": [
      "Appending DUSP4...\n"
     ]
    },
    {
     "name": "stderr",
     "output_type": "stream",
     "text": [
      "/var/folders/kv/l0jzxgbj1kggff_kd35bfzkw0000gn/T/ipykernel_42080/1574832305.py:4: PerformanceWarning: DataFrame is highly fragmented.  This is usually the result of calling `frame.insert` many times, which has poor performance.  Consider joining all columns at once using pd.concat(axis=1) instead. To get a de-fragmented frame, use `newframe = frame.copy()`\n",
      "  mutations_all_protein.insert(current_max+i,\n"
     ]
    },
    {
     "name": "stdout",
     "output_type": "stream",
     "text": [
      "Appending DUSP6...\n"
     ]
    },
    {
     "name": "stderr",
     "output_type": "stream",
     "text": [
      "/var/folders/kv/l0jzxgbj1kggff_kd35bfzkw0000gn/T/ipykernel_42080/1574832305.py:4: PerformanceWarning: DataFrame is highly fragmented.  This is usually the result of calling `frame.insert` many times, which has poor performance.  Consider joining all columns at once using pd.concat(axis=1) instead. To get a de-fragmented frame, use `newframe = frame.copy()`\n",
      "  mutations_all_protein.insert(current_max+i,\n"
     ]
    },
    {
     "name": "stdout",
     "output_type": "stream",
     "text": [
      "Appending DYNLT3...\n"
     ]
    },
    {
     "name": "stderr",
     "output_type": "stream",
     "text": [
      "/var/folders/kv/l0jzxgbj1kggff_kd35bfzkw0000gn/T/ipykernel_42080/1574832305.py:4: PerformanceWarning: DataFrame is highly fragmented.  This is usually the result of calling `frame.insert` many times, which has poor performance.  Consider joining all columns at once using pd.concat(axis=1) instead. To get a de-fragmented frame, use `newframe = frame.copy()`\n",
      "  mutations_all_protein.insert(current_max+i,\n"
     ]
    },
    {
     "name": "stdout",
     "output_type": "stream",
     "text": [
      "Appending DYRK3...\n"
     ]
    },
    {
     "name": "stderr",
     "output_type": "stream",
     "text": [
      "/var/folders/kv/l0jzxgbj1kggff_kd35bfzkw0000gn/T/ipykernel_42080/1574832305.py:4: PerformanceWarning: DataFrame is highly fragmented.  This is usually the result of calling `frame.insert` many times, which has poor performance.  Consider joining all columns at once using pd.concat(axis=1) instead. To get a de-fragmented frame, use `newframe = frame.copy()`\n",
      "  mutations_all_protein.insert(current_max+i,\n"
     ]
    },
    {
     "name": "stdout",
     "output_type": "stream",
     "text": [
      "Appending E2F2...\n"
     ]
    },
    {
     "name": "stderr",
     "output_type": "stream",
     "text": [
      "/var/folders/kv/l0jzxgbj1kggff_kd35bfzkw0000gn/T/ipykernel_42080/1574832305.py:4: PerformanceWarning: DataFrame is highly fragmented.  This is usually the result of calling `frame.insert` many times, which has poor performance.  Consider joining all columns at once using pd.concat(axis=1) instead. To get a de-fragmented frame, use `newframe = frame.copy()`\n",
      "  mutations_all_protein.insert(current_max+i,\n"
     ]
    },
    {
     "name": "stdout",
     "output_type": "stream",
     "text": [
      "Appending EAPP...\n"
     ]
    },
    {
     "name": "stderr",
     "output_type": "stream",
     "text": [
      "/var/folders/kv/l0jzxgbj1kggff_kd35bfzkw0000gn/T/ipykernel_42080/1574832305.py:4: PerformanceWarning: DataFrame is highly fragmented.  This is usually the result of calling `frame.insert` many times, which has poor performance.  Consider joining all columns at once using pd.concat(axis=1) instead. To get a de-fragmented frame, use `newframe = frame.copy()`\n",
      "  mutations_all_protein.insert(current_max+i,\n"
     ]
    },
    {
     "name": "stdout",
     "output_type": "stream",
     "text": [
      "Appending EBNA1BP2...\n"
     ]
    },
    {
     "name": "stderr",
     "output_type": "stream",
     "text": [
      "/var/folders/kv/l0jzxgbj1kggff_kd35bfzkw0000gn/T/ipykernel_42080/1574832305.py:4: PerformanceWarning: DataFrame is highly fragmented.  This is usually the result of calling `frame.insert` many times, which has poor performance.  Consider joining all columns at once using pd.concat(axis=1) instead. To get a de-fragmented frame, use `newframe = frame.copy()`\n",
      "  mutations_all_protein.insert(current_max+i,\n"
     ]
    },
    {
     "name": "stdout",
     "output_type": "stream",
     "text": [
      "Appending EBP...\n"
     ]
    },
    {
     "name": "stderr",
     "output_type": "stream",
     "text": [
      "/var/folders/kv/l0jzxgbj1kggff_kd35bfzkw0000gn/T/ipykernel_42080/1574832305.py:4: PerformanceWarning: DataFrame is highly fragmented.  This is usually the result of calling `frame.insert` many times, which has poor performance.  Consider joining all columns at once using pd.concat(axis=1) instead. To get a de-fragmented frame, use `newframe = frame.copy()`\n",
      "  mutations_all_protein.insert(current_max+i,\n"
     ]
    },
    {
     "name": "stdout",
     "output_type": "stream",
     "text": [
      "Appending ECD...\n"
     ]
    },
    {
     "name": "stderr",
     "output_type": "stream",
     "text": [
      "/var/folders/kv/l0jzxgbj1kggff_kd35bfzkw0000gn/T/ipykernel_42080/1574832305.py:4: PerformanceWarning: DataFrame is highly fragmented.  This is usually the result of calling `frame.insert` many times, which has poor performance.  Consider joining all columns at once using pd.concat(axis=1) instead. To get a de-fragmented frame, use `newframe = frame.copy()`\n",
      "  mutations_all_protein.insert(current_max+i,\n"
     ]
    },
    {
     "name": "stdout",
     "output_type": "stream",
     "text": [
      "Appending ECH1...\n"
     ]
    },
    {
     "name": "stderr",
     "output_type": "stream",
     "text": [
      "/var/folders/kv/l0jzxgbj1kggff_kd35bfzkw0000gn/T/ipykernel_42080/1574832305.py:4: PerformanceWarning: DataFrame is highly fragmented.  This is usually the result of calling `frame.insert` many times, which has poor performance.  Consider joining all columns at once using pd.concat(axis=1) instead. To get a de-fragmented frame, use `newframe = frame.copy()`\n",
      "  mutations_all_protein.insert(current_max+i,\n"
     ]
    },
    {
     "name": "stdout",
     "output_type": "stream",
     "text": [
      "Appending EDEM1...\n"
     ]
    },
    {
     "name": "stderr",
     "output_type": "stream",
     "text": [
      "/var/folders/kv/l0jzxgbj1kggff_kd35bfzkw0000gn/T/ipykernel_42080/1574832305.py:4: PerformanceWarning: DataFrame is highly fragmented.  This is usually the result of calling `frame.insert` many times, which has poor performance.  Consider joining all columns at once using pd.concat(axis=1) instead. To get a de-fragmented frame, use `newframe = frame.copy()`\n",
      "  mutations_all_protein.insert(current_max+i,\n"
     ]
    },
    {
     "name": "stdout",
     "output_type": "stream",
     "text": [
      "Appending EDN1...\n"
     ]
    },
    {
     "name": "stderr",
     "output_type": "stream",
     "text": [
      "/var/folders/kv/l0jzxgbj1kggff_kd35bfzkw0000gn/T/ipykernel_42080/1574832305.py:4: PerformanceWarning: DataFrame is highly fragmented.  This is usually the result of calling `frame.insert` many times, which has poor performance.  Consider joining all columns at once using pd.concat(axis=1) instead. To get a de-fragmented frame, use `newframe = frame.copy()`\n",
      "  mutations_all_protein.insert(current_max+i,\n"
     ]
    },
    {
     "name": "stdout",
     "output_type": "stream",
     "text": [
      "Appending EED...\n"
     ]
    },
    {
     "name": "stderr",
     "output_type": "stream",
     "text": [
      "/var/folders/kv/l0jzxgbj1kggff_kd35bfzkw0000gn/T/ipykernel_42080/1574832305.py:4: PerformanceWarning: DataFrame is highly fragmented.  This is usually the result of calling `frame.insert` many times, which has poor performance.  Consider joining all columns at once using pd.concat(axis=1) instead. To get a de-fragmented frame, use `newframe = frame.copy()`\n",
      "  mutations_all_protein.insert(current_max+i,\n"
     ]
    },
    {
     "name": "stdout",
     "output_type": "stream",
     "text": [
      "Appending EFCAB14...\n"
     ]
    },
    {
     "name": "stderr",
     "output_type": "stream",
     "text": [
      "/var/folders/kv/l0jzxgbj1kggff_kd35bfzkw0000gn/T/ipykernel_42080/1574832305.py:4: PerformanceWarning: DataFrame is highly fragmented.  This is usually the result of calling `frame.insert` many times, which has poor performance.  Consider joining all columns at once using pd.concat(axis=1) instead. To get a de-fragmented frame, use `newframe = frame.copy()`\n",
      "  mutations_all_protein.insert(current_max+i,\n"
     ]
    },
    {
     "name": "stdout",
     "output_type": "stream",
     "text": [
      "Appending EGF...\n"
     ]
    },
    {
     "name": "stderr",
     "output_type": "stream",
     "text": [
      "/var/folders/kv/l0jzxgbj1kggff_kd35bfzkw0000gn/T/ipykernel_42080/1574832305.py:4: PerformanceWarning: DataFrame is highly fragmented.  This is usually the result of calling `frame.insert` many times, which has poor performance.  Consider joining all columns at once using pd.concat(axis=1) instead. To get a de-fragmented frame, use `newframe = frame.copy()`\n",
      "  mutations_all_protein.insert(current_max+i,\n"
     ]
    },
    {
     "name": "stdout",
     "output_type": "stream",
     "text": [
      "Appending EGFR...\n"
     ]
    },
    {
     "name": "stderr",
     "output_type": "stream",
     "text": [
      "/var/folders/kv/l0jzxgbj1kggff_kd35bfzkw0000gn/T/ipykernel_42080/1574832305.py:4: PerformanceWarning: DataFrame is highly fragmented.  This is usually the result of calling `frame.insert` many times, which has poor performance.  Consider joining all columns at once using pd.concat(axis=1) instead. To get a de-fragmented frame, use `newframe = frame.copy()`\n",
      "  mutations_all_protein.insert(current_max+i,\n"
     ]
    },
    {
     "name": "stdout",
     "output_type": "stream",
     "text": [
      "Appending EGR1...\n"
     ]
    },
    {
     "name": "stderr",
     "output_type": "stream",
     "text": [
      "/var/folders/kv/l0jzxgbj1kggff_kd35bfzkw0000gn/T/ipykernel_42080/1574832305.py:4: PerformanceWarning: DataFrame is highly fragmented.  This is usually the result of calling `frame.insert` many times, which has poor performance.  Consider joining all columns at once using pd.concat(axis=1) instead. To get a de-fragmented frame, use `newframe = frame.copy()`\n",
      "  mutations_all_protein.insert(current_max+i,\n"
     ]
    },
    {
     "name": "stdout",
     "output_type": "stream",
     "text": [
      "Appending EIF4EBP1...\n"
     ]
    },
    {
     "name": "stderr",
     "output_type": "stream",
     "text": [
      "/var/folders/kv/l0jzxgbj1kggff_kd35bfzkw0000gn/T/ipykernel_42080/1574832305.py:4: PerformanceWarning: DataFrame is highly fragmented.  This is usually the result of calling `frame.insert` many times, which has poor performance.  Consider joining all columns at once using pd.concat(axis=1) instead. To get a de-fragmented frame, use `newframe = frame.copy()`\n",
      "  mutations_all_protein.insert(current_max+i,\n"
     ]
    },
    {
     "name": "stdout",
     "output_type": "stream",
     "text": [
      "Appending EIF4G1...\n"
     ]
    },
    {
     "name": "stderr",
     "output_type": "stream",
     "text": [
      "/var/folders/kv/l0jzxgbj1kggff_kd35bfzkw0000gn/T/ipykernel_42080/1574832305.py:4: PerformanceWarning: DataFrame is highly fragmented.  This is usually the result of calling `frame.insert` many times, which has poor performance.  Consider joining all columns at once using pd.concat(axis=1) instead. To get a de-fragmented frame, use `newframe = frame.copy()`\n",
      "  mutations_all_protein.insert(current_max+i,\n"
     ]
    },
    {
     "name": "stdout",
     "output_type": "stream",
     "text": [
      "Appending EIF5...\n"
     ]
    },
    {
     "name": "stderr",
     "output_type": "stream",
     "text": [
      "/var/folders/kv/l0jzxgbj1kggff_kd35bfzkw0000gn/T/ipykernel_42080/1574832305.py:4: PerformanceWarning: DataFrame is highly fragmented.  This is usually the result of calling `frame.insert` many times, which has poor performance.  Consider joining all columns at once using pd.concat(axis=1) instead. To get a de-fragmented frame, use `newframe = frame.copy()`\n",
      "  mutations_all_protein.insert(current_max+i,\n"
     ]
    },
    {
     "name": "stdout",
     "output_type": "stream",
     "text": [
      "Appending ELAC2...\n"
     ]
    },
    {
     "name": "stderr",
     "output_type": "stream",
     "text": [
      "/var/folders/kv/l0jzxgbj1kggff_kd35bfzkw0000gn/T/ipykernel_42080/1574832305.py:4: PerformanceWarning: DataFrame is highly fragmented.  This is usually the result of calling `frame.insert` many times, which has poor performance.  Consider joining all columns at once using pd.concat(axis=1) instead. To get a de-fragmented frame, use `newframe = frame.copy()`\n",
      "  mutations_all_protein.insert(current_max+i,\n"
     ]
    },
    {
     "name": "stdout",
     "output_type": "stream",
     "text": [
      "Appending ELAVL1...\n"
     ]
    },
    {
     "name": "stderr",
     "output_type": "stream",
     "text": [
      "/var/folders/kv/l0jzxgbj1kggff_kd35bfzkw0000gn/T/ipykernel_42080/1574832305.py:4: PerformanceWarning: DataFrame is highly fragmented.  This is usually the result of calling `frame.insert` many times, which has poor performance.  Consider joining all columns at once using pd.concat(axis=1) instead. To get a de-fragmented frame, use `newframe = frame.copy()`\n",
      "  mutations_all_protein.insert(current_max+i,\n"
     ]
    },
    {
     "name": "stdout",
     "output_type": "stream",
     "text": [
      "Appending ELOVL6...\n"
     ]
    },
    {
     "name": "stderr",
     "output_type": "stream",
     "text": [
      "/var/folders/kv/l0jzxgbj1kggff_kd35bfzkw0000gn/T/ipykernel_42080/1574832305.py:4: PerformanceWarning: DataFrame is highly fragmented.  This is usually the result of calling `frame.insert` many times, which has poor performance.  Consider joining all columns at once using pd.concat(axis=1) instead. To get a de-fragmented frame, use `newframe = frame.copy()`\n",
      "  mutations_all_protein.insert(current_max+i,\n"
     ]
    },
    {
     "name": "stdout",
     "output_type": "stream",
     "text": [
      "Appending EML3...\n"
     ]
    },
    {
     "name": "stderr",
     "output_type": "stream",
     "text": [
      "/var/folders/kv/l0jzxgbj1kggff_kd35bfzkw0000gn/T/ipykernel_42080/1574832305.py:4: PerformanceWarning: DataFrame is highly fragmented.  This is usually the result of calling `frame.insert` many times, which has poor performance.  Consider joining all columns at once using pd.concat(axis=1) instead. To get a de-fragmented frame, use `newframe = frame.copy()`\n",
      "  mutations_all_protein.insert(current_max+i,\n"
     ]
    },
    {
     "name": "stdout",
     "output_type": "stream",
     "text": [
      "Appending ENOPH1...\n"
     ]
    },
    {
     "name": "stderr",
     "output_type": "stream",
     "text": [
      "/var/folders/kv/l0jzxgbj1kggff_kd35bfzkw0000gn/T/ipykernel_42080/1574832305.py:4: PerformanceWarning: DataFrame is highly fragmented.  This is usually the result of calling `frame.insert` many times, which has poor performance.  Consider joining all columns at once using pd.concat(axis=1) instead. To get a de-fragmented frame, use `newframe = frame.copy()`\n",
      "  mutations_all_protein.insert(current_max+i,\n"
     ]
    },
    {
     "name": "stdout",
     "output_type": "stream",
     "text": [
      "Appending ENOSF1...\n"
     ]
    },
    {
     "name": "stderr",
     "output_type": "stream",
     "text": [
      "/var/folders/kv/l0jzxgbj1kggff_kd35bfzkw0000gn/T/ipykernel_42080/1574832305.py:4: PerformanceWarning: DataFrame is highly fragmented.  This is usually the result of calling `frame.insert` many times, which has poor performance.  Consider joining all columns at once using pd.concat(axis=1) instead. To get a de-fragmented frame, use `newframe = frame.copy()`\n",
      "  mutations_all_protein.insert(current_max+i,\n"
     ]
    },
    {
     "name": "stdout",
     "output_type": "stream",
     "text": [
      "Appending EPB41L2...\n"
     ]
    },
    {
     "name": "stderr",
     "output_type": "stream",
     "text": [
      "/var/folders/kv/l0jzxgbj1kggff_kd35bfzkw0000gn/T/ipykernel_42080/1574832305.py:4: PerformanceWarning: DataFrame is highly fragmented.  This is usually the result of calling `frame.insert` many times, which has poor performance.  Consider joining all columns at once using pd.concat(axis=1) instead. To get a de-fragmented frame, use `newframe = frame.copy()`\n",
      "  mutations_all_protein.insert(current_max+i,\n"
     ]
    },
    {
     "name": "stdout",
     "output_type": "stream",
     "text": [
      "Appending EPHA3...\n"
     ]
    },
    {
     "name": "stderr",
     "output_type": "stream",
     "text": [
      "/var/folders/kv/l0jzxgbj1kggff_kd35bfzkw0000gn/T/ipykernel_42080/1574832305.py:4: PerformanceWarning: DataFrame is highly fragmented.  This is usually the result of calling `frame.insert` many times, which has poor performance.  Consider joining all columns at once using pd.concat(axis=1) instead. To get a de-fragmented frame, use `newframe = frame.copy()`\n",
      "  mutations_all_protein.insert(current_max+i,\n"
     ]
    },
    {
     "name": "stdout",
     "output_type": "stream",
     "text": [
      "Appending EPHB2...\n"
     ]
    },
    {
     "name": "stderr",
     "output_type": "stream",
     "text": [
      "/var/folders/kv/l0jzxgbj1kggff_kd35bfzkw0000gn/T/ipykernel_42080/1574832305.py:4: PerformanceWarning: DataFrame is highly fragmented.  This is usually the result of calling `frame.insert` many times, which has poor performance.  Consider joining all columns at once using pd.concat(axis=1) instead. To get a de-fragmented frame, use `newframe = frame.copy()`\n",
      "  mutations_all_protein.insert(current_max+i,\n"
     ]
    },
    {
     "name": "stdout",
     "output_type": "stream",
     "text": [
      "Appending EPN2...\n"
     ]
    },
    {
     "name": "stderr",
     "output_type": "stream",
     "text": [
      "/var/folders/kv/l0jzxgbj1kggff_kd35bfzkw0000gn/T/ipykernel_42080/1574832305.py:4: PerformanceWarning: DataFrame is highly fragmented.  This is usually the result of calling `frame.insert` many times, which has poor performance.  Consider joining all columns at once using pd.concat(axis=1) instead. To get a de-fragmented frame, use `newframe = frame.copy()`\n",
      "  mutations_all_protein.insert(current_max+i,\n"
     ]
    },
    {
     "name": "stdout",
     "output_type": "stream",
     "text": [
      "Appending ERBB2...\n"
     ]
    },
    {
     "name": "stderr",
     "output_type": "stream",
     "text": [
      "/var/folders/kv/l0jzxgbj1kggff_kd35bfzkw0000gn/T/ipykernel_42080/1574832305.py:4: PerformanceWarning: DataFrame is highly fragmented.  This is usually the result of calling `frame.insert` many times, which has poor performance.  Consider joining all columns at once using pd.concat(axis=1) instead. To get a de-fragmented frame, use `newframe = frame.copy()`\n",
      "  mutations_all_protein.insert(current_max+i,\n"
     ]
    },
    {
     "name": "stdout",
     "output_type": "stream",
     "text": [
      "Appending ERBB3...\n"
     ]
    },
    {
     "name": "stderr",
     "output_type": "stream",
     "text": [
      "/var/folders/kv/l0jzxgbj1kggff_kd35bfzkw0000gn/T/ipykernel_42080/1574832305.py:4: PerformanceWarning: DataFrame is highly fragmented.  This is usually the result of calling `frame.insert` many times, which has poor performance.  Consider joining all columns at once using pd.concat(axis=1) instead. To get a de-fragmented frame, use `newframe = frame.copy()`\n",
      "  mutations_all_protein.insert(current_max+i,\n"
     ]
    },
    {
     "name": "stdout",
     "output_type": "stream",
     "text": [
      "Appending ERO1A...\n"
     ]
    },
    {
     "name": "stderr",
     "output_type": "stream",
     "text": [
      "/var/folders/kv/l0jzxgbj1kggff_kd35bfzkw0000gn/T/ipykernel_42080/1574832305.py:4: PerformanceWarning: DataFrame is highly fragmented.  This is usually the result of calling `frame.insert` many times, which has poor performance.  Consider joining all columns at once using pd.concat(axis=1) instead. To get a de-fragmented frame, use `newframe = frame.copy()`\n",
      "  mutations_all_protein.insert(current_max+i,\n"
     ]
    },
    {
     "name": "stdout",
     "output_type": "stream",
     "text": [
      "Appending ETFB...\n"
     ]
    },
    {
     "name": "stderr",
     "output_type": "stream",
     "text": [
      "/var/folders/kv/l0jzxgbj1kggff_kd35bfzkw0000gn/T/ipykernel_42080/1574832305.py:4: PerformanceWarning: DataFrame is highly fragmented.  This is usually the result of calling `frame.insert` many times, which has poor performance.  Consider joining all columns at once using pd.concat(axis=1) instead. To get a de-fragmented frame, use `newframe = frame.copy()`\n",
      "  mutations_all_protein.insert(current_max+i,\n"
     ]
    },
    {
     "name": "stdout",
     "output_type": "stream",
     "text": [
      "Appending ETS1...\n"
     ]
    },
    {
     "name": "stderr",
     "output_type": "stream",
     "text": [
      "/var/folders/kv/l0jzxgbj1kggff_kd35bfzkw0000gn/T/ipykernel_42080/1574832305.py:4: PerformanceWarning: DataFrame is highly fragmented.  This is usually the result of calling `frame.insert` many times, which has poor performance.  Consider joining all columns at once using pd.concat(axis=1) instead. To get a de-fragmented frame, use `newframe = frame.copy()`\n",
      "  mutations_all_protein.insert(current_max+i,\n"
     ]
    },
    {
     "name": "stdout",
     "output_type": "stream",
     "text": [
      "Appending ETV1...\n"
     ]
    },
    {
     "name": "stderr",
     "output_type": "stream",
     "text": [
      "/var/folders/kv/l0jzxgbj1kggff_kd35bfzkw0000gn/T/ipykernel_42080/1574832305.py:4: PerformanceWarning: DataFrame is highly fragmented.  This is usually the result of calling `frame.insert` many times, which has poor performance.  Consider joining all columns at once using pd.concat(axis=1) instead. To get a de-fragmented frame, use `newframe = frame.copy()`\n",
      "  mutations_all_protein.insert(current_max+i,\n"
     ]
    },
    {
     "name": "stdout",
     "output_type": "stream",
     "text": [
      "Appending EVL...\n"
     ]
    },
    {
     "name": "stderr",
     "output_type": "stream",
     "text": [
      "/var/folders/kv/l0jzxgbj1kggff_kd35bfzkw0000gn/T/ipykernel_42080/1574832305.py:4: PerformanceWarning: DataFrame is highly fragmented.  This is usually the result of calling `frame.insert` many times, which has poor performance.  Consider joining all columns at once using pd.concat(axis=1) instead. To get a de-fragmented frame, use `newframe = frame.copy()`\n",
      "  mutations_all_protein.insert(current_max+i,\n"
     ]
    },
    {
     "name": "stdout",
     "output_type": "stream",
     "text": [
      "Appending EXOSC4...\n"
     ]
    },
    {
     "name": "stderr",
     "output_type": "stream",
     "text": [
      "/var/folders/kv/l0jzxgbj1kggff_kd35bfzkw0000gn/T/ipykernel_42080/1574832305.py:4: PerformanceWarning: DataFrame is highly fragmented.  This is usually the result of calling `frame.insert` many times, which has poor performance.  Consider joining all columns at once using pd.concat(axis=1) instead. To get a de-fragmented frame, use `newframe = frame.copy()`\n",
      "  mutations_all_protein.insert(current_max+i,\n"
     ]
    },
    {
     "name": "stdout",
     "output_type": "stream",
     "text": [
      "Appending EXT1...\n"
     ]
    },
    {
     "name": "stderr",
     "output_type": "stream",
     "text": [
      "/var/folders/kv/l0jzxgbj1kggff_kd35bfzkw0000gn/T/ipykernel_42080/1574832305.py:4: PerformanceWarning: DataFrame is highly fragmented.  This is usually the result of calling `frame.insert` many times, which has poor performance.  Consider joining all columns at once using pd.concat(axis=1) instead. To get a de-fragmented frame, use `newframe = frame.copy()`\n",
      "  mutations_all_protein.insert(current_max+i,\n"
     ]
    },
    {
     "name": "stdout",
     "output_type": "stream",
     "text": [
      "Appending EZH2...\n"
     ]
    },
    {
     "name": "stderr",
     "output_type": "stream",
     "text": [
      "/var/folders/kv/l0jzxgbj1kggff_kd35bfzkw0000gn/T/ipykernel_42080/1574832305.py:4: PerformanceWarning: DataFrame is highly fragmented.  This is usually the result of calling `frame.insert` many times, which has poor performance.  Consider joining all columns at once using pd.concat(axis=1) instead. To get a de-fragmented frame, use `newframe = frame.copy()`\n",
      "  mutations_all_protein.insert(current_max+i,\n"
     ]
    },
    {
     "name": "stdout",
     "output_type": "stream",
     "text": [
      "Appending FAH...\n"
     ]
    },
    {
     "name": "stderr",
     "output_type": "stream",
     "text": [
      "/var/folders/kv/l0jzxgbj1kggff_kd35bfzkw0000gn/T/ipykernel_42080/1574832305.py:4: PerformanceWarning: DataFrame is highly fragmented.  This is usually the result of calling `frame.insert` many times, which has poor performance.  Consider joining all columns at once using pd.concat(axis=1) instead. To get a de-fragmented frame, use `newframe = frame.copy()`\n",
      "  mutations_all_protein.insert(current_max+i,\n"
     ]
    },
    {
     "name": "stdout",
     "output_type": "stream",
     "text": [
      "Appending FAIM...\n"
     ]
    },
    {
     "name": "stderr",
     "output_type": "stream",
     "text": [
      "/var/folders/kv/l0jzxgbj1kggff_kd35bfzkw0000gn/T/ipykernel_42080/1574832305.py:4: PerformanceWarning: DataFrame is highly fragmented.  This is usually the result of calling `frame.insert` many times, which has poor performance.  Consider joining all columns at once using pd.concat(axis=1) instead. To get a de-fragmented frame, use `newframe = frame.copy()`\n",
      "  mutations_all_protein.insert(current_max+i,\n"
     ]
    },
    {
     "name": "stdout",
     "output_type": "stream",
     "text": [
      "Appending FAM20B...\n"
     ]
    },
    {
     "name": "stderr",
     "output_type": "stream",
     "text": [
      "/var/folders/kv/l0jzxgbj1kggff_kd35bfzkw0000gn/T/ipykernel_42080/1574832305.py:4: PerformanceWarning: DataFrame is highly fragmented.  This is usually the result of calling `frame.insert` many times, which has poor performance.  Consider joining all columns at once using pd.concat(axis=1) instead. To get a de-fragmented frame, use `newframe = frame.copy()`\n",
      "  mutations_all_protein.insert(current_max+i,\n"
     ]
    },
    {
     "name": "stdout",
     "output_type": "stream",
     "text": [
      "Appending FAS...\n"
     ]
    },
    {
     "name": "stderr",
     "output_type": "stream",
     "text": [
      "/var/folders/kv/l0jzxgbj1kggff_kd35bfzkw0000gn/T/ipykernel_42080/1574832305.py:4: PerformanceWarning: DataFrame is highly fragmented.  This is usually the result of calling `frame.insert` many times, which has poor performance.  Consider joining all columns at once using pd.concat(axis=1) instead. To get a de-fragmented frame, use `newframe = frame.copy()`\n",
      "  mutations_all_protein.insert(current_max+i,\n"
     ]
    },
    {
     "name": "stdout",
     "output_type": "stream",
     "text": [
      "Appending FASTKD5...\n"
     ]
    },
    {
     "name": "stderr",
     "output_type": "stream",
     "text": [
      "/var/folders/kv/l0jzxgbj1kggff_kd35bfzkw0000gn/T/ipykernel_42080/1574832305.py:4: PerformanceWarning: DataFrame is highly fragmented.  This is usually the result of calling `frame.insert` many times, which has poor performance.  Consider joining all columns at once using pd.concat(axis=1) instead. To get a de-fragmented frame, use `newframe = frame.copy()`\n",
      "  mutations_all_protein.insert(current_max+i,\n"
     ]
    },
    {
     "name": "stdout",
     "output_type": "stream",
     "text": [
      "Appending FAT1...\n"
     ]
    },
    {
     "name": "stderr",
     "output_type": "stream",
     "text": [
      "/var/folders/kv/l0jzxgbj1kggff_kd35bfzkw0000gn/T/ipykernel_42080/1574832305.py:4: PerformanceWarning: DataFrame is highly fragmented.  This is usually the result of calling `frame.insert` many times, which has poor performance.  Consider joining all columns at once using pd.concat(axis=1) instead. To get a de-fragmented frame, use `newframe = frame.copy()`\n",
      "  mutations_all_protein.insert(current_max+i,\n"
     ]
    },
    {
     "name": "stdout",
     "output_type": "stream",
     "text": [
      "Appending FBXL12...\n"
     ]
    },
    {
     "name": "stderr",
     "output_type": "stream",
     "text": [
      "/var/folders/kv/l0jzxgbj1kggff_kd35bfzkw0000gn/T/ipykernel_42080/1574832305.py:4: PerformanceWarning: DataFrame is highly fragmented.  This is usually the result of calling `frame.insert` many times, which has poor performance.  Consider joining all columns at once using pd.concat(axis=1) instead. To get a de-fragmented frame, use `newframe = frame.copy()`\n",
      "  mutations_all_protein.insert(current_max+i,\n"
     ]
    },
    {
     "name": "stdout",
     "output_type": "stream",
     "text": [
      "Appending FBXO11...\n"
     ]
    },
    {
     "name": "stderr",
     "output_type": "stream",
     "text": [
      "/var/folders/kv/l0jzxgbj1kggff_kd35bfzkw0000gn/T/ipykernel_42080/1574832305.py:4: PerformanceWarning: DataFrame is highly fragmented.  This is usually the result of calling `frame.insert` many times, which has poor performance.  Consider joining all columns at once using pd.concat(axis=1) instead. To get a de-fragmented frame, use `newframe = frame.copy()`\n",
      "  mutations_all_protein.insert(current_max+i,\n"
     ]
    },
    {
     "name": "stdout",
     "output_type": "stream",
     "text": [
      "Appending FBXO21...\n"
     ]
    },
    {
     "name": "stderr",
     "output_type": "stream",
     "text": [
      "/var/folders/kv/l0jzxgbj1kggff_kd35bfzkw0000gn/T/ipykernel_42080/1574832305.py:4: PerformanceWarning: DataFrame is highly fragmented.  This is usually the result of calling `frame.insert` many times, which has poor performance.  Consider joining all columns at once using pd.concat(axis=1) instead. To get a de-fragmented frame, use `newframe = frame.copy()`\n",
      "  mutations_all_protein.insert(current_max+i,\n"
     ]
    },
    {
     "name": "stdout",
     "output_type": "stream",
     "text": [
      "Appending FBXO7...\n"
     ]
    },
    {
     "name": "stderr",
     "output_type": "stream",
     "text": [
      "/var/folders/kv/l0jzxgbj1kggff_kd35bfzkw0000gn/T/ipykernel_42080/1574832305.py:4: PerformanceWarning: DataFrame is highly fragmented.  This is usually the result of calling `frame.insert` many times, which has poor performance.  Consider joining all columns at once using pd.concat(axis=1) instead. To get a de-fragmented frame, use `newframe = frame.copy()`\n",
      "  mutations_all_protein.insert(current_max+i,\n"
     ]
    },
    {
     "name": "stdout",
     "output_type": "stream",
     "text": [
      "Appending FCHO1...\n"
     ]
    },
    {
     "name": "stderr",
     "output_type": "stream",
     "text": [
      "/var/folders/kv/l0jzxgbj1kggff_kd35bfzkw0000gn/T/ipykernel_42080/1574832305.py:4: PerformanceWarning: DataFrame is highly fragmented.  This is usually the result of calling `frame.insert` many times, which has poor performance.  Consider joining all columns at once using pd.concat(axis=1) instead. To get a de-fragmented frame, use `newframe = frame.copy()`\n",
      "  mutations_all_protein.insert(current_max+i,\n"
     ]
    },
    {
     "name": "stdout",
     "output_type": "stream",
     "text": [
      "Appending FDFT1...\n"
     ]
    },
    {
     "name": "stderr",
     "output_type": "stream",
     "text": [
      "/var/folders/kv/l0jzxgbj1kggff_kd35bfzkw0000gn/T/ipykernel_42080/1574832305.py:4: PerformanceWarning: DataFrame is highly fragmented.  This is usually the result of calling `frame.insert` many times, which has poor performance.  Consider joining all columns at once using pd.concat(axis=1) instead. To get a de-fragmented frame, use `newframe = frame.copy()`\n",
      "  mutations_all_protein.insert(current_max+i,\n"
     ]
    },
    {
     "name": "stdout",
     "output_type": "stream",
     "text": [
      "Appending FEZ2...\n"
     ]
    },
    {
     "name": "stderr",
     "output_type": "stream",
     "text": [
      "/var/folders/kv/l0jzxgbj1kggff_kd35bfzkw0000gn/T/ipykernel_42080/1574832305.py:4: PerformanceWarning: DataFrame is highly fragmented.  This is usually the result of calling `frame.insert` many times, which has poor performance.  Consider joining all columns at once using pd.concat(axis=1) instead. To get a de-fragmented frame, use `newframe = frame.copy()`\n",
      "  mutations_all_protein.insert(current_max+i,\n"
     ]
    },
    {
     "name": "stdout",
     "output_type": "stream",
     "text": [
      "Appending FGFR2...\n"
     ]
    },
    {
     "name": "stderr",
     "output_type": "stream",
     "text": [
      "/var/folders/kv/l0jzxgbj1kggff_kd35bfzkw0000gn/T/ipykernel_42080/1574832305.py:4: PerformanceWarning: DataFrame is highly fragmented.  This is usually the result of calling `frame.insert` many times, which has poor performance.  Consider joining all columns at once using pd.concat(axis=1) instead. To get a de-fragmented frame, use `newframe = frame.copy()`\n",
      "  mutations_all_protein.insert(current_max+i,\n"
     ]
    },
    {
     "name": "stdout",
     "output_type": "stream",
     "text": [
      "Appending FGFR4...\n"
     ]
    },
    {
     "name": "stderr",
     "output_type": "stream",
     "text": [
      "/var/folders/kv/l0jzxgbj1kggff_kd35bfzkw0000gn/T/ipykernel_42080/1574832305.py:4: PerformanceWarning: DataFrame is highly fragmented.  This is usually the result of calling `frame.insert` many times, which has poor performance.  Consider joining all columns at once using pd.concat(axis=1) instead. To get a de-fragmented frame, use `newframe = frame.copy()`\n",
      "  mutations_all_protein.insert(current_max+i,\n"
     ]
    },
    {
     "name": "stdout",
     "output_type": "stream",
     "text": [
      "Appending FHL2...\n"
     ]
    },
    {
     "name": "stderr",
     "output_type": "stream",
     "text": [
      "/var/folders/kv/l0jzxgbj1kggff_kd35bfzkw0000gn/T/ipykernel_42080/1574832305.py:4: PerformanceWarning: DataFrame is highly fragmented.  This is usually the result of calling `frame.insert` many times, which has poor performance.  Consider joining all columns at once using pd.concat(axis=1) instead. To get a de-fragmented frame, use `newframe = frame.copy()`\n",
      "  mutations_all_protein.insert(current_max+i,\n"
     ]
    },
    {
     "name": "stdout",
     "output_type": "stream",
     "text": [
      "Appending FIS1...\n"
     ]
    },
    {
     "name": "stderr",
     "output_type": "stream",
     "text": [
      "/var/folders/kv/l0jzxgbj1kggff_kd35bfzkw0000gn/T/ipykernel_42080/1574832305.py:4: PerformanceWarning: DataFrame is highly fragmented.  This is usually the result of calling `frame.insert` many times, which has poor performance.  Consider joining all columns at once using pd.concat(axis=1) instead. To get a de-fragmented frame, use `newframe = frame.copy()`\n",
      "  mutations_all_protein.insert(current_max+i,\n"
     ]
    },
    {
     "name": "stdout",
     "output_type": "stream",
     "text": [
      "Appending FKBP14...\n"
     ]
    },
    {
     "name": "stderr",
     "output_type": "stream",
     "text": [
      "/var/folders/kv/l0jzxgbj1kggff_kd35bfzkw0000gn/T/ipykernel_42080/1574832305.py:4: PerformanceWarning: DataFrame is highly fragmented.  This is usually the result of calling `frame.insert` many times, which has poor performance.  Consider joining all columns at once using pd.concat(axis=1) instead. To get a de-fragmented frame, use `newframe = frame.copy()`\n",
      "  mutations_all_protein.insert(current_max+i,\n"
     ]
    },
    {
     "name": "stdout",
     "output_type": "stream",
     "text": [
      "Appending FKBP4...\n"
     ]
    },
    {
     "name": "stderr",
     "output_type": "stream",
     "text": [
      "/var/folders/kv/l0jzxgbj1kggff_kd35bfzkw0000gn/T/ipykernel_42080/1574832305.py:4: PerformanceWarning: DataFrame is highly fragmented.  This is usually the result of calling `frame.insert` many times, which has poor performance.  Consider joining all columns at once using pd.concat(axis=1) instead. To get a de-fragmented frame, use `newframe = frame.copy()`\n",
      "  mutations_all_protein.insert(current_max+i,\n"
     ]
    },
    {
     "name": "stdout",
     "output_type": "stream",
     "text": [
      "Appending FOS...\n"
     ]
    },
    {
     "name": "stderr",
     "output_type": "stream",
     "text": [
      "/var/folders/kv/l0jzxgbj1kggff_kd35bfzkw0000gn/T/ipykernel_42080/1574832305.py:4: PerformanceWarning: DataFrame is highly fragmented.  This is usually the result of calling `frame.insert` many times, which has poor performance.  Consider joining all columns at once using pd.concat(axis=1) instead. To get a de-fragmented frame, use `newframe = frame.copy()`\n",
      "  mutations_all_protein.insert(current_max+i,\n"
     ]
    },
    {
     "name": "stdout",
     "output_type": "stream",
     "text": [
      "Appending FOSL1...\n"
     ]
    },
    {
     "name": "stderr",
     "output_type": "stream",
     "text": [
      "/var/folders/kv/l0jzxgbj1kggff_kd35bfzkw0000gn/T/ipykernel_42080/1574832305.py:4: PerformanceWarning: DataFrame is highly fragmented.  This is usually the result of calling `frame.insert` many times, which has poor performance.  Consider joining all columns at once using pd.concat(axis=1) instead. To get a de-fragmented frame, use `newframe = frame.copy()`\n",
      "  mutations_all_protein.insert(current_max+i,\n"
     ]
    },
    {
     "name": "stdout",
     "output_type": "stream",
     "text": [
      "Appending FOXJ3...\n"
     ]
    },
    {
     "name": "stderr",
     "output_type": "stream",
     "text": [
      "/var/folders/kv/l0jzxgbj1kggff_kd35bfzkw0000gn/T/ipykernel_42080/1574832305.py:4: PerformanceWarning: DataFrame is highly fragmented.  This is usually the result of calling `frame.insert` many times, which has poor performance.  Consider joining all columns at once using pd.concat(axis=1) instead. To get a de-fragmented frame, use `newframe = frame.copy()`\n",
      "  mutations_all_protein.insert(current_max+i,\n"
     ]
    },
    {
     "name": "stdout",
     "output_type": "stream",
     "text": [
      "Appending FOXO3...\n"
     ]
    },
    {
     "name": "stderr",
     "output_type": "stream",
     "text": [
      "/var/folders/kv/l0jzxgbj1kggff_kd35bfzkw0000gn/T/ipykernel_42080/1574832305.py:4: PerformanceWarning: DataFrame is highly fragmented.  This is usually the result of calling `frame.insert` many times, which has poor performance.  Consider joining all columns at once using pd.concat(axis=1) instead. To get a de-fragmented frame, use `newframe = frame.copy()`\n",
      "  mutations_all_protein.insert(current_max+i,\n"
     ]
    },
    {
     "name": "stdout",
     "output_type": "stream",
     "text": [
      "Appending FOXO4...\n"
     ]
    },
    {
     "name": "stderr",
     "output_type": "stream",
     "text": [
      "/var/folders/kv/l0jzxgbj1kggff_kd35bfzkw0000gn/T/ipykernel_42080/1574832305.py:4: PerformanceWarning: DataFrame is highly fragmented.  This is usually the result of calling `frame.insert` many times, which has poor performance.  Consider joining all columns at once using pd.concat(axis=1) instead. To get a de-fragmented frame, use `newframe = frame.copy()`\n",
      "  mutations_all_protein.insert(current_max+i,\n"
     ]
    },
    {
     "name": "stdout",
     "output_type": "stream",
     "text": [
      "Appending FPGS...\n"
     ]
    },
    {
     "name": "stderr",
     "output_type": "stream",
     "text": [
      "/var/folders/kv/l0jzxgbj1kggff_kd35bfzkw0000gn/T/ipykernel_42080/1574832305.py:4: PerformanceWarning: DataFrame is highly fragmented.  This is usually the result of calling `frame.insert` many times, which has poor performance.  Consider joining all columns at once using pd.concat(axis=1) instead. To get a de-fragmented frame, use `newframe = frame.copy()`\n",
      "  mutations_all_protein.insert(current_max+i,\n"
     ]
    },
    {
     "name": "stdout",
     "output_type": "stream",
     "text": [
      "Appending FRS2...\n"
     ]
    },
    {
     "name": "stderr",
     "output_type": "stream",
     "text": [
      "/var/folders/kv/l0jzxgbj1kggff_kd35bfzkw0000gn/T/ipykernel_42080/1574832305.py:4: PerformanceWarning: DataFrame is highly fragmented.  This is usually the result of calling `frame.insert` many times, which has poor performance.  Consider joining all columns at once using pd.concat(axis=1) instead. To get a de-fragmented frame, use `newframe = frame.copy()`\n",
      "  mutations_all_protein.insert(current_max+i,\n"
     ]
    },
    {
     "name": "stdout",
     "output_type": "stream",
     "text": [
      "Appending FSD1...\n"
     ]
    },
    {
     "name": "stderr",
     "output_type": "stream",
     "text": [
      "/var/folders/kv/l0jzxgbj1kggff_kd35bfzkw0000gn/T/ipykernel_42080/1574832305.py:4: PerformanceWarning: DataFrame is highly fragmented.  This is usually the result of calling `frame.insert` many times, which has poor performance.  Consider joining all columns at once using pd.concat(axis=1) instead. To get a de-fragmented frame, use `newframe = frame.copy()`\n",
      "  mutations_all_protein.insert(current_max+i,\n"
     ]
    },
    {
     "name": "stdout",
     "output_type": "stream",
     "text": [
      "Appending FUT1...\n"
     ]
    },
    {
     "name": "stderr",
     "output_type": "stream",
     "text": [
      "/var/folders/kv/l0jzxgbj1kggff_kd35bfzkw0000gn/T/ipykernel_42080/1574832305.py:4: PerformanceWarning: DataFrame is highly fragmented.  This is usually the result of calling `frame.insert` many times, which has poor performance.  Consider joining all columns at once using pd.concat(axis=1) instead. To get a de-fragmented frame, use `newframe = frame.copy()`\n",
      "  mutations_all_protein.insert(current_max+i,\n"
     ]
    },
    {
     "name": "stdout",
     "output_type": "stream",
     "text": [
      "Appending FYN...\n"
     ]
    },
    {
     "name": "stderr",
     "output_type": "stream",
     "text": [
      "/var/folders/kv/l0jzxgbj1kggff_kd35bfzkw0000gn/T/ipykernel_42080/1574832305.py:4: PerformanceWarning: DataFrame is highly fragmented.  This is usually the result of calling `frame.insert` many times, which has poor performance.  Consider joining all columns at once using pd.concat(axis=1) instead. To get a de-fragmented frame, use `newframe = frame.copy()`\n",
      "  mutations_all_protein.insert(current_max+i,\n"
     ]
    },
    {
     "name": "stdout",
     "output_type": "stream",
     "text": [
      "Appending FZD1...\n"
     ]
    },
    {
     "name": "stderr",
     "output_type": "stream",
     "text": [
      "/var/folders/kv/l0jzxgbj1kggff_kd35bfzkw0000gn/T/ipykernel_42080/1574832305.py:4: PerformanceWarning: DataFrame is highly fragmented.  This is usually the result of calling `frame.insert` many times, which has poor performance.  Consider joining all columns at once using pd.concat(axis=1) instead. To get a de-fragmented frame, use `newframe = frame.copy()`\n",
      "  mutations_all_protein.insert(current_max+i,\n"
     ]
    },
    {
     "name": "stdout",
     "output_type": "stream",
     "text": [
      "Appending FZD7...\n"
     ]
    },
    {
     "name": "stderr",
     "output_type": "stream",
     "text": [
      "/var/folders/kv/l0jzxgbj1kggff_kd35bfzkw0000gn/T/ipykernel_42080/1574832305.py:4: PerformanceWarning: DataFrame is highly fragmented.  This is usually the result of calling `frame.insert` many times, which has poor performance.  Consider joining all columns at once using pd.concat(axis=1) instead. To get a de-fragmented frame, use `newframe = frame.copy()`\n",
      "  mutations_all_protein.insert(current_max+i,\n"
     ]
    },
    {
     "name": "stdout",
     "output_type": "stream",
     "text": [
      "Appending G3BP1...\n"
     ]
    },
    {
     "name": "stderr",
     "output_type": "stream",
     "text": [
      "/var/folders/kv/l0jzxgbj1kggff_kd35bfzkw0000gn/T/ipykernel_42080/1574832305.py:4: PerformanceWarning: DataFrame is highly fragmented.  This is usually the result of calling `frame.insert` many times, which has poor performance.  Consider joining all columns at once using pd.concat(axis=1) instead. To get a de-fragmented frame, use `newframe = frame.copy()`\n",
      "  mutations_all_protein.insert(current_max+i,\n"
     ]
    },
    {
     "name": "stdout",
     "output_type": "stream",
     "text": [
      "Appending GAA...\n"
     ]
    },
    {
     "name": "stderr",
     "output_type": "stream",
     "text": [
      "/var/folders/kv/l0jzxgbj1kggff_kd35bfzkw0000gn/T/ipykernel_42080/1574832305.py:4: PerformanceWarning: DataFrame is highly fragmented.  This is usually the result of calling `frame.insert` many times, which has poor performance.  Consider joining all columns at once using pd.concat(axis=1) instead. To get a de-fragmented frame, use `newframe = frame.copy()`\n",
      "  mutations_all_protein.insert(current_max+i,\n"
     ]
    },
    {
     "name": "stdout",
     "output_type": "stream",
     "text": [
      "Appending GABPB1...\n"
     ]
    },
    {
     "name": "stderr",
     "output_type": "stream",
     "text": [
      "/var/folders/kv/l0jzxgbj1kggff_kd35bfzkw0000gn/T/ipykernel_42080/1574832305.py:4: PerformanceWarning: DataFrame is highly fragmented.  This is usually the result of calling `frame.insert` many times, which has poor performance.  Consider joining all columns at once using pd.concat(axis=1) instead. To get a de-fragmented frame, use `newframe = frame.copy()`\n",
      "  mutations_all_protein.insert(current_max+i,\n"
     ]
    },
    {
     "name": "stdout",
     "output_type": "stream",
     "text": [
      "Appending GADD45A...\n"
     ]
    },
    {
     "name": "stderr",
     "output_type": "stream",
     "text": [
      "/var/folders/kv/l0jzxgbj1kggff_kd35bfzkw0000gn/T/ipykernel_42080/1574832305.py:4: PerformanceWarning: DataFrame is highly fragmented.  This is usually the result of calling `frame.insert` many times, which has poor performance.  Consider joining all columns at once using pd.concat(axis=1) instead. To get a de-fragmented frame, use `newframe = frame.copy()`\n",
      "  mutations_all_protein.insert(current_max+i,\n"
     ]
    },
    {
     "name": "stdout",
     "output_type": "stream",
     "text": [
      "Appending GADD45B...\n"
     ]
    },
    {
     "name": "stderr",
     "output_type": "stream",
     "text": [
      "/var/folders/kv/l0jzxgbj1kggff_kd35bfzkw0000gn/T/ipykernel_42080/1574832305.py:4: PerformanceWarning: DataFrame is highly fragmented.  This is usually the result of calling `frame.insert` many times, which has poor performance.  Consider joining all columns at once using pd.concat(axis=1) instead. To get a de-fragmented frame, use `newframe = frame.copy()`\n",
      "  mutations_all_protein.insert(current_max+i,\n"
     ]
    },
    {
     "name": "stdout",
     "output_type": "stream",
     "text": [
      "Appending GALE...\n"
     ]
    },
    {
     "name": "stderr",
     "output_type": "stream",
     "text": [
      "/var/folders/kv/l0jzxgbj1kggff_kd35bfzkw0000gn/T/ipykernel_42080/1574832305.py:4: PerformanceWarning: DataFrame is highly fragmented.  This is usually the result of calling `frame.insert` many times, which has poor performance.  Consider joining all columns at once using pd.concat(axis=1) instead. To get a de-fragmented frame, use `newframe = frame.copy()`\n",
      "  mutations_all_protein.insert(current_max+i,\n"
     ]
    },
    {
     "name": "stdout",
     "output_type": "stream",
     "text": [
      "Appending GAPDH...\n"
     ]
    },
    {
     "name": "stderr",
     "output_type": "stream",
     "text": [
      "/var/folders/kv/l0jzxgbj1kggff_kd35bfzkw0000gn/T/ipykernel_42080/1574832305.py:4: PerformanceWarning: DataFrame is highly fragmented.  This is usually the result of calling `frame.insert` many times, which has poor performance.  Consider joining all columns at once using pd.concat(axis=1) instead. To get a de-fragmented frame, use `newframe = frame.copy()`\n",
      "  mutations_all_protein.insert(current_max+i,\n"
     ]
    },
    {
     "name": "stdout",
     "output_type": "stream",
     "text": [
      "Appending GATA2...\n"
     ]
    },
    {
     "name": "stderr",
     "output_type": "stream",
     "text": [
      "/var/folders/kv/l0jzxgbj1kggff_kd35bfzkw0000gn/T/ipykernel_42080/1574832305.py:4: PerformanceWarning: DataFrame is highly fragmented.  This is usually the result of calling `frame.insert` many times, which has poor performance.  Consider joining all columns at once using pd.concat(axis=1) instead. To get a de-fragmented frame, use `newframe = frame.copy()`\n",
      "  mutations_all_protein.insert(current_max+i,\n"
     ]
    },
    {
     "name": "stdout",
     "output_type": "stream",
     "text": [
      "Appending GATA3...\n"
     ]
    },
    {
     "name": "stderr",
     "output_type": "stream",
     "text": [
      "/var/folders/kv/l0jzxgbj1kggff_kd35bfzkw0000gn/T/ipykernel_42080/1574832305.py:4: PerformanceWarning: DataFrame is highly fragmented.  This is usually the result of calling `frame.insert` many times, which has poor performance.  Consider joining all columns at once using pd.concat(axis=1) instead. To get a de-fragmented frame, use `newframe = frame.copy()`\n",
      "  mutations_all_protein.insert(current_max+i,\n"
     ]
    },
    {
     "name": "stdout",
     "output_type": "stream",
     "text": [
      "Appending GDPD5...\n"
     ]
    },
    {
     "name": "stderr",
     "output_type": "stream",
     "text": [
      "/var/folders/kv/l0jzxgbj1kggff_kd35bfzkw0000gn/T/ipykernel_42080/1574832305.py:4: PerformanceWarning: DataFrame is highly fragmented.  This is usually the result of calling `frame.insert` many times, which has poor performance.  Consider joining all columns at once using pd.concat(axis=1) instead. To get a de-fragmented frame, use `newframe = frame.copy()`\n",
      "  mutations_all_protein.insert(current_max+i,\n"
     ]
    },
    {
     "name": "stdout",
     "output_type": "stream",
     "text": [
      "Appending GFOD1...\n"
     ]
    },
    {
     "name": "stderr",
     "output_type": "stream",
     "text": [
      "/var/folders/kv/l0jzxgbj1kggff_kd35bfzkw0000gn/T/ipykernel_42080/1574832305.py:4: PerformanceWarning: DataFrame is highly fragmented.  This is usually the result of calling `frame.insert` many times, which has poor performance.  Consider joining all columns at once using pd.concat(axis=1) instead. To get a de-fragmented frame, use `newframe = frame.copy()`\n",
      "  mutations_all_protein.insert(current_max+i,\n"
     ]
    },
    {
     "name": "stdout",
     "output_type": "stream",
     "text": [
      "Appending GFPT1...\n"
     ]
    },
    {
     "name": "stderr",
     "output_type": "stream",
     "text": [
      "/var/folders/kv/l0jzxgbj1kggff_kd35bfzkw0000gn/T/ipykernel_42080/1574832305.py:4: PerformanceWarning: DataFrame is highly fragmented.  This is usually the result of calling `frame.insert` many times, which has poor performance.  Consider joining all columns at once using pd.concat(axis=1) instead. To get a de-fragmented frame, use `newframe = frame.copy()`\n",
      "  mutations_all_protein.insert(current_max+i,\n"
     ]
    },
    {
     "name": "stdout",
     "output_type": "stream",
     "text": [
      "Appending GHR...\n"
     ]
    },
    {
     "name": "stderr",
     "output_type": "stream",
     "text": [
      "/var/folders/kv/l0jzxgbj1kggff_kd35bfzkw0000gn/T/ipykernel_42080/1574832305.py:4: PerformanceWarning: DataFrame is highly fragmented.  This is usually the result of calling `frame.insert` many times, which has poor performance.  Consider joining all columns at once using pd.concat(axis=1) instead. To get a de-fragmented frame, use `newframe = frame.copy()`\n",
      "  mutations_all_protein.insert(current_max+i,\n"
     ]
    },
    {
     "name": "stdout",
     "output_type": "stream",
     "text": [
      "Appending GLI2...\n"
     ]
    },
    {
     "name": "stderr",
     "output_type": "stream",
     "text": [
      "/var/folders/kv/l0jzxgbj1kggff_kd35bfzkw0000gn/T/ipykernel_42080/1574832305.py:4: PerformanceWarning: DataFrame is highly fragmented.  This is usually the result of calling `frame.insert` many times, which has poor performance.  Consider joining all columns at once using pd.concat(axis=1) instead. To get a de-fragmented frame, use `newframe = frame.copy()`\n",
      "  mutations_all_protein.insert(current_max+i,\n"
     ]
    },
    {
     "name": "stdout",
     "output_type": "stream",
     "text": [
      "Appending GLOD4...\n"
     ]
    },
    {
     "name": "stderr",
     "output_type": "stream",
     "text": [
      "/var/folders/kv/l0jzxgbj1kggff_kd35bfzkw0000gn/T/ipykernel_42080/1574832305.py:4: PerformanceWarning: DataFrame is highly fragmented.  This is usually the result of calling `frame.insert` many times, which has poor performance.  Consider joining all columns at once using pd.concat(axis=1) instead. To get a de-fragmented frame, use `newframe = frame.copy()`\n",
      "  mutations_all_protein.insert(current_max+i,\n"
     ]
    },
    {
     "name": "stdout",
     "output_type": "stream",
     "text": [
      "Appending GLRX...\n"
     ]
    },
    {
     "name": "stderr",
     "output_type": "stream",
     "text": [
      "/var/folders/kv/l0jzxgbj1kggff_kd35bfzkw0000gn/T/ipykernel_42080/1574832305.py:4: PerformanceWarning: DataFrame is highly fragmented.  This is usually the result of calling `frame.insert` many times, which has poor performance.  Consider joining all columns at once using pd.concat(axis=1) instead. To get a de-fragmented frame, use `newframe = frame.copy()`\n",
      "  mutations_all_protein.insert(current_max+i,\n"
     ]
    },
    {
     "name": "stdout",
     "output_type": "stream",
     "text": [
      "Appending GMNN...\n"
     ]
    },
    {
     "name": "stderr",
     "output_type": "stream",
     "text": [
      "/var/folders/kv/l0jzxgbj1kggff_kd35bfzkw0000gn/T/ipykernel_42080/1574832305.py:4: PerformanceWarning: DataFrame is highly fragmented.  This is usually the result of calling `frame.insert` many times, which has poor performance.  Consider joining all columns at once using pd.concat(axis=1) instead. To get a de-fragmented frame, use `newframe = frame.copy()`\n",
      "  mutations_all_protein.insert(current_max+i,\n"
     ]
    },
    {
     "name": "stdout",
     "output_type": "stream",
     "text": [
      "Appending GNA11...\n"
     ]
    },
    {
     "name": "stderr",
     "output_type": "stream",
     "text": [
      "/var/folders/kv/l0jzxgbj1kggff_kd35bfzkw0000gn/T/ipykernel_42080/1574832305.py:4: PerformanceWarning: DataFrame is highly fragmented.  This is usually the result of calling `frame.insert` many times, which has poor performance.  Consider joining all columns at once using pd.concat(axis=1) instead. To get a de-fragmented frame, use `newframe = frame.copy()`\n",
      "  mutations_all_protein.insert(current_max+i,\n"
     ]
    },
    {
     "name": "stdout",
     "output_type": "stream",
     "text": [
      "Appending GNA15...\n"
     ]
    },
    {
     "name": "stderr",
     "output_type": "stream",
     "text": [
      "/var/folders/kv/l0jzxgbj1kggff_kd35bfzkw0000gn/T/ipykernel_42080/1574832305.py:4: PerformanceWarning: DataFrame is highly fragmented.  This is usually the result of calling `frame.insert` many times, which has poor performance.  Consider joining all columns at once using pd.concat(axis=1) instead. To get a de-fragmented frame, use `newframe = frame.copy()`\n",
      "  mutations_all_protein.insert(current_max+i,\n"
     ]
    },
    {
     "name": "stdout",
     "output_type": "stream",
     "text": [
      "Appending GNAI1...\n"
     ]
    },
    {
     "name": "stderr",
     "output_type": "stream",
     "text": [
      "/var/folders/kv/l0jzxgbj1kggff_kd35bfzkw0000gn/T/ipykernel_42080/1574832305.py:4: PerformanceWarning: DataFrame is highly fragmented.  This is usually the result of calling `frame.insert` many times, which has poor performance.  Consider joining all columns at once using pd.concat(axis=1) instead. To get a de-fragmented frame, use `newframe = frame.copy()`\n",
      "  mutations_all_protein.insert(current_max+i,\n"
     ]
    },
    {
     "name": "stdout",
     "output_type": "stream",
     "text": [
      "Appending GNAI2...\n"
     ]
    },
    {
     "name": "stderr",
     "output_type": "stream",
     "text": [
      "/var/folders/kv/l0jzxgbj1kggff_kd35bfzkw0000gn/T/ipykernel_42080/1574832305.py:4: PerformanceWarning: DataFrame is highly fragmented.  This is usually the result of calling `frame.insert` many times, which has poor performance.  Consider joining all columns at once using pd.concat(axis=1) instead. To get a de-fragmented frame, use `newframe = frame.copy()`\n",
      "  mutations_all_protein.insert(current_max+i,\n"
     ]
    },
    {
     "name": "stdout",
     "output_type": "stream",
     "text": [
      "Appending GNAS...\n"
     ]
    },
    {
     "name": "stderr",
     "output_type": "stream",
     "text": [
      "/var/folders/kv/l0jzxgbj1kggff_kd35bfzkw0000gn/T/ipykernel_42080/1574832305.py:4: PerformanceWarning: DataFrame is highly fragmented.  This is usually the result of calling `frame.insert` many times, which has poor performance.  Consider joining all columns at once using pd.concat(axis=1) instead. To get a de-fragmented frame, use `newframe = frame.copy()`\n",
      "  mutations_all_protein.insert(current_max+i,\n"
     ]
    },
    {
     "name": "stdout",
     "output_type": "stream",
     "text": [
      "Appending GNB5...\n"
     ]
    },
    {
     "name": "stderr",
     "output_type": "stream",
     "text": [
      "/var/folders/kv/l0jzxgbj1kggff_kd35bfzkw0000gn/T/ipykernel_42080/1574832305.py:4: PerformanceWarning: DataFrame is highly fragmented.  This is usually the result of calling `frame.insert` many times, which has poor performance.  Consider joining all columns at once using pd.concat(axis=1) instead. To get a de-fragmented frame, use `newframe = frame.copy()`\n",
      "  mutations_all_protein.insert(current_max+i,\n"
     ]
    },
    {
     "name": "stdout",
     "output_type": "stream",
     "text": [
      "Appending GNPDA1...\n"
     ]
    },
    {
     "name": "stderr",
     "output_type": "stream",
     "text": [
      "/var/folders/kv/l0jzxgbj1kggff_kd35bfzkw0000gn/T/ipykernel_42080/1574832305.py:4: PerformanceWarning: DataFrame is highly fragmented.  This is usually the result of calling `frame.insert` many times, which has poor performance.  Consider joining all columns at once using pd.concat(axis=1) instead. To get a de-fragmented frame, use `newframe = frame.copy()`\n",
      "  mutations_all_protein.insert(current_max+i,\n"
     ]
    },
    {
     "name": "stdout",
     "output_type": "stream",
     "text": [
      "Appending GOLT1B...\n"
     ]
    },
    {
     "name": "stderr",
     "output_type": "stream",
     "text": [
      "/var/folders/kv/l0jzxgbj1kggff_kd35bfzkw0000gn/T/ipykernel_42080/1574832305.py:4: PerformanceWarning: DataFrame is highly fragmented.  This is usually the result of calling `frame.insert` many times, which has poor performance.  Consider joining all columns at once using pd.concat(axis=1) instead. To get a de-fragmented frame, use `newframe = frame.copy()`\n",
      "  mutations_all_protein.insert(current_max+i,\n"
     ]
    },
    {
     "name": "stdout",
     "output_type": "stream",
     "text": [
      "Appending GPATCH8...\n"
     ]
    },
    {
     "name": "stderr",
     "output_type": "stream",
     "text": [
      "/var/folders/kv/l0jzxgbj1kggff_kd35bfzkw0000gn/T/ipykernel_42080/1574832305.py:4: PerformanceWarning: DataFrame is highly fragmented.  This is usually the result of calling `frame.insert` many times, which has poor performance.  Consider joining all columns at once using pd.concat(axis=1) instead. To get a de-fragmented frame, use `newframe = frame.copy()`\n",
      "  mutations_all_protein.insert(current_max+i,\n"
     ]
    },
    {
     "name": "stdout",
     "output_type": "stream",
     "text": [
      "Appending GPC1...\n"
     ]
    },
    {
     "name": "stderr",
     "output_type": "stream",
     "text": [
      "/var/folders/kv/l0jzxgbj1kggff_kd35bfzkw0000gn/T/ipykernel_42080/1574832305.py:4: PerformanceWarning: DataFrame is highly fragmented.  This is usually the result of calling `frame.insert` many times, which has poor performance.  Consider joining all columns at once using pd.concat(axis=1) instead. To get a de-fragmented frame, use `newframe = frame.copy()`\n",
      "  mutations_all_protein.insert(current_max+i,\n"
     ]
    },
    {
     "name": "stdout",
     "output_type": "stream",
     "text": [
      "Appending GPER1...\n"
     ]
    },
    {
     "name": "stderr",
     "output_type": "stream",
     "text": [
      "/var/folders/kv/l0jzxgbj1kggff_kd35bfzkw0000gn/T/ipykernel_42080/1574832305.py:4: PerformanceWarning: DataFrame is highly fragmented.  This is usually the result of calling `frame.insert` many times, which has poor performance.  Consider joining all columns at once using pd.concat(axis=1) instead. To get a de-fragmented frame, use `newframe = frame.copy()`\n",
      "  mutations_all_protein.insert(current_max+i,\n"
     ]
    },
    {
     "name": "stdout",
     "output_type": "stream",
     "text": [
      "Appending GRB10...\n"
     ]
    },
    {
     "name": "stderr",
     "output_type": "stream",
     "text": [
      "/var/folders/kv/l0jzxgbj1kggff_kd35bfzkw0000gn/T/ipykernel_42080/1574832305.py:4: PerformanceWarning: DataFrame is highly fragmented.  This is usually the result of calling `frame.insert` many times, which has poor performance.  Consider joining all columns at once using pd.concat(axis=1) instead. To get a de-fragmented frame, use `newframe = frame.copy()`\n",
      "  mutations_all_protein.insert(current_max+i,\n"
     ]
    },
    {
     "name": "stdout",
     "output_type": "stream",
     "text": [
      "Appending GRB7...\n"
     ]
    },
    {
     "name": "stderr",
     "output_type": "stream",
     "text": [
      "/var/folders/kv/l0jzxgbj1kggff_kd35bfzkw0000gn/T/ipykernel_42080/1574832305.py:4: PerformanceWarning: DataFrame is highly fragmented.  This is usually the result of calling `frame.insert` many times, which has poor performance.  Consider joining all columns at once using pd.concat(axis=1) instead. To get a de-fragmented frame, use `newframe = frame.copy()`\n",
      "  mutations_all_protein.insert(current_max+i,\n"
     ]
    },
    {
     "name": "stdout",
     "output_type": "stream",
     "text": [
      "Appending GRN...\n"
     ]
    },
    {
     "name": "stderr",
     "output_type": "stream",
     "text": [
      "/var/folders/kv/l0jzxgbj1kggff_kd35bfzkw0000gn/T/ipykernel_42080/1574832305.py:4: PerformanceWarning: DataFrame is highly fragmented.  This is usually the result of calling `frame.insert` many times, which has poor performance.  Consider joining all columns at once using pd.concat(axis=1) instead. To get a de-fragmented frame, use `newframe = frame.copy()`\n",
      "  mutations_all_protein.insert(current_max+i,\n"
     ]
    },
    {
     "name": "stdout",
     "output_type": "stream",
     "text": [
      "Appending GRWD1...\n"
     ]
    },
    {
     "name": "stderr",
     "output_type": "stream",
     "text": [
      "/var/folders/kv/l0jzxgbj1kggff_kd35bfzkw0000gn/T/ipykernel_42080/1574832305.py:4: PerformanceWarning: DataFrame is highly fragmented.  This is usually the result of calling `frame.insert` many times, which has poor performance.  Consider joining all columns at once using pd.concat(axis=1) instead. To get a de-fragmented frame, use `newframe = frame.copy()`\n",
      "  mutations_all_protein.insert(current_max+i,\n"
     ]
    },
    {
     "name": "stdout",
     "output_type": "stream",
     "text": [
      "Appending GSTM2...\n"
     ]
    },
    {
     "name": "stderr",
     "output_type": "stream",
     "text": [
      "/var/folders/kv/l0jzxgbj1kggff_kd35bfzkw0000gn/T/ipykernel_42080/1574832305.py:4: PerformanceWarning: DataFrame is highly fragmented.  This is usually the result of calling `frame.insert` many times, which has poor performance.  Consider joining all columns at once using pd.concat(axis=1) instead. To get a de-fragmented frame, use `newframe = frame.copy()`\n",
      "  mutations_all_protein.insert(current_max+i,\n"
     ]
    },
    {
     "name": "stdout",
     "output_type": "stream",
     "text": [
      "Appending GSTZ1...\n"
     ]
    },
    {
     "name": "stderr",
     "output_type": "stream",
     "text": [
      "/var/folders/kv/l0jzxgbj1kggff_kd35bfzkw0000gn/T/ipykernel_42080/1574832305.py:4: PerformanceWarning: DataFrame is highly fragmented.  This is usually the result of calling `frame.insert` many times, which has poor performance.  Consider joining all columns at once using pd.concat(axis=1) instead. To get a de-fragmented frame, use `newframe = frame.copy()`\n",
      "  mutations_all_protein.insert(current_max+i,\n"
     ]
    },
    {
     "name": "stdout",
     "output_type": "stream",
     "text": [
      "Appending GTF2A2...\n"
     ]
    },
    {
     "name": "stderr",
     "output_type": "stream",
     "text": [
      "/var/folders/kv/l0jzxgbj1kggff_kd35bfzkw0000gn/T/ipykernel_42080/1574832305.py:4: PerformanceWarning: DataFrame is highly fragmented.  This is usually the result of calling `frame.insert` many times, which has poor performance.  Consider joining all columns at once using pd.concat(axis=1) instead. To get a de-fragmented frame, use `newframe = frame.copy()`\n",
      "  mutations_all_protein.insert(current_max+i,\n"
     ]
    },
    {
     "name": "stdout",
     "output_type": "stream",
     "text": [
      "Appending GTF2E2...\n"
     ]
    },
    {
     "name": "stderr",
     "output_type": "stream",
     "text": [
      "/var/folders/kv/l0jzxgbj1kggff_kd35bfzkw0000gn/T/ipykernel_42080/1574832305.py:4: PerformanceWarning: DataFrame is highly fragmented.  This is usually the result of calling `frame.insert` many times, which has poor performance.  Consider joining all columns at once using pd.concat(axis=1) instead. To get a de-fragmented frame, use `newframe = frame.copy()`\n",
      "  mutations_all_protein.insert(current_max+i,\n"
     ]
    },
    {
     "name": "stdout",
     "output_type": "stream",
     "text": [
      "Appending GTPBP8...\n"
     ]
    },
    {
     "name": "stderr",
     "output_type": "stream",
     "text": [
      "/var/folders/kv/l0jzxgbj1kggff_kd35bfzkw0000gn/T/ipykernel_42080/1574832305.py:4: PerformanceWarning: DataFrame is highly fragmented.  This is usually the result of calling `frame.insert` many times, which has poor performance.  Consider joining all columns at once using pd.concat(axis=1) instead. To get a de-fragmented frame, use `newframe = frame.copy()`\n",
      "  mutations_all_protein.insert(current_max+i,\n"
     ]
    },
    {
     "name": "stdout",
     "output_type": "stream",
     "text": [
      "Appending HACD3...\n"
     ]
    },
    {
     "name": "stderr",
     "output_type": "stream",
     "text": [
      "/var/folders/kv/l0jzxgbj1kggff_kd35bfzkw0000gn/T/ipykernel_42080/1574832305.py:4: PerformanceWarning: DataFrame is highly fragmented.  This is usually the result of calling `frame.insert` many times, which has poor performance.  Consider joining all columns at once using pd.concat(axis=1) instead. To get a de-fragmented frame, use `newframe = frame.copy()`\n",
      "  mutations_all_protein.insert(current_max+i,\n"
     ]
    },
    {
     "name": "stdout",
     "output_type": "stream",
     "text": [
      "Appending HADH...\n"
     ]
    },
    {
     "name": "stderr",
     "output_type": "stream",
     "text": [
      "/var/folders/kv/l0jzxgbj1kggff_kd35bfzkw0000gn/T/ipykernel_42080/1574832305.py:4: PerformanceWarning: DataFrame is highly fragmented.  This is usually the result of calling `frame.insert` many times, which has poor performance.  Consider joining all columns at once using pd.concat(axis=1) instead. To get a de-fragmented frame, use `newframe = frame.copy()`\n",
      "  mutations_all_protein.insert(current_max+i,\n"
     ]
    },
    {
     "name": "stdout",
     "output_type": "stream",
     "text": [
      "Appending HAT1...\n"
     ]
    },
    {
     "name": "stderr",
     "output_type": "stream",
     "text": [
      "/var/folders/kv/l0jzxgbj1kggff_kd35bfzkw0000gn/T/ipykernel_42080/1574832305.py:4: PerformanceWarning: DataFrame is highly fragmented.  This is usually the result of calling `frame.insert` many times, which has poor performance.  Consider joining all columns at once using pd.concat(axis=1) instead. To get a de-fragmented frame, use `newframe = frame.copy()`\n",
      "  mutations_all_protein.insert(current_max+i,\n"
     ]
    },
    {
     "name": "stdout",
     "output_type": "stream",
     "text": [
      "Appending HDAC2...\n"
     ]
    },
    {
     "name": "stderr",
     "output_type": "stream",
     "text": [
      "/var/folders/kv/l0jzxgbj1kggff_kd35bfzkw0000gn/T/ipykernel_42080/1574832305.py:4: PerformanceWarning: DataFrame is highly fragmented.  This is usually the result of calling `frame.insert` many times, which has poor performance.  Consider joining all columns at once using pd.concat(axis=1) instead. To get a de-fragmented frame, use `newframe = frame.copy()`\n",
      "  mutations_all_protein.insert(current_max+i,\n"
     ]
    },
    {
     "name": "stdout",
     "output_type": "stream",
     "text": [
      "Appending HDAC6...\n"
     ]
    },
    {
     "name": "stderr",
     "output_type": "stream",
     "text": [
      "/var/folders/kv/l0jzxgbj1kggff_kd35bfzkw0000gn/T/ipykernel_42080/1574832305.py:4: PerformanceWarning: DataFrame is highly fragmented.  This is usually the result of calling `frame.insert` many times, which has poor performance.  Consider joining all columns at once using pd.concat(axis=1) instead. To get a de-fragmented frame, use `newframe = frame.copy()`\n",
      "  mutations_all_protein.insert(current_max+i,\n"
     ]
    },
    {
     "name": "stdout",
     "output_type": "stream",
     "text": [
      "Appending HEATR1...\n"
     ]
    },
    {
     "name": "stderr",
     "output_type": "stream",
     "text": [
      "/var/folders/kv/l0jzxgbj1kggff_kd35bfzkw0000gn/T/ipykernel_42080/1574832305.py:4: PerformanceWarning: DataFrame is highly fragmented.  This is usually the result of calling `frame.insert` many times, which has poor performance.  Consider joining all columns at once using pd.concat(axis=1) instead. To get a de-fragmented frame, use `newframe = frame.copy()`\n",
      "  mutations_all_protein.insert(current_max+i,\n"
     ]
    },
    {
     "name": "stdout",
     "output_type": "stream",
     "text": [
      "Appending HEBP1...\n"
     ]
    },
    {
     "name": "stderr",
     "output_type": "stream",
     "text": [
      "/var/folders/kv/l0jzxgbj1kggff_kd35bfzkw0000gn/T/ipykernel_42080/1574832305.py:4: PerformanceWarning: DataFrame is highly fragmented.  This is usually the result of calling `frame.insert` many times, which has poor performance.  Consider joining all columns at once using pd.concat(axis=1) instead. To get a de-fragmented frame, use `newframe = frame.copy()`\n",
      "  mutations_all_protein.insert(current_max+i,\n"
     ]
    },
    {
     "name": "stdout",
     "output_type": "stream",
     "text": [
      "Appending HERC6...\n"
     ]
    },
    {
     "name": "stderr",
     "output_type": "stream",
     "text": [
      "/var/folders/kv/l0jzxgbj1kggff_kd35bfzkw0000gn/T/ipykernel_42080/1574832305.py:4: PerformanceWarning: DataFrame is highly fragmented.  This is usually the result of calling `frame.insert` many times, which has poor performance.  Consider joining all columns at once using pd.concat(axis=1) instead. To get a de-fragmented frame, use `newframe = frame.copy()`\n",
      "  mutations_all_protein.insert(current_max+i,\n"
     ]
    },
    {
     "name": "stdout",
     "output_type": "stream",
     "text": [
      "Appending HERPUD1...\n"
     ]
    },
    {
     "name": "stderr",
     "output_type": "stream",
     "text": [
      "/var/folders/kv/l0jzxgbj1kggff_kd35bfzkw0000gn/T/ipykernel_42080/1574832305.py:4: PerformanceWarning: DataFrame is highly fragmented.  This is usually the result of calling `frame.insert` many times, which has poor performance.  Consider joining all columns at once using pd.concat(axis=1) instead. To get a de-fragmented frame, use `newframe = frame.copy()`\n",
      "  mutations_all_protein.insert(current_max+i,\n"
     ]
    },
    {
     "name": "stdout",
     "output_type": "stream",
     "text": [
      "Appending HES1...\n"
     ]
    },
    {
     "name": "stderr",
     "output_type": "stream",
     "text": [
      "/var/folders/kv/l0jzxgbj1kggff_kd35bfzkw0000gn/T/ipykernel_42080/1574832305.py:4: PerformanceWarning: DataFrame is highly fragmented.  This is usually the result of calling `frame.insert` many times, which has poor performance.  Consider joining all columns at once using pd.concat(axis=1) instead. To get a de-fragmented frame, use `newframe = frame.copy()`\n",
      "  mutations_all_protein.insert(current_max+i,\n"
     ]
    },
    {
     "name": "stdout",
     "output_type": "stream",
     "text": [
      "Appending HIF1A...\n"
     ]
    },
    {
     "name": "stderr",
     "output_type": "stream",
     "text": [
      "/var/folders/kv/l0jzxgbj1kggff_kd35bfzkw0000gn/T/ipykernel_42080/1574832305.py:4: PerformanceWarning: DataFrame is highly fragmented.  This is usually the result of calling `frame.insert` many times, which has poor performance.  Consider joining all columns at once using pd.concat(axis=1) instead. To get a de-fragmented frame, use `newframe = frame.copy()`\n",
      "  mutations_all_protein.insert(current_max+i,\n"
     ]
    },
    {
     "name": "stdout",
     "output_type": "stream",
     "text": [
      "Appending HK1...\n"
     ]
    },
    {
     "name": "stderr",
     "output_type": "stream",
     "text": [
      "/var/folders/kv/l0jzxgbj1kggff_kd35bfzkw0000gn/T/ipykernel_42080/1574832305.py:4: PerformanceWarning: DataFrame is highly fragmented.  This is usually the result of calling `frame.insert` many times, which has poor performance.  Consider joining all columns at once using pd.concat(axis=1) instead. To get a de-fragmented frame, use `newframe = frame.copy()`\n",
      "  mutations_all_protein.insert(current_max+i,\n"
     ]
    },
    {
     "name": "stdout",
     "output_type": "stream",
     "text": [
      "Appending HLA-DMA...\n"
     ]
    },
    {
     "name": "stderr",
     "output_type": "stream",
     "text": [
      "/var/folders/kv/l0jzxgbj1kggff_kd35bfzkw0000gn/T/ipykernel_42080/1574832305.py:4: PerformanceWarning: DataFrame is highly fragmented.  This is usually the result of calling `frame.insert` many times, which has poor performance.  Consider joining all columns at once using pd.concat(axis=1) instead. To get a de-fragmented frame, use `newframe = frame.copy()`\n",
      "  mutations_all_protein.insert(current_max+i,\n"
     ]
    },
    {
     "name": "stdout",
     "output_type": "stream",
     "text": [
      "Appending HLA-DRA...\n"
     ]
    },
    {
     "name": "stderr",
     "output_type": "stream",
     "text": [
      "/var/folders/kv/l0jzxgbj1kggff_kd35bfzkw0000gn/T/ipykernel_42080/1574832305.py:4: PerformanceWarning: DataFrame is highly fragmented.  This is usually the result of calling `frame.insert` many times, which has poor performance.  Consider joining all columns at once using pd.concat(axis=1) instead. To get a de-fragmented frame, use `newframe = frame.copy()`\n",
      "  mutations_all_protein.insert(current_max+i,\n"
     ]
    },
    {
     "name": "stdout",
     "output_type": "stream",
     "text": [
      "Appending HMG20B...\n"
     ]
    },
    {
     "name": "stderr",
     "output_type": "stream",
     "text": [
      "/var/folders/kv/l0jzxgbj1kggff_kd35bfzkw0000gn/T/ipykernel_42080/1574832305.py:4: PerformanceWarning: DataFrame is highly fragmented.  This is usually the result of calling `frame.insert` many times, which has poor performance.  Consider joining all columns at once using pd.concat(axis=1) instead. To get a de-fragmented frame, use `newframe = frame.copy()`\n",
      "  mutations_all_protein.insert(current_max+i,\n"
     ]
    },
    {
     "name": "stdout",
     "output_type": "stream",
     "text": [
      "Appending HMGA2...\n"
     ]
    },
    {
     "name": "stderr",
     "output_type": "stream",
     "text": [
      "/var/folders/kv/l0jzxgbj1kggff_kd35bfzkw0000gn/T/ipykernel_42080/1574832305.py:4: PerformanceWarning: DataFrame is highly fragmented.  This is usually the result of calling `frame.insert` many times, which has poor performance.  Consider joining all columns at once using pd.concat(axis=1) instead. To get a de-fragmented frame, use `newframe = frame.copy()`\n",
      "  mutations_all_protein.insert(current_max+i,\n"
     ]
    },
    {
     "name": "stdout",
     "output_type": "stream",
     "text": [
      "Appending HMGCR...\n"
     ]
    },
    {
     "name": "stderr",
     "output_type": "stream",
     "text": [
      "/var/folders/kv/l0jzxgbj1kggff_kd35bfzkw0000gn/T/ipykernel_42080/1574832305.py:4: PerformanceWarning: DataFrame is highly fragmented.  This is usually the result of calling `frame.insert` many times, which has poor performance.  Consider joining all columns at once using pd.concat(axis=1) instead. To get a de-fragmented frame, use `newframe = frame.copy()`\n",
      "  mutations_all_protein.insert(current_max+i,\n"
     ]
    },
    {
     "name": "stdout",
     "output_type": "stream",
     "text": [
      "Appending HMGCS1...\n"
     ]
    },
    {
     "name": "stderr",
     "output_type": "stream",
     "text": [
      "/var/folders/kv/l0jzxgbj1kggff_kd35bfzkw0000gn/T/ipykernel_42080/1574832305.py:4: PerformanceWarning: DataFrame is highly fragmented.  This is usually the result of calling `frame.insert` many times, which has poor performance.  Consider joining all columns at once using pd.concat(axis=1) instead. To get a de-fragmented frame, use `newframe = frame.copy()`\n",
      "  mutations_all_protein.insert(current_max+i,\n"
     ]
    },
    {
     "name": "stdout",
     "output_type": "stream",
     "text": [
      "Appending HMOX1...\n"
     ]
    },
    {
     "name": "stderr",
     "output_type": "stream",
     "text": [
      "/var/folders/kv/l0jzxgbj1kggff_kd35bfzkw0000gn/T/ipykernel_42080/1574832305.py:4: PerformanceWarning: DataFrame is highly fragmented.  This is usually the result of calling `frame.insert` many times, which has poor performance.  Consider joining all columns at once using pd.concat(axis=1) instead. To get a de-fragmented frame, use `newframe = frame.copy()`\n",
      "  mutations_all_protein.insert(current_max+i,\n"
     ]
    },
    {
     "name": "stdout",
     "output_type": "stream",
     "text": [
      "Appending HOMER2...\n"
     ]
    },
    {
     "name": "stderr",
     "output_type": "stream",
     "text": [
      "/var/folders/kv/l0jzxgbj1kggff_kd35bfzkw0000gn/T/ipykernel_42080/1574832305.py:4: PerformanceWarning: DataFrame is highly fragmented.  This is usually the result of calling `frame.insert` many times, which has poor performance.  Consider joining all columns at once using pd.concat(axis=1) instead. To get a de-fragmented frame, use `newframe = frame.copy()`\n",
      "  mutations_all_protein.insert(current_max+i,\n"
     ]
    },
    {
     "name": "stdout",
     "output_type": "stream",
     "text": [
      "Appending HOOK2...\n"
     ]
    },
    {
     "name": "stderr",
     "output_type": "stream",
     "text": [
      "/var/folders/kv/l0jzxgbj1kggff_kd35bfzkw0000gn/T/ipykernel_42080/1574832305.py:4: PerformanceWarning: DataFrame is highly fragmented.  This is usually the result of calling `frame.insert` many times, which has poor performance.  Consider joining all columns at once using pd.concat(axis=1) instead. To get a de-fragmented frame, use `newframe = frame.copy()`\n",
      "  mutations_all_protein.insert(current_max+i,\n"
     ]
    },
    {
     "name": "stdout",
     "output_type": "stream",
     "text": [
      "Appending HOXA10...\n"
     ]
    },
    {
     "name": "stderr",
     "output_type": "stream",
     "text": [
      "/var/folders/kv/l0jzxgbj1kggff_kd35bfzkw0000gn/T/ipykernel_42080/1574832305.py:4: PerformanceWarning: DataFrame is highly fragmented.  This is usually the result of calling `frame.insert` many times, which has poor performance.  Consider joining all columns at once using pd.concat(axis=1) instead. To get a de-fragmented frame, use `newframe = frame.copy()`\n",
      "  mutations_all_protein.insert(current_max+i,\n"
     ]
    },
    {
     "name": "stdout",
     "output_type": "stream",
     "text": [
      "Appending HOXA5...\n"
     ]
    },
    {
     "name": "stderr",
     "output_type": "stream",
     "text": [
      "/var/folders/kv/l0jzxgbj1kggff_kd35bfzkw0000gn/T/ipykernel_42080/1574832305.py:4: PerformanceWarning: DataFrame is highly fragmented.  This is usually the result of calling `frame.insert` many times, which has poor performance.  Consider joining all columns at once using pd.concat(axis=1) instead. To get a de-fragmented frame, use `newframe = frame.copy()`\n",
      "  mutations_all_protein.insert(current_max+i,\n"
     ]
    },
    {
     "name": "stdout",
     "output_type": "stream",
     "text": [
      "Appending HPRT1...\n"
     ]
    },
    {
     "name": "stderr",
     "output_type": "stream",
     "text": [
      "/var/folders/kv/l0jzxgbj1kggff_kd35bfzkw0000gn/T/ipykernel_42080/1574832305.py:4: PerformanceWarning: DataFrame is highly fragmented.  This is usually the result of calling `frame.insert` many times, which has poor performance.  Consider joining all columns at once using pd.concat(axis=1) instead. To get a de-fragmented frame, use `newframe = frame.copy()`\n",
      "  mutations_all_protein.insert(current_max+i,\n"
     ]
    },
    {
     "name": "stdout",
     "output_type": "stream",
     "text": [
      "Appending HS2ST1...\n"
     ]
    },
    {
     "name": "stderr",
     "output_type": "stream",
     "text": [
      "/var/folders/kv/l0jzxgbj1kggff_kd35bfzkw0000gn/T/ipykernel_42080/1574832305.py:4: PerformanceWarning: DataFrame is highly fragmented.  This is usually the result of calling `frame.insert` many times, which has poor performance.  Consider joining all columns at once using pd.concat(axis=1) instead. To get a de-fragmented frame, use `newframe = frame.copy()`\n",
      "  mutations_all_protein.insert(current_max+i,\n"
     ]
    },
    {
     "name": "stdout",
     "output_type": "stream",
     "text": [
      "Appending HSD17B10...\n"
     ]
    },
    {
     "name": "stderr",
     "output_type": "stream",
     "text": [
      "/var/folders/kv/l0jzxgbj1kggff_kd35bfzkw0000gn/T/ipykernel_42080/1574832305.py:4: PerformanceWarning: DataFrame is highly fragmented.  This is usually the result of calling `frame.insert` many times, which has poor performance.  Consider joining all columns at once using pd.concat(axis=1) instead. To get a de-fragmented frame, use `newframe = frame.copy()`\n",
      "  mutations_all_protein.insert(current_max+i,\n"
     ]
    },
    {
     "name": "stdout",
     "output_type": "stream",
     "text": [
      "Appending HSD17B11...\n"
     ]
    },
    {
     "name": "stderr",
     "output_type": "stream",
     "text": [
      "/var/folders/kv/l0jzxgbj1kggff_kd35bfzkw0000gn/T/ipykernel_42080/1574832305.py:4: PerformanceWarning: DataFrame is highly fragmented.  This is usually the result of calling `frame.insert` many times, which has poor performance.  Consider joining all columns at once using pd.concat(axis=1) instead. To get a de-fragmented frame, use `newframe = frame.copy()`\n",
      "  mutations_all_protein.insert(current_max+i,\n"
     ]
    },
    {
     "name": "stdout",
     "output_type": "stream",
     "text": [
      "Appending HSPA1A...\n"
     ]
    },
    {
     "name": "stderr",
     "output_type": "stream",
     "text": [
      "/var/folders/kv/l0jzxgbj1kggff_kd35bfzkw0000gn/T/ipykernel_42080/1574832305.py:4: PerformanceWarning: DataFrame is highly fragmented.  This is usually the result of calling `frame.insert` many times, which has poor performance.  Consider joining all columns at once using pd.concat(axis=1) instead. To get a de-fragmented frame, use `newframe = frame.copy()`\n",
      "  mutations_all_protein.insert(current_max+i,\n"
     ]
    },
    {
     "name": "stdout",
     "output_type": "stream",
     "text": [
      "Appending HSPA4...\n"
     ]
    },
    {
     "name": "stderr",
     "output_type": "stream",
     "text": [
      "/var/folders/kv/l0jzxgbj1kggff_kd35bfzkw0000gn/T/ipykernel_42080/1574832305.py:4: PerformanceWarning: DataFrame is highly fragmented.  This is usually the result of calling `frame.insert` many times, which has poor performance.  Consider joining all columns at once using pd.concat(axis=1) instead. To get a de-fragmented frame, use `newframe = frame.copy()`\n",
      "  mutations_all_protein.insert(current_max+i,\n"
     ]
    },
    {
     "name": "stdout",
     "output_type": "stream",
     "text": [
      "Appending HSPA8...\n"
     ]
    },
    {
     "name": "stderr",
     "output_type": "stream",
     "text": [
      "/var/folders/kv/l0jzxgbj1kggff_kd35bfzkw0000gn/T/ipykernel_42080/1574832305.py:4: PerformanceWarning: DataFrame is highly fragmented.  This is usually the result of calling `frame.insert` many times, which has poor performance.  Consider joining all columns at once using pd.concat(axis=1) instead. To get a de-fragmented frame, use `newframe = frame.copy()`\n",
      "  mutations_all_protein.insert(current_max+i,\n"
     ]
    },
    {
     "name": "stdout",
     "output_type": "stream",
     "text": [
      "Appending HSPB1...\n"
     ]
    },
    {
     "name": "stderr",
     "output_type": "stream",
     "text": [
      "/var/folders/kv/l0jzxgbj1kggff_kd35bfzkw0000gn/T/ipykernel_42080/1574832305.py:4: PerformanceWarning: DataFrame is highly fragmented.  This is usually the result of calling `frame.insert` many times, which has poor performance.  Consider joining all columns at once using pd.concat(axis=1) instead. To get a de-fragmented frame, use `newframe = frame.copy()`\n",
      "  mutations_all_protein.insert(current_max+i,\n"
     ]
    },
    {
     "name": "stdout",
     "output_type": "stream",
     "text": [
      "Appending HSPD1...\n"
     ]
    },
    {
     "name": "stderr",
     "output_type": "stream",
     "text": [
      "/var/folders/kv/l0jzxgbj1kggff_kd35bfzkw0000gn/T/ipykernel_42080/1574832305.py:4: PerformanceWarning: DataFrame is highly fragmented.  This is usually the result of calling `frame.insert` many times, which has poor performance.  Consider joining all columns at once using pd.concat(axis=1) instead. To get a de-fragmented frame, use `newframe = frame.copy()`\n",
      "  mutations_all_protein.insert(current_max+i,\n"
     ]
    },
    {
     "name": "stdout",
     "output_type": "stream",
     "text": [
      "Appending HTATSF1...\n"
     ]
    },
    {
     "name": "stderr",
     "output_type": "stream",
     "text": [
      "/var/folders/kv/l0jzxgbj1kggff_kd35bfzkw0000gn/T/ipykernel_42080/1574832305.py:4: PerformanceWarning: DataFrame is highly fragmented.  This is usually the result of calling `frame.insert` many times, which has poor performance.  Consider joining all columns at once using pd.concat(axis=1) instead. To get a de-fragmented frame, use `newframe = frame.copy()`\n",
      "  mutations_all_protein.insert(current_max+i,\n"
     ]
    },
    {
     "name": "stdout",
     "output_type": "stream",
     "text": [
      "Appending HTRA1...\n"
     ]
    },
    {
     "name": "stderr",
     "output_type": "stream",
     "text": [
      "/var/folders/kv/l0jzxgbj1kggff_kd35bfzkw0000gn/T/ipykernel_42080/1574832305.py:4: PerformanceWarning: DataFrame is highly fragmented.  This is usually the result of calling `frame.insert` many times, which has poor performance.  Consider joining all columns at once using pd.concat(axis=1) instead. To get a de-fragmented frame, use `newframe = frame.copy()`\n",
      "  mutations_all_protein.insert(current_max+i,\n"
     ]
    },
    {
     "name": "stdout",
     "output_type": "stream",
     "text": [
      "Appending HYOU1...\n"
     ]
    },
    {
     "name": "stderr",
     "output_type": "stream",
     "text": [
      "/var/folders/kv/l0jzxgbj1kggff_kd35bfzkw0000gn/T/ipykernel_42080/1574832305.py:4: PerformanceWarning: DataFrame is highly fragmented.  This is usually the result of calling `frame.insert` many times, which has poor performance.  Consider joining all columns at once using pd.concat(axis=1) instead. To get a de-fragmented frame, use `newframe = frame.copy()`\n",
      "  mutations_all_protein.insert(current_max+i,\n"
     ]
    },
    {
     "name": "stdout",
     "output_type": "stream",
     "text": [
      "Appending IARS2...\n"
     ]
    },
    {
     "name": "stderr",
     "output_type": "stream",
     "text": [
      "/var/folders/kv/l0jzxgbj1kggff_kd35bfzkw0000gn/T/ipykernel_42080/1574832305.py:4: PerformanceWarning: DataFrame is highly fragmented.  This is usually the result of calling `frame.insert` many times, which has poor performance.  Consider joining all columns at once using pd.concat(axis=1) instead. To get a de-fragmented frame, use `newframe = frame.copy()`\n",
      "  mutations_all_protein.insert(current_max+i,\n"
     ]
    },
    {
     "name": "stdout",
     "output_type": "stream",
     "text": [
      "Appending ICAM1...\n"
     ]
    },
    {
     "name": "stderr",
     "output_type": "stream",
     "text": [
      "/var/folders/kv/l0jzxgbj1kggff_kd35bfzkw0000gn/T/ipykernel_42080/1574832305.py:4: PerformanceWarning: DataFrame is highly fragmented.  This is usually the result of calling `frame.insert` many times, which has poor performance.  Consider joining all columns at once using pd.concat(axis=1) instead. To get a de-fragmented frame, use `newframe = frame.copy()`\n",
      "  mutations_all_protein.insert(current_max+i,\n"
     ]
    },
    {
     "name": "stdout",
     "output_type": "stream",
     "text": [
      "Appending ICAM3...\n"
     ]
    },
    {
     "name": "stderr",
     "output_type": "stream",
     "text": [
      "/var/folders/kv/l0jzxgbj1kggff_kd35bfzkw0000gn/T/ipykernel_42080/1574832305.py:4: PerformanceWarning: DataFrame is highly fragmented.  This is usually the result of calling `frame.insert` many times, which has poor performance.  Consider joining all columns at once using pd.concat(axis=1) instead. To get a de-fragmented frame, use `newframe = frame.copy()`\n",
      "  mutations_all_protein.insert(current_max+i,\n"
     ]
    },
    {
     "name": "stdout",
     "output_type": "stream",
     "text": [
      "Appending ICMT...\n"
     ]
    },
    {
     "name": "stderr",
     "output_type": "stream",
     "text": [
      "/var/folders/kv/l0jzxgbj1kggff_kd35bfzkw0000gn/T/ipykernel_42080/1574832305.py:4: PerformanceWarning: DataFrame is highly fragmented.  This is usually the result of calling `frame.insert` many times, which has poor performance.  Consider joining all columns at once using pd.concat(axis=1) instead. To get a de-fragmented frame, use `newframe = frame.copy()`\n",
      "  mutations_all_protein.insert(current_max+i,\n"
     ]
    },
    {
     "name": "stdout",
     "output_type": "stream",
     "text": [
      "Appending ID2...\n"
     ]
    },
    {
     "name": "stderr",
     "output_type": "stream",
     "text": [
      "/var/folders/kv/l0jzxgbj1kggff_kd35bfzkw0000gn/T/ipykernel_42080/1574832305.py:4: PerformanceWarning: DataFrame is highly fragmented.  This is usually the result of calling `frame.insert` many times, which has poor performance.  Consider joining all columns at once using pd.concat(axis=1) instead. To get a de-fragmented frame, use `newframe = frame.copy()`\n",
      "  mutations_all_protein.insert(current_max+i,\n"
     ]
    },
    {
     "name": "stdout",
     "output_type": "stream",
     "text": [
      "Appending IDE...\n"
     ]
    },
    {
     "name": "stderr",
     "output_type": "stream",
     "text": [
      "/var/folders/kv/l0jzxgbj1kggff_kd35bfzkw0000gn/T/ipykernel_42080/1574832305.py:4: PerformanceWarning: DataFrame is highly fragmented.  This is usually the result of calling `frame.insert` many times, which has poor performance.  Consider joining all columns at once using pd.concat(axis=1) instead. To get a de-fragmented frame, use `newframe = frame.copy()`\n",
      "  mutations_all_protein.insert(current_max+i,\n"
     ]
    },
    {
     "name": "stdout",
     "output_type": "stream",
     "text": [
      "Appending IER3...\n"
     ]
    },
    {
     "name": "stderr",
     "output_type": "stream",
     "text": [
      "/var/folders/kv/l0jzxgbj1kggff_kd35bfzkw0000gn/T/ipykernel_42080/1574832305.py:4: PerformanceWarning: DataFrame is highly fragmented.  This is usually the result of calling `frame.insert` many times, which has poor performance.  Consider joining all columns at once using pd.concat(axis=1) instead. To get a de-fragmented frame, use `newframe = frame.copy()`\n",
      "  mutations_all_protein.insert(current_max+i,\n"
     ]
    },
    {
     "name": "stdout",
     "output_type": "stream",
     "text": [
      "Appending IFNAR1...\n"
     ]
    },
    {
     "name": "stderr",
     "output_type": "stream",
     "text": [
      "/var/folders/kv/l0jzxgbj1kggff_kd35bfzkw0000gn/T/ipykernel_42080/1574832305.py:4: PerformanceWarning: DataFrame is highly fragmented.  This is usually the result of calling `frame.insert` many times, which has poor performance.  Consider joining all columns at once using pd.concat(axis=1) instead. To get a de-fragmented frame, use `newframe = frame.copy()`\n",
      "  mutations_all_protein.insert(current_max+i,\n"
     ]
    },
    {
     "name": "stdout",
     "output_type": "stream",
     "text": [
      "Appending IFRD2...\n"
     ]
    },
    {
     "name": "stderr",
     "output_type": "stream",
     "text": [
      "/var/folders/kv/l0jzxgbj1kggff_kd35bfzkw0000gn/T/ipykernel_42080/1574832305.py:4: PerformanceWarning: DataFrame is highly fragmented.  This is usually the result of calling `frame.insert` many times, which has poor performance.  Consider joining all columns at once using pd.concat(axis=1) instead. To get a de-fragmented frame, use `newframe = frame.copy()`\n",
      "  mutations_all_protein.insert(current_max+i,\n"
     ]
    },
    {
     "name": "stdout",
     "output_type": "stream",
     "text": [
      "Appending IGF1R...\n"
     ]
    },
    {
     "name": "stderr",
     "output_type": "stream",
     "text": [
      "/var/folders/kv/l0jzxgbj1kggff_kd35bfzkw0000gn/T/ipykernel_42080/1574832305.py:4: PerformanceWarning: DataFrame is highly fragmented.  This is usually the result of calling `frame.insert` many times, which has poor performance.  Consider joining all columns at once using pd.concat(axis=1) instead. To get a de-fragmented frame, use `newframe = frame.copy()`\n",
      "  mutations_all_protein.insert(current_max+i,\n"
     ]
    },
    {
     "name": "stdout",
     "output_type": "stream",
     "text": [
      "Appending IGF2BP2...\n"
     ]
    },
    {
     "name": "stderr",
     "output_type": "stream",
     "text": [
      "/var/folders/kv/l0jzxgbj1kggff_kd35bfzkw0000gn/T/ipykernel_42080/1574832305.py:4: PerformanceWarning: DataFrame is highly fragmented.  This is usually the result of calling `frame.insert` many times, which has poor performance.  Consider joining all columns at once using pd.concat(axis=1) instead. To get a de-fragmented frame, use `newframe = frame.copy()`\n",
      "  mutations_all_protein.insert(current_max+i,\n"
     ]
    },
    {
     "name": "stdout",
     "output_type": "stream",
     "text": [
      "Appending IGF2R...\n"
     ]
    },
    {
     "name": "stderr",
     "output_type": "stream",
     "text": [
      "/var/folders/kv/l0jzxgbj1kggff_kd35bfzkw0000gn/T/ipykernel_42080/1574832305.py:4: PerformanceWarning: DataFrame is highly fragmented.  This is usually the result of calling `frame.insert` many times, which has poor performance.  Consider joining all columns at once using pd.concat(axis=1) instead. To get a de-fragmented frame, use `newframe = frame.copy()`\n",
      "  mutations_all_protein.insert(current_max+i,\n"
     ]
    },
    {
     "name": "stdout",
     "output_type": "stream",
     "text": [
      "Appending IGFBP3...\n"
     ]
    },
    {
     "name": "stderr",
     "output_type": "stream",
     "text": [
      "/var/folders/kv/l0jzxgbj1kggff_kd35bfzkw0000gn/T/ipykernel_42080/1574832305.py:4: PerformanceWarning: DataFrame is highly fragmented.  This is usually the result of calling `frame.insert` many times, which has poor performance.  Consider joining all columns at once using pd.concat(axis=1) instead. To get a de-fragmented frame, use `newframe = frame.copy()`\n",
      "  mutations_all_protein.insert(current_max+i,\n"
     ]
    },
    {
     "name": "stdout",
     "output_type": "stream",
     "text": [
      "Appending IGHMBP2...\n"
     ]
    },
    {
     "name": "stderr",
     "output_type": "stream",
     "text": [
      "/var/folders/kv/l0jzxgbj1kggff_kd35bfzkw0000gn/T/ipykernel_42080/1574832305.py:4: PerformanceWarning: DataFrame is highly fragmented.  This is usually the result of calling `frame.insert` many times, which has poor performance.  Consider joining all columns at once using pd.concat(axis=1) instead. To get a de-fragmented frame, use `newframe = frame.copy()`\n",
      "  mutations_all_protein.insert(current_max+i,\n"
     ]
    },
    {
     "name": "stdout",
     "output_type": "stream",
     "text": [
      "Appending IKBKB...\n"
     ]
    },
    {
     "name": "stderr",
     "output_type": "stream",
     "text": [
      "/var/folders/kv/l0jzxgbj1kggff_kd35bfzkw0000gn/T/ipykernel_42080/1574832305.py:4: PerformanceWarning: DataFrame is highly fragmented.  This is usually the result of calling `frame.insert` many times, which has poor performance.  Consider joining all columns at once using pd.concat(axis=1) instead. To get a de-fragmented frame, use `newframe = frame.copy()`\n",
      "  mutations_all_protein.insert(current_max+i,\n"
     ]
    },
    {
     "name": "stdout",
     "output_type": "stream",
     "text": [
      "Appending IKBKE...\n"
     ]
    },
    {
     "name": "stderr",
     "output_type": "stream",
     "text": [
      "/var/folders/kv/l0jzxgbj1kggff_kd35bfzkw0000gn/T/ipykernel_42080/1574832305.py:4: PerformanceWarning: DataFrame is highly fragmented.  This is usually the result of calling `frame.insert` many times, which has poor performance.  Consider joining all columns at once using pd.concat(axis=1) instead. To get a de-fragmented frame, use `newframe = frame.copy()`\n",
      "  mutations_all_protein.insert(current_max+i,\n"
     ]
    },
    {
     "name": "stdout",
     "output_type": "stream",
     "text": [
      "Appending IKZF1...\n"
     ]
    },
    {
     "name": "stderr",
     "output_type": "stream",
     "text": [
      "/var/folders/kv/l0jzxgbj1kggff_kd35bfzkw0000gn/T/ipykernel_42080/1574832305.py:4: PerformanceWarning: DataFrame is highly fragmented.  This is usually the result of calling `frame.insert` many times, which has poor performance.  Consider joining all columns at once using pd.concat(axis=1) instead. To get a de-fragmented frame, use `newframe = frame.copy()`\n",
      "  mutations_all_protein.insert(current_max+i,\n"
     ]
    },
    {
     "name": "stdout",
     "output_type": "stream",
     "text": [
      "Appending IL13RA1...\n"
     ]
    },
    {
     "name": "stderr",
     "output_type": "stream",
     "text": [
      "/var/folders/kv/l0jzxgbj1kggff_kd35bfzkw0000gn/T/ipykernel_42080/1574832305.py:4: PerformanceWarning: DataFrame is highly fragmented.  This is usually the result of calling `frame.insert` many times, which has poor performance.  Consider joining all columns at once using pd.concat(axis=1) instead. To get a de-fragmented frame, use `newframe = frame.copy()`\n",
      "  mutations_all_protein.insert(current_max+i,\n"
     ]
    },
    {
     "name": "stdout",
     "output_type": "stream",
     "text": [
      "Appending IL1B...\n"
     ]
    },
    {
     "name": "stderr",
     "output_type": "stream",
     "text": [
      "/var/folders/kv/l0jzxgbj1kggff_kd35bfzkw0000gn/T/ipykernel_42080/1574832305.py:4: PerformanceWarning: DataFrame is highly fragmented.  This is usually the result of calling `frame.insert` many times, which has poor performance.  Consider joining all columns at once using pd.concat(axis=1) instead. To get a de-fragmented frame, use `newframe = frame.copy()`\n",
      "  mutations_all_protein.insert(current_max+i,\n"
     ]
    },
    {
     "name": "stdout",
     "output_type": "stream",
     "text": [
      "Appending IL4R...\n"
     ]
    },
    {
     "name": "stderr",
     "output_type": "stream",
     "text": [
      "/var/folders/kv/l0jzxgbj1kggff_kd35bfzkw0000gn/T/ipykernel_42080/1574832305.py:4: PerformanceWarning: DataFrame is highly fragmented.  This is usually the result of calling `frame.insert` many times, which has poor performance.  Consider joining all columns at once using pd.concat(axis=1) instead. To get a de-fragmented frame, use `newframe = frame.copy()`\n",
      "  mutations_all_protein.insert(current_max+i,\n"
     ]
    },
    {
     "name": "stdout",
     "output_type": "stream",
     "text": [
      "Appending ILK...\n"
     ]
    },
    {
     "name": "stderr",
     "output_type": "stream",
     "text": [
      "/var/folders/kv/l0jzxgbj1kggff_kd35bfzkw0000gn/T/ipykernel_42080/1574832305.py:4: PerformanceWarning: DataFrame is highly fragmented.  This is usually the result of calling `frame.insert` many times, which has poor performance.  Consider joining all columns at once using pd.concat(axis=1) instead. To get a de-fragmented frame, use `newframe = frame.copy()`\n",
      "  mutations_all_protein.insert(current_max+i,\n"
     ]
    },
    {
     "name": "stdout",
     "output_type": "stream",
     "text": [
      "Appending INPP1...\n"
     ]
    },
    {
     "name": "stderr",
     "output_type": "stream",
     "text": [
      "/var/folders/kv/l0jzxgbj1kggff_kd35bfzkw0000gn/T/ipykernel_42080/1574832305.py:4: PerformanceWarning: DataFrame is highly fragmented.  This is usually the result of calling `frame.insert` many times, which has poor performance.  Consider joining all columns at once using pd.concat(axis=1) instead. To get a de-fragmented frame, use `newframe = frame.copy()`\n",
      "  mutations_all_protein.insert(current_max+i,\n"
     ]
    },
    {
     "name": "stdout",
     "output_type": "stream",
     "text": [
      "Appending INPP4B...\n"
     ]
    },
    {
     "name": "stderr",
     "output_type": "stream",
     "text": [
      "/var/folders/kv/l0jzxgbj1kggff_kd35bfzkw0000gn/T/ipykernel_42080/1574832305.py:4: PerformanceWarning: DataFrame is highly fragmented.  This is usually the result of calling `frame.insert` many times, which has poor performance.  Consider joining all columns at once using pd.concat(axis=1) instead. To get a de-fragmented frame, use `newframe = frame.copy()`\n",
      "  mutations_all_protein.insert(current_max+i,\n"
     ]
    },
    {
     "name": "stdout",
     "output_type": "stream",
     "text": [
      "Appending INSIG1...\n"
     ]
    },
    {
     "name": "stderr",
     "output_type": "stream",
     "text": [
      "/var/folders/kv/l0jzxgbj1kggff_kd35bfzkw0000gn/T/ipykernel_42080/1574832305.py:4: PerformanceWarning: DataFrame is highly fragmented.  This is usually the result of calling `frame.insert` many times, which has poor performance.  Consider joining all columns at once using pd.concat(axis=1) instead. To get a de-fragmented frame, use `newframe = frame.copy()`\n",
      "  mutations_all_protein.insert(current_max+i,\n"
     ]
    },
    {
     "name": "stdout",
     "output_type": "stream",
     "text": [
      "Appending INTS3...\n"
     ]
    },
    {
     "name": "stderr",
     "output_type": "stream",
     "text": [
      "/var/folders/kv/l0jzxgbj1kggff_kd35bfzkw0000gn/T/ipykernel_42080/1574832305.py:4: PerformanceWarning: DataFrame is highly fragmented.  This is usually the result of calling `frame.insert` many times, which has poor performance.  Consider joining all columns at once using pd.concat(axis=1) instead. To get a de-fragmented frame, use `newframe = frame.copy()`\n",
      "  mutations_all_protein.insert(current_max+i,\n"
     ]
    },
    {
     "name": "stdout",
     "output_type": "stream",
     "text": [
      "Appending IPO13...\n"
     ]
    },
    {
     "name": "stderr",
     "output_type": "stream",
     "text": [
      "/var/folders/kv/l0jzxgbj1kggff_kd35bfzkw0000gn/T/ipykernel_42080/1574832305.py:4: PerformanceWarning: DataFrame is highly fragmented.  This is usually the result of calling `frame.insert` many times, which has poor performance.  Consider joining all columns at once using pd.concat(axis=1) instead. To get a de-fragmented frame, use `newframe = frame.copy()`\n",
      "  mutations_all_protein.insert(current_max+i,\n"
     ]
    },
    {
     "name": "stdout",
     "output_type": "stream",
     "text": [
      "Appending IQGAP1...\n"
     ]
    },
    {
     "name": "stderr",
     "output_type": "stream",
     "text": [
      "/var/folders/kv/l0jzxgbj1kggff_kd35bfzkw0000gn/T/ipykernel_42080/1574832305.py:4: PerformanceWarning: DataFrame is highly fragmented.  This is usually the result of calling `frame.insert` many times, which has poor performance.  Consider joining all columns at once using pd.concat(axis=1) instead. To get a de-fragmented frame, use `newframe = frame.copy()`\n",
      "  mutations_all_protein.insert(current_max+i,\n"
     ]
    },
    {
     "name": "stdout",
     "output_type": "stream",
     "text": [
      "Appending ISOC1...\n"
     ]
    },
    {
     "name": "stderr",
     "output_type": "stream",
     "text": [
      "/var/folders/kv/l0jzxgbj1kggff_kd35bfzkw0000gn/T/ipykernel_42080/1574832305.py:4: PerformanceWarning: DataFrame is highly fragmented.  This is usually the result of calling `frame.insert` many times, which has poor performance.  Consider joining all columns at once using pd.concat(axis=1) instead. To get a de-fragmented frame, use `newframe = frame.copy()`\n",
      "  mutations_all_protein.insert(current_max+i,\n"
     ]
    },
    {
     "name": "stdout",
     "output_type": "stream",
     "text": [
      "Appending ITFG1...\n"
     ]
    },
    {
     "name": "stderr",
     "output_type": "stream",
     "text": [
      "/var/folders/kv/l0jzxgbj1kggff_kd35bfzkw0000gn/T/ipykernel_42080/1574832305.py:4: PerformanceWarning: DataFrame is highly fragmented.  This is usually the result of calling `frame.insert` many times, which has poor performance.  Consider joining all columns at once using pd.concat(axis=1) instead. To get a de-fragmented frame, use `newframe = frame.copy()`\n",
      "  mutations_all_protein.insert(current_max+i,\n"
     ]
    },
    {
     "name": "stdout",
     "output_type": "stream",
     "text": [
      "Appending ITGAE...\n"
     ]
    },
    {
     "name": "stderr",
     "output_type": "stream",
     "text": [
      "/var/folders/kv/l0jzxgbj1kggff_kd35bfzkw0000gn/T/ipykernel_42080/1574832305.py:4: PerformanceWarning: DataFrame is highly fragmented.  This is usually the result of calling `frame.insert` many times, which has poor performance.  Consider joining all columns at once using pd.concat(axis=1) instead. To get a de-fragmented frame, use `newframe = frame.copy()`\n",
      "  mutations_all_protein.insert(current_max+i,\n"
     ]
    },
    {
     "name": "stdout",
     "output_type": "stream",
     "text": [
      "Appending ITGB1BP1...\n"
     ]
    },
    {
     "name": "stderr",
     "output_type": "stream",
     "text": [
      "/var/folders/kv/l0jzxgbj1kggff_kd35bfzkw0000gn/T/ipykernel_42080/1574832305.py:4: PerformanceWarning: DataFrame is highly fragmented.  This is usually the result of calling `frame.insert` many times, which has poor performance.  Consider joining all columns at once using pd.concat(axis=1) instead. To get a de-fragmented frame, use `newframe = frame.copy()`\n",
      "  mutations_all_protein.insert(current_max+i,\n"
     ]
    },
    {
     "name": "stdout",
     "output_type": "stream",
     "text": [
      "Appending ITGB5...\n"
     ]
    },
    {
     "name": "stderr",
     "output_type": "stream",
     "text": [
      "/var/folders/kv/l0jzxgbj1kggff_kd35bfzkw0000gn/T/ipykernel_42080/1574832305.py:4: PerformanceWarning: DataFrame is highly fragmented.  This is usually the result of calling `frame.insert` many times, which has poor performance.  Consider joining all columns at once using pd.concat(axis=1) instead. To get a de-fragmented frame, use `newframe = frame.copy()`\n",
      "  mutations_all_protein.insert(current_max+i,\n"
     ]
    },
    {
     "name": "stdout",
     "output_type": "stream",
     "text": [
      "Appending JADE2...\n"
     ]
    },
    {
     "name": "stderr",
     "output_type": "stream",
     "text": [
      "/var/folders/kv/l0jzxgbj1kggff_kd35bfzkw0000gn/T/ipykernel_42080/1574832305.py:4: PerformanceWarning: DataFrame is highly fragmented.  This is usually the result of calling `frame.insert` many times, which has poor performance.  Consider joining all columns at once using pd.concat(axis=1) instead. To get a de-fragmented frame, use `newframe = frame.copy()`\n",
      "  mutations_all_protein.insert(current_max+i,\n"
     ]
    },
    {
     "name": "stdout",
     "output_type": "stream",
     "text": [
      "Appending JMJD6...\n"
     ]
    },
    {
     "name": "stderr",
     "output_type": "stream",
     "text": [
      "/var/folders/kv/l0jzxgbj1kggff_kd35bfzkw0000gn/T/ipykernel_42080/1574832305.py:4: PerformanceWarning: DataFrame is highly fragmented.  This is usually the result of calling `frame.insert` many times, which has poor performance.  Consider joining all columns at once using pd.concat(axis=1) instead. To get a de-fragmented frame, use `newframe = frame.copy()`\n",
      "  mutations_all_protein.insert(current_max+i,\n"
     ]
    },
    {
     "name": "stdout",
     "output_type": "stream",
     "text": [
      "Appending JUN...\n"
     ]
    },
    {
     "name": "stderr",
     "output_type": "stream",
     "text": [
      "/var/folders/kv/l0jzxgbj1kggff_kd35bfzkw0000gn/T/ipykernel_42080/1574832305.py:4: PerformanceWarning: DataFrame is highly fragmented.  This is usually the result of calling `frame.insert` many times, which has poor performance.  Consider joining all columns at once using pd.concat(axis=1) instead. To get a de-fragmented frame, use `newframe = frame.copy()`\n",
      "  mutations_all_protein.insert(current_max+i,\n"
     ]
    },
    {
     "name": "stdout",
     "output_type": "stream",
     "text": [
      "Appending KAT6A...\n"
     ]
    },
    {
     "name": "stderr",
     "output_type": "stream",
     "text": [
      "/var/folders/kv/l0jzxgbj1kggff_kd35bfzkw0000gn/T/ipykernel_42080/1574832305.py:4: PerformanceWarning: DataFrame is highly fragmented.  This is usually the result of calling `frame.insert` many times, which has poor performance.  Consider joining all columns at once using pd.concat(axis=1) instead. To get a de-fragmented frame, use `newframe = frame.copy()`\n",
      "  mutations_all_protein.insert(current_max+i,\n"
     ]
    },
    {
     "name": "stdout",
     "output_type": "stream",
     "text": [
      "Appending KAT6B...\n"
     ]
    },
    {
     "name": "stderr",
     "output_type": "stream",
     "text": [
      "/var/folders/kv/l0jzxgbj1kggff_kd35bfzkw0000gn/T/ipykernel_42080/1574832305.py:4: PerformanceWarning: DataFrame is highly fragmented.  This is usually the result of calling `frame.insert` many times, which has poor performance.  Consider joining all columns at once using pd.concat(axis=1) instead. To get a de-fragmented frame, use `newframe = frame.copy()`\n",
      "  mutations_all_protein.insert(current_max+i,\n"
     ]
    },
    {
     "name": "stdout",
     "output_type": "stream",
     "text": [
      "Appending KCNK1...\n"
     ]
    },
    {
     "name": "stderr",
     "output_type": "stream",
     "text": [
      "/var/folders/kv/l0jzxgbj1kggff_kd35bfzkw0000gn/T/ipykernel_42080/1574832305.py:4: PerformanceWarning: DataFrame is highly fragmented.  This is usually the result of calling `frame.insert` many times, which has poor performance.  Consider joining all columns at once using pd.concat(axis=1) instead. To get a de-fragmented frame, use `newframe = frame.copy()`\n",
      "  mutations_all_protein.insert(current_max+i,\n"
     ]
    },
    {
     "name": "stdout",
     "output_type": "stream",
     "text": [
      "Appending KCTD5...\n"
     ]
    },
    {
     "name": "stderr",
     "output_type": "stream",
     "text": [
      "/var/folders/kv/l0jzxgbj1kggff_kd35bfzkw0000gn/T/ipykernel_42080/1574832305.py:4: PerformanceWarning: DataFrame is highly fragmented.  This is usually the result of calling `frame.insert` many times, which has poor performance.  Consider joining all columns at once using pd.concat(axis=1) instead. To get a de-fragmented frame, use `newframe = frame.copy()`\n",
      "  mutations_all_protein.insert(current_max+i,\n"
     ]
    },
    {
     "name": "stdout",
     "output_type": "stream",
     "text": [
      "Appending KDELR2...\n"
     ]
    },
    {
     "name": "stderr",
     "output_type": "stream",
     "text": [
      "/var/folders/kv/l0jzxgbj1kggff_kd35bfzkw0000gn/T/ipykernel_42080/1574832305.py:4: PerformanceWarning: DataFrame is highly fragmented.  This is usually the result of calling `frame.insert` many times, which has poor performance.  Consider joining all columns at once using pd.concat(axis=1) instead. To get a de-fragmented frame, use `newframe = frame.copy()`\n",
      "  mutations_all_protein.insert(current_max+i,\n"
     ]
    },
    {
     "name": "stdout",
     "output_type": "stream",
     "text": [
      "Appending KDM3A...\n"
     ]
    },
    {
     "name": "stderr",
     "output_type": "stream",
     "text": [
      "/var/folders/kv/l0jzxgbj1kggff_kd35bfzkw0000gn/T/ipykernel_42080/1574832305.py:4: PerformanceWarning: DataFrame is highly fragmented.  This is usually the result of calling `frame.insert` many times, which has poor performance.  Consider joining all columns at once using pd.concat(axis=1) instead. To get a de-fragmented frame, use `newframe = frame.copy()`\n",
      "  mutations_all_protein.insert(current_max+i,\n"
     ]
    },
    {
     "name": "stdout",
     "output_type": "stream",
     "text": [
      "Appending KDM5A...\n"
     ]
    },
    {
     "name": "stderr",
     "output_type": "stream",
     "text": [
      "/var/folders/kv/l0jzxgbj1kggff_kd35bfzkw0000gn/T/ipykernel_42080/1574832305.py:4: PerformanceWarning: DataFrame is highly fragmented.  This is usually the result of calling `frame.insert` many times, which has poor performance.  Consider joining all columns at once using pd.concat(axis=1) instead. To get a de-fragmented frame, use `newframe = frame.copy()`\n",
      "  mutations_all_protein.insert(current_max+i,\n"
     ]
    },
    {
     "name": "stdout",
     "output_type": "stream",
     "text": [
      "Appending KDM5B...\n"
     ]
    },
    {
     "name": "stderr",
     "output_type": "stream",
     "text": [
      "/var/folders/kv/l0jzxgbj1kggff_kd35bfzkw0000gn/T/ipykernel_42080/1574832305.py:4: PerformanceWarning: DataFrame is highly fragmented.  This is usually the result of calling `frame.insert` many times, which has poor performance.  Consider joining all columns at once using pd.concat(axis=1) instead. To get a de-fragmented frame, use `newframe = frame.copy()`\n",
      "  mutations_all_protein.insert(current_max+i,\n"
     ]
    },
    {
     "name": "stdout",
     "output_type": "stream",
     "text": [
      "Appending KEAP1...\n"
     ]
    },
    {
     "name": "stderr",
     "output_type": "stream",
     "text": [
      "/var/folders/kv/l0jzxgbj1kggff_kd35bfzkw0000gn/T/ipykernel_42080/1574832305.py:4: PerformanceWarning: DataFrame is highly fragmented.  This is usually the result of calling `frame.insert` many times, which has poor performance.  Consider joining all columns at once using pd.concat(axis=1) instead. To get a de-fragmented frame, use `newframe = frame.copy()`\n",
      "  mutations_all_protein.insert(current_max+i,\n"
     ]
    },
    {
     "name": "stdout",
     "output_type": "stream",
     "text": [
      "Appending KIAA0100...\n"
     ]
    },
    {
     "name": "stderr",
     "output_type": "stream",
     "text": [
      "/var/folders/kv/l0jzxgbj1kggff_kd35bfzkw0000gn/T/ipykernel_42080/1574832305.py:4: PerformanceWarning: DataFrame is highly fragmented.  This is usually the result of calling `frame.insert` many times, which has poor performance.  Consider joining all columns at once using pd.concat(axis=1) instead. To get a de-fragmented frame, use `newframe = frame.copy()`\n",
      "  mutations_all_protein.insert(current_max+i,\n"
     ]
    },
    {
     "name": "stdout",
     "output_type": "stream",
     "text": [
      "Appending KIAA0753...\n"
     ]
    },
    {
     "name": "stderr",
     "output_type": "stream",
     "text": [
      "/var/folders/kv/l0jzxgbj1kggff_kd35bfzkw0000gn/T/ipykernel_42080/1574832305.py:4: PerformanceWarning: DataFrame is highly fragmented.  This is usually the result of calling `frame.insert` many times, which has poor performance.  Consider joining all columns at once using pd.concat(axis=1) instead. To get a de-fragmented frame, use `newframe = frame.copy()`\n",
      "  mutations_all_protein.insert(current_max+i,\n"
     ]
    },
    {
     "name": "stdout",
     "output_type": "stream",
     "text": [
      "Appending KIF14...\n"
     ]
    },
    {
     "name": "stderr",
     "output_type": "stream",
     "text": [
      "/var/folders/kv/l0jzxgbj1kggff_kd35bfzkw0000gn/T/ipykernel_42080/1574832305.py:4: PerformanceWarning: DataFrame is highly fragmented.  This is usually the result of calling `frame.insert` many times, which has poor performance.  Consider joining all columns at once using pd.concat(axis=1) instead. To get a de-fragmented frame, use `newframe = frame.copy()`\n",
      "  mutations_all_protein.insert(current_max+i,\n"
     ]
    },
    {
     "name": "stdout",
     "output_type": "stream",
     "text": [
      "Appending KIF20A...\n"
     ]
    },
    {
     "name": "stderr",
     "output_type": "stream",
     "text": [
      "/var/folders/kv/l0jzxgbj1kggff_kd35bfzkw0000gn/T/ipykernel_42080/1574832305.py:4: PerformanceWarning: DataFrame is highly fragmented.  This is usually the result of calling `frame.insert` many times, which has poor performance.  Consider joining all columns at once using pd.concat(axis=1) instead. To get a de-fragmented frame, use `newframe = frame.copy()`\n",
      "  mutations_all_protein.insert(current_max+i,\n"
     ]
    },
    {
     "name": "stdout",
     "output_type": "stream",
     "text": [
      "Appending KIF2C...\n"
     ]
    },
    {
     "name": "stderr",
     "output_type": "stream",
     "text": [
      "/var/folders/kv/l0jzxgbj1kggff_kd35bfzkw0000gn/T/ipykernel_42080/1574832305.py:4: PerformanceWarning: DataFrame is highly fragmented.  This is usually the result of calling `frame.insert` many times, which has poor performance.  Consider joining all columns at once using pd.concat(axis=1) instead. To get a de-fragmented frame, use `newframe = frame.copy()`\n",
      "  mutations_all_protein.insert(current_max+i,\n"
     ]
    },
    {
     "name": "stdout",
     "output_type": "stream",
     "text": [
      "Appending KIF5C...\n"
     ]
    },
    {
     "name": "stderr",
     "output_type": "stream",
     "text": [
      "/var/folders/kv/l0jzxgbj1kggff_kd35bfzkw0000gn/T/ipykernel_42080/1574832305.py:4: PerformanceWarning: DataFrame is highly fragmented.  This is usually the result of calling `frame.insert` many times, which has poor performance.  Consider joining all columns at once using pd.concat(axis=1) instead. To get a de-fragmented frame, use `newframe = frame.copy()`\n",
      "  mutations_all_protein.insert(current_max+i,\n"
     ]
    },
    {
     "name": "stdout",
     "output_type": "stream",
     "text": [
      "Appending KIT...\n"
     ]
    },
    {
     "name": "stderr",
     "output_type": "stream",
     "text": [
      "/var/folders/kv/l0jzxgbj1kggff_kd35bfzkw0000gn/T/ipykernel_42080/1574832305.py:4: PerformanceWarning: DataFrame is highly fragmented.  This is usually the result of calling `frame.insert` many times, which has poor performance.  Consider joining all columns at once using pd.concat(axis=1) instead. To get a de-fragmented frame, use `newframe = frame.copy()`\n",
      "  mutations_all_protein.insert(current_max+i,\n"
     ]
    },
    {
     "name": "stdout",
     "output_type": "stream",
     "text": [
      "Appending KLHDC2...\n"
     ]
    },
    {
     "name": "stderr",
     "output_type": "stream",
     "text": [
      "/var/folders/kv/l0jzxgbj1kggff_kd35bfzkw0000gn/T/ipykernel_42080/1574832305.py:4: PerformanceWarning: DataFrame is highly fragmented.  This is usually the result of calling `frame.insert` many times, which has poor performance.  Consider joining all columns at once using pd.concat(axis=1) instead. To get a de-fragmented frame, use `newframe = frame.copy()`\n",
      "  mutations_all_protein.insert(current_max+i,\n"
     ]
    },
    {
     "name": "stdout",
     "output_type": "stream",
     "text": [
      "Appending KLHL21...\n"
     ]
    },
    {
     "name": "stderr",
     "output_type": "stream",
     "text": [
      "/var/folders/kv/l0jzxgbj1kggff_kd35bfzkw0000gn/T/ipykernel_42080/1574832305.py:4: PerformanceWarning: DataFrame is highly fragmented.  This is usually the result of calling `frame.insert` many times, which has poor performance.  Consider joining all columns at once using pd.concat(axis=1) instead. To get a de-fragmented frame, use `newframe = frame.copy()`\n",
      "  mutations_all_protein.insert(current_max+i,\n"
     ]
    },
    {
     "name": "stdout",
     "output_type": "stream",
     "text": [
      "Appending KLHL9...\n"
     ]
    },
    {
     "name": "stderr",
     "output_type": "stream",
     "text": [
      "/var/folders/kv/l0jzxgbj1kggff_kd35bfzkw0000gn/T/ipykernel_42080/1574832305.py:4: PerformanceWarning: DataFrame is highly fragmented.  This is usually the result of calling `frame.insert` many times, which has poor performance.  Consider joining all columns at once using pd.concat(axis=1) instead. To get a de-fragmented frame, use `newframe = frame.copy()`\n",
      "  mutations_all_protein.insert(current_max+i,\n"
     ]
    },
    {
     "name": "stdout",
     "output_type": "stream",
     "text": [
      "Appending KTN1...\n"
     ]
    },
    {
     "name": "stderr",
     "output_type": "stream",
     "text": [
      "/var/folders/kv/l0jzxgbj1kggff_kd35bfzkw0000gn/T/ipykernel_42080/1574832305.py:4: PerformanceWarning: DataFrame is highly fragmented.  This is usually the result of calling `frame.insert` many times, which has poor performance.  Consider joining all columns at once using pd.concat(axis=1) instead. To get a de-fragmented frame, use `newframe = frame.copy()`\n",
      "  mutations_all_protein.insert(current_max+i,\n"
     ]
    },
    {
     "name": "stdout",
     "output_type": "stream",
     "text": [
      "Appending LAGE3...\n"
     ]
    },
    {
     "name": "stderr",
     "output_type": "stream",
     "text": [
      "/var/folders/kv/l0jzxgbj1kggff_kd35bfzkw0000gn/T/ipykernel_42080/1574832305.py:4: PerformanceWarning: DataFrame is highly fragmented.  This is usually the result of calling `frame.insert` many times, which has poor performance.  Consider joining all columns at once using pd.concat(axis=1) instead. To get a de-fragmented frame, use `newframe = frame.copy()`\n",
      "  mutations_all_protein.insert(current_max+i,\n"
     ]
    },
    {
     "name": "stdout",
     "output_type": "stream",
     "text": [
      "Appending LAMA3...\n"
     ]
    },
    {
     "name": "stderr",
     "output_type": "stream",
     "text": [
      "/var/folders/kv/l0jzxgbj1kggff_kd35bfzkw0000gn/T/ipykernel_42080/1574832305.py:4: PerformanceWarning: DataFrame is highly fragmented.  This is usually the result of calling `frame.insert` many times, which has poor performance.  Consider joining all columns at once using pd.concat(axis=1) instead. To get a de-fragmented frame, use `newframe = frame.copy()`\n",
      "  mutations_all_protein.insert(current_max+i,\n"
     ]
    },
    {
     "name": "stdout",
     "output_type": "stream",
     "text": [
      "Appending LAP3...\n"
     ]
    },
    {
     "name": "stderr",
     "output_type": "stream",
     "text": [
      "/var/folders/kv/l0jzxgbj1kggff_kd35bfzkw0000gn/T/ipykernel_42080/1574832305.py:4: PerformanceWarning: DataFrame is highly fragmented.  This is usually the result of calling `frame.insert` many times, which has poor performance.  Consider joining all columns at once using pd.concat(axis=1) instead. To get a de-fragmented frame, use `newframe = frame.copy()`\n",
      "  mutations_all_protein.insert(current_max+i,\n"
     ]
    },
    {
     "name": "stdout",
     "output_type": "stream",
     "text": [
      "Appending LBR...\n"
     ]
    },
    {
     "name": "stderr",
     "output_type": "stream",
     "text": [
      "/var/folders/kv/l0jzxgbj1kggff_kd35bfzkw0000gn/T/ipykernel_42080/1574832305.py:4: PerformanceWarning: DataFrame is highly fragmented.  This is usually the result of calling `frame.insert` many times, which has poor performance.  Consider joining all columns at once using pd.concat(axis=1) instead. To get a de-fragmented frame, use `newframe = frame.copy()`\n",
      "  mutations_all_protein.insert(current_max+i,\n"
     ]
    },
    {
     "name": "stdout",
     "output_type": "stream",
     "text": [
      "Appending LGALS8...\n"
     ]
    },
    {
     "name": "stderr",
     "output_type": "stream",
     "text": [
      "/var/folders/kv/l0jzxgbj1kggff_kd35bfzkw0000gn/T/ipykernel_42080/1574832305.py:4: PerformanceWarning: DataFrame is highly fragmented.  This is usually the result of calling `frame.insert` many times, which has poor performance.  Consider joining all columns at once using pd.concat(axis=1) instead. To get a de-fragmented frame, use `newframe = frame.copy()`\n",
      "  mutations_all_protein.insert(current_max+i,\n"
     ]
    },
    {
     "name": "stdout",
     "output_type": "stream",
     "text": [
      "Appending LGMN...\n"
     ]
    },
    {
     "name": "stderr",
     "output_type": "stream",
     "text": [
      "/var/folders/kv/l0jzxgbj1kggff_kd35bfzkw0000gn/T/ipykernel_42080/1574832305.py:4: PerformanceWarning: DataFrame is highly fragmented.  This is usually the result of calling `frame.insert` many times, which has poor performance.  Consider joining all columns at once using pd.concat(axis=1) instead. To get a de-fragmented frame, use `newframe = frame.copy()`\n",
      "  mutations_all_protein.insert(current_max+i,\n"
     ]
    },
    {
     "name": "stdout",
     "output_type": "stream",
     "text": [
      "Appending LIG1...\n"
     ]
    },
    {
     "name": "stderr",
     "output_type": "stream",
     "text": [
      "/var/folders/kv/l0jzxgbj1kggff_kd35bfzkw0000gn/T/ipykernel_42080/1574832305.py:4: PerformanceWarning: DataFrame is highly fragmented.  This is usually the result of calling `frame.insert` many times, which has poor performance.  Consider joining all columns at once using pd.concat(axis=1) instead. To get a de-fragmented frame, use `newframe = frame.copy()`\n",
      "  mutations_all_protein.insert(current_max+i,\n"
     ]
    },
    {
     "name": "stdout",
     "output_type": "stream",
     "text": [
      "Appending LIPA...\n"
     ]
    },
    {
     "name": "stderr",
     "output_type": "stream",
     "text": [
      "/var/folders/kv/l0jzxgbj1kggff_kd35bfzkw0000gn/T/ipykernel_42080/1574832305.py:4: PerformanceWarning: DataFrame is highly fragmented.  This is usually the result of calling `frame.insert` many times, which has poor performance.  Consider joining all columns at once using pd.concat(axis=1) instead. To get a de-fragmented frame, use `newframe = frame.copy()`\n",
      "  mutations_all_protein.insert(current_max+i,\n"
     ]
    },
    {
     "name": "stdout",
     "output_type": "stream",
     "text": [
      "Appending LOXL1...\n"
     ]
    },
    {
     "name": "stderr",
     "output_type": "stream",
     "text": [
      "/var/folders/kv/l0jzxgbj1kggff_kd35bfzkw0000gn/T/ipykernel_42080/1574832305.py:4: PerformanceWarning: DataFrame is highly fragmented.  This is usually the result of calling `frame.insert` many times, which has poor performance.  Consider joining all columns at once using pd.concat(axis=1) instead. To get a de-fragmented frame, use `newframe = frame.copy()`\n",
      "  mutations_all_protein.insert(current_max+i,\n"
     ]
    },
    {
     "name": "stdout",
     "output_type": "stream",
     "text": [
      "Appending LPAR2...\n"
     ]
    },
    {
     "name": "stderr",
     "output_type": "stream",
     "text": [
      "/var/folders/kv/l0jzxgbj1kggff_kd35bfzkw0000gn/T/ipykernel_42080/1574832305.py:4: PerformanceWarning: DataFrame is highly fragmented.  This is usually the result of calling `frame.insert` many times, which has poor performance.  Consider joining all columns at once using pd.concat(axis=1) instead. To get a de-fragmented frame, use `newframe = frame.copy()`\n",
      "  mutations_all_protein.insert(current_max+i,\n"
     ]
    },
    {
     "name": "stdout",
     "output_type": "stream",
     "text": [
      "Appending LPGAT1...\n"
     ]
    },
    {
     "name": "stderr",
     "output_type": "stream",
     "text": [
      "/var/folders/kv/l0jzxgbj1kggff_kd35bfzkw0000gn/T/ipykernel_42080/1574832305.py:4: PerformanceWarning: DataFrame is highly fragmented.  This is usually the result of calling `frame.insert` many times, which has poor performance.  Consider joining all columns at once using pd.concat(axis=1) instead. To get a de-fragmented frame, use `newframe = frame.copy()`\n",
      "  mutations_all_protein.insert(current_max+i,\n"
     ]
    },
    {
     "name": "stdout",
     "output_type": "stream",
     "text": [
      "Appending LRP10...\n"
     ]
    },
    {
     "name": "stderr",
     "output_type": "stream",
     "text": [
      "/var/folders/kv/l0jzxgbj1kggff_kd35bfzkw0000gn/T/ipykernel_42080/1574832305.py:4: PerformanceWarning: DataFrame is highly fragmented.  This is usually the result of calling `frame.insert` many times, which has poor performance.  Consider joining all columns at once using pd.concat(axis=1) instead. To get a de-fragmented frame, use `newframe = frame.copy()`\n",
      "  mutations_all_protein.insert(current_max+i,\n"
     ]
    },
    {
     "name": "stdout",
     "output_type": "stream",
     "text": [
      "Appending LRPAP1...\n"
     ]
    },
    {
     "name": "stderr",
     "output_type": "stream",
     "text": [
      "/var/folders/kv/l0jzxgbj1kggff_kd35bfzkw0000gn/T/ipykernel_42080/1574832305.py:4: PerformanceWarning: DataFrame is highly fragmented.  This is usually the result of calling `frame.insert` many times, which has poor performance.  Consider joining all columns at once using pd.concat(axis=1) instead. To get a de-fragmented frame, use `newframe = frame.copy()`\n",
      "  mutations_all_protein.insert(current_max+i,\n"
     ]
    },
    {
     "name": "stdout",
     "output_type": "stream",
     "text": [
      "Appending LRRC41...\n"
     ]
    },
    {
     "name": "stderr",
     "output_type": "stream",
     "text": [
      "/var/folders/kv/l0jzxgbj1kggff_kd35bfzkw0000gn/T/ipykernel_42080/1574832305.py:4: PerformanceWarning: DataFrame is highly fragmented.  This is usually the result of calling `frame.insert` many times, which has poor performance.  Consider joining all columns at once using pd.concat(axis=1) instead. To get a de-fragmented frame, use `newframe = frame.copy()`\n",
      "  mutations_all_protein.insert(current_max+i,\n"
     ]
    },
    {
     "name": "stdout",
     "output_type": "stream",
     "text": [
      "Appending LSM5...\n"
     ]
    },
    {
     "name": "stderr",
     "output_type": "stream",
     "text": [
      "/var/folders/kv/l0jzxgbj1kggff_kd35bfzkw0000gn/T/ipykernel_42080/1574832305.py:4: PerformanceWarning: DataFrame is highly fragmented.  This is usually the result of calling `frame.insert` many times, which has poor performance.  Consider joining all columns at once using pd.concat(axis=1) instead. To get a de-fragmented frame, use `newframe = frame.copy()`\n",
      "  mutations_all_protein.insert(current_max+i,\n"
     ]
    },
    {
     "name": "stdout",
     "output_type": "stream",
     "text": [
      "Appending LSM6...\n"
     ]
    },
    {
     "name": "stderr",
     "output_type": "stream",
     "text": [
      "/var/folders/kv/l0jzxgbj1kggff_kd35bfzkw0000gn/T/ipykernel_42080/1574832305.py:4: PerformanceWarning: DataFrame is highly fragmented.  This is usually the result of calling `frame.insert` many times, which has poor performance.  Consider joining all columns at once using pd.concat(axis=1) instead. To get a de-fragmented frame, use `newframe = frame.copy()`\n",
      "  mutations_all_protein.insert(current_max+i,\n"
     ]
    },
    {
     "name": "stdout",
     "output_type": "stream",
     "text": [
      "Appending LSR...\n"
     ]
    },
    {
     "name": "stderr",
     "output_type": "stream",
     "text": [
      "/var/folders/kv/l0jzxgbj1kggff_kd35bfzkw0000gn/T/ipykernel_42080/1574832305.py:4: PerformanceWarning: DataFrame is highly fragmented.  This is usually the result of calling `frame.insert` many times, which has poor performance.  Consider joining all columns at once using pd.concat(axis=1) instead. To get a de-fragmented frame, use `newframe = frame.copy()`\n",
      "  mutations_all_protein.insert(current_max+i,\n"
     ]
    },
    {
     "name": "stdout",
     "output_type": "stream",
     "text": [
      "Appending LYN...\n"
     ]
    },
    {
     "name": "stderr",
     "output_type": "stream",
     "text": [
      "/var/folders/kv/l0jzxgbj1kggff_kd35bfzkw0000gn/T/ipykernel_42080/1574832305.py:4: PerformanceWarning: DataFrame is highly fragmented.  This is usually the result of calling `frame.insert` many times, which has poor performance.  Consider joining all columns at once using pd.concat(axis=1) instead. To get a de-fragmented frame, use `newframe = frame.copy()`\n",
      "  mutations_all_protein.insert(current_max+i,\n"
     ]
    },
    {
     "name": "stdout",
     "output_type": "stream",
     "text": [
      "Appending LYPLA1...\n"
     ]
    },
    {
     "name": "stderr",
     "output_type": "stream",
     "text": [
      "/var/folders/kv/l0jzxgbj1kggff_kd35bfzkw0000gn/T/ipykernel_42080/1574832305.py:4: PerformanceWarning: DataFrame is highly fragmented.  This is usually the result of calling `frame.insert` many times, which has poor performance.  Consider joining all columns at once using pd.concat(axis=1) instead. To get a de-fragmented frame, use `newframe = frame.copy()`\n",
      "  mutations_all_protein.insert(current_max+i,\n"
     ]
    },
    {
     "name": "stdout",
     "output_type": "stream",
     "text": [
      "Appending LYRM1...\n"
     ]
    },
    {
     "name": "stderr",
     "output_type": "stream",
     "text": [
      "/var/folders/kv/l0jzxgbj1kggff_kd35bfzkw0000gn/T/ipykernel_42080/1574832305.py:4: PerformanceWarning: DataFrame is highly fragmented.  This is usually the result of calling `frame.insert` many times, which has poor performance.  Consider joining all columns at once using pd.concat(axis=1) instead. To get a de-fragmented frame, use `newframe = frame.copy()`\n",
      "  mutations_all_protein.insert(current_max+i,\n"
     ]
    },
    {
     "name": "stdout",
     "output_type": "stream",
     "text": [
      "Appending MACF1...\n"
     ]
    },
    {
     "name": "stderr",
     "output_type": "stream",
     "text": [
      "/var/folders/kv/l0jzxgbj1kggff_kd35bfzkw0000gn/T/ipykernel_42080/1574832305.py:4: PerformanceWarning: DataFrame is highly fragmented.  This is usually the result of calling `frame.insert` many times, which has poor performance.  Consider joining all columns at once using pd.concat(axis=1) instead. To get a de-fragmented frame, use `newframe = frame.copy()`\n",
      "  mutations_all_protein.insert(current_max+i,\n"
     ]
    },
    {
     "name": "stdout",
     "output_type": "stream",
     "text": [
      "Appending MALT1...\n"
     ]
    },
    {
     "name": "stderr",
     "output_type": "stream",
     "text": [
      "/var/folders/kv/l0jzxgbj1kggff_kd35bfzkw0000gn/T/ipykernel_42080/1574832305.py:4: PerformanceWarning: DataFrame is highly fragmented.  This is usually the result of calling `frame.insert` many times, which has poor performance.  Consider joining all columns at once using pd.concat(axis=1) instead. To get a de-fragmented frame, use `newframe = frame.copy()`\n",
      "  mutations_all_protein.insert(current_max+i,\n"
     ]
    },
    {
     "name": "stdout",
     "output_type": "stream",
     "text": [
      "Appending MAMLD1...\n"
     ]
    },
    {
     "name": "stderr",
     "output_type": "stream",
     "text": [
      "/var/folders/kv/l0jzxgbj1kggff_kd35bfzkw0000gn/T/ipykernel_42080/1574832305.py:4: PerformanceWarning: DataFrame is highly fragmented.  This is usually the result of calling `frame.insert` many times, which has poor performance.  Consider joining all columns at once using pd.concat(axis=1) instead. To get a de-fragmented frame, use `newframe = frame.copy()`\n",
      "  mutations_all_protein.insert(current_max+i,\n"
     ]
    },
    {
     "name": "stdout",
     "output_type": "stream",
     "text": [
      "Appending MAN2B1...\n"
     ]
    },
    {
     "name": "stderr",
     "output_type": "stream",
     "text": [
      "/var/folders/kv/l0jzxgbj1kggff_kd35bfzkw0000gn/T/ipykernel_42080/1574832305.py:4: PerformanceWarning: DataFrame is highly fragmented.  This is usually the result of calling `frame.insert` many times, which has poor performance.  Consider joining all columns at once using pd.concat(axis=1) instead. To get a de-fragmented frame, use `newframe = frame.copy()`\n",
      "  mutations_all_protein.insert(current_max+i,\n"
     ]
    },
    {
     "name": "stdout",
     "output_type": "stream",
     "text": [
      "Appending MAP2K5...\n"
     ]
    },
    {
     "name": "stderr",
     "output_type": "stream",
     "text": [
      "/var/folders/kv/l0jzxgbj1kggff_kd35bfzkw0000gn/T/ipykernel_42080/1574832305.py:4: PerformanceWarning: DataFrame is highly fragmented.  This is usually the result of calling `frame.insert` many times, which has poor performance.  Consider joining all columns at once using pd.concat(axis=1) instead. To get a de-fragmented frame, use `newframe = frame.copy()`\n",
      "  mutations_all_protein.insert(current_max+i,\n"
     ]
    },
    {
     "name": "stdout",
     "output_type": "stream",
     "text": [
      "Appending MAP3K4...\n"
     ]
    },
    {
     "name": "stderr",
     "output_type": "stream",
     "text": [
      "/var/folders/kv/l0jzxgbj1kggff_kd35bfzkw0000gn/T/ipykernel_42080/1574832305.py:4: PerformanceWarning: DataFrame is highly fragmented.  This is usually the result of calling `frame.insert` many times, which has poor performance.  Consider joining all columns at once using pd.concat(axis=1) instead. To get a de-fragmented frame, use `newframe = frame.copy()`\n",
      "  mutations_all_protein.insert(current_max+i,\n"
     ]
    },
    {
     "name": "stdout",
     "output_type": "stream",
     "text": [
      "Appending MAP4K4...\n"
     ]
    },
    {
     "name": "stderr",
     "output_type": "stream",
     "text": [
      "/var/folders/kv/l0jzxgbj1kggff_kd35bfzkw0000gn/T/ipykernel_42080/1574832305.py:4: PerformanceWarning: DataFrame is highly fragmented.  This is usually the result of calling `frame.insert` many times, which has poor performance.  Consider joining all columns at once using pd.concat(axis=1) instead. To get a de-fragmented frame, use `newframe = frame.copy()`\n",
      "  mutations_all_protein.insert(current_max+i,\n"
     ]
    },
    {
     "name": "stdout",
     "output_type": "stream",
     "text": [
      "Appending MAP7...\n"
     ]
    },
    {
     "name": "stderr",
     "output_type": "stream",
     "text": [
      "/var/folders/kv/l0jzxgbj1kggff_kd35bfzkw0000gn/T/ipykernel_42080/1574832305.py:4: PerformanceWarning: DataFrame is highly fragmented.  This is usually the result of calling `frame.insert` many times, which has poor performance.  Consider joining all columns at once using pd.concat(axis=1) instead. To get a de-fragmented frame, use `newframe = frame.copy()`\n",
      "  mutations_all_protein.insert(current_max+i,\n"
     ]
    },
    {
     "name": "stdout",
     "output_type": "stream",
     "text": [
      "Appending MAPK13...\n"
     ]
    },
    {
     "name": "stderr",
     "output_type": "stream",
     "text": [
      "/var/folders/kv/l0jzxgbj1kggff_kd35bfzkw0000gn/T/ipykernel_42080/1574832305.py:4: PerformanceWarning: DataFrame is highly fragmented.  This is usually the result of calling `frame.insert` many times, which has poor performance.  Consider joining all columns at once using pd.concat(axis=1) instead. To get a de-fragmented frame, use `newframe = frame.copy()`\n",
      "  mutations_all_protein.insert(current_max+i,\n"
     ]
    },
    {
     "name": "stdout",
     "output_type": "stream",
     "text": [
      "Appending MAPK1IP1L...\n"
     ]
    },
    {
     "name": "stderr",
     "output_type": "stream",
     "text": [
      "/var/folders/kv/l0jzxgbj1kggff_kd35bfzkw0000gn/T/ipykernel_42080/1574832305.py:4: PerformanceWarning: DataFrame is highly fragmented.  This is usually the result of calling `frame.insert` many times, which has poor performance.  Consider joining all columns at once using pd.concat(axis=1) instead. To get a de-fragmented frame, use `newframe = frame.copy()`\n",
      "  mutations_all_protein.insert(current_max+i,\n"
     ]
    },
    {
     "name": "stdout",
     "output_type": "stream",
     "text": [
      "Appending MAPK9...\n"
     ]
    },
    {
     "name": "stderr",
     "output_type": "stream",
     "text": [
      "/var/folders/kv/l0jzxgbj1kggff_kd35bfzkw0000gn/T/ipykernel_42080/1574832305.py:4: PerformanceWarning: DataFrame is highly fragmented.  This is usually the result of calling `frame.insert` many times, which has poor performance.  Consider joining all columns at once using pd.concat(axis=1) instead. To get a de-fragmented frame, use `newframe = frame.copy()`\n",
      "  mutations_all_protein.insert(current_max+i,\n"
     ]
    },
    {
     "name": "stdout",
     "output_type": "stream",
     "text": [
      "Appending MAPKAPK2...\n"
     ]
    },
    {
     "name": "stderr",
     "output_type": "stream",
     "text": [
      "/var/folders/kv/l0jzxgbj1kggff_kd35bfzkw0000gn/T/ipykernel_42080/1574832305.py:4: PerformanceWarning: DataFrame is highly fragmented.  This is usually the result of calling `frame.insert` many times, which has poor performance.  Consider joining all columns at once using pd.concat(axis=1) instead. To get a de-fragmented frame, use `newframe = frame.copy()`\n",
      "  mutations_all_protein.insert(current_max+i,\n"
     ]
    },
    {
     "name": "stdout",
     "output_type": "stream",
     "text": [
      "Appending MAPKAPK3...\n"
     ]
    },
    {
     "name": "stderr",
     "output_type": "stream",
     "text": [
      "/var/folders/kv/l0jzxgbj1kggff_kd35bfzkw0000gn/T/ipykernel_42080/1574832305.py:4: PerformanceWarning: DataFrame is highly fragmented.  This is usually the result of calling `frame.insert` many times, which has poor performance.  Consider joining all columns at once using pd.concat(axis=1) instead. To get a de-fragmented frame, use `newframe = frame.copy()`\n",
      "  mutations_all_protein.insert(current_max+i,\n"
     ]
    },
    {
     "name": "stdout",
     "output_type": "stream",
     "text": [
      "Appending MAPKAPK5...\n"
     ]
    },
    {
     "name": "stderr",
     "output_type": "stream",
     "text": [
      "/var/folders/kv/l0jzxgbj1kggff_kd35bfzkw0000gn/T/ipykernel_42080/1574832305.py:4: PerformanceWarning: DataFrame is highly fragmented.  This is usually the result of calling `frame.insert` many times, which has poor performance.  Consider joining all columns at once using pd.concat(axis=1) instead. To get a de-fragmented frame, use `newframe = frame.copy()`\n",
      "  mutations_all_protein.insert(current_max+i,\n"
     ]
    },
    {
     "name": "stdout",
     "output_type": "stream",
     "text": [
      "Appending MAST2...\n"
     ]
    },
    {
     "name": "stderr",
     "output_type": "stream",
     "text": [
      "/var/folders/kv/l0jzxgbj1kggff_kd35bfzkw0000gn/T/ipykernel_42080/1574832305.py:4: PerformanceWarning: DataFrame is highly fragmented.  This is usually the result of calling `frame.insert` many times, which has poor performance.  Consider joining all columns at once using pd.concat(axis=1) instead. To get a de-fragmented frame, use `newframe = frame.copy()`\n",
      "  mutations_all_protein.insert(current_max+i,\n"
     ]
    },
    {
     "name": "stdout",
     "output_type": "stream",
     "text": [
      "Appending MAT2A...\n"
     ]
    },
    {
     "name": "stderr",
     "output_type": "stream",
     "text": [
      "/var/folders/kv/l0jzxgbj1kggff_kd35bfzkw0000gn/T/ipykernel_42080/1574832305.py:4: PerformanceWarning: DataFrame is highly fragmented.  This is usually the result of calling `frame.insert` many times, which has poor performance.  Consider joining all columns at once using pd.concat(axis=1) instead. To get a de-fragmented frame, use `newframe = frame.copy()`\n",
      "  mutations_all_protein.insert(current_max+i,\n"
     ]
    },
    {
     "name": "stdout",
     "output_type": "stream",
     "text": [
      "Appending MBNL1...\n"
     ]
    },
    {
     "name": "stderr",
     "output_type": "stream",
     "text": [
      "/var/folders/kv/l0jzxgbj1kggff_kd35bfzkw0000gn/T/ipykernel_42080/1574832305.py:4: PerformanceWarning: DataFrame is highly fragmented.  This is usually the result of calling `frame.insert` many times, which has poor performance.  Consider joining all columns at once using pd.concat(axis=1) instead. To get a de-fragmented frame, use `newframe = frame.copy()`\n",
      "  mutations_all_protein.insert(current_max+i,\n"
     ]
    },
    {
     "name": "stdout",
     "output_type": "stream",
     "text": [
      "Appending MBNL2...\n"
     ]
    },
    {
     "name": "stderr",
     "output_type": "stream",
     "text": [
      "/var/folders/kv/l0jzxgbj1kggff_kd35bfzkw0000gn/T/ipykernel_42080/1574832305.py:4: PerformanceWarning: DataFrame is highly fragmented.  This is usually the result of calling `frame.insert` many times, which has poor performance.  Consider joining all columns at once using pd.concat(axis=1) instead. To get a de-fragmented frame, use `newframe = frame.copy()`\n",
      "  mutations_all_protein.insert(current_max+i,\n"
     ]
    },
    {
     "name": "stdout",
     "output_type": "stream",
     "text": [
      "Appending MBOAT7...\n"
     ]
    },
    {
     "name": "stderr",
     "output_type": "stream",
     "text": [
      "/var/folders/kv/l0jzxgbj1kggff_kd35bfzkw0000gn/T/ipykernel_42080/1574832305.py:4: PerformanceWarning: DataFrame is highly fragmented.  This is usually the result of calling `frame.insert` many times, which has poor performance.  Consider joining all columns at once using pd.concat(axis=1) instead. To get a de-fragmented frame, use `newframe = frame.copy()`\n",
      "  mutations_all_protein.insert(current_max+i,\n"
     ]
    },
    {
     "name": "stdout",
     "output_type": "stream",
     "text": [
      "Appending MBTPS1...\n"
     ]
    },
    {
     "name": "stderr",
     "output_type": "stream",
     "text": [
      "/var/folders/kv/l0jzxgbj1kggff_kd35bfzkw0000gn/T/ipykernel_42080/1574832305.py:4: PerformanceWarning: DataFrame is highly fragmented.  This is usually the result of calling `frame.insert` many times, which has poor performance.  Consider joining all columns at once using pd.concat(axis=1) instead. To get a de-fragmented frame, use `newframe = frame.copy()`\n",
      "  mutations_all_protein.insert(current_max+i,\n"
     ]
    },
    {
     "name": "stdout",
     "output_type": "stream",
     "text": [
      "Appending MCM3...\n"
     ]
    },
    {
     "name": "stderr",
     "output_type": "stream",
     "text": [
      "/var/folders/kv/l0jzxgbj1kggff_kd35bfzkw0000gn/T/ipykernel_42080/1574832305.py:4: PerformanceWarning: DataFrame is highly fragmented.  This is usually the result of calling `frame.insert` many times, which has poor performance.  Consider joining all columns at once using pd.concat(axis=1) instead. To get a de-fragmented frame, use `newframe = frame.copy()`\n",
      "  mutations_all_protein.insert(current_max+i,\n"
     ]
    },
    {
     "name": "stdout",
     "output_type": "stream",
     "text": [
      "Appending MCOLN1...\n"
     ]
    },
    {
     "name": "stderr",
     "output_type": "stream",
     "text": [
      "/var/folders/kv/l0jzxgbj1kggff_kd35bfzkw0000gn/T/ipykernel_42080/1574832305.py:4: PerformanceWarning: DataFrame is highly fragmented.  This is usually the result of calling `frame.insert` many times, which has poor performance.  Consider joining all columns at once using pd.concat(axis=1) instead. To get a de-fragmented frame, use `newframe = frame.copy()`\n",
      "  mutations_all_protein.insert(current_max+i,\n"
     ]
    },
    {
     "name": "stdout",
     "output_type": "stream",
     "text": [
      "Appending MCUR1...\n"
     ]
    },
    {
     "name": "stderr",
     "output_type": "stream",
     "text": [
      "/var/folders/kv/l0jzxgbj1kggff_kd35bfzkw0000gn/T/ipykernel_42080/1574832305.py:4: PerformanceWarning: DataFrame is highly fragmented.  This is usually the result of calling `frame.insert` many times, which has poor performance.  Consider joining all columns at once using pd.concat(axis=1) instead. To get a de-fragmented frame, use `newframe = frame.copy()`\n",
      "  mutations_all_protein.insert(current_max+i,\n"
     ]
    },
    {
     "name": "stdout",
     "output_type": "stream",
     "text": [
      "Appending ME2...\n"
     ]
    },
    {
     "name": "stderr",
     "output_type": "stream",
     "text": [
      "/var/folders/kv/l0jzxgbj1kggff_kd35bfzkw0000gn/T/ipykernel_42080/1574832305.py:4: PerformanceWarning: DataFrame is highly fragmented.  This is usually the result of calling `frame.insert` many times, which has poor performance.  Consider joining all columns at once using pd.concat(axis=1) instead. To get a de-fragmented frame, use `newframe = frame.copy()`\n",
      "  mutations_all_protein.insert(current_max+i,\n"
     ]
    },
    {
     "name": "stdout",
     "output_type": "stream",
     "text": [
      "Appending MEF2C...\n"
     ]
    },
    {
     "name": "stderr",
     "output_type": "stream",
     "text": [
      "/var/folders/kv/l0jzxgbj1kggff_kd35bfzkw0000gn/T/ipykernel_42080/1574832305.py:4: PerformanceWarning: DataFrame is highly fragmented.  This is usually the result of calling `frame.insert` many times, which has poor performance.  Consider joining all columns at once using pd.concat(axis=1) instead. To get a de-fragmented frame, use `newframe = frame.copy()`\n",
      "  mutations_all_protein.insert(current_max+i,\n"
     ]
    },
    {
     "name": "stdout",
     "output_type": "stream",
     "text": [
      "Appending MELK...\n"
     ]
    },
    {
     "name": "stderr",
     "output_type": "stream",
     "text": [
      "/var/folders/kv/l0jzxgbj1kggff_kd35bfzkw0000gn/T/ipykernel_42080/1574832305.py:4: PerformanceWarning: DataFrame is highly fragmented.  This is usually the result of calling `frame.insert` many times, which has poor performance.  Consider joining all columns at once using pd.concat(axis=1) instead. To get a de-fragmented frame, use `newframe = frame.copy()`\n",
      "  mutations_all_protein.insert(current_max+i,\n"
     ]
    },
    {
     "name": "stdout",
     "output_type": "stream",
     "text": [
      "Appending MEST...\n"
     ]
    },
    {
     "name": "stderr",
     "output_type": "stream",
     "text": [
      "/var/folders/kv/l0jzxgbj1kggff_kd35bfzkw0000gn/T/ipykernel_42080/1574832305.py:4: PerformanceWarning: DataFrame is highly fragmented.  This is usually the result of calling `frame.insert` many times, which has poor performance.  Consider joining all columns at once using pd.concat(axis=1) instead. To get a de-fragmented frame, use `newframe = frame.copy()`\n",
      "  mutations_all_protein.insert(current_max+i,\n"
     ]
    },
    {
     "name": "stdout",
     "output_type": "stream",
     "text": [
      "Appending METRN...\n"
     ]
    },
    {
     "name": "stderr",
     "output_type": "stream",
     "text": [
      "/var/folders/kv/l0jzxgbj1kggff_kd35bfzkw0000gn/T/ipykernel_42080/1574832305.py:4: PerformanceWarning: DataFrame is highly fragmented.  This is usually the result of calling `frame.insert` many times, which has poor performance.  Consider joining all columns at once using pd.concat(axis=1) instead. To get a de-fragmented frame, use `newframe = frame.copy()`\n",
      "  mutations_all_protein.insert(current_max+i,\n"
     ]
    },
    {
     "name": "stdout",
     "output_type": "stream",
     "text": [
      "Appending MFSD10...\n"
     ]
    },
    {
     "name": "stderr",
     "output_type": "stream",
     "text": [
      "/var/folders/kv/l0jzxgbj1kggff_kd35bfzkw0000gn/T/ipykernel_42080/1574832305.py:4: PerformanceWarning: DataFrame is highly fragmented.  This is usually the result of calling `frame.insert` many times, which has poor performance.  Consider joining all columns at once using pd.concat(axis=1) instead. To get a de-fragmented frame, use `newframe = frame.copy()`\n",
      "  mutations_all_protein.insert(current_max+i,\n"
     ]
    },
    {
     "name": "stdout",
     "output_type": "stream",
     "text": [
      "Appending MICALL1...\n"
     ]
    },
    {
     "name": "stderr",
     "output_type": "stream",
     "text": [
      "/var/folders/kv/l0jzxgbj1kggff_kd35bfzkw0000gn/T/ipykernel_42080/1574832305.py:4: PerformanceWarning: DataFrame is highly fragmented.  This is usually the result of calling `frame.insert` many times, which has poor performance.  Consider joining all columns at once using pd.concat(axis=1) instead. To get a de-fragmented frame, use `newframe = frame.copy()`\n",
      "  mutations_all_protein.insert(current_max+i,\n"
     ]
    },
    {
     "name": "stdout",
     "output_type": "stream",
     "text": [
      "Appending MIF...\n"
     ]
    },
    {
     "name": "stderr",
     "output_type": "stream",
     "text": [
      "/var/folders/kv/l0jzxgbj1kggff_kd35bfzkw0000gn/T/ipykernel_42080/1574832305.py:4: PerformanceWarning: DataFrame is highly fragmented.  This is usually the result of calling `frame.insert` many times, which has poor performance.  Consider joining all columns at once using pd.concat(axis=1) instead. To get a de-fragmented frame, use `newframe = frame.copy()`\n",
      "  mutations_all_protein.insert(current_max+i,\n"
     ]
    },
    {
     "name": "stdout",
     "output_type": "stream",
     "text": [
      "Appending MINDY1...\n"
     ]
    },
    {
     "name": "stderr",
     "output_type": "stream",
     "text": [
      "/var/folders/kv/l0jzxgbj1kggff_kd35bfzkw0000gn/T/ipykernel_42080/1574832305.py:4: PerformanceWarning: DataFrame is highly fragmented.  This is usually the result of calling `frame.insert` many times, which has poor performance.  Consider joining all columns at once using pd.concat(axis=1) instead. To get a de-fragmented frame, use `newframe = frame.copy()`\n",
      "  mutations_all_protein.insert(current_max+i,\n"
     ]
    },
    {
     "name": "stdout",
     "output_type": "stream",
     "text": [
      "Appending MKNK1...\n"
     ]
    },
    {
     "name": "stderr",
     "output_type": "stream",
     "text": [
      "/var/folders/kv/l0jzxgbj1kggff_kd35bfzkw0000gn/T/ipykernel_42080/1574832305.py:4: PerformanceWarning: DataFrame is highly fragmented.  This is usually the result of calling `frame.insert` many times, which has poor performance.  Consider joining all columns at once using pd.concat(axis=1) instead. To get a de-fragmented frame, use `newframe = frame.copy()`\n",
      "  mutations_all_protein.insert(current_max+i,\n"
     ]
    },
    {
     "name": "stdout",
     "output_type": "stream",
     "text": [
      "Appending MLEC...\n"
     ]
    },
    {
     "name": "stderr",
     "output_type": "stream",
     "text": [
      "/var/folders/kv/l0jzxgbj1kggff_kd35bfzkw0000gn/T/ipykernel_42080/1574832305.py:4: PerformanceWarning: DataFrame is highly fragmented.  This is usually the result of calling `frame.insert` many times, which has poor performance.  Consider joining all columns at once using pd.concat(axis=1) instead. To get a de-fragmented frame, use `newframe = frame.copy()`\n",
      "  mutations_all_protein.insert(current_max+i,\n"
     ]
    },
    {
     "name": "stdout",
     "output_type": "stream",
     "text": [
      "Appending MLLT11...\n"
     ]
    },
    {
     "name": "stderr",
     "output_type": "stream",
     "text": [
      "/var/folders/kv/l0jzxgbj1kggff_kd35bfzkw0000gn/T/ipykernel_42080/1574832305.py:4: PerformanceWarning: DataFrame is highly fragmented.  This is usually the result of calling `frame.insert` many times, which has poor performance.  Consider joining all columns at once using pd.concat(axis=1) instead. To get a de-fragmented frame, use `newframe = frame.copy()`\n",
      "  mutations_all_protein.insert(current_max+i,\n"
     ]
    },
    {
     "name": "stdout",
     "output_type": "stream",
     "text": [
      "Appending MMP1...\n"
     ]
    },
    {
     "name": "stderr",
     "output_type": "stream",
     "text": [
      "/var/folders/kv/l0jzxgbj1kggff_kd35bfzkw0000gn/T/ipykernel_42080/1574832305.py:4: PerformanceWarning: DataFrame is highly fragmented.  This is usually the result of calling `frame.insert` many times, which has poor performance.  Consider joining all columns at once using pd.concat(axis=1) instead. To get a de-fragmented frame, use `newframe = frame.copy()`\n",
      "  mutations_all_protein.insert(current_max+i,\n"
     ]
    },
    {
     "name": "stdout",
     "output_type": "stream",
     "text": [
      "Appending MMP2...\n"
     ]
    },
    {
     "name": "stderr",
     "output_type": "stream",
     "text": [
      "/var/folders/kv/l0jzxgbj1kggff_kd35bfzkw0000gn/T/ipykernel_42080/1574832305.py:4: PerformanceWarning: DataFrame is highly fragmented.  This is usually the result of calling `frame.insert` many times, which has poor performance.  Consider joining all columns at once using pd.concat(axis=1) instead. To get a de-fragmented frame, use `newframe = frame.copy()`\n",
      "  mutations_all_protein.insert(current_max+i,\n"
     ]
    },
    {
     "name": "stdout",
     "output_type": "stream",
     "text": [
      "Appending MNAT1...\n"
     ]
    },
    {
     "name": "stderr",
     "output_type": "stream",
     "text": [
      "/var/folders/kv/l0jzxgbj1kggff_kd35bfzkw0000gn/T/ipykernel_42080/1574832305.py:4: PerformanceWarning: DataFrame is highly fragmented.  This is usually the result of calling `frame.insert` many times, which has poor performance.  Consider joining all columns at once using pd.concat(axis=1) instead. To get a de-fragmented frame, use `newframe = frame.copy()`\n",
      "  mutations_all_protein.insert(current_max+i,\n"
     ]
    },
    {
     "name": "stdout",
     "output_type": "stream",
     "text": [
      "Appending MOK...\n"
     ]
    },
    {
     "name": "stderr",
     "output_type": "stream",
     "text": [
      "/var/folders/kv/l0jzxgbj1kggff_kd35bfzkw0000gn/T/ipykernel_42080/1574832305.py:4: PerformanceWarning: DataFrame is highly fragmented.  This is usually the result of calling `frame.insert` many times, which has poor performance.  Consider joining all columns at once using pd.concat(axis=1) instead. To get a de-fragmented frame, use `newframe = frame.copy()`\n",
      "  mutations_all_protein.insert(current_max+i,\n"
     ]
    },
    {
     "name": "stdout",
     "output_type": "stream",
     "text": [
      "Appending MPC2...\n"
     ]
    },
    {
     "name": "stderr",
     "output_type": "stream",
     "text": [
      "/var/folders/kv/l0jzxgbj1kggff_kd35bfzkw0000gn/T/ipykernel_42080/1574832305.py:4: PerformanceWarning: DataFrame is highly fragmented.  This is usually the result of calling `frame.insert` many times, which has poor performance.  Consider joining all columns at once using pd.concat(axis=1) instead. To get a de-fragmented frame, use `newframe = frame.copy()`\n",
      "  mutations_all_protein.insert(current_max+i,\n"
     ]
    },
    {
     "name": "stdout",
     "output_type": "stream",
     "text": [
      "Appending MPZL1...\n"
     ]
    },
    {
     "name": "stderr",
     "output_type": "stream",
     "text": [
      "/var/folders/kv/l0jzxgbj1kggff_kd35bfzkw0000gn/T/ipykernel_42080/1574832305.py:4: PerformanceWarning: DataFrame is highly fragmented.  This is usually the result of calling `frame.insert` many times, which has poor performance.  Consider joining all columns at once using pd.concat(axis=1) instead. To get a de-fragmented frame, use `newframe = frame.copy()`\n",
      "  mutations_all_protein.insert(current_max+i,\n"
     ]
    },
    {
     "name": "stdout",
     "output_type": "stream",
     "text": [
      "Appending MRPL12...\n"
     ]
    },
    {
     "name": "stderr",
     "output_type": "stream",
     "text": [
      "/var/folders/kv/l0jzxgbj1kggff_kd35bfzkw0000gn/T/ipykernel_42080/1574832305.py:4: PerformanceWarning: DataFrame is highly fragmented.  This is usually the result of calling `frame.insert` many times, which has poor performance.  Consider joining all columns at once using pd.concat(axis=1) instead. To get a de-fragmented frame, use `newframe = frame.copy()`\n",
      "  mutations_all_protein.insert(current_max+i,\n"
     ]
    },
    {
     "name": "stdout",
     "output_type": "stream",
     "text": [
      "Appending MRPL19...\n"
     ]
    },
    {
     "name": "stderr",
     "output_type": "stream",
     "text": [
      "/var/folders/kv/l0jzxgbj1kggff_kd35bfzkw0000gn/T/ipykernel_42080/1574832305.py:4: PerformanceWarning: DataFrame is highly fragmented.  This is usually the result of calling `frame.insert` many times, which has poor performance.  Consider joining all columns at once using pd.concat(axis=1) instead. To get a de-fragmented frame, use `newframe = frame.copy()`\n",
      "  mutations_all_protein.insert(current_max+i,\n"
     ]
    },
    {
     "name": "stdout",
     "output_type": "stream",
     "text": [
      "Appending MRPS16...\n"
     ]
    },
    {
     "name": "stderr",
     "output_type": "stream",
     "text": [
      "/var/folders/kv/l0jzxgbj1kggff_kd35bfzkw0000gn/T/ipykernel_42080/1574832305.py:4: PerformanceWarning: DataFrame is highly fragmented.  This is usually the result of calling `frame.insert` many times, which has poor performance.  Consider joining all columns at once using pd.concat(axis=1) instead. To get a de-fragmented frame, use `newframe = frame.copy()`\n",
      "  mutations_all_protein.insert(current_max+i,\n"
     ]
    },
    {
     "name": "stdout",
     "output_type": "stream",
     "text": [
      "Appending MRPS2...\n"
     ]
    },
    {
     "name": "stderr",
     "output_type": "stream",
     "text": [
      "/var/folders/kv/l0jzxgbj1kggff_kd35bfzkw0000gn/T/ipykernel_42080/1574832305.py:4: PerformanceWarning: DataFrame is highly fragmented.  This is usually the result of calling `frame.insert` many times, which has poor performance.  Consider joining all columns at once using pd.concat(axis=1) instead. To get a de-fragmented frame, use `newframe = frame.copy()`\n",
      "  mutations_all_protein.insert(current_max+i,\n"
     ]
    },
    {
     "name": "stdout",
     "output_type": "stream",
     "text": [
      "Appending MSH6...\n"
     ]
    },
    {
     "name": "stderr",
     "output_type": "stream",
     "text": [
      "/var/folders/kv/l0jzxgbj1kggff_kd35bfzkw0000gn/T/ipykernel_42080/1574832305.py:4: PerformanceWarning: DataFrame is highly fragmented.  This is usually the result of calling `frame.insert` many times, which has poor performance.  Consider joining all columns at once using pd.concat(axis=1) instead. To get a de-fragmented frame, use `newframe = frame.copy()`\n",
      "  mutations_all_protein.insert(current_max+i,\n"
     ]
    },
    {
     "name": "stdout",
     "output_type": "stream",
     "text": [
      "Appending MSRA...\n"
     ]
    },
    {
     "name": "stderr",
     "output_type": "stream",
     "text": [
      "/var/folders/kv/l0jzxgbj1kggff_kd35bfzkw0000gn/T/ipykernel_42080/1574832305.py:4: PerformanceWarning: DataFrame is highly fragmented.  This is usually the result of calling `frame.insert` many times, which has poor performance.  Consider joining all columns at once using pd.concat(axis=1) instead. To get a de-fragmented frame, use `newframe = frame.copy()`\n",
      "  mutations_all_protein.insert(current_max+i,\n"
     ]
    },
    {
     "name": "stdout",
     "output_type": "stream",
     "text": [
      "Appending MTA1...\n"
     ]
    },
    {
     "name": "stderr",
     "output_type": "stream",
     "text": [
      "/var/folders/kv/l0jzxgbj1kggff_kd35bfzkw0000gn/T/ipykernel_42080/1574832305.py:4: PerformanceWarning: DataFrame is highly fragmented.  This is usually the result of calling `frame.insert` many times, which has poor performance.  Consider joining all columns at once using pd.concat(axis=1) instead. To get a de-fragmented frame, use `newframe = frame.copy()`\n",
      "  mutations_all_protein.insert(current_max+i,\n"
     ]
    },
    {
     "name": "stdout",
     "output_type": "stream",
     "text": [
      "Appending MTERF3...\n"
     ]
    },
    {
     "name": "stderr",
     "output_type": "stream",
     "text": [
      "/var/folders/kv/l0jzxgbj1kggff_kd35bfzkw0000gn/T/ipykernel_42080/1574832305.py:4: PerformanceWarning: DataFrame is highly fragmented.  This is usually the result of calling `frame.insert` many times, which has poor performance.  Consider joining all columns at once using pd.concat(axis=1) instead. To get a de-fragmented frame, use `newframe = frame.copy()`\n",
      "  mutations_all_protein.insert(current_max+i,\n"
     ]
    },
    {
     "name": "stdout",
     "output_type": "stream",
     "text": [
      "Appending MTF2...\n"
     ]
    },
    {
     "name": "stderr",
     "output_type": "stream",
     "text": [
      "/var/folders/kv/l0jzxgbj1kggff_kd35bfzkw0000gn/T/ipykernel_42080/1574832305.py:4: PerformanceWarning: DataFrame is highly fragmented.  This is usually the result of calling `frame.insert` many times, which has poor performance.  Consider joining all columns at once using pd.concat(axis=1) instead. To get a de-fragmented frame, use `newframe = frame.copy()`\n",
      "  mutations_all_protein.insert(current_max+i,\n"
     ]
    },
    {
     "name": "stdout",
     "output_type": "stream",
     "text": [
      "Appending MTFR1...\n"
     ]
    },
    {
     "name": "stderr",
     "output_type": "stream",
     "text": [
      "/var/folders/kv/l0jzxgbj1kggff_kd35bfzkw0000gn/T/ipykernel_42080/1574832305.py:4: PerformanceWarning: DataFrame is highly fragmented.  This is usually the result of calling `frame.insert` many times, which has poor performance.  Consider joining all columns at once using pd.concat(axis=1) instead. To get a de-fragmented frame, use `newframe = frame.copy()`\n",
      "  mutations_all_protein.insert(current_max+i,\n"
     ]
    },
    {
     "name": "stdout",
     "output_type": "stream",
     "text": [
      "Appending MTHFD2...\n"
     ]
    },
    {
     "name": "stderr",
     "output_type": "stream",
     "text": [
      "/var/folders/kv/l0jzxgbj1kggff_kd35bfzkw0000gn/T/ipykernel_42080/1574832305.py:4: PerformanceWarning: DataFrame is highly fragmented.  This is usually the result of calling `frame.insert` many times, which has poor performance.  Consider joining all columns at once using pd.concat(axis=1) instead. To get a de-fragmented frame, use `newframe = frame.copy()`\n",
      "  mutations_all_protein.insert(current_max+i,\n"
     ]
    },
    {
     "name": "stdout",
     "output_type": "stream",
     "text": [
      "Appending MUC1...\n"
     ]
    },
    {
     "name": "stderr",
     "output_type": "stream",
     "text": [
      "/var/folders/kv/l0jzxgbj1kggff_kd35bfzkw0000gn/T/ipykernel_42080/1574832305.py:4: PerformanceWarning: DataFrame is highly fragmented.  This is usually the result of calling `frame.insert` many times, which has poor performance.  Consider joining all columns at once using pd.concat(axis=1) instead. To get a de-fragmented frame, use `newframe = frame.copy()`\n",
      "  mutations_all_protein.insert(current_max+i,\n"
     ]
    },
    {
     "name": "stdout",
     "output_type": "stream",
     "text": [
      "Appending MVP...\n"
     ]
    },
    {
     "name": "stderr",
     "output_type": "stream",
     "text": [
      "/var/folders/kv/l0jzxgbj1kggff_kd35bfzkw0000gn/T/ipykernel_42080/1574832305.py:4: PerformanceWarning: DataFrame is highly fragmented.  This is usually the result of calling `frame.insert` many times, which has poor performance.  Consider joining all columns at once using pd.concat(axis=1) instead. To get a de-fragmented frame, use `newframe = frame.copy()`\n",
      "  mutations_all_protein.insert(current_max+i,\n"
     ]
    },
    {
     "name": "stdout",
     "output_type": "stream",
     "text": [
      "Appending MYBL2...\n"
     ]
    },
    {
     "name": "stderr",
     "output_type": "stream",
     "text": [
      "/var/folders/kv/l0jzxgbj1kggff_kd35bfzkw0000gn/T/ipykernel_42080/1574832305.py:4: PerformanceWarning: DataFrame is highly fragmented.  This is usually the result of calling `frame.insert` many times, which has poor performance.  Consider joining all columns at once using pd.concat(axis=1) instead. To get a de-fragmented frame, use `newframe = frame.copy()`\n",
      "  mutations_all_protein.insert(current_max+i,\n"
     ]
    },
    {
     "name": "stdout",
     "output_type": "stream",
     "text": [
      "Appending MYC...\n"
     ]
    },
    {
     "name": "stderr",
     "output_type": "stream",
     "text": [
      "/var/folders/kv/l0jzxgbj1kggff_kd35bfzkw0000gn/T/ipykernel_42080/1574832305.py:4: PerformanceWarning: DataFrame is highly fragmented.  This is usually the result of calling `frame.insert` many times, which has poor performance.  Consider joining all columns at once using pd.concat(axis=1) instead. To get a de-fragmented frame, use `newframe = frame.copy()`\n",
      "  mutations_all_protein.insert(current_max+i,\n"
     ]
    },
    {
     "name": "stdout",
     "output_type": "stream",
     "text": [
      "Appending MYCBP...\n"
     ]
    },
    {
     "name": "stderr",
     "output_type": "stream",
     "text": [
      "/var/folders/kv/l0jzxgbj1kggff_kd35bfzkw0000gn/T/ipykernel_42080/1574832305.py:4: PerformanceWarning: DataFrame is highly fragmented.  This is usually the result of calling `frame.insert` many times, which has poor performance.  Consider joining all columns at once using pd.concat(axis=1) instead. To get a de-fragmented frame, use `newframe = frame.copy()`\n",
      "  mutations_all_protein.insert(current_max+i,\n"
     ]
    },
    {
     "name": "stdout",
     "output_type": "stream",
     "text": [
      "Appending MYCBP2...\n"
     ]
    },
    {
     "name": "stderr",
     "output_type": "stream",
     "text": [
      "/var/folders/kv/l0jzxgbj1kggff_kd35bfzkw0000gn/T/ipykernel_42080/1574832305.py:4: PerformanceWarning: DataFrame is highly fragmented.  This is usually the result of calling `frame.insert` many times, which has poor performance.  Consider joining all columns at once using pd.concat(axis=1) instead. To get a de-fragmented frame, use `newframe = frame.copy()`\n",
      "  mutations_all_protein.insert(current_max+i,\n"
     ]
    },
    {
     "name": "stdout",
     "output_type": "stream",
     "text": [
      "Appending MYL9...\n"
     ]
    },
    {
     "name": "stderr",
     "output_type": "stream",
     "text": [
      "/var/folders/kv/l0jzxgbj1kggff_kd35bfzkw0000gn/T/ipykernel_42080/1574832305.py:4: PerformanceWarning: DataFrame is highly fragmented.  This is usually the result of calling `frame.insert` many times, which has poor performance.  Consider joining all columns at once using pd.concat(axis=1) instead. To get a de-fragmented frame, use `newframe = frame.copy()`\n",
      "  mutations_all_protein.insert(current_max+i,\n"
     ]
    },
    {
     "name": "stdout",
     "output_type": "stream",
     "text": [
      "Appending MYLK...\n"
     ]
    },
    {
     "name": "stderr",
     "output_type": "stream",
     "text": [
      "/var/folders/kv/l0jzxgbj1kggff_kd35bfzkw0000gn/T/ipykernel_42080/1574832305.py:4: PerformanceWarning: DataFrame is highly fragmented.  This is usually the result of calling `frame.insert` many times, which has poor performance.  Consider joining all columns at once using pd.concat(axis=1) instead. To get a de-fragmented frame, use `newframe = frame.copy()`\n",
      "  mutations_all_protein.insert(current_max+i,\n"
     ]
    },
    {
     "name": "stdout",
     "output_type": "stream",
     "text": [
      "Appending MYO10...\n"
     ]
    },
    {
     "name": "stderr",
     "output_type": "stream",
     "text": [
      "/var/folders/kv/l0jzxgbj1kggff_kd35bfzkw0000gn/T/ipykernel_42080/1574832305.py:4: PerformanceWarning: DataFrame is highly fragmented.  This is usually the result of calling `frame.insert` many times, which has poor performance.  Consider joining all columns at once using pd.concat(axis=1) instead. To get a de-fragmented frame, use `newframe = frame.copy()`\n",
      "  mutations_all_protein.insert(current_max+i,\n"
     ]
    },
    {
     "name": "stdout",
     "output_type": "stream",
     "text": [
      "Appending NCAPD2...\n"
     ]
    },
    {
     "name": "stderr",
     "output_type": "stream",
     "text": [
      "/var/folders/kv/l0jzxgbj1kggff_kd35bfzkw0000gn/T/ipykernel_42080/1574832305.py:4: PerformanceWarning: DataFrame is highly fragmented.  This is usually the result of calling `frame.insert` many times, which has poor performance.  Consider joining all columns at once using pd.concat(axis=1) instead. To get a de-fragmented frame, use `newframe = frame.copy()`\n",
      "  mutations_all_protein.insert(current_max+i,\n"
     ]
    },
    {
     "name": "stdout",
     "output_type": "stream",
     "text": [
      "Appending NCK1...\n"
     ]
    },
    {
     "name": "stderr",
     "output_type": "stream",
     "text": [
      "/var/folders/kv/l0jzxgbj1kggff_kd35bfzkw0000gn/T/ipykernel_42080/1574832305.py:4: PerformanceWarning: DataFrame is highly fragmented.  This is usually the result of calling `frame.insert` many times, which has poor performance.  Consider joining all columns at once using pd.concat(axis=1) instead. To get a de-fragmented frame, use `newframe = frame.copy()`\n",
      "  mutations_all_protein.insert(current_max+i,\n"
     ]
    },
    {
     "name": "stdout",
     "output_type": "stream",
     "text": [
      "Appending NCK2...\n"
     ]
    },
    {
     "name": "stderr",
     "output_type": "stream",
     "text": [
      "/var/folders/kv/l0jzxgbj1kggff_kd35bfzkw0000gn/T/ipykernel_42080/1574832305.py:4: PerformanceWarning: DataFrame is highly fragmented.  This is usually the result of calling `frame.insert` many times, which has poor performance.  Consider joining all columns at once using pd.concat(axis=1) instead. To get a de-fragmented frame, use `newframe = frame.copy()`\n",
      "  mutations_all_protein.insert(current_max+i,\n"
     ]
    },
    {
     "name": "stdout",
     "output_type": "stream",
     "text": [
      "Appending NCOA3...\n"
     ]
    },
    {
     "name": "stderr",
     "output_type": "stream",
     "text": [
      "/var/folders/kv/l0jzxgbj1kggff_kd35bfzkw0000gn/T/ipykernel_42080/1574832305.py:4: PerformanceWarning: DataFrame is highly fragmented.  This is usually the result of calling `frame.insert` many times, which has poor performance.  Consider joining all columns at once using pd.concat(axis=1) instead. To get a de-fragmented frame, use `newframe = frame.copy()`\n",
      "  mutations_all_protein.insert(current_max+i,\n"
     ]
    },
    {
     "name": "stdout",
     "output_type": "stream",
     "text": [
      "Appending NENF...\n"
     ]
    },
    {
     "name": "stderr",
     "output_type": "stream",
     "text": [
      "/var/folders/kv/l0jzxgbj1kggff_kd35bfzkw0000gn/T/ipykernel_42080/1574832305.py:4: PerformanceWarning: DataFrame is highly fragmented.  This is usually the result of calling `frame.insert` many times, which has poor performance.  Consider joining all columns at once using pd.concat(axis=1) instead. To get a de-fragmented frame, use `newframe = frame.copy()`\n",
      "  mutations_all_protein.insert(current_max+i,\n"
     ]
    },
    {
     "name": "stdout",
     "output_type": "stream",
     "text": [
      "Appending NET1...\n"
     ]
    },
    {
     "name": "stderr",
     "output_type": "stream",
     "text": [
      "/var/folders/kv/l0jzxgbj1kggff_kd35bfzkw0000gn/T/ipykernel_42080/1574832305.py:4: PerformanceWarning: DataFrame is highly fragmented.  This is usually the result of calling `frame.insert` many times, which has poor performance.  Consider joining all columns at once using pd.concat(axis=1) instead. To get a de-fragmented frame, use `newframe = frame.copy()`\n",
      "  mutations_all_protein.insert(current_max+i,\n"
     ]
    },
    {
     "name": "stdout",
     "output_type": "stream",
     "text": [
      "Appending NFATC3...\n"
     ]
    },
    {
     "name": "stderr",
     "output_type": "stream",
     "text": [
      "/var/folders/kv/l0jzxgbj1kggff_kd35bfzkw0000gn/T/ipykernel_42080/1574832305.py:4: PerformanceWarning: DataFrame is highly fragmented.  This is usually the result of calling `frame.insert` many times, which has poor performance.  Consider joining all columns at once using pd.concat(axis=1) instead. To get a de-fragmented frame, use `newframe = frame.copy()`\n",
      "  mutations_all_protein.insert(current_max+i,\n"
     ]
    },
    {
     "name": "stdout",
     "output_type": "stream",
     "text": [
      "Appending NFATC4...\n"
     ]
    },
    {
     "name": "stderr",
     "output_type": "stream",
     "text": [
      "/var/folders/kv/l0jzxgbj1kggff_kd35bfzkw0000gn/T/ipykernel_42080/1574832305.py:4: PerformanceWarning: DataFrame is highly fragmented.  This is usually the result of calling `frame.insert` many times, which has poor performance.  Consider joining all columns at once using pd.concat(axis=1) instead. To get a de-fragmented frame, use `newframe = frame.copy()`\n",
      "  mutations_all_protein.insert(current_max+i,\n"
     ]
    },
    {
     "name": "stdout",
     "output_type": "stream",
     "text": [
      "Appending NFE2L2...\n"
     ]
    },
    {
     "name": "stderr",
     "output_type": "stream",
     "text": [
      "/var/folders/kv/l0jzxgbj1kggff_kd35bfzkw0000gn/T/ipykernel_42080/1574832305.py:4: PerformanceWarning: DataFrame is highly fragmented.  This is usually the result of calling `frame.insert` many times, which has poor performance.  Consider joining all columns at once using pd.concat(axis=1) instead. To get a de-fragmented frame, use `newframe = frame.copy()`\n",
      "  mutations_all_protein.insert(current_max+i,\n"
     ]
    },
    {
     "name": "stdout",
     "output_type": "stream",
     "text": [
      "Appending NFIL3...\n"
     ]
    },
    {
     "name": "stderr",
     "output_type": "stream",
     "text": [
      "/var/folders/kv/l0jzxgbj1kggff_kd35bfzkw0000gn/T/ipykernel_42080/1574832305.py:4: PerformanceWarning: DataFrame is highly fragmented.  This is usually the result of calling `frame.insert` many times, which has poor performance.  Consider joining all columns at once using pd.concat(axis=1) instead. To get a de-fragmented frame, use `newframe = frame.copy()`\n",
      "  mutations_all_protein.insert(current_max+i,\n"
     ]
    },
    {
     "name": "stdout",
     "output_type": "stream",
     "text": [
      "Appending NFKB2...\n"
     ]
    },
    {
     "name": "stderr",
     "output_type": "stream",
     "text": [
      "/var/folders/kv/l0jzxgbj1kggff_kd35bfzkw0000gn/T/ipykernel_42080/1574832305.py:4: PerformanceWarning: DataFrame is highly fragmented.  This is usually the result of calling `frame.insert` many times, which has poor performance.  Consider joining all columns at once using pd.concat(axis=1) instead. To get a de-fragmented frame, use `newframe = frame.copy()`\n",
      "  mutations_all_protein.insert(current_max+i,\n"
     ]
    },
    {
     "name": "stdout",
     "output_type": "stream",
     "text": [
      "Appending NFKBIA...\n"
     ]
    },
    {
     "name": "stderr",
     "output_type": "stream",
     "text": [
      "/var/folders/kv/l0jzxgbj1kggff_kd35bfzkw0000gn/T/ipykernel_42080/1574832305.py:4: PerformanceWarning: DataFrame is highly fragmented.  This is usually the result of calling `frame.insert` many times, which has poor performance.  Consider joining all columns at once using pd.concat(axis=1) instead. To get a de-fragmented frame, use `newframe = frame.copy()`\n",
      "  mutations_all_protein.insert(current_max+i,\n"
     ]
    },
    {
     "name": "stdout",
     "output_type": "stream",
     "text": [
      "Appending NFKBIB...\n"
     ]
    },
    {
     "name": "stderr",
     "output_type": "stream",
     "text": [
      "/var/folders/kv/l0jzxgbj1kggff_kd35bfzkw0000gn/T/ipykernel_42080/1574832305.py:4: PerformanceWarning: DataFrame is highly fragmented.  This is usually the result of calling `frame.insert` many times, which has poor performance.  Consider joining all columns at once using pd.concat(axis=1) instead. To get a de-fragmented frame, use `newframe = frame.copy()`\n",
      "  mutations_all_protein.insert(current_max+i,\n"
     ]
    },
    {
     "name": "stdout",
     "output_type": "stream",
     "text": [
      "Appending NFKBIE...\n"
     ]
    },
    {
     "name": "stderr",
     "output_type": "stream",
     "text": [
      "/var/folders/kv/l0jzxgbj1kggff_kd35bfzkw0000gn/T/ipykernel_42080/1574832305.py:4: PerformanceWarning: DataFrame is highly fragmented.  This is usually the result of calling `frame.insert` many times, which has poor performance.  Consider joining all columns at once using pd.concat(axis=1) instead. To get a de-fragmented frame, use `newframe = frame.copy()`\n",
      "  mutations_all_protein.insert(current_max+i,\n"
     ]
    },
    {
     "name": "stdout",
     "output_type": "stream",
     "text": [
      "Appending NGRN...\n"
     ]
    },
    {
     "name": "stderr",
     "output_type": "stream",
     "text": [
      "/var/folders/kv/l0jzxgbj1kggff_kd35bfzkw0000gn/T/ipykernel_42080/1574832305.py:4: PerformanceWarning: DataFrame is highly fragmented.  This is usually the result of calling `frame.insert` many times, which has poor performance.  Consider joining all columns at once using pd.concat(axis=1) instead. To get a de-fragmented frame, use `newframe = frame.copy()`\n",
      "  mutations_all_protein.insert(current_max+i,\n"
     ]
    },
    {
     "name": "stdout",
     "output_type": "stream",
     "text": [
      "Appending NIPSNAP1...\n"
     ]
    },
    {
     "name": "stderr",
     "output_type": "stream",
     "text": [
      "/var/folders/kv/l0jzxgbj1kggff_kd35bfzkw0000gn/T/ipykernel_42080/1574832305.py:4: PerformanceWarning: DataFrame is highly fragmented.  This is usually the result of calling `frame.insert` many times, which has poor performance.  Consider joining all columns at once using pd.concat(axis=1) instead. To get a de-fragmented frame, use `newframe = frame.copy()`\n",
      "  mutations_all_protein.insert(current_max+i,\n"
     ]
    },
    {
     "name": "stdout",
     "output_type": "stream",
     "text": [
      "Appending NISCH...\n"
     ]
    },
    {
     "name": "stderr",
     "output_type": "stream",
     "text": [
      "/var/folders/kv/l0jzxgbj1kggff_kd35bfzkw0000gn/T/ipykernel_42080/1574832305.py:4: PerformanceWarning: DataFrame is highly fragmented.  This is usually the result of calling `frame.insert` many times, which has poor performance.  Consider joining all columns at once using pd.concat(axis=1) instead. To get a de-fragmented frame, use `newframe = frame.copy()`\n",
      "  mutations_all_protein.insert(current_max+i,\n"
     ]
    },
    {
     "name": "stdout",
     "output_type": "stream",
     "text": [
      "Appending NIT1...\n"
     ]
    },
    {
     "name": "stderr",
     "output_type": "stream",
     "text": [
      "/var/folders/kv/l0jzxgbj1kggff_kd35bfzkw0000gn/T/ipykernel_42080/1574832305.py:4: PerformanceWarning: DataFrame is highly fragmented.  This is usually the result of calling `frame.insert` many times, which has poor performance.  Consider joining all columns at once using pd.concat(axis=1) instead. To get a de-fragmented frame, use `newframe = frame.copy()`\n",
      "  mutations_all_protein.insert(current_max+i,\n"
     ]
    },
    {
     "name": "stdout",
     "output_type": "stream",
     "text": [
      "Appending NMT1...\n"
     ]
    },
    {
     "name": "stderr",
     "output_type": "stream",
     "text": [
      "/var/folders/kv/l0jzxgbj1kggff_kd35bfzkw0000gn/T/ipykernel_42080/1574832305.py:4: PerformanceWarning: DataFrame is highly fragmented.  This is usually the result of calling `frame.insert` many times, which has poor performance.  Consider joining all columns at once using pd.concat(axis=1) instead. To get a de-fragmented frame, use `newframe = frame.copy()`\n",
      "  mutations_all_protein.insert(current_max+i,\n"
     ]
    },
    {
     "name": "stdout",
     "output_type": "stream",
     "text": [
      "Appending NNT...\n"
     ]
    },
    {
     "name": "stderr",
     "output_type": "stream",
     "text": [
      "/var/folders/kv/l0jzxgbj1kggff_kd35bfzkw0000gn/T/ipykernel_42080/1574832305.py:4: PerformanceWarning: DataFrame is highly fragmented.  This is usually the result of calling `frame.insert` many times, which has poor performance.  Consider joining all columns at once using pd.concat(axis=1) instead. To get a de-fragmented frame, use `newframe = frame.copy()`\n",
      "  mutations_all_protein.insert(current_max+i,\n"
     ]
    },
    {
     "name": "stdout",
     "output_type": "stream",
     "text": [
      "Appending NOL3...\n"
     ]
    },
    {
     "name": "stderr",
     "output_type": "stream",
     "text": [
      "/var/folders/kv/l0jzxgbj1kggff_kd35bfzkw0000gn/T/ipykernel_42080/1574832305.py:4: PerformanceWarning: DataFrame is highly fragmented.  This is usually the result of calling `frame.insert` many times, which has poor performance.  Consider joining all columns at once using pd.concat(axis=1) instead. To get a de-fragmented frame, use `newframe = frame.copy()`\n",
      "  mutations_all_protein.insert(current_max+i,\n"
     ]
    },
    {
     "name": "stdout",
     "output_type": "stream",
     "text": [
      "Appending NOLC1...\n"
     ]
    },
    {
     "name": "stderr",
     "output_type": "stream",
     "text": [
      "/var/folders/kv/l0jzxgbj1kggff_kd35bfzkw0000gn/T/ipykernel_42080/1574832305.py:4: PerformanceWarning: DataFrame is highly fragmented.  This is usually the result of calling `frame.insert` many times, which has poor performance.  Consider joining all columns at once using pd.concat(axis=1) instead. To get a de-fragmented frame, use `newframe = frame.copy()`\n",
      "  mutations_all_protein.insert(current_max+i,\n"
     ]
    },
    {
     "name": "stdout",
     "output_type": "stream",
     "text": [
      "Appending NOS3...\n"
     ]
    },
    {
     "name": "stderr",
     "output_type": "stream",
     "text": [
      "/var/folders/kv/l0jzxgbj1kggff_kd35bfzkw0000gn/T/ipykernel_42080/1574832305.py:4: PerformanceWarning: DataFrame is highly fragmented.  This is usually the result of calling `frame.insert` many times, which has poor performance.  Consider joining all columns at once using pd.concat(axis=1) instead. To get a de-fragmented frame, use `newframe = frame.copy()`\n",
      "  mutations_all_protein.insert(current_max+i,\n"
     ]
    },
    {
     "name": "stdout",
     "output_type": "stream",
     "text": [
      "Appending NOSIP...\n"
     ]
    },
    {
     "name": "stderr",
     "output_type": "stream",
     "text": [
      "/var/folders/kv/l0jzxgbj1kggff_kd35bfzkw0000gn/T/ipykernel_42080/1574832305.py:4: PerformanceWarning: DataFrame is highly fragmented.  This is usually the result of calling `frame.insert` many times, which has poor performance.  Consider joining all columns at once using pd.concat(axis=1) instead. To get a de-fragmented frame, use `newframe = frame.copy()`\n",
      "  mutations_all_protein.insert(current_max+i,\n"
     ]
    },
    {
     "name": "stdout",
     "output_type": "stream",
     "text": [
      "Appending NOTCH1...\n"
     ]
    },
    {
     "name": "stderr",
     "output_type": "stream",
     "text": [
      "/var/folders/kv/l0jzxgbj1kggff_kd35bfzkw0000gn/T/ipykernel_42080/1574832305.py:4: PerformanceWarning: DataFrame is highly fragmented.  This is usually the result of calling `frame.insert` many times, which has poor performance.  Consider joining all columns at once using pd.concat(axis=1) instead. To get a de-fragmented frame, use `newframe = frame.copy()`\n",
      "  mutations_all_protein.insert(current_max+i,\n"
     ]
    },
    {
     "name": "stdout",
     "output_type": "stream",
     "text": [
      "Appending NPC1...\n"
     ]
    },
    {
     "name": "stderr",
     "output_type": "stream",
     "text": [
      "/var/folders/kv/l0jzxgbj1kggff_kd35bfzkw0000gn/T/ipykernel_42080/1574832305.py:4: PerformanceWarning: DataFrame is highly fragmented.  This is usually the result of calling `frame.insert` many times, which has poor performance.  Consider joining all columns at once using pd.concat(axis=1) instead. To get a de-fragmented frame, use `newframe = frame.copy()`\n",
      "  mutations_all_protein.insert(current_max+i,\n"
     ]
    },
    {
     "name": "stdout",
     "output_type": "stream",
     "text": [
      "Appending NPDC1...\n"
     ]
    },
    {
     "name": "stderr",
     "output_type": "stream",
     "text": [
      "/var/folders/kv/l0jzxgbj1kggff_kd35bfzkw0000gn/T/ipykernel_42080/1574832305.py:4: PerformanceWarning: DataFrame is highly fragmented.  This is usually the result of calling `frame.insert` many times, which has poor performance.  Consider joining all columns at once using pd.concat(axis=1) instead. To get a de-fragmented frame, use `newframe = frame.copy()`\n",
      "  mutations_all_protein.insert(current_max+i,\n"
     ]
    },
    {
     "name": "stdout",
     "output_type": "stream",
     "text": [
      "Appending NPEPL1...\n"
     ]
    },
    {
     "name": "stderr",
     "output_type": "stream",
     "text": [
      "/var/folders/kv/l0jzxgbj1kggff_kd35bfzkw0000gn/T/ipykernel_42080/1574832305.py:4: PerformanceWarning: DataFrame is highly fragmented.  This is usually the result of calling `frame.insert` many times, which has poor performance.  Consider joining all columns at once using pd.concat(axis=1) instead. To get a de-fragmented frame, use `newframe = frame.copy()`\n",
      "  mutations_all_protein.insert(current_max+i,\n"
     ]
    },
    {
     "name": "stdout",
     "output_type": "stream",
     "text": [
      "Appending NPRL2...\n"
     ]
    },
    {
     "name": "stderr",
     "output_type": "stream",
     "text": [
      "/var/folders/kv/l0jzxgbj1kggff_kd35bfzkw0000gn/T/ipykernel_42080/1574832305.py:4: PerformanceWarning: DataFrame is highly fragmented.  This is usually the result of calling `frame.insert` many times, which has poor performance.  Consider joining all columns at once using pd.concat(axis=1) instead. To get a de-fragmented frame, use `newframe = frame.copy()`\n",
      "  mutations_all_protein.insert(current_max+i,\n"
     ]
    },
    {
     "name": "stdout",
     "output_type": "stream",
     "text": [
      "Appending NR1H2...\n"
     ]
    },
    {
     "name": "stderr",
     "output_type": "stream",
     "text": [
      "/var/folders/kv/l0jzxgbj1kggff_kd35bfzkw0000gn/T/ipykernel_42080/1574832305.py:4: PerformanceWarning: DataFrame is highly fragmented.  This is usually the result of calling `frame.insert` many times, which has poor performance.  Consider joining all columns at once using pd.concat(axis=1) instead. To get a de-fragmented frame, use `newframe = frame.copy()`\n",
      "  mutations_all_protein.insert(current_max+i,\n"
     ]
    },
    {
     "name": "stdout",
     "output_type": "stream",
     "text": [
      "Appending NR2F6...\n"
     ]
    },
    {
     "name": "stderr",
     "output_type": "stream",
     "text": [
      "/var/folders/kv/l0jzxgbj1kggff_kd35bfzkw0000gn/T/ipykernel_42080/1574832305.py:4: PerformanceWarning: DataFrame is highly fragmented.  This is usually the result of calling `frame.insert` many times, which has poor performance.  Consider joining all columns at once using pd.concat(axis=1) instead. To get a de-fragmented frame, use `newframe = frame.copy()`\n",
      "  mutations_all_protein.insert(current_max+i,\n"
     ]
    },
    {
     "name": "stdout",
     "output_type": "stream",
     "text": [
      "Appending NR3C1...\n"
     ]
    },
    {
     "name": "stderr",
     "output_type": "stream",
     "text": [
      "/var/folders/kv/l0jzxgbj1kggff_kd35bfzkw0000gn/T/ipykernel_42080/1574832305.py:4: PerformanceWarning: DataFrame is highly fragmented.  This is usually the result of calling `frame.insert` many times, which has poor performance.  Consider joining all columns at once using pd.concat(axis=1) instead. To get a de-fragmented frame, use `newframe = frame.copy()`\n",
      "  mutations_all_protein.insert(current_max+i,\n"
     ]
    },
    {
     "name": "stdout",
     "output_type": "stream",
     "text": [
      "Appending NRAS...\n"
     ]
    },
    {
     "name": "stderr",
     "output_type": "stream",
     "text": [
      "/var/folders/kv/l0jzxgbj1kggff_kd35bfzkw0000gn/T/ipykernel_42080/1574832305.py:4: PerformanceWarning: DataFrame is highly fragmented.  This is usually the result of calling `frame.insert` many times, which has poor performance.  Consider joining all columns at once using pd.concat(axis=1) instead. To get a de-fragmented frame, use `newframe = frame.copy()`\n",
      "  mutations_all_protein.insert(current_max+i,\n"
     ]
    },
    {
     "name": "stdout",
     "output_type": "stream",
     "text": [
      "Appending NRIP1...\n"
     ]
    },
    {
     "name": "stderr",
     "output_type": "stream",
     "text": [
      "/var/folders/kv/l0jzxgbj1kggff_kd35bfzkw0000gn/T/ipykernel_42080/1574832305.py:4: PerformanceWarning: DataFrame is highly fragmented.  This is usually the result of calling `frame.insert` many times, which has poor performance.  Consider joining all columns at once using pd.concat(axis=1) instead. To get a de-fragmented frame, use `newframe = frame.copy()`\n",
      "  mutations_all_protein.insert(current_max+i,\n"
     ]
    },
    {
     "name": "stdout",
     "output_type": "stream",
     "text": [
      "Appending NSDHL...\n"
     ]
    },
    {
     "name": "stderr",
     "output_type": "stream",
     "text": [
      "/var/folders/kv/l0jzxgbj1kggff_kd35bfzkw0000gn/T/ipykernel_42080/1574832305.py:4: PerformanceWarning: DataFrame is highly fragmented.  This is usually the result of calling `frame.insert` many times, which has poor performance.  Consider joining all columns at once using pd.concat(axis=1) instead. To get a de-fragmented frame, use `newframe = frame.copy()`\n",
      "  mutations_all_protein.insert(current_max+i,\n"
     ]
    },
    {
     "name": "stdout",
     "output_type": "stream",
     "text": [
      "Appending NT5DC2...\n"
     ]
    },
    {
     "name": "stderr",
     "output_type": "stream",
     "text": [
      "/var/folders/kv/l0jzxgbj1kggff_kd35bfzkw0000gn/T/ipykernel_42080/1574832305.py:4: PerformanceWarning: DataFrame is highly fragmented.  This is usually the result of calling `frame.insert` many times, which has poor performance.  Consider joining all columns at once using pd.concat(axis=1) instead. To get a de-fragmented frame, use `newframe = frame.copy()`\n",
      "  mutations_all_protein.insert(current_max+i,\n"
     ]
    },
    {
     "name": "stdout",
     "output_type": "stream",
     "text": [
      "Appending NUCB2...\n"
     ]
    },
    {
     "name": "stderr",
     "output_type": "stream",
     "text": [
      "/var/folders/kv/l0jzxgbj1kggff_kd35bfzkw0000gn/T/ipykernel_42080/1574832305.py:4: PerformanceWarning: DataFrame is highly fragmented.  This is usually the result of calling `frame.insert` many times, which has poor performance.  Consider joining all columns at once using pd.concat(axis=1) instead. To get a de-fragmented frame, use `newframe = frame.copy()`\n",
      "  mutations_all_protein.insert(current_max+i,\n"
     ]
    },
    {
     "name": "stdout",
     "output_type": "stream",
     "text": [
      "Appending NUDCD3...\n"
     ]
    },
    {
     "name": "stderr",
     "output_type": "stream",
     "text": [
      "/var/folders/kv/l0jzxgbj1kggff_kd35bfzkw0000gn/T/ipykernel_42080/1574832305.py:4: PerformanceWarning: DataFrame is highly fragmented.  This is usually the result of calling `frame.insert` many times, which has poor performance.  Consider joining all columns at once using pd.concat(axis=1) instead. To get a de-fragmented frame, use `newframe = frame.copy()`\n",
      "  mutations_all_protein.insert(current_max+i,\n"
     ]
    },
    {
     "name": "stdout",
     "output_type": "stream",
     "text": [
      "Appending NUDT9...\n"
     ]
    },
    {
     "name": "stderr",
     "output_type": "stream",
     "text": [
      "/var/folders/kv/l0jzxgbj1kggff_kd35bfzkw0000gn/T/ipykernel_42080/1574832305.py:4: PerformanceWarning: DataFrame is highly fragmented.  This is usually the result of calling `frame.insert` many times, which has poor performance.  Consider joining all columns at once using pd.concat(axis=1) instead. To get a de-fragmented frame, use `newframe = frame.copy()`\n",
      "  mutations_all_protein.insert(current_max+i,\n"
     ]
    },
    {
     "name": "stdout",
     "output_type": "stream",
     "text": [
      "Appending NUP133...\n"
     ]
    },
    {
     "name": "stderr",
     "output_type": "stream",
     "text": [
      "/var/folders/kv/l0jzxgbj1kggff_kd35bfzkw0000gn/T/ipykernel_42080/1574832305.py:4: PerformanceWarning: DataFrame is highly fragmented.  This is usually the result of calling `frame.insert` many times, which has poor performance.  Consider joining all columns at once using pd.concat(axis=1) instead. To get a de-fragmented frame, use `newframe = frame.copy()`\n",
      "  mutations_all_protein.insert(current_max+i,\n"
     ]
    },
    {
     "name": "stdout",
     "output_type": "stream",
     "text": [
      "Appending NUP62...\n"
     ]
    },
    {
     "name": "stderr",
     "output_type": "stream",
     "text": [
      "/var/folders/kv/l0jzxgbj1kggff_kd35bfzkw0000gn/T/ipykernel_42080/1574832305.py:4: PerformanceWarning: DataFrame is highly fragmented.  This is usually the result of calling `frame.insert` many times, which has poor performance.  Consider joining all columns at once using pd.concat(axis=1) instead. To get a de-fragmented frame, use `newframe = frame.copy()`\n",
      "  mutations_all_protein.insert(current_max+i,\n"
     ]
    },
    {
     "name": "stdout",
     "output_type": "stream",
     "text": [
      "Appending NUP85...\n"
     ]
    },
    {
     "name": "stderr",
     "output_type": "stream",
     "text": [
      "/var/folders/kv/l0jzxgbj1kggff_kd35bfzkw0000gn/T/ipykernel_42080/1574832305.py:4: PerformanceWarning: DataFrame is highly fragmented.  This is usually the result of calling `frame.insert` many times, which has poor performance.  Consider joining all columns at once using pd.concat(axis=1) instead. To get a de-fragmented frame, use `newframe = frame.copy()`\n",
      "  mutations_all_protein.insert(current_max+i,\n"
     ]
    },
    {
     "name": "stdout",
     "output_type": "stream",
     "text": [
      "Appending NUP88...\n"
     ]
    },
    {
     "name": "stderr",
     "output_type": "stream",
     "text": [
      "/var/folders/kv/l0jzxgbj1kggff_kd35bfzkw0000gn/T/ipykernel_42080/1574832305.py:4: PerformanceWarning: DataFrame is highly fragmented.  This is usually the result of calling `frame.insert` many times, which has poor performance.  Consider joining all columns at once using pd.concat(axis=1) instead. To get a de-fragmented frame, use `newframe = frame.copy()`\n",
      "  mutations_all_protein.insert(current_max+i,\n"
     ]
    },
    {
     "name": "stdout",
     "output_type": "stream",
     "text": [
      "Appending NUP93...\n"
     ]
    },
    {
     "name": "stderr",
     "output_type": "stream",
     "text": [
      "/var/folders/kv/l0jzxgbj1kggff_kd35bfzkw0000gn/T/ipykernel_42080/1574832305.py:4: PerformanceWarning: DataFrame is highly fragmented.  This is usually the result of calling `frame.insert` many times, which has poor performance.  Consider joining all columns at once using pd.concat(axis=1) instead. To get a de-fragmented frame, use `newframe = frame.copy()`\n",
      "  mutations_all_protein.insert(current_max+i,\n"
     ]
    },
    {
     "name": "stdout",
     "output_type": "stream",
     "text": [
      "Appending NUSAP1...\n"
     ]
    },
    {
     "name": "stderr",
     "output_type": "stream",
     "text": [
      "/var/folders/kv/l0jzxgbj1kggff_kd35bfzkw0000gn/T/ipykernel_42080/1574832305.py:4: PerformanceWarning: DataFrame is highly fragmented.  This is usually the result of calling `frame.insert` many times, which has poor performance.  Consider joining all columns at once using pd.concat(axis=1) instead. To get a de-fragmented frame, use `newframe = frame.copy()`\n",
      "  mutations_all_protein.insert(current_max+i,\n"
     ]
    },
    {
     "name": "stdout",
     "output_type": "stream",
     "text": [
      "Appending NVL...\n"
     ]
    },
    {
     "name": "stderr",
     "output_type": "stream",
     "text": [
      "/var/folders/kv/l0jzxgbj1kggff_kd35bfzkw0000gn/T/ipykernel_42080/1574832305.py:4: PerformanceWarning: DataFrame is highly fragmented.  This is usually the result of calling `frame.insert` many times, which has poor performance.  Consider joining all columns at once using pd.concat(axis=1) instead. To get a de-fragmented frame, use `newframe = frame.copy()`\n",
      "  mutations_all_protein.insert(current_max+i,\n"
     ]
    },
    {
     "name": "stdout",
     "output_type": "stream",
     "text": [
      "Appending ORC1...\n"
     ]
    },
    {
     "name": "stderr",
     "output_type": "stream",
     "text": [
      "/var/folders/kv/l0jzxgbj1kggff_kd35bfzkw0000gn/T/ipykernel_42080/1574832305.py:4: PerformanceWarning: DataFrame is highly fragmented.  This is usually the result of calling `frame.insert` many times, which has poor performance.  Consider joining all columns at once using pd.concat(axis=1) instead. To get a de-fragmented frame, use `newframe = frame.copy()`\n",
      "  mutations_all_protein.insert(current_max+i,\n"
     ]
    },
    {
     "name": "stdout",
     "output_type": "stream",
     "text": [
      "Appending OXA1L...\n"
     ]
    },
    {
     "name": "stderr",
     "output_type": "stream",
     "text": [
      "/var/folders/kv/l0jzxgbj1kggff_kd35bfzkw0000gn/T/ipykernel_42080/1574832305.py:4: PerformanceWarning: DataFrame is highly fragmented.  This is usually the result of calling `frame.insert` many times, which has poor performance.  Consider joining all columns at once using pd.concat(axis=1) instead. To get a de-fragmented frame, use `newframe = frame.copy()`\n",
      "  mutations_all_protein.insert(current_max+i,\n"
     ]
    },
    {
     "name": "stdout",
     "output_type": "stream",
     "text": [
      "Appending OXCT1...\n"
     ]
    },
    {
     "name": "stderr",
     "output_type": "stream",
     "text": [
      "/var/folders/kv/l0jzxgbj1kggff_kd35bfzkw0000gn/T/ipykernel_42080/1574832305.py:4: PerformanceWarning: DataFrame is highly fragmented.  This is usually the result of calling `frame.insert` many times, which has poor performance.  Consider joining all columns at once using pd.concat(axis=1) instead. To get a de-fragmented frame, use `newframe = frame.copy()`\n",
      "  mutations_all_protein.insert(current_max+i,\n"
     ]
    },
    {
     "name": "stdout",
     "output_type": "stream",
     "text": [
      "Appending OXSR1...\n"
     ]
    },
    {
     "name": "stderr",
     "output_type": "stream",
     "text": [
      "/var/folders/kv/l0jzxgbj1kggff_kd35bfzkw0000gn/T/ipykernel_42080/1574832305.py:4: PerformanceWarning: DataFrame is highly fragmented.  This is usually the result of calling `frame.insert` many times, which has poor performance.  Consider joining all columns at once using pd.concat(axis=1) instead. To get a de-fragmented frame, use `newframe = frame.copy()`\n",
      "  mutations_all_protein.insert(current_max+i,\n"
     ]
    },
    {
     "name": "stdout",
     "output_type": "stream",
     "text": [
      "Appending P4HA2...\n"
     ]
    },
    {
     "name": "stderr",
     "output_type": "stream",
     "text": [
      "/var/folders/kv/l0jzxgbj1kggff_kd35bfzkw0000gn/T/ipykernel_42080/1574832305.py:4: PerformanceWarning: DataFrame is highly fragmented.  This is usually the result of calling `frame.insert` many times, which has poor performance.  Consider joining all columns at once using pd.concat(axis=1) instead. To get a de-fragmented frame, use `newframe = frame.copy()`\n",
      "  mutations_all_protein.insert(current_max+i,\n"
     ]
    },
    {
     "name": "stdout",
     "output_type": "stream",
     "text": [
      "Appending P4HTM...\n"
     ]
    },
    {
     "name": "stderr",
     "output_type": "stream",
     "text": [
      "/var/folders/kv/l0jzxgbj1kggff_kd35bfzkw0000gn/T/ipykernel_42080/1574832305.py:4: PerformanceWarning: DataFrame is highly fragmented.  This is usually the result of calling `frame.insert` many times, which has poor performance.  Consider joining all columns at once using pd.concat(axis=1) instead. To get a de-fragmented frame, use `newframe = frame.copy()`\n",
      "  mutations_all_protein.insert(current_max+i,\n"
     ]
    },
    {
     "name": "stdout",
     "output_type": "stream",
     "text": [
      "Appending PACSIN3...\n"
     ]
    },
    {
     "name": "stderr",
     "output_type": "stream",
     "text": [
      "/var/folders/kv/l0jzxgbj1kggff_kd35bfzkw0000gn/T/ipykernel_42080/1574832305.py:4: PerformanceWarning: DataFrame is highly fragmented.  This is usually the result of calling `frame.insert` many times, which has poor performance.  Consider joining all columns at once using pd.concat(axis=1) instead. To get a de-fragmented frame, use `newframe = frame.copy()`\n",
      "  mutations_all_protein.insert(current_max+i,\n"
     ]
    },
    {
     "name": "stdout",
     "output_type": "stream",
     "text": [
      "Appending PAF1...\n"
     ]
    },
    {
     "name": "stderr",
     "output_type": "stream",
     "text": [
      "/var/folders/kv/l0jzxgbj1kggff_kd35bfzkw0000gn/T/ipykernel_42080/1574832305.py:4: PerformanceWarning: DataFrame is highly fragmented.  This is usually the result of calling `frame.insert` many times, which has poor performance.  Consider joining all columns at once using pd.concat(axis=1) instead. To get a de-fragmented frame, use `newframe = frame.copy()`\n",
      "  mutations_all_protein.insert(current_max+i,\n"
     ]
    },
    {
     "name": "stdout",
     "output_type": "stream",
     "text": [
      "Appending PAFAH1B1...\n"
     ]
    },
    {
     "name": "stderr",
     "output_type": "stream",
     "text": [
      "/var/folders/kv/l0jzxgbj1kggff_kd35bfzkw0000gn/T/ipykernel_42080/1574832305.py:4: PerformanceWarning: DataFrame is highly fragmented.  This is usually the result of calling `frame.insert` many times, which has poor performance.  Consider joining all columns at once using pd.concat(axis=1) instead. To get a de-fragmented frame, use `newframe = frame.copy()`\n",
      "  mutations_all_protein.insert(current_max+i,\n"
     ]
    },
    {
     "name": "stdout",
     "output_type": "stream",
     "text": [
      "Appending PAFAH1B3...\n"
     ]
    },
    {
     "name": "stderr",
     "output_type": "stream",
     "text": [
      "/var/folders/kv/l0jzxgbj1kggff_kd35bfzkw0000gn/T/ipykernel_42080/1574832305.py:4: PerformanceWarning: DataFrame is highly fragmented.  This is usually the result of calling `frame.insert` many times, which has poor performance.  Consider joining all columns at once using pd.concat(axis=1) instead. To get a de-fragmented frame, use `newframe = frame.copy()`\n",
      "  mutations_all_protein.insert(current_max+i,\n"
     ]
    },
    {
     "name": "stdout",
     "output_type": "stream",
     "text": [
      "Appending PAICS...\n"
     ]
    },
    {
     "name": "stderr",
     "output_type": "stream",
     "text": [
      "/var/folders/kv/l0jzxgbj1kggff_kd35bfzkw0000gn/T/ipykernel_42080/1574832305.py:4: PerformanceWarning: DataFrame is highly fragmented.  This is usually the result of calling `frame.insert` many times, which has poor performance.  Consider joining all columns at once using pd.concat(axis=1) instead. To get a de-fragmented frame, use `newframe = frame.copy()`\n",
      "  mutations_all_protein.insert(current_max+i,\n"
     ]
    },
    {
     "name": "stdout",
     "output_type": "stream",
     "text": [
      "Appending PAK1...\n"
     ]
    },
    {
     "name": "stderr",
     "output_type": "stream",
     "text": [
      "/var/folders/kv/l0jzxgbj1kggff_kd35bfzkw0000gn/T/ipykernel_42080/1574832305.py:4: PerformanceWarning: DataFrame is highly fragmented.  This is usually the result of calling `frame.insert` many times, which has poor performance.  Consider joining all columns at once using pd.concat(axis=1) instead. To get a de-fragmented frame, use `newframe = frame.copy()`\n",
      "  mutations_all_protein.insert(current_max+i,\n"
     ]
    },
    {
     "name": "stdout",
     "output_type": "stream",
     "text": [
      "Appending PAK4...\n"
     ]
    },
    {
     "name": "stderr",
     "output_type": "stream",
     "text": [
      "/var/folders/kv/l0jzxgbj1kggff_kd35bfzkw0000gn/T/ipykernel_42080/1574832305.py:4: PerformanceWarning: DataFrame is highly fragmented.  This is usually the result of calling `frame.insert` many times, which has poor performance.  Consider joining all columns at once using pd.concat(axis=1) instead. To get a de-fragmented frame, use `newframe = frame.copy()`\n",
      "  mutations_all_protein.insert(current_max+i,\n"
     ]
    },
    {
     "name": "stdout",
     "output_type": "stream",
     "text": [
      "Appending PAK6...\n"
     ]
    },
    {
     "name": "stderr",
     "output_type": "stream",
     "text": [
      "/var/folders/kv/l0jzxgbj1kggff_kd35bfzkw0000gn/T/ipykernel_42080/1574832305.py:4: PerformanceWarning: DataFrame is highly fragmented.  This is usually the result of calling `frame.insert` many times, which has poor performance.  Consider joining all columns at once using pd.concat(axis=1) instead. To get a de-fragmented frame, use `newframe = frame.copy()`\n",
      "  mutations_all_protein.insert(current_max+i,\n"
     ]
    },
    {
     "name": "stdout",
     "output_type": "stream",
     "text": [
      "Appending PAN2...\n"
     ]
    },
    {
     "name": "stderr",
     "output_type": "stream",
     "text": [
      "/var/folders/kv/l0jzxgbj1kggff_kd35bfzkw0000gn/T/ipykernel_42080/1574832305.py:4: PerformanceWarning: DataFrame is highly fragmented.  This is usually the result of calling `frame.insert` many times, which has poor performance.  Consider joining all columns at once using pd.concat(axis=1) instead. To get a de-fragmented frame, use `newframe = frame.copy()`\n",
      "  mutations_all_protein.insert(current_max+i,\n"
     ]
    },
    {
     "name": "stdout",
     "output_type": "stream",
     "text": [
      "Appending PARP1...\n"
     ]
    },
    {
     "name": "stderr",
     "output_type": "stream",
     "text": [
      "/var/folders/kv/l0jzxgbj1kggff_kd35bfzkw0000gn/T/ipykernel_42080/1574832305.py:4: PerformanceWarning: DataFrame is highly fragmented.  This is usually the result of calling `frame.insert` many times, which has poor performance.  Consider joining all columns at once using pd.concat(axis=1) instead. To get a de-fragmented frame, use `newframe = frame.copy()`\n",
      "  mutations_all_protein.insert(current_max+i,\n"
     ]
    },
    {
     "name": "stdout",
     "output_type": "stream",
     "text": [
      "Appending PARP2...\n"
     ]
    },
    {
     "name": "stderr",
     "output_type": "stream",
     "text": [
      "/var/folders/kv/l0jzxgbj1kggff_kd35bfzkw0000gn/T/ipykernel_42080/1574832305.py:4: PerformanceWarning: DataFrame is highly fragmented.  This is usually the result of calling `frame.insert` many times, which has poor performance.  Consider joining all columns at once using pd.concat(axis=1) instead. To get a de-fragmented frame, use `newframe = frame.copy()`\n",
      "  mutations_all_protein.insert(current_max+i,\n"
     ]
    },
    {
     "name": "stdout",
     "output_type": "stream",
     "text": [
      "Appending PAX8...\n"
     ]
    },
    {
     "name": "stderr",
     "output_type": "stream",
     "text": [
      "/var/folders/kv/l0jzxgbj1kggff_kd35bfzkw0000gn/T/ipykernel_42080/1574832305.py:4: PerformanceWarning: DataFrame is highly fragmented.  This is usually the result of calling `frame.insert` many times, which has poor performance.  Consider joining all columns at once using pd.concat(axis=1) instead. To get a de-fragmented frame, use `newframe = frame.copy()`\n",
      "  mutations_all_protein.insert(current_max+i,\n"
     ]
    },
    {
     "name": "stdout",
     "output_type": "stream",
     "text": [
      "Appending PCBD1...\n"
     ]
    },
    {
     "name": "stderr",
     "output_type": "stream",
     "text": [
      "/var/folders/kv/l0jzxgbj1kggff_kd35bfzkw0000gn/T/ipykernel_42080/1574832305.py:4: PerformanceWarning: DataFrame is highly fragmented.  This is usually the result of calling `frame.insert` many times, which has poor performance.  Consider joining all columns at once using pd.concat(axis=1) instead. To get a de-fragmented frame, use `newframe = frame.copy()`\n",
      "  mutations_all_protein.insert(current_max+i,\n"
     ]
    },
    {
     "name": "stdout",
     "output_type": "stream",
     "text": [
      "Appending PCCB...\n"
     ]
    },
    {
     "name": "stderr",
     "output_type": "stream",
     "text": [
      "/var/folders/kv/l0jzxgbj1kggff_kd35bfzkw0000gn/T/ipykernel_42080/1574832305.py:4: PerformanceWarning: DataFrame is highly fragmented.  This is usually the result of calling `frame.insert` many times, which has poor performance.  Consider joining all columns at once using pd.concat(axis=1) instead. To get a de-fragmented frame, use `newframe = frame.copy()`\n",
      "  mutations_all_protein.insert(current_max+i,\n"
     ]
    },
    {
     "name": "stdout",
     "output_type": "stream",
     "text": [
      "Appending PCK2...\n"
     ]
    },
    {
     "name": "stderr",
     "output_type": "stream",
     "text": [
      "/var/folders/kv/l0jzxgbj1kggff_kd35bfzkw0000gn/T/ipykernel_42080/1574832305.py:4: PerformanceWarning: DataFrame is highly fragmented.  This is usually the result of calling `frame.insert` many times, which has poor performance.  Consider joining all columns at once using pd.concat(axis=1) instead. To get a de-fragmented frame, use `newframe = frame.copy()`\n",
      "  mutations_all_protein.insert(current_max+i,\n"
     ]
    },
    {
     "name": "stdout",
     "output_type": "stream",
     "text": [
      "Appending PCM1...\n"
     ]
    },
    {
     "name": "stderr",
     "output_type": "stream",
     "text": [
      "/var/folders/kv/l0jzxgbj1kggff_kd35bfzkw0000gn/T/ipykernel_42080/1574832305.py:4: PerformanceWarning: DataFrame is highly fragmented.  This is usually the result of calling `frame.insert` many times, which has poor performance.  Consider joining all columns at once using pd.concat(axis=1) instead. To get a de-fragmented frame, use `newframe = frame.copy()`\n",
      "  mutations_all_protein.insert(current_max+i,\n"
     ]
    },
    {
     "name": "stdout",
     "output_type": "stream",
     "text": [
      "Appending PCMT1...\n"
     ]
    },
    {
     "name": "stderr",
     "output_type": "stream",
     "text": [
      "/var/folders/kv/l0jzxgbj1kggff_kd35bfzkw0000gn/T/ipykernel_42080/1574832305.py:4: PerformanceWarning: DataFrame is highly fragmented.  This is usually the result of calling `frame.insert` many times, which has poor performance.  Consider joining all columns at once using pd.concat(axis=1) instead. To get a de-fragmented frame, use `newframe = frame.copy()`\n",
      "  mutations_all_protein.insert(current_max+i,\n"
     ]
    },
    {
     "name": "stdout",
     "output_type": "stream",
     "text": [
      "Appending PCNA...\n"
     ]
    },
    {
     "name": "stderr",
     "output_type": "stream",
     "text": [
      "/var/folders/kv/l0jzxgbj1kggff_kd35bfzkw0000gn/T/ipykernel_42080/1574832305.py:4: PerformanceWarning: DataFrame is highly fragmented.  This is usually the result of calling `frame.insert` many times, which has poor performance.  Consider joining all columns at once using pd.concat(axis=1) instead. To get a de-fragmented frame, use `newframe = frame.copy()`\n",
      "  mutations_all_protein.insert(current_max+i,\n"
     ]
    },
    {
     "name": "stdout",
     "output_type": "stream",
     "text": [
      "Appending PDGFA...\n"
     ]
    },
    {
     "name": "stderr",
     "output_type": "stream",
     "text": [
      "/var/folders/kv/l0jzxgbj1kggff_kd35bfzkw0000gn/T/ipykernel_42080/1574832305.py:4: PerformanceWarning: DataFrame is highly fragmented.  This is usually the result of calling `frame.insert` many times, which has poor performance.  Consider joining all columns at once using pd.concat(axis=1) instead. To get a de-fragmented frame, use `newframe = frame.copy()`\n",
      "  mutations_all_protein.insert(current_max+i,\n"
     ]
    },
    {
     "name": "stdout",
     "output_type": "stream",
     "text": [
      "Appending PDHX...\n"
     ]
    },
    {
     "name": "stderr",
     "output_type": "stream",
     "text": [
      "/var/folders/kv/l0jzxgbj1kggff_kd35bfzkw0000gn/T/ipykernel_42080/1574832305.py:4: PerformanceWarning: DataFrame is highly fragmented.  This is usually the result of calling `frame.insert` many times, which has poor performance.  Consider joining all columns at once using pd.concat(axis=1) instead. To get a de-fragmented frame, use `newframe = frame.copy()`\n",
      "  mutations_all_protein.insert(current_max+i,\n"
     ]
    },
    {
     "name": "stdout",
     "output_type": "stream",
     "text": [
      "Appending PDIA5...\n"
     ]
    },
    {
     "name": "stderr",
     "output_type": "stream",
     "text": [
      "/var/folders/kv/l0jzxgbj1kggff_kd35bfzkw0000gn/T/ipykernel_42080/1574832305.py:4: PerformanceWarning: DataFrame is highly fragmented.  This is usually the result of calling `frame.insert` many times, which has poor performance.  Consider joining all columns at once using pd.concat(axis=1) instead. To get a de-fragmented frame, use `newframe = frame.copy()`\n",
      "  mutations_all_protein.insert(current_max+i,\n"
     ]
    },
    {
     "name": "stdout",
     "output_type": "stream",
     "text": [
      "Appending PDLIM1...\n"
     ]
    },
    {
     "name": "stderr",
     "output_type": "stream",
     "text": [
      "/var/folders/kv/l0jzxgbj1kggff_kd35bfzkw0000gn/T/ipykernel_42080/1574832305.py:4: PerformanceWarning: DataFrame is highly fragmented.  This is usually the result of calling `frame.insert` many times, which has poor performance.  Consider joining all columns at once using pd.concat(axis=1) instead. To get a de-fragmented frame, use `newframe = frame.copy()`\n",
      "  mutations_all_protein.insert(current_max+i,\n"
     ]
    },
    {
     "name": "stdout",
     "output_type": "stream",
     "text": [
      "Appending PDS5A...\n"
     ]
    },
    {
     "name": "stderr",
     "output_type": "stream",
     "text": [
      "/var/folders/kv/l0jzxgbj1kggff_kd35bfzkw0000gn/T/ipykernel_42080/1574832305.py:4: PerformanceWarning: DataFrame is highly fragmented.  This is usually the result of calling `frame.insert` many times, which has poor performance.  Consider joining all columns at once using pd.concat(axis=1) instead. To get a de-fragmented frame, use `newframe = frame.copy()`\n",
      "  mutations_all_protein.insert(current_max+i,\n"
     ]
    },
    {
     "name": "stdout",
     "output_type": "stream",
     "text": [
      "Appending PECR...\n"
     ]
    },
    {
     "name": "stderr",
     "output_type": "stream",
     "text": [
      "/var/folders/kv/l0jzxgbj1kggff_kd35bfzkw0000gn/T/ipykernel_42080/1574832305.py:4: PerformanceWarning: DataFrame is highly fragmented.  This is usually the result of calling `frame.insert` many times, which has poor performance.  Consider joining all columns at once using pd.concat(axis=1) instead. To get a de-fragmented frame, use `newframe = frame.copy()`\n",
      "  mutations_all_protein.insert(current_max+i,\n"
     ]
    },
    {
     "name": "stdout",
     "output_type": "stream",
     "text": [
      "Appending PEX11A...\n"
     ]
    },
    {
     "name": "stderr",
     "output_type": "stream",
     "text": [
      "/var/folders/kv/l0jzxgbj1kggff_kd35bfzkw0000gn/T/ipykernel_42080/1574832305.py:4: PerformanceWarning: DataFrame is highly fragmented.  This is usually the result of calling `frame.insert` many times, which has poor performance.  Consider joining all columns at once using pd.concat(axis=1) instead. To get a de-fragmented frame, use `newframe = frame.copy()`\n",
      "  mutations_all_protein.insert(current_max+i,\n"
     ]
    },
    {
     "name": "stdout",
     "output_type": "stream",
     "text": [
      "Appending PFKL...\n"
     ]
    },
    {
     "name": "stderr",
     "output_type": "stream",
     "text": [
      "/var/folders/kv/l0jzxgbj1kggff_kd35bfzkw0000gn/T/ipykernel_42080/1574832305.py:4: PerformanceWarning: DataFrame is highly fragmented.  This is usually the result of calling `frame.insert` many times, which has poor performance.  Consider joining all columns at once using pd.concat(axis=1) instead. To get a de-fragmented frame, use `newframe = frame.copy()`\n",
      "  mutations_all_protein.insert(current_max+i,\n"
     ]
    },
    {
     "name": "stdout",
     "output_type": "stream",
     "text": [
      "Appending PGAM1...\n"
     ]
    },
    {
     "name": "stderr",
     "output_type": "stream",
     "text": [
      "/var/folders/kv/l0jzxgbj1kggff_kd35bfzkw0000gn/T/ipykernel_42080/1574832305.py:4: PerformanceWarning: DataFrame is highly fragmented.  This is usually the result of calling `frame.insert` many times, which has poor performance.  Consider joining all columns at once using pd.concat(axis=1) instead. To get a de-fragmented frame, use `newframe = frame.copy()`\n",
      "  mutations_all_protein.insert(current_max+i,\n"
     ]
    },
    {
     "name": "stdout",
     "output_type": "stream",
     "text": [
      "Appending PGM1...\n"
     ]
    },
    {
     "name": "stderr",
     "output_type": "stream",
     "text": [
      "/var/folders/kv/l0jzxgbj1kggff_kd35bfzkw0000gn/T/ipykernel_42080/1574832305.py:4: PerformanceWarning: DataFrame is highly fragmented.  This is usually the result of calling `frame.insert` many times, which has poor performance.  Consider joining all columns at once using pd.concat(axis=1) instead. To get a de-fragmented frame, use `newframe = frame.copy()`\n",
      "  mutations_all_protein.insert(current_max+i,\n"
     ]
    },
    {
     "name": "stdout",
     "output_type": "stream",
     "text": [
      "Appending PGRMC1...\n"
     ]
    },
    {
     "name": "stderr",
     "output_type": "stream",
     "text": [
      "/var/folders/kv/l0jzxgbj1kggff_kd35bfzkw0000gn/T/ipykernel_42080/1574832305.py:4: PerformanceWarning: DataFrame is highly fragmented.  This is usually the result of calling `frame.insert` many times, which has poor performance.  Consider joining all columns at once using pd.concat(axis=1) instead. To get a de-fragmented frame, use `newframe = frame.copy()`\n",
      "  mutations_all_protein.insert(current_max+i,\n"
     ]
    },
    {
     "name": "stdout",
     "output_type": "stream",
     "text": [
      "Appending PHGDH...\n"
     ]
    },
    {
     "name": "stderr",
     "output_type": "stream",
     "text": [
      "/var/folders/kv/l0jzxgbj1kggff_kd35bfzkw0000gn/T/ipykernel_42080/1574832305.py:4: PerformanceWarning: DataFrame is highly fragmented.  This is usually the result of calling `frame.insert` many times, which has poor performance.  Consider joining all columns at once using pd.concat(axis=1) instead. To get a de-fragmented frame, use `newframe = frame.copy()`\n",
      "  mutations_all_protein.insert(current_max+i,\n"
     ]
    },
    {
     "name": "stdout",
     "output_type": "stream",
     "text": [
      "Appending PHKA1...\n"
     ]
    },
    {
     "name": "stderr",
     "output_type": "stream",
     "text": [
      "/var/folders/kv/l0jzxgbj1kggff_kd35bfzkw0000gn/T/ipykernel_42080/1574832305.py:4: PerformanceWarning: DataFrame is highly fragmented.  This is usually the result of calling `frame.insert` many times, which has poor performance.  Consider joining all columns at once using pd.concat(axis=1) instead. To get a de-fragmented frame, use `newframe = frame.copy()`\n",
      "  mutations_all_protein.insert(current_max+i,\n"
     ]
    },
    {
     "name": "stdout",
     "output_type": "stream",
     "text": [
      "Appending PHKB...\n"
     ]
    },
    {
     "name": "stderr",
     "output_type": "stream",
     "text": [
      "/var/folders/kv/l0jzxgbj1kggff_kd35bfzkw0000gn/T/ipykernel_42080/1574832305.py:4: PerformanceWarning: DataFrame is highly fragmented.  This is usually the result of calling `frame.insert` many times, which has poor performance.  Consider joining all columns at once using pd.concat(axis=1) instead. To get a de-fragmented frame, use `newframe = frame.copy()`\n",
      "  mutations_all_protein.insert(current_max+i,\n"
     ]
    },
    {
     "name": "stdout",
     "output_type": "stream",
     "text": [
      "Appending PHKG2...\n"
     ]
    },
    {
     "name": "stderr",
     "output_type": "stream",
     "text": [
      "/var/folders/kv/l0jzxgbj1kggff_kd35bfzkw0000gn/T/ipykernel_42080/1574832305.py:4: PerformanceWarning: DataFrame is highly fragmented.  This is usually the result of calling `frame.insert` many times, which has poor performance.  Consider joining all columns at once using pd.concat(axis=1) instead. To get a de-fragmented frame, use `newframe = frame.copy()`\n",
      "  mutations_all_protein.insert(current_max+i,\n"
     ]
    },
    {
     "name": "stdout",
     "output_type": "stream",
     "text": [
      "Appending PIGB...\n"
     ]
    },
    {
     "name": "stderr",
     "output_type": "stream",
     "text": [
      "/var/folders/kv/l0jzxgbj1kggff_kd35bfzkw0000gn/T/ipykernel_42080/1574832305.py:4: PerformanceWarning: DataFrame is highly fragmented.  This is usually the result of calling `frame.insert` many times, which has poor performance.  Consider joining all columns at once using pd.concat(axis=1) instead. To get a de-fragmented frame, use `newframe = frame.copy()`\n",
      "  mutations_all_protein.insert(current_max+i,\n"
     ]
    },
    {
     "name": "stdout",
     "output_type": "stream",
     "text": [
      "Appending PIH1D1...\n"
     ]
    },
    {
     "name": "stderr",
     "output_type": "stream",
     "text": [
      "/var/folders/kv/l0jzxgbj1kggff_kd35bfzkw0000gn/T/ipykernel_42080/1574832305.py:4: PerformanceWarning: DataFrame is highly fragmented.  This is usually the result of calling `frame.insert` many times, which has poor performance.  Consider joining all columns at once using pd.concat(axis=1) instead. To get a de-fragmented frame, use `newframe = frame.copy()`\n",
      "  mutations_all_protein.insert(current_max+i,\n"
     ]
    },
    {
     "name": "stdout",
     "output_type": "stream",
     "text": [
      "Appending PIK3C2B...\n"
     ]
    },
    {
     "name": "stderr",
     "output_type": "stream",
     "text": [
      "/var/folders/kv/l0jzxgbj1kggff_kd35bfzkw0000gn/T/ipykernel_42080/1574832305.py:4: PerformanceWarning: DataFrame is highly fragmented.  This is usually the result of calling `frame.insert` many times, which has poor performance.  Consider joining all columns at once using pd.concat(axis=1) instead. To get a de-fragmented frame, use `newframe = frame.copy()`\n",
      "  mutations_all_protein.insert(current_max+i,\n"
     ]
    },
    {
     "name": "stdout",
     "output_type": "stream",
     "text": [
      "Appending PIK3C3...\n"
     ]
    },
    {
     "name": "stderr",
     "output_type": "stream",
     "text": [
      "/var/folders/kv/l0jzxgbj1kggff_kd35bfzkw0000gn/T/ipykernel_42080/1574832305.py:4: PerformanceWarning: DataFrame is highly fragmented.  This is usually the result of calling `frame.insert` many times, which has poor performance.  Consider joining all columns at once using pd.concat(axis=1) instead. To get a de-fragmented frame, use `newframe = frame.copy()`\n",
      "  mutations_all_protein.insert(current_max+i,\n"
     ]
    },
    {
     "name": "stdout",
     "output_type": "stream",
     "text": [
      "Appending PIK3CA...\n"
     ]
    },
    {
     "name": "stderr",
     "output_type": "stream",
     "text": [
      "/var/folders/kv/l0jzxgbj1kggff_kd35bfzkw0000gn/T/ipykernel_42080/1574832305.py:4: PerformanceWarning: DataFrame is highly fragmented.  This is usually the result of calling `frame.insert` many times, which has poor performance.  Consider joining all columns at once using pd.concat(axis=1) instead. To get a de-fragmented frame, use `newframe = frame.copy()`\n",
      "  mutations_all_protein.insert(current_max+i,\n"
     ]
    },
    {
     "name": "stdout",
     "output_type": "stream",
     "text": [
      "Appending PIK3R3...\n"
     ]
    },
    {
     "name": "stderr",
     "output_type": "stream",
     "text": [
      "/var/folders/kv/l0jzxgbj1kggff_kd35bfzkw0000gn/T/ipykernel_42080/1574832305.py:4: PerformanceWarning: DataFrame is highly fragmented.  This is usually the result of calling `frame.insert` many times, which has poor performance.  Consider joining all columns at once using pd.concat(axis=1) instead. To get a de-fragmented frame, use `newframe = frame.copy()`\n",
      "  mutations_all_protein.insert(current_max+i,\n"
     ]
    },
    {
     "name": "stdout",
     "output_type": "stream",
     "text": [
      "Appending PIK3R4...\n"
     ]
    },
    {
     "name": "stderr",
     "output_type": "stream",
     "text": [
      "/var/folders/kv/l0jzxgbj1kggff_kd35bfzkw0000gn/T/ipykernel_42080/1574832305.py:4: PerformanceWarning: DataFrame is highly fragmented.  This is usually the result of calling `frame.insert` many times, which has poor performance.  Consider joining all columns at once using pd.concat(axis=1) instead. To get a de-fragmented frame, use `newframe = frame.copy()`\n",
      "  mutations_all_protein.insert(current_max+i,\n"
     ]
    },
    {
     "name": "stdout",
     "output_type": "stream",
     "text": [
      "Appending PIN1...\n"
     ]
    },
    {
     "name": "stderr",
     "output_type": "stream",
     "text": [
      "/var/folders/kv/l0jzxgbj1kggff_kd35bfzkw0000gn/T/ipykernel_42080/1574832305.py:4: PerformanceWarning: DataFrame is highly fragmented.  This is usually the result of calling `frame.insert` many times, which has poor performance.  Consider joining all columns at once using pd.concat(axis=1) instead. To get a de-fragmented frame, use `newframe = frame.copy()`\n",
      "  mutations_all_protein.insert(current_max+i,\n"
     ]
    },
    {
     "name": "stdout",
     "output_type": "stream",
     "text": [
      "Appending PIP4K2B...\n"
     ]
    },
    {
     "name": "stderr",
     "output_type": "stream",
     "text": [
      "/var/folders/kv/l0jzxgbj1kggff_kd35bfzkw0000gn/T/ipykernel_42080/1574832305.py:4: PerformanceWarning: DataFrame is highly fragmented.  This is usually the result of calling `frame.insert` many times, which has poor performance.  Consider joining all columns at once using pd.concat(axis=1) instead. To get a de-fragmented frame, use `newframe = frame.copy()`\n",
      "  mutations_all_protein.insert(current_max+i,\n"
     ]
    },
    {
     "name": "stdout",
     "output_type": "stream",
     "text": [
      "Appending PKIG...\n"
     ]
    },
    {
     "name": "stderr",
     "output_type": "stream",
     "text": [
      "/var/folders/kv/l0jzxgbj1kggff_kd35bfzkw0000gn/T/ipykernel_42080/1574832305.py:4: PerformanceWarning: DataFrame is highly fragmented.  This is usually the result of calling `frame.insert` many times, which has poor performance.  Consider joining all columns at once using pd.concat(axis=1) instead. To get a de-fragmented frame, use `newframe = frame.copy()`\n",
      "  mutations_all_protein.insert(current_max+i,\n"
     ]
    },
    {
     "name": "stdout",
     "output_type": "stream",
     "text": [
      "Appending PLA2G15...\n"
     ]
    },
    {
     "name": "stderr",
     "output_type": "stream",
     "text": [
      "/var/folders/kv/l0jzxgbj1kggff_kd35bfzkw0000gn/T/ipykernel_42080/1574832305.py:4: PerformanceWarning: DataFrame is highly fragmented.  This is usually the result of calling `frame.insert` many times, which has poor performance.  Consider joining all columns at once using pd.concat(axis=1) instead. To get a de-fragmented frame, use `newframe = frame.copy()`\n",
      "  mutations_all_protein.insert(current_max+i,\n"
     ]
    },
    {
     "name": "stdout",
     "output_type": "stream",
     "text": [
      "Appending PLA2G4A...\n"
     ]
    },
    {
     "name": "stderr",
     "output_type": "stream",
     "text": [
      "/var/folders/kv/l0jzxgbj1kggff_kd35bfzkw0000gn/T/ipykernel_42080/1574832305.py:4: PerformanceWarning: DataFrame is highly fragmented.  This is usually the result of calling `frame.insert` many times, which has poor performance.  Consider joining all columns at once using pd.concat(axis=1) instead. To get a de-fragmented frame, use `newframe = frame.copy()`\n",
      "  mutations_all_protein.insert(current_max+i,\n"
     ]
    },
    {
     "name": "stdout",
     "output_type": "stream",
     "text": [
      "Appending PLCB3...\n"
     ]
    },
    {
     "name": "stderr",
     "output_type": "stream",
     "text": [
      "/var/folders/kv/l0jzxgbj1kggff_kd35bfzkw0000gn/T/ipykernel_42080/1574832305.py:4: PerformanceWarning: DataFrame is highly fragmented.  This is usually the result of calling `frame.insert` many times, which has poor performance.  Consider joining all columns at once using pd.concat(axis=1) instead. To get a de-fragmented frame, use `newframe = frame.copy()`\n",
      "  mutations_all_protein.insert(current_max+i,\n"
     ]
    },
    {
     "name": "stdout",
     "output_type": "stream",
     "text": [
      "Appending PLEKHJ1...\n"
     ]
    },
    {
     "name": "stderr",
     "output_type": "stream",
     "text": [
      "/var/folders/kv/l0jzxgbj1kggff_kd35bfzkw0000gn/T/ipykernel_42080/1574832305.py:4: PerformanceWarning: DataFrame is highly fragmented.  This is usually the result of calling `frame.insert` many times, which has poor performance.  Consider joining all columns at once using pd.concat(axis=1) instead. To get a de-fragmented frame, use `newframe = frame.copy()`\n",
      "  mutations_all_protein.insert(current_max+i,\n"
     ]
    },
    {
     "name": "stdout",
     "output_type": "stream",
     "text": [
      "Appending PLEKHM1...\n"
     ]
    },
    {
     "name": "stderr",
     "output_type": "stream",
     "text": [
      "/var/folders/kv/l0jzxgbj1kggff_kd35bfzkw0000gn/T/ipykernel_42080/1574832305.py:4: PerformanceWarning: DataFrame is highly fragmented.  This is usually the result of calling `frame.insert` many times, which has poor performance.  Consider joining all columns at once using pd.concat(axis=1) instead. To get a de-fragmented frame, use `newframe = frame.copy()`\n",
      "  mutations_all_protein.insert(current_max+i,\n"
     ]
    },
    {
     "name": "stdout",
     "output_type": "stream",
     "text": [
      "Appending PLK1...\n"
     ]
    },
    {
     "name": "stderr",
     "output_type": "stream",
     "text": [
      "/var/folders/kv/l0jzxgbj1kggff_kd35bfzkw0000gn/T/ipykernel_42080/1574832305.py:4: PerformanceWarning: DataFrame is highly fragmented.  This is usually the result of calling `frame.insert` many times, which has poor performance.  Consider joining all columns at once using pd.concat(axis=1) instead. To get a de-fragmented frame, use `newframe = frame.copy()`\n",
      "  mutations_all_protein.insert(current_max+i,\n"
     ]
    },
    {
     "name": "stdout",
     "output_type": "stream",
     "text": [
      "Appending PLOD3...\n"
     ]
    },
    {
     "name": "stderr",
     "output_type": "stream",
     "text": [
      "/var/folders/kv/l0jzxgbj1kggff_kd35bfzkw0000gn/T/ipykernel_42080/1574832305.py:4: PerformanceWarning: DataFrame is highly fragmented.  This is usually the result of calling `frame.insert` many times, which has poor performance.  Consider joining all columns at once using pd.concat(axis=1) instead. To get a de-fragmented frame, use `newframe = frame.copy()`\n",
      "  mutations_all_protein.insert(current_max+i,\n"
     ]
    },
    {
     "name": "stdout",
     "output_type": "stream",
     "text": [
      "Appending PLP2...\n"
     ]
    },
    {
     "name": "stderr",
     "output_type": "stream",
     "text": [
      "/var/folders/kv/l0jzxgbj1kggff_kd35bfzkw0000gn/T/ipykernel_42080/1574832305.py:4: PerformanceWarning: DataFrame is highly fragmented.  This is usually the result of calling `frame.insert` many times, which has poor performance.  Consider joining all columns at once using pd.concat(axis=1) instead. To get a de-fragmented frame, use `newframe = frame.copy()`\n",
      "  mutations_all_protein.insert(current_max+i,\n"
     ]
    },
    {
     "name": "stdout",
     "output_type": "stream",
     "text": [
      "Appending PLS1...\n"
     ]
    },
    {
     "name": "stderr",
     "output_type": "stream",
     "text": [
      "/var/folders/kv/l0jzxgbj1kggff_kd35bfzkw0000gn/T/ipykernel_42080/1574832305.py:4: PerformanceWarning: DataFrame is highly fragmented.  This is usually the result of calling `frame.insert` many times, which has poor performance.  Consider joining all columns at once using pd.concat(axis=1) instead. To get a de-fragmented frame, use `newframe = frame.copy()`\n",
      "  mutations_all_protein.insert(current_max+i,\n"
     ]
    },
    {
     "name": "stdout",
     "output_type": "stream",
     "text": [
      "Appending PLSCR1...\n"
     ]
    },
    {
     "name": "stderr",
     "output_type": "stream",
     "text": [
      "/var/folders/kv/l0jzxgbj1kggff_kd35bfzkw0000gn/T/ipykernel_42080/1574832305.py:4: PerformanceWarning: DataFrame is highly fragmented.  This is usually the result of calling `frame.insert` many times, which has poor performance.  Consider joining all columns at once using pd.concat(axis=1) instead. To get a de-fragmented frame, use `newframe = frame.copy()`\n",
      "  mutations_all_protein.insert(current_max+i,\n"
     ]
    },
    {
     "name": "stdout",
     "output_type": "stream",
     "text": [
      "Appending PLSCR3...\n"
     ]
    },
    {
     "name": "stderr",
     "output_type": "stream",
     "text": [
      "/var/folders/kv/l0jzxgbj1kggff_kd35bfzkw0000gn/T/ipykernel_42080/1574832305.py:4: PerformanceWarning: DataFrame is highly fragmented.  This is usually the result of calling `frame.insert` many times, which has poor performance.  Consider joining all columns at once using pd.concat(axis=1) instead. To get a de-fragmented frame, use `newframe = frame.copy()`\n",
      "  mutations_all_protein.insert(current_max+i,\n"
     ]
    },
    {
     "name": "stdout",
     "output_type": "stream",
     "text": [
      "Appending PMAIP1...\n"
     ]
    },
    {
     "name": "stderr",
     "output_type": "stream",
     "text": [
      "/var/folders/kv/l0jzxgbj1kggff_kd35bfzkw0000gn/T/ipykernel_42080/1574832305.py:4: PerformanceWarning: DataFrame is highly fragmented.  This is usually the result of calling `frame.insert` many times, which has poor performance.  Consider joining all columns at once using pd.concat(axis=1) instead. To get a de-fragmented frame, use `newframe = frame.copy()`\n",
      "  mutations_all_protein.insert(current_max+i,\n"
     ]
    },
    {
     "name": "stdout",
     "output_type": "stream",
     "text": [
      "Appending PMM2...\n"
     ]
    },
    {
     "name": "stderr",
     "output_type": "stream",
     "text": [
      "/var/folders/kv/l0jzxgbj1kggff_kd35bfzkw0000gn/T/ipykernel_42080/1574832305.py:4: PerformanceWarning: DataFrame is highly fragmented.  This is usually the result of calling `frame.insert` many times, which has poor performance.  Consider joining all columns at once using pd.concat(axis=1) instead. To get a de-fragmented frame, use `newframe = frame.copy()`\n",
      "  mutations_all_protein.insert(current_max+i,\n"
     ]
    },
    {
     "name": "stdout",
     "output_type": "stream",
     "text": [
      "Appending PNKP...\n"
     ]
    },
    {
     "name": "stderr",
     "output_type": "stream",
     "text": [
      "/var/folders/kv/l0jzxgbj1kggff_kd35bfzkw0000gn/T/ipykernel_42080/1574832305.py:4: PerformanceWarning: DataFrame is highly fragmented.  This is usually the result of calling `frame.insert` many times, which has poor performance.  Consider joining all columns at once using pd.concat(axis=1) instead. To get a de-fragmented frame, use `newframe = frame.copy()`\n",
      "  mutations_all_protein.insert(current_max+i,\n"
     ]
    },
    {
     "name": "stdout",
     "output_type": "stream",
     "text": [
      "Appending PNP...\n"
     ]
    },
    {
     "name": "stderr",
     "output_type": "stream",
     "text": [
      "/var/folders/kv/l0jzxgbj1kggff_kd35bfzkw0000gn/T/ipykernel_42080/1574832305.py:4: PerformanceWarning: DataFrame is highly fragmented.  This is usually the result of calling `frame.insert` many times, which has poor performance.  Consider joining all columns at once using pd.concat(axis=1) instead. To get a de-fragmented frame, use `newframe = frame.copy()`\n",
      "  mutations_all_protein.insert(current_max+i,\n"
     ]
    },
    {
     "name": "stdout",
     "output_type": "stream",
     "text": [
      "Appending POLB...\n"
     ]
    },
    {
     "name": "stderr",
     "output_type": "stream",
     "text": [
      "/var/folders/kv/l0jzxgbj1kggff_kd35bfzkw0000gn/T/ipykernel_42080/1574832305.py:4: PerformanceWarning: DataFrame is highly fragmented.  This is usually the result of calling `frame.insert` many times, which has poor performance.  Consider joining all columns at once using pd.concat(axis=1) instead. To get a de-fragmented frame, use `newframe = frame.copy()`\n",
      "  mutations_all_protein.insert(current_max+i,\n"
     ]
    },
    {
     "name": "stdout",
     "output_type": "stream",
     "text": [
      "Appending POLD4...\n"
     ]
    },
    {
     "name": "stderr",
     "output_type": "stream",
     "text": [
      "/var/folders/kv/l0jzxgbj1kggff_kd35bfzkw0000gn/T/ipykernel_42080/1574832305.py:4: PerformanceWarning: DataFrame is highly fragmented.  This is usually the result of calling `frame.insert` many times, which has poor performance.  Consider joining all columns at once using pd.concat(axis=1) instead. To get a de-fragmented frame, use `newframe = frame.copy()`\n",
      "  mutations_all_protein.insert(current_max+i,\n"
     ]
    },
    {
     "name": "stdout",
     "output_type": "stream",
     "text": [
      "Appending POLE2...\n"
     ]
    },
    {
     "name": "stderr",
     "output_type": "stream",
     "text": [
      "/var/folders/kv/l0jzxgbj1kggff_kd35bfzkw0000gn/T/ipykernel_42080/1574832305.py:4: PerformanceWarning: DataFrame is highly fragmented.  This is usually the result of calling `frame.insert` many times, which has poor performance.  Consider joining all columns at once using pd.concat(axis=1) instead. To get a de-fragmented frame, use `newframe = frame.copy()`\n",
      "  mutations_all_protein.insert(current_max+i,\n"
     ]
    },
    {
     "name": "stdout",
     "output_type": "stream",
     "text": [
      "Appending POLG2...\n"
     ]
    },
    {
     "name": "stderr",
     "output_type": "stream",
     "text": [
      "/var/folders/kv/l0jzxgbj1kggff_kd35bfzkw0000gn/T/ipykernel_42080/1574832305.py:4: PerformanceWarning: DataFrame is highly fragmented.  This is usually the result of calling `frame.insert` many times, which has poor performance.  Consider joining all columns at once using pd.concat(axis=1) instead. To get a de-fragmented frame, use `newframe = frame.copy()`\n",
      "  mutations_all_protein.insert(current_max+i,\n"
     ]
    },
    {
     "name": "stdout",
     "output_type": "stream",
     "text": [
      "Appending POLR1C...\n"
     ]
    },
    {
     "name": "stderr",
     "output_type": "stream",
     "text": [
      "/var/folders/kv/l0jzxgbj1kggff_kd35bfzkw0000gn/T/ipykernel_42080/1574832305.py:4: PerformanceWarning: DataFrame is highly fragmented.  This is usually the result of calling `frame.insert` many times, which has poor performance.  Consider joining all columns at once using pd.concat(axis=1) instead. To get a de-fragmented frame, use `newframe = frame.copy()`\n",
      "  mutations_all_protein.insert(current_max+i,\n"
     ]
    },
    {
     "name": "stdout",
     "output_type": "stream",
     "text": [
      "Appending POLR2I...\n"
     ]
    },
    {
     "name": "stderr",
     "output_type": "stream",
     "text": [
      "/var/folders/kv/l0jzxgbj1kggff_kd35bfzkw0000gn/T/ipykernel_42080/1574832305.py:4: PerformanceWarning: DataFrame is highly fragmented.  This is usually the result of calling `frame.insert` many times, which has poor performance.  Consider joining all columns at once using pd.concat(axis=1) instead. To get a de-fragmented frame, use `newframe = frame.copy()`\n",
      "  mutations_all_protein.insert(current_max+i,\n"
     ]
    },
    {
     "name": "stdout",
     "output_type": "stream",
     "text": [
      "Appending POLR2K...\n"
     ]
    },
    {
     "name": "stderr",
     "output_type": "stream",
     "text": [
      "/var/folders/kv/l0jzxgbj1kggff_kd35bfzkw0000gn/T/ipykernel_42080/1574832305.py:4: PerformanceWarning: DataFrame is highly fragmented.  This is usually the result of calling `frame.insert` many times, which has poor performance.  Consider joining all columns at once using pd.concat(axis=1) instead. To get a de-fragmented frame, use `newframe = frame.copy()`\n",
      "  mutations_all_protein.insert(current_max+i,\n"
     ]
    },
    {
     "name": "stdout",
     "output_type": "stream",
     "text": [
      "Appending POP4...\n"
     ]
    },
    {
     "name": "stderr",
     "output_type": "stream",
     "text": [
      "/var/folders/kv/l0jzxgbj1kggff_kd35bfzkw0000gn/T/ipykernel_42080/1574832305.py:4: PerformanceWarning: DataFrame is highly fragmented.  This is usually the result of calling `frame.insert` many times, which has poor performance.  Consider joining all columns at once using pd.concat(axis=1) instead. To get a de-fragmented frame, use `newframe = frame.copy()`\n",
      "  mutations_all_protein.insert(current_max+i,\n"
     ]
    },
    {
     "name": "stdout",
     "output_type": "stream",
     "text": [
      "Appending PPARD...\n"
     ]
    },
    {
     "name": "stderr",
     "output_type": "stream",
     "text": [
      "/var/folders/kv/l0jzxgbj1kggff_kd35bfzkw0000gn/T/ipykernel_42080/1574832305.py:4: PerformanceWarning: DataFrame is highly fragmented.  This is usually the result of calling `frame.insert` many times, which has poor performance.  Consider joining all columns at once using pd.concat(axis=1) instead. To get a de-fragmented frame, use `newframe = frame.copy()`\n",
      "  mutations_all_protein.insert(current_max+i,\n"
     ]
    },
    {
     "name": "stdout",
     "output_type": "stream",
     "text": [
      "Appending PPARG...\n"
     ]
    },
    {
     "name": "stderr",
     "output_type": "stream",
     "text": [
      "/var/folders/kv/l0jzxgbj1kggff_kd35bfzkw0000gn/T/ipykernel_42080/1574832305.py:4: PerformanceWarning: DataFrame is highly fragmented.  This is usually the result of calling `frame.insert` many times, which has poor performance.  Consider joining all columns at once using pd.concat(axis=1) instead. To get a de-fragmented frame, use `newframe = frame.copy()`\n",
      "  mutations_all_protein.insert(current_max+i,\n"
     ]
    },
    {
     "name": "stdout",
     "output_type": "stream",
     "text": [
      "Appending PPIC...\n"
     ]
    },
    {
     "name": "stderr",
     "output_type": "stream",
     "text": [
      "/var/folders/kv/l0jzxgbj1kggff_kd35bfzkw0000gn/T/ipykernel_42080/1574832305.py:4: PerformanceWarning: DataFrame is highly fragmented.  This is usually the result of calling `frame.insert` many times, which has poor performance.  Consider joining all columns at once using pd.concat(axis=1) instead. To get a de-fragmented frame, use `newframe = frame.copy()`\n",
      "  mutations_all_protein.insert(current_max+i,\n"
     ]
    },
    {
     "name": "stdout",
     "output_type": "stream",
     "text": [
      "Appending PPIE...\n"
     ]
    },
    {
     "name": "stderr",
     "output_type": "stream",
     "text": [
      "/var/folders/kv/l0jzxgbj1kggff_kd35bfzkw0000gn/T/ipykernel_42080/1574832305.py:4: PerformanceWarning: DataFrame is highly fragmented.  This is usually the result of calling `frame.insert` many times, which has poor performance.  Consider joining all columns at once using pd.concat(axis=1) instead. To get a de-fragmented frame, use `newframe = frame.copy()`\n",
      "  mutations_all_protein.insert(current_max+i,\n"
     ]
    },
    {
     "name": "stdout",
     "output_type": "stream",
     "text": [
      "Appending PPOX...\n"
     ]
    },
    {
     "name": "stderr",
     "output_type": "stream",
     "text": [
      "/var/folders/kv/l0jzxgbj1kggff_kd35bfzkw0000gn/T/ipykernel_42080/1574832305.py:4: PerformanceWarning: DataFrame is highly fragmented.  This is usually the result of calling `frame.insert` many times, which has poor performance.  Consider joining all columns at once using pd.concat(axis=1) instead. To get a de-fragmented frame, use `newframe = frame.copy()`\n",
      "  mutations_all_protein.insert(current_max+i,\n"
     ]
    },
    {
     "name": "stdout",
     "output_type": "stream",
     "text": [
      "Appending PPP1R13B...\n"
     ]
    },
    {
     "name": "stderr",
     "output_type": "stream",
     "text": [
      "/var/folders/kv/l0jzxgbj1kggff_kd35bfzkw0000gn/T/ipykernel_42080/1574832305.py:4: PerformanceWarning: DataFrame is highly fragmented.  This is usually the result of calling `frame.insert` many times, which has poor performance.  Consider joining all columns at once using pd.concat(axis=1) instead. To get a de-fragmented frame, use `newframe = frame.copy()`\n",
      "  mutations_all_protein.insert(current_max+i,\n"
     ]
    },
    {
     "name": "stdout",
     "output_type": "stream",
     "text": [
      "Appending PPP2R3C...\n"
     ]
    },
    {
     "name": "stderr",
     "output_type": "stream",
     "text": [
      "/var/folders/kv/l0jzxgbj1kggff_kd35bfzkw0000gn/T/ipykernel_42080/1574832305.py:4: PerformanceWarning: DataFrame is highly fragmented.  This is usually the result of calling `frame.insert` many times, which has poor performance.  Consider joining all columns at once using pd.concat(axis=1) instead. To get a de-fragmented frame, use `newframe = frame.copy()`\n",
      "  mutations_all_protein.insert(current_max+i,\n"
     ]
    },
    {
     "name": "stdout",
     "output_type": "stream",
     "text": [
      "Appending PPP2R5A...\n"
     ]
    },
    {
     "name": "stderr",
     "output_type": "stream",
     "text": [
      "/var/folders/kv/l0jzxgbj1kggff_kd35bfzkw0000gn/T/ipykernel_42080/1574832305.py:4: PerformanceWarning: DataFrame is highly fragmented.  This is usually the result of calling `frame.insert` many times, which has poor performance.  Consider joining all columns at once using pd.concat(axis=1) instead. To get a de-fragmented frame, use `newframe = frame.copy()`\n",
      "  mutations_all_protein.insert(current_max+i,\n"
     ]
    },
    {
     "name": "stdout",
     "output_type": "stream",
     "text": [
      "Appending PPP2R5E...\n"
     ]
    },
    {
     "name": "stderr",
     "output_type": "stream",
     "text": [
      "/var/folders/kv/l0jzxgbj1kggff_kd35bfzkw0000gn/T/ipykernel_42080/1574832305.py:4: PerformanceWarning: DataFrame is highly fragmented.  This is usually the result of calling `frame.insert` many times, which has poor performance.  Consider joining all columns at once using pd.concat(axis=1) instead. To get a de-fragmented frame, use `newframe = frame.copy()`\n",
      "  mutations_all_protein.insert(current_max+i,\n"
     ]
    },
    {
     "name": "stdout",
     "output_type": "stream",
     "text": [
      "Appending PRAF2...\n"
     ]
    },
    {
     "name": "stderr",
     "output_type": "stream",
     "text": [
      "/var/folders/kv/l0jzxgbj1kggff_kd35bfzkw0000gn/T/ipykernel_42080/1574832305.py:4: PerformanceWarning: DataFrame is highly fragmented.  This is usually the result of calling `frame.insert` many times, which has poor performance.  Consider joining all columns at once using pd.concat(axis=1) instead. To get a de-fragmented frame, use `newframe = frame.copy()`\n",
      "  mutations_all_protein.insert(current_max+i,\n"
     ]
    },
    {
     "name": "stdout",
     "output_type": "stream",
     "text": [
      "Appending PRCP...\n"
     ]
    },
    {
     "name": "stderr",
     "output_type": "stream",
     "text": [
      "/var/folders/kv/l0jzxgbj1kggff_kd35bfzkw0000gn/T/ipykernel_42080/1574832305.py:4: PerformanceWarning: DataFrame is highly fragmented.  This is usually the result of calling `frame.insert` many times, which has poor performance.  Consider joining all columns at once using pd.concat(axis=1) instead. To get a de-fragmented frame, use `newframe = frame.copy()`\n",
      "  mutations_all_protein.insert(current_max+i,\n"
     ]
    },
    {
     "name": "stdout",
     "output_type": "stream",
     "text": [
      "Appending PRKACA...\n"
     ]
    },
    {
     "name": "stderr",
     "output_type": "stream",
     "text": [
      "/var/folders/kv/l0jzxgbj1kggff_kd35bfzkw0000gn/T/ipykernel_42080/1574832305.py:4: PerformanceWarning: DataFrame is highly fragmented.  This is usually the result of calling `frame.insert` many times, which has poor performance.  Consider joining all columns at once using pd.concat(axis=1) instead. To get a de-fragmented frame, use `newframe = frame.copy()`\n",
      "  mutations_all_protein.insert(current_max+i,\n"
     ]
    },
    {
     "name": "stdout",
     "output_type": "stream",
     "text": [
      "Appending PRKAG2...\n"
     ]
    },
    {
     "name": "stderr",
     "output_type": "stream",
     "text": [
      "/var/folders/kv/l0jzxgbj1kggff_kd35bfzkw0000gn/T/ipykernel_42080/1574832305.py:4: PerformanceWarning: DataFrame is highly fragmented.  This is usually the result of calling `frame.insert` many times, which has poor performance.  Consider joining all columns at once using pd.concat(axis=1) instead. To get a de-fragmented frame, use `newframe = frame.copy()`\n",
      "  mutations_all_protein.insert(current_max+i,\n"
     ]
    },
    {
     "name": "stdout",
     "output_type": "stream",
     "text": [
      "Appending PRKCD...\n"
     ]
    },
    {
     "name": "stderr",
     "output_type": "stream",
     "text": [
      "/var/folders/kv/l0jzxgbj1kggff_kd35bfzkw0000gn/T/ipykernel_42080/1574832305.py:4: PerformanceWarning: DataFrame is highly fragmented.  This is usually the result of calling `frame.insert` many times, which has poor performance.  Consider joining all columns at once using pd.concat(axis=1) instead. To get a de-fragmented frame, use `newframe = frame.copy()`\n",
      "  mutations_all_protein.insert(current_max+i,\n"
     ]
    },
    {
     "name": "stdout",
     "output_type": "stream",
     "text": [
      "Appending PRKCH...\n"
     ]
    },
    {
     "name": "stderr",
     "output_type": "stream",
     "text": [
      "/var/folders/kv/l0jzxgbj1kggff_kd35bfzkw0000gn/T/ipykernel_42080/1574832305.py:4: PerformanceWarning: DataFrame is highly fragmented.  This is usually the result of calling `frame.insert` many times, which has poor performance.  Consider joining all columns at once using pd.concat(axis=1) instead. To get a de-fragmented frame, use `newframe = frame.copy()`\n",
      "  mutations_all_protein.insert(current_max+i,\n"
     ]
    },
    {
     "name": "stdout",
     "output_type": "stream",
     "text": [
      "Appending PRKCQ...\n"
     ]
    },
    {
     "name": "stderr",
     "output_type": "stream",
     "text": [
      "/var/folders/kv/l0jzxgbj1kggff_kd35bfzkw0000gn/T/ipykernel_42080/1574832305.py:4: PerformanceWarning: DataFrame is highly fragmented.  This is usually the result of calling `frame.insert` many times, which has poor performance.  Consider joining all columns at once using pd.concat(axis=1) instead. To get a de-fragmented frame, use `newframe = frame.copy()`\n",
      "  mutations_all_protein.insert(current_max+i,\n"
     ]
    },
    {
     "name": "stdout",
     "output_type": "stream",
     "text": [
      "Appending PRKX...\n"
     ]
    },
    {
     "name": "stderr",
     "output_type": "stream",
     "text": [
      "/var/folders/kv/l0jzxgbj1kggff_kd35bfzkw0000gn/T/ipykernel_42080/1574832305.py:4: PerformanceWarning: DataFrame is highly fragmented.  This is usually the result of calling `frame.insert` many times, which has poor performance.  Consider joining all columns at once using pd.concat(axis=1) instead. To get a de-fragmented frame, use `newframe = frame.copy()`\n",
      "  mutations_all_protein.insert(current_max+i,\n"
     ]
    },
    {
     "name": "stdout",
     "output_type": "stream",
     "text": [
      "Appending PROS1...\n"
     ]
    },
    {
     "name": "stderr",
     "output_type": "stream",
     "text": [
      "/var/folders/kv/l0jzxgbj1kggff_kd35bfzkw0000gn/T/ipykernel_42080/1574832305.py:4: PerformanceWarning: DataFrame is highly fragmented.  This is usually the result of calling `frame.insert` many times, which has poor performance.  Consider joining all columns at once using pd.concat(axis=1) instead. To get a de-fragmented frame, use `newframe = frame.copy()`\n",
      "  mutations_all_protein.insert(current_max+i,\n"
     ]
    },
    {
     "name": "stdout",
     "output_type": "stream",
     "text": [
      "Appending PRPF4...\n"
     ]
    },
    {
     "name": "stderr",
     "output_type": "stream",
     "text": [
      "/var/folders/kv/l0jzxgbj1kggff_kd35bfzkw0000gn/T/ipykernel_42080/1574832305.py:4: PerformanceWarning: DataFrame is highly fragmented.  This is usually the result of calling `frame.insert` many times, which has poor performance.  Consider joining all columns at once using pd.concat(axis=1) instead. To get a de-fragmented frame, use `newframe = frame.copy()`\n",
      "  mutations_all_protein.insert(current_max+i,\n"
     ]
    },
    {
     "name": "stdout",
     "output_type": "stream",
     "text": [
      "Appending PRR15L...\n"
     ]
    },
    {
     "name": "stderr",
     "output_type": "stream",
     "text": [
      "/var/folders/kv/l0jzxgbj1kggff_kd35bfzkw0000gn/T/ipykernel_42080/1574832305.py:4: PerformanceWarning: DataFrame is highly fragmented.  This is usually the result of calling `frame.insert` many times, which has poor performance.  Consider joining all columns at once using pd.concat(axis=1) instead. To get a de-fragmented frame, use `newframe = frame.copy()`\n",
      "  mutations_all_protein.insert(current_max+i,\n"
     ]
    },
    {
     "name": "stdout",
     "output_type": "stream",
     "text": [
      "Appending PRR7...\n"
     ]
    },
    {
     "name": "stderr",
     "output_type": "stream",
     "text": [
      "/var/folders/kv/l0jzxgbj1kggff_kd35bfzkw0000gn/T/ipykernel_42080/1574832305.py:4: PerformanceWarning: DataFrame is highly fragmented.  This is usually the result of calling `frame.insert` many times, which has poor performance.  Consider joining all columns at once using pd.concat(axis=1) instead. To get a de-fragmented frame, use `newframe = frame.copy()`\n",
      "  mutations_all_protein.insert(current_max+i,\n"
     ]
    },
    {
     "name": "stdout",
     "output_type": "stream",
     "text": [
      "Appending PRSS23...\n"
     ]
    },
    {
     "name": "stderr",
     "output_type": "stream",
     "text": [
      "/var/folders/kv/l0jzxgbj1kggff_kd35bfzkw0000gn/T/ipykernel_42080/1574832305.py:4: PerformanceWarning: DataFrame is highly fragmented.  This is usually the result of calling `frame.insert` many times, which has poor performance.  Consider joining all columns at once using pd.concat(axis=1) instead. To get a de-fragmented frame, use `newframe = frame.copy()`\n",
      "  mutations_all_protein.insert(current_max+i,\n"
     ]
    },
    {
     "name": "stdout",
     "output_type": "stream",
     "text": [
      "Appending PRUNE1...\n"
     ]
    },
    {
     "name": "stderr",
     "output_type": "stream",
     "text": [
      "/var/folders/kv/l0jzxgbj1kggff_kd35bfzkw0000gn/T/ipykernel_42080/1574832305.py:4: PerformanceWarning: DataFrame is highly fragmented.  This is usually the result of calling `frame.insert` many times, which has poor performance.  Consider joining all columns at once using pd.concat(axis=1) instead. To get a de-fragmented frame, use `newframe = frame.copy()`\n",
      "  mutations_all_protein.insert(current_max+i,\n"
     ]
    },
    {
     "name": "stdout",
     "output_type": "stream",
     "text": [
      "Appending PSIP1...\n"
     ]
    },
    {
     "name": "stderr",
     "output_type": "stream",
     "text": [
      "/var/folders/kv/l0jzxgbj1kggff_kd35bfzkw0000gn/T/ipykernel_42080/1574832305.py:4: PerformanceWarning: DataFrame is highly fragmented.  This is usually the result of calling `frame.insert` many times, which has poor performance.  Consider joining all columns at once using pd.concat(axis=1) instead. To get a de-fragmented frame, use `newframe = frame.copy()`\n",
      "  mutations_all_protein.insert(current_max+i,\n"
     ]
    },
    {
     "name": "stdout",
     "output_type": "stream",
     "text": [
      "Appending PSMB10...\n"
     ]
    },
    {
     "name": "stderr",
     "output_type": "stream",
     "text": [
      "/var/folders/kv/l0jzxgbj1kggff_kd35bfzkw0000gn/T/ipykernel_42080/1574832305.py:4: PerformanceWarning: DataFrame is highly fragmented.  This is usually the result of calling `frame.insert` many times, which has poor performance.  Consider joining all columns at once using pd.concat(axis=1) instead. To get a de-fragmented frame, use `newframe = frame.copy()`\n",
      "  mutations_all_protein.insert(current_max+i,\n"
     ]
    },
    {
     "name": "stdout",
     "output_type": "stream",
     "text": [
      "Appending PSMB8...\n"
     ]
    },
    {
     "name": "stderr",
     "output_type": "stream",
     "text": [
      "/var/folders/kv/l0jzxgbj1kggff_kd35bfzkw0000gn/T/ipykernel_42080/1574832305.py:4: PerformanceWarning: DataFrame is highly fragmented.  This is usually the result of calling `frame.insert` many times, which has poor performance.  Consider joining all columns at once using pd.concat(axis=1) instead. To get a de-fragmented frame, use `newframe = frame.copy()`\n",
      "  mutations_all_protein.insert(current_max+i,\n"
     ]
    },
    {
     "name": "stdout",
     "output_type": "stream",
     "text": [
      "Appending PSMD10...\n"
     ]
    },
    {
     "name": "stderr",
     "output_type": "stream",
     "text": [
      "/var/folders/kv/l0jzxgbj1kggff_kd35bfzkw0000gn/T/ipykernel_42080/1574832305.py:4: PerformanceWarning: DataFrame is highly fragmented.  This is usually the result of calling `frame.insert` many times, which has poor performance.  Consider joining all columns at once using pd.concat(axis=1) instead. To get a de-fragmented frame, use `newframe = frame.copy()`\n",
      "  mutations_all_protein.insert(current_max+i,\n"
     ]
    },
    {
     "name": "stdout",
     "output_type": "stream",
     "text": [
      "Appending PSMD2...\n"
     ]
    },
    {
     "name": "stderr",
     "output_type": "stream",
     "text": [
      "/var/folders/kv/l0jzxgbj1kggff_kd35bfzkw0000gn/T/ipykernel_42080/1574832305.py:4: PerformanceWarning: DataFrame is highly fragmented.  This is usually the result of calling `frame.insert` many times, which has poor performance.  Consider joining all columns at once using pd.concat(axis=1) instead. To get a de-fragmented frame, use `newframe = frame.copy()`\n",
      "  mutations_all_protein.insert(current_max+i,\n"
     ]
    },
    {
     "name": "stdout",
     "output_type": "stream",
     "text": [
      "Appending PSMD4...\n"
     ]
    },
    {
     "name": "stderr",
     "output_type": "stream",
     "text": [
      "/var/folders/kv/l0jzxgbj1kggff_kd35bfzkw0000gn/T/ipykernel_42080/1574832305.py:4: PerformanceWarning: DataFrame is highly fragmented.  This is usually the result of calling `frame.insert` many times, which has poor performance.  Consider joining all columns at once using pd.concat(axis=1) instead. To get a de-fragmented frame, use `newframe = frame.copy()`\n",
      "  mutations_all_protein.insert(current_max+i,\n"
     ]
    },
    {
     "name": "stdout",
     "output_type": "stream",
     "text": [
      "Appending PSMD9...\n"
     ]
    },
    {
     "name": "stderr",
     "output_type": "stream",
     "text": [
      "/var/folders/kv/l0jzxgbj1kggff_kd35bfzkw0000gn/T/ipykernel_42080/1574832305.py:4: PerformanceWarning: DataFrame is highly fragmented.  This is usually the result of calling `frame.insert` many times, which has poor performance.  Consider joining all columns at once using pd.concat(axis=1) instead. To get a de-fragmented frame, use `newframe = frame.copy()`\n",
      "  mutations_all_protein.insert(current_max+i,\n"
     ]
    },
    {
     "name": "stdout",
     "output_type": "stream",
     "text": [
      "Appending PSME1...\n"
     ]
    },
    {
     "name": "stderr",
     "output_type": "stream",
     "text": [
      "/var/folders/kv/l0jzxgbj1kggff_kd35bfzkw0000gn/T/ipykernel_42080/1574832305.py:4: PerformanceWarning: DataFrame is highly fragmented.  This is usually the result of calling `frame.insert` many times, which has poor performance.  Consider joining all columns at once using pd.concat(axis=1) instead. To get a de-fragmented frame, use `newframe = frame.copy()`\n",
      "  mutations_all_protein.insert(current_max+i,\n"
     ]
    },
    {
     "name": "stdout",
     "output_type": "stream",
     "text": [
      "Appending PSME2...\n"
     ]
    },
    {
     "name": "stderr",
     "output_type": "stream",
     "text": [
      "/var/folders/kv/l0jzxgbj1kggff_kd35bfzkw0000gn/T/ipykernel_42080/1574832305.py:4: PerformanceWarning: DataFrame is highly fragmented.  This is usually the result of calling `frame.insert` many times, which has poor performance.  Consider joining all columns at once using pd.concat(axis=1) instead. To get a de-fragmented frame, use `newframe = frame.copy()`\n",
      "  mutations_all_protein.insert(current_max+i,\n"
     ]
    },
    {
     "name": "stdout",
     "output_type": "stream",
     "text": [
      "Appending PSMF1...\n"
     ]
    },
    {
     "name": "stderr",
     "output_type": "stream",
     "text": [
      "/var/folders/kv/l0jzxgbj1kggff_kd35bfzkw0000gn/T/ipykernel_42080/1574832305.py:4: PerformanceWarning: DataFrame is highly fragmented.  This is usually the result of calling `frame.insert` many times, which has poor performance.  Consider joining all columns at once using pd.concat(axis=1) instead. To get a de-fragmented frame, use `newframe = frame.copy()`\n",
      "  mutations_all_protein.insert(current_max+i,\n"
     ]
    },
    {
     "name": "stdout",
     "output_type": "stream",
     "text": [
      "Appending PSMG1...\n"
     ]
    },
    {
     "name": "stderr",
     "output_type": "stream",
     "text": [
      "/var/folders/kv/l0jzxgbj1kggff_kd35bfzkw0000gn/T/ipykernel_42080/1574832305.py:4: PerformanceWarning: DataFrame is highly fragmented.  This is usually the result of calling `frame.insert` many times, which has poor performance.  Consider joining all columns at once using pd.concat(axis=1) instead. To get a de-fragmented frame, use `newframe = frame.copy()`\n",
      "  mutations_all_protein.insert(current_max+i,\n"
     ]
    },
    {
     "name": "stdout",
     "output_type": "stream",
     "text": [
      "Appending PSRC1...\n"
     ]
    },
    {
     "name": "stderr",
     "output_type": "stream",
     "text": [
      "/var/folders/kv/l0jzxgbj1kggff_kd35bfzkw0000gn/T/ipykernel_42080/1574832305.py:4: PerformanceWarning: DataFrame is highly fragmented.  This is usually the result of calling `frame.insert` many times, which has poor performance.  Consider joining all columns at once using pd.concat(axis=1) instead. To get a de-fragmented frame, use `newframe = frame.copy()`\n",
      "  mutations_all_protein.insert(current_max+i,\n"
     ]
    },
    {
     "name": "stdout",
     "output_type": "stream",
     "text": [
      "Appending PTGS2...\n"
     ]
    },
    {
     "name": "stderr",
     "output_type": "stream",
     "text": [
      "/var/folders/kv/l0jzxgbj1kggff_kd35bfzkw0000gn/T/ipykernel_42080/1574832305.py:4: PerformanceWarning: DataFrame is highly fragmented.  This is usually the result of calling `frame.insert` many times, which has poor performance.  Consider joining all columns at once using pd.concat(axis=1) instead. To get a de-fragmented frame, use `newframe = frame.copy()`\n",
      "  mutations_all_protein.insert(current_max+i,\n"
     ]
    },
    {
     "name": "stdout",
     "output_type": "stream",
     "text": [
      "Appending PTK2...\n"
     ]
    },
    {
     "name": "stderr",
     "output_type": "stream",
     "text": [
      "/var/folders/kv/l0jzxgbj1kggff_kd35bfzkw0000gn/T/ipykernel_42080/1574832305.py:4: PerformanceWarning: DataFrame is highly fragmented.  This is usually the result of calling `frame.insert` many times, which has poor performance.  Consider joining all columns at once using pd.concat(axis=1) instead. To get a de-fragmented frame, use `newframe = frame.copy()`\n",
      "  mutations_all_protein.insert(current_max+i,\n"
     ]
    },
    {
     "name": "stdout",
     "output_type": "stream",
     "text": [
      "Appending PTK2B...\n"
     ]
    },
    {
     "name": "stderr",
     "output_type": "stream",
     "text": [
      "/var/folders/kv/l0jzxgbj1kggff_kd35bfzkw0000gn/T/ipykernel_42080/1574832305.py:4: PerformanceWarning: DataFrame is highly fragmented.  This is usually the result of calling `frame.insert` many times, which has poor performance.  Consider joining all columns at once using pd.concat(axis=1) instead. To get a de-fragmented frame, use `newframe = frame.copy()`\n",
      "  mutations_all_protein.insert(current_max+i,\n"
     ]
    },
    {
     "name": "stdout",
     "output_type": "stream",
     "text": [
      "Appending PTPN1...\n"
     ]
    },
    {
     "name": "stderr",
     "output_type": "stream",
     "text": [
      "/var/folders/kv/l0jzxgbj1kggff_kd35bfzkw0000gn/T/ipykernel_42080/1574832305.py:4: PerformanceWarning: DataFrame is highly fragmented.  This is usually the result of calling `frame.insert` many times, which has poor performance.  Consider joining all columns at once using pd.concat(axis=1) instead. To get a de-fragmented frame, use `newframe = frame.copy()`\n",
      "  mutations_all_protein.insert(current_max+i,\n"
     ]
    },
    {
     "name": "stdout",
     "output_type": "stream",
     "text": [
      "Appending PTPN12...\n"
     ]
    },
    {
     "name": "stderr",
     "output_type": "stream",
     "text": [
      "/var/folders/kv/l0jzxgbj1kggff_kd35bfzkw0000gn/T/ipykernel_42080/1574832305.py:4: PerformanceWarning: DataFrame is highly fragmented.  This is usually the result of calling `frame.insert` many times, which has poor performance.  Consider joining all columns at once using pd.concat(axis=1) instead. To get a de-fragmented frame, use `newframe = frame.copy()`\n",
      "  mutations_all_protein.insert(current_max+i,\n"
     ]
    },
    {
     "name": "stdout",
     "output_type": "stream",
     "text": [
      "Appending PTPN6...\n"
     ]
    },
    {
     "name": "stderr",
     "output_type": "stream",
     "text": [
      "/var/folders/kv/l0jzxgbj1kggff_kd35bfzkw0000gn/T/ipykernel_42080/1574832305.py:4: PerformanceWarning: DataFrame is highly fragmented.  This is usually the result of calling `frame.insert` many times, which has poor performance.  Consider joining all columns at once using pd.concat(axis=1) instead. To get a de-fragmented frame, use `newframe = frame.copy()`\n",
      "  mutations_all_protein.insert(current_max+i,\n"
     ]
    },
    {
     "name": "stdout",
     "output_type": "stream",
     "text": [
      "Appending PTPRC...\n"
     ]
    },
    {
     "name": "stderr",
     "output_type": "stream",
     "text": [
      "/var/folders/kv/l0jzxgbj1kggff_kd35bfzkw0000gn/T/ipykernel_42080/1574832305.py:4: PerformanceWarning: DataFrame is highly fragmented.  This is usually the result of calling `frame.insert` many times, which has poor performance.  Consider joining all columns at once using pd.concat(axis=1) instead. To get a de-fragmented frame, use `newframe = frame.copy()`\n",
      "  mutations_all_protein.insert(current_max+i,\n"
     ]
    },
    {
     "name": "stdout",
     "output_type": "stream",
     "text": [
      "Appending PTPRF...\n"
     ]
    },
    {
     "name": "stderr",
     "output_type": "stream",
     "text": [
      "/var/folders/kv/l0jzxgbj1kggff_kd35bfzkw0000gn/T/ipykernel_42080/1574832305.py:4: PerformanceWarning: DataFrame is highly fragmented.  This is usually the result of calling `frame.insert` many times, which has poor performance.  Consider joining all columns at once using pd.concat(axis=1) instead. To get a de-fragmented frame, use `newframe = frame.copy()`\n",
      "  mutations_all_protein.insert(current_max+i,\n"
     ]
    },
    {
     "name": "stdout",
     "output_type": "stream",
     "text": [
      "Appending PTPRK...\n"
     ]
    },
    {
     "name": "stderr",
     "output_type": "stream",
     "text": [
      "/var/folders/kv/l0jzxgbj1kggff_kd35bfzkw0000gn/T/ipykernel_42080/1574832305.py:4: PerformanceWarning: DataFrame is highly fragmented.  This is usually the result of calling `frame.insert` many times, which has poor performance.  Consider joining all columns at once using pd.concat(axis=1) instead. To get a de-fragmented frame, use `newframe = frame.copy()`\n",
      "  mutations_all_protein.insert(current_max+i,\n"
     ]
    },
    {
     "name": "stdout",
     "output_type": "stream",
     "text": [
      "Appending PUF60...\n"
     ]
    },
    {
     "name": "stderr",
     "output_type": "stream",
     "text": [
      "/var/folders/kv/l0jzxgbj1kggff_kd35bfzkw0000gn/T/ipykernel_42080/1574832305.py:4: PerformanceWarning: DataFrame is highly fragmented.  This is usually the result of calling `frame.insert` many times, which has poor performance.  Consider joining all columns at once using pd.concat(axis=1) instead. To get a de-fragmented frame, use `newframe = frame.copy()`\n",
      "  mutations_all_protein.insert(current_max+i,\n"
     ]
    },
    {
     "name": "stdout",
     "output_type": "stream",
     "text": [
      "Appending PWP1...\n"
     ]
    },
    {
     "name": "stderr",
     "output_type": "stream",
     "text": [
      "/var/folders/kv/l0jzxgbj1kggff_kd35bfzkw0000gn/T/ipykernel_42080/1574832305.py:4: PerformanceWarning: DataFrame is highly fragmented.  This is usually the result of calling `frame.insert` many times, which has poor performance.  Consider joining all columns at once using pd.concat(axis=1) instead. To get a de-fragmented frame, use `newframe = frame.copy()`\n",
      "  mutations_all_protein.insert(current_max+i,\n"
     ]
    },
    {
     "name": "stdout",
     "output_type": "stream",
     "text": [
      "Appending PXMP2...\n"
     ]
    },
    {
     "name": "stderr",
     "output_type": "stream",
     "text": [
      "/var/folders/kv/l0jzxgbj1kggff_kd35bfzkw0000gn/T/ipykernel_42080/1574832305.py:4: PerformanceWarning: DataFrame is highly fragmented.  This is usually the result of calling `frame.insert` many times, which has poor performance.  Consider joining all columns at once using pd.concat(axis=1) instead. To get a de-fragmented frame, use `newframe = frame.copy()`\n",
      "  mutations_all_protein.insert(current_max+i,\n"
     ]
    },
    {
     "name": "stdout",
     "output_type": "stream",
     "text": [
      "Appending PXN...\n"
     ]
    },
    {
     "name": "stderr",
     "output_type": "stream",
     "text": [
      "/var/folders/kv/l0jzxgbj1kggff_kd35bfzkw0000gn/T/ipykernel_42080/1574832305.py:4: PerformanceWarning: DataFrame is highly fragmented.  This is usually the result of calling `frame.insert` many times, which has poor performance.  Consider joining all columns at once using pd.concat(axis=1) instead. To get a de-fragmented frame, use `newframe = frame.copy()`\n",
      "  mutations_all_protein.insert(current_max+i,\n"
     ]
    },
    {
     "name": "stdout",
     "output_type": "stream",
     "text": [
      "Appending PYCR1...\n"
     ]
    },
    {
     "name": "stderr",
     "output_type": "stream",
     "text": [
      "/var/folders/kv/l0jzxgbj1kggff_kd35bfzkw0000gn/T/ipykernel_42080/1574832305.py:4: PerformanceWarning: DataFrame is highly fragmented.  This is usually the result of calling `frame.insert` many times, which has poor performance.  Consider joining all columns at once using pd.concat(axis=1) instead. To get a de-fragmented frame, use `newframe = frame.copy()`\n",
      "  mutations_all_protein.insert(current_max+i,\n"
     ]
    },
    {
     "name": "stdout",
     "output_type": "stream",
     "text": [
      "Appending PYGL...\n"
     ]
    },
    {
     "name": "stderr",
     "output_type": "stream",
     "text": [
      "/var/folders/kv/l0jzxgbj1kggff_kd35bfzkw0000gn/T/ipykernel_42080/1574832305.py:4: PerformanceWarning: DataFrame is highly fragmented.  This is usually the result of calling `frame.insert` many times, which has poor performance.  Consider joining all columns at once using pd.concat(axis=1) instead. To get a de-fragmented frame, use `newframe = frame.copy()`\n",
      "  mutations_all_protein.insert(current_max+i,\n"
     ]
    },
    {
     "name": "stdout",
     "output_type": "stream",
     "text": [
      "Appending RAB11FIP2...\n"
     ]
    },
    {
     "name": "stderr",
     "output_type": "stream",
     "text": [
      "/var/folders/kv/l0jzxgbj1kggff_kd35bfzkw0000gn/T/ipykernel_42080/1574832305.py:4: PerformanceWarning: DataFrame is highly fragmented.  This is usually the result of calling `frame.insert` many times, which has poor performance.  Consider joining all columns at once using pd.concat(axis=1) instead. To get a de-fragmented frame, use `newframe = frame.copy()`\n",
      "  mutations_all_protein.insert(current_max+i,\n"
     ]
    },
    {
     "name": "stdout",
     "output_type": "stream",
     "text": [
      "Appending RAB21...\n"
     ]
    },
    {
     "name": "stderr",
     "output_type": "stream",
     "text": [
      "/var/folders/kv/l0jzxgbj1kggff_kd35bfzkw0000gn/T/ipykernel_42080/1574832305.py:4: PerformanceWarning: DataFrame is highly fragmented.  This is usually the result of calling `frame.insert` many times, which has poor performance.  Consider joining all columns at once using pd.concat(axis=1) instead. To get a de-fragmented frame, use `newframe = frame.copy()`\n",
      "  mutations_all_protein.insert(current_max+i,\n"
     ]
    },
    {
     "name": "stdout",
     "output_type": "stream",
     "text": [
      "Appending RAB27A...\n"
     ]
    },
    {
     "name": "stderr",
     "output_type": "stream",
     "text": [
      "/var/folders/kv/l0jzxgbj1kggff_kd35bfzkw0000gn/T/ipykernel_42080/1574832305.py:4: PerformanceWarning: DataFrame is highly fragmented.  This is usually the result of calling `frame.insert` many times, which has poor performance.  Consider joining all columns at once using pd.concat(axis=1) instead. To get a de-fragmented frame, use `newframe = frame.copy()`\n",
      "  mutations_all_protein.insert(current_max+i,\n"
     ]
    },
    {
     "name": "stdout",
     "output_type": "stream",
     "text": [
      "Appending RAB31...\n"
     ]
    },
    {
     "name": "stderr",
     "output_type": "stream",
     "text": [
      "/var/folders/kv/l0jzxgbj1kggff_kd35bfzkw0000gn/T/ipykernel_42080/1574832305.py:4: PerformanceWarning: DataFrame is highly fragmented.  This is usually the result of calling `frame.insert` many times, which has poor performance.  Consider joining all columns at once using pd.concat(axis=1) instead. To get a de-fragmented frame, use `newframe = frame.copy()`\n",
      "  mutations_all_protein.insert(current_max+i,\n"
     ]
    },
    {
     "name": "stdout",
     "output_type": "stream",
     "text": [
      "Appending RAB4A...\n"
     ]
    },
    {
     "name": "stderr",
     "output_type": "stream",
     "text": [
      "/var/folders/kv/l0jzxgbj1kggff_kd35bfzkw0000gn/T/ipykernel_42080/1574832305.py:4: PerformanceWarning: DataFrame is highly fragmented.  This is usually the result of calling `frame.insert` many times, which has poor performance.  Consider joining all columns at once using pd.concat(axis=1) instead. To get a de-fragmented frame, use `newframe = frame.copy()`\n",
      "  mutations_all_protein.insert(current_max+i,\n"
     ]
    },
    {
     "name": "stdout",
     "output_type": "stream",
     "text": [
      "Appending RAC2...\n"
     ]
    },
    {
     "name": "stderr",
     "output_type": "stream",
     "text": [
      "/var/folders/kv/l0jzxgbj1kggff_kd35bfzkw0000gn/T/ipykernel_42080/1574832305.py:4: PerformanceWarning: DataFrame is highly fragmented.  This is usually the result of calling `frame.insert` many times, which has poor performance.  Consider joining all columns at once using pd.concat(axis=1) instead. To get a de-fragmented frame, use `newframe = frame.copy()`\n",
      "  mutations_all_protein.insert(current_max+i,\n"
     ]
    },
    {
     "name": "stdout",
     "output_type": "stream",
     "text": [
      "Appending RAD51C...\n"
     ]
    },
    {
     "name": "stderr",
     "output_type": "stream",
     "text": [
      "/var/folders/kv/l0jzxgbj1kggff_kd35bfzkw0000gn/T/ipykernel_42080/1574832305.py:4: PerformanceWarning: DataFrame is highly fragmented.  This is usually the result of calling `frame.insert` many times, which has poor performance.  Consider joining all columns at once using pd.concat(axis=1) instead. To get a de-fragmented frame, use `newframe = frame.copy()`\n",
      "  mutations_all_protein.insert(current_max+i,\n"
     ]
    },
    {
     "name": "stdout",
     "output_type": "stream",
     "text": [
      "Appending RAD9A...\n"
     ]
    },
    {
     "name": "stderr",
     "output_type": "stream",
     "text": [
      "/var/folders/kv/l0jzxgbj1kggff_kd35bfzkw0000gn/T/ipykernel_42080/1574832305.py:4: PerformanceWarning: DataFrame is highly fragmented.  This is usually the result of calling `frame.insert` many times, which has poor performance.  Consider joining all columns at once using pd.concat(axis=1) instead. To get a de-fragmented frame, use `newframe = frame.copy()`\n",
      "  mutations_all_protein.insert(current_max+i,\n"
     ]
    },
    {
     "name": "stdout",
     "output_type": "stream",
     "text": [
      "Appending RAE1...\n"
     ]
    },
    {
     "name": "stderr",
     "output_type": "stream",
     "text": [
      "/var/folders/kv/l0jzxgbj1kggff_kd35bfzkw0000gn/T/ipykernel_42080/1574832305.py:4: PerformanceWarning: DataFrame is highly fragmented.  This is usually the result of calling `frame.insert` many times, which has poor performance.  Consider joining all columns at once using pd.concat(axis=1) instead. To get a de-fragmented frame, use `newframe = frame.copy()`\n",
      "  mutations_all_protein.insert(current_max+i,\n"
     ]
    },
    {
     "name": "stdout",
     "output_type": "stream",
     "text": [
      "Appending RAI14...\n"
     ]
    },
    {
     "name": "stderr",
     "output_type": "stream",
     "text": [
      "/var/folders/kv/l0jzxgbj1kggff_kd35bfzkw0000gn/T/ipykernel_42080/1574832305.py:4: PerformanceWarning: DataFrame is highly fragmented.  This is usually the result of calling `frame.insert` many times, which has poor performance.  Consider joining all columns at once using pd.concat(axis=1) instead. To get a de-fragmented frame, use `newframe = frame.copy()`\n",
      "  mutations_all_protein.insert(current_max+i,\n"
     ]
    },
    {
     "name": "stdout",
     "output_type": "stream",
     "text": [
      "Appending RALA...\n"
     ]
    },
    {
     "name": "stderr",
     "output_type": "stream",
     "text": [
      "/var/folders/kv/l0jzxgbj1kggff_kd35bfzkw0000gn/T/ipykernel_42080/1574832305.py:4: PerformanceWarning: DataFrame is highly fragmented.  This is usually the result of calling `frame.insert` many times, which has poor performance.  Consider joining all columns at once using pd.concat(axis=1) instead. To get a de-fragmented frame, use `newframe = frame.copy()`\n",
      "  mutations_all_protein.insert(current_max+i,\n"
     ]
    },
    {
     "name": "stdout",
     "output_type": "stream",
     "text": [
      "Appending RALB...\n"
     ]
    },
    {
     "name": "stderr",
     "output_type": "stream",
     "text": [
      "/var/folders/kv/l0jzxgbj1kggff_kd35bfzkw0000gn/T/ipykernel_42080/1574832305.py:4: PerformanceWarning: DataFrame is highly fragmented.  This is usually the result of calling `frame.insert` many times, which has poor performance.  Consider joining all columns at once using pd.concat(axis=1) instead. To get a de-fragmented frame, use `newframe = frame.copy()`\n",
      "  mutations_all_protein.insert(current_max+i,\n"
     ]
    },
    {
     "name": "stdout",
     "output_type": "stream",
     "text": [
      "Appending RALGDS...\n"
     ]
    },
    {
     "name": "stderr",
     "output_type": "stream",
     "text": [
      "/var/folders/kv/l0jzxgbj1kggff_kd35bfzkw0000gn/T/ipykernel_42080/1574832305.py:4: PerformanceWarning: DataFrame is highly fragmented.  This is usually the result of calling `frame.insert` many times, which has poor performance.  Consider joining all columns at once using pd.concat(axis=1) instead. To get a de-fragmented frame, use `newframe = frame.copy()`\n",
      "  mutations_all_protein.insert(current_max+i,\n"
     ]
    },
    {
     "name": "stdout",
     "output_type": "stream",
     "text": [
      "Appending RAP1GAP...\n"
     ]
    },
    {
     "name": "stderr",
     "output_type": "stream",
     "text": [
      "/var/folders/kv/l0jzxgbj1kggff_kd35bfzkw0000gn/T/ipykernel_42080/1574832305.py:4: PerformanceWarning: DataFrame is highly fragmented.  This is usually the result of calling `frame.insert` many times, which has poor performance.  Consider joining all columns at once using pd.concat(axis=1) instead. To get a de-fragmented frame, use `newframe = frame.copy()`\n",
      "  mutations_all_protein.insert(current_max+i,\n"
     ]
    },
    {
     "name": "stdout",
     "output_type": "stream",
     "text": [
      "Appending RASA1...\n"
     ]
    },
    {
     "name": "stderr",
     "output_type": "stream",
     "text": [
      "/var/folders/kv/l0jzxgbj1kggff_kd35bfzkw0000gn/T/ipykernel_42080/1574832305.py:4: PerformanceWarning: DataFrame is highly fragmented.  This is usually the result of calling `frame.insert` many times, which has poor performance.  Consider joining all columns at once using pd.concat(axis=1) instead. To get a de-fragmented frame, use `newframe = frame.copy()`\n",
      "  mutations_all_protein.insert(current_max+i,\n"
     ]
    },
    {
     "name": "stdout",
     "output_type": "stream",
     "text": [
      "Appending RB1...\n"
     ]
    },
    {
     "name": "stderr",
     "output_type": "stream",
     "text": [
      "/var/folders/kv/l0jzxgbj1kggff_kd35bfzkw0000gn/T/ipykernel_42080/1574832305.py:4: PerformanceWarning: DataFrame is highly fragmented.  This is usually the result of calling `frame.insert` many times, which has poor performance.  Consider joining all columns at once using pd.concat(axis=1) instead. To get a de-fragmented frame, use `newframe = frame.copy()`\n",
      "  mutations_all_protein.insert(current_max+i,\n"
     ]
    },
    {
     "name": "stdout",
     "output_type": "stream",
     "text": [
      "Appending RBKS...\n"
     ]
    },
    {
     "name": "stderr",
     "output_type": "stream",
     "text": [
      "/var/folders/kv/l0jzxgbj1kggff_kd35bfzkw0000gn/T/ipykernel_42080/1574832305.py:4: PerformanceWarning: DataFrame is highly fragmented.  This is usually the result of calling `frame.insert` many times, which has poor performance.  Consider joining all columns at once using pd.concat(axis=1) instead. To get a de-fragmented frame, use `newframe = frame.copy()`\n",
      "  mutations_all_protein.insert(current_max+i,\n"
     ]
    },
    {
     "name": "stdout",
     "output_type": "stream",
     "text": [
      "Appending RBM15B...\n"
     ]
    },
    {
     "name": "stderr",
     "output_type": "stream",
     "text": [
      "/var/folders/kv/l0jzxgbj1kggff_kd35bfzkw0000gn/T/ipykernel_42080/1574832305.py:4: PerformanceWarning: DataFrame is highly fragmented.  This is usually the result of calling `frame.insert` many times, which has poor performance.  Consider joining all columns at once using pd.concat(axis=1) instead. To get a de-fragmented frame, use `newframe = frame.copy()`\n",
      "  mutations_all_protein.insert(current_max+i,\n"
     ]
    },
    {
     "name": "stdout",
     "output_type": "stream",
     "text": [
      "Appending RBM34...\n"
     ]
    },
    {
     "name": "stderr",
     "output_type": "stream",
     "text": [
      "/var/folders/kv/l0jzxgbj1kggff_kd35bfzkw0000gn/T/ipykernel_42080/1574832305.py:4: PerformanceWarning: DataFrame is highly fragmented.  This is usually the result of calling `frame.insert` many times, which has poor performance.  Consider joining all columns at once using pd.concat(axis=1) instead. To get a de-fragmented frame, use `newframe = frame.copy()`\n",
      "  mutations_all_protein.insert(current_max+i,\n"
     ]
    },
    {
     "name": "stdout",
     "output_type": "stream",
     "text": [
      "Appending RBM6...\n"
     ]
    },
    {
     "name": "stderr",
     "output_type": "stream",
     "text": [
      "/var/folders/kv/l0jzxgbj1kggff_kd35bfzkw0000gn/T/ipykernel_42080/1574832305.py:4: PerformanceWarning: DataFrame is highly fragmented.  This is usually the result of calling `frame.insert` many times, which has poor performance.  Consider joining all columns at once using pd.concat(axis=1) instead. To get a de-fragmented frame, use `newframe = frame.copy()`\n",
      "  mutations_all_protein.insert(current_max+i,\n"
     ]
    },
    {
     "name": "stdout",
     "output_type": "stream",
     "text": [
      "Appending REEP5...\n"
     ]
    },
    {
     "name": "stderr",
     "output_type": "stream",
     "text": [
      "/var/folders/kv/l0jzxgbj1kggff_kd35bfzkw0000gn/T/ipykernel_42080/1574832305.py:4: PerformanceWarning: DataFrame is highly fragmented.  This is usually the result of calling `frame.insert` many times, which has poor performance.  Consider joining all columns at once using pd.concat(axis=1) instead. To get a de-fragmented frame, use `newframe = frame.copy()`\n",
      "  mutations_all_protein.insert(current_max+i,\n"
     ]
    },
    {
     "name": "stdout",
     "output_type": "stream",
     "text": [
      "Appending RELB...\n"
     ]
    },
    {
     "name": "stderr",
     "output_type": "stream",
     "text": [
      "/var/folders/kv/l0jzxgbj1kggff_kd35bfzkw0000gn/T/ipykernel_42080/1574832305.py:4: PerformanceWarning: DataFrame is highly fragmented.  This is usually the result of calling `frame.insert` many times, which has poor performance.  Consider joining all columns at once using pd.concat(axis=1) instead. To get a de-fragmented frame, use `newframe = frame.copy()`\n",
      "  mutations_all_protein.insert(current_max+i,\n"
     ]
    },
    {
     "name": "stdout",
     "output_type": "stream",
     "text": [
      "Appending RFC2...\n"
     ]
    },
    {
     "name": "stderr",
     "output_type": "stream",
     "text": [
      "/var/folders/kv/l0jzxgbj1kggff_kd35bfzkw0000gn/T/ipykernel_42080/1574832305.py:4: PerformanceWarning: DataFrame is highly fragmented.  This is usually the result of calling `frame.insert` many times, which has poor performance.  Consider joining all columns at once using pd.concat(axis=1) instead. To get a de-fragmented frame, use `newframe = frame.copy()`\n",
      "  mutations_all_protein.insert(current_max+i,\n"
     ]
    },
    {
     "name": "stdout",
     "output_type": "stream",
     "text": [
      "Appending RFC5...\n"
     ]
    },
    {
     "name": "stderr",
     "output_type": "stream",
     "text": [
      "/var/folders/kv/l0jzxgbj1kggff_kd35bfzkw0000gn/T/ipykernel_42080/1574832305.py:4: PerformanceWarning: DataFrame is highly fragmented.  This is usually the result of calling `frame.insert` many times, which has poor performance.  Consider joining all columns at once using pd.concat(axis=1) instead. To get a de-fragmented frame, use `newframe = frame.copy()`\n",
      "  mutations_all_protein.insert(current_max+i,\n"
     ]
    },
    {
     "name": "stdout",
     "output_type": "stream",
     "text": [
      "Appending RFNG...\n"
     ]
    },
    {
     "name": "stderr",
     "output_type": "stream",
     "text": [
      "/var/folders/kv/l0jzxgbj1kggff_kd35bfzkw0000gn/T/ipykernel_42080/1574832305.py:4: PerformanceWarning: DataFrame is highly fragmented.  This is usually the result of calling `frame.insert` many times, which has poor performance.  Consider joining all columns at once using pd.concat(axis=1) instead. To get a de-fragmented frame, use `newframe = frame.copy()`\n",
      "  mutations_all_protein.insert(current_max+i,\n"
     ]
    },
    {
     "name": "stdout",
     "output_type": "stream",
     "text": [
      "Appending RFX5...\n"
     ]
    },
    {
     "name": "stderr",
     "output_type": "stream",
     "text": [
      "/var/folders/kv/l0jzxgbj1kggff_kd35bfzkw0000gn/T/ipykernel_42080/1574832305.py:4: PerformanceWarning: DataFrame is highly fragmented.  This is usually the result of calling `frame.insert` many times, which has poor performance.  Consider joining all columns at once using pd.concat(axis=1) instead. To get a de-fragmented frame, use `newframe = frame.copy()`\n",
      "  mutations_all_protein.insert(current_max+i,\n"
     ]
    },
    {
     "name": "stdout",
     "output_type": "stream",
     "text": [
      "Appending RGS2...\n"
     ]
    },
    {
     "name": "stderr",
     "output_type": "stream",
     "text": [
      "/var/folders/kv/l0jzxgbj1kggff_kd35bfzkw0000gn/T/ipykernel_42080/1574832305.py:4: PerformanceWarning: DataFrame is highly fragmented.  This is usually the result of calling `frame.insert` many times, which has poor performance.  Consider joining all columns at once using pd.concat(axis=1) instead. To get a de-fragmented frame, use `newframe = frame.copy()`\n",
      "  mutations_all_protein.insert(current_max+i,\n"
     ]
    },
    {
     "name": "stdout",
     "output_type": "stream",
     "text": [
      "Appending RHEB...\n"
     ]
    },
    {
     "name": "stderr",
     "output_type": "stream",
     "text": [
      "/var/folders/kv/l0jzxgbj1kggff_kd35bfzkw0000gn/T/ipykernel_42080/1574832305.py:4: PerformanceWarning: DataFrame is highly fragmented.  This is usually the result of calling `frame.insert` many times, which has poor performance.  Consider joining all columns at once using pd.concat(axis=1) instead. To get a de-fragmented frame, use `newframe = frame.copy()`\n",
      "  mutations_all_protein.insert(current_max+i,\n"
     ]
    },
    {
     "name": "stdout",
     "output_type": "stream",
     "text": [
      "Appending RHOA...\n"
     ]
    },
    {
     "name": "stderr",
     "output_type": "stream",
     "text": [
      "/var/folders/kv/l0jzxgbj1kggff_kd35bfzkw0000gn/T/ipykernel_42080/1574832305.py:4: PerformanceWarning: DataFrame is highly fragmented.  This is usually the result of calling `frame.insert` many times, which has poor performance.  Consider joining all columns at once using pd.concat(axis=1) instead. To get a de-fragmented frame, use `newframe = frame.copy()`\n",
      "  mutations_all_protein.insert(current_max+i,\n"
     ]
    },
    {
     "name": "stdout",
     "output_type": "stream",
     "text": [
      "Appending RNF167...\n"
     ]
    },
    {
     "name": "stderr",
     "output_type": "stream",
     "text": [
      "/var/folders/kv/l0jzxgbj1kggff_kd35bfzkw0000gn/T/ipykernel_42080/1574832305.py:4: PerformanceWarning: DataFrame is highly fragmented.  This is usually the result of calling `frame.insert` many times, which has poor performance.  Consider joining all columns at once using pd.concat(axis=1) instead. To get a de-fragmented frame, use `newframe = frame.copy()`\n",
      "  mutations_all_protein.insert(current_max+i,\n"
     ]
    },
    {
     "name": "stdout",
     "output_type": "stream",
     "text": [
      "Appending RNH1...\n"
     ]
    },
    {
     "name": "stderr",
     "output_type": "stream",
     "text": [
      "/var/folders/kv/l0jzxgbj1kggff_kd35bfzkw0000gn/T/ipykernel_42080/1574832305.py:4: PerformanceWarning: DataFrame is highly fragmented.  This is usually the result of calling `frame.insert` many times, which has poor performance.  Consider joining all columns at once using pd.concat(axis=1) instead. To get a de-fragmented frame, use `newframe = frame.copy()`\n",
      "  mutations_all_protein.insert(current_max+i,\n"
     ]
    },
    {
     "name": "stdout",
     "output_type": "stream",
     "text": [
      "Appending RNMT...\n"
     ]
    },
    {
     "name": "stderr",
     "output_type": "stream",
     "text": [
      "/var/folders/kv/l0jzxgbj1kggff_kd35bfzkw0000gn/T/ipykernel_42080/1574832305.py:4: PerformanceWarning: DataFrame is highly fragmented.  This is usually the result of calling `frame.insert` many times, which has poor performance.  Consider joining all columns at once using pd.concat(axis=1) instead. To get a de-fragmented frame, use `newframe = frame.copy()`\n",
      "  mutations_all_protein.insert(current_max+i,\n"
     ]
    },
    {
     "name": "stdout",
     "output_type": "stream",
     "text": [
      "Appending RNPS1...\n"
     ]
    },
    {
     "name": "stderr",
     "output_type": "stream",
     "text": [
      "/var/folders/kv/l0jzxgbj1kggff_kd35bfzkw0000gn/T/ipykernel_42080/1574832305.py:4: PerformanceWarning: DataFrame is highly fragmented.  This is usually the result of calling `frame.insert` many times, which has poor performance.  Consider joining all columns at once using pd.concat(axis=1) instead. To get a de-fragmented frame, use `newframe = frame.copy()`\n",
      "  mutations_all_protein.insert(current_max+i,\n"
     ]
    },
    {
     "name": "stdout",
     "output_type": "stream",
     "text": [
      "Appending RPA1...\n"
     ]
    },
    {
     "name": "stderr",
     "output_type": "stream",
     "text": [
      "/var/folders/kv/l0jzxgbj1kggff_kd35bfzkw0000gn/T/ipykernel_42080/1574832305.py:4: PerformanceWarning: DataFrame is highly fragmented.  This is usually the result of calling `frame.insert` many times, which has poor performance.  Consider joining all columns at once using pd.concat(axis=1) instead. To get a de-fragmented frame, use `newframe = frame.copy()`\n",
      "  mutations_all_protein.insert(current_max+i,\n"
     ]
    },
    {
     "name": "stdout",
     "output_type": "stream",
     "text": [
      "Appending RPA2...\n"
     ]
    },
    {
     "name": "stderr",
     "output_type": "stream",
     "text": [
      "/var/folders/kv/l0jzxgbj1kggff_kd35bfzkw0000gn/T/ipykernel_42080/1574832305.py:4: PerformanceWarning: DataFrame is highly fragmented.  This is usually the result of calling `frame.insert` many times, which has poor performance.  Consider joining all columns at once using pd.concat(axis=1) instead. To get a de-fragmented frame, use `newframe = frame.copy()`\n",
      "  mutations_all_protein.insert(current_max+i,\n"
     ]
    },
    {
     "name": "stdout",
     "output_type": "stream",
     "text": [
      "Appending RPA3...\n"
     ]
    },
    {
     "name": "stderr",
     "output_type": "stream",
     "text": [
      "/var/folders/kv/l0jzxgbj1kggff_kd35bfzkw0000gn/T/ipykernel_42080/1574832305.py:4: PerformanceWarning: DataFrame is highly fragmented.  This is usually the result of calling `frame.insert` many times, which has poor performance.  Consider joining all columns at once using pd.concat(axis=1) instead. To get a de-fragmented frame, use `newframe = frame.copy()`\n",
      "  mutations_all_protein.insert(current_max+i,\n"
     ]
    },
    {
     "name": "stdout",
     "output_type": "stream",
     "text": [
      "Appending RPIA...\n"
     ]
    },
    {
     "name": "stderr",
     "output_type": "stream",
     "text": [
      "/var/folders/kv/l0jzxgbj1kggff_kd35bfzkw0000gn/T/ipykernel_42080/1574832305.py:4: PerformanceWarning: DataFrame is highly fragmented.  This is usually the result of calling `frame.insert` many times, which has poor performance.  Consider joining all columns at once using pd.concat(axis=1) instead. To get a de-fragmented frame, use `newframe = frame.copy()`\n",
      "  mutations_all_protein.insert(current_max+i,\n"
     ]
    },
    {
     "name": "stdout",
     "output_type": "stream",
     "text": [
      "Appending RPL39L...\n"
     ]
    },
    {
     "name": "stderr",
     "output_type": "stream",
     "text": [
      "/var/folders/kv/l0jzxgbj1kggff_kd35bfzkw0000gn/T/ipykernel_42080/1574832305.py:4: PerformanceWarning: DataFrame is highly fragmented.  This is usually the result of calling `frame.insert` many times, which has poor performance.  Consider joining all columns at once using pd.concat(axis=1) instead. To get a de-fragmented frame, use `newframe = frame.copy()`\n",
      "  mutations_all_protein.insert(current_max+i,\n"
     ]
    },
    {
     "name": "stdout",
     "output_type": "stream",
     "text": [
      "Appending RPN1...\n"
     ]
    },
    {
     "name": "stderr",
     "output_type": "stream",
     "text": [
      "/var/folders/kv/l0jzxgbj1kggff_kd35bfzkw0000gn/T/ipykernel_42080/1574832305.py:4: PerformanceWarning: DataFrame is highly fragmented.  This is usually the result of calling `frame.insert` many times, which has poor performance.  Consider joining all columns at once using pd.concat(axis=1) instead. To get a de-fragmented frame, use `newframe = frame.copy()`\n",
      "  mutations_all_protein.insert(current_max+i,\n"
     ]
    },
    {
     "name": "stdout",
     "output_type": "stream",
     "text": [
      "Appending RPP38...\n"
     ]
    },
    {
     "name": "stderr",
     "output_type": "stream",
     "text": [
      "/var/folders/kv/l0jzxgbj1kggff_kd35bfzkw0000gn/T/ipykernel_42080/1574832305.py:4: PerformanceWarning: DataFrame is highly fragmented.  This is usually the result of calling `frame.insert` many times, which has poor performance.  Consider joining all columns at once using pd.concat(axis=1) instead. To get a de-fragmented frame, use `newframe = frame.copy()`\n",
      "  mutations_all_protein.insert(current_max+i,\n"
     ]
    },
    {
     "name": "stdout",
     "output_type": "stream",
     "text": [
      "Appending RPS5...\n"
     ]
    },
    {
     "name": "stderr",
     "output_type": "stream",
     "text": [
      "/var/folders/kv/l0jzxgbj1kggff_kd35bfzkw0000gn/T/ipykernel_42080/1574832305.py:4: PerformanceWarning: DataFrame is highly fragmented.  This is usually the result of calling `frame.insert` many times, which has poor performance.  Consider joining all columns at once using pd.concat(axis=1) instead. To get a de-fragmented frame, use `newframe = frame.copy()`\n",
      "  mutations_all_protein.insert(current_max+i,\n"
     ]
    },
    {
     "name": "stdout",
     "output_type": "stream",
     "text": [
      "Appending RPS6...\n"
     ]
    },
    {
     "name": "stderr",
     "output_type": "stream",
     "text": [
      "/var/folders/kv/l0jzxgbj1kggff_kd35bfzkw0000gn/T/ipykernel_42080/1574832305.py:4: PerformanceWarning: DataFrame is highly fragmented.  This is usually the result of calling `frame.insert` many times, which has poor performance.  Consider joining all columns at once using pd.concat(axis=1) instead. To get a de-fragmented frame, use `newframe = frame.copy()`\n",
      "  mutations_all_protein.insert(current_max+i,\n"
     ]
    },
    {
     "name": "stdout",
     "output_type": "stream",
     "text": [
      "Appending RPS6KA1...\n"
     ]
    },
    {
     "name": "stderr",
     "output_type": "stream",
     "text": [
      "/var/folders/kv/l0jzxgbj1kggff_kd35bfzkw0000gn/T/ipykernel_42080/1574832305.py:4: PerformanceWarning: DataFrame is highly fragmented.  This is usually the result of calling `frame.insert` many times, which has poor performance.  Consider joining all columns at once using pd.concat(axis=1) instead. To get a de-fragmented frame, use `newframe = frame.copy()`\n",
      "  mutations_all_protein.insert(current_max+i,\n"
     ]
    },
    {
     "name": "stdout",
     "output_type": "stream",
     "text": [
      "Appending RRAGA...\n"
     ]
    },
    {
     "name": "stderr",
     "output_type": "stream",
     "text": [
      "/var/folders/kv/l0jzxgbj1kggff_kd35bfzkw0000gn/T/ipykernel_42080/1574832305.py:4: PerformanceWarning: DataFrame is highly fragmented.  This is usually the result of calling `frame.insert` many times, which has poor performance.  Consider joining all columns at once using pd.concat(axis=1) instead. To get a de-fragmented frame, use `newframe = frame.copy()`\n",
      "  mutations_all_protein.insert(current_max+i,\n"
     ]
    },
    {
     "name": "stdout",
     "output_type": "stream",
     "text": [
      "Appending RRP12...\n"
     ]
    },
    {
     "name": "stderr",
     "output_type": "stream",
     "text": [
      "/var/folders/kv/l0jzxgbj1kggff_kd35bfzkw0000gn/T/ipykernel_42080/1574832305.py:4: PerformanceWarning: DataFrame is highly fragmented.  This is usually the result of calling `frame.insert` many times, which has poor performance.  Consider joining all columns at once using pd.concat(axis=1) instead. To get a de-fragmented frame, use `newframe = frame.copy()`\n",
      "  mutations_all_protein.insert(current_max+i,\n"
     ]
    },
    {
     "name": "stdout",
     "output_type": "stream",
     "text": [
      "Appending RRP1B...\n"
     ]
    },
    {
     "name": "stderr",
     "output_type": "stream",
     "text": [
      "/var/folders/kv/l0jzxgbj1kggff_kd35bfzkw0000gn/T/ipykernel_42080/1574832305.py:4: PerformanceWarning: DataFrame is highly fragmented.  This is usually the result of calling `frame.insert` many times, which has poor performance.  Consider joining all columns at once using pd.concat(axis=1) instead. To get a de-fragmented frame, use `newframe = frame.copy()`\n",
      "  mutations_all_protein.insert(current_max+i,\n"
     ]
    },
    {
     "name": "stdout",
     "output_type": "stream",
     "text": [
      "Appending RRP8...\n"
     ]
    },
    {
     "name": "stderr",
     "output_type": "stream",
     "text": [
      "/var/folders/kv/l0jzxgbj1kggff_kd35bfzkw0000gn/T/ipykernel_42080/1574832305.py:4: PerformanceWarning: DataFrame is highly fragmented.  This is usually the result of calling `frame.insert` many times, which has poor performance.  Consider joining all columns at once using pd.concat(axis=1) instead. To get a de-fragmented frame, use `newframe = frame.copy()`\n",
      "  mutations_all_protein.insert(current_max+i,\n"
     ]
    },
    {
     "name": "stdout",
     "output_type": "stream",
     "text": [
      "Appending RRS1...\n"
     ]
    },
    {
     "name": "stderr",
     "output_type": "stream",
     "text": [
      "/var/folders/kv/l0jzxgbj1kggff_kd35bfzkw0000gn/T/ipykernel_42080/1574832305.py:4: PerformanceWarning: DataFrame is highly fragmented.  This is usually the result of calling `frame.insert` many times, which has poor performance.  Consider joining all columns at once using pd.concat(axis=1) instead. To get a de-fragmented frame, use `newframe = frame.copy()`\n",
      "  mutations_all_protein.insert(current_max+i,\n"
     ]
    },
    {
     "name": "stdout",
     "output_type": "stream",
     "text": [
      "Appending RSU1...\n"
     ]
    },
    {
     "name": "stderr",
     "output_type": "stream",
     "text": [
      "/var/folders/kv/l0jzxgbj1kggff_kd35bfzkw0000gn/T/ipykernel_42080/1574832305.py:4: PerformanceWarning: DataFrame is highly fragmented.  This is usually the result of calling `frame.insert` many times, which has poor performance.  Consider joining all columns at once using pd.concat(axis=1) instead. To get a de-fragmented frame, use `newframe = frame.copy()`\n",
      "  mutations_all_protein.insert(current_max+i,\n"
     ]
    },
    {
     "name": "stdout",
     "output_type": "stream",
     "text": [
      "Appending RTN2...\n"
     ]
    },
    {
     "name": "stderr",
     "output_type": "stream",
     "text": [
      "/var/folders/kv/l0jzxgbj1kggff_kd35bfzkw0000gn/T/ipykernel_42080/1574832305.py:4: PerformanceWarning: DataFrame is highly fragmented.  This is usually the result of calling `frame.insert` many times, which has poor performance.  Consider joining all columns at once using pd.concat(axis=1) instead. To get a de-fragmented frame, use `newframe = frame.copy()`\n",
      "  mutations_all_protein.insert(current_max+i,\n"
     ]
    },
    {
     "name": "stdout",
     "output_type": "stream",
     "text": [
      "Appending RUVBL1...\n"
     ]
    },
    {
     "name": "stderr",
     "output_type": "stream",
     "text": [
      "/var/folders/kv/l0jzxgbj1kggff_kd35bfzkw0000gn/T/ipykernel_42080/1574832305.py:4: PerformanceWarning: DataFrame is highly fragmented.  This is usually the result of calling `frame.insert` many times, which has poor performance.  Consider joining all columns at once using pd.concat(axis=1) instead. To get a de-fragmented frame, use `newframe = frame.copy()`\n",
      "  mutations_all_protein.insert(current_max+i,\n"
     ]
    },
    {
     "name": "stdout",
     "output_type": "stream",
     "text": [
      "Appending S100A13...\n"
     ]
    },
    {
     "name": "stderr",
     "output_type": "stream",
     "text": [
      "/var/folders/kv/l0jzxgbj1kggff_kd35bfzkw0000gn/T/ipykernel_42080/1574832305.py:4: PerformanceWarning: DataFrame is highly fragmented.  This is usually the result of calling `frame.insert` many times, which has poor performance.  Consider joining all columns at once using pd.concat(axis=1) instead. To get a de-fragmented frame, use `newframe = frame.copy()`\n",
      "  mutations_all_protein.insert(current_max+i,\n"
     ]
    },
    {
     "name": "stdout",
     "output_type": "stream",
     "text": [
      "Appending S100A4...\n"
     ]
    },
    {
     "name": "stderr",
     "output_type": "stream",
     "text": [
      "/var/folders/kv/l0jzxgbj1kggff_kd35bfzkw0000gn/T/ipykernel_42080/1574832305.py:4: PerformanceWarning: DataFrame is highly fragmented.  This is usually the result of calling `frame.insert` many times, which has poor performance.  Consider joining all columns at once using pd.concat(axis=1) instead. To get a de-fragmented frame, use `newframe = frame.copy()`\n",
      "  mutations_all_protein.insert(current_max+i,\n"
     ]
    },
    {
     "name": "stdout",
     "output_type": "stream",
     "text": [
      "Appending SACM1L...\n"
     ]
    },
    {
     "name": "stderr",
     "output_type": "stream",
     "text": [
      "/var/folders/kv/l0jzxgbj1kggff_kd35bfzkw0000gn/T/ipykernel_42080/1574832305.py:4: PerformanceWarning: DataFrame is highly fragmented.  This is usually the result of calling `frame.insert` many times, which has poor performance.  Consider joining all columns at once using pd.concat(axis=1) instead. To get a de-fragmented frame, use `newframe = frame.copy()`\n",
      "  mutations_all_protein.insert(current_max+i,\n"
     ]
    },
    {
     "name": "stdout",
     "output_type": "stream",
     "text": [
      "Appending SATB1...\n"
     ]
    },
    {
     "name": "stderr",
     "output_type": "stream",
     "text": [
      "/var/folders/kv/l0jzxgbj1kggff_kd35bfzkw0000gn/T/ipykernel_42080/1574832305.py:4: PerformanceWarning: DataFrame is highly fragmented.  This is usually the result of calling `frame.insert` many times, which has poor performance.  Consider joining all columns at once using pd.concat(axis=1) instead. To get a de-fragmented frame, use `newframe = frame.copy()`\n",
      "  mutations_all_protein.insert(current_max+i,\n"
     ]
    },
    {
     "name": "stdout",
     "output_type": "stream",
     "text": [
      "Appending SCAND1...\n"
     ]
    },
    {
     "name": "stderr",
     "output_type": "stream",
     "text": [
      "/var/folders/kv/l0jzxgbj1kggff_kd35bfzkw0000gn/T/ipykernel_42080/1574832305.py:4: PerformanceWarning: DataFrame is highly fragmented.  This is usually the result of calling `frame.insert` many times, which has poor performance.  Consider joining all columns at once using pd.concat(axis=1) instead. To get a de-fragmented frame, use `newframe = frame.copy()`\n",
      "  mutations_all_protein.insert(current_max+i,\n"
     ]
    },
    {
     "name": "stdout",
     "output_type": "stream",
     "text": [
      "Appending SCARB1...\n"
     ]
    },
    {
     "name": "stderr",
     "output_type": "stream",
     "text": [
      "/var/folders/kv/l0jzxgbj1kggff_kd35bfzkw0000gn/T/ipykernel_42080/1574832305.py:4: PerformanceWarning: DataFrame is highly fragmented.  This is usually the result of calling `frame.insert` many times, which has poor performance.  Consider joining all columns at once using pd.concat(axis=1) instead. To get a de-fragmented frame, use `newframe = frame.copy()`\n",
      "  mutations_all_protein.insert(current_max+i,\n"
     ]
    },
    {
     "name": "stdout",
     "output_type": "stream",
     "text": [
      "Appending SCCPDH...\n"
     ]
    },
    {
     "name": "stderr",
     "output_type": "stream",
     "text": [
      "/var/folders/kv/l0jzxgbj1kggff_kd35bfzkw0000gn/T/ipykernel_42080/1574832305.py:4: PerformanceWarning: DataFrame is highly fragmented.  This is usually the result of calling `frame.insert` many times, which has poor performance.  Consider joining all columns at once using pd.concat(axis=1) instead. To get a de-fragmented frame, use `newframe = frame.copy()`\n",
      "  mutations_all_protein.insert(current_max+i,\n"
     ]
    },
    {
     "name": "stdout",
     "output_type": "stream",
     "text": [
      "Appending SCP2...\n"
     ]
    },
    {
     "name": "stderr",
     "output_type": "stream",
     "text": [
      "/var/folders/kv/l0jzxgbj1kggff_kd35bfzkw0000gn/T/ipykernel_42080/1574832305.py:4: PerformanceWarning: DataFrame is highly fragmented.  This is usually the result of calling `frame.insert` many times, which has poor performance.  Consider joining all columns at once using pd.concat(axis=1) instead. To get a de-fragmented frame, use `newframe = frame.copy()`\n",
      "  mutations_all_protein.insert(current_max+i,\n"
     ]
    },
    {
     "name": "stdout",
     "output_type": "stream",
     "text": [
      "Appending SCRN1...\n"
     ]
    },
    {
     "name": "stderr",
     "output_type": "stream",
     "text": [
      "/var/folders/kv/l0jzxgbj1kggff_kd35bfzkw0000gn/T/ipykernel_42080/1574832305.py:4: PerformanceWarning: DataFrame is highly fragmented.  This is usually the result of calling `frame.insert` many times, which has poor performance.  Consider joining all columns at once using pd.concat(axis=1) instead. To get a de-fragmented frame, use `newframe = frame.copy()`\n",
      "  mutations_all_protein.insert(current_max+i,\n"
     ]
    },
    {
     "name": "stdout",
     "output_type": "stream",
     "text": [
      "Appending SCYL3...\n"
     ]
    },
    {
     "name": "stderr",
     "output_type": "stream",
     "text": [
      "/var/folders/kv/l0jzxgbj1kggff_kd35bfzkw0000gn/T/ipykernel_42080/1574832305.py:4: PerformanceWarning: DataFrame is highly fragmented.  This is usually the result of calling `frame.insert` many times, which has poor performance.  Consider joining all columns at once using pd.concat(axis=1) instead. To get a de-fragmented frame, use `newframe = frame.copy()`\n",
      "  mutations_all_protein.insert(current_max+i,\n"
     ]
    },
    {
     "name": "stdout",
     "output_type": "stream",
     "text": [
      "Appending SDHB...\n"
     ]
    },
    {
     "name": "stderr",
     "output_type": "stream",
     "text": [
      "/var/folders/kv/l0jzxgbj1kggff_kd35bfzkw0000gn/T/ipykernel_42080/1574832305.py:4: PerformanceWarning: DataFrame is highly fragmented.  This is usually the result of calling `frame.insert` many times, which has poor performance.  Consider joining all columns at once using pd.concat(axis=1) instead. To get a de-fragmented frame, use `newframe = frame.copy()`\n",
      "  mutations_all_protein.insert(current_max+i,\n"
     ]
    },
    {
     "name": "stdout",
     "output_type": "stream",
     "text": [
      "Appending SENP6...\n"
     ]
    },
    {
     "name": "stderr",
     "output_type": "stream",
     "text": [
      "/var/folders/kv/l0jzxgbj1kggff_kd35bfzkw0000gn/T/ipykernel_42080/1574832305.py:4: PerformanceWarning: DataFrame is highly fragmented.  This is usually the result of calling `frame.insert` many times, which has poor performance.  Consider joining all columns at once using pd.concat(axis=1) instead. To get a de-fragmented frame, use `newframe = frame.copy()`\n",
      "  mutations_all_protein.insert(current_max+i,\n"
     ]
    },
    {
     "name": "stdout",
     "output_type": "stream",
     "text": [
      "Appending SERPINE1...\n"
     ]
    },
    {
     "name": "stderr",
     "output_type": "stream",
     "text": [
      "/var/folders/kv/l0jzxgbj1kggff_kd35bfzkw0000gn/T/ipykernel_42080/1574832305.py:4: PerformanceWarning: DataFrame is highly fragmented.  This is usually the result of calling `frame.insert` many times, which has poor performance.  Consider joining all columns at once using pd.concat(axis=1) instead. To get a de-fragmented frame, use `newframe = frame.copy()`\n",
      "  mutations_all_protein.insert(current_max+i,\n"
     ]
    },
    {
     "name": "stdout",
     "output_type": "stream",
     "text": [
      "Appending SESN1...\n"
     ]
    },
    {
     "name": "stderr",
     "output_type": "stream",
     "text": [
      "/var/folders/kv/l0jzxgbj1kggff_kd35bfzkw0000gn/T/ipykernel_42080/1574832305.py:4: PerformanceWarning: DataFrame is highly fragmented.  This is usually the result of calling `frame.insert` many times, which has poor performance.  Consider joining all columns at once using pd.concat(axis=1) instead. To get a de-fragmented frame, use `newframe = frame.copy()`\n",
      "  mutations_all_protein.insert(current_max+i,\n"
     ]
    },
    {
     "name": "stdout",
     "output_type": "stream",
     "text": [
      "Appending SFN...\n"
     ]
    },
    {
     "name": "stderr",
     "output_type": "stream",
     "text": [
      "/var/folders/kv/l0jzxgbj1kggff_kd35bfzkw0000gn/T/ipykernel_42080/1574832305.py:4: PerformanceWarning: DataFrame is highly fragmented.  This is usually the result of calling `frame.insert` many times, which has poor performance.  Consider joining all columns at once using pd.concat(axis=1) instead. To get a de-fragmented frame, use `newframe = frame.copy()`\n",
      "  mutations_all_protein.insert(current_max+i,\n"
     ]
    },
    {
     "name": "stdout",
     "output_type": "stream",
     "text": [
      "Appending SGCB...\n"
     ]
    },
    {
     "name": "stderr",
     "output_type": "stream",
     "text": [
      "/var/folders/kv/l0jzxgbj1kggff_kd35bfzkw0000gn/T/ipykernel_42080/1574832305.py:4: PerformanceWarning: DataFrame is highly fragmented.  This is usually the result of calling `frame.insert` many times, which has poor performance.  Consider joining all columns at once using pd.concat(axis=1) instead. To get a de-fragmented frame, use `newframe = frame.copy()`\n",
      "  mutations_all_protein.insert(current_max+i,\n"
     ]
    },
    {
     "name": "stdout",
     "output_type": "stream",
     "text": [
      "Appending SH3BP5...\n"
     ]
    },
    {
     "name": "stderr",
     "output_type": "stream",
     "text": [
      "/var/folders/kv/l0jzxgbj1kggff_kd35bfzkw0000gn/T/ipykernel_42080/1574832305.py:4: PerformanceWarning: DataFrame is highly fragmented.  This is usually the result of calling `frame.insert` many times, which has poor performance.  Consider joining all columns at once using pd.concat(axis=1) instead. To get a de-fragmented frame, use `newframe = frame.copy()`\n",
      "  mutations_all_protein.insert(current_max+i,\n"
     ]
    },
    {
     "name": "stdout",
     "output_type": "stream",
     "text": [
      "Appending SHB...\n"
     ]
    },
    {
     "name": "stderr",
     "output_type": "stream",
     "text": [
      "/var/folders/kv/l0jzxgbj1kggff_kd35bfzkw0000gn/T/ipykernel_42080/1574832305.py:4: PerformanceWarning: DataFrame is highly fragmented.  This is usually the result of calling `frame.insert` many times, which has poor performance.  Consider joining all columns at once using pd.concat(axis=1) instead. To get a de-fragmented frame, use `newframe = frame.copy()`\n",
      "  mutations_all_protein.insert(current_max+i,\n"
     ]
    },
    {
     "name": "stdout",
     "output_type": "stream",
     "text": [
      "Appending SHC1...\n"
     ]
    },
    {
     "name": "stderr",
     "output_type": "stream",
     "text": [
      "/var/folders/kv/l0jzxgbj1kggff_kd35bfzkw0000gn/T/ipykernel_42080/1574832305.py:4: PerformanceWarning: DataFrame is highly fragmented.  This is usually the result of calling `frame.insert` many times, which has poor performance.  Consider joining all columns at once using pd.concat(axis=1) instead. To get a de-fragmented frame, use `newframe = frame.copy()`\n",
      "  mutations_all_protein.insert(current_max+i,\n"
     ]
    },
    {
     "name": "stdout",
     "output_type": "stream",
     "text": [
      "Appending SIRT3...\n"
     ]
    },
    {
     "name": "stderr",
     "output_type": "stream",
     "text": [
      "/var/folders/kv/l0jzxgbj1kggff_kd35bfzkw0000gn/T/ipykernel_42080/1574832305.py:4: PerformanceWarning: DataFrame is highly fragmented.  This is usually the result of calling `frame.insert` many times, which has poor performance.  Consider joining all columns at once using pd.concat(axis=1) instead. To get a de-fragmented frame, use `newframe = frame.copy()`\n",
      "  mutations_all_protein.insert(current_max+i,\n"
     ]
    },
    {
     "name": "stdout",
     "output_type": "stream",
     "text": [
      "Appending SKIV2L...\n"
     ]
    },
    {
     "name": "stderr",
     "output_type": "stream",
     "text": [
      "/var/folders/kv/l0jzxgbj1kggff_kd35bfzkw0000gn/T/ipykernel_42080/1574832305.py:4: PerformanceWarning: DataFrame is highly fragmented.  This is usually the result of calling `frame.insert` many times, which has poor performance.  Consider joining all columns at once using pd.concat(axis=1) instead. To get a de-fragmented frame, use `newframe = frame.copy()`\n",
      "  mutations_all_protein.insert(current_max+i,\n"
     ]
    },
    {
     "name": "stdout",
     "output_type": "stream",
     "text": [
      "Appending SKP1...\n"
     ]
    },
    {
     "name": "stderr",
     "output_type": "stream",
     "text": [
      "/var/folders/kv/l0jzxgbj1kggff_kd35bfzkw0000gn/T/ipykernel_42080/1574832305.py:4: PerformanceWarning: DataFrame is highly fragmented.  This is usually the result of calling `frame.insert` many times, which has poor performance.  Consider joining all columns at once using pd.concat(axis=1) instead. To get a de-fragmented frame, use `newframe = frame.copy()`\n",
      "  mutations_all_protein.insert(current_max+i,\n"
     ]
    },
    {
     "name": "stdout",
     "output_type": "stream",
     "text": [
      "Appending SLC11A2...\n"
     ]
    },
    {
     "name": "stderr",
     "output_type": "stream",
     "text": [
      "/var/folders/kv/l0jzxgbj1kggff_kd35bfzkw0000gn/T/ipykernel_42080/1574832305.py:4: PerformanceWarning: DataFrame is highly fragmented.  This is usually the result of calling `frame.insert` many times, which has poor performance.  Consider joining all columns at once using pd.concat(axis=1) instead. To get a de-fragmented frame, use `newframe = frame.copy()`\n",
      "  mutations_all_protein.insert(current_max+i,\n"
     ]
    },
    {
     "name": "stdout",
     "output_type": "stream",
     "text": [
      "Appending SLC1A4...\n"
     ]
    },
    {
     "name": "stderr",
     "output_type": "stream",
     "text": [
      "/var/folders/kv/l0jzxgbj1kggff_kd35bfzkw0000gn/T/ipykernel_42080/1574832305.py:4: PerformanceWarning: DataFrame is highly fragmented.  This is usually the result of calling `frame.insert` many times, which has poor performance.  Consider joining all columns at once using pd.concat(axis=1) instead. To get a de-fragmented frame, use `newframe = frame.copy()`\n",
      "  mutations_all_protein.insert(current_max+i,\n"
     ]
    },
    {
     "name": "stdout",
     "output_type": "stream",
     "text": [
      "Appending SLC25A13...\n"
     ]
    },
    {
     "name": "stderr",
     "output_type": "stream",
     "text": [
      "/var/folders/kv/l0jzxgbj1kggff_kd35bfzkw0000gn/T/ipykernel_42080/1574832305.py:4: PerformanceWarning: DataFrame is highly fragmented.  This is usually the result of calling `frame.insert` many times, which has poor performance.  Consider joining all columns at once using pd.concat(axis=1) instead. To get a de-fragmented frame, use `newframe = frame.copy()`\n",
      "  mutations_all_protein.insert(current_max+i,\n"
     ]
    },
    {
     "name": "stdout",
     "output_type": "stream",
     "text": [
      "Appending SLC25A14...\n"
     ]
    },
    {
     "name": "stderr",
     "output_type": "stream",
     "text": [
      "/var/folders/kv/l0jzxgbj1kggff_kd35bfzkw0000gn/T/ipykernel_42080/1574832305.py:4: PerformanceWarning: DataFrame is highly fragmented.  This is usually the result of calling `frame.insert` many times, which has poor performance.  Consider joining all columns at once using pd.concat(axis=1) instead. To get a de-fragmented frame, use `newframe = frame.copy()`\n",
      "  mutations_all_protein.insert(current_max+i,\n"
     ]
    },
    {
     "name": "stdout",
     "output_type": "stream",
     "text": [
      "Appending SLC25A4...\n"
     ]
    },
    {
     "name": "stderr",
     "output_type": "stream",
     "text": [
      "/var/folders/kv/l0jzxgbj1kggff_kd35bfzkw0000gn/T/ipykernel_42080/1574832305.py:4: PerformanceWarning: DataFrame is highly fragmented.  This is usually the result of calling `frame.insert` many times, which has poor performance.  Consider joining all columns at once using pd.concat(axis=1) instead. To get a de-fragmented frame, use `newframe = frame.copy()`\n",
      "  mutations_all_protein.insert(current_max+i,\n"
     ]
    },
    {
     "name": "stdout",
     "output_type": "stream",
     "text": [
      "Appending SLC25A46...\n"
     ]
    },
    {
     "name": "stderr",
     "output_type": "stream",
     "text": [
      "/var/folders/kv/l0jzxgbj1kggff_kd35bfzkw0000gn/T/ipykernel_42080/1574832305.py:4: PerformanceWarning: DataFrame is highly fragmented.  This is usually the result of calling `frame.insert` many times, which has poor performance.  Consider joining all columns at once using pd.concat(axis=1) instead. To get a de-fragmented frame, use `newframe = frame.copy()`\n",
      "  mutations_all_protein.insert(current_max+i,\n"
     ]
    },
    {
     "name": "stdout",
     "output_type": "stream",
     "text": [
      "Appending SLC27A3...\n"
     ]
    },
    {
     "name": "stderr",
     "output_type": "stream",
     "text": [
      "/var/folders/kv/l0jzxgbj1kggff_kd35bfzkw0000gn/T/ipykernel_42080/1574832305.py:4: PerformanceWarning: DataFrame is highly fragmented.  This is usually the result of calling `frame.insert` many times, which has poor performance.  Consider joining all columns at once using pd.concat(axis=1) instead. To get a de-fragmented frame, use `newframe = frame.copy()`\n",
      "  mutations_all_protein.insert(current_max+i,\n"
     ]
    },
    {
     "name": "stdout",
     "output_type": "stream",
     "text": [
      "Appending SLC2A6...\n"
     ]
    },
    {
     "name": "stderr",
     "output_type": "stream",
     "text": [
      "/var/folders/kv/l0jzxgbj1kggff_kd35bfzkw0000gn/T/ipykernel_42080/1574832305.py:4: PerformanceWarning: DataFrame is highly fragmented.  This is usually the result of calling `frame.insert` many times, which has poor performance.  Consider joining all columns at once using pd.concat(axis=1) instead. To get a de-fragmented frame, use `newframe = frame.copy()`\n",
      "  mutations_all_protein.insert(current_max+i,\n"
     ]
    },
    {
     "name": "stdout",
     "output_type": "stream",
     "text": [
      "Appending SLC35A1...\n"
     ]
    },
    {
     "name": "stderr",
     "output_type": "stream",
     "text": [
      "/var/folders/kv/l0jzxgbj1kggff_kd35bfzkw0000gn/T/ipykernel_42080/1574832305.py:4: PerformanceWarning: DataFrame is highly fragmented.  This is usually the result of calling `frame.insert` many times, which has poor performance.  Consider joining all columns at once using pd.concat(axis=1) instead. To get a de-fragmented frame, use `newframe = frame.copy()`\n",
      "  mutations_all_protein.insert(current_max+i,\n"
     ]
    },
    {
     "name": "stdout",
     "output_type": "stream",
     "text": [
      "Appending SLC35A3...\n"
     ]
    },
    {
     "name": "stderr",
     "output_type": "stream",
     "text": [
      "/var/folders/kv/l0jzxgbj1kggff_kd35bfzkw0000gn/T/ipykernel_42080/1574832305.py:4: PerformanceWarning: DataFrame is highly fragmented.  This is usually the result of calling `frame.insert` many times, which has poor performance.  Consider joining all columns at once using pd.concat(axis=1) instead. To get a de-fragmented frame, use `newframe = frame.copy()`\n",
      "  mutations_all_protein.insert(current_max+i,\n"
     ]
    },
    {
     "name": "stdout",
     "output_type": "stream",
     "text": [
      "Appending SLC35B1...\n"
     ]
    },
    {
     "name": "stderr",
     "output_type": "stream",
     "text": [
      "/var/folders/kv/l0jzxgbj1kggff_kd35bfzkw0000gn/T/ipykernel_42080/1574832305.py:4: PerformanceWarning: DataFrame is highly fragmented.  This is usually the result of calling `frame.insert` many times, which has poor performance.  Consider joining all columns at once using pd.concat(axis=1) instead. To get a de-fragmented frame, use `newframe = frame.copy()`\n",
      "  mutations_all_protein.insert(current_max+i,\n"
     ]
    },
    {
     "name": "stdout",
     "output_type": "stream",
     "text": [
      "Appending SLC35F2...\n"
     ]
    },
    {
     "name": "stderr",
     "output_type": "stream",
     "text": [
      "/var/folders/kv/l0jzxgbj1kggff_kd35bfzkw0000gn/T/ipykernel_42080/1574832305.py:4: PerformanceWarning: DataFrame is highly fragmented.  This is usually the result of calling `frame.insert` many times, which has poor performance.  Consider joining all columns at once using pd.concat(axis=1) instead. To get a de-fragmented frame, use `newframe = frame.copy()`\n",
      "  mutations_all_protein.insert(current_max+i,\n"
     ]
    },
    {
     "name": "stdout",
     "output_type": "stream",
     "text": [
      "Appending SLC37A4...\n"
     ]
    },
    {
     "name": "stderr",
     "output_type": "stream",
     "text": [
      "/var/folders/kv/l0jzxgbj1kggff_kd35bfzkw0000gn/T/ipykernel_42080/1574832305.py:4: PerformanceWarning: DataFrame is highly fragmented.  This is usually the result of calling `frame.insert` many times, which has poor performance.  Consider joining all columns at once using pd.concat(axis=1) instead. To get a de-fragmented frame, use `newframe = frame.copy()`\n",
      "  mutations_all_protein.insert(current_max+i,\n"
     ]
    },
    {
     "name": "stdout",
     "output_type": "stream",
     "text": [
      "Appending SLC5A6...\n"
     ]
    },
    {
     "name": "stderr",
     "output_type": "stream",
     "text": [
      "/var/folders/kv/l0jzxgbj1kggff_kd35bfzkw0000gn/T/ipykernel_42080/1574832305.py:4: PerformanceWarning: DataFrame is highly fragmented.  This is usually the result of calling `frame.insert` many times, which has poor performance.  Consider joining all columns at once using pd.concat(axis=1) instead. To get a de-fragmented frame, use `newframe = frame.copy()`\n",
      "  mutations_all_protein.insert(current_max+i,\n"
     ]
    },
    {
     "name": "stdout",
     "output_type": "stream",
     "text": [
      "Appending SMAD3...\n"
     ]
    },
    {
     "name": "stderr",
     "output_type": "stream",
     "text": [
      "/var/folders/kv/l0jzxgbj1kggff_kd35bfzkw0000gn/T/ipykernel_42080/1574832305.py:4: PerformanceWarning: DataFrame is highly fragmented.  This is usually the result of calling `frame.insert` many times, which has poor performance.  Consider joining all columns at once using pd.concat(axis=1) instead. To get a de-fragmented frame, use `newframe = frame.copy()`\n",
      "  mutations_all_protein.insert(current_max+i,\n"
     ]
    },
    {
     "name": "stdout",
     "output_type": "stream",
     "text": [
      "Appending SMARCA4...\n"
     ]
    },
    {
     "name": "stderr",
     "output_type": "stream",
     "text": [
      "/var/folders/kv/l0jzxgbj1kggff_kd35bfzkw0000gn/T/ipykernel_42080/1574832305.py:4: PerformanceWarning: DataFrame is highly fragmented.  This is usually the result of calling `frame.insert` many times, which has poor performance.  Consider joining all columns at once using pd.concat(axis=1) instead. To get a de-fragmented frame, use `newframe = frame.copy()`\n",
      "  mutations_all_protein.insert(current_max+i,\n"
     ]
    },
    {
     "name": "stdout",
     "output_type": "stream",
     "text": [
      "Appending SMARCC1...\n"
     ]
    },
    {
     "name": "stderr",
     "output_type": "stream",
     "text": [
      "/var/folders/kv/l0jzxgbj1kggff_kd35bfzkw0000gn/T/ipykernel_42080/1574832305.py:4: PerformanceWarning: DataFrame is highly fragmented.  This is usually the result of calling `frame.insert` many times, which has poor performance.  Consider joining all columns at once using pd.concat(axis=1) instead. To get a de-fragmented frame, use `newframe = frame.copy()`\n",
      "  mutations_all_protein.insert(current_max+i,\n"
     ]
    },
    {
     "name": "stdout",
     "output_type": "stream",
     "text": [
      "Appending SMARCD2...\n"
     ]
    },
    {
     "name": "stderr",
     "output_type": "stream",
     "text": [
      "/var/folders/kv/l0jzxgbj1kggff_kd35bfzkw0000gn/T/ipykernel_42080/1574832305.py:4: PerformanceWarning: DataFrame is highly fragmented.  This is usually the result of calling `frame.insert` many times, which has poor performance.  Consider joining all columns at once using pd.concat(axis=1) instead. To get a de-fragmented frame, use `newframe = frame.copy()`\n",
      "  mutations_all_protein.insert(current_max+i,\n"
     ]
    },
    {
     "name": "stdout",
     "output_type": "stream",
     "text": [
      "Appending SMC1A...\n"
     ]
    },
    {
     "name": "stderr",
     "output_type": "stream",
     "text": [
      "/var/folders/kv/l0jzxgbj1kggff_kd35bfzkw0000gn/T/ipykernel_42080/1574832305.py:4: PerformanceWarning: DataFrame is highly fragmented.  This is usually the result of calling `frame.insert` many times, which has poor performance.  Consider joining all columns at once using pd.concat(axis=1) instead. To get a de-fragmented frame, use `newframe = frame.copy()`\n",
      "  mutations_all_protein.insert(current_max+i,\n"
     ]
    },
    {
     "name": "stdout",
     "output_type": "stream",
     "text": [
      "Appending SMC3...\n"
     ]
    },
    {
     "name": "stderr",
     "output_type": "stream",
     "text": [
      "/var/folders/kv/l0jzxgbj1kggff_kd35bfzkw0000gn/T/ipykernel_42080/1574832305.py:4: PerformanceWarning: DataFrame is highly fragmented.  This is usually the result of calling `frame.insert` many times, which has poor performance.  Consider joining all columns at once using pd.concat(axis=1) instead. To get a de-fragmented frame, use `newframe = frame.copy()`\n",
      "  mutations_all_protein.insert(current_max+i,\n"
     ]
    },
    {
     "name": "stdout",
     "output_type": "stream",
     "text": [
      "Appending SMC4...\n"
     ]
    },
    {
     "name": "stderr",
     "output_type": "stream",
     "text": [
      "/var/folders/kv/l0jzxgbj1kggff_kd35bfzkw0000gn/T/ipykernel_42080/1574832305.py:4: PerformanceWarning: DataFrame is highly fragmented.  This is usually the result of calling `frame.insert` many times, which has poor performance.  Consider joining all columns at once using pd.concat(axis=1) instead. To get a de-fragmented frame, use `newframe = frame.copy()`\n",
      "  mutations_all_protein.insert(current_max+i,\n"
     ]
    },
    {
     "name": "stdout",
     "output_type": "stream",
     "text": [
      "Appending SMNDC1...\n"
     ]
    },
    {
     "name": "stderr",
     "output_type": "stream",
     "text": [
      "/var/folders/kv/l0jzxgbj1kggff_kd35bfzkw0000gn/T/ipykernel_42080/1574832305.py:4: PerformanceWarning: DataFrame is highly fragmented.  This is usually the result of calling `frame.insert` many times, which has poor performance.  Consider joining all columns at once using pd.concat(axis=1) instead. To get a de-fragmented frame, use `newframe = frame.copy()`\n",
      "  mutations_all_protein.insert(current_max+i,\n"
     ]
    },
    {
     "name": "stdout",
     "output_type": "stream",
     "text": [
      "Appending SNAP25...\n"
     ]
    },
    {
     "name": "stderr",
     "output_type": "stream",
     "text": [
      "/var/folders/kv/l0jzxgbj1kggff_kd35bfzkw0000gn/T/ipykernel_42080/1574832305.py:4: PerformanceWarning: DataFrame is highly fragmented.  This is usually the result of calling `frame.insert` many times, which has poor performance.  Consider joining all columns at once using pd.concat(axis=1) instead. To get a de-fragmented frame, use `newframe = frame.copy()`\n",
      "  mutations_all_protein.insert(current_max+i,\n"
     ]
    },
    {
     "name": "stdout",
     "output_type": "stream",
     "text": [
      "Appending SNCA...\n"
     ]
    },
    {
     "name": "stderr",
     "output_type": "stream",
     "text": [
      "/var/folders/kv/l0jzxgbj1kggff_kd35bfzkw0000gn/T/ipykernel_42080/1574832305.py:4: PerformanceWarning: DataFrame is highly fragmented.  This is usually the result of calling `frame.insert` many times, which has poor performance.  Consider joining all columns at once using pd.concat(axis=1) instead. To get a de-fragmented frame, use `newframe = frame.copy()`\n",
      "  mutations_all_protein.insert(current_max+i,\n"
     ]
    },
    {
     "name": "stdout",
     "output_type": "stream",
     "text": [
      "Appending SNX11...\n"
     ]
    },
    {
     "name": "stderr",
     "output_type": "stream",
     "text": [
      "/var/folders/kv/l0jzxgbj1kggff_kd35bfzkw0000gn/T/ipykernel_42080/1574832305.py:4: PerformanceWarning: DataFrame is highly fragmented.  This is usually the result of calling `frame.insert` many times, which has poor performance.  Consider joining all columns at once using pd.concat(axis=1) instead. To get a de-fragmented frame, use `newframe = frame.copy()`\n",
      "  mutations_all_protein.insert(current_max+i,\n"
     ]
    },
    {
     "name": "stdout",
     "output_type": "stream",
     "text": [
      "Appending SNX13...\n"
     ]
    },
    {
     "name": "stderr",
     "output_type": "stream",
     "text": [
      "/var/folders/kv/l0jzxgbj1kggff_kd35bfzkw0000gn/T/ipykernel_42080/1574832305.py:4: PerformanceWarning: DataFrame is highly fragmented.  This is usually the result of calling `frame.insert` many times, which has poor performance.  Consider joining all columns at once using pd.concat(axis=1) instead. To get a de-fragmented frame, use `newframe = frame.copy()`\n",
      "  mutations_all_protein.insert(current_max+i,\n"
     ]
    },
    {
     "name": "stdout",
     "output_type": "stream",
     "text": [
      "Appending SNX6...\n"
     ]
    },
    {
     "name": "stderr",
     "output_type": "stream",
     "text": [
      "/var/folders/kv/l0jzxgbj1kggff_kd35bfzkw0000gn/T/ipykernel_42080/1574832305.py:4: PerformanceWarning: DataFrame is highly fragmented.  This is usually the result of calling `frame.insert` many times, which has poor performance.  Consider joining all columns at once using pd.concat(axis=1) instead. To get a de-fragmented frame, use `newframe = frame.copy()`\n",
      "  mutations_all_protein.insert(current_max+i,\n"
     ]
    },
    {
     "name": "stdout",
     "output_type": "stream",
     "text": [
      "Appending SNX7...\n"
     ]
    },
    {
     "name": "stderr",
     "output_type": "stream",
     "text": [
      "/var/folders/kv/l0jzxgbj1kggff_kd35bfzkw0000gn/T/ipykernel_42080/1574832305.py:4: PerformanceWarning: DataFrame is highly fragmented.  This is usually the result of calling `frame.insert` many times, which has poor performance.  Consider joining all columns at once using pd.concat(axis=1) instead. To get a de-fragmented frame, use `newframe = frame.copy()`\n",
      "  mutations_all_protein.insert(current_max+i,\n"
     ]
    },
    {
     "name": "stdout",
     "output_type": "stream",
     "text": [
      "Appending SOCS2...\n"
     ]
    },
    {
     "name": "stderr",
     "output_type": "stream",
     "text": [
      "/var/folders/kv/l0jzxgbj1kggff_kd35bfzkw0000gn/T/ipykernel_42080/1574832305.py:4: PerformanceWarning: DataFrame is highly fragmented.  This is usually the result of calling `frame.insert` many times, which has poor performance.  Consider joining all columns at once using pd.concat(axis=1) instead. To get a de-fragmented frame, use `newframe = frame.copy()`\n",
      "  mutations_all_protein.insert(current_max+i,\n"
     ]
    },
    {
     "name": "stdout",
     "output_type": "stream",
     "text": [
      "Appending SORBS3...\n"
     ]
    },
    {
     "name": "stderr",
     "output_type": "stream",
     "text": [
      "/var/folders/kv/l0jzxgbj1kggff_kd35bfzkw0000gn/T/ipykernel_42080/1574832305.py:4: PerformanceWarning: DataFrame is highly fragmented.  This is usually the result of calling `frame.insert` many times, which has poor performance.  Consider joining all columns at once using pd.concat(axis=1) instead. To get a de-fragmented frame, use `newframe = frame.copy()`\n",
      "  mutations_all_protein.insert(current_max+i,\n"
     ]
    },
    {
     "name": "stdout",
     "output_type": "stream",
     "text": [
      "Appending SOX2...\n"
     ]
    },
    {
     "name": "stderr",
     "output_type": "stream",
     "text": [
      "/var/folders/kv/l0jzxgbj1kggff_kd35bfzkw0000gn/T/ipykernel_42080/1574832305.py:4: PerformanceWarning: DataFrame is highly fragmented.  This is usually the result of calling `frame.insert` many times, which has poor performance.  Consider joining all columns at once using pd.concat(axis=1) instead. To get a de-fragmented frame, use `newframe = frame.copy()`\n",
      "  mutations_all_protein.insert(current_max+i,\n"
     ]
    },
    {
     "name": "stdout",
     "output_type": "stream",
     "text": [
      "Appending SOX4...\n"
     ]
    },
    {
     "name": "stderr",
     "output_type": "stream",
     "text": [
      "/var/folders/kv/l0jzxgbj1kggff_kd35bfzkw0000gn/T/ipykernel_42080/1574832305.py:4: PerformanceWarning: DataFrame is highly fragmented.  This is usually the result of calling `frame.insert` many times, which has poor performance.  Consider joining all columns at once using pd.concat(axis=1) instead. To get a de-fragmented frame, use `newframe = frame.copy()`\n",
      "  mutations_all_protein.insert(current_max+i,\n"
     ]
    },
    {
     "name": "stdout",
     "output_type": "stream",
     "text": [
      "Appending SPAG4...\n"
     ]
    },
    {
     "name": "stderr",
     "output_type": "stream",
     "text": [
      "/var/folders/kv/l0jzxgbj1kggff_kd35bfzkw0000gn/T/ipykernel_42080/1574832305.py:4: PerformanceWarning: DataFrame is highly fragmented.  This is usually the result of calling `frame.insert` many times, which has poor performance.  Consider joining all columns at once using pd.concat(axis=1) instead. To get a de-fragmented frame, use `newframe = frame.copy()`\n",
      "  mutations_all_protein.insert(current_max+i,\n"
     ]
    },
    {
     "name": "stdout",
     "output_type": "stream",
     "text": [
      "Appending SPAG7...\n"
     ]
    },
    {
     "name": "stderr",
     "output_type": "stream",
     "text": [
      "/var/folders/kv/l0jzxgbj1kggff_kd35bfzkw0000gn/T/ipykernel_42080/1574832305.py:4: PerformanceWarning: DataFrame is highly fragmented.  This is usually the result of calling `frame.insert` many times, which has poor performance.  Consider joining all columns at once using pd.concat(axis=1) instead. To get a de-fragmented frame, use `newframe = frame.copy()`\n",
      "  mutations_all_protein.insert(current_max+i,\n"
     ]
    },
    {
     "name": "stdout",
     "output_type": "stream",
     "text": [
      "Appending SPDEF...\n"
     ]
    },
    {
     "name": "stderr",
     "output_type": "stream",
     "text": [
      "/var/folders/kv/l0jzxgbj1kggff_kd35bfzkw0000gn/T/ipykernel_42080/1574832305.py:4: PerformanceWarning: DataFrame is highly fragmented.  This is usually the result of calling `frame.insert` many times, which has poor performance.  Consider joining all columns at once using pd.concat(axis=1) instead. To get a de-fragmented frame, use `newframe = frame.copy()`\n",
      "  mutations_all_protein.insert(current_max+i,\n"
     ]
    },
    {
     "name": "stdout",
     "output_type": "stream",
     "text": [
      "Appending SPEN...\n"
     ]
    },
    {
     "name": "stderr",
     "output_type": "stream",
     "text": [
      "/var/folders/kv/l0jzxgbj1kggff_kd35bfzkw0000gn/T/ipykernel_42080/1574832305.py:4: PerformanceWarning: DataFrame is highly fragmented.  This is usually the result of calling `frame.insert` many times, which has poor performance.  Consider joining all columns at once using pd.concat(axis=1) instead. To get a de-fragmented frame, use `newframe = frame.copy()`\n",
      "  mutations_all_protein.insert(current_max+i,\n"
     ]
    },
    {
     "name": "stdout",
     "output_type": "stream",
     "text": [
      "Appending SPP1...\n"
     ]
    },
    {
     "name": "stderr",
     "output_type": "stream",
     "text": [
      "/var/folders/kv/l0jzxgbj1kggff_kd35bfzkw0000gn/T/ipykernel_42080/1574832305.py:4: PerformanceWarning: DataFrame is highly fragmented.  This is usually the result of calling `frame.insert` many times, which has poor performance.  Consider joining all columns at once using pd.concat(axis=1) instead. To get a de-fragmented frame, use `newframe = frame.copy()`\n",
      "  mutations_all_protein.insert(current_max+i,\n"
     ]
    },
    {
     "name": "stdout",
     "output_type": "stream",
     "text": [
      "Appending SPR...\n"
     ]
    },
    {
     "name": "stderr",
     "output_type": "stream",
     "text": [
      "/var/folders/kv/l0jzxgbj1kggff_kd35bfzkw0000gn/T/ipykernel_42080/1574832305.py:4: PerformanceWarning: DataFrame is highly fragmented.  This is usually the result of calling `frame.insert` many times, which has poor performance.  Consider joining all columns at once using pd.concat(axis=1) instead. To get a de-fragmented frame, use `newframe = frame.copy()`\n",
      "  mutations_all_protein.insert(current_max+i,\n"
     ]
    },
    {
     "name": "stdout",
     "output_type": "stream",
     "text": [
      "Appending SPRED2...\n"
     ]
    },
    {
     "name": "stderr",
     "output_type": "stream",
     "text": [
      "/var/folders/kv/l0jzxgbj1kggff_kd35bfzkw0000gn/T/ipykernel_42080/1574832305.py:4: PerformanceWarning: DataFrame is highly fragmented.  This is usually the result of calling `frame.insert` many times, which has poor performance.  Consider joining all columns at once using pd.concat(axis=1) instead. To get a de-fragmented frame, use `newframe = frame.copy()`\n",
      "  mutations_all_protein.insert(current_max+i,\n"
     ]
    },
    {
     "name": "stdout",
     "output_type": "stream",
     "text": [
      "Appending SPTAN1...\n"
     ]
    },
    {
     "name": "stderr",
     "output_type": "stream",
     "text": [
      "/var/folders/kv/l0jzxgbj1kggff_kd35bfzkw0000gn/T/ipykernel_42080/1574832305.py:4: PerformanceWarning: DataFrame is highly fragmented.  This is usually the result of calling `frame.insert` many times, which has poor performance.  Consider joining all columns at once using pd.concat(axis=1) instead. To get a de-fragmented frame, use `newframe = frame.copy()`\n",
      "  mutations_all_protein.insert(current_max+i,\n"
     ]
    },
    {
     "name": "stdout",
     "output_type": "stream",
     "text": [
      "Appending SPTLC2...\n"
     ]
    },
    {
     "name": "stderr",
     "output_type": "stream",
     "text": [
      "/var/folders/kv/l0jzxgbj1kggff_kd35bfzkw0000gn/T/ipykernel_42080/1574832305.py:4: PerformanceWarning: DataFrame is highly fragmented.  This is usually the result of calling `frame.insert` many times, which has poor performance.  Consider joining all columns at once using pd.concat(axis=1) instead. To get a de-fragmented frame, use `newframe = frame.copy()`\n",
      "  mutations_all_protein.insert(current_max+i,\n"
     ]
    },
    {
     "name": "stdout",
     "output_type": "stream",
     "text": [
      "Appending SQSTM1...\n"
     ]
    },
    {
     "name": "stderr",
     "output_type": "stream",
     "text": [
      "/var/folders/kv/l0jzxgbj1kggff_kd35bfzkw0000gn/T/ipykernel_42080/1574832305.py:4: PerformanceWarning: DataFrame is highly fragmented.  This is usually the result of calling `frame.insert` many times, which has poor performance.  Consider joining all columns at once using pd.concat(axis=1) instead. To get a de-fragmented frame, use `newframe = frame.copy()`\n",
      "  mutations_all_protein.insert(current_max+i,\n"
     ]
    },
    {
     "name": "stdout",
     "output_type": "stream",
     "text": [
      "Appending SRC...\n"
     ]
    },
    {
     "name": "stderr",
     "output_type": "stream",
     "text": [
      "/var/folders/kv/l0jzxgbj1kggff_kd35bfzkw0000gn/T/ipykernel_42080/1574832305.py:4: PerformanceWarning: DataFrame is highly fragmented.  This is usually the result of calling `frame.insert` many times, which has poor performance.  Consider joining all columns at once using pd.concat(axis=1) instead. To get a de-fragmented frame, use `newframe = frame.copy()`\n",
      "  mutations_all_protein.insert(current_max+i,\n"
     ]
    },
    {
     "name": "stdout",
     "output_type": "stream",
     "text": [
      "Appending SSBP2...\n"
     ]
    },
    {
     "name": "stderr",
     "output_type": "stream",
     "text": [
      "/var/folders/kv/l0jzxgbj1kggff_kd35bfzkw0000gn/T/ipykernel_42080/1574832305.py:4: PerformanceWarning: DataFrame is highly fragmented.  This is usually the result of calling `frame.insert` many times, which has poor performance.  Consider joining all columns at once using pd.concat(axis=1) instead. To get a de-fragmented frame, use `newframe = frame.copy()`\n",
      "  mutations_all_protein.insert(current_max+i,\n"
     ]
    },
    {
     "name": "stdout",
     "output_type": "stream",
     "text": [
      "Appending ST3GAL5...\n"
     ]
    },
    {
     "name": "stderr",
     "output_type": "stream",
     "text": [
      "/var/folders/kv/l0jzxgbj1kggff_kd35bfzkw0000gn/T/ipykernel_42080/1574832305.py:4: PerformanceWarning: DataFrame is highly fragmented.  This is usually the result of calling `frame.insert` many times, which has poor performance.  Consider joining all columns at once using pd.concat(axis=1) instead. To get a de-fragmented frame, use `newframe = frame.copy()`\n",
      "  mutations_all_protein.insert(current_max+i,\n"
     ]
    },
    {
     "name": "stdout",
     "output_type": "stream",
     "text": [
      "Appending ST6GALNAC2...\n"
     ]
    },
    {
     "name": "stderr",
     "output_type": "stream",
     "text": [
      "/var/folders/kv/l0jzxgbj1kggff_kd35bfzkw0000gn/T/ipykernel_42080/1574832305.py:4: PerformanceWarning: DataFrame is highly fragmented.  This is usually the result of calling `frame.insert` many times, which has poor performance.  Consider joining all columns at once using pd.concat(axis=1) instead. To get a de-fragmented frame, use `newframe = frame.copy()`\n",
      "  mutations_all_protein.insert(current_max+i,\n"
     ]
    },
    {
     "name": "stdout",
     "output_type": "stream",
     "text": [
      "Appending ST7...\n"
     ]
    },
    {
     "name": "stderr",
     "output_type": "stream",
     "text": [
      "/var/folders/kv/l0jzxgbj1kggff_kd35bfzkw0000gn/T/ipykernel_42080/1574832305.py:4: PerformanceWarning: DataFrame is highly fragmented.  This is usually the result of calling `frame.insert` many times, which has poor performance.  Consider joining all columns at once using pd.concat(axis=1) instead. To get a de-fragmented frame, use `newframe = frame.copy()`\n",
      "  mutations_all_protein.insert(current_max+i,\n"
     ]
    },
    {
     "name": "stdout",
     "output_type": "stream",
     "text": [
      "Appending STAMBP...\n"
     ]
    },
    {
     "name": "stderr",
     "output_type": "stream",
     "text": [
      "/var/folders/kv/l0jzxgbj1kggff_kd35bfzkw0000gn/T/ipykernel_42080/1574832305.py:4: PerformanceWarning: DataFrame is highly fragmented.  This is usually the result of calling `frame.insert` many times, which has poor performance.  Consider joining all columns at once using pd.concat(axis=1) instead. To get a de-fragmented frame, use `newframe = frame.copy()`\n",
      "  mutations_all_protein.insert(current_max+i,\n"
     ]
    },
    {
     "name": "stdout",
     "output_type": "stream",
     "text": [
      "Appending STAP2...\n"
     ]
    },
    {
     "name": "stderr",
     "output_type": "stream",
     "text": [
      "/var/folders/kv/l0jzxgbj1kggff_kd35bfzkw0000gn/T/ipykernel_42080/1574832305.py:4: PerformanceWarning: DataFrame is highly fragmented.  This is usually the result of calling `frame.insert` many times, which has poor performance.  Consider joining all columns at once using pd.concat(axis=1) instead. To get a de-fragmented frame, use `newframe = frame.copy()`\n",
      "  mutations_all_protein.insert(current_max+i,\n"
     ]
    },
    {
     "name": "stdout",
     "output_type": "stream",
     "text": [
      "Appending STAT1...\n"
     ]
    },
    {
     "name": "stderr",
     "output_type": "stream",
     "text": [
      "/var/folders/kv/l0jzxgbj1kggff_kd35bfzkw0000gn/T/ipykernel_42080/1574832305.py:4: PerformanceWarning: DataFrame is highly fragmented.  This is usually the result of calling `frame.insert` many times, which has poor performance.  Consider joining all columns at once using pd.concat(axis=1) instead. To get a de-fragmented frame, use `newframe = frame.copy()`\n",
      "  mutations_all_protein.insert(current_max+i,\n"
     ]
    },
    {
     "name": "stdout",
     "output_type": "stream",
     "text": [
      "Appending STAT3...\n"
     ]
    },
    {
     "name": "stderr",
     "output_type": "stream",
     "text": [
      "/var/folders/kv/l0jzxgbj1kggff_kd35bfzkw0000gn/T/ipykernel_42080/1574832305.py:4: PerformanceWarning: DataFrame is highly fragmented.  This is usually the result of calling `frame.insert` many times, which has poor performance.  Consider joining all columns at once using pd.concat(axis=1) instead. To get a de-fragmented frame, use `newframe = frame.copy()`\n",
      "  mutations_all_protein.insert(current_max+i,\n"
     ]
    },
    {
     "name": "stdout",
     "output_type": "stream",
     "text": [
      "Appending STAT5B...\n"
     ]
    },
    {
     "name": "stderr",
     "output_type": "stream",
     "text": [
      "/var/folders/kv/l0jzxgbj1kggff_kd35bfzkw0000gn/T/ipykernel_42080/1574832305.py:4: PerformanceWarning: DataFrame is highly fragmented.  This is usually the result of calling `frame.insert` many times, which has poor performance.  Consider joining all columns at once using pd.concat(axis=1) instead. To get a de-fragmented frame, use `newframe = frame.copy()`\n",
      "  mutations_all_protein.insert(current_max+i,\n"
     ]
    },
    {
     "name": "stdout",
     "output_type": "stream",
     "text": [
      "Appending STK10...\n"
     ]
    },
    {
     "name": "stderr",
     "output_type": "stream",
     "text": [
      "/var/folders/kv/l0jzxgbj1kggff_kd35bfzkw0000gn/T/ipykernel_42080/1574832305.py:4: PerformanceWarning: DataFrame is highly fragmented.  This is usually the result of calling `frame.insert` many times, which has poor performance.  Consider joining all columns at once using pd.concat(axis=1) instead. To get a de-fragmented frame, use `newframe = frame.copy()`\n",
      "  mutations_all_protein.insert(current_max+i,\n"
     ]
    },
    {
     "name": "stdout",
     "output_type": "stream",
     "text": [
      "Appending STK25...\n"
     ]
    },
    {
     "name": "stderr",
     "output_type": "stream",
     "text": [
      "/var/folders/kv/l0jzxgbj1kggff_kd35bfzkw0000gn/T/ipykernel_42080/1574832305.py:4: PerformanceWarning: DataFrame is highly fragmented.  This is usually the result of calling `frame.insert` many times, which has poor performance.  Consider joining all columns at once using pd.concat(axis=1) instead. To get a de-fragmented frame, use `newframe = frame.copy()`\n",
      "  mutations_all_protein.insert(current_max+i,\n"
     ]
    },
    {
     "name": "stdout",
     "output_type": "stream",
     "text": [
      "Appending STMN1...\n"
     ]
    },
    {
     "name": "stderr",
     "output_type": "stream",
     "text": [
      "/var/folders/kv/l0jzxgbj1kggff_kd35bfzkw0000gn/T/ipykernel_42080/1574832305.py:4: PerformanceWarning: DataFrame is highly fragmented.  This is usually the result of calling `frame.insert` many times, which has poor performance.  Consider joining all columns at once using pd.concat(axis=1) instead. To get a de-fragmented frame, use `newframe = frame.copy()`\n",
      "  mutations_all_protein.insert(current_max+i,\n"
     ]
    },
    {
     "name": "stdout",
     "output_type": "stream",
     "text": [
      "Appending STUB1...\n"
     ]
    },
    {
     "name": "stderr",
     "output_type": "stream",
     "text": [
      "/var/folders/kv/l0jzxgbj1kggff_kd35bfzkw0000gn/T/ipykernel_42080/1574832305.py:4: PerformanceWarning: DataFrame is highly fragmented.  This is usually the result of calling `frame.insert` many times, which has poor performance.  Consider joining all columns at once using pd.concat(axis=1) instead. To get a de-fragmented frame, use `newframe = frame.copy()`\n",
      "  mutations_all_protein.insert(current_max+i,\n"
     ]
    },
    {
     "name": "stdout",
     "output_type": "stream",
     "text": [
      "Appending STX1A...\n"
     ]
    },
    {
     "name": "stderr",
     "output_type": "stream",
     "text": [
      "/var/folders/kv/l0jzxgbj1kggff_kd35bfzkw0000gn/T/ipykernel_42080/1574832305.py:4: PerformanceWarning: DataFrame is highly fragmented.  This is usually the result of calling `frame.insert` many times, which has poor performance.  Consider joining all columns at once using pd.concat(axis=1) instead. To get a de-fragmented frame, use `newframe = frame.copy()`\n",
      "  mutations_all_protein.insert(current_max+i,\n"
     ]
    },
    {
     "name": "stdout",
     "output_type": "stream",
     "text": [
      "Appending STX4...\n"
     ]
    },
    {
     "name": "stderr",
     "output_type": "stream",
     "text": [
      "/var/folders/kv/l0jzxgbj1kggff_kd35bfzkw0000gn/T/ipykernel_42080/1574832305.py:4: PerformanceWarning: DataFrame is highly fragmented.  This is usually the result of calling `frame.insert` many times, which has poor performance.  Consider joining all columns at once using pd.concat(axis=1) instead. To get a de-fragmented frame, use `newframe = frame.copy()`\n",
      "  mutations_all_protein.insert(current_max+i,\n"
     ]
    },
    {
     "name": "stdout",
     "output_type": "stream",
     "text": [
      "Appending STXBP1...\n"
     ]
    },
    {
     "name": "stderr",
     "output_type": "stream",
     "text": [
      "/var/folders/kv/l0jzxgbj1kggff_kd35bfzkw0000gn/T/ipykernel_42080/1574832305.py:4: PerformanceWarning: DataFrame is highly fragmented.  This is usually the result of calling `frame.insert` many times, which has poor performance.  Consider joining all columns at once using pd.concat(axis=1) instead. To get a de-fragmented frame, use `newframe = frame.copy()`\n",
      "  mutations_all_protein.insert(current_max+i,\n"
     ]
    },
    {
     "name": "stdout",
     "output_type": "stream",
     "text": [
      "Appending STXBP2...\n"
     ]
    },
    {
     "name": "stderr",
     "output_type": "stream",
     "text": [
      "/var/folders/kv/l0jzxgbj1kggff_kd35bfzkw0000gn/T/ipykernel_42080/1574832305.py:4: PerformanceWarning: DataFrame is highly fragmented.  This is usually the result of calling `frame.insert` many times, which has poor performance.  Consider joining all columns at once using pd.concat(axis=1) instead. To get a de-fragmented frame, use `newframe = frame.copy()`\n",
      "  mutations_all_protein.insert(current_max+i,\n"
     ]
    },
    {
     "name": "stdout",
     "output_type": "stream",
     "text": [
      "Appending SUPV3L1...\n"
     ]
    },
    {
     "name": "stderr",
     "output_type": "stream",
     "text": [
      "/var/folders/kv/l0jzxgbj1kggff_kd35bfzkw0000gn/T/ipykernel_42080/1574832305.py:4: PerformanceWarning: DataFrame is highly fragmented.  This is usually the result of calling `frame.insert` many times, which has poor performance.  Consider joining all columns at once using pd.concat(axis=1) instead. To get a de-fragmented frame, use `newframe = frame.copy()`\n",
      "  mutations_all_protein.insert(current_max+i,\n"
     ]
    },
    {
     "name": "stdout",
     "output_type": "stream",
     "text": [
      "Appending SUV39H1...\n"
     ]
    },
    {
     "name": "stderr",
     "output_type": "stream",
     "text": [
      "/var/folders/kv/l0jzxgbj1kggff_kd35bfzkw0000gn/T/ipykernel_42080/1574832305.py:4: PerformanceWarning: DataFrame is highly fragmented.  This is usually the result of calling `frame.insert` many times, which has poor performance.  Consider joining all columns at once using pd.concat(axis=1) instead. To get a de-fragmented frame, use `newframe = frame.copy()`\n",
      "  mutations_all_protein.insert(current_max+i,\n"
     ]
    },
    {
     "name": "stdout",
     "output_type": "stream",
     "text": [
      "Appending SUZ12...\n"
     ]
    },
    {
     "name": "stderr",
     "output_type": "stream",
     "text": [
      "/var/folders/kv/l0jzxgbj1kggff_kd35bfzkw0000gn/T/ipykernel_42080/1574832305.py:4: PerformanceWarning: DataFrame is highly fragmented.  This is usually the result of calling `frame.insert` many times, which has poor performance.  Consider joining all columns at once using pd.concat(axis=1) instead. To get a de-fragmented frame, use `newframe = frame.copy()`\n",
      "  mutations_all_protein.insert(current_max+i,\n"
     ]
    },
    {
     "name": "stdout",
     "output_type": "stream",
     "text": [
      "Appending SYK...\n"
     ]
    },
    {
     "name": "stderr",
     "output_type": "stream",
     "text": [
      "/var/folders/kv/l0jzxgbj1kggff_kd35bfzkw0000gn/T/ipykernel_42080/1574832305.py:4: PerformanceWarning: DataFrame is highly fragmented.  This is usually the result of calling `frame.insert` many times, which has poor performance.  Consider joining all columns at once using pd.concat(axis=1) instead. To get a de-fragmented frame, use `newframe = frame.copy()`\n",
      "  mutations_all_protein.insert(current_max+i,\n"
     ]
    },
    {
     "name": "stdout",
     "output_type": "stream",
     "text": [
      "Appending SYNE2...\n"
     ]
    },
    {
     "name": "stderr",
     "output_type": "stream",
     "text": [
      "/var/folders/kv/l0jzxgbj1kggff_kd35bfzkw0000gn/T/ipykernel_42080/1574832305.py:4: PerformanceWarning: DataFrame is highly fragmented.  This is usually the result of calling `frame.insert` many times, which has poor performance.  Consider joining all columns at once using pd.concat(axis=1) instead. To get a de-fragmented frame, use `newframe = frame.copy()`\n",
      "  mutations_all_protein.insert(current_max+i,\n"
     ]
    },
    {
     "name": "stdout",
     "output_type": "stream",
     "text": [
      "Appending SYNGR3...\n"
     ]
    },
    {
     "name": "stderr",
     "output_type": "stream",
     "text": [
      "/var/folders/kv/l0jzxgbj1kggff_kd35bfzkw0000gn/T/ipykernel_42080/1574832305.py:4: PerformanceWarning: DataFrame is highly fragmented.  This is usually the result of calling `frame.insert` many times, which has poor performance.  Consider joining all columns at once using pd.concat(axis=1) instead. To get a de-fragmented frame, use `newframe = frame.copy()`\n",
      "  mutations_all_protein.insert(current_max+i,\n"
     ]
    },
    {
     "name": "stdout",
     "output_type": "stream",
     "text": [
      "Appending SYPL1...\n"
     ]
    },
    {
     "name": "stderr",
     "output_type": "stream",
     "text": [
      "/var/folders/kv/l0jzxgbj1kggff_kd35bfzkw0000gn/T/ipykernel_42080/1574832305.py:4: PerformanceWarning: DataFrame is highly fragmented.  This is usually the result of calling `frame.insert` many times, which has poor performance.  Consider joining all columns at once using pd.concat(axis=1) instead. To get a de-fragmented frame, use `newframe = frame.copy()`\n",
      "  mutations_all_protein.insert(current_max+i,\n"
     ]
    },
    {
     "name": "stdout",
     "output_type": "stream",
     "text": [
      "Appending TARBP1...\n"
     ]
    },
    {
     "name": "stderr",
     "output_type": "stream",
     "text": [
      "/var/folders/kv/l0jzxgbj1kggff_kd35bfzkw0000gn/T/ipykernel_42080/1574832305.py:4: PerformanceWarning: DataFrame is highly fragmented.  This is usually the result of calling `frame.insert` many times, which has poor performance.  Consider joining all columns at once using pd.concat(axis=1) instead. To get a de-fragmented frame, use `newframe = frame.copy()`\n",
      "  mutations_all_protein.insert(current_max+i,\n"
     ]
    },
    {
     "name": "stdout",
     "output_type": "stream",
     "text": [
      "Appending TATDN2...\n"
     ]
    },
    {
     "name": "stderr",
     "output_type": "stream",
     "text": [
      "/var/folders/kv/l0jzxgbj1kggff_kd35bfzkw0000gn/T/ipykernel_42080/1574832305.py:4: PerformanceWarning: DataFrame is highly fragmented.  This is usually the result of calling `frame.insert` many times, which has poor performance.  Consider joining all columns at once using pd.concat(axis=1) instead. To get a de-fragmented frame, use `newframe = frame.copy()`\n",
      "  mutations_all_protein.insert(current_max+i,\n"
     ]
    },
    {
     "name": "stdout",
     "output_type": "stream",
     "text": [
      "Appending TBC1D31...\n"
     ]
    },
    {
     "name": "stderr",
     "output_type": "stream",
     "text": [
      "/var/folders/kv/l0jzxgbj1kggff_kd35bfzkw0000gn/T/ipykernel_42080/1574832305.py:4: PerformanceWarning: DataFrame is highly fragmented.  This is usually the result of calling `frame.insert` many times, which has poor performance.  Consider joining all columns at once using pd.concat(axis=1) instead. To get a de-fragmented frame, use `newframe = frame.copy()`\n",
      "  mutations_all_protein.insert(current_max+i,\n"
     ]
    },
    {
     "name": "stdout",
     "output_type": "stream",
     "text": [
      "Appending TBC1D9B...\n"
     ]
    },
    {
     "name": "stderr",
     "output_type": "stream",
     "text": [
      "/var/folders/kv/l0jzxgbj1kggff_kd35bfzkw0000gn/T/ipykernel_42080/1574832305.py:4: PerformanceWarning: DataFrame is highly fragmented.  This is usually the result of calling `frame.insert` many times, which has poor performance.  Consider joining all columns at once using pd.concat(axis=1) instead. To get a de-fragmented frame, use `newframe = frame.copy()`\n",
      "  mutations_all_protein.insert(current_max+i,\n"
     ]
    },
    {
     "name": "stdout",
     "output_type": "stream",
     "text": [
      "Appending TBP...\n"
     ]
    },
    {
     "name": "stderr",
     "output_type": "stream",
     "text": [
      "/var/folders/kv/l0jzxgbj1kggff_kd35bfzkw0000gn/T/ipykernel_42080/1574832305.py:4: PerformanceWarning: DataFrame is highly fragmented.  This is usually the result of calling `frame.insert` many times, which has poor performance.  Consider joining all columns at once using pd.concat(axis=1) instead. To get a de-fragmented frame, use `newframe = frame.copy()`\n",
      "  mutations_all_protein.insert(current_max+i,\n"
     ]
    },
    {
     "name": "stdout",
     "output_type": "stream",
     "text": [
      "Appending TBPL1...\n"
     ]
    },
    {
     "name": "stderr",
     "output_type": "stream",
     "text": [
      "/var/folders/kv/l0jzxgbj1kggff_kd35bfzkw0000gn/T/ipykernel_42080/1574832305.py:4: PerformanceWarning: DataFrame is highly fragmented.  This is usually the result of calling `frame.insert` many times, which has poor performance.  Consider joining all columns at once using pd.concat(axis=1) instead. To get a de-fragmented frame, use `newframe = frame.copy()`\n",
      "  mutations_all_protein.insert(current_max+i,\n"
     ]
    },
    {
     "name": "stdout",
     "output_type": "stream",
     "text": [
      "Appending TBX2...\n"
     ]
    },
    {
     "name": "stderr",
     "output_type": "stream",
     "text": [
      "/var/folders/kv/l0jzxgbj1kggff_kd35bfzkw0000gn/T/ipykernel_42080/1574832305.py:4: PerformanceWarning: DataFrame is highly fragmented.  This is usually the result of calling `frame.insert` many times, which has poor performance.  Consider joining all columns at once using pd.concat(axis=1) instead. To get a de-fragmented frame, use `newframe = frame.copy()`\n",
      "  mutations_all_protein.insert(current_max+i,\n"
     ]
    },
    {
     "name": "stdout",
     "output_type": "stream",
     "text": [
      "Appending TBXA2R...\n"
     ]
    },
    {
     "name": "stderr",
     "output_type": "stream",
     "text": [
      "/var/folders/kv/l0jzxgbj1kggff_kd35bfzkw0000gn/T/ipykernel_42080/1574832305.py:4: PerformanceWarning: DataFrame is highly fragmented.  This is usually the result of calling `frame.insert` many times, which has poor performance.  Consider joining all columns at once using pd.concat(axis=1) instead. To get a de-fragmented frame, use `newframe = frame.copy()`\n",
      "  mutations_all_protein.insert(current_max+i,\n"
     ]
    },
    {
     "name": "stdout",
     "output_type": "stream",
     "text": [
      "Appending TCEA2...\n"
     ]
    },
    {
     "name": "stderr",
     "output_type": "stream",
     "text": [
      "/var/folders/kv/l0jzxgbj1kggff_kd35bfzkw0000gn/T/ipykernel_42080/1574832305.py:4: PerformanceWarning: DataFrame is highly fragmented.  This is usually the result of calling `frame.insert` many times, which has poor performance.  Consider joining all columns at once using pd.concat(axis=1) instead. To get a de-fragmented frame, use `newframe = frame.copy()`\n",
      "  mutations_all_protein.insert(current_max+i,\n"
     ]
    },
    {
     "name": "stdout",
     "output_type": "stream",
     "text": [
      "Appending TCEAL4...\n"
     ]
    },
    {
     "name": "stderr",
     "output_type": "stream",
     "text": [
      "/var/folders/kv/l0jzxgbj1kggff_kd35bfzkw0000gn/T/ipykernel_42080/1574832305.py:4: PerformanceWarning: DataFrame is highly fragmented.  This is usually the result of calling `frame.insert` many times, which has poor performance.  Consider joining all columns at once using pd.concat(axis=1) instead. To get a de-fragmented frame, use `newframe = frame.copy()`\n",
      "  mutations_all_protein.insert(current_max+i,\n"
     ]
    },
    {
     "name": "stdout",
     "output_type": "stream",
     "text": [
      "Appending TCERG1...\n"
     ]
    },
    {
     "name": "stderr",
     "output_type": "stream",
     "text": [
      "/var/folders/kv/l0jzxgbj1kggff_kd35bfzkw0000gn/T/ipykernel_42080/1574832305.py:4: PerformanceWarning: DataFrame is highly fragmented.  This is usually the result of calling `frame.insert` many times, which has poor performance.  Consider joining all columns at once using pd.concat(axis=1) instead. To get a de-fragmented frame, use `newframe = frame.copy()`\n",
      "  mutations_all_protein.insert(current_max+i,\n"
     ]
    },
    {
     "name": "stdout",
     "output_type": "stream",
     "text": [
      "Appending TCFL5...\n"
     ]
    },
    {
     "name": "stderr",
     "output_type": "stream",
     "text": [
      "/var/folders/kv/l0jzxgbj1kggff_kd35bfzkw0000gn/T/ipykernel_42080/1574832305.py:4: PerformanceWarning: DataFrame is highly fragmented.  This is usually the result of calling `frame.insert` many times, which has poor performance.  Consider joining all columns at once using pd.concat(axis=1) instead. To get a de-fragmented frame, use `newframe = frame.copy()`\n",
      "  mutations_all_protein.insert(current_max+i,\n"
     ]
    },
    {
     "name": "stdout",
     "output_type": "stream",
     "text": [
      "Appending TCTA...\n"
     ]
    },
    {
     "name": "stderr",
     "output_type": "stream",
     "text": [
      "/var/folders/kv/l0jzxgbj1kggff_kd35bfzkw0000gn/T/ipykernel_42080/1574832305.py:4: PerformanceWarning: DataFrame is highly fragmented.  This is usually the result of calling `frame.insert` many times, which has poor performance.  Consider joining all columns at once using pd.concat(axis=1) instead. To get a de-fragmented frame, use `newframe = frame.copy()`\n",
      "  mutations_all_protein.insert(current_max+i,\n"
     ]
    },
    {
     "name": "stdout",
     "output_type": "stream",
     "text": [
      "Appending TCTN1...\n"
     ]
    },
    {
     "name": "stderr",
     "output_type": "stream",
     "text": [
      "/var/folders/kv/l0jzxgbj1kggff_kd35bfzkw0000gn/T/ipykernel_42080/1574832305.py:4: PerformanceWarning: DataFrame is highly fragmented.  This is usually the result of calling `frame.insert` many times, which has poor performance.  Consider joining all columns at once using pd.concat(axis=1) instead. To get a de-fragmented frame, use `newframe = frame.copy()`\n",
      "  mutations_all_protein.insert(current_max+i,\n"
     ]
    },
    {
     "name": "stdout",
     "output_type": "stream",
     "text": [
      "Appending TERF2IP...\n"
     ]
    },
    {
     "name": "stderr",
     "output_type": "stream",
     "text": [
      "/var/folders/kv/l0jzxgbj1kggff_kd35bfzkw0000gn/T/ipykernel_42080/1574832305.py:4: PerformanceWarning: DataFrame is highly fragmented.  This is usually the result of calling `frame.insert` many times, which has poor performance.  Consider joining all columns at once using pd.concat(axis=1) instead. To get a de-fragmented frame, use `newframe = frame.copy()`\n",
      "  mutations_all_protein.insert(current_max+i,\n"
     ]
    },
    {
     "name": "stdout",
     "output_type": "stream",
     "text": [
      "Appending TERT...\n"
     ]
    },
    {
     "name": "stderr",
     "output_type": "stream",
     "text": [
      "/var/folders/kv/l0jzxgbj1kggff_kd35bfzkw0000gn/T/ipykernel_42080/1574832305.py:4: PerformanceWarning: DataFrame is highly fragmented.  This is usually the result of calling `frame.insert` many times, which has poor performance.  Consider joining all columns at once using pd.concat(axis=1) instead. To get a de-fragmented frame, use `newframe = frame.copy()`\n",
      "  mutations_all_protein.insert(current_max+i,\n"
     ]
    },
    {
     "name": "stdout",
     "output_type": "stream",
     "text": [
      "Appending TES...\n"
     ]
    },
    {
     "name": "stderr",
     "output_type": "stream",
     "text": [
      "/var/folders/kv/l0jzxgbj1kggff_kd35bfzkw0000gn/T/ipykernel_42080/1574832305.py:4: PerformanceWarning: DataFrame is highly fragmented.  This is usually the result of calling `frame.insert` many times, which has poor performance.  Consider joining all columns at once using pd.concat(axis=1) instead. To get a de-fragmented frame, use `newframe = frame.copy()`\n",
      "  mutations_all_protein.insert(current_max+i,\n"
     ]
    },
    {
     "name": "stdout",
     "output_type": "stream",
     "text": [
      "Appending TESK1...\n"
     ]
    },
    {
     "name": "stderr",
     "output_type": "stream",
     "text": [
      "/var/folders/kv/l0jzxgbj1kggff_kd35bfzkw0000gn/T/ipykernel_42080/1574832305.py:4: PerformanceWarning: DataFrame is highly fragmented.  This is usually the result of calling `frame.insert` many times, which has poor performance.  Consider joining all columns at once using pd.concat(axis=1) instead. To get a de-fragmented frame, use `newframe = frame.copy()`\n",
      "  mutations_all_protein.insert(current_max+i,\n"
     ]
    },
    {
     "name": "stdout",
     "output_type": "stream",
     "text": [
      "Appending TEX10...\n"
     ]
    },
    {
     "name": "stderr",
     "output_type": "stream",
     "text": [
      "/var/folders/kv/l0jzxgbj1kggff_kd35bfzkw0000gn/T/ipykernel_42080/1574832305.py:4: PerformanceWarning: DataFrame is highly fragmented.  This is usually the result of calling `frame.insert` many times, which has poor performance.  Consider joining all columns at once using pd.concat(axis=1) instead. To get a de-fragmented frame, use `newframe = frame.copy()`\n",
      "  mutations_all_protein.insert(current_max+i,\n"
     ]
    },
    {
     "name": "stdout",
     "output_type": "stream",
     "text": [
      "Appending TFAP2A...\n"
     ]
    },
    {
     "name": "stderr",
     "output_type": "stream",
     "text": [
      "/var/folders/kv/l0jzxgbj1kggff_kd35bfzkw0000gn/T/ipykernel_42080/1574832305.py:4: PerformanceWarning: DataFrame is highly fragmented.  This is usually the result of calling `frame.insert` many times, which has poor performance.  Consider joining all columns at once using pd.concat(axis=1) instead. To get a de-fragmented frame, use `newframe = frame.copy()`\n",
      "  mutations_all_protein.insert(current_max+i,\n"
     ]
    },
    {
     "name": "stdout",
     "output_type": "stream",
     "text": [
      "Appending TFDP1...\n"
     ]
    },
    {
     "name": "stderr",
     "output_type": "stream",
     "text": [
      "/var/folders/kv/l0jzxgbj1kggff_kd35bfzkw0000gn/T/ipykernel_42080/1574832305.py:4: PerformanceWarning: DataFrame is highly fragmented.  This is usually the result of calling `frame.insert` many times, which has poor performance.  Consider joining all columns at once using pd.concat(axis=1) instead. To get a de-fragmented frame, use `newframe = frame.copy()`\n",
      "  mutations_all_protein.insert(current_max+i,\n"
     ]
    },
    {
     "name": "stdout",
     "output_type": "stream",
     "text": [
      "Appending TGFB3...\n"
     ]
    },
    {
     "name": "stderr",
     "output_type": "stream",
     "text": [
      "/var/folders/kv/l0jzxgbj1kggff_kd35bfzkw0000gn/T/ipykernel_42080/1574832305.py:4: PerformanceWarning: DataFrame is highly fragmented.  This is usually the result of calling `frame.insert` many times, which has poor performance.  Consider joining all columns at once using pd.concat(axis=1) instead. To get a de-fragmented frame, use `newframe = frame.copy()`\n",
      "  mutations_all_protein.insert(current_max+i,\n"
     ]
    },
    {
     "name": "stdout",
     "output_type": "stream",
     "text": [
      "Appending TGFBR2...\n"
     ]
    },
    {
     "name": "stderr",
     "output_type": "stream",
     "text": [
      "/var/folders/kv/l0jzxgbj1kggff_kd35bfzkw0000gn/T/ipykernel_42080/1574832305.py:4: PerformanceWarning: DataFrame is highly fragmented.  This is usually the result of calling `frame.insert` many times, which has poor performance.  Consider joining all columns at once using pd.concat(axis=1) instead. To get a de-fragmented frame, use `newframe = frame.copy()`\n",
      "  mutations_all_protein.insert(current_max+i,\n"
     ]
    },
    {
     "name": "stdout",
     "output_type": "stream",
     "text": [
      "Appending THAP11...\n"
     ]
    },
    {
     "name": "stderr",
     "output_type": "stream",
     "text": [
      "/var/folders/kv/l0jzxgbj1kggff_kd35bfzkw0000gn/T/ipykernel_42080/1574832305.py:4: PerformanceWarning: DataFrame is highly fragmented.  This is usually the result of calling `frame.insert` many times, which has poor performance.  Consider joining all columns at once using pd.concat(axis=1) instead. To get a de-fragmented frame, use `newframe = frame.copy()`\n",
      "  mutations_all_protein.insert(current_max+i,\n"
     ]
    },
    {
     "name": "stdout",
     "output_type": "stream",
     "text": [
      "Appending TIAM1...\n"
     ]
    },
    {
     "name": "stderr",
     "output_type": "stream",
     "text": [
      "/var/folders/kv/l0jzxgbj1kggff_kd35bfzkw0000gn/T/ipykernel_42080/1574832305.py:4: PerformanceWarning: DataFrame is highly fragmented.  This is usually the result of calling `frame.insert` many times, which has poor performance.  Consider joining all columns at once using pd.concat(axis=1) instead. To get a de-fragmented frame, use `newframe = frame.copy()`\n",
      "  mutations_all_protein.insert(current_max+i,\n"
     ]
    },
    {
     "name": "stdout",
     "output_type": "stream",
     "text": [
      "Appending TICAM1...\n"
     ]
    },
    {
     "name": "stderr",
     "output_type": "stream",
     "text": [
      "/var/folders/kv/l0jzxgbj1kggff_kd35bfzkw0000gn/T/ipykernel_42080/1574832305.py:4: PerformanceWarning: DataFrame is highly fragmented.  This is usually the result of calling `frame.insert` many times, which has poor performance.  Consider joining all columns at once using pd.concat(axis=1) instead. To get a de-fragmented frame, use `newframe = frame.copy()`\n",
      "  mutations_all_protein.insert(current_max+i,\n"
     ]
    },
    {
     "name": "stdout",
     "output_type": "stream",
     "text": [
      "Appending TIMELESS...\n"
     ]
    },
    {
     "name": "stderr",
     "output_type": "stream",
     "text": [
      "/var/folders/kv/l0jzxgbj1kggff_kd35bfzkw0000gn/T/ipykernel_42080/1574832305.py:4: PerformanceWarning: DataFrame is highly fragmented.  This is usually the result of calling `frame.insert` many times, which has poor performance.  Consider joining all columns at once using pd.concat(axis=1) instead. To get a de-fragmented frame, use `newframe = frame.copy()`\n",
      "  mutations_all_protein.insert(current_max+i,\n"
     ]
    },
    {
     "name": "stdout",
     "output_type": "stream",
     "text": [
      "Appending TIMM17B...\n"
     ]
    },
    {
     "name": "stderr",
     "output_type": "stream",
     "text": [
      "/var/folders/kv/l0jzxgbj1kggff_kd35bfzkw0000gn/T/ipykernel_42080/1574832305.py:4: PerformanceWarning: DataFrame is highly fragmented.  This is usually the result of calling `frame.insert` many times, which has poor performance.  Consider joining all columns at once using pd.concat(axis=1) instead. To get a de-fragmented frame, use `newframe = frame.copy()`\n",
      "  mutations_all_protein.insert(current_max+i,\n"
     ]
    },
    {
     "name": "stdout",
     "output_type": "stream",
     "text": [
      "Appending TIMM22...\n"
     ]
    },
    {
     "name": "stderr",
     "output_type": "stream",
     "text": [
      "/var/folders/kv/l0jzxgbj1kggff_kd35bfzkw0000gn/T/ipykernel_42080/1574832305.py:4: PerformanceWarning: DataFrame is highly fragmented.  This is usually the result of calling `frame.insert` many times, which has poor performance.  Consider joining all columns at once using pd.concat(axis=1) instead. To get a de-fragmented frame, use `newframe = frame.copy()`\n",
      "  mutations_all_protein.insert(current_max+i,\n"
     ]
    },
    {
     "name": "stdout",
     "output_type": "stream",
     "text": [
      "Appending TIMM9...\n"
     ]
    },
    {
     "name": "stderr",
     "output_type": "stream",
     "text": [
      "/var/folders/kv/l0jzxgbj1kggff_kd35bfzkw0000gn/T/ipykernel_42080/1574832305.py:4: PerformanceWarning: DataFrame is highly fragmented.  This is usually the result of calling `frame.insert` many times, which has poor performance.  Consider joining all columns at once using pd.concat(axis=1) instead. To get a de-fragmented frame, use `newframe = frame.copy()`\n",
      "  mutations_all_protein.insert(current_max+i,\n"
     ]
    },
    {
     "name": "stdout",
     "output_type": "stream",
     "text": [
      "Appending TIMP2...\n"
     ]
    },
    {
     "name": "stderr",
     "output_type": "stream",
     "text": [
      "/var/folders/kv/l0jzxgbj1kggff_kd35bfzkw0000gn/T/ipykernel_42080/1574832305.py:4: PerformanceWarning: DataFrame is highly fragmented.  This is usually the result of calling `frame.insert` many times, which has poor performance.  Consider joining all columns at once using pd.concat(axis=1) instead. To get a de-fragmented frame, use `newframe = frame.copy()`\n",
      "  mutations_all_protein.insert(current_max+i,\n"
     ]
    },
    {
     "name": "stdout",
     "output_type": "stream",
     "text": [
      "Appending TIPARP...\n"
     ]
    },
    {
     "name": "stderr",
     "output_type": "stream",
     "text": [
      "/var/folders/kv/l0jzxgbj1kggff_kd35bfzkw0000gn/T/ipykernel_42080/1574832305.py:4: PerformanceWarning: DataFrame is highly fragmented.  This is usually the result of calling `frame.insert` many times, which has poor performance.  Consider joining all columns at once using pd.concat(axis=1) instead. To get a de-fragmented frame, use `newframe = frame.copy()`\n",
      "  mutations_all_protein.insert(current_max+i,\n"
     ]
    },
    {
     "name": "stdout",
     "output_type": "stream",
     "text": [
      "Appending TJP1...\n"
     ]
    },
    {
     "name": "stderr",
     "output_type": "stream",
     "text": [
      "/var/folders/kv/l0jzxgbj1kggff_kd35bfzkw0000gn/T/ipykernel_42080/1574832305.py:4: PerformanceWarning: DataFrame is highly fragmented.  This is usually the result of calling `frame.insert` many times, which has poor performance.  Consider joining all columns at once using pd.concat(axis=1) instead. To get a de-fragmented frame, use `newframe = frame.copy()`\n",
      "  mutations_all_protein.insert(current_max+i,\n"
     ]
    },
    {
     "name": "stdout",
     "output_type": "stream",
     "text": [
      "Appending TLE1...\n"
     ]
    },
    {
     "name": "stderr",
     "output_type": "stream",
     "text": [
      "/var/folders/kv/l0jzxgbj1kggff_kd35bfzkw0000gn/T/ipykernel_42080/1574832305.py:4: PerformanceWarning: DataFrame is highly fragmented.  This is usually the result of calling `frame.insert` many times, which has poor performance.  Consider joining all columns at once using pd.concat(axis=1) instead. To get a de-fragmented frame, use `newframe = frame.copy()`\n",
      "  mutations_all_protein.insert(current_max+i,\n"
     ]
    },
    {
     "name": "stdout",
     "output_type": "stream",
     "text": [
      "Appending TLK2...\n"
     ]
    },
    {
     "name": "stderr",
     "output_type": "stream",
     "text": [
      "/var/folders/kv/l0jzxgbj1kggff_kd35bfzkw0000gn/T/ipykernel_42080/1574832305.py:4: PerformanceWarning: DataFrame is highly fragmented.  This is usually the result of calling `frame.insert` many times, which has poor performance.  Consider joining all columns at once using pd.concat(axis=1) instead. To get a de-fragmented frame, use `newframe = frame.copy()`\n",
      "  mutations_all_protein.insert(current_max+i,\n"
     ]
    },
    {
     "name": "stdout",
     "output_type": "stream",
     "text": [
      "Appending TLR4...\n"
     ]
    },
    {
     "name": "stderr",
     "output_type": "stream",
     "text": [
      "/var/folders/kv/l0jzxgbj1kggff_kd35bfzkw0000gn/T/ipykernel_42080/1574832305.py:4: PerformanceWarning: DataFrame is highly fragmented.  This is usually the result of calling `frame.insert` many times, which has poor performance.  Consider joining all columns at once using pd.concat(axis=1) instead. To get a de-fragmented frame, use `newframe = frame.copy()`\n",
      "  mutations_all_protein.insert(current_max+i,\n"
     ]
    },
    {
     "name": "stdout",
     "output_type": "stream",
     "text": [
      "Appending TM9SF2...\n"
     ]
    },
    {
     "name": "stderr",
     "output_type": "stream",
     "text": [
      "/var/folders/kv/l0jzxgbj1kggff_kd35bfzkw0000gn/T/ipykernel_42080/1574832305.py:4: PerformanceWarning: DataFrame is highly fragmented.  This is usually the result of calling `frame.insert` many times, which has poor performance.  Consider joining all columns at once using pd.concat(axis=1) instead. To get a de-fragmented frame, use `newframe = frame.copy()`\n",
      "  mutations_all_protein.insert(current_max+i,\n"
     ]
    },
    {
     "name": "stdout",
     "output_type": "stream",
     "text": [
      "Appending TM9SF3...\n"
     ]
    },
    {
     "name": "stderr",
     "output_type": "stream",
     "text": [
      "/var/folders/kv/l0jzxgbj1kggff_kd35bfzkw0000gn/T/ipykernel_42080/1574832305.py:4: PerformanceWarning: DataFrame is highly fragmented.  This is usually the result of calling `frame.insert` many times, which has poor performance.  Consider joining all columns at once using pd.concat(axis=1) instead. To get a de-fragmented frame, use `newframe = frame.copy()`\n",
      "  mutations_all_protein.insert(current_max+i,\n"
     ]
    },
    {
     "name": "stdout",
     "output_type": "stream",
     "text": [
      "Appending TMCO1...\n"
     ]
    },
    {
     "name": "stderr",
     "output_type": "stream",
     "text": [
      "/var/folders/kv/l0jzxgbj1kggff_kd35bfzkw0000gn/T/ipykernel_42080/1574832305.py:4: PerformanceWarning: DataFrame is highly fragmented.  This is usually the result of calling `frame.insert` many times, which has poor performance.  Consider joining all columns at once using pd.concat(axis=1) instead. To get a de-fragmented frame, use `newframe = frame.copy()`\n",
      "  mutations_all_protein.insert(current_max+i,\n"
     ]
    },
    {
     "name": "stdout",
     "output_type": "stream",
     "text": [
      "Appending TMED10...\n"
     ]
    },
    {
     "name": "stderr",
     "output_type": "stream",
     "text": [
      "/var/folders/kv/l0jzxgbj1kggff_kd35bfzkw0000gn/T/ipykernel_42080/1574832305.py:4: PerformanceWarning: DataFrame is highly fragmented.  This is usually the result of calling `frame.insert` many times, which has poor performance.  Consider joining all columns at once using pd.concat(axis=1) instead. To get a de-fragmented frame, use `newframe = frame.copy()`\n",
      "  mutations_all_protein.insert(current_max+i,\n"
     ]
    },
    {
     "name": "stdout",
     "output_type": "stream",
     "text": [
      "Appending TMEM109...\n"
     ]
    },
    {
     "name": "stderr",
     "output_type": "stream",
     "text": [
      "/var/folders/kv/l0jzxgbj1kggff_kd35bfzkw0000gn/T/ipykernel_42080/1574832305.py:4: PerformanceWarning: DataFrame is highly fragmented.  This is usually the result of calling `frame.insert` many times, which has poor performance.  Consider joining all columns at once using pd.concat(axis=1) instead. To get a de-fragmented frame, use `newframe = frame.copy()`\n",
      "  mutations_all_protein.insert(current_max+i,\n"
     ]
    },
    {
     "name": "stdout",
     "output_type": "stream",
     "text": [
      "Appending TMEM50A...\n"
     ]
    },
    {
     "name": "stderr",
     "output_type": "stream",
     "text": [
      "/var/folders/kv/l0jzxgbj1kggff_kd35bfzkw0000gn/T/ipykernel_42080/1574832305.py:4: PerformanceWarning: DataFrame is highly fragmented.  This is usually the result of calling `frame.insert` many times, which has poor performance.  Consider joining all columns at once using pd.concat(axis=1) instead. To get a de-fragmented frame, use `newframe = frame.copy()`\n",
      "  mutations_all_protein.insert(current_max+i,\n"
     ]
    },
    {
     "name": "stdout",
     "output_type": "stream",
     "text": [
      "Appending TMEM97...\n"
     ]
    },
    {
     "name": "stderr",
     "output_type": "stream",
     "text": [
      "/var/folders/kv/l0jzxgbj1kggff_kd35bfzkw0000gn/T/ipykernel_42080/1574832305.py:4: PerformanceWarning: DataFrame is highly fragmented.  This is usually the result of calling `frame.insert` many times, which has poor performance.  Consider joining all columns at once using pd.concat(axis=1) instead. To get a de-fragmented frame, use `newframe = frame.copy()`\n",
      "  mutations_all_protein.insert(current_max+i,\n"
     ]
    },
    {
     "name": "stdout",
     "output_type": "stream",
     "text": [
      "Appending TNFRSF21...\n"
     ]
    },
    {
     "name": "stderr",
     "output_type": "stream",
     "text": [
      "/var/folders/kv/l0jzxgbj1kggff_kd35bfzkw0000gn/T/ipykernel_42080/1574832305.py:4: PerformanceWarning: DataFrame is highly fragmented.  This is usually the result of calling `frame.insert` many times, which has poor performance.  Consider joining all columns at once using pd.concat(axis=1) instead. To get a de-fragmented frame, use `newframe = frame.copy()`\n",
      "  mutations_all_protein.insert(current_max+i,\n"
     ]
    },
    {
     "name": "stdout",
     "output_type": "stream",
     "text": [
      "Appending TNIP1...\n"
     ]
    },
    {
     "name": "stderr",
     "output_type": "stream",
     "text": [
      "/var/folders/kv/l0jzxgbj1kggff_kd35bfzkw0000gn/T/ipykernel_42080/1574832305.py:4: PerformanceWarning: DataFrame is highly fragmented.  This is usually the result of calling `frame.insert` many times, which has poor performance.  Consider joining all columns at once using pd.concat(axis=1) instead. To get a de-fragmented frame, use `newframe = frame.copy()`\n",
      "  mutations_all_protein.insert(current_max+i,\n"
     ]
    },
    {
     "name": "stdout",
     "output_type": "stream",
     "text": [
      "Appending TOMM34...\n"
     ]
    },
    {
     "name": "stderr",
     "output_type": "stream",
     "text": [
      "/var/folders/kv/l0jzxgbj1kggff_kd35bfzkw0000gn/T/ipykernel_42080/1574832305.py:4: PerformanceWarning: DataFrame is highly fragmented.  This is usually the result of calling `frame.insert` many times, which has poor performance.  Consider joining all columns at once using pd.concat(axis=1) instead. To get a de-fragmented frame, use `newframe = frame.copy()`\n",
      "  mutations_all_protein.insert(current_max+i,\n"
     ]
    },
    {
     "name": "stdout",
     "output_type": "stream",
     "text": [
      "Appending TOMM70...\n"
     ]
    },
    {
     "name": "stderr",
     "output_type": "stream",
     "text": [
      "/var/folders/kv/l0jzxgbj1kggff_kd35bfzkw0000gn/T/ipykernel_42080/1574832305.py:4: PerformanceWarning: DataFrame is highly fragmented.  This is usually the result of calling `frame.insert` many times, which has poor performance.  Consider joining all columns at once using pd.concat(axis=1) instead. To get a de-fragmented frame, use `newframe = frame.copy()`\n",
      "  mutations_all_protein.insert(current_max+i,\n"
     ]
    },
    {
     "name": "stdout",
     "output_type": "stream",
     "text": [
      "Appending TOP2A...\n"
     ]
    },
    {
     "name": "stderr",
     "output_type": "stream",
     "text": [
      "/var/folders/kv/l0jzxgbj1kggff_kd35bfzkw0000gn/T/ipykernel_42080/1574832305.py:4: PerformanceWarning: DataFrame is highly fragmented.  This is usually the result of calling `frame.insert` many times, which has poor performance.  Consider joining all columns at once using pd.concat(axis=1) instead. To get a de-fragmented frame, use `newframe = frame.copy()`\n",
      "  mutations_all_protein.insert(current_max+i,\n"
     ]
    },
    {
     "name": "stdout",
     "output_type": "stream",
     "text": [
      "Appending TOPBP1...\n"
     ]
    },
    {
     "name": "stderr",
     "output_type": "stream",
     "text": [
      "/var/folders/kv/l0jzxgbj1kggff_kd35bfzkw0000gn/T/ipykernel_42080/1574832305.py:4: PerformanceWarning: DataFrame is highly fragmented.  This is usually the result of calling `frame.insert` many times, which has poor performance.  Consider joining all columns at once using pd.concat(axis=1) instead. To get a de-fragmented frame, use `newframe = frame.copy()`\n",
      "  mutations_all_protein.insert(current_max+i,\n"
     ]
    },
    {
     "name": "stdout",
     "output_type": "stream",
     "text": [
      "Appending TOR1A...\n"
     ]
    },
    {
     "name": "stderr",
     "output_type": "stream",
     "text": [
      "/var/folders/kv/l0jzxgbj1kggff_kd35bfzkw0000gn/T/ipykernel_42080/1574832305.py:4: PerformanceWarning: DataFrame is highly fragmented.  This is usually the result of calling `frame.insert` many times, which has poor performance.  Consider joining all columns at once using pd.concat(axis=1) instead. To get a de-fragmented frame, use `newframe = frame.copy()`\n",
      "  mutations_all_protein.insert(current_max+i,\n"
     ]
    },
    {
     "name": "stdout",
     "output_type": "stream",
     "text": [
      "Appending TP53...\n"
     ]
    },
    {
     "name": "stderr",
     "output_type": "stream",
     "text": [
      "/var/folders/kv/l0jzxgbj1kggff_kd35bfzkw0000gn/T/ipykernel_42080/1574832305.py:4: PerformanceWarning: DataFrame is highly fragmented.  This is usually the result of calling `frame.insert` many times, which has poor performance.  Consider joining all columns at once using pd.concat(axis=1) instead. To get a de-fragmented frame, use `newframe = frame.copy()`\n",
      "  mutations_all_protein.insert(current_max+i,\n"
     ]
    },
    {
     "name": "stdout",
     "output_type": "stream",
     "text": [
      "Appending TP53BP1...\n"
     ]
    },
    {
     "name": "stderr",
     "output_type": "stream",
     "text": [
      "/var/folders/kv/l0jzxgbj1kggff_kd35bfzkw0000gn/T/ipykernel_42080/1574832305.py:4: PerformanceWarning: DataFrame is highly fragmented.  This is usually the result of calling `frame.insert` many times, which has poor performance.  Consider joining all columns at once using pd.concat(axis=1) instead. To get a de-fragmented frame, use `newframe = frame.copy()`\n",
      "  mutations_all_protein.insert(current_max+i,\n"
     ]
    },
    {
     "name": "stdout",
     "output_type": "stream",
     "text": [
      "Appending TP53BP2...\n"
     ]
    },
    {
     "name": "stderr",
     "output_type": "stream",
     "text": [
      "/var/folders/kv/l0jzxgbj1kggff_kd35bfzkw0000gn/T/ipykernel_42080/1574832305.py:4: PerformanceWarning: DataFrame is highly fragmented.  This is usually the result of calling `frame.insert` many times, which has poor performance.  Consider joining all columns at once using pd.concat(axis=1) instead. To get a de-fragmented frame, use `newframe = frame.copy()`\n",
      "  mutations_all_protein.insert(current_max+i,\n"
     ]
    },
    {
     "name": "stdout",
     "output_type": "stream",
     "text": [
      "Appending TPD52L2...\n"
     ]
    },
    {
     "name": "stderr",
     "output_type": "stream",
     "text": [
      "/var/folders/kv/l0jzxgbj1kggff_kd35bfzkw0000gn/T/ipykernel_42080/1574832305.py:4: PerformanceWarning: DataFrame is highly fragmented.  This is usually the result of calling `frame.insert` many times, which has poor performance.  Consider joining all columns at once using pd.concat(axis=1) instead. To get a de-fragmented frame, use `newframe = frame.copy()`\n",
      "  mutations_all_protein.insert(current_max+i,\n"
     ]
    },
    {
     "name": "stdout",
     "output_type": "stream",
     "text": [
      "Appending TPM1...\n"
     ]
    },
    {
     "name": "stderr",
     "output_type": "stream",
     "text": [
      "/var/folders/kv/l0jzxgbj1kggff_kd35bfzkw0000gn/T/ipykernel_42080/1574832305.py:4: PerformanceWarning: DataFrame is highly fragmented.  This is usually the result of calling `frame.insert` many times, which has poor performance.  Consider joining all columns at once using pd.concat(axis=1) instead. To get a de-fragmented frame, use `newframe = frame.copy()`\n",
      "  mutations_all_protein.insert(current_max+i,\n"
     ]
    },
    {
     "name": "stdout",
     "output_type": "stream",
     "text": [
      "Appending TRAK2...\n"
     ]
    },
    {
     "name": "stderr",
     "output_type": "stream",
     "text": [
      "/var/folders/kv/l0jzxgbj1kggff_kd35bfzkw0000gn/T/ipykernel_42080/1574832305.py:4: PerformanceWarning: DataFrame is highly fragmented.  This is usually the result of calling `frame.insert` many times, which has poor performance.  Consider joining all columns at once using pd.concat(axis=1) instead. To get a de-fragmented frame, use `newframe = frame.copy()`\n",
      "  mutations_all_protein.insert(current_max+i,\n"
     ]
    },
    {
     "name": "stdout",
     "output_type": "stream",
     "text": [
      "Appending TRAM2...\n"
     ]
    },
    {
     "name": "stderr",
     "output_type": "stream",
     "text": [
      "/var/folders/kv/l0jzxgbj1kggff_kd35bfzkw0000gn/T/ipykernel_42080/1574832305.py:4: PerformanceWarning: DataFrame is highly fragmented.  This is usually the result of calling `frame.insert` many times, which has poor performance.  Consider joining all columns at once using pd.concat(axis=1) instead. To get a de-fragmented frame, use `newframe = frame.copy()`\n",
      "  mutations_all_protein.insert(current_max+i,\n"
     ]
    },
    {
     "name": "stdout",
     "output_type": "stream",
     "text": [
      "Appending TRAP1...\n"
     ]
    },
    {
     "name": "stderr",
     "output_type": "stream",
     "text": [
      "/var/folders/kv/l0jzxgbj1kggff_kd35bfzkw0000gn/T/ipykernel_42080/1574832305.py:4: PerformanceWarning: DataFrame is highly fragmented.  This is usually the result of calling `frame.insert` many times, which has poor performance.  Consider joining all columns at once using pd.concat(axis=1) instead. To get a de-fragmented frame, use `newframe = frame.copy()`\n",
      "  mutations_all_protein.insert(current_max+i,\n"
     ]
    },
    {
     "name": "stdout",
     "output_type": "stream",
     "text": [
      "Appending TRAPPC3...\n"
     ]
    },
    {
     "name": "stderr",
     "output_type": "stream",
     "text": [
      "/var/folders/kv/l0jzxgbj1kggff_kd35bfzkw0000gn/T/ipykernel_42080/1574832305.py:4: PerformanceWarning: DataFrame is highly fragmented.  This is usually the result of calling `frame.insert` many times, which has poor performance.  Consider joining all columns at once using pd.concat(axis=1) instead. To get a de-fragmented frame, use `newframe = frame.copy()`\n",
      "  mutations_all_protein.insert(current_max+i,\n"
     ]
    },
    {
     "name": "stdout",
     "output_type": "stream",
     "text": [
      "Appending TRAPPC6A...\n"
     ]
    },
    {
     "name": "stderr",
     "output_type": "stream",
     "text": [
      "/var/folders/kv/l0jzxgbj1kggff_kd35bfzkw0000gn/T/ipykernel_42080/1574832305.py:4: PerformanceWarning: DataFrame is highly fragmented.  This is usually the result of calling `frame.insert` many times, which has poor performance.  Consider joining all columns at once using pd.concat(axis=1) instead. To get a de-fragmented frame, use `newframe = frame.copy()`\n",
      "  mutations_all_protein.insert(current_max+i,\n"
     ]
    },
    {
     "name": "stdout",
     "output_type": "stream",
     "text": [
      "Appending TRIB1...\n"
     ]
    },
    {
     "name": "stderr",
     "output_type": "stream",
     "text": [
      "/var/folders/kv/l0jzxgbj1kggff_kd35bfzkw0000gn/T/ipykernel_42080/1574832305.py:4: PerformanceWarning: DataFrame is highly fragmented.  This is usually the result of calling `frame.insert` many times, which has poor performance.  Consider joining all columns at once using pd.concat(axis=1) instead. To get a de-fragmented frame, use `newframe = frame.copy()`\n",
      "  mutations_all_protein.insert(current_max+i,\n"
     ]
    },
    {
     "name": "stdout",
     "output_type": "stream",
     "text": [
      "Appending TRIB3...\n"
     ]
    },
    {
     "name": "stderr",
     "output_type": "stream",
     "text": [
      "/var/folders/kv/l0jzxgbj1kggff_kd35bfzkw0000gn/T/ipykernel_42080/1574832305.py:4: PerformanceWarning: DataFrame is highly fragmented.  This is usually the result of calling `frame.insert` many times, which has poor performance.  Consider joining all columns at once using pd.concat(axis=1) instead. To get a de-fragmented frame, use `newframe = frame.copy()`\n",
      "  mutations_all_protein.insert(current_max+i,\n"
     ]
    },
    {
     "name": "stdout",
     "output_type": "stream",
     "text": [
      "Appending TRIM13...\n"
     ]
    },
    {
     "name": "stderr",
     "output_type": "stream",
     "text": [
      "/var/folders/kv/l0jzxgbj1kggff_kd35bfzkw0000gn/T/ipykernel_42080/1574832305.py:4: PerformanceWarning: DataFrame is highly fragmented.  This is usually the result of calling `frame.insert` many times, which has poor performance.  Consider joining all columns at once using pd.concat(axis=1) instead. To get a de-fragmented frame, use `newframe = frame.copy()`\n",
      "  mutations_all_protein.insert(current_max+i,\n"
     ]
    },
    {
     "name": "stdout",
     "output_type": "stream",
     "text": [
      "Appending TRIM2...\n"
     ]
    },
    {
     "name": "stderr",
     "output_type": "stream",
     "text": [
      "/var/folders/kv/l0jzxgbj1kggff_kd35bfzkw0000gn/T/ipykernel_42080/1574832305.py:4: PerformanceWarning: DataFrame is highly fragmented.  This is usually the result of calling `frame.insert` many times, which has poor performance.  Consider joining all columns at once using pd.concat(axis=1) instead. To get a de-fragmented frame, use `newframe = frame.copy()`\n",
      "  mutations_all_protein.insert(current_max+i,\n"
     ]
    },
    {
     "name": "stdout",
     "output_type": "stream",
     "text": [
      "Appending TSC22D3...\n"
     ]
    },
    {
     "name": "stderr",
     "output_type": "stream",
     "text": [
      "/var/folders/kv/l0jzxgbj1kggff_kd35bfzkw0000gn/T/ipykernel_42080/1574832305.py:4: PerformanceWarning: DataFrame is highly fragmented.  This is usually the result of calling `frame.insert` many times, which has poor performance.  Consider joining all columns at once using pd.concat(axis=1) instead. To get a de-fragmented frame, use `newframe = frame.copy()`\n",
      "  mutations_all_protein.insert(current_max+i,\n"
     ]
    },
    {
     "name": "stdout",
     "output_type": "stream",
     "text": [
      "Appending TSEN2...\n"
     ]
    },
    {
     "name": "stderr",
     "output_type": "stream",
     "text": [
      "/var/folders/kv/l0jzxgbj1kggff_kd35bfzkw0000gn/T/ipykernel_42080/1574832305.py:4: PerformanceWarning: DataFrame is highly fragmented.  This is usually the result of calling `frame.insert` many times, which has poor performance.  Consider joining all columns at once using pd.concat(axis=1) instead. To get a de-fragmented frame, use `newframe = frame.copy()`\n",
      "  mutations_all_protein.insert(current_max+i,\n"
     ]
    },
    {
     "name": "stdout",
     "output_type": "stream",
     "text": [
      "Appending TSKU...\n"
     ]
    },
    {
     "name": "stderr",
     "output_type": "stream",
     "text": [
      "/var/folders/kv/l0jzxgbj1kggff_kd35bfzkw0000gn/T/ipykernel_42080/1574832305.py:4: PerformanceWarning: DataFrame is highly fragmented.  This is usually the result of calling `frame.insert` many times, which has poor performance.  Consider joining all columns at once using pd.concat(axis=1) instead. To get a de-fragmented frame, use `newframe = frame.copy()`\n",
      "  mutations_all_protein.insert(current_max+i,\n"
     ]
    },
    {
     "name": "stdout",
     "output_type": "stream",
     "text": [
      "Appending TSPAN3...\n"
     ]
    },
    {
     "name": "stderr",
     "output_type": "stream",
     "text": [
      "/var/folders/kv/l0jzxgbj1kggff_kd35bfzkw0000gn/T/ipykernel_42080/1574832305.py:4: PerformanceWarning: DataFrame is highly fragmented.  This is usually the result of calling `frame.insert` many times, which has poor performance.  Consider joining all columns at once using pd.concat(axis=1) instead. To get a de-fragmented frame, use `newframe = frame.copy()`\n",
      "  mutations_all_protein.insert(current_max+i,\n"
     ]
    },
    {
     "name": "stdout",
     "output_type": "stream",
     "text": [
      "Appending TSPAN4...\n"
     ]
    },
    {
     "name": "stderr",
     "output_type": "stream",
     "text": [
      "/var/folders/kv/l0jzxgbj1kggff_kd35bfzkw0000gn/T/ipykernel_42080/1574832305.py:4: PerformanceWarning: DataFrame is highly fragmented.  This is usually the result of calling `frame.insert` many times, which has poor performance.  Consider joining all columns at once using pd.concat(axis=1) instead. To get a de-fragmented frame, use `newframe = frame.copy()`\n",
      "  mutations_all_protein.insert(current_max+i,\n"
     ]
    },
    {
     "name": "stdout",
     "output_type": "stream",
     "text": [
      "Appending TSPAN6...\n"
     ]
    },
    {
     "name": "stderr",
     "output_type": "stream",
     "text": [
      "/var/folders/kv/l0jzxgbj1kggff_kd35bfzkw0000gn/T/ipykernel_42080/1574832305.py:4: PerformanceWarning: DataFrame is highly fragmented.  This is usually the result of calling `frame.insert` many times, which has poor performance.  Consider joining all columns at once using pd.concat(axis=1) instead. To get a de-fragmented frame, use `newframe = frame.copy()`\n",
      "  mutations_all_protein.insert(current_max+i,\n"
     ]
    },
    {
     "name": "stdout",
     "output_type": "stream",
     "text": [
      "Appending TUBB6...\n"
     ]
    },
    {
     "name": "stderr",
     "output_type": "stream",
     "text": [
      "/var/folders/kv/l0jzxgbj1kggff_kd35bfzkw0000gn/T/ipykernel_42080/1574832305.py:4: PerformanceWarning: DataFrame is highly fragmented.  This is usually the result of calling `frame.insert` many times, which has poor performance.  Consider joining all columns at once using pd.concat(axis=1) instead. To get a de-fragmented frame, use `newframe = frame.copy()`\n",
      "  mutations_all_protein.insert(current_max+i,\n"
     ]
    },
    {
     "name": "stdout",
     "output_type": "stream",
     "text": [
      "Appending TWF2...\n"
     ]
    },
    {
     "name": "stderr",
     "output_type": "stream",
     "text": [
      "/var/folders/kv/l0jzxgbj1kggff_kd35bfzkw0000gn/T/ipykernel_42080/1574832305.py:4: PerformanceWarning: DataFrame is highly fragmented.  This is usually the result of calling `frame.insert` many times, which has poor performance.  Consider joining all columns at once using pd.concat(axis=1) instead. To get a de-fragmented frame, use `newframe = frame.copy()`\n",
      "  mutations_all_protein.insert(current_max+i,\n"
     ]
    },
    {
     "name": "stdout",
     "output_type": "stream",
     "text": [
      "Appending TXLNA...\n"
     ]
    },
    {
     "name": "stderr",
     "output_type": "stream",
     "text": [
      "/var/folders/kv/l0jzxgbj1kggff_kd35bfzkw0000gn/T/ipykernel_42080/1574832305.py:4: PerformanceWarning: DataFrame is highly fragmented.  This is usually the result of calling `frame.insert` many times, which has poor performance.  Consider joining all columns at once using pd.concat(axis=1) instead. To get a de-fragmented frame, use `newframe = frame.copy()`\n",
      "  mutations_all_protein.insert(current_max+i,\n"
     ]
    },
    {
     "name": "stdout",
     "output_type": "stream",
     "text": [
      "Appending TXNDC9...\n"
     ]
    },
    {
     "name": "stderr",
     "output_type": "stream",
     "text": [
      "/var/folders/kv/l0jzxgbj1kggff_kd35bfzkw0000gn/T/ipykernel_42080/1574832305.py:4: PerformanceWarning: DataFrame is highly fragmented.  This is usually the result of calling `frame.insert` many times, which has poor performance.  Consider joining all columns at once using pd.concat(axis=1) instead. To get a de-fragmented frame, use `newframe = frame.copy()`\n",
      "  mutations_all_protein.insert(current_max+i,\n"
     ]
    },
    {
     "name": "stdout",
     "output_type": "stream",
     "text": [
      "Appending TXNL4B...\n"
     ]
    },
    {
     "name": "stderr",
     "output_type": "stream",
     "text": [
      "/var/folders/kv/l0jzxgbj1kggff_kd35bfzkw0000gn/T/ipykernel_42080/1574832305.py:4: PerformanceWarning: DataFrame is highly fragmented.  This is usually the result of calling `frame.insert` many times, which has poor performance.  Consider joining all columns at once using pd.concat(axis=1) instead. To get a de-fragmented frame, use `newframe = frame.copy()`\n",
      "  mutations_all_protein.insert(current_max+i,\n"
     ]
    },
    {
     "name": "stdout",
     "output_type": "stream",
     "text": [
      "Appending TXNRD1...\n"
     ]
    },
    {
     "name": "stderr",
     "output_type": "stream",
     "text": [
      "/var/folders/kv/l0jzxgbj1kggff_kd35bfzkw0000gn/T/ipykernel_42080/1574832305.py:4: PerformanceWarning: DataFrame is highly fragmented.  This is usually the result of calling `frame.insert` many times, which has poor performance.  Consider joining all columns at once using pd.concat(axis=1) instead. To get a de-fragmented frame, use `newframe = frame.copy()`\n",
      "  mutations_all_protein.insert(current_max+i,\n"
     ]
    },
    {
     "name": "stdout",
     "output_type": "stream",
     "text": [
      "Appending UBE2A...\n"
     ]
    },
    {
     "name": "stderr",
     "output_type": "stream",
     "text": [
      "/var/folders/kv/l0jzxgbj1kggff_kd35bfzkw0000gn/T/ipykernel_42080/1574832305.py:4: PerformanceWarning: DataFrame is highly fragmented.  This is usually the result of calling `frame.insert` many times, which has poor performance.  Consider joining all columns at once using pd.concat(axis=1) instead. To get a de-fragmented frame, use `newframe = frame.copy()`\n",
      "  mutations_all_protein.insert(current_max+i,\n"
     ]
    },
    {
     "name": "stdout",
     "output_type": "stream",
     "text": [
      "Appending UBE2C...\n"
     ]
    },
    {
     "name": "stderr",
     "output_type": "stream",
     "text": [
      "/var/folders/kv/l0jzxgbj1kggff_kd35bfzkw0000gn/T/ipykernel_42080/1574832305.py:4: PerformanceWarning: DataFrame is highly fragmented.  This is usually the result of calling `frame.insert` many times, which has poor performance.  Consider joining all columns at once using pd.concat(axis=1) instead. To get a de-fragmented frame, use `newframe = frame.copy()`\n",
      "  mutations_all_protein.insert(current_max+i,\n"
     ]
    },
    {
     "name": "stdout",
     "output_type": "stream",
     "text": [
      "Appending UBE2J1...\n"
     ]
    },
    {
     "name": "stderr",
     "output_type": "stream",
     "text": [
      "/var/folders/kv/l0jzxgbj1kggff_kd35bfzkw0000gn/T/ipykernel_42080/1574832305.py:4: PerformanceWarning: DataFrame is highly fragmented.  This is usually the result of calling `frame.insert` many times, which has poor performance.  Consider joining all columns at once using pd.concat(axis=1) instead. To get a de-fragmented frame, use `newframe = frame.copy()`\n",
      "  mutations_all_protein.insert(current_max+i,\n"
     ]
    },
    {
     "name": "stdout",
     "output_type": "stream",
     "text": [
      "Appending UBE2L6...\n"
     ]
    },
    {
     "name": "stderr",
     "output_type": "stream",
     "text": [
      "/var/folders/kv/l0jzxgbj1kggff_kd35bfzkw0000gn/T/ipykernel_42080/1574832305.py:4: PerformanceWarning: DataFrame is highly fragmented.  This is usually the result of calling `frame.insert` many times, which has poor performance.  Consider joining all columns at once using pd.concat(axis=1) instead. To get a de-fragmented frame, use `newframe = frame.copy()`\n",
      "  mutations_all_protein.insert(current_max+i,\n"
     ]
    },
    {
     "name": "stdout",
     "output_type": "stream",
     "text": [
      "Appending UBE3B...\n"
     ]
    },
    {
     "name": "stderr",
     "output_type": "stream",
     "text": [
      "/var/folders/kv/l0jzxgbj1kggff_kd35bfzkw0000gn/T/ipykernel_42080/1574832305.py:4: PerformanceWarning: DataFrame is highly fragmented.  This is usually the result of calling `frame.insert` many times, which has poor performance.  Consider joining all columns at once using pd.concat(axis=1) instead. To get a de-fragmented frame, use `newframe = frame.copy()`\n",
      "  mutations_all_protein.insert(current_max+i,\n"
     ]
    },
    {
     "name": "stdout",
     "output_type": "stream",
     "text": [
      "Appending UBE3C...\n"
     ]
    },
    {
     "name": "stderr",
     "output_type": "stream",
     "text": [
      "/var/folders/kv/l0jzxgbj1kggff_kd35bfzkw0000gn/T/ipykernel_42080/1574832305.py:4: PerformanceWarning: DataFrame is highly fragmented.  This is usually the result of calling `frame.insert` many times, which has poor performance.  Consider joining all columns at once using pd.concat(axis=1) instead. To get a de-fragmented frame, use `newframe = frame.copy()`\n",
      "  mutations_all_protein.insert(current_max+i,\n"
     ]
    },
    {
     "name": "stdout",
     "output_type": "stream",
     "text": [
      "Appending UBQLN2...\n"
     ]
    },
    {
     "name": "stderr",
     "output_type": "stream",
     "text": [
      "/var/folders/kv/l0jzxgbj1kggff_kd35bfzkw0000gn/T/ipykernel_42080/1574832305.py:4: PerformanceWarning: DataFrame is highly fragmented.  This is usually the result of calling `frame.insert` many times, which has poor performance.  Consider joining all columns at once using pd.concat(axis=1) instead. To get a de-fragmented frame, use `newframe = frame.copy()`\n",
      "  mutations_all_protein.insert(current_max+i,\n"
     ]
    },
    {
     "name": "stdout",
     "output_type": "stream",
     "text": [
      "Appending UBR7...\n"
     ]
    },
    {
     "name": "stderr",
     "output_type": "stream",
     "text": [
      "/var/folders/kv/l0jzxgbj1kggff_kd35bfzkw0000gn/T/ipykernel_42080/1574832305.py:4: PerformanceWarning: DataFrame is highly fragmented.  This is usually the result of calling `frame.insert` many times, which has poor performance.  Consider joining all columns at once using pd.concat(axis=1) instead. To get a de-fragmented frame, use `newframe = frame.copy()`\n",
      "  mutations_all_protein.insert(current_max+i,\n"
     ]
    },
    {
     "name": "stdout",
     "output_type": "stream",
     "text": [
      "Appending UFM1...\n"
     ]
    },
    {
     "name": "stderr",
     "output_type": "stream",
     "text": [
      "/var/folders/kv/l0jzxgbj1kggff_kd35bfzkw0000gn/T/ipykernel_42080/1574832305.py:4: PerformanceWarning: DataFrame is highly fragmented.  This is usually the result of calling `frame.insert` many times, which has poor performance.  Consider joining all columns at once using pd.concat(axis=1) instead. To get a de-fragmented frame, use `newframe = frame.copy()`\n",
      "  mutations_all_protein.insert(current_max+i,\n"
     ]
    },
    {
     "name": "stdout",
     "output_type": "stream",
     "text": [
      "Appending UGDH...\n"
     ]
    },
    {
     "name": "stderr",
     "output_type": "stream",
     "text": [
      "/var/folders/kv/l0jzxgbj1kggff_kd35bfzkw0000gn/T/ipykernel_42080/1574832305.py:4: PerformanceWarning: DataFrame is highly fragmented.  This is usually the result of calling `frame.insert` many times, which has poor performance.  Consider joining all columns at once using pd.concat(axis=1) instead. To get a de-fragmented frame, use `newframe = frame.copy()`\n",
      "  mutations_all_protein.insert(current_max+i,\n"
     ]
    },
    {
     "name": "stdout",
     "output_type": "stream",
     "text": [
      "Appending USP1...\n"
     ]
    },
    {
     "name": "stderr",
     "output_type": "stream",
     "text": [
      "/var/folders/kv/l0jzxgbj1kggff_kd35bfzkw0000gn/T/ipykernel_42080/1574832305.py:4: PerformanceWarning: DataFrame is highly fragmented.  This is usually the result of calling `frame.insert` many times, which has poor performance.  Consider joining all columns at once using pd.concat(axis=1) instead. To get a de-fragmented frame, use `newframe = frame.copy()`\n",
      "  mutations_all_protein.insert(current_max+i,\n"
     ]
    },
    {
     "name": "stdout",
     "output_type": "stream",
     "text": [
      "Appending USP14...\n"
     ]
    },
    {
     "name": "stderr",
     "output_type": "stream",
     "text": [
      "/var/folders/kv/l0jzxgbj1kggff_kd35bfzkw0000gn/T/ipykernel_42080/1574832305.py:4: PerformanceWarning: DataFrame is highly fragmented.  This is usually the result of calling `frame.insert` many times, which has poor performance.  Consider joining all columns at once using pd.concat(axis=1) instead. To get a de-fragmented frame, use `newframe = frame.copy()`\n",
      "  mutations_all_protein.insert(current_max+i,\n"
     ]
    },
    {
     "name": "stdout",
     "output_type": "stream",
     "text": [
      "Appending USP22...\n"
     ]
    },
    {
     "name": "stderr",
     "output_type": "stream",
     "text": [
      "/var/folders/kv/l0jzxgbj1kggff_kd35bfzkw0000gn/T/ipykernel_42080/1574832305.py:4: PerformanceWarning: DataFrame is highly fragmented.  This is usually the result of calling `frame.insert` many times, which has poor performance.  Consider joining all columns at once using pd.concat(axis=1) instead. To get a de-fragmented frame, use `newframe = frame.copy()`\n",
      "  mutations_all_protein.insert(current_max+i,\n"
     ]
    },
    {
     "name": "stdout",
     "output_type": "stream",
     "text": [
      "Appending USP6NL...\n"
     ]
    },
    {
     "name": "stderr",
     "output_type": "stream",
     "text": [
      "/var/folders/kv/l0jzxgbj1kggff_kd35bfzkw0000gn/T/ipykernel_42080/1574832305.py:4: PerformanceWarning: DataFrame is highly fragmented.  This is usually the result of calling `frame.insert` many times, which has poor performance.  Consider joining all columns at once using pd.concat(axis=1) instead. To get a de-fragmented frame, use `newframe = frame.copy()`\n",
      "  mutations_all_protein.insert(current_max+i,\n"
     ]
    },
    {
     "name": "stdout",
     "output_type": "stream",
     "text": [
      "Appending USP7...\n"
     ]
    },
    {
     "name": "stderr",
     "output_type": "stream",
     "text": [
      "/var/folders/kv/l0jzxgbj1kggff_kd35bfzkw0000gn/T/ipykernel_42080/1574832305.py:4: PerformanceWarning: DataFrame is highly fragmented.  This is usually the result of calling `frame.insert` many times, which has poor performance.  Consider joining all columns at once using pd.concat(axis=1) instead. To get a de-fragmented frame, use `newframe = frame.copy()`\n",
      "  mutations_all_protein.insert(current_max+i,\n"
     ]
    },
    {
     "name": "stdout",
     "output_type": "stream",
     "text": [
      "Appending UTP14A...\n"
     ]
    },
    {
     "name": "stderr",
     "output_type": "stream",
     "text": [
      "/var/folders/kv/l0jzxgbj1kggff_kd35bfzkw0000gn/T/ipykernel_42080/1574832305.py:4: PerformanceWarning: DataFrame is highly fragmented.  This is usually the result of calling `frame.insert` many times, which has poor performance.  Consider joining all columns at once using pd.concat(axis=1) instead. To get a de-fragmented frame, use `newframe = frame.copy()`\n",
      "  mutations_all_protein.insert(current_max+i,\n"
     ]
    },
    {
     "name": "stdout",
     "output_type": "stream",
     "text": [
      "Appending VAPB...\n"
     ]
    },
    {
     "name": "stderr",
     "output_type": "stream",
     "text": [
      "/var/folders/kv/l0jzxgbj1kggff_kd35bfzkw0000gn/T/ipykernel_42080/1574832305.py:4: PerformanceWarning: DataFrame is highly fragmented.  This is usually the result of calling `frame.insert` many times, which has poor performance.  Consider joining all columns at once using pd.concat(axis=1) instead. To get a de-fragmented frame, use `newframe = frame.copy()`\n",
      "  mutations_all_protein.insert(current_max+i,\n"
     ]
    },
    {
     "name": "stdout",
     "output_type": "stream",
     "text": [
      "Appending VAT1...\n"
     ]
    },
    {
     "name": "stderr",
     "output_type": "stream",
     "text": [
      "/var/folders/kv/l0jzxgbj1kggff_kd35bfzkw0000gn/T/ipykernel_42080/1574832305.py:4: PerformanceWarning: DataFrame is highly fragmented.  This is usually the result of calling `frame.insert` many times, which has poor performance.  Consider joining all columns at once using pd.concat(axis=1) instead. To get a de-fragmented frame, use `newframe = frame.copy()`\n",
      "  mutations_all_protein.insert(current_max+i,\n"
     ]
    },
    {
     "name": "stdout",
     "output_type": "stream",
     "text": [
      "Appending VAV3...\n"
     ]
    },
    {
     "name": "stderr",
     "output_type": "stream",
     "text": [
      "/var/folders/kv/l0jzxgbj1kggff_kd35bfzkw0000gn/T/ipykernel_42080/1574832305.py:4: PerformanceWarning: DataFrame is highly fragmented.  This is usually the result of calling `frame.insert` many times, which has poor performance.  Consider joining all columns at once using pd.concat(axis=1) instead. To get a de-fragmented frame, use `newframe = frame.copy()`\n",
      "  mutations_all_protein.insert(current_max+i,\n"
     ]
    },
    {
     "name": "stdout",
     "output_type": "stream",
     "text": [
      "Appending VDAC1...\n"
     ]
    },
    {
     "name": "stderr",
     "output_type": "stream",
     "text": [
      "/var/folders/kv/l0jzxgbj1kggff_kd35bfzkw0000gn/T/ipykernel_42080/1574832305.py:4: PerformanceWarning: DataFrame is highly fragmented.  This is usually the result of calling `frame.insert` many times, which has poor performance.  Consider joining all columns at once using pd.concat(axis=1) instead. To get a de-fragmented frame, use `newframe = frame.copy()`\n",
      "  mutations_all_protein.insert(current_max+i,\n"
     ]
    },
    {
     "name": "stdout",
     "output_type": "stream",
     "text": [
      "Appending VGLL4...\n"
     ]
    },
    {
     "name": "stderr",
     "output_type": "stream",
     "text": [
      "/var/folders/kv/l0jzxgbj1kggff_kd35bfzkw0000gn/T/ipykernel_42080/1574832305.py:4: PerformanceWarning: DataFrame is highly fragmented.  This is usually the result of calling `frame.insert` many times, which has poor performance.  Consider joining all columns at once using pd.concat(axis=1) instead. To get a de-fragmented frame, use `newframe = frame.copy()`\n",
      "  mutations_all_protein.insert(current_max+i,\n"
     ]
    },
    {
     "name": "stdout",
     "output_type": "stream",
     "text": [
      "Appending VPS28...\n"
     ]
    },
    {
     "name": "stderr",
     "output_type": "stream",
     "text": [
      "/var/folders/kv/l0jzxgbj1kggff_kd35bfzkw0000gn/T/ipykernel_42080/1574832305.py:4: PerformanceWarning: DataFrame is highly fragmented.  This is usually the result of calling `frame.insert` many times, which has poor performance.  Consider joining all columns at once using pd.concat(axis=1) instead. To get a de-fragmented frame, use `newframe = frame.copy()`\n",
      "  mutations_all_protein.insert(current_max+i,\n"
     ]
    },
    {
     "name": "stdout",
     "output_type": "stream",
     "text": [
      "Appending VPS72...\n"
     ]
    },
    {
     "name": "stderr",
     "output_type": "stream",
     "text": [
      "/var/folders/kv/l0jzxgbj1kggff_kd35bfzkw0000gn/T/ipykernel_42080/1574832305.py:4: PerformanceWarning: DataFrame is highly fragmented.  This is usually the result of calling `frame.insert` many times, which has poor performance.  Consider joining all columns at once using pd.concat(axis=1) instead. To get a de-fragmented frame, use `newframe = frame.copy()`\n",
      "  mutations_all_protein.insert(current_max+i,\n"
     ]
    },
    {
     "name": "stdout",
     "output_type": "stream",
     "text": [
      "Appending WASF3...\n"
     ]
    },
    {
     "name": "stderr",
     "output_type": "stream",
     "text": [
      "/var/folders/kv/l0jzxgbj1kggff_kd35bfzkw0000gn/T/ipykernel_42080/1574832305.py:4: PerformanceWarning: DataFrame is highly fragmented.  This is usually the result of calling `frame.insert` many times, which has poor performance.  Consider joining all columns at once using pd.concat(axis=1) instead. To get a de-fragmented frame, use `newframe = frame.copy()`\n",
      "  mutations_all_protein.insert(current_max+i,\n"
     ]
    },
    {
     "name": "stdout",
     "output_type": "stream",
     "text": [
      "Appending WASHC4...\n"
     ]
    },
    {
     "name": "stderr",
     "output_type": "stream",
     "text": [
      "/var/folders/kv/l0jzxgbj1kggff_kd35bfzkw0000gn/T/ipykernel_42080/1574832305.py:4: PerformanceWarning: DataFrame is highly fragmented.  This is usually the result of calling `frame.insert` many times, which has poor performance.  Consider joining all columns at once using pd.concat(axis=1) instead. To get a de-fragmented frame, use `newframe = frame.copy()`\n",
      "  mutations_all_protein.insert(current_max+i,\n"
     ]
    },
    {
     "name": "stdout",
     "output_type": "stream",
     "text": [
      "Appending WASHC5...\n"
     ]
    },
    {
     "name": "stderr",
     "output_type": "stream",
     "text": [
      "/var/folders/kv/l0jzxgbj1kggff_kd35bfzkw0000gn/T/ipykernel_42080/1574832305.py:4: PerformanceWarning: DataFrame is highly fragmented.  This is usually the result of calling `frame.insert` many times, which has poor performance.  Consider joining all columns at once using pd.concat(axis=1) instead. To get a de-fragmented frame, use `newframe = frame.copy()`\n",
      "  mutations_all_protein.insert(current_max+i,\n"
     ]
    },
    {
     "name": "stdout",
     "output_type": "stream",
     "text": [
      "Appending WDR61...\n"
     ]
    },
    {
     "name": "stderr",
     "output_type": "stream",
     "text": [
      "/var/folders/kv/l0jzxgbj1kggff_kd35bfzkw0000gn/T/ipykernel_42080/1574832305.py:4: PerformanceWarning: DataFrame is highly fragmented.  This is usually the result of calling `frame.insert` many times, which has poor performance.  Consider joining all columns at once using pd.concat(axis=1) instead. To get a de-fragmented frame, use `newframe = frame.copy()`\n",
      "  mutations_all_protein.insert(current_max+i,\n"
     ]
    },
    {
     "name": "stdout",
     "output_type": "stream",
     "text": [
      "Appending WDR7...\n"
     ]
    },
    {
     "name": "stderr",
     "output_type": "stream",
     "text": [
      "/var/folders/kv/l0jzxgbj1kggff_kd35bfzkw0000gn/T/ipykernel_42080/1574832305.py:4: PerformanceWarning: DataFrame is highly fragmented.  This is usually the result of calling `frame.insert` many times, which has poor performance.  Consider joining all columns at once using pd.concat(axis=1) instead. To get a de-fragmented frame, use `newframe = frame.copy()`\n",
      "  mutations_all_protein.insert(current_max+i,\n"
     ]
    },
    {
     "name": "stdout",
     "output_type": "stream",
     "text": [
      "Appending WDTC1...\n"
     ]
    },
    {
     "name": "stderr",
     "output_type": "stream",
     "text": [
      "/var/folders/kv/l0jzxgbj1kggff_kd35bfzkw0000gn/T/ipykernel_42080/1574832305.py:4: PerformanceWarning: DataFrame is highly fragmented.  This is usually the result of calling `frame.insert` many times, which has poor performance.  Consider joining all columns at once using pd.concat(axis=1) instead. To get a de-fragmented frame, use `newframe = frame.copy()`\n",
      "  mutations_all_protein.insert(current_max+i,\n"
     ]
    },
    {
     "name": "stdout",
     "output_type": "stream",
     "text": [
      "Appending WFS1...\n"
     ]
    },
    {
     "name": "stderr",
     "output_type": "stream",
     "text": [
      "/var/folders/kv/l0jzxgbj1kggff_kd35bfzkw0000gn/T/ipykernel_42080/1574832305.py:4: PerformanceWarning: DataFrame is highly fragmented.  This is usually the result of calling `frame.insert` many times, which has poor performance.  Consider joining all columns at once using pd.concat(axis=1) instead. To get a de-fragmented frame, use `newframe = frame.copy()`\n",
      "  mutations_all_protein.insert(current_max+i,\n"
     ]
    },
    {
     "name": "stdout",
     "output_type": "stream",
     "text": [
      "Appending WIPF2...\n"
     ]
    },
    {
     "name": "stderr",
     "output_type": "stream",
     "text": [
      "/var/folders/kv/l0jzxgbj1kggff_kd35bfzkw0000gn/T/ipykernel_42080/1574832305.py:4: PerformanceWarning: DataFrame is highly fragmented.  This is usually the result of calling `frame.insert` many times, which has poor performance.  Consider joining all columns at once using pd.concat(axis=1) instead. To get a de-fragmented frame, use `newframe = frame.copy()`\n",
      "  mutations_all_protein.insert(current_max+i,\n"
     ]
    },
    {
     "name": "stdout",
     "output_type": "stream",
     "text": [
      "Appending XBP1...\n"
     ]
    },
    {
     "name": "stderr",
     "output_type": "stream",
     "text": [
      "/var/folders/kv/l0jzxgbj1kggff_kd35bfzkw0000gn/T/ipykernel_42080/1574832305.py:4: PerformanceWarning: DataFrame is highly fragmented.  This is usually the result of calling `frame.insert` many times, which has poor performance.  Consider joining all columns at once using pd.concat(axis=1) instead. To get a de-fragmented frame, use `newframe = frame.copy()`\n",
      "  mutations_all_protein.insert(current_max+i,\n"
     ]
    },
    {
     "name": "stdout",
     "output_type": "stream",
     "text": [
      "Appending XPNPEP1...\n"
     ]
    },
    {
     "name": "stderr",
     "output_type": "stream",
     "text": [
      "/var/folders/kv/l0jzxgbj1kggff_kd35bfzkw0000gn/T/ipykernel_42080/1574832305.py:4: PerformanceWarning: DataFrame is highly fragmented.  This is usually the result of calling `frame.insert` many times, which has poor performance.  Consider joining all columns at once using pd.concat(axis=1) instead. To get a de-fragmented frame, use `newframe = frame.copy()`\n",
      "  mutations_all_protein.insert(current_max+i,\n"
     ]
    },
    {
     "name": "stdout",
     "output_type": "stream",
     "text": [
      "Appending XPO7...\n"
     ]
    },
    {
     "name": "stderr",
     "output_type": "stream",
     "text": [
      "/var/folders/kv/l0jzxgbj1kggff_kd35bfzkw0000gn/T/ipykernel_42080/1574832305.py:4: PerformanceWarning: DataFrame is highly fragmented.  This is usually the result of calling `frame.insert` many times, which has poor performance.  Consider joining all columns at once using pd.concat(axis=1) instead. To get a de-fragmented frame, use `newframe = frame.copy()`\n",
      "  mutations_all_protein.insert(current_max+i,\n"
     ]
    },
    {
     "name": "stdout",
     "output_type": "stream",
     "text": [
      "Appending YKT6...\n"
     ]
    },
    {
     "name": "stderr",
     "output_type": "stream",
     "text": [
      "/var/folders/kv/l0jzxgbj1kggff_kd35bfzkw0000gn/T/ipykernel_42080/1574832305.py:4: PerformanceWarning: DataFrame is highly fragmented.  This is usually the result of calling `frame.insert` many times, which has poor performance.  Consider joining all columns at once using pd.concat(axis=1) instead. To get a de-fragmented frame, use `newframe = frame.copy()`\n",
      "  mutations_all_protein.insert(current_max+i,\n"
     ]
    },
    {
     "name": "stdout",
     "output_type": "stream",
     "text": [
      "Appending YME1L1...\n"
     ]
    },
    {
     "name": "stderr",
     "output_type": "stream",
     "text": [
      "/var/folders/kv/l0jzxgbj1kggff_kd35bfzkw0000gn/T/ipykernel_42080/1574832305.py:4: PerformanceWarning: DataFrame is highly fragmented.  This is usually the result of calling `frame.insert` many times, which has poor performance.  Consider joining all columns at once using pd.concat(axis=1) instead. To get a de-fragmented frame, use `newframe = frame.copy()`\n",
      "  mutations_all_protein.insert(current_max+i,\n"
     ]
    },
    {
     "name": "stdout",
     "output_type": "stream",
     "text": [
      "Appending YTHDF1...\n"
     ]
    },
    {
     "name": "stderr",
     "output_type": "stream",
     "text": [
      "/var/folders/kv/l0jzxgbj1kggff_kd35bfzkw0000gn/T/ipykernel_42080/1574832305.py:4: PerformanceWarning: DataFrame is highly fragmented.  This is usually the result of calling `frame.insert` many times, which has poor performance.  Consider joining all columns at once using pd.concat(axis=1) instead. To get a de-fragmented frame, use `newframe = frame.copy()`\n",
      "  mutations_all_protein.insert(current_max+i,\n"
     ]
    },
    {
     "name": "stdout",
     "output_type": "stream",
     "text": [
      "Appending ZDHHC6...\n"
     ]
    },
    {
     "name": "stderr",
     "output_type": "stream",
     "text": [
      "/var/folders/kv/l0jzxgbj1kggff_kd35bfzkw0000gn/T/ipykernel_42080/1574832305.py:4: PerformanceWarning: DataFrame is highly fragmented.  This is usually the result of calling `frame.insert` many times, which has poor performance.  Consider joining all columns at once using pd.concat(axis=1) instead. To get a de-fragmented frame, use `newframe = frame.copy()`\n",
      "  mutations_all_protein.insert(current_max+i,\n"
     ]
    },
    {
     "name": "stdout",
     "output_type": "stream",
     "text": [
      "Appending ZFP36...\n"
     ]
    },
    {
     "name": "stderr",
     "output_type": "stream",
     "text": [
      "/var/folders/kv/l0jzxgbj1kggff_kd35bfzkw0000gn/T/ipykernel_42080/1574832305.py:4: PerformanceWarning: DataFrame is highly fragmented.  This is usually the result of calling `frame.insert` many times, which has poor performance.  Consider joining all columns at once using pd.concat(axis=1) instead. To get a de-fragmented frame, use `newframe = frame.copy()`\n",
      "  mutations_all_protein.insert(current_max+i,\n"
     ]
    },
    {
     "name": "stdout",
     "output_type": "stream",
     "text": [
      "Appending ZMIZ1...\n"
     ]
    },
    {
     "name": "stderr",
     "output_type": "stream",
     "text": [
      "/var/folders/kv/l0jzxgbj1kggff_kd35bfzkw0000gn/T/ipykernel_42080/1574832305.py:4: PerformanceWarning: DataFrame is highly fragmented.  This is usually the result of calling `frame.insert` many times, which has poor performance.  Consider joining all columns at once using pd.concat(axis=1) instead. To get a de-fragmented frame, use `newframe = frame.copy()`\n",
      "  mutations_all_protein.insert(current_max+i,\n"
     ]
    },
    {
     "name": "stdout",
     "output_type": "stream",
     "text": [
      "Appending ZMYM2...\n"
     ]
    },
    {
     "name": "stderr",
     "output_type": "stream",
     "text": [
      "/var/folders/kv/l0jzxgbj1kggff_kd35bfzkw0000gn/T/ipykernel_42080/1574832305.py:4: PerformanceWarning: DataFrame is highly fragmented.  This is usually the result of calling `frame.insert` many times, which has poor performance.  Consider joining all columns at once using pd.concat(axis=1) instead. To get a de-fragmented frame, use `newframe = frame.copy()`\n",
      "  mutations_all_protein.insert(current_max+i,\n"
     ]
    },
    {
     "name": "stdout",
     "output_type": "stream",
     "text": [
      "Appending ZNF131...\n"
     ]
    },
    {
     "name": "stderr",
     "output_type": "stream",
     "text": [
      "/var/folders/kv/l0jzxgbj1kggff_kd35bfzkw0000gn/T/ipykernel_42080/1574832305.py:4: PerformanceWarning: DataFrame is highly fragmented.  This is usually the result of calling `frame.insert` many times, which has poor performance.  Consider joining all columns at once using pd.concat(axis=1) instead. To get a de-fragmented frame, use `newframe = frame.copy()`\n",
      "  mutations_all_protein.insert(current_max+i,\n"
     ]
    },
    {
     "name": "stdout",
     "output_type": "stream",
     "text": [
      "Appending ZNF274...\n"
     ]
    },
    {
     "name": "stderr",
     "output_type": "stream",
     "text": [
      "/var/folders/kv/l0jzxgbj1kggff_kd35bfzkw0000gn/T/ipykernel_42080/1574832305.py:4: PerformanceWarning: DataFrame is highly fragmented.  This is usually the result of calling `frame.insert` many times, which has poor performance.  Consider joining all columns at once using pd.concat(axis=1) instead. To get a de-fragmented frame, use `newframe = frame.copy()`\n",
      "  mutations_all_protein.insert(current_max+i,\n"
     ]
    },
    {
     "name": "stdout",
     "output_type": "stream",
     "text": [
      "Appending ZNF318...\n"
     ]
    },
    {
     "name": "stderr",
     "output_type": "stream",
     "text": [
      "/var/folders/kv/l0jzxgbj1kggff_kd35bfzkw0000gn/T/ipykernel_42080/1574832305.py:4: PerformanceWarning: DataFrame is highly fragmented.  This is usually the result of calling `frame.insert` many times, which has poor performance.  Consider joining all columns at once using pd.concat(axis=1) instead. To get a de-fragmented frame, use `newframe = frame.copy()`\n",
      "  mutations_all_protein.insert(current_max+i,\n"
     ]
    },
    {
     "name": "stdout",
     "output_type": "stream",
     "text": [
      "Appending ZNF395...\n"
     ]
    },
    {
     "name": "stderr",
     "output_type": "stream",
     "text": [
      "/var/folders/kv/l0jzxgbj1kggff_kd35bfzkw0000gn/T/ipykernel_42080/1574832305.py:4: PerformanceWarning: DataFrame is highly fragmented.  This is usually the result of calling `frame.insert` many times, which has poor performance.  Consider joining all columns at once using pd.concat(axis=1) instead. To get a de-fragmented frame, use `newframe = frame.copy()`\n",
      "  mutations_all_protein.insert(current_max+i,\n"
     ]
    },
    {
     "name": "stdout",
     "output_type": "stream",
     "text": [
      "Appending ZNF451...\n"
     ]
    },
    {
     "name": "stderr",
     "output_type": "stream",
     "text": [
      "/var/folders/kv/l0jzxgbj1kggff_kd35bfzkw0000gn/T/ipykernel_42080/1574832305.py:4: PerformanceWarning: DataFrame is highly fragmented.  This is usually the result of calling `frame.insert` many times, which has poor performance.  Consider joining all columns at once using pd.concat(axis=1) instead. To get a de-fragmented frame, use `newframe = frame.copy()`\n",
      "  mutations_all_protein.insert(current_max+i,\n"
     ]
    },
    {
     "name": "stdout",
     "output_type": "stream",
     "text": [
      "Appending ZNF586...\n"
     ]
    },
    {
     "name": "stderr",
     "output_type": "stream",
     "text": [
      "/var/folders/kv/l0jzxgbj1kggff_kd35bfzkw0000gn/T/ipykernel_42080/1574832305.py:4: PerformanceWarning: DataFrame is highly fragmented.  This is usually the result of calling `frame.insert` many times, which has poor performance.  Consider joining all columns at once using pd.concat(axis=1) instead. To get a de-fragmented frame, use `newframe = frame.copy()`\n",
      "  mutations_all_protein.insert(current_max+i,\n"
     ]
    },
    {
     "name": "stdout",
     "output_type": "stream",
     "text": [
      "Appending ZNF589...\n"
     ]
    },
    {
     "name": "stderr",
     "output_type": "stream",
     "text": [
      "/var/folders/kv/l0jzxgbj1kggff_kd35bfzkw0000gn/T/ipykernel_42080/1574832305.py:4: PerformanceWarning: DataFrame is highly fragmented.  This is usually the result of calling `frame.insert` many times, which has poor performance.  Consider joining all columns at once using pd.concat(axis=1) instead. To get a de-fragmented frame, use `newframe = frame.copy()`\n",
      "  mutations_all_protein.insert(current_max+i,\n"
     ]
    },
    {
     "name": "stdout",
     "output_type": "stream",
     "text": [
      "Appending ZW10...\n"
     ]
    },
    {
     "name": "stderr",
     "output_type": "stream",
     "text": [
      "/var/folders/kv/l0jzxgbj1kggff_kd35bfzkw0000gn/T/ipykernel_42080/1574832305.py:4: PerformanceWarning: DataFrame is highly fragmented.  This is usually the result of calling `frame.insert` many times, which has poor performance.  Consider joining all columns at once using pd.concat(axis=1) instead. To get a de-fragmented frame, use `newframe = frame.copy()`\n",
      "  mutations_all_protein.insert(current_max+i,\n"
     ]
    }
   ],
   "source": [
    "# Add the mutation values for each gene as a new column.\n",
    "current_max = 3\n",
    "for i, uniq_gene in enumerate(uniq_mutation_genes): \n",
    "    print(f\"Appending {uniq_gene}...\")\n",
    "    mutations_all_protein.insert(current_max+i, \n",
    "                                 uniq_gene, \n",
    "                                 mutations_all_protein.where(mutations_all_protein['gene_symbol'] == uniq_gene)['protein_mutation'].values)\n"
   ]
  },
  {
   "cell_type": "code",
   "execution_count": 58,
   "metadata": {},
   "outputs": [
    {
     "data": {
      "text/html": [
       "<div>\n",
       "<style scoped>\n",
       "    .dataframe tbody tr th:only-of-type {\n",
       "        vertical-align: middle;\n",
       "    }\n",
       "\n",
       "    .dataframe tbody tr th {\n",
       "        vertical-align: top;\n",
       "    }\n",
       "\n",
       "    .dataframe thead th {\n",
       "        text-align: right;\n",
       "    }\n",
       "</style>\n",
       "<table border=\"1\" class=\"dataframe\">\n",
       "  <thead>\n",
       "    <tr style=\"text-align: right;\">\n",
       "      <th></th>\n",
       "      <th>CELL_LINE_NAME</th>\n",
       "      <th>gene_symbol</th>\n",
       "      <th>protein_mutation</th>\n",
       "      <th>ABCB6</th>\n",
       "      <th>ABCC5</th>\n",
       "      <th>ABCF1</th>\n",
       "      <th>ABCF3</th>\n",
       "      <th>ABHD4</th>\n",
       "      <th>ABHD6</th>\n",
       "      <th>ABL1</th>\n",
       "      <th>...</th>\n",
       "      <th>ZMIZ1</th>\n",
       "      <th>ZMYM2</th>\n",
       "      <th>ZNF131</th>\n",
       "      <th>ZNF274</th>\n",
       "      <th>ZNF318</th>\n",
       "      <th>ZNF395</th>\n",
       "      <th>ZNF451</th>\n",
       "      <th>ZNF586</th>\n",
       "      <th>ZNF589</th>\n",
       "      <th>ZW10</th>\n",
       "    </tr>\n",
       "  </thead>\n",
       "  <tbody>\n",
       "    <tr>\n",
       "      <th>0</th>\n",
       "      <td>LAN-6</td>\n",
       "      <td>VGLL4</td>\n",
       "      <td>-</td>\n",
       "      <td>NaN</td>\n",
       "      <td>NaN</td>\n",
       "      <td>NaN</td>\n",
       "      <td>NaN</td>\n",
       "      <td>NaN</td>\n",
       "      <td>NaN</td>\n",
       "      <td>NaN</td>\n",
       "      <td>...</td>\n",
       "      <td>NaN</td>\n",
       "      <td>NaN</td>\n",
       "      <td>NaN</td>\n",
       "      <td>NaN</td>\n",
       "      <td>NaN</td>\n",
       "      <td>NaN</td>\n",
       "      <td>NaN</td>\n",
       "      <td>NaN</td>\n",
       "      <td>NaN</td>\n",
       "      <td>NaN</td>\n",
       "    </tr>\n",
       "    <tr>\n",
       "      <th>1</th>\n",
       "      <td>CL-11</td>\n",
       "      <td>VGLL4</td>\n",
       "      <td>p.?</td>\n",
       "      <td>NaN</td>\n",
       "      <td>NaN</td>\n",
       "      <td>NaN</td>\n",
       "      <td>NaN</td>\n",
       "      <td>NaN</td>\n",
       "      <td>NaN</td>\n",
       "      <td>NaN</td>\n",
       "      <td>...</td>\n",
       "      <td>NaN</td>\n",
       "      <td>NaN</td>\n",
       "      <td>NaN</td>\n",
       "      <td>NaN</td>\n",
       "      <td>NaN</td>\n",
       "      <td>NaN</td>\n",
       "      <td>NaN</td>\n",
       "      <td>NaN</td>\n",
       "      <td>NaN</td>\n",
       "      <td>NaN</td>\n",
       "    </tr>\n",
       "    <tr>\n",
       "      <th>2</th>\n",
       "      <td>SNG-M</td>\n",
       "      <td>VGLL4</td>\n",
       "      <td>p.?</td>\n",
       "      <td>NaN</td>\n",
       "      <td>NaN</td>\n",
       "      <td>NaN</td>\n",
       "      <td>NaN</td>\n",
       "      <td>NaN</td>\n",
       "      <td>NaN</td>\n",
       "      <td>NaN</td>\n",
       "      <td>...</td>\n",
       "      <td>NaN</td>\n",
       "      <td>NaN</td>\n",
       "      <td>NaN</td>\n",
       "      <td>NaN</td>\n",
       "      <td>NaN</td>\n",
       "      <td>NaN</td>\n",
       "      <td>NaN</td>\n",
       "      <td>NaN</td>\n",
       "      <td>NaN</td>\n",
       "      <td>NaN</td>\n",
       "    </tr>\n",
       "    <tr>\n",
       "      <th>3</th>\n",
       "      <td>JHOS-2</td>\n",
       "      <td>VGLL4</td>\n",
       "      <td>-</td>\n",
       "      <td>NaN</td>\n",
       "      <td>NaN</td>\n",
       "      <td>NaN</td>\n",
       "      <td>NaN</td>\n",
       "      <td>NaN</td>\n",
       "      <td>NaN</td>\n",
       "      <td>NaN</td>\n",
       "      <td>...</td>\n",
       "      <td>NaN</td>\n",
       "      <td>NaN</td>\n",
       "      <td>NaN</td>\n",
       "      <td>NaN</td>\n",
       "      <td>NaN</td>\n",
       "      <td>NaN</td>\n",
       "      <td>NaN</td>\n",
       "      <td>NaN</td>\n",
       "      <td>NaN</td>\n",
       "      <td>NaN</td>\n",
       "    </tr>\n",
       "    <tr>\n",
       "      <th>4</th>\n",
       "      <td>NCI-H1436</td>\n",
       "      <td>VGLL4</td>\n",
       "      <td>-</td>\n",
       "      <td>NaN</td>\n",
       "      <td>NaN</td>\n",
       "      <td>NaN</td>\n",
       "      <td>NaN</td>\n",
       "      <td>NaN</td>\n",
       "      <td>NaN</td>\n",
       "      <td>NaN</td>\n",
       "      <td>...</td>\n",
       "      <td>NaN</td>\n",
       "      <td>NaN</td>\n",
       "      <td>NaN</td>\n",
       "      <td>NaN</td>\n",
       "      <td>NaN</td>\n",
       "      <td>NaN</td>\n",
       "      <td>NaN</td>\n",
       "      <td>NaN</td>\n",
       "      <td>NaN</td>\n",
       "      <td>NaN</td>\n",
       "    </tr>\n",
       "    <tr>\n",
       "      <th>5</th>\n",
       "      <td>HCC1395</td>\n",
       "      <td>VGLL4</td>\n",
       "      <td>-</td>\n",
       "      <td>NaN</td>\n",
       "      <td>NaN</td>\n",
       "      <td>NaN</td>\n",
       "      <td>NaN</td>\n",
       "      <td>NaN</td>\n",
       "      <td>NaN</td>\n",
       "      <td>NaN</td>\n",
       "      <td>...</td>\n",
       "      <td>NaN</td>\n",
       "      <td>NaN</td>\n",
       "      <td>NaN</td>\n",
       "      <td>NaN</td>\n",
       "      <td>NaN</td>\n",
       "      <td>NaN</td>\n",
       "      <td>NaN</td>\n",
       "      <td>NaN</td>\n",
       "      <td>NaN</td>\n",
       "      <td>NaN</td>\n",
       "    </tr>\n",
       "    <tr>\n",
       "      <th>6</th>\n",
       "      <td>SNU-175</td>\n",
       "      <td>VGLL4</td>\n",
       "      <td>-</td>\n",
       "      <td>NaN</td>\n",
       "      <td>NaN</td>\n",
       "      <td>NaN</td>\n",
       "      <td>NaN</td>\n",
       "      <td>NaN</td>\n",
       "      <td>NaN</td>\n",
       "      <td>NaN</td>\n",
       "      <td>...</td>\n",
       "      <td>NaN</td>\n",
       "      <td>NaN</td>\n",
       "      <td>NaN</td>\n",
       "      <td>NaN</td>\n",
       "      <td>NaN</td>\n",
       "      <td>NaN</td>\n",
       "      <td>NaN</td>\n",
       "      <td>NaN</td>\n",
       "      <td>NaN</td>\n",
       "      <td>NaN</td>\n",
       "    </tr>\n",
       "    <tr>\n",
       "      <th>7</th>\n",
       "      <td>CL-40</td>\n",
       "      <td>VGLL4</td>\n",
       "      <td>p.?</td>\n",
       "      <td>NaN</td>\n",
       "      <td>NaN</td>\n",
       "      <td>NaN</td>\n",
       "      <td>NaN</td>\n",
       "      <td>NaN</td>\n",
       "      <td>NaN</td>\n",
       "      <td>NaN</td>\n",
       "      <td>...</td>\n",
       "      <td>NaN</td>\n",
       "      <td>NaN</td>\n",
       "      <td>NaN</td>\n",
       "      <td>NaN</td>\n",
       "      <td>NaN</td>\n",
       "      <td>NaN</td>\n",
       "      <td>NaN</td>\n",
       "      <td>NaN</td>\n",
       "      <td>NaN</td>\n",
       "      <td>NaN</td>\n",
       "    </tr>\n",
       "    <tr>\n",
       "      <th>8</th>\n",
       "      <td>TOV-21G</td>\n",
       "      <td>VGLL4</td>\n",
       "      <td>p.?</td>\n",
       "      <td>NaN</td>\n",
       "      <td>NaN</td>\n",
       "      <td>NaN</td>\n",
       "      <td>NaN</td>\n",
       "      <td>NaN</td>\n",
       "      <td>NaN</td>\n",
       "      <td>NaN</td>\n",
       "      <td>...</td>\n",
       "      <td>NaN</td>\n",
       "      <td>NaN</td>\n",
       "      <td>NaN</td>\n",
       "      <td>NaN</td>\n",
       "      <td>NaN</td>\n",
       "      <td>NaN</td>\n",
       "      <td>NaN</td>\n",
       "      <td>NaN</td>\n",
       "      <td>NaN</td>\n",
       "      <td>NaN</td>\n",
       "    </tr>\n",
       "    <tr>\n",
       "      <th>9</th>\n",
       "      <td>Hep3B2-1-7</td>\n",
       "      <td>VGLL4</td>\n",
       "      <td>-</td>\n",
       "      <td>NaN</td>\n",
       "      <td>NaN</td>\n",
       "      <td>NaN</td>\n",
       "      <td>NaN</td>\n",
       "      <td>NaN</td>\n",
       "      <td>NaN</td>\n",
       "      <td>NaN</td>\n",
       "      <td>...</td>\n",
       "      <td>NaN</td>\n",
       "      <td>NaN</td>\n",
       "      <td>NaN</td>\n",
       "      <td>NaN</td>\n",
       "      <td>NaN</td>\n",
       "      <td>NaN</td>\n",
       "      <td>NaN</td>\n",
       "      <td>NaN</td>\n",
       "      <td>NaN</td>\n",
       "      <td>NaN</td>\n",
       "    </tr>\n",
       "    <tr>\n",
       "      <th>10</th>\n",
       "      <td>NUGC-4</td>\n",
       "      <td>VGLL4</td>\n",
       "      <td>p.A95S</td>\n",
       "      <td>NaN</td>\n",
       "      <td>NaN</td>\n",
       "      <td>NaN</td>\n",
       "      <td>NaN</td>\n",
       "      <td>NaN</td>\n",
       "      <td>NaN</td>\n",
       "      <td>NaN</td>\n",
       "      <td>...</td>\n",
       "      <td>NaN</td>\n",
       "      <td>NaN</td>\n",
       "      <td>NaN</td>\n",
       "      <td>NaN</td>\n",
       "      <td>NaN</td>\n",
       "      <td>NaN</td>\n",
       "      <td>NaN</td>\n",
       "      <td>NaN</td>\n",
       "      <td>NaN</td>\n",
       "      <td>NaN</td>\n",
       "    </tr>\n",
       "    <tr>\n",
       "      <th>11</th>\n",
       "      <td>JURL-MK1</td>\n",
       "      <td>VGLL4</td>\n",
       "      <td>-</td>\n",
       "      <td>NaN</td>\n",
       "      <td>NaN</td>\n",
       "      <td>NaN</td>\n",
       "      <td>NaN</td>\n",
       "      <td>NaN</td>\n",
       "      <td>NaN</td>\n",
       "      <td>NaN</td>\n",
       "      <td>...</td>\n",
       "      <td>NaN</td>\n",
       "      <td>NaN</td>\n",
       "      <td>NaN</td>\n",
       "      <td>NaN</td>\n",
       "      <td>NaN</td>\n",
       "      <td>NaN</td>\n",
       "      <td>NaN</td>\n",
       "      <td>NaN</td>\n",
       "      <td>NaN</td>\n",
       "      <td>NaN</td>\n",
       "    </tr>\n",
       "    <tr>\n",
       "      <th>12</th>\n",
       "      <td>GDM-1</td>\n",
       "      <td>VGLL4</td>\n",
       "      <td>-</td>\n",
       "      <td>NaN</td>\n",
       "      <td>NaN</td>\n",
       "      <td>NaN</td>\n",
       "      <td>NaN</td>\n",
       "      <td>NaN</td>\n",
       "      <td>NaN</td>\n",
       "      <td>NaN</td>\n",
       "      <td>...</td>\n",
       "      <td>NaN</td>\n",
       "      <td>NaN</td>\n",
       "      <td>NaN</td>\n",
       "      <td>NaN</td>\n",
       "      <td>NaN</td>\n",
       "      <td>NaN</td>\n",
       "      <td>NaN</td>\n",
       "      <td>NaN</td>\n",
       "      <td>NaN</td>\n",
       "      <td>NaN</td>\n",
       "    </tr>\n",
       "    <tr>\n",
       "      <th>13</th>\n",
       "      <td>SNG-M</td>\n",
       "      <td>VGLL4</td>\n",
       "      <td>-</td>\n",
       "      <td>NaN</td>\n",
       "      <td>NaN</td>\n",
       "      <td>NaN</td>\n",
       "      <td>NaN</td>\n",
       "      <td>NaN</td>\n",
       "      <td>NaN</td>\n",
       "      <td>NaN</td>\n",
       "      <td>...</td>\n",
       "      <td>NaN</td>\n",
       "      <td>NaN</td>\n",
       "      <td>NaN</td>\n",
       "      <td>NaN</td>\n",
       "      <td>NaN</td>\n",
       "      <td>NaN</td>\n",
       "      <td>NaN</td>\n",
       "      <td>NaN</td>\n",
       "      <td>NaN</td>\n",
       "      <td>NaN</td>\n",
       "    </tr>\n",
       "    <tr>\n",
       "      <th>14</th>\n",
       "      <td>NCI-H2030</td>\n",
       "      <td>VGLL4</td>\n",
       "      <td>-</td>\n",
       "      <td>NaN</td>\n",
       "      <td>NaN</td>\n",
       "      <td>NaN</td>\n",
       "      <td>NaN</td>\n",
       "      <td>NaN</td>\n",
       "      <td>NaN</td>\n",
       "      <td>NaN</td>\n",
       "      <td>...</td>\n",
       "      <td>NaN</td>\n",
       "      <td>NaN</td>\n",
       "      <td>NaN</td>\n",
       "      <td>NaN</td>\n",
       "      <td>NaN</td>\n",
       "      <td>NaN</td>\n",
       "      <td>NaN</td>\n",
       "      <td>NaN</td>\n",
       "      <td>NaN</td>\n",
       "      <td>NaN</td>\n",
       "    </tr>\n",
       "    <tr>\n",
       "      <th>15</th>\n",
       "      <td>NTERA-2-cl-D1</td>\n",
       "      <td>VGLL4</td>\n",
       "      <td>-</td>\n",
       "      <td>NaN</td>\n",
       "      <td>NaN</td>\n",
       "      <td>NaN</td>\n",
       "      <td>NaN</td>\n",
       "      <td>NaN</td>\n",
       "      <td>NaN</td>\n",
       "      <td>NaN</td>\n",
       "      <td>...</td>\n",
       "      <td>NaN</td>\n",
       "      <td>NaN</td>\n",
       "      <td>NaN</td>\n",
       "      <td>NaN</td>\n",
       "      <td>NaN</td>\n",
       "      <td>NaN</td>\n",
       "      <td>NaN</td>\n",
       "      <td>NaN</td>\n",
       "      <td>NaN</td>\n",
       "      <td>NaN</td>\n",
       "    </tr>\n",
       "    <tr>\n",
       "      <th>16</th>\n",
       "      <td>NTERA-2-cl-D1</td>\n",
       "      <td>VGLL4</td>\n",
       "      <td>-</td>\n",
       "      <td>NaN</td>\n",
       "      <td>NaN</td>\n",
       "      <td>NaN</td>\n",
       "      <td>NaN</td>\n",
       "      <td>NaN</td>\n",
       "      <td>NaN</td>\n",
       "      <td>NaN</td>\n",
       "      <td>...</td>\n",
       "      <td>NaN</td>\n",
       "      <td>NaN</td>\n",
       "      <td>NaN</td>\n",
       "      <td>NaN</td>\n",
       "      <td>NaN</td>\n",
       "      <td>NaN</td>\n",
       "      <td>NaN</td>\n",
       "      <td>NaN</td>\n",
       "      <td>NaN</td>\n",
       "      <td>NaN</td>\n",
       "    </tr>\n",
       "    <tr>\n",
       "      <th>17</th>\n",
       "      <td>LN-229</td>\n",
       "      <td>VGLL4</td>\n",
       "      <td>-</td>\n",
       "      <td>NaN</td>\n",
       "      <td>NaN</td>\n",
       "      <td>NaN</td>\n",
       "      <td>NaN</td>\n",
       "      <td>NaN</td>\n",
       "      <td>NaN</td>\n",
       "      <td>NaN</td>\n",
       "      <td>...</td>\n",
       "      <td>NaN</td>\n",
       "      <td>NaN</td>\n",
       "      <td>NaN</td>\n",
       "      <td>NaN</td>\n",
       "      <td>NaN</td>\n",
       "      <td>NaN</td>\n",
       "      <td>NaN</td>\n",
       "      <td>NaN</td>\n",
       "      <td>NaN</td>\n",
       "      <td>NaN</td>\n",
       "    </tr>\n",
       "    <tr>\n",
       "      <th>18</th>\n",
       "      <td>Daudi</td>\n",
       "      <td>VGLL4</td>\n",
       "      <td>p.?</td>\n",
       "      <td>NaN</td>\n",
       "      <td>NaN</td>\n",
       "      <td>NaN</td>\n",
       "      <td>NaN</td>\n",
       "      <td>NaN</td>\n",
       "      <td>NaN</td>\n",
       "      <td>NaN</td>\n",
       "      <td>...</td>\n",
       "      <td>NaN</td>\n",
       "      <td>NaN</td>\n",
       "      <td>NaN</td>\n",
       "      <td>NaN</td>\n",
       "      <td>NaN</td>\n",
       "      <td>NaN</td>\n",
       "      <td>NaN</td>\n",
       "      <td>NaN</td>\n",
       "      <td>NaN</td>\n",
       "      <td>NaN</td>\n",
       "    </tr>\n",
       "    <tr>\n",
       "      <th>19</th>\n",
       "      <td>Daudi</td>\n",
       "      <td>VGLL4</td>\n",
       "      <td>p.S282T</td>\n",
       "      <td>NaN</td>\n",
       "      <td>NaN</td>\n",
       "      <td>NaN</td>\n",
       "      <td>NaN</td>\n",
       "      <td>NaN</td>\n",
       "      <td>NaN</td>\n",
       "      <td>NaN</td>\n",
       "      <td>...</td>\n",
       "      <td>NaN</td>\n",
       "      <td>NaN</td>\n",
       "      <td>NaN</td>\n",
       "      <td>NaN</td>\n",
       "      <td>NaN</td>\n",
       "      <td>NaN</td>\n",
       "      <td>NaN</td>\n",
       "      <td>NaN</td>\n",
       "      <td>NaN</td>\n",
       "      <td>NaN</td>\n",
       "    </tr>\n",
       "  </tbody>\n",
       "</table>\n",
       "<p>20 rows × 959 columns</p>\n",
       "</div>"
      ],
      "text/plain": [
       "   CELL_LINE_NAME gene_symbol protein_mutation ABCB6 ABCC5 ABCF1 ABCF3 ABHD4  \\\n",
       "0           LAN-6       VGLL4                -   NaN   NaN   NaN   NaN   NaN   \n",
       "1           CL-11       VGLL4              p.?   NaN   NaN   NaN   NaN   NaN   \n",
       "2           SNG-M       VGLL4              p.?   NaN   NaN   NaN   NaN   NaN   \n",
       "3          JHOS-2       VGLL4                -   NaN   NaN   NaN   NaN   NaN   \n",
       "4       NCI-H1436       VGLL4                -   NaN   NaN   NaN   NaN   NaN   \n",
       "5         HCC1395       VGLL4                -   NaN   NaN   NaN   NaN   NaN   \n",
       "6         SNU-175       VGLL4                -   NaN   NaN   NaN   NaN   NaN   \n",
       "7           CL-40       VGLL4              p.?   NaN   NaN   NaN   NaN   NaN   \n",
       "8         TOV-21G       VGLL4              p.?   NaN   NaN   NaN   NaN   NaN   \n",
       "9      Hep3B2-1-7       VGLL4                -   NaN   NaN   NaN   NaN   NaN   \n",
       "10         NUGC-4       VGLL4           p.A95S   NaN   NaN   NaN   NaN   NaN   \n",
       "11       JURL-MK1       VGLL4                -   NaN   NaN   NaN   NaN   NaN   \n",
       "12          GDM-1       VGLL4                -   NaN   NaN   NaN   NaN   NaN   \n",
       "13          SNG-M       VGLL4                -   NaN   NaN   NaN   NaN   NaN   \n",
       "14      NCI-H2030       VGLL4                -   NaN   NaN   NaN   NaN   NaN   \n",
       "15  NTERA-2-cl-D1       VGLL4                -   NaN   NaN   NaN   NaN   NaN   \n",
       "16  NTERA-2-cl-D1       VGLL4                -   NaN   NaN   NaN   NaN   NaN   \n",
       "17         LN-229       VGLL4                -   NaN   NaN   NaN   NaN   NaN   \n",
       "18          Daudi       VGLL4              p.?   NaN   NaN   NaN   NaN   NaN   \n",
       "19          Daudi       VGLL4          p.S282T   NaN   NaN   NaN   NaN   NaN   \n",
       "\n",
       "   ABHD6 ABL1  ... ZMIZ1 ZMYM2 ZNF131 ZNF274 ZNF318 ZNF395 ZNF451 ZNF586  \\\n",
       "0    NaN  NaN  ...   NaN   NaN    NaN    NaN    NaN    NaN    NaN    NaN   \n",
       "1    NaN  NaN  ...   NaN   NaN    NaN    NaN    NaN    NaN    NaN    NaN   \n",
       "2    NaN  NaN  ...   NaN   NaN    NaN    NaN    NaN    NaN    NaN    NaN   \n",
       "3    NaN  NaN  ...   NaN   NaN    NaN    NaN    NaN    NaN    NaN    NaN   \n",
       "4    NaN  NaN  ...   NaN   NaN    NaN    NaN    NaN    NaN    NaN    NaN   \n",
       "5    NaN  NaN  ...   NaN   NaN    NaN    NaN    NaN    NaN    NaN    NaN   \n",
       "6    NaN  NaN  ...   NaN   NaN    NaN    NaN    NaN    NaN    NaN    NaN   \n",
       "7    NaN  NaN  ...   NaN   NaN    NaN    NaN    NaN    NaN    NaN    NaN   \n",
       "8    NaN  NaN  ...   NaN   NaN    NaN    NaN    NaN    NaN    NaN    NaN   \n",
       "9    NaN  NaN  ...   NaN   NaN    NaN    NaN    NaN    NaN    NaN    NaN   \n",
       "10   NaN  NaN  ...   NaN   NaN    NaN    NaN    NaN    NaN    NaN    NaN   \n",
       "11   NaN  NaN  ...   NaN   NaN    NaN    NaN    NaN    NaN    NaN    NaN   \n",
       "12   NaN  NaN  ...   NaN   NaN    NaN    NaN    NaN    NaN    NaN    NaN   \n",
       "13   NaN  NaN  ...   NaN   NaN    NaN    NaN    NaN    NaN    NaN    NaN   \n",
       "14   NaN  NaN  ...   NaN   NaN    NaN    NaN    NaN    NaN    NaN    NaN   \n",
       "15   NaN  NaN  ...   NaN   NaN    NaN    NaN    NaN    NaN    NaN    NaN   \n",
       "16   NaN  NaN  ...   NaN   NaN    NaN    NaN    NaN    NaN    NaN    NaN   \n",
       "17   NaN  NaN  ...   NaN   NaN    NaN    NaN    NaN    NaN    NaN    NaN   \n",
       "18   NaN  NaN  ...   NaN   NaN    NaN    NaN    NaN    NaN    NaN    NaN   \n",
       "19   NaN  NaN  ...   NaN   NaN    NaN    NaN    NaN    NaN    NaN    NaN   \n",
       "\n",
       "   ZNF589 ZW10  \n",
       "0     NaN  NaN  \n",
       "1     NaN  NaN  \n",
       "2     NaN  NaN  \n",
       "3     NaN  NaN  \n",
       "4     NaN  NaN  \n",
       "5     NaN  NaN  \n",
       "6     NaN  NaN  \n",
       "7     NaN  NaN  \n",
       "8     NaN  NaN  \n",
       "9     NaN  NaN  \n",
       "10    NaN  NaN  \n",
       "11    NaN  NaN  \n",
       "12    NaN  NaN  \n",
       "13    NaN  NaN  \n",
       "14    NaN  NaN  \n",
       "15    NaN  NaN  \n",
       "16    NaN  NaN  \n",
       "17    NaN  NaN  \n",
       "18    NaN  NaN  \n",
       "19    NaN  NaN  \n",
       "\n",
       "[20 rows x 959 columns]"
      ]
     },
     "execution_count": 58,
     "metadata": {},
     "output_type": "execute_result"
    }
   ],
   "source": [
    "mutations_all_protein.head(20)"
   ]
  },
  {
   "cell_type": "markdown",
   "metadata": {},
   "source": [
    "### RNA Mutation"
   ]
  },
  {
   "cell_type": "code",
   "execution_count": 32,
   "metadata": {},
   "outputs": [
    {
     "data": {
      "text/html": [
       "<div>\n",
       "<style scoped>\n",
       "    .dataframe tbody tr th:only-of-type {\n",
       "        vertical-align: middle;\n",
       "    }\n",
       "\n",
       "    .dataframe tbody tr th {\n",
       "        vertical-align: top;\n",
       "    }\n",
       "\n",
       "    .dataframe thead th {\n",
       "        text-align: right;\n",
       "    }\n",
       "</style>\n",
       "<table border=\"1\" class=\"dataframe\">\n",
       "  <thead>\n",
       "    <tr style=\"text-align: right;\">\n",
       "      <th></th>\n",
       "      <th>CELL_LINE_NAME</th>\n",
       "      <th>gene_symbol</th>\n",
       "      <th>rna_mutation</th>\n",
       "    </tr>\n",
       "  </thead>\n",
       "  <tbody>\n",
       "    <tr>\n",
       "      <th>0</th>\n",
       "      <td>LAN-6</td>\n",
       "      <td>VGLL4</td>\n",
       "      <td>r.?</td>\n",
       "    </tr>\n",
       "    <tr>\n",
       "      <th>1</th>\n",
       "      <td>CL-11</td>\n",
       "      <td>VGLL4</td>\n",
       "      <td>r.407-7c&gt;u</td>\n",
       "    </tr>\n",
       "    <tr>\n",
       "      <th>2</th>\n",
       "      <td>SNG-M</td>\n",
       "      <td>VGLL4</td>\n",
       "      <td>r.65c&gt;u</td>\n",
       "    </tr>\n",
       "    <tr>\n",
       "      <th>3</th>\n",
       "      <td>JHOS-2</td>\n",
       "      <td>VGLL4</td>\n",
       "      <td>r.?</td>\n",
       "    </tr>\n",
       "    <tr>\n",
       "      <th>4</th>\n",
       "      <td>NCI-H1436</td>\n",
       "      <td>VGLL4</td>\n",
       "      <td>r.?</td>\n",
       "    </tr>\n",
       "  </tbody>\n",
       "</table>\n",
       "</div>"
      ],
      "text/plain": [
       "  CELL_LINE_NAME gene_symbol rna_mutation\n",
       "0          LAN-6       VGLL4          r.?\n",
       "1          CL-11       VGLL4   r.407-7c>u\n",
       "2          SNG-M       VGLL4      r.65c>u\n",
       "3         JHOS-2       VGLL4          r.?\n",
       "4      NCI-H1436       VGLL4          r.?"
      ]
     },
     "execution_count": 32,
     "metadata": {},
     "output_type": "execute_result"
    }
   ],
   "source": [
    "mutations_all_rna = mutations_all_v5[['CELL_LINE_NAME', 'gene_symbol', 'rna_mutation']]\n",
    "mutations_all_rna.head(5)"
   ]
  },
  {
   "cell_type": "code",
   "execution_count": null,
   "metadata": {},
   "outputs": [],
   "source": []
  },
  {
   "cell_type": "markdown",
   "metadata": {},
   "source": [
    "### CDNA Mutation"
   ]
  },
  {
   "cell_type": "code",
   "execution_count": 33,
   "metadata": {},
   "outputs": [
    {
     "data": {
      "text/html": [
       "<div>\n",
       "<style scoped>\n",
       "    .dataframe tbody tr th:only-of-type {\n",
       "        vertical-align: middle;\n",
       "    }\n",
       "\n",
       "    .dataframe tbody tr th {\n",
       "        vertical-align: top;\n",
       "    }\n",
       "\n",
       "    .dataframe thead th {\n",
       "        text-align: right;\n",
       "    }\n",
       "</style>\n",
       "<table border=\"1\" class=\"dataframe\">\n",
       "  <thead>\n",
       "    <tr style=\"text-align: right;\">\n",
       "      <th></th>\n",
       "      <th>CELL_LINE_NAME</th>\n",
       "      <th>gene_symbol</th>\n",
       "      <th>cdna_mutation</th>\n",
       "    </tr>\n",
       "  </thead>\n",
       "  <tbody>\n",
       "    <tr>\n",
       "      <th>0</th>\n",
       "      <td>LAN-6</td>\n",
       "      <td>VGLL4</td>\n",
       "      <td>-</td>\n",
       "    </tr>\n",
       "    <tr>\n",
       "      <th>1</th>\n",
       "      <td>CL-11</td>\n",
       "      <td>VGLL4</td>\n",
       "      <td>c.?</td>\n",
       "    </tr>\n",
       "    <tr>\n",
       "      <th>2</th>\n",
       "      <td>SNG-M</td>\n",
       "      <td>VGLL4</td>\n",
       "      <td>c.?</td>\n",
       "    </tr>\n",
       "    <tr>\n",
       "      <th>3</th>\n",
       "      <td>JHOS-2</td>\n",
       "      <td>VGLL4</td>\n",
       "      <td>-</td>\n",
       "    </tr>\n",
       "    <tr>\n",
       "      <th>4</th>\n",
       "      <td>NCI-H1436</td>\n",
       "      <td>VGLL4</td>\n",
       "      <td>-</td>\n",
       "    </tr>\n",
       "  </tbody>\n",
       "</table>\n",
       "</div>"
      ],
      "text/plain": [
       "  CELL_LINE_NAME gene_symbol cdna_mutation\n",
       "0          LAN-6       VGLL4             -\n",
       "1          CL-11       VGLL4           c.?\n",
       "2          SNG-M       VGLL4           c.?\n",
       "3         JHOS-2       VGLL4             -\n",
       "4      NCI-H1436       VGLL4             -"
      ]
     },
     "execution_count": 33,
     "metadata": {},
     "output_type": "execute_result"
    }
   ],
   "source": [
    "mutations_all_cdna = mutations_all_v5[['CELL_LINE_NAME', 'gene_symbol', 'cdna_mutation']]\n",
    "mutations_all_cdna.head(5)"
   ]
  },
  {
   "cell_type": "code",
   "execution_count": null,
   "metadata": {},
   "outputs": [],
   "source": []
  },
  {
   "cell_type": "markdown",
   "metadata": {},
   "source": []
  },
  {
   "cell_type": "code",
   "execution_count": null,
   "metadata": {},
   "outputs": [],
   "source": []
  },
  {
   "cell_type": "code",
   "execution_count": null,
   "metadata": {},
   "outputs": [],
   "source": []
  },
  {
   "cell_type": "code",
   "execution_count": 39,
   "metadata": {},
   "outputs": [
    {
     "data": {
      "text/plain": [
       "988"
      ]
     },
     "execution_count": 39,
     "metadata": {},
     "output_type": "execute_result"
    }
   ],
   "source": [
    "len(uniq_sanger_model_ids__gdsc)"
   ]
  },
  {
   "cell_type": "code",
   "execution_count": 40,
   "metadata": {},
   "outputs": [
    {
     "data": {
      "text/plain": [
       "1385"
      ]
     },
     "execution_count": 40,
     "metadata": {},
     "output_type": "execute_result"
    }
   ],
   "source": [
    "len(uniq_model_ids__mutations)"
   ]
  },
  {
   "cell_type": "code",
   "execution_count": null,
   "metadata": {},
   "outputs": [],
   "source": []
  },
  {
   "cell_type": "code",
   "execution_count": 30,
   "metadata": {},
   "outputs": [],
   "source": [
    "# The following script is to obtain the type of relationship between two columns.\n",
    "# Adapted from https://stackoverflow.com/questions/59091196/checking-the-type-of-relationship-between-columns-in-python-pandas-one-to-one \n",
    "\n",
    "def get_relation(df, col_1, col_2):        \n",
    "    first_max = df[[col_1, col_2]].groupby(col_1).count().max()[0]\n",
    "    second_max = df[[col_1, col_2]].groupby(col_2).count().max()[0]\n",
    "    if first_max==1:\n",
    "        return '1-to-1' if second_max==1 else '1-to-n'\n",
    "    else:\n",
    "        return 'n-to-1' if second_max==1 else 'n-to-n'"
   ]
  },
  {
   "cell_type": "code",
   "execution_count": 34,
   "metadata": {},
   "outputs": [
    {
     "name": "stdout",
     "output_type": "stream",
     "text": [
      "CELL_LINE_NAME : MASTER_CELL_ID --> n-to-n\n",
      "CELL_LINE_NAME : COSMIC_ID_ic50 --> n-to-n\n",
      "CELL_LINE_NAME : SANGER_MODEL_ID --> n-to-n\n",
      "MASTER_CELL_ID : CELL_LINE_NAME --> n-to-n\n",
      "MASTER_CELL_ID : COSMIC_ID_ic50 --> n-to-n\n",
      "MASTER_CELL_ID : SANGER_MODEL_ID --> n-to-n\n",
      "COSMIC_ID_ic50 : CELL_LINE_NAME --> n-to-n\n",
      "COSMIC_ID_ic50 : MASTER_CELL_ID --> n-to-n\n",
      "COSMIC_ID_ic50 : SANGER_MODEL_ID --> n-to-n\n",
      "SANGER_MODEL_ID : CELL_LINE_NAME --> n-to-n\n",
      "SANGER_MODEL_ID : MASTER_CELL_ID --> n-to-n\n",
      "SANGER_MODEL_ID : COSMIC_ID_ic50 --> n-to-n\n"
     ]
    }
   ],
   "source": [
    "from itertools import product\n",
    "\n",
    "# Subset of dataset which should be checked for its relationship of its columns to each other.\n",
    "subset_cols = [\n",
    "    'CELL_LINE_NAME',\n",
    "    'MASTER_CELL_ID',\n",
    "    'COSMIC_ID_ic50',\n",
    "    'SANGER_MODEL_ID'\n",
    "]\n",
    "subset = gdsc_ic50_raw_join[subset_cols]\n",
    "\n",
    "for col_i, col_j in product(subset.columns, subset.columns):\n",
    "    if col_i == col_j:\n",
    "        continue\n",
    "    print(f\"{col_i} : {col_j} --> {get_relation(gdsc_ic50_raw_join, col_i, col_j)}\")"
   ]
  },
  {
   "cell_type": "code",
   "execution_count": null,
   "metadata": {},
   "outputs": [],
   "source": []
  },
  {
   "cell_type": "code",
   "execution_count": 44,
   "metadata": {},
   "outputs": [
    {
     "name": "stdout",
     "output_type": "stream",
     "text": [
      "\n",
      "    GDSC : (5707271, 35)\n",
      "    mut  : (11609, 13)\n",
      "\n",
      "    inner : (53359867, 48)\n",
      "\n"
     ]
    }
   ],
   "source": [
    "# Proof that the SANGER_MODEL_ID can be mapped to the model_id.\n",
    "test = gdsc_ic50_raw_join.merge(mutations_summary,\n",
    "                                right_on='model_id',\n",
    "                                left_on='SANGER_MODEL_ID',\n",
    "                                how='inner',\n",
    "                                suffixes=['_gdsc', '_mut'])\n",
    "print(f\"\"\"\n",
    "    GDSC : {gdsc_ic50_raw_join.shape}\n",
    "    mut  : {mutations_summary.shape}\n",
    "\n",
    "    inner : {test.shape}\n",
    "\"\"\")"
   ]
  },
  {
   "cell_type": "code",
   "execution_count": 63,
   "metadata": {},
   "outputs": [
    {
     "name": "stdout",
     "output_type": "stream",
     "text": [
      "Unique\n",
      "    SANGER_MDEL_ID's :   988 (GDSC table)\n",
      "    model_id's       :  1346 (Mutations table)\n",
      "\n",
      "\n",
      "There are 21 (2.13%) SANGER_MODEL_ID's which are in the GDSC database \n",
      "    but not model_id's in the mutations table.\n",
      "The remaining 967 (97.87%) SANGER_MODEL_ID's are both, in the GDSC database \n",
      "    as well as model_id's in the mutations table.\n",
      "\n"
     ]
    }
   ],
   "source": [
    "sangers = set(np.unique(gdsc_ic50_raw_join.SANGER_MODEL_ID)) \n",
    "model_ids = set(np.unique(mutations_summary.model_id))\n",
    "print(f\"\"\"Unique\n",
    "    SANGER_MDEL_ID's : {len(sangers):5.0f} (GDSC table)\n",
    "    model_id's       : {len(model_ids):5.0f} (Mutations table)\n",
    "\"\"\")\n",
    "\n",
    "unequal = len(list(sangers - model_ids))\n",
    "equal = len(sangers) - unequal\n",
    "print(f\"\"\"\n",
    "There are {unequal} ({100*unequal/len(sangers):2.2f}%) SANGER_MODEL_ID's which are in the GDSC database \n",
    "    but not model_id's in the mutations table.\n",
    "The remaining {equal} ({100*equal/len(sangers):2.2f}%) SANGER_MODEL_ID's are both, in the GDSC database \n",
    "    as well as model_id's in the mutations table.\n",
    "\"\"\")"
   ]
  },
  {
   "cell_type": "markdown",
   "metadata": {},
   "source": [
    "Thus, we can conclude that the `SANGER_MODEL_ID` from the GDSC database can be mapped to the `model_id` from the mutations table.\n",
    "\n",
    "Out of the equal `SANGER_MODEL_ID`'s and `model_id`'s respectively, check how much each ID is given per dataset."
   ]
  },
  {
   "cell_type": "code",
   "execution_count": 66,
   "metadata": {},
   "outputs": [],
   "source": [
    "# Count per SANGER_MODEL_ID in the GDSC table.\n",
    "sanger_ids_count_gdsc = gdsc_ic50_raw_join.groupby(['SANGER_MODEL_ID']).size()\n",
    "\n",
    "# Count per model_id in the mutations table.\n",
    "model_ids_count_mut = mutations_summary.groupby(['model_id']).size()\n"
   ]
  },
  {
   "cell_type": "code",
   "execution_count": 74,
   "metadata": {},
   "outputs": [
    {
     "data": {
      "image/png": "[encoded data removed]",
      "text/plain": [
       "<Figure size 1080x360 with 2 Axes>"
      ]
     },
     "metadata": {},
     "output_type": "display_data"
    }
   ],
   "source": [
    "figure, axs = plt.subplots(1, 2, figsize=(15, 5))\n",
    "figure.suptitle(\"Distributions of the counts per SANGER_MODEL_ID in GDSC & per model_id in Mutations data.\")\n",
    "\n",
    "sns.histplot(sanger_ids_count_gdsc, ax=axs[0]);\n",
    "axs[0].set_title(\"Count of SANGER_MODEL_ID's in GDSC\");\n",
    "sns.histplot(model_ids_count_mut, ax=axs[1]);\n",
    "axs[1].set_title(\"Count of model_id's in Mutations\");\n"
   ]
  },
  {
   "cell_type": "markdown",
   "metadata": {},
   "source": [
    "## Map Gene Expression to Mutations\n",
    "\n",
    "As in notebook `02_GDSC_map_GeneExpr.ipynb` we saved the sparsed gene expression data to `geneexpr_sparse.pkl`. We will use this tables index column `Sample Name` to map it to the `gene_symbol` column of the mutations table."
   ]
  },
  {
   "cell_type": "code",
   "execution_count": 11,
   "metadata": {},
   "outputs": [
    {
     "name": "stdout",
     "output_type": "stream",
     "text": [
      "(1018, 908)\n"
     ]
    },
    {
     "data": {
      "text/html": [
       "<div>\n",
       "<style scoped>\n",
       "    .dataframe tbody tr th:only-of-type {\n",
       "        vertical-align: middle;\n",
       "    }\n",
       "\n",
       "    .dataframe tbody tr th {\n",
       "        vertical-align: top;\n",
       "    }\n",
       "\n",
       "    .dataframe thead th {\n",
       "        text-align: right;\n",
       "    }\n",
       "</style>\n",
       "<table border=\"1\" class=\"dataframe\">\n",
       "  <thead>\n",
       "    <tr style=\"text-align: right;\">\n",
       "      <th>Sample Name</th>\n",
       "      <th>TSPAN6</th>\n",
       "      <th>SCYL3</th>\n",
       "      <th>BAD</th>\n",
       "      <th>LAP3</th>\n",
       "      <th>SNX11</th>\n",
       "      <th>CASP10</th>\n",
       "      <th>CFLAR</th>\n",
       "      <th>FKBP4</th>\n",
       "      <th>RBM6</th>\n",
       "      <th>SLC25A13</th>\n",
       "      <th>...</th>\n",
       "      <th>MYCBP</th>\n",
       "      <th>FIS1</th>\n",
       "      <th>IFRD2</th>\n",
       "      <th>NPEPL1</th>\n",
       "      <th>CEBPD</th>\n",
       "      <th>PLEKHM1</th>\n",
       "      <th>MIF</th>\n",
       "      <th>PRAF2</th>\n",
       "      <th>LYN</th>\n",
       "      <th>POLG2</th>\n",
       "    </tr>\n",
       "  </thead>\n",
       "  <tbody>\n",
       "    <tr>\n",
       "      <th>CAL-120</th>\n",
       "      <td>7.632023</td>\n",
       "      <td>3.614794</td>\n",
       "      <td>7.458409</td>\n",
       "      <td>6.453926</td>\n",
       "      <td>4.767457</td>\n",
       "      <td>2.831262</td>\n",
       "      <td>5.463531</td>\n",
       "      <td>8.654218</td>\n",
       "      <td>5.365098</td>\n",
       "      <td>5.682413</td>\n",
       "      <td>...</td>\n",
       "      <td>8.217182</td>\n",
       "      <td>9.344897</td>\n",
       "      <td>8.175046</td>\n",
       "      <td>3.933749</td>\n",
       "      <td>9.340292</td>\n",
       "      <td>6.167946</td>\n",
       "      <td>11.893872</td>\n",
       "      <td>5.060852</td>\n",
       "      <td>5.892532</td>\n",
       "      <td>6.476232</td>\n",
       "    </tr>\n",
       "    <tr>\n",
       "      <th>DMS-114</th>\n",
       "      <td>7.548671</td>\n",
       "      <td>4.066887</td>\n",
       "      <td>7.479327</td>\n",
       "      <td>6.742826</td>\n",
       "      <td>5.246301</td>\n",
       "      <td>2.788942</td>\n",
       "      <td>4.662621</td>\n",
       "      <td>9.530892</td>\n",
       "      <td>5.271282</td>\n",
       "      <td>4.724554</td>\n",
       "      <td>...</td>\n",
       "      <td>8.128025</td>\n",
       "      <td>9.122008</td>\n",
       "      <td>7.564726</td>\n",
       "      <td>3.577621</td>\n",
       "      <td>6.056126</td>\n",
       "      <td>5.271099</td>\n",
       "      <td>11.841300</td>\n",
       "      <td>6.515567</td>\n",
       "      <td>4.580184</td>\n",
       "      <td>6.772732</td>\n",
       "    </tr>\n",
       "    <tr>\n",
       "      <th>CAL-51</th>\n",
       "      <td>8.712338</td>\n",
       "      <td>3.956230</td>\n",
       "      <td>7.419672</td>\n",
       "      <td>5.655691</td>\n",
       "      <td>4.645800</td>\n",
       "      <td>3.191751</td>\n",
       "      <td>5.519212</td>\n",
       "      <td>7.612684</td>\n",
       "      <td>5.354469</td>\n",
       "      <td>8.167217</td>\n",
       "      <td>...</td>\n",
       "      <td>7.265206</td>\n",
       "      <td>9.567052</td>\n",
       "      <td>7.774788</td>\n",
       "      <td>4.169622</td>\n",
       "      <td>10.182601</td>\n",
       "      <td>5.784561</td>\n",
       "      <td>12.272137</td>\n",
       "      <td>4.815762</td>\n",
       "      <td>6.482469</td>\n",
       "      <td>6.031281</td>\n",
       "    </tr>\n",
       "  </tbody>\n",
       "</table>\n",
       "<p>3 rows × 908 columns</p>\n",
       "</div>"
      ],
      "text/plain": [
       "Sample Name    TSPAN6     SCYL3       BAD      LAP3     SNX11    CASP10  \\\n",
       "CAL-120      7.632023  3.614794  7.458409  6.453926  4.767457  2.831262   \n",
       "DMS-114      7.548671  4.066887  7.479327  6.742826  5.246301  2.788942   \n",
       "CAL-51       8.712338  3.956230  7.419672  5.655691  4.645800  3.191751   \n",
       "\n",
       "Sample Name     CFLAR     FKBP4      RBM6  SLC25A13  ...     MYCBP      FIS1  \\\n",
       "CAL-120      5.463531  8.654218  5.365098  5.682413  ...  8.217182  9.344897   \n",
       "DMS-114      4.662621  9.530892  5.271282  4.724554  ...  8.128025  9.122008   \n",
       "CAL-51       5.519212  7.612684  5.354469  8.167217  ...  7.265206  9.567052   \n",
       "\n",
       "Sample Name     IFRD2    NPEPL1      CEBPD   PLEKHM1        MIF     PRAF2  \\\n",
       "CAL-120      8.175046  3.933749   9.340292  6.167946  11.893872  5.060852   \n",
       "DMS-114      7.564726  3.577621   6.056126  5.271099  11.841300  6.515567   \n",
       "CAL-51       7.774788  4.169622  10.182601  5.784561  12.272137  4.815762   \n",
       "\n",
       "Sample Name       LYN     POLG2  \n",
       "CAL-120      5.892532  6.476232  \n",
       "DMS-114      4.580184  6.772732  \n",
       "CAL-51       6.482469  6.031281  \n",
       "\n",
       "[3 rows x 908 columns]"
      ]
     },
     "execution_count": 11,
     "metadata": {},
     "output_type": "execute_result"
    }
   ],
   "source": [
    "# Read sparsed gene expression table.\n",
    "gene_expr_sparse = pd.read_pickle(f'{PATH_TO_SAVE_DATA_TO}geneexpr_sparse.pkl')\n",
    "print(gene_expr_sparse.shape)\n",
    "gene_expr_sparse.head(3)"
   ]
  },
  {
   "cell_type": "markdown",
   "metadata": {},
   "source": [
    "The gene expression table contains \n",
    "- $1018$ `CELL_LINE_NAME` (rows)\n",
    "- $908$ `GENE_SYMBOL` (rows)"
   ]
  },
  {
   "cell_type": "code",
   "execution_count": 24,
   "metadata": {},
   "outputs": [
    {
     "name": "stdout",
     "output_type": "stream",
     "text": [
      "\n",
      "    Gene symbols in ...\n",
      "        ... Gene Expression table : 908\n",
      "        ... Mutations       table : 611\n",
      "\n"
     ]
    }
   ],
   "source": [
    "gene_symbols_expr = set(np.unique(list(gene_expr_sparse.columns)))\n",
    "gene_symbols_mut = set(np.unique(mutations_summary.gene_symbol))\n",
    "\n",
    "print(f\"\"\"\n",
    "    Gene symbols in ...\n",
    "        ... Gene Expression table : {len(gene_symbols_expr)}\n",
    "        ... Mutations       table : {len(gene_symbols_mut)}\n",
    "\"\"\")"
   ]
  },
  {
   "cell_type": "code",
   "execution_count": 33,
   "metadata": {},
   "outputs": [
    {
     "data": {
      "text/html": [
       "<div>\n",
       "<style scoped>\n",
       "    .dataframe tbody tr th:only-of-type {\n",
       "        vertical-align: middle;\n",
       "    }\n",
       "\n",
       "    .dataframe tbody tr th {\n",
       "        vertical-align: top;\n",
       "    }\n",
       "\n",
       "    .dataframe thead th {\n",
       "        text-align: right;\n",
       "    }\n",
       "</style>\n",
       "<table border=\"1\" class=\"dataframe\">\n",
       "  <thead>\n",
       "    <tr style=\"text-align: right;\">\n",
       "      <th></th>\n",
       "      <th>CAL-120</th>\n",
       "      <th>DMS-114</th>\n",
       "      <th>CAL-51</th>\n",
       "      <th>H2869</th>\n",
       "      <th>H290</th>\n",
       "      <th>A2058</th>\n",
       "      <th>CESS</th>\n",
       "      <th>H2803</th>\n",
       "      <th>H2722</th>\n",
       "      <th>HCC1419</th>\n",
       "      <th>...</th>\n",
       "      <th>LB831-BLC</th>\n",
       "      <th>HC-1</th>\n",
       "      <th>Jurkat</th>\n",
       "      <th>MOG-G-UVW</th>\n",
       "      <th>unknown_cosmic_1659787</th>\n",
       "      <th>JIMT-1</th>\n",
       "      <th>PEO1</th>\n",
       "      <th>PL4</th>\n",
       "      <th>TT</th>\n",
       "      <th>unknown_cosmic_905954.1</th>\n",
       "    </tr>\n",
       "    <tr>\n",
       "      <th>Sample Name</th>\n",
       "      <th></th>\n",
       "      <th></th>\n",
       "      <th></th>\n",
       "      <th></th>\n",
       "      <th></th>\n",
       "      <th></th>\n",
       "      <th></th>\n",
       "      <th></th>\n",
       "      <th></th>\n",
       "      <th></th>\n",
       "      <th></th>\n",
       "      <th></th>\n",
       "      <th></th>\n",
       "      <th></th>\n",
       "      <th></th>\n",
       "      <th></th>\n",
       "      <th></th>\n",
       "      <th></th>\n",
       "      <th></th>\n",
       "      <th></th>\n",
       "      <th></th>\n",
       "    </tr>\n",
       "  </thead>\n",
       "  <tbody>\n",
       "    <tr>\n",
       "      <th>TSPAN6</th>\n",
       "      <td>7.632023</td>\n",
       "      <td>7.548671</td>\n",
       "      <td>8.712338</td>\n",
       "      <td>7.797142</td>\n",
       "      <td>7.729268</td>\n",
       "      <td>7.074533</td>\n",
       "      <td>3.285198</td>\n",
       "      <td>6.961606</td>\n",
       "      <td>5.943046</td>\n",
       "      <td>3.455951</td>\n",
       "      <td>...</td>\n",
       "      <td>7.105637</td>\n",
       "      <td>3.236503</td>\n",
       "      <td>3.038892</td>\n",
       "      <td>8.373223</td>\n",
       "      <td>6.932178</td>\n",
       "      <td>8.441628</td>\n",
       "      <td>8.422922</td>\n",
       "      <td>8.089255</td>\n",
       "      <td>3.112333</td>\n",
       "      <td>7.153127</td>\n",
       "    </tr>\n",
       "    <tr>\n",
       "      <th>SCYL3</th>\n",
       "      <td>3.614794</td>\n",
       "      <td>4.066887</td>\n",
       "      <td>3.956230</td>\n",
       "      <td>4.063701</td>\n",
       "      <td>4.341500</td>\n",
       "      <td>4.270903</td>\n",
       "      <td>5.968168</td>\n",
       "      <td>3.715033</td>\n",
       "      <td>3.848112</td>\n",
       "      <td>5.560883</td>\n",
       "      <td>...</td>\n",
       "      <td>3.696835</td>\n",
       "      <td>4.624013</td>\n",
       "      <td>4.348524</td>\n",
       "      <td>3.858121</td>\n",
       "      <td>3.947561</td>\n",
       "      <td>4.425849</td>\n",
       "      <td>3.550390</td>\n",
       "      <td>4.443337</td>\n",
       "      <td>4.266828</td>\n",
       "      <td>4.100493</td>\n",
       "    </tr>\n",
       "    <tr>\n",
       "      <th>BAD</th>\n",
       "      <td>7.458409</td>\n",
       "      <td>7.479327</td>\n",
       "      <td>7.419672</td>\n",
       "      <td>7.731137</td>\n",
       "      <td>6.998981</td>\n",
       "      <td>6.550210</td>\n",
       "      <td>6.354063</td>\n",
       "      <td>7.940838</td>\n",
       "      <td>7.488690</td>\n",
       "      <td>8.771958</td>\n",
       "      <td>...</td>\n",
       "      <td>7.147962</td>\n",
       "      <td>6.478426</td>\n",
       "      <td>6.919537</td>\n",
       "      <td>6.801096</td>\n",
       "      <td>7.153122</td>\n",
       "      <td>7.234464</td>\n",
       "      <td>7.525257</td>\n",
       "      <td>6.066356</td>\n",
       "      <td>8.185968</td>\n",
       "      <td>4.967268</td>\n",
       "    </tr>\n",
       "    <tr>\n",
       "      <th>LAP3</th>\n",
       "      <td>6.453926</td>\n",
       "      <td>6.742826</td>\n",
       "      <td>5.655691</td>\n",
       "      <td>5.259367</td>\n",
       "      <td>4.611395</td>\n",
       "      <td>6.930777</td>\n",
       "      <td>8.560707</td>\n",
       "      <td>7.815915</td>\n",
       "      <td>4.765141</td>\n",
       "      <td>7.593677</td>\n",
       "      <td>...</td>\n",
       "      <td>5.383810</td>\n",
       "      <td>8.591164</td>\n",
       "      <td>6.208059</td>\n",
       "      <td>6.715130</td>\n",
       "      <td>6.530806</td>\n",
       "      <td>5.759933</td>\n",
       "      <td>7.810126</td>\n",
       "      <td>7.182077</td>\n",
       "      <td>5.663629</td>\n",
       "      <td>6.539451</td>\n",
       "    </tr>\n",
       "    <tr>\n",
       "      <th>SNX11</th>\n",
       "      <td>4.767457</td>\n",
       "      <td>5.246301</td>\n",
       "      <td>4.645800</td>\n",
       "      <td>4.558836</td>\n",
       "      <td>5.456692</td>\n",
       "      <td>5.099542</td>\n",
       "      <td>7.574348</td>\n",
       "      <td>4.879785</td>\n",
       "      <td>4.842966</td>\n",
       "      <td>7.809379</td>\n",
       "      <td>...</td>\n",
       "      <td>4.755084</td>\n",
       "      <td>6.761799</td>\n",
       "      <td>5.034195</td>\n",
       "      <td>4.958603</td>\n",
       "      <td>4.629068</td>\n",
       "      <td>4.982202</td>\n",
       "      <td>5.037259</td>\n",
       "      <td>4.611973</td>\n",
       "      <td>4.800284</td>\n",
       "      <td>4.967207</td>\n",
       "    </tr>\n",
       "    <tr>\n",
       "      <th>...</th>\n",
       "      <td>...</td>\n",
       "      <td>...</td>\n",
       "      <td>...</td>\n",
       "      <td>...</td>\n",
       "      <td>...</td>\n",
       "      <td>...</td>\n",
       "      <td>...</td>\n",
       "      <td>...</td>\n",
       "      <td>...</td>\n",
       "      <td>...</td>\n",
       "      <td>...</td>\n",
       "      <td>...</td>\n",
       "      <td>...</td>\n",
       "      <td>...</td>\n",
       "      <td>...</td>\n",
       "      <td>...</td>\n",
       "      <td>...</td>\n",
       "      <td>...</td>\n",
       "      <td>...</td>\n",
       "      <td>...</td>\n",
       "      <td>...</td>\n",
       "    </tr>\n",
       "    <tr>\n",
       "      <th>PLEKHM1</th>\n",
       "      <td>6.167946</td>\n",
       "      <td>5.271099</td>\n",
       "      <td>5.784561</td>\n",
       "      <td>7.587263</td>\n",
       "      <td>6.479184</td>\n",
       "      <td>5.700915</td>\n",
       "      <td>6.617353</td>\n",
       "      <td>7.687708</td>\n",
       "      <td>7.944761</td>\n",
       "      <td>5.998456</td>\n",
       "      <td>...</td>\n",
       "      <td>6.714959</td>\n",
       "      <td>6.368537</td>\n",
       "      <td>8.252268</td>\n",
       "      <td>6.436644</td>\n",
       "      <td>6.436742</td>\n",
       "      <td>5.551436</td>\n",
       "      <td>5.634834</td>\n",
       "      <td>7.083564</td>\n",
       "      <td>5.776658</td>\n",
       "      <td>6.306988</td>\n",
       "    </tr>\n",
       "    <tr>\n",
       "      <th>MIF</th>\n",
       "      <td>11.893872</td>\n",
       "      <td>11.841300</td>\n",
       "      <td>12.272137</td>\n",
       "      <td>12.000410</td>\n",
       "      <td>11.867211</td>\n",
       "      <td>12.621575</td>\n",
       "      <td>11.825283</td>\n",
       "      <td>12.040673</td>\n",
       "      <td>11.509597</td>\n",
       "      <td>12.777104</td>\n",
       "      <td>...</td>\n",
       "      <td>12.286071</td>\n",
       "      <td>12.572595</td>\n",
       "      <td>12.254136</td>\n",
       "      <td>12.588238</td>\n",
       "      <td>12.366026</td>\n",
       "      <td>12.153612</td>\n",
       "      <td>12.265099</td>\n",
       "      <td>11.919307</td>\n",
       "      <td>12.762295</td>\n",
       "      <td>12.985613</td>\n",
       "    </tr>\n",
       "    <tr>\n",
       "      <th>PRAF2</th>\n",
       "      <td>5.060852</td>\n",
       "      <td>6.515567</td>\n",
       "      <td>4.815762</td>\n",
       "      <td>4.544863</td>\n",
       "      <td>6.071288</td>\n",
       "      <td>4.777850</td>\n",
       "      <td>3.455981</td>\n",
       "      <td>4.764558</td>\n",
       "      <td>6.151629</td>\n",
       "      <td>3.612488</td>\n",
       "      <td>...</td>\n",
       "      <td>5.314914</td>\n",
       "      <td>2.943601</td>\n",
       "      <td>4.723601</td>\n",
       "      <td>5.769965</td>\n",
       "      <td>5.070665</td>\n",
       "      <td>3.443244</td>\n",
       "      <td>3.293080</td>\n",
       "      <td>2.978125</td>\n",
       "      <td>5.125786</td>\n",
       "      <td>4.404205</td>\n",
       "    </tr>\n",
       "    <tr>\n",
       "      <th>LYN</th>\n",
       "      <td>5.892532</td>\n",
       "      <td>4.580184</td>\n",
       "      <td>6.482469</td>\n",
       "      <td>7.094195</td>\n",
       "      <td>7.932918</td>\n",
       "      <td>7.333405</td>\n",
       "      <td>10.455397</td>\n",
       "      <td>6.221080</td>\n",
       "      <td>4.503682</td>\n",
       "      <td>3.076239</td>\n",
       "      <td>...</td>\n",
       "      <td>4.914232</td>\n",
       "      <td>9.453552</td>\n",
       "      <td>3.218797</td>\n",
       "      <td>4.073831</td>\n",
       "      <td>6.355383</td>\n",
       "      <td>8.348965</td>\n",
       "      <td>7.579339</td>\n",
       "      <td>4.456322</td>\n",
       "      <td>5.857488</td>\n",
       "      <td>3.013612</td>\n",
       "    </tr>\n",
       "    <tr>\n",
       "      <th>POLG2</th>\n",
       "      <td>6.476232</td>\n",
       "      <td>6.772732</td>\n",
       "      <td>6.031281</td>\n",
       "      <td>5.349687</td>\n",
       "      <td>7.014173</td>\n",
       "      <td>6.637508</td>\n",
       "      <td>5.488236</td>\n",
       "      <td>5.475097</td>\n",
       "      <td>5.327283</td>\n",
       "      <td>5.470517</td>\n",
       "      <td>...</td>\n",
       "      <td>5.197838</td>\n",
       "      <td>6.488913</td>\n",
       "      <td>6.920288</td>\n",
       "      <td>6.644170</td>\n",
       "      <td>7.134053</td>\n",
       "      <td>6.336357</td>\n",
       "      <td>5.884799</td>\n",
       "      <td>6.523157</td>\n",
       "      <td>6.072791</td>\n",
       "      <td>5.248165</td>\n",
       "    </tr>\n",
       "  </tbody>\n",
       "</table>\n",
       "<p>908 rows × 1018 columns</p>\n",
       "</div>"
      ],
      "text/plain": [
       "               CAL-120    DMS-114     CAL-51      H2869       H290      A2058  \\\n",
       "Sample Name                                                                     \n",
       "TSPAN6        7.632023   7.548671   8.712338   7.797142   7.729268   7.074533   \n",
       "SCYL3         3.614794   4.066887   3.956230   4.063701   4.341500   4.270903   \n",
       "BAD           7.458409   7.479327   7.419672   7.731137   6.998981   6.550210   \n",
       "LAP3          6.453926   6.742826   5.655691   5.259367   4.611395   6.930777   \n",
       "SNX11         4.767457   5.246301   4.645800   4.558836   5.456692   5.099542   \n",
       "...                ...        ...        ...        ...        ...        ...   \n",
       "PLEKHM1       6.167946   5.271099   5.784561   7.587263   6.479184   5.700915   \n",
       "MIF          11.893872  11.841300  12.272137  12.000410  11.867211  12.621575   \n",
       "PRAF2         5.060852   6.515567   4.815762   4.544863   6.071288   4.777850   \n",
       "LYN           5.892532   4.580184   6.482469   7.094195   7.932918   7.333405   \n",
       "POLG2         6.476232   6.772732   6.031281   5.349687   7.014173   6.637508   \n",
       "\n",
       "                  CESS      H2803      H2722    HCC1419  ...  LB831-BLC  \\\n",
       "Sample Name                                              ...              \n",
       "TSPAN6        3.285198   6.961606   5.943046   3.455951  ...   7.105637   \n",
       "SCYL3         5.968168   3.715033   3.848112   5.560883  ...   3.696835   \n",
       "BAD           6.354063   7.940838   7.488690   8.771958  ...   7.147962   \n",
       "LAP3          8.560707   7.815915   4.765141   7.593677  ...   5.383810   \n",
       "SNX11         7.574348   4.879785   4.842966   7.809379  ...   4.755084   \n",
       "...                ...        ...        ...        ...  ...        ...   \n",
       "PLEKHM1       6.617353   7.687708   7.944761   5.998456  ...   6.714959   \n",
       "MIF          11.825283  12.040673  11.509597  12.777104  ...  12.286071   \n",
       "PRAF2         3.455981   4.764558   6.151629   3.612488  ...   5.314914   \n",
       "LYN          10.455397   6.221080   4.503682   3.076239  ...   4.914232   \n",
       "POLG2         5.488236   5.475097   5.327283   5.470517  ...   5.197838   \n",
       "\n",
       "                  HC-1     Jurkat  MOG-G-UVW  unknown_cosmic_1659787  \\\n",
       "Sample Name                                                            \n",
       "TSPAN6        3.236503   3.038892   8.373223                6.932178   \n",
       "SCYL3         4.624013   4.348524   3.858121                3.947561   \n",
       "BAD           6.478426   6.919537   6.801096                7.153122   \n",
       "LAP3          8.591164   6.208059   6.715130                6.530806   \n",
       "SNX11         6.761799   5.034195   4.958603                4.629068   \n",
       "...                ...        ...        ...                     ...   \n",
       "PLEKHM1       6.368537   8.252268   6.436644                6.436742   \n",
       "MIF          12.572595  12.254136  12.588238               12.366026   \n",
       "PRAF2         2.943601   4.723601   5.769965                5.070665   \n",
       "LYN           9.453552   3.218797   4.073831                6.355383   \n",
       "POLG2         6.488913   6.920288   6.644170                7.134053   \n",
       "\n",
       "                JIMT-1       PEO1        PL4         TT  \\\n",
       "Sample Name                                               \n",
       "TSPAN6        8.441628   8.422922   8.089255   3.112333   \n",
       "SCYL3         4.425849   3.550390   4.443337   4.266828   \n",
       "BAD           7.234464   7.525257   6.066356   8.185968   \n",
       "LAP3          5.759933   7.810126   7.182077   5.663629   \n",
       "SNX11         4.982202   5.037259   4.611973   4.800284   \n",
       "...                ...        ...        ...        ...   \n",
       "PLEKHM1       5.551436   5.634834   7.083564   5.776658   \n",
       "MIF          12.153612  12.265099  11.919307  12.762295   \n",
       "PRAF2         3.443244   3.293080   2.978125   5.125786   \n",
       "LYN           8.348965   7.579339   4.456322   5.857488   \n",
       "POLG2         6.336357   5.884799   6.523157   6.072791   \n",
       "\n",
       "             unknown_cosmic_905954.1  \n",
       "Sample Name                           \n",
       "TSPAN6                      7.153127  \n",
       "SCYL3                       4.100493  \n",
       "BAD                         4.967268  \n",
       "LAP3                        6.539451  \n",
       "SNX11                       4.967207  \n",
       "...                              ...  \n",
       "PLEKHM1                     6.306988  \n",
       "MIF                        12.985613  \n",
       "PRAF2                       4.404205  \n",
       "LYN                         3.013612  \n",
       "POLG2                       5.248165  \n",
       "\n",
       "[908 rows x 1018 columns]"
      ]
     },
     "execution_count": 33,
     "metadata": {},
     "output_type": "execute_result"
    }
   ],
   "source": [
    "# Transpose the mutations table such that the GENE_SYMBOLs are the columns and the CELL_LINE_NAMES are the indexes of the rows.\n",
    "# Copy mutations dataset without GENE_ID column and transpose.\n",
    "mut_v2 = gene_expr_sparse.iloc[:, :].copy().T\n",
    "mut_v2\n",
    "# Ignore the first row and make the GEN_SYMBOL names as the new columns. Also make the previous CELL_LINE_NAMES columns as the new row index.\n",
    "#mut_v2 = mut_v2.rename(columns=mut_v2.iloc[0]).drop(mut_v2.index[0])\n",
    "#print(mut_v2.shape)\n",
    "#mut_v2.head(3)"
   ]
  },
  {
   "cell_type": "code",
   "execution_count": 34,
   "metadata": {},
   "outputs": [
    {
     "data": {
      "text/plain": [
       "Index(['TSPAN6', 'SCYL3', 'BAD', 'LAP3', 'SNX11', 'CASP10', 'CFLAR', 'FKBP4',\n",
       "       'RBM6', 'SLC25A13',\n",
       "       ...\n",
       "       'MYCBP', 'FIS1', 'IFRD2', 'NPEPL1', 'CEBPD', 'PLEKHM1', 'MIF', 'PRAF2',\n",
       "       'LYN', 'POLG2'],\n",
       "      dtype='object', name='Sample Name', length=908)"
      ]
     },
     "execution_count": 34,
     "metadata": {},
     "output_type": "execute_result"
    }
   ],
   "source": [
    "mut_v2.index"
   ]
  },
  {
   "cell_type": "code",
   "execution_count": null,
   "metadata": {},
   "outputs": [],
   "source": []
  },
  {
   "cell_type": "code",
   "execution_count": 25,
   "metadata": {},
   "outputs": [
    {
     "name": "stdout",
     "output_type": "stream",
     "text": [
      "\n",
      "    GDSC : (5707271, 35)\n",
      "    mut  : (11609, 13)\n",
      "\n",
      "    inner : (53503481, 48)\n",
      "\n"
     ]
    }
   ],
   "source": [
    "# Check if the SANGER_MODEL_ID has 1-1 relationship with the CELL_LINE_NAME.\n",
    "\n",
    "test = gdsc_ic50_raw_join.merge(mutations_summary,\n",
    "                                right_on='model_id',\n",
    "                                left_on='SANGER_MODEL_ID',\n",
    "                                how='left',\n",
    "                                suffixes=['_gdsc', '_mut'])\n",
    "print(f\"\"\"\n",
    "    GDSC : {gdsc_ic50_raw_join.shape}\n",
    "    mut  : {mutations_summary.shape}\n",
    "\n",
    "    inner : {test.shape}\n",
    "\"\"\")"
   ]
  },
  {
   "cell_type": "code",
   "execution_count": null,
   "metadata": {},
   "outputs": [],
   "source": []
  },
  {
   "cell_type": "code",
   "execution_count": 43,
   "metadata": {},
   "outputs": [],
   "source": []
  },
  {
   "cell_type": "code",
   "execution_count": null,
   "metadata": {},
   "outputs": [],
   "source": []
  },
  {
   "cell_type": "code",
   "execution_count": 33,
   "metadata": {},
   "outputs": [],
   "source": [
    "gdsc_cell_line_names = np.unique(GDSC.CELL_LINE_NAME.values)"
   ]
  },
  {
   "cell_type": "code",
   "execution_count": 38,
   "metadata": {},
   "outputs": [
    {
     "data": {
      "text/plain": [
       "1385"
      ]
     },
     "execution_count": 38,
     "metadata": {},
     "output_type": "execute_result"
    }
   ],
   "source": [
    "len(np.unique(mutations_data.model_id.values))"
   ]
  },
  {
   "cell_type": "code",
   "execution_count": 41,
   "metadata": {},
   "outputs": [
    {
     "data": {
      "text/plain": [
       "988"
      ]
     },
     "execution_count": 41,
     "metadata": {},
     "output_type": "execute_result"
    }
   ],
   "source": [
    "len(np.unique(GDSC.CELL_LINE_NAME.values))"
   ]
  },
  {
   "cell_type": "code",
   "execution_count": 25,
   "metadata": {},
   "outputs": [
    {
     "data": {
      "text/plain": [
       "array(['201T', '22RV1', '23132-87', '42-MG-BA', '451Lu', '5637', '639-V',\n",
       "       '647-V', '697', '769-P'], dtype=object)"
      ]
     },
     "execution_count": 25,
     "metadata": {},
     "output_type": "execute_result"
    }
   ],
   "source": [
    "gdsc_cell_line_names[:10]"
   ]
  },
  {
   "cell_type": "code",
   "execution_count": 32,
   "metadata": {},
   "outputs": [
    {
     "data": {
      "text/plain": [
       "False"
      ]
     },
     "execution_count": 32,
     "metadata": {},
     "output_type": "execute_result"
    }
   ],
   "source": [
    "'TP53' in gdsc_cell_line_names"
   ]
  },
  {
   "cell_type": "code",
   "execution_count": null,
   "metadata": {},
   "outputs": [],
   "source": []
  }
 ],
 "metadata": {
  "interpreter": {
   "hash": "c78b81650a0bd32063743affb6953ff71b1a0dba806fbca9e2db842718495748"
  },
  "kernelspec": {
   "display_name": "Python 3.10.4 ('master-thesis-log')",
   "language": "python",
   "name": "python3"
  },
  "language_info": {
   "codemirror_mode": {
    "name": "ipython",
    "version": 3
   },
   "file_extension": ".py",
   "mimetype": "text/x-python",
   "name": "python",
   "nbconvert_exporter": "python",
   "pygments_lexer": "ipython3",
   "version": "3.10.4"
  },
  "orig_nbformat": 4
 },
 "nbformat": 4,
 "nbformat_minor": 2
}
