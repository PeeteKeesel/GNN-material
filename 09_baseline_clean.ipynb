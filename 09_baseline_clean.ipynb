{
 "cells": [
  {
   "cell_type": "code",
   "execution_count": 1,
   "metadata": {},
   "outputs": [],
   "source": [
    "# -------- #\n",
    "# PACKAGES #\n",
    "# -------- #\n",
    "import time\n",
    "import pickle\n",
    "import torch\n",
    "import torch.nn          as nn\n",
    "import numpy             as np\n",
    "import pandas            as pd\n",
    "import matplotlib.pyplot as plt \n",
    "import seaborn           as sns\n",
    "\n",
    "from torch.utils.data import Dataset, DataLoader\n",
    "from my_utils.preprocessing_helpers import convert_column_types\n",
    "\n",
    "# ---------------- #\n",
    "# GENERAL SETTINGS #\n",
    "# ---------------- #\n",
    "torch.manual_seed(42)\n",
    "sns.set_theme(style=\"white\")\n",
    "\n",
    "# ---------------- #\n",
    "# GLOBAL VARIABLES #\n",
    "# ---------------- #\n",
    "from config import (\n",
    "    # Drug features.\n",
    "    PATH_TO_SAVED_DRUG_FEATURES,\n",
    "    DRUG_FPS_FINAL_FILE_NAME,\n",
    "    # Cell line features.\n",
    "    PATH_TO_SAVED_CL_FEATURES,\n",
    "    GENE_EXPR_FINAL_FILE_NAME,\n",
    "    CNV_GISTIC_FINAL_FILE_NAME,\n",
    "    CNV_PICNIC_FINAL_FILE_NAME    \n",
    ")\n",
    "\n",
    "PATH_TO_SAVE_MODELS_TO = '../../datasets/models/'\n",
    "PATH_TO_SAVE_DATA_TO = '../../datasets/gdsc/my_datasets/'"
   ]
  },
  {
   "cell_type": "markdown",
   "metadata": {},
   "source": [
    "## Reading Base Datasets"
   ]
  },
  {
   "cell_type": "code",
   "execution_count": 4,
   "metadata": {},
   "outputs": [
    {
     "name": "stdout",
     "output_type": "stream",
     "text": [
      "Gene Expression: (446521, 922) took 4.64274 seconds.\n",
      "    Number of unique cell-lines : 988\n",
      "    Number of gene columns      : 908\n",
      "\n",
      "CNV Gistic: (446521, 952) took 122.74597 seconds.\n",
      "    Number of unique cell-lines : 988\n",
      "    Number of gene columns      : 938\n",
      "\n",
      "CNV Picnic: (446521, 980) took 147.61100 seconds.\n",
      "    Number of unique cell-lines : 988\n",
      "    Number of gene columns      : 966\n",
      "\n"
     ]
    }
   ],
   "source": [
    "# ----------------------- #\n",
    "# IMPORT FEATURE DATASETS #\n",
    "# ----------------------- #\n",
    "# Gene expression.\n",
    "start = time.time()\n",
    "gene_expr = pd.read_pickle(f'{PATH_TO_SAVED_CL_FEATURES}{GENE_EXPR_FINAL_FILE_NAME}')\n",
    "print(f\"\"\"Gene Expression: {gene_expr.shape} took {time.time()-start:.5f} seconds.\n",
    "    Number of unique cell-lines : {len(np.unique(gene_expr.CELL_LINE_NAME.values))}\n",
    "    Number of gene columns      : {len(gene_expr.columns[14:])}\n",
    "\"\"\")\n",
    "\n",
    "# CNV gistic.\n",
    "start = time.time()\n",
    "cnv_gistic = pd.read_pickle(f'{PATH_TO_SAVED_CL_FEATURES}{CNV_GISTIC_FINAL_FILE_NAME}')\n",
    "print(f\"\"\"CNV Gistic: {cnv_gistic.shape} took {time.time()-start:.5f} seconds.\n",
    "    Number of unique cell-lines : {len(np.unique(cnv_gistic.CELL_LINE_NAME.values))}\n",
    "    Number of gene columns      : {len(cnv_gistic.columns[14:])}\n",
    "\"\"\")\n",
    "\n",
    "# CNV picnic.\n",
    "start = time.time()\n",
    "cnv_picnic = pd.read_pickle(f'{PATH_TO_SAVED_CL_FEATURES}{CNV_PICNIC_FINAL_FILE_NAME}')\n",
    "print(f\"\"\"CNV Picnic: {cnv_picnic.shape} took {time.time()-start:.5f} seconds.\n",
    "    Number of unique cell-lines : {len(np.unique(cnv_picnic.CELL_LINE_NAME.values))}\n",
    "    Number of gene columns      : {len(cnv_picnic.columns[14:])}\n",
    "\"\"\")"
   ]
  },
  {
   "cell_type": "code",
   "execution_count": 58,
   "metadata": {},
   "outputs": [
    {
     "data": {
      "text/html": [
       "<div>\n",
       "<style scoped>\n",
       "    .dataframe tbody tr th:only-of-type {\n",
       "        vertical-align: middle;\n",
       "    }\n",
       "\n",
       "    .dataframe tbody tr th {\n",
       "        vertical-align: top;\n",
       "    }\n",
       "\n",
       "    .dataframe thead th {\n",
       "        text-align: right;\n",
       "    }\n",
       "</style>\n",
       "<table border=\"1\" class=\"dataframe\">\n",
       "  <thead>\n",
       "    <tr style=\"text-align: right;\">\n",
       "      <th></th>\n",
       "      <th>MASTER_CELL_ID</th>\n",
       "      <th>CELL_ID</th>\n",
       "      <th>CONC</th>\n",
       "      <th>CELL_LINE_NAME</th>\n",
       "      <th>RMSE</th>\n",
       "      <th>AUC</th>\n",
       "      <th>INTENSITY</th>\n",
       "      <th>COSMIC_ID</th>\n",
       "      <th>DRUG_NAME</th>\n",
       "      <th>POSITION</th>\n",
       "      <th>...</th>\n",
       "      <th>ZMIZ1</th>\n",
       "      <th>ZMYM2</th>\n",
       "      <th>ZNF131</th>\n",
       "      <th>ZNF274</th>\n",
       "      <th>ZNF318</th>\n",
       "      <th>ZNF395</th>\n",
       "      <th>ZNF451</th>\n",
       "      <th>ZNF586</th>\n",
       "      <th>ZNF589</th>\n",
       "      <th>ZW10</th>\n",
       "    </tr>\n",
       "  </thead>\n",
       "  <tbody>\n",
       "    <tr>\n",
       "      <th>0</th>\n",
       "      <td>49</td>\n",
       "      <td>3137</td>\n",
       "      <td>2.0</td>\n",
       "      <td>MC-CAR</td>\n",
       "      <td>0.022521</td>\n",
       "      <td>0.982114</td>\n",
       "      <td>544404</td>\n",
       "      <td>683665</td>\n",
       "      <td>Erlotinib</td>\n",
       "      <td>14</td>\n",
       "      <td>...</td>\n",
       "      <td>2.0</td>\n",
       "      <td>2.0</td>\n",
       "      <td>2.0</td>\n",
       "      <td>2.0</td>\n",
       "      <td>2.0</td>\n",
       "      <td>2.0</td>\n",
       "      <td>2.0</td>\n",
       "      <td>2.0</td>\n",
       "      <td>2.0</td>\n",
       "      <td>1.0</td>\n",
       "    </tr>\n",
       "    <tr>\n",
       "      <th>9</th>\n",
       "      <td>1342</td>\n",
       "      <td>2366</td>\n",
       "      <td>2.0</td>\n",
       "      <td>ES3</td>\n",
       "      <td>0.031840</td>\n",
       "      <td>0.984816</td>\n",
       "      <td>404197</td>\n",
       "      <td>684055</td>\n",
       "      <td>Erlotinib</td>\n",
       "      <td>14</td>\n",
       "      <td>...</td>\n",
       "      <td>1.0</td>\n",
       "      <td>1.0</td>\n",
       "      <td>2.0</td>\n",
       "      <td>2.0</td>\n",
       "      <td>2.0</td>\n",
       "      <td>3.0</td>\n",
       "      <td>2.0</td>\n",
       "      <td>2.0</td>\n",
       "      <td>3.0</td>\n",
       "      <td>2.0</td>\n",
       "    </tr>\n",
       "    <tr>\n",
       "      <th>27</th>\n",
       "      <td>610</td>\n",
       "      <td>2368</td>\n",
       "      <td>2.0</td>\n",
       "      <td>ES5</td>\n",
       "      <td>0.026052</td>\n",
       "      <td>0.985693</td>\n",
       "      <td>797378</td>\n",
       "      <td>684057</td>\n",
       "      <td>Erlotinib</td>\n",
       "      <td>14</td>\n",
       "      <td>...</td>\n",
       "      <td>2.0</td>\n",
       "      <td>3.0</td>\n",
       "      <td>3.0</td>\n",
       "      <td>3.0</td>\n",
       "      <td>4.0</td>\n",
       "      <td>6.0</td>\n",
       "      <td>4.0</td>\n",
       "      <td>3.0</td>\n",
       "      <td>4.0</td>\n",
       "      <td>3.0</td>\n",
       "    </tr>\n",
       "  </tbody>\n",
       "</table>\n",
       "<p>3 rows × 980 columns</p>\n",
       "</div>"
      ],
      "text/plain": [
       "    MASTER_CELL_ID  CELL_ID  CONC CELL_LINE_NAME      RMSE       AUC  \\\n",
       "0               49     3137   2.0         MC-CAR  0.022521  0.982114   \n",
       "9             1342     2366   2.0            ES3  0.031840  0.984816   \n",
       "27             610     2368   2.0            ES5  0.026052  0.985693   \n",
       "\n",
       "    INTENSITY  COSMIC_ID  DRUG_NAME  POSITION  ... ZMIZ1  ZMYM2  ZNF131  \\\n",
       "0      544404     683665  Erlotinib        14  ...   2.0    2.0     2.0   \n",
       "9      404197     684055  Erlotinib        14  ...   1.0    1.0     2.0   \n",
       "27     797378     684057  Erlotinib        14  ...   2.0    3.0     3.0   \n",
       "\n",
       "    ZNF274 ZNF318 ZNF395 ZNF451 ZNF586 ZNF589 ZW10  \n",
       "0      2.0    2.0    2.0    2.0    2.0    2.0  1.0  \n",
       "9      2.0    2.0    3.0    2.0    2.0    3.0  2.0  \n",
       "27     3.0    4.0    6.0    4.0    3.0    4.0  3.0  \n",
       "\n",
       "[3 rows x 980 columns]"
      ]
     },
     "execution_count": 58,
     "metadata": {},
     "output_type": "execute_result"
    }
   ],
   "source": [
    "cnv_picnic.head(3)"
   ]
  },
  {
   "cell_type": "code",
   "execution_count": 59,
   "metadata": {},
   "outputs": [
    {
     "data": {
      "text/html": [
       "<div>\n",
       "<style scoped>\n",
       "    .dataframe tbody tr th:only-of-type {\n",
       "        vertical-align: middle;\n",
       "    }\n",
       "\n",
       "    .dataframe tbody tr th {\n",
       "        vertical-align: top;\n",
       "    }\n",
       "\n",
       "    .dataframe thead th {\n",
       "        text-align: right;\n",
       "    }\n",
       "</style>\n",
       "<table border=\"1\" class=\"dataframe\">\n",
       "  <thead>\n",
       "    <tr style=\"text-align: right;\">\n",
       "      <th></th>\n",
       "      <th>DRUG_ID</th>\n",
       "      <th>CELL_LINE_NAME</th>\n",
       "      <th>AUC</th>\n",
       "      <th>CELL_ID</th>\n",
       "      <th>LN_IC50</th>\n",
       "      <th>CONC</th>\n",
       "      <th>MASTER_CELL_ID</th>\n",
       "      <th>INTENSITY</th>\n",
       "      <th>DATASET</th>\n",
       "      <th>Z_SCORE</th>\n",
       "      <th>...</th>\n",
       "      <th>MYCBP</th>\n",
       "      <th>FIS1</th>\n",
       "      <th>IFRD2</th>\n",
       "      <th>NPEPL1</th>\n",
       "      <th>CEBPD</th>\n",
       "      <th>PLEKHM1</th>\n",
       "      <th>MIF</th>\n",
       "      <th>PRAF2</th>\n",
       "      <th>LYN</th>\n",
       "      <th>POLG2</th>\n",
       "    </tr>\n",
       "  </thead>\n",
       "  <tbody>\n",
       "    <tr>\n",
       "      <th>0</th>\n",
       "      <td>1</td>\n",
       "      <td>MC-CAR</td>\n",
       "      <td>0.982114</td>\n",
       "      <td>3137</td>\n",
       "      <td>2.395685</td>\n",
       "      <td>2.0</td>\n",
       "      <td>49</td>\n",
       "      <td>544404</td>\n",
       "      <td>GDSC1</td>\n",
       "      <td>-0.189576</td>\n",
       "      <td>...</td>\n",
       "      <td>8.355826</td>\n",
       "      <td>8.951680</td>\n",
       "      <td>7.205590</td>\n",
       "      <td>3.277948</td>\n",
       "      <td>3.465672</td>\n",
       "      <td>6.312806</td>\n",
       "      <td>12.112498</td>\n",
       "      <td>3.010237</td>\n",
       "      <td>8.750848</td>\n",
       "      <td>6.199366</td>\n",
       "    </tr>\n",
       "    <tr>\n",
       "      <th>9</th>\n",
       "      <td>1</td>\n",
       "      <td>ES3</td>\n",
       "      <td>0.984816</td>\n",
       "      <td>2366</td>\n",
       "      <td>3.140923</td>\n",
       "      <td>2.0</td>\n",
       "      <td>1342</td>\n",
       "      <td>404197</td>\n",
       "      <td>GDSC1</td>\n",
       "      <td>0.508635</td>\n",
       "      <td>...</td>\n",
       "      <td>5.995760</td>\n",
       "      <td>9.337588</td>\n",
       "      <td>7.468226</td>\n",
       "      <td>3.716270</td>\n",
       "      <td>5.363887</td>\n",
       "      <td>6.188079</td>\n",
       "      <td>12.281947</td>\n",
       "      <td>4.794624</td>\n",
       "      <td>3.588528</td>\n",
       "      <td>6.785201</td>\n",
       "    </tr>\n",
       "    <tr>\n",
       "      <th>27</th>\n",
       "      <td>1</td>\n",
       "      <td>ES5</td>\n",
       "      <td>0.985693</td>\n",
       "      <td>2368</td>\n",
       "      <td>3.968757</td>\n",
       "      <td>2.0</td>\n",
       "      <td>610</td>\n",
       "      <td>797378</td>\n",
       "      <td>GDSC1</td>\n",
       "      <td>1.284229</td>\n",
       "      <td>...</td>\n",
       "      <td>6.939741</td>\n",
       "      <td>8.688176</td>\n",
       "      <td>7.085349</td>\n",
       "      <td>3.688222</td>\n",
       "      <td>4.572119</td>\n",
       "      <td>6.345090</td>\n",
       "      <td>12.276166</td>\n",
       "      <td>4.114092</td>\n",
       "      <td>5.768098</td>\n",
       "      <td>7.505155</td>\n",
       "    </tr>\n",
       "  </tbody>\n",
       "</table>\n",
       "<p>3 rows × 922 columns</p>\n",
       "</div>"
      ],
      "text/plain": [
       "    DRUG_ID CELL_LINE_NAME       AUC  CELL_ID   LN_IC50  CONC  MASTER_CELL_ID  \\\n",
       "0         1         MC-CAR  0.982114     3137  2.395685   2.0              49   \n",
       "9         1            ES3  0.984816     2366  3.140923   2.0            1342   \n",
       "27        1            ES5  0.985693     2368  3.968757   2.0             610   \n",
       "\n",
       "    INTENSITY DATASET   Z_SCORE  ...     MYCBP      FIS1     IFRD2    NPEPL1  \\\n",
       "0      544404   GDSC1 -0.189576  ...  8.355826  8.951680  7.205590  3.277948   \n",
       "9      404197   GDSC1  0.508635  ...  5.995760  9.337588  7.468226  3.716270   \n",
       "27     797378   GDSC1  1.284229  ...  6.939741  8.688176  7.085349  3.688222   \n",
       "\n",
       "       CEBPD   PLEKHM1        MIF     PRAF2       LYN     POLG2  \n",
       "0   3.465672  6.312806  12.112498  3.010237  8.750848  6.199366  \n",
       "9   5.363887  6.188079  12.281947  4.794624  3.588528  6.785201  \n",
       "27  4.572119  6.345090  12.276166  4.114092  5.768098  7.505155  \n",
       "\n",
       "[3 rows x 922 columns]"
      ]
     },
     "execution_count": 59,
     "metadata": {},
     "output_type": "execute_result"
    }
   ],
   "source": [
    "gene_expr.head(3)"
   ]
  },
  {
   "cell_type": "code",
   "execution_count": 13,
   "metadata": {},
   "outputs": [
    {
     "name": "stdout",
     "output_type": "stream",
     "text": [
      "The number of gene columns which are existent in all dataframes is:\n",
      "870\n",
      "This corresponds to\n",
      "    95.81 % of the gene expression gene columns.\n",
      "    92.75 % of the cnv gistic      gene columns.\n",
      "    90.06 % of the cnv picnic      gene columns.\n",
      "After selecting only the genes which are existent in all dataset the shapes are:\n",
      "    gene expr  : (446521, 871)\n",
      "    cnv gistic : (446521, 871)\n",
      "    cnv picnic : (446521, 871)\n",
      "\n",
      "Shapes after removing duplicate cell-lines:\n",
      "    gene expr  : (988, 871)\n",
      "    cnv gistic : (988, 871)\n",
      "    cnv picnic : (988, 871)\n",
      "\n",
      "Shapes after by the cell-line column:\n",
      "    gene expr  : (988, 871)\n",
      "    cnv gistic : (988, 871)\n",
      "    cnv picnic : (988, 871)\n",
      "\n"
     ]
    }
   ],
   "source": [
    "SAVE = False\n",
    "\n",
    "# --------------------------------------------------------- #\n",
    "# ONLY SELECT THE GENE COLUMNS WHICH ARE IN ALL DATAFRAMES. #\n",
    "# --------------------------------------------------------- #\n",
    "non_gene_cols = [\n",
    "    'DRUG_ID', 'CELL_LINE_NAME', 'AUC', 'CELL_ID', 'LN_IC50', 'CONC',\n",
    "    'MASTER_CELL_ID', 'INTENSITY', 'DATASET', 'Z_SCORE', 'DRUG_NAME',\n",
    "    'RMSE', 'COSMIC_ID', 'POSITION'\n",
    "]\n",
    "# Check if all non-gene symbol columns are the same.\n",
    "assert len(non_gene_cols) == len(list(set(gene_expr.columns[:14]).intersection(set(cnv_gistic.columns[:14])).intersection(set(cnv_picnic.columns[:14]))))\n",
    "assert set(gene_expr.columns[:14]) == set(cnv_gistic.columns[:14]) == set(cnv_picnic.columns[:14])\n",
    "\n",
    "# Only select the gene symbol columns.\n",
    "gene_cols__geneexpr = gene_expr.loc[:, ~gene_expr.columns.isin(non_gene_cols)]\n",
    "gene_cols__cnvgistic = cnv_gistic.loc[:, ~cnv_gistic.columns.isin(non_gene_cols)]\n",
    "gene_cols__cnvpicnic = cnv_picnic.loc[:, ~cnv_picnic.columns.isin(non_gene_cols)]\n",
    "\n",
    "# Gene symbols which are in all cell feature dataframes.\n",
    "in_all = set(gene_cols__geneexpr.columns).intersection(\\\n",
    "         set(gene_cols__cnvgistic.columns)).intersection(\\\n",
    "         set(gene_cols__cnvpicnic.columns))\n",
    "len_in_all = len(in_all)\n",
    "print(f\"\"\"The number of gene columns which are existent in all dataframes is:\\n{len_in_all}\n",
    "This corresponds to\n",
    "    {100*len_in_all/len(gene_cols__geneexpr.columns):2.2f} % of the gene expression gene columns.\n",
    "    {100*len_in_all/len(gene_cols__cnvgistic.columns):2.2f} % of the cnv gistic      gene columns.\n",
    "    {100*len_in_all/len(gene_cols__cnvpicnic.columns):2.2f} % of the cnv picnic      gene columns.\"\"\")    \n",
    "\n",
    "# Only select the gene columns which are in all dataframes. \n",
    "keep = ['CELL_LINE_NAME']\n",
    "gene_expr_v2 = gene_expr[keep + list(in_all)]\n",
    "cnv_gistic_v2 = cnv_gistic[keep + list(in_all)]\n",
    "cnv_picnic_v2 = cnv_picnic[keep + list(in_all)]\n",
    "\n",
    "print(f\"\"\"After selecting only the genes which are existent in all dataset the shapes are:\n",
    "    gene expr  : {gene_expr_v2.shape}\n",
    "    cnv gistic : {cnv_gistic_v2.shape}\n",
    "    cnv picnic : {cnv_picnic_v2.shape}\n",
    "\"\"\")\n",
    "\n",
    "# Possibly save.\n",
    "if SAVE:\n",
    "    gene_expr_v2.to_pickle(f'{PATH_TO_SAVE_DATA_TO}temp__gene_expr_v2.pkl')\n",
    "    cnv_gistic_v2.to_pickle(f'{PATH_TO_SAVE_DATA_TO}temp__cnv_gistic_v2.pkl')\n",
    "    cnv_picnic_v2.to_pickle(f'{PATH_TO_SAVE_DATA_TO}temp__cnv_picnic_v2.pkl')\n",
    "\n",
    "# Only select one row per unique cell-line, since the feature values are the same anyways.\n",
    "gene_expr_v3 = gene_expr_v2.drop_duplicates()  # same as .groupby('CELL_LINE_NAME').first()\n",
    "cnv_gistic_v3 = cnv_gistic_v2.drop_duplicates()  # same as .groupby('CELL_LINE_NAME').first()\n",
    "cnv_picnic_v3 = cnv_picnic_v2.drop_duplicates()  # same as .groupby('CELL_LINE_NAME').first()\n",
    "print(f\"\"\"Shapes after removing duplicate cell-lines:\n",
    "    gene expr  : {gene_expr_v3.shape}\n",
    "    cnv gistic : {cnv_gistic_v3.shape}\n",
    "    cnv picnic : {cnv_picnic_v3.shape}\n",
    "\"\"\")    \n",
    "\n",
    "# Possibly save.\n",
    "if SAVE:\n",
    "    gene_expr_v3.to_pickle(f'{PATH_TO_SAVE_DATA_TO}temp__gene_expr_v3.pkl')\n",
    "    cnv_gistic_v3.to_pickle(f'{PATH_TO_SAVE_DATA_TO}temp__cnv_gistic_v3.pkl')\n",
    "    cnv_picnic_v3.to_pickle(f'{PATH_TO_SAVE_DATA_TO}temp__cnv_picnic_v3.pkl')\n",
    "\n",
    "# Sort dataframes by cell-line column.\n",
    "gene_expr_v4 = gene_expr_v3.sort_values(['CELL_LINE_NAME'])\n",
    "cnv_gistic_v4 = cnv_gistic_v3.sort_values(['CELL_LINE_NAME'])\n",
    "cnv_picnic_v4 = cnv_picnic_v3.sort_values(['CELL_LINE_NAME'])\n",
    "\n",
    "# Check element-wise if the cell-line columns are exactly the same.\n",
    "assert (gene_expr_v4.CELL_LINE_NAME == cnv_gistic_v4.CELL_LINE_NAME).all()\n",
    "assert (cnv_gistic_v4.CELL_LINE_NAME == cnv_picnic_v4.CELL_LINE_NAME).all()\n",
    "\n",
    "print(f\"\"\"Shapes after by the cell-line column:\n",
    "    gene expr  : {gene_expr_v4.shape}\n",
    "    cnv gistic : {cnv_gistic_v4.shape}\n",
    "    cnv picnic : {cnv_picnic_v4.shape}\n",
    "\"\"\")\n",
    "\n",
    "# Possibly save.\n",
    "if SAVE:\n",
    "    gene_expr_v4.to_pickle(f'{PATH_TO_SAVE_DATA_TO}temp__gene_expr_v4.pkl')\n",
    "    cnv_gistic_v4.to_pickle(f'{PATH_TO_SAVE_DATA_TO}temp__cnv_gistic_v4.pkl')\n",
    "    cnv_picnic_v4.to_pickle(f'{PATH_TO_SAVE_DATA_TO}temp__cnv_picnic_v4.pkl')"
   ]
  },
  {
   "cell_type": "code",
   "execution_count": 2,
   "metadata": {},
   "outputs": [
    {
     "name": "stdout",
     "output_type": "stream",
     "text": [
      "Starting to read v2 datasets...\n",
      "Finished reading v2 datasets after 243.11452 seconds!\n",
      "Starting to read v3 datasets...\n",
      "Finished reading v3 datasets after 243.35631 seconds!\n",
      "Starting to read v4 datasets...\n",
      "Finished reading v4 datasets after 243.60246 seconds!\n"
     ]
    }
   ],
   "source": [
    "# Read datasets \n",
    "start = time.time()\n",
    "print(\"Starting to read v2 datasets...\")\n",
    "with open(f'{PATH_TO_SAVE_DATA_TO}temp__gene_expr_v2.pkl', 'rb') as f: gene_expr_v2 = pickle.load(f)\n",
    "with open(f'{PATH_TO_SAVE_DATA_TO}temp__cnv_gistic_v2.pkl', 'rb') as f: cnv_gistic_v2 = pickle.load(f)\n",
    "with open(f'{PATH_TO_SAVE_DATA_TO}temp__cnv_picnic_v2.pkl', 'rb') as f: cnv_picnic_v2 = pickle.load(f)\n",
    "print(f\"Finished reading v2 datasets after {time.time()-start:.5f} seconds!\")\n",
    "\n",
    "start = time.time()\n",
    "print(\"Starting to read v3 datasets...\")\n",
    "with open(f'{PATH_TO_SAVE_DATA_TO}temp__gene_expr_v3.pkl', 'rb') as f: gene_expr_v3 = pickle.load(f)\n",
    "with open(f'{PATH_TO_SAVE_DATA_TO}temp__cnv_gistic_v3.pkl', 'rb') as f: cnv_gistic_v3 = pickle.load(f)\n",
    "with open(f'{PATH_TO_SAVE_DATA_TO}temp__cnv_picnic_v3.pkl', 'rb') as f: cnv_picnic_v3 = pickle.load(f)\n",
    "print(f\"Finished reading v3 datasets after {time.time()-start:.5f} seconds!\")\n",
    "\n",
    "start = time.time()\n",
    "print(\"Starting to read v4 datasets...\")\n",
    "with open(f'{PATH_TO_SAVE_DATA_TO}temp__gene_expr_v4.pkl', 'rb') as f: gene_expr_v4 = pickle.load(f)\n",
    "with open(f'{PATH_TO_SAVE_DATA_TO}temp__cnv_gistic_v4.pkl', 'rb') as f: cnv_gistic_v4 = pickle.load(f)\n",
    "with open(f'{PATH_TO_SAVE_DATA_TO}temp__cnv_picnic_v4.pkl', 'rb') as f: cnv_picnic_v4 = pickle.load(f)\n",
    "print(f\"Finished reading v4 datasets after {time.time()-start:.5f} seconds!\")"
   ]
  },
  {
   "cell_type": "code",
   "execution_count": 5,
   "metadata": {},
   "outputs": [],
   "source": [
    "def get_mapping_from_genes_to_indices(dataset, non_gene_cols):\n",
    "    gene_cols = dataset.loc[:, ~dataset.columns.isin(non_gene_cols)]\n",
    "    dataset_v2 = dataset[['CELL_LINE_NAME'] + list(gene_cols.columns)].drop_duplicates()\n",
    "    used_genes = list(dataset_v2.loc[:, dataset_v2.columns != 'CELL_LINE_NAME'].columns)\n",
    "    return pd.DataFrame(used_genes, columns=['genes']).reset_index(level=0)\n",
    "\n",
    "NON_GENE_COLS = [\n",
    "    'DRUG_ID', 'CELL_LINE_NAME', 'AUC', 'CELL_ID', 'LN_IC50', 'CONC',\n",
    "    'MASTER_CELL_ID', 'INTENSITY', 'DATASET', 'Z_SCORE', 'DRUG_NAME',\n",
    "    'RMSE', 'COSMIC_ID', 'POSITION'\n",
    "]\n",
    "\n",
    "MAPPING_FROM_GENES_TO_INDICES__GeneExpr = get_mapping_from_genes_to_indices(gene_expr, NON_GENE_COLS)\n",
    "MAPPING_FROM_GENES_TO_INDICES__CnvGistic = get_mapping_from_genes_to_indices(cnv_gistic, NON_GENE_COLS)\n",
    "MAPPING_FROM_GENES_TO_INDICES__CnvPicnic = get_mapping_from_genes_to_indices(cnv_picnic, NON_GENE_COLS)\n",
    "\n",
    "intersections = set(MAPPING_FROM_GENES_TO_INDICES__GeneExpr.genes.values)\\\n",
    "    .intersection(set(MAPPING_FROM_GENES_TO_INDICES__CnvGistic.genes.values))\\\n",
    "    .intersection(set(MAPPING_FROM_GENES_TO_INDICES__CnvPicnic.genes.values))\n",
    "MAPPING_FROM_GENES_TO_INDICES__intersection = MAPPING_FROM_GENES_TO_INDICES__CnvGistic[\n",
    "    MAPPING_FROM_GENES_TO_INDICES__CnvGistic.genes.isin(intersections)\n",
    "]\n",
    "\n",
    "ALL_GENES = list(MAPPING_FROM_GENES_TO_INDICES__intersection.genes.values)"
   ]
  },
  {
   "cell_type": "code",
   "execution_count": 9,
   "metadata": {},
   "outputs": [],
   "source": [
    "MAPPING_FROM_GENES_TO_INDICES__intersection\\\n",
    "    .to_pickle(f'{PATH_TO_SAVE_DATA_TO}temp__MAPPING_FROM_GENES_TO_INDICES__intersection.pkl')"
   ]
  },
  {
   "cell_type": "code",
   "execution_count": 14,
   "metadata": {},
   "outputs": [
    {
     "name": "stdout",
     "output_type": "stream",
     "text": [
      "Final intersected MAPPING_FROM_GENES_TO_INDICES shape: (870, 2)\n",
      "Final number of genes: 870\n",
      "The following genes are in all datasets (gene expression, cnv gistic and cnv picnic).\n"
     ]
    },
    {
     "data": {
      "text/html": [
       "<div>\n",
       "<style scoped>\n",
       "    .dataframe tbody tr th:only-of-type {\n",
       "        vertical-align: middle;\n",
       "    }\n",
       "\n",
       "    .dataframe tbody tr th {\n",
       "        vertical-align: top;\n",
       "    }\n",
       "\n",
       "    .dataframe thead th {\n",
       "        text-align: right;\n",
       "    }\n",
       "</style>\n",
       "<table border=\"1\" class=\"dataframe\">\n",
       "  <thead>\n",
       "    <tr style=\"text-align: right;\">\n",
       "      <th></th>\n",
       "      <th>index</th>\n",
       "      <th>genes</th>\n",
       "    </tr>\n",
       "  </thead>\n",
       "  <tbody>\n",
       "    <tr>\n",
       "      <th>0</th>\n",
       "      <td>0</td>\n",
       "      <td>AARS</td>\n",
       "    </tr>\n",
       "    <tr>\n",
       "      <th>2</th>\n",
       "      <td>2</td>\n",
       "      <td>ABCC5</td>\n",
       "    </tr>\n",
       "    <tr>\n",
       "      <th>3</th>\n",
       "      <td>3</td>\n",
       "      <td>ABCF1</td>\n",
       "    </tr>\n",
       "    <tr>\n",
       "      <th>5</th>\n",
       "      <td>5</td>\n",
       "      <td>ABHD4</td>\n",
       "    </tr>\n",
       "    <tr>\n",
       "      <th>6</th>\n",
       "      <td>6</td>\n",
       "      <td>ABHD6</td>\n",
       "    </tr>\n",
       "  </tbody>\n",
       "</table>\n",
       "</div>"
      ],
      "text/plain": [
       "   index  genes\n",
       "0      0   AARS\n",
       "2      2  ABCC5\n",
       "3      3  ABCF1\n",
       "5      5  ABHD4\n",
       "6      6  ABHD6"
      ]
     },
     "execution_count": 14,
     "metadata": {},
     "output_type": "execute_result"
    }
   ],
   "source": [
    "with open(f'{PATH_TO_SAVE_DATA_TO}temp__MAPPING_FROM_GENES_TO_INDICES__intersection.pkl', 'rb') as f: \n",
    "    MAPPING_FROM_GENES_TO_INDICES__intersection = pickle.load(f)\n",
    "    print(f\"Final intersected MAPPING_FROM_GENES_TO_INDICES shape: {MAPPING_FROM_GENES_TO_INDICES__intersection.shape}\")\n",
    "\n",
    "ALL_GENES = list(MAPPING_FROM_GENES_TO_INDICES__intersection.genes.values)\n",
    "print(f\"Final number of genes: {len(ALL_GENES)}\")\n",
    "\n",
    "print(\"The following genes are in all datasets (gene expression, cnv gistic and cnv picnic).\")\n",
    "MAPPING_FROM_GENES_TO_INDICES__intersection.head(5)"
   ]
  },
  {
   "cell_type": "markdown",
   "metadata": {},
   "source": [
    "---\n",
    "\n",
    "## Baseline Model Using Gene Expression "
   ]
  },
  {
   "cell_type": "code",
   "execution_count": 7,
   "metadata": {},
   "outputs": [
    {
     "name": "stdout",
     "output_type": "stream",
     "text": [
      "Gene layer shape : torch.Size([908])\n",
      "tensor([0, 1, 2, 3, 4])\n"
     ]
    },
    {
     "data": {
      "text/html": [
       "<div>\n",
       "<style scoped>\n",
       "    .dataframe tbody tr th:only-of-type {\n",
       "        vertical-align: middle;\n",
       "    }\n",
       "\n",
       "    .dataframe tbody tr th {\n",
       "        vertical-align: top;\n",
       "    }\n",
       "\n",
       "    .dataframe thead th {\n",
       "        text-align: right;\n",
       "    }\n",
       "</style>\n",
       "<table border=\"1\" class=\"dataframe\">\n",
       "  <thead>\n",
       "    <tr style=\"text-align: right;\">\n",
       "      <th></th>\n",
       "      <th>index</th>\n",
       "      <th>genes</th>\n",
       "    </tr>\n",
       "  </thead>\n",
       "  <tbody>\n",
       "    <tr>\n",
       "      <th>0</th>\n",
       "      <td>0</td>\n",
       "      <td>TSPAN6</td>\n",
       "    </tr>\n",
       "    <tr>\n",
       "      <th>1</th>\n",
       "      <td>1</td>\n",
       "      <td>SCYL3</td>\n",
       "    </tr>\n",
       "    <tr>\n",
       "      <th>2</th>\n",
       "      <td>2</td>\n",
       "      <td>BAD</td>\n",
       "    </tr>\n",
       "    <tr>\n",
       "      <th>3</th>\n",
       "      <td>3</td>\n",
       "      <td>LAP3</td>\n",
       "    </tr>\n",
       "    <tr>\n",
       "      <th>4</th>\n",
       "      <td>4</td>\n",
       "      <td>SNX11</td>\n",
       "    </tr>\n",
       "  </tbody>\n",
       "</table>\n",
       "</div>"
      ],
      "text/plain": [
       "   index   genes\n",
       "0      0  TSPAN6\n",
       "1      1   SCYL3\n",
       "2      2     BAD\n",
       "3      3    LAP3\n",
       "4      4   SNX11"
      ]
     },
     "execution_count": 7,
     "metadata": {},
     "output_type": "execute_result"
    }
   ],
   "source": [
    "# ---------------------------------------------- #\n",
    "# CREATE THE GENE LAYER only for gene expression #\n",
    "# ---------------------------------------------- #\n",
    "non_gene_cols = [\n",
    "    'DRUG_ID', 'CELL_LINE_NAME', 'AUC', 'CELL_ID', 'LN_IC50', 'CONC',\n",
    "    'MASTER_CELL_ID', 'INTENSITY', 'DATASET', 'Z_SCORE', 'DRUG_NAME',\n",
    "    'RMSE', 'COSMIC_ID', 'POSITION'\n",
    "]\n",
    "\n",
    "gene_cols__geneexpr = gene_expr.loc[:, ~gene_expr.columns.isin(non_gene_cols)]\n",
    "gene_expr_v2 = gene_expr[['CELL_LINE_NAME'] + list(gene_cols__geneexpr.columns)].drop_duplicates()\n",
    "\n",
    "used_genes = list(gene_expr_v2.loc[:, gene_expr_v2.columns != 'CELL_LINE_NAME'].columns)\n",
    "MAPPING_FROM_GENES_TO_INDICES = pd.DataFrame(used_genes, columns=['genes']).reset_index(level=0)\n",
    "\n",
    "GENE_LAYER_VALUES = torch.tensor(MAPPING_FROM_GENES_TO_INDICES.index.values)\n",
    "print(f\"Gene layer shape : {GENE_LAYER_VALUES.shape}\")\n",
    "print(GENE_LAYER_VALUES[:5])\n",
    "MAPPING_FROM_GENES_TO_INDICES.head(5)"
   ]
  },
  {
   "cell_type": "code",
   "execution_count": 15,
   "metadata": {},
   "outputs": [
    {
     "name": "stdout",
     "output_type": "stream",
     "text": [
      "Drug Shape: (428, 258)\n",
      "Shape: (446521, 257)\n"
     ]
    },
    {
     "data": {
      "text/html": [
       "<div>\n",
       "<style scoped>\n",
       "    .dataframe tbody tr th:only-of-type {\n",
       "        vertical-align: middle;\n",
       "    }\n",
       "\n",
       "    .dataframe tbody tr th {\n",
       "        vertical-align: top;\n",
       "    }\n",
       "\n",
       "    .dataframe thead th {\n",
       "        text-align: right;\n",
       "    }\n",
       "</style>\n",
       "<table border=\"1\" class=\"dataframe\">\n",
       "  <thead>\n",
       "    <tr style=\"text-align: right;\">\n",
       "      <th></th>\n",
       "      <th>DRUG_ID</th>\n",
       "      <th>0</th>\n",
       "      <th>1</th>\n",
       "      <th>2</th>\n",
       "      <th>3</th>\n",
       "      <th>4</th>\n",
       "      <th>5</th>\n",
       "      <th>6</th>\n",
       "      <th>7</th>\n",
       "      <th>8</th>\n",
       "      <th>...</th>\n",
       "      <th>246</th>\n",
       "      <th>247</th>\n",
       "      <th>248</th>\n",
       "      <th>249</th>\n",
       "      <th>250</th>\n",
       "      <th>251</th>\n",
       "      <th>252</th>\n",
       "      <th>253</th>\n",
       "      <th>254</th>\n",
       "      <th>255</th>\n",
       "    </tr>\n",
       "  </thead>\n",
       "  <tbody>\n",
       "    <tr>\n",
       "      <th>0</th>\n",
       "      <td>1</td>\n",
       "      <td>0.0</td>\n",
       "      <td>0.0</td>\n",
       "      <td>0.0</td>\n",
       "      <td>0.0</td>\n",
       "      <td>0.0</td>\n",
       "      <td>0.0</td>\n",
       "      <td>0.0</td>\n",
       "      <td>0.0</td>\n",
       "      <td>0.0</td>\n",
       "      <td>...</td>\n",
       "      <td>0.0</td>\n",
       "      <td>0.0</td>\n",
       "      <td>0.0</td>\n",
       "      <td>0.0</td>\n",
       "      <td>0.0</td>\n",
       "      <td>0.0</td>\n",
       "      <td>0.0</td>\n",
       "      <td>0.0</td>\n",
       "      <td>0.0</td>\n",
       "      <td>0.0</td>\n",
       "    </tr>\n",
       "    <tr>\n",
       "      <th>1</th>\n",
       "      <td>1</td>\n",
       "      <td>0.0</td>\n",
       "      <td>0.0</td>\n",
       "      <td>0.0</td>\n",
       "      <td>0.0</td>\n",
       "      <td>0.0</td>\n",
       "      <td>0.0</td>\n",
       "      <td>0.0</td>\n",
       "      <td>0.0</td>\n",
       "      <td>0.0</td>\n",
       "      <td>...</td>\n",
       "      <td>0.0</td>\n",
       "      <td>0.0</td>\n",
       "      <td>0.0</td>\n",
       "      <td>0.0</td>\n",
       "      <td>0.0</td>\n",
       "      <td>0.0</td>\n",
       "      <td>0.0</td>\n",
       "      <td>0.0</td>\n",
       "      <td>0.0</td>\n",
       "      <td>0.0</td>\n",
       "    </tr>\n",
       "    <tr>\n",
       "      <th>2</th>\n",
       "      <td>1</td>\n",
       "      <td>0.0</td>\n",
       "      <td>0.0</td>\n",
       "      <td>0.0</td>\n",
       "      <td>0.0</td>\n",
       "      <td>0.0</td>\n",
       "      <td>0.0</td>\n",
       "      <td>0.0</td>\n",
       "      <td>0.0</td>\n",
       "      <td>0.0</td>\n",
       "      <td>...</td>\n",
       "      <td>0.0</td>\n",
       "      <td>0.0</td>\n",
       "      <td>0.0</td>\n",
       "      <td>0.0</td>\n",
       "      <td>0.0</td>\n",
       "      <td>0.0</td>\n",
       "      <td>0.0</td>\n",
       "      <td>0.0</td>\n",
       "      <td>0.0</td>\n",
       "      <td>0.0</td>\n",
       "    </tr>\n",
       "    <tr>\n",
       "      <th>3</th>\n",
       "      <td>1</td>\n",
       "      <td>0.0</td>\n",
       "      <td>0.0</td>\n",
       "      <td>0.0</td>\n",
       "      <td>0.0</td>\n",
       "      <td>0.0</td>\n",
       "      <td>0.0</td>\n",
       "      <td>0.0</td>\n",
       "      <td>0.0</td>\n",
       "      <td>0.0</td>\n",
       "      <td>...</td>\n",
       "      <td>0.0</td>\n",
       "      <td>0.0</td>\n",
       "      <td>0.0</td>\n",
       "      <td>0.0</td>\n",
       "      <td>0.0</td>\n",
       "      <td>0.0</td>\n",
       "      <td>0.0</td>\n",
       "      <td>0.0</td>\n",
       "      <td>0.0</td>\n",
       "      <td>0.0</td>\n",
       "    </tr>\n",
       "    <tr>\n",
       "      <th>4</th>\n",
       "      <td>1</td>\n",
       "      <td>0.0</td>\n",
       "      <td>0.0</td>\n",
       "      <td>0.0</td>\n",
       "      <td>0.0</td>\n",
       "      <td>0.0</td>\n",
       "      <td>0.0</td>\n",
       "      <td>0.0</td>\n",
       "      <td>0.0</td>\n",
       "      <td>0.0</td>\n",
       "      <td>...</td>\n",
       "      <td>0.0</td>\n",
       "      <td>0.0</td>\n",
       "      <td>0.0</td>\n",
       "      <td>0.0</td>\n",
       "      <td>0.0</td>\n",
       "      <td>0.0</td>\n",
       "      <td>0.0</td>\n",
       "      <td>0.0</td>\n",
       "      <td>0.0</td>\n",
       "      <td>0.0</td>\n",
       "    </tr>\n",
       "  </tbody>\n",
       "</table>\n",
       "<p>5 rows × 257 columns</p>\n",
       "</div>"
      ],
      "text/plain": [
       "   DRUG_ID    0    1    2    3    4    5    6    7    8  ...  246  247  248  \\\n",
       "0        1  0.0  0.0  0.0  0.0  0.0  0.0  0.0  0.0  0.0  ...  0.0  0.0  0.0   \n",
       "1        1  0.0  0.0  0.0  0.0  0.0  0.0  0.0  0.0  0.0  ...  0.0  0.0  0.0   \n",
       "2        1  0.0  0.0  0.0  0.0  0.0  0.0  0.0  0.0  0.0  ...  0.0  0.0  0.0   \n",
       "3        1  0.0  0.0  0.0  0.0  0.0  0.0  0.0  0.0  0.0  ...  0.0  0.0  0.0   \n",
       "4        1  0.0  0.0  0.0  0.0  0.0  0.0  0.0  0.0  0.0  ...  0.0  0.0  0.0   \n",
       "\n",
       "   249  250  251  252  253  254  255  \n",
       "0  0.0  0.0  0.0  0.0  0.0  0.0  0.0  \n",
       "1  0.0  0.0  0.0  0.0  0.0  0.0  0.0  \n",
       "2  0.0  0.0  0.0  0.0  0.0  0.0  0.0  \n",
       "3  0.0  0.0  0.0  0.0  0.0  0.0  0.0  \n",
       "4  0.0  0.0  0.0  0.0  0.0  0.0  0.0  \n",
       "\n",
       "[5 rows x 257 columns]"
      ]
     },
     "execution_count": 15,
     "metadata": {},
     "output_type": "execute_result"
    }
   ],
   "source": [
    "# Drug data.\n",
    "with open(f'{PATH_TO_SAVED_DRUG_FEATURES}drug_name_fingerprints_dataframe.pkl', 'rb') as f:\n",
    "    drug_name_fps = pickle.load(f)\n",
    "drug_name_fps_v2 = pd.merge(left     = drug_name_fps, \n",
    "                            right    = gene_expr[['DRUG_ID', 'DRUG_NAME']], \n",
    "                            how      = 'left', \n",
    "                            left_on  = ['drug_name'], \n",
    "                            right_on = ['DRUG_NAME'])\n",
    "drug_name_fps_v2.drop_duplicates(inplace=True)\n",
    "drug_name_fps_v2.drop(['DRUG_NAME'], axis=1, inplace=True)                           \n",
    "print(f\"Drug Shape: {drug_name_fps_v2.shape}\")\n",
    "# drug_name_fps_v2.head(3)\n",
    "\n",
    "# For each row of the FULL_DATASET get the corresponding Morgan Fingerprint for the specific drug.\n",
    "FPS = pd.merge(left     = gene_expr['DRUG_ID'], \n",
    "               right    = drug_name_fps_v2.loc[:, ~drug_name_fps_v2.columns.isin(['drug_name'])], \n",
    "               how      = 'left', \n",
    "               left_on  = ['DRUG_ID'], \n",
    "               right_on = ['DRUG_ID'])\n",
    "print(f\"Shape: {FPS.shape}\")\n",
    "FPS.head(5)"
   ]
  },
  {
   "cell_type": "code",
   "execution_count": 16,
   "metadata": {},
   "outputs": [],
   "source": [
    "from typing import List\n",
    "import copy\n",
    "\n",
    "class ModelDataset(Dataset): \n",
    "    def __init__(self, \n",
    "                 full_data: pd.DataFrame,\n",
    "                 cell_cols: List[str],\n",
    "                 drug_cols: List[str],\n",
    "                 cell_identifier: str,\n",
    "                 drug_identifier: str,\n",
    "                 corresponding_fps: pd.DataFrame = FPS,\n",
    "                 target_col: str='LN_IC50'): \n",
    "        # Drop all nans. \n",
    "        print(f\"Initial shape before removing NaN's : {full_data.shape}\")\n",
    "        full_data = full_data.dropna()\n",
    "        print(f\"Shape after removing all NaN's      : {full_data.shape}\")\n",
    "\n",
    "        X = full_data[cell_cols + drug_cols]\n",
    "        y = full_data[target_col]\n",
    "\n",
    "        fps = pd.merge(left     = full_data['DRUG_ID'], \n",
    "                       right    = drug_name_fps_v2.loc[:, ~drug_name_fps_v2.columns.isin(['drug_name'])], \n",
    "                       how      = 'left', \n",
    "                       left_on  = ['DRUG_ID'], \n",
    "                       right_on = ['DRUG_ID'])\n",
    "\n",
    "        X_cell = X[cell_cols]\n",
    "        X_drug = copy.deepcopy(fps)\n",
    "\n",
    "        print(f\"X_cell.shape: {X_cell.shape}\")\n",
    "        print(f\"X_drug.shape: {X_drug.shape}\")\n",
    "\n",
    "        # Contains only the gene columns and the respective feature value. Here GeneExpression.\n",
    "        self.X = torch.tensor(X.loc[:, ~X.columns.isin([cell_identifier] + ['DRUG_NAME'])].values, dtype=torch.float32)\n",
    "        self.X_cell = torch.tensor(X_cell.loc[:, ~X_cell.columns.isin([cell_identifier])].values, dtype=torch.float32)\n",
    "        self.X_drug = torch.tensor(X_drug.loc[:, ~X_drug.columns.isin([drug_identifier])].values, dtype=torch.float32)\n",
    "        self.y = torch.tensor(y.values, dtype=torch.float32)\n",
    "\n",
    "    def __len__(self): \n",
    "        return len(self.y)\n",
    "\n",
    "    def __getitem__(self, idx):\n",
    "        return self.X[idx], self.X_cell[idx], self.X_drug[idx], self.y[idx]"
   ]
  },
  {
   "cell_type": "code",
   "execution_count": 17,
   "metadata": {},
   "outputs": [
    {
     "name": "stdout",
     "output_type": "stream",
     "text": [
      "(370963, 922)\n",
      "(352042, 922)\n",
      "X_cell.shape: (352042, 871)\n",
      "X_drug.shape: (352042, 257)\n"
     ]
    }
   ],
   "source": [
    "# --------------------------------------------------- #\n",
    "# Delete all rows from the dataset for which there is #\n",
    "# no fingerprint for the specific drug.               #\n",
    "# --------------------------------------------------- #\n",
    "# Dataset for modeling which has fingerprints for each DRUG_ID.\n",
    "all_drugs_with_fps = np.unique(drug_name_fps_v2.DRUG_ID).tolist()\n",
    "modeling_dataset = gene_expr[gene_expr.DRUG_ID.isin(all_drugs_with_fps)]\n",
    "\n",
    "uniq_drugs_in__modeling_dataset = len(np.unique(modeling_dataset.DRUG_ID.values))\n",
    "uniq_drugs_with__fingerprints = len(np.unique(drug_name_fps_v2.DRUG_ID).tolist())\n",
    "\n",
    "assert uniq_drugs_in__modeling_dataset == uniq_drugs_with__fingerprints,\\\n",
    "    f\"ERROR: Modeling dataset has {uniq_drugs_in__modeling_dataset} DRUG_ID's while there are only {uniq_drugs_with__fingerprints} DRUG_ID's with fingerprints.\"\n",
    "\n",
    "# ---------------------------- #\n",
    "# Create the modeling dataset. #\n",
    "# ---------------------------- #\n",
    "CELL_IDENTIFIER = 'CELL_LINE_NAME'\n",
    "DRUG_IDENTIFIER = 'DRUG_ID'\n",
    "TARGET_IDENTIFIER = 'LN_IC50'\n",
    "\n",
    "model_dataset = ModelDataset(full_data       = modeling_dataset,\n",
    "                             cell_cols       = [CELL_IDENTIFIER] + list(MAPPING_FROM_GENES_TO_INDICES__intersection.genes.values),\n",
    "                             drug_cols       = [DRUG_IDENTIFIER, 'DRUG_NAME'],\n",
    "                             cell_identifier = CELL_IDENTIFIER,\n",
    "                             drug_identifier = DRUG_IDENTIFIER,\n",
    "                             target_col      = TARGET_IDENTIFIER)\n",
    "\n",
    "assert torch.isnan(model_dataset.X_drug).any() == False,\\\n",
    "    \"ERROR: Some drugs in the dataset have no fingerprints.\""
   ]
  },
  {
   "cell_type": "code",
   "execution_count": 18,
   "metadata": {},
   "outputs": [
    {
     "name": "stdout",
     "output_type": "stream",
     "text": [
      "Shapes \n",
      "    Train : \n",
      "        X : torch.Size([352042, 871])\n",
      "            X_cell : torch.Size([352042, 870])\n",
      "            X_drug : torch.Size([352042, 256])\n",
      "        y : torch.Size([352042])\n",
      "    Test  :\n",
      "        X : torch.Size([352042, 871])\n",
      "            X_cell : torch.Size([352042, 870])\n",
      "            X_drug : torch.Size([352042, 256])            \n",
      "        y : torch.Size([352042])\n",
      "\n",
      "Batch counts:\n",
      "    Train  : 15\n",
      "    Test   : 4\n",
      "\n"
     ]
    }
   ],
   "source": [
    "# ---------------- # \n",
    "# Hyper-parameters #\n",
    "# ---------------- #\n",
    "input_size   = 910 # which is gene_expr_base.shape[0]-1 = 911 - 1\n",
    "                   # One value per feature\n",
    "hidden_size   = 100\n",
    "num_classes   = 1\n",
    "num_epochs    = 100\n",
    "batch_size    = 20_000\n",
    "learning_rate = 0.001  \n",
    "\n",
    "# ------------------------------- #\n",
    "# Create train and test datasets. #\n",
    "# ------------------------------- #\n",
    "train_set_split_ratio = 0.8\n",
    "\n",
    "train_size = int(train_set_split_ratio * len(model_dataset))\n",
    "test_size = len(model_dataset) - train_size\n",
    "train_set, test_set = torch.utils.data.random_split(model_dataset, \n",
    "                                                    [train_size, test_size],\n",
    "                                                    generator=torch.Generator().manual_seed(42))\n",
    "\n",
    "print(f\"\"\"Shapes \n",
    "    Train : \n",
    "        X : {train_set.dataset.X.shape}\n",
    "            X_cell : {train_set.dataset.X_cell.shape}\n",
    "            X_drug : {train_set.dataset.X_drug.shape}\n",
    "        y : {train_set.dataset.y.shape}\n",
    "    Test  :\n",
    "        X : {test_set.dataset.X.shape}\n",
    "            X_cell : {test_set.dataset.X_cell.shape}\n",
    "            X_drug : {test_set.dataset.X_drug.shape}            \n",
    "        y : {test_set.dataset.y.shape}\n",
    "\"\"\")\n",
    "\n",
    "# Data loader\n",
    "train_loader = torch.utils.data.DataLoader(dataset     = train_set, \n",
    "                                           batch_size  = batch_size, \n",
    "                                           shuffle     = True,\n",
    "                                           num_workers = 0)\n",
    "\n",
    "test_loader = torch.utils.data.DataLoader(dataset     = test_set, \n",
    "                                          batch_size  = batch_size, \n",
    "                                          shuffle     = True,\n",
    "                                          num_workers = 0) \n",
    "\n",
    "count_train = sum(1 for X, X_cell, X_drug, y in train_loader)\n",
    "count_test = sum(1 for X, X_cell, X_drug, y in test_loader)\n",
    "print(f\"\"\"Batch counts:\n",
    "    Train  : {count_train}\n",
    "    Test   : {count_test}\n",
    "\"\"\")                                         "
   ]
  },
  {
   "cell_type": "markdown",
   "metadata": {},
   "source": [
    "### Running the Model"
   ]
  },
  {
   "cell_type": "code",
   "execution_count": 22,
   "metadata": {},
   "outputs": [
    {
     "name": "stdout",
     "output_type": "stream",
     "text": [
      "The autoreload extension is already loaded. To reload it, use:\n",
      "  %reload_ext autoreload\n",
      "Device: cpu\n"
     ]
    },
    {
     "name": "stderr",
     "output_type": "stream",
     "text": [
      "0it [00:02, ?it/s]\n"
     ]
    },
    {
     "name": "stdout",
     "output_type": "stream",
     "text": [
      "Epoch [1/50], Step [1/15], Loss: 11.5301\n",
      "loss_values : 0.0000\n"
     ]
    },
    {
     "name": "stderr",
     "output_type": "stream",
     "text": [
      "4it [00:07,  1.91s/it]\n"
     ]
    },
    {
     "name": "stdout",
     "output_type": "stream",
     "text": [
      "MSE (test) : 8.876155853271484\n"
     ]
    },
    {
     "name": "stderr",
     "output_type": "stream",
     "text": [
      "0it [00:02, ?it/s]\n"
     ]
    },
    {
     "name": "stdout",
     "output_type": "stream",
     "text": [
      "Epoch [2/50], Step [1/15], Loss: 10.0876\n",
      "loss_values : 0.0000\n"
     ]
    },
    {
     "name": "stderr",
     "output_type": "stream",
     "text": [
      "4it [00:07,  1.92s/it]\n"
     ]
    },
    {
     "name": "stdout",
     "output_type": "stream",
     "text": [
      "MSE (test) : 6.846859931945801\n"
     ]
    },
    {
     "name": "stderr",
     "output_type": "stream",
     "text": [
      "0it [00:02, ?it/s]\n"
     ]
    },
    {
     "name": "stdout",
     "output_type": "stream",
     "text": [
      "Epoch [3/50], Step [1/15], Loss: 7.8104\n",
      "loss_values : 0.0000\n"
     ]
    },
    {
     "name": "stderr",
     "output_type": "stream",
     "text": [
      "4it [00:07,  1.83s/it]\n"
     ]
    },
    {
     "name": "stdout",
     "output_type": "stream",
     "text": [
      "MSE (test) : 7.493753910064697\n"
     ]
    },
    {
     "name": "stderr",
     "output_type": "stream",
     "text": [
      "0it [00:02, ?it/s]\n"
     ]
    },
    {
     "name": "stdout",
     "output_type": "stream",
     "text": [
      "Epoch [4/50], Step [1/15], Loss: 8.2568\n",
      "loss_values : 0.0000\n"
     ]
    },
    {
     "name": "stderr",
     "output_type": "stream",
     "text": [
      "4it [00:07,  1.96s/it]\n"
     ]
    },
    {
     "name": "stdout",
     "output_type": "stream",
     "text": [
      "MSE (test) : 6.962515830993652\n"
     ]
    },
    {
     "name": "stderr",
     "output_type": "stream",
     "text": [
      "0it [00:02, ?it/s]\n"
     ]
    },
    {
     "name": "stdout",
     "output_type": "stream",
     "text": [
      "Epoch [5/50], Step [1/15], Loss: 7.9078\n",
      "loss_values : 0.0000\n"
     ]
    },
    {
     "name": "stderr",
     "output_type": "stream",
     "text": [
      "4it [00:07,  1.90s/it]\n"
     ]
    },
    {
     "name": "stdout",
     "output_type": "stream",
     "text": [
      "MSE (test) : 6.452052116394043\n"
     ]
    },
    {
     "name": "stderr",
     "output_type": "stream",
     "text": [
      "0it [00:02, ?it/s]\n"
     ]
    },
    {
     "name": "stdout",
     "output_type": "stream",
     "text": [
      "Epoch [6/50], Step [1/15], Loss: 7.2486\n",
      "loss_values : 0.0000\n"
     ]
    },
    {
     "name": "stderr",
     "output_type": "stream",
     "text": [
      "4it [00:06,  1.73s/it]\n"
     ]
    },
    {
     "name": "stdout",
     "output_type": "stream",
     "text": [
      "MSE (test) : 6.670128345489502\n"
     ]
    },
    {
     "name": "stderr",
     "output_type": "stream",
     "text": [
      "0it [00:02, ?it/s]\n"
     ]
    },
    {
     "name": "stdout",
     "output_type": "stream",
     "text": [
      "Epoch [7/50], Step [1/15], Loss: 7.6523\n",
      "loss_values : 0.0000\n"
     ]
    },
    {
     "name": "stderr",
     "output_type": "stream",
     "text": [
      "4it [00:08,  2.01s/it]\n"
     ]
    },
    {
     "name": "stdout",
     "output_type": "stream",
     "text": [
      "MSE (test) : 6.847055435180664\n"
     ]
    },
    {
     "name": "stderr",
     "output_type": "stream",
     "text": [
      "0it [00:02, ?it/s]\n"
     ]
    },
    {
     "name": "stdout",
     "output_type": "stream",
     "text": [
      "Epoch [8/50], Step [1/15], Loss: 7.7950\n",
      "loss_values : 0.0000\n"
     ]
    },
    {
     "name": "stderr",
     "output_type": "stream",
     "text": [
      "4it [00:07,  1.96s/it]\n"
     ]
    },
    {
     "name": "stdout",
     "output_type": "stream",
     "text": [
      "MSE (test) : 6.796413898468018\n"
     ]
    },
    {
     "name": "stderr",
     "output_type": "stream",
     "text": [
      "0it [00:02, ?it/s]\n"
     ]
    },
    {
     "name": "stdout",
     "output_type": "stream",
     "text": [
      "Epoch [9/50], Step [1/15], Loss: 7.6376\n",
      "loss_values : 0.0000\n"
     ]
    },
    {
     "name": "stderr",
     "output_type": "stream",
     "text": [
      "4it [00:07,  1.98s/it]\n"
     ]
    },
    {
     "name": "stdout",
     "output_type": "stream",
     "text": [
      "MSE (test) : 6.605085372924805\n"
     ]
    },
    {
     "name": "stderr",
     "output_type": "stream",
     "text": [
      "0it [00:02, ?it/s]\n"
     ]
    },
    {
     "name": "stdout",
     "output_type": "stream",
     "text": [
      "Epoch [10/50], Step [1/15], Loss: 7.4203\n",
      "loss_values : 0.0000\n"
     ]
    },
    {
     "name": "stderr",
     "output_type": "stream",
     "text": [
      "4it [00:07,  1.81s/it]\n"
     ]
    },
    {
     "name": "stdout",
     "output_type": "stream",
     "text": [
      "MSE (test) : 6.442788124084473\n"
     ]
    },
    {
     "name": "stderr",
     "output_type": "stream",
     "text": [
      "0it [00:02, ?it/s]\n"
     ]
    },
    {
     "name": "stdout",
     "output_type": "stream",
     "text": [
      "Epoch [11/50], Step [1/15], Loss: 7.3103\n",
      "loss_values : 0.0000\n"
     ]
    },
    {
     "name": "stderr",
     "output_type": "stream",
     "text": [
      "4it [00:07,  1.95s/it]\n"
     ]
    },
    {
     "name": "stdout",
     "output_type": "stream",
     "text": [
      "MSE (test) : 6.499190807342529\n"
     ]
    },
    {
     "name": "stderr",
     "output_type": "stream",
     "text": [
      "0it [00:02, ?it/s]\n"
     ]
    },
    {
     "name": "stdout",
     "output_type": "stream",
     "text": [
      "Epoch [12/50], Step [1/15], Loss: 7.3850\n",
      "loss_values : 0.0000\n"
     ]
    },
    {
     "name": "stderr",
     "output_type": "stream",
     "text": [
      "4it [00:07,  1.96s/it]\n"
     ]
    },
    {
     "name": "stdout",
     "output_type": "stream",
     "text": [
      "MSE (test) : 6.614017963409424\n"
     ]
    },
    {
     "name": "stderr",
     "output_type": "stream",
     "text": [
      "0it [00:02, ?it/s]\n"
     ]
    },
    {
     "name": "stdout",
     "output_type": "stream",
     "text": [
      "Epoch [13/50], Step [1/15], Loss: 7.5412\n",
      "loss_values : 0.0000\n"
     ]
    },
    {
     "name": "stderr",
     "output_type": "stream",
     "text": [
      "4it [00:07,  1.97s/it]\n"
     ]
    },
    {
     "name": "stdout",
     "output_type": "stream",
     "text": [
      "MSE (test) : 6.548848628997803\n"
     ]
    },
    {
     "name": "stderr",
     "output_type": "stream",
     "text": [
      "0it [00:02, ?it/s]\n"
     ]
    },
    {
     "name": "stdout",
     "output_type": "stream",
     "text": [
      "Epoch [14/50], Step [1/15], Loss: 7.4294\n",
      "loss_values : 0.0000\n"
     ]
    },
    {
     "name": "stderr",
     "output_type": "stream",
     "text": [
      "4it [00:07,  1.87s/it]\n"
     ]
    },
    {
     "name": "stdout",
     "output_type": "stream",
     "text": [
      "MSE (test) : 6.4323530197143555\n"
     ]
    },
    {
     "name": "stderr",
     "output_type": "stream",
     "text": [
      "0it [00:02, ?it/s]\n"
     ]
    },
    {
     "name": "stdout",
     "output_type": "stream",
     "text": [
      "Epoch [15/50], Step [1/15], Loss: 7.4171\n",
      "loss_values : 0.0000\n"
     ]
    },
    {
     "name": "stderr",
     "output_type": "stream",
     "text": [
      "4it [00:07,  1.82s/it]\n"
     ]
    },
    {
     "name": "stdout",
     "output_type": "stream",
     "text": [
      "MSE (test) : 6.406312942504883\n"
     ]
    },
    {
     "name": "stderr",
     "output_type": "stream",
     "text": [
      "0it [00:02, ?it/s]\n"
     ]
    },
    {
     "name": "stdout",
     "output_type": "stream",
     "text": [
      "Epoch [16/50], Step [1/15], Loss: 7.2670\n",
      "loss_values : 0.0000\n"
     ]
    },
    {
     "name": "stderr",
     "output_type": "stream",
     "text": [
      "4it [00:07,  1.95s/it]\n"
     ]
    },
    {
     "name": "stdout",
     "output_type": "stream",
     "text": [
      "MSE (test) : 6.43812894821167\n"
     ]
    },
    {
     "name": "stderr",
     "output_type": "stream",
     "text": [
      "0it [00:02, ?it/s]\n"
     ]
    },
    {
     "name": "stdout",
     "output_type": "stream",
     "text": [
      "Epoch [17/50], Step [1/15], Loss: 7.3080\n",
      "loss_values : 0.0000\n"
     ]
    },
    {
     "name": "stderr",
     "output_type": "stream",
     "text": [
      "4it [00:07,  1.91s/it]\n"
     ]
    },
    {
     "name": "stdout",
     "output_type": "stream",
     "text": [
      "MSE (test) : 6.449404239654541\n"
     ]
    },
    {
     "name": "stderr",
     "output_type": "stream",
     "text": [
      "0it [00:02, ?it/s]\n"
     ]
    },
    {
     "name": "stdout",
     "output_type": "stream",
     "text": [
      "Epoch [18/50], Step [1/15], Loss: 7.3618\n",
      "loss_values : 0.0000\n"
     ]
    },
    {
     "name": "stderr",
     "output_type": "stream",
     "text": [
      "4it [00:07,  1.81s/it]\n"
     ]
    },
    {
     "name": "stdout",
     "output_type": "stream",
     "text": [
      "MSE (test) : 6.420260906219482\n"
     ]
    },
    {
     "name": "stderr",
     "output_type": "stream",
     "text": [
      "0it [00:02, ?it/s]\n"
     ]
    },
    {
     "name": "stdout",
     "output_type": "stream",
     "text": [
      "Epoch [19/50], Step [1/15], Loss: 7.3312\n",
      "loss_values : 0.0000\n"
     ]
    },
    {
     "name": "stderr",
     "output_type": "stream",
     "text": [
      "4it [00:08,  2.03s/it]\n"
     ]
    },
    {
     "name": "stdout",
     "output_type": "stream",
     "text": [
      "MSE (test) : 6.3657965660095215\n"
     ]
    },
    {
     "name": "stderr",
     "output_type": "stream",
     "text": [
      "0it [00:02, ?it/s]\n"
     ]
    },
    {
     "name": "stdout",
     "output_type": "stream",
     "text": [
      "Epoch [20/50], Step [1/15], Loss: 7.2318\n",
      "loss_values : 0.0000\n"
     ]
    },
    {
     "name": "stderr",
     "output_type": "stream",
     "text": [
      "4it [00:07,  1.95s/it]\n"
     ]
    },
    {
     "name": "stdout",
     "output_type": "stream",
     "text": [
      "MSE (test) : 6.326472759246826\n"
     ]
    },
    {
     "name": "stderr",
     "output_type": "stream",
     "text": [
      "0it [00:03, ?it/s]\n"
     ]
    },
    {
     "name": "stdout",
     "output_type": "stream",
     "text": [
      "Epoch [21/50], Step [1/15], Loss: 7.3710\n",
      "loss_values : 0.0000\n"
     ]
    },
    {
     "name": "stderr",
     "output_type": "stream",
     "text": [
      "4it [00:08,  2.03s/it]\n"
     ]
    },
    {
     "name": "stdout",
     "output_type": "stream",
     "text": [
      "MSE (test) : 6.324866771697998\n"
     ]
    },
    {
     "name": "stderr",
     "output_type": "stream",
     "text": [
      "0it [00:02, ?it/s]\n"
     ]
    },
    {
     "name": "stdout",
     "output_type": "stream",
     "text": [
      "Epoch [22/50], Step [1/15], Loss: 7.1767\n",
      "loss_values : 0.0000\n"
     ]
    },
    {
     "name": "stderr",
     "output_type": "stream",
     "text": [
      "4it [00:08,  2.03s/it]\n"
     ]
    },
    {
     "name": "stdout",
     "output_type": "stream",
     "text": [
      "MSE (test) : 6.319464683532715\n"
     ]
    },
    {
     "name": "stderr",
     "output_type": "stream",
     "text": [
      "0it [00:02, ?it/s]\n"
     ]
    },
    {
     "name": "stdout",
     "output_type": "stream",
     "text": [
      "Epoch [23/50], Step [1/15], Loss: 7.2454\n",
      "loss_values : 0.0000\n"
     ]
    },
    {
     "name": "stderr",
     "output_type": "stream",
     "text": [
      "4it [00:07,  1.98s/it]\n"
     ]
    },
    {
     "name": "stdout",
     "output_type": "stream",
     "text": [
      "MSE (test) : 6.264440536499023\n"
     ]
    },
    {
     "name": "stderr",
     "output_type": "stream",
     "text": [
      "0it [00:02, ?it/s]\n"
     ]
    },
    {
     "name": "stdout",
     "output_type": "stream",
     "text": [
      "Epoch [24/50], Step [1/15], Loss: 7.1485\n",
      "loss_values : 0.0000\n"
     ]
    },
    {
     "name": "stderr",
     "output_type": "stream",
     "text": [
      "4it [00:07,  2.00s/it]\n"
     ]
    },
    {
     "name": "stdout",
     "output_type": "stream",
     "text": [
      "MSE (test) : 6.196732997894287\n"
     ]
    },
    {
     "name": "stderr",
     "output_type": "stream",
     "text": [
      "0it [00:02, ?it/s]\n"
     ]
    },
    {
     "name": "stdout",
     "output_type": "stream",
     "text": [
      "Epoch [25/50], Step [1/15], Loss: 7.0483\n",
      "loss_values : 0.0000\n"
     ]
    },
    {
     "name": "stderr",
     "output_type": "stream",
     "text": [
      "4it [00:08,  2.06s/it]\n"
     ]
    },
    {
     "name": "stdout",
     "output_type": "stream",
     "text": [
      "MSE (test) : 6.144828796386719\n"
     ]
    },
    {
     "name": "stderr",
     "output_type": "stream",
     "text": [
      "0it [00:02, ?it/s]\n"
     ]
    },
    {
     "name": "stdout",
     "output_type": "stream",
     "text": [
      "Epoch [26/50], Step [1/15], Loss: 6.9359\n",
      "loss_values : 0.0000\n"
     ]
    },
    {
     "name": "stderr",
     "output_type": "stream",
     "text": [
      "4it [00:07,  1.99s/it]\n"
     ]
    },
    {
     "name": "stdout",
     "output_type": "stream",
     "text": [
      "MSE (test) : 6.097884654998779\n"
     ]
    },
    {
     "name": "stderr",
     "output_type": "stream",
     "text": [
      "0it [00:03, ?it/s]\n"
     ]
    },
    {
     "name": "stdout",
     "output_type": "stream",
     "text": [
      "Epoch [27/50], Step [1/15], Loss: 6.8689\n",
      "loss_values : 0.0000\n"
     ]
    },
    {
     "name": "stderr",
     "output_type": "stream",
     "text": [
      "4it [00:07,  1.99s/it]\n"
     ]
    },
    {
     "name": "stdout",
     "output_type": "stream",
     "text": [
      "MSE (test) : 6.027958393096924\n"
     ]
    },
    {
     "name": "stderr",
     "output_type": "stream",
     "text": [
      "0it [00:02, ?it/s]\n"
     ]
    },
    {
     "name": "stdout",
     "output_type": "stream",
     "text": [
      "Epoch [28/50], Step [1/15], Loss: 6.9172\n",
      "loss_values : 0.0000\n"
     ]
    },
    {
     "name": "stderr",
     "output_type": "stream",
     "text": [
      "4it [00:08,  2.10s/it]\n"
     ]
    },
    {
     "name": "stdout",
     "output_type": "stream",
     "text": [
      "MSE (test) : 5.933238506317139\n"
     ]
    },
    {
     "name": "stderr",
     "output_type": "stream",
     "text": [
      "0it [00:02, ?it/s]\n"
     ]
    },
    {
     "name": "stdout",
     "output_type": "stream",
     "text": [
      "Epoch [29/50], Step [1/15], Loss: 6.9675\n",
      "loss_values : 0.0000\n"
     ]
    },
    {
     "name": "stderr",
     "output_type": "stream",
     "text": [
      "4it [00:07,  1.97s/it]\n"
     ]
    },
    {
     "name": "stdout",
     "output_type": "stream",
     "text": [
      "MSE (test) : 5.837608814239502\n"
     ]
    },
    {
     "name": "stderr",
     "output_type": "stream",
     "text": [
      "0it [00:02, ?it/s]\n"
     ]
    },
    {
     "name": "stdout",
     "output_type": "stream",
     "text": [
      "Epoch [30/50], Step [1/15], Loss: 6.7629\n",
      "loss_values : 0.0000\n"
     ]
    },
    {
     "name": "stderr",
     "output_type": "stream",
     "text": [
      "4it [00:07,  1.90s/it]\n"
     ]
    },
    {
     "name": "stdout",
     "output_type": "stream",
     "text": [
      "MSE (test) : 5.740612506866455\n"
     ]
    },
    {
     "name": "stderr",
     "output_type": "stream",
     "text": [
      "0it [00:02, ?it/s]\n"
     ]
    },
    {
     "name": "stdout",
     "output_type": "stream",
     "text": [
      "Epoch [31/50], Step [1/15], Loss: 6.6471\n",
      "loss_values : 0.0000\n"
     ]
    },
    {
     "name": "stderr",
     "output_type": "stream",
     "text": [
      "4it [00:08,  2.06s/it]\n"
     ]
    },
    {
     "name": "stdout",
     "output_type": "stream",
     "text": [
      "MSE (test) : 5.617375373840332\n"
     ]
    },
    {
     "name": "stderr",
     "output_type": "stream",
     "text": [
      "0it [00:02, ?it/s]\n"
     ]
    },
    {
     "name": "stdout",
     "output_type": "stream",
     "text": [
      "Epoch [32/50], Step [1/15], Loss: 6.3819\n",
      "loss_values : 0.0000\n"
     ]
    },
    {
     "name": "stderr",
     "output_type": "stream",
     "text": [
      "4it [00:07,  1.97s/it]\n"
     ]
    },
    {
     "name": "stdout",
     "output_type": "stream",
     "text": [
      "MSE (test) : 5.467134952545166\n"
     ]
    },
    {
     "name": "stderr",
     "output_type": "stream",
     "text": [
      "0it [00:02, ?it/s]\n"
     ]
    },
    {
     "name": "stdout",
     "output_type": "stream",
     "text": [
      "Epoch [33/50], Step [1/15], Loss: 6.3842\n",
      "loss_values : 0.0000\n"
     ]
    },
    {
     "name": "stderr",
     "output_type": "stream",
     "text": [
      "4it [00:07,  1.93s/it]\n"
     ]
    },
    {
     "name": "stdout",
     "output_type": "stream",
     "text": [
      "MSE (test) : 5.309540748596191\n"
     ]
    },
    {
     "name": "stderr",
     "output_type": "stream",
     "text": [
      "0it [00:02, ?it/s]\n"
     ]
    },
    {
     "name": "stdout",
     "output_type": "stream",
     "text": [
      "Epoch [34/50], Step [1/15], Loss: 5.9967\n",
      "loss_values : 0.0000\n"
     ]
    },
    {
     "name": "stderr",
     "output_type": "stream",
     "text": [
      "4it [00:10,  2.71s/it]\n"
     ]
    },
    {
     "name": "stdout",
     "output_type": "stream",
     "text": [
      "MSE (test) : 5.148746013641357\n"
     ]
    },
    {
     "name": "stderr",
     "output_type": "stream",
     "text": [
      "0it [00:02, ?it/s]\n"
     ]
    },
    {
     "name": "stdout",
     "output_type": "stream",
     "text": [
      "Epoch [35/50], Step [1/15], Loss: 5.9045\n",
      "loss_values : 0.0000\n"
     ]
    },
    {
     "name": "stderr",
     "output_type": "stream",
     "text": [
      "4it [00:08,  2.05s/it]\n"
     ]
    },
    {
     "name": "stdout",
     "output_type": "stream",
     "text": [
      "MSE (test) : 4.960911750793457\n"
     ]
    },
    {
     "name": "stderr",
     "output_type": "stream",
     "text": [
      "0it [00:02, ?it/s]\n"
     ]
    },
    {
     "name": "stdout",
     "output_type": "stream",
     "text": [
      "Epoch [36/50], Step [1/15], Loss: 5.6005\n",
      "loss_values : 0.0000\n"
     ]
    },
    {
     "name": "stderr",
     "output_type": "stream",
     "text": [
      "4it [00:07,  1.85s/it]\n"
     ]
    },
    {
     "name": "stdout",
     "output_type": "stream",
     "text": [
      "MSE (test) : 4.767275810241699\n"
     ]
    },
    {
     "name": "stderr",
     "output_type": "stream",
     "text": [
      "0it [00:02, ?it/s]\n"
     ]
    },
    {
     "name": "stdout",
     "output_type": "stream",
     "text": [
      "Epoch [37/50], Step [1/15], Loss: 5.3831\n",
      "loss_values : 0.0000\n"
     ]
    },
    {
     "name": "stderr",
     "output_type": "stream",
     "text": [
      "4it [00:07,  1.97s/it]\n"
     ]
    },
    {
     "name": "stdout",
     "output_type": "stream",
     "text": [
      "MSE (test) : 4.590486526489258\n"
     ]
    },
    {
     "name": "stderr",
     "output_type": "stream",
     "text": [
      "0it [00:03, ?it/s]\n"
     ]
    },
    {
     "name": "stdout",
     "output_type": "stream",
     "text": [
      "Epoch [38/50], Step [1/15], Loss: 5.2875\n",
      "loss_values : 0.0000\n"
     ]
    },
    {
     "name": "stderr",
     "output_type": "stream",
     "text": [
      "4it [00:07,  1.99s/it]\n"
     ]
    },
    {
     "name": "stdout",
     "output_type": "stream",
     "text": [
      "MSE (test) : 4.412872791290283\n"
     ]
    },
    {
     "name": "stderr",
     "output_type": "stream",
     "text": [
      "0it [00:02, ?it/s]\n"
     ]
    },
    {
     "name": "stdout",
     "output_type": "stream",
     "text": [
      "Epoch [39/50], Step [1/15], Loss: 4.9876\n",
      "loss_values : 0.0000\n"
     ]
    },
    {
     "name": "stderr",
     "output_type": "stream",
     "text": [
      "4it [00:07,  1.91s/it]\n"
     ]
    },
    {
     "name": "stdout",
     "output_type": "stream",
     "text": [
      "MSE (test) : 4.261279582977295\n"
     ]
    },
    {
     "name": "stderr",
     "output_type": "stream",
     "text": [
      "0it [00:02, ?it/s]\n"
     ]
    },
    {
     "name": "stdout",
     "output_type": "stream",
     "text": [
      "Epoch [40/50], Step [1/15], Loss: 4.9050\n",
      "loss_values : 0.0000\n"
     ]
    },
    {
     "name": "stderr",
     "output_type": "stream",
     "text": [
      "4it [00:07,  1.97s/it]\n"
     ]
    },
    {
     "name": "stdout",
     "output_type": "stream",
     "text": [
      "MSE (test) : 4.1578497886657715\n"
     ]
    },
    {
     "name": "stderr",
     "output_type": "stream",
     "text": [
      "0it [00:02, ?it/s]\n"
     ]
    },
    {
     "name": "stdout",
     "output_type": "stream",
     "text": [
      "Epoch [41/50], Step [1/15], Loss: 4.6937\n",
      "loss_values : 0.0000\n"
     ]
    },
    {
     "name": "stderr",
     "output_type": "stream",
     "text": [
      "4it [00:07,  1.90s/it]\n"
     ]
    },
    {
     "name": "stdout",
     "output_type": "stream",
     "text": [
      "MSE (test) : 4.061054706573486\n"
     ]
    },
    {
     "name": "stderr",
     "output_type": "stream",
     "text": [
      "0it [00:02, ?it/s]\n"
     ]
    },
    {
     "name": "stdout",
     "output_type": "stream",
     "text": [
      "Epoch [42/50], Step [1/15], Loss: 4.5621\n",
      "loss_values : 0.0000\n"
     ]
    },
    {
     "name": "stderr",
     "output_type": "stream",
     "text": [
      "4it [00:15,  3.88s/it]\n"
     ]
    },
    {
     "name": "stdout",
     "output_type": "stream",
     "text": [
      "MSE (test) : 3.9907491207122803\n"
     ]
    },
    {
     "name": "stderr",
     "output_type": "stream",
     "text": [
      "0it [00:02, ?it/s]\n"
     ]
    },
    {
     "name": "stdout",
     "output_type": "stream",
     "text": [
      "Epoch [43/50], Step [1/15], Loss: 4.4690\n",
      "loss_values : 0.0000\n"
     ]
    },
    {
     "name": "stderr",
     "output_type": "stream",
     "text": [
      "4it [00:07,  1.93s/it]\n"
     ]
    },
    {
     "name": "stdout",
     "output_type": "stream",
     "text": [
      "MSE (test) : 3.9054148197174072\n"
     ]
    },
    {
     "name": "stderr",
     "output_type": "stream",
     "text": [
      "0it [00:02, ?it/s]\n"
     ]
    },
    {
     "name": "stdout",
     "output_type": "stream",
     "text": [
      "Epoch [44/50], Step [1/15], Loss: 4.4671\n",
      "loss_values : 0.0000\n"
     ]
    },
    {
     "name": "stderr",
     "output_type": "stream",
     "text": [
      "4it [00:07,  1.92s/it]\n"
     ]
    },
    {
     "name": "stdout",
     "output_type": "stream",
     "text": [
      "MSE (test) : 3.815364122390747\n"
     ]
    },
    {
     "name": "stderr",
     "output_type": "stream",
     "text": [
      "0it [00:02, ?it/s]\n"
     ]
    },
    {
     "name": "stdout",
     "output_type": "stream",
     "text": [
      "Epoch [45/50], Step [1/15], Loss: 4.3333\n",
      "loss_values : 0.0000\n"
     ]
    },
    {
     "name": "stderr",
     "output_type": "stream",
     "text": [
      "4it [00:08,  2.01s/it]\n"
     ]
    },
    {
     "name": "stdout",
     "output_type": "stream",
     "text": [
      "MSE (test) : 3.725158214569092\n"
     ]
    },
    {
     "name": "stderr",
     "output_type": "stream",
     "text": [
      "0it [00:02, ?it/s]\n"
     ]
    },
    {
     "name": "stdout",
     "output_type": "stream",
     "text": [
      "Epoch [46/50], Step [1/15], Loss: 4.2311\n",
      "loss_values : 0.0000\n"
     ]
    },
    {
     "name": "stderr",
     "output_type": "stream",
     "text": [
      "4it [00:07,  1.99s/it]\n"
     ]
    },
    {
     "name": "stdout",
     "output_type": "stream",
     "text": [
      "MSE (test) : 3.635221481323242\n"
     ]
    },
    {
     "name": "stderr",
     "output_type": "stream",
     "text": [
      "0it [00:02, ?it/s]\n"
     ]
    },
    {
     "name": "stdout",
     "output_type": "stream",
     "text": [
      "Epoch [47/50], Step [1/15], Loss: 4.0962\n",
      "loss_values : 0.0000\n"
     ]
    },
    {
     "name": "stderr",
     "output_type": "stream",
     "text": [
      "4it [00:07,  1.96s/it]\n"
     ]
    },
    {
     "name": "stdout",
     "output_type": "stream",
     "text": [
      "MSE (test) : 3.554844856262207\n"
     ]
    },
    {
     "name": "stderr",
     "output_type": "stream",
     "text": [
      "0it [00:02, ?it/s]\n"
     ]
    },
    {
     "name": "stdout",
     "output_type": "stream",
     "text": [
      "Epoch [48/50], Step [1/15], Loss: 3.9694\n",
      "loss_values : 0.0000\n"
     ]
    },
    {
     "name": "stderr",
     "output_type": "stream",
     "text": [
      "4it [00:07,  1.94s/it]\n"
     ]
    },
    {
     "name": "stdout",
     "output_type": "stream",
     "text": [
      "MSE (test) : 3.48663592338562\n"
     ]
    },
    {
     "name": "stderr",
     "output_type": "stream",
     "text": [
      "0it [00:02, ?it/s]\n"
     ]
    },
    {
     "name": "stdout",
     "output_type": "stream",
     "text": [
      "Epoch [49/50], Step [1/15], Loss: 3.9806\n",
      "loss_values : 0.0000\n"
     ]
    },
    {
     "name": "stderr",
     "output_type": "stream",
     "text": [
      "4it [00:07,  1.91s/it]\n"
     ]
    },
    {
     "name": "stdout",
     "output_type": "stream",
     "text": [
      "MSE (test) : 3.416611433029175\n"
     ]
    },
    {
     "name": "stderr",
     "output_type": "stream",
     "text": [
      "0it [00:02, ?it/s]\n"
     ]
    },
    {
     "name": "stdout",
     "output_type": "stream",
     "text": [
      "Epoch [50/50], Step [1/15], Loss: 3.8797\n",
      "loss_values : 0.0000\n"
     ]
    },
    {
     "name": "stderr",
     "output_type": "stream",
     "text": [
      "4it [00:07,  1.90s/it]\n"
     ]
    },
    {
     "name": "stdout",
     "output_type": "stream",
     "text": [
      "MSE (test) : 3.360123872756958\n"
     ]
    }
   ],
   "source": [
    "%load_ext autoreload\n",
    "%autoreload\n",
    "from v1_NormalNN            import Model2\n",
    "from my_utils.model_helpers import train_and_test_model\n",
    "\n",
    "NUM_EPOCHS = 50\n",
    "\n",
    "torch.manual_seed(42)\n",
    "device = torch.device(\"cuda\" if torch.cuda.is_available() else \"cpu\")\n",
    "print(f\"Device: {device}\")\n",
    "\n",
    "# ---------- #\n",
    "# INITIALIZE #\n",
    "# ---------- #\n",
    "model2 = Model2().to(device)\n",
    "loss_func = nn.MSELoss()\n",
    "optimizer = torch.optim.Adam(params = model2.parameters(), \n",
    "                             lr     = learning_rate)\n",
    "\n",
    "# ---------------- #\n",
    "# TRAIN & EVALUATE #\n",
    "# ---------------- #\n",
    "model2, loss_values2, loss_values_test2 = train_and_test_model(modeling_dataset = modeling_dataset,\n",
    "                                                               model            = model2,\n",
    "                                                               criterion        = loss_func,\n",
    "                                                               optimizer        = optimizer,\n",
    "                                                               num_epochs       = NUM_EPOCHS,\n",
    "                                                               device           = device,\n",
    "                                                               train_loader     = train_loader,\n",
    "                                                               test_loader      = test_loader)\n",
    "\n",
    "# ---------- # \n",
    "# SAVE MODEL #\n",
    "# ---------- #\n",
    "                                                                "
   ]
  },
  {
   "cell_type": "markdown",
   "metadata": {},
   "source": [
    "### Performance Visualization"
   ]
  },
  {
   "cell_type": "code",
   "execution_count": 25,
   "metadata": {},
   "outputs": [
    {
     "name": "stdout",
     "output_type": "stream",
     "text": [
      "\n",
      "TRAIN\n",
      "    min  : 3.87972856\n",
      "    mean : 6.55063976\n",
      "    max  : 11.53013992\n",
      "    sd   : 1.55426264\n",
      "TEST\n",
      "    min  : 3.36012387\n",
      "    mean : 5.62051821\n",
      "    max  : 8.87615585\n",
      "    sd   : 1.25591338\n",
      "\n"
     ]
    },
    {
     "data": {
      "image/png": "[encoded data removed]",
      "text/plain": [
       "<Figure size 720x360 with 1 Axes>"
      ]
     },
     "metadata": {},
     "output_type": "display_data"
    }
   ],
   "source": [
    "from matplotlib.ticker import FormatStrFormatter\n",
    "\n",
    "plt.rcParams[\"figure.figsize\"] = (10, 5)\n",
    "\n",
    "loss_values2_backcalculated = [loss_v * len(modeling_dataset) for loss_v in loss_values2]\n",
    "\n",
    "fig, axs = plt.subplots(1)\n",
    "fig.suptitle(\"v1_NormalNN - Model2 - Gene Expression\");\n",
    "\n",
    "axs.plot(loss_values2_backcalculated, linestyle='-', label='Train', color='C0'); # Train\n",
    "axs.plot(loss_values_test2, linestyle='-', label='Test', color='C1'); # Test\n",
    "axs.legend();\n",
    "axs.ticklabel_format(style='plain');\n",
    "axs.set_xlim(0, NUM_EPOCHS, 1);\n",
    "axs.set_ylabel(\"MSE\");\n",
    "\n",
    "print(f\"\"\"\n",
    "TRAIN\n",
    "    min  : {np.min(loss_values2_backcalculated):2.8f}\n",
    "    mean : {np.mean(loss_values2_backcalculated):2.8f}\n",
    "    max  : {np.max(loss_values2_backcalculated):2.8f}\n",
    "    sd   : {np.std(loss_values2_backcalculated):2.8f}\n",
    "TEST\n",
    "    min  : {np.min(loss_values_test2):2.8f}\n",
    "    mean : {np.mean(loss_values_test2):2.8f}\n",
    "    max  : {np.max(loss_values_test2):2.8f}\n",
    "    sd   : {np.std(loss_values_test2):2.8f}\n",
    "\"\"\")"
   ]
  },
  {
   "cell_type": "markdown",
   "metadata": {},
   "source": [
    "### Save or Load Model"
   ]
  },
  {
   "cell_type": "code",
   "execution_count": 26,
   "metadata": {},
   "outputs": [],
   "source": [
    "torch.save(obj={\n",
    "            'epoch': NUM_EPOCHS,\n",
    "            'model_state_dict': model2.state_dict(),\n",
    "            'optimizer_state_dict': optimizer.state_dict(),\n",
    "            'loss_func': loss_func,\n",
    "            'loss_values_train': loss_values2_backcalculated,\n",
    "            'loss_values_test': loss_values_test2,\n",
    "            },\n",
    "            f=PATH_TO_SAVE_MODELS_TO+'model2__gene_expr.pkl')"
   ]
  },
  {
   "cell_type": "markdown",
   "metadata": {},
   "source": [
    "--- \n",
    "\n",
    "## Baseline Model using CNV Gistic"
   ]
  },
  {
   "cell_type": "code",
   "execution_count": 27,
   "metadata": {},
   "outputs": [
    {
     "name": "stdout",
     "output_type": "stream",
     "text": [
      "Drug Shape: (428, 258)\n",
      "Shape: (446521, 257)\n"
     ]
    },
    {
     "data": {
      "text/html": [
       "<div>\n",
       "<style scoped>\n",
       "    .dataframe tbody tr th:only-of-type {\n",
       "        vertical-align: middle;\n",
       "    }\n",
       "\n",
       "    .dataframe tbody tr th {\n",
       "        vertical-align: top;\n",
       "    }\n",
       "\n",
       "    .dataframe thead th {\n",
       "        text-align: right;\n",
       "    }\n",
       "</style>\n",
       "<table border=\"1\" class=\"dataframe\">\n",
       "  <thead>\n",
       "    <tr style=\"text-align: right;\">\n",
       "      <th></th>\n",
       "      <th>DRUG_ID</th>\n",
       "      <th>0</th>\n",
       "      <th>1</th>\n",
       "      <th>2</th>\n",
       "      <th>3</th>\n",
       "      <th>4</th>\n",
       "      <th>5</th>\n",
       "      <th>6</th>\n",
       "      <th>7</th>\n",
       "      <th>8</th>\n",
       "      <th>...</th>\n",
       "      <th>246</th>\n",
       "      <th>247</th>\n",
       "      <th>248</th>\n",
       "      <th>249</th>\n",
       "      <th>250</th>\n",
       "      <th>251</th>\n",
       "      <th>252</th>\n",
       "      <th>253</th>\n",
       "      <th>254</th>\n",
       "      <th>255</th>\n",
       "    </tr>\n",
       "  </thead>\n",
       "  <tbody>\n",
       "    <tr>\n",
       "      <th>0</th>\n",
       "      <td>1</td>\n",
       "      <td>0.0</td>\n",
       "      <td>0.0</td>\n",
       "      <td>0.0</td>\n",
       "      <td>0.0</td>\n",
       "      <td>0.0</td>\n",
       "      <td>0.0</td>\n",
       "      <td>0.0</td>\n",
       "      <td>0.0</td>\n",
       "      <td>0.0</td>\n",
       "      <td>...</td>\n",
       "      <td>0.0</td>\n",
       "      <td>0.0</td>\n",
       "      <td>0.0</td>\n",
       "      <td>0.0</td>\n",
       "      <td>0.0</td>\n",
       "      <td>0.0</td>\n",
       "      <td>0.0</td>\n",
       "      <td>0.0</td>\n",
       "      <td>0.0</td>\n",
       "      <td>0.0</td>\n",
       "    </tr>\n",
       "    <tr>\n",
       "      <th>1</th>\n",
       "      <td>1</td>\n",
       "      <td>0.0</td>\n",
       "      <td>0.0</td>\n",
       "      <td>0.0</td>\n",
       "      <td>0.0</td>\n",
       "      <td>0.0</td>\n",
       "      <td>0.0</td>\n",
       "      <td>0.0</td>\n",
       "      <td>0.0</td>\n",
       "      <td>0.0</td>\n",
       "      <td>...</td>\n",
       "      <td>0.0</td>\n",
       "      <td>0.0</td>\n",
       "      <td>0.0</td>\n",
       "      <td>0.0</td>\n",
       "      <td>0.0</td>\n",
       "      <td>0.0</td>\n",
       "      <td>0.0</td>\n",
       "      <td>0.0</td>\n",
       "      <td>0.0</td>\n",
       "      <td>0.0</td>\n",
       "    </tr>\n",
       "    <tr>\n",
       "      <th>2</th>\n",
       "      <td>1</td>\n",
       "      <td>0.0</td>\n",
       "      <td>0.0</td>\n",
       "      <td>0.0</td>\n",
       "      <td>0.0</td>\n",
       "      <td>0.0</td>\n",
       "      <td>0.0</td>\n",
       "      <td>0.0</td>\n",
       "      <td>0.0</td>\n",
       "      <td>0.0</td>\n",
       "      <td>...</td>\n",
       "      <td>0.0</td>\n",
       "      <td>0.0</td>\n",
       "      <td>0.0</td>\n",
       "      <td>0.0</td>\n",
       "      <td>0.0</td>\n",
       "      <td>0.0</td>\n",
       "      <td>0.0</td>\n",
       "      <td>0.0</td>\n",
       "      <td>0.0</td>\n",
       "      <td>0.0</td>\n",
       "    </tr>\n",
       "    <tr>\n",
       "      <th>3</th>\n",
       "      <td>1</td>\n",
       "      <td>0.0</td>\n",
       "      <td>0.0</td>\n",
       "      <td>0.0</td>\n",
       "      <td>0.0</td>\n",
       "      <td>0.0</td>\n",
       "      <td>0.0</td>\n",
       "      <td>0.0</td>\n",
       "      <td>0.0</td>\n",
       "      <td>0.0</td>\n",
       "      <td>...</td>\n",
       "      <td>0.0</td>\n",
       "      <td>0.0</td>\n",
       "      <td>0.0</td>\n",
       "      <td>0.0</td>\n",
       "      <td>0.0</td>\n",
       "      <td>0.0</td>\n",
       "      <td>0.0</td>\n",
       "      <td>0.0</td>\n",
       "      <td>0.0</td>\n",
       "      <td>0.0</td>\n",
       "    </tr>\n",
       "    <tr>\n",
       "      <th>4</th>\n",
       "      <td>1</td>\n",
       "      <td>0.0</td>\n",
       "      <td>0.0</td>\n",
       "      <td>0.0</td>\n",
       "      <td>0.0</td>\n",
       "      <td>0.0</td>\n",
       "      <td>0.0</td>\n",
       "      <td>0.0</td>\n",
       "      <td>0.0</td>\n",
       "      <td>0.0</td>\n",
       "      <td>...</td>\n",
       "      <td>0.0</td>\n",
       "      <td>0.0</td>\n",
       "      <td>0.0</td>\n",
       "      <td>0.0</td>\n",
       "      <td>0.0</td>\n",
       "      <td>0.0</td>\n",
       "      <td>0.0</td>\n",
       "      <td>0.0</td>\n",
       "      <td>0.0</td>\n",
       "      <td>0.0</td>\n",
       "    </tr>\n",
       "  </tbody>\n",
       "</table>\n",
       "<p>5 rows × 257 columns</p>\n",
       "</div>"
      ],
      "text/plain": [
       "   DRUG_ID    0    1    2    3    4    5    6    7    8  ...  246  247  248  \\\n",
       "0        1  0.0  0.0  0.0  0.0  0.0  0.0  0.0  0.0  0.0  ...  0.0  0.0  0.0   \n",
       "1        1  0.0  0.0  0.0  0.0  0.0  0.0  0.0  0.0  0.0  ...  0.0  0.0  0.0   \n",
       "2        1  0.0  0.0  0.0  0.0  0.0  0.0  0.0  0.0  0.0  ...  0.0  0.0  0.0   \n",
       "3        1  0.0  0.0  0.0  0.0  0.0  0.0  0.0  0.0  0.0  ...  0.0  0.0  0.0   \n",
       "4        1  0.0  0.0  0.0  0.0  0.0  0.0  0.0  0.0  0.0  ...  0.0  0.0  0.0   \n",
       "\n",
       "   249  250  251  252  253  254  255  \n",
       "0  0.0  0.0  0.0  0.0  0.0  0.0  0.0  \n",
       "1  0.0  0.0  0.0  0.0  0.0  0.0  0.0  \n",
       "2  0.0  0.0  0.0  0.0  0.0  0.0  0.0  \n",
       "3  0.0  0.0  0.0  0.0  0.0  0.0  0.0  \n",
       "4  0.0  0.0  0.0  0.0  0.0  0.0  0.0  \n",
       "\n",
       "[5 rows x 257 columns]"
      ]
     },
     "execution_count": 27,
     "metadata": {},
     "output_type": "execute_result"
    }
   ],
   "source": [
    "# Drug data.\n",
    "with open(f'{PATH_TO_SAVED_DRUG_FEATURES}drug_name_fingerprints_dataframe.pkl', 'rb') as f:\n",
    "    drug_name_fps = pickle.load(f)\n",
    "drug_name_fps_v2 = pd.merge(left     = drug_name_fps, \n",
    "                            right    = cnv_gistic[['DRUG_ID', 'DRUG_NAME']], \n",
    "                            how      = 'left', \n",
    "                            left_on  = ['drug_name'], \n",
    "                            right_on = ['DRUG_NAME'])\n",
    "drug_name_fps_v2.drop_duplicates(inplace=True)\n",
    "drug_name_fps_v2.drop(['DRUG_NAME'], axis=1, inplace=True)                           \n",
    "print(f\"Drug Shape: {drug_name_fps_v2.shape}\")\n",
    "# drug_name_fps_v2.head(3)\n",
    "\n",
    "# For each row of the FULL_DATASET get the corresponding Morgan Fingerprint for the specific drug.\n",
    "FPS = pd.merge(left     = cnv_gistic['DRUG_ID'], \n",
    "               right    = drug_name_fps_v2.loc[:, ~drug_name_fps_v2.columns.isin(['drug_name'])], \n",
    "               how      = 'left', \n",
    "               left_on  = ['DRUG_ID'], \n",
    "               right_on = ['DRUG_ID'])\n",
    "print(f\"Shape: {FPS.shape}\")\n",
    "FPS.head(5)  "
   ]
  },
  {
   "cell_type": "code",
   "execution_count": 28,
   "metadata": {},
   "outputs": [],
   "source": [
    "from typing import List\n",
    "import copy\n",
    "\n",
    "class ModelDataset(Dataset): \n",
    "    def __init__(self, \n",
    "                 full_data: pd.DataFrame,\n",
    "                 cell_cols: List[str],\n",
    "                 drug_cols: List[str],\n",
    "                 cell_identifier: str,\n",
    "                 drug_identifier: str,\n",
    "                 corresponding_fps: pd.DataFrame = FPS,\n",
    "                 target_col: str='LN_IC50'): \n",
    "        # Drop all nans. \n",
    "        print(f\"Initial shape before removing NaN's : {full_data.shape}\")\n",
    "        full_data = full_data.dropna()\n",
    "        print(f\"Shape after removing all NaN's      : {full_data.shape}\")\n",
    "\n",
    "        X = full_data[cell_cols + drug_cols]\n",
    "        y = full_data[target_col]\n",
    "\n",
    "        fps = pd.merge(left     = full_data['DRUG_ID'], \n",
    "                       right    = drug_name_fps_v2.loc[:, ~drug_name_fps_v2.columns.isin(['drug_name'])], \n",
    "                       how      = 'left', \n",
    "                       left_on  = ['DRUG_ID'], \n",
    "                       right_on = ['DRUG_ID'])\n",
    "\n",
    "        X_cell = X[cell_cols]\n",
    "        X_drug = copy.deepcopy(fps)\n",
    "\n",
    "        print(f\"X_cell.shape : {X_cell.shape}\")\n",
    "        print(f\"X_drug.shape : {X_drug.shape}\")\n",
    "\n",
    "        # Contains only the gene columns and the respective feature value. Here GeneExpression.\n",
    "        self.X = torch.tensor(X.loc[:, ~X.columns.isin([cell_identifier] + ['DRUG_NAME'])].values, dtype=torch.float32)\n",
    "        self.X_cell = torch.tensor(X_cell.loc[:, ~X_cell.columns.isin([cell_identifier])].values, dtype=torch.float32)\n",
    "        self.X_drug = torch.tensor(X_drug.loc[:, ~X_drug.columns.isin([drug_identifier])].values, dtype=torch.float32)\n",
    "        self.y = torch.tensor(y.values, dtype=torch.float32)\n",
    "\n",
    "    def __len__(self):\n",
    "        return len(self.y)\n",
    "\n",
    "    def __getitem__(self, idx):\n",
    "        return self.X[idx], self.X_cell[idx], self.X_drug[idx], self.y[idx]"
   ]
  },
  {
   "cell_type": "code",
   "execution_count": 30,
   "metadata": {},
   "outputs": [
    {
     "name": "stdout",
     "output_type": "stream",
     "text": [
      "Elapsed time to convert the 870 columns: 147.41 seconds.\n",
      "Initial shape before removing NaN's : (370963, 952)\n",
      "Shape after removing all NaN's      : (363949, 952)\n",
      "X_cell.shape : (363949, 871)\n",
      "X_drug.shape : (363949, 257)\n"
     ]
    }
   ],
   "source": [
    "# --------------------------------------------------- #\n",
    "# Delete all rows from the dataset for which there is #\n",
    "# no fingerprint for the specific drug.               #\n",
    "# --------------------------------------------------- #\n",
    "SAVE, READ = False, True \n",
    "\n",
    "# Dataset for modeling which has fingerprints for each DRUG_ID.\n",
    "if not READ:\n",
    "    all_drugs_with_fps = np.unique(drug_name_fps_v2.DRUG_ID).tolist()\n",
    "    modeling_dataset = cnv_gistic[cnv_gistic.DRUG_ID.isin(all_drugs_with_fps)]\n",
    "\n",
    "    uniq_drugs_in__modeling_dataset = len(np.unique(modeling_dataset.DRUG_ID.values))\n",
    "    uniq_drugs_with__fingerprints = len(np.unique(drug_name_fps_v2.DRUG_ID).tolist())\n",
    "\n",
    "    assert uniq_drugs_in__modeling_dataset == uniq_drugs_with__fingerprints,\\\n",
    "        f\"ERROR: Modeling dataset has {uniq_drugs_in__modeling_dataset} DRUG_ID's while there are only {uniq_drugs_with__fingerprints} DRUG_ID's with fingerprints.\"\n",
    "\n",
    "    start = time.time()\n",
    "    modeling_dataset_converted = convert_column_types(df              = modeling_dataset,\n",
    "                                                      cols_to_convert = ALL_GENES,\n",
    "                                                      conversion_type = 'float64')\n",
    "    print(f\"Elapsed time to convert the {len(ALL_GENES)} columns: {time.time() - start:2.2f} seconds.\")\n",
    "    if SAVE:\n",
    "        modeling_dataset_converted.to_pickle(f'{PATH_TO_SAVE_DATA_TO}cnv_gistic_converted.pkl')\n",
    "else:\n",
    "    modeling_dataset_converted = pd.read_pickle(f'{PATH_TO_SAVE_DATA_TO}cnv_gistic_converted.pkl')\n",
    "\n",
    "# ---------------------------- #\n",
    "# Create the modeling dataset. #\n",
    "# ---------------------------- #\n",
    "CELL_IDENTIFIER = 'CELL_LINE_NAME'\n",
    "DRUG_IDENTIFIER = 'DRUG_ID'\n",
    "TARGET_IDENTIFIER = 'LN_IC50'\n",
    "\n",
    "model_dataset = ModelDataset(full_data       = modeling_dataset_converted,\n",
    "                             cell_cols       = [CELL_IDENTIFIER] + list(MAPPING_FROM_GENES_TO_INDICES__intersection.genes.values),\n",
    "                             drug_cols       = [DRUG_IDENTIFIER, 'DRUG_NAME'],\n",
    "                             cell_identifier = CELL_IDENTIFIER,\n",
    "                             drug_identifier = DRUG_IDENTIFIER,\n",
    "                             target_col      = TARGET_IDENTIFIER)\n",
    "\n",
    "assert torch.isnan(model_dataset.X_drug).any() == False,\\\n",
    "    \"ERROR: Some drugs in the dataset have no fingerprints.\""
   ]
  },
  {
   "cell_type": "code",
   "execution_count": 32,
   "metadata": {},
   "outputs": [
    {
     "name": "stdout",
     "output_type": "stream",
     "text": [
      "Shapes \n",
      "    Train : \n",
      "        X : torch.Size([363949, 871])\n",
      "            X_cell : torch.Size([363949, 870])\n",
      "            X_drug : torch.Size([363949, 256])\n",
      "        y : torch.Size([363949])\n",
      "    Test  :\n",
      "        X : torch.Size([363949, 871])\n",
      "            X_cell : torch.Size([363949, 870])\n",
      "            X_drug : torch.Size([363949, 256])            \n",
      "        y : torch.Size([363949])\n",
      "\n",
      "Batch counts:\n",
      "    Train  : 15\n",
      "    Test   : 4\n",
      "\n"
     ]
    }
   ],
   "source": [
    "# ---------------- # \n",
    "# Hyper-parameters #\n",
    "# ---------------- #\n",
    "input_size   = len(ALL_GENES)\n",
    "hidden_size   = 100\n",
    "num_classes   = 1\n",
    "NUM_EPOCHS    = 50\n",
    "batch_size    = 20_000\n",
    "learning_rate = 0.001  \n",
    "\n",
    "# ------------------------------- #\n",
    "# Create train and test datasets. #\n",
    "# ------------------------------- #\n",
    "train_set_split_ratio = 0.8\n",
    "\n",
    "train_size = int(train_set_split_ratio * len(model_dataset))\n",
    "test_size = len(model_dataset) - train_size\n",
    "train_set, test_set = torch.utils.data.random_split(model_dataset, \n",
    "                                                    [train_size, test_size],\n",
    "                                                    generator=torch.Generator().manual_seed(42))\n",
    "\n",
    "print(f\"\"\"Shapes \n",
    "    Train : \n",
    "        X : {train_set.dataset.X.shape}\n",
    "            X_cell : {train_set.dataset.X_cell.shape}\n",
    "            X_drug : {train_set.dataset.X_drug.shape}\n",
    "        y : {train_set.dataset.y.shape}\n",
    "    Test  :\n",
    "        X : {test_set.dataset.X.shape}\n",
    "            X_cell : {test_set.dataset.X_cell.shape}\n",
    "            X_drug : {test_set.dataset.X_drug.shape}            \n",
    "        y : {test_set.dataset.y.shape}\n",
    "\"\"\")\n",
    "\n",
    "# Data loader\n",
    "train_loader = torch.utils.data.DataLoader(dataset     = train_set, \n",
    "                                           batch_size  = batch_size, \n",
    "                                           shuffle     = True,\n",
    "                                           num_workers = 0)\n",
    "\n",
    "test_loader = torch.utils.data.DataLoader(dataset     = test_set, \n",
    "                                          batch_size  = batch_size, \n",
    "                                          shuffle     = True,\n",
    "                                          num_workers = 0) \n",
    "\n",
    "count_train = sum(1 for X, X_cell, X_drug, y in train_loader)\n",
    "count_test = sum(1 for X, X_cell, X_drug, y in test_loader)\n",
    "print(f\"\"\"Batch counts:\n",
    "    Train  : {count_train}\n",
    "    Test   : {count_test}\n",
    "\"\"\")                                         "
   ]
  },
  {
   "cell_type": "markdown",
   "metadata": {},
   "source": [
    "### Running the Model"
   ]
  },
  {
   "cell_type": "code",
   "execution_count": 35,
   "metadata": {},
   "outputs": [
    {
     "name": "stdout",
     "output_type": "stream",
     "text": [
      "The autoreload extension is already loaded. To reload it, use:\n",
      "  %reload_ext autoreload\n",
      "Device: cpu\n"
     ]
    },
    {
     "name": "stderr",
     "output_type": "stream",
     "text": [
      "0it [00:03, ?it/s]\n"
     ]
    },
    {
     "name": "stdout",
     "output_type": "stream",
     "text": [
      "Epoch [1/50], Step [1/15], Loss: 11.5498\n",
      "loss_values : 0.0000\n"
     ]
    },
    {
     "name": "stderr",
     "output_type": "stream",
     "text": [
      "4it [00:08,  2.02s/it]\n"
     ]
    },
    {
     "name": "stdout",
     "output_type": "stream",
     "text": [
      "MSE (test) : 10.287898063659668\n"
     ]
    },
    {
     "name": "stderr",
     "output_type": "stream",
     "text": [
      "0it [00:02, ?it/s]\n"
     ]
    },
    {
     "name": "stdout",
     "output_type": "stream",
     "text": [
      "Epoch [2/50], Step [1/15], Loss: 11.3265\n",
      "loss_values : 0.0000\n"
     ]
    },
    {
     "name": "stderr",
     "output_type": "stream",
     "text": [
      "4it [00:08,  2.01s/it]\n"
     ]
    },
    {
     "name": "stdout",
     "output_type": "stream",
     "text": [
      "MSE (test) : 9.989877700805664\n"
     ]
    },
    {
     "name": "stderr",
     "output_type": "stream",
     "text": [
      "0it [00:02, ?it/s]\n"
     ]
    },
    {
     "name": "stdout",
     "output_type": "stream",
     "text": [
      "Epoch [3/50], Step [1/15], Loss: 10.9885\n",
      "loss_values : 0.0000\n"
     ]
    },
    {
     "name": "stderr",
     "output_type": "stream",
     "text": [
      "4it [00:08,  2.05s/it]\n"
     ]
    },
    {
     "name": "stdout",
     "output_type": "stream",
     "text": [
      "MSE (test) : 9.505460739135742\n"
     ]
    },
    {
     "name": "stderr",
     "output_type": "stream",
     "text": [
      "0it [00:02, ?it/s]\n"
     ]
    },
    {
     "name": "stdout",
     "output_type": "stream",
     "text": [
      "Epoch [4/50], Step [1/15], Loss: 10.3739\n",
      "loss_values : 0.0000\n"
     ]
    },
    {
     "name": "stderr",
     "output_type": "stream",
     "text": [
      "4it [00:16,  4.02s/it]\n"
     ]
    },
    {
     "name": "stdout",
     "output_type": "stream",
     "text": [
      "MSE (test) : 8.741612434387207\n"
     ]
    },
    {
     "name": "stderr",
     "output_type": "stream",
     "text": [
      "0it [00:02, ?it/s]\n"
     ]
    },
    {
     "name": "stdout",
     "output_type": "stream",
     "text": [
      "Epoch [5/50], Step [1/15], Loss: 9.5921\n",
      "loss_values : 0.0000\n"
     ]
    },
    {
     "name": "stderr",
     "output_type": "stream",
     "text": [
      "4it [00:08,  2.07s/it]\n"
     ]
    },
    {
     "name": "stdout",
     "output_type": "stream",
     "text": [
      "MSE (test) : 7.723415851593018\n"
     ]
    },
    {
     "name": "stderr",
     "output_type": "stream",
     "text": [
      "0it [00:02, ?it/s]\n"
     ]
    },
    {
     "name": "stdout",
     "output_type": "stream",
     "text": [
      "Epoch [6/50], Step [1/15], Loss: 8.5820\n",
      "loss_values : 0.0000\n"
     ]
    },
    {
     "name": "stderr",
     "output_type": "stream",
     "text": [
      "4it [00:08,  2.01s/it]\n"
     ]
    },
    {
     "name": "stdout",
     "output_type": "stream",
     "text": [
      "MSE (test) : 6.898993968963623\n"
     ]
    },
    {
     "name": "stderr",
     "output_type": "stream",
     "text": [
      "0it [00:03, ?it/s]\n"
     ]
    },
    {
     "name": "stdout",
     "output_type": "stream",
     "text": [
      "Epoch [7/50], Step [1/15], Loss: 7.6299\n",
      "loss_values : 0.0000\n"
     ]
    },
    {
     "name": "stderr",
     "output_type": "stream",
     "text": [
      "4it [00:08,  2.02s/it]\n"
     ]
    },
    {
     "name": "stdout",
     "output_type": "stream",
     "text": [
      "MSE (test) : 7.880240440368652\n"
     ]
    },
    {
     "name": "stderr",
     "output_type": "stream",
     "text": [
      "0it [00:02, ?it/s]\n"
     ]
    },
    {
     "name": "stdout",
     "output_type": "stream",
     "text": [
      "Epoch [8/50], Step [1/15], Loss: 8.6750\n",
      "loss_values : 0.0000\n"
     ]
    },
    {
     "name": "stderr",
     "output_type": "stream",
     "text": [
      "4it [00:07,  1.96s/it]\n"
     ]
    },
    {
     "name": "stdout",
     "output_type": "stream",
     "text": [
      "MSE (test) : 7.542111873626709\n"
     ]
    },
    {
     "name": "stderr",
     "output_type": "stream",
     "text": [
      "0it [00:02, ?it/s]\n"
     ]
    },
    {
     "name": "stdout",
     "output_type": "stream",
     "text": [
      "Epoch [9/50], Step [1/15], Loss: 8.2793\n",
      "loss_values : 0.0000\n"
     ]
    },
    {
     "name": "stderr",
     "output_type": "stream",
     "text": [
      "4it [00:08,  2.04s/it]\n"
     ]
    },
    {
     "name": "stdout",
     "output_type": "stream",
     "text": [
      "MSE (test) : 6.912644386291504\n"
     ]
    },
    {
     "name": "stderr",
     "output_type": "stream",
     "text": [
      "0it [00:03, ?it/s]\n"
     ]
    },
    {
     "name": "stdout",
     "output_type": "stream",
     "text": [
      "Epoch [10/50], Step [1/15], Loss: 7.7550\n",
      "loss_values : 0.0000\n"
     ]
    },
    {
     "name": "stderr",
     "output_type": "stream",
     "text": [
      "4it [00:08,  2.06s/it]\n"
     ]
    },
    {
     "name": "stdout",
     "output_type": "stream",
     "text": [
      "MSE (test) : 6.769532203674316\n"
     ]
    },
    {
     "name": "stderr",
     "output_type": "stream",
     "text": [
      "0it [00:03, ?it/s]\n"
     ]
    },
    {
     "name": "stdout",
     "output_type": "stream",
     "text": [
      "Epoch [11/50], Step [1/15], Loss: 7.3295\n",
      "loss_values : 0.0000\n"
     ]
    },
    {
     "name": "stderr",
     "output_type": "stream",
     "text": [
      "4it [00:08,  2.02s/it]\n"
     ]
    },
    {
     "name": "stdout",
     "output_type": "stream",
     "text": [
      "MSE (test) : 6.892431259155273\n"
     ]
    },
    {
     "name": "stderr",
     "output_type": "stream",
     "text": [
      "0it [00:02, ?it/s]\n"
     ]
    },
    {
     "name": "stdout",
     "output_type": "stream",
     "text": [
      "Epoch [12/50], Step [1/15], Loss: 7.6179\n",
      "loss_values : 0.0000\n"
     ]
    },
    {
     "name": "stderr",
     "output_type": "stream",
     "text": [
      "4it [00:08,  2.09s/it]\n"
     ]
    },
    {
     "name": "stdout",
     "output_type": "stream",
     "text": [
      "MSE (test) : 7.0124006271362305\n"
     ]
    },
    {
     "name": "stderr",
     "output_type": "stream",
     "text": [
      "0it [00:02, ?it/s]\n"
     ]
    },
    {
     "name": "stdout",
     "output_type": "stream",
     "text": [
      "Epoch [13/50], Step [1/15], Loss: 7.6715\n",
      "loss_values : 0.0000\n"
     ]
    },
    {
     "name": "stderr",
     "output_type": "stream",
     "text": [
      "4it [00:08,  2.04s/it]\n"
     ]
    },
    {
     "name": "stdout",
     "output_type": "stream",
     "text": [
      "MSE (test) : 7.038949012756348\n"
     ]
    },
    {
     "name": "stderr",
     "output_type": "stream",
     "text": [
      "0it [00:02, ?it/s]\n"
     ]
    },
    {
     "name": "stdout",
     "output_type": "stream",
     "text": [
      "Epoch [14/50], Step [1/15], Loss: 7.6768\n",
      "loss_values : 0.0000\n"
     ]
    },
    {
     "name": "stderr",
     "output_type": "stream",
     "text": [
      "4it [00:08,  2.08s/it]\n"
     ]
    },
    {
     "name": "stdout",
     "output_type": "stream",
     "text": [
      "MSE (test) : 6.9621124267578125\n"
     ]
    },
    {
     "name": "stderr",
     "output_type": "stream",
     "text": [
      "0it [00:03, ?it/s]\n"
     ]
    },
    {
     "name": "stdout",
     "output_type": "stream",
     "text": [
      "Epoch [15/50], Step [1/15], Loss: 7.6678\n",
      "loss_values : 0.0000\n"
     ]
    },
    {
     "name": "stderr",
     "output_type": "stream",
     "text": [
      "4it [00:08,  2.02s/it]\n"
     ]
    },
    {
     "name": "stdout",
     "output_type": "stream",
     "text": [
      "MSE (test) : 6.813090801239014\n"
     ]
    },
    {
     "name": "stderr",
     "output_type": "stream",
     "text": [
      "0it [00:02, ?it/s]\n"
     ]
    },
    {
     "name": "stdout",
     "output_type": "stream",
     "text": [
      "Epoch [16/50], Step [1/15], Loss: 7.5383\n",
      "loss_values : 0.0000\n"
     ]
    },
    {
     "name": "stderr",
     "output_type": "stream",
     "text": [
      "4it [00:07,  1.99s/it]\n"
     ]
    },
    {
     "name": "stdout",
     "output_type": "stream",
     "text": [
      "MSE (test) : 6.653331279754639\n"
     ]
    },
    {
     "name": "stderr",
     "output_type": "stream",
     "text": [
      "0it [00:02, ?it/s]\n"
     ]
    },
    {
     "name": "stdout",
     "output_type": "stream",
     "text": [
      "Epoch [17/50], Step [1/15], Loss: 7.4798\n",
      "loss_values : 0.0000\n"
     ]
    },
    {
     "name": "stderr",
     "output_type": "stream",
     "text": [
      "4it [00:10,  2.71s/it]\n"
     ]
    },
    {
     "name": "stdout",
     "output_type": "stream",
     "text": [
      "MSE (test) : 6.568361759185791\n"
     ]
    },
    {
     "name": "stderr",
     "output_type": "stream",
     "text": [
      "0it [00:02, ?it/s]\n"
     ]
    },
    {
     "name": "stdout",
     "output_type": "stream",
     "text": [
      "Epoch [18/50], Step [1/15], Loss: 7.2231\n",
      "loss_values : 0.0000\n"
     ]
    },
    {
     "name": "stderr",
     "output_type": "stream",
     "text": [
      "4it [00:08,  2.17s/it]\n"
     ]
    },
    {
     "name": "stdout",
     "output_type": "stream",
     "text": [
      "MSE (test) : 6.60094690322876\n"
     ]
    },
    {
     "name": "stderr",
     "output_type": "stream",
     "text": [
      "0it [00:02, ?it/s]\n"
     ]
    },
    {
     "name": "stdout",
     "output_type": "stream",
     "text": [
      "Epoch [19/50], Step [1/15], Loss: 7.2722\n",
      "loss_values : 0.0000\n"
     ]
    },
    {
     "name": "stderr",
     "output_type": "stream",
     "text": [
      "4it [00:07,  1.94s/it]\n"
     ]
    },
    {
     "name": "stdout",
     "output_type": "stream",
     "text": [
      "MSE (test) : 6.650779724121094\n"
     ]
    },
    {
     "name": "stderr",
     "output_type": "stream",
     "text": [
      "0it [00:02, ?it/s]\n"
     ]
    },
    {
     "name": "stdout",
     "output_type": "stream",
     "text": [
      "Epoch [20/50], Step [1/15], Loss: 7.4063\n",
      "loss_values : 0.0000\n"
     ]
    },
    {
     "name": "stderr",
     "output_type": "stream",
     "text": [
      "4it [00:07,  1.98s/it]\n"
     ]
    },
    {
     "name": "stdout",
     "output_type": "stream",
     "text": [
      "MSE (test) : 6.584618091583252\n"
     ]
    },
    {
     "name": "stderr",
     "output_type": "stream",
     "text": [
      "0it [00:02, ?it/s]\n"
     ]
    },
    {
     "name": "stdout",
     "output_type": "stream",
     "text": [
      "Epoch [21/50], Step [1/15], Loss: 7.2551\n",
      "loss_values : 0.0000\n"
     ]
    },
    {
     "name": "stderr",
     "output_type": "stream",
     "text": [
      "4it [00:07,  1.95s/it]\n"
     ]
    },
    {
     "name": "stdout",
     "output_type": "stream",
     "text": [
      "MSE (test) : 6.451302528381348\n"
     ]
    },
    {
     "name": "stderr",
     "output_type": "stream",
     "text": [
      "0it [00:02, ?it/s]\n"
     ]
    },
    {
     "name": "stdout",
     "output_type": "stream",
     "text": [
      "Epoch [22/50], Step [1/15], Loss: 7.0439\n",
      "loss_values : 0.0000\n"
     ]
    },
    {
     "name": "stderr",
     "output_type": "stream",
     "text": [
      "4it [00:07,  1.98s/it]\n"
     ]
    },
    {
     "name": "stdout",
     "output_type": "stream",
     "text": [
      "MSE (test) : 6.3474836349487305\n"
     ]
    },
    {
     "name": "stderr",
     "output_type": "stream",
     "text": [
      "0it [00:02, ?it/s]\n"
     ]
    },
    {
     "name": "stdout",
     "output_type": "stream",
     "text": [
      "Epoch [23/50], Step [1/15], Loss: 7.0361\n",
      "loss_values : 0.0000\n"
     ]
    },
    {
     "name": "stderr",
     "output_type": "stream",
     "text": [
      "4it [00:07,  2.00s/it]\n"
     ]
    },
    {
     "name": "stdout",
     "output_type": "stream",
     "text": [
      "MSE (test) : 6.297128200531006\n"
     ]
    },
    {
     "name": "stderr",
     "output_type": "stream",
     "text": [
      "0it [00:02, ?it/s]\n"
     ]
    },
    {
     "name": "stdout",
     "output_type": "stream",
     "text": [
      "Epoch [24/50], Step [1/15], Loss: 6.9855\n",
      "loss_values : 0.0000\n"
     ]
    },
    {
     "name": "stderr",
     "output_type": "stream",
     "text": [
      "4it [00:07,  1.97s/it]\n"
     ]
    },
    {
     "name": "stdout",
     "output_type": "stream",
     "text": [
      "MSE (test) : 6.27177619934082\n"
     ]
    },
    {
     "name": "stderr",
     "output_type": "stream",
     "text": [
      "0it [00:03, ?it/s]\n"
     ]
    },
    {
     "name": "stdout",
     "output_type": "stream",
     "text": [
      "Epoch [25/50], Step [1/15], Loss: 6.9315\n",
      "loss_values : 0.0000\n"
     ]
    },
    {
     "name": "stderr",
     "output_type": "stream",
     "text": [
      "4it [00:07,  1.95s/it]\n"
     ]
    },
    {
     "name": "stdout",
     "output_type": "stream",
     "text": [
      "MSE (test) : 6.230142593383789\n"
     ]
    },
    {
     "name": "stderr",
     "output_type": "stream",
     "text": [
      "0it [00:02, ?it/s]\n"
     ]
    },
    {
     "name": "stdout",
     "output_type": "stream",
     "text": [
      "Epoch [26/50], Step [1/15], Loss: 6.9161\n",
      "loss_values : 0.0000\n"
     ]
    },
    {
     "name": "stderr",
     "output_type": "stream",
     "text": [
      "4it [00:08,  2.08s/it]\n"
     ]
    },
    {
     "name": "stdout",
     "output_type": "stream",
     "text": [
      "MSE (test) : 6.1539716720581055\n"
     ]
    },
    {
     "name": "stderr",
     "output_type": "stream",
     "text": [
      "0it [00:02, ?it/s]\n"
     ]
    },
    {
     "name": "stdout",
     "output_type": "stream",
     "text": [
      "Epoch [27/50], Step [1/15], Loss: 6.7411\n",
      "loss_values : 0.0000\n"
     ]
    },
    {
     "name": "stderr",
     "output_type": "stream",
     "text": [
      "4it [00:08,  2.07s/it]\n"
     ]
    },
    {
     "name": "stdout",
     "output_type": "stream",
     "text": [
      "MSE (test) : 6.051032066345215\n"
     ]
    },
    {
     "name": "stderr",
     "output_type": "stream",
     "text": [
      "0it [00:02, ?it/s]\n"
     ]
    },
    {
     "name": "stdout",
     "output_type": "stream",
     "text": [
      "Epoch [28/50], Step [1/15], Loss: 6.5857\n",
      "loss_values : 0.0000\n"
     ]
    },
    {
     "name": "stderr",
     "output_type": "stream",
     "text": [
      "4it [00:08,  2.05s/it]\n"
     ]
    },
    {
     "name": "stdout",
     "output_type": "stream",
     "text": [
      "MSE (test) : 5.945850849151611\n"
     ]
    },
    {
     "name": "stderr",
     "output_type": "stream",
     "text": [
      "0it [00:03, ?it/s]\n"
     ]
    },
    {
     "name": "stdout",
     "output_type": "stream",
     "text": [
      "Epoch [29/50], Step [1/15], Loss: 6.4809\n",
      "loss_values : 0.0000\n"
     ]
    },
    {
     "name": "stderr",
     "output_type": "stream",
     "text": [
      "4it [00:08,  2.07s/it]\n"
     ]
    },
    {
     "name": "stdout",
     "output_type": "stream",
     "text": [
      "MSE (test) : 5.860336780548096\n"
     ]
    },
    {
     "name": "stderr",
     "output_type": "stream",
     "text": [
      "0it [00:02, ?it/s]\n"
     ]
    },
    {
     "name": "stdout",
     "output_type": "stream",
     "text": [
      "Epoch [30/50], Step [1/15], Loss: 6.4945\n",
      "loss_values : 0.0000\n"
     ]
    },
    {
     "name": "stderr",
     "output_type": "stream",
     "text": [
      "4it [00:07,  1.96s/it]\n"
     ]
    },
    {
     "name": "stdout",
     "output_type": "stream",
     "text": [
      "MSE (test) : 5.789314270019531\n"
     ]
    },
    {
     "name": "stderr",
     "output_type": "stream",
     "text": [
      "0it [00:03, ?it/s]\n"
     ]
    },
    {
     "name": "stdout",
     "output_type": "stream",
     "text": [
      "Epoch [31/50], Step [1/15], Loss: 6.3736\n",
      "loss_values : 0.0000\n"
     ]
    },
    {
     "name": "stderr",
     "output_type": "stream",
     "text": [
      "4it [00:07,  1.97s/it]\n"
     ]
    },
    {
     "name": "stdout",
     "output_type": "stream",
     "text": [
      "MSE (test) : 5.69881534576416\n"
     ]
    },
    {
     "name": "stderr",
     "output_type": "stream",
     "text": [
      "0it [00:02, ?it/s]\n"
     ]
    },
    {
     "name": "stdout",
     "output_type": "stream",
     "text": [
      "Epoch [32/50], Step [1/15], Loss: 6.4978\n",
      "loss_values : 0.0000\n"
     ]
    },
    {
     "name": "stderr",
     "output_type": "stream",
     "text": [
      "4it [00:08,  2.00s/it]\n"
     ]
    },
    {
     "name": "stdout",
     "output_type": "stream",
     "text": [
      "MSE (test) : 5.5747504234313965\n"
     ]
    },
    {
     "name": "stderr",
     "output_type": "stream",
     "text": [
      "0it [00:02, ?it/s]\n"
     ]
    },
    {
     "name": "stdout",
     "output_type": "stream",
     "text": [
      "Epoch [33/50], Step [1/15], Loss: 6.0566\n",
      "loss_values : 0.0000\n"
     ]
    },
    {
     "name": "stderr",
     "output_type": "stream",
     "text": [
      "4it [00:08,  2.01s/it]\n"
     ]
    },
    {
     "name": "stdout",
     "output_type": "stream",
     "text": [
      "MSE (test) : 5.444767951965332\n"
     ]
    },
    {
     "name": "stderr",
     "output_type": "stream",
     "text": [
      "0it [00:03, ?it/s]\n"
     ]
    },
    {
     "name": "stdout",
     "output_type": "stream",
     "text": [
      "Epoch [34/50], Step [1/15], Loss: 5.9937\n",
      "loss_values : 0.0000\n"
     ]
    },
    {
     "name": "stderr",
     "output_type": "stream",
     "text": [
      "4it [00:07,  2.00s/it]\n"
     ]
    },
    {
     "name": "stdout",
     "output_type": "stream",
     "text": [
      "MSE (test) : 5.3287353515625\n"
     ]
    },
    {
     "name": "stderr",
     "output_type": "stream",
     "text": [
      "0it [00:02, ?it/s]\n"
     ]
    },
    {
     "name": "stdout",
     "output_type": "stream",
     "text": [
      "Epoch [35/50], Step [1/15], Loss: 5.8459\n",
      "loss_values : 0.0000\n"
     ]
    },
    {
     "name": "stderr",
     "output_type": "stream",
     "text": [
      "4it [00:07,  1.89s/it]\n"
     ]
    },
    {
     "name": "stdout",
     "output_type": "stream",
     "text": [
      "MSE (test) : 5.219627380371094\n"
     ]
    },
    {
     "name": "stderr",
     "output_type": "stream",
     "text": [
      "0it [00:02, ?it/s]\n"
     ]
    },
    {
     "name": "stdout",
     "output_type": "stream",
     "text": [
      "Epoch [36/50], Step [1/15], Loss: 5.5900\n",
      "loss_values : 0.0000\n"
     ]
    },
    {
     "name": "stderr",
     "output_type": "stream",
     "text": [
      "4it [00:08,  2.07s/it]\n"
     ]
    },
    {
     "name": "stdout",
     "output_type": "stream",
     "text": [
      "MSE (test) : 5.0987067222595215\n"
     ]
    },
    {
     "name": "stderr",
     "output_type": "stream",
     "text": [
      "0it [00:02, ?it/s]\n"
     ]
    },
    {
     "name": "stdout",
     "output_type": "stream",
     "text": [
      "Epoch [37/50], Step [1/15], Loss: 5.6897\n",
      "loss_values : 0.0000\n"
     ]
    },
    {
     "name": "stderr",
     "output_type": "stream",
     "text": [
      "4it [00:07,  1.96s/it]\n"
     ]
    },
    {
     "name": "stdout",
     "output_type": "stream",
     "text": [
      "MSE (test) : 4.964186668395996\n"
     ]
    },
    {
     "name": "stderr",
     "output_type": "stream",
     "text": [
      "0it [00:02, ?it/s]\n"
     ]
    },
    {
     "name": "stdout",
     "output_type": "stream",
     "text": [
      "Epoch [38/50], Step [1/15], Loss: 5.4739\n",
      "loss_values : 0.0000\n"
     ]
    },
    {
     "name": "stderr",
     "output_type": "stream",
     "text": [
      "4it [00:08,  2.03s/it]\n"
     ]
    },
    {
     "name": "stdout",
     "output_type": "stream",
     "text": [
      "MSE (test) : 4.836513996124268\n"
     ]
    },
    {
     "name": "stderr",
     "output_type": "stream",
     "text": [
      "0it [00:02, ?it/s]\n"
     ]
    },
    {
     "name": "stdout",
     "output_type": "stream",
     "text": [
      "Epoch [39/50], Step [1/15], Loss: 5.3813\n",
      "loss_values : 0.0000\n"
     ]
    },
    {
     "name": "stderr",
     "output_type": "stream",
     "text": [
      "4it [00:07,  1.93s/it]\n"
     ]
    },
    {
     "name": "stdout",
     "output_type": "stream",
     "text": [
      "MSE (test) : 4.725646018981934\n"
     ]
    },
    {
     "name": "stderr",
     "output_type": "stream",
     "text": [
      "0it [00:02, ?it/s]\n"
     ]
    },
    {
     "name": "stdout",
     "output_type": "stream",
     "text": [
      "Epoch [40/50], Step [1/15], Loss: 5.1571\n",
      "loss_values : 0.0000\n"
     ]
    },
    {
     "name": "stderr",
     "output_type": "stream",
     "text": [
      "4it [00:07,  1.98s/it]\n"
     ]
    },
    {
     "name": "stdout",
     "output_type": "stream",
     "text": [
      "MSE (test) : 4.613051891326904\n"
     ]
    },
    {
     "name": "stderr",
     "output_type": "stream",
     "text": [
      "0it [00:02, ?it/s]\n"
     ]
    },
    {
     "name": "stdout",
     "output_type": "stream",
     "text": [
      "Epoch [41/50], Step [1/15], Loss: 5.1322\n",
      "loss_values : 0.0000\n"
     ]
    },
    {
     "name": "stderr",
     "output_type": "stream",
     "text": [
      "4it [00:07,  1.98s/it]\n"
     ]
    },
    {
     "name": "stdout",
     "output_type": "stream",
     "text": [
      "MSE (test) : 4.496540069580078\n"
     ]
    },
    {
     "name": "stderr",
     "output_type": "stream",
     "text": [
      "0it [00:02, ?it/s]\n"
     ]
    },
    {
     "name": "stdout",
     "output_type": "stream",
     "text": [
      "Epoch [42/50], Step [1/15], Loss: 4.9434\n",
      "loss_values : 0.0000\n"
     ]
    },
    {
     "name": "stderr",
     "output_type": "stream",
     "text": [
      "4it [00:08,  2.06s/it]\n"
     ]
    },
    {
     "name": "stdout",
     "output_type": "stream",
     "text": [
      "MSE (test) : 4.391961574554443\n"
     ]
    },
    {
     "name": "stderr",
     "output_type": "stream",
     "text": [
      "0it [00:03, ?it/s]\n"
     ]
    },
    {
     "name": "stdout",
     "output_type": "stream",
     "text": [
      "Epoch [43/50], Step [1/15], Loss: 4.8066\n",
      "loss_values : 0.0000\n"
     ]
    },
    {
     "name": "stderr",
     "output_type": "stream",
     "text": [
      "4it [00:11,  2.77s/it]\n"
     ]
    },
    {
     "name": "stdout",
     "output_type": "stream",
     "text": [
      "MSE (test) : 4.293575763702393\n"
     ]
    },
    {
     "name": "stderr",
     "output_type": "stream",
     "text": [
      "0it [00:02, ?it/s]\n"
     ]
    },
    {
     "name": "stdout",
     "output_type": "stream",
     "text": [
      "Epoch [44/50], Step [1/15], Loss: 4.7487\n",
      "loss_values : 0.0000\n"
     ]
    },
    {
     "name": "stderr",
     "output_type": "stream",
     "text": [
      "4it [00:08,  2.07s/it]\n"
     ]
    },
    {
     "name": "stdout",
     "output_type": "stream",
     "text": [
      "MSE (test) : 4.191345691680908\n"
     ]
    },
    {
     "name": "stderr",
     "output_type": "stream",
     "text": [
      "0it [00:02, ?it/s]\n"
     ]
    },
    {
     "name": "stdout",
     "output_type": "stream",
     "text": [
      "Epoch [45/50], Step [1/15], Loss: 4.6716\n",
      "loss_values : 0.0000\n"
     ]
    },
    {
     "name": "stderr",
     "output_type": "stream",
     "text": [
      "4it [00:08,  2.04s/it]\n"
     ]
    },
    {
     "name": "stdout",
     "output_type": "stream",
     "text": [
      "MSE (test) : 4.091801643371582\n"
     ]
    },
    {
     "name": "stderr",
     "output_type": "stream",
     "text": [
      "0it [00:02, ?it/s]\n"
     ]
    },
    {
     "name": "stdout",
     "output_type": "stream",
     "text": [
      "Epoch [46/50], Step [1/15], Loss: 4.5333\n",
      "loss_values : 0.0000\n"
     ]
    },
    {
     "name": "stderr",
     "output_type": "stream",
     "text": [
      "4it [00:07,  1.92s/it]\n"
     ]
    },
    {
     "name": "stdout",
     "output_type": "stream",
     "text": [
      "MSE (test) : 3.9993948936462402\n"
     ]
    },
    {
     "name": "stderr",
     "output_type": "stream",
     "text": [
      "0it [00:02, ?it/s]\n"
     ]
    },
    {
     "name": "stdout",
     "output_type": "stream",
     "text": [
      "Epoch [47/50], Step [1/15], Loss: 4.4324\n",
      "loss_values : 0.0000\n"
     ]
    },
    {
     "name": "stderr",
     "output_type": "stream",
     "text": [
      "4it [00:07,  1.89s/it]\n"
     ]
    },
    {
     "name": "stdout",
     "output_type": "stream",
     "text": [
      "MSE (test) : 3.9014976024627686\n"
     ]
    },
    {
     "name": "stderr",
     "output_type": "stream",
     "text": [
      "0it [00:02, ?it/s]\n"
     ]
    },
    {
     "name": "stdout",
     "output_type": "stream",
     "text": [
      "Epoch [48/50], Step [1/15], Loss: 4.3375\n",
      "loss_values : 0.0000\n"
     ]
    },
    {
     "name": "stderr",
     "output_type": "stream",
     "text": [
      "4it [00:07,  1.98s/it]\n"
     ]
    },
    {
     "name": "stdout",
     "output_type": "stream",
     "text": [
      "MSE (test) : 3.805574655532837\n"
     ]
    },
    {
     "name": "stderr",
     "output_type": "stream",
     "text": [
      "0it [00:02, ?it/s]\n"
     ]
    },
    {
     "name": "stdout",
     "output_type": "stream",
     "text": [
      "Epoch [49/50], Step [1/15], Loss: 4.2002\n",
      "loss_values : 0.0000\n"
     ]
    },
    {
     "name": "stderr",
     "output_type": "stream",
     "text": [
      "4it [00:07,  1.90s/it]\n"
     ]
    },
    {
     "name": "stdout",
     "output_type": "stream",
     "text": [
      "MSE (test) : 3.7178192138671875\n"
     ]
    },
    {
     "name": "stderr",
     "output_type": "stream",
     "text": [
      "0it [00:02, ?it/s]\n"
     ]
    },
    {
     "name": "stdout",
     "output_type": "stream",
     "text": [
      "Epoch [50/50], Step [1/15], Loss: 4.1051\n",
      "loss_values : 0.0000\n"
     ]
    },
    {
     "name": "stderr",
     "output_type": "stream",
     "text": [
      "4it [00:07,  1.92s/it]\n"
     ]
    },
    {
     "name": "stdout",
     "output_type": "stream",
     "text": [
      "MSE (test) : 3.633633613586426\n"
     ]
    }
   ],
   "source": [
    "%load_ext autoreload\n",
    "%autoreload 2\n",
    "from v1_NormalNN            import Model2CnvGistic\n",
    "from my_utils.model_helpers import train_and_test_model\n",
    "\n",
    "torch.manual_seed(42)\n",
    "device = torch.device(\"cuda\" if torch.cuda.is_available() else \"cpu\")\n",
    "print(f\"Device: {device}\")\n",
    "\n",
    "# ---------- #\n",
    "# INITIALIZE #\n",
    "# ---------- #\n",
    "model_cnv_gistic = Model2CnvGistic().to(device)\n",
    "loss_func = nn.MSELoss()\n",
    "optimizer = torch.optim.Adam(params = model_cnv_gistic.parameters(), \n",
    "                             lr     = learning_rate)\n",
    "\n",
    "# ---------------- #\n",
    "# TRAIN & EVALUATE #\n",
    "# ---------------- #\n",
    "model_cnv_gistic, loss_values_cnv_gistic__train, loss_values_cnv_gistic__test = train_and_test_model(modeling_dataset = modeling_dataset_converted,\n",
    "                                                                                                     model            = model_cnv_gistic,\n",
    "                                                                                                     criterion        = loss_func,\n",
    "                                                                                                     optimizer        = optimizer,\n",
    "                                                                                                     num_epochs       = NUM_EPOCHS,\n",
    "                                                                                                     device           = device,\n",
    "                                                                                                     train_loader     = train_loader,\n",
    "                                                                                                     test_loader      = test_loader)"
   ]
  },
  {
   "cell_type": "markdown",
   "metadata": {},
   "source": [
    "### Performance Visualization"
   ]
  },
  {
   "cell_type": "code",
   "execution_count": 36,
   "metadata": {},
   "outputs": [
    {
     "name": "stdout",
     "output_type": "stream",
     "text": [
      "\n",
      "TRAIN\n",
      "    min  : 4.10506153\n",
      "    mean : 6.84152286\n",
      "    max  : 11.54975319\n",
      "    sd   : 1.78055143\n",
      "TEST\n",
      "    min  : 3.63363361\n",
      "    mean : 6.06910229\n",
      "    max  : 10.28789806\n",
      "    sd   : 1.54344225\n",
      "\n"
     ]
    },
    {
     "data": {
      "image/png": "[encoded data removed]",
      "text/plain": [
       "<Figure size 720x360 with 1 Axes>"
      ]
     },
     "metadata": {},
     "output_type": "display_data"
    }
   ],
   "source": [
    "from matplotlib.ticker import FormatStrFormatter\n",
    "\n",
    "plt.rcParams[\"figure.figsize\"] = (10, 5)\n",
    "\n",
    "loss_values_cnv_gistic__train_backcalculated = [loss_v * len(modeling_dataset_converted) for loss_v in loss_values_cnv_gistic__train]\n",
    "\n",
    "fig, axs = plt.subplots(1)\n",
    "fig.suptitle(\"v1_NormalNN - Model2CnvGistic - Using CNV Gistic\");\n",
    "\n",
    "axs.plot(loss_values_cnv_gistic__train_backcalculated, linestyle='-', label='Train', color='C0'); # Train\n",
    "axs.plot(loss_values_cnv_gistic__test, linestyle='-', label='Test', color='C1'); # Test\n",
    "axs.legend();\n",
    "axs.ticklabel_format(style='plain');\n",
    "axs.set_xlim(0, NUM_EPOCHS, 1);\n",
    "axs.set_ylabel(\"MSE\");\n",
    "\n",
    "print(f\"\"\"\n",
    "TRAIN\n",
    "    min  : {np.min(loss_values_cnv_gistic__train_backcalculated):2.8f}\n",
    "    mean : {np.mean(loss_values_cnv_gistic__train_backcalculated):2.8f}\n",
    "    max  : {np.max(loss_values_cnv_gistic__train_backcalculated):2.8f}\n",
    "    sd   : {np.std(loss_values_cnv_gistic__train_backcalculated):2.8f}\n",
    "TEST\n",
    "    min  : {np.min(loss_values_cnv_gistic__test):2.8f}\n",
    "    mean : {np.mean(loss_values_cnv_gistic__test):2.8f}\n",
    "    max  : {np.max(loss_values_cnv_gistic__test):2.8f}\n",
    "    sd   : {np.std(loss_values_cnv_gistic__test):2.8f}\n",
    "\"\"\")"
   ]
  },
  {
   "cell_type": "markdown",
   "metadata": {},
   "source": [
    "### Save or Load Model"
   ]
  },
  {
   "cell_type": "code",
   "execution_count": 38,
   "metadata": {},
   "outputs": [],
   "source": [
    "torch.save(obj={\n",
    "            'epoch': NUM_EPOCHS,\n",
    "            'model_state_dict': model_cnv_gistic.state_dict(),\n",
    "            'optimizer_state_dict': optimizer.state_dict(),\n",
    "            'loss_func': loss_func,\n",
    "            'loss_values_train': loss_values_cnv_gistic__train_backcalculated,\n",
    "            'loss_values_test': loss_values_cnv_gistic__test,\n",
    "            },\n",
    "            f=PATH_TO_SAVE_MODELS_TO+'Model2CnvGistic__cnv_gistic.pkl')"
   ]
  },
  {
   "cell_type": "markdown",
   "metadata": {},
   "source": [
    "--- \n",
    "\n",
    "## Baseline Model using CNV Picnic"
   ]
  },
  {
   "cell_type": "code",
   "execution_count": 39,
   "metadata": {},
   "outputs": [
    {
     "name": "stdout",
     "output_type": "stream",
     "text": [
      "Drug Shape: (428, 258)\n",
      "Shape: (446521, 257)\n"
     ]
    },
    {
     "data": {
      "text/html": [
       "<div>\n",
       "<style scoped>\n",
       "    .dataframe tbody tr th:only-of-type {\n",
       "        vertical-align: middle;\n",
       "    }\n",
       "\n",
       "    .dataframe tbody tr th {\n",
       "        vertical-align: top;\n",
       "    }\n",
       "\n",
       "    .dataframe thead th {\n",
       "        text-align: right;\n",
       "    }\n",
       "</style>\n",
       "<table border=\"1\" class=\"dataframe\">\n",
       "  <thead>\n",
       "    <tr style=\"text-align: right;\">\n",
       "      <th></th>\n",
       "      <th>DRUG_ID</th>\n",
       "      <th>0</th>\n",
       "      <th>1</th>\n",
       "      <th>2</th>\n",
       "      <th>3</th>\n",
       "      <th>4</th>\n",
       "      <th>5</th>\n",
       "      <th>6</th>\n",
       "      <th>7</th>\n",
       "      <th>8</th>\n",
       "      <th>...</th>\n",
       "      <th>246</th>\n",
       "      <th>247</th>\n",
       "      <th>248</th>\n",
       "      <th>249</th>\n",
       "      <th>250</th>\n",
       "      <th>251</th>\n",
       "      <th>252</th>\n",
       "      <th>253</th>\n",
       "      <th>254</th>\n",
       "      <th>255</th>\n",
       "    </tr>\n",
       "  </thead>\n",
       "  <tbody>\n",
       "    <tr>\n",
       "      <th>0</th>\n",
       "      <td>1</td>\n",
       "      <td>0.0</td>\n",
       "      <td>0.0</td>\n",
       "      <td>0.0</td>\n",
       "      <td>0.0</td>\n",
       "      <td>0.0</td>\n",
       "      <td>0.0</td>\n",
       "      <td>0.0</td>\n",
       "      <td>0.0</td>\n",
       "      <td>0.0</td>\n",
       "      <td>...</td>\n",
       "      <td>0.0</td>\n",
       "      <td>0.0</td>\n",
       "      <td>0.0</td>\n",
       "      <td>0.0</td>\n",
       "      <td>0.0</td>\n",
       "      <td>0.0</td>\n",
       "      <td>0.0</td>\n",
       "      <td>0.0</td>\n",
       "      <td>0.0</td>\n",
       "      <td>0.0</td>\n",
       "    </tr>\n",
       "    <tr>\n",
       "      <th>1</th>\n",
       "      <td>1</td>\n",
       "      <td>0.0</td>\n",
       "      <td>0.0</td>\n",
       "      <td>0.0</td>\n",
       "      <td>0.0</td>\n",
       "      <td>0.0</td>\n",
       "      <td>0.0</td>\n",
       "      <td>0.0</td>\n",
       "      <td>0.0</td>\n",
       "      <td>0.0</td>\n",
       "      <td>...</td>\n",
       "      <td>0.0</td>\n",
       "      <td>0.0</td>\n",
       "      <td>0.0</td>\n",
       "      <td>0.0</td>\n",
       "      <td>0.0</td>\n",
       "      <td>0.0</td>\n",
       "      <td>0.0</td>\n",
       "      <td>0.0</td>\n",
       "      <td>0.0</td>\n",
       "      <td>0.0</td>\n",
       "    </tr>\n",
       "    <tr>\n",
       "      <th>2</th>\n",
       "      <td>1</td>\n",
       "      <td>0.0</td>\n",
       "      <td>0.0</td>\n",
       "      <td>0.0</td>\n",
       "      <td>0.0</td>\n",
       "      <td>0.0</td>\n",
       "      <td>0.0</td>\n",
       "      <td>0.0</td>\n",
       "      <td>0.0</td>\n",
       "      <td>0.0</td>\n",
       "      <td>...</td>\n",
       "      <td>0.0</td>\n",
       "      <td>0.0</td>\n",
       "      <td>0.0</td>\n",
       "      <td>0.0</td>\n",
       "      <td>0.0</td>\n",
       "      <td>0.0</td>\n",
       "      <td>0.0</td>\n",
       "      <td>0.0</td>\n",
       "      <td>0.0</td>\n",
       "      <td>0.0</td>\n",
       "    </tr>\n",
       "    <tr>\n",
       "      <th>3</th>\n",
       "      <td>1</td>\n",
       "      <td>0.0</td>\n",
       "      <td>0.0</td>\n",
       "      <td>0.0</td>\n",
       "      <td>0.0</td>\n",
       "      <td>0.0</td>\n",
       "      <td>0.0</td>\n",
       "      <td>0.0</td>\n",
       "      <td>0.0</td>\n",
       "      <td>0.0</td>\n",
       "      <td>...</td>\n",
       "      <td>0.0</td>\n",
       "      <td>0.0</td>\n",
       "      <td>0.0</td>\n",
       "      <td>0.0</td>\n",
       "      <td>0.0</td>\n",
       "      <td>0.0</td>\n",
       "      <td>0.0</td>\n",
       "      <td>0.0</td>\n",
       "      <td>0.0</td>\n",
       "      <td>0.0</td>\n",
       "    </tr>\n",
       "    <tr>\n",
       "      <th>4</th>\n",
       "      <td>1</td>\n",
       "      <td>0.0</td>\n",
       "      <td>0.0</td>\n",
       "      <td>0.0</td>\n",
       "      <td>0.0</td>\n",
       "      <td>0.0</td>\n",
       "      <td>0.0</td>\n",
       "      <td>0.0</td>\n",
       "      <td>0.0</td>\n",
       "      <td>0.0</td>\n",
       "      <td>...</td>\n",
       "      <td>0.0</td>\n",
       "      <td>0.0</td>\n",
       "      <td>0.0</td>\n",
       "      <td>0.0</td>\n",
       "      <td>0.0</td>\n",
       "      <td>0.0</td>\n",
       "      <td>0.0</td>\n",
       "      <td>0.0</td>\n",
       "      <td>0.0</td>\n",
       "      <td>0.0</td>\n",
       "    </tr>\n",
       "  </tbody>\n",
       "</table>\n",
       "<p>5 rows × 257 columns</p>\n",
       "</div>"
      ],
      "text/plain": [
       "   DRUG_ID    0    1    2    3    4    5    6    7    8  ...  246  247  248  \\\n",
       "0        1  0.0  0.0  0.0  0.0  0.0  0.0  0.0  0.0  0.0  ...  0.0  0.0  0.0   \n",
       "1        1  0.0  0.0  0.0  0.0  0.0  0.0  0.0  0.0  0.0  ...  0.0  0.0  0.0   \n",
       "2        1  0.0  0.0  0.0  0.0  0.0  0.0  0.0  0.0  0.0  ...  0.0  0.0  0.0   \n",
       "3        1  0.0  0.0  0.0  0.0  0.0  0.0  0.0  0.0  0.0  ...  0.0  0.0  0.0   \n",
       "4        1  0.0  0.0  0.0  0.0  0.0  0.0  0.0  0.0  0.0  ...  0.0  0.0  0.0   \n",
       "\n",
       "   249  250  251  252  253  254  255  \n",
       "0  0.0  0.0  0.0  0.0  0.0  0.0  0.0  \n",
       "1  0.0  0.0  0.0  0.0  0.0  0.0  0.0  \n",
       "2  0.0  0.0  0.0  0.0  0.0  0.0  0.0  \n",
       "3  0.0  0.0  0.0  0.0  0.0  0.0  0.0  \n",
       "4  0.0  0.0  0.0  0.0  0.0  0.0  0.0  \n",
       "\n",
       "[5 rows x 257 columns]"
      ]
     },
     "execution_count": 39,
     "metadata": {},
     "output_type": "execute_result"
    }
   ],
   "source": [
    "# Drug data.\n",
    "with open(f'{PATH_TO_SAVED_DRUG_FEATURES}drug_name_fingerprints_dataframe.pkl', 'rb') as f:\n",
    "    drug_name_fps = pickle.load(f)\n",
    "drug_name_fps_v2 = pd.merge(left     = drug_name_fps, \n",
    "                            right    = cnv_picnic[['DRUG_ID', 'DRUG_NAME']], \n",
    "                            how      = 'left', \n",
    "                            left_on  = ['drug_name'], \n",
    "                            right_on = ['DRUG_NAME'])\n",
    "drug_name_fps_v2.drop_duplicates(inplace=True)\n",
    "drug_name_fps_v2.drop(['DRUG_NAME'], axis=1, inplace=True)                           \n",
    "print(f\"Drug Shape: {drug_name_fps_v2.shape}\")\n",
    "# drug_name_fps_v2.head(3)\n",
    "\n",
    "# For each row of the FULL_DATASET get the corresponding Morgan Fingerprint for the specific drug.\n",
    "FPS = pd.merge(left     = cnv_picnic['DRUG_ID'], \n",
    "               right    = drug_name_fps_v2.loc[:, ~drug_name_fps_v2.columns.isin(['drug_name'])], \n",
    "               how      = 'left', \n",
    "               left_on  = ['DRUG_ID'], \n",
    "               right_on = ['DRUG_ID'])\n",
    "print(f\"Shape: {FPS.shape}\")\n",
    "FPS.head(5)  "
   ]
  },
  {
   "cell_type": "code",
   "execution_count": 40,
   "metadata": {},
   "outputs": [],
   "source": [
    "from typing import List\n",
    "import copy\n",
    "\n",
    "class ModelDataset(Dataset): \n",
    "    def __init__(self, \n",
    "                 full_data: pd.DataFrame,\n",
    "                 cell_cols: List[str],\n",
    "                 drug_cols: List[str],\n",
    "                 cell_identifier: str,\n",
    "                 drug_identifier: str,\n",
    "                 corresponding_fps: pd.DataFrame = FPS,\n",
    "                 target_col: str='LN_IC50'): \n",
    "        # Drop all nans. \n",
    "        print(f\"Initial shape before removing NaN's : {full_data.shape}\")\n",
    "        full_data = full_data.dropna()\n",
    "        print(f\"Shape after removing all NaN's      : {full_data.shape}\")\n",
    "\n",
    "        X = full_data[cell_cols + drug_cols]\n",
    "        y = full_data[target_col]\n",
    "\n",
    "        fps = pd.merge(left     = full_data['DRUG_ID'], \n",
    "                       right    = drug_name_fps_v2.loc[:, ~drug_name_fps_v2.columns.isin(['drug_name'])], \n",
    "                       how      = 'left', \n",
    "                       left_on  = ['DRUG_ID'], \n",
    "                       right_on = ['DRUG_ID'])\n",
    "\n",
    "        X_cell = X[cell_cols]\n",
    "        X_drug = copy.deepcopy(fps)\n",
    "\n",
    "        print(f\"X_cell.shape : {X_cell.shape}\")\n",
    "        print(f\"X_drug.shape : {X_drug.shape}\")\n",
    "\n",
    "        # Contains only the gene columns and the respective feature value. Here GeneExpression.\n",
    "        self.X = torch.tensor(X.loc[:, ~X.columns.isin([cell_identifier] + ['DRUG_NAME'])].values, dtype=torch.float32)\n",
    "        self.X_cell = torch.tensor(X_cell.loc[:, ~X_cell.columns.isin([cell_identifier])].values, dtype=torch.float32)\n",
    "        self.X_drug = torch.tensor(X_drug.loc[:, ~X_drug.columns.isin([drug_identifier])].values, dtype=torch.float32)\n",
    "        self.y = torch.tensor(y.values, dtype=torch.float32)\n",
    "\n",
    "    def __len__(self):\n",
    "        return len(self.y)\n",
    "\n",
    "    def __getitem__(self, idx):\n",
    "        return self.X[idx], self.X_cell[idx], self.X_drug[idx], self.y[idx]"
   ]
  },
  {
   "cell_type": "code",
   "execution_count": 41,
   "metadata": {},
   "outputs": [
    {
     "name": "stdout",
     "output_type": "stream",
     "text": [
      "Elapsed time to convert the 870 columns: 200.81 seconds.\n",
      "Initial shape before removing NaN's : (370963, 980)\n",
      "Shape after removing all NaN's      : (351889, 980)\n",
      "X_cell.shape : (351889, 871)\n",
      "X_drug.shape : (351889, 257)\n"
     ]
    }
   ],
   "source": [
    "# --------------------------------------------------- #\n",
    "# Delete all rows from the dataset for which there is #\n",
    "# no fingerprint for the specific drug.               #\n",
    "# --------------------------------------------------- #\n",
    "SAVE, READ = True, False \n",
    "\n",
    "# Dataset for modeling which has fingerprints for each DRUG_ID.\n",
    "if not READ:\n",
    "    all_drugs_with_fps = np.unique(drug_name_fps_v2.DRUG_ID).tolist()\n",
    "    modeling_dataset = cnv_picnic[cnv_picnic.DRUG_ID.isin(all_drugs_with_fps)]\n",
    "\n",
    "    uniq_drugs_in__modeling_dataset = len(np.unique(modeling_dataset.DRUG_ID.values))\n",
    "    uniq_drugs_with__fingerprints = len(np.unique(drug_name_fps_v2.DRUG_ID).tolist())\n",
    "\n",
    "    assert uniq_drugs_in__modeling_dataset == uniq_drugs_with__fingerprints,\\\n",
    "        f\"ERROR: Modeling dataset has {uniq_drugs_in__modeling_dataset} DRUG_ID's while there are only {uniq_drugs_with__fingerprints} DRUG_ID's with fingerprints.\"\n",
    "\n",
    "    start = time.time()\n",
    "    modeling_dataset_converted = convert_column_types(df              = modeling_dataset,\n",
    "                                                      cols_to_convert = ALL_GENES,\n",
    "                                                      conversion_type = 'float64')\n",
    "    print(f\"Elapsed time to convert the {len(ALL_GENES)} columns: {time.time() - start:2.2f} seconds.\")\n",
    "    if SAVE:\n",
    "        modeling_dataset_converted.to_pickle(f'{PATH_TO_SAVE_DATA_TO}cnv_picnic_converted.pkl')\n",
    "else:\n",
    "    modeling_dataset_converted = pd.read_pickle(f'{PATH_TO_SAVE_DATA_TO}cnv_picnic_converted.pkl')\n",
    "\n",
    "# ---------------------------- #\n",
    "# Create the modeling dataset. #\n",
    "# ---------------------------- #\n",
    "CELL_IDENTIFIER = 'CELL_LINE_NAME'\n",
    "DRUG_IDENTIFIER = 'DRUG_ID'\n",
    "TARGET_IDENTIFIER = 'LN_IC50'\n",
    "\n",
    "model_dataset = ModelDataset(full_data       = modeling_dataset_converted,\n",
    "                             cell_cols       = [CELL_IDENTIFIER] + list(MAPPING_FROM_GENES_TO_INDICES__intersection.genes.values),\n",
    "                             drug_cols       = [DRUG_IDENTIFIER, 'DRUG_NAME'],\n",
    "                             cell_identifier = CELL_IDENTIFIER,\n",
    "                             drug_identifier = DRUG_IDENTIFIER,\n",
    "                             target_col      = TARGET_IDENTIFIER)\n",
    "\n",
    "assert torch.isnan(model_dataset.X_drug).any() == False,\\\n",
    "    \"ERROR: Some drugs in the dataset have no fingerprints.\""
   ]
  },
  {
   "cell_type": "code",
   "execution_count": 42,
   "metadata": {},
   "outputs": [
    {
     "name": "stdout",
     "output_type": "stream",
     "text": [
      "Shapes \n",
      "    Train : \n",
      "        X : torch.Size([351889, 871])\n",
      "            X_cell : torch.Size([351889, 870])\n",
      "            X_drug : torch.Size([351889, 256])\n",
      "        y : torch.Size([351889])\n",
      "    Test  :\n",
      "        X : torch.Size([351889, 871])\n",
      "            X_cell : torch.Size([351889, 870])\n",
      "            X_drug : torch.Size([351889, 256])            \n",
      "        y : torch.Size([351889])\n",
      "\n",
      "Batch counts:\n",
      "    Train  : 15\n",
      "    Test   : 4\n",
      "\n"
     ]
    }
   ],
   "source": [
    "# ---------------- # \n",
    "# Hyper-parameters #\n",
    "# ---------------- #\n",
    "input_size   = len(ALL_GENES)\n",
    "hidden_size   = 100\n",
    "num_classes   = 1\n",
    "NUM_EPOCHS    = 50\n",
    "batch_size    = 20_000\n",
    "learning_rate = 0.001  \n",
    "\n",
    "# ------------------------------- #\n",
    "# Create train and test datasets. #\n",
    "# ------------------------------- #\n",
    "train_set_split_ratio = 0.8\n",
    "\n",
    "train_size = int(train_set_split_ratio * len(model_dataset))\n",
    "test_size = len(model_dataset) - train_size\n",
    "train_set, test_set = torch.utils.data.random_split(model_dataset, \n",
    "                                                    [train_size, test_size],\n",
    "                                                    generator=torch.Generator().manual_seed(42))\n",
    "\n",
    "print(f\"\"\"Shapes \n",
    "    Train : \n",
    "        X : {train_set.dataset.X.shape}\n",
    "            X_cell : {train_set.dataset.X_cell.shape}\n",
    "            X_drug : {train_set.dataset.X_drug.shape}\n",
    "        y : {train_set.dataset.y.shape}\n",
    "    Test  :\n",
    "        X : {test_set.dataset.X.shape}\n",
    "            X_cell : {test_set.dataset.X_cell.shape}\n",
    "            X_drug : {test_set.dataset.X_drug.shape}            \n",
    "        y : {test_set.dataset.y.shape}\n",
    "\"\"\")\n",
    "\n",
    "# Data loader\n",
    "train_loader = torch.utils.data.DataLoader(dataset     = train_set, \n",
    "                                           batch_size  = batch_size, \n",
    "                                           shuffle     = True,\n",
    "                                           num_workers = 0)\n",
    "\n",
    "test_loader = torch.utils.data.DataLoader(dataset     = test_set, \n",
    "                                          batch_size  = batch_size, \n",
    "                                          shuffle     = True,\n",
    "                                          num_workers = 0) \n",
    "\n",
    "count_train = sum(1 for X, X_cell, X_drug, y in train_loader)\n",
    "count_test = sum(1 for X, X_cell, X_drug, y in test_loader)\n",
    "print(f\"\"\"Batch counts:\n",
    "    Train  : {count_train}\n",
    "    Test   : {count_test}\n",
    "\"\"\")                                         "
   ]
  },
  {
   "cell_type": "markdown",
   "metadata": {},
   "source": [
    "### Running the Model"
   ]
  },
  {
   "cell_type": "code",
   "execution_count": 43,
   "metadata": {},
   "outputs": [
    {
     "name": "stdout",
     "output_type": "stream",
     "text": [
      "The autoreload extension is already loaded. To reload it, use:\n",
      "  %reload_ext autoreload\n",
      "Device: cpu\n"
     ]
    },
    {
     "name": "stderr",
     "output_type": "stream",
     "text": [
      "0it [00:03, ?it/s]\n"
     ]
    },
    {
     "name": "stdout",
     "output_type": "stream",
     "text": [
      "Epoch [1/50], Step [1/15], Loss: 11.5626\n",
      "loss_values : 0.0000\n"
     ]
    },
    {
     "name": "stderr",
     "output_type": "stream",
     "text": [
      "4it [00:07,  1.97s/it]\n"
     ]
    },
    {
     "name": "stdout",
     "output_type": "stream",
     "text": [
      "MSE (test) : 9.613130569458008\n"
     ]
    },
    {
     "name": "stderr",
     "output_type": "stream",
     "text": [
      "0it [00:03, ?it/s]\n"
     ]
    },
    {
     "name": "stdout",
     "output_type": "stream",
     "text": [
      "Epoch [2/50], Step [1/15], Loss: 10.8112\n",
      "loss_values : 0.0000\n"
     ]
    },
    {
     "name": "stderr",
     "output_type": "stream",
     "text": [
      "4it [00:08,  2.01s/it]\n"
     ]
    },
    {
     "name": "stdout",
     "output_type": "stream",
     "text": [
      "MSE (test) : 8.362184524536133\n"
     ]
    },
    {
     "name": "stderr",
     "output_type": "stream",
     "text": [
      "0it [00:02, ?it/s]\n"
     ]
    },
    {
     "name": "stdout",
     "output_type": "stream",
     "text": [
      "Epoch [3/50], Step [1/15], Loss: 9.5295\n",
      "loss_values : 0.0000\n"
     ]
    },
    {
     "name": "stderr",
     "output_type": "stream",
     "text": [
      "4it [00:07,  1.89s/it]\n"
     ]
    },
    {
     "name": "stdout",
     "output_type": "stream",
     "text": [
      "MSE (test) : 6.921557903289795\n"
     ]
    },
    {
     "name": "stderr",
     "output_type": "stream",
     "text": [
      "0it [00:02, ?it/s]\n"
     ]
    },
    {
     "name": "stdout",
     "output_type": "stream",
     "text": [
      "Epoch [4/50], Step [1/15], Loss: 7.7450\n",
      "loss_values : 0.0000\n"
     ]
    },
    {
     "name": "stderr",
     "output_type": "stream",
     "text": [
      "4it [00:07,  1.95s/it]\n"
     ]
    },
    {
     "name": "stdout",
     "output_type": "stream",
     "text": [
      "MSE (test) : 7.436706066131592\n"
     ]
    },
    {
     "name": "stderr",
     "output_type": "stream",
     "text": [
      "0it [00:03, ?it/s]\n"
     ]
    },
    {
     "name": "stdout",
     "output_type": "stream",
     "text": [
      "Epoch [5/50], Step [1/15], Loss: 8.4114\n",
      "loss_values : 0.0000\n"
     ]
    },
    {
     "name": "stderr",
     "output_type": "stream",
     "text": [
      "4it [00:07,  1.90s/it]\n"
     ]
    },
    {
     "name": "stdout",
     "output_type": "stream",
     "text": [
      "MSE (test) : 7.244007587432861\n"
     ]
    },
    {
     "name": "stderr",
     "output_type": "stream",
     "text": [
      "0it [00:03, ?it/s]\n"
     ]
    },
    {
     "name": "stdout",
     "output_type": "stream",
     "text": [
      "Epoch [6/50], Step [1/15], Loss: 8.2670\n",
      "loss_values : 0.0000\n"
     ]
    },
    {
     "name": "stderr",
     "output_type": "stream",
     "text": [
      "4it [00:07,  1.95s/it]\n"
     ]
    },
    {
     "name": "stdout",
     "output_type": "stream",
     "text": [
      "MSE (test) : 6.695679664611816\n"
     ]
    },
    {
     "name": "stderr",
     "output_type": "stream",
     "text": [
      "0it [00:06, ?it/s]\n"
     ]
    },
    {
     "name": "stdout",
     "output_type": "stream",
     "text": [
      "Epoch [7/50], Step [1/15], Loss: 7.4813\n",
      "loss_values : 0.0000\n"
     ]
    },
    {
     "name": "stderr",
     "output_type": "stream",
     "text": [
      "4it [00:09,  2.47s/it]\n"
     ]
    },
    {
     "name": "stdout",
     "output_type": "stream",
     "text": [
      "MSE (test) : 6.7349138259887695\n"
     ]
    },
    {
     "name": "stderr",
     "output_type": "stream",
     "text": [
      "0it [00:02, ?it/s]\n"
     ]
    },
    {
     "name": "stdout",
     "output_type": "stream",
     "text": [
      "Epoch [8/50], Step [1/15], Loss: 7.5576\n",
      "loss_values : 0.0000\n"
     ]
    },
    {
     "name": "stderr",
     "output_type": "stream",
     "text": [
      "4it [00:07,  1.95s/it]\n"
     ]
    },
    {
     "name": "stdout",
     "output_type": "stream",
     "text": [
      "MSE (test) : 6.924720287322998\n"
     ]
    },
    {
     "name": "stderr",
     "output_type": "stream",
     "text": [
      "0it [00:02, ?it/s]\n"
     ]
    },
    {
     "name": "stdout",
     "output_type": "stream",
     "text": [
      "Epoch [9/50], Step [1/15], Loss: 7.7986\n",
      "loss_values : 0.0000\n"
     ]
    },
    {
     "name": "stderr",
     "output_type": "stream",
     "text": [
      "4it [00:08,  2.03s/it]\n"
     ]
    },
    {
     "name": "stdout",
     "output_type": "stream",
     "text": [
      "MSE (test) : 6.9788384437561035\n"
     ]
    },
    {
     "name": "stderr",
     "output_type": "stream",
     "text": [
      "0it [00:03, ?it/s]\n"
     ]
    },
    {
     "name": "stdout",
     "output_type": "stream",
     "text": [
      "Epoch [10/50], Step [1/15], Loss: 7.9066\n",
      "loss_values : 0.0000\n"
     ]
    },
    {
     "name": "stderr",
     "output_type": "stream",
     "text": [
      "4it [00:07,  1.98s/it]\n"
     ]
    },
    {
     "name": "stdout",
     "output_type": "stream",
     "text": [
      "MSE (test) : 6.87841272354126\n"
     ]
    },
    {
     "name": "stderr",
     "output_type": "stream",
     "text": [
      "0it [00:02, ?it/s]\n"
     ]
    },
    {
     "name": "stdout",
     "output_type": "stream",
     "text": [
      "Epoch [11/50], Step [1/15], Loss: 7.8412\n",
      "loss_values : 0.0000\n"
     ]
    },
    {
     "name": "stderr",
     "output_type": "stream",
     "text": [
      "4it [00:07,  1.92s/it]\n"
     ]
    },
    {
     "name": "stdout",
     "output_type": "stream",
     "text": [
      "MSE (test) : 6.711673259735107\n"
     ]
    },
    {
     "name": "stderr",
     "output_type": "stream",
     "text": [
      "0it [00:02, ?it/s]\n"
     ]
    },
    {
     "name": "stdout",
     "output_type": "stream",
     "text": [
      "Epoch [12/50], Step [1/15], Loss: 7.4830\n",
      "loss_values : 0.0000\n"
     ]
    },
    {
     "name": "stderr",
     "output_type": "stream",
     "text": [
      "4it [00:07,  1.93s/it]\n"
     ]
    },
    {
     "name": "stdout",
     "output_type": "stream",
     "text": [
      "MSE (test) : 6.623083591461182\n"
     ]
    },
    {
     "name": "stderr",
     "output_type": "stream",
     "text": [
      "0it [00:02, ?it/s]\n"
     ]
    },
    {
     "name": "stdout",
     "output_type": "stream",
     "text": [
      "Epoch [13/50], Step [1/15], Loss: 7.2848\n",
      "loss_values : 0.0000\n"
     ]
    },
    {
     "name": "stderr",
     "output_type": "stream",
     "text": [
      "4it [00:07,  1.97s/it]\n"
     ]
    },
    {
     "name": "stdout",
     "output_type": "stream",
     "text": [
      "MSE (test) : 6.7190046310424805\n"
     ]
    },
    {
     "name": "stderr",
     "output_type": "stream",
     "text": [
      "0it [00:02, ?it/s]\n"
     ]
    },
    {
     "name": "stdout",
     "output_type": "stream",
     "text": [
      "Epoch [14/50], Step [1/15], Loss: 7.4862\n",
      "loss_values : 0.0000\n"
     ]
    },
    {
     "name": "stderr",
     "output_type": "stream",
     "text": [
      "4it [00:07,  1.93s/it]\n"
     ]
    },
    {
     "name": "stdout",
     "output_type": "stream",
     "text": [
      "MSE (test) : 6.809132099151611\n"
     ]
    },
    {
     "name": "stderr",
     "output_type": "stream",
     "text": [
      "0it [00:03, ?it/s]\n"
     ]
    },
    {
     "name": "stdout",
     "output_type": "stream",
     "text": [
      "Epoch [15/50], Step [1/15], Loss: 7.7754\n",
      "loss_values : 0.0000\n"
     ]
    },
    {
     "name": "stderr",
     "output_type": "stream",
     "text": [
      "4it [00:08,  2.06s/it]\n"
     ]
    },
    {
     "name": "stdout",
     "output_type": "stream",
     "text": [
      "MSE (test) : 6.718391418457031\n"
     ]
    },
    {
     "name": "stderr",
     "output_type": "stream",
     "text": [
      "0it [00:02, ?it/s]\n"
     ]
    },
    {
     "name": "stdout",
     "output_type": "stream",
     "text": [
      "Epoch [16/50], Step [1/15], Loss: 7.5997\n",
      "loss_values : 0.0000\n"
     ]
    },
    {
     "name": "stderr",
     "output_type": "stream",
     "text": [
      "4it [00:07,  1.89s/it]\n"
     ]
    },
    {
     "name": "stdout",
     "output_type": "stream",
     "text": [
      "MSE (test) : 6.598844528198242\n"
     ]
    },
    {
     "name": "stderr",
     "output_type": "stream",
     "text": [
      "0it [00:02, ?it/s]\n"
     ]
    },
    {
     "name": "stdout",
     "output_type": "stream",
     "text": [
      "Epoch [17/50], Step [1/15], Loss: 7.5831\n",
      "loss_values : 0.0000\n"
     ]
    },
    {
     "name": "stderr",
     "output_type": "stream",
     "text": [
      "4it [00:07,  1.95s/it]\n"
     ]
    },
    {
     "name": "stdout",
     "output_type": "stream",
     "text": [
      "MSE (test) : 6.567220211029053\n"
     ]
    },
    {
     "name": "stderr",
     "output_type": "stream",
     "text": [
      "0it [00:03, ?it/s]\n"
     ]
    },
    {
     "name": "stdout",
     "output_type": "stream",
     "text": [
      "Epoch [18/50], Step [1/15], Loss: 7.5027\n",
      "loss_values : 0.0000\n"
     ]
    },
    {
     "name": "stderr",
     "output_type": "stream",
     "text": [
      "4it [00:08,  2.02s/it]\n"
     ]
    },
    {
     "name": "stdout",
     "output_type": "stream",
     "text": [
      "MSE (test) : 6.593533039093018\n"
     ]
    },
    {
     "name": "stderr",
     "output_type": "stream",
     "text": [
      "0it [00:03, ?it/s]\n"
     ]
    },
    {
     "name": "stdout",
     "output_type": "stream",
     "text": [
      "Epoch [19/50], Step [1/15], Loss: 7.4185\n",
      "loss_values : 0.0000\n"
     ]
    },
    {
     "name": "stderr",
     "output_type": "stream",
     "text": [
      "4it [00:07,  1.96s/it]\n"
     ]
    },
    {
     "name": "stdout",
     "output_type": "stream",
     "text": [
      "MSE (test) : 6.601471900939941\n"
     ]
    },
    {
     "name": "stderr",
     "output_type": "stream",
     "text": [
      "0it [00:02, ?it/s]\n"
     ]
    },
    {
     "name": "stdout",
     "output_type": "stream",
     "text": [
      "Epoch [20/50], Step [1/15], Loss: 7.5157\n",
      "loss_values : 0.0000\n"
     ]
    },
    {
     "name": "stderr",
     "output_type": "stream",
     "text": [
      "4it [00:07,  1.96s/it]\n"
     ]
    },
    {
     "name": "stdout",
     "output_type": "stream",
     "text": [
      "MSE (test) : 6.5555219650268555\n"
     ]
    },
    {
     "name": "stderr",
     "output_type": "stream",
     "text": [
      "0it [00:02, ?it/s]\n"
     ]
    },
    {
     "name": "stdout",
     "output_type": "stream",
     "text": [
      "Epoch [21/50], Step [1/15], Loss: 7.3611\n",
      "loss_values : 0.0000\n"
     ]
    },
    {
     "name": "stderr",
     "output_type": "stream",
     "text": [
      "4it [00:07,  1.92s/it]\n"
     ]
    },
    {
     "name": "stdout",
     "output_type": "stream",
     "text": [
      "MSE (test) : 6.476235389709473\n"
     ]
    },
    {
     "name": "stderr",
     "output_type": "stream",
     "text": [
      "0it [00:02, ?it/s]\n"
     ]
    },
    {
     "name": "stdout",
     "output_type": "stream",
     "text": [
      "Epoch [22/50], Step [1/15], Loss: 7.3420\n",
      "loss_values : 0.0000\n"
     ]
    },
    {
     "name": "stderr",
     "output_type": "stream",
     "text": [
      "4it [00:07,  1.96s/it]\n"
     ]
    },
    {
     "name": "stdout",
     "output_type": "stream",
     "text": [
      "MSE (test) : 6.4111552238464355\n"
     ]
    },
    {
     "name": "stderr",
     "output_type": "stream",
     "text": [
      "0it [00:03, ?it/s]\n"
     ]
    },
    {
     "name": "stdout",
     "output_type": "stream",
     "text": [
      "Epoch [23/50], Step [1/15], Loss: 7.3864\n",
      "loss_values : 0.0000\n"
     ]
    },
    {
     "name": "stderr",
     "output_type": "stream",
     "text": [
      "4it [00:08,  2.05s/it]\n"
     ]
    },
    {
     "name": "stdout",
     "output_type": "stream",
     "text": [
      "MSE (test) : 6.382062911987305\n"
     ]
    },
    {
     "name": "stderr",
     "output_type": "stream",
     "text": [
      "0it [00:02, ?it/s]\n"
     ]
    },
    {
     "name": "stdout",
     "output_type": "stream",
     "text": [
      "Epoch [24/50], Step [1/15], Loss: 7.2165\n",
      "loss_values : 0.0000\n"
     ]
    },
    {
     "name": "stderr",
     "output_type": "stream",
     "text": [
      "4it [00:07,  2.00s/it]\n"
     ]
    },
    {
     "name": "stdout",
     "output_type": "stream",
     "text": [
      "MSE (test) : 6.348931789398193\n"
     ]
    },
    {
     "name": "stderr",
     "output_type": "stream",
     "text": [
      "0it [00:03, ?it/s]\n"
     ]
    },
    {
     "name": "stdout",
     "output_type": "stream",
     "text": [
      "Epoch [25/50], Step [1/15], Loss: 7.2175\n",
      "loss_values : 0.0000\n"
     ]
    },
    {
     "name": "stderr",
     "output_type": "stream",
     "text": [
      "4it [00:08,  2.00s/it]\n"
     ]
    },
    {
     "name": "stdout",
     "output_type": "stream",
     "text": [
      "MSE (test) : 6.271965503692627\n"
     ]
    },
    {
     "name": "stderr",
     "output_type": "stream",
     "text": [
      "0it [00:03, ?it/s]\n"
     ]
    },
    {
     "name": "stdout",
     "output_type": "stream",
     "text": [
      "Epoch [26/50], Step [1/15], Loss: 7.1466\n",
      "loss_values : 0.0000\n"
     ]
    },
    {
     "name": "stderr",
     "output_type": "stream",
     "text": [
      "4it [00:07,  1.95s/it]\n"
     ]
    },
    {
     "name": "stdout",
     "output_type": "stream",
     "text": [
      "MSE (test) : 6.160959720611572\n"
     ]
    },
    {
     "name": "stderr",
     "output_type": "stream",
     "text": [
      "0it [00:02, ?it/s]\n"
     ]
    },
    {
     "name": "stdout",
     "output_type": "stream",
     "text": [
      "Epoch [27/50], Step [1/15], Loss: 6.9765\n",
      "loss_values : 0.0000\n"
     ]
    },
    {
     "name": "stderr",
     "output_type": "stream",
     "text": [
      "4it [00:07,  1.91s/it]\n"
     ]
    },
    {
     "name": "stdout",
     "output_type": "stream",
     "text": [
      "MSE (test) : 6.048351764678955\n"
     ]
    },
    {
     "name": "stderr",
     "output_type": "stream",
     "text": [
      "0it [00:02, ?it/s]\n"
     ]
    },
    {
     "name": "stdout",
     "output_type": "stream",
     "text": [
      "Epoch [28/50], Step [1/15], Loss: 6.8287\n",
      "loss_values : 0.0000\n"
     ]
    },
    {
     "name": "stderr",
     "output_type": "stream",
     "text": [
      "4it [00:08,  2.06s/it]\n"
     ]
    },
    {
     "name": "stdout",
     "output_type": "stream",
     "text": [
      "MSE (test) : 5.943234443664551\n"
     ]
    },
    {
     "name": "stderr",
     "output_type": "stream",
     "text": [
      "0it [00:02, ?it/s]\n"
     ]
    },
    {
     "name": "stdout",
     "output_type": "stream",
     "text": [
      "Epoch [29/50], Step [1/15], Loss: 6.7254\n",
      "loss_values : 0.0000\n"
     ]
    },
    {
     "name": "stderr",
     "output_type": "stream",
     "text": [
      "4it [00:07,  1.92s/it]\n"
     ]
    },
    {
     "name": "stdout",
     "output_type": "stream",
     "text": [
      "MSE (test) : 5.820322513580322\n"
     ]
    },
    {
     "name": "stderr",
     "output_type": "stream",
     "text": [
      "0it [00:02, ?it/s]\n"
     ]
    },
    {
     "name": "stdout",
     "output_type": "stream",
     "text": [
      "Epoch [30/50], Step [1/15], Loss: 6.6323\n",
      "loss_values : 0.0000\n"
     ]
    },
    {
     "name": "stderr",
     "output_type": "stream",
     "text": [
      "4it [00:07,  1.89s/it]\n"
     ]
    },
    {
     "name": "stdout",
     "output_type": "stream",
     "text": [
      "MSE (test) : 5.669946670532227\n"
     ]
    },
    {
     "name": "stderr",
     "output_type": "stream",
     "text": [
      "0it [00:02, ?it/s]\n"
     ]
    },
    {
     "name": "stdout",
     "output_type": "stream",
     "text": [
      "Epoch [31/50], Step [1/15], Loss: 6.4258\n",
      "loss_values : 0.0000\n"
     ]
    },
    {
     "name": "stderr",
     "output_type": "stream",
     "text": [
      "4it [00:07,  1.96s/it]\n"
     ]
    },
    {
     "name": "stdout",
     "output_type": "stream",
     "text": [
      "MSE (test) : 5.515863418579102\n"
     ]
    },
    {
     "name": "stderr",
     "output_type": "stream",
     "text": [
      "0it [00:02, ?it/s]\n"
     ]
    },
    {
     "name": "stdout",
     "output_type": "stream",
     "text": [
      "Epoch [32/50], Step [1/15], Loss: 6.3035\n",
      "loss_values : 0.0000\n"
     ]
    },
    {
     "name": "stderr",
     "output_type": "stream",
     "text": [
      "4it [00:07,  1.91s/it]\n"
     ]
    },
    {
     "name": "stdout",
     "output_type": "stream",
     "text": [
      "MSE (test) : 5.372585773468018\n"
     ]
    },
    {
     "name": "stderr",
     "output_type": "stream",
     "text": [
      "0it [00:02, ?it/s]\n"
     ]
    },
    {
     "name": "stdout",
     "output_type": "stream",
     "text": [
      "Epoch [33/50], Step [1/15], Loss: 5.9818\n",
      "loss_values : 0.0000\n"
     ]
    },
    {
     "name": "stderr",
     "output_type": "stream",
     "text": [
      "4it [00:07,  1.83s/it]\n"
     ]
    },
    {
     "name": "stdout",
     "output_type": "stream",
     "text": [
      "MSE (test) : 5.210654258728027\n"
     ]
    },
    {
     "name": "stderr",
     "output_type": "stream",
     "text": [
      "0it [00:03, ?it/s]\n"
     ]
    },
    {
     "name": "stdout",
     "output_type": "stream",
     "text": [
      "Epoch [34/50], Step [1/15], Loss: 5.8707\n",
      "loss_values : 0.0000\n"
     ]
    },
    {
     "name": "stderr",
     "output_type": "stream",
     "text": [
      "4it [00:07,  1.97s/it]\n"
     ]
    },
    {
     "name": "stdout",
     "output_type": "stream",
     "text": [
      "MSE (test) : 5.026603698730469\n"
     ]
    },
    {
     "name": "stderr",
     "output_type": "stream",
     "text": [
      "0it [00:02, ?it/s]\n"
     ]
    },
    {
     "name": "stdout",
     "output_type": "stream",
     "text": [
      "Epoch [35/50], Step [1/15], Loss: 5.6260\n",
      "loss_values : 0.0000\n"
     ]
    },
    {
     "name": "stderr",
     "output_type": "stream",
     "text": [
      "4it [00:07,  1.80s/it]\n"
     ]
    },
    {
     "name": "stdout",
     "output_type": "stream",
     "text": [
      "MSE (test) : 4.865520477294922\n"
     ]
    },
    {
     "name": "stderr",
     "output_type": "stream",
     "text": [
      "0it [00:02, ?it/s]\n"
     ]
    },
    {
     "name": "stdout",
     "output_type": "stream",
     "text": [
      "Epoch [36/50], Step [1/15], Loss: 5.5135\n",
      "loss_values : 0.0000\n"
     ]
    },
    {
     "name": "stderr",
     "output_type": "stream",
     "text": [
      "4it [00:07,  1.88s/it]\n"
     ]
    },
    {
     "name": "stdout",
     "output_type": "stream",
     "text": [
      "MSE (test) : 4.721439838409424\n"
     ]
    },
    {
     "name": "stderr",
     "output_type": "stream",
     "text": [
      "0it [00:02, ?it/s]\n"
     ]
    },
    {
     "name": "stdout",
     "output_type": "stream",
     "text": [
      "Epoch [37/50], Step [1/15], Loss: 5.3810\n",
      "loss_values : 0.0000\n"
     ]
    },
    {
     "name": "stderr",
     "output_type": "stream",
     "text": [
      "4it [00:07,  1.92s/it]\n"
     ]
    },
    {
     "name": "stdout",
     "output_type": "stream",
     "text": [
      "MSE (test) : 4.572690010070801\n"
     ]
    },
    {
     "name": "stderr",
     "output_type": "stream",
     "text": [
      "0it [00:02, ?it/s]\n"
     ]
    },
    {
     "name": "stdout",
     "output_type": "stream",
     "text": [
      "Epoch [38/50], Step [1/15], Loss: 5.0671\n",
      "loss_values : 0.0000\n"
     ]
    },
    {
     "name": "stderr",
     "output_type": "stream",
     "text": [
      "4it [00:07,  1.81s/it]\n"
     ]
    },
    {
     "name": "stdout",
     "output_type": "stream",
     "text": [
      "MSE (test) : 4.44225549697876\n"
     ]
    },
    {
     "name": "stderr",
     "output_type": "stream",
     "text": [
      "0it [00:02, ?it/s]\n"
     ]
    },
    {
     "name": "stdout",
     "output_type": "stream",
     "text": [
      "Epoch [39/50], Step [1/15], Loss: 4.9888\n",
      "loss_values : 0.0000\n"
     ]
    },
    {
     "name": "stderr",
     "output_type": "stream",
     "text": [
      "4it [00:07,  1.85s/it]\n"
     ]
    },
    {
     "name": "stdout",
     "output_type": "stream",
     "text": [
      "MSE (test) : 4.319393157958984\n"
     ]
    },
    {
     "name": "stderr",
     "output_type": "stream",
     "text": [
      "0it [00:02, ?it/s]\n"
     ]
    },
    {
     "name": "stdout",
     "output_type": "stream",
     "text": [
      "Epoch [40/50], Step [1/15], Loss: 4.8293\n",
      "loss_values : 0.0000\n"
     ]
    },
    {
     "name": "stderr",
     "output_type": "stream",
     "text": [
      "4it [00:07,  1.83s/it]\n"
     ]
    },
    {
     "name": "stdout",
     "output_type": "stream",
     "text": [
      "MSE (test) : 4.187253475189209\n"
     ]
    },
    {
     "name": "stderr",
     "output_type": "stream",
     "text": [
      "0it [00:02, ?it/s]\n"
     ]
    },
    {
     "name": "stdout",
     "output_type": "stream",
     "text": [
      "Epoch [41/50], Step [1/15], Loss: 4.7507\n",
      "loss_values : 0.0000\n"
     ]
    },
    {
     "name": "stderr",
     "output_type": "stream",
     "text": [
      "4it [00:08,  2.07s/it]\n"
     ]
    },
    {
     "name": "stdout",
     "output_type": "stream",
     "text": [
      "MSE (test) : 4.075752258300781\n"
     ]
    },
    {
     "name": "stderr",
     "output_type": "stream",
     "text": [
      "0it [00:02, ?it/s]\n"
     ]
    },
    {
     "name": "stdout",
     "output_type": "stream",
     "text": [
      "Epoch [42/50], Step [1/15], Loss: 4.5821\n",
      "loss_values : 0.0000\n"
     ]
    },
    {
     "name": "stderr",
     "output_type": "stream",
     "text": [
      "4it [00:07,  1.89s/it]\n"
     ]
    },
    {
     "name": "stdout",
     "output_type": "stream",
     "text": [
      "MSE (test) : 3.9591760635375977\n"
     ]
    },
    {
     "name": "stderr",
     "output_type": "stream",
     "text": [
      "0it [00:02, ?it/s]\n"
     ]
    },
    {
     "name": "stdout",
     "output_type": "stream",
     "text": [
      "Epoch [43/50], Step [1/15], Loss: 4.3682\n",
      "loss_values : 0.0000\n"
     ]
    },
    {
     "name": "stderr",
     "output_type": "stream",
     "text": [
      "4it [00:07,  1.89s/it]\n"
     ]
    },
    {
     "name": "stdout",
     "output_type": "stream",
     "text": [
      "MSE (test) : 3.848170757293701\n"
     ]
    },
    {
     "name": "stderr",
     "output_type": "stream",
     "text": [
      "0it [00:02, ?it/s]\n"
     ]
    },
    {
     "name": "stdout",
     "output_type": "stream",
     "text": [
      "Epoch [44/50], Step [1/15], Loss: 4.3044\n",
      "loss_values : 0.0000\n"
     ]
    },
    {
     "name": "stderr",
     "output_type": "stream",
     "text": [
      "4it [00:07,  1.92s/it]\n"
     ]
    },
    {
     "name": "stdout",
     "output_type": "stream",
     "text": [
      "MSE (test) : 3.7534000873565674\n"
     ]
    },
    {
     "name": "stderr",
     "output_type": "stream",
     "text": [
      "0it [00:02, ?it/s]\n"
     ]
    },
    {
     "name": "stdout",
     "output_type": "stream",
     "text": [
      "Epoch [45/50], Step [1/15], Loss: 4.2840\n",
      "loss_values : 0.0000\n"
     ]
    },
    {
     "name": "stderr",
     "output_type": "stream",
     "text": [
      "4it [00:07,  1.88s/it]\n"
     ]
    },
    {
     "name": "stdout",
     "output_type": "stream",
     "text": [
      "MSE (test) : 3.6535110473632812\n"
     ]
    },
    {
     "name": "stderr",
     "output_type": "stream",
     "text": [
      "0it [00:02, ?it/s]\n"
     ]
    },
    {
     "name": "stdout",
     "output_type": "stream",
     "text": [
      "Epoch [46/50], Step [1/15], Loss: 4.1410\n",
      "loss_values : 0.0000\n"
     ]
    },
    {
     "name": "stderr",
     "output_type": "stream",
     "text": [
      "4it [00:08,  2.19s/it]\n"
     ]
    },
    {
     "name": "stdout",
     "output_type": "stream",
     "text": [
      "MSE (test) : 3.570467233657837\n"
     ]
    },
    {
     "name": "stderr",
     "output_type": "stream",
     "text": [
      "0it [00:02, ?it/s]\n"
     ]
    },
    {
     "name": "stdout",
     "output_type": "stream",
     "text": [
      "Epoch [47/50], Step [1/15], Loss: 3.9447\n",
      "loss_values : 0.0000\n"
     ]
    },
    {
     "name": "stderr",
     "output_type": "stream",
     "text": [
      "4it [00:06,  1.65s/it]\n"
     ]
    },
    {
     "name": "stdout",
     "output_type": "stream",
     "text": [
      "MSE (test) : 3.4874887466430664\n"
     ]
    },
    {
     "name": "stderr",
     "output_type": "stream",
     "text": [
      "0it [00:02, ?it/s]\n"
     ]
    },
    {
     "name": "stdout",
     "output_type": "stream",
     "text": [
      "Epoch [48/50], Step [1/15], Loss: 3.9495\n",
      "loss_values : 0.0000\n"
     ]
    },
    {
     "name": "stderr",
     "output_type": "stream",
     "text": [
      "4it [00:07,  1.96s/it]\n"
     ]
    },
    {
     "name": "stdout",
     "output_type": "stream",
     "text": [
      "MSE (test) : 3.4205667972564697\n"
     ]
    },
    {
     "name": "stderr",
     "output_type": "stream",
     "text": [
      "0it [00:03, ?it/s]\n"
     ]
    },
    {
     "name": "stdout",
     "output_type": "stream",
     "text": [
      "Epoch [49/50], Step [1/15], Loss: 3.8227\n",
      "loss_values : 0.0000\n"
     ]
    },
    {
     "name": "stderr",
     "output_type": "stream",
     "text": [
      "4it [00:08,  2.12s/it]\n"
     ]
    },
    {
     "name": "stdout",
     "output_type": "stream",
     "text": [
      "MSE (test) : 3.3600473403930664\n"
     ]
    },
    {
     "name": "stderr",
     "output_type": "stream",
     "text": [
      "0it [00:03, ?it/s]\n"
     ]
    },
    {
     "name": "stdout",
     "output_type": "stream",
     "text": [
      "Epoch [50/50], Step [1/15], Loss: 3.7921\n",
      "loss_values : 0.0000\n"
     ]
    },
    {
     "name": "stderr",
     "output_type": "stream",
     "text": [
      "4it [00:08,  2.12s/it]\n"
     ]
    },
    {
     "name": "stdout",
     "output_type": "stream",
     "text": [
      "MSE (test) : 3.296379804611206\n"
     ]
    }
   ],
   "source": [
    "%load_ext autoreload\n",
    "%autoreload\n",
    "from v1_NormalNN            import Model2CnvGistic\n",
    "from my_utils.model_helpers import train_and_test_model\n",
    "\n",
    "torch.manual_seed(42)\n",
    "device = torch.device(\"cuda\" if torch.cuda.is_available() else \"cpu\")\n",
    "print(f\"Device: {device}\")\n",
    "\n",
    "# ---------- #\n",
    "# INITIALIZE #\n",
    "# ---------- #\n",
    "model_cnv_picnic = Model2CnvGistic().to(device)\n",
    "loss_func = nn.MSELoss()\n",
    "optimizer = torch.optim.Adam(params = model_cnv_picnic.parameters(), \n",
    "                             lr     = learning_rate)\n",
    "\n",
    "# ---------------- #\n",
    "# TRAIN & EVALUATE #\n",
    "# ---------------- #\n",
    "model_cnv_picnic, loss_values_cnv_picnic__train, loss_values_cnv_picnic__test = train_and_test_model(modeling_dataset = modeling_dataset_converted,\n",
    "                                                                                                     model            = model_cnv_picnic,\n",
    "                                                                                                     criterion        = loss_func,\n",
    "                                                                                                     optimizer        = optimizer,\n",
    "                                                                                                     num_epochs       = NUM_EPOCHS,\n",
    "                                                                                                     device           = device,\n",
    "                                                                                                     train_loader     = train_loader,\n",
    "                                                                                                     test_loader      = test_loader)"
   ]
  },
  {
   "cell_type": "markdown",
   "metadata": {},
   "source": [
    "### Performance Visualization"
   ]
  },
  {
   "cell_type": "code",
   "execution_count": 44,
   "metadata": {},
   "outputs": [
    {
     "name": "stdout",
     "output_type": "stream",
     "text": [
      "\n",
      "TRAIN\n",
      "    min  : 3.79211283\n",
      "    mean : 6.62641574\n",
      "    max  : 11.56258011\n",
      "    sd   : 1.78055143\n",
      "TEST\n",
      "    min  : 3.29637980\n",
      "    mean : 5.72960806\n",
      "    max  : 9.61313057\n",
      "    sd   : 1.41519082\n",
      "\n"
     ]
    },
    {
     "data": {
      "image/png": "[encoded data removed]",
      "text/plain": [
       "<Figure size 720x360 with 1 Axes>"
      ]
     },
     "metadata": {},
     "output_type": "display_data"
    }
   ],
   "source": [
    "from matplotlib.ticker import FormatStrFormatter\n",
    "\n",
    "plt.rcParams[\"figure.figsize\"] = (10, 5)\n",
    "\n",
    "loss_values_cnv_picnic__train_backcalculated = [loss_v * len(modeling_dataset_converted) for loss_v in loss_values_cnv_picnic__train]\n",
    "\n",
    "fig, axs = plt.subplots(1)\n",
    "fig.suptitle(\"v1_NormalNN - Model2CnvGistic - Using CNV Picnic\");\n",
    "\n",
    "axs.plot(loss_values_cnv_picnic__train_backcalculated, linestyle='-', label='Train', color='C0'); # Train\n",
    "axs.plot(loss_values_cnv_picnic__test, linestyle='-', label='Test', color='C1'); # Test\n",
    "axs.legend();\n",
    "axs.ticklabel_format(style='plain');\n",
    "axs.set_xlim(0, NUM_EPOCHS, 1);\n",
    "axs.set_ylabel(\"MSE\");\n",
    "\n",
    "print(f\"\"\"\n",
    "TRAIN\n",
    "    min  : {np.min(loss_values_cnv_picnic__train_backcalculated):2.8f}\n",
    "    mean : {np.mean(loss_values_cnv_picnic__train_backcalculated):2.8f}\n",
    "    max  : {np.max(loss_values_cnv_picnic__train_backcalculated):2.8f}\n",
    "    sd   : {np.std(loss_values_cnv_gistic__train_backcalculated):2.8f}\n",
    "TEST\n",
    "    min  : {np.min(loss_values_cnv_picnic__test):2.8f}\n",
    "    mean : {np.mean(loss_values_cnv_picnic__test):2.8f}\n",
    "    max  : {np.max(loss_values_cnv_picnic__test):2.8f}\n",
    "    sd   : {np.std(loss_values_cnv_picnic__test):2.8f}\n",
    "\"\"\")"
   ]
  },
  {
   "cell_type": "markdown",
   "metadata": {},
   "source": [
    "### Save or Load Model"
   ]
  },
  {
   "cell_type": "code",
   "execution_count": 45,
   "metadata": {},
   "outputs": [],
   "source": [
    "torch.save(obj={\n",
    "            'epoch': NUM_EPOCHS,\n",
    "            'model_state_dict': model_cnv_picnic.state_dict(),\n",
    "            'optimizer_state_dict': optimizer.state_dict(),\n",
    "            'loss_func': loss_func,\n",
    "            'loss_values_train': loss_values_cnv_picnic__train_backcalculated,\n",
    "            'loss_values_test': loss_values_cnv_picnic__test,\n",
    "            },\n",
    "            f=PATH_TO_SAVE_MODELS_TO+'Model2CnvGistic__cnv_picnic.pkl')"
   ]
  },
  {
   "cell_type": "markdown",
   "metadata": {},
   "source": [
    "---\n",
    "\n",
    "## Comparison"
   ]
  },
  {
   "cell_type": "code",
   "execution_count": 55,
   "metadata": {},
   "outputs": [
    {
     "data": {
      "text/html": [
       "<div>\n",
       "<style scoped>\n",
       "    .dataframe tbody tr th:only-of-type {\n",
       "        vertical-align: middle;\n",
       "    }\n",
       "\n",
       "    .dataframe tbody tr th {\n",
       "        vertical-align: top;\n",
       "    }\n",
       "\n",
       "    .dataframe thead th {\n",
       "        text-align: right;\n",
       "    }\n",
       "</style>\n",
       "<table border=\"1\" class=\"dataframe\">\n",
       "  <thead>\n",
       "    <tr style=\"text-align: right;\">\n",
       "      <th></th>\n",
       "      <th>feature</th>\n",
       "      <th>loss_value</th>\n",
       "      <th>dataset</th>\n",
       "    </tr>\n",
       "  </thead>\n",
       "  <tbody>\n",
       "    <tr>\n",
       "      <th>37</th>\n",
       "      <td>cnv_gistic</td>\n",
       "      <td>7.671544</td>\n",
       "      <td>train</td>\n",
       "    </tr>\n",
       "    <tr>\n",
       "      <th>115</th>\n",
       "      <td>cnv_gistic</td>\n",
       "      <td>5.381312</td>\n",
       "      <td>train</td>\n",
       "    </tr>\n",
       "    <tr>\n",
       "      <th>34</th>\n",
       "      <td>cnv_gistic</td>\n",
       "      <td>7.617856</td>\n",
       "      <td>train</td>\n",
       "    </tr>\n",
       "    <tr>\n",
       "      <th>112</th>\n",
       "      <td>cnv_gistic</td>\n",
       "      <td>5.473936</td>\n",
       "      <td>train</td>\n",
       "    </tr>\n",
       "    <tr>\n",
       "      <th>73</th>\n",
       "      <td>cnv_gistic</td>\n",
       "      <td>6.931458</td>\n",
       "      <td>train</td>\n",
       "    </tr>\n",
       "  </tbody>\n",
       "</table>\n",
       "</div>"
      ],
      "text/plain": [
       "        feature loss_value dataset\n",
       "37   cnv_gistic   7.671544   train\n",
       "115  cnv_gistic   5.381312   train\n",
       "34   cnv_gistic   7.617856   train\n",
       "112  cnv_gistic   5.473936   train\n",
       "73   cnv_gistic   6.931458   train"
      ]
     },
     "execution_count": 55,
     "metadata": {},
     "output_type": "execute_result"
    }
   ],
   "source": [
    "train_loss_values = {\n",
    "    \"gene_expr\": loss_values2_backcalculated,\n",
    "    \"cnv_gistic\": loss_values_cnv_gistic__train_backcalculated,\n",
    "    \"cnv_picnic\": loss_values_cnv_picnic__train_backcalculated,\n",
    "}\n",
    "\n",
    "test_loss_values = {\n",
    "    \"gene_expr\": loss_values_test2,\n",
    "    \"cnv_gistic\": loss_values_cnv_gistic__test,\n",
    "    \"cnv_picnic\": loss_values_cnv_picnic__test,\n",
    "}\n",
    "\n",
    "df_train = pd.DataFrame(train_loss_values).stack().reset_index().sort_values(['level_1'])\n",
    "df_train['dataset'] = 'train'\n",
    "df_train.drop(['level_0'], inplace=True, axis=1)\n",
    "df_train.rename(columns={0: 'loss_value', 'level_1': 'feature'}, inplace=True)\n",
    "\n",
    "df_test = pd.DataFrame(test_loss_values).stack().reset_index().sort_values(['level_1'])\n",
    "df_test['dataset'] = 'test'\n",
    "df_test.drop(['level_0'], inplace=True, axis=1)\n",
    "df_test.rename(columns={0: 'loss_value', 'level_1': 'feature'}, inplace=True)\n",
    "\n",
    "df_total = pd.concat([df_train, df_test])\n",
    "df_total.head(5)"
   ]
  },
  {
   "cell_type": "code",
   "execution_count": 57,
   "metadata": {},
   "outputs": [
    {
     "data": {
      "text/plain": [
       "<AxesSubplot:xlabel='dataset', ylabel='loss_value'>"
      ]
     },
     "execution_count": 57,
     "metadata": {},
     "output_type": "execute_result"
    },
    {
     "data": {
      "image/png": "[encoded data removed]",
      "text/plain": [
       "<Figure size 720x360 with 1 Axes>"
      ]
     },
     "metadata": {},
     "output_type": "display_data"
    }
   ],
   "source": [
    "df_total['loss_value'] = df_total['loss_value'].astype('float')\n",
    "\n",
    "sns.violinplot(data=df_total, x='dataset', y='loss_value', hue='feature')"
   ]
  },
  {
   "cell_type": "markdown",
   "metadata": {},
   "source": [
    "### t-Test on the Significance of the Difference of the Means"
   ]
  },
  {
   "cell_type": "code",
   "execution_count": 81,
   "metadata": {},
   "outputs": [
    {
     "name": "stdout",
     "output_type": "stream",
     "text": [
      "Feature1    Feature2       var1     var2    mean1    mean2  <alpha=0.05      p-value\n",
      "----------  ----------  -------  -------  -------  -------  -------------  ---------\n",
      "Gene Expr   CNV Gistic  1.57732  2.38221  6.0691   5.62052  Identical       0.117777\n",
      "Gene Expr   CNV Picnic  1.57732  2.00276  5.62052  5.72961  Identical       0.687397\n",
      "CNV Gistic  CNV Picnic  2.38221  2.00276  6.0691   5.72961  Identical       0.259197\n"
     ]
    }
   ],
   "source": [
    "from scipy import stats\n",
    "from tabulate import tabulate\n",
    "\n",
    "ALPHA = .05\n",
    "\n",
    "losses_gene_expr = copy.deepcopy(loss_values_test2)\n",
    "losses_cnv_gistic = copy.deepcopy(loss_values_cnv_gistic__test)\n",
    "losses_cnv_picnic = copy.deepcopy(loss_values_cnv_picnic__test)\n",
    "\n",
    "mu_expr, mu_cnvg, mu_cnvp = np.mean(losses_gene_expr), np.mean(losses_cnv_gistic), np.mean(losses_cnv_picnic)\n",
    "sd2_expr, sd2_cnvg, sd2_cnvp = np.var(losses_gene_expr), np.var(losses_cnv_gistic), np.var(losses_cnv_picnic)\n",
    "\n",
    "# Test all different permutations.\n",
    "_, pvalue_expr_vs_gistic = stats.ttest_ind(losses_gene_expr, losses_cnv_gistic)\n",
    "_, pvalue_expr_vs_picnic = stats.ttest_ind(losses_gene_expr, losses_cnv_picnic)\n",
    "_, pvalue_gistic_vs_picnic = stats.ttest_ind(losses_cnv_gistic, losses_cnv_picnic)\n",
    "\n",
    "def get_answer_of_ttest(pvalue, alpha=ALPHA):\n",
    "    return 'Different' if pvalue < alpha else 'Identical'\n",
    "\n",
    "print(tabulate(\n",
    "    [\n",
    "        ['Gene Expr', 'CNV Gistic', sd2_expr, sd2_cnvg, mu_cnvg, mu_expr, \n",
    "          get_answer_of_ttest(pvalue_expr_vs_gistic), pvalue_expr_vs_gistic],\n",
    "        ['Gene Expr', 'CNV Picnic', sd2_expr, sd2_cnvp, mu_expr, mu_cnvp, \n",
    "          get_answer_of_ttest(pvalue_expr_vs_picnic), pvalue_expr_vs_picnic],          \n",
    "        ['CNV Gistic', 'CNV Picnic', sd2_cnvg, sd2_cnvp, mu_cnvg, mu_cnvp, \n",
    "          get_answer_of_ttest(pvalue_gistic_vs_picnic), pvalue_gistic_vs_picnic],  \n",
    "    ], headers=['Feature1', 'Feature2', 'var1', 'var2', 'mean1', 'mean2', f'<alpha={ALPHA}', 'p-value']      \n",
    "))"
   ]
  },
  {
   "cell_type": "markdown",
   "metadata": {},
   "source": [
    "__Conclusions__: \n",
    "- Even though the t-tests all state that the means are not significantly different from one another, the assumption of a t-test, which is that the variances of both groups are equal, is not met.\n",
    "- Thus, we can't trust the result."
   ]
  },
  {
   "cell_type": "markdown",
   "metadata": {},
   "source": [
    "---\n",
    "\n",
    "## Todos\n",
    "\n",
    "- [x] t-test on the means of the loss values of different groups\n",
    "- [ ] normalize ic50 values by calculating the mean per drug group\n",
    "- [ ] Check issue with different feature performance\n",
    "- [ ] Different loss functions\n",
    "- [ ] Build net for mutations data\n",
    "- [ ] Run GNN with gene expr, cnv gistic and cnv picnic\n",
    "- [ ] Regr and random forest "
   ]
  },
  {
   "cell_type": "code",
   "execution_count": null,
   "metadata": {},
   "outputs": [],
   "source": []
  }
 ],
 "metadata": {
  "interpreter": {
   "hash": "c78b81650a0bd32063743affb6953ff71b1a0dba806fbca9e2db842718495748"
  },
  "kernelspec": {
   "display_name": "Python 3.10.4 ('master-thesis-log')",
   "language": "python",
   "name": "python3"
  },
  "language_info": {
   "codemirror_mode": {
    "name": "ipython",
    "version": 3
   },
   "file_extension": ".py",
   "mimetype": "text/x-python",
   "name": "python",
   "nbconvert_exporter": "python",
   "pygments_lexer": "ipython3",
   "version": "3.10.4"
  },
  "orig_nbformat": 4
 },
 "nbformat": 4,
 "nbformat_minor": 2
}
