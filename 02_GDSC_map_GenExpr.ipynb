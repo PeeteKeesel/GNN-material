{
 "cells": [
  {
   "cell_type": "code",
   "execution_count": null,
   "metadata": {},
   "outputs": [],
   "source": [
    "import sys\n",
    "import torch\n",
    "import time\n",
    "import numpy as np\n",
    "import pandas as pd\n",
    "import matplotlib.pyplot as plt \n",
    "import seaborn as sns\n",
    "\n",
    "sns.set_theme(style=\"white\")"
   ]
  },
  {
   "cell_type": "markdown",
   "metadata": {},
   "source": [
    "# GDSC & Gene Expression Insights\n",
    "\n",
    "This notebook is intended to get an overview about the data sources provided by the GDSC database."
   ]
  },
  {
   "cell_type": "code",
   "execution_count": null,
   "metadata": {},
   "outputs": [],
   "source": [
    "device = torch.device(\"cpu\")\n",
    "\n",
    "print(f\"\"\"\n",
    "    Python version:   {sys.version}\n",
    "    PyTorch version:  {torch.__version__}\n",
    "    Device:           {device}\n",
    "    CUDA available:   {torch.cuda.is_available()}\n",
    "\"\"\")"
   ]
  },
  {
   "cell_type": "code",
   "execution_count": null,
   "metadata": {},
   "outputs": [],
   "source": [
    "!pwd\n",
    "!ls -lh ../../datasets/gdsc/screening_data | grep '/\\|[xlsx|csv]$' | sort"
   ]
  },
  {
   "cell_type": "markdown",
   "metadata": {},
   "source": [
    "Different __Screening Data__ from the [GDSC's download page](https://www.cancerrxgene.org/downloads/bulk_download) has been saved in the folder above. The description to each file compared to the website is as follows: \n",
    "- __Drug Screening - IC50s__\n",
    "  - __GDSC1-dataset__: `GDSC1_fitted_dose_response_25Feb20.xlsx`\n",
    "  - __GDSC2-dataset__: `GDSC2_fitted_dose_response_25Feb20.xlsx`\n",
    "- __Drug Screening - Raw data__: \n",
    "  - __GDSC1-raw-data__: `GDSC1_public_raw_data_25Feb20.csv`\n",
    "  - __GDSC2-raw-data__: `GDSC2_public_raw_data_25Feb20.csv`\n",
    "- __All cell lines screened__: `Cell_Lines_Details.xlsx`\n",
    "\n",
    "In the following we will investigate each of these data sources."
   ]
  },
  {
   "cell_type": "markdown",
   "metadata": {},
   "source": [
    "## Drug Screening"
   ]
  },
  {
   "cell_type": "code",
   "execution_count": null,
   "metadata": {},
   "outputs": [],
   "source": [
    "PATH_TO_GDSC_SCREENING_DATA = '../../datasets/gdsc/screening_data/'\n",
    "PATH_TO_SAVE_DATA_TO = '../../datasets/gdsc/my_datasets/'"
   ]
  },
  {
   "cell_type": "markdown",
   "metadata": {},
   "source": [
    "### IC50s"
   ]
  },
  {
   "cell_type": "code",
   "execution_count": null,
   "metadata": {},
   "outputs": [],
   "source": [
    "GDSC1_IC50_FILE = 'GDSC1_fitted_dose_response_25Feb20.xlsx'\n",
    "GDSC2_IC50_FILE = 'GDSC2_fitted_dose_response_25Feb20.xlsx'"
   ]
  },
  {
   "cell_type": "code",
   "execution_count": null,
   "metadata": {},
   "outputs": [],
   "source": [
    "# Read the IC50 files.\n",
    "\n",
    "# GDSC1\n",
    "start = time.time()\n",
    "gdsc1_ic50s = pd.read_excel(f'{PATH_TO_GDSC_SCREENING_DATA}{GDSC1_IC50_FILE}', header=0)\n",
    "print(f\"File `{GDSC1_IC50_FILE}` took {time.time()-start:.5f} seconds to import. It has shape {gdsc1_ic50s.shape}\")\n",
    "\n",
    "# GDSC2\n",
    "start = time.time()\n",
    "gdsc2_ic50s = pd.read_excel(f'{PATH_TO_GDSC_SCREENING_DATA}{GDSC2_IC50_FILE}', header=0)\n",
    "print(f\"File `{GDSC2_IC50_FILE}` took {time.time()-start:.5f} seconds to import. It has shape {gdsc2_ic50s.shape}\")"
   ]
  },
  {
   "cell_type": "code",
   "execution_count": null,
   "metadata": {},
   "outputs": [],
   "source": [
    "gdsc1_ic50s.head(5)"
   ]
  },
  {
   "cell_type": "code",
   "execution_count": null,
   "metadata": {},
   "outputs": [],
   "source": [
    "gdsc2_ic50s.head(5)"
   ]
  },
  {
   "cell_type": "markdown",
   "metadata": {},
   "source": [
    "- GDSC1 contains $310,904$ rows\n",
    "- GDSC2 contains $135,242$ rows\n",
    "\n",
    "Each dataset contains the same $19$ columns. They hold the following informations (which were taken from [here](ftp://ftp.sanger.ac.uk/pub/project/cancerrxgene/releases/current_release/GDSC_Fitted_Data_Description.pdf)):\n",
    "\n",
    "- A description of the columns can be found in `knowledge_base/table_contents.md` under `Drug Screening - IC50s`.\n",
    "\n",
    "The tables contain the IC50 values (`LN_IC50`) for specific drugs (`DRUG_NAME`) on cancer cell lines (`CELL_LINE_NAME`). Thus, they hold information about how specific drugs influence the killing of cancer cells."
   ]
  },
  {
   "cell_type": "markdown",
   "metadata": {},
   "source": [
    "#### EDA\n",
    "\n",
    "__Questions to answer__: \n",
    "\n",
    "- [x] How many unique drugs, cell-lines and cell-line-drug combinations are there (per database)? \n",
    "- [x] How many number of observations does each drug (`DRUG_NAME`) have (per database)? \n",
    "- [x] How many number of observations does each cell line (`CELL_LINE_NAME`) have (per database)?\n",
    "- [x] How are the IC50 values distributed (per database)?\n",
    "\n",
    "__Tasks__:\n",
    "- [x] Thin out genes by using landmark gene list.\n",
    "- [ ] Build GDSC base table including gene expression data\n",
    "- [ ] Add to GDSC base table Copy Number Variation data\n",
    "- [ ] Add to GDSC base table Mutation data"
   ]
  },
  {
   "cell_type": "code",
   "execution_count": null,
   "metadata": {},
   "outputs": [],
   "source": [
    "gdsc2_ic50s[['DRUG_ID', 'CELL_LINE_NAME']].shape"
   ]
  },
  {
   "cell_type": "code",
   "execution_count": null,
   "metadata": {},
   "outputs": [],
   "source": [
    "columns = ['DRUG_NAME', 'CELL_LINE_NAME', ['DRUG_NAME', 'CELL_LINE_NAME'], 'DRUG_ID']\n",
    "\n",
    "for col in columns:\n",
    "  gdsc1_uniq, gdsc2_uniq = np.unique(gdsc1_ic50s[col]), np.unique(gdsc2_ic50s[col])\n",
    "\n",
    "  print(f\"\"\"\n",
    "      Number of unique {col}'s \n",
    "          - for GDSC1 is {gdsc1_uniq.size}\n",
    "          - for GDSC2 is {gdsc2_uniq.size}\n",
    "          - in total for both is {set(gdsc1_uniq.tolist() + gdsc2_uniq.tolist()).__len__()}\n",
    "            Thus, {(gdsc1_uniq.size+gdsc2_uniq.size) - set(gdsc1_uniq.tolist() + gdsc2_uniq.tolist()).__len__()} {col}'s are contained in both databases (since the full join is {(gdsc1_uniq.size+gdsc2_uniq.size)}).\n",
    "  \"\"\")"
   ]
  },
  {
   "cell_type": "code",
   "execution_count": null,
   "metadata": {},
   "outputs": [],
   "source": [
    "# Join both datasets for analysis purposes.\n",
    "gdsc_ic50s_join = pd.concat([gdsc1_ic50s, gdsc2_ic50s], ignore_index=True)\n",
    "assert gdsc_ic50s_join[gdsc_ic50s_join.index.duplicated()].shape[0] == 0\n",
    "assert gdsc_ic50s_join.shape[0] == gdsc1_ic50s.shape[0] + gdsc2_ic50s.shape[0]"
   ]
  },
  {
   "cell_type": "markdown",
   "metadata": {},
   "source": [
    "- GDSC1-raw contains $5,837,703$ rows\n",
    "- GDSC2-raw contains $6,646,430$ rows\n",
    "\n",
    "Each dataset contains the same $18$ columns. They hold the following informations:\n",
    "\n",
    "- A description of the columns can be found in `knowledge_base/table_contents.md` under `Drug Screening - Raw data`."
   ]
  },
  {
   "cell_type": "markdown",
   "metadata": {},
   "source": [
    "1. We start by investigating the `DRUG_NAME` column."
   ]
  },
  {
   "cell_type": "code",
   "execution_count": null,
   "metadata": {},
   "outputs": [],
   "source": [
    "col = 'DRUG_NAME'"
   ]
  },
  {
   "cell_type": "code",
   "execution_count": null,
   "metadata": {},
   "outputs": [],
   "source": [
    "# How many number of observations does each drug have per database? \n",
    "gdsc_value_counts = gdsc_ic50s_join[['DATASET', col]].value_counts().to_frame().reset_index()\n",
    "gdsc_value_counts.rename(columns={0:'counts'}, inplace=True)\n",
    "gdsc_value_counts.head(-5)"
   ]
  },
  {
   "cell_type": "code",
   "execution_count": null,
   "metadata": {},
   "outputs": [],
   "source": [
    "# Distribution of counts per DRUG_NAME.\n",
    "\n",
    "figure, axs = plt.subplots(1, 2, figsize=(15, 5))\n",
    "figure.suptitle(f\"Counts of Data Points per {col} for GDSC1 & GDSC2\")\n",
    "\n",
    "sns.boxplot(data=gdsc_value_counts, x='counts', y='DATASET', linewidth=2, ax=axs[0]);\n",
    "axs[0].set_xlabel(f\"Count of Data Points per {col} Group\");\n",
    "sns.kdeplot(data=gdsc_value_counts, x='counts', hue='DATASET', linewidth=2, ax=axs[1]);\n",
    "axs[1].set_xlabel(f\"Count of Data Points per {col} Group\");"
   ]
  },
  {
   "cell_type": "markdown",
   "metadata": {},
   "source": [
    "- The counts per cell-line (`DRUG_NAME`) are not different strongly between the two databases.\n",
    "- Outliers are going in both directions, smaller as well as larger counts. This means, that there are some drugs for which their number of observations is relatively low and some where its relatively high."
   ]
  },
  {
   "cell_type": "code",
   "execution_count": null,
   "metadata": {},
   "outputs": [],
   "source": [
    "describes = []\n",
    "for db in ['GDSC1', 'GDSC2']:\n",
    "    print(f\"\\nDatabase `{db}`\\n{15*'-'}\")\n",
    "    describe = gdsc_value_counts[gdsc_value_counts.DATASET==db].counts.describe()\n",
    "    describes.append(describe)\n",
    "    print(describe)"
   ]
  },
  {
   "cell_type": "code",
   "execution_count": null,
   "metadata": {},
   "outputs": [],
   "source": [
    "print(f\"The drugs (`{col}`) for\")\n",
    "for i, db in enumerate(['GDSC1', 'GDSC2']):\n",
    "    print(f\"\"\" \n",
    "        - {db} have\n",
    "            - mostly (IQR) between {round(describes[i]['25%'])} and {round(describes[i]['75%'])} observations\n",
    "            - on average {round(describes[i]['mean'])} observations per drug. This corresponds to {100*round(describes[i]['mean'])/gdsc_ic50s_join[gdsc_ic50s_join.DATASET==db].shape[0]:2.2f}% out of all observations ({gdsc_ic50s_join[gdsc_ic50s_join.DATASET==db].shape[0]}) in {db}.\n",
    "    \"\"\")"
   ]
  },
  {
   "cell_type": "markdown",
   "metadata": {},
   "source": [
    "2. Now we investigate analogous the `CELL_LINE_NAME` column."
   ]
  },
  {
   "cell_type": "code",
   "execution_count": null,
   "metadata": {},
   "outputs": [],
   "source": [
    "col = 'CELL_LINE_NAME'"
   ]
  },
  {
   "cell_type": "code",
   "execution_count": null,
   "metadata": {},
   "outputs": [],
   "source": [
    "# How many number of observations does each drug have per database? \n",
    "gdsc_cell_line_value_counts = gdsc_ic50s_join[['DATASET', col]].value_counts().to_frame().reset_index()\n",
    "gdsc_cell_line_value_counts.rename(columns={0:'counts'}, inplace=True)\n",
    "gdsc_cell_line_value_counts.head(-5)"
   ]
  },
  {
   "cell_type": "code",
   "execution_count": null,
   "metadata": {},
   "outputs": [],
   "source": [
    "# Distribution of counts per CELL_LINE_NAME.\n",
    "\n",
    "figure, axs = plt.subplots(1, 2, figsize=(15, 5))\n",
    "figure.suptitle(f\"Counts of Data Points per {col} for GDSC1 & GDSC2\")\n",
    "\n",
    "sns.boxplot(data=gdsc_cell_line_value_counts, x='counts', y='DATASET', linewidth=2, ax=axs[0]);\n",
    "axs[0].set_xlabel(f\"Count of Data Points per {col} Group\");\n",
    "sns.kdeplot(data=gdsc_cell_line_value_counts, x='counts', hue='DATASET', linewidth=2, ax=axs[1]);\n",
    "axs[1].set_xlabel(f\"Count of Data Points per {col} Group\");"
   ]
  },
  {
   "cell_type": "markdown",
   "metadata": {},
   "source": [
    "- The counts per cell-line (`CELL_LINE_NAME`) different strongly between the two databases.\n",
    "- Outliers are mostly in the directions of smaller counts. This means, that it is more unlikely that cell-lines have relatively low counts."
   ]
  },
  {
   "cell_type": "code",
   "execution_count": null,
   "metadata": {},
   "outputs": [],
   "source": [
    "describes = []\n",
    "for db in ['GDSC1', 'GDSC2']:\n",
    "    print(f\"\\nDatabase `{db}`\\n{15*'-'}\")\n",
    "    describe = gdsc_cell_line_value_counts[gdsc_cell_line_value_counts.DATASET==db].counts.describe()\n",
    "    describes.append(describe)\n",
    "    print(describe)"
   ]
  },
  {
   "cell_type": "code",
   "execution_count": null,
   "metadata": {},
   "outputs": [],
   "source": [
    "print(f\"The cell-lines (`{col}`) for\")\n",
    "for i, db in enumerate(['GDSC1', 'GDSC2']):\n",
    "    print(f\"\"\" \n",
    "        - {db} have\n",
    "            - mostly (IQR) between {round(describes[i]['25%'])} and {round(describes[i]['75%'])} observations\n",
    "            - on average {round(describes[i]['mean'])} observations per cell-line. This corresponds to {100*round(describes[i]['mean'])/gdsc_ic50s_join[gdsc_ic50s_join.DATASET==db].shape[0]:2.2f}% out of all observations ({gdsc_ic50s_join[gdsc_ic50s_join.DATASET==db].shape[0]}) in {db}.\n",
    "    \"\"\")"
   ]
  },
  {
   "cell_type": "markdown",
   "metadata": {},
   "source": [
    "3. Investigation of the distribution of IC50 values."
   ]
  },
  {
   "cell_type": "code",
   "execution_count": null,
   "metadata": {},
   "outputs": [],
   "source": [
    "# Compare general IC50 distribution for both GDSC datasets.\n",
    "print(\"IC50 Distributions:\")\n",
    "describes = []\n",
    "for db in ['GDSC1', 'GDSC2']:\n",
    "    print(f\"\\nDatabase `{db}`\\n{15*'-'}\")\n",
    "    describe = np.exp(gdsc_ic50s_join[gdsc_ic50s_join.DATASET==db].LN_IC50).describe()\n",
    "    describes.append(describe)\n",
    "    print(describe)"
   ]
  },
  {
   "cell_type": "code",
   "execution_count": null,
   "metadata": {},
   "outputs": [],
   "source": [
    "print(f\"The IC50 values for\")\n",
    "for i, db in enumerate(['GDSC1', 'GDSC2']):\n",
    "    print(f\"\"\" \n",
    "        - {db} have\n",
    "            - mostly (IQR) a value between {round(describes[i]['25%'])} and {round(describes[i]['75%'])}\n",
    "            - on average a value of {round(describes[i]['mean'])}.\n",
    "    \"\"\")"
   ]
  },
  {
   "cell_type": "markdown",
   "metadata": {},
   "source": [
    "_Note_: \n",
    "- If the IC50 value is high, this indicates that the cell line developed a resistent to the agent (drug)."
   ]
  },
  {
   "cell_type": "code",
   "execution_count": null,
   "metadata": {},
   "outputs": [],
   "source": [
    "# Distribution of the IC50 values.\n",
    "\n",
    "figure, axs = plt.subplots(2, 2, figsize=(15, 10))\n",
    "figure.suptitle(f\"Distributions of the ln(IC50) and IC50 values \\n for GDSC1 & GDSC2\")\n",
    "\n",
    "sns.boxplot(data=gdsc_ic50s_join, y='DATASET', x='LN_IC50', linewidth=2, ax=axs[0, 0]);\n",
    "axs[0, 0].set_xlabel(f\"ln(IC50)\");\n",
    "sns.boxplot(y=gdsc_ic50s_join.DATASET, x=np.exp(gdsc_ic50s_join.LN_IC50), linewidth=2, ax=axs[0, 1]);\n",
    "axs[0, 1].set_xlabel(f\"IC50\");\n",
    "sns.kdeplot(data=gdsc_ic50s_join, hue='DATASET', x='LN_IC50', linewidth=2, ax=axs[1, 0]);\n",
    "axs[1, 0].set_xlabel(f\"ln(IC50)\");\n",
    "sns.kdeplot(hue=gdsc_ic50s_join.DATASET, x=np.exp(gdsc_ic50s_join.LN_IC50), linewidth=2, ax=axs[1, 1]);\n",
    "axs[1, 1].set_xlabel(f\"IC50\");"
   ]
  },
  {
   "cell_type": "markdown",
   "metadata": {},
   "source": [
    "- The distribution of the $ln(IC50)$ values is very similar between the two databases GDSC1 and GDSC2.\n",
    "- There are a lot of outliers existent. Thus many cell-lines developed resistence against a specific drug. However, for now it is unclear if this conclusion can also be made for very few cell-lines but a lot of drugs or for many cell-lines but then only for a few drugs."
   ]
  },
  {
   "cell_type": "markdown",
   "metadata": {},
   "source": [
    "### Raw Data"
   ]
  },
  {
   "cell_type": "code",
   "execution_count": null,
   "metadata": {},
   "outputs": [],
   "source": [
    "GDSC1_RAW_FILE = 'GDSC1_public_raw_data_25Feb20.csv'\n",
    "GDSC2_RAW_FILE = 'GDSC2_public_raw_data_25Feb20.csv'"
   ]
  },
  {
   "cell_type": "code",
   "execution_count": null,
   "metadata": {},
   "outputs": [],
   "source": [
    "# Read the raw files.\n",
    "\n",
    "# GDSC1\n",
    "start = time.time()\n",
    "gdsc1_raw = pd.read_csv(f'{PATH_TO_GDSC_SCREENING_DATA}{GDSC1_RAW_FILE}', header=0)\n",
    "print(f\"File `{GDSC1_RAW_FILE}` took {time.time()-start:.5f} seconds to import. It has shape {gdsc1_raw.shape}\")\n",
    "\n",
    "# GDSC2\n",
    "start = time.time()\n",
    "gdsc2_raw = pd.read_csv(f'{PATH_TO_GDSC_SCREENING_DATA}{GDSC2_RAW_FILE}', header=0)\n",
    "print(f\"File `{GDSC2_RAW_FILE}` took {time.time()-start:.5f} seconds to import. It has shape {gdsc2_raw.shape}\")"
   ]
  },
  {
   "cell_type": "code",
   "execution_count": null,
   "metadata": {},
   "outputs": [],
   "source": [
    "gdsc1_raw.head(5)"
   ]
  },
  {
   "cell_type": "code",
   "execution_count": null,
   "metadata": {},
   "outputs": [],
   "source": [
    "gdsc2_raw.head(5)"
   ]
  },
  {
   "cell_type": "markdown",
   "metadata": {},
   "source": [
    "- GDSC1-raw contains $5,837,703$ rows\n",
    "- GDSC2-raw contains $6,646,430$ rows\n",
    "\n",
    "Each dataset contains the same $18$ columns. They hold the following informations (which were taken from [here](ftp://ftp.sanger.ac.uk/pub/project/cancerrxgene/releases/current_release/GDSC_Raw_Data_Description.pdf)):\n",
    "\n",
    "- A description of the columns can be found in `knowledge_base/table_contents.md` under `Drug Screening - Raw data`.\n",
    "\n",
    "The table contains information about the concentration and intensity of a drug (`DRUG_ID`) in a specific cell line (`CELL_LINE_NAME`). Specifically it contains infromation about experiments which lead to this information."
   ]
  },
  {
   "cell_type": "code",
   "execution_count": null,
   "metadata": {},
   "outputs": [],
   "source": [
    "# Join both datasets for analysis purposes.\n",
    "gdsc_raw_join = pd.concat([gdsc1_raw, gdsc2_raw], ignore_index=True)\n",
    "assert gdsc_raw_join[gdsc_raw_join.index.duplicated()].shape[0] == 0\n",
    "assert gdsc_raw_join.shape[0] == gdsc1_raw.shape[0] + gdsc2_raw.shape[0]"
   ]
  },
  {
   "cell_type": "code",
   "execution_count": null,
   "metadata": {},
   "outputs": [],
   "source": [
    "columns = ['RESEARCH_PROJECT', 'CELL_LINE_NAME', 'DRUG_ID']\n",
    "\n",
    "for col in columns:\n",
    "  gdsc1_uniq, gdsc2_uniq = np.unique(gdsc1_raw[col]), np.unique(gdsc2_raw[col])\n",
    "\n",
    "  print(f\"\"\"\n",
    "      Number of unique {col}'s \n",
    "          - for GDSC1 is {gdsc1_uniq.size}\n",
    "          - for GDSC2 is {gdsc2_uniq.size}\n",
    "          - in total for both is {set(gdsc1_uniq.tolist() + gdsc2_uniq.tolist()).__len__()}\n",
    "            Thus, {(gdsc1_uniq.size+gdsc2_uniq.size) - set(gdsc1_uniq.tolist() + gdsc2_uniq.tolist()).__len__()} {col}'s are contained in both databases (since the full join is {(gdsc1_uniq.size+gdsc2_uniq.size)}).\n",
    "  \"\"\")"
   ]
  },
  {
   "cell_type": "markdown",
   "metadata": {},
   "source": [
    "- We can see that for the columns `CELL_LINE_NAME` & `DRUG_ID` the numbers of unique values for each database __are exactly the same as they were for the IC50 files from the `IC50s` section from above__.\n",
    "\n",
    "To validate that the cell-lines and drug ID's are actually the same we check if there are even any cell-lines and/or drugs which are in the raw files but not in the ic50 files, or vice versa."
   ]
  },
  {
   "cell_type": "code",
   "execution_count": null,
   "metadata": {},
   "outputs": [],
   "source": [
    "assert not set(np.unique(gdsc1_raw.CELL_LINE_NAME)) - set(np.unique(gdsc1_ic50s.CELL_LINE_NAME))\n",
    "assert not set(np.unique(gdsc2_raw.CELL_LINE_NAME)) - set(np.unique(gdsc2_ic50s.CELL_LINE_NAME))"
   ]
  },
  {
   "cell_type": "markdown",
   "metadata": {},
   "source": [
    "Thus, \n",
    "- the table in `GDSC1_fitted_dose_response_25Feb20.xlsx` holds exactly the same set of cell-lines (`CELL_LINE_NAME`) & drugs (`DRUG_ID`) as `GDSC1_public_raw_data_25Feb20.csv`.\n",
    "- the table in `GDSC2_fitted_dose_response_25Feb20.xlsx` holds exactly the same set of cell-lines (`CELL_LINE_NAME`) & drugs (`DRUG_ID`) as `GDSC2_public_raw_data_25Feb20.csv`.\n",
    "\n",
    "> __Conclusion__: we can inner join the raw table with the ic50 table on either cell-lines or drugs, without loosing any observations."
   ]
  },
  {
   "cell_type": "markdown",
   "metadata": {},
   "source": [
    "---\n",
    "## Join GDSC Data\n",
    "\n",
    "In this step we join GDSC raw data with the IC50 data."
   ]
  },
  {
   "cell_type": "code",
   "execution_count": null,
   "metadata": {},
   "outputs": [],
   "source": [
    "# First, we take a look at both - already joined (GDSC1 & GDSC2) - tables. \n",
    "# Raw table, from GDSC{1,2}_public_raw_data_25Feb20.csv\n",
    "gdsc_raw_join.head(3)"
   ]
  },
  {
   "cell_type": "code",
   "execution_count": null,
   "metadata": {},
   "outputs": [],
   "source": [
    "# IC50s table, from GDSC{1,2}_fitted_dose_response_25Feb20.xlsx\n",
    "gdsc_ic50s_join.head(3)"
   ]
  },
  {
   "cell_type": "code",
   "execution_count": null,
   "metadata": {},
   "outputs": [],
   "source": [
    "# Check for columns which are in both tables. We could join on these columns.\n",
    "list(set(gdsc_raw_join.columns) - (set(gdsc_raw_join.columns) - set(gdsc_ic50s_join.columns)))"
   ]
  },
  {
   "cell_type": "markdown",
   "metadata": {},
   "source": [
    "We will join on the tuple (`CELL_LINE_NAME`, `DRUG_ID`). \n",
    "- We left join the raw data on the IC50 data to have possibly the concentration of the drug. "
   ]
  },
  {
   "cell_type": "code",
   "execution_count": null,
   "metadata": {},
   "outputs": [],
   "source": [
    "cols_to_join_on = ['CELL_LINE_NAME', 'DRUG_ID']\n",
    "gdsc_ic50_raw_join = gdsc_ic50s_join.merge(gdsc_raw_join,\n",
    "                                           on=cols_to_join_on,\n",
    "                                           how='left',\n",
    "                                           suffixes=['_ic50', '_raw'])\n",
    "print(gdsc_ic50_raw_join.shape)\n",
    "\n",
    "if gdsc_ic50_raw_join.shape[0] > gdsc_ic50s_join.shape[0]:\n",
    "    print(f\"\"\"There are multiple {cols_to_join_on} entries in the raw GDSC table which match with the IC50 GDSC table.\n",
    "        number of rows after left join   : {gdsc_ic50_raw_join.shape[0]}\n",
    "        number of rows in the IC50 table : {gdsc_ic50s_join.shape[0]}\n",
    "        number of rows in the raw table  : {gdsc_raw_join.shape[0]}\n",
    "    \"\"\")"
   ]
  },
  {
   "cell_type": "code",
   "execution_count": null,
   "metadata": {},
   "outputs": [],
   "source": [
    "gdsc_ic50_raw_join.head(3)"
   ]
  },
  {
   "cell_type": "code",
   "execution_count": null,
   "metadata": {},
   "outputs": [],
   "source": [
    "gdsc_ic50_raw_join.columns"
   ]
  },
  {
   "cell_type": "markdown",
   "metadata": {},
   "source": [
    "We can exlude the following columns since they probably are not useful as features for building a model.\n"
   ]
  },
  {
   "cell_type": "code",
   "execution_count": null,
   "metadata": {},
   "outputs": [],
   "source": [
    "cols_to_exclude = [\n",
    "    # From IC50 table.\n",
    "    'NLME_RESULT_ID',\n",
    "    'NLME_CURVE_ID',\n",
    "    'SANGER_MODEL_ID',\n",
    "    'TCGA_DESC',\n",
    "    'PUTATIVE_TARGET',\n",
    "    'PATHWAY_NAME',\n",
    "    'COMPANY_ID',\n",
    "    'MIN_CONC',\n",
    "    'MAX_CONC',\n",
    "    # From RAW table.\n",
    "    'WEBRELEASE',\n",
    "    'RESEARCH_PROJECT',\n",
    "    'BARCODE', \n",
    "    'SCAN_ID', \n",
    "    'DATE_CREATED',\n",
    "    'SCAN_DATE',\n",
    "    'COSMIC_ID_raw',\n",
    "    'DRUGSET_ID',\n",
    "    'ASSAY',\n",
    "    'TAG'\n",
    "]"
   ]
  },
  {
   "cell_type": "code",
   "execution_count": null,
   "metadata": {},
   "outputs": [],
   "source": [
    "gdsc_sparsed_cols = gdsc_ic50_raw_join[list(set(gdsc_ic50_raw_join.columns) - set(cols_to_exclude))]\n",
    "gdsc_sparsed_cols = gdsc_sparsed_cols.rename(columns={'COSMIC_ID_ic50': 'COSMIC_ID'})\n",
    "gdsc_sparsed_cols.shape"
   ]
  },
  {
   "cell_type": "code",
   "execution_count": null,
   "metadata": {},
   "outputs": [],
   "source": [
    "gdsc_sparsed_cols.head(10)"
   ]
  },
  {
   "cell_type": "markdown",
   "metadata": {},
   "source": [
    "- There are clearly many observations per (`CELL_LINE_NAME`, `DRUG_ID`) since there are now different values for different concentrations. \n",
    "\n",
    "Let's check in the following how the number of duplicated rows, which only differ in `CONC` and `INTENSITY`, are distributed."
   ]
  },
  {
   "cell_type": "code",
   "execution_count": null,
   "metadata": {},
   "outputs": [],
   "source": [
    "# Distribution of counts per ('MASTER_CELL_ID', 'DRUG_ID', 'LN_IC50').\n",
    "group_cols = ['MASTER_CELL_ID', 'DRUG_ID', 'LN_IC50']\n",
    "\n",
    "figure, axs = plt.subplots(1, 2, figsize=(15, 5))\n",
    "figure.suptitle(f\"Counts of Rows per {group_cols} Group for GDSC1 & GDSC2\")\n",
    "\n",
    "sns.kdeplot(data=gdsc_sparsed_cols.groupby(group_cols).size().reset_index(name='Counts'), \n",
    "            x='Counts', linewidth=2, ax=axs[0]);\n",
    "axs[0].set_title(\"Counts per group with Outliers\");\n",
    "\n",
    "sns.boxplot(data=gdsc_sparsed_cols.groupby(group_cols).size().reset_index(name='Counts'), \n",
    "            x='Counts', showfliers=False, ax=axs[1]);\n",
    "axs[1].set_title(\"Counts per group without Outliers\");"
   ]
  },
  {
   "cell_type": "markdown",
   "metadata": {},
   "source": [
    "- Mostly we have between 7 and 12 observations per group.\n",
    "- This means there are mostly between 7 and 12 different concentrations and/or intensities per cell-line, drug tuple."
   ]
  },
  {
   "cell_type": "code",
   "execution_count": null,
   "metadata": {},
   "outputs": [],
   "source": [
    "# Since we don't want duplicates with the same LN_IC50 information in our data we will only take the rows with the maximal concentations.\n",
    "gdsc_without_duplicates = gdsc_sparsed_cols[gdsc_sparsed_cols.groupby(group_cols)['CONC'].transform('max') == gdsc_sparsed_cols['CONC']]\n",
    "gdsc_without_duplicates = gdsc_without_duplicates[gdsc_without_duplicates.groupby(group_cols)['INTENSITY'].transform('max') == gdsc_without_duplicates['INTENSITY']]\n",
    "gdsc_without_duplicates.shape"
   ]
  },
  {
   "cell_type": "code",
   "execution_count": null,
   "metadata": {},
   "outputs": [],
   "source": [
    "gdsc_without_duplicates.head(10)"
   ]
  },
  {
   "cell_type": "markdown",
   "metadata": {},
   "source": [
    "### Further Pre-Processing on GDSC"
   ]
  },
  {
   "cell_type": "code",
   "execution_count": null,
   "metadata": {},
   "outputs": [],
   "source": [
    "# Percent of NaN values per column\n",
    "100 * gdsc_without_duplicates.isna().sum() / gdsc_without_duplicates.shape[0]"
   ]
  },
  {
   "cell_type": "markdown",
   "metadata": {},
   "source": [
    "- `SEEDING_DENSITY` has nearly 40% missing values\n",
    "- `DURATION` has more then 25% missing values\n",
    "- Both columns can be removed"
   ]
  },
  {
   "cell_type": "code",
   "execution_count": null,
   "metadata": {},
   "outputs": [],
   "source": [
    "gdsc_v2 = gdsc_without_duplicates.loc[:, ~gdsc_without_duplicates.columns.isin(['SEEDING_DENSITY', 'DURATION'])]\n",
    "gdsc_v2.shape"
   ]
  },
  {
   "cell_type": "code",
   "execution_count": null,
   "metadata": {},
   "outputs": [],
   "source": [
    "gdsc_v2.head(5)"
   ]
  },
  {
   "cell_type": "markdown",
   "metadata": {},
   "source": [
    "> This dataset `gdsc_v2` can now be used to join features on."
   ]
  },
  {
   "cell_type": "markdown",
   "metadata": {},
   "source": [
    "---\n",
    "\n",
    "# Cell-lines"
   ]
  },
  {
   "cell_type": "code",
   "execution_count": null,
   "metadata": {},
   "outputs": [],
   "source": [
    "!pwd\n",
    "!ls -lh ../../datasets/gdsc/screening_data | grep '/\\|xlsx$' | sort"
   ]
  },
  {
   "cell_type": "markdown",
   "metadata": {},
   "source": [
    "In this section we will investigate the `Cell_Lines_Details.xlsx` file."
   ]
  },
  {
   "cell_type": "code",
   "execution_count": null,
   "metadata": {},
   "outputs": [],
   "source": [
    "CELL_LINE_DETAILS_FILE = 'Cell_Lines_Details.xlsx'"
   ]
  },
  {
   "cell_type": "code",
   "execution_count": null,
   "metadata": {},
   "outputs": [],
   "source": [
    "start = time.time()\n",
    "gdsc_cellline_details = pd.read_excel(f'{PATH_TO_GDSC_SCREENING_DATA}{CELL_LINE_DETAILS_FILE}', header=0)\n",
    "print(f\"File `{CELL_LINE_DETAILS_FILE}` took {time.time()-start:.5f} seconds to import. It has shape {gdsc_cellline_details.shape}\")\n",
    "gdsc_cellline_details.head(5)"
   ]
  },
  {
   "cell_type": "markdown",
   "metadata": {},
   "source": [
    "- The complete table contains information about all screened cell-lines.\n",
    "- Every row contains information about one cell-line."
   ]
  },
  {
   "cell_type": "markdown",
   "metadata": {},
   "source": [
    "---\n",
    "\n",
    "# Features\n",
    "\n",
    "In this section we are trying to map feature information to the tables from above. A list of data resources for such features can be found in [here](https://www.cancerrxgene.org/gdsc1000/GDSC1000_WebResources/Home.html)."
   ]
  },
  {
   "cell_type": "code",
   "execution_count": null,
   "metadata": {},
   "outputs": [],
   "source": [
    "PATH_TO_GDSC_DATASETS = '../../datasets/gdsc/'"
   ]
  },
  {
   "cell_type": "markdown",
   "metadata": {},
   "source": [
    "## Gene Expression Data"
   ]
  },
  {
   "cell_type": "code",
   "execution_count": null,
   "metadata": {},
   "outputs": [],
   "source": [
    "!pwd\n",
    "!ls -lh ../../datasets/gdsc | grep '/\\|[xlsx,csv,txt,zip]$' | sort"
   ]
  },
  {
   "cell_type": "markdown",
   "metadata": {},
   "source": [
    "The file `Cell_line_RMA_proc_basalExp.txt` is extracted from the zip file provided under the _Dataset_ link in [here](https://www.cancerrxgene.org/gdsc1000/GDSC1000_WebResources/Home.html) for the entry\n",
    "\n",
    "| Omic | DataType | Objects | Keywords | Details | Data item | \n",
    "| ---- | -------- | ------- | -------- | ------- | --------- | \n",
    "| `EXP`| Preprocessed | Cell-lines | RMA normalised expression data for cell-lines | RMA normalised basal expression profiles for all the cell-lines | [Dataset](https://www.cancerrxgene.org/gdsc1000/GDSC1000_WebResources//Data/preprocessed/Cell_line_RMA_proc_basalExp.txt.zip) |"
   ]
  },
  {
   "cell_type": "code",
   "execution_count": null,
   "metadata": {},
   "outputs": [],
   "source": [
    "start = time.time()\n",
    "gdsc_gene_expression = pd.read_csv(PATH_TO_GDSC_DATASETS + 'Cell_line_RMA_proc_basalExp.txt', sep=\"\\t\")\n",
    "print(f\"File `Cell_line_RMA_proc_basalExp.txt` took {time.time()-start:.5f} seconds to import. It has shape {gdsc_gene_expression.shape}\")\n",
    "gdsc_gene_expression.head(3)"
   ]
  },
  {
   "cell_type": "markdown",
   "metadata": {},
   "source": [
    "The table in `Cell_line_RMA_proc_basalExp.txt` contains\n",
    "- information about the gene expression for specific `COSMIC_ID`'s "
   ]
  },
  {
   "cell_type": "markdown",
   "metadata": {},
   "source": [
    "## Mapping"
   ]
  },
  {
   "cell_type": "code",
   "execution_count": null,
   "metadata": {},
   "outputs": [],
   "source": [
    "from external.gdsc_utils.GDSC_utils import get_gdsc_gene_expression"
   ]
  },
  {
   "cell_type": "code",
   "execution_count": null,
   "metadata": {},
   "outputs": [],
   "source": [
    "from typing import Optional, Set\n",
    "import io \n",
    "from pandas._libs.parsers import ParserError\n",
    "\n",
    "def get_gdsc_gene_expression(\n",
    "    \n",
    "    genes: Optional[Set] = None,\n",
    "    path_cell_annotations: str = \"data/GDSC/Cell_Lines_Details.csv\",\n",
    "    path_gene_expression: str = \"data/GDSC/Cell_line_RMA_proc_basalExp.txt\",\n",
    "):\n",
    "    \"\"\"\n",
    "    Return the gene expression dataframe(n_cells x n_genes)\n",
    "    for a set of gene symbols for all cell_lines of the GDSC cell line annotation file.\n",
    "    If the genes are None, return the data for all genes.\n",
    "    \"\"\"\n",
    "\n",
    "    gene_expression = pd.read_csv(path_gene_expression, sep=\"\\t\")\n",
    "\n",
    "    gene_expression = gene_expression.rename(columns={'GENE_SYMBOLS': 'Sample Name'}, level=0)\n",
    "\n",
    "    gene_expression = gene_expression.drop([\"GENE_title\"], axis=1).set_index(\n",
    "        \"Sample Name\"\n",
    "    )\n",
    "    gene_expression.index = gene_expression.index.astype(str)\n",
    "\n",
    "    # refactor column names to cosmic id and then map to cell-line name\n",
    "    ge_columns = [\n",
    "        x.split(\"DATA.\")[1] for x in list(gene_expression.columns)\n",
    "    ]  # remove \"DATA\" prefix\n",
    "    ge_columns = cosmic_ids_to_cell_line_names(\n",
    "        ge_columns, path_cell_annotations=path_cell_annotations\n",
    "    )\n",
    "    gene_expression.columns = ge_columns.astype(str)\n",
    "\n",
    "    if genes is None:\n",
    "        return gene_expression.T\n",
    "    else:\n",
    "        # filter out the genes\n",
    "        number_of_queried_genes = len(genes)\n",
    "        genes = set(gene_expression.index) & genes\n",
    "        print(\n",
    "            f\"no data for {number_of_queried_genes - len(genes)} of {number_of_queried_genes} queried genes.\"\n",
    "        )\n",
    "        gene_expression = gene_expression.loc[genes]\n",
    "\n",
    "    return gene_expression.T\n",
    "\n",
    "def cosmic_ids_to_cell_line_names(\n",
    "    cosmic_ids, path_cell_annotations=\"data/GDSC/Cell_Lines_Details.csv\"\n",
    "):\n",
    "    \"\"\"\n",
    "    transform a list of COSMIC ID's to a series of cell-line-names, indexed by the cosmic ID\n",
    "    using the cell annotations from https://www.cancerrxgene.org/downloads/bulk_download\n",
    "\n",
    "    \"\"\"\n",
    "\n",
    "    try:\n",
    "        if path_cell_annotations[-4:] == '.csv': \n",
    "            cell_line_data = pd.read_csv(path_cell_annotations, index_col=0)\n",
    "        elif path_cell_annotations[-5:] == '.xlsx':\n",
    "            cell_line_data = pd.read_excel(path_cell_annotations)\n",
    "    except ParserError:\n",
    "        csv_data = open(path_cell_annotations).read().replace(\"\\r\\n\", \"\\n\")\n",
    "        cell_line_data = pd.read_csv(io.StringIO(csv_data), encoding=\"unicode_escape\")\n",
    "\n",
    "    cosmic_ids_to_cell_line_name_dict = pd.Series(\n",
    "        cell_line_data[\"Sample Name\"].values,\n",
    "        index=cell_line_data[\"COSMIC identifier\"].fillna(-1).astype(int).values,\n",
    "    ).to_dict()\n",
    "\n",
    "    cell_line_names = []\n",
    "    unknown_cell_line_names = []\n",
    "    for cosmic_id in cosmic_ids:\n",
    "        try:\n",
    "\n",
    "            cell_line_names.append(cosmic_ids_to_cell_line_name_dict[int(cosmic_id)])\n",
    "\n",
    "        except (KeyError, ValueError):\n",
    "            cell_line_names.append(\"unknown_cosmic_\" + str(cosmic_id))\n",
    "            unknown_cell_line_names.append(cosmic_id)\n",
    "\n",
    "    if unknown_cell_line_names:\n",
    "        print(\n",
    "            \"Note: \"\n",
    "            + str(len(unknown_cell_line_names))\n",
    "            + \" Cosmic IDs not found in cell annotation data: \"\n",
    "        )\n",
    "        print(unknown_cell_line_names)\n",
    "\n",
    "    # check if cell_line_names are unique\n",
    "    unique_c = []\n",
    "    dup_c = []\n",
    "    for c in cell_line_names:\n",
    "        if not (c in unique_c):\n",
    "            unique_c.append(c)\n",
    "        else:\n",
    "            dup_c.append(c)\n",
    "    if dup_c:\n",
    "        print(\n",
    "            \"Warning: at least two cosmic IDs map to the same cell lines for the cell lines: \"\n",
    "        )\n",
    "        print(dup_c)\n",
    "\n",
    "    return pd.Series(cell_line_names, index=cosmic_ids)"
   ]
  },
  {
   "cell_type": "code",
   "execution_count": null,
   "metadata": {},
   "outputs": [],
   "source": [
    "# Return the gene expression dataframe(n_cells x n_genes) for a set of gene symbols for all cell_lines of the GDSC cell line annotation file.\n",
    "# If the genes are None, return the data for all genes.\n",
    "gene_expr = get_gdsc_gene_expression(\n",
    "    path_cell_annotations=f'{PATH_TO_GDSC_SCREENING_DATA}{CELL_LINE_DETAILS_FILE}',\n",
    "    path_gene_expression=PATH_TO_GDSC_DATASETS + 'Cell_line_RMA_proc_basalExp.txt'\n",
    ")"
   ]
  },
  {
   "cell_type": "code",
   "execution_count": null,
   "metadata": {},
   "outputs": [],
   "source": [
    "gene_expr.shape"
   ]
  },
  {
   "cell_type": "markdown",
   "metadata": {},
   "source": [
    "- There are $1,018$  cell-lines (rows in `gene_expr`)\n",
    "- Per cell-line there are gene expressions of $17,736$ genes (columns in `gene_expr`)"
   ]
  },
  {
   "cell_type": "code",
   "execution_count": null,
   "metadata": {},
   "outputs": [],
   "source": [
    "gene_expr.head(5)"
   ]
  },
  {
   "cell_type": "markdown",
   "metadata": {},
   "source": [
    "- Each `COSMIC_ID` has a corresponding `SAMPLE Name` in the `Cell_Lines_Details.xlsx` file, which is in the `gdsc_cellline_details` variable.\n",
    "- Each column in the variable `gene_expr` thus now holds per column the `COSMIC_ID` or `SAMPLE Name` respectively.\n",
    "- Rememeber: that `COSMIC_ID` <-> `MASTER_CELL_ID`\n",
    "- Each cell-line (`SAMPLE_NAME`) contains in the row gene expression levels for different genes. \n",
    "\n",
    "> __Summary__: The dataset `gene_expr` holds now feature information in the sense of the gene expression level (`TSPAN6`, `TNMD`, ...) per cell-line (`Sample Name`)."
   ]
  },
  {
   "cell_type": "code",
   "execution_count": null,
   "metadata": {},
   "outputs": [],
   "source": [
    "# The `gene_expr` table is a map from the cell-lines to the gene expression. It uses the the following two tables for that:\n",
    "# - gdsc_cellline_details : from 'Cell_Lines_Details.xlsx'\n",
    "# - gdsc_gene_expression  : from 'Cell_line_RMA_proc_basalExp.txt'\n",
    "gdsc_cellline_details.head(5)"
   ]
  },
  {
   "cell_type": "code",
   "execution_count": null,
   "metadata": {},
   "outputs": [],
   "source": [
    "# Here, except the 1st column, all other columns have as headers 'DATA.<COSMIC identifier>' where COSMIS identifier can be mapped to the Cell Line Details table.\n",
    "gdsc_gene_expression.loc[:, gdsc_gene_expression.columns != 'GENE_title'].head(5)"
   ]
  },
  {
   "cell_type": "markdown",
   "metadata": {},
   "source": [
    "## Sparsing the Feature Space\n",
    "\n",
    "Since the `gene_expr` table holds $17,737$ genes (columns) we are trying to sparse down this set of columns by using _LINCS landmark gene symbols_.\n",
    "\n",
    "- LINCS landmark gene symbols are in file `landmark_genes.csv`"
   ]
  },
  {
   "cell_type": "code",
   "execution_count": null,
   "metadata": {},
   "outputs": [],
   "source": [
    "FILENAME_LANDMARK_GENES = 'landmark_genes.csv' "
   ]
  },
  {
   "cell_type": "code",
   "execution_count": null,
   "metadata": {},
   "outputs": [],
   "source": [
    "start = time.time()\n",
    "landmark_genes = pd.read_csv(f'{PATH_TO_GDSC_DATASETS}{FILENAME_LANDMARK_GENES}', sep=\"\\t\")\n",
    "print(f\"File `{FILENAME_LANDMARK_GENES}` took {time.time()-start:.5f} seconds to import. It has shape {landmark_genes.shape}\")\n",
    "landmark_genes.head(3)"
   ]
  },
  {
   "cell_type": "code",
   "execution_count": null,
   "metadata": {},
   "outputs": [],
   "source": [
    "gene_expr.head(3)"
   ]
  },
  {
   "cell_type": "code",
   "execution_count": null,
   "metadata": {},
   "outputs": [],
   "source": [
    "# Check how many cell line columns of the gene expressions table are in the landmark gene file.\n",
    "\n",
    "count, cols_to_keep = 0, []\n",
    "for c in gene_expr.columns[gene_expr.columns != 'nan']:\n",
    "    if c in landmark_genes.Symbol.tolist(): \n",
    "        count += 1\n",
    "        cols_to_keep.append(c)\n",
    "        \n",
    "print(f\"\"\"\n",
    "    Out of {len(gene_expr.columns[gene_expr.columns != 'nan'])} non-nan columns in the gene expression file (`gene_expr`) {count} columns are respresented  in the landmark_genes.csv file.\n",
    "    Thus, {100*(1-count/len(gene_expr.columns[gene_expr.columns != 'nan'])):2.2f}% will get removed.\n",
    "\"\"\")\n"
   ]
  },
  {
   "cell_type": "markdown",
   "metadata": {},
   "source": [
    "Now we sparse down the columns in `gene_expr` from $17,419$ to all the ones we found in the `landmark_genes.csv` file und the `Symbol` column. This leaves us with $908$ columns. The remaining $94.79$% of all columns in `gene_expr` will get removed. "
   ]
  },
  {
   "cell_type": "code",
   "execution_count": null,
   "metadata": {},
   "outputs": [],
   "source": [
    "gene_expr_sparse = gene_expr[cols_to_keep]\n",
    "assert gene_expr_sparse.shape[1] == len(cols_to_keep)\n",
    "gene_expr_sparse.head(5)"
   ]
  },
  {
   "cell_type": "markdown",
   "metadata": {},
   "source": [
    "__Summary__:\n",
    "> `gene_expr_sparse` - Cell lines as index column and genes as columns, where the genes got sparsed down by using landmark gene information."
   ]
  },
  {
   "cell_type": "markdown",
   "metadata": {},
   "source": [
    "## Map Gene Expression to GDSC\n",
    "\n",
    "In this step we are going to map the gene expression information from the file `gene_expr_sparse` to the GDSC tables data. The objective is to have gene expression information as a feature for predicting IC50 values. We will join the two tables on the cell-line. \n",
    "- In the GDSC dataset the cell line is decoded in `CELL_LINE_NAME`. \n",
    "- In the gene expression dataset the cell line is in the index `Sample Name`.\n",
    "\n",
    "> __Goal__: Map the gene expression values to the IC50 values."
   ]
  },
  {
   "cell_type": "code",
   "execution_count": null,
   "metadata": {},
   "outputs": [],
   "source": [
    "gdsc_v2.head(3)"
   ]
  },
  {
   "cell_type": "code",
   "execution_count": null,
   "metadata": {},
   "outputs": [],
   "source": [
    "gene_expr_sparse.head(3)"
   ]
  },
  {
   "cell_type": "code",
   "execution_count": null,
   "metadata": {},
   "outputs": [],
   "source": [
    "col = 'CELL_LINE_NAME'\n",
    "\n",
    "uniq_gdsc, uniq_gene_expr = np.unique(gdsc_v2[col]), np.unique(gene_expr_sparse.index)\n",
    "print(f\"\"\"\n",
    "    Number of unique {col}'s \n",
    "        in the GDSC db                 : {len(uniq_gdsc)}\n",
    "        in the gene expression dataset : {len(uniq_gene_expr)}\n",
    "\n",
    "    Number of cell-lines in the GDSC which are not in the Gene Expression dataset: {len(set(uniq_gdsc) - set(uniq_gene_expr))}. \n",
    "    Thus, there will be no gene expression information for these cell-lines.\n",
    "\"\"\")\n"
   ]
  },
  {
   "cell_type": "code",
   "execution_count": null,
   "metadata": {},
   "outputs": [],
   "source": [
    "gene_expr_sparse.columns.name"
   ]
  },
  {
   "cell_type": "code",
   "execution_count": null,
   "metadata": {},
   "outputs": [],
   "source": [
    "gene_expr_sparse.index"
   ]
  },
  {
   "cell_type": "code",
   "execution_count": null,
   "metadata": {},
   "outputs": [],
   "source": [
    "gene_expr_sparse.loc['CAL-120']"
   ]
  },
  {
   "cell_type": "code",
   "execution_count": null,
   "metadata": {},
   "outputs": [],
   "source": [
    "cols_to_join_on = ['CELL_LINE_NAME']\n",
    "join_gdsc_geneexpr = gdsc_v2.merge(right       = gene_expr_sparse,\n",
    "                                   left_on     = cols_to_join_on,\n",
    "                                   right_index = True,\n",
    "                                   how         = 'left',\n",
    "                                   suffixes    = ['_gdsc', '_geneexpr'])\n",
    "print(join_gdsc_geneexpr.shape)"
   ]
  },
  {
   "cell_type": "code",
   "execution_count": null,
   "metadata": {},
   "outputs": [],
   "source": [
    "join_gdsc_geneexpr.head(10)"
   ]
  },
  {
   "cell_type": "code",
   "execution_count": null,
   "metadata": {},
   "outputs": [],
   "source": [
    "# As an example, here we can see that now multiple equal gene expression values are in the table for the same CELL_LINE_NAME.\n",
    "join_gdsc_geneexpr[join_gdsc_geneexpr.CELL_LINE_NAME=='MC-CAR'].head(10)"
   ]
  },
  {
   "cell_type": "markdown",
   "metadata": {},
   "source": [
    "- `join_gdsc_geneexpr` now contains the IC50 values for cell-line, drug combinations and in addition the gene expression values of the specific cell-line to multiple genes. "
   ]
  },
  {
   "cell_type": "code",
   "execution_count": null,
   "metadata": {},
   "outputs": [],
   "source": [
    "# Save the GDSC table with the gene expression information to a file.\n",
    "join_gdsc_geneexpr.to_pickle(f'{PATH_TO_SAVE_DATA_TO}joined_gdsc_geneexpr.pkl')"
   ]
  },
  {
   "cell_type": "markdown",
   "metadata": {},
   "source": [
    "---\n",
    "\n",
    "# Summary of all Tables\n",
    "\n",
    "| Dataset Name | Path | Important Columns | Description |\n",
    "| ------------ | ---- | ----------------- | ----------- |\n",
    "| `landmark_genes.csv` | `../datasets/gdsc` |  | |\n",
    "| `GDSC_compounds_inchi_key_with_smiles.csv` |  `../datasets/gdsc` | | |\n",
    "| `Cell_line_RMA_proc_basalExp.txt` |  `../datasets/gdsc` | - `Gene Symbols` <br> - `DATA.<COSMIC Identifier>` columns | Contains information about the gene expression for specific `COSMIC_ID`'s. |\n",
    "| `GDSC1_public_raw_data_25Feb20.csv` | `../datasets/gdsc/screening_data` | - `CELL_LINE_NAME` <br> - `COSMIC_ID` <br> - `DRUG_ID` <br> - `CELL_ID` <br> - `MASTER_CELL_ID` <br> - `CONC` | Contains information about the concentration and intensity of a drug (`DRUG_ID`) in a specific cell line (`CELL_LINE_NAME`) and the experiments which lead to this information. |\n",
    "| `GDSC2_public_raw_data_25Feb20.csv` | `../datasets/gdsc/screening_data` | - `CELL_LINE_NAME` <br> - `COSMIC_ID` <br> - `DRUG_ID` <br> - `CELL_ID` <br> - `MASTER_CELL_ID` <br> - `DRUG_ID` <br> - `CONC` | Contains information about the concentration and intensity of a drug (`DRUG_ID`) in a specific cell line (`CELL_LINE_NAME`) and the experiments which lead to this information. |\n",
    "| `GDSC1_fitted_dose_response_25Feb20.csv` | `../datasets/gdsc/screening_data` | - `CELL_LINE_NAME` <br> - `COSMIC_ID` <br> - `DRUG_ID` <br> - `LN_IC50` <br> - `AUC` | contain the IC50 values (`LN_IC50`) for specific drugs (`DRUG_NAME`) on cancer cell lines (`CELL_LINE_NAME`). Thus, they hold information about how specific drugs influence the killing of cancer cells. |\n",
    "| `GDSC2_fitted_dose_response_25Feb20.csv` | `../datasets/gdsc/screening_data` | - `CELL_LINE_NAME` <br> - `COSMIC_ID` <br> - `DRUG_ID` <br> - `LN_IC50` <br> - `AUC` | contain the IC50 values (`LN_IC50`) for specific drugs (`DRUG_NAME`) on cancer cell lines (`CELL_LINE_NAME`). Thus, they hold information about how specific drugs influence the killing of cancer cells. |\n",
    "| `Cell_line_Details.xlsx` | `../datasets/gdsc/screening_data` | - `Sample Name` <br> - `COSMIC identifier` | The complete table contains information about all screened cell-lines. Every row contains information about one cell-line. |"
   ]
  },
  {
   "cell_type": "code",
   "execution_count": null,
   "metadata": {},
   "outputs": [],
   "source": []
  }
 ],
 "metadata": {
  "interpreter": {
   "hash": "c78b81650a0bd32063743affb6953ff71b1a0dba806fbca9e2db842718495748"
  },
  "kernelspec": {
   "display_name": "Python 3.10.4 ('master-thesis-log')",
   "language": "python",
   "name": "python3"
  },
  "language_info": {
   "codemirror_mode": {
    "name": "ipython",
    "version": 3
   },
   "file_extension": ".py",
   "mimetype": "text/x-python",
   "name": "python",
   "nbconvert_exporter": "python",
   "pygments_lexer": "ipython3",
   "version": "3.10.4"
  },
  "orig_nbformat": 4
 },
 "nbformat": 4,
 "nbformat_minor": 2
}
