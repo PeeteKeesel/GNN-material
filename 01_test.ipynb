{
 "cells": [
  {
   "cell_type": "markdown",
   "metadata": {},
   "source": [
    "To download data from [GDSC database](https://www.cancerrxgene.org/downloads/bulk_download) the [gdsc tool](https://pypi.org/project/gdsctools/) can be used. For detailed installtion instructions follow [this guide](https://gdsctools.readthedocs.io/en/master/installation.html).\n",
    "\n",
    "### Install using Conda\n",
    "```\n",
    "conda install ipython\n",
    "conda config --add channels r\n",
    "conda config --add channels defaults\n",
    "conda config --add channels conda-forge\n",
    "conda config --add channels bioconda\n",
    "conda create --name gdsctools_env python=3.5\n",
    "source activate gdsctools_env\n",
    "conda install gdsctools\n",
    "```\n",
    "The last step will take a while.\n",
    "\n",
    "```\n",
    "    conda init zsh\n",
    "# reopen shell\n",
    "\n",
    "# activate environment\n",
    "    conda activate gdsctools_env\n",
    "\n",
    "# deactivate active environment\n",
    "    conda deactivate\n",
    "```\n",
    "\n",
    "- Choose the `gdsctools_env` kernel\n"
   ]
  },
  {
   "cell_type": "markdown",
   "metadata": {},
   "source": []
  }
 ],
 "metadata": {
  "interpreter": {
   "hash": "aee8b7b246df8f9039afb4144a1f6fd8d2ca17a180786b69acc140d282b71a49"
  },
  "kernelspec": {
   "display_name": "Python 3.9.0 64-bit",
   "language": "python",
   "name": "python3"
  },
  "language_info": {
   "codemirror_mode": {
    "name": "ipython",
    "version": 3
   },
   "file_extension": ".py",
   "mimetype": "text/x-python",
   "name": "python",
   "nbconvert_exporter": "python",
   "pygments_lexer": "ipython3",
   "version": "3.5.5"
  },
  "orig_nbformat": 4
 },
 "nbformat": 4,
 "nbformat_minor": 2
}
