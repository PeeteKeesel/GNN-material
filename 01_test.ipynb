{
 "cells": [
  {
   "cell_type": "markdown",
   "metadata": {},
   "source": [
    "To download data from [GDSC database](https://www.cancerrxgene.org/downloads/bulk_download) the [gdsc tool](https://pypi.org/project/gdsctools/) can be used. For detailed installtion instructions follow [this guide](https://gdsctools.readthedocs.io/en/master/installation.html).\n",
    "\n",
    "### Install using Conda\n",
    "```\n",
    "conda install ipython\n",
    "conda config --add channels r\n",
    "conda config --add channels defaults\n",
    "conda config --add channels conda-forge\n",
    "conda config --add channels bioconda\n",
    "conda create --name gdsctools_env python=3.5\n",
    "source activate gdsctools_env\n",
    "conda install gdsctools\n",
    "```\n",
    "The last step will take a while.\n",
    "\n",
    "```\n",
    "    conda init zsh\n",
    "# reopen shell\n",
    "\n",
    "# activate environment\n",
    "    conda activate gdsctools_env\n",
    "\n",
    "# deactivate active environment\n",
    "    conda deactivate\n",
    "```\n",
    "\n",
    "- Choose the `gdsctools_env` kernel\n",
    "\n",
    "## gdsctools \n",
    "- [Github repo](https://github.com/CancerRxGene/gdsctools)\n"
   ]
  },
  {
   "cell_type": "code",
   "execution_count": 3,
   "metadata": {},
   "outputs": [
    {
     "name": "stdout",
     "output_type": "stream",
     "text": [
      "Will be deprecated in future version of easydev\n"
     ]
    }
   ],
   "source": [
    "from gdsctools import ANOVA, ic50_test"
   ]
  },
  {
   "cell_type": "code",
   "execution_count": 5,
   "metadata": {},
   "outputs": [],
   "source": [
    "gdsc = ANOVA(ic50_test)\n",
    "gdsc.set_cancer_type('breast')"
   ]
  },
  {
   "cell_type": "code",
   "execution_count": 11,
   "metadata": {},
   "outputs": [
    {
     "data": {
      "text/plain": [
       "Number of drugs: 11\n",
       "Number of cell lines: 52\n",
       "Percentage of NA 0.23251748251748253\n",
       "\n",
       "Genomic features distribution\n",
       "Number of unique tissues 1 (breast)\n",
       "MSI column: yes\n",
       "MEDIA column: no\n",
       "\n",
       "There are 22 unique features distributed as\n",
       "- Mutation: 22\n",
       "- CNA (gain): 0\n",
       "- CNA (loss): 0"
      ]
     },
     "execution_count": 11,
     "metadata": {},
     "output_type": "execute_result"
    }
   ],
   "source": [
    "gdsc"
   ]
  },
  {
   "cell_type": "code",
   "execution_count": 12,
   "metadata": {},
   "outputs": [
    {
     "data": {
      "text/html": [
       "<div>\n",
       "<style>\n",
       "    .dataframe thead tr:only-child th {\n",
       "        text-align: right;\n",
       "    }\n",
       "\n",
       "    .dataframe thead th {\n",
       "        text-align: left;\n",
       "    }\n",
       "\n",
       "    .dataframe tbody tr th {\n",
       "        vertical-align: top;\n",
       "    }\n",
       "</style>\n",
       "<table border=\"1\" class=\"dataframe\">\n",
       "  <thead>\n",
       "    <tr style=\"text-align: right;\">\n",
       "      <th></th>\n",
       "      <th>ANOVA_FEATURE_pval</th>\n",
       "      <th>ANOVA_MEDIA_pval</th>\n",
       "      <th>ANOVA_MSI_pval</th>\n",
       "      <th>ANOVA_TISSUE_pval</th>\n",
       "      <th>DRUG_ID</th>\n",
       "      <th>DRUG_NAME</th>\n",
       "      <th>DRUG_TARGET</th>\n",
       "      <th>FEATURE</th>\n",
       "      <th>FEATURE_IC50_T_pval</th>\n",
       "      <th>FEATURE_IC50_effect_size</th>\n",
       "      <th>FEATURE_delta_MEAN_IC50</th>\n",
       "      <th>FEATURE_neg_Glass_delta</th>\n",
       "      <th>FEATURE_neg_IC50_sd</th>\n",
       "      <th>FEATURE_neg_logIC50_MEAN</th>\n",
       "      <th>FEATURE_pos_Glass_delta</th>\n",
       "      <th>FEATURE_pos_IC50_sd</th>\n",
       "      <th>FEATURE_pos_logIC50_MEAN</th>\n",
       "      <th>N_FEATURE_neg</th>\n",
       "      <th>N_FEATURE_pos</th>\n",
       "    </tr>\n",
       "  </thead>\n",
       "  <tbody>\n",
       "    <tr>\n",
       "      <th>1</th>\n",
       "      <td>0.007222</td>\n",
       "      <td>NaN</td>\n",
       "      <td>NaN</td>\n",
       "      <td>NaN</td>\n",
       "      <td>1047</td>\n",
       "      <td>NaN</td>\n",
       "      <td>NaN</td>\n",
       "      <td>TP53_mut</td>\n",
       "      <td>0.007222</td>\n",
       "      <td>1.05546</td>\n",
       "      <td>0.987604</td>\n",
       "      <td>0.649626</td>\n",
       "      <td>1.520266</td>\n",
       "      <td>3.384286</td>\n",
       "      <td>1.346767</td>\n",
       "      <td>0.733315</td>\n",
       "      <td>4.37189</td>\n",
       "      <td>9</td>\n",
       "      <td>35</td>\n",
       "    </tr>\n",
       "  </tbody>\n",
       "</table>\n",
       "</div>"
      ],
      "text/plain": [
       "   ANOVA_FEATURE_pval  ANOVA_MEDIA_pval  ANOVA_MSI_pval  ANOVA_TISSUE_pval  \\\n",
       "1            0.007222               NaN             NaN                NaN   \n",
       "\n",
       "   DRUG_ID  DRUG_NAME  DRUG_TARGET   FEATURE  FEATURE_IC50_T_pval  \\\n",
       "1     1047        NaN          NaN  TP53_mut             0.007222   \n",
       "\n",
       "   FEATURE_IC50_effect_size  FEATURE_delta_MEAN_IC50  FEATURE_neg_Glass_delta  \\\n",
       "1                   1.05546                 0.987604                 0.649626   \n",
       "\n",
       "   FEATURE_neg_IC50_sd  FEATURE_neg_logIC50_MEAN  FEATURE_pos_Glass_delta  \\\n",
       "1             1.520266                  3.384286                 1.346767   \n",
       "\n",
       "   FEATURE_pos_IC50_sd  FEATURE_pos_logIC50_MEAN  N_FEATURE_neg  N_FEATURE_pos  \n",
       "1             0.733315                   4.37189              9             35  "
      ]
     },
     "execution_count": 12,
     "metadata": {},
     "output_type": "execute_result"
    }
   ],
   "source": [
    "gdsc.anova_one_drug_one_feature(\n",
    "    drug_id=1047, \n",
    "    feature_name='TP53_mut')"
   ]
  },
  {
   "cell_type": "code",
   "execution_count": 13,
   "metadata": {},
   "outputs": [
    {
     "data": {
      "text/plain": [
       "['ABCB1_mut',\n",
       " 'AHNAK_mut',\n",
       " 'AKAP9_mut',\n",
       " 'APC_mut',\n",
       " 'ARAP3_mut',\n",
       " 'ARFGEF1_mut',\n",
       " 'ARFGEF2_mut',\n",
       " 'ARHGAP29_mut',\n",
       " 'ARHGEF6_mut',\n",
       " 'ARID1A_mut',\n",
       " 'ARID1B_mut',\n",
       " 'ARID4B_mut',\n",
       " 'ASH1L_mut',\n",
       " 'ASPM_mut',\n",
       " 'ASXL2_mut',\n",
       " 'ATM_mut',\n",
       " 'ATR_mut',\n",
       " 'ATRX_mut',\n",
       " 'BAP1_mut',\n",
       " 'BNC2_mut',\n",
       " 'BRAF_mut',\n",
       " 'TP53_mut']"
      ]
     },
     "execution_count": 13,
     "metadata": {},
     "output_type": "execute_result"
    }
   ],
   "source": [
    "gdsc.feature_names"
   ]
  },
  {
   "cell_type": "code",
   "execution_count": 14,
   "metadata": {},
   "outputs": [
    {
     "data": {
      "text/plain": [
       "['ASSOC_ID',\n",
       " 'FEATURE',\n",
       " 'DRUG_ID',\n",
       " 'DRUG_NAME',\n",
       " 'DRUG_TARGET',\n",
       " 'N_FEATURE_neg',\n",
       " 'N_FEATURE_pos',\n",
       " 'FEATURE_pos_logIC50_MEAN',\n",
       " 'FEATURE_neg_logIC50_MEAN',\n",
       " 'FEATURE_delta_MEAN_IC50',\n",
       " 'FEATURE_IC50_effect_size',\n",
       " 'FEATURE_neg_Glass_delta',\n",
       " 'FEATURE_pos_Glass_delta',\n",
       " 'FEATURE_neg_IC50_sd',\n",
       " 'FEATURE_pos_IC50_sd',\n",
       " 'FEATURE_IC50_T_pval',\n",
       " 'ANOVA_FEATURE_pval',\n",
       " 'ANOVA_TISSUE_pval',\n",
       " 'ANOVA_MSI_pval',\n",
       " 'ANOVA_MEDIA_pval',\n",
       " 'ANOVA_FEATURE_FDR']"
      ]
     },
     "execution_count": 14,
     "metadata": {},
     "output_type": "execute_result"
    }
   ],
   "source": [
    "gdsc.column_names"
   ]
  },
  {
   "cell_type": "code",
   "execution_count": 17,
   "metadata": {},
   "outputs": [
    {
     "data": {
      "text/plain": [
       "IC50 object <Nd=11, Nc=52>"
      ]
     },
     "execution_count": 17,
     "metadata": {},
     "output_type": "execute_result"
    }
   ],
   "source": [
    "gdsc.ic50"
   ]
  },
  {
   "cell_type": "code",
   "execution_count": 18,
   "metadata": {},
   "outputs": [
    {
     "data": {
      "text/plain": [
       "GenomicFeatures <Nc=52, Nf=22, Nt=1>"
      ]
     },
     "execution_count": 18,
     "metadata": {},
     "output_type": "execute_result"
    }
   ],
   "source": [
    "gdsc.features"
   ]
  },
  {
   "cell_type": "markdown",
   "metadata": {},
   "source": [
    "## Genomic Features\n",
    "- [Doc - Genomic Features](https://gdsctools.readthedocs.io/en/master/references.html#gdsctools.readers.GenomicFeatures)\n",
    "\n",
    "Read Matrix with Genomic Features\n",
    "\n",
    "These are the compulsary column names required (note the spaces):\n",
    "\n",
    "- `COSMIC_ID`\n",
    "- `TISSUE_FACTOR`\n",
    "- `MSI_FACTOR`\n",
    "\n",
    "and features can be also encoded with the following convention:\n",
    "\n",
    "- columns ending in `_mut` to encode a gene mutation (e.g., BRAF_mut)\n",
    "- columns starting with `gain_cna`\n",
    "- columns starting with `loss_cna`"
   ]
  },
  {
   "cell_type": "code",
   "execution_count": 20,
   "metadata": {},
   "outputs": [],
   "source": [
    "from gdsctools import GenomicFeatures"
   ]
  },
  {
   "cell_type": "code",
   "execution_count": 21,
   "metadata": {},
   "outputs": [
    {
     "name": "stdout",
     "output_type": "stream",
     "text": [
      "Genomic features distribution\n",
      "Number of unique tissues 27\n",
      "Here are the first 10 tissues: myeloma, nervous_system, soft_tissue, bone, lung_NSCLC, skin, Bladder, cervix, lung_SCLC, lung\n",
      "MSI column: yes\n",
      "MEDIA column: no\n",
      "\n",
      "There are 47 unique features distributed as\n",
      "- Mutation: 47\n",
      "- CNA (gain): 0\n",
      "- CNA (loss): 0\n"
     ]
    }
   ],
   "source": [
    "gf = GenomicFeatures()\n",
    "print(gf)"
   ]
  },
  {
   "cell_type": "code",
   "execution_count": null,
   "metadata": {},
   "outputs": [],
   "source": []
  }
 ],
 "metadata": {
  "interpreter": {
   "hash": "aee8b7b246df8f9039afb4144a1f6fd8d2ca17a180786b69acc140d282b71a49"
  },
  "kernelspec": {
   "display_name": "Python 3.9.0 64-bit",
   "language": "python",
   "name": "python3"
  },
  "language_info": {
   "codemirror_mode": {
    "name": "ipython",
    "version": 3
   },
   "file_extension": ".py",
   "mimetype": "text/x-python",
   "name": "python",
   "nbconvert_exporter": "python",
   "pygments_lexer": "ipython3",
   "version": "3.5.5"
  },
  "orig_nbformat": 4
 },
 "nbformat": 4,
 "nbformat_minor": 2
}
