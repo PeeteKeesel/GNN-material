{
 "cells": [
  {
   "cell_type": "code",
   "execution_count": 2,
   "metadata": {},
   "outputs": [],
   "source": [
    "import time\n",
    "import pickle\n",
    "import torch\n",
    "import copy\n",
    "import torch.nn          as nn\n",
    "import numpy             as np\n",
    "import pandas            as pd\n",
    "import matplotlib.pyplot as plt \n",
    "import seaborn           as sns\n",
    "\n",
    "from tqdm                   import tqdm\n",
    "from torch.utils.data       import Dataset, DataLoader\n",
    "from torch_geometric.loader import DataLoader as PyG_Dataloader\n",
    "\n",
    "from config import PATH_SUMMARY_DATASETS\n",
    "\n",
    "torch.manual_seed(42)\n",
    "sns.set_theme(style=\"white\")"
   ]
  },
  {
   "cell_type": "markdown",
   "metadata": {},
   "source": [
    "Goals of this notebooks.\n",
    "- [ ] Find out if the ln(ic50) values have significantly different distributions for the two datasets GDSC1 and GDSC2. If so, what can be done to combine both into a single dataset to get a larger training set?"
   ]
  },
  {
   "cell_type": "markdown",
   "metadata": {},
   "source": [
    "# EDA"
   ]
  },
  {
   "cell_type": "code",
   "execution_count": 1,
   "metadata": {},
   "outputs": [],
   "source": [
    "WITHOUT_MISSING_FOLDER = '/without_missing/'"
   ]
  },
  {
   "cell_type": "code",
   "execution_count": 4,
   "metadata": {},
   "outputs": [
    {
     "name": "stdout",
     "output_type": "stream",
     "text": [
      "(91991, 5)\n"
     ]
    },
    {
     "data": {
      "text/html": [
       "<div>\n",
       "<style scoped>\n",
       "    .dataframe tbody tr th:only-of-type {\n",
       "        vertical-align: middle;\n",
       "    }\n",
       "\n",
       "    .dataframe tbody tr th {\n",
       "        vertical-align: top;\n",
       "    }\n",
       "\n",
       "    .dataframe thead th {\n",
       "        text-align: right;\n",
       "    }\n",
       "</style>\n",
       "<table border=\"1\" class=\"dataframe\">\n",
       "  <thead>\n",
       "    <tr style=\"text-align: right;\">\n",
       "      <th></th>\n",
       "      <th>CELL_LINE_NAME</th>\n",
       "      <th>DRUG_ID</th>\n",
       "      <th>DRUG_NAME</th>\n",
       "      <th>DATASET</th>\n",
       "      <th>LN_IC50</th>\n",
       "    </tr>\n",
       "  </thead>\n",
       "  <tbody>\n",
       "    <tr>\n",
       "      <th>3441054</th>\n",
       "      <td>22RV1</td>\n",
       "      <td>1003</td>\n",
       "      <td>Camptothecin</td>\n",
       "      <td>GDSC2</td>\n",
       "      <td>-3.142631</td>\n",
       "    </tr>\n",
       "    <tr>\n",
       "      <th>3459252</th>\n",
       "      <td>22RV1</td>\n",
       "      <td>1004</td>\n",
       "      <td>Vinblastine</td>\n",
       "      <td>GDSC2</td>\n",
       "      <td>-4.459259</td>\n",
       "    </tr>\n",
       "    <tr>\n",
       "      <th>3508920</th>\n",
       "      <td>22RV1</td>\n",
       "      <td>1006</td>\n",
       "      <td>Cytarabine</td>\n",
       "      <td>GDSC2</td>\n",
       "      <td>3.826935</td>\n",
       "    </tr>\n",
       "  </tbody>\n",
       "</table>\n",
       "</div>"
      ],
      "text/plain": [
       "        CELL_LINE_NAME  DRUG_ID     DRUG_NAME DATASET   LN_IC50\n",
       "3441054          22RV1     1003  Camptothecin   GDSC2 -3.142631\n",
       "3459252          22RV1     1004   Vinblastine   GDSC2 -4.459259\n",
       "3508920          22RV1     1006    Cytarabine   GDSC2  3.826935"
      ]
     },
     "execution_count": 4,
     "metadata": {},
     "output_type": "execute_result"
    }
   ],
   "source": [
    "# Reading the drug response matrix.\n",
    "with open(f'{PATH_SUMMARY_DATASETS}{WITHOUT_MISSING_FOLDER}drug_response_matrix__gdsc2.pkl', 'rb') as f: \n",
    "    drm = pickle.load(f)  \n",
    "print(drm.shape)\n",
    "drm.head(3)"
   ]
  },
  {
   "cell_type": "code",
   "execution_count": 6,
   "metadata": {},
   "outputs": [
    {
     "name": "stdout",
     "output_type": "stream",
     "text": [
      "(446521, 14)\n"
     ]
    },
    {
     "data": {
      "text/html": [
       "<div>\n",
       "<style scoped>\n",
       "    .dataframe tbody tr th:only-of-type {\n",
       "        vertical-align: middle;\n",
       "    }\n",
       "\n",
       "    .dataframe tbody tr th {\n",
       "        vertical-align: top;\n",
       "    }\n",
       "\n",
       "    .dataframe thead th {\n",
       "        text-align: right;\n",
       "    }\n",
       "</style>\n",
       "<table border=\"1\" class=\"dataframe\">\n",
       "  <thead>\n",
       "    <tr style=\"text-align: right;\">\n",
       "      <th></th>\n",
       "      <th>DRUG_ID</th>\n",
       "      <th>CELL_LINE_NAME</th>\n",
       "      <th>AUC</th>\n",
       "      <th>CELL_ID</th>\n",
       "      <th>LN_IC50</th>\n",
       "      <th>CONC</th>\n",
       "      <th>MASTER_CELL_ID</th>\n",
       "      <th>INTENSITY</th>\n",
       "      <th>DATASET</th>\n",
       "      <th>Z_SCORE</th>\n",
       "      <th>DRUG_NAME</th>\n",
       "      <th>RMSE</th>\n",
       "      <th>COSMIC_ID</th>\n",
       "      <th>POSITION</th>\n",
       "    </tr>\n",
       "  </thead>\n",
       "  <tbody>\n",
       "    <tr>\n",
       "      <th>0</th>\n",
       "      <td>1</td>\n",
       "      <td>MC-CAR</td>\n",
       "      <td>0.982114</td>\n",
       "      <td>3137</td>\n",
       "      <td>2.395685</td>\n",
       "      <td>2.0</td>\n",
       "      <td>49</td>\n",
       "      <td>544404</td>\n",
       "      <td>GDSC1</td>\n",
       "      <td>-0.189576</td>\n",
       "      <td>Erlotinib</td>\n",
       "      <td>0.022521</td>\n",
       "      <td>683665</td>\n",
       "      <td>14</td>\n",
       "    </tr>\n",
       "    <tr>\n",
       "      <th>9</th>\n",
       "      <td>1</td>\n",
       "      <td>ES3</td>\n",
       "      <td>0.984816</td>\n",
       "      <td>2366</td>\n",
       "      <td>3.140923</td>\n",
       "      <td>2.0</td>\n",
       "      <td>1342</td>\n",
       "      <td>404197</td>\n",
       "      <td>GDSC1</td>\n",
       "      <td>0.508635</td>\n",
       "      <td>Erlotinib</td>\n",
       "      <td>0.031840</td>\n",
       "      <td>684055</td>\n",
       "      <td>14</td>\n",
       "    </tr>\n",
       "    <tr>\n",
       "      <th>27</th>\n",
       "      <td>1</td>\n",
       "      <td>ES5</td>\n",
       "      <td>0.985693</td>\n",
       "      <td>2368</td>\n",
       "      <td>3.968757</td>\n",
       "      <td>2.0</td>\n",
       "      <td>610</td>\n",
       "      <td>797378</td>\n",
       "      <td>GDSC1</td>\n",
       "      <td>1.284229</td>\n",
       "      <td>Erlotinib</td>\n",
       "      <td>0.026052</td>\n",
       "      <td>684057</td>\n",
       "      <td>14</td>\n",
       "    </tr>\n",
       "    <tr>\n",
       "      <th>45</th>\n",
       "      <td>1</td>\n",
       "      <td>ES7</td>\n",
       "      <td>0.972699</td>\n",
       "      <td>2371</td>\n",
       "      <td>2.692768</td>\n",
       "      <td>2.0</td>\n",
       "      <td>71</td>\n",
       "      <td>377574</td>\n",
       "      <td>GDSC1</td>\n",
       "      <td>0.088760</td>\n",
       "      <td>Erlotinib</td>\n",
       "      <td>0.110056</td>\n",
       "      <td>684059</td>\n",
       "      <td>14</td>\n",
       "    </tr>\n",
       "    <tr>\n",
       "      <th>54</th>\n",
       "      <td>1</td>\n",
       "      <td>EW-11</td>\n",
       "      <td>0.944462</td>\n",
       "      <td>2375</td>\n",
       "      <td>2.478678</td>\n",
       "      <td>2.0</td>\n",
       "      <td>231</td>\n",
       "      <td>638065</td>\n",
       "      <td>GDSC1</td>\n",
       "      <td>-0.111820</td>\n",
       "      <td>Erlotinib</td>\n",
       "      <td>0.087011</td>\n",
       "      <td>684062</td>\n",
       "      <td>14</td>\n",
       "    </tr>\n",
       "  </tbody>\n",
       "</table>\n",
       "</div>"
      ],
      "text/plain": [
       "    DRUG_ID CELL_LINE_NAME       AUC  CELL_ID   LN_IC50  CONC  MASTER_CELL_ID  \\\n",
       "0         1         MC-CAR  0.982114     3137  2.395685   2.0              49   \n",
       "9         1            ES3  0.984816     2366  3.140923   2.0            1342   \n",
       "27        1            ES5  0.985693     2368  3.968757   2.0             610   \n",
       "45        1            ES7  0.972699     2371  2.692768   2.0              71   \n",
       "54        1          EW-11  0.944462     2375  2.478678   2.0             231   \n",
       "\n",
       "    INTENSITY DATASET   Z_SCORE  DRUG_NAME      RMSE  COSMIC_ID  POSITION  \n",
       "0      544404   GDSC1 -0.189576  Erlotinib  0.022521     683665        14  \n",
       "9      404197   GDSC1  0.508635  Erlotinib  0.031840     684055        14  \n",
       "27     797378   GDSC1  1.284229  Erlotinib  0.026052     684057        14  \n",
       "45     377574   GDSC1  0.088760  Erlotinib  0.110056     684059        14  \n",
       "54     638065   GDSC1 -0.111820  Erlotinib  0.087011     684062        14  "
      ]
     },
     "execution_count": 6,
     "metadata": {},
     "output_type": "execute_result"
    }
   ],
   "source": [
    "# Save the GDSC table to a file.\n",
    "gdsc_complete = pd.read_pickle(f'../../datasets/gdsc/my_datasets/gdsc_base.pkl')\n",
    "print(gdsc_complete.shape)\n",
    "gdsc_complete.head(5)\n"
   ]
  },
  {
   "cell_type": "code",
   "execution_count": 8,
   "metadata": {},
   "outputs": [
    {
     "name": "stdout",
     "output_type": "stream",
     "text": [
      "GDSC1.shape (310946, 14)\n",
      "GDSC2.shape (135575, 14)\n"
     ]
    }
   ],
   "source": [
    "gdsc1 = gdsc_complete[gdsc_complete.DATASET=='GDSC1']\n",
    "gdsc2 = gdsc_complete[gdsc_complete.DATASET=='GDSC2']\n",
    "print('GDSC1.shape', gdsc1.shape)\n",
    "print('GDSC2.shape', gdsc2.shape)"
   ]
  },
  {
   "cell_type": "code",
   "execution_count": 14,
   "metadata": {},
   "outputs": [
    {
     "data": {
      "image/png": "[encoded data removed]",
      "text/plain": [
       "<Figure size 437.725x360 with 1 Axes>"
      ]
     },
     "metadata": {},
     "output_type": "display_data"
    }
   ],
   "source": [
    "sns.displot(data=gdsc_complete, x='LN_IC50', hue='DATASET', kind='kde');"
   ]
  },
  {
   "cell_type": "code",
   "execution_count": 15,
   "metadata": {},
   "outputs": [
    {
     "data": {
      "image/png": "[encoded data removed]",
      "text/plain": [
       "<Figure size 432x288 with 1 Axes>"
      ]
     },
     "metadata": {},
     "output_type": "display_data"
    }
   ],
   "source": [
    "sns.boxplot(data=gdsc_complete, y='DATASET', x='LN_IC50', linewidth=2);"
   ]
  },
  {
   "cell_type": "markdown",
   "metadata": {},
   "source": [
    "The distributions of ln(ic50) values seems not to differ significantly between the two datasets GDSC1 and GDSC2. \n",
    "\n",
    "Possible options:\n",
    "1. probability [stability](https://en.wikipedia.org/wiki/Stability_(probability)) index ([PSI](https://medium.com/model-monitoring-psi/population-stability-index-psi-ab133b0a5d42)).\n",
    "\n",
    "> Population Stability Index (PSI) compares the distribution of predicted probability in scoring data with predicted probability in training data. The idea is to check “How different the current scored data is, compared to the training data”.\n",
    "\n",
    "2. Kolmogorov Smirnoff test\n",
    "\n",
    "> _two-sample K–S test_: What is the probability that these two sets of samples were drawn from the same (but unknown) probability distribution?"
   ]
  },
  {
   "cell_type": "code",
   "execution_count": 17,
   "metadata": {},
   "outputs": [
    {
     "name": "stdout",
     "output_type": "stream",
     "text": [
      "2.07394274914937\n",
      "2.500906894427439\n"
     ]
    }
   ],
   "source": [
    "print(np.mean(gdsc1.LN_IC50.values))\n",
    "print(np.mean(gdsc2.LN_IC50.values))"
   ]
  },
  {
   "cell_type": "code",
   "execution_count": 20,
   "metadata": {},
   "outputs": [
    {
     "data": {
      "text/plain": [
       "KstestResult(statistic=0.09572259819709261, pvalue=0.0)"
      ]
     },
     "execution_count": 20,
     "metadata": {},
     "output_type": "execute_result"
    }
   ],
   "source": [
    "from scipy.stats import ks_2samp\n",
    "ks_2samp(gdsc1.LN_IC50.values, gdsc2.LN_IC50.values)"
   ]
  },
  {
   "cell_type": "markdown",
   "metadata": {},
   "source": [
    "Since the p-value is much lower then 0.05, we can reject the null hypothesis. Thus, __we have evidence that the two sample datasets are not coming/drawn from the same distribution.__"
   ]
  },
  {
   "cell_type": "code",
   "execution_count": null,
   "metadata": {},
   "outputs": [],
   "source": []
  },
  {
   "cell_type": "code",
   "execution_count": null,
   "metadata": {},
   "outputs": [],
   "source": []
  }
 ],
 "metadata": {
  "interpreter": {
   "hash": "c78b81650a0bd32063743affb6953ff71b1a0dba806fbca9e2db842718495748"
  },
  "kernelspec": {
   "display_name": "Python 3.10.4 ('master-thesis-log')",
   "language": "python",
   "name": "python3"
  },
  "language_info": {
   "codemirror_mode": {
    "name": "ipython",
    "version": 3
   },
   "file_extension": ".py",
   "mimetype": "text/x-python",
   "name": "python",
   "nbconvert_exporter": "python",
   "pygments_lexer": "ipython3",
   "version": "3.10.4"
  },
  "orig_nbformat": 4
 },
 "nbformat": 4,
 "nbformat_minor": 2
}
