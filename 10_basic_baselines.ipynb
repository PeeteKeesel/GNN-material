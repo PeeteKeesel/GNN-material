{
 "cells": [
  {
   "cell_type": "code",
   "execution_count": 1,
   "metadata": {},
   "outputs": [],
   "source": [
    "# -------- #\n",
    "# PACKAGES #\n",
    "# -------- #\n",
    "import time\n",
    "import pickle\n",
    "import torch\n",
    "import torch.nn          as nn\n",
    "import numpy             as np\n",
    "import pandas            as pd\n",
    "import matplotlib.pyplot as plt \n",
    "import seaborn           as sns\n",
    "\n",
    "from torch.utils.data import Dataset, DataLoader\n",
    "from my_utils.preprocessing_helpers import convert_column_types\n",
    "\n",
    "# ---------------- #\n",
    "# GENERAL SETTINGS #\n",
    "# ---------------- #\n",
    "torch.manual_seed(42)\n",
    "sns.set_theme(style=\"white\")\n",
    "\n",
    "# ---------------- #\n",
    "# GLOBAL VARIABLES #\n",
    "# ---------------- #\n",
    "from config import (\n",
    "    # Drug features.\n",
    "    PATH_TO_SAVED_DRUG_FEATURES,\n",
    "    DRUG_FPS_FINAL_FILE_NAME,\n",
    "    # Cell line features.\n",
    "    PATH_TO_SAVED_CL_FEATURES,\n",
    "    GENE_EXPR_FINAL_FILE_NAME,\n",
    "    CNV_GISTIC_FINAL_FILE_NAME,\n",
    "    CNV_PICNIC_FINAL_FILE_NAME    \n",
    ")\n",
    "\n",
    "PATH_TO_SAVE_MODELS_TO = '../../datasets/models/'\n",
    "PATH_TO_SAVE_DATA_TO = '../../datasets/gdsc/my_datasets/'"
   ]
  },
  {
   "cell_type": "markdown",
   "metadata": {},
   "source": [
    "---\n",
    "\n",
    "## Getting Base Datasets\n",
    "\n",
    "The goal of this notebook is to build classic and simple ML models which uses tabular data of cell line and genes.\n",
    "\n",
    "- [ ] Ridge Regression\n",
    "- [ ] Random Forrest\n",
    "- [ ] MOLI (FCN)"
   ]
  },
  {
   "cell_type": "code",
   "execution_count": 2,
   "metadata": {},
   "outputs": [
    {
     "name": "stdout",
     "output_type": "stream",
     "text": [
      "Gene Expression: (446521, 922) took 4.90298 seconds.\n",
      "    Number of unique cell-lines : 988\n",
      "    Number of gene columns      : 908\n",
      "\n",
      "CNV Gistic: (446521, 952) took 106.16982 seconds.\n",
      "    Number of unique cell-lines : 988\n",
      "    Number of gene columns      : 938\n",
      "\n",
      "CNV Picnic: (446521, 980) took 117.35905 seconds.\n",
      "    Number of unique cell-lines : 988\n",
      "    Number of gene columns      : 966\n",
      "\n"
     ]
    }
   ],
   "source": [
    "# Gene expression.\n",
    "start = time.time()\n",
    "gene_expr = pd.read_pickle(f'{PATH_TO_SAVED_CL_FEATURES}{GENE_EXPR_FINAL_FILE_NAME}')\n",
    "print(f\"\"\"Gene Expression: {gene_expr.shape} took {time.time()-start:.5f} seconds.\n",
    "    Number of unique cell-lines : {len(np.unique(gene_expr.CELL_LINE_NAME.values))}\n",
    "    Number of gene columns      : {len(gene_expr.columns[14:])}\n",
    "\"\"\")\n",
    "\n",
    "# CNV gistic.\n",
    "start = time.time()\n",
    "cnv_gistic = pd.read_pickle(f'{PATH_TO_SAVED_CL_FEATURES}{CNV_GISTIC_FINAL_FILE_NAME}')\n",
    "print(f\"\"\"CNV Gistic: {cnv_gistic.shape} took {time.time()-start:.5f} seconds.\n",
    "    Number of unique cell-lines : {len(np.unique(cnv_gistic.CELL_LINE_NAME.values))}\n",
    "    Number of gene columns      : {len(cnv_gistic.columns[14:])}\n",
    "\"\"\")\n",
    "\n",
    "# CNV picnic.\n",
    "start = time.time()\n",
    "cnv_picnic = pd.read_pickle(f'{PATH_TO_SAVED_CL_FEATURES}{CNV_PICNIC_FINAL_FILE_NAME}')\n",
    "print(f\"\"\"CNV Picnic: {cnv_picnic.shape} took {time.time()-start:.5f} seconds.\n",
    "    Number of unique cell-lines : {len(np.unique(cnv_picnic.CELL_LINE_NAME.values))}\n",
    "    Number of gene columns      : {len(cnv_picnic.columns[14:])}\n",
    "\"\"\")"
   ]
  },
  {
   "cell_type": "code",
   "execution_count": null,
   "metadata": {},
   "outputs": [],
   "source": []
  },
  {
   "cell_type": "code",
   "execution_count": null,
   "metadata": {},
   "outputs": [],
   "source": []
  }
 ],
 "metadata": {
  "interpreter": {
   "hash": "c78b81650a0bd32063743affb6953ff71b1a0dba806fbca9e2db842718495748"
  },
  "kernelspec": {
   "display_name": "Python 3.10.4 ('master-thesis-log')",
   "language": "python",
   "name": "python3"
  },
  "language_info": {
   "codemirror_mode": {
    "name": "ipython",
    "version": 3
   },
   "file_extension": ".py",
   "mimetype": "text/x-python",
   "name": "python",
   "nbconvert_exporter": "python",
   "pygments_lexer": "ipython3",
   "version": "3.10.4"
  },
  "orig_nbformat": 4
 },
 "nbformat": 4,
 "nbformat_minor": 2
}
