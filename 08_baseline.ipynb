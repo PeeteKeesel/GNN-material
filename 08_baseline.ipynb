{
 "cells": [
  {
   "cell_type": "code",
   "execution_count": 2,
   "metadata": {},
   "outputs": [],
   "source": [
    "# -------- #\n",
    "# PACKAGES #\n",
    "# -------- #\n",
    "import time\n",
    "import pickle\n",
    "import torch\n",
    "import torch.nn          as nn\n",
    "import numpy             as np\n",
    "import pandas            as pd\n",
    "import matplotlib.pyplot as plt \n",
    "import seaborn           as sns\n",
    "\n",
    "from torch.utils.data import Dataset, DataLoader\n",
    "\n",
    "# ---------------- #\n",
    "# GENERAL SETTINGS #\n",
    "# ---------------- #\n",
    "torch.manual_seed(42)\n",
    "sns.set_theme(style=\"white\")\n",
    "\n",
    "# ---------------- #\n",
    "# GLOBAL VARIABLES #\n",
    "# ---------------- #\n",
    "from config import (\n",
    "    # Drug features.\n",
    "    PATH_TO_SAVED_DRUG_FEATURES,\n",
    "    DRUG_FPS_FINAL_FILE_NAME,\n",
    "    # Cell line features.\n",
    "    PATH_TO_SAVED_CL_FEATURES,\n",
    "    GENE_EXPR_FINAL_FILE_NAME,\n",
    "    CNV_GISTIC_FINAL_FILE_NAME,\n",
    "    CNV_PICNIC_FINAL_FILE_NAME    \n",
    ")"
   ]
  },
  {
   "cell_type": "markdown",
   "metadata": {},
   "source": [
    "---\n",
    "\n",
    "# Building a Baseline Model\n",
    "\n",
    "The objective of this notebook is to research on how to build a baseline model to test the future GNN approach against. It should be a Deep Learning model for Drug Response Prediction with the following general structure.\n",
    "\n",
    "<p align=\"center\">\n",
    "    <img src=\"imgs/GeneralDLModelForDRP.png\" alt=\"drawing\" width=\"400\"/>\n",
    "</p>"
   ]
  },
  {
   "cell_type": "markdown",
   "metadata": {},
   "source": [
    "---\n",
    "\n",
    "## Cell Features"
   ]
  },
  {
   "cell_type": "code",
   "execution_count": 3,
   "metadata": {},
   "outputs": [
    {
     "name": "stdout",
     "output_type": "stream",
     "text": [
      "Shape: (446521, 922) took 4.11994 seconds.\n",
      "  Number of unique cell-lines : 988\n",
      "  Number of gene columns      : 908\n"
     ]
    },
    {
     "data": {
      "text/html": [
       "<div>\n",
       "<style scoped>\n",
       "    .dataframe tbody tr th:only-of-type {\n",
       "        vertical-align: middle;\n",
       "    }\n",
       "\n",
       "    .dataframe tbody tr th {\n",
       "        vertical-align: top;\n",
       "    }\n",
       "\n",
       "    .dataframe thead th {\n",
       "        text-align: right;\n",
       "    }\n",
       "</style>\n",
       "<table border=\"1\" class=\"dataframe\">\n",
       "  <thead>\n",
       "    <tr style=\"text-align: right;\">\n",
       "      <th></th>\n",
       "      <th>DRUG_ID</th>\n",
       "      <th>CELL_LINE_NAME</th>\n",
       "      <th>AUC</th>\n",
       "      <th>CELL_ID</th>\n",
       "      <th>LN_IC50</th>\n",
       "      <th>CONC</th>\n",
       "      <th>MASTER_CELL_ID</th>\n",
       "      <th>INTENSITY</th>\n",
       "      <th>DATASET</th>\n",
       "      <th>Z_SCORE</th>\n",
       "      <th>...</th>\n",
       "      <th>MYCBP</th>\n",
       "      <th>FIS1</th>\n",
       "      <th>IFRD2</th>\n",
       "      <th>NPEPL1</th>\n",
       "      <th>CEBPD</th>\n",
       "      <th>PLEKHM1</th>\n",
       "      <th>MIF</th>\n",
       "      <th>PRAF2</th>\n",
       "      <th>LYN</th>\n",
       "      <th>POLG2</th>\n",
       "    </tr>\n",
       "  </thead>\n",
       "  <tbody>\n",
       "    <tr>\n",
       "      <th>0</th>\n",
       "      <td>1</td>\n",
       "      <td>MC-CAR</td>\n",
       "      <td>0.982114</td>\n",
       "      <td>3137</td>\n",
       "      <td>2.395685</td>\n",
       "      <td>2.0</td>\n",
       "      <td>49</td>\n",
       "      <td>544404</td>\n",
       "      <td>GDSC1</td>\n",
       "      <td>-0.189576</td>\n",
       "      <td>...</td>\n",
       "      <td>8.355826</td>\n",
       "      <td>8.951680</td>\n",
       "      <td>7.205590</td>\n",
       "      <td>3.277948</td>\n",
       "      <td>3.465672</td>\n",
       "      <td>6.312806</td>\n",
       "      <td>12.112498</td>\n",
       "      <td>3.010237</td>\n",
       "      <td>8.750848</td>\n",
       "      <td>6.199366</td>\n",
       "    </tr>\n",
       "    <tr>\n",
       "      <th>9</th>\n",
       "      <td>1</td>\n",
       "      <td>ES3</td>\n",
       "      <td>0.984816</td>\n",
       "      <td>2366</td>\n",
       "      <td>3.140923</td>\n",
       "      <td>2.0</td>\n",
       "      <td>1342</td>\n",
       "      <td>404197</td>\n",
       "      <td>GDSC1</td>\n",
       "      <td>0.508635</td>\n",
       "      <td>...</td>\n",
       "      <td>5.995760</td>\n",
       "      <td>9.337588</td>\n",
       "      <td>7.468226</td>\n",
       "      <td>3.716270</td>\n",
       "      <td>5.363887</td>\n",
       "      <td>6.188079</td>\n",
       "      <td>12.281947</td>\n",
       "      <td>4.794624</td>\n",
       "      <td>3.588528</td>\n",
       "      <td>6.785201</td>\n",
       "    </tr>\n",
       "    <tr>\n",
       "      <th>27</th>\n",
       "      <td>1</td>\n",
       "      <td>ES5</td>\n",
       "      <td>0.985693</td>\n",
       "      <td>2368</td>\n",
       "      <td>3.968757</td>\n",
       "      <td>2.0</td>\n",
       "      <td>610</td>\n",
       "      <td>797378</td>\n",
       "      <td>GDSC1</td>\n",
       "      <td>1.284229</td>\n",
       "      <td>...</td>\n",
       "      <td>6.939741</td>\n",
       "      <td>8.688176</td>\n",
       "      <td>7.085349</td>\n",
       "      <td>3.688222</td>\n",
       "      <td>4.572119</td>\n",
       "      <td>6.345090</td>\n",
       "      <td>12.276166</td>\n",
       "      <td>4.114092</td>\n",
       "      <td>5.768098</td>\n",
       "      <td>7.505155</td>\n",
       "    </tr>\n",
       "  </tbody>\n",
       "</table>\n",
       "<p>3 rows × 922 columns</p>\n",
       "</div>"
      ],
      "text/plain": [
       "    DRUG_ID CELL_LINE_NAME       AUC  CELL_ID   LN_IC50  CONC  MASTER_CELL_ID  \\\n",
       "0         1         MC-CAR  0.982114     3137  2.395685   2.0              49   \n",
       "9         1            ES3  0.984816     2366  3.140923   2.0            1342   \n",
       "27        1            ES5  0.985693     2368  3.968757   2.0             610   \n",
       "\n",
       "    INTENSITY DATASET   Z_SCORE  ...     MYCBP      FIS1     IFRD2    NPEPL1  \\\n",
       "0      544404   GDSC1 -0.189576  ...  8.355826  8.951680  7.205590  3.277948   \n",
       "9      404197   GDSC1  0.508635  ...  5.995760  9.337588  7.468226  3.716270   \n",
       "27     797378   GDSC1  1.284229  ...  6.939741  8.688176  7.085349  3.688222   \n",
       "\n",
       "       CEBPD   PLEKHM1        MIF     PRAF2       LYN     POLG2  \n",
       "0   3.465672  6.312806  12.112498  3.010237  8.750848  6.199366  \n",
       "9   5.363887  6.188079  12.281947  4.794624  3.588528  6.785201  \n",
       "27  4.572119  6.345090  12.276166  4.114092  5.768098  7.505155  \n",
       "\n",
       "[3 rows x 922 columns]"
      ]
     },
     "execution_count": 3,
     "metadata": {},
     "output_type": "execute_result"
    }
   ],
   "source": [
    "# --------------- #\n",
    "# GENE EXPRESSION #\n",
    "# --------------- #\n",
    "start = time.time()\n",
    "gene_expr = pd.read_pickle(f'{PATH_TO_SAVED_CL_FEATURES}{GENE_EXPR_FINAL_FILE_NAME}')\n",
    "print(f\"Shape: {gene_expr.shape} took {time.time()-start:.5f} seconds.\")\n",
    "print(f\"  Number of unique cell-lines : {len(np.unique(gene_expr.CELL_LINE_NAME.values))}\")\n",
    "print(f\"  Number of gene columns      : {len(gene_expr.columns[14:])}\")\n",
    "gene_expr.head(3)"
   ]
  },
  {
   "cell_type": "code",
   "execution_count": 4,
   "metadata": {},
   "outputs": [
    {
     "data": {
      "text/html": [
       "<div>\n",
       "<style scoped>\n",
       "    .dataframe tbody tr th:only-of-type {\n",
       "        vertical-align: middle;\n",
       "    }\n",
       "\n",
       "    .dataframe tbody tr th {\n",
       "        vertical-align: top;\n",
       "    }\n",
       "\n",
       "    .dataframe thead th {\n",
       "        text-align: right;\n",
       "    }\n",
       "</style>\n",
       "<table border=\"1\" class=\"dataframe\">\n",
       "  <thead>\n",
       "    <tr style=\"text-align: right;\">\n",
       "      <th></th>\n",
       "      <th>DRUG_ID</th>\n",
       "      <th>CELL_LINE_NAME</th>\n",
       "      <th>AUC</th>\n",
       "      <th>CELL_ID</th>\n",
       "      <th>LN_IC50</th>\n",
       "      <th>CONC</th>\n",
       "      <th>MASTER_CELL_ID</th>\n",
       "      <th>INTENSITY</th>\n",
       "      <th>DATASET</th>\n",
       "      <th>Z_SCORE</th>\n",
       "      <th>...</th>\n",
       "      <th>MYCBP</th>\n",
       "      <th>FIS1</th>\n",
       "      <th>IFRD2</th>\n",
       "      <th>NPEPL1</th>\n",
       "      <th>CEBPD</th>\n",
       "      <th>PLEKHM1</th>\n",
       "      <th>MIF</th>\n",
       "      <th>PRAF2</th>\n",
       "      <th>LYN</th>\n",
       "      <th>POLG2</th>\n",
       "    </tr>\n",
       "  </thead>\n",
       "  <tbody>\n",
       "    <tr>\n",
       "      <th>0</th>\n",
       "      <td>1</td>\n",
       "      <td>MC-CAR</td>\n",
       "      <td>0.982114</td>\n",
       "      <td>3137</td>\n",
       "      <td>2.395685</td>\n",
       "      <td>2.0</td>\n",
       "      <td>49</td>\n",
       "      <td>544404</td>\n",
       "      <td>GDSC1</td>\n",
       "      <td>-0.189576</td>\n",
       "      <td>...</td>\n",
       "      <td>8.355826</td>\n",
       "      <td>8.95168</td>\n",
       "      <td>7.20559</td>\n",
       "      <td>3.277948</td>\n",
       "      <td>3.465672</td>\n",
       "      <td>6.312806</td>\n",
       "      <td>12.112498</td>\n",
       "      <td>3.010237</td>\n",
       "      <td>8.750848</td>\n",
       "      <td>6.199366</td>\n",
       "    </tr>\n",
       "    <tr>\n",
       "      <th>4563</th>\n",
       "      <td>3</td>\n",
       "      <td>MC-CAR</td>\n",
       "      <td>0.980891</td>\n",
       "      <td>3137</td>\n",
       "      <td>-0.658244</td>\n",
       "      <td>0.1</td>\n",
       "      <td>49</td>\n",
       "      <td>558232</td>\n",
       "      <td>GDSC1</td>\n",
       "      <td>0.806489</td>\n",
       "      <td>...</td>\n",
       "      <td>8.355826</td>\n",
       "      <td>8.95168</td>\n",
       "      <td>7.20559</td>\n",
       "      <td>3.277948</td>\n",
       "      <td>3.465672</td>\n",
       "      <td>6.312806</td>\n",
       "      <td>12.112498</td>\n",
       "      <td>3.010237</td>\n",
       "      <td>8.750848</td>\n",
       "      <td>6.199366</td>\n",
       "    </tr>\n",
       "    <tr>\n",
       "      <th>8613</th>\n",
       "      <td>5</td>\n",
       "      <td>MC-CAR</td>\n",
       "      <td>0.903979</td>\n",
       "      <td>3137</td>\n",
       "      <td>2.161095</td>\n",
       "      <td>8.0</td>\n",
       "      <td>49</td>\n",
       "      <td>333014</td>\n",
       "      <td>GDSC1</td>\n",
       "      <td>-0.206663</td>\n",
       "      <td>...</td>\n",
       "      <td>8.355826</td>\n",
       "      <td>8.95168</td>\n",
       "      <td>7.20559</td>\n",
       "      <td>3.277948</td>\n",
       "      <td>3.465672</td>\n",
       "      <td>6.312806</td>\n",
       "      <td>12.112498</td>\n",
       "      <td>3.010237</td>\n",
       "      <td>8.750848</td>\n",
       "      <td>6.199366</td>\n",
       "    </tr>\n",
       "    <tr>\n",
       "      <th>12843</th>\n",
       "      <td>6</td>\n",
       "      <td>MC-CAR</td>\n",
       "      <td>0.986077</td>\n",
       "      <td>3137</td>\n",
       "      <td>2.613997</td>\n",
       "      <td>2.0</td>\n",
       "      <td>49</td>\n",
       "      <td>635581</td>\n",
       "      <td>GDSC1</td>\n",
       "      <td>-0.137000</td>\n",
       "      <td>...</td>\n",
       "      <td>8.355826</td>\n",
       "      <td>8.95168</td>\n",
       "      <td>7.20559</td>\n",
       "      <td>3.277948</td>\n",
       "      <td>3.465672</td>\n",
       "      <td>6.312806</td>\n",
       "      <td>12.112498</td>\n",
       "      <td>3.010237</td>\n",
       "      <td>8.750848</td>\n",
       "      <td>6.199366</td>\n",
       "    </tr>\n",
       "    <tr>\n",
       "      <th>17478</th>\n",
       "      <td>9</td>\n",
       "      <td>MC-CAR</td>\n",
       "      <td>0.937027</td>\n",
       "      <td>3137</td>\n",
       "      <td>0.530615</td>\n",
       "      <td>1.0</td>\n",
       "      <td>49</td>\n",
       "      <td>423727</td>\n",
       "      <td>GDSC1</td>\n",
       "      <td>0.410332</td>\n",
       "      <td>...</td>\n",
       "      <td>8.355826</td>\n",
       "      <td>8.95168</td>\n",
       "      <td>7.20559</td>\n",
       "      <td>3.277948</td>\n",
       "      <td>3.465672</td>\n",
       "      <td>6.312806</td>\n",
       "      <td>12.112498</td>\n",
       "      <td>3.010237</td>\n",
       "      <td>8.750848</td>\n",
       "      <td>6.199366</td>\n",
       "    </tr>\n",
       "  </tbody>\n",
       "</table>\n",
       "<p>5 rows × 922 columns</p>\n",
       "</div>"
      ],
      "text/plain": [
       "       DRUG_ID CELL_LINE_NAME       AUC  CELL_ID   LN_IC50  CONC  \\\n",
       "0            1         MC-CAR  0.982114     3137  2.395685   2.0   \n",
       "4563         3         MC-CAR  0.980891     3137 -0.658244   0.1   \n",
       "8613         5         MC-CAR  0.903979     3137  2.161095   8.0   \n",
       "12843        6         MC-CAR  0.986077     3137  2.613997   2.0   \n",
       "17478        9         MC-CAR  0.937027     3137  0.530615   1.0   \n",
       "\n",
       "       MASTER_CELL_ID  INTENSITY DATASET   Z_SCORE  ...     MYCBP     FIS1  \\\n",
       "0                  49     544404   GDSC1 -0.189576  ...  8.355826  8.95168   \n",
       "4563               49     558232   GDSC1  0.806489  ...  8.355826  8.95168   \n",
       "8613               49     333014   GDSC1 -0.206663  ...  8.355826  8.95168   \n",
       "12843              49     635581   GDSC1 -0.137000  ...  8.355826  8.95168   \n",
       "17478              49     423727   GDSC1  0.410332  ...  8.355826  8.95168   \n",
       "\n",
       "         IFRD2    NPEPL1     CEBPD   PLEKHM1        MIF     PRAF2       LYN  \\\n",
       "0      7.20559  3.277948  3.465672  6.312806  12.112498  3.010237  8.750848   \n",
       "4563   7.20559  3.277948  3.465672  6.312806  12.112498  3.010237  8.750848   \n",
       "8613   7.20559  3.277948  3.465672  6.312806  12.112498  3.010237  8.750848   \n",
       "12843  7.20559  3.277948  3.465672  6.312806  12.112498  3.010237  8.750848   \n",
       "17478  7.20559  3.277948  3.465672  6.312806  12.112498  3.010237  8.750848   \n",
       "\n",
       "          POLG2  \n",
       "0      6.199366  \n",
       "4563   6.199366  \n",
       "8613   6.199366  \n",
       "12843  6.199366  \n",
       "17478  6.199366  \n",
       "\n",
       "[5 rows x 922 columns]"
      ]
     },
     "execution_count": 4,
     "metadata": {},
     "output_type": "execute_result"
    }
   ],
   "source": [
    "gene_expr[gene_expr.CELL_LINE_NAME=='MC-CAR'].head(5)"
   ]
  },
  {
   "cell_type": "markdown",
   "metadata": {},
   "source": [
    "- Note that for the same `CELL_LINE_NAME` the gene expression value is the same.\n",
    "- It only differs for a different `DRUG_ID` for that specific cell line.\n",
    "- The `LN_IC50` is therefore different for each different cell-line - drug tuple.\n",
    "\n",
    "Thus, \n",
    "- each row has different ic50 value\n",
    "- not each row has a different value per gene column"
   ]
  },
  {
   "cell_type": "code",
   "execution_count": 5,
   "metadata": {},
   "outputs": [
    {
     "name": "stdout",
     "output_type": "stream",
     "text": [
      "CNV Gistic: (446521, 952) took 129.31703 seconds.\n",
      "  Number of unique cell-lines : 988\n",
      "  Number of gene columns      : 938\n",
      "CNV Picnic: (446521, 980) took 143.21013 seconds.\n",
      "  Number of unique cell-lines : 988\n",
      "  Number of gene columns      : 966\n"
     ]
    },
    {
     "data": {
      "text/html": [
       "<div>\n",
       "<style scoped>\n",
       "    .dataframe tbody tr th:only-of-type {\n",
       "        vertical-align: middle;\n",
       "    }\n",
       "\n",
       "    .dataframe tbody tr th {\n",
       "        vertical-align: top;\n",
       "    }\n",
       "\n",
       "    .dataframe thead th {\n",
       "        text-align: right;\n",
       "    }\n",
       "</style>\n",
       "<table border=\"1\" class=\"dataframe\">\n",
       "  <thead>\n",
       "    <tr style=\"text-align: right;\">\n",
       "      <th></th>\n",
       "      <th>MASTER_CELL_ID</th>\n",
       "      <th>CELL_ID</th>\n",
       "      <th>CONC</th>\n",
       "      <th>CELL_LINE_NAME</th>\n",
       "      <th>RMSE</th>\n",
       "      <th>AUC</th>\n",
       "      <th>INTENSITY</th>\n",
       "      <th>COSMIC_ID</th>\n",
       "      <th>DRUG_NAME</th>\n",
       "      <th>POSITION</th>\n",
       "      <th>...</th>\n",
       "      <th>ZMIZ1</th>\n",
       "      <th>ZMYM2</th>\n",
       "      <th>ZNF131</th>\n",
       "      <th>ZNF274</th>\n",
       "      <th>ZNF318</th>\n",
       "      <th>ZNF395</th>\n",
       "      <th>ZNF451</th>\n",
       "      <th>ZNF586</th>\n",
       "      <th>ZNF589</th>\n",
       "      <th>ZW10</th>\n",
       "    </tr>\n",
       "  </thead>\n",
       "  <tbody>\n",
       "    <tr>\n",
       "      <th>0</th>\n",
       "      <td>49</td>\n",
       "      <td>3137</td>\n",
       "      <td>2.0</td>\n",
       "      <td>MC-CAR</td>\n",
       "      <td>0.022521</td>\n",
       "      <td>0.982114</td>\n",
       "      <td>544404</td>\n",
       "      <td>683665</td>\n",
       "      <td>Erlotinib</td>\n",
       "      <td>14</td>\n",
       "      <td>...</td>\n",
       "      <td>2.0</td>\n",
       "      <td>2.0</td>\n",
       "      <td>2.0</td>\n",
       "      <td>2.0</td>\n",
       "      <td>2.0</td>\n",
       "      <td>2.0</td>\n",
       "      <td>2.0</td>\n",
       "      <td>2.0</td>\n",
       "      <td>2.0</td>\n",
       "      <td>1.0</td>\n",
       "    </tr>\n",
       "    <tr>\n",
       "      <th>9</th>\n",
       "      <td>1342</td>\n",
       "      <td>2366</td>\n",
       "      <td>2.0</td>\n",
       "      <td>ES3</td>\n",
       "      <td>0.031840</td>\n",
       "      <td>0.984816</td>\n",
       "      <td>404197</td>\n",
       "      <td>684055</td>\n",
       "      <td>Erlotinib</td>\n",
       "      <td>14</td>\n",
       "      <td>...</td>\n",
       "      <td>1.0</td>\n",
       "      <td>1.0</td>\n",
       "      <td>2.0</td>\n",
       "      <td>2.0</td>\n",
       "      <td>2.0</td>\n",
       "      <td>3.0</td>\n",
       "      <td>2.0</td>\n",
       "      <td>2.0</td>\n",
       "      <td>3.0</td>\n",
       "      <td>2.0</td>\n",
       "    </tr>\n",
       "    <tr>\n",
       "      <th>27</th>\n",
       "      <td>610</td>\n",
       "      <td>2368</td>\n",
       "      <td>2.0</td>\n",
       "      <td>ES5</td>\n",
       "      <td>0.026052</td>\n",
       "      <td>0.985693</td>\n",
       "      <td>797378</td>\n",
       "      <td>684057</td>\n",
       "      <td>Erlotinib</td>\n",
       "      <td>14</td>\n",
       "      <td>...</td>\n",
       "      <td>2.0</td>\n",
       "      <td>3.0</td>\n",
       "      <td>3.0</td>\n",
       "      <td>3.0</td>\n",
       "      <td>4.0</td>\n",
       "      <td>6.0</td>\n",
       "      <td>4.0</td>\n",
       "      <td>3.0</td>\n",
       "      <td>4.0</td>\n",
       "      <td>3.0</td>\n",
       "    </tr>\n",
       "  </tbody>\n",
       "</table>\n",
       "<p>3 rows × 980 columns</p>\n",
       "</div>"
      ],
      "text/plain": [
       "    MASTER_CELL_ID  CELL_ID  CONC CELL_LINE_NAME      RMSE       AUC  \\\n",
       "0               49     3137   2.0         MC-CAR  0.022521  0.982114   \n",
       "9             1342     2366   2.0            ES3  0.031840  0.984816   \n",
       "27             610     2368   2.0            ES5  0.026052  0.985693   \n",
       "\n",
       "    INTENSITY  COSMIC_ID  DRUG_NAME  POSITION  ... ZMIZ1  ZMYM2  ZNF131  \\\n",
       "0      544404     683665  Erlotinib        14  ...   2.0    2.0     2.0   \n",
       "9      404197     684055  Erlotinib        14  ...   1.0    1.0     2.0   \n",
       "27     797378     684057  Erlotinib        14  ...   2.0    3.0     3.0   \n",
       "\n",
       "    ZNF274 ZNF318 ZNF395 ZNF451 ZNF586 ZNF589 ZW10  \n",
       "0      2.0    2.0    2.0    2.0    2.0    2.0  1.0  \n",
       "9      2.0    2.0    3.0    2.0    2.0    3.0  2.0  \n",
       "27     3.0    4.0    6.0    4.0    3.0    4.0  3.0  \n",
       "\n",
       "[3 rows x 980 columns]"
      ]
     },
     "execution_count": 5,
     "metadata": {},
     "output_type": "execute_result"
    }
   ],
   "source": [
    "# --------------------- #\n",
    "# COPY NUMBER VARIATION #\n",
    "# --------------------- #\n",
    "# Copy number variation gistic final dataset.\n",
    "start = time.time()\n",
    "final_cnv_gistic = pd.read_pickle(f'{PATH_TO_SAVED_CL_FEATURES}{CNV_GISTIC_FINAL_FILE_NAME}')\n",
    "print(f\"CNV Gistic: {final_cnv_gistic.shape} took {time.time()-start:.5f} seconds.\")\n",
    "print(f\"  Number of unique cell-lines : {len(np.unique(final_cnv_gistic.CELL_LINE_NAME.values))}\")\n",
    "print(f\"  Number of gene columns      : {len(final_cnv_gistic.columns[14:])}\")\n",
    "\n",
    "# Copy number variation picnic final dataset.\n",
    "start = time.time()\n",
    "final_cnv_picnic = pd.read_pickle(f'{PATH_TO_SAVED_CL_FEATURES}{CNV_PICNIC_FINAL_FILE_NAME}')\n",
    "print(f\"CNV Picnic: {final_cnv_picnic.shape} took {time.time()-start:.5f} seconds.\")\n",
    "print(f\"  Number of unique cell-lines : {len(np.unique(final_cnv_picnic.CELL_LINE_NAME.values))}\")\n",
    "print(f\"  Number of gene columns      : {len(final_cnv_picnic.columns[14:])}\")\n",
    "final_cnv_picnic.head(3)"
   ]
  },
  {
   "cell_type": "markdown",
   "metadata": {},
   "source": [
    "- All dataframes have the same number of unique cell-lines."
   ]
  },
  {
   "cell_type": "code",
   "execution_count": 6,
   "metadata": {},
   "outputs": [],
   "source": [
    "non_gene_cols = [\n",
    "    'DRUG_ID', 'CELL_LINE_NAME', 'AUC', 'CELL_ID', 'LN_IC50', 'CONC',\n",
    "    'MASTER_CELL_ID', 'INTENSITY', 'DATASET', 'Z_SCORE', 'DRUG_NAME',\n",
    "    'RMSE', 'COSMIC_ID', 'POSITION'\n",
    "]\n",
    "# Check if all non-gene symbol columns are the same.\n",
    "assert len(non_gene_cols) == len(list(set(gene_expr.columns[:14]).intersection(set(final_cnv_gistic.columns[:14])).intersection(set(final_cnv_picnic.columns[:14]))))\n",
    "assert set(gene_expr.columns[:14]) == set(final_cnv_gistic.columns[:14]) == set(final_cnv_picnic.columns[:14])"
   ]
  },
  {
   "cell_type": "code",
   "execution_count": 7,
   "metadata": {},
   "outputs": [],
   "source": [
    "# Only select the gene symbol columns.\n",
    "gene_cols__geneexpr = gene_expr.loc[:, ~gene_expr.columns.isin(non_gene_cols)]\n",
    "gene_cols__cnvgistic = final_cnv_gistic.loc[:, ~final_cnv_gistic.columns.isin(non_gene_cols)]\n",
    "gene_cols__cnvpicnic = final_cnv_picnic.loc[:, ~final_cnv_picnic.columns.isin(non_gene_cols)]"
   ]
  },
  {
   "cell_type": "code",
   "execution_count": 8,
   "metadata": {},
   "outputs": [
    {
     "name": "stdout",
     "output_type": "stream",
     "text": [
      "The number of gene columns which are existent in all dataframes is:\n",
      "870\n",
      "This corresponds to\n",
      "    95.81 % of the gene expression gene columns.\n",
      "    92.75 % of the cnv gistic      gene columns.\n",
      "    90.06 % of the cnv picnic      gene columns.\n"
     ]
    }
   ],
   "source": [
    "# Gene symbols which are in all cell feature dataframes.\n",
    "in_all = set(gene_cols__geneexpr.columns).intersection(\\\n",
    "         set(gene_cols__cnvgistic.columns)).intersection(\\\n",
    "         set(gene_cols__cnvpicnic.columns))\n",
    "len_in_all = len(in_all)\n",
    "print(f\"\"\"The number of gene columns which are existent in all dataframes is:\\n{len_in_all}\n",
    "This corresponds to\n",
    "    {100*len_in_all/len(gene_cols__geneexpr.columns):2.2f} % of the gene expression gene columns.\n",
    "    {100*len_in_all/len(gene_cols__cnvgistic.columns):2.2f} % of the cnv gistic      gene columns.\n",
    "    {100*len_in_all/len(gene_cols__cnvpicnic.columns):2.2f} % of the cnv picnic      gene columns.\"\"\")             "
   ]
  },
  {
   "cell_type": "code",
   "execution_count": 9,
   "metadata": {},
   "outputs": [
    {
     "name": "stdout",
     "output_type": "stream",
     "text": [
      "After selecting only the genes which are existent in all dataset the shapes are:\n",
      "    gene expr  : (446521, 871)\n",
      "    cnv gistic : (446521, 871)\n",
      "    cnv picnic : (446521, 871)\n",
      "\n"
     ]
    },
    {
     "data": {
      "text/html": [
       "<div>\n",
       "<style scoped>\n",
       "    .dataframe tbody tr th:only-of-type {\n",
       "        vertical-align: middle;\n",
       "    }\n",
       "\n",
       "    .dataframe tbody tr th {\n",
       "        vertical-align: top;\n",
       "    }\n",
       "\n",
       "    .dataframe thead th {\n",
       "        text-align: right;\n",
       "    }\n",
       "</style>\n",
       "<table border=\"1\" class=\"dataframe\">\n",
       "  <thead>\n",
       "    <tr style=\"text-align: right;\">\n",
       "      <th></th>\n",
       "      <th>CELL_LINE_NAME</th>\n",
       "      <th>DAG1</th>\n",
       "      <th>CREG1</th>\n",
       "      <th>DNAJB1</th>\n",
       "      <th>PIK3C3</th>\n",
       "      <th>DLD</th>\n",
       "      <th>FBXL12</th>\n",
       "      <th>PAK6</th>\n",
       "      <th>NR2F6</th>\n",
       "      <th>APPBP2</th>\n",
       "      <th>...</th>\n",
       "      <th>C5</th>\n",
       "      <th>MPC2</th>\n",
       "      <th>CDC45</th>\n",
       "      <th>VPS28</th>\n",
       "      <th>GSTZ1</th>\n",
       "      <th>GDPD5</th>\n",
       "      <th>WDTC1</th>\n",
       "      <th>HMGCS1</th>\n",
       "      <th>PIN1</th>\n",
       "      <th>IDE</th>\n",
       "    </tr>\n",
       "  </thead>\n",
       "  <tbody>\n",
       "    <tr>\n",
       "      <th>0</th>\n",
       "      <td>MC-CAR</td>\n",
       "      <td>4.081657</td>\n",
       "      <td>5.677272</td>\n",
       "      <td>6.180353</td>\n",
       "      <td>8.571591</td>\n",
       "      <td>10.334329</td>\n",
       "      <td>7.505240</td>\n",
       "      <td>3.069739</td>\n",
       "      <td>3.299431</td>\n",
       "      <td>6.125682</td>\n",
       "      <td>...</td>\n",
       "      <td>4.049017</td>\n",
       "      <td>9.057813</td>\n",
       "      <td>6.903852</td>\n",
       "      <td>8.363889</td>\n",
       "      <td>6.544324</td>\n",
       "      <td>3.830996</td>\n",
       "      <td>3.461435</td>\n",
       "      <td>7.187368</td>\n",
       "      <td>5.498214</td>\n",
       "      <td>7.723952</td>\n",
       "    </tr>\n",
       "    <tr>\n",
       "      <th>9</th>\n",
       "      <td>ES3</td>\n",
       "      <td>4.196450</td>\n",
       "      <td>7.051789</td>\n",
       "      <td>5.371774</td>\n",
       "      <td>8.330160</td>\n",
       "      <td>10.126326</td>\n",
       "      <td>6.338445</td>\n",
       "      <td>3.057186</td>\n",
       "      <td>3.981936</td>\n",
       "      <td>7.588107</td>\n",
       "      <td>...</td>\n",
       "      <td>5.373765</td>\n",
       "      <td>8.097682</td>\n",
       "      <td>5.208866</td>\n",
       "      <td>9.776040</td>\n",
       "      <td>6.275633</td>\n",
       "      <td>3.354604</td>\n",
       "      <td>3.366880</td>\n",
       "      <td>5.926742</td>\n",
       "      <td>5.984129</td>\n",
       "      <td>6.754155</td>\n",
       "    </tr>\n",
       "    <tr>\n",
       "      <th>27</th>\n",
       "      <td>ES5</td>\n",
       "      <td>4.371250</td>\n",
       "      <td>7.685916</td>\n",
       "      <td>6.476477</td>\n",
       "      <td>8.960452</td>\n",
       "      <td>10.018826</td>\n",
       "      <td>6.803424</td>\n",
       "      <td>3.761746</td>\n",
       "      <td>4.115502</td>\n",
       "      <td>6.899499</td>\n",
       "      <td>...</td>\n",
       "      <td>3.907119</td>\n",
       "      <td>8.554381</td>\n",
       "      <td>6.212660</td>\n",
       "      <td>9.897498</td>\n",
       "      <td>4.892096</td>\n",
       "      <td>3.784822</td>\n",
       "      <td>3.413021</td>\n",
       "      <td>7.650277</td>\n",
       "      <td>5.590448</td>\n",
       "      <td>6.349301</td>\n",
       "    </tr>\n",
       "  </tbody>\n",
       "</table>\n",
       "<p>3 rows × 871 columns</p>\n",
       "</div>"
      ],
      "text/plain": [
       "   CELL_LINE_NAME      DAG1     CREG1    DNAJB1    PIK3C3        DLD  \\\n",
       "0          MC-CAR  4.081657  5.677272  6.180353  8.571591  10.334329   \n",
       "9             ES3  4.196450  7.051789  5.371774  8.330160  10.126326   \n",
       "27            ES5  4.371250  7.685916  6.476477  8.960452  10.018826   \n",
       "\n",
       "      FBXL12      PAK6     NR2F6    APPBP2  ...        C5      MPC2     CDC45  \\\n",
       "0   7.505240  3.069739  3.299431  6.125682  ...  4.049017  9.057813  6.903852   \n",
       "9   6.338445  3.057186  3.981936  7.588107  ...  5.373765  8.097682  5.208866   \n",
       "27  6.803424  3.761746  4.115502  6.899499  ...  3.907119  8.554381  6.212660   \n",
       "\n",
       "       VPS28     GSTZ1     GDPD5     WDTC1    HMGCS1      PIN1       IDE  \n",
       "0   8.363889  6.544324  3.830996  3.461435  7.187368  5.498214  7.723952  \n",
       "9   9.776040  6.275633  3.354604  3.366880  5.926742  5.984129  6.754155  \n",
       "27  9.897498  4.892096  3.784822  3.413021  7.650277  5.590448  6.349301  \n",
       "\n",
       "[3 rows x 871 columns]"
      ]
     },
     "execution_count": 9,
     "metadata": {},
     "output_type": "execute_result"
    }
   ],
   "source": [
    "# Only select the gene columns which are in all dataframes. \n",
    "keep = ['CELL_LINE_NAME']\n",
    "gene_expr_v2 = gene_expr[keep + list(in_all)]\n",
    "cnv_gistic_v2 = final_cnv_gistic[keep + list(in_all)]\n",
    "cnv_picnic_v2 = final_cnv_picnic[keep + list(in_all)]\n",
    "\n",
    "print(f\"\"\"After selecting only the genes which are existent in all dataset the shapes are:\n",
    "    gene expr  : {gene_expr_v2.shape}\n",
    "    cnv gistic : {cnv_gistic_v2.shape}\n",
    "    cnv picnic : {cnv_picnic_v2.shape}\n",
    "\"\"\")\n",
    "gene_expr_v2.head(3)"
   ]
  },
  {
   "cell_type": "code",
   "execution_count": 10,
   "metadata": {},
   "outputs": [
    {
     "name": "stdout",
     "output_type": "stream",
     "text": [
      "Shapes after removing duplicate cell-lines:\n",
      "    gene expr  : (988, 871)\n",
      "    cnv gistic : (988, 871)\n",
      "    cnv picnic : (988, 871)\n",
      "\n"
     ]
    }
   ],
   "source": [
    "# Only select one row per unique cell-line, since the feature values are the same anyways.\n",
    "gene_expr_v3 = gene_expr_v2.drop_duplicates()  # same as .groupby('CELL_LINE_NAME').first()\n",
    "cnv_gistic_v3 = cnv_gistic_v2.drop_duplicates()  # same as .groupby('CELL_LINE_NAME').first()\n",
    "cnv_picnic_v3 = cnv_picnic_v2.drop_duplicates()  # same as .groupby('CELL_LINE_NAME').first()\n",
    "print(f\"\"\"Shapes after removing duplicate cell-lines:\n",
    "    gene expr  : {gene_expr_v3.shape}\n",
    "    cnv gistic : {cnv_gistic_v3.shape}\n",
    "    cnv picnic : {cnv_picnic_v3.shape}\n",
    "\"\"\")"
   ]
  },
  {
   "cell_type": "code",
   "execution_count": 11,
   "metadata": {},
   "outputs": [
    {
     "name": "stdout",
     "output_type": "stream",
     "text": [
      "Shapes after by the cell-line column:\n",
      "    gene expr  : (988, 871)\n",
      "    cnv gistic : (988, 871)\n",
      "    cnv picnic : (988, 871)\n",
      "\n"
     ]
    },
    {
     "data": {
      "text/html": [
       "<div>\n",
       "<style scoped>\n",
       "    .dataframe tbody tr th:only-of-type {\n",
       "        vertical-align: middle;\n",
       "    }\n",
       "\n",
       "    .dataframe tbody tr th {\n",
       "        vertical-align: top;\n",
       "    }\n",
       "\n",
       "    .dataframe thead th {\n",
       "        text-align: right;\n",
       "    }\n",
       "</style>\n",
       "<table border=\"1\" class=\"dataframe\">\n",
       "  <thead>\n",
       "    <tr style=\"text-align: right;\">\n",
       "      <th></th>\n",
       "      <th>CELL_LINE_NAME</th>\n",
       "      <th>DAG1</th>\n",
       "      <th>CREG1</th>\n",
       "      <th>DNAJB1</th>\n",
       "      <th>PIK3C3</th>\n",
       "      <th>DLD</th>\n",
       "      <th>FBXL12</th>\n",
       "      <th>PAK6</th>\n",
       "      <th>NR2F6</th>\n",
       "      <th>APPBP2</th>\n",
       "      <th>...</th>\n",
       "      <th>C5</th>\n",
       "      <th>MPC2</th>\n",
       "      <th>CDC45</th>\n",
       "      <th>VPS28</th>\n",
       "      <th>GSTZ1</th>\n",
       "      <th>GDPD5</th>\n",
       "      <th>WDTC1</th>\n",
       "      <th>HMGCS1</th>\n",
       "      <th>PIN1</th>\n",
       "      <th>IDE</th>\n",
       "    </tr>\n",
       "  </thead>\n",
       "  <tbody>\n",
       "    <tr>\n",
       "      <th>190089</th>\n",
       "      <td>201T</td>\n",
       "      <td>5.176508</td>\n",
       "      <td>10.016432</td>\n",
       "      <td>6.453210</td>\n",
       "      <td>6.949563</td>\n",
       "      <td>11.018893</td>\n",
       "      <td>6.608961</td>\n",
       "      <td>3.270474</td>\n",
       "      <td>4.646564</td>\n",
       "      <td>6.793711</td>\n",
       "      <td>...</td>\n",
       "      <td>8.544732</td>\n",
       "      <td>10.659183</td>\n",
       "      <td>3.837447</td>\n",
       "      <td>8.536009</td>\n",
       "      <td>4.919427</td>\n",
       "      <td>3.377033</td>\n",
       "      <td>3.310140</td>\n",
       "      <td>8.576079</td>\n",
       "      <td>4.915888</td>\n",
       "      <td>7.577092</td>\n",
       "    </tr>\n",
       "    <tr>\n",
       "      <th>188514</th>\n",
       "      <td>22RV1</td>\n",
       "      <td>4.531809</td>\n",
       "      <td>7.914579</td>\n",
       "      <td>6.339245</td>\n",
       "      <td>7.834045</td>\n",
       "      <td>9.595623</td>\n",
       "      <td>7.023759</td>\n",
       "      <td>4.668833</td>\n",
       "      <td>3.993249</td>\n",
       "      <td>6.527064</td>\n",
       "      <td>...</td>\n",
       "      <td>8.655075</td>\n",
       "      <td>11.065614</td>\n",
       "      <td>6.734605</td>\n",
       "      <td>8.691275</td>\n",
       "      <td>6.692639</td>\n",
       "      <td>3.462619</td>\n",
       "      <td>3.187604</td>\n",
       "      <td>8.353595</td>\n",
       "      <td>6.067534</td>\n",
       "      <td>6.678702</td>\n",
       "    </tr>\n",
       "    <tr>\n",
       "      <th>188316</th>\n",
       "      <td>23132-87</td>\n",
       "      <td>4.742977</td>\n",
       "      <td>9.960903</td>\n",
       "      <td>7.649852</td>\n",
       "      <td>8.561532</td>\n",
       "      <td>10.189863</td>\n",
       "      <td>6.714387</td>\n",
       "      <td>3.349600</td>\n",
       "      <td>5.553722</td>\n",
       "      <td>6.268291</td>\n",
       "      <td>...</td>\n",
       "      <td>5.834866</td>\n",
       "      <td>9.766390</td>\n",
       "      <td>4.359462</td>\n",
       "      <td>10.425257</td>\n",
       "      <td>6.662953</td>\n",
       "      <td>4.402000</td>\n",
       "      <td>3.390102</td>\n",
       "      <td>6.734930</td>\n",
       "      <td>5.695096</td>\n",
       "      <td>7.719844</td>\n",
       "    </tr>\n",
       "  </tbody>\n",
       "</table>\n",
       "<p>3 rows × 871 columns</p>\n",
       "</div>"
      ],
      "text/plain": [
       "       CELL_LINE_NAME      DAG1      CREG1    DNAJB1    PIK3C3        DLD  \\\n",
       "190089           201T  5.176508  10.016432  6.453210  6.949563  11.018893   \n",
       "188514          22RV1  4.531809   7.914579  6.339245  7.834045   9.595623   \n",
       "188316       23132-87  4.742977   9.960903  7.649852  8.561532  10.189863   \n",
       "\n",
       "          FBXL12      PAK6     NR2F6    APPBP2  ...        C5       MPC2  \\\n",
       "190089  6.608961  3.270474  4.646564  6.793711  ...  8.544732  10.659183   \n",
       "188514  7.023759  4.668833  3.993249  6.527064  ...  8.655075  11.065614   \n",
       "188316  6.714387  3.349600  5.553722  6.268291  ...  5.834866   9.766390   \n",
       "\n",
       "           CDC45      VPS28     GSTZ1     GDPD5     WDTC1    HMGCS1      PIN1  \\\n",
       "190089  3.837447   8.536009  4.919427  3.377033  3.310140  8.576079  4.915888   \n",
       "188514  6.734605   8.691275  6.692639  3.462619  3.187604  8.353595  6.067534   \n",
       "188316  4.359462  10.425257  6.662953  4.402000  3.390102  6.734930  5.695096   \n",
       "\n",
       "             IDE  \n",
       "190089  7.577092  \n",
       "188514  6.678702  \n",
       "188316  7.719844  \n",
       "\n",
       "[3 rows x 871 columns]"
      ]
     },
     "execution_count": 11,
     "metadata": {},
     "output_type": "execute_result"
    }
   ],
   "source": [
    "# Sort dataframes by cell-line column.\n",
    "gene_expr_v4 = gene_expr_v3.sort_values(['CELL_LINE_NAME'])\n",
    "cnv_gistic_v4 = cnv_gistic_v3.sort_values(['CELL_LINE_NAME'])\n",
    "cnv_picnic_v4 = cnv_picnic_v3.sort_values(['CELL_LINE_NAME'])\n",
    "\n",
    "# Check element-wise if the cell-line columns are exactly the same.\n",
    "assert (gene_expr_v4.CELL_LINE_NAME == cnv_gistic_v4.CELL_LINE_NAME).all()\n",
    "assert (cnv_gistic_v4.CELL_LINE_NAME == cnv_picnic_v4.CELL_LINE_NAME).all()\n",
    "\n",
    "print(f\"\"\"Shapes after by the cell-line column:\n",
    "    gene expr  : {gene_expr_v4.shape}\n",
    "    cnv gistic : {cnv_gistic_v4.shape}\n",
    "    cnv picnic : {cnv_picnic_v4.shape}\n",
    "\"\"\")\n",
    "gene_expr_v4.head(3)"
   ]
  },
  {
   "cell_type": "markdown",
   "metadata": {},
   "source": [
    "Now all datasets have a feature value for the specific gene (column) and cell-line (row).\n",
    "\n",
    "$$\n",
    "\\left [ \\begin{array}{ccccccc} \n",
    "           & g_1         & g_2         & \\cdots & g_i         & \\cdots & g_n \\\\\n",
    "    c_1    & \\begin{bmatrix} v_{ge}^{11} \\\\ v_{cg}^{11} \\\\ v_{cp}^{11} \\end{bmatrix} \n",
    "           & \\begin{bmatrix} v_{ge}^{12} \\\\ v_{cg}^{12} \\\\ v_{cp}^{12} \\end{bmatrix} \n",
    "           & \\cdots \n",
    "           & \\begin{bmatrix} v_{ge}^{1i} \\\\ v_{cg}^{1i} \\\\ v_{cp}^{1i} \\end{bmatrix}\n",
    "           & \\cdots \n",
    "           & \\begin{bmatrix} v_{ge}^{1n} \\\\ v_{cg}^{1n} \\\\ v_{cp}^{1n} \\end{bmatrix} \n",
    "           \\\\ \n",
    "    c_2    & \\begin{bmatrix} v_{ge}^{21} \\\\ v_{cg}^{21} \\\\ v_{cp}^{21} \\end{bmatrix} \n",
    "           & \\begin{bmatrix} v_{ge}^{22} \\\\ v_{cg}^{22} \\\\ v_{cp}^{22} \\end{bmatrix} \n",
    "           & \\cdots \n",
    "           & \\begin{bmatrix} v_{ge}^{2i} \\\\ v_{cg}^{2i} \\\\ v_{cp}^{2i} \\end{bmatrix}\n",
    "           & \\cdots \n",
    "           & \\begin{bmatrix} v_{ge}^{2n} \\\\ v_{cg}^{2n} \\\\ v_{cp}^{2n} \\end{bmatrix} \n",
    "           \\\\ \n",
    "    \\vdots & \\vdots      & \\vdots      & \\ddots & \\vdots      & \\ddots & \\vdots \\\\\n",
    "    c_j    & \\begin{bmatrix} v_{ge}^{j1} \\\\ v_{cg}^{j1} \\\\ v_{cp}^{j1} \\end{bmatrix} \n",
    "           & \\begin{bmatrix} v_{ge}^{j2} \\\\ v_{cg}^{j2} \\\\ v_{cp}^{j2} \\end{bmatrix} \n",
    "           & \\cdots \n",
    "           & \\begin{bmatrix} v_{ge}^{ji} \\\\ v_{cg}^{ji} \\\\ v_{cp}^{ji} \\end{bmatrix}\n",
    "           & \\cdots \n",
    "           & \\begin{bmatrix} v_{ge}^{jn} \\\\ v_{cg}^{jn} \\\\ v_{cp}^{jn} \\end{bmatrix} \n",
    "           \\\\   \n",
    "    \\vdots & \\vdots      & \\vdots      & \\ddots & \\vdots      & \\ddots & \\vdots \\\\\n",
    "    c_m    & \\begin{bmatrix} v_{ge}^{m1} \\\\ v_{cg}^{m1} \\\\ v_{cp}^{m1} \\end{bmatrix} \n",
    "           & \\begin{bmatrix} v_{ge}^{m2} \\\\ v_{cg}^{m2} \\\\ v_{cp}^{m2} \\end{bmatrix} \n",
    "           & \\cdots \n",
    "           & \\begin{bmatrix} v_{ge}^{mi} \\\\ v_{cg}^{mi} \\\\ v_{cp}^{mi} \\end{bmatrix}\n",
    "           & \\cdots \n",
    "           & \\begin{bmatrix} v_{ge}^{mn} \\\\ v_{cg}^{mn} \\\\ v_{cp}^{mn} \\end{bmatrix} \n",
    "           \\\\            \n",
    "\\end{array} \\right ]\n",
    "$$\n",
    "where \n",
    "$$\n",
    "       c_j := \\text{cell line} \\; j \\\\\n",
    "       g_i := \\text{gene} \\; i \\\\\n",
    "       v_{ge}^{ji} := \\text{Gene Expression value of gene} \\; i \\; \\text{ in cell line} \\; j \\\\\n",
    "       v_{cg}^{ji} := \\text{Gistic Copy Number value of gene} \\; i \\; \\text{ in cell line} \\; j \\\\\n",
    "       v_{cp}^{ji} := \\text{Picnic Copy Number value of gene} \\; i \\; \\text{ in cell line} \\; j \\\\\n",
    "       \n",
    "$$\n",
    "\n",
    "- One example is for one cell-line.\n",
    "- we have the same number of features and genes per cell-line.\n",
    "- in total we have 446,521 examples we can use to train the model\n",
    "- out of which 988 are unique cell-lines."
   ]
  },
  {
   "cell_type": "code",
   "execution_count": 12,
   "metadata": {},
   "outputs": [
    {
     "name": "stdout",
     "output_type": "stream",
     "text": [
      "Gene tensor shape: torch.Size([3, 988, 870])\n"
     ]
    },
    {
     "name": "stderr",
     "output_type": "stream",
     "text": [
      "/var/folders/kv/l0jzxgbj1kggff_kd35bfzkw0000gn/T/ipykernel_38101/4172850249.py:6: UserWarning: Creating a tensor from a list of numpy.ndarrays is extremely slow. Please consider converting the list to a single numpy.ndarray with numpy.array() before converting to a tensor. (Triggered internally at  /Users/distiller/project/conda/conda-bld/pytorch_1646756028548/work/torch/csrc/utils/tensor_new.cpp:210.)\n",
      "  gene_tensor = torch.tensor([\n"
     ]
    },
    {
     "data": {
      "text/plain": [
       "tensor([[[ 5.1765, 10.0164,  6.4532,  ...,  8.5761,  4.9159,  7.5771],\n",
       "         [ 4.5318,  7.9146,  6.3392,  ...,  8.3536,  6.0675,  6.6787],\n",
       "         [ 4.7430,  9.9609,  7.6499,  ...,  6.7349,  5.6951,  7.7198],\n",
       "         ...,\n",
       "         [ 4.3330, 10.4536,  6.2461,  ...,  9.2214,  4.8239,  8.1262],\n",
       "         [ 5.1371,  7.5222,  6.8732,  ...,  8.7492,  6.0484,  7.3900],\n",
       "         [ 4.8598,  7.7326,  6.5240,  ...,  6.5641,  5.1952,  6.8858]],\n",
       "\n",
       "        [[ 1.0000,  1.0000, -1.0000,  ...,  1.0000, -1.0000,  0.0000],\n",
       "         [ 0.0000,  1.0000,  0.0000,  ...,  0.0000,  0.0000,  0.0000],\n",
       "         [ 0.0000,  1.0000, -1.0000,  ...,  0.0000, -1.0000,  0.0000],\n",
       "         ...,\n",
       "         [ 0.0000,  1.0000, -1.0000,  ...,  0.0000, -1.0000,  1.0000],\n",
       "         [ 1.0000,  1.0000,  1.0000,  ...,  1.0000,  1.0000, -1.0000],\n",
       "         [ 1.0000,  0.0000, -1.0000,  ...,  2.0000, -1.0000,  0.0000]],\n",
       "\n",
       "        [[ 3.0000,  5.0000,  3.0000,  ...,  5.0000,  3.0000,  3.0000],\n",
       "         [ 2.0000,  3.0000,  2.0000,  ...,  2.0000,  2.0000,  2.0000],\n",
       "         [ 2.0000,  3.0000,  2.0000,  ...,  2.0000,  2.0000,  2.0000],\n",
       "         ...,\n",
       "         [ 3.0000,  4.0000,  2.0000,  ...,  3.0000,  2.0000,  4.0000],\n",
       "         [ 3.0000,  3.0000,  3.0000,  ...,  3.0000,  3.0000,  2.0000],\n",
       "         [ 4.0000,  3.0000,  3.0000,  ...,  5.0000,  3.0000,  3.0000]]],\n",
       "       dtype=torch.float64)"
      ]
     },
     "execution_count": 12,
     "metadata": {},
     "output_type": "execute_result"
    }
   ],
   "source": [
    "\"\"\"\n",
    "1st dim = features\n",
    "2nd dim = cell-lines\n",
    "3rd dim = genes\n",
    "\"\"\"\n",
    "gene_tensor = torch.tensor([\n",
    "    gene_expr_v4.loc[:, gene_expr_v4.columns != 'CELL_LINE_NAME'].to_numpy(dtype=np.float64), \n",
    "    cnv_gistic_v4.loc[:, cnv_gistic_v4.columns != 'CELL_LINE_NAME'].to_numpy(dtype=np.float64), \n",
    "    cnv_picnic_v4.loc[:, cnv_picnic_v4.columns != 'CELL_LINE_NAME'].to_numpy(dtype=np.float64)\n",
    "])\n",
    "print(f\"Gene tensor shape: {gene_tensor.shape}\")\n",
    "gene_tensor"
   ]
  },
  {
   "cell_type": "markdown",
   "metadata": {},
   "source": [
    "__Note__:\n",
    "- 1st Dimension: (the Features)\n",
    "  - `gene_tensor[0]`: all cell-line genes values for the Gene Expression feature.\n",
    "  - `gene_tensor[1]`: all cell-line genes values for the CNV Gistic feature.\n",
    "  - `gene_tensor[2]`: all cell-line genes values for the CNV Picnic feature. \n",
    "- 2nd Dimension: (the cell-lines)\n",
    "  - `gene_tensor[0][0]`: all Gene Expresion values for all genes for the first cell-line _201T_.\n",
    "  - `gene_tensor[1][0]`: all CNV Gistic values for all genes for the first cell-line _201T_.\n",
    "  - `gene_tensor[2][0]`: all CNV Picnic values for all genes for the first cell-line _201T_.\n",
    "- 3rd Dimension: (the genes)\n",
    "  - `gene_tensor[0][0][0]`: the Gene Expression value for the first cell-line _201T_ and the first gene _RRP1B_.\n",
    "  - `gene_tensor[1][0][0]`: the CNV Gistic value for the first cell-line _201T_ and the first gene _RRP1B_.\n",
    "  - `gene_tensor[2][0][0]`: the CNV Picnic value for the first cell-line _201T_ and the first gene _RRP1B_.\n",
    "\n",
    "Each 2nd dimension sample (cell-line) is a training/testing example for the model."
   ]
  },
  {
   "cell_type": "code",
   "execution_count": 112,
   "metadata": {},
   "outputs": [
    {
     "name": "stdout",
     "output_type": "stream",
     "text": [
      "\n",
      "Before flattening : torch.Size([3, 870])\n",
      "After  flattening : torch.Size([2610])\n",
      "\n"
     ]
    }
   ],
   "source": [
    "# An example cell-line\n",
    "CELL_LINE_INDEX = 5\n",
    "ex1 = gene_tensor[:, CELL_LINE_INDEX, :]\n",
    "ex1_flattened = ex1.flatten()\n",
    "print(f\"\"\"\n",
    "Before flattening : {ex1.shape}\n",
    "After  flattening : {ex1_flattened.shape}\n",
    "\"\"\")"
   ]
  },
  {
   "cell_type": "markdown",
   "metadata": {},
   "source": [
    "The flattened vector for the specific `CELL_LINE_NAME` will be the input of the NN."
   ]
  },
  {
   "cell_type": "code",
   "execution_count": 124,
   "metadata": {},
   "outputs": [
    {
     "name": "stdout",
     "output_type": "stream",
     "text": [
      "\n",
      "Before flattening : torch.Size([3, 2, 870])\n",
      "After  flattening : torch.Size([6, 870])\n",
      "\n"
     ]
    }
   ],
   "source": [
    "# An example cell-line\n",
    "ex1 = gene_tensor[:, 5:7, :]\n",
    "ex1_flattened = torch.flatten(ex1, start_dim=0, end_dim=1)\n",
    "print(f\"\"\"\n",
    "Before flattening : {ex1.shape}\n",
    "After  flattening : {ex1_flattened.shape}\n",
    "\"\"\")"
   ]
  },
  {
   "cell_type": "code",
   "execution_count": 162,
   "metadata": {},
   "outputs": [
    {
     "name": "stdout",
     "output_type": "stream",
     "text": [
      "\n",
      "Initial  : torch.Size([3, 2, 870])\n",
      "Raveled  : (5220,)\n",
      "Reshaped : (2, 2610)\n",
      "\n"
     ]
    }
   ],
   "source": [
    "# An example cell-line\n",
    "ex2 = gene_tensor[:, 5:7, :]\n",
    "\n",
    "num_features   = ex2.shape[0]\n",
    "num_cell_lines = ex2.shape[1]\n",
    "num_genes      = ex2.shape[2]\n",
    "\n",
    "ex2_ravel = np.ravel(ex2, order='F')\n",
    "ex2_flattened = np.reshape(ex2_ravel, (num_cell_lines, num_features * num_genes))\n",
    "print(f\"\"\"\n",
    "Initial  : {ex2.shape}\n",
    "Raveled  : {ex2_ravel.shape}\n",
    "Reshaped : {ex2_flattened.shape}\n",
    "\"\"\")"
   ]
  },
  {
   "cell_type": "markdown",
   "metadata": {},
   "source": [
    "Now for the input we have/want\n",
    "$$\n",
    "\\begin{array}{ccccccc} \n",
    "           & g_1         & g_2         & \\cdots & g_i         & \\cdots & g_n \\\\\n",
    "    c_1    & \\begin{bmatrix} v_{ge}^{11} & v_{cg}^{11} & v_{cp}^{11} \\end{bmatrix} \n",
    "           & \\begin{bmatrix} v_{ge}^{12} & v_{cg}^{12} & v_{cp}^{12} \\end{bmatrix} \n",
    "           & \\cdots \n",
    "           & \\begin{bmatrix} v_{ge}^{1i} & v_{cg}^{1i} & v_{cp}^{1i} \\end{bmatrix}\n",
    "           & \\cdots \n",
    "           & \\begin{bmatrix} v_{ge}^{1n} & v_{cg}^{1n} & v_{cp}^{1n} \\end{bmatrix} \n",
    "           \\\\ \n",
    "    c_2    & \\begin{bmatrix} v_{ge}^{21} & v_{cg}^{21} & v_{cp}^{21} \\end{bmatrix} \n",
    "           & \\begin{bmatrix} v_{ge}^{22} & v_{cg}^{22} & v_{cp}^{22} \\end{bmatrix} \n",
    "           & \\cdots \n",
    "           & \\begin{bmatrix} v_{ge}^{2i} & v_{cg}^{2i} & v_{cp}^{2i} \\end{bmatrix}\n",
    "           & \\cdots \n",
    "           & \\begin{bmatrix} v_{ge}^{2n} & v_{cg}^{2n} & v_{cp}^{2n} \\end{bmatrix} \n",
    "           \\\\ \n",
    "    \\vdots & \\vdots      & \\vdots      & \\ddots & \\vdots      & \\ddots & \\vdots \\\\\n",
    "    c_j    & \\begin{bmatrix} v_{ge}^{j1} & v_{cg}^{j1} & v_{cp}^{j1} \\end{bmatrix} \n",
    "           & \\begin{bmatrix} v_{ge}^{j2} & v_{cg}^{j2} & v_{cp}^{j2} \\end{bmatrix} \n",
    "           & \\cdots \n",
    "           & \\begin{bmatrix} v_{ge}^{ji} & v_{cg}^{ji} & v_{cp}^{ji} \\end{bmatrix}\n",
    "           & \\cdots \n",
    "           & \\begin{bmatrix} v_{ge}^{jn} & v_{cg}^{jn} & v_{cp}^{jn} \\end{bmatrix} \n",
    "           \\\\   \n",
    "    \\vdots & \\vdots      & \\vdots      & \\ddots & \\vdots      & \\ddots & \\vdots \\\\\n",
    "    c_m    & \\begin{bmatrix} v_{ge}^{m1} & v_{cg}^{m1} & v_{cp}^{m1} \\end{bmatrix} \n",
    "           & \\begin{bmatrix} v_{ge}^{m2} & v_{cg}^{m2} & v_{cp}^{m2} \\end{bmatrix} \n",
    "           & \\cdots \n",
    "           & \\begin{bmatrix} v_{ge}^{mi} & v_{cg}^{mi} & v_{cp}^{mi} \\end{bmatrix}\n",
    "           & \\cdots \n",
    "           & \\begin{bmatrix} v_{ge}^{mn} & v_{cg}^{mn} & v_{cp}^{mn} \\end{bmatrix} \n",
    "           \\\\            \n",
    "\\end{array}\n",
    "$$\n",
    "\n",
    "Each cell-line row example has the dimension $(1, \\text{numFeatures} * \\text{numGenes})$ which is $(1, 3*870)=(1, 2610)$."
   ]
  },
  {
   "cell_type": "code",
   "execution_count": 13,
   "metadata": {},
   "outputs": [
    {
     "name": "stdout",
     "output_type": "stream",
     "text": [
      "\"\n",
      "    Number of features   : 3\n",
      "    Number of cell-lines : 988\n",
      "    Number of genes      : 870\n",
      "\n"
     ]
    }
   ],
   "source": [
    "NUM_FEATURES   = gene_tensor.shape[0] \n",
    "NUM_CELL_LINES = gene_tensor.shape[1]\n",
    "NUM_GENES      = gene_tensor.shape[2]\n",
    "print(f\"\"\"\"\n",
    "    Number of features   : {NUM_FEATURES}\n",
    "    Number of cell-lines : {NUM_CELL_LINES}\n",
    "    Number of genes      : {NUM_GENES}\n",
    "\"\"\")\n",
    "\n",
    "# TODO: Now we have only the unique cell-lines. Do the same for all cell-lines to make it able to concat back to the drugs later on."
   ]
  },
  {
   "cell_type": "code",
   "execution_count": 176,
   "metadata": {},
   "outputs": [
    {
     "name": "stdout",
     "output_type": "stream",
     "text": [
      "Shape of the whole dataset: torch.Size([988, 2610])\n"
     ]
    }
   ],
   "source": [
    "# ----------------- #\n",
    "# CREATE THE INPUTS #\n",
    "# ----------------- #\n",
    "WHOLE_DATASET_INPUT = torch.from_numpy(np.reshape(a=np.ravel(gene_tensor, order='F'),\n",
    "                                                  newshape=(NUM_CELL_LINES, NUM_FEATURES * NUM_GENES)))\n",
    "print(f\"Shape of the whole dataset: {WHOLE_DATASET_INPUT.shape}\")"
   ]
  },
  {
   "cell_type": "code",
   "execution_count": 20,
   "metadata": {},
   "outputs": [
    {
     "name": "stdout",
     "output_type": "stream",
     "text": [
      "Gene layer shape : torch.Size([870])\n",
      "tensor([0, 1, 2, 3, 4])\n"
     ]
    },
    {
     "data": {
      "text/html": [
       "<div>\n",
       "<style scoped>\n",
       "    .dataframe tbody tr th:only-of-type {\n",
       "        vertical-align: middle;\n",
       "    }\n",
       "\n",
       "    .dataframe tbody tr th {\n",
       "        vertical-align: top;\n",
       "    }\n",
       "\n",
       "    .dataframe thead th {\n",
       "        text-align: right;\n",
       "    }\n",
       "</style>\n",
       "<table border=\"1\" class=\"dataframe\">\n",
       "  <thead>\n",
       "    <tr style=\"text-align: right;\">\n",
       "      <th></th>\n",
       "      <th>index</th>\n",
       "      <th>genes</th>\n",
       "    </tr>\n",
       "  </thead>\n",
       "  <tbody>\n",
       "    <tr>\n",
       "      <th>0</th>\n",
       "      <td>0</td>\n",
       "      <td>DAG1</td>\n",
       "    </tr>\n",
       "    <tr>\n",
       "      <th>1</th>\n",
       "      <td>1</td>\n",
       "      <td>CREG1</td>\n",
       "    </tr>\n",
       "    <tr>\n",
       "      <th>2</th>\n",
       "      <td>2</td>\n",
       "      <td>DNAJB1</td>\n",
       "    </tr>\n",
       "    <tr>\n",
       "      <th>3</th>\n",
       "      <td>3</td>\n",
       "      <td>PIK3C3</td>\n",
       "    </tr>\n",
       "    <tr>\n",
       "      <th>4</th>\n",
       "      <td>4</td>\n",
       "      <td>DLD</td>\n",
       "    </tr>\n",
       "  </tbody>\n",
       "</table>\n",
       "</div>"
      ],
      "text/plain": [
       "   index   genes\n",
       "0      0    DAG1\n",
       "1      1   CREG1\n",
       "2      2  DNAJB1\n",
       "3      3  PIK3C3\n",
       "4      4     DLD"
      ]
     },
     "execution_count": 20,
     "metadata": {},
     "output_type": "execute_result"
    }
   ],
   "source": [
    "# --------------------- #\n",
    "# CREATE THE GENE LAYER #\n",
    "# --------------------- #\n",
    "used_genes = list(gene_expr_v4.loc[:, gene_expr_v4.columns != 'CELL_LINE_NAME'].columns)\n",
    "MAPPING_FROM_GENES_TO_INDICES = pd.DataFrame(used_genes, columns=['genes']).reset_index(level=0)\n",
    "\n",
    "GENE_LAYER_VALUES = torch.tensor(MAPPING_FROM_GENES_TO_INDICES.index.values)\n",
    "print(f\"Gene layer shape : {GENE_LAYER_VALUES.shape}\")\n",
    "print(GENE_LAYER_VALUES[:5])\n",
    "MAPPING_FROM_GENES_TO_INDICES.head(5)"
   ]
  },
  {
   "cell_type": "code",
   "execution_count": 4,
   "metadata": {},
   "outputs": [
    {
     "name": "stdout",
     "output_type": "stream",
     "text": [
      "Gene layer shape : torch.Size([908])\n",
      "tensor([0, 1, 2, 3, 4])\n"
     ]
    },
    {
     "data": {
      "text/html": [
       "<div>\n",
       "<style scoped>\n",
       "    .dataframe tbody tr th:only-of-type {\n",
       "        vertical-align: middle;\n",
       "    }\n",
       "\n",
       "    .dataframe tbody tr th {\n",
       "        vertical-align: top;\n",
       "    }\n",
       "\n",
       "    .dataframe thead th {\n",
       "        text-align: right;\n",
       "    }\n",
       "</style>\n",
       "<table border=\"1\" class=\"dataframe\">\n",
       "  <thead>\n",
       "    <tr style=\"text-align: right;\">\n",
       "      <th></th>\n",
       "      <th>index</th>\n",
       "      <th>genes</th>\n",
       "    </tr>\n",
       "  </thead>\n",
       "  <tbody>\n",
       "    <tr>\n",
       "      <th>0</th>\n",
       "      <td>0</td>\n",
       "      <td>TSPAN6</td>\n",
       "    </tr>\n",
       "    <tr>\n",
       "      <th>1</th>\n",
       "      <td>1</td>\n",
       "      <td>SCYL3</td>\n",
       "    </tr>\n",
       "    <tr>\n",
       "      <th>2</th>\n",
       "      <td>2</td>\n",
       "      <td>BAD</td>\n",
       "    </tr>\n",
       "    <tr>\n",
       "      <th>3</th>\n",
       "      <td>3</td>\n",
       "      <td>LAP3</td>\n",
       "    </tr>\n",
       "    <tr>\n",
       "      <th>4</th>\n",
       "      <td>4</td>\n",
       "      <td>SNX11</td>\n",
       "    </tr>\n",
       "  </tbody>\n",
       "</table>\n",
       "</div>"
      ],
      "text/plain": [
       "   index   genes\n",
       "0      0  TSPAN6\n",
       "1      1   SCYL3\n",
       "2      2     BAD\n",
       "3      3    LAP3\n",
       "4      4   SNX11"
      ]
     },
     "execution_count": 4,
     "metadata": {},
     "output_type": "execute_result"
    }
   ],
   "source": [
    "# ---------------------------------------------- #\n",
    "# CREATE THE GENE LAYER only for gene expression #\n",
    "# ---------------------------------------------- #\n",
    "non_gene_cols = [\n",
    "    'DRUG_ID', 'CELL_LINE_NAME', 'AUC', 'CELL_ID', 'LN_IC50', 'CONC',\n",
    "    'MASTER_CELL_ID', 'INTENSITY', 'DATASET', 'Z_SCORE', 'DRUG_NAME',\n",
    "    'RMSE', 'COSMIC_ID', 'POSITION'\n",
    "]\n",
    "\n",
    "gene_cols__geneexpr = gene_expr.loc[:, ~gene_expr.columns.isin(non_gene_cols)]\n",
    "gene_expr_v2 = gene_expr[['CELL_LINE_NAME'] + list(gene_cols__geneexpr.columns)].drop_duplicates()\n",
    "\n",
    "used_genes = list(gene_expr_v2.loc[:, gene_expr_v2.columns != 'CELL_LINE_NAME'].columns)\n",
    "MAPPING_FROM_GENES_TO_INDICES = pd.DataFrame(used_genes, columns=['genes']).reset_index(level=0)\n",
    "\n",
    "GENE_LAYER_VALUES = torch.tensor(MAPPING_FROM_GENES_TO_INDICES.index.values)\n",
    "print(f\"Gene layer shape : {GENE_LAYER_VALUES.shape}\")\n",
    "print(GENE_LAYER_VALUES[:5])\n",
    "MAPPING_FROM_GENES_TO_INDICES.head(5)"
   ]
  },
  {
   "cell_type": "code",
   "execution_count": null,
   "metadata": {},
   "outputs": [
    {
     "name": "stdout",
     "output_type": "stream",
     "text": [
      "Drug Shape: (428, 258)\n"
     ]
    },
    {
     "data": {
      "text/html": [
       "<div>\n",
       "<style scoped>\n",
       "    .dataframe tbody tr th:only-of-type {\n",
       "        vertical-align: middle;\n",
       "    }\n",
       "\n",
       "    .dataframe tbody tr th {\n",
       "        vertical-align: top;\n",
       "    }\n",
       "\n",
       "    .dataframe thead th {\n",
       "        text-align: right;\n",
       "    }\n",
       "</style>\n",
       "<table border=\"1\" class=\"dataframe\">\n",
       "  <thead>\n",
       "    <tr style=\"text-align: right;\">\n",
       "      <th></th>\n",
       "      <th>drug_name</th>\n",
       "      <th>0</th>\n",
       "      <th>1</th>\n",
       "      <th>2</th>\n",
       "      <th>3</th>\n",
       "      <th>4</th>\n",
       "      <th>5</th>\n",
       "      <th>6</th>\n",
       "      <th>7</th>\n",
       "      <th>8</th>\n",
       "      <th>...</th>\n",
       "      <th>247</th>\n",
       "      <th>248</th>\n",
       "      <th>249</th>\n",
       "      <th>250</th>\n",
       "      <th>251</th>\n",
       "      <th>252</th>\n",
       "      <th>253</th>\n",
       "      <th>254</th>\n",
       "      <th>255</th>\n",
       "      <th>DRUG_ID</th>\n",
       "    </tr>\n",
       "  </thead>\n",
       "  <tbody>\n",
       "    <tr>\n",
       "      <th>0</th>\n",
       "      <td>(5Z)-7-Oxozeaenol</td>\n",
       "      <td>1</td>\n",
       "      <td>0</td>\n",
       "      <td>0</td>\n",
       "      <td>1</td>\n",
       "      <td>1</td>\n",
       "      <td>0</td>\n",
       "      <td>0</td>\n",
       "      <td>0</td>\n",
       "      <td>0</td>\n",
       "      <td>...</td>\n",
       "      <td>0</td>\n",
       "      <td>0</td>\n",
       "      <td>0</td>\n",
       "      <td>0</td>\n",
       "      <td>1</td>\n",
       "      <td>1</td>\n",
       "      <td>0</td>\n",
       "      <td>1</td>\n",
       "      <td>0</td>\n",
       "      <td>1242</td>\n",
       "    </tr>\n",
       "    <tr>\n",
       "      <th>912</th>\n",
       "      <td>5-Fluorouracil</td>\n",
       "      <td>0</td>\n",
       "      <td>0</td>\n",
       "      <td>0</td>\n",
       "      <td>0</td>\n",
       "      <td>0</td>\n",
       "      <td>0</td>\n",
       "      <td>0</td>\n",
       "      <td>0</td>\n",
       "      <td>0</td>\n",
       "      <td>...</td>\n",
       "      <td>0</td>\n",
       "      <td>0</td>\n",
       "      <td>0</td>\n",
       "      <td>0</td>\n",
       "      <td>0</td>\n",
       "      <td>0</td>\n",
       "      <td>0</td>\n",
       "      <td>0</td>\n",
       "      <td>1</td>\n",
       "      <td>179</td>\n",
       "    </tr>\n",
       "    <tr>\n",
       "      <th>1825</th>\n",
       "      <td>5-Fluorouracil</td>\n",
       "      <td>0</td>\n",
       "      <td>0</td>\n",
       "      <td>0</td>\n",
       "      <td>0</td>\n",
       "      <td>0</td>\n",
       "      <td>0</td>\n",
       "      <td>0</td>\n",
       "      <td>0</td>\n",
       "      <td>0</td>\n",
       "      <td>...</td>\n",
       "      <td>0</td>\n",
       "      <td>0</td>\n",
       "      <td>0</td>\n",
       "      <td>0</td>\n",
       "      <td>0</td>\n",
       "      <td>0</td>\n",
       "      <td>0</td>\n",
       "      <td>0</td>\n",
       "      <td>1</td>\n",
       "      <td>1073</td>\n",
       "    </tr>\n",
       "  </tbody>\n",
       "</table>\n",
       "<p>3 rows × 258 columns</p>\n",
       "</div>"
      ],
      "text/plain": [
       "              drug_name  0  1  2  3  4  5  6  7  8  ...  247  248  249  250  \\\n",
       "0     (5Z)-7-Oxozeaenol  1  0  0  1  1  0  0  0  0  ...    0    0    0    0   \n",
       "912      5-Fluorouracil  0  0  0  0  0  0  0  0  0  ...    0    0    0    0   \n",
       "1825     5-Fluorouracil  0  0  0  0  0  0  0  0  0  ...    0    0    0    0   \n",
       "\n",
       "      251  252  253  254  255  DRUG_ID  \n",
       "0       1    1    0    1    0     1242  \n",
       "912     0    0    0    0    1      179  \n",
       "1825    0    0    0    0    1     1073  \n",
       "\n",
       "[3 rows x 258 columns]"
      ]
     },
     "metadata": {},
     "output_type": "display_data"
    }
   ],
   "source": [
    "# ----------------------- # \n",
    "# DEFINE CELL & DRUG DATA #\n",
    "# ----------------------- #\n",
    "# gene_tensor = torch.tensor([\n",
    "#     gene_expr.loc[:, gene_expr.columns != 'CELL_LINE_NAME'].to_numpy(dtype=np.float64)\n",
    "# ])\n",
    "# print(f\"Gene tensor shape: {gene_tensor.shape}\")\n",
    "\n",
    "# # Cell data: For now only the gene expression information.\n",
    "# gene_expr_data = gene_tensor[0][:]\n",
    "\n",
    "# Drug data.\n",
    "with open(f'{PATH_TO_SAVED_DRUG_FEATURES}drug_name_fingerprints_dataframe.pkl', 'rb') as f:\n",
    "    drug_name_fps = pickle.load(f)\n",
    "drug_name_fps_v2 = pd.merge(left=drug_name_fps, \n",
    "                            right=gene_expr[['DRUG_ID', 'DRUG_NAME']], \n",
    "                            how='left', \n",
    "                            left_on=['drug_name'], \n",
    "                            right_on=['DRUG_NAME'])\n",
    "drug_name_fps_v2.drop_duplicates(inplace=True)\n",
    "drug_name_fps_v2.drop(['DRUG_NAME'], axis=1, inplace=True)                           \n",
    "print(f\"Drug Shape: {drug_name_fps_v2.shape}\")\n",
    "drug_name_fps_v2.head(3)"
   ]
  },
  {
   "cell_type": "markdown",
   "metadata": {},
   "source": [
    "- The `DRUG_ID`'s hold as the values of the nodes in the NN.\n",
    "- "
   ]
  },
  {
   "cell_type": "code",
   "execution_count": 72,
   "metadata": {},
   "outputs": [
    {
     "name": "stdout",
     "output_type": "stream",
     "text": [
      "Shape: (446521, 257)\n"
     ]
    },
    {
     "data": {
      "text/html": [
       "<div>\n",
       "<style scoped>\n",
       "    .dataframe tbody tr th:only-of-type {\n",
       "        vertical-align: middle;\n",
       "    }\n",
       "\n",
       "    .dataframe tbody tr th {\n",
       "        vertical-align: top;\n",
       "    }\n",
       "\n",
       "    .dataframe thead th {\n",
       "        text-align: right;\n",
       "    }\n",
       "</style>\n",
       "<table border=\"1\" class=\"dataframe\">\n",
       "  <thead>\n",
       "    <tr style=\"text-align: right;\">\n",
       "      <th></th>\n",
       "      <th>DRUG_ID</th>\n",
       "      <th>0</th>\n",
       "      <th>1</th>\n",
       "      <th>2</th>\n",
       "      <th>3</th>\n",
       "      <th>4</th>\n",
       "      <th>5</th>\n",
       "      <th>6</th>\n",
       "      <th>7</th>\n",
       "      <th>8</th>\n",
       "      <th>...</th>\n",
       "      <th>246</th>\n",
       "      <th>247</th>\n",
       "      <th>248</th>\n",
       "      <th>249</th>\n",
       "      <th>250</th>\n",
       "      <th>251</th>\n",
       "      <th>252</th>\n",
       "      <th>253</th>\n",
       "      <th>254</th>\n",
       "      <th>255</th>\n",
       "    </tr>\n",
       "  </thead>\n",
       "  <tbody>\n",
       "    <tr>\n",
       "      <th>0</th>\n",
       "      <td>1</td>\n",
       "      <td>0.0</td>\n",
       "      <td>0.0</td>\n",
       "      <td>0.0</td>\n",
       "      <td>0.0</td>\n",
       "      <td>0.0</td>\n",
       "      <td>0.0</td>\n",
       "      <td>0.0</td>\n",
       "      <td>0.0</td>\n",
       "      <td>0.0</td>\n",
       "      <td>...</td>\n",
       "      <td>0.0</td>\n",
       "      <td>0.0</td>\n",
       "      <td>0.0</td>\n",
       "      <td>0.0</td>\n",
       "      <td>0.0</td>\n",
       "      <td>0.0</td>\n",
       "      <td>0.0</td>\n",
       "      <td>0.0</td>\n",
       "      <td>0.0</td>\n",
       "      <td>0.0</td>\n",
       "    </tr>\n",
       "    <tr>\n",
       "      <th>1</th>\n",
       "      <td>1</td>\n",
       "      <td>0.0</td>\n",
       "      <td>0.0</td>\n",
       "      <td>0.0</td>\n",
       "      <td>0.0</td>\n",
       "      <td>0.0</td>\n",
       "      <td>0.0</td>\n",
       "      <td>0.0</td>\n",
       "      <td>0.0</td>\n",
       "      <td>0.0</td>\n",
       "      <td>...</td>\n",
       "      <td>0.0</td>\n",
       "      <td>0.0</td>\n",
       "      <td>0.0</td>\n",
       "      <td>0.0</td>\n",
       "      <td>0.0</td>\n",
       "      <td>0.0</td>\n",
       "      <td>0.0</td>\n",
       "      <td>0.0</td>\n",
       "      <td>0.0</td>\n",
       "      <td>0.0</td>\n",
       "    </tr>\n",
       "    <tr>\n",
       "      <th>2</th>\n",
       "      <td>1</td>\n",
       "      <td>0.0</td>\n",
       "      <td>0.0</td>\n",
       "      <td>0.0</td>\n",
       "      <td>0.0</td>\n",
       "      <td>0.0</td>\n",
       "      <td>0.0</td>\n",
       "      <td>0.0</td>\n",
       "      <td>0.0</td>\n",
       "      <td>0.0</td>\n",
       "      <td>...</td>\n",
       "      <td>0.0</td>\n",
       "      <td>0.0</td>\n",
       "      <td>0.0</td>\n",
       "      <td>0.0</td>\n",
       "      <td>0.0</td>\n",
       "      <td>0.0</td>\n",
       "      <td>0.0</td>\n",
       "      <td>0.0</td>\n",
       "      <td>0.0</td>\n",
       "      <td>0.0</td>\n",
       "    </tr>\n",
       "    <tr>\n",
       "      <th>3</th>\n",
       "      <td>1</td>\n",
       "      <td>0.0</td>\n",
       "      <td>0.0</td>\n",
       "      <td>0.0</td>\n",
       "      <td>0.0</td>\n",
       "      <td>0.0</td>\n",
       "      <td>0.0</td>\n",
       "      <td>0.0</td>\n",
       "      <td>0.0</td>\n",
       "      <td>0.0</td>\n",
       "      <td>...</td>\n",
       "      <td>0.0</td>\n",
       "      <td>0.0</td>\n",
       "      <td>0.0</td>\n",
       "      <td>0.0</td>\n",
       "      <td>0.0</td>\n",
       "      <td>0.0</td>\n",
       "      <td>0.0</td>\n",
       "      <td>0.0</td>\n",
       "      <td>0.0</td>\n",
       "      <td>0.0</td>\n",
       "    </tr>\n",
       "    <tr>\n",
       "      <th>4</th>\n",
       "      <td>1</td>\n",
       "      <td>0.0</td>\n",
       "      <td>0.0</td>\n",
       "      <td>0.0</td>\n",
       "      <td>0.0</td>\n",
       "      <td>0.0</td>\n",
       "      <td>0.0</td>\n",
       "      <td>0.0</td>\n",
       "      <td>0.0</td>\n",
       "      <td>0.0</td>\n",
       "      <td>...</td>\n",
       "      <td>0.0</td>\n",
       "      <td>0.0</td>\n",
       "      <td>0.0</td>\n",
       "      <td>0.0</td>\n",
       "      <td>0.0</td>\n",
       "      <td>0.0</td>\n",
       "      <td>0.0</td>\n",
       "      <td>0.0</td>\n",
       "      <td>0.0</td>\n",
       "      <td>0.0</td>\n",
       "    </tr>\n",
       "  </tbody>\n",
       "</table>\n",
       "<p>5 rows × 257 columns</p>\n",
       "</div>"
      ],
      "text/plain": [
       "   DRUG_ID    0    1    2    3    4    5    6    7    8  ...  246  247  248  \\\n",
       "0        1  0.0  0.0  0.0  0.0  0.0  0.0  0.0  0.0  0.0  ...  0.0  0.0  0.0   \n",
       "1        1  0.0  0.0  0.0  0.0  0.0  0.0  0.0  0.0  0.0  ...  0.0  0.0  0.0   \n",
       "2        1  0.0  0.0  0.0  0.0  0.0  0.0  0.0  0.0  0.0  ...  0.0  0.0  0.0   \n",
       "3        1  0.0  0.0  0.0  0.0  0.0  0.0  0.0  0.0  0.0  ...  0.0  0.0  0.0   \n",
       "4        1  0.0  0.0  0.0  0.0  0.0  0.0  0.0  0.0  0.0  ...  0.0  0.0  0.0   \n",
       "\n",
       "   249  250  251  252  253  254  255  \n",
       "0  0.0  0.0  0.0  0.0  0.0  0.0  0.0  \n",
       "1  0.0  0.0  0.0  0.0  0.0  0.0  0.0  \n",
       "2  0.0  0.0  0.0  0.0  0.0  0.0  0.0  \n",
       "3  0.0  0.0  0.0  0.0  0.0  0.0  0.0  \n",
       "4  0.0  0.0  0.0  0.0  0.0  0.0  0.0  \n",
       "\n",
       "[5 rows x 257 columns]"
      ]
     },
     "execution_count": 72,
     "metadata": {},
     "output_type": "execute_result"
    }
   ],
   "source": [
    "# For each row of the FULL_DATASET get the corresponding Morgan Fingerprint for the specific drug.\n",
    "# FULL_DATASET = gene_expr.\n",
    "FPS = pd.merge(left=gene_expr['DRUG_ID'], \n",
    "                right=drug_name_fps_v2.loc[:, ~drug_name_fps_v2.columns.isin(['drug_name'])], \n",
    "                how='left', \n",
    "                left_on=['DRUG_ID'], \n",
    "                right_on=['DRUG_ID'])\n",
    "print(f\"Shape: {FPS.shape}\")\n",
    "FPS.head(5)                "
   ]
  },
  {
   "cell_type": "code",
   "execution_count": 67,
   "metadata": {},
   "outputs": [
    {
     "name": "stdout",
     "output_type": "stream",
     "text": [
      "with NaN: (446521, 922)\n",
      "w/o  NaN: (424015, 922)\n"
     ]
    }
   ],
   "source": [
    "print(f\"with NaN: {gene_expr.shape}\")\n",
    "print(f\"w/o  NaN: {gene_expr.dropna().shape}\")"
   ]
  },
  {
   "cell_type": "code",
   "execution_count": 90,
   "metadata": {},
   "outputs": [],
   "source": [
    "from typing import List\n",
    "\n",
    "class ModelDataset(Dataset): \n",
    "    def __init__(self, \n",
    "                 full_data: pd.DataFrame,\n",
    "                 cell_cols: List[str],\n",
    "                 drug_cols: List[str],\n",
    "                 cell_identifier: str,\n",
    "                 drug_identifier: str,\n",
    "                 corresponding_fps: pd.DataFrame = FPS,\n",
    "                 target_col: str='LN_IC50'): \n",
    "        # Drop all nans. \n",
    "        print(full_data.shape)\n",
    "        full_data = full_data.dropna()\n",
    "        print(full_data.shape)\n",
    "\n",
    "        X = full_data[cell_cols + drug_cols]\n",
    "        y = full_data[target_col]\n",
    "\n",
    "        fps = pd.merge(left=full_data['DRUG_ID'], \n",
    "                right=drug_name_fps_v2.loc[:, ~drug_name_fps_v2.columns.isin(['drug_name'])], \n",
    "                how='left', \n",
    "                left_on=['DRUG_ID'], \n",
    "                right_on=['DRUG_ID'])\n",
    "\n",
    "        X_cell = X[cell_cols]\n",
    "        X_drug = copy.deepcopy(fps)\n",
    "\n",
    "        print(f\"X_cell.shape: {X_cell.shape}\")\n",
    "        print(f\"X_drug.shape: {X_drug.shape}\")\n",
    "\n",
    "        # Contains only the gene columns and the respective feature value. Here GeneExpression.\n",
    "        self.X = torch.tensor(X.loc[:, ~X.columns.isin([cell_identifier] + ['DRUG_NAME'])].values, dtype=torch.float32)\n",
    "        self.X_cell = torch.tensor(X_cell.loc[:, ~X_cell.columns.isin([cell_identifier])].values, dtype=torch.float32)\n",
    "        self.X_drug = torch.tensor(X_drug.loc[:, ~X_drug.columns.isin([drug_identifier])].values, dtype=torch.float32)\n",
    "        #self.X_cell = torch.tensor(X.loc[:, ~X_cell.columns.isin([cell_identifier])].values, dtype=torch.float32)\n",
    "        #self.X_drug = torch.tensor(X.loc[:, ~X_drug.columns.isin([drug_identifier])].values, dtype=torch.float32)\n",
    "        self.y = torch.tensor(y.values, dtype=torch.float32)\n",
    "\n",
    "    def __len__(self): \n",
    "        return len(self.y)\n",
    "\n",
    "    def __getitem__(self, idx):\n",
    "        return self.X[idx], self.X_cell[idx], self.X_drug[idx], self.y[idx]"
   ]
  },
  {
   "cell_type": "code",
   "execution_count": 6,
   "metadata": {},
   "outputs": [
    {
     "name": "stdout",
     "output_type": "stream",
     "text": [
      "(446521, 922)\n"
     ]
    },
    {
     "data": {
      "text/html": [
       "<div>\n",
       "<style scoped>\n",
       "    .dataframe tbody tr th:only-of-type {\n",
       "        vertical-align: middle;\n",
       "    }\n",
       "\n",
       "    .dataframe tbody tr th {\n",
       "        vertical-align: top;\n",
       "    }\n",
       "\n",
       "    .dataframe thead th {\n",
       "        text-align: right;\n",
       "    }\n",
       "</style>\n",
       "<table border=\"1\" class=\"dataframe\">\n",
       "  <thead>\n",
       "    <tr style=\"text-align: right;\">\n",
       "      <th></th>\n",
       "      <th>DRUG_ID</th>\n",
       "      <th>CELL_LINE_NAME</th>\n",
       "      <th>LN_IC50</th>\n",
       "      <th>DRUG_NAME</th>\n",
       "      <th>RMSE</th>\n",
       "      <th>TSPAN6</th>\n",
       "      <th>SCYL3</th>\n",
       "      <th>BAD</th>\n",
       "      <th>LAP3</th>\n",
       "      <th>SNX11</th>\n",
       "      <th>...</th>\n",
       "      <th>MYCBP</th>\n",
       "      <th>FIS1</th>\n",
       "      <th>IFRD2</th>\n",
       "      <th>NPEPL1</th>\n",
       "      <th>CEBPD</th>\n",
       "      <th>PLEKHM1</th>\n",
       "      <th>MIF</th>\n",
       "      <th>PRAF2</th>\n",
       "      <th>LYN</th>\n",
       "      <th>POLG2</th>\n",
       "    </tr>\n",
       "  </thead>\n",
       "  <tbody>\n",
       "    <tr>\n",
       "      <th>0</th>\n",
       "      <td>1</td>\n",
       "      <td>MC-CAR</td>\n",
       "      <td>2.395685</td>\n",
       "      <td>Erlotinib</td>\n",
       "      <td>0.022521</td>\n",
       "      <td>3.238273</td>\n",
       "      <td>4.856061</td>\n",
       "      <td>5.900525</td>\n",
       "      <td>8.120975</td>\n",
       "      <td>6.789716</td>\n",
       "      <td>...</td>\n",
       "      <td>8.355826</td>\n",
       "      <td>8.951680</td>\n",
       "      <td>7.205590</td>\n",
       "      <td>3.277948</td>\n",
       "      <td>3.465672</td>\n",
       "      <td>6.312806</td>\n",
       "      <td>12.112498</td>\n",
       "      <td>3.010237</td>\n",
       "      <td>8.750848</td>\n",
       "      <td>6.199366</td>\n",
       "    </tr>\n",
       "    <tr>\n",
       "      <th>9</th>\n",
       "      <td>1</td>\n",
       "      <td>ES3</td>\n",
       "      <td>3.140923</td>\n",
       "      <td>Erlotinib</td>\n",
       "      <td>0.031840</td>\n",
       "      <td>8.690198</td>\n",
       "      <td>4.572198</td>\n",
       "      <td>6.927127</td>\n",
       "      <td>5.595564</td>\n",
       "      <td>5.040800</td>\n",
       "      <td>...</td>\n",
       "      <td>5.995760</td>\n",
       "      <td>9.337588</td>\n",
       "      <td>7.468226</td>\n",
       "      <td>3.716270</td>\n",
       "      <td>5.363887</td>\n",
       "      <td>6.188079</td>\n",
       "      <td>12.281947</td>\n",
       "      <td>4.794624</td>\n",
       "      <td>3.588528</td>\n",
       "      <td>6.785201</td>\n",
       "    </tr>\n",
       "    <tr>\n",
       "      <th>27</th>\n",
       "      <td>1</td>\n",
       "      <td>ES5</td>\n",
       "      <td>3.968757</td>\n",
       "      <td>Erlotinib</td>\n",
       "      <td>0.026052</td>\n",
       "      <td>8.233101</td>\n",
       "      <td>4.749715</td>\n",
       "      <td>7.123143</td>\n",
       "      <td>5.458094</td>\n",
       "      <td>4.598347</td>\n",
       "      <td>...</td>\n",
       "      <td>6.939741</td>\n",
       "      <td>8.688176</td>\n",
       "      <td>7.085349</td>\n",
       "      <td>3.688222</td>\n",
       "      <td>4.572119</td>\n",
       "      <td>6.345090</td>\n",
       "      <td>12.276166</td>\n",
       "      <td>4.114092</td>\n",
       "      <td>5.768098</td>\n",
       "      <td>7.505155</td>\n",
       "    </tr>\n",
       "  </tbody>\n",
       "</table>\n",
       "<p>3 rows × 913 columns</p>\n",
       "</div>"
      ],
      "text/plain": [
       "    DRUG_ID CELL_LINE_NAME   LN_IC50  DRUG_NAME      RMSE    TSPAN6     SCYL3  \\\n",
       "0         1         MC-CAR  2.395685  Erlotinib  0.022521  3.238273  4.856061   \n",
       "9         1            ES3  3.140923  Erlotinib  0.031840  8.690198  4.572198   \n",
       "27        1            ES5  3.968757  Erlotinib  0.026052  8.233101  4.749715   \n",
       "\n",
       "         BAD      LAP3     SNX11  ...     MYCBP      FIS1     IFRD2    NPEPL1  \\\n",
       "0   5.900525  8.120975  6.789716  ...  8.355826  8.951680  7.205590  3.277948   \n",
       "9   6.927127  5.595564  5.040800  ...  5.995760  9.337588  7.468226  3.716270   \n",
       "27  7.123143  5.458094  4.598347  ...  6.939741  8.688176  7.085349  3.688222   \n",
       "\n",
       "       CEBPD   PLEKHM1        MIF     PRAF2       LYN     POLG2  \n",
       "0   3.465672  6.312806  12.112498  3.010237  8.750848  6.199366  \n",
       "9   5.363887  6.188079  12.281947  4.794624  3.588528  6.785201  \n",
       "27  4.572119  6.345090  12.276166  4.114092  5.768098  7.505155  \n",
       "\n",
       "[3 rows x 913 columns]"
      ]
     },
     "execution_count": 6,
     "metadata": {},
     "output_type": "execute_result"
    }
   ],
   "source": [
    "print(gene_expr.shape)\n",
    "gene_expr.loc[:, ~gene_expr.columns.isin(['AUC', 'CELL_ID', 'CONC', 'MASTER_CELL_ID', 'INTENSITY', 'DATASET', 'Z_SCORE', 'COSMIC_ID', 'POSITION'])].head(3)"
   ]
  },
  {
   "cell_type": "code",
   "execution_count": 297,
   "metadata": {},
   "outputs": [],
   "source": [
    "# --------------------------------------------------- #\n",
    "# Delete all rows from the dataset for which there is #\n",
    "# no fingerprint for the specific drug.               #\n",
    "# --------------------------------------------------- #\n",
    "# Dataset for modeling which has fingerprints for each DRUG_ID.\n",
    "all_drugs_with_fps = np.unique(drug_name_fps_v2.DRUG_ID).tolist()\n",
    "modeling_dataset = gene_expr[gene_expr.DRUG_ID.isin(all_drugs_with_fps)]\n",
    "\n",
    "uniq_drugs_in__modeling_dataset = len(np.unique(modeling_dataset.DRUG_ID.values))\n",
    "uniq_drugs_with__fingerprints = len(np.unique(drug_name_fps_v2.DRUG_ID).tolist())\n",
    "\n",
    "assert uniq_drugs_in__modeling_dataset == uniq_drugs_with__fingerprints,\\\n",
    "    f\"ERROR: Modeling dataset has {uniq_drugs_in__modeling_dataset} DRUG_ID's while there are only {uniq_drugs_with__fingerprints} DRUG_ID's with fingerprints.\""
   ]
  },
  {
   "cell_type": "code",
   "execution_count": 362,
   "metadata": {},
   "outputs": [
    {
     "name": "stdout",
     "output_type": "stream",
     "text": [
      "(370963, 922)\n",
      "(352042, 922)\n",
      "X_cell.shape: (352042, 909)\n",
      "X_drug.shape: (352042, 257)\n"
     ]
    },
    {
     "data": {
      "text/plain": [
       "'\\nTODO: Filter out NaNs\\nin a tensor do \\n    model_dataset.X[~torch.any(model_dataset.X.isnan(),dim=1)]\\n'"
      ]
     },
     "execution_count": 362,
     "metadata": {},
     "output_type": "execute_result"
    }
   ],
   "source": [
    "# ---------------------------- #\n",
    "# Create the modeling dataset. #\n",
    "# ---------------------------- #\n",
    "CELL_IDENTIFIER = 'CELL_LINE_NAME'\n",
    "DRUG_IDENTIFIER = 'DRUG_ID'\n",
    "TARGET_IDENTIFIER = 'LN_IC50'\n",
    "\n",
    "uniq_drug_ids = list(np.unique(modeling_dataset.DRUG_ID.values))\n",
    "\n",
    "model_dataset = ModelDataset(full_data       = modeling_dataset,\n",
    "                             cell_cols       = [CELL_IDENTIFIER] + list(MAPPING_FROM_GENES_TO_INDICES.genes.values),\n",
    "                             drug_cols       = [DRUG_IDENTIFIER, 'DRUG_NAME'],\n",
    "                             cell_identifier = CELL_IDENTIFIER,\n",
    "                             drug_identifier = DRUG_IDENTIFIER,\n",
    "                             target_col      = TARGET_IDENTIFIER)\n",
    "\n",
    "assert torch.isnan(model_dataset.X_drug).any() == False, \"ERROR: Some drugs in the dataset have no fingerprints.\"\n",
    "\n",
    "'''\n",
    "TODO: Filter out NaNs\n",
    "in a tensor do \n",
    "    model_dataset.X[~torch.any(model_dataset.X.isnan(),dim=1)]\n",
    "'''"
   ]
  },
  {
   "cell_type": "code",
   "execution_count": 363,
   "metadata": {},
   "outputs": [
    {
     "name": "stdout",
     "output_type": "stream",
     "text": [
      "\n",
      "    Shapes \n",
      "        Train : \n",
      "            X : torch.Size([352042, 909])\n",
      "                X_cell : torch.Size([352042, 908])\n",
      "                X_drug : torch.Size([352042, 256])\n",
      "            y : torch.Size([352042])\n",
      "        Test  :\n",
      "            X : torch.Size([352042, 909])\n",
      "                X_cell : torch.Size([352042, 908])\n",
      "                X_drug : torch.Size([352042, 256])            \n",
      "            y : torch.Size([352042])\n",
      "\n"
     ]
    }
   ],
   "source": [
    "train_set_split_ratio = 0.8\n",
    "\n",
    "train_size = int(train_set_split_ratio * len(model_dataset))\n",
    "test_size = len(model_dataset) - train_size\n",
    "train_set, test_set = torch.utils.data.random_split(model_dataset, \n",
    "                                                    [train_size, test_size],\n",
    "                                                    generator=torch.Generator().manual_seed(42))\n",
    "\n",
    "print(f\"\"\"\n",
    "    Shapes \n",
    "        Train : \n",
    "            X : {train_set.dataset.X.shape}\n",
    "                X_cell : {train_set.dataset.X_cell.shape}\n",
    "                X_drug : {train_set.dataset.X_drug.shape}\n",
    "            y : {train_set.dataset.y.shape}\n",
    "        Test  :\n",
    "            X : {test_set.dataset.X.shape}\n",
    "                X_cell : {test_set.dataset.X_cell.shape}\n",
    "                X_drug : {test_set.dataset.X_drug.shape}            \n",
    "            y : {test_set.dataset.y.shape}\n",
    "\"\"\")\n",
    "# TODO: why does the test set have the same shape?                                                  "
   ]
  },
  {
   "cell_type": "code",
   "execution_count": 364,
   "metadata": {},
   "outputs": [
    {
     "data": {
      "text/plain": [
       "tensor([[3.2383e+00, 4.8561e+00, 5.9005e+00,  ..., 8.7508e+00, 6.1994e+00,\n",
       "         1.0000e+00],\n",
       "        [8.6902e+00, 4.5722e+00, 6.9271e+00,  ..., 3.5885e+00, 6.7852e+00,\n",
       "         1.0000e+00],\n",
       "        [8.2331e+00, 4.7497e+00, 7.1231e+00,  ..., 5.7681e+00, 7.5052e+00,\n",
       "         1.0000e+00],\n",
       "        ...,\n",
       "        [8.5936e+00, 4.2324e+00, 6.2138e+00,  ..., 7.2147e+00, 6.5872e+00,\n",
       "         2.1720e+03],\n",
       "        [8.4416e+00, 4.4258e+00, 7.2345e+00,  ..., 8.3490e+00, 6.3364e+00,\n",
       "         2.1720e+03],\n",
       "        [6.9816e+00, 5.3229e+00, 6.7583e+00,  ..., 2.9192e+00, 6.4041e+00,\n",
       "         2.1720e+03]])"
      ]
     },
     "execution_count": 364,
     "metadata": {},
     "output_type": "execute_result"
    }
   ],
   "source": [
    "train_set.dataset.X"
   ]
  },
  {
   "cell_type": "code",
   "execution_count": 365,
   "metadata": {},
   "outputs": [
    {
     "data": {
      "text/plain": [
       "tensor([[3.2383, 4.8561, 5.9005,  ..., 3.0102, 8.7508, 6.1994],\n",
       "        [8.6902, 4.5722, 6.9271,  ..., 4.7946, 3.5885, 6.7852],\n",
       "        [8.2331, 4.7497, 7.1231,  ..., 4.1141, 5.7681, 7.5052],\n",
       "        ...,\n",
       "        [8.5936, 4.2324, 6.2138,  ..., 3.3473, 7.2147, 6.5872],\n",
       "        [8.4416, 4.4258, 7.2345,  ..., 3.4432, 8.3490, 6.3364],\n",
       "        [6.9816, 5.3229, 6.7583,  ..., 4.3082, 2.9192, 6.4041]])"
      ]
     },
     "execution_count": 365,
     "metadata": {},
     "output_type": "execute_result"
    }
   ],
   "source": [
    "train_set.dataset.X_cell"
   ]
  },
  {
   "cell_type": "code",
   "execution_count": 366,
   "metadata": {},
   "outputs": [
    {
     "data": {
      "text/plain": [
       "tensor([[0., 0., 0.,  ..., 0., 0., 0.],\n",
       "        [0., 0., 0.,  ..., 0., 0., 0.],\n",
       "        [0., 0., 0.,  ..., 0., 0., 0.],\n",
       "        ...,\n",
       "        [0., 0., 0.,  ..., 0., 0., 0.],\n",
       "        [0., 0., 0.,  ..., 0., 0., 0.],\n",
       "        [0., 0., 0.,  ..., 0., 0., 0.]])"
      ]
     },
     "execution_count": 366,
     "metadata": {},
     "output_type": "execute_result"
    }
   ],
   "source": [
    "train_set.dataset.X_drug"
   ]
  },
  {
   "cell_type": "markdown",
   "metadata": {},
   "source": [
    "__Note__: \n",
    "- The very last entry per row is the `DRUG_ID`\n",
    "- It can be accessed by `model_dataset[<cell-line-number>, -1]`"
   ]
  },
  {
   "cell_type": "code",
   "execution_count": 367,
   "metadata": {},
   "outputs": [],
   "source": [
    "# ---------------- # \n",
    "# Hyper-parameters #\n",
    "# ---------------- #\n",
    "input_size   = 910 # which is gene_expr_base.shape[0]-1 = 911 - 1\n",
    "                   # One value per feature\n",
    "hidden_size   = 100\n",
    "num_classes   = 1\n",
    "num_epochs    = 10\n",
    "batch_size    = 20_000\n",
    "learning_rate = 0.001   "
   ]
  },
  {
   "cell_type": "code",
   "execution_count": 368,
   "metadata": {},
   "outputs": [],
   "source": [
    "# Data loader\n",
    "train_loader = torch.utils.data.DataLoader(dataset     = train_set, \n",
    "                                           batch_size  = batch_size, \n",
    "                                           shuffle     = True,\n",
    "                                           num_workers = 0)\n",
    "\n",
    "test_loader = torch.utils.data.DataLoader(dataset     = test_set, \n",
    "                                          batch_size  = batch_size, \n",
    "                                          shuffle     = True,\n",
    "                                          num_workers = 0) "
   ]
  },
  {
   "cell_type": "code",
   "execution_count": 370,
   "metadata": {},
   "outputs": [
    {
     "name": "stdout",
     "output_type": "stream",
     "text": [
      "train batch count : 15\n",
      "test batch count  : 4\n"
     ]
    }
   ],
   "source": [
    "count = sum(1 for X, X_cell, X_drug, y in train_loader)\n",
    "print(f\"train batch count : {count}\") \n",
    "\n",
    "count = sum(1 for X, X_cell, X_drug, y in test_loader)\n",
    "print(f\"test batch count  : {count}\") "
   ]
  },
  {
   "cell_type": "code",
   "execution_count": 311,
   "metadata": {},
   "outputs": [
    {
     "data": {
      "text/plain": [
       "array([ 179, 1073])"
      ]
     },
     "execution_count": 311,
     "metadata": {},
     "output_type": "execute_result"
    }
   ],
   "source": [
    "# NOTE: One drug may have multiple DRUG_ID's.\n",
    "temp = gene_expr[['DRUG_ID', 'DRUG_NAME']]\n",
    "np.unique(temp[temp.DRUG_NAME=='5-Fluorouracil'].DRUG_ID.values)"
   ]
  },
  {
   "cell_type": "code",
   "execution_count": 187,
   "metadata": {},
   "outputs": [
    {
     "data": {
      "text/html": [
       "<div>\n",
       "<style scoped>\n",
       "    .dataframe tbody tr th:only-of-type {\n",
       "        vertical-align: middle;\n",
       "    }\n",
       "\n",
       "    .dataframe tbody tr th {\n",
       "        vertical-align: top;\n",
       "    }\n",
       "\n",
       "    .dataframe thead th {\n",
       "        text-align: right;\n",
       "    }\n",
       "</style>\n",
       "<table border=\"1\" class=\"dataframe\">\n",
       "  <thead>\n",
       "    <tr style=\"text-align: right;\">\n",
       "      <th></th>\n",
       "      <th>drug_name</th>\n",
       "      <th>0</th>\n",
       "      <th>1</th>\n",
       "      <th>2</th>\n",
       "      <th>3</th>\n",
       "      <th>4</th>\n",
       "      <th>5</th>\n",
       "      <th>6</th>\n",
       "      <th>7</th>\n",
       "      <th>8</th>\n",
       "      <th>...</th>\n",
       "      <th>247</th>\n",
       "      <th>248</th>\n",
       "      <th>249</th>\n",
       "      <th>250</th>\n",
       "      <th>251</th>\n",
       "      <th>252</th>\n",
       "      <th>253</th>\n",
       "      <th>254</th>\n",
       "      <th>255</th>\n",
       "      <th>DRUG_ID</th>\n",
       "    </tr>\n",
       "  </thead>\n",
       "  <tbody>\n",
       "    <tr>\n",
       "      <th>0</th>\n",
       "      <td>(5Z)-7-Oxozeaenol</td>\n",
       "      <td>1</td>\n",
       "      <td>0</td>\n",
       "      <td>0</td>\n",
       "      <td>1</td>\n",
       "      <td>1</td>\n",
       "      <td>0</td>\n",
       "      <td>0</td>\n",
       "      <td>0</td>\n",
       "      <td>0</td>\n",
       "      <td>...</td>\n",
       "      <td>0</td>\n",
       "      <td>0</td>\n",
       "      <td>0</td>\n",
       "      <td>0</td>\n",
       "      <td>1</td>\n",
       "      <td>1</td>\n",
       "      <td>0</td>\n",
       "      <td>1</td>\n",
       "      <td>0</td>\n",
       "      <td>1242</td>\n",
       "    </tr>\n",
       "    <tr>\n",
       "      <th>912</th>\n",
       "      <td>5-Fluorouracil</td>\n",
       "      <td>0</td>\n",
       "      <td>0</td>\n",
       "      <td>0</td>\n",
       "      <td>0</td>\n",
       "      <td>0</td>\n",
       "      <td>0</td>\n",
       "      <td>0</td>\n",
       "      <td>0</td>\n",
       "      <td>0</td>\n",
       "      <td>...</td>\n",
       "      <td>0</td>\n",
       "      <td>0</td>\n",
       "      <td>0</td>\n",
       "      <td>0</td>\n",
       "      <td>0</td>\n",
       "      <td>0</td>\n",
       "      <td>0</td>\n",
       "      <td>0</td>\n",
       "      <td>1</td>\n",
       "      <td>179</td>\n",
       "    </tr>\n",
       "    <tr>\n",
       "      <th>1825</th>\n",
       "      <td>5-Fluorouracil</td>\n",
       "      <td>0</td>\n",
       "      <td>0</td>\n",
       "      <td>0</td>\n",
       "      <td>0</td>\n",
       "      <td>0</td>\n",
       "      <td>0</td>\n",
       "      <td>0</td>\n",
       "      <td>0</td>\n",
       "      <td>0</td>\n",
       "      <td>...</td>\n",
       "      <td>0</td>\n",
       "      <td>0</td>\n",
       "      <td>0</td>\n",
       "      <td>0</td>\n",
       "      <td>0</td>\n",
       "      <td>0</td>\n",
       "      <td>0</td>\n",
       "      <td>0</td>\n",
       "      <td>1</td>\n",
       "      <td>1073</td>\n",
       "    </tr>\n",
       "    <tr>\n",
       "      <th>2631</th>\n",
       "      <td>A-443654</td>\n",
       "      <td>0</td>\n",
       "      <td>1</td>\n",
       "      <td>0</td>\n",
       "      <td>0</td>\n",
       "      <td>0</td>\n",
       "      <td>0</td>\n",
       "      <td>0</td>\n",
       "      <td>0</td>\n",
       "      <td>0</td>\n",
       "      <td>...</td>\n",
       "      <td>1</td>\n",
       "      <td>0</td>\n",
       "      <td>0</td>\n",
       "      <td>0</td>\n",
       "      <td>0</td>\n",
       "      <td>0</td>\n",
       "      <td>0</td>\n",
       "      <td>0</td>\n",
       "      <td>1</td>\n",
       "      <td>86</td>\n",
       "    </tr>\n",
       "    <tr>\n",
       "      <th>3030</th>\n",
       "      <td>A-770041</td>\n",
       "      <td>1</td>\n",
       "      <td>1</td>\n",
       "      <td>0</td>\n",
       "      <td>0</td>\n",
       "      <td>0</td>\n",
       "      <td>1</td>\n",
       "      <td>0</td>\n",
       "      <td>0</td>\n",
       "      <td>0</td>\n",
       "      <td>...</td>\n",
       "      <td>0</td>\n",
       "      <td>0</td>\n",
       "      <td>1</td>\n",
       "      <td>0</td>\n",
       "      <td>1</td>\n",
       "      <td>0</td>\n",
       "      <td>0</td>\n",
       "      <td>0</td>\n",
       "      <td>0</td>\n",
       "      <td>55</td>\n",
       "    </tr>\n",
       "  </tbody>\n",
       "</table>\n",
       "<p>5 rows × 258 columns</p>\n",
       "</div>"
      ],
      "text/plain": [
       "              drug_name  0  1  2  3  4  5  6  7  8  ...  247  248  249  250  \\\n",
       "0     (5Z)-7-Oxozeaenol  1  0  0  1  1  0  0  0  0  ...    0    0    0    0   \n",
       "912      5-Fluorouracil  0  0  0  0  0  0  0  0  0  ...    0    0    0    0   \n",
       "1825     5-Fluorouracil  0  0  0  0  0  0  0  0  0  ...    0    0    0    0   \n",
       "2631           A-443654  0  1  0  0  0  0  0  0  0  ...    1    0    0    0   \n",
       "3030           A-770041  1  1  0  0  0  1  0  0  0  ...    0    0    1    0   \n",
       "\n",
       "      251  252  253  254  255  DRUG_ID  \n",
       "0       1    1    0    1    0     1242  \n",
       "912     0    0    0    0    1      179  \n",
       "1825    0    0    0    0    1     1073  \n",
       "2631    0    0    0    0    1       86  \n",
       "3030    1    0    0    0    0       55  \n",
       "\n",
       "[5 rows x 258 columns]"
      ]
     },
     "execution_count": 187,
     "metadata": {},
     "output_type": "execute_result"
    }
   ],
   "source": [
    "drug_name_fps_v2.head(5)"
   ]
  },
  {
   "cell_type": "code",
   "execution_count": 188,
   "metadata": {},
   "outputs": [
    {
     "data": {
      "text/html": [
       "<div>\n",
       "<style scoped>\n",
       "    .dataframe tbody tr th:only-of-type {\n",
       "        vertical-align: middle;\n",
       "    }\n",
       "\n",
       "    .dataframe tbody tr th {\n",
       "        vertical-align: top;\n",
       "    }\n",
       "\n",
       "    .dataframe thead th {\n",
       "        text-align: right;\n",
       "    }\n",
       "</style>\n",
       "<table border=\"1\" class=\"dataframe\">\n",
       "  <thead>\n",
       "    <tr style=\"text-align: right;\">\n",
       "      <th></th>\n",
       "      <th>0</th>\n",
       "      <th>1</th>\n",
       "      <th>2</th>\n",
       "      <th>3</th>\n",
       "      <th>4</th>\n",
       "      <th>5</th>\n",
       "      <th>6</th>\n",
       "      <th>7</th>\n",
       "      <th>8</th>\n",
       "      <th>9</th>\n",
       "      <th>...</th>\n",
       "      <th>246</th>\n",
       "      <th>247</th>\n",
       "      <th>248</th>\n",
       "      <th>249</th>\n",
       "      <th>250</th>\n",
       "      <th>251</th>\n",
       "      <th>252</th>\n",
       "      <th>253</th>\n",
       "      <th>254</th>\n",
       "      <th>255</th>\n",
       "    </tr>\n",
       "  </thead>\n",
       "  <tbody>\n",
       "    <tr>\n",
       "      <th>912</th>\n",
       "      <td>0</td>\n",
       "      <td>0</td>\n",
       "      <td>0</td>\n",
       "      <td>0</td>\n",
       "      <td>0</td>\n",
       "      <td>0</td>\n",
       "      <td>0</td>\n",
       "      <td>0</td>\n",
       "      <td>0</td>\n",
       "      <td>0</td>\n",
       "      <td>...</td>\n",
       "      <td>0</td>\n",
       "      <td>0</td>\n",
       "      <td>0</td>\n",
       "      <td>0</td>\n",
       "      <td>0</td>\n",
       "      <td>0</td>\n",
       "      <td>0</td>\n",
       "      <td>0</td>\n",
       "      <td>0</td>\n",
       "      <td>1</td>\n",
       "    </tr>\n",
       "    <tr>\n",
       "      <th>1825</th>\n",
       "      <td>0</td>\n",
       "      <td>0</td>\n",
       "      <td>0</td>\n",
       "      <td>0</td>\n",
       "      <td>0</td>\n",
       "      <td>0</td>\n",
       "      <td>0</td>\n",
       "      <td>0</td>\n",
       "      <td>0</td>\n",
       "      <td>0</td>\n",
       "      <td>...</td>\n",
       "      <td>0</td>\n",
       "      <td>0</td>\n",
       "      <td>0</td>\n",
       "      <td>0</td>\n",
       "      <td>0</td>\n",
       "      <td>0</td>\n",
       "      <td>0</td>\n",
       "      <td>0</td>\n",
       "      <td>0</td>\n",
       "      <td>1</td>\n",
       "    </tr>\n",
       "  </tbody>\n",
       "</table>\n",
       "<p>2 rows × 256 columns</p>\n",
       "</div>"
      ],
      "text/plain": [
       "      0    1    2    3    4    5    6    7    8    9    ...  246  247  248  \\\n",
       "912     0    0    0    0    0    0    0    0    0    0  ...    0    0    0   \n",
       "1825    0    0    0    0    0    0    0    0    0    0  ...    0    0    0   \n",
       "\n",
       "      249  250  251  252  253  254  255  \n",
       "912     0    0    0    0    0    0    1  \n",
       "1825    0    0    0    0    0    0    1  \n",
       "\n",
       "[2 rows x 256 columns]"
      ]
     },
     "execution_count": 188,
     "metadata": {},
     "output_type": "execute_result"
    }
   ],
   "source": [
    "drug_df_temp = drug_name_fps_v2[drug_name_fps_v2.DRUG_ID.isin([179, 1073])]\n",
    "drug_df_temp.loc[:, ~drug_df_temp.columns.isin(['drug_name', 'DRUG_ID'])]"
   ]
  },
  {
   "cell_type": "code",
   "execution_count": 312,
   "metadata": {},
   "outputs": [
    {
     "name": "stderr",
     "output_type": "stream",
     "text": [
      "0it [00:00, ?it/s]"
     ]
    },
    {
     "name": "stdout",
     "output_type": "stream",
     "text": [
      "tensor(285.)\n",
      "tensor([[3.4549, 4.6286, 6.5605,  ..., 3.3613, 8.4007, 6.9447],\n",
      "        [9.9146, 3.8652, 6.5852,  ..., 3.0644, 7.8115, 5.7010],\n",
      "        [3.2600, 3.9822, 7.2188,  ..., 4.2386, 3.5046, 7.8474],\n",
      "        [3.3054, 3.7485, 6.9215,  ..., 4.0507, 3.1340, 7.1919],\n",
      "        [3.8424, 4.1529, 6.6038,  ..., 5.3051, 3.1271, 8.3284]])\n",
      "tensor([[0., 0., 0.,  ..., 0., 0., 0.],\n",
      "        [0., 0., 0.,  ..., 0., 0., 0.],\n",
      "        [0., 0., 0.,  ..., 0., 0., 0.],\n",
      "        [0., 1., 0.,  ..., 0., 1., 1.],\n",
      "        [0., 0., 0.,  ..., 0., 0., 0.]])\n",
      "tensor(3.8062)\n"
     ]
    },
    {
     "name": "stderr",
     "output_type": "stream",
     "text": [
      "\n"
     ]
    }
   ],
   "source": [
    "for i, (X_batch, X_cell, X_drug, y_batch) in tqdm(enumerate(train_loader)):\n",
    "    print(X_batch[0][-1])\n",
    "    assert X_batch[0][0] == X_cell[0][0]\n",
    "    print(X_cell)\n",
    "    print(X_drug)\n",
    "    print(y_batch[0])\n",
    "    break"
   ]
  },
  {
   "cell_type": "code",
   "execution_count": 326,
   "metadata": {},
   "outputs": [
    {
     "name": "stdout",
     "output_type": "stream",
     "text": [
      "The autoreload extension is already loaded. To reload it, use:\n",
      "  %reload_ext autoreload\n"
     ]
    }
   ],
   "source": [
    "%load_ext autoreload\n",
    "%autoreload 24"
   ]
  },
  {
   "cell_type": "code",
   "execution_count": 327,
   "metadata": {},
   "outputs": [],
   "source": [
    "# TODO: some drug rows (fingerprints) are NaN. REMOVE THESE ROWS!!!\n",
    "# Options to prevent exploding gradients:\n",
    "# TODO: normalize in the FC layers.\n",
    "# TODO: lower the learning rate."
   ]
  },
  {
   "cell_type": "code",
   "execution_count": 377,
   "metadata": {},
   "outputs": [
    {
     "name": "stdout",
     "output_type": "stream",
     "text": [
      "The autoreload extension is already loaded. To reload it, use:\n",
      "  %reload_ext autoreload\n",
      "Device: cpu\n"
     ]
    }
   ],
   "source": [
    "%load_ext autoreload\n",
    "%autoreload 24\n",
    "\n",
    "from v1_NormalNN import Model\n",
    "from tqdm import tqdm\n",
    "import copy\n",
    "\n",
    "torch.manual_seed(42)\n",
    "device = torch.device(\"cuda\" if torch.cuda.is_available() else \"cpu\")\n",
    "print(f\"Device: {device}\")\n",
    "\n",
    "# -------- #\n",
    "# TRAINING #\n",
    "# -------- #\n",
    "def train_model(model, criterion, optimizer, num_epochs=100):  \n",
    "    start = time.time()\n",
    "    loss_values = []\n",
    "    total_step = len(train_loader)\n",
    "    it = iter(train_loader)\n",
    "\n",
    "    for epoch in range(num_epochs): \n",
    "        running_loss_train = 0.0\n",
    "        model.train()\n",
    "        for i, (X_batch, X_batch_cell, X_batch_drug, y_batch) in tqdm(enumerate(train_loader)):\n",
    "            \n",
    "            # X_batch_cell, X_batch_drug\n",
    "            # X_cell = X_batch_cell.to(device)\n",
    "            # X_drug = X_batch_drug.to(device)\n",
    "            X = X_batch.to(device)\n",
    "            X_cell = X_batch_cell.to(device)\n",
    "            X_drug = X_batch_drug.to(device)            \n",
    "            y = y_batch.to(device)\n",
    "\n",
    "            # X_cell = X_batch[:, :-1].to(device) # Only the genes.\n",
    "            # X_drug = X_batch[:, -1].to(device) # The DRUG_ID's are in the last entry per row.\n",
    "\n",
    "            # assert not torch.isnan(X_cell).any(), f\"X_cell has NaN in it {i}.\"\n",
    "            # assert not torch.isnan(X_drug).any(), f\"X_drug has NaN in it {i}.\"\n",
    "            # TODO: remove the rows with NaNs.\n",
    "            # assert not torch.isnan(X_batch).any(), f\"X_batch has NaN in it {i}.\"\n",
    "            # assert len(X_drug) == batch_size, f\"ERROR: len(X_drug) = {len(X_drug)} != {batch_size} = batch_size.\"\n",
    "            # assert not torch.isnan(y).any(), f\"y has NaN in it {i}.\"  \n",
    "\n",
    "            # print(X_cell)  \n",
    "            # print(len(X_cell[0]))\n",
    "            # print(X_drug)  \n",
    "            # print(len(X_drug))\n",
    "            # print(X_cell) \n",
    "            # print(\"BEFORE\")\n",
    "            # print(f\"  X_cell.shape: {X_cell.shape}\")\n",
    "            # print(f\"  X_drug.shape: {X_drug.shape}\")\n",
    "            # print(\"AFTER\")\n",
    "            # print(f\"  X_cell.shape: {X_cell.reshape(X_cell.shape[0], 1, X_cell.shape[1]).shape}\")\n",
    "            # print(f\"  X_drug.shape: {X_drug.reshape(1, X_drug.shape[0], 1).shape}\")\n",
    "            # print(X_cell.reshape(X_cell.shape[0], 1, X_cell.shape[1]).shape)\n",
    "            \n",
    "            # Add the fingerprints to the specific drugs.\n",
    "            # drug_df_temp = drug_name_fps_v2[drug_name_fps_v2.DRUG_ID.isin(X_drug.tolist())]\n",
    "            # drug_df_temp = drug_df_temp.loc[:, ~drug_df_temp.columns.isin(['drug_name', 'DRUG_ID'])]\n",
    "            \n",
    "            # y_preds = model(X_cell.reshape(X_cell.shape[0], 1, X_cell.shape[1]), X_drug.reshape(X_drug.shape[0], 1, 1))\n",
    "\n",
    "            # print(\"SHAPES BEFORE\")\n",
    "            # print(X_cell.shape) \n",
    "            # print(X_drug.shape) \n",
    "            y_preds = model(X_cell.reshape(X_cell.shape[0], 1, X_cell.shape[1]), \n",
    "                            X_drug.reshape(X_drug.shape[0], 1, X_drug.shape[1]))\n",
    "            # print(f\"PREDICTIONS\\n{100*'='}\")\n",
    "            # for i, y_pred in enumerate(y_preds): \n",
    "            #     print(y_pred.shape)\n",
    "            #     print(y_pred)\n",
    "            #     #print(f\"  {i:10.0f} pred : {y_pred:5.2f}\")\n",
    "            # print(f\"y_preds  : {y_preds}\")\n",
    "            # print(f\"y_actual : {y}\")\n",
    "            loss = loss_func(y_preds, y)\n",
    "\n",
    "            #print(f\"Loss: {loss}\")\n",
    "\n",
    "            running_loss_train += loss.item()\n",
    "\n",
    "            # print(f\"Running Loss: {running_loss_train}\")\n",
    "\n",
    "            # Backward and optimize.\n",
    "            optimizer.zero_grad()\n",
    "            loss.backward()\n",
    "            optimizer.step()\n",
    "\n",
    "            #print(f\"Optimized! i : {i}\")\n",
    "\n",
    "            if i % 1 == 0:\n",
    "                print('Epoch [{}/{}], Step [{}/{}], Loss: {:.4f}'\\\n",
    "                    .format(epoch+1, num_epochs, i+1, total_step, loss.item()))             \n",
    "                break\n",
    "            \n",
    "        loss_values.append(running_loss_train / len(modeling_dataset))      \n",
    "        print(f\"loss_values : {loss_values}\")\n",
    "\n",
    "    return model, loss_values             "
   ]
  },
  {
   "cell_type": "code",
   "execution_count": 378,
   "metadata": {},
   "outputs": [
    {
     "name": "stdout",
     "output_type": "stream",
     "text": [
      "The autoreload extension is already loaded. To reload it, use:\n",
      "  %reload_ext autoreload\n"
     ]
    },
    {
     "name": "stderr",
     "output_type": "stream",
     "text": [
      "0it [00:03, ?it/s]\n"
     ]
    },
    {
     "name": "stdout",
     "output_type": "stream",
     "text": [
      "Epoch [1/10], Step [1/15], Loss: 11.8210\n",
      "loss_values : [3.1865809632783194e-05]\n"
     ]
    },
    {
     "name": "stderr",
     "output_type": "stream",
     "text": [
      "0it [00:02, ?it/s]\n"
     ]
    },
    {
     "name": "stdout",
     "output_type": "stream",
     "text": [
      "Epoch [2/10], Step [1/15], Loss: 7.4730\n",
      "loss_values : [3.1865809632783194e-05, 2.014487661650442e-05]\n"
     ]
    },
    {
     "name": "stderr",
     "output_type": "stream",
     "text": [
      "0it [00:02, ?it/s]\n"
     ]
    },
    {
     "name": "stdout",
     "output_type": "stream",
     "text": [
      "Epoch [3/10], Step [1/15], Loss: 12.3378\n",
      "loss_values : [3.1865809632783194e-05, 2.014487661650442e-05, 3.325894285747711e-05]\n"
     ]
    },
    {
     "name": "stderr",
     "output_type": "stream",
     "text": [
      "0it [00:02, ?it/s]\n"
     ]
    },
    {
     "name": "stdout",
     "output_type": "stream",
     "text": [
      "Epoch [4/10], Step [1/15], Loss: 8.1143\n",
      "loss_values : [3.1865809632783194e-05, 2.014487661650442e-05, 3.325894285747711e-05, 2.1873496312300687e-05]\n"
     ]
    },
    {
     "name": "stderr",
     "output_type": "stream",
     "text": [
      "0it [00:02, ?it/s]\n"
     ]
    },
    {
     "name": "stdout",
     "output_type": "stream",
     "text": [
      "Epoch [5/10], Step [1/15], Loss: 7.4511\n",
      "loss_values : [3.1865809632783194e-05, 2.014487661650442e-05, 3.325894285747711e-05, 2.1873496312300687e-05, 2.0085957573849073e-05]\n"
     ]
    },
    {
     "name": "stderr",
     "output_type": "stream",
     "text": [
      "0it [00:02, ?it/s]\n"
     ]
    },
    {
     "name": "stdout",
     "output_type": "stream",
     "text": [
      "Epoch [6/10], Step [1/15], Loss: 8.0663\n",
      "loss_values : [3.1865809632783194e-05, 2.014487661650442e-05, 3.325894285747711e-05, 2.1873496312300687e-05, 2.0085957573849073e-05, 2.1744105019856313e-05]\n"
     ]
    },
    {
     "name": "stderr",
     "output_type": "stream",
     "text": [
      "0it [00:02, ?it/s]\n"
     ]
    },
    {
     "name": "stdout",
     "output_type": "stream",
     "text": [
      "Epoch [7/10], Step [1/15], Loss: 7.8273\n",
      "loss_values : [3.1865809632783194e-05, 2.014487661650442e-05, 3.325894285747711e-05, 2.1873496312300687e-05, 2.0085957573849073e-05, 2.1744105019856313e-05, 2.1099901892044794e-05]\n"
     ]
    },
    {
     "name": "stderr",
     "output_type": "stream",
     "text": [
      "0it [00:02, ?it/s]\n"
     ]
    },
    {
     "name": "stdout",
     "output_type": "stream",
     "text": [
      "Epoch [8/10], Step [1/15], Loss: 7.4048\n",
      "loss_values : [3.1865809632783194e-05, 2.014487661650442e-05, 3.325894285747711e-05, 2.1873496312300687e-05, 2.0085957573849073e-05, 2.1744105019856313e-05, 2.1099901892044794e-05, 1.9961075477068352e-05]\n"
     ]
    },
    {
     "name": "stderr",
     "output_type": "stream",
     "text": [
      "0it [00:02, ?it/s]\n"
     ]
    },
    {
     "name": "stdout",
     "output_type": "stream",
     "text": [
      "Epoch [9/10], Step [1/15], Loss: 7.5101\n",
      "loss_values : [3.1865809632783194e-05, 2.014487661650442e-05, 3.325894285747711e-05, 2.1873496312300687e-05, 2.0085957573849073e-05, 2.1744105019856313e-05, 2.1099901892044794e-05, 1.9961075477068352e-05, 2.024489258155384e-05]\n"
     ]
    },
    {
     "name": "stderr",
     "output_type": "stream",
     "text": [
      "0it [00:02, ?it/s]"
     ]
    },
    {
     "name": "stdout",
     "output_type": "stream",
     "text": [
      "Epoch [10/10], Step [1/15], Loss: 7.4629\n",
      "loss_values : [3.1865809632783194e-05, 2.014487661650442e-05, 3.325894285747711e-05, 2.1873496312300687e-05, 2.0085957573849073e-05, 2.1744105019856313e-05, 2.1099901892044794e-05, 1.9961075477068352e-05, 2.024489258155384e-05, 2.0117647913042845e-05]\n"
     ]
    },
    {
     "name": "stderr",
     "output_type": "stream",
     "text": [
      "\n"
     ]
    }
   ],
   "source": [
    "%load_ext autoreload\n",
    "%autoreload 24\n",
    "from v1_NormalNN import Model\n",
    "\n",
    "#learning_rate = 0.01\n",
    "\n",
    "n_out = np.floor((908-10)/1) + 1\n",
    "model = Model().to(device)\n",
    "\n",
    "loss_func = nn.MSELoss() # = criterion\n",
    "optimizer = torch.optim.Adam(params=model.parameters(), lr=learning_rate)\n",
    "\n",
    "model, loss_values = train_model(\n",
    "    model      = model,\n",
    "    criterion  = loss_func,\n",
    "    optimizer  = optimizer,\n",
    "    num_epochs = num_epochs\n",
    ")"
   ]
  },
  {
   "cell_type": "code",
   "execution_count": 379,
   "metadata": {},
   "outputs": [
    {
     "data": {
      "image/png": "[encoded data removed]",
      "text/plain": [
       "<Figure size 432x288 with 1 Axes>"
      ]
     },
     "metadata": {},
     "output_type": "display_data"
    }
   ],
   "source": [
    "plt.plot(loss_values, linestyle='-', marker='o', label='Train');\n",
    "plt.xlim(0, 9, 1);\n",
    "plt.xlabel(\"Epochs\");\n",
    "plt.ylabel(\"MSE\");\n",
    "plt.title(f\"v1_NormalNN Loss/MSE when having\\nepochs: {num_epochs}\\nlr: {learning_rate}\\nbatch_size: {batch_size}\");\n",
    "plt.legend();"
   ]
  },
  {
   "cell_type": "code",
   "execution_count": 409,
   "metadata": {},
   "outputs": [
    {
     "name": "stderr",
     "output_type": "stream",
     "text": [
      "4it [00:14,  3.62s/it]\n"
     ]
    },
    {
     "name": "stdout",
     "output_type": "stream",
     "text": [
      "70409\n",
      "tensor(145548.3750)\n",
      "Mean absolute difference of the network on the 70409 test values: 2.067184\n"
     ]
    },
    {
     "ename": "TypeError",
     "evalue": "expected np.ndarray (got list)",
     "output_type": "error",
     "traceback": [
      "\u001b[0;31m---------------------------------------------------------------------------\u001b[0m",
      "\u001b[0;31mTypeError\u001b[0m                                 Traceback (most recent call last)",
      "\u001b[1;32m/Users/cwoest/Documents/Academics/Data_Science_UP/master_thesis/material/GNN-material/08_baseline.ipynb Cell 52'\u001b[0m in \u001b[0;36m<cell line: 7>\u001b[0;34m()\u001b[0m\n\u001b[1;32m     <a href='vscode-notebook-cell:/Users/cwoest/Documents/Academics/Data_Science_UP/master_thesis/material/GNN-material/08_baseline.ipynb#ch0000044?line=40'>41</a>\u001b[0m \u001b[39m#predictions = vstack(predictions)\u001b[39;00m\n\u001b[1;32m     <a href='vscode-notebook-cell:/Users/cwoest/Documents/Academics/Data_Science_UP/master_thesis/material/GNN-material/08_baseline.ipynb#ch0000044?line=41'>42</a>\u001b[0m \u001b[39m#actuals =  vstack(actuals)\u001b[39;00m\n\u001b[1;32m     <a href='vscode-notebook-cell:/Users/cwoest/Documents/Academics/Data_Science_UP/master_thesis/material/GNN-material/08_baseline.ipynb#ch0000044?line=42'>43</a>\u001b[0m \u001b[39m# calculate mse\u001b[39;00m\n\u001b[1;32m     <a href='vscode-notebook-cell:/Users/cwoest/Documents/Academics/Data_Science_UP/master_thesis/material/GNN-material/08_baseline.ipynb#ch0000044?line=43'>44</a>\u001b[0m loss \u001b[39m=\u001b[39m nn\u001b[39m.\u001b[39mMSELoss()\n\u001b[0;32m---> <a href='vscode-notebook-cell:/Users/cwoest/Documents/Academics/Data_Science_UP/master_thesis/material/GNN-material/08_baseline.ipynb#ch0000044?line=44'>45</a>\u001b[0m mse \u001b[39m=\u001b[39m loss(torch\u001b[39m.\u001b[39;49mfrom_numpy(actuals), torch\u001b[39m.\u001b[39mfrom_numpy(predictions))\n",
      "\u001b[0;31mTypeError\u001b[0m: expected np.ndarray (got list)"
     ]
    }
   ],
   "source": [
    "from numpy import vstack\n",
    "from sklearn.metrics import mean_squared_error\n",
    "# ---------------------------------\n",
    "# Test the model\n",
    "# ---------------------------------\n",
    "# In test phase, we don't need to compute gradients (for memory efficiency)\n",
    "with torch.no_grad():\n",
    "    correct = 0\n",
    "    total = 0\n",
    "\n",
    "    inputs, predictions, actuals = list(), list(), list()\n",
    "    for i, (X_batch, X_batch_cell, X_batch_drug, y_batch) in tqdm(enumerate(test_loader)):\n",
    "        X = X_batch.to(device)\n",
    "        X_cell = X_batch_cell.to(device)\n",
    "        X_drug = X_batch_drug.to(device)            \n",
    "        y = y_batch.to(device)\n",
    "\n",
    "        outputs = model(X_cell.reshape(X_cell.shape[0], 1, X_cell.shape[1]), \n",
    "                        X_drug.reshape(X_drug.shape[0], 1, X_drug.shape[1]))\n",
    "        predicted = outputs.data\n",
    "\n",
    "        y_preds  = outputs.detach().numpy()\n",
    "        y_actual = y.detach().numpy() \n",
    "\n",
    "        assert y_preds.shape == y_actual.shape\n",
    "        \n",
    "        inputs.append(X.detach().numpy())\n",
    "        predictions.append(y_preds)\n",
    "        actuals.append(y_actual)\n",
    "\n",
    "        total += y.size(0)\n",
    "        # print(f\"predicted y : {predicted}    actual y : {y}\\n\\n\\n\\n\")\n",
    "        # print(f\"actual    y : {y}\\n\\n\")\n",
    "        correct += np.abs(predicted - y).sum()\n",
    "\n",
    "    print(total)\n",
    "    print(correct)\n",
    "    print(f\"Mean absolute difference of the network on the {len(test_loader.dataset.indices)} test values: {correct / total:2.6f}\")\n",
    "\n",
    "    inputs = vstack(inputs)\n",
    "    #predictions = vstack(predictions)\n",
    "    #actuals =  vstack(actuals)\n",
    "    # calculate mse\n",
    "    loss = nn.MSELoss()\n",
    "    mse = loss(torch.from_numpy(actuals), torch.from_numpy(predictions))\n",
    "    # mse = mean_squared_error(actuals, predictions)"
   ]
  },
  {
   "cell_type": "code",
   "execution_count": 421,
   "metadata": {},
   "outputs": [
    {
     "ename": "TypeError",
     "evalue": "Singleton array 7.4622655 cannot be considered a valid collection.",
     "output_type": "error",
     "traceback": [
      "\u001b[0;31m---------------------------------------------------------------------------\u001b[0m",
      "\u001b[0;31mTypeError\u001b[0m                                 Traceback (most recent call last)",
      "\u001b[1;32m/Users/cwoest/Documents/Academics/Data_Science_UP/master_thesis/material/GNN-material/08_baseline.ipynb Cell 53'\u001b[0m in \u001b[0;36m<cell line: 1>\u001b[0;34m()\u001b[0m\n\u001b[0;32m----> <a href='vscode-notebook-cell:/Users/cwoest/Documents/Academics/Data_Science_UP/master_thesis/material/GNN-material/08_baseline.ipynb#ch0000100?line=0'>1</a>\u001b[0m mean_squared_error(mean_squared_error(actuals[:\u001b[39m-\u001b[39;49m\u001b[39m1\u001b[39;49m], predictions[:\u001b[39m-\u001b[39;49m\u001b[39m1\u001b[39;49m]), mean_squared_error(actuals[\u001b[39m-\u001b[39;49m\u001b[39m1\u001b[39;49m], predictions[\u001b[39m-\u001b[39;49m\u001b[39m1\u001b[39;49m]))\n",
      "File \u001b[0;32m/users/cwoest/Applications/anaconda3/envs/master-thesis-log/lib/python3.10/site-packages/sklearn/metrics/_regression.py:438\u001b[0m, in \u001b[0;36mmean_squared_error\u001b[0;34m(y_true, y_pred, sample_weight, multioutput, squared)\u001b[0m\n\u001b[1;32m    <a href='file:///users/cwoest/Applications/anaconda3/envs/master-thesis-log/lib/python3.10/site-packages/sklearn/metrics/_regression.py?line=377'>378</a>\u001b[0m \u001b[39mdef\u001b[39;00m \u001b[39mmean_squared_error\u001b[39m(\n\u001b[1;32m    <a href='file:///users/cwoest/Applications/anaconda3/envs/master-thesis-log/lib/python3.10/site-packages/sklearn/metrics/_regression.py?line=378'>379</a>\u001b[0m     y_true, y_pred, \u001b[39m*\u001b[39m, sample_weight\u001b[39m=\u001b[39m\u001b[39mNone\u001b[39;00m, multioutput\u001b[39m=\u001b[39m\u001b[39m\"\u001b[39m\u001b[39muniform_average\u001b[39m\u001b[39m\"\u001b[39m, squared\u001b[39m=\u001b[39m\u001b[39mTrue\u001b[39;00m\n\u001b[1;32m    <a href='file:///users/cwoest/Applications/anaconda3/envs/master-thesis-log/lib/python3.10/site-packages/sklearn/metrics/_regression.py?line=379'>380</a>\u001b[0m ):\n\u001b[1;32m    <a href='file:///users/cwoest/Applications/anaconda3/envs/master-thesis-log/lib/python3.10/site-packages/sklearn/metrics/_regression.py?line=380'>381</a>\u001b[0m     \u001b[39m\"\"\"Mean squared error regression loss.\u001b[39;00m\n\u001b[1;32m    <a href='file:///users/cwoest/Applications/anaconda3/envs/master-thesis-log/lib/python3.10/site-packages/sklearn/metrics/_regression.py?line=381'>382</a>\u001b[0m \n\u001b[1;32m    <a href='file:///users/cwoest/Applications/anaconda3/envs/master-thesis-log/lib/python3.10/site-packages/sklearn/metrics/_regression.py?line=382'>383</a>\u001b[0m \u001b[39m    Read more in the :ref:`User Guide <mean_squared_error>`.\u001b[39;00m\n\u001b[0;32m   (...)\u001b[0m\n\u001b[1;32m    <a href='file:///users/cwoest/Applications/anaconda3/envs/master-thesis-log/lib/python3.10/site-packages/sklearn/metrics/_regression.py?line=435'>436</a>\u001b[0m \u001b[39m    0.825...\u001b[39;00m\n\u001b[1;32m    <a href='file:///users/cwoest/Applications/anaconda3/envs/master-thesis-log/lib/python3.10/site-packages/sklearn/metrics/_regression.py?line=436'>437</a>\u001b[0m \u001b[39m    \"\"\"\u001b[39;00m\n\u001b[0;32m--> <a href='file:///users/cwoest/Applications/anaconda3/envs/master-thesis-log/lib/python3.10/site-packages/sklearn/metrics/_regression.py?line=437'>438</a>\u001b[0m     y_type, y_true, y_pred, multioutput \u001b[39m=\u001b[39m _check_reg_targets(\n\u001b[1;32m    <a href='file:///users/cwoest/Applications/anaconda3/envs/master-thesis-log/lib/python3.10/site-packages/sklearn/metrics/_regression.py?line=438'>439</a>\u001b[0m         y_true, y_pred, multioutput\n\u001b[1;32m    <a href='file:///users/cwoest/Applications/anaconda3/envs/master-thesis-log/lib/python3.10/site-packages/sklearn/metrics/_regression.py?line=439'>440</a>\u001b[0m     )\n\u001b[1;32m    <a href='file:///users/cwoest/Applications/anaconda3/envs/master-thesis-log/lib/python3.10/site-packages/sklearn/metrics/_regression.py?line=440'>441</a>\u001b[0m     check_consistent_length(y_true, y_pred, sample_weight)\n\u001b[1;32m    <a href='file:///users/cwoest/Applications/anaconda3/envs/master-thesis-log/lib/python3.10/site-packages/sklearn/metrics/_regression.py?line=441'>442</a>\u001b[0m     output_errors \u001b[39m=\u001b[39m np\u001b[39m.\u001b[39maverage((y_true \u001b[39m-\u001b[39m y_pred) \u001b[39m*\u001b[39m\u001b[39m*\u001b[39m \u001b[39m2\u001b[39m, axis\u001b[39m=\u001b[39m\u001b[39m0\u001b[39m, weights\u001b[39m=\u001b[39msample_weight)\n",
      "File \u001b[0;32m/users/cwoest/Applications/anaconda3/envs/master-thesis-log/lib/python3.10/site-packages/sklearn/metrics/_regression.py:94\u001b[0m, in \u001b[0;36m_check_reg_targets\u001b[0;34m(y_true, y_pred, multioutput, dtype)\u001b[0m\n\u001b[1;32m     <a href='file:///users/cwoest/Applications/anaconda3/envs/master-thesis-log/lib/python3.10/site-packages/sklearn/metrics/_regression.py?line=59'>60</a>\u001b[0m \u001b[39mdef\u001b[39;00m \u001b[39m_check_reg_targets\u001b[39m(y_true, y_pred, multioutput, dtype\u001b[39m=\u001b[39m\u001b[39m\"\u001b[39m\u001b[39mnumeric\u001b[39m\u001b[39m\"\u001b[39m):\n\u001b[1;32m     <a href='file:///users/cwoest/Applications/anaconda3/envs/master-thesis-log/lib/python3.10/site-packages/sklearn/metrics/_regression.py?line=60'>61</a>\u001b[0m     \u001b[39m\"\"\"Check that y_true and y_pred belong to the same regression task.\u001b[39;00m\n\u001b[1;32m     <a href='file:///users/cwoest/Applications/anaconda3/envs/master-thesis-log/lib/python3.10/site-packages/sklearn/metrics/_regression.py?line=61'>62</a>\u001b[0m \n\u001b[1;32m     <a href='file:///users/cwoest/Applications/anaconda3/envs/master-thesis-log/lib/python3.10/site-packages/sklearn/metrics/_regression.py?line=62'>63</a>\u001b[0m \u001b[39m    Parameters\u001b[39;00m\n\u001b[0;32m   (...)\u001b[0m\n\u001b[1;32m     <a href='file:///users/cwoest/Applications/anaconda3/envs/master-thesis-log/lib/python3.10/site-packages/sklearn/metrics/_regression.py?line=91'>92</a>\u001b[0m \u001b[39m        the dtype argument passed to check_array.\u001b[39;00m\n\u001b[1;32m     <a href='file:///users/cwoest/Applications/anaconda3/envs/master-thesis-log/lib/python3.10/site-packages/sklearn/metrics/_regression.py?line=92'>93</a>\u001b[0m \u001b[39m    \"\"\"\u001b[39;00m\n\u001b[0;32m---> <a href='file:///users/cwoest/Applications/anaconda3/envs/master-thesis-log/lib/python3.10/site-packages/sklearn/metrics/_regression.py?line=93'>94</a>\u001b[0m     check_consistent_length(y_true, y_pred)\n\u001b[1;32m     <a href='file:///users/cwoest/Applications/anaconda3/envs/master-thesis-log/lib/python3.10/site-packages/sklearn/metrics/_regression.py?line=94'>95</a>\u001b[0m     y_true \u001b[39m=\u001b[39m check_array(y_true, ensure_2d\u001b[39m=\u001b[39m\u001b[39mFalse\u001b[39;00m, dtype\u001b[39m=\u001b[39mdtype)\n\u001b[1;32m     <a href='file:///users/cwoest/Applications/anaconda3/envs/master-thesis-log/lib/python3.10/site-packages/sklearn/metrics/_regression.py?line=95'>96</a>\u001b[0m     y_pred \u001b[39m=\u001b[39m check_array(y_pred, ensure_2d\u001b[39m=\u001b[39m\u001b[39mFalse\u001b[39;00m, dtype\u001b[39m=\u001b[39mdtype)\n",
      "File \u001b[0;32m/users/cwoest/Applications/anaconda3/envs/master-thesis-log/lib/python3.10/site-packages/sklearn/utils/validation.py:329\u001b[0m, in \u001b[0;36mcheck_consistent_length\u001b[0;34m(*arrays)\u001b[0m\n\u001b[1;32m    <a href='file:///users/cwoest/Applications/anaconda3/envs/master-thesis-log/lib/python3.10/site-packages/sklearn/utils/validation.py?line=317'>318</a>\u001b[0m \u001b[39mdef\u001b[39;00m \u001b[39mcheck_consistent_length\u001b[39m(\u001b[39m*\u001b[39marrays):\n\u001b[1;32m    <a href='file:///users/cwoest/Applications/anaconda3/envs/master-thesis-log/lib/python3.10/site-packages/sklearn/utils/validation.py?line=318'>319</a>\u001b[0m     \u001b[39m\"\"\"Check that all arrays have consistent first dimensions.\u001b[39;00m\n\u001b[1;32m    <a href='file:///users/cwoest/Applications/anaconda3/envs/master-thesis-log/lib/python3.10/site-packages/sklearn/utils/validation.py?line=319'>320</a>\u001b[0m \n\u001b[1;32m    <a href='file:///users/cwoest/Applications/anaconda3/envs/master-thesis-log/lib/python3.10/site-packages/sklearn/utils/validation.py?line=320'>321</a>\u001b[0m \u001b[39m    Checks whether all objects in arrays have the same shape or length.\u001b[39;00m\n\u001b[0;32m   (...)\u001b[0m\n\u001b[1;32m    <a href='file:///users/cwoest/Applications/anaconda3/envs/master-thesis-log/lib/python3.10/site-packages/sklearn/utils/validation.py?line=325'>326</a>\u001b[0m \u001b[39m        Objects that will be checked for consistent length.\u001b[39;00m\n\u001b[1;32m    <a href='file:///users/cwoest/Applications/anaconda3/envs/master-thesis-log/lib/python3.10/site-packages/sklearn/utils/validation.py?line=326'>327</a>\u001b[0m \u001b[39m    \"\"\"\u001b[39;00m\n\u001b[0;32m--> <a href='file:///users/cwoest/Applications/anaconda3/envs/master-thesis-log/lib/python3.10/site-packages/sklearn/utils/validation.py?line=328'>329</a>\u001b[0m     lengths \u001b[39m=\u001b[39m [_num_samples(X) \u001b[39mfor\u001b[39;00m X \u001b[39min\u001b[39;00m arrays \u001b[39mif\u001b[39;00m X \u001b[39mis\u001b[39;00m \u001b[39mnot\u001b[39;00m \u001b[39mNone\u001b[39;00m]\n\u001b[1;32m    <a href='file:///users/cwoest/Applications/anaconda3/envs/master-thesis-log/lib/python3.10/site-packages/sklearn/utils/validation.py?line=329'>330</a>\u001b[0m     uniques \u001b[39m=\u001b[39m np\u001b[39m.\u001b[39munique(lengths)\n\u001b[1;32m    <a href='file:///users/cwoest/Applications/anaconda3/envs/master-thesis-log/lib/python3.10/site-packages/sklearn/utils/validation.py?line=330'>331</a>\u001b[0m     \u001b[39mif\u001b[39;00m \u001b[39mlen\u001b[39m(uniques) \u001b[39m>\u001b[39m \u001b[39m1\u001b[39m:\n",
      "File \u001b[0;32m/users/cwoest/Applications/anaconda3/envs/master-thesis-log/lib/python3.10/site-packages/sklearn/utils/validation.py:329\u001b[0m, in \u001b[0;36m<listcomp>\u001b[0;34m(.0)\u001b[0m\n\u001b[1;32m    <a href='file:///users/cwoest/Applications/anaconda3/envs/master-thesis-log/lib/python3.10/site-packages/sklearn/utils/validation.py?line=317'>318</a>\u001b[0m \u001b[39mdef\u001b[39;00m \u001b[39mcheck_consistent_length\u001b[39m(\u001b[39m*\u001b[39marrays):\n\u001b[1;32m    <a href='file:///users/cwoest/Applications/anaconda3/envs/master-thesis-log/lib/python3.10/site-packages/sklearn/utils/validation.py?line=318'>319</a>\u001b[0m     \u001b[39m\"\"\"Check that all arrays have consistent first dimensions.\u001b[39;00m\n\u001b[1;32m    <a href='file:///users/cwoest/Applications/anaconda3/envs/master-thesis-log/lib/python3.10/site-packages/sklearn/utils/validation.py?line=319'>320</a>\u001b[0m \n\u001b[1;32m    <a href='file:///users/cwoest/Applications/anaconda3/envs/master-thesis-log/lib/python3.10/site-packages/sklearn/utils/validation.py?line=320'>321</a>\u001b[0m \u001b[39m    Checks whether all objects in arrays have the same shape or length.\u001b[39;00m\n\u001b[0;32m   (...)\u001b[0m\n\u001b[1;32m    <a href='file:///users/cwoest/Applications/anaconda3/envs/master-thesis-log/lib/python3.10/site-packages/sklearn/utils/validation.py?line=325'>326</a>\u001b[0m \u001b[39m        Objects that will be checked for consistent length.\u001b[39;00m\n\u001b[1;32m    <a href='file:///users/cwoest/Applications/anaconda3/envs/master-thesis-log/lib/python3.10/site-packages/sklearn/utils/validation.py?line=326'>327</a>\u001b[0m \u001b[39m    \"\"\"\u001b[39;00m\n\u001b[0;32m--> <a href='file:///users/cwoest/Applications/anaconda3/envs/master-thesis-log/lib/python3.10/site-packages/sklearn/utils/validation.py?line=328'>329</a>\u001b[0m     lengths \u001b[39m=\u001b[39m [_num_samples(X) \u001b[39mfor\u001b[39;00m X \u001b[39min\u001b[39;00m arrays \u001b[39mif\u001b[39;00m X \u001b[39mis\u001b[39;00m \u001b[39mnot\u001b[39;00m \u001b[39mNone\u001b[39;00m]\n\u001b[1;32m    <a href='file:///users/cwoest/Applications/anaconda3/envs/master-thesis-log/lib/python3.10/site-packages/sklearn/utils/validation.py?line=329'>330</a>\u001b[0m     uniques \u001b[39m=\u001b[39m np\u001b[39m.\u001b[39munique(lengths)\n\u001b[1;32m    <a href='file:///users/cwoest/Applications/anaconda3/envs/master-thesis-log/lib/python3.10/site-packages/sklearn/utils/validation.py?line=330'>331</a>\u001b[0m     \u001b[39mif\u001b[39;00m \u001b[39mlen\u001b[39m(uniques) \u001b[39m>\u001b[39m \u001b[39m1\u001b[39m:\n",
      "File \u001b[0;32m/users/cwoest/Applications/anaconda3/envs/master-thesis-log/lib/python3.10/site-packages/sklearn/utils/validation.py:269\u001b[0m, in \u001b[0;36m_num_samples\u001b[0;34m(x)\u001b[0m\n\u001b[1;32m    <a href='file:///users/cwoest/Applications/anaconda3/envs/master-thesis-log/lib/python3.10/site-packages/sklearn/utils/validation.py?line=266'>267</a>\u001b[0m \u001b[39mif\u001b[39;00m \u001b[39mhasattr\u001b[39m(x, \u001b[39m\"\u001b[39m\u001b[39mshape\u001b[39m\u001b[39m\"\u001b[39m) \u001b[39mand\u001b[39;00m x\u001b[39m.\u001b[39mshape \u001b[39mis\u001b[39;00m \u001b[39mnot\u001b[39;00m \u001b[39mNone\u001b[39;00m:\n\u001b[1;32m    <a href='file:///users/cwoest/Applications/anaconda3/envs/master-thesis-log/lib/python3.10/site-packages/sklearn/utils/validation.py?line=267'>268</a>\u001b[0m     \u001b[39mif\u001b[39;00m \u001b[39mlen\u001b[39m(x\u001b[39m.\u001b[39mshape) \u001b[39m==\u001b[39m \u001b[39m0\u001b[39m:\n\u001b[0;32m--> <a href='file:///users/cwoest/Applications/anaconda3/envs/master-thesis-log/lib/python3.10/site-packages/sklearn/utils/validation.py?line=268'>269</a>\u001b[0m         \u001b[39mraise\u001b[39;00m \u001b[39mTypeError\u001b[39;00m(\n\u001b[1;32m    <a href='file:///users/cwoest/Applications/anaconda3/envs/master-thesis-log/lib/python3.10/site-packages/sklearn/utils/validation.py?line=269'>270</a>\u001b[0m             \u001b[39m\"\u001b[39m\u001b[39mSingleton array \u001b[39m\u001b[39m%r\u001b[39;00m\u001b[39m cannot be considered a valid collection.\u001b[39m\u001b[39m\"\u001b[39m \u001b[39m%\u001b[39m x\n\u001b[1;32m    <a href='file:///users/cwoest/Applications/anaconda3/envs/master-thesis-log/lib/python3.10/site-packages/sklearn/utils/validation.py?line=270'>271</a>\u001b[0m         )\n\u001b[1;32m    <a href='file:///users/cwoest/Applications/anaconda3/envs/master-thesis-log/lib/python3.10/site-packages/sklearn/utils/validation.py?line=271'>272</a>\u001b[0m     \u001b[39m# Check that shape is returning an integer or default to len\u001b[39;00m\n\u001b[1;32m    <a href='file:///users/cwoest/Applications/anaconda3/envs/master-thesis-log/lib/python3.10/site-packages/sklearn/utils/validation.py?line=272'>273</a>\u001b[0m     \u001b[39m# Dask dataframes may not return numeric shape[0] value\u001b[39;00m\n\u001b[1;32m    <a href='file:///users/cwoest/Applications/anaconda3/envs/master-thesis-log/lib/python3.10/site-packages/sklearn/utils/validation.py?line=273'>274</a>\u001b[0m     \u001b[39mif\u001b[39;00m \u001b[39misinstance\u001b[39m(x\u001b[39m.\u001b[39mshape[\u001b[39m0\u001b[39m], numbers\u001b[39m.\u001b[39mIntegral):\n",
      "\u001b[0;31mTypeError\u001b[0m: Singleton array 7.4622655 cannot be considered a valid collection."
     ]
    }
   ],
   "source": [
    "mean_squared_error(mean_squared_error(actuals[:-1], predictions[:-1]), mean_squared_error(actuals[-1], predictions[-1]))"
   ]
  },
  {
   "cell_type": "code",
   "execution_count": 424,
   "metadata": {},
   "outputs": [
    {
     "name": "stdout",
     "output_type": "stream",
     "text": [
      "7.4622655\n",
      "7.534893\n"
     ]
    }
   ],
   "source": [
    "print(mean_squared_error(actuals[:-1], predictions[:-1]))\n",
    "print(mean_squared_error(actuals[-1], predictions[-1]))"
   ]
  },
  {
   "cell_type": "code",
   "execution_count": 435,
   "metadata": {},
   "outputs": [
    {
     "name": "stdout",
     "output_type": "stream",
     "text": [
      "7.480422496795654\n"
     ]
    }
   ],
   "source": [
    "s = 0\n",
    "for i in range(len(actuals)):\n",
    "    s += mean_squared_error(actuals[i], predictions[i])\n",
    "print(s / len(actuals))"
   ]
  },
  {
   "cell_type": "code",
   "execution_count": 387,
   "metadata": {},
   "outputs": [
    {
     "data": {
      "image/png": "[encoded data removed]",
      "text/plain": [
       "<Figure size 432x288 with 1 Axes>"
      ]
     },
     "metadata": {},
     "output_type": "display_data"
    }
   ],
   "source": [
    "plt.hist(modeling_dataset.LN_IC50, bins=20);"
   ]
  },
  {
   "cell_type": "code",
   "execution_count": 406,
   "metadata": {},
   "outputs": [
    {
     "data": {
      "text/plain": [
       "(70409, 909)"
      ]
     },
     "execution_count": 406,
     "metadata": {},
     "output_type": "execute_result"
    }
   ],
   "source": [
    "vstack(inputs).shape"
   ]
  },
  {
   "cell_type": "code",
   "execution_count": 394,
   "metadata": {},
   "outputs": [
    {
     "data": {
      "text/plain": [
       "4"
      ]
     },
     "execution_count": 394,
     "metadata": {},
     "output_type": "execute_result"
    }
   ],
   "source": [
    "len(actuals)"
   ]
  },
  {
   "cell_type": "code",
   "execution_count": 403,
   "metadata": {},
   "outputs": [
    {
     "ename": "TypeError",
     "evalue": "only integer scalar arrays can be converted to a scalar index",
     "output_type": "error",
     "traceback": [
      "\u001b[0;31m---------------------------------------------------------------------------\u001b[0m",
      "\u001b[0;31mTypeError\u001b[0m                                 Traceback (most recent call last)",
      "\u001b[1;32m/Users/cwoest/Documents/Academics/Data_Science_UP/master_thesis/material/GNN-material/08_baseline.ipynb Cell 56'\u001b[0m in \u001b[0;36m<cell line: 1>\u001b[0;34m()\u001b[0m\n\u001b[0;32m----> <a href='vscode-notebook-cell:/Users/cwoest/Documents/Academics/Data_Science_UP/master_thesis/material/GNN-material/08_baseline.ipynb#ch0000047?line=0'>1</a>\u001b[0m np\u001b[39m.\u001b[39;49mndarray(actuals)\n",
      "\u001b[0;31mTypeError\u001b[0m: only integer scalar arrays can be converted to a scalar index"
     ]
    }
   ],
   "source": [
    "np.ndarray(actuals)"
   ]
  },
  {
   "cell_type": "code",
   "execution_count": null,
   "metadata": {},
   "outputs": [],
   "source": []
  },
  {
   "cell_type": "code",
   "execution_count": null,
   "metadata": {},
   "outputs": [],
   "source": []
  },
  {
   "cell_type": "code",
   "execution_count": null,
   "metadata": {},
   "outputs": [],
   "source": []
  },
  {
   "cell_type": "code",
   "execution_count": null,
   "metadata": {},
   "outputs": [],
   "source": []
  },
  {
   "cell_type": "code",
   "execution_count": null,
   "metadata": {},
   "outputs": [],
   "source": []
  },
  {
   "cell_type": "code",
   "execution_count": null,
   "metadata": {},
   "outputs": [],
   "source": []
  },
  {
   "cell_type": "code",
   "execution_count": null,
   "metadata": {},
   "outputs": [],
   "source": []
  },
  {
   "cell_type": "code",
   "execution_count": null,
   "metadata": {},
   "outputs": [],
   "source": []
  },
  {
   "cell_type": "code",
   "execution_count": 202,
   "metadata": {},
   "outputs": [
    {
     "data": {
      "text/plain": [
       "tensor([[7.4722, 5.8678, 4.9159,  ..., 6.6141, 8.5520, 3.2697],\n",
       "        [7.4081, 6.1157, 6.0675,  ..., 3.6499, 6.8504, 3.5596],\n",
       "        [7.2114, 7.4453, 5.6951,  ..., 3.6498, 8.3988, 3.8715],\n",
       "        ...,\n",
       "        [7.0449, 6.8248, 4.8239,  ..., 4.6832, 9.6526, 3.7312],\n",
       "        [7.1434, 6.8708, 6.0484,  ..., 7.9259, 8.3798, 3.4813],\n",
       "        [7.5782, 7.3208, 5.1952,  ..., 7.5937, 7.9628, 3.4822]],\n",
       "       dtype=torch.float64)"
      ]
     },
     "execution_count": 202,
     "metadata": {},
     "output_type": "execute_result"
    }
   ],
   "source": [
    "gene_expr_data"
   ]
  },
  {
   "cell_type": "code",
   "execution_count": 132,
   "metadata": {},
   "outputs": [
    {
     "name": "stdout",
     "output_type": "stream",
     "text": [
      "torch.Size([3, 2, 1])\n"
     ]
    },
    {
     "data": {
      "text/plain": [
       "tensor([[[1],\n",
       "         [2]],\n",
       "\n",
       "        [[3],\n",
       "         [4]],\n",
       "\n",
       "        [[5],\n",
       "         [6]]])"
      ]
     },
     "execution_count": 132,
     "metadata": {},
     "output_type": "execute_result"
    }
   ],
   "source": [
    "np1 = np.array([[1], \n",
    "                [2]])\n",
    "np2 = np.array([[3], \n",
    "                [4]])\n",
    "np3 = np.array([[5], \n",
    "                [6]])\n",
    "\n",
    "\"\"\"\n",
    "1.dim = features\n",
    "2.dim = cell-lines\n",
    "3.dim = genes\n",
    "\"\"\"\n",
    "\n",
    "t = torch.tensor([np1, np2, np3])\n",
    "print(t.shape)\n",
    "t"
   ]
  },
  {
   "cell_type": "code",
   "execution_count": 138,
   "metadata": {},
   "outputs": [
    {
     "data": {
      "text/plain": [
       "tensor([[1, 2],\n",
       "        [3, 4],\n",
       "        [5, 6]])"
      ]
     },
     "execution_count": 138,
     "metadata": {},
     "output_type": "execute_result"
    }
   ],
   "source": [
    "t2 = torch.flatten(t, start_dim=1)\n",
    "t2"
   ]
  },
  {
   "cell_type": "code",
   "execution_count": 154,
   "metadata": {},
   "outputs": [
    {
     "data": {
      "text/plain": [
       "tensor([[1, 5, 4],\n",
       "        [3, 2, 6]])"
      ]
     },
     "execution_count": 154,
     "metadata": {},
     "output_type": "execute_result"
    }
   ],
   "source": [
    "np.reshape(t, (2, 3), order='F')"
   ]
  },
  {
   "cell_type": "code",
   "execution_count": 156,
   "metadata": {},
   "outputs": [
    {
     "data": {
      "text/plain": [
       "array([[1, 3, 5],\n",
       "       [2, 4, 6]])"
      ]
     },
     "execution_count": 156,
     "metadata": {},
     "output_type": "execute_result"
    }
   ],
   "source": [
    "np.ravel(t, order='F').reshape((2, t.shape[0] * t.shape[2]))"
   ]
  },
  {
   "cell_type": "markdown",
   "metadata": {},
   "source": [
    "---\n",
    "\n",
    "## Drug Features"
   ]
  },
  {
   "cell_type": "code",
   "execution_count": 27,
   "metadata": {},
   "outputs": [
    {
     "name": "stdout",
     "output_type": "stream",
     "text": [
      "Shape: (367, 257)\n"
     ]
    },
    {
     "data": {
      "text/html": [
       "<div>\n",
       "<style scoped>\n",
       "    .dataframe tbody tr th:only-of-type {\n",
       "        vertical-align: middle;\n",
       "    }\n",
       "\n",
       "    .dataframe tbody tr th {\n",
       "        vertical-align: top;\n",
       "    }\n",
       "\n",
       "    .dataframe thead th {\n",
       "        text-align: right;\n",
       "    }\n",
       "</style>\n",
       "<table border=\"1\" class=\"dataframe\">\n",
       "  <thead>\n",
       "    <tr style=\"text-align: right;\">\n",
       "      <th></th>\n",
       "      <th>drug_name</th>\n",
       "      <th>0</th>\n",
       "      <th>1</th>\n",
       "      <th>2</th>\n",
       "      <th>3</th>\n",
       "      <th>4</th>\n",
       "      <th>5</th>\n",
       "      <th>6</th>\n",
       "      <th>7</th>\n",
       "      <th>8</th>\n",
       "      <th>...</th>\n",
       "      <th>246</th>\n",
       "      <th>247</th>\n",
       "      <th>248</th>\n",
       "      <th>249</th>\n",
       "      <th>250</th>\n",
       "      <th>251</th>\n",
       "      <th>252</th>\n",
       "      <th>253</th>\n",
       "      <th>254</th>\n",
       "      <th>255</th>\n",
       "    </tr>\n",
       "  </thead>\n",
       "  <tbody>\n",
       "    <tr>\n",
       "      <th>0</th>\n",
       "      <td>(5Z)-7-Oxozeaenol</td>\n",
       "      <td>1</td>\n",
       "      <td>0</td>\n",
       "      <td>0</td>\n",
       "      <td>1</td>\n",
       "      <td>1</td>\n",
       "      <td>0</td>\n",
       "      <td>0</td>\n",
       "      <td>0</td>\n",
       "      <td>0</td>\n",
       "      <td>...</td>\n",
       "      <td>0</td>\n",
       "      <td>0</td>\n",
       "      <td>0</td>\n",
       "      <td>0</td>\n",
       "      <td>0</td>\n",
       "      <td>1</td>\n",
       "      <td>1</td>\n",
       "      <td>0</td>\n",
       "      <td>1</td>\n",
       "      <td>0</td>\n",
       "    </tr>\n",
       "    <tr>\n",
       "      <th>1</th>\n",
       "      <td>5-Fluorouracil</td>\n",
       "      <td>0</td>\n",
       "      <td>0</td>\n",
       "      <td>0</td>\n",
       "      <td>0</td>\n",
       "      <td>0</td>\n",
       "      <td>0</td>\n",
       "      <td>0</td>\n",
       "      <td>0</td>\n",
       "      <td>0</td>\n",
       "      <td>...</td>\n",
       "      <td>0</td>\n",
       "      <td>0</td>\n",
       "      <td>0</td>\n",
       "      <td>0</td>\n",
       "      <td>0</td>\n",
       "      <td>0</td>\n",
       "      <td>0</td>\n",
       "      <td>0</td>\n",
       "      <td>0</td>\n",
       "      <td>1</td>\n",
       "    </tr>\n",
       "    <tr>\n",
       "      <th>2</th>\n",
       "      <td>A-443654</td>\n",
       "      <td>0</td>\n",
       "      <td>1</td>\n",
       "      <td>0</td>\n",
       "      <td>0</td>\n",
       "      <td>0</td>\n",
       "      <td>0</td>\n",
       "      <td>0</td>\n",
       "      <td>0</td>\n",
       "      <td>0</td>\n",
       "      <td>...</td>\n",
       "      <td>0</td>\n",
       "      <td>1</td>\n",
       "      <td>0</td>\n",
       "      <td>0</td>\n",
       "      <td>0</td>\n",
       "      <td>0</td>\n",
       "      <td>0</td>\n",
       "      <td>0</td>\n",
       "      <td>0</td>\n",
       "      <td>1</td>\n",
       "    </tr>\n",
       "  </tbody>\n",
       "</table>\n",
       "<p>3 rows × 257 columns</p>\n",
       "</div>"
      ],
      "text/plain": [
       "           drug_name  0  1  2  3  4  5  6  7  8  ...  246  247  248  249  250  \\\n",
       "0  (5Z)-7-Oxozeaenol  1  0  0  1  1  0  0  0  0  ...    0    0    0    0    0   \n",
       "1     5-Fluorouracil  0  0  0  0  0  0  0  0  0  ...    0    0    0    0    0   \n",
       "2           A-443654  0  1  0  0  0  0  0  0  0  ...    0    1    0    0    0   \n",
       "\n",
       "   251  252  253  254  255  \n",
       "0    1    1    0    1    0  \n",
       "1    0    0    0    0    1  \n",
       "2    0    0    0    0    1  \n",
       "\n",
       "[3 rows x 257 columns]"
      ]
     },
     "execution_count": 27,
     "metadata": {},
     "output_type": "execute_result"
    }
   ],
   "source": [
    "with open(f'{PATH_TO_SAVED_DRUG_FEATURES}drug_name_fingerprints_dataframe.pkl', 'rb') as f:\n",
    "    drug_name_fps = pickle.load(f)\n",
    "print(f\"Shape: {drug_name_fps.shape}\")\n",
    "drug_name_fps.head(3)   "
   ]
  },
  {
   "cell_type": "markdown",
   "metadata": {},
   "source": [
    "The encoded drug feature dataset has 367 unique drug names and per drug name a 256 sized De-Morgan fingerprint."
   ]
  },
  {
   "cell_type": "code",
   "execution_count": null,
   "metadata": {},
   "outputs": [],
   "source": []
  }
 ],
 "metadata": {
  "interpreter": {
   "hash": "c78b81650a0bd32063743affb6953ff71b1a0dba806fbca9e2db842718495748"
  },
  "kernelspec": {
   "display_name": "Python 3.10.4 ('master-thesis-log')",
   "language": "python",
   "name": "python3"
  },
  "language_info": {
   "codemirror_mode": {
    "name": "ipython",
    "version": 3
   },
   "file_extension": ".py",
   "mimetype": "text/x-python",
   "name": "python",
   "nbconvert_exporter": "python",
   "pygments_lexer": "ipython3",
   "version": "3.10.4"
  },
  "orig_nbformat": 4
 },
 "nbformat": 4,
 "nbformat_minor": 2
}
