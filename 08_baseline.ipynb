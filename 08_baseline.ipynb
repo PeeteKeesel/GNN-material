{
 "cells": [
  {
   "cell_type": "code",
   "execution_count": 2,
   "metadata": {},
   "outputs": [],
   "source": [
    "# -------- #\n",
    "# PACKAGES #\n",
    "# -------- #\n",
    "import time\n",
    "import pickle\n",
    "import torch\n",
    "import torch.nn          as nn\n",
    "import numpy             as np\n",
    "import pandas            as pd\n",
    "import matplotlib.pyplot as plt \n",
    "import seaborn           as sns\n",
    "\n",
    "from torch.utils.data import Dataset, DataLoader\n",
    "\n",
    "# ---------------- #\n",
    "# GENERAL SETTINGS #\n",
    "# ---------------- #\n",
    "torch.manual_seed(42)\n",
    "sns.set_theme(style=\"white\")\n",
    "\n",
    "# ---------------- #\n",
    "# GLOBAL VARIABLES #\n",
    "# ---------------- #\n",
    "from config import (\n",
    "    # Drug features.\n",
    "    PATH_TO_SAVED_DRUG_FEATURES,\n",
    "    DRUG_FPS_FINAL_FILE_NAME,\n",
    "    # Cell line features.\n",
    "    PATH_TO_SAVED_CL_FEATURES,\n",
    "    GENE_EXPR_FINAL_FILE_NAME,\n",
    "    CNV_GISTIC_FINAL_FILE_NAME,\n",
    "    CNV_PICNIC_FINAL_FILE_NAME    \n",
    ")"
   ]
  },
  {
   "cell_type": "markdown",
   "metadata": {},
   "source": [
    "---\n",
    "\n",
    "# Building a Baseline Model\n",
    "\n",
    "The objective of this notebook is to research on how to build a baseline model to test the future GNN approach against. It should be a Deep Learning model for Drug Response Prediction with the following general structure.\n",
    "\n",
    "<p align=\"center\">\n",
    "    <img src=\"imgs/GeneralDLModelForDRP.png\" alt=\"drawing\" width=\"400\"/>\n",
    "</p>"
   ]
  },
  {
   "cell_type": "code",
   "execution_count": 562,
   "metadata": {},
   "outputs": [],
   "source": [
    "PATH_TO_SAVE_MODELS_TO = '../../datasets/models/'"
   ]
  },
  {
   "cell_type": "markdown",
   "metadata": {},
   "source": [
    "---\n",
    "\n",
    "## Cell Features"
   ]
  },
  {
   "cell_type": "code",
   "execution_count": 3,
   "metadata": {},
   "outputs": [
    {
     "name": "stdout",
     "output_type": "stream",
     "text": [
      "Shape: (446521, 922) took 4.11994 seconds.\n",
      "  Number of unique cell-lines : 988\n",
      "  Number of gene columns      : 908\n"
     ]
    },
    {
     "data": {
      "text/html": [
       "<div>\n",
       "<style scoped>\n",
       "    .dataframe tbody tr th:only-of-type {\n",
       "        vertical-align: middle;\n",
       "    }\n",
       "\n",
       "    .dataframe tbody tr th {\n",
       "        vertical-align: top;\n",
       "    }\n",
       "\n",
       "    .dataframe thead th {\n",
       "        text-align: right;\n",
       "    }\n",
       "</style>\n",
       "<table border=\"1\" class=\"dataframe\">\n",
       "  <thead>\n",
       "    <tr style=\"text-align: right;\">\n",
       "      <th></th>\n",
       "      <th>DRUG_ID</th>\n",
       "      <th>CELL_LINE_NAME</th>\n",
       "      <th>AUC</th>\n",
       "      <th>CELL_ID</th>\n",
       "      <th>LN_IC50</th>\n",
       "      <th>CONC</th>\n",
       "      <th>MASTER_CELL_ID</th>\n",
       "      <th>INTENSITY</th>\n",
       "      <th>DATASET</th>\n",
       "      <th>Z_SCORE</th>\n",
       "      <th>...</th>\n",
       "      <th>MYCBP</th>\n",
       "      <th>FIS1</th>\n",
       "      <th>IFRD2</th>\n",
       "      <th>NPEPL1</th>\n",
       "      <th>CEBPD</th>\n",
       "      <th>PLEKHM1</th>\n",
       "      <th>MIF</th>\n",
       "      <th>PRAF2</th>\n",
       "      <th>LYN</th>\n",
       "      <th>POLG2</th>\n",
       "    </tr>\n",
       "  </thead>\n",
       "  <tbody>\n",
       "    <tr>\n",
       "      <th>0</th>\n",
       "      <td>1</td>\n",
       "      <td>MC-CAR</td>\n",
       "      <td>0.982114</td>\n",
       "      <td>3137</td>\n",
       "      <td>2.395685</td>\n",
       "      <td>2.0</td>\n",
       "      <td>49</td>\n",
       "      <td>544404</td>\n",
       "      <td>GDSC1</td>\n",
       "      <td>-0.189576</td>\n",
       "      <td>...</td>\n",
       "      <td>8.355826</td>\n",
       "      <td>8.951680</td>\n",
       "      <td>7.205590</td>\n",
       "      <td>3.277948</td>\n",
       "      <td>3.465672</td>\n",
       "      <td>6.312806</td>\n",
       "      <td>12.112498</td>\n",
       "      <td>3.010237</td>\n",
       "      <td>8.750848</td>\n",
       "      <td>6.199366</td>\n",
       "    </tr>\n",
       "    <tr>\n",
       "      <th>9</th>\n",
       "      <td>1</td>\n",
       "      <td>ES3</td>\n",
       "      <td>0.984816</td>\n",
       "      <td>2366</td>\n",
       "      <td>3.140923</td>\n",
       "      <td>2.0</td>\n",
       "      <td>1342</td>\n",
       "      <td>404197</td>\n",
       "      <td>GDSC1</td>\n",
       "      <td>0.508635</td>\n",
       "      <td>...</td>\n",
       "      <td>5.995760</td>\n",
       "      <td>9.337588</td>\n",
       "      <td>7.468226</td>\n",
       "      <td>3.716270</td>\n",
       "      <td>5.363887</td>\n",
       "      <td>6.188079</td>\n",
       "      <td>12.281947</td>\n",
       "      <td>4.794624</td>\n",
       "      <td>3.588528</td>\n",
       "      <td>6.785201</td>\n",
       "    </tr>\n",
       "    <tr>\n",
       "      <th>27</th>\n",
       "      <td>1</td>\n",
       "      <td>ES5</td>\n",
       "      <td>0.985693</td>\n",
       "      <td>2368</td>\n",
       "      <td>3.968757</td>\n",
       "      <td>2.0</td>\n",
       "      <td>610</td>\n",
       "      <td>797378</td>\n",
       "      <td>GDSC1</td>\n",
       "      <td>1.284229</td>\n",
       "      <td>...</td>\n",
       "      <td>6.939741</td>\n",
       "      <td>8.688176</td>\n",
       "      <td>7.085349</td>\n",
       "      <td>3.688222</td>\n",
       "      <td>4.572119</td>\n",
       "      <td>6.345090</td>\n",
       "      <td>12.276166</td>\n",
       "      <td>4.114092</td>\n",
       "      <td>5.768098</td>\n",
       "      <td>7.505155</td>\n",
       "    </tr>\n",
       "  </tbody>\n",
       "</table>\n",
       "<p>3 rows × 922 columns</p>\n",
       "</div>"
      ],
      "text/plain": [
       "    DRUG_ID CELL_LINE_NAME       AUC  CELL_ID   LN_IC50  CONC  MASTER_CELL_ID  \\\n",
       "0         1         MC-CAR  0.982114     3137  2.395685   2.0              49   \n",
       "9         1            ES3  0.984816     2366  3.140923   2.0            1342   \n",
       "27        1            ES5  0.985693     2368  3.968757   2.0             610   \n",
       "\n",
       "    INTENSITY DATASET   Z_SCORE  ...     MYCBP      FIS1     IFRD2    NPEPL1  \\\n",
       "0      544404   GDSC1 -0.189576  ...  8.355826  8.951680  7.205590  3.277948   \n",
       "9      404197   GDSC1  0.508635  ...  5.995760  9.337588  7.468226  3.716270   \n",
       "27     797378   GDSC1  1.284229  ...  6.939741  8.688176  7.085349  3.688222   \n",
       "\n",
       "       CEBPD   PLEKHM1        MIF     PRAF2       LYN     POLG2  \n",
       "0   3.465672  6.312806  12.112498  3.010237  8.750848  6.199366  \n",
       "9   5.363887  6.188079  12.281947  4.794624  3.588528  6.785201  \n",
       "27  4.572119  6.345090  12.276166  4.114092  5.768098  7.505155  \n",
       "\n",
       "[3 rows x 922 columns]"
      ]
     },
     "execution_count": 3,
     "metadata": {},
     "output_type": "execute_result"
    }
   ],
   "source": [
    "# --------------- #\n",
    "# GENE EXPRESSION #\n",
    "# --------------- #\n",
    "start = time.time()\n",
    "gene_expr = pd.read_pickle(f'{PATH_TO_SAVED_CL_FEATURES}{GENE_EXPR_FINAL_FILE_NAME}')\n",
    "print(f\"Shape: {gene_expr.shape} took {time.time()-start:.5f} seconds.\")\n",
    "print(f\"  Number of unique cell-lines : {len(np.unique(gene_expr.CELL_LINE_NAME.values))}\")\n",
    "print(f\"  Number of gene columns      : {len(gene_expr.columns[14:])}\")\n",
    "gene_expr.head(3)"
   ]
  },
  {
   "cell_type": "code",
   "execution_count": 4,
   "metadata": {},
   "outputs": [
    {
     "data": {
      "text/html": [
       "<div>\n",
       "<style scoped>\n",
       "    .dataframe tbody tr th:only-of-type {\n",
       "        vertical-align: middle;\n",
       "    }\n",
       "\n",
       "    .dataframe tbody tr th {\n",
       "        vertical-align: top;\n",
       "    }\n",
       "\n",
       "    .dataframe thead th {\n",
       "        text-align: right;\n",
       "    }\n",
       "</style>\n",
       "<table border=\"1\" class=\"dataframe\">\n",
       "  <thead>\n",
       "    <tr style=\"text-align: right;\">\n",
       "      <th></th>\n",
       "      <th>DRUG_ID</th>\n",
       "      <th>CELL_LINE_NAME</th>\n",
       "      <th>AUC</th>\n",
       "      <th>CELL_ID</th>\n",
       "      <th>LN_IC50</th>\n",
       "      <th>CONC</th>\n",
       "      <th>MASTER_CELL_ID</th>\n",
       "      <th>INTENSITY</th>\n",
       "      <th>DATASET</th>\n",
       "      <th>Z_SCORE</th>\n",
       "      <th>...</th>\n",
       "      <th>MYCBP</th>\n",
       "      <th>FIS1</th>\n",
       "      <th>IFRD2</th>\n",
       "      <th>NPEPL1</th>\n",
       "      <th>CEBPD</th>\n",
       "      <th>PLEKHM1</th>\n",
       "      <th>MIF</th>\n",
       "      <th>PRAF2</th>\n",
       "      <th>LYN</th>\n",
       "      <th>POLG2</th>\n",
       "    </tr>\n",
       "  </thead>\n",
       "  <tbody>\n",
       "    <tr>\n",
       "      <th>0</th>\n",
       "      <td>1</td>\n",
       "      <td>MC-CAR</td>\n",
       "      <td>0.982114</td>\n",
       "      <td>3137</td>\n",
       "      <td>2.395685</td>\n",
       "      <td>2.0</td>\n",
       "      <td>49</td>\n",
       "      <td>544404</td>\n",
       "      <td>GDSC1</td>\n",
       "      <td>-0.189576</td>\n",
       "      <td>...</td>\n",
       "      <td>8.355826</td>\n",
       "      <td>8.95168</td>\n",
       "      <td>7.20559</td>\n",
       "      <td>3.277948</td>\n",
       "      <td>3.465672</td>\n",
       "      <td>6.312806</td>\n",
       "      <td>12.112498</td>\n",
       "      <td>3.010237</td>\n",
       "      <td>8.750848</td>\n",
       "      <td>6.199366</td>\n",
       "    </tr>\n",
       "    <tr>\n",
       "      <th>4563</th>\n",
       "      <td>3</td>\n",
       "      <td>MC-CAR</td>\n",
       "      <td>0.980891</td>\n",
       "      <td>3137</td>\n",
       "      <td>-0.658244</td>\n",
       "      <td>0.1</td>\n",
       "      <td>49</td>\n",
       "      <td>558232</td>\n",
       "      <td>GDSC1</td>\n",
       "      <td>0.806489</td>\n",
       "      <td>...</td>\n",
       "      <td>8.355826</td>\n",
       "      <td>8.95168</td>\n",
       "      <td>7.20559</td>\n",
       "      <td>3.277948</td>\n",
       "      <td>3.465672</td>\n",
       "      <td>6.312806</td>\n",
       "      <td>12.112498</td>\n",
       "      <td>3.010237</td>\n",
       "      <td>8.750848</td>\n",
       "      <td>6.199366</td>\n",
       "    </tr>\n",
       "    <tr>\n",
       "      <th>8613</th>\n",
       "      <td>5</td>\n",
       "      <td>MC-CAR</td>\n",
       "      <td>0.903979</td>\n",
       "      <td>3137</td>\n",
       "      <td>2.161095</td>\n",
       "      <td>8.0</td>\n",
       "      <td>49</td>\n",
       "      <td>333014</td>\n",
       "      <td>GDSC1</td>\n",
       "      <td>-0.206663</td>\n",
       "      <td>...</td>\n",
       "      <td>8.355826</td>\n",
       "      <td>8.95168</td>\n",
       "      <td>7.20559</td>\n",
       "      <td>3.277948</td>\n",
       "      <td>3.465672</td>\n",
       "      <td>6.312806</td>\n",
       "      <td>12.112498</td>\n",
       "      <td>3.010237</td>\n",
       "      <td>8.750848</td>\n",
       "      <td>6.199366</td>\n",
       "    </tr>\n",
       "    <tr>\n",
       "      <th>12843</th>\n",
       "      <td>6</td>\n",
       "      <td>MC-CAR</td>\n",
       "      <td>0.986077</td>\n",
       "      <td>3137</td>\n",
       "      <td>2.613997</td>\n",
       "      <td>2.0</td>\n",
       "      <td>49</td>\n",
       "      <td>635581</td>\n",
       "      <td>GDSC1</td>\n",
       "      <td>-0.137000</td>\n",
       "      <td>...</td>\n",
       "      <td>8.355826</td>\n",
       "      <td>8.95168</td>\n",
       "      <td>7.20559</td>\n",
       "      <td>3.277948</td>\n",
       "      <td>3.465672</td>\n",
       "      <td>6.312806</td>\n",
       "      <td>12.112498</td>\n",
       "      <td>3.010237</td>\n",
       "      <td>8.750848</td>\n",
       "      <td>6.199366</td>\n",
       "    </tr>\n",
       "    <tr>\n",
       "      <th>17478</th>\n",
       "      <td>9</td>\n",
       "      <td>MC-CAR</td>\n",
       "      <td>0.937027</td>\n",
       "      <td>3137</td>\n",
       "      <td>0.530615</td>\n",
       "      <td>1.0</td>\n",
       "      <td>49</td>\n",
       "      <td>423727</td>\n",
       "      <td>GDSC1</td>\n",
       "      <td>0.410332</td>\n",
       "      <td>...</td>\n",
       "      <td>8.355826</td>\n",
       "      <td>8.95168</td>\n",
       "      <td>7.20559</td>\n",
       "      <td>3.277948</td>\n",
       "      <td>3.465672</td>\n",
       "      <td>6.312806</td>\n",
       "      <td>12.112498</td>\n",
       "      <td>3.010237</td>\n",
       "      <td>8.750848</td>\n",
       "      <td>6.199366</td>\n",
       "    </tr>\n",
       "  </tbody>\n",
       "</table>\n",
       "<p>5 rows × 922 columns</p>\n",
       "</div>"
      ],
      "text/plain": [
       "       DRUG_ID CELL_LINE_NAME       AUC  CELL_ID   LN_IC50  CONC  \\\n",
       "0            1         MC-CAR  0.982114     3137  2.395685   2.0   \n",
       "4563         3         MC-CAR  0.980891     3137 -0.658244   0.1   \n",
       "8613         5         MC-CAR  0.903979     3137  2.161095   8.0   \n",
       "12843        6         MC-CAR  0.986077     3137  2.613997   2.0   \n",
       "17478        9         MC-CAR  0.937027     3137  0.530615   1.0   \n",
       "\n",
       "       MASTER_CELL_ID  INTENSITY DATASET   Z_SCORE  ...     MYCBP     FIS1  \\\n",
       "0                  49     544404   GDSC1 -0.189576  ...  8.355826  8.95168   \n",
       "4563               49     558232   GDSC1  0.806489  ...  8.355826  8.95168   \n",
       "8613               49     333014   GDSC1 -0.206663  ...  8.355826  8.95168   \n",
       "12843              49     635581   GDSC1 -0.137000  ...  8.355826  8.95168   \n",
       "17478              49     423727   GDSC1  0.410332  ...  8.355826  8.95168   \n",
       "\n",
       "         IFRD2    NPEPL1     CEBPD   PLEKHM1        MIF     PRAF2       LYN  \\\n",
       "0      7.20559  3.277948  3.465672  6.312806  12.112498  3.010237  8.750848   \n",
       "4563   7.20559  3.277948  3.465672  6.312806  12.112498  3.010237  8.750848   \n",
       "8613   7.20559  3.277948  3.465672  6.312806  12.112498  3.010237  8.750848   \n",
       "12843  7.20559  3.277948  3.465672  6.312806  12.112498  3.010237  8.750848   \n",
       "17478  7.20559  3.277948  3.465672  6.312806  12.112498  3.010237  8.750848   \n",
       "\n",
       "          POLG2  \n",
       "0      6.199366  \n",
       "4563   6.199366  \n",
       "8613   6.199366  \n",
       "12843  6.199366  \n",
       "17478  6.199366  \n",
       "\n",
       "[5 rows x 922 columns]"
      ]
     },
     "execution_count": 4,
     "metadata": {},
     "output_type": "execute_result"
    }
   ],
   "source": [
    "gene_expr[gene_expr.CELL_LINE_NAME=='MC-CAR'].head(5)"
   ]
  },
  {
   "cell_type": "markdown",
   "metadata": {},
   "source": [
    "- Note that for the same `CELL_LINE_NAME` the gene expression value is the same.\n",
    "- It only differs for a different `DRUG_ID` for that specific cell line.\n",
    "- The `LN_IC50` is therefore different for each different cell-line - drug tuple.\n",
    "\n",
    "Thus, \n",
    "- each row has different ic50 value\n",
    "- not each row has a different value per gene column"
   ]
  },
  {
   "cell_type": "code",
   "execution_count": 5,
   "metadata": {},
   "outputs": [
    {
     "name": "stdout",
     "output_type": "stream",
     "text": [
      "CNV Gistic: (446521, 952) took 129.31703 seconds.\n",
      "  Number of unique cell-lines : 988\n",
      "  Number of gene columns      : 938\n",
      "CNV Picnic: (446521, 980) took 143.21013 seconds.\n",
      "  Number of unique cell-lines : 988\n",
      "  Number of gene columns      : 966\n"
     ]
    },
    {
     "data": {
      "text/html": [
       "<div>\n",
       "<style scoped>\n",
       "    .dataframe tbody tr th:only-of-type {\n",
       "        vertical-align: middle;\n",
       "    }\n",
       "\n",
       "    .dataframe tbody tr th {\n",
       "        vertical-align: top;\n",
       "    }\n",
       "\n",
       "    .dataframe thead th {\n",
       "        text-align: right;\n",
       "    }\n",
       "</style>\n",
       "<table border=\"1\" class=\"dataframe\">\n",
       "  <thead>\n",
       "    <tr style=\"text-align: right;\">\n",
       "      <th></th>\n",
       "      <th>MASTER_CELL_ID</th>\n",
       "      <th>CELL_ID</th>\n",
       "      <th>CONC</th>\n",
       "      <th>CELL_LINE_NAME</th>\n",
       "      <th>RMSE</th>\n",
       "      <th>AUC</th>\n",
       "      <th>INTENSITY</th>\n",
       "      <th>COSMIC_ID</th>\n",
       "      <th>DRUG_NAME</th>\n",
       "      <th>POSITION</th>\n",
       "      <th>...</th>\n",
       "      <th>ZMIZ1</th>\n",
       "      <th>ZMYM2</th>\n",
       "      <th>ZNF131</th>\n",
       "      <th>ZNF274</th>\n",
       "      <th>ZNF318</th>\n",
       "      <th>ZNF395</th>\n",
       "      <th>ZNF451</th>\n",
       "      <th>ZNF586</th>\n",
       "      <th>ZNF589</th>\n",
       "      <th>ZW10</th>\n",
       "    </tr>\n",
       "  </thead>\n",
       "  <tbody>\n",
       "    <tr>\n",
       "      <th>0</th>\n",
       "      <td>49</td>\n",
       "      <td>3137</td>\n",
       "      <td>2.0</td>\n",
       "      <td>MC-CAR</td>\n",
       "      <td>0.022521</td>\n",
       "      <td>0.982114</td>\n",
       "      <td>544404</td>\n",
       "      <td>683665</td>\n",
       "      <td>Erlotinib</td>\n",
       "      <td>14</td>\n",
       "      <td>...</td>\n",
       "      <td>2.0</td>\n",
       "      <td>2.0</td>\n",
       "      <td>2.0</td>\n",
       "      <td>2.0</td>\n",
       "      <td>2.0</td>\n",
       "      <td>2.0</td>\n",
       "      <td>2.0</td>\n",
       "      <td>2.0</td>\n",
       "      <td>2.0</td>\n",
       "      <td>1.0</td>\n",
       "    </tr>\n",
       "    <tr>\n",
       "      <th>9</th>\n",
       "      <td>1342</td>\n",
       "      <td>2366</td>\n",
       "      <td>2.0</td>\n",
       "      <td>ES3</td>\n",
       "      <td>0.031840</td>\n",
       "      <td>0.984816</td>\n",
       "      <td>404197</td>\n",
       "      <td>684055</td>\n",
       "      <td>Erlotinib</td>\n",
       "      <td>14</td>\n",
       "      <td>...</td>\n",
       "      <td>1.0</td>\n",
       "      <td>1.0</td>\n",
       "      <td>2.0</td>\n",
       "      <td>2.0</td>\n",
       "      <td>2.0</td>\n",
       "      <td>3.0</td>\n",
       "      <td>2.0</td>\n",
       "      <td>2.0</td>\n",
       "      <td>3.0</td>\n",
       "      <td>2.0</td>\n",
       "    </tr>\n",
       "    <tr>\n",
       "      <th>27</th>\n",
       "      <td>610</td>\n",
       "      <td>2368</td>\n",
       "      <td>2.0</td>\n",
       "      <td>ES5</td>\n",
       "      <td>0.026052</td>\n",
       "      <td>0.985693</td>\n",
       "      <td>797378</td>\n",
       "      <td>684057</td>\n",
       "      <td>Erlotinib</td>\n",
       "      <td>14</td>\n",
       "      <td>...</td>\n",
       "      <td>2.0</td>\n",
       "      <td>3.0</td>\n",
       "      <td>3.0</td>\n",
       "      <td>3.0</td>\n",
       "      <td>4.0</td>\n",
       "      <td>6.0</td>\n",
       "      <td>4.0</td>\n",
       "      <td>3.0</td>\n",
       "      <td>4.0</td>\n",
       "      <td>3.0</td>\n",
       "    </tr>\n",
       "  </tbody>\n",
       "</table>\n",
       "<p>3 rows × 980 columns</p>\n",
       "</div>"
      ],
      "text/plain": [
       "    MASTER_CELL_ID  CELL_ID  CONC CELL_LINE_NAME      RMSE       AUC  \\\n",
       "0               49     3137   2.0         MC-CAR  0.022521  0.982114   \n",
       "9             1342     2366   2.0            ES3  0.031840  0.984816   \n",
       "27             610     2368   2.0            ES5  0.026052  0.985693   \n",
       "\n",
       "    INTENSITY  COSMIC_ID  DRUG_NAME  POSITION  ... ZMIZ1  ZMYM2  ZNF131  \\\n",
       "0      544404     683665  Erlotinib        14  ...   2.0    2.0     2.0   \n",
       "9      404197     684055  Erlotinib        14  ...   1.0    1.0     2.0   \n",
       "27     797378     684057  Erlotinib        14  ...   2.0    3.0     3.0   \n",
       "\n",
       "    ZNF274 ZNF318 ZNF395 ZNF451 ZNF586 ZNF589 ZW10  \n",
       "0      2.0    2.0    2.0    2.0    2.0    2.0  1.0  \n",
       "9      2.0    2.0    3.0    2.0    2.0    3.0  2.0  \n",
       "27     3.0    4.0    6.0    4.0    3.0    4.0  3.0  \n",
       "\n",
       "[3 rows x 980 columns]"
      ]
     },
     "execution_count": 5,
     "metadata": {},
     "output_type": "execute_result"
    }
   ],
   "source": [
    "# --------------------- #\n",
    "# COPY NUMBER VARIATION #\n",
    "# --------------------- #\n",
    "# Copy number variation gistic final dataset.\n",
    "start = time.time()\n",
    "final_cnv_gistic = pd.read_pickle(f'{PATH_TO_SAVED_CL_FEATURES}{CNV_GISTIC_FINAL_FILE_NAME}')\n",
    "print(f\"CNV Gistic: {final_cnv_gistic.shape} took {time.time()-start:.5f} seconds.\")\n",
    "print(f\"  Number of unique cell-lines : {len(np.unique(final_cnv_gistic.CELL_LINE_NAME.values))}\")\n",
    "print(f\"  Number of gene columns      : {len(final_cnv_gistic.columns[14:])}\")\n",
    "\n",
    "# Copy number variation picnic final dataset.\n",
    "start = time.time()\n",
    "final_cnv_picnic = pd.read_pickle(f'{PATH_TO_SAVED_CL_FEATURES}{CNV_PICNIC_FINAL_FILE_NAME}')\n",
    "print(f\"CNV Picnic: {final_cnv_picnic.shape} took {time.time()-start:.5f} seconds.\")\n",
    "print(f\"  Number of unique cell-lines : {len(np.unique(final_cnv_picnic.CELL_LINE_NAME.values))}\")\n",
    "print(f\"  Number of gene columns      : {len(final_cnv_picnic.columns[14:])}\")\n",
    "final_cnv_picnic.head(3)"
   ]
  },
  {
   "cell_type": "markdown",
   "metadata": {},
   "source": [
    "- All dataframes have the same number of unique cell-lines."
   ]
  },
  {
   "cell_type": "code",
   "execution_count": 6,
   "metadata": {},
   "outputs": [],
   "source": [
    "non_gene_cols = [\n",
    "    'DRUG_ID', 'CELL_LINE_NAME', 'AUC', 'CELL_ID', 'LN_IC50', 'CONC',\n",
    "    'MASTER_CELL_ID', 'INTENSITY', 'DATASET', 'Z_SCORE', 'DRUG_NAME',\n",
    "    'RMSE', 'COSMIC_ID', 'POSITION'\n",
    "]\n",
    "# Check if all non-gene symbol columns are the same.\n",
    "assert len(non_gene_cols) == len(list(set(gene_expr.columns[:14]).intersection(set(final_cnv_gistic.columns[:14])).intersection(set(final_cnv_picnic.columns[:14]))))\n",
    "assert set(gene_expr.columns[:14]) == set(final_cnv_gistic.columns[:14]) == set(final_cnv_picnic.columns[:14])"
   ]
  },
  {
   "cell_type": "code",
   "execution_count": 7,
   "metadata": {},
   "outputs": [],
   "source": [
    "# Only select the gene symbol columns.\n",
    "gene_cols__geneexpr = gene_expr.loc[:, ~gene_expr.columns.isin(non_gene_cols)]\n",
    "gene_cols__cnvgistic = final_cnv_gistic.loc[:, ~final_cnv_gistic.columns.isin(non_gene_cols)]\n",
    "gene_cols__cnvpicnic = final_cnv_picnic.loc[:, ~final_cnv_picnic.columns.isin(non_gene_cols)]"
   ]
  },
  {
   "cell_type": "code",
   "execution_count": 8,
   "metadata": {},
   "outputs": [
    {
     "name": "stdout",
     "output_type": "stream",
     "text": [
      "The number of gene columns which are existent in all dataframes is:\n",
      "870\n",
      "This corresponds to\n",
      "    95.81 % of the gene expression gene columns.\n",
      "    92.75 % of the cnv gistic      gene columns.\n",
      "    90.06 % of the cnv picnic      gene columns.\n"
     ]
    }
   ],
   "source": [
    "# Gene symbols which are in all cell feature dataframes.\n",
    "in_all = set(gene_cols__geneexpr.columns).intersection(\\\n",
    "         set(gene_cols__cnvgistic.columns)).intersection(\\\n",
    "         set(gene_cols__cnvpicnic.columns))\n",
    "len_in_all = len(in_all)\n",
    "print(f\"\"\"The number of gene columns which are existent in all dataframes is:\\n{len_in_all}\n",
    "This corresponds to\n",
    "    {100*len_in_all/len(gene_cols__geneexpr.columns):2.2f} % of the gene expression gene columns.\n",
    "    {100*len_in_all/len(gene_cols__cnvgistic.columns):2.2f} % of the cnv gistic      gene columns.\n",
    "    {100*len_in_all/len(gene_cols__cnvpicnic.columns):2.2f} % of the cnv picnic      gene columns.\"\"\")             "
   ]
  },
  {
   "cell_type": "code",
   "execution_count": 9,
   "metadata": {},
   "outputs": [
    {
     "name": "stdout",
     "output_type": "stream",
     "text": [
      "After selecting only the genes which are existent in all dataset the shapes are:\n",
      "    gene expr  : (446521, 871)\n",
      "    cnv gistic : (446521, 871)\n",
      "    cnv picnic : (446521, 871)\n",
      "\n"
     ]
    },
    {
     "data": {
      "text/html": [
       "<div>\n",
       "<style scoped>\n",
       "    .dataframe tbody tr th:only-of-type {\n",
       "        vertical-align: middle;\n",
       "    }\n",
       "\n",
       "    .dataframe tbody tr th {\n",
       "        vertical-align: top;\n",
       "    }\n",
       "\n",
       "    .dataframe thead th {\n",
       "        text-align: right;\n",
       "    }\n",
       "</style>\n",
       "<table border=\"1\" class=\"dataframe\">\n",
       "  <thead>\n",
       "    <tr style=\"text-align: right;\">\n",
       "      <th></th>\n",
       "      <th>CELL_LINE_NAME</th>\n",
       "      <th>DAG1</th>\n",
       "      <th>CREG1</th>\n",
       "      <th>DNAJB1</th>\n",
       "      <th>PIK3C3</th>\n",
       "      <th>DLD</th>\n",
       "      <th>FBXL12</th>\n",
       "      <th>PAK6</th>\n",
       "      <th>NR2F6</th>\n",
       "      <th>APPBP2</th>\n",
       "      <th>...</th>\n",
       "      <th>C5</th>\n",
       "      <th>MPC2</th>\n",
       "      <th>CDC45</th>\n",
       "      <th>VPS28</th>\n",
       "      <th>GSTZ1</th>\n",
       "      <th>GDPD5</th>\n",
       "      <th>WDTC1</th>\n",
       "      <th>HMGCS1</th>\n",
       "      <th>PIN1</th>\n",
       "      <th>IDE</th>\n",
       "    </tr>\n",
       "  </thead>\n",
       "  <tbody>\n",
       "    <tr>\n",
       "      <th>0</th>\n",
       "      <td>MC-CAR</td>\n",
       "      <td>4.081657</td>\n",
       "      <td>5.677272</td>\n",
       "      <td>6.180353</td>\n",
       "      <td>8.571591</td>\n",
       "      <td>10.334329</td>\n",
       "      <td>7.505240</td>\n",
       "      <td>3.069739</td>\n",
       "      <td>3.299431</td>\n",
       "      <td>6.125682</td>\n",
       "      <td>...</td>\n",
       "      <td>4.049017</td>\n",
       "      <td>9.057813</td>\n",
       "      <td>6.903852</td>\n",
       "      <td>8.363889</td>\n",
       "      <td>6.544324</td>\n",
       "      <td>3.830996</td>\n",
       "      <td>3.461435</td>\n",
       "      <td>7.187368</td>\n",
       "      <td>5.498214</td>\n",
       "      <td>7.723952</td>\n",
       "    </tr>\n",
       "    <tr>\n",
       "      <th>9</th>\n",
       "      <td>ES3</td>\n",
       "      <td>4.196450</td>\n",
       "      <td>7.051789</td>\n",
       "      <td>5.371774</td>\n",
       "      <td>8.330160</td>\n",
       "      <td>10.126326</td>\n",
       "      <td>6.338445</td>\n",
       "      <td>3.057186</td>\n",
       "      <td>3.981936</td>\n",
       "      <td>7.588107</td>\n",
       "      <td>...</td>\n",
       "      <td>5.373765</td>\n",
       "      <td>8.097682</td>\n",
       "      <td>5.208866</td>\n",
       "      <td>9.776040</td>\n",
       "      <td>6.275633</td>\n",
       "      <td>3.354604</td>\n",
       "      <td>3.366880</td>\n",
       "      <td>5.926742</td>\n",
       "      <td>5.984129</td>\n",
       "      <td>6.754155</td>\n",
       "    </tr>\n",
       "    <tr>\n",
       "      <th>27</th>\n",
       "      <td>ES5</td>\n",
       "      <td>4.371250</td>\n",
       "      <td>7.685916</td>\n",
       "      <td>6.476477</td>\n",
       "      <td>8.960452</td>\n",
       "      <td>10.018826</td>\n",
       "      <td>6.803424</td>\n",
       "      <td>3.761746</td>\n",
       "      <td>4.115502</td>\n",
       "      <td>6.899499</td>\n",
       "      <td>...</td>\n",
       "      <td>3.907119</td>\n",
       "      <td>8.554381</td>\n",
       "      <td>6.212660</td>\n",
       "      <td>9.897498</td>\n",
       "      <td>4.892096</td>\n",
       "      <td>3.784822</td>\n",
       "      <td>3.413021</td>\n",
       "      <td>7.650277</td>\n",
       "      <td>5.590448</td>\n",
       "      <td>6.349301</td>\n",
       "    </tr>\n",
       "  </tbody>\n",
       "</table>\n",
       "<p>3 rows × 871 columns</p>\n",
       "</div>"
      ],
      "text/plain": [
       "   CELL_LINE_NAME      DAG1     CREG1    DNAJB1    PIK3C3        DLD  \\\n",
       "0          MC-CAR  4.081657  5.677272  6.180353  8.571591  10.334329   \n",
       "9             ES3  4.196450  7.051789  5.371774  8.330160  10.126326   \n",
       "27            ES5  4.371250  7.685916  6.476477  8.960452  10.018826   \n",
       "\n",
       "      FBXL12      PAK6     NR2F6    APPBP2  ...        C5      MPC2     CDC45  \\\n",
       "0   7.505240  3.069739  3.299431  6.125682  ...  4.049017  9.057813  6.903852   \n",
       "9   6.338445  3.057186  3.981936  7.588107  ...  5.373765  8.097682  5.208866   \n",
       "27  6.803424  3.761746  4.115502  6.899499  ...  3.907119  8.554381  6.212660   \n",
       "\n",
       "       VPS28     GSTZ1     GDPD5     WDTC1    HMGCS1      PIN1       IDE  \n",
       "0   8.363889  6.544324  3.830996  3.461435  7.187368  5.498214  7.723952  \n",
       "9   9.776040  6.275633  3.354604  3.366880  5.926742  5.984129  6.754155  \n",
       "27  9.897498  4.892096  3.784822  3.413021  7.650277  5.590448  6.349301  \n",
       "\n",
       "[3 rows x 871 columns]"
      ]
     },
     "execution_count": 9,
     "metadata": {},
     "output_type": "execute_result"
    }
   ],
   "source": [
    "# Only select the gene columns which are in all dataframes. \n",
    "keep = ['CELL_LINE_NAME']\n",
    "gene_expr_v2 = gene_expr[keep + list(in_all)]\n",
    "cnv_gistic_v2 = final_cnv_gistic[keep + list(in_all)]\n",
    "cnv_picnic_v2 = final_cnv_picnic[keep + list(in_all)]\n",
    "\n",
    "print(f\"\"\"After selecting only the genes which are existent in all dataset the shapes are:\n",
    "    gene expr  : {gene_expr_v2.shape}\n",
    "    cnv gistic : {cnv_gistic_v2.shape}\n",
    "    cnv picnic : {cnv_picnic_v2.shape}\n",
    "\"\"\")\n",
    "gene_expr_v2.head(3)"
   ]
  },
  {
   "cell_type": "code",
   "execution_count": 10,
   "metadata": {},
   "outputs": [
    {
     "name": "stdout",
     "output_type": "stream",
     "text": [
      "Shapes after removing duplicate cell-lines:\n",
      "    gene expr  : (988, 871)\n",
      "    cnv gistic : (988, 871)\n",
      "    cnv picnic : (988, 871)\n",
      "\n"
     ]
    }
   ],
   "source": [
    "# Only select one row per unique cell-line, since the feature values are the same anyways.\n",
    "gene_expr_v3 = gene_expr_v2.drop_duplicates()  # same as .groupby('CELL_LINE_NAME').first()\n",
    "cnv_gistic_v3 = cnv_gistic_v2.drop_duplicates()  # same as .groupby('CELL_LINE_NAME').first()\n",
    "cnv_picnic_v3 = cnv_picnic_v2.drop_duplicates()  # same as .groupby('CELL_LINE_NAME').first()\n",
    "print(f\"\"\"Shapes after removing duplicate cell-lines:\n",
    "    gene expr  : {gene_expr_v3.shape}\n",
    "    cnv gistic : {cnv_gistic_v3.shape}\n",
    "    cnv picnic : {cnv_picnic_v3.shape}\n",
    "\"\"\")"
   ]
  },
  {
   "cell_type": "code",
   "execution_count": 11,
   "metadata": {},
   "outputs": [
    {
     "name": "stdout",
     "output_type": "stream",
     "text": [
      "Shapes after by the cell-line column:\n",
      "    gene expr  : (988, 871)\n",
      "    cnv gistic : (988, 871)\n",
      "    cnv picnic : (988, 871)\n",
      "\n"
     ]
    },
    {
     "data": {
      "text/html": [
       "<div>\n",
       "<style scoped>\n",
       "    .dataframe tbody tr th:only-of-type {\n",
       "        vertical-align: middle;\n",
       "    }\n",
       "\n",
       "    .dataframe tbody tr th {\n",
       "        vertical-align: top;\n",
       "    }\n",
       "\n",
       "    .dataframe thead th {\n",
       "        text-align: right;\n",
       "    }\n",
       "</style>\n",
       "<table border=\"1\" class=\"dataframe\">\n",
       "  <thead>\n",
       "    <tr style=\"text-align: right;\">\n",
       "      <th></th>\n",
       "      <th>CELL_LINE_NAME</th>\n",
       "      <th>DAG1</th>\n",
       "      <th>CREG1</th>\n",
       "      <th>DNAJB1</th>\n",
       "      <th>PIK3C3</th>\n",
       "      <th>DLD</th>\n",
       "      <th>FBXL12</th>\n",
       "      <th>PAK6</th>\n",
       "      <th>NR2F6</th>\n",
       "      <th>APPBP2</th>\n",
       "      <th>...</th>\n",
       "      <th>C5</th>\n",
       "      <th>MPC2</th>\n",
       "      <th>CDC45</th>\n",
       "      <th>VPS28</th>\n",
       "      <th>GSTZ1</th>\n",
       "      <th>GDPD5</th>\n",
       "      <th>WDTC1</th>\n",
       "      <th>HMGCS1</th>\n",
       "      <th>PIN1</th>\n",
       "      <th>IDE</th>\n",
       "    </tr>\n",
       "  </thead>\n",
       "  <tbody>\n",
       "    <tr>\n",
       "      <th>190089</th>\n",
       "      <td>201T</td>\n",
       "      <td>5.176508</td>\n",
       "      <td>10.016432</td>\n",
       "      <td>6.453210</td>\n",
       "      <td>6.949563</td>\n",
       "      <td>11.018893</td>\n",
       "      <td>6.608961</td>\n",
       "      <td>3.270474</td>\n",
       "      <td>4.646564</td>\n",
       "      <td>6.793711</td>\n",
       "      <td>...</td>\n",
       "      <td>8.544732</td>\n",
       "      <td>10.659183</td>\n",
       "      <td>3.837447</td>\n",
       "      <td>8.536009</td>\n",
       "      <td>4.919427</td>\n",
       "      <td>3.377033</td>\n",
       "      <td>3.310140</td>\n",
       "      <td>8.576079</td>\n",
       "      <td>4.915888</td>\n",
       "      <td>7.577092</td>\n",
       "    </tr>\n",
       "    <tr>\n",
       "      <th>188514</th>\n",
       "      <td>22RV1</td>\n",
       "      <td>4.531809</td>\n",
       "      <td>7.914579</td>\n",
       "      <td>6.339245</td>\n",
       "      <td>7.834045</td>\n",
       "      <td>9.595623</td>\n",
       "      <td>7.023759</td>\n",
       "      <td>4.668833</td>\n",
       "      <td>3.993249</td>\n",
       "      <td>6.527064</td>\n",
       "      <td>...</td>\n",
       "      <td>8.655075</td>\n",
       "      <td>11.065614</td>\n",
       "      <td>6.734605</td>\n",
       "      <td>8.691275</td>\n",
       "      <td>6.692639</td>\n",
       "      <td>3.462619</td>\n",
       "      <td>3.187604</td>\n",
       "      <td>8.353595</td>\n",
       "      <td>6.067534</td>\n",
       "      <td>6.678702</td>\n",
       "    </tr>\n",
       "    <tr>\n",
       "      <th>188316</th>\n",
       "      <td>23132-87</td>\n",
       "      <td>4.742977</td>\n",
       "      <td>9.960903</td>\n",
       "      <td>7.649852</td>\n",
       "      <td>8.561532</td>\n",
       "      <td>10.189863</td>\n",
       "      <td>6.714387</td>\n",
       "      <td>3.349600</td>\n",
       "      <td>5.553722</td>\n",
       "      <td>6.268291</td>\n",
       "      <td>...</td>\n",
       "      <td>5.834866</td>\n",
       "      <td>9.766390</td>\n",
       "      <td>4.359462</td>\n",
       "      <td>10.425257</td>\n",
       "      <td>6.662953</td>\n",
       "      <td>4.402000</td>\n",
       "      <td>3.390102</td>\n",
       "      <td>6.734930</td>\n",
       "      <td>5.695096</td>\n",
       "      <td>7.719844</td>\n",
       "    </tr>\n",
       "  </tbody>\n",
       "</table>\n",
       "<p>3 rows × 871 columns</p>\n",
       "</div>"
      ],
      "text/plain": [
       "       CELL_LINE_NAME      DAG1      CREG1    DNAJB1    PIK3C3        DLD  \\\n",
       "190089           201T  5.176508  10.016432  6.453210  6.949563  11.018893   \n",
       "188514          22RV1  4.531809   7.914579  6.339245  7.834045   9.595623   \n",
       "188316       23132-87  4.742977   9.960903  7.649852  8.561532  10.189863   \n",
       "\n",
       "          FBXL12      PAK6     NR2F6    APPBP2  ...        C5       MPC2  \\\n",
       "190089  6.608961  3.270474  4.646564  6.793711  ...  8.544732  10.659183   \n",
       "188514  7.023759  4.668833  3.993249  6.527064  ...  8.655075  11.065614   \n",
       "188316  6.714387  3.349600  5.553722  6.268291  ...  5.834866   9.766390   \n",
       "\n",
       "           CDC45      VPS28     GSTZ1     GDPD5     WDTC1    HMGCS1      PIN1  \\\n",
       "190089  3.837447   8.536009  4.919427  3.377033  3.310140  8.576079  4.915888   \n",
       "188514  6.734605   8.691275  6.692639  3.462619  3.187604  8.353595  6.067534   \n",
       "188316  4.359462  10.425257  6.662953  4.402000  3.390102  6.734930  5.695096   \n",
       "\n",
       "             IDE  \n",
       "190089  7.577092  \n",
       "188514  6.678702  \n",
       "188316  7.719844  \n",
       "\n",
       "[3 rows x 871 columns]"
      ]
     },
     "execution_count": 11,
     "metadata": {},
     "output_type": "execute_result"
    }
   ],
   "source": [
    "# Sort dataframes by cell-line column.\n",
    "gene_expr_v4 = gene_expr_v3.sort_values(['CELL_LINE_NAME'])\n",
    "cnv_gistic_v4 = cnv_gistic_v3.sort_values(['CELL_LINE_NAME'])\n",
    "cnv_picnic_v4 = cnv_picnic_v3.sort_values(['CELL_LINE_NAME'])\n",
    "\n",
    "# Check element-wise if the cell-line columns are exactly the same.\n",
    "assert (gene_expr_v4.CELL_LINE_NAME == cnv_gistic_v4.CELL_LINE_NAME).all()\n",
    "assert (cnv_gistic_v4.CELL_LINE_NAME == cnv_picnic_v4.CELL_LINE_NAME).all()\n",
    "\n",
    "print(f\"\"\"Shapes after by the cell-line column:\n",
    "    gene expr  : {gene_expr_v4.shape}\n",
    "    cnv gistic : {cnv_gistic_v4.shape}\n",
    "    cnv picnic : {cnv_picnic_v4.shape}\n",
    "\"\"\")\n",
    "gene_expr_v4.head(3)"
   ]
  },
  {
   "cell_type": "markdown",
   "metadata": {},
   "source": [
    "Now all datasets have a feature value for the specific gene (column) and cell-line (row).\n",
    "\n",
    "$$\n",
    "\\left [ \\begin{array}{ccccccc} \n",
    "           & g_1         & g_2         & \\cdots & g_i         & \\cdots & g_n \\\\\n",
    "    c_1    & \\begin{bmatrix} v_{ge}^{11} \\\\ v_{cg}^{11} \\\\ v_{cp}^{11} \\end{bmatrix} \n",
    "           & \\begin{bmatrix} v_{ge}^{12} \\\\ v_{cg}^{12} \\\\ v_{cp}^{12} \\end{bmatrix} \n",
    "           & \\cdots \n",
    "           & \\begin{bmatrix} v_{ge}^{1i} \\\\ v_{cg}^{1i} \\\\ v_{cp}^{1i} \\end{bmatrix}\n",
    "           & \\cdots \n",
    "           & \\begin{bmatrix} v_{ge}^{1n} \\\\ v_{cg}^{1n} \\\\ v_{cp}^{1n} \\end{bmatrix} \n",
    "           \\\\ \n",
    "    c_2    & \\begin{bmatrix} v_{ge}^{21} \\\\ v_{cg}^{21} \\\\ v_{cp}^{21} \\end{bmatrix} \n",
    "           & \\begin{bmatrix} v_{ge}^{22} \\\\ v_{cg}^{22} \\\\ v_{cp}^{22} \\end{bmatrix} \n",
    "           & \\cdots \n",
    "           & \\begin{bmatrix} v_{ge}^{2i} \\\\ v_{cg}^{2i} \\\\ v_{cp}^{2i} \\end{bmatrix}\n",
    "           & \\cdots \n",
    "           & \\begin{bmatrix} v_{ge}^{2n} \\\\ v_{cg}^{2n} \\\\ v_{cp}^{2n} \\end{bmatrix} \n",
    "           \\\\ \n",
    "    \\vdots & \\vdots      & \\vdots      & \\ddots & \\vdots      & \\ddots & \\vdots \\\\\n",
    "    c_j    & \\begin{bmatrix} v_{ge}^{j1} \\\\ v_{cg}^{j1} \\\\ v_{cp}^{j1} \\end{bmatrix} \n",
    "           & \\begin{bmatrix} v_{ge}^{j2} \\\\ v_{cg}^{j2} \\\\ v_{cp}^{j2} \\end{bmatrix} \n",
    "           & \\cdots \n",
    "           & \\begin{bmatrix} v_{ge}^{ji} \\\\ v_{cg}^{ji} \\\\ v_{cp}^{ji} \\end{bmatrix}\n",
    "           & \\cdots \n",
    "           & \\begin{bmatrix} v_{ge}^{jn} \\\\ v_{cg}^{jn} \\\\ v_{cp}^{jn} \\end{bmatrix} \n",
    "           \\\\   \n",
    "    \\vdots & \\vdots      & \\vdots      & \\ddots & \\vdots      & \\ddots & \\vdots \\\\\n",
    "    c_m    & \\begin{bmatrix} v_{ge}^{m1} \\\\ v_{cg}^{m1} \\\\ v_{cp}^{m1} \\end{bmatrix} \n",
    "           & \\begin{bmatrix} v_{ge}^{m2} \\\\ v_{cg}^{m2} \\\\ v_{cp}^{m2} \\end{bmatrix} \n",
    "           & \\cdots \n",
    "           & \\begin{bmatrix} v_{ge}^{mi} \\\\ v_{cg}^{mi} \\\\ v_{cp}^{mi} \\end{bmatrix}\n",
    "           & \\cdots \n",
    "           & \\begin{bmatrix} v_{ge}^{mn} \\\\ v_{cg}^{mn} \\\\ v_{cp}^{mn} \\end{bmatrix} \n",
    "           \\\\            \n",
    "\\end{array} \\right ]\n",
    "$$\n",
    "where \n",
    "$$\n",
    "       c_j := \\text{cell line} \\; j \\\\\n",
    "       g_i := \\text{gene} \\; i \\\\\n",
    "       v_{ge}^{ji} := \\text{Gene Expression value of gene} \\; i \\; \\text{ in cell line} \\; j \\\\\n",
    "       v_{cg}^{ji} := \\text{Gistic Copy Number value of gene} \\; i \\; \\text{ in cell line} \\; j \\\\\n",
    "       v_{cp}^{ji} := \\text{Picnic Copy Number value of gene} \\; i \\; \\text{ in cell line} \\; j \\\\\n",
    "       \n",
    "$$\n",
    "\n",
    "- One example is for one cell-line.\n",
    "- we have the same number of features and genes per cell-line.\n",
    "- in total we have 446,521 examples we can use to train the model\n",
    "- out of which 988 are unique cell-lines."
   ]
  },
  {
   "cell_type": "code",
   "execution_count": 12,
   "metadata": {},
   "outputs": [
    {
     "name": "stdout",
     "output_type": "stream",
     "text": [
      "Gene tensor shape: torch.Size([3, 988, 870])\n"
     ]
    },
    {
     "name": "stderr",
     "output_type": "stream",
     "text": [
      "/var/folders/kv/l0jzxgbj1kggff_kd35bfzkw0000gn/T/ipykernel_38101/4172850249.py:6: UserWarning: Creating a tensor from a list of numpy.ndarrays is extremely slow. Please consider converting the list to a single numpy.ndarray with numpy.array() before converting to a tensor. (Triggered internally at  /Users/distiller/project/conda/conda-bld/pytorch_1646756028548/work/torch/csrc/utils/tensor_new.cpp:210.)\n",
      "  gene_tensor = torch.tensor([\n"
     ]
    },
    {
     "data": {
      "text/plain": [
       "tensor([[[ 5.1765, 10.0164,  6.4532,  ...,  8.5761,  4.9159,  7.5771],\n",
       "         [ 4.5318,  7.9146,  6.3392,  ...,  8.3536,  6.0675,  6.6787],\n",
       "         [ 4.7430,  9.9609,  7.6499,  ...,  6.7349,  5.6951,  7.7198],\n",
       "         ...,\n",
       "         [ 4.3330, 10.4536,  6.2461,  ...,  9.2214,  4.8239,  8.1262],\n",
       "         [ 5.1371,  7.5222,  6.8732,  ...,  8.7492,  6.0484,  7.3900],\n",
       "         [ 4.8598,  7.7326,  6.5240,  ...,  6.5641,  5.1952,  6.8858]],\n",
       "\n",
       "        [[ 1.0000,  1.0000, -1.0000,  ...,  1.0000, -1.0000,  0.0000],\n",
       "         [ 0.0000,  1.0000,  0.0000,  ...,  0.0000,  0.0000,  0.0000],\n",
       "         [ 0.0000,  1.0000, -1.0000,  ...,  0.0000, -1.0000,  0.0000],\n",
       "         ...,\n",
       "         [ 0.0000,  1.0000, -1.0000,  ...,  0.0000, -1.0000,  1.0000],\n",
       "         [ 1.0000,  1.0000,  1.0000,  ...,  1.0000,  1.0000, -1.0000],\n",
       "         [ 1.0000,  0.0000, -1.0000,  ...,  2.0000, -1.0000,  0.0000]],\n",
       "\n",
       "        [[ 3.0000,  5.0000,  3.0000,  ...,  5.0000,  3.0000,  3.0000],\n",
       "         [ 2.0000,  3.0000,  2.0000,  ...,  2.0000,  2.0000,  2.0000],\n",
       "         [ 2.0000,  3.0000,  2.0000,  ...,  2.0000,  2.0000,  2.0000],\n",
       "         ...,\n",
       "         [ 3.0000,  4.0000,  2.0000,  ...,  3.0000,  2.0000,  4.0000],\n",
       "         [ 3.0000,  3.0000,  3.0000,  ...,  3.0000,  3.0000,  2.0000],\n",
       "         [ 4.0000,  3.0000,  3.0000,  ...,  5.0000,  3.0000,  3.0000]]],\n",
       "       dtype=torch.float64)"
      ]
     },
     "execution_count": 12,
     "metadata": {},
     "output_type": "execute_result"
    }
   ],
   "source": [
    "\"\"\"\n",
    "1st dim = features\n",
    "2nd dim = cell-lines\n",
    "3rd dim = genes\n",
    "\"\"\"\n",
    "gene_tensor = torch.tensor([\n",
    "    gene_expr_v4.loc[:, gene_expr_v4.columns != 'CELL_LINE_NAME'].to_numpy(dtype=np.float64), \n",
    "    cnv_gistic_v4.loc[:, cnv_gistic_v4.columns != 'CELL_LINE_NAME'].to_numpy(dtype=np.float64), \n",
    "    cnv_picnic_v4.loc[:, cnv_picnic_v4.columns != 'CELL_LINE_NAME'].to_numpy(dtype=np.float64)\n",
    "])\n",
    "print(f\"Gene tensor shape: {gene_tensor.shape}\")\n",
    "gene_tensor"
   ]
  },
  {
   "cell_type": "markdown",
   "metadata": {},
   "source": [
    "__Note__:\n",
    "- 1st Dimension: (the Features)\n",
    "  - `gene_tensor[0]`: all cell-line genes values for the Gene Expression feature.\n",
    "  - `gene_tensor[1]`: all cell-line genes values for the CNV Gistic feature.\n",
    "  - `gene_tensor[2]`: all cell-line genes values for the CNV Picnic feature. \n",
    "- 2nd Dimension: (the cell-lines)\n",
    "  - `gene_tensor[0][0]`: all Gene Expresion values for all genes for the first cell-line _201T_.\n",
    "  - `gene_tensor[1][0]`: all CNV Gistic values for all genes for the first cell-line _201T_.\n",
    "  - `gene_tensor[2][0]`: all CNV Picnic values for all genes for the first cell-line _201T_.\n",
    "- 3rd Dimension: (the genes)\n",
    "  - `gene_tensor[0][0][0]`: the Gene Expression value for the first cell-line _201T_ and the first gene _RRP1B_.\n",
    "  - `gene_tensor[1][0][0]`: the CNV Gistic value for the first cell-line _201T_ and the first gene _RRP1B_.\n",
    "  - `gene_tensor[2][0][0]`: the CNV Picnic value for the first cell-line _201T_ and the first gene _RRP1B_.\n",
    "\n",
    "Each 2nd dimension sample (cell-line) is a training/testing example for the model."
   ]
  },
  {
   "cell_type": "code",
   "execution_count": 112,
   "metadata": {},
   "outputs": [
    {
     "name": "stdout",
     "output_type": "stream",
     "text": [
      "\n",
      "Before flattening : torch.Size([3, 870])\n",
      "After  flattening : torch.Size([2610])\n",
      "\n"
     ]
    }
   ],
   "source": [
    "# An example cell-line\n",
    "CELL_LINE_INDEX = 5\n",
    "ex1 = gene_tensor[:, CELL_LINE_INDEX, :]\n",
    "ex1_flattened = ex1.flatten()\n",
    "print(f\"\"\"\n",
    "Before flattening : {ex1.shape}\n",
    "After  flattening : {ex1_flattened.shape}\n",
    "\"\"\")"
   ]
  },
  {
   "cell_type": "markdown",
   "metadata": {},
   "source": [
    "The flattened vector for the specific `CELL_LINE_NAME` will be the input of the NN."
   ]
  },
  {
   "cell_type": "code",
   "execution_count": 124,
   "metadata": {},
   "outputs": [
    {
     "name": "stdout",
     "output_type": "stream",
     "text": [
      "\n",
      "Before flattening : torch.Size([3, 2, 870])\n",
      "After  flattening : torch.Size([6, 870])\n",
      "\n"
     ]
    }
   ],
   "source": [
    "# An example cell-line\n",
    "ex1 = gene_tensor[:, 5:7, :]\n",
    "ex1_flattened = torch.flatten(ex1, start_dim=0, end_dim=1)\n",
    "print(f\"\"\"\n",
    "Before flattening : {ex1.shape}\n",
    "After  flattening : {ex1_flattened.shape}\n",
    "\"\"\")"
   ]
  },
  {
   "cell_type": "code",
   "execution_count": 162,
   "metadata": {},
   "outputs": [
    {
     "name": "stdout",
     "output_type": "stream",
     "text": [
      "\n",
      "Initial  : torch.Size([3, 2, 870])\n",
      "Raveled  : (5220,)\n",
      "Reshaped : (2, 2610)\n",
      "\n"
     ]
    }
   ],
   "source": [
    "# An example cell-line\n",
    "ex2 = gene_tensor[:, 5:7, :]\n",
    "\n",
    "num_features   = ex2.shape[0]\n",
    "num_cell_lines = ex2.shape[1]\n",
    "num_genes      = ex2.shape[2]\n",
    "\n",
    "ex2_ravel = np.ravel(ex2, order='F')\n",
    "ex2_flattened = np.reshape(ex2_ravel, (num_cell_lines, num_features * num_genes))\n",
    "print(f\"\"\"\n",
    "Initial  : {ex2.shape}\n",
    "Raveled  : {ex2_ravel.shape}\n",
    "Reshaped : {ex2_flattened.shape}\n",
    "\"\"\")"
   ]
  },
  {
   "cell_type": "markdown",
   "metadata": {},
   "source": [
    "Now for the input we have/want\n",
    "$$\n",
    "\\begin{array}{ccccccc} \n",
    "           & g_1         & g_2         & \\cdots & g_i         & \\cdots & g_n \\\\\n",
    "    c_1    & \\begin{bmatrix} v_{ge}^{11} & v_{cg}^{11} & v_{cp}^{11} \\end{bmatrix} \n",
    "           & \\begin{bmatrix} v_{ge}^{12} & v_{cg}^{12} & v_{cp}^{12} \\end{bmatrix} \n",
    "           & \\cdots \n",
    "           & \\begin{bmatrix} v_{ge}^{1i} & v_{cg}^{1i} & v_{cp}^{1i} \\end{bmatrix}\n",
    "           & \\cdots \n",
    "           & \\begin{bmatrix} v_{ge}^{1n} & v_{cg}^{1n} & v_{cp}^{1n} \\end{bmatrix} \n",
    "           \\\\ \n",
    "    c_2    & \\begin{bmatrix} v_{ge}^{21} & v_{cg}^{21} & v_{cp}^{21} \\end{bmatrix} \n",
    "           & \\begin{bmatrix} v_{ge}^{22} & v_{cg}^{22} & v_{cp}^{22} \\end{bmatrix} \n",
    "           & \\cdots \n",
    "           & \\begin{bmatrix} v_{ge}^{2i} & v_{cg}^{2i} & v_{cp}^{2i} \\end{bmatrix}\n",
    "           & \\cdots \n",
    "           & \\begin{bmatrix} v_{ge}^{2n} & v_{cg}^{2n} & v_{cp}^{2n} \\end{bmatrix} \n",
    "           \\\\ \n",
    "    \\vdots & \\vdots      & \\vdots      & \\ddots & \\vdots      & \\ddots & \\vdots \\\\\n",
    "    c_j    & \\begin{bmatrix} v_{ge}^{j1} & v_{cg}^{j1} & v_{cp}^{j1} \\end{bmatrix} \n",
    "           & \\begin{bmatrix} v_{ge}^{j2} & v_{cg}^{j2} & v_{cp}^{j2} \\end{bmatrix} \n",
    "           & \\cdots \n",
    "           & \\begin{bmatrix} v_{ge}^{ji} & v_{cg}^{ji} & v_{cp}^{ji} \\end{bmatrix}\n",
    "           & \\cdots \n",
    "           & \\begin{bmatrix} v_{ge}^{jn} & v_{cg}^{jn} & v_{cp}^{jn} \\end{bmatrix} \n",
    "           \\\\   \n",
    "    \\vdots & \\vdots      & \\vdots      & \\ddots & \\vdots      & \\ddots & \\vdots \\\\\n",
    "    c_m    & \\begin{bmatrix} v_{ge}^{m1} & v_{cg}^{m1} & v_{cp}^{m1} \\end{bmatrix} \n",
    "           & \\begin{bmatrix} v_{ge}^{m2} & v_{cg}^{m2} & v_{cp}^{m2} \\end{bmatrix} \n",
    "           & \\cdots \n",
    "           & \\begin{bmatrix} v_{ge}^{mi} & v_{cg}^{mi} & v_{cp}^{mi} \\end{bmatrix}\n",
    "           & \\cdots \n",
    "           & \\begin{bmatrix} v_{ge}^{mn} & v_{cg}^{mn} & v_{cp}^{mn} \\end{bmatrix} \n",
    "           \\\\            \n",
    "\\end{array}\n",
    "$$\n",
    "\n",
    "Each cell-line row example has the dimension $(1, \\text{numFeatures} * \\text{numGenes})$ which is $(1, 3*870)=(1, 2610)$."
   ]
  },
  {
   "cell_type": "code",
   "execution_count": 13,
   "metadata": {},
   "outputs": [
    {
     "name": "stdout",
     "output_type": "stream",
     "text": [
      "\"\n",
      "    Number of features   : 3\n",
      "    Number of cell-lines : 988\n",
      "    Number of genes      : 870\n",
      "\n"
     ]
    }
   ],
   "source": [
    "NUM_FEATURES   = gene_tensor.shape[0] \n",
    "NUM_CELL_LINES = gene_tensor.shape[1]\n",
    "NUM_GENES      = gene_tensor.shape[2]\n",
    "print(f\"\"\"\"\n",
    "    Number of features   : {NUM_FEATURES}\n",
    "    Number of cell-lines : {NUM_CELL_LINES}\n",
    "    Number of genes      : {NUM_GENES}\n",
    "\"\"\")\n",
    "\n",
    "# TODO: Now we have only the unique cell-lines. Do the same for all cell-lines to make it able to concat back to the drugs later on."
   ]
  },
  {
   "cell_type": "code",
   "execution_count": 176,
   "metadata": {},
   "outputs": [
    {
     "name": "stdout",
     "output_type": "stream",
     "text": [
      "Shape of the whole dataset: torch.Size([988, 2610])\n"
     ]
    }
   ],
   "source": [
    "# ----------------- #\n",
    "# CREATE THE INPUTS #\n",
    "# ----------------- #\n",
    "WHOLE_DATASET_INPUT = torch.from_numpy(np.reshape(a=np.ravel(gene_tensor, order='F'),\n",
    "                                                  newshape=(NUM_CELL_LINES, NUM_FEATURES * NUM_GENES)))\n",
    "print(f\"Shape of the whole dataset: {WHOLE_DATASET_INPUT.shape}\")"
   ]
  },
  {
   "cell_type": "code",
   "execution_count": 20,
   "metadata": {},
   "outputs": [
    {
     "name": "stdout",
     "output_type": "stream",
     "text": [
      "Gene layer shape : torch.Size([870])\n",
      "tensor([0, 1, 2, 3, 4])\n"
     ]
    },
    {
     "data": {
      "text/html": [
       "<div>\n",
       "<style scoped>\n",
       "    .dataframe tbody tr th:only-of-type {\n",
       "        vertical-align: middle;\n",
       "    }\n",
       "\n",
       "    .dataframe tbody tr th {\n",
       "        vertical-align: top;\n",
       "    }\n",
       "\n",
       "    .dataframe thead th {\n",
       "        text-align: right;\n",
       "    }\n",
       "</style>\n",
       "<table border=\"1\" class=\"dataframe\">\n",
       "  <thead>\n",
       "    <tr style=\"text-align: right;\">\n",
       "      <th></th>\n",
       "      <th>index</th>\n",
       "      <th>genes</th>\n",
       "    </tr>\n",
       "  </thead>\n",
       "  <tbody>\n",
       "    <tr>\n",
       "      <th>0</th>\n",
       "      <td>0</td>\n",
       "      <td>DAG1</td>\n",
       "    </tr>\n",
       "    <tr>\n",
       "      <th>1</th>\n",
       "      <td>1</td>\n",
       "      <td>CREG1</td>\n",
       "    </tr>\n",
       "    <tr>\n",
       "      <th>2</th>\n",
       "      <td>2</td>\n",
       "      <td>DNAJB1</td>\n",
       "    </tr>\n",
       "    <tr>\n",
       "      <th>3</th>\n",
       "      <td>3</td>\n",
       "      <td>PIK3C3</td>\n",
       "    </tr>\n",
       "    <tr>\n",
       "      <th>4</th>\n",
       "      <td>4</td>\n",
       "      <td>DLD</td>\n",
       "    </tr>\n",
       "  </tbody>\n",
       "</table>\n",
       "</div>"
      ],
      "text/plain": [
       "   index   genes\n",
       "0      0    DAG1\n",
       "1      1   CREG1\n",
       "2      2  DNAJB1\n",
       "3      3  PIK3C3\n",
       "4      4     DLD"
      ]
     },
     "execution_count": 20,
     "metadata": {},
     "output_type": "execute_result"
    }
   ],
   "source": [
    "# --------------------- #\n",
    "# CREATE THE GENE LAYER #\n",
    "# --------------------- #\n",
    "used_genes = list(gene_expr_v4.loc[:, gene_expr_v4.columns != 'CELL_LINE_NAME'].columns)\n",
    "MAPPING_FROM_GENES_TO_INDICES = pd.DataFrame(used_genes, columns=['genes']).reset_index(level=0)\n",
    "\n",
    "GENE_LAYER_VALUES = torch.tensor(MAPPING_FROM_GENES_TO_INDICES.index.values)\n",
    "print(f\"Gene layer shape : {GENE_LAYER_VALUES.shape}\")\n",
    "print(GENE_LAYER_VALUES[:5])\n",
    "MAPPING_FROM_GENES_TO_INDICES.head(5)"
   ]
  },
  {
   "cell_type": "code",
   "execution_count": 4,
   "metadata": {},
   "outputs": [
    {
     "name": "stdout",
     "output_type": "stream",
     "text": [
      "Gene layer shape : torch.Size([908])\n",
      "tensor([0, 1, 2, 3, 4])\n"
     ]
    },
    {
     "data": {
      "text/html": [
       "<div>\n",
       "<style scoped>\n",
       "    .dataframe tbody tr th:only-of-type {\n",
       "        vertical-align: middle;\n",
       "    }\n",
       "\n",
       "    .dataframe tbody tr th {\n",
       "        vertical-align: top;\n",
       "    }\n",
       "\n",
       "    .dataframe thead th {\n",
       "        text-align: right;\n",
       "    }\n",
       "</style>\n",
       "<table border=\"1\" class=\"dataframe\">\n",
       "  <thead>\n",
       "    <tr style=\"text-align: right;\">\n",
       "      <th></th>\n",
       "      <th>index</th>\n",
       "      <th>genes</th>\n",
       "    </tr>\n",
       "  </thead>\n",
       "  <tbody>\n",
       "    <tr>\n",
       "      <th>0</th>\n",
       "      <td>0</td>\n",
       "      <td>TSPAN6</td>\n",
       "    </tr>\n",
       "    <tr>\n",
       "      <th>1</th>\n",
       "      <td>1</td>\n",
       "      <td>SCYL3</td>\n",
       "    </tr>\n",
       "    <tr>\n",
       "      <th>2</th>\n",
       "      <td>2</td>\n",
       "      <td>BAD</td>\n",
       "    </tr>\n",
       "    <tr>\n",
       "      <th>3</th>\n",
       "      <td>3</td>\n",
       "      <td>LAP3</td>\n",
       "    </tr>\n",
       "    <tr>\n",
       "      <th>4</th>\n",
       "      <td>4</td>\n",
       "      <td>SNX11</td>\n",
       "    </tr>\n",
       "  </tbody>\n",
       "</table>\n",
       "</div>"
      ],
      "text/plain": [
       "   index   genes\n",
       "0      0  TSPAN6\n",
       "1      1   SCYL3\n",
       "2      2     BAD\n",
       "3      3    LAP3\n",
       "4      4   SNX11"
      ]
     },
     "execution_count": 4,
     "metadata": {},
     "output_type": "execute_result"
    }
   ],
   "source": [
    "# ---------------------------------------------- #\n",
    "# CREATE THE GENE LAYER only for gene expression #\n",
    "# ---------------------------------------------- #\n",
    "non_gene_cols = [\n",
    "    'DRUG_ID', 'CELL_LINE_NAME', 'AUC', 'CELL_ID', 'LN_IC50', 'CONC',\n",
    "    'MASTER_CELL_ID', 'INTENSITY', 'DATASET', 'Z_SCORE', 'DRUG_NAME',\n",
    "    'RMSE', 'COSMIC_ID', 'POSITION'\n",
    "]\n",
    "\n",
    "gene_cols__geneexpr = gene_expr.loc[:, ~gene_expr.columns.isin(non_gene_cols)]\n",
    "gene_expr_v2 = gene_expr[['CELL_LINE_NAME'] + list(gene_cols__geneexpr.columns)].drop_duplicates()\n",
    "\n",
    "used_genes = list(gene_expr_v2.loc[:, gene_expr_v2.columns != 'CELL_LINE_NAME'].columns)\n",
    "MAPPING_FROM_GENES_TO_INDICES = pd.DataFrame(used_genes, columns=['genes']).reset_index(level=0)\n",
    "\n",
    "GENE_LAYER_VALUES = torch.tensor(MAPPING_FROM_GENES_TO_INDICES.index.values)\n",
    "print(f\"Gene layer shape : {GENE_LAYER_VALUES.shape}\")\n",
    "print(GENE_LAYER_VALUES[:5])\n",
    "MAPPING_FROM_GENES_TO_INDICES.head(5)"
   ]
  },
  {
   "cell_type": "code",
   "execution_count": null,
   "metadata": {},
   "outputs": [
    {
     "name": "stdout",
     "output_type": "stream",
     "text": [
      "Drug Shape: (428, 258)\n"
     ]
    },
    {
     "data": {
      "text/html": [
       "<div>\n",
       "<style scoped>\n",
       "    .dataframe tbody tr th:only-of-type {\n",
       "        vertical-align: middle;\n",
       "    }\n",
       "\n",
       "    .dataframe tbody tr th {\n",
       "        vertical-align: top;\n",
       "    }\n",
       "\n",
       "    .dataframe thead th {\n",
       "        text-align: right;\n",
       "    }\n",
       "</style>\n",
       "<table border=\"1\" class=\"dataframe\">\n",
       "  <thead>\n",
       "    <tr style=\"text-align: right;\">\n",
       "      <th></th>\n",
       "      <th>drug_name</th>\n",
       "      <th>0</th>\n",
       "      <th>1</th>\n",
       "      <th>2</th>\n",
       "      <th>3</th>\n",
       "      <th>4</th>\n",
       "      <th>5</th>\n",
       "      <th>6</th>\n",
       "      <th>7</th>\n",
       "      <th>8</th>\n",
       "      <th>...</th>\n",
       "      <th>247</th>\n",
       "      <th>248</th>\n",
       "      <th>249</th>\n",
       "      <th>250</th>\n",
       "      <th>251</th>\n",
       "      <th>252</th>\n",
       "      <th>253</th>\n",
       "      <th>254</th>\n",
       "      <th>255</th>\n",
       "      <th>DRUG_ID</th>\n",
       "    </tr>\n",
       "  </thead>\n",
       "  <tbody>\n",
       "    <tr>\n",
       "      <th>0</th>\n",
       "      <td>(5Z)-7-Oxozeaenol</td>\n",
       "      <td>1</td>\n",
       "      <td>0</td>\n",
       "      <td>0</td>\n",
       "      <td>1</td>\n",
       "      <td>1</td>\n",
       "      <td>0</td>\n",
       "      <td>0</td>\n",
       "      <td>0</td>\n",
       "      <td>0</td>\n",
       "      <td>...</td>\n",
       "      <td>0</td>\n",
       "      <td>0</td>\n",
       "      <td>0</td>\n",
       "      <td>0</td>\n",
       "      <td>1</td>\n",
       "      <td>1</td>\n",
       "      <td>0</td>\n",
       "      <td>1</td>\n",
       "      <td>0</td>\n",
       "      <td>1242</td>\n",
       "    </tr>\n",
       "    <tr>\n",
       "      <th>912</th>\n",
       "      <td>5-Fluorouracil</td>\n",
       "      <td>0</td>\n",
       "      <td>0</td>\n",
       "      <td>0</td>\n",
       "      <td>0</td>\n",
       "      <td>0</td>\n",
       "      <td>0</td>\n",
       "      <td>0</td>\n",
       "      <td>0</td>\n",
       "      <td>0</td>\n",
       "      <td>...</td>\n",
       "      <td>0</td>\n",
       "      <td>0</td>\n",
       "      <td>0</td>\n",
       "      <td>0</td>\n",
       "      <td>0</td>\n",
       "      <td>0</td>\n",
       "      <td>0</td>\n",
       "      <td>0</td>\n",
       "      <td>1</td>\n",
       "      <td>179</td>\n",
       "    </tr>\n",
       "    <tr>\n",
       "      <th>1825</th>\n",
       "      <td>5-Fluorouracil</td>\n",
       "      <td>0</td>\n",
       "      <td>0</td>\n",
       "      <td>0</td>\n",
       "      <td>0</td>\n",
       "      <td>0</td>\n",
       "      <td>0</td>\n",
       "      <td>0</td>\n",
       "      <td>0</td>\n",
       "      <td>0</td>\n",
       "      <td>...</td>\n",
       "      <td>0</td>\n",
       "      <td>0</td>\n",
       "      <td>0</td>\n",
       "      <td>0</td>\n",
       "      <td>0</td>\n",
       "      <td>0</td>\n",
       "      <td>0</td>\n",
       "      <td>0</td>\n",
       "      <td>1</td>\n",
       "      <td>1073</td>\n",
       "    </tr>\n",
       "  </tbody>\n",
       "</table>\n",
       "<p>3 rows × 258 columns</p>\n",
       "</div>"
      ],
      "text/plain": [
       "              drug_name  0  1  2  3  4  5  6  7  8  ...  247  248  249  250  \\\n",
       "0     (5Z)-7-Oxozeaenol  1  0  0  1  1  0  0  0  0  ...    0    0    0    0   \n",
       "912      5-Fluorouracil  0  0  0  0  0  0  0  0  0  ...    0    0    0    0   \n",
       "1825     5-Fluorouracil  0  0  0  0  0  0  0  0  0  ...    0    0    0    0   \n",
       "\n",
       "      251  252  253  254  255  DRUG_ID  \n",
       "0       1    1    0    1    0     1242  \n",
       "912     0    0    0    0    1      179  \n",
       "1825    0    0    0    0    1     1073  \n",
       "\n",
       "[3 rows x 258 columns]"
      ]
     },
     "metadata": {},
     "output_type": "display_data"
    }
   ],
   "source": [
    "# ----------------------- # \n",
    "# DEFINE CELL & DRUG DATA #\n",
    "# ----------------------- #\n",
    "# gene_tensor = torch.tensor([\n",
    "#     gene_expr.loc[:, gene_expr.columns != 'CELL_LINE_NAME'].to_numpy(dtype=np.float64)\n",
    "# ])\n",
    "# print(f\"Gene tensor shape: {gene_tensor.shape}\")\n",
    "\n",
    "# # Cell data: For now only the gene expression information.\n",
    "# gene_expr_data = gene_tensor[0][:]\n",
    "\n",
    "# Drug data.\n",
    "with open(f'{PATH_TO_SAVED_DRUG_FEATURES}drug_name_fingerprints_dataframe.pkl', 'rb') as f:\n",
    "    drug_name_fps = pickle.load(f)\n",
    "drug_name_fps_v2 = pd.merge(left=drug_name_fps, \n",
    "                            right=gene_expr[['DRUG_ID', 'DRUG_NAME']], \n",
    "                            how='left', \n",
    "                            left_on=['drug_name'], \n",
    "                            right_on=['DRUG_NAME'])\n",
    "drug_name_fps_v2.drop_duplicates(inplace=True)\n",
    "drug_name_fps_v2.drop(['DRUG_NAME'], axis=1, inplace=True)                           \n",
    "print(f\"Drug Shape: {drug_name_fps_v2.shape}\")\n",
    "drug_name_fps_v2.head(3)"
   ]
  },
  {
   "cell_type": "markdown",
   "metadata": {},
   "source": [
    "- The `DRUG_ID`'s hold as the values of the nodes in the NN.\n",
    "- "
   ]
  },
  {
   "cell_type": "code",
   "execution_count": 72,
   "metadata": {},
   "outputs": [
    {
     "name": "stdout",
     "output_type": "stream",
     "text": [
      "Shape: (446521, 257)\n"
     ]
    },
    {
     "data": {
      "text/html": [
       "<div>\n",
       "<style scoped>\n",
       "    .dataframe tbody tr th:only-of-type {\n",
       "        vertical-align: middle;\n",
       "    }\n",
       "\n",
       "    .dataframe tbody tr th {\n",
       "        vertical-align: top;\n",
       "    }\n",
       "\n",
       "    .dataframe thead th {\n",
       "        text-align: right;\n",
       "    }\n",
       "</style>\n",
       "<table border=\"1\" class=\"dataframe\">\n",
       "  <thead>\n",
       "    <tr style=\"text-align: right;\">\n",
       "      <th></th>\n",
       "      <th>DRUG_ID</th>\n",
       "      <th>0</th>\n",
       "      <th>1</th>\n",
       "      <th>2</th>\n",
       "      <th>3</th>\n",
       "      <th>4</th>\n",
       "      <th>5</th>\n",
       "      <th>6</th>\n",
       "      <th>7</th>\n",
       "      <th>8</th>\n",
       "      <th>...</th>\n",
       "      <th>246</th>\n",
       "      <th>247</th>\n",
       "      <th>248</th>\n",
       "      <th>249</th>\n",
       "      <th>250</th>\n",
       "      <th>251</th>\n",
       "      <th>252</th>\n",
       "      <th>253</th>\n",
       "      <th>254</th>\n",
       "      <th>255</th>\n",
       "    </tr>\n",
       "  </thead>\n",
       "  <tbody>\n",
       "    <tr>\n",
       "      <th>0</th>\n",
       "      <td>1</td>\n",
       "      <td>0.0</td>\n",
       "      <td>0.0</td>\n",
       "      <td>0.0</td>\n",
       "      <td>0.0</td>\n",
       "      <td>0.0</td>\n",
       "      <td>0.0</td>\n",
       "      <td>0.0</td>\n",
       "      <td>0.0</td>\n",
       "      <td>0.0</td>\n",
       "      <td>...</td>\n",
       "      <td>0.0</td>\n",
       "      <td>0.0</td>\n",
       "      <td>0.0</td>\n",
       "      <td>0.0</td>\n",
       "      <td>0.0</td>\n",
       "      <td>0.0</td>\n",
       "      <td>0.0</td>\n",
       "      <td>0.0</td>\n",
       "      <td>0.0</td>\n",
       "      <td>0.0</td>\n",
       "    </tr>\n",
       "    <tr>\n",
       "      <th>1</th>\n",
       "      <td>1</td>\n",
       "      <td>0.0</td>\n",
       "      <td>0.0</td>\n",
       "      <td>0.0</td>\n",
       "      <td>0.0</td>\n",
       "      <td>0.0</td>\n",
       "      <td>0.0</td>\n",
       "      <td>0.0</td>\n",
       "      <td>0.0</td>\n",
       "      <td>0.0</td>\n",
       "      <td>...</td>\n",
       "      <td>0.0</td>\n",
       "      <td>0.0</td>\n",
       "      <td>0.0</td>\n",
       "      <td>0.0</td>\n",
       "      <td>0.0</td>\n",
       "      <td>0.0</td>\n",
       "      <td>0.0</td>\n",
       "      <td>0.0</td>\n",
       "      <td>0.0</td>\n",
       "      <td>0.0</td>\n",
       "    </tr>\n",
       "    <tr>\n",
       "      <th>2</th>\n",
       "      <td>1</td>\n",
       "      <td>0.0</td>\n",
       "      <td>0.0</td>\n",
       "      <td>0.0</td>\n",
       "      <td>0.0</td>\n",
       "      <td>0.0</td>\n",
       "      <td>0.0</td>\n",
       "      <td>0.0</td>\n",
       "      <td>0.0</td>\n",
       "      <td>0.0</td>\n",
       "      <td>...</td>\n",
       "      <td>0.0</td>\n",
       "      <td>0.0</td>\n",
       "      <td>0.0</td>\n",
       "      <td>0.0</td>\n",
       "      <td>0.0</td>\n",
       "      <td>0.0</td>\n",
       "      <td>0.0</td>\n",
       "      <td>0.0</td>\n",
       "      <td>0.0</td>\n",
       "      <td>0.0</td>\n",
       "    </tr>\n",
       "    <tr>\n",
       "      <th>3</th>\n",
       "      <td>1</td>\n",
       "      <td>0.0</td>\n",
       "      <td>0.0</td>\n",
       "      <td>0.0</td>\n",
       "      <td>0.0</td>\n",
       "      <td>0.0</td>\n",
       "      <td>0.0</td>\n",
       "      <td>0.0</td>\n",
       "      <td>0.0</td>\n",
       "      <td>0.0</td>\n",
       "      <td>...</td>\n",
       "      <td>0.0</td>\n",
       "      <td>0.0</td>\n",
       "      <td>0.0</td>\n",
       "      <td>0.0</td>\n",
       "      <td>0.0</td>\n",
       "      <td>0.0</td>\n",
       "      <td>0.0</td>\n",
       "      <td>0.0</td>\n",
       "      <td>0.0</td>\n",
       "      <td>0.0</td>\n",
       "    </tr>\n",
       "    <tr>\n",
       "      <th>4</th>\n",
       "      <td>1</td>\n",
       "      <td>0.0</td>\n",
       "      <td>0.0</td>\n",
       "      <td>0.0</td>\n",
       "      <td>0.0</td>\n",
       "      <td>0.0</td>\n",
       "      <td>0.0</td>\n",
       "      <td>0.0</td>\n",
       "      <td>0.0</td>\n",
       "      <td>0.0</td>\n",
       "      <td>...</td>\n",
       "      <td>0.0</td>\n",
       "      <td>0.0</td>\n",
       "      <td>0.0</td>\n",
       "      <td>0.0</td>\n",
       "      <td>0.0</td>\n",
       "      <td>0.0</td>\n",
       "      <td>0.0</td>\n",
       "      <td>0.0</td>\n",
       "      <td>0.0</td>\n",
       "      <td>0.0</td>\n",
       "    </tr>\n",
       "  </tbody>\n",
       "</table>\n",
       "<p>5 rows × 257 columns</p>\n",
       "</div>"
      ],
      "text/plain": [
       "   DRUG_ID    0    1    2    3    4    5    6    7    8  ...  246  247  248  \\\n",
       "0        1  0.0  0.0  0.0  0.0  0.0  0.0  0.0  0.0  0.0  ...  0.0  0.0  0.0   \n",
       "1        1  0.0  0.0  0.0  0.0  0.0  0.0  0.0  0.0  0.0  ...  0.0  0.0  0.0   \n",
       "2        1  0.0  0.0  0.0  0.0  0.0  0.0  0.0  0.0  0.0  ...  0.0  0.0  0.0   \n",
       "3        1  0.0  0.0  0.0  0.0  0.0  0.0  0.0  0.0  0.0  ...  0.0  0.0  0.0   \n",
       "4        1  0.0  0.0  0.0  0.0  0.0  0.0  0.0  0.0  0.0  ...  0.0  0.0  0.0   \n",
       "\n",
       "   249  250  251  252  253  254  255  \n",
       "0  0.0  0.0  0.0  0.0  0.0  0.0  0.0  \n",
       "1  0.0  0.0  0.0  0.0  0.0  0.0  0.0  \n",
       "2  0.0  0.0  0.0  0.0  0.0  0.0  0.0  \n",
       "3  0.0  0.0  0.0  0.0  0.0  0.0  0.0  \n",
       "4  0.0  0.0  0.0  0.0  0.0  0.0  0.0  \n",
       "\n",
       "[5 rows x 257 columns]"
      ]
     },
     "execution_count": 72,
     "metadata": {},
     "output_type": "execute_result"
    }
   ],
   "source": [
    "# For each row of the FULL_DATASET get the corresponding Morgan Fingerprint for the specific drug.\n",
    "# FULL_DATASET = gene_expr.\n",
    "FPS = pd.merge(left=gene_expr['DRUG_ID'], \n",
    "                right=drug_name_fps_v2.loc[:, ~drug_name_fps_v2.columns.isin(['drug_name'])], \n",
    "                how='left', \n",
    "                left_on=['DRUG_ID'], \n",
    "                right_on=['DRUG_ID'])\n",
    "print(f\"Shape: {FPS.shape}\")\n",
    "FPS.head(5)                "
   ]
  },
  {
   "cell_type": "code",
   "execution_count": 67,
   "metadata": {},
   "outputs": [
    {
     "name": "stdout",
     "output_type": "stream",
     "text": [
      "with NaN: (446521, 922)\n",
      "w/o  NaN: (424015, 922)\n"
     ]
    }
   ],
   "source": [
    "print(f\"with NaN: {gene_expr.shape}\")\n",
    "print(f\"w/o  NaN: {gene_expr.dropna().shape}\")"
   ]
  },
  {
   "cell_type": "code",
   "execution_count": 90,
   "metadata": {},
   "outputs": [],
   "source": [
    "from typing import List\n",
    "\n",
    "class ModelDataset(Dataset): \n",
    "    def __init__(self, \n",
    "                 full_data: pd.DataFrame,\n",
    "                 cell_cols: List[str],\n",
    "                 drug_cols: List[str],\n",
    "                 cell_identifier: str,\n",
    "                 drug_identifier: str,\n",
    "                 corresponding_fps: pd.DataFrame = FPS,\n",
    "                 target_col: str='LN_IC50'): \n",
    "        # Drop all nans. \n",
    "        print(full_data.shape)\n",
    "        full_data = full_data.dropna()\n",
    "        print(full_data.shape)\n",
    "\n",
    "        X = full_data[cell_cols + drug_cols]\n",
    "        y = full_data[target_col]\n",
    "\n",
    "        fps = pd.merge(left=full_data['DRUG_ID'], \n",
    "                right=drug_name_fps_v2.loc[:, ~drug_name_fps_v2.columns.isin(['drug_name'])], \n",
    "                how='left', \n",
    "                left_on=['DRUG_ID'], \n",
    "                right_on=['DRUG_ID'])\n",
    "\n",
    "        X_cell = X[cell_cols]\n",
    "        X_drug = copy.deepcopy(fps)\n",
    "\n",
    "        print(f\"X_cell.shape: {X_cell.shape}\")\n",
    "        print(f\"X_drug.shape: {X_drug.shape}\")\n",
    "\n",
    "        # Contains only the gene columns and the respective feature value. Here GeneExpression.\n",
    "        self.X = torch.tensor(X.loc[:, ~X.columns.isin([cell_identifier] + ['DRUG_NAME'])].values, dtype=torch.float32)\n",
    "        self.X_cell = torch.tensor(X_cell.loc[:, ~X_cell.columns.isin([cell_identifier])].values, dtype=torch.float32)\n",
    "        self.X_drug = torch.tensor(X_drug.loc[:, ~X_drug.columns.isin([drug_identifier])].values, dtype=torch.float32)\n",
    "        #self.X_cell = torch.tensor(X.loc[:, ~X_cell.columns.isin([cell_identifier])].values, dtype=torch.float32)\n",
    "        #self.X_drug = torch.tensor(X.loc[:, ~X_drug.columns.isin([drug_identifier])].values, dtype=torch.float32)\n",
    "        self.y = torch.tensor(y.values, dtype=torch.float32)\n",
    "\n",
    "    def __len__(self): \n",
    "        return len(self.y)\n",
    "\n",
    "    def __getitem__(self, idx):\n",
    "        return self.X[idx], self.X_cell[idx], self.X_drug[idx], self.y[idx]"
   ]
  },
  {
   "cell_type": "code",
   "execution_count": 6,
   "metadata": {},
   "outputs": [
    {
     "name": "stdout",
     "output_type": "stream",
     "text": [
      "(446521, 922)\n"
     ]
    },
    {
     "data": {
      "text/html": [
       "<div>\n",
       "<style scoped>\n",
       "    .dataframe tbody tr th:only-of-type {\n",
       "        vertical-align: middle;\n",
       "    }\n",
       "\n",
       "    .dataframe tbody tr th {\n",
       "        vertical-align: top;\n",
       "    }\n",
       "\n",
       "    .dataframe thead th {\n",
       "        text-align: right;\n",
       "    }\n",
       "</style>\n",
       "<table border=\"1\" class=\"dataframe\">\n",
       "  <thead>\n",
       "    <tr style=\"text-align: right;\">\n",
       "      <th></th>\n",
       "      <th>DRUG_ID</th>\n",
       "      <th>CELL_LINE_NAME</th>\n",
       "      <th>LN_IC50</th>\n",
       "      <th>DRUG_NAME</th>\n",
       "      <th>RMSE</th>\n",
       "      <th>TSPAN6</th>\n",
       "      <th>SCYL3</th>\n",
       "      <th>BAD</th>\n",
       "      <th>LAP3</th>\n",
       "      <th>SNX11</th>\n",
       "      <th>...</th>\n",
       "      <th>MYCBP</th>\n",
       "      <th>FIS1</th>\n",
       "      <th>IFRD2</th>\n",
       "      <th>NPEPL1</th>\n",
       "      <th>CEBPD</th>\n",
       "      <th>PLEKHM1</th>\n",
       "      <th>MIF</th>\n",
       "      <th>PRAF2</th>\n",
       "      <th>LYN</th>\n",
       "      <th>POLG2</th>\n",
       "    </tr>\n",
       "  </thead>\n",
       "  <tbody>\n",
       "    <tr>\n",
       "      <th>0</th>\n",
       "      <td>1</td>\n",
       "      <td>MC-CAR</td>\n",
       "      <td>2.395685</td>\n",
       "      <td>Erlotinib</td>\n",
       "      <td>0.022521</td>\n",
       "      <td>3.238273</td>\n",
       "      <td>4.856061</td>\n",
       "      <td>5.900525</td>\n",
       "      <td>8.120975</td>\n",
       "      <td>6.789716</td>\n",
       "      <td>...</td>\n",
       "      <td>8.355826</td>\n",
       "      <td>8.951680</td>\n",
       "      <td>7.205590</td>\n",
       "      <td>3.277948</td>\n",
       "      <td>3.465672</td>\n",
       "      <td>6.312806</td>\n",
       "      <td>12.112498</td>\n",
       "      <td>3.010237</td>\n",
       "      <td>8.750848</td>\n",
       "      <td>6.199366</td>\n",
       "    </tr>\n",
       "    <tr>\n",
       "      <th>9</th>\n",
       "      <td>1</td>\n",
       "      <td>ES3</td>\n",
       "      <td>3.140923</td>\n",
       "      <td>Erlotinib</td>\n",
       "      <td>0.031840</td>\n",
       "      <td>8.690198</td>\n",
       "      <td>4.572198</td>\n",
       "      <td>6.927127</td>\n",
       "      <td>5.595564</td>\n",
       "      <td>5.040800</td>\n",
       "      <td>...</td>\n",
       "      <td>5.995760</td>\n",
       "      <td>9.337588</td>\n",
       "      <td>7.468226</td>\n",
       "      <td>3.716270</td>\n",
       "      <td>5.363887</td>\n",
       "      <td>6.188079</td>\n",
       "      <td>12.281947</td>\n",
       "      <td>4.794624</td>\n",
       "      <td>3.588528</td>\n",
       "      <td>6.785201</td>\n",
       "    </tr>\n",
       "    <tr>\n",
       "      <th>27</th>\n",
       "      <td>1</td>\n",
       "      <td>ES5</td>\n",
       "      <td>3.968757</td>\n",
       "      <td>Erlotinib</td>\n",
       "      <td>0.026052</td>\n",
       "      <td>8.233101</td>\n",
       "      <td>4.749715</td>\n",
       "      <td>7.123143</td>\n",
       "      <td>5.458094</td>\n",
       "      <td>4.598347</td>\n",
       "      <td>...</td>\n",
       "      <td>6.939741</td>\n",
       "      <td>8.688176</td>\n",
       "      <td>7.085349</td>\n",
       "      <td>3.688222</td>\n",
       "      <td>4.572119</td>\n",
       "      <td>6.345090</td>\n",
       "      <td>12.276166</td>\n",
       "      <td>4.114092</td>\n",
       "      <td>5.768098</td>\n",
       "      <td>7.505155</td>\n",
       "    </tr>\n",
       "  </tbody>\n",
       "</table>\n",
       "<p>3 rows × 913 columns</p>\n",
       "</div>"
      ],
      "text/plain": [
       "    DRUG_ID CELL_LINE_NAME   LN_IC50  DRUG_NAME      RMSE    TSPAN6     SCYL3  \\\n",
       "0         1         MC-CAR  2.395685  Erlotinib  0.022521  3.238273  4.856061   \n",
       "9         1            ES3  3.140923  Erlotinib  0.031840  8.690198  4.572198   \n",
       "27        1            ES5  3.968757  Erlotinib  0.026052  8.233101  4.749715   \n",
       "\n",
       "         BAD      LAP3     SNX11  ...     MYCBP      FIS1     IFRD2    NPEPL1  \\\n",
       "0   5.900525  8.120975  6.789716  ...  8.355826  8.951680  7.205590  3.277948   \n",
       "9   6.927127  5.595564  5.040800  ...  5.995760  9.337588  7.468226  3.716270   \n",
       "27  7.123143  5.458094  4.598347  ...  6.939741  8.688176  7.085349  3.688222   \n",
       "\n",
       "       CEBPD   PLEKHM1        MIF     PRAF2       LYN     POLG2  \n",
       "0   3.465672  6.312806  12.112498  3.010237  8.750848  6.199366  \n",
       "9   5.363887  6.188079  12.281947  4.794624  3.588528  6.785201  \n",
       "27  4.572119  6.345090  12.276166  4.114092  5.768098  7.505155  \n",
       "\n",
       "[3 rows x 913 columns]"
      ]
     },
     "execution_count": 6,
     "metadata": {},
     "output_type": "execute_result"
    }
   ],
   "source": [
    "print(gene_expr.shape)\n",
    "gene_expr.loc[:, ~gene_expr.columns.isin(['AUC', 'CELL_ID', 'CONC', 'MASTER_CELL_ID', 'INTENSITY', 'DATASET', 'Z_SCORE', 'COSMIC_ID', 'POSITION'])].head(3)"
   ]
  },
  {
   "cell_type": "code",
   "execution_count": 297,
   "metadata": {},
   "outputs": [],
   "source": [
    "# --------------------------------------------------- #\n",
    "# Delete all rows from the dataset for which there is #\n",
    "# no fingerprint for the specific drug.               #\n",
    "# --------------------------------------------------- #\n",
    "# Dataset for modeling which has fingerprints for each DRUG_ID.\n",
    "all_drugs_with_fps = np.unique(drug_name_fps_v2.DRUG_ID).tolist()\n",
    "modeling_dataset = gene_expr[gene_expr.DRUG_ID.isin(all_drugs_with_fps)]\n",
    "\n",
    "uniq_drugs_in__modeling_dataset = len(np.unique(modeling_dataset.DRUG_ID.values))\n",
    "uniq_drugs_with__fingerprints = len(np.unique(drug_name_fps_v2.DRUG_ID).tolist())\n",
    "\n",
    "assert uniq_drugs_in__modeling_dataset == uniq_drugs_with__fingerprints,\\\n",
    "    f\"ERROR: Modeling dataset has {uniq_drugs_in__modeling_dataset} DRUG_ID's while there are only {uniq_drugs_with__fingerprints} DRUG_ID's with fingerprints.\""
   ]
  },
  {
   "cell_type": "code",
   "execution_count": 362,
   "metadata": {},
   "outputs": [
    {
     "name": "stdout",
     "output_type": "stream",
     "text": [
      "(370963, 922)\n",
      "(352042, 922)\n",
      "X_cell.shape: (352042, 909)\n",
      "X_drug.shape: (352042, 257)\n"
     ]
    },
    {
     "data": {
      "text/plain": [
       "'\\nTODO: Filter out NaNs\\nin a tensor do \\n    model_dataset.X[~torch.any(model_dataset.X.isnan(),dim=1)]\\n'"
      ]
     },
     "execution_count": 362,
     "metadata": {},
     "output_type": "execute_result"
    }
   ],
   "source": [
    "# ---------------------------- #\n",
    "# Create the modeling dataset. #\n",
    "# ---------------------------- #\n",
    "CELL_IDENTIFIER = 'CELL_LINE_NAME'\n",
    "DRUG_IDENTIFIER = 'DRUG_ID'\n",
    "TARGET_IDENTIFIER = 'LN_IC50'\n",
    "\n",
    "uniq_drug_ids = list(np.unique(modeling_dataset.DRUG_ID.values))\n",
    "\n",
    "model_dataset = ModelDataset(full_data       = modeling_dataset,\n",
    "                             cell_cols       = [CELL_IDENTIFIER] + list(MAPPING_FROM_GENES_TO_INDICES.genes.values),\n",
    "                             drug_cols       = [DRUG_IDENTIFIER, 'DRUG_NAME'],\n",
    "                             cell_identifier = CELL_IDENTIFIER,\n",
    "                             drug_identifier = DRUG_IDENTIFIER,\n",
    "                             target_col      = TARGET_IDENTIFIER)\n",
    "\n",
    "assert torch.isnan(model_dataset.X_drug).any() == False, \"ERROR: Some drugs in the dataset have no fingerprints.\"\n",
    "\n",
    "'''\n",
    "TODO: Filter out NaNs\n",
    "in a tensor do \n",
    "    model_dataset.X[~torch.any(model_dataset.X.isnan(),dim=1)]\n",
    "'''"
   ]
  },
  {
   "cell_type": "code",
   "execution_count": 363,
   "metadata": {},
   "outputs": [
    {
     "name": "stdout",
     "output_type": "stream",
     "text": [
      "\n",
      "    Shapes \n",
      "        Train : \n",
      "            X : torch.Size([352042, 909])\n",
      "                X_cell : torch.Size([352042, 908])\n",
      "                X_drug : torch.Size([352042, 256])\n",
      "            y : torch.Size([352042])\n",
      "        Test  :\n",
      "            X : torch.Size([352042, 909])\n",
      "                X_cell : torch.Size([352042, 908])\n",
      "                X_drug : torch.Size([352042, 256])            \n",
      "            y : torch.Size([352042])\n",
      "\n"
     ]
    }
   ],
   "source": [
    "train_set_split_ratio = 0.8\n",
    "\n",
    "train_size = int(train_set_split_ratio * len(model_dataset))\n",
    "test_size = len(model_dataset) - train_size\n",
    "train_set, test_set = torch.utils.data.random_split(model_dataset, \n",
    "                                                    [train_size, test_size],\n",
    "                                                    generator=torch.Generator().manual_seed(42))\n",
    "\n",
    "print(f\"\"\"\n",
    "    Shapes \n",
    "        Train : \n",
    "            X : {train_set.dataset.X.shape}\n",
    "                X_cell : {train_set.dataset.X_cell.shape}\n",
    "                X_drug : {train_set.dataset.X_drug.shape}\n",
    "            y : {train_set.dataset.y.shape}\n",
    "        Test  :\n",
    "            X : {test_set.dataset.X.shape}\n",
    "                X_cell : {test_set.dataset.X_cell.shape}\n",
    "                X_drug : {test_set.dataset.X_drug.shape}            \n",
    "            y : {test_set.dataset.y.shape}\n",
    "\"\"\")\n",
    "# TODO: why does the test set have the same shape?                                                  "
   ]
  },
  {
   "cell_type": "code",
   "execution_count": 364,
   "metadata": {},
   "outputs": [
    {
     "data": {
      "text/plain": [
       "tensor([[3.2383e+00, 4.8561e+00, 5.9005e+00,  ..., 8.7508e+00, 6.1994e+00,\n",
       "         1.0000e+00],\n",
       "        [8.6902e+00, 4.5722e+00, 6.9271e+00,  ..., 3.5885e+00, 6.7852e+00,\n",
       "         1.0000e+00],\n",
       "        [8.2331e+00, 4.7497e+00, 7.1231e+00,  ..., 5.7681e+00, 7.5052e+00,\n",
       "         1.0000e+00],\n",
       "        ...,\n",
       "        [8.5936e+00, 4.2324e+00, 6.2138e+00,  ..., 7.2147e+00, 6.5872e+00,\n",
       "         2.1720e+03],\n",
       "        [8.4416e+00, 4.4258e+00, 7.2345e+00,  ..., 8.3490e+00, 6.3364e+00,\n",
       "         2.1720e+03],\n",
       "        [6.9816e+00, 5.3229e+00, 6.7583e+00,  ..., 2.9192e+00, 6.4041e+00,\n",
       "         2.1720e+03]])"
      ]
     },
     "execution_count": 364,
     "metadata": {},
     "output_type": "execute_result"
    }
   ],
   "source": [
    "train_set.dataset.X"
   ]
  },
  {
   "cell_type": "code",
   "execution_count": 365,
   "metadata": {},
   "outputs": [
    {
     "data": {
      "text/plain": [
       "tensor([[3.2383, 4.8561, 5.9005,  ..., 3.0102, 8.7508, 6.1994],\n",
       "        [8.6902, 4.5722, 6.9271,  ..., 4.7946, 3.5885, 6.7852],\n",
       "        [8.2331, 4.7497, 7.1231,  ..., 4.1141, 5.7681, 7.5052],\n",
       "        ...,\n",
       "        [8.5936, 4.2324, 6.2138,  ..., 3.3473, 7.2147, 6.5872],\n",
       "        [8.4416, 4.4258, 7.2345,  ..., 3.4432, 8.3490, 6.3364],\n",
       "        [6.9816, 5.3229, 6.7583,  ..., 4.3082, 2.9192, 6.4041]])"
      ]
     },
     "execution_count": 365,
     "metadata": {},
     "output_type": "execute_result"
    }
   ],
   "source": [
    "train_set.dataset.X_cell"
   ]
  },
  {
   "cell_type": "code",
   "execution_count": 366,
   "metadata": {},
   "outputs": [
    {
     "data": {
      "text/plain": [
       "tensor([[0., 0., 0.,  ..., 0., 0., 0.],\n",
       "        [0., 0., 0.,  ..., 0., 0., 0.],\n",
       "        [0., 0., 0.,  ..., 0., 0., 0.],\n",
       "        ...,\n",
       "        [0., 0., 0.,  ..., 0., 0., 0.],\n",
       "        [0., 0., 0.,  ..., 0., 0., 0.],\n",
       "        [0., 0., 0.,  ..., 0., 0., 0.]])"
      ]
     },
     "execution_count": 366,
     "metadata": {},
     "output_type": "execute_result"
    }
   ],
   "source": [
    "train_set.dataset.X_drug"
   ]
  },
  {
   "cell_type": "markdown",
   "metadata": {},
   "source": [
    "__Note__: \n",
    "- The very last entry per row is the `DRUG_ID`\n",
    "- It can be accessed by `model_dataset[<cell-line-number>, -1]`"
   ]
  },
  {
   "cell_type": "code",
   "execution_count": 532,
   "metadata": {},
   "outputs": [],
   "source": [
    "# ---------------- # \n",
    "# Hyper-parameters #\n",
    "# ---------------- #\n",
    "input_size   = 910 # which is gene_expr_base.shape[0]-1 = 911 - 1\n",
    "                   # One value per feature\n",
    "hidden_size   = 100\n",
    "num_classes   = 1\n",
    "num_epochs    = 100\n",
    "batch_size    = 20_000\n",
    "learning_rate = 0.001   "
   ]
  },
  {
   "cell_type": "code",
   "execution_count": 368,
   "metadata": {},
   "outputs": [],
   "source": [
    "# Data loader\n",
    "train_loader = torch.utils.data.DataLoader(dataset     = train_set, \n",
    "                                           batch_size  = batch_size, \n",
    "                                           shuffle     = True,\n",
    "                                           num_workers = 0)\n",
    "\n",
    "test_loader = torch.utils.data.DataLoader(dataset     = test_set, \n",
    "                                          batch_size  = batch_size, \n",
    "                                          shuffle     = True,\n",
    "                                          num_workers = 0) "
   ]
  },
  {
   "cell_type": "code",
   "execution_count": 370,
   "metadata": {},
   "outputs": [
    {
     "name": "stdout",
     "output_type": "stream",
     "text": [
      "train batch count : 15\n",
      "test batch count  : 4\n"
     ]
    }
   ],
   "source": [
    "count = sum(1 for X, X_cell, X_drug, y in train_loader)\n",
    "print(f\"train batch count : {count}\") \n",
    "\n",
    "count = sum(1 for X, X_cell, X_drug, y in test_loader)\n",
    "print(f\"test batch count  : {count}\") "
   ]
  },
  {
   "cell_type": "code",
   "execution_count": 311,
   "metadata": {},
   "outputs": [
    {
     "data": {
      "text/plain": [
       "array([ 179, 1073])"
      ]
     },
     "execution_count": 311,
     "metadata": {},
     "output_type": "execute_result"
    }
   ],
   "source": [
    "# NOTE: One drug may have multiple DRUG_ID's.\n",
    "temp = gene_expr[['DRUG_ID', 'DRUG_NAME']]\n",
    "np.unique(temp[temp.DRUG_NAME=='5-Fluorouracil'].DRUG_ID.values)"
   ]
  },
  {
   "cell_type": "code",
   "execution_count": 187,
   "metadata": {},
   "outputs": [
    {
     "data": {
      "text/html": [
       "<div>\n",
       "<style scoped>\n",
       "    .dataframe tbody tr th:only-of-type {\n",
       "        vertical-align: middle;\n",
       "    }\n",
       "\n",
       "    .dataframe tbody tr th {\n",
       "        vertical-align: top;\n",
       "    }\n",
       "\n",
       "    .dataframe thead th {\n",
       "        text-align: right;\n",
       "    }\n",
       "</style>\n",
       "<table border=\"1\" class=\"dataframe\">\n",
       "  <thead>\n",
       "    <tr style=\"text-align: right;\">\n",
       "      <th></th>\n",
       "      <th>drug_name</th>\n",
       "      <th>0</th>\n",
       "      <th>1</th>\n",
       "      <th>2</th>\n",
       "      <th>3</th>\n",
       "      <th>4</th>\n",
       "      <th>5</th>\n",
       "      <th>6</th>\n",
       "      <th>7</th>\n",
       "      <th>8</th>\n",
       "      <th>...</th>\n",
       "      <th>247</th>\n",
       "      <th>248</th>\n",
       "      <th>249</th>\n",
       "      <th>250</th>\n",
       "      <th>251</th>\n",
       "      <th>252</th>\n",
       "      <th>253</th>\n",
       "      <th>254</th>\n",
       "      <th>255</th>\n",
       "      <th>DRUG_ID</th>\n",
       "    </tr>\n",
       "  </thead>\n",
       "  <tbody>\n",
       "    <tr>\n",
       "      <th>0</th>\n",
       "      <td>(5Z)-7-Oxozeaenol</td>\n",
       "      <td>1</td>\n",
       "      <td>0</td>\n",
       "      <td>0</td>\n",
       "      <td>1</td>\n",
       "      <td>1</td>\n",
       "      <td>0</td>\n",
       "      <td>0</td>\n",
       "      <td>0</td>\n",
       "      <td>0</td>\n",
       "      <td>...</td>\n",
       "      <td>0</td>\n",
       "      <td>0</td>\n",
       "      <td>0</td>\n",
       "      <td>0</td>\n",
       "      <td>1</td>\n",
       "      <td>1</td>\n",
       "      <td>0</td>\n",
       "      <td>1</td>\n",
       "      <td>0</td>\n",
       "      <td>1242</td>\n",
       "    </tr>\n",
       "    <tr>\n",
       "      <th>912</th>\n",
       "      <td>5-Fluorouracil</td>\n",
       "      <td>0</td>\n",
       "      <td>0</td>\n",
       "      <td>0</td>\n",
       "      <td>0</td>\n",
       "      <td>0</td>\n",
       "      <td>0</td>\n",
       "      <td>0</td>\n",
       "      <td>0</td>\n",
       "      <td>0</td>\n",
       "      <td>...</td>\n",
       "      <td>0</td>\n",
       "      <td>0</td>\n",
       "      <td>0</td>\n",
       "      <td>0</td>\n",
       "      <td>0</td>\n",
       "      <td>0</td>\n",
       "      <td>0</td>\n",
       "      <td>0</td>\n",
       "      <td>1</td>\n",
       "      <td>179</td>\n",
       "    </tr>\n",
       "    <tr>\n",
       "      <th>1825</th>\n",
       "      <td>5-Fluorouracil</td>\n",
       "      <td>0</td>\n",
       "      <td>0</td>\n",
       "      <td>0</td>\n",
       "      <td>0</td>\n",
       "      <td>0</td>\n",
       "      <td>0</td>\n",
       "      <td>0</td>\n",
       "      <td>0</td>\n",
       "      <td>0</td>\n",
       "      <td>...</td>\n",
       "      <td>0</td>\n",
       "      <td>0</td>\n",
       "      <td>0</td>\n",
       "      <td>0</td>\n",
       "      <td>0</td>\n",
       "      <td>0</td>\n",
       "      <td>0</td>\n",
       "      <td>0</td>\n",
       "      <td>1</td>\n",
       "      <td>1073</td>\n",
       "    </tr>\n",
       "    <tr>\n",
       "      <th>2631</th>\n",
       "      <td>A-443654</td>\n",
       "      <td>0</td>\n",
       "      <td>1</td>\n",
       "      <td>0</td>\n",
       "      <td>0</td>\n",
       "      <td>0</td>\n",
       "      <td>0</td>\n",
       "      <td>0</td>\n",
       "      <td>0</td>\n",
       "      <td>0</td>\n",
       "      <td>...</td>\n",
       "      <td>1</td>\n",
       "      <td>0</td>\n",
       "      <td>0</td>\n",
       "      <td>0</td>\n",
       "      <td>0</td>\n",
       "      <td>0</td>\n",
       "      <td>0</td>\n",
       "      <td>0</td>\n",
       "      <td>1</td>\n",
       "      <td>86</td>\n",
       "    </tr>\n",
       "    <tr>\n",
       "      <th>3030</th>\n",
       "      <td>A-770041</td>\n",
       "      <td>1</td>\n",
       "      <td>1</td>\n",
       "      <td>0</td>\n",
       "      <td>0</td>\n",
       "      <td>0</td>\n",
       "      <td>1</td>\n",
       "      <td>0</td>\n",
       "      <td>0</td>\n",
       "      <td>0</td>\n",
       "      <td>...</td>\n",
       "      <td>0</td>\n",
       "      <td>0</td>\n",
       "      <td>1</td>\n",
       "      <td>0</td>\n",
       "      <td>1</td>\n",
       "      <td>0</td>\n",
       "      <td>0</td>\n",
       "      <td>0</td>\n",
       "      <td>0</td>\n",
       "      <td>55</td>\n",
       "    </tr>\n",
       "  </tbody>\n",
       "</table>\n",
       "<p>5 rows × 258 columns</p>\n",
       "</div>"
      ],
      "text/plain": [
       "              drug_name  0  1  2  3  4  5  6  7  8  ...  247  248  249  250  \\\n",
       "0     (5Z)-7-Oxozeaenol  1  0  0  1  1  0  0  0  0  ...    0    0    0    0   \n",
       "912      5-Fluorouracil  0  0  0  0  0  0  0  0  0  ...    0    0    0    0   \n",
       "1825     5-Fluorouracil  0  0  0  0  0  0  0  0  0  ...    0    0    0    0   \n",
       "2631           A-443654  0  1  0  0  0  0  0  0  0  ...    1    0    0    0   \n",
       "3030           A-770041  1  1  0  0  0  1  0  0  0  ...    0    0    1    0   \n",
       "\n",
       "      251  252  253  254  255  DRUG_ID  \n",
       "0       1    1    0    1    0     1242  \n",
       "912     0    0    0    0    1      179  \n",
       "1825    0    0    0    0    1     1073  \n",
       "2631    0    0    0    0    1       86  \n",
       "3030    1    0    0    0    0       55  \n",
       "\n",
       "[5 rows x 258 columns]"
      ]
     },
     "execution_count": 187,
     "metadata": {},
     "output_type": "execute_result"
    }
   ],
   "source": [
    "drug_name_fps_v2.head(5)"
   ]
  },
  {
   "cell_type": "code",
   "execution_count": 188,
   "metadata": {},
   "outputs": [
    {
     "data": {
      "text/html": [
       "<div>\n",
       "<style scoped>\n",
       "    .dataframe tbody tr th:only-of-type {\n",
       "        vertical-align: middle;\n",
       "    }\n",
       "\n",
       "    .dataframe tbody tr th {\n",
       "        vertical-align: top;\n",
       "    }\n",
       "\n",
       "    .dataframe thead th {\n",
       "        text-align: right;\n",
       "    }\n",
       "</style>\n",
       "<table border=\"1\" class=\"dataframe\">\n",
       "  <thead>\n",
       "    <tr style=\"text-align: right;\">\n",
       "      <th></th>\n",
       "      <th>0</th>\n",
       "      <th>1</th>\n",
       "      <th>2</th>\n",
       "      <th>3</th>\n",
       "      <th>4</th>\n",
       "      <th>5</th>\n",
       "      <th>6</th>\n",
       "      <th>7</th>\n",
       "      <th>8</th>\n",
       "      <th>9</th>\n",
       "      <th>...</th>\n",
       "      <th>246</th>\n",
       "      <th>247</th>\n",
       "      <th>248</th>\n",
       "      <th>249</th>\n",
       "      <th>250</th>\n",
       "      <th>251</th>\n",
       "      <th>252</th>\n",
       "      <th>253</th>\n",
       "      <th>254</th>\n",
       "      <th>255</th>\n",
       "    </tr>\n",
       "  </thead>\n",
       "  <tbody>\n",
       "    <tr>\n",
       "      <th>912</th>\n",
       "      <td>0</td>\n",
       "      <td>0</td>\n",
       "      <td>0</td>\n",
       "      <td>0</td>\n",
       "      <td>0</td>\n",
       "      <td>0</td>\n",
       "      <td>0</td>\n",
       "      <td>0</td>\n",
       "      <td>0</td>\n",
       "      <td>0</td>\n",
       "      <td>...</td>\n",
       "      <td>0</td>\n",
       "      <td>0</td>\n",
       "      <td>0</td>\n",
       "      <td>0</td>\n",
       "      <td>0</td>\n",
       "      <td>0</td>\n",
       "      <td>0</td>\n",
       "      <td>0</td>\n",
       "      <td>0</td>\n",
       "      <td>1</td>\n",
       "    </tr>\n",
       "    <tr>\n",
       "      <th>1825</th>\n",
       "      <td>0</td>\n",
       "      <td>0</td>\n",
       "      <td>0</td>\n",
       "      <td>0</td>\n",
       "      <td>0</td>\n",
       "      <td>0</td>\n",
       "      <td>0</td>\n",
       "      <td>0</td>\n",
       "      <td>0</td>\n",
       "      <td>0</td>\n",
       "      <td>...</td>\n",
       "      <td>0</td>\n",
       "      <td>0</td>\n",
       "      <td>0</td>\n",
       "      <td>0</td>\n",
       "      <td>0</td>\n",
       "      <td>0</td>\n",
       "      <td>0</td>\n",
       "      <td>0</td>\n",
       "      <td>0</td>\n",
       "      <td>1</td>\n",
       "    </tr>\n",
       "  </tbody>\n",
       "</table>\n",
       "<p>2 rows × 256 columns</p>\n",
       "</div>"
      ],
      "text/plain": [
       "      0    1    2    3    4    5    6    7    8    9    ...  246  247  248  \\\n",
       "912     0    0    0    0    0    0    0    0    0    0  ...    0    0    0   \n",
       "1825    0    0    0    0    0    0    0    0    0    0  ...    0    0    0   \n",
       "\n",
       "      249  250  251  252  253  254  255  \n",
       "912     0    0    0    0    0    0    1  \n",
       "1825    0    0    0    0    0    0    1  \n",
       "\n",
       "[2 rows x 256 columns]"
      ]
     },
     "execution_count": 188,
     "metadata": {},
     "output_type": "execute_result"
    }
   ],
   "source": [
    "drug_df_temp = drug_name_fps_v2[drug_name_fps_v2.DRUG_ID.isin([179, 1073])]\n",
    "drug_df_temp.loc[:, ~drug_df_temp.columns.isin(['drug_name', 'DRUG_ID'])]"
   ]
  },
  {
   "cell_type": "code",
   "execution_count": 312,
   "metadata": {},
   "outputs": [
    {
     "name": "stderr",
     "output_type": "stream",
     "text": [
      "0it [00:00, ?it/s]"
     ]
    },
    {
     "name": "stdout",
     "output_type": "stream",
     "text": [
      "tensor(285.)\n",
      "tensor([[3.4549, 4.6286, 6.5605,  ..., 3.3613, 8.4007, 6.9447],\n",
      "        [9.9146, 3.8652, 6.5852,  ..., 3.0644, 7.8115, 5.7010],\n",
      "        [3.2600, 3.9822, 7.2188,  ..., 4.2386, 3.5046, 7.8474],\n",
      "        [3.3054, 3.7485, 6.9215,  ..., 4.0507, 3.1340, 7.1919],\n",
      "        [3.8424, 4.1529, 6.6038,  ..., 5.3051, 3.1271, 8.3284]])\n",
      "tensor([[0., 0., 0.,  ..., 0., 0., 0.],\n",
      "        [0., 0., 0.,  ..., 0., 0., 0.],\n",
      "        [0., 0., 0.,  ..., 0., 0., 0.],\n",
      "        [0., 1., 0.,  ..., 0., 1., 1.],\n",
      "        [0., 0., 0.,  ..., 0., 0., 0.]])\n",
      "tensor(3.8062)\n"
     ]
    },
    {
     "name": "stderr",
     "output_type": "stream",
     "text": [
      "\n"
     ]
    }
   ],
   "source": [
    "for i, (X_batch, X_cell, X_drug, y_batch) in tqdm(enumerate(train_loader)):\n",
    "    print(X_batch[0][-1])\n",
    "    assert X_batch[0][0] == X_cell[0][0]\n",
    "    print(X_cell)\n",
    "    print(X_drug)\n",
    "    print(y_batch[0])\n",
    "    break"
   ]
  },
  {
   "cell_type": "code",
   "execution_count": 326,
   "metadata": {},
   "outputs": [
    {
     "name": "stdout",
     "output_type": "stream",
     "text": [
      "The autoreload extension is already loaded. To reload it, use:\n",
      "  %reload_ext autoreload\n"
     ]
    }
   ],
   "source": [
    "%load_ext autoreload\n",
    "%autoreload 24"
   ]
  },
  {
   "cell_type": "code",
   "execution_count": 327,
   "metadata": {},
   "outputs": [],
   "source": [
    "# TODO: some drug rows (fingerprints) are NaN. REMOVE THESE ROWS!!!\n",
    "# Options to prevent exploding gradients:\n",
    "# TODO: normalize in the FC layers.\n",
    "# TODO: lower the learning rate."
   ]
  },
  {
   "cell_type": "code",
   "execution_count": null,
   "metadata": {},
   "outputs": [],
   "source": [
    "def make_each_batch_same_size(test_loader, dataset):\n",
    "    result_tensor = torch.empty((sum(1 for _, _, _, _ in test_loader), test_loader.batch_size))\n",
    "    for i in range(len(dataset)): \n",
    "        if len(dataset[i]) == test_loader.batch_size:\n",
    "            result_tensor[i] = torch.tensor(dataset[i])\n",
    "        else: \n",
    "            result_tensor[i] = torch.cat([torch.unsqueeze(torch.tensor(dataset[i]), 0), \n",
    "                                          torch.zeros(1, test_loader.batch_size-len(dataset[i]))], dim=1)\n",
    "    return result_tensor"
   ]
  },
  {
   "cell_type": "code",
   "execution_count": null,
   "metadata": {},
   "outputs": [],
   "source": [
    "from numpy import vstack\n",
    "from sklearn.metrics import mean_squared_error\n",
    "# ---------------------------------\n",
    "# Test the model\n",
    "# ---------------------------------\n",
    "def test_model(model, test_loader, device):\n",
    "    # In test phase, we don't need to compute gradients (for memory efficiency)\n",
    "    with torch.no_grad():\n",
    "        correct = 0\n",
    "        total = 0\n",
    "\n",
    "        inputs, predictions, actuals = list(), list(), list()\n",
    "        for i, (X_batch, X_batch_cell, X_batch_drug, y_batch) in tqdm(enumerate(test_loader)):\n",
    "            X = X_batch.to(device)\n",
    "            X_cell = X_batch_cell.to(device)\n",
    "            X_drug = X_batch_drug.to(device)            \n",
    "            y = y_batch.to(device)\n",
    "\n",
    "            outputs = model(X_cell.reshape(X_cell.shape[0], 1, X_cell.shape[1]), \n",
    "                            X_drug.reshape(X_drug.shape[0], 1, X_drug.shape[1]))\n",
    "            predicted = outputs.data\n",
    "\n",
    "            y_preds  = outputs.detach().numpy()\n",
    "            y_actual = y.detach().numpy() \n",
    "\n",
    "            assert y_preds.shape == y_actual.shape, f\"y_preds.shape = {y_preds.shape} != {y_actual.shape} = y_actual.shape\"\n",
    "            \n",
    "            inputs.append(X.detach().numpy())\n",
    "            predictions.append(y_preds)\n",
    "            actuals.append(y_actual)\n",
    "\n",
    "            total += y.size(0)\n",
    "            # print(f\"predicted y : {predicted}    actual y : {y}\\n\\n\\n\\n\")\n",
    "            # print(f\"actual    y : {y}\\n\\n\")\n",
    "            correct += np.abs(predicted - y).sum()\n",
    "\n",
    "        # print(total)\n",
    "        # print(correct)\n",
    "        # print(f\"Mean absolute difference of the network on the {len(test_loader.dataset.indices)} test values: {correct / total:2.6f}\")\n",
    "\n",
    "        inputs = vstack(inputs)\n",
    "        #predictions = vstack(predictions)\n",
    "        #actuals =  vstack(actuals)\n",
    "        # calculate mse\n",
    "        loss = nn.MSELoss()\n",
    "\n",
    "        # Make all the same shape.\n",
    "        # TODO: Now I have added zeros to the last batch which has a size < 20_000 (=batch size). Change this cause now this is seen as perfect predicitons.    \n",
    "        actuals_tensor = make_each_batch_same_size(test_loader, actuals)\n",
    "        predictions_tensor = make_each_batch_same_size(test_loader, predictions)\n",
    "\n",
    "        mse = loss(actuals_tensor, predictions_tensor)\n",
    "        return mse\n",
    "\n",
    "        #     mse += mean_squared_error(actuals[i], predictions[i])\n",
    "        # mse /= len(actuals)\n",
    "        # print(f\"MSE : {mse:2.4}\")\n",
    "        # mse = mean_squared_error(actuals, predictions)"
   ]
  },
  {
   "cell_type": "code",
   "execution_count": 533,
   "metadata": {},
   "outputs": [
    {
     "name": "stdout",
     "output_type": "stream",
     "text": [
      "The autoreload extension is already loaded. To reload it, use:\n",
      "  %reload_ext autoreload\n",
      "Device: cpu\n"
     ]
    }
   ],
   "source": [
    "%load_ext autoreload\n",
    "%autoreload 24\n",
    "\n",
    "from v1_NormalNN import Model\n",
    "from tqdm import tqdm\n",
    "import copy\n",
    "\n",
    "torch.manual_seed(42)\n",
    "device = torch.device(\"cuda\" if torch.cuda.is_available() else \"cpu\")\n",
    "print(f\"Device: {device}\")\n",
    "\n",
    "# -------- #\n",
    "# TRAINING #\n",
    "# -------- #\n",
    "def train_model(model, criterion, optimizer, num_epochs=100):  \n",
    "    start = time.time()\n",
    "    loss_values = []\n",
    "    loss_values_test = []\n",
    "    total_step = len(train_loader)\n",
    "    it = iter(train_loader)\n",
    "\n",
    "    for epoch in range(num_epochs): \n",
    "        running_loss_train = 0.0\n",
    "        model.train()\n",
    "        for i, (X_batch, X_batch_cell, X_batch_drug, y_batch) in tqdm(enumerate(train_loader)):\n",
    "            \n",
    "            # X_batch_cell, X_batch_drug\n",
    "            # X_cell = X_batch_cell.to(device)\n",
    "            # X_drug = X_batch_drug.to(device)\n",
    "            X = X_batch.to(device)\n",
    "            X_cell = X_batch_cell.to(device)\n",
    "            X_drug = X_batch_drug.to(device)            \n",
    "            y = y_batch.to(device)\n",
    "\n",
    "            # X_cell = X_batch[:, :-1].to(device) # Only the genes.\n",
    "            # X_drug = X_batch[:, -1].to(device) # The DRUG_ID's are in the last entry per row.\n",
    "\n",
    "            # assert not torch.isnan(X_cell).any(), f\"X_cell has NaN in it {i}.\"\n",
    "            # assert not torch.isnan(X_drug).any(), f\"X_drug has NaN in it {i}.\"\n",
    "            # TODO: remove the rows with NaNs.\n",
    "            # assert not torch.isnan(X_batch).any(), f\"X_batch has NaN in it {i}.\"\n",
    "            # assert len(X_drug) == batch_size, f\"ERROR: len(X_drug) = {len(X_drug)} != {batch_size} = batch_size.\"\n",
    "            # assert not torch.isnan(y).any(), f\"y has NaN in it {i}.\"  \n",
    "\n",
    "            # print(X_cell)  \n",
    "            # print(len(X_cell[0]))\n",
    "            # print(X_drug)  \n",
    "            # print(len(X_drug))\n",
    "            # print(X_cell) \n",
    "            # print(\"BEFORE\")\n",
    "            # print(f\"  X_cell.shape: {X_cell.shape}\")\n",
    "            # print(f\"  X_drug.shape: {X_drug.shape}\")\n",
    "            # print(\"AFTER\")\n",
    "            # print(f\"  X_cell.shape: {X_cell.reshape(X_cell.shape[0], 1, X_cell.shape[1]).shape}\")\n",
    "            # print(f\"  X_drug.shape: {X_drug.reshape(1, X_drug.shape[0], 1).shape}\")\n",
    "            # print(X_cell.reshape(X_cell.shape[0], 1, X_cell.shape[1]).shape)\n",
    "            \n",
    "            # Add the fingerprints to the specific drugs.\n",
    "            # drug_df_temp = drug_name_fps_v2[drug_name_fps_v2.DRUG_ID.isin(X_drug.tolist())]\n",
    "            # drug_df_temp = drug_df_temp.loc[:, ~drug_df_temp.columns.isin(['drug_name', 'DRUG_ID'])]\n",
    "            \n",
    "            # y_preds = model(X_cell.reshape(X_cell.shape[0], 1, X_cell.shape[1]), X_drug.reshape(X_drug.shape[0], 1, 1))\n",
    "\n",
    "            # print(\"SHAPES BEFORE\")\n",
    "            # print(X_cell.shape) \n",
    "            # print(X_drug.shape) \n",
    "            y_preds = model(X_cell.reshape(X_cell.shape[0], 1, X_cell.shape[1]), \n",
    "                            X_drug.reshape(X_drug.shape[0], 1, X_drug.shape[1]))\n",
    "            # print(f\"PREDICTIONS\\n{100*'='}\")\n",
    "            # for i, y_pred in enumerate(y_preds): \n",
    "            #     print(y_pred.shape)\n",
    "            #     print(y_pred)\n",
    "            #     #print(f\"  {i:10.0f} pred : {y_pred:5.2f}\")\n",
    "            # print(f\"y_preds  : {y_preds}\")\n",
    "            # print(f\"y_actual : {y}\")\n",
    "            loss = loss_func(y_preds, y)\n",
    "\n",
    "            #print(f\"Loss: {loss}\")\n",
    "\n",
    "            running_loss_train += loss.item()\n",
    "\n",
    "            # print(f\"Running Loss: {running_loss_train}\")\n",
    "\n",
    "            # Backward and optimize.\n",
    "            optimizer.zero_grad()\n",
    "            loss.backward()\n",
    "            optimizer.step()\n",
    "\n",
    "            #print(f\"Optimized! i : {i}\")\n",
    "\n",
    "            if i % 1 == 0:\n",
    "                print('Epoch [{}/{}], Step [{}/{}], Loss: {:.4f}'\\\n",
    "                    .format(epoch+1, num_epochs, i+1, total_step, loss.item()))             \n",
    "                break\n",
    "            \n",
    "        loss_values.append(running_loss_train / len(modeling_dataset))      \n",
    "        print(f\"loss_values : {np.mean(loss_values):2.4f}\")\n",
    "\n",
    "        # ------------------ #\n",
    "        # EVALUATE THE MODEL #\n",
    "        # ------------------ #\n",
    "        model.eval()\n",
    "        mse_test = test_model(model, test_loader, device)\n",
    "        print(f\"MSE (test) : {mse_test}\")\n",
    "        loss_values_test += [mse_test]\n",
    "\n",
    "    return model, loss_values, loss_values_test          "
   ]
  },
  {
   "cell_type": "code",
   "execution_count": 534,
   "metadata": {},
   "outputs": [
    {
     "name": "stdout",
     "output_type": "stream",
     "text": [
      "The autoreload extension is already loaded. To reload it, use:\n",
      "  %reload_ext autoreload\n"
     ]
    },
    {
     "name": "stderr",
     "output_type": "stream",
     "text": [
      "0it [00:02, ?it/s]\n"
     ]
    },
    {
     "name": "stdout",
     "output_type": "stream",
     "text": [
      "Epoch [1/100], Step [1/15], Loss: 11.8210\n",
      "loss_values : 0.0000\n"
     ]
    },
    {
     "name": "stderr",
     "output_type": "stream",
     "text": [
      "4it [00:06,  1.64s/it]\n"
     ]
    },
    {
     "name": "stdout",
     "output_type": "stream",
     "text": [
      "MSE (test) : 6.5982818603515625\n"
     ]
    },
    {
     "name": "stderr",
     "output_type": "stream",
     "text": [
      "0it [00:02, ?it/s]\n"
     ]
    },
    {
     "name": "stdout",
     "output_type": "stream",
     "text": [
      "Epoch [2/100], Step [1/15], Loss: 7.4929\n",
      "loss_values : 0.0000\n"
     ]
    },
    {
     "name": "stderr",
     "output_type": "stream",
     "text": [
      "4it [00:06,  1.63s/it]\n"
     ]
    },
    {
     "name": "stdout",
     "output_type": "stream",
     "text": [
      "MSE (test) : 10.830050468444824\n"
     ]
    },
    {
     "name": "stderr",
     "output_type": "stream",
     "text": [
      "0it [00:02, ?it/s]\n"
     ]
    },
    {
     "name": "stdout",
     "output_type": "stream",
     "text": [
      "Epoch [3/100], Step [1/15], Loss: 12.5290\n",
      "loss_values : 0.0000\n"
     ]
    },
    {
     "name": "stderr",
     "output_type": "stream",
     "text": [
      "4it [00:06,  1.69s/it]\n"
     ]
    },
    {
     "name": "stdout",
     "output_type": "stream",
     "text": [
      "MSE (test) : 7.095746040344238\n"
     ]
    },
    {
     "name": "stderr",
     "output_type": "stream",
     "text": [
      "0it [00:02, ?it/s]\n"
     ]
    },
    {
     "name": "stdout",
     "output_type": "stream",
     "text": [
      "Epoch [4/100], Step [1/15], Loss: 8.1377\n",
      "loss_values : 0.0000\n"
     ]
    },
    {
     "name": "stderr",
     "output_type": "stream",
     "text": [
      "4it [00:06,  1.72s/it]\n"
     ]
    },
    {
     "name": "stdout",
     "output_type": "stream",
     "text": [
      "MSE (test) : 6.585962295532227\n"
     ]
    },
    {
     "name": "stderr",
     "output_type": "stream",
     "text": [
      "0it [00:02, ?it/s]\n"
     ]
    },
    {
     "name": "stdout",
     "output_type": "stream",
     "text": [
      "Epoch [5/100], Step [1/15], Loss: 7.4425\n",
      "loss_values : 0.0000\n"
     ]
    },
    {
     "name": "stderr",
     "output_type": "stream",
     "text": [
      "4it [00:06,  1.67s/it]\n"
     ]
    },
    {
     "name": "stdout",
     "output_type": "stream",
     "text": [
      "MSE (test) : 7.084161758422852\n"
     ]
    },
    {
     "name": "stderr",
     "output_type": "stream",
     "text": [
      "0it [00:01, ?it/s]\n"
     ]
    },
    {
     "name": "stdout",
     "output_type": "stream",
     "text": [
      "Epoch [6/100], Step [1/15], Loss: 8.1403\n",
      "loss_values : 0.0000\n"
     ]
    },
    {
     "name": "stderr",
     "output_type": "stream",
     "text": [
      "4it [00:06,  1.65s/it]\n"
     ]
    },
    {
     "name": "stdout",
     "output_type": "stream",
     "text": [
      "MSE (test) : 6.915807247161865\n"
     ]
    },
    {
     "name": "stderr",
     "output_type": "stream",
     "text": [
      "0it [00:02, ?it/s]\n"
     ]
    },
    {
     "name": "stdout",
     "output_type": "stream",
     "text": [
      "Epoch [7/100], Step [1/15], Loss: 7.9335\n",
      "loss_values : 0.0000\n"
     ]
    },
    {
     "name": "stderr",
     "output_type": "stream",
     "text": [
      "4it [00:07,  1.76s/it]\n"
     ]
    },
    {
     "name": "stdout",
     "output_type": "stream",
     "text": [
      "MSE (test) : 6.514952182769775\n"
     ]
    },
    {
     "name": "stderr",
     "output_type": "stream",
     "text": [
      "0it [00:02, ?it/s]\n"
     ]
    },
    {
     "name": "stdout",
     "output_type": "stream",
     "text": [
      "Epoch [8/100], Step [1/15], Loss: 7.4572\n",
      "loss_values : 0.0000\n"
     ]
    },
    {
     "name": "stderr",
     "output_type": "stream",
     "text": [
      "4it [00:06,  1.70s/it]\n"
     ]
    },
    {
     "name": "stdout",
     "output_type": "stream",
     "text": [
      "MSE (test) : 6.559298992156982\n"
     ]
    },
    {
     "name": "stderr",
     "output_type": "stream",
     "text": [
      "0it [00:02, ?it/s]\n"
     ]
    },
    {
     "name": "stdout",
     "output_type": "stream",
     "text": [
      "Epoch [9/100], Step [1/15], Loss: 7.4510\n",
      "loss_values : 0.0000\n"
     ]
    },
    {
     "name": "stderr",
     "output_type": "stream",
     "text": [
      "4it [00:07,  1.77s/it]\n"
     ]
    },
    {
     "name": "stdout",
     "output_type": "stream",
     "text": [
      "MSE (test) : 6.728320121765137\n"
     ]
    },
    {
     "name": "stderr",
     "output_type": "stream",
     "text": [
      "0it [00:02, ?it/s]\n"
     ]
    },
    {
     "name": "stdout",
     "output_type": "stream",
     "text": [
      "Epoch [10/100], Step [1/15], Loss: 7.7472\n",
      "loss_values : 0.0000\n"
     ]
    },
    {
     "name": "stderr",
     "output_type": "stream",
     "text": [
      "4it [00:06,  1.70s/it]\n"
     ]
    },
    {
     "name": "stdout",
     "output_type": "stream",
     "text": [
      "MSE (test) : 6.525257587432861\n"
     ]
    },
    {
     "name": "stderr",
     "output_type": "stream",
     "text": [
      "0it [00:02, ?it/s]\n"
     ]
    },
    {
     "name": "stdout",
     "output_type": "stream",
     "text": [
      "Epoch [11/100], Step [1/15], Loss: 7.4732\n",
      "loss_values : 0.0000\n"
     ]
    },
    {
     "name": "stderr",
     "output_type": "stream",
     "text": [
      "4it [00:07,  1.77s/it]\n"
     ]
    },
    {
     "name": "stdout",
     "output_type": "stream",
     "text": [
      "MSE (test) : 6.436666011810303\n"
     ]
    },
    {
     "name": "stderr",
     "output_type": "stream",
     "text": [
      "0it [00:02, ?it/s]\n"
     ]
    },
    {
     "name": "stdout",
     "output_type": "stream",
     "text": [
      "Epoch [12/100], Step [1/15], Loss: 7.4884\n",
      "loss_values : 0.0000\n"
     ]
    },
    {
     "name": "stderr",
     "output_type": "stream",
     "text": [
      "4it [00:07,  1.75s/it]\n"
     ]
    },
    {
     "name": "stdout",
     "output_type": "stream",
     "text": [
      "MSE (test) : 6.526207447052002\n"
     ]
    },
    {
     "name": "stderr",
     "output_type": "stream",
     "text": [
      "0it [00:02, ?it/s]\n"
     ]
    },
    {
     "name": "stdout",
     "output_type": "stream",
     "text": [
      "Epoch [13/100], Step [1/15], Loss: 7.5832\n",
      "loss_values : 0.0000\n"
     ]
    },
    {
     "name": "stderr",
     "output_type": "stream",
     "text": [
      "4it [00:06,  1.56s/it]\n"
     ]
    },
    {
     "name": "stdout",
     "output_type": "stream",
     "text": [
      "MSE (test) : 6.527416706085205\n"
     ]
    },
    {
     "name": "stderr",
     "output_type": "stream",
     "text": [
      "0it [00:02, ?it/s]\n"
     ]
    },
    {
     "name": "stdout",
     "output_type": "stream",
     "text": [
      "Epoch [14/100], Step [1/15], Loss: 7.4108\n",
      "loss_values : 0.0000\n"
     ]
    },
    {
     "name": "stderr",
     "output_type": "stream",
     "text": [
      "4it [00:06,  1.69s/it]\n"
     ]
    },
    {
     "name": "stdout",
     "output_type": "stream",
     "text": [
      "MSE (test) : 6.441267967224121\n"
     ]
    },
    {
     "name": "stderr",
     "output_type": "stream",
     "text": [
      "0it [00:02, ?it/s]\n"
     ]
    },
    {
     "name": "stdout",
     "output_type": "stream",
     "text": [
      "Epoch [15/100], Step [1/15], Loss: 7.2608\n",
      "loss_values : 0.0000\n"
     ]
    },
    {
     "name": "stderr",
     "output_type": "stream",
     "text": [
      "4it [00:06,  1.72s/it]\n"
     ]
    },
    {
     "name": "stdout",
     "output_type": "stream",
     "text": [
      "MSE (test) : 6.405534267425537\n"
     ]
    },
    {
     "name": "stderr",
     "output_type": "stream",
     "text": [
      "0it [00:01, ?it/s]\n"
     ]
    },
    {
     "name": "stdout",
     "output_type": "stream",
     "text": [
      "Epoch [16/100], Step [1/15], Loss: 7.2897\n",
      "loss_values : 0.0000\n"
     ]
    },
    {
     "name": "stderr",
     "output_type": "stream",
     "text": [
      "4it [00:06,  1.73s/it]\n"
     ]
    },
    {
     "name": "stdout",
     "output_type": "stream",
     "text": [
      "MSE (test) : 6.441214084625244\n"
     ]
    },
    {
     "name": "stderr",
     "output_type": "stream",
     "text": [
      "0it [00:02, ?it/s]\n"
     ]
    },
    {
     "name": "stdout",
     "output_type": "stream",
     "text": [
      "Epoch [17/100], Step [1/15], Loss: 7.1864\n",
      "loss_values : 0.0000\n"
     ]
    },
    {
     "name": "stderr",
     "output_type": "stream",
     "text": [
      "4it [00:06,  1.72s/it]\n"
     ]
    },
    {
     "name": "stdout",
     "output_type": "stream",
     "text": [
      "MSE (test) : 6.4438371658325195\n"
     ]
    },
    {
     "name": "stderr",
     "output_type": "stream",
     "text": [
      "0it [00:02, ?it/s]\n"
     ]
    },
    {
     "name": "stdout",
     "output_type": "stream",
     "text": [
      "Epoch [18/100], Step [1/15], Loss: 7.3180\n",
      "loss_values : 0.0000\n"
     ]
    },
    {
     "name": "stderr",
     "output_type": "stream",
     "text": [
      "4it [00:06,  1.69s/it]\n"
     ]
    },
    {
     "name": "stdout",
     "output_type": "stream",
     "text": [
      "MSE (test) : 6.386750221252441\n"
     ]
    },
    {
     "name": "stderr",
     "output_type": "stream",
     "text": [
      "0it [00:02, ?it/s]\n"
     ]
    },
    {
     "name": "stdout",
     "output_type": "stream",
     "text": [
      "Epoch [19/100], Step [1/15], Loss: 7.1277\n",
      "loss_values : 0.0000\n"
     ]
    },
    {
     "name": "stderr",
     "output_type": "stream",
     "text": [
      "4it [00:06,  1.70s/it]\n"
     ]
    },
    {
     "name": "stdout",
     "output_type": "stream",
     "text": [
      "MSE (test) : 6.355079174041748\n"
     ]
    },
    {
     "name": "stderr",
     "output_type": "stream",
     "text": [
      "0it [00:02, ?it/s]\n"
     ]
    },
    {
     "name": "stdout",
     "output_type": "stream",
     "text": [
      "Epoch [20/100], Step [1/15], Loss: 7.3293\n",
      "loss_values : 0.0000\n"
     ]
    },
    {
     "name": "stderr",
     "output_type": "stream",
     "text": [
      "4it [00:07,  1.75s/it]\n"
     ]
    },
    {
     "name": "stdout",
     "output_type": "stream",
     "text": [
      "MSE (test) : 6.364632606506348\n"
     ]
    },
    {
     "name": "stderr",
     "output_type": "stream",
     "text": [
      "0it [00:02, ?it/s]\n"
     ]
    },
    {
     "name": "stdout",
     "output_type": "stream",
     "text": [
      "Epoch [21/100], Step [1/15], Loss: 7.2583\n",
      "loss_values : 0.0000\n"
     ]
    },
    {
     "name": "stderr",
     "output_type": "stream",
     "text": [
      "4it [00:07,  1.77s/it]\n"
     ]
    },
    {
     "name": "stdout",
     "output_type": "stream",
     "text": [
      "MSE (test) : 6.348772048950195\n"
     ]
    },
    {
     "name": "stderr",
     "output_type": "stream",
     "text": [
      "0it [00:02, ?it/s]\n"
     ]
    },
    {
     "name": "stdout",
     "output_type": "stream",
     "text": [
      "Epoch [22/100], Step [1/15], Loss: 7.1981\n",
      "loss_values : 0.0000\n"
     ]
    },
    {
     "name": "stderr",
     "output_type": "stream",
     "text": [
      "4it [00:06,  1.69s/it]\n"
     ]
    },
    {
     "name": "stdout",
     "output_type": "stream",
     "text": [
      "MSE (test) : 6.288829803466797\n"
     ]
    },
    {
     "name": "stderr",
     "output_type": "stream",
     "text": [
      "0it [00:02, ?it/s]\n"
     ]
    },
    {
     "name": "stdout",
     "output_type": "stream",
     "text": [
      "Epoch [23/100], Step [1/15], Loss: 7.2356\n",
      "loss_values : 0.0000\n"
     ]
    },
    {
     "name": "stderr",
     "output_type": "stream",
     "text": [
      "4it [00:07,  1.76s/it]\n"
     ]
    },
    {
     "name": "stdout",
     "output_type": "stream",
     "text": [
      "MSE (test) : 6.261855602264404\n"
     ]
    },
    {
     "name": "stderr",
     "output_type": "stream",
     "text": [
      "0it [00:01, ?it/s]\n"
     ]
    },
    {
     "name": "stdout",
     "output_type": "stream",
     "text": [
      "Epoch [24/100], Step [1/15], Loss: 7.0136\n",
      "loss_values : 0.0000\n"
     ]
    },
    {
     "name": "stderr",
     "output_type": "stream",
     "text": [
      "4it [00:07,  1.79s/it]\n"
     ]
    },
    {
     "name": "stdout",
     "output_type": "stream",
     "text": [
      "MSE (test) : 6.249268054962158\n"
     ]
    },
    {
     "name": "stderr",
     "output_type": "stream",
     "text": [
      "0it [00:02, ?it/s]\n"
     ]
    },
    {
     "name": "stdout",
     "output_type": "stream",
     "text": [
      "Epoch [25/100], Step [1/15], Loss: 7.1398\n",
      "loss_values : 0.0000\n"
     ]
    },
    {
     "name": "stderr",
     "output_type": "stream",
     "text": [
      "4it [00:07,  1.78s/it]\n"
     ]
    },
    {
     "name": "stdout",
     "output_type": "stream",
     "text": [
      "MSE (test) : 6.1885809898376465\n"
     ]
    },
    {
     "name": "stderr",
     "output_type": "stream",
     "text": [
      "0it [00:02, ?it/s]\n"
     ]
    },
    {
     "name": "stdout",
     "output_type": "stream",
     "text": [
      "Epoch [26/100], Step [1/15], Loss: 6.9572\n",
      "loss_values : 0.0000\n"
     ]
    },
    {
     "name": "stderr",
     "output_type": "stream",
     "text": [
      "4it [00:06,  1.70s/it]\n"
     ]
    },
    {
     "name": "stdout",
     "output_type": "stream",
     "text": [
      "MSE (test) : 6.110100746154785\n"
     ]
    },
    {
     "name": "stderr",
     "output_type": "stream",
     "text": [
      "0it [00:02, ?it/s]\n"
     ]
    },
    {
     "name": "stdout",
     "output_type": "stream",
     "text": [
      "Epoch [27/100], Step [1/15], Loss: 7.0266\n",
      "loss_values : 0.0000\n"
     ]
    },
    {
     "name": "stderr",
     "output_type": "stream",
     "text": [
      "4it [00:06,  1.70s/it]\n"
     ]
    },
    {
     "name": "stdout",
     "output_type": "stream",
     "text": [
      "MSE (test) : 6.050934314727783\n"
     ]
    },
    {
     "name": "stderr",
     "output_type": "stream",
     "text": [
      "0it [00:02, ?it/s]\n"
     ]
    },
    {
     "name": "stdout",
     "output_type": "stream",
     "text": [
      "Epoch [28/100], Step [1/15], Loss: 6.8657\n",
      "loss_values : 0.0000\n"
     ]
    },
    {
     "name": "stderr",
     "output_type": "stream",
     "text": [
      "4it [00:07,  1.76s/it]\n"
     ]
    },
    {
     "name": "stdout",
     "output_type": "stream",
     "text": [
      "MSE (test) : 5.976457595825195\n"
     ]
    },
    {
     "name": "stderr",
     "output_type": "stream",
     "text": [
      "0it [00:01, ?it/s]\n"
     ]
    },
    {
     "name": "stdout",
     "output_type": "stream",
     "text": [
      "Epoch [29/100], Step [1/15], Loss: 6.7891\n",
      "loss_values : 0.0000\n"
     ]
    },
    {
     "name": "stderr",
     "output_type": "stream",
     "text": [
      "4it [00:05,  1.41s/it]\n"
     ]
    },
    {
     "name": "stdout",
     "output_type": "stream",
     "text": [
      "MSE (test) : 5.871702194213867\n"
     ]
    },
    {
     "name": "stderr",
     "output_type": "stream",
     "text": [
      "0it [00:02, ?it/s]\n"
     ]
    },
    {
     "name": "stdout",
     "output_type": "stream",
     "text": [
      "Epoch [30/100], Step [1/15], Loss: 6.6592\n",
      "loss_values : 0.0000\n"
     ]
    },
    {
     "name": "stderr",
     "output_type": "stream",
     "text": [
      "4it [00:06,  1.66s/it]\n"
     ]
    },
    {
     "name": "stdout",
     "output_type": "stream",
     "text": [
      "MSE (test) : 5.769448280334473\n"
     ]
    },
    {
     "name": "stderr",
     "output_type": "stream",
     "text": [
      "0it [00:02, ?it/s]\n"
     ]
    },
    {
     "name": "stdout",
     "output_type": "stream",
     "text": [
      "Epoch [31/100], Step [1/15], Loss: 6.5692\n",
      "loss_values : 0.0000\n"
     ]
    },
    {
     "name": "stderr",
     "output_type": "stream",
     "text": [
      "4it [00:06,  1.74s/it]\n"
     ]
    },
    {
     "name": "stdout",
     "output_type": "stream",
     "text": [
      "MSE (test) : 5.66318941116333\n"
     ]
    },
    {
     "name": "stderr",
     "output_type": "stream",
     "text": [
      "0it [00:02, ?it/s]\n"
     ]
    },
    {
     "name": "stdout",
     "output_type": "stream",
     "text": [
      "Epoch [32/100], Step [1/15], Loss: 6.4643\n",
      "loss_values : 0.0000\n"
     ]
    },
    {
     "name": "stderr",
     "output_type": "stream",
     "text": [
      "4it [00:07,  1.76s/it]\n"
     ]
    },
    {
     "name": "stdout",
     "output_type": "stream",
     "text": [
      "MSE (test) : 5.508075714111328\n"
     ]
    },
    {
     "name": "stderr",
     "output_type": "stream",
     "text": [
      "0it [00:02, ?it/s]\n"
     ]
    },
    {
     "name": "stdout",
     "output_type": "stream",
     "text": [
      "Epoch [33/100], Step [1/15], Loss: 6.1735\n",
      "loss_values : 0.0000\n"
     ]
    },
    {
     "name": "stderr",
     "output_type": "stream",
     "text": [
      "4it [00:06,  1.66s/it]\n"
     ]
    },
    {
     "name": "stdout",
     "output_type": "stream",
     "text": [
      "MSE (test) : 5.347620487213135\n"
     ]
    },
    {
     "name": "stderr",
     "output_type": "stream",
     "text": [
      "0it [00:02, ?it/s]\n"
     ]
    },
    {
     "name": "stdout",
     "output_type": "stream",
     "text": [
      "Epoch [34/100], Step [1/15], Loss: 5.9971\n",
      "loss_values : 0.0000\n"
     ]
    },
    {
     "name": "stderr",
     "output_type": "stream",
     "text": [
      "4it [00:06,  1.75s/it]\n"
     ]
    },
    {
     "name": "stdout",
     "output_type": "stream",
     "text": [
      "MSE (test) : 5.179325580596924\n"
     ]
    },
    {
     "name": "stderr",
     "output_type": "stream",
     "text": [
      "0it [00:02, ?it/s]\n"
     ]
    },
    {
     "name": "stdout",
     "output_type": "stream",
     "text": [
      "Epoch [35/100], Step [1/15], Loss: 5.9231\n",
      "loss_values : 0.0000\n"
     ]
    },
    {
     "name": "stderr",
     "output_type": "stream",
     "text": [
      "4it [00:06,  1.74s/it]\n"
     ]
    },
    {
     "name": "stdout",
     "output_type": "stream",
     "text": [
      "MSE (test) : 4.985931873321533\n"
     ]
    },
    {
     "name": "stderr",
     "output_type": "stream",
     "text": [
      "0it [00:02, ?it/s]\n"
     ]
    },
    {
     "name": "stdout",
     "output_type": "stream",
     "text": [
      "Epoch [36/100], Step [1/15], Loss: 5.6284\n",
      "loss_values : 0.0000\n"
     ]
    },
    {
     "name": "stderr",
     "output_type": "stream",
     "text": [
      "4it [00:07,  1.88s/it]\n"
     ]
    },
    {
     "name": "stdout",
     "output_type": "stream",
     "text": [
      "MSE (test) : 4.81130838394165\n"
     ]
    },
    {
     "name": "stderr",
     "output_type": "stream",
     "text": [
      "0it [00:02, ?it/s]\n"
     ]
    },
    {
     "name": "stdout",
     "output_type": "stream",
     "text": [
      "Epoch [37/100], Step [1/15], Loss: 5.5372\n",
      "loss_values : 0.0000\n"
     ]
    },
    {
     "name": "stderr",
     "output_type": "stream",
     "text": [
      "4it [00:07,  1.87s/it]\n"
     ]
    },
    {
     "name": "stdout",
     "output_type": "stream",
     "text": [
      "MSE (test) : 4.643080711364746\n"
     ]
    },
    {
     "name": "stderr",
     "output_type": "stream",
     "text": [
      "0it [00:02, ?it/s]\n"
     ]
    },
    {
     "name": "stdout",
     "output_type": "stream",
     "text": [
      "Epoch [38/100], Step [1/15], Loss: 5.2279\n",
      "loss_values : 0.0000\n"
     ]
    },
    {
     "name": "stderr",
     "output_type": "stream",
     "text": [
      "4it [00:06,  1.65s/it]\n"
     ]
    },
    {
     "name": "stdout",
     "output_type": "stream",
     "text": [
      "MSE (test) : 4.489243507385254\n"
     ]
    },
    {
     "name": "stderr",
     "output_type": "stream",
     "text": [
      "0it [00:02, ?it/s]\n"
     ]
    },
    {
     "name": "stdout",
     "output_type": "stream",
     "text": [
      "Epoch [39/100], Step [1/15], Loss: 5.1651\n",
      "loss_values : 0.0000\n"
     ]
    },
    {
     "name": "stderr",
     "output_type": "stream",
     "text": [
      "4it [00:06,  1.67s/it]\n"
     ]
    },
    {
     "name": "stdout",
     "output_type": "stream",
     "text": [
      "MSE (test) : 4.353224277496338\n"
     ]
    },
    {
     "name": "stderr",
     "output_type": "stream",
     "text": [
      "0it [00:02, ?it/s]\n"
     ]
    },
    {
     "name": "stdout",
     "output_type": "stream",
     "text": [
      "Epoch [40/100], Step [1/15], Loss: 4.8707\n",
      "loss_values : 0.0000\n"
     ]
    },
    {
     "name": "stderr",
     "output_type": "stream",
     "text": [
      "4it [00:06,  1.66s/it]\n"
     ]
    },
    {
     "name": "stdout",
     "output_type": "stream",
     "text": [
      "MSE (test) : 4.23514986038208\n"
     ]
    },
    {
     "name": "stderr",
     "output_type": "stream",
     "text": [
      "0it [00:02, ?it/s]\n"
     ]
    },
    {
     "name": "stdout",
     "output_type": "stream",
     "text": [
      "Epoch [41/100], Step [1/15], Loss: 4.8791\n",
      "loss_values : 0.0000\n"
     ]
    },
    {
     "name": "stderr",
     "output_type": "stream",
     "text": [
      "4it [00:06,  1.59s/it]\n"
     ]
    },
    {
     "name": "stdout",
     "output_type": "stream",
     "text": [
      "MSE (test) : 4.127569198608398\n"
     ]
    },
    {
     "name": "stderr",
     "output_type": "stream",
     "text": [
      "0it [00:01, ?it/s]\n"
     ]
    },
    {
     "name": "stdout",
     "output_type": "stream",
     "text": [
      "Epoch [42/100], Step [1/15], Loss: 4.6867\n",
      "loss_values : 0.0000\n"
     ]
    },
    {
     "name": "stderr",
     "output_type": "stream",
     "text": [
      "4it [00:06,  1.66s/it]\n"
     ]
    },
    {
     "name": "stdout",
     "output_type": "stream",
     "text": [
      "MSE (test) : 4.0457539558410645\n"
     ]
    },
    {
     "name": "stderr",
     "output_type": "stream",
     "text": [
      "0it [00:01, ?it/s]\n"
     ]
    },
    {
     "name": "stdout",
     "output_type": "stream",
     "text": [
      "Epoch [43/100], Step [1/15], Loss: 4.6087\n",
      "loss_values : 0.0000\n"
     ]
    },
    {
     "name": "stderr",
     "output_type": "stream",
     "text": [
      "4it [00:06,  1.63s/it]\n"
     ]
    },
    {
     "name": "stdout",
     "output_type": "stream",
     "text": [
      "MSE (test) : 3.955348491668701\n"
     ]
    },
    {
     "name": "stderr",
     "output_type": "stream",
     "text": [
      "0it [00:02, ?it/s]\n"
     ]
    },
    {
     "name": "stdout",
     "output_type": "stream",
     "text": [
      "Epoch [44/100], Step [1/15], Loss: 4.4704\n",
      "loss_values : 0.0000\n"
     ]
    },
    {
     "name": "stderr",
     "output_type": "stream",
     "text": [
      "4it [00:06,  1.62s/it]\n"
     ]
    },
    {
     "name": "stdout",
     "output_type": "stream",
     "text": [
      "MSE (test) : 3.876861333847046\n"
     ]
    },
    {
     "name": "stderr",
     "output_type": "stream",
     "text": [
      "0it [00:02, ?it/s]\n"
     ]
    },
    {
     "name": "stdout",
     "output_type": "stream",
     "text": [
      "Epoch [45/100], Step [1/15], Loss: 4.3953\n",
      "loss_values : 0.0000\n"
     ]
    },
    {
     "name": "stderr",
     "output_type": "stream",
     "text": [
      "4it [00:06,  1.64s/it]\n"
     ]
    },
    {
     "name": "stdout",
     "output_type": "stream",
     "text": [
      "MSE (test) : 3.7834630012512207\n"
     ]
    },
    {
     "name": "stderr",
     "output_type": "stream",
     "text": [
      "0it [00:02, ?it/s]\n"
     ]
    },
    {
     "name": "stdout",
     "output_type": "stream",
     "text": [
      "Epoch [46/100], Step [1/15], Loss: 4.3187\n",
      "loss_values : 0.0000\n"
     ]
    },
    {
     "name": "stderr",
     "output_type": "stream",
     "text": [
      "4it [00:06,  1.56s/it]\n"
     ]
    },
    {
     "name": "stdout",
     "output_type": "stream",
     "text": [
      "MSE (test) : 3.701432704925537\n"
     ]
    },
    {
     "name": "stderr",
     "output_type": "stream",
     "text": [
      "0it [00:02, ?it/s]\n"
     ]
    },
    {
     "name": "stdout",
     "output_type": "stream",
     "text": [
      "Epoch [47/100], Step [1/15], Loss: 4.3195\n",
      "loss_values : 0.0000\n"
     ]
    },
    {
     "name": "stderr",
     "output_type": "stream",
     "text": [
      "4it [00:06,  1.64s/it]\n"
     ]
    },
    {
     "name": "stdout",
     "output_type": "stream",
     "text": [
      "MSE (test) : 3.6188437938690186\n"
     ]
    },
    {
     "name": "stderr",
     "output_type": "stream",
     "text": [
      "0it [00:02, ?it/s]\n"
     ]
    },
    {
     "name": "stdout",
     "output_type": "stream",
     "text": [
      "Epoch [48/100], Step [1/15], Loss: 4.0795\n",
      "loss_values : 0.0000\n"
     ]
    },
    {
     "name": "stderr",
     "output_type": "stream",
     "text": [
      "4it [00:06,  1.63s/it]\n"
     ]
    },
    {
     "name": "stdout",
     "output_type": "stream",
     "text": [
      "MSE (test) : 3.540966749191284\n"
     ]
    },
    {
     "name": "stderr",
     "output_type": "stream",
     "text": [
      "0it [00:02, ?it/s]\n"
     ]
    },
    {
     "name": "stdout",
     "output_type": "stream",
     "text": [
      "Epoch [49/100], Step [1/15], Loss: 4.0472\n",
      "loss_values : 0.0000\n"
     ]
    },
    {
     "name": "stderr",
     "output_type": "stream",
     "text": [
      "4it [00:06,  1.66s/it]\n"
     ]
    },
    {
     "name": "stdout",
     "output_type": "stream",
     "text": [
      "MSE (test) : 3.47420597076416\n"
     ]
    },
    {
     "name": "stderr",
     "output_type": "stream",
     "text": [
      "0it [00:01, ?it/s]\n"
     ]
    },
    {
     "name": "stdout",
     "output_type": "stream",
     "text": [
      "Epoch [50/100], Step [1/15], Loss: 3.9964\n",
      "loss_values : 0.0000\n"
     ]
    },
    {
     "name": "stderr",
     "output_type": "stream",
     "text": [
      "4it [00:06,  1.66s/it]\n"
     ]
    },
    {
     "name": "stdout",
     "output_type": "stream",
     "text": [
      "MSE (test) : 3.4060041904449463\n"
     ]
    },
    {
     "name": "stderr",
     "output_type": "stream",
     "text": [
      "0it [00:02, ?it/s]\n"
     ]
    },
    {
     "name": "stdout",
     "output_type": "stream",
     "text": [
      "Epoch [51/100], Step [1/15], Loss: 3.9124\n",
      "loss_values : 0.0000\n"
     ]
    },
    {
     "name": "stderr",
     "output_type": "stream",
     "text": [
      "4it [00:06,  1.64s/it]\n"
     ]
    },
    {
     "name": "stdout",
     "output_type": "stream",
     "text": [
      "MSE (test) : 3.349104642868042\n"
     ]
    },
    {
     "name": "stderr",
     "output_type": "stream",
     "text": [
      "0it [00:02, ?it/s]\n"
     ]
    },
    {
     "name": "stdout",
     "output_type": "stream",
     "text": [
      "Epoch [52/100], Step [1/15], Loss: 3.8366\n",
      "loss_values : 0.0000\n"
     ]
    },
    {
     "name": "stderr",
     "output_type": "stream",
     "text": [
      "4it [00:06,  1.63s/it]\n"
     ]
    },
    {
     "name": "stdout",
     "output_type": "stream",
     "text": [
      "MSE (test) : 3.301481246948242\n"
     ]
    },
    {
     "name": "stderr",
     "output_type": "stream",
     "text": [
      "0it [00:02, ?it/s]\n"
     ]
    },
    {
     "name": "stdout",
     "output_type": "stream",
     "text": [
      "Epoch [53/100], Step [1/15], Loss: 3.8145\n",
      "loss_values : 0.0000\n"
     ]
    },
    {
     "name": "stderr",
     "output_type": "stream",
     "text": [
      "4it [00:06,  1.67s/it]\n"
     ]
    },
    {
     "name": "stdout",
     "output_type": "stream",
     "text": [
      "MSE (test) : 3.2371246814727783\n"
     ]
    },
    {
     "name": "stderr",
     "output_type": "stream",
     "text": [
      "0it [00:02, ?it/s]\n"
     ]
    },
    {
     "name": "stdout",
     "output_type": "stream",
     "text": [
      "Epoch [54/100], Step [1/15], Loss: 3.7205\n",
      "loss_values : 0.0000\n"
     ]
    },
    {
     "name": "stderr",
     "output_type": "stream",
     "text": [
      "4it [00:06,  1.66s/it]\n"
     ]
    },
    {
     "name": "stdout",
     "output_type": "stream",
     "text": [
      "MSE (test) : 3.195463180541992\n"
     ]
    },
    {
     "name": "stderr",
     "output_type": "stream",
     "text": [
      "0it [00:02, ?it/s]\n"
     ]
    },
    {
     "name": "stdout",
     "output_type": "stream",
     "text": [
      "Epoch [55/100], Step [1/15], Loss: 3.6679\n",
      "loss_values : 0.0000\n"
     ]
    },
    {
     "name": "stderr",
     "output_type": "stream",
     "text": [
      "4it [00:06,  1.72s/it]\n"
     ]
    },
    {
     "name": "stdout",
     "output_type": "stream",
     "text": [
      "MSE (test) : 3.140302896499634\n"
     ]
    },
    {
     "name": "stderr",
     "output_type": "stream",
     "text": [
      "0it [00:02, ?it/s]\n"
     ]
    },
    {
     "name": "stdout",
     "output_type": "stream",
     "text": [
      "Epoch [56/100], Step [1/15], Loss: 3.5178\n",
      "loss_values : 0.0000\n"
     ]
    },
    {
     "name": "stderr",
     "output_type": "stream",
     "text": [
      "4it [00:06,  1.70s/it]\n"
     ]
    },
    {
     "name": "stdout",
     "output_type": "stream",
     "text": [
      "MSE (test) : 3.0822601318359375\n"
     ]
    },
    {
     "name": "stderr",
     "output_type": "stream",
     "text": [
      "0it [00:02, ?it/s]\n"
     ]
    },
    {
     "name": "stdout",
     "output_type": "stream",
     "text": [
      "Epoch [57/100], Step [1/15], Loss: 3.5591\n",
      "loss_values : 0.0000\n"
     ]
    },
    {
     "name": "stderr",
     "output_type": "stream",
     "text": [
      "4it [00:06,  1.70s/it]\n"
     ]
    },
    {
     "name": "stdout",
     "output_type": "stream",
     "text": [
      "MSE (test) : 3.0423836708068848\n"
     ]
    },
    {
     "name": "stderr",
     "output_type": "stream",
     "text": [
      "0it [00:01, ?it/s]\n"
     ]
    },
    {
     "name": "stdout",
     "output_type": "stream",
     "text": [
      "Epoch [58/100], Step [1/15], Loss: 3.4558\n",
      "loss_values : 0.0000\n"
     ]
    },
    {
     "name": "stderr",
     "output_type": "stream",
     "text": [
      "4it [00:05,  1.43s/it]\n"
     ]
    },
    {
     "name": "stdout",
     "output_type": "stream",
     "text": [
      "MSE (test) : 2.9984705448150635\n"
     ]
    },
    {
     "name": "stderr",
     "output_type": "stream",
     "text": [
      "0it [00:02, ?it/s]\n"
     ]
    },
    {
     "name": "stdout",
     "output_type": "stream",
     "text": [
      "Epoch [59/100], Step [1/15], Loss: 3.4618\n",
      "loss_values : 0.0000\n"
     ]
    },
    {
     "name": "stderr",
     "output_type": "stream",
     "text": [
      "4it [00:06,  1.60s/it]\n"
     ]
    },
    {
     "name": "stdout",
     "output_type": "stream",
     "text": [
      "MSE (test) : 2.957153081893921\n"
     ]
    },
    {
     "name": "stderr",
     "output_type": "stream",
     "text": [
      "0it [00:02, ?it/s]\n"
     ]
    },
    {
     "name": "stdout",
     "output_type": "stream",
     "text": [
      "Epoch [60/100], Step [1/15], Loss: 3.3471\n",
      "loss_values : 0.0000\n"
     ]
    },
    {
     "name": "stderr",
     "output_type": "stream",
     "text": [
      "4it [00:07,  1.77s/it]\n"
     ]
    },
    {
     "name": "stdout",
     "output_type": "stream",
     "text": [
      "MSE (test) : 2.930602550506592\n"
     ]
    },
    {
     "name": "stderr",
     "output_type": "stream",
     "text": [
      "0it [00:01, ?it/s]\n"
     ]
    },
    {
     "name": "stdout",
     "output_type": "stream",
     "text": [
      "Epoch [61/100], Step [1/15], Loss: 3.3690\n",
      "loss_values : 0.0000\n"
     ]
    },
    {
     "name": "stderr",
     "output_type": "stream",
     "text": [
      "4it [00:05,  1.31s/it]\n"
     ]
    },
    {
     "name": "stdout",
     "output_type": "stream",
     "text": [
      "MSE (test) : 2.915790319442749\n"
     ]
    },
    {
     "name": "stderr",
     "output_type": "stream",
     "text": [
      "0it [00:02, ?it/s]\n"
     ]
    },
    {
     "name": "stdout",
     "output_type": "stream",
     "text": [
      "Epoch [62/100], Step [1/15], Loss: 3.3116\n",
      "loss_values : 0.0000\n"
     ]
    },
    {
     "name": "stderr",
     "output_type": "stream",
     "text": [
      "4it [00:07,  1.78s/it]\n"
     ]
    },
    {
     "name": "stdout",
     "output_type": "stream",
     "text": [
      "MSE (test) : 2.8834946155548096\n"
     ]
    },
    {
     "name": "stderr",
     "output_type": "stream",
     "text": [
      "0it [00:02, ?it/s]\n"
     ]
    },
    {
     "name": "stdout",
     "output_type": "stream",
     "text": [
      "Epoch [63/100], Step [1/15], Loss: 3.2745\n",
      "loss_values : 0.0000\n"
     ]
    },
    {
     "name": "stderr",
     "output_type": "stream",
     "text": [
      "4it [00:07,  1.83s/it]\n"
     ]
    },
    {
     "name": "stdout",
     "output_type": "stream",
     "text": [
      "MSE (test) : 2.851811408996582\n"
     ]
    },
    {
     "name": "stderr",
     "output_type": "stream",
     "text": [
      "0it [00:02, ?it/s]\n"
     ]
    },
    {
     "name": "stdout",
     "output_type": "stream",
     "text": [
      "Epoch [64/100], Step [1/15], Loss: 3.2773\n",
      "loss_values : 0.0000\n"
     ]
    },
    {
     "name": "stderr",
     "output_type": "stream",
     "text": [
      "4it [00:06,  1.73s/it]\n"
     ]
    },
    {
     "name": "stdout",
     "output_type": "stream",
     "text": [
      "MSE (test) : 2.838104248046875\n"
     ]
    },
    {
     "name": "stderr",
     "output_type": "stream",
     "text": [
      "0it [00:02, ?it/s]\n"
     ]
    },
    {
     "name": "stdout",
     "output_type": "stream",
     "text": [
      "Epoch [65/100], Step [1/15], Loss: 3.2689\n",
      "loss_values : 0.0000\n"
     ]
    },
    {
     "name": "stderr",
     "output_type": "stream",
     "text": [
      "4it [00:07,  1.78s/it]\n"
     ]
    },
    {
     "name": "stdout",
     "output_type": "stream",
     "text": [
      "MSE (test) : 2.8177390098571777\n"
     ]
    },
    {
     "name": "stderr",
     "output_type": "stream",
     "text": [
      "0it [00:02, ?it/s]\n"
     ]
    },
    {
     "name": "stdout",
     "output_type": "stream",
     "text": [
      "Epoch [66/100], Step [1/15], Loss: 3.3036\n",
      "loss_values : 0.0000\n"
     ]
    },
    {
     "name": "stderr",
     "output_type": "stream",
     "text": [
      "4it [00:06,  1.71s/it]\n"
     ]
    },
    {
     "name": "stdout",
     "output_type": "stream",
     "text": [
      "MSE (test) : 2.7955684661865234\n"
     ]
    },
    {
     "name": "stderr",
     "output_type": "stream",
     "text": [
      "0it [00:02, ?it/s]\n"
     ]
    },
    {
     "name": "stdout",
     "output_type": "stream",
     "text": [
      "Epoch [67/100], Step [1/15], Loss: 3.1239\n",
      "loss_values : 0.0000\n"
     ]
    },
    {
     "name": "stderr",
     "output_type": "stream",
     "text": [
      "4it [00:07,  1.76s/it]\n"
     ]
    },
    {
     "name": "stdout",
     "output_type": "stream",
     "text": [
      "MSE (test) : 2.808692693710327\n"
     ]
    },
    {
     "name": "stderr",
     "output_type": "stream",
     "text": [
      "0it [00:02, ?it/s]\n"
     ]
    },
    {
     "name": "stdout",
     "output_type": "stream",
     "text": [
      "Epoch [68/100], Step [1/15], Loss: 3.1973\n",
      "loss_values : 0.0000\n"
     ]
    },
    {
     "name": "stderr",
     "output_type": "stream",
     "text": [
      "4it [00:06,  1.70s/it]\n"
     ]
    },
    {
     "name": "stdout",
     "output_type": "stream",
     "text": [
      "MSE (test) : 2.805360794067383\n"
     ]
    },
    {
     "name": "stderr",
     "output_type": "stream",
     "text": [
      "0it [00:02, ?it/s]\n"
     ]
    },
    {
     "name": "stdout",
     "output_type": "stream",
     "text": [
      "Epoch [69/100], Step [1/15], Loss: 3.1607\n",
      "loss_values : 0.0000\n"
     ]
    },
    {
     "name": "stderr",
     "output_type": "stream",
     "text": [
      "4it [00:06,  1.73s/it]\n"
     ]
    },
    {
     "name": "stdout",
     "output_type": "stream",
     "text": [
      "MSE (test) : 2.7578585147857666\n"
     ]
    },
    {
     "name": "stderr",
     "output_type": "stream",
     "text": [
      "0it [00:02, ?it/s]\n"
     ]
    },
    {
     "name": "stdout",
     "output_type": "stream",
     "text": [
      "Epoch [70/100], Step [1/15], Loss: 3.1612\n",
      "loss_values : 0.0000\n"
     ]
    },
    {
     "name": "stderr",
     "output_type": "stream",
     "text": [
      "4it [00:06,  1.72s/it]\n"
     ]
    },
    {
     "name": "stdout",
     "output_type": "stream",
     "text": [
      "MSE (test) : 2.755955934524536\n"
     ]
    },
    {
     "name": "stderr",
     "output_type": "stream",
     "text": [
      "0it [00:02, ?it/s]\n"
     ]
    },
    {
     "name": "stdout",
     "output_type": "stream",
     "text": [
      "Epoch [71/100], Step [1/15], Loss: 3.1463\n",
      "loss_values : 0.0000\n"
     ]
    },
    {
     "name": "stderr",
     "output_type": "stream",
     "text": [
      "4it [00:06,  1.61s/it]\n"
     ]
    },
    {
     "name": "stdout",
     "output_type": "stream",
     "text": [
      "MSE (test) : 2.750559091567993\n"
     ]
    },
    {
     "name": "stderr",
     "output_type": "stream",
     "text": [
      "0it [00:02, ?it/s]\n"
     ]
    },
    {
     "name": "stdout",
     "output_type": "stream",
     "text": [
      "Epoch [72/100], Step [1/15], Loss: 3.0835\n",
      "loss_values : 0.0000\n"
     ]
    },
    {
     "name": "stderr",
     "output_type": "stream",
     "text": [
      "4it [00:06,  1.67s/it]\n"
     ]
    },
    {
     "name": "stdout",
     "output_type": "stream",
     "text": [
      "MSE (test) : 2.7311344146728516\n"
     ]
    },
    {
     "name": "stderr",
     "output_type": "stream",
     "text": [
      "0it [00:02, ?it/s]\n"
     ]
    },
    {
     "name": "stdout",
     "output_type": "stream",
     "text": [
      "Epoch [73/100], Step [1/15], Loss: 3.0825\n",
      "loss_values : 0.0000\n"
     ]
    },
    {
     "name": "stderr",
     "output_type": "stream",
     "text": [
      "4it [00:06,  1.67s/it]\n"
     ]
    },
    {
     "name": "stdout",
     "output_type": "stream",
     "text": [
      "MSE (test) : 2.7383549213409424\n"
     ]
    },
    {
     "name": "stderr",
     "output_type": "stream",
     "text": [
      "0it [00:02, ?it/s]\n"
     ]
    },
    {
     "name": "stdout",
     "output_type": "stream",
     "text": [
      "Epoch [74/100], Step [1/15], Loss: 3.0020\n",
      "loss_values : 0.0000\n"
     ]
    },
    {
     "name": "stderr",
     "output_type": "stream",
     "text": [
      "4it [00:06,  1.58s/it]\n"
     ]
    },
    {
     "name": "stdout",
     "output_type": "stream",
     "text": [
      "MSE (test) : 2.7473299503326416\n"
     ]
    },
    {
     "name": "stderr",
     "output_type": "stream",
     "text": [
      "0it [00:02, ?it/s]\n"
     ]
    },
    {
     "name": "stdout",
     "output_type": "stream",
     "text": [
      "Epoch [75/100], Step [1/15], Loss: 3.1131\n",
      "loss_values : 0.0000\n"
     ]
    },
    {
     "name": "stderr",
     "output_type": "stream",
     "text": [
      "4it [00:06,  1.66s/it]\n"
     ]
    },
    {
     "name": "stdout",
     "output_type": "stream",
     "text": [
      "MSE (test) : 2.726357936859131\n"
     ]
    },
    {
     "name": "stderr",
     "output_type": "stream",
     "text": [
      "0it [00:02, ?it/s]\n"
     ]
    },
    {
     "name": "stdout",
     "output_type": "stream",
     "text": [
      "Epoch [76/100], Step [1/15], Loss: 3.1281\n",
      "loss_values : 0.0000\n"
     ]
    },
    {
     "name": "stderr",
     "output_type": "stream",
     "text": [
      "4it [00:06,  1.68s/it]\n"
     ]
    },
    {
     "name": "stdout",
     "output_type": "stream",
     "text": [
      "MSE (test) : 2.7066781520843506\n"
     ]
    },
    {
     "name": "stderr",
     "output_type": "stream",
     "text": [
      "0it [00:02, ?it/s]\n"
     ]
    },
    {
     "name": "stdout",
     "output_type": "stream",
     "text": [
      "Epoch [77/100], Step [1/15], Loss: 3.0907\n",
      "loss_values : 0.0000\n"
     ]
    },
    {
     "name": "stderr",
     "output_type": "stream",
     "text": [
      "4it [00:06,  1.70s/it]\n"
     ]
    },
    {
     "name": "stdout",
     "output_type": "stream",
     "text": [
      "MSE (test) : 2.7414770126342773\n"
     ]
    },
    {
     "name": "stderr",
     "output_type": "stream",
     "text": [
      "0it [00:02, ?it/s]\n"
     ]
    },
    {
     "name": "stdout",
     "output_type": "stream",
     "text": [
      "Epoch [78/100], Step [1/15], Loss: 3.1268\n",
      "loss_values : 0.0000\n"
     ]
    },
    {
     "name": "stderr",
     "output_type": "stream",
     "text": [
      "4it [00:06,  1.67s/it]\n"
     ]
    },
    {
     "name": "stdout",
     "output_type": "stream",
     "text": [
      "MSE (test) : 2.7198293209075928\n"
     ]
    },
    {
     "name": "stderr",
     "output_type": "stream",
     "text": [
      "0it [00:02, ?it/s]\n"
     ]
    },
    {
     "name": "stdout",
     "output_type": "stream",
     "text": [
      "Epoch [79/100], Step [1/15], Loss: 3.1311\n",
      "loss_values : 0.0000\n"
     ]
    },
    {
     "name": "stderr",
     "output_type": "stream",
     "text": [
      "4it [00:06,  1.62s/it]\n"
     ]
    },
    {
     "name": "stdout",
     "output_type": "stream",
     "text": [
      "MSE (test) : 2.6926140785217285\n"
     ]
    },
    {
     "name": "stderr",
     "output_type": "stream",
     "text": [
      "0it [00:02, ?it/s]\n"
     ]
    },
    {
     "name": "stdout",
     "output_type": "stream",
     "text": [
      "Epoch [80/100], Step [1/15], Loss: 3.0604\n",
      "loss_values : 0.0000\n"
     ]
    },
    {
     "name": "stderr",
     "output_type": "stream",
     "text": [
      "4it [00:06,  1.70s/it]\n"
     ]
    },
    {
     "name": "stdout",
     "output_type": "stream",
     "text": [
      "MSE (test) : 2.7159667015075684\n"
     ]
    },
    {
     "name": "stderr",
     "output_type": "stream",
     "text": [
      "0it [00:02, ?it/s]\n"
     ]
    },
    {
     "name": "stdout",
     "output_type": "stream",
     "text": [
      "Epoch [81/100], Step [1/15], Loss: 3.0746\n",
      "loss_values : 0.0000\n"
     ]
    },
    {
     "name": "stderr",
     "output_type": "stream",
     "text": [
      "4it [00:06,  1.72s/it]\n"
     ]
    },
    {
     "name": "stdout",
     "output_type": "stream",
     "text": [
      "MSE (test) : 2.7131216526031494\n"
     ]
    },
    {
     "name": "stderr",
     "output_type": "stream",
     "text": [
      "0it [00:01, ?it/s]\n"
     ]
    },
    {
     "name": "stdout",
     "output_type": "stream",
     "text": [
      "Epoch [82/100], Step [1/15], Loss: 3.0921\n",
      "loss_values : 0.0000\n"
     ]
    },
    {
     "name": "stderr",
     "output_type": "stream",
     "text": [
      "4it [00:06,  1.60s/it]\n"
     ]
    },
    {
     "name": "stdout",
     "output_type": "stream",
     "text": [
      "MSE (test) : 2.684304714202881\n"
     ]
    },
    {
     "name": "stderr",
     "output_type": "stream",
     "text": [
      "0it [00:02, ?it/s]\n"
     ]
    },
    {
     "name": "stdout",
     "output_type": "stream",
     "text": [
      "Epoch [83/100], Step [1/15], Loss: 3.0571\n",
      "loss_values : 0.0000\n"
     ]
    },
    {
     "name": "stderr",
     "output_type": "stream",
     "text": [
      "4it [00:06,  1.68s/it]\n"
     ]
    },
    {
     "name": "stdout",
     "output_type": "stream",
     "text": [
      "MSE (test) : 2.710265636444092\n"
     ]
    },
    {
     "name": "stderr",
     "output_type": "stream",
     "text": [
      "0it [00:02, ?it/s]\n"
     ]
    },
    {
     "name": "stdout",
     "output_type": "stream",
     "text": [
      "Epoch [84/100], Step [1/15], Loss: 3.0165\n",
      "loss_values : 0.0000\n"
     ]
    },
    {
     "name": "stderr",
     "output_type": "stream",
     "text": [
      "4it [00:06,  1.65s/it]\n"
     ]
    },
    {
     "name": "stdout",
     "output_type": "stream",
     "text": [
      "MSE (test) : 2.6910617351531982\n"
     ]
    },
    {
     "name": "stderr",
     "output_type": "stream",
     "text": [
      "0it [00:02, ?it/s]\n"
     ]
    },
    {
     "name": "stdout",
     "output_type": "stream",
     "text": [
      "Epoch [85/100], Step [1/15], Loss: 3.0767\n",
      "loss_values : 0.0000\n"
     ]
    },
    {
     "name": "stderr",
     "output_type": "stream",
     "text": [
      "4it [00:06,  1.61s/it]\n"
     ]
    },
    {
     "name": "stdout",
     "output_type": "stream",
     "text": [
      "MSE (test) : 2.6804192066192627\n"
     ]
    },
    {
     "name": "stderr",
     "output_type": "stream",
     "text": [
      "0it [00:02, ?it/s]\n"
     ]
    },
    {
     "name": "stdout",
     "output_type": "stream",
     "text": [
      "Epoch [86/100], Step [1/15], Loss: 3.0902\n",
      "loss_values : 0.0000\n"
     ]
    },
    {
     "name": "stderr",
     "output_type": "stream",
     "text": [
      "4it [00:06,  1.71s/it]\n"
     ]
    },
    {
     "name": "stdout",
     "output_type": "stream",
     "text": [
      "MSE (test) : 2.7016727924346924\n"
     ]
    },
    {
     "name": "stderr",
     "output_type": "stream",
     "text": [
      "0it [00:01, ?it/s]\n"
     ]
    },
    {
     "name": "stdout",
     "output_type": "stream",
     "text": [
      "Epoch [87/100], Step [1/15], Loss: 3.0926\n",
      "loss_values : 0.0000\n"
     ]
    },
    {
     "name": "stderr",
     "output_type": "stream",
     "text": [
      "4it [00:06,  1.54s/it]\n"
     ]
    },
    {
     "name": "stdout",
     "output_type": "stream",
     "text": [
      "MSE (test) : 2.678372383117676\n"
     ]
    },
    {
     "name": "stderr",
     "output_type": "stream",
     "text": [
      "0it [00:01, ?it/s]\n"
     ]
    },
    {
     "name": "stdout",
     "output_type": "stream",
     "text": [
      "Epoch [88/100], Step [1/15], Loss: 3.1210\n",
      "loss_values : 0.0000\n"
     ]
    },
    {
     "name": "stderr",
     "output_type": "stream",
     "text": [
      "4it [00:06,  1.74s/it]\n"
     ]
    },
    {
     "name": "stdout",
     "output_type": "stream",
     "text": [
      "MSE (test) : 2.684239387512207\n"
     ]
    },
    {
     "name": "stderr",
     "output_type": "stream",
     "text": [
      "0it [00:02, ?it/s]\n"
     ]
    },
    {
     "name": "stdout",
     "output_type": "stream",
     "text": [
      "Epoch [89/100], Step [1/15], Loss: 3.0947\n",
      "loss_values : 0.0000\n"
     ]
    },
    {
     "name": "stderr",
     "output_type": "stream",
     "text": [
      "4it [00:06,  1.74s/it]\n"
     ]
    },
    {
     "name": "stdout",
     "output_type": "stream",
     "text": [
      "MSE (test) : 2.6911659240722656\n"
     ]
    },
    {
     "name": "stderr",
     "output_type": "stream",
     "text": [
      "0it [00:02, ?it/s]\n"
     ]
    },
    {
     "name": "stdout",
     "output_type": "stream",
     "text": [
      "Epoch [90/100], Step [1/15], Loss: 3.0371\n",
      "loss_values : 0.0000\n"
     ]
    },
    {
     "name": "stderr",
     "output_type": "stream",
     "text": [
      "4it [00:06,  1.64s/it]\n"
     ]
    },
    {
     "name": "stdout",
     "output_type": "stream",
     "text": [
      "MSE (test) : 2.668069839477539\n"
     ]
    },
    {
     "name": "stderr",
     "output_type": "stream",
     "text": [
      "0it [00:01, ?it/s]\n"
     ]
    },
    {
     "name": "stdout",
     "output_type": "stream",
     "text": [
      "Epoch [91/100], Step [1/15], Loss: 3.1241\n",
      "loss_values : 0.0000\n"
     ]
    },
    {
     "name": "stderr",
     "output_type": "stream",
     "text": [
      "4it [00:06,  1.70s/it]\n"
     ]
    },
    {
     "name": "stdout",
     "output_type": "stream",
     "text": [
      "MSE (test) : 2.684959650039673\n"
     ]
    },
    {
     "name": "stderr",
     "output_type": "stream",
     "text": [
      "0it [00:02, ?it/s]\n"
     ]
    },
    {
     "name": "stdout",
     "output_type": "stream",
     "text": [
      "Epoch [92/100], Step [1/15], Loss: 3.0407\n",
      "loss_values : 0.0000\n"
     ]
    },
    {
     "name": "stderr",
     "output_type": "stream",
     "text": [
      "4it [00:06,  1.62s/it]\n"
     ]
    },
    {
     "name": "stdout",
     "output_type": "stream",
     "text": [
      "MSE (test) : 2.683690309524536\n"
     ]
    },
    {
     "name": "stderr",
     "output_type": "stream",
     "text": [
      "0it [00:02, ?it/s]\n"
     ]
    },
    {
     "name": "stdout",
     "output_type": "stream",
     "text": [
      "Epoch [93/100], Step [1/15], Loss: 3.0681\n",
      "loss_values : 0.0000\n"
     ]
    },
    {
     "name": "stderr",
     "output_type": "stream",
     "text": [
      "4it [00:06,  1.64s/it]\n"
     ]
    },
    {
     "name": "stdout",
     "output_type": "stream",
     "text": [
      "MSE (test) : 2.6649248600006104\n"
     ]
    },
    {
     "name": "stderr",
     "output_type": "stream",
     "text": [
      "0it [00:02, ?it/s]\n"
     ]
    },
    {
     "name": "stdout",
     "output_type": "stream",
     "text": [
      "Epoch [94/100], Step [1/15], Loss: 3.0432\n",
      "loss_values : 0.0000\n"
     ]
    },
    {
     "name": "stderr",
     "output_type": "stream",
     "text": [
      "4it [00:06,  1.73s/it]\n"
     ]
    },
    {
     "name": "stdout",
     "output_type": "stream",
     "text": [
      "MSE (test) : 2.683751344680786\n"
     ]
    },
    {
     "name": "stderr",
     "output_type": "stream",
     "text": [
      "0it [00:02, ?it/s]\n"
     ]
    },
    {
     "name": "stdout",
     "output_type": "stream",
     "text": [
      "Epoch [95/100], Step [1/15], Loss: 3.0770\n",
      "loss_values : 0.0000\n"
     ]
    },
    {
     "name": "stderr",
     "output_type": "stream",
     "text": [
      "4it [00:06,  1.74s/it]\n"
     ]
    },
    {
     "name": "stdout",
     "output_type": "stream",
     "text": [
      "MSE (test) : 2.6682164669036865\n"
     ]
    },
    {
     "name": "stderr",
     "output_type": "stream",
     "text": [
      "0it [00:02, ?it/s]\n"
     ]
    },
    {
     "name": "stdout",
     "output_type": "stream",
     "text": [
      "Epoch [96/100], Step [1/15], Loss: 3.0244\n",
      "loss_values : 0.0000\n"
     ]
    },
    {
     "name": "stderr",
     "output_type": "stream",
     "text": [
      "4it [00:06,  1.60s/it]\n"
     ]
    },
    {
     "name": "stdout",
     "output_type": "stream",
     "text": [
      "MSE (test) : 2.6689295768737793\n"
     ]
    },
    {
     "name": "stderr",
     "output_type": "stream",
     "text": [
      "0it [00:02, ?it/s]\n"
     ]
    },
    {
     "name": "stdout",
     "output_type": "stream",
     "text": [
      "Epoch [97/100], Step [1/15], Loss: 3.0365\n",
      "loss_values : 0.0000\n"
     ]
    },
    {
     "name": "stderr",
     "output_type": "stream",
     "text": [
      "4it [00:06,  1.74s/it]\n"
     ]
    },
    {
     "name": "stdout",
     "output_type": "stream",
     "text": [
      "MSE (test) : 2.6761691570281982\n"
     ]
    },
    {
     "name": "stderr",
     "output_type": "stream",
     "text": [
      "0it [00:02, ?it/s]\n"
     ]
    },
    {
     "name": "stdout",
     "output_type": "stream",
     "text": [
      "Epoch [98/100], Step [1/15], Loss: 3.0138\n",
      "loss_values : 0.0000\n"
     ]
    },
    {
     "name": "stderr",
     "output_type": "stream",
     "text": [
      "4it [00:06,  1.70s/it]\n"
     ]
    },
    {
     "name": "stdout",
     "output_type": "stream",
     "text": [
      "MSE (test) : 2.6617043018341064\n"
     ]
    },
    {
     "name": "stderr",
     "output_type": "stream",
     "text": [
      "0it [00:02, ?it/s]\n"
     ]
    },
    {
     "name": "stdout",
     "output_type": "stream",
     "text": [
      "Epoch [99/100], Step [1/15], Loss: 3.0296\n",
      "loss_values : 0.0000\n"
     ]
    },
    {
     "name": "stderr",
     "output_type": "stream",
     "text": [
      "4it [00:06,  1.68s/it]\n"
     ]
    },
    {
     "name": "stdout",
     "output_type": "stream",
     "text": [
      "MSE (test) : 2.6670877933502197\n"
     ]
    },
    {
     "name": "stderr",
     "output_type": "stream",
     "text": [
      "0it [00:02, ?it/s]\n"
     ]
    },
    {
     "name": "stdout",
     "output_type": "stream",
     "text": [
      "Epoch [100/100], Step [1/15], Loss: 3.0480\n",
      "loss_values : 0.0000\n"
     ]
    },
    {
     "name": "stderr",
     "output_type": "stream",
     "text": [
      "4it [00:06,  1.71s/it]\n"
     ]
    },
    {
     "name": "stdout",
     "output_type": "stream",
     "text": [
      "MSE (test) : 2.6755943298339844\n"
     ]
    }
   ],
   "source": [
    "%load_ext autoreload\n",
    "%autoreload 24\n",
    "from v1_NormalNN import Model\n",
    "\n",
    "#learning_rate = 0.01\n",
    "\n",
    "n_out = np.floor((908-10)/1) + 1\n",
    "model = Model().to(device)\n",
    "\n",
    "loss_func = nn.MSELoss() # = criterion\n",
    "optimizer = torch.optim.Adam(params=model.parameters(), lr=learning_rate)\n",
    "\n",
    "model, loss_values, loss_values_test = train_model(\n",
    "    model      = model,\n",
    "    criterion  = loss_func,\n",
    "    optimizer  = optimizer,\n",
    "    num_epochs = num_epochs\n",
    ")"
   ]
  },
  {
   "cell_type": "code",
   "execution_count": 560,
   "metadata": {},
   "outputs": [
    {
     "data": {
      "image/png": "[encoded data removed]",
      "text/plain": [
       "<Figure size 432x288 with 1 Axes>"
      ]
     },
     "metadata": {},
     "output_type": "display_data"
    }
   ],
   "source": [
    "plt.plot(loss_values, linestyle='-', label='Train', color='C0');\n",
    "plt.xlim(0, 100, 1);\n",
    "plt.xlabel(\"Epochs\");\n",
    "plt.ylabel(\"MSE\");\n",
    "plt.title(f\"TRAIN v1_NormalNN Loss/MSE when having\\nepochs: {num_epochs}\\nlr: {learning_rate}\\nbatch_size: {batch_size}\");\n",
    "plt.legend();"
   ]
  },
  {
   "cell_type": "code",
   "execution_count": 559,
   "metadata": {},
   "outputs": [
    {
     "data": {
      "image/png": "[encoded data removed]",
      "text/plain": [
       "<Figure size 432x288 with 1 Axes>"
      ]
     },
     "metadata": {},
     "output_type": "display_data"
    }
   ],
   "source": [
    "plt.plot(loss_values_test, linestyle='-', label='Test', color='C1');\n",
    "plt.xlim(0, 100, 1);\n",
    "plt.xlabel(\"Epochs\");\n",
    "plt.ylabel(\"MSE\");\n",
    "plt.title(f\"TEST v1_NormalNN Loss/MSE when having\\nepochs: {num_epochs}\\nlr: {learning_rate}\\nbatch_size: {batch_size}\");\n",
    "plt.legend();"
   ]
  },
  {
   "cell_type": "code",
   "execution_count": 557,
   "metadata": {},
   "outputs": [
    {
     "name": "stdout",
     "output_type": "stream",
     "text": [
      "\n",
      "TRAIN\n",
      "    min  : 0.00000809\n",
      "    mean : 0.00001327\n",
      "    max  : 0.00003377\n",
      "TEST\n",
      "    min  : 2.66170430\n",
      "    mean : 4.24001741\n",
      "    max  : 10.83005047\n",
      "\n"
     ]
    }
   ],
   "source": [
    "print(f\"\"\"\n",
    "TRAIN\n",
    "    min  : {np.min(loss_values):2.8f}\n",
    "    mean : {np.mean(loss_values):2.8f}\n",
    "    max  : {np.max(loss_values):2.8f}\n",
    "TEST\n",
    "    min  : {np.min(loss_values_test):2.8f}\n",
    "    mean : {np.mean(loss_values_test):2.8f}\n",
    "    max  : {np.max(loss_values_test):2.8f}\n",
    "\"\"\")"
   ]
  },
  {
   "cell_type": "code",
   "execution_count": 568,
   "metadata": {},
   "outputs": [],
   "source": [
    "# Save model \n",
    "torch.save(model.state_dict(), PATH_TO_SAVE_MODELS_TO+'simpleNN.pkl')"
   ]
  },
  {
   "cell_type": "code",
   "execution_count": 572,
   "metadata": {},
   "outputs": [],
   "source": [
    "torch.save(obj={\n",
    "            'epoch': num_epochs,\n",
    "            'model_state_dict': model.state_dict(),\n",
    "            'optimizer_state_dict': optimizer.state_dict(),\n",
    "            'loss_func': loss_func,\n",
    "            'loss_values_train': loss_values,\n",
    "            'loss_values_test': loss_values_test,\n",
    "            },\n",
    "            f=PATH_TO_SAVE_MODELS_TO+'simpleNN_extensive.pkl')"
   ]
  },
  {
   "cell_type": "code",
   "execution_count": 573,
   "metadata": {},
   "outputs": [
    {
     "data": {
      "text/plain": [
       "{'epoch': 100,\n",
       " 'model_state_dict': OrderedDict([('cell_branch.0.weight',\n",
       "               tensor([[ 0.0254,  0.0275, -0.0078,  ...,  0.0115, -0.0314,  0.0030],\n",
       "                       [-0.0082, -0.0246, -0.0318,  ...,  0.0231, -0.0057,  0.0260],\n",
       "                       [-0.0058, -0.0181, -0.0198,  ...,  0.0294,  0.0285, -0.0156],\n",
       "                       ...,\n",
       "                       [-0.0120, -0.0154, -0.0158,  ...,  0.0054, -0.0155,  0.0159],\n",
       "                       [-0.0287,  0.0330,  0.0186,  ...,  0.0319, -0.0094,  0.0122],\n",
       "                       [-0.0364,  0.0239,  0.0016,  ..., -0.0126, -0.0059, -0.0121]])),\n",
       "              ('cell_branch.0.bias',\n",
       "               tensor([-6.4251e-03, -4.3917e-03,  7.8201e-03,  2.2410e-02,  1.9945e-02,\n",
       "                       -1.7462e-02, -5.7303e-03, -3.2234e-03, -2.7765e-02, -1.6945e-02,\n",
       "                        2.8574e-02,  1.9936e-02, -2.3944e-02,  1.5986e-03,  4.7320e-03,\n",
       "                       -2.8071e-02,  2.3325e-02, -5.8056e-04, -8.6648e-03, -2.8837e-02,\n",
       "                        2.8342e-03, -1.4823e-02,  7.5143e-03, -2.1161e-03,  1.5171e-02,\n",
       "                       -3.3186e-02, -2.1901e-02, -1.5355e-02,  1.0974e-03, -6.0246e-03,\n",
       "                       -3.0042e-02,  3.2410e-02,  3.1080e-03, -1.9177e-02,  2.0462e-02,\n",
       "                       -3.4935e-03,  5.3778e-03,  3.0157e-02,  9.4681e-03,  9.2738e-04,\n",
       "                       -1.7876e-02, -1.7488e-02, -5.2400e-03,  2.0699e-02, -2.2489e-02,\n",
       "                       -3.6457e-02,  2.9333e-02, -8.7942e-03,  2.0739e-02,  6.4652e-03,\n",
       "                        1.7454e-02, -1.9109e-03,  1.4440e-02,  3.8548e-02,  1.6609e-02,\n",
       "                       -1.1417e-02, -2.1943e-02, -3.0768e-02,  3.2729e-03, -1.6325e-02,\n",
       "                        1.7885e-02, -2.7998e-02, -3.7285e-02, -2.2896e-02,  1.5884e-02,\n",
       "                        2.4318e-02,  2.1892e-02,  2.4630e-02, -1.2593e-02, -6.4393e-04,\n",
       "                        2.5856e-03, -1.2900e-02,  2.9312e-02, -9.0311e-03,  4.8648e-03,\n",
       "                        7.4295e-03,  1.3104e-02,  1.4794e-02,  9.0610e-03,  1.6868e-02,\n",
       "                       -2.6563e-02,  5.7246e-03,  1.9647e-02,  1.4631e-02,  6.2519e-03,\n",
       "                        6.1514e-03,  2.1702e-02, -3.1483e-02,  2.7097e-03, -3.3110e-02,\n",
       "                       -3.3152e-02, -8.3657e-03,  9.7176e-03,  1.5435e-03,  2.9708e-02,\n",
       "                       -1.5421e-02,  8.4603e-03, -2.8348e-02,  1.2750e-02, -1.6537e-02,\n",
       "                        2.6188e-02,  2.4874e-02, -2.0885e-02, -3.1611e-02,  1.7128e-02,\n",
       "                       -2.8791e-02, -3.1604e-02,  2.6719e-03,  2.4340e-02,  1.5699e-02,\n",
       "                        2.5721e-02,  2.6329e-02,  4.5827e-03, -1.9735e-02,  2.3376e-02,\n",
       "                        4.3525e-03, -6.8326e-03, -5.0368e-04,  1.8420e-02, -9.0641e-03,\n",
       "                       -1.5227e-02,  2.5574e-02, -3.1076e-02, -2.7650e-02,  3.8436e-02,\n",
       "                       -1.2108e-02, -5.5816e-03, -2.2154e-02, -3.8396e-02, -3.2460e-02,\n",
       "                       -2.7458e-02, -6.4683e-03, -3.7524e-02, -3.5855e-02, -2.3076e-02,\n",
       "                       -1.6353e-02, -1.6345e-02,  1.1880e-02, -2.7571e-02,  3.3378e-02,\n",
       "                       -3.4750e-02, -9.3690e-03, -1.6343e-03, -1.9401e-02,  3.1953e-02,\n",
       "                       -2.8146e-02, -3.2638e-02, -1.7995e-02,  8.6674e-03, -6.4634e-03,\n",
       "                        2.8294e-02,  3.2725e-02, -2.7735e-02, -2.1904e-02,  1.3414e-02,\n",
       "                       -1.8400e-02,  4.0293e-03,  1.0455e-02,  8.5641e-03,  1.8178e-02,\n",
       "                       -5.3553e-03, -3.3886e-03,  1.5742e-02, -4.9136e-03, -2.9123e-02,\n",
       "                        5.3294e-03, -3.8312e-02, -1.6857e-02, -3.7635e-02, -2.8996e-02,\n",
       "                        3.2193e-02,  1.8884e-02, -6.3947e-05, -2.0989e-02,  1.0180e-02,\n",
       "                       -2.5675e-02,  8.3561e-03,  3.0815e-02,  1.8931e-02, -2.6424e-03,\n",
       "                        3.2272e-02, -1.7947e-02,  1.8742e-02,  1.1253e-02,  2.5696e-02,\n",
       "                        1.8957e-02,  1.1155e-03, -2.4493e-02,  1.9144e-02,  1.7132e-02,\n",
       "                       -2.3915e-02, -1.2763e-02, -1.4067e-02,  1.8228e-02,  8.4060e-03,\n",
       "                        2.1741e-02, -2.2249e-02, -2.8999e-02,  1.5825e-02,  2.1678e-02,\n",
       "                        1.3293e-02, -2.7882e-02, -3.5463e-02,  2.9737e-02,  2.1029e-02,\n",
       "                        1.3231e-02,  6.7419e-03,  1.4840e-02,  9.5785e-03, -1.4314e-02,\n",
       "                        8.4703e-04,  5.0314e-03, -2.8123e-02, -5.1825e-03,  3.3864e-02,\n",
       "                       -3.0390e-02,  1.1418e-02, -2.7366e-02,  2.0307e-03,  2.5161e-02,\n",
       "                        3.2228e-03, -8.3809e-03, -3.0889e-02, -3.2740e-02,  5.5893e-03,\n",
       "                       -4.5994e-03,  3.0208e-02,  2.7873e-03, -2.9341e-02,  3.3478e-02,\n",
       "                        5.7844e-03,  2.6763e-02,  2.0481e-02, -1.5319e-02,  3.9997e-03,\n",
       "                       -9.0729e-03, -7.1388e-03,  1.0826e-02,  2.8758e-02, -1.4151e-02,\n",
       "                        2.3785e-02, -1.4723e-02, -2.3774e-02, -2.9472e-02,  6.0686e-03,\n",
       "                        3.0596e-02, -6.6243e-03,  3.7363e-03, -1.5471e-02,  4.5983e-03,\n",
       "                       -2.2205e-02, -1.3045e-02, -2.0317e-03,  2.4729e-02, -1.7984e-02,\n",
       "                       -1.8716e-02])),\n",
       "              ('cell_branch.2.weight',\n",
       "               tensor([[-0.0127, -0.0426,  0.0517,  ..., -0.0439,  0.0141,  0.0104],\n",
       "                       [ 0.0234, -0.0329,  0.0468,  ..., -0.0418, -0.0199, -0.0058],\n",
       "                       [-0.0225, -0.0512,  0.0217,  ...,  0.0547,  0.0579, -0.0388],\n",
       "                       ...,\n",
       "                       [-0.0213, -0.0119, -0.0233,  ..., -0.0135,  0.0371,  0.0033],\n",
       "                       [ 0.0494,  0.0380, -0.0611,  ...,  0.0599,  0.0267,  0.0024],\n",
       "                       [ 0.0527, -0.0203,  0.0591,  ..., -0.0410, -0.0476, -0.0231]])),\n",
       "              ('cell_branch.2.bias',\n",
       "               tensor([ 0.0038, -0.0328, -0.0056, -0.0022,  0.0209, -0.0424, -0.0281,  0.0140,\n",
       "                        0.0472,  0.0221,  0.0599,  0.0179,  0.0215,  0.0161, -0.0572, -0.0477,\n",
       "                       -0.0268,  0.0323,  0.0312,  0.0095,  0.0113, -0.0051,  0.0307,  0.0281,\n",
       "                       -0.0324,  0.0383, -0.0086,  0.0404,  0.0269,  0.0378,  0.0130,  0.0620,\n",
       "                        0.0500, -0.0353, -0.0533,  0.0197,  0.0204,  0.0181, -0.0262,  0.0522,\n",
       "                        0.0187, -0.0145, -0.0293, -0.0196, -0.0103,  0.0093, -0.0216,  0.0254,\n",
       "                       -0.0399, -0.0396,  0.0613, -0.0306, -0.0388, -0.0249, -0.0499, -0.0305,\n",
       "                        0.0416,  0.0480, -0.0412,  0.0469,  0.0475, -0.0519, -0.0316, -0.0079,\n",
       "                       -0.0032,  0.0547, -0.0145,  0.0289,  0.0018,  0.0279,  0.0412,  0.0517,\n",
       "                        0.0119, -0.0547,  0.0642, -0.0154,  0.0054,  0.0142, -0.0290,  0.0510,\n",
       "                        0.0583,  0.0122, -0.0105, -0.0401, -0.0643,  0.0645,  0.0022, -0.0155,\n",
       "                        0.0026, -0.0190,  0.0346, -0.0243, -0.0596,  0.0524, -0.0220,  0.0121,\n",
       "                       -0.0112,  0.0250,  0.0145, -0.0066,  0.0312,  0.0485, -0.0652, -0.0035,\n",
       "                       -0.0244,  0.0478,  0.0199, -0.0218,  0.0221, -0.0663,  0.0487,  0.0018,\n",
       "                        0.0443,  0.0113,  0.0182,  0.0518, -0.0649, -0.0007,  0.0127,  0.0478,\n",
       "                        0.0285, -0.0046, -0.0217, -0.0252, -0.0063,  0.0541,  0.0581, -0.0483])),\n",
       "              ('drug_branch.0.weight',\n",
       "               tensor([[-0.0562,  0.0271,  0.0313,  ...,  0.0462,  0.0830,  0.0593],\n",
       "                       [ 0.0553, -0.0469,  0.0854,  ...,  0.0302, -0.0521, -0.0144],\n",
       "                       [ 0.0257,  0.0181, -0.0620,  ...,  0.0460, -0.0773, -0.0306],\n",
       "                       ...,\n",
       "                       [-0.0193, -0.0283, -0.1059,  ...,  0.0805, -0.1384, -0.0687],\n",
       "                       [ 0.0421, -0.0097,  0.0888,  ...,  0.0328, -0.0266,  0.0350],\n",
       "                       [ 0.0458,  0.0498, -0.0326,  ..., -0.0171,  0.0419,  0.0178]])),\n",
       "              ('drug_branch.0.bias',\n",
       "               tensor([-0.0059,  0.0416, -0.0059,  0.0390,  0.0482, -0.0025,  0.0325, -0.0483,\n",
       "                       -0.0330,  0.0637, -0.0360,  0.0259,  0.0189,  0.0159,  0.0214,  0.0555,\n",
       "                        0.0603,  0.0555, -0.0313,  0.0140,  0.0265, -0.0085, -0.0337, -0.0656,\n",
       "                       -0.0158, -0.0095,  0.0770, -0.0130,  0.0292,  0.0249, -0.0016,  0.0319,\n",
       "                        0.0059,  0.0241,  0.0427,  0.0395, -0.0238,  0.0057, -0.0165, -0.0352,\n",
       "                        0.0448,  0.0039,  0.0163,  0.0256,  0.0399, -0.0718,  0.0557, -0.0607,\n",
       "                        0.0545, -0.0128,  0.0456,  0.0689,  0.0098, -0.0498, -0.0056,  0.0628,\n",
       "                        0.0111,  0.0218, -0.0021,  0.0448,  0.0083, -0.0409, -0.0457, -0.0181,\n",
       "                       -0.0402,  0.0775,  0.0294,  0.0071,  0.0258,  0.0155, -0.0249, -0.0052,\n",
       "                        0.0688,  0.0708,  0.0479, -0.0424,  0.0012, -0.0604, -0.0128, -0.0232,\n",
       "                       -0.0144,  0.0549,  0.0024,  0.0068, -0.0800, -0.0453, -0.0259, -0.0027,\n",
       "                       -0.0147, -0.0130,  0.0241,  0.0793, -0.0414, -0.0677, -0.0545, -0.0386,\n",
       "                       -0.0285,  0.0266,  0.0110,  0.0767,  0.0074,  0.0209,  0.0366,  0.0336,\n",
       "                        0.0788, -0.0310,  0.0003,  0.0047,  0.0063, -0.0630,  0.0346, -0.0008,\n",
       "                       -0.0348, -0.0353,  0.0348,  0.0203, -0.0446,  0.0119,  0.0710, -0.0776,\n",
       "                        0.0171,  0.0496, -0.0174, -0.0079,  0.0412,  0.0722,  0.0371, -0.0244])),\n",
       "              ('drug_branch.2.weight',\n",
       "               tensor([[ 0.1531, -0.1183, -0.0013,  ..., -0.0851, -0.0663,  0.0888],\n",
       "                       [-0.0317,  0.0064,  0.0275,  ...,  0.0330, -0.0387,  0.0799],\n",
       "                       [ 0.0334,  0.0329, -0.0757,  ..., -0.0181,  0.0286, -0.0605],\n",
       "                       ...,\n",
       "                       [ 0.0244,  0.1242,  0.0453,  ..., -0.0208,  0.0740, -0.0250],\n",
       "                       [ 0.0959,  0.0440, -0.0246,  ..., -0.1003,  0.0155, -0.0398],\n",
       "                       [-0.0335,  0.0684, -0.0941,  ...,  0.0084, -0.0164, -0.0219]])),\n",
       "              ('drug_branch.2.bias',\n",
       "               tensor([-0.0443,  0.0712, -0.0615,  0.0653,  0.0613,  0.0638,  0.0827, -0.0125,\n",
       "                        0.0220,  0.0407,  0.0400, -0.0432,  0.0177, -0.0402,  0.0459,  0.0724,\n",
       "                       -0.0521, -0.0367,  0.0408, -0.0143, -0.0304,  0.0407,  0.0115, -0.0473,\n",
       "                        0.0322, -0.0030,  0.0371,  0.0403,  0.0704,  0.0340,  0.0476,  0.0775,\n",
       "                        0.0599,  0.0267, -0.0043,  0.0188,  0.0176,  0.0139,  0.0751,  0.0034,\n",
       "                        0.0256, -0.0876,  0.0886,  0.0901,  0.0083,  0.0750,  0.0219, -0.0163,\n",
       "                       -0.0795,  0.1209, -0.0009, -0.0354,  0.0731,  0.0654,  0.0427,  0.0708,\n",
       "                        0.0934,  0.0232, -0.0634, -0.0154,  0.0825, -0.0209,  0.0526,  0.0451,\n",
       "                        0.0310, -0.0004,  0.0091,  0.0279,  0.0663,  0.0192,  0.0790, -0.0076,\n",
       "                        0.0320,  0.1125, -0.0692,  0.0717, -0.0575, -0.0364,  0.0015, -0.0349,\n",
       "                        0.0533, -0.0251,  0.0375, -0.0673,  0.0653,  0.0157, -0.0355,  0.0646,\n",
       "                        0.0028, -0.0315,  0.0822,  0.0189,  0.0425,  0.0790, -0.0619, -0.0404,\n",
       "                       -0.0703,  0.0666, -0.0800,  0.0502, -0.0432, -0.0535, -0.0403, -0.0298,\n",
       "                        0.0726, -0.0518,  0.0382,  0.0466,  0.0216,  0.0597,  0.0686, -0.0179,\n",
       "                       -0.0216,  0.0845, -0.0608, -0.0578, -0.0651,  0.0965,  0.0732,  0.0564,\n",
       "                        0.0427, -0.0010,  0.0479, -0.0447, -0.0079,  0.0737, -0.0042, -0.0715])),\n",
       "              ('fcn.0.weight',\n",
       "               tensor([[ 0.0284, -0.0445, -0.0590,  ..., -0.0202, -0.0454,  0.0403],\n",
       "                       [ 0.0029,  0.0172, -0.0077,  ...,  0.0168,  0.0387, -0.0256],\n",
       "                       [-0.0110,  0.0274, -0.0487,  ...,  0.0446,  0.0002, -0.0213],\n",
       "                       ...,\n",
       "                       [ 0.0536, -0.0348,  0.0615,  ...,  0.0556, -0.0824, -0.0550],\n",
       "                       [ 0.0161,  0.0610, -0.0107,  ..., -0.0115, -0.0689, -0.0473],\n",
       "                       [ 0.0256, -0.0570,  0.0491,  ...,  0.0192, -0.0034,  0.0166]])),\n",
       "              ('fcn.0.bias',\n",
       "               tensor([-1.0866e-02, -3.9528e-02, -7.9923e-03,  3.4119e-02,  3.2920e-02,\n",
       "                       -7.5221e-04,  1.4431e-03,  4.5203e-02,  6.0339e-03, -3.2227e-02,\n",
       "                       -1.9403e-02,  1.3366e-02, -1.4344e-02, -1.2197e-02, -4.9072e-02,\n",
       "                        4.3954e-02, -8.8084e-04,  1.8529e-02, -3.4614e-02,  3.9769e-02,\n",
       "                        4.1965e-02,  5.3472e-02,  1.7988e-02, -2.2006e-02, -2.2680e-02,\n",
       "                       -4.3734e-02, -5.2992e-02, -1.6380e-02, -5.2719e-02, -5.7728e-02,\n",
       "                        1.7814e-02,  4.7800e-02, -1.2953e-02, -1.6082e-02,  1.5348e-02,\n",
       "                       -1.6949e-02,  4.3994e-02,  3.6537e-02,  4.0121e-02, -4.2881e-02,\n",
       "                       -2.9535e-03,  3.2071e-02, -3.4770e-02, -5.9869e-02, -5.0691e-02,\n",
       "                        5.3464e-02, -5.5090e-02, -2.2438e-02, -5.5428e-02, -4.1717e-02,\n",
       "                        1.3345e-02, -3.8869e-02,  1.0525e-02,  6.9953e-03, -5.0838e-02,\n",
       "                        2.4346e-03, -6.0588e-02, -2.1157e-02,  3.7973e-02, -1.5815e-02,\n",
       "                       -3.4429e-02, -3.4631e-02, -6.5661e-02,  1.7498e-02, -2.5271e-02,\n",
       "                       -4.8593e-02, -3.3176e-02, -3.2518e-02, -5.7104e-02, -4.2404e-02,\n",
       "                       -5.5721e-02,  4.4308e-02, -1.1237e-02,  3.2654e-02,  4.4908e-02,\n",
       "                        3.5891e-02, -4.9786e-02,  5.3932e-02, -1.6647e-02,  4.3329e-02,\n",
       "                       -7.2958e-03,  6.2099e-02,  4.1379e-02,  5.7409e-02,  4.6239e-02,\n",
       "                       -3.6729e-02,  2.8596e-02, -2.3398e-02,  5.7652e-02, -5.0867e-02,\n",
       "                        2.5102e-02, -5.4844e-02, -4.0640e-02,  3.1892e-03, -2.0158e-02,\n",
       "                        7.7421e-03, -1.4496e-02, -6.7331e-02, -4.7846e-02,  4.6042e-02,\n",
       "                        2.7891e-02,  1.5467e-02, -1.9338e-02,  1.6682e-02,  2.8122e-02,\n",
       "                        2.6626e-02, -9.9263e-03, -5.1142e-02, -3.8441e-02, -3.2266e-02,\n",
       "                       -6.0432e-02, -3.5823e-04, -2.8734e-02,  2.8596e-02,  6.1710e-02,\n",
       "                       -5.8636e-04,  3.6863e-02, -5.6483e-02, -5.0528e-02,  4.1808e-02,\n",
       "                        1.1554e-03,  3.7504e-02,  1.5563e-05, -1.5313e-02, -1.5177e-02,\n",
       "                        2.9524e-02,  2.1765e-02, -1.2955e-03])),\n",
       "              ('fcn.2.weight',\n",
       "               tensor([[-8.3808e-02, -7.6648e-03,  2.0248e-02,  4.5447e-02,  7.4706e-02,\n",
       "                        -5.0044e-04, -2.7898e-02, -8.2009e-02, -4.3298e-02,  5.3769e-02,\n",
       "                         6.2104e-02, -6.4156e-02,  8.0016e-02, -3.0712e-02, -9.4112e-04,\n",
       "                        -8.2982e-02,  4.2370e-03,  8.3478e-02, -1.4343e-02,  6.2157e-02,\n",
       "                        -7.1078e-02,  6.4295e-02,  8.2557e-03, -5.4217e-02, -7.0221e-02,\n",
       "                         3.7173e-02,  8.4764e-02,  3.8773e-02,  2.7468e-02, -1.0321e-02,\n",
       "                        -6.7900e-02,  4.8005e-02, -6.2109e-02,  2.1777e-02,  3.5022e-02,\n",
       "                         5.7832e-02, -8.4020e-02, -1.8700e-02,  1.4983e-05,  4.2912e-02,\n",
       "                         3.8398e-02, -8.0670e-02, -6.5019e-02, -4.2411e-02, -2.6764e-02,\n",
       "                         5.7411e-02, -2.6629e-02, -1.1047e-02, -5.5897e-02,  3.0500e-02,\n",
       "                        -1.1959e-02,  3.7356e-02,  6.5722e-02, -6.8305e-02,  3.8012e-02,\n",
       "                         4.3921e-02,  7.1717e-02,  1.1727e-02, -1.1037e-02,  5.7668e-02,\n",
       "                        -1.3689e-02, -5.2370e-03, -1.4368e-02,  4.0459e-02,  3.5231e-02,\n",
       "                         3.1158e-03, -4.1652e-02, -1.7539e-02, -2.4790e-02, -8.1122e-02,\n",
       "                         4.9668e-03,  7.7842e-02, -5.1664e-02,  2.6643e-02,  6.0990e-02,\n",
       "                         5.8208e-02,  1.7248e-02, -2.9529e-02,  6.4943e-02, -9.7362e-02,\n",
       "                        -1.0186e-01,  8.7968e-02,  1.7314e-02,  7.8740e-02,  1.6011e-02,\n",
       "                         4.2601e-02,  5.2461e-02, -3.5821e-03,  3.8110e-02, -1.0180e-02,\n",
       "                        -4.8058e-02,  3.9737e-02,  8.3047e-02,  4.6221e-02,  8.6522e-02,\n",
       "                        -4.0521e-02, -6.3609e-02, -4.2455e-02,  7.3001e-02, -5.4442e-02,\n",
       "                         7.2294e-02,  3.5026e-02,  1.1775e-02, -4.5867e-02, -2.6797e-02,\n",
       "                         5.9106e-02,  2.0366e-02, -4.4333e-02,  6.7968e-03,  4.5161e-02,\n",
       "                         6.8550e-03,  2.9515e-02,  6.4681e-04, -4.9724e-02,  6.6123e-02,\n",
       "                        -4.8918e-02, -7.6417e-02,  6.1419e-03, -7.3249e-02, -1.0629e-02,\n",
       "                        -4.2828e-02,  2.1555e-02, -6.9178e-02,  8.5456e-02, -5.4484e-02,\n",
       "                         4.9254e-02,  4.7401e-02, -8.0233e-02]])),\n",
       "              ('fcn.2.bias', tensor([-0.0509]))]),\n",
       " 'optimizer_state_dict': {'state': {0: {'step': 100,\n",
       "    'exp_avg': tensor([[0.0000e+00, 0.0000e+00, 0.0000e+00,  ..., 0.0000e+00, 0.0000e+00,\n",
       "             0.0000e+00],\n",
       "            [2.4404e-07, 1.4441e-07, 2.3758e-07,  ..., 1.4175e-07, 2.2221e-07,\n",
       "             2.1349e-07],\n",
       "            [0.0000e+00, 0.0000e+00, 0.0000e+00,  ..., 0.0000e+00, 0.0000e+00,\n",
       "             0.0000e+00],\n",
       "            ...,\n",
       "            [0.0000e+00, 0.0000e+00, 0.0000e+00,  ..., 0.0000e+00, 0.0000e+00,\n",
       "             0.0000e+00],\n",
       "            [0.0000e+00, 0.0000e+00, 0.0000e+00,  ..., 0.0000e+00, 0.0000e+00,\n",
       "             0.0000e+00],\n",
       "            [1.8754e-07, 1.1126e-07, 1.8231e-07,  ..., 1.1042e-07, 1.6695e-07,\n",
       "             1.6604e-07]]),\n",
       "    'exp_avg_sq': tensor([[0.0000e+00, 0.0000e+00, 0.0000e+00,  ..., 0.0000e+00, 0.0000e+00,\n",
       "             0.0000e+00],\n",
       "            [6.1930e-06, 2.1684e-06, 5.8695e-06,  ..., 2.0895e-06, 5.1345e-06,\n",
       "             4.7394e-06],\n",
       "            [0.0000e+00, 0.0000e+00, 0.0000e+00,  ..., 0.0000e+00, 0.0000e+00,\n",
       "             0.0000e+00],\n",
       "            ...,\n",
       "            [0.0000e+00, 0.0000e+00, 0.0000e+00,  ..., 0.0000e+00, 0.0000e+00,\n",
       "             0.0000e+00],\n",
       "            [0.0000e+00, 0.0000e+00, 0.0000e+00,  ..., 0.0000e+00, 0.0000e+00,\n",
       "             0.0000e+00],\n",
       "            [3.6855e-06, 1.2957e-06, 3.4845e-06,  ..., 1.2784e-06, 2.9137e-06,\n",
       "             2.8844e-06]])},\n",
       "   1: {'step': 100,\n",
       "    'exp_avg': tensor([ 0.0000e+00,  3.4461e-08,  0.0000e+00,  0.0000e+00,  0.0000e+00,\n",
       "             3.8223e-08,  6.3804e-05,  2.5427e-08,  0.0000e+00,  4.0319e-09,\n",
       "             1.1680e-06,  0.0000e+00,  1.2256e-04,  0.0000e+00,  0.0000e+00,\n",
       "             1.0211e-04,  0.0000e+00,  2.3789e-08,  6.3058e-09,  1.6316e-05,\n",
       "             0.0000e+00,  0.0000e+00,  7.3105e-10,  4.5135e-08,  4.8065e-08,\n",
       "             0.0000e+00,  1.0269e-08, -1.1683e-04,  7.6059e-08,  1.7195e-04,\n",
       "             4.1618e-08,  0.0000e+00,  8.7438e-05,  1.5045e-08,  1.3183e-07,\n",
       "             4.6892e-11,  6.1347e-07, -1.5238e-04,  2.1511e-05,  1.4583e-04,\n",
       "             8.1315e-08,  1.6320e-08,  7.2495e-08, -8.6571e-06, -5.7894e-06,\n",
       "             3.3602e-08,  0.0000e+00,  1.3666e-09,  0.0000e+00,  1.2893e-04,\n",
       "             0.0000e+00,  1.8547e-07,  0.0000e+00,  5.4503e-06,  3.3406e-08,\n",
       "             3.6273e-05,  1.4855e-08,  0.0000e+00,  5.5286e-08,  8.5308e-05,\n",
       "             5.9038e-08,  0.0000e+00,  3.5050e-09,  3.5663e-10,  1.2526e-04,\n",
       "             1.4977e-08,  1.1244e-09,  1.4736e-08,  0.0000e+00,  3.1235e-08,\n",
       "            -2.3096e-05,  5.7957e-08,  1.0854e-04,  2.3122e-04,  1.0840e-07,\n",
       "             9.5790e-08,  7.2770e-08,  0.0000e+00,  5.6185e-10,  0.0000e+00,\n",
       "             6.2146e-09,  4.1493e-10,  0.0000e+00,  1.4663e-04,  2.0259e-07,\n",
       "             5.6030e-08,  1.0793e-04,  5.1832e-05,  8.7979e-08,  0.0000e+00,\n",
       "             7.4773e-09,  7.1553e-08,  2.0753e-07,  0.0000e+00,  6.4269e-08,\n",
       "             1.0569e-07,  2.3774e-08,  0.0000e+00,  5.8171e-08,  0.0000e+00,\n",
       "             1.3341e-07, -1.2647e-04,  0.0000e+00, -2.9067e-05, -1.1920e-06,\n",
       "             0.0000e+00,  5.6308e-08,  0.0000e+00,  0.0000e+00,  1.8116e-09,\n",
       "             9.6234e-09,  0.0000e+00,  1.4552e-07,  2.6956e-10,  6.8884e-08,\n",
       "            -6.6592e-05,  5.4311e-08,  2.6394e-08,  0.0000e+00,  0.0000e+00,\n",
       "             6.6576e-11,  0.0000e+00,  9.3834e-10,  0.0000e+00,  7.6562e-05,\n",
       "             0.0000e+00,  2.9596e-08,  4.7368e-08,  1.1766e-10,  0.0000e+00,\n",
       "             1.3371e-04,  0.0000e+00,  8.5307e-08,  1.0373e-07,  8.3624e-08,\n",
       "             1.9575e-08,  1.0834e-07,  1.1253e-07,  3.9549e-08,  3.3730e-05,\n",
       "             1.1663e-07,  0.0000e+00,  9.7485e-08,  1.7986e-04,  0.0000e+00,\n",
       "             7.4802e-05,  5.7849e-09,  0.0000e+00,  0.0000e+00,  0.0000e+00,\n",
       "             1.6320e-08,  0.0000e+00,  2.1066e-08,  8.4164e-05,  1.3672e-04,\n",
       "             7.7995e-08,  2.1445e-08,  2.5753e-09,  1.6171e-08,  0.0000e+00,\n",
       "             5.3632e-08,  9.2538e-05,  0.0000e+00,  0.0000e+00,  5.4136e-08,\n",
       "             6.5588e-05,  2.6439e-08, -1.9527e-05,  3.9144e-08,  0.0000e+00,\n",
       "             0.0000e+00,  5.5996e-08,  2.3394e-08,  4.2128e-08,  0.0000e+00,\n",
       "             1.0224e-04,  7.6432e-08,  0.0000e+00,  3.0536e-09,  1.4764e-08,\n",
       "             0.0000e+00,  0.0000e+00,  0.0000e+00,  0.0000e+00,  2.5233e-08,\n",
       "            -1.6349e-05,  4.7898e-08,  2.8533e-08,  1.1832e-08,  0.0000e+00,\n",
       "             1.1336e-04,  4.0161e-05, -1.2426e-05,  0.0000e+00,  3.2746e-08,\n",
       "             2.4629e-08,  3.7069e-08,  7.1783e-09,  0.0000e+00,  0.0000e+00,\n",
       "            -7.5607e-05,  1.2761e-08,  9.6115e-08,  0.0000e+00,  3.0177e-08,\n",
       "             0.0000e+00,  0.0000e+00,  0.0000e+00, -8.6605e-05,  6.2116e-08,\n",
       "             6.3746e-05,  3.3942e-08,  2.0521e-08,  1.2848e-04,  1.5343e-04,\n",
       "             0.0000e+00,  4.9957e-08,  0.0000e+00,  0.0000e+00,  4.0852e-05,\n",
       "             0.0000e+00,  1.0543e-08,  0.0000e+00,  0.0000e+00,  7.5566e-08,\n",
       "             0.0000e+00,  0.0000e+00,  0.0000e+00,  0.0000e+00,  1.9087e-04,\n",
       "             1.0324e-07, -7.2950e-06,  0.0000e+00,  6.3191e-09,  4.2585e-08,\n",
       "             8.4108e-09,  2.7866e-08,  2.5068e-08,  0.0000e+00,  4.1370e-08,\n",
       "             0.0000e+00,  0.0000e+00,  3.8061e-08,  0.0000e+00,  1.9834e-11,\n",
       "             0.0000e+00,  7.5180e-05,  0.0000e+00,  0.0000e+00,  1.0656e-08,\n",
       "             0.0000e+00,  0.0000e+00,  5.1509e-08,  0.0000e+00,  0.0000e+00,\n",
       "             2.6522e-08]),\n",
       "    'exp_avg_sq': tensor([0.0000e+00, 1.2349e-07, 0.0000e+00, 0.0000e+00, 0.0000e+00, 1.8874e-07,\n",
       "            3.7742e-07, 2.6230e-07, 0.0000e+00, 1.6904e-09, 1.2629e-06, 0.0000e+00,\n",
       "            2.1642e-07, 0.0000e+00, 0.0000e+00, 3.6821e-06, 0.0000e+00, 5.8846e-08,\n",
       "            4.1348e-09, 1.8383e-07, 0.0000e+00, 0.0000e+00, 5.5573e-11, 2.1184e-07,\n",
       "            5.1753e-07, 0.0000e+00, 2.0608e-07, 1.3938e-07, 2.9800e-06, 6.5805e-07,\n",
       "            1.8011e-07, 0.0000e+00, 1.2242e-07, 2.3537e-08, 9.7837e-07, 2.2865e-13,\n",
       "            1.9285e-06, 9.8631e-07, 1.1746e-06, 2.6233e-07, 6.8755e-07, 1.5458e-08,\n",
       "            1.0301e-07, 2.0837e-07, 1.5586e-06, 1.2714e-07, 0.0000e+00, 1.9421e-10,\n",
       "            0.0000e+00, 1.6857e-06, 0.0000e+00, 2.5843e-06, 0.0000e+00, 2.8057e-07,\n",
       "            1.1604e-07, 1.2266e-07, 2.2949e-08, 0.0000e+00, 3.1783e-07, 4.1122e-07,\n",
       "            3.6243e-07, 0.0000e+00, 1.2774e-09, 1.3225e-11, 1.4147e-06, 2.3326e-08,\n",
       "            1.3146e-10, 2.2582e-08, 0.0000e+00, 1.0145e-07, 1.4558e-07, 3.4929e-07,\n",
       "            1.6748e-06, 3.8044e-06, 4.2802e-07, 1.2321e-06, 5.5064e-07, 0.0000e+00,\n",
       "            3.2826e-11, 0.0000e+00, 4.0160e-09, 1.7903e-11, 0.0000e+00, 2.3108e-06,\n",
       "            3.2436e-06, 3.2644e-07, 1.2132e-06, 1.2629e-06, 7.8567e-07, 0.0000e+00,\n",
       "            5.8138e-09, 5.0255e-07, 3.4371e-06, 0.0000e+00, 5.9674e-07, 1.1886e-06,\n",
       "            5.7372e-07, 0.0000e+00, 3.5187e-07, 0.0000e+00, 1.2146e-06, 3.3068e-07,\n",
       "            0.0000e+00, 1.5305e-07, 5.3564e-07, 0.0000e+00, 3.2969e-07, 0.0000e+00,\n",
       "            0.0000e+00, 3.4125e-10, 9.6299e-09, 0.0000e+00, 1.0832e-06, 7.5559e-12,\n",
       "            7.1001e-07, 2.9917e-07, 3.0672e-07, 1.0499e-07, 0.0000e+00, 0.0000e+00,\n",
       "            4.6090e-13, 0.0000e+00, 9.1557e-11, 0.0000e+00, 2.9197e-07, 0.0000e+00,\n",
       "            9.1080e-08, 2.3331e-07, 1.4396e-12, 0.0000e+00, 3.5937e-07, 0.0000e+00,\n",
       "            7.5672e-07, 6.3936e-07, 7.2717e-07, 3.9844e-08, 8.3342e-07, 2.6148e-06,\n",
       "            1.6265e-07, 3.1750e-07, 1.4510e-06, 0.0000e+00, 4.2104e-07, 1.2649e-06,\n",
       "            0.0000e+00, 2.1684e-07, 3.4798e-09, 0.0000e+00, 0.0000e+00, 0.0000e+00,\n",
       "            1.5079e-07, 0.0000e+00, 2.3706e-08, 1.2060e-06, 5.7167e-07, 1.1858e-07,\n",
       "            3.3073e-08, 9.2151e-10, 2.7192e-08, 0.0000e+00, 2.9910e-07, 3.2763e-07,\n",
       "            0.0000e+00, 0.0000e+00, 3.0475e-07, 1.2715e-06, 7.2689e-08, 2.4202e-07,\n",
       "            1.5933e-07, 0.0000e+00, 0.0000e+00, 3.2605e-07, 5.6911e-08, 1.8455e-07,\n",
       "            0.0000e+00, 3.0181e-07, 2.0024e-06, 0.0000e+00, 9.6959e-10, 2.0643e-08,\n",
       "            0.0000e+00, 0.0000e+00, 0.0000e+00, 0.0000e+00, 6.6210e-08, 7.0142e-07,\n",
       "            1.2540e-07, 5.8709e-08, 1.4558e-08, 0.0000e+00, 5.2801e-07, 9.0936e-07,\n",
       "            1.2493e-07, 0.0000e+00, 1.1150e-07, 6.3073e-08, 4.1465e-08, 5.3344e-09,\n",
       "            0.0000e+00, 0.0000e+00, 6.3426e-08, 1.6932e-08, 9.6609e-07, 0.0000e+00,\n",
       "            9.4697e-08, 0.0000e+00, 0.0000e+00, 0.0000e+00, 5.6456e-07, 7.4426e-07,\n",
       "            2.9240e-07, 1.1980e-07, 4.3791e-08, 1.4409e-06, 1.3122e-06, 0.0000e+00,\n",
       "            2.6630e-07, 0.0000e+00, 0.0000e+00, 1.3138e-07, 0.0000e+00, 1.1559e-08,\n",
       "            0.0000e+00, 0.0000e+00, 5.9378e-07, 0.0000e+00, 0.0000e+00, 0.0000e+00,\n",
       "            0.0000e+00, 6.5653e-07, 1.1080e-06, 1.5914e-06, 0.0000e+00, 4.1522e-09,\n",
       "            9.2090e-07, 7.3561e-09, 8.0747e-08, 6.5347e-08, 0.0000e+00, 2.1719e-07,\n",
       "            0.0000e+00, 0.0000e+00, 1.5064e-07, 0.0000e+00, 4.0907e-14, 0.0000e+00,\n",
       "            7.7361e-08, 0.0000e+00, 0.0000e+00, 1.1807e-08, 0.0000e+00, 0.0000e+00,\n",
       "            2.7589e-07, 0.0000e+00, 0.0000e+00, 7.3686e-08])},\n",
       "   2: {'step': 100,\n",
       "    'exp_avg': tensor([[ 0.0000e+00,  0.0000e+00,  0.0000e+00,  ...,  0.0000e+00,\n",
       "              0.0000e+00,  0.0000e+00],\n",
       "            [ 0.0000e+00,  0.0000e+00,  0.0000e+00,  ...,  0.0000e+00,\n",
       "              0.0000e+00,  0.0000e+00],\n",
       "            [ 0.0000e+00,  0.0000e+00,  0.0000e+00,  ...,  0.0000e+00,\n",
       "              0.0000e+00,  0.0000e+00],\n",
       "            ...,\n",
       "            [ 0.0000e+00,  0.0000e+00,  0.0000e+00,  ...,  0.0000e+00,\n",
       "              0.0000e+00,  0.0000e+00],\n",
       "            [ 0.0000e+00, -2.6430e-08,  0.0000e+00,  ...,  0.0000e+00,\n",
       "              0.0000e+00, -6.5679e-08],\n",
       "            [ 0.0000e+00, -2.6542e-07,  0.0000e+00,  ...,  0.0000e+00,\n",
       "              0.0000e+00, -7.6351e-07]]),\n",
       "    'exp_avg_sq': tensor([[0.0000e+00, 0.0000e+00, 0.0000e+00,  ..., 0.0000e+00, 0.0000e+00,\n",
       "             0.0000e+00],\n",
       "            [0.0000e+00, 0.0000e+00, 0.0000e+00,  ..., 0.0000e+00, 0.0000e+00,\n",
       "             0.0000e+00],\n",
       "            [0.0000e+00, 0.0000e+00, 0.0000e+00,  ..., 0.0000e+00, 0.0000e+00,\n",
       "             0.0000e+00],\n",
       "            ...,\n",
       "            [0.0000e+00, 0.0000e+00, 0.0000e+00,  ..., 0.0000e+00, 0.0000e+00,\n",
       "             0.0000e+00],\n",
       "            [0.0000e+00, 7.2639e-08, 0.0000e+00,  ..., 0.0000e+00, 0.0000e+00,\n",
       "             4.4857e-07],\n",
       "            [0.0000e+00, 7.3254e-06, 0.0000e+00,  ..., 0.0000e+00, 0.0000e+00,\n",
       "             6.0615e-05]])},\n",
       "   3: {'step': 100,\n",
       "    'exp_avg': tensor([ 2.4558e-08,  0.0000e+00,  0.0000e+00,  0.0000e+00,  2.4552e-07,\n",
       "             0.0000e+00,  0.0000e+00, -2.2094e-05,  1.8287e-07,  0.0000e+00,\n",
       "             2.1904e-04, -1.0395e-07,  4.8586e-04,  2.2475e-07,  0.0000e+00,\n",
       "            -6.6816e-05,  5.4323e-10,  3.5043e-07,  0.0000e+00,  6.9728e-08,\n",
       "             2.1519e-07,  0.0000e+00,  8.5448e-08,  0.0000e+00,  5.5471e-08,\n",
       "             1.2160e-07,  6.3666e-07,  5.4412e-08,  2.2205e-04,  2.5459e-07,\n",
       "             1.5758e-09,  5.9381e-09,  8.2616e-09,  4.0913e-04,  1.9915e-04,\n",
       "             3.7406e-04,  2.2792e-07,  3.0634e-04,  3.2081e-07,  5.1351e-04,\n",
       "             4.2421e-07, -1.2749e-07,  2.0736e-05,  2.7625e-04,  5.1137e-08,\n",
       "             2.3033e-04,  2.0122e-04,  3.1943e-04,  0.0000e+00,  1.6982e-04,\n",
       "            -8.6787e-05,  1.1118e-04,  2.8758e-05,  2.0768e-08,  0.0000e+00,\n",
       "            -2.6711e-08,  1.7963e-07,  5.0033e-09,  2.4272e-05,  1.4459e-09,\n",
       "             1.7314e-07,  4.5198e-04,  4.6553e-07,  0.0000e+00, -5.3111e-04,\n",
       "             9.7374e-09,  0.0000e+00, -2.1096e-05,  3.2469e-06,  3.6710e-07,\n",
       "             1.5418e-04,  0.0000e+00, -4.2054e-05,  5.8587e-07,  4.1464e-05,\n",
       "             2.8941e-05,  1.2216e-07, -5.3073e-04,  2.2182e-07,  1.9384e-07,\n",
       "             0.0000e+00,  3.2601e-08,  2.0183e-07,  1.4307e-08,  1.7036e-04,\n",
       "             2.4430e-04,  2.0920e-07,  1.6462e-07,  4.0410e-04,  2.2008e-07,\n",
       "             2.1236e-08, -1.3400e-05,  0.0000e+00,  0.0000e+00,  2.7900e-07,\n",
       "             6.6559e-08,  4.5856e-04,  4.1901e-07,  0.0000e+00, -8.5084e-05,\n",
       "            -1.9855e-04,  2.8122e-07,  6.6935e-08,  0.0000e+00,  0.0000e+00,\n",
       "             0.0000e+00,  1.9364e-07,  1.2728e-07,  1.6180e-07,  8.9688e-08,\n",
       "             1.2000e-07,  0.0000e+00, -3.5087e-08,  0.0000e+00,  0.0000e+00,\n",
       "             9.5360e-08,  2.3288e-07,  2.3607e-07,  1.2823e-07, -2.0607e-04,\n",
       "             5.7919e-04,  2.6966e-07,  3.4767e-04,  5.5660e-07,  6.4204e-08,\n",
       "             0.0000e+00,  7.6463e-05,  2.4252e-08]),\n",
       "    'exp_avg_sq': tensor([1.1292e-08, 0.0000e+00, 0.0000e+00, 0.0000e+00, 6.2682e-06, 0.0000e+00,\n",
       "            0.0000e+00, 1.1016e-05, 3.4775e-06, 0.0000e+00, 6.9998e-06, 6.7020e-06,\n",
       "            3.1182e-05, 1.8943e-06, 0.0000e+00, 2.8736e-07, 2.4880e-11, 5.6475e-06,\n",
       "            0.0000e+00, 1.9239e-07, 4.8152e-06, 0.0000e+00, 7.5924e-07, 0.0000e+00,\n",
       "            3.1997e-07, 1.5375e-06, 3.3684e-06, 1.6213e-06, 4.0539e-06, 1.2771e-07,\n",
       "            2.6047e-10, 2.8576e-06, 4.6659e-09, 8.6040e-06, 1.1844e-06, 9.3532e-06,\n",
       "            1.0434e-05, 1.2367e-05, 1.0289e-05, 5.2582e-06, 6.7279e-06, 5.5103e-06,\n",
       "            5.8829e-06, 7.1295e-07, 7.8780e-08, 1.0921e-06, 3.8882e-06, 5.0666e-05,\n",
       "            0.0000e+00, 1.3573e-05, 7.0326e-07, 5.8609e-07, 1.6871e-05, 1.0543e-08,\n",
       "            0.0000e+00, 4.5071e-07, 2.3076e-06, 2.6031e-09, 2.5098e-06, 1.7627e-10,\n",
       "            8.9257e-07, 2.6102e-06, 1.2747e-05, 0.0000e+00, 2.4241e-06, 9.8595e-09,\n",
       "            0.0000e+00, 2.5546e-07, 4.2067e-07, 7.7168e-06, 4.6488e-06, 0.0000e+00,\n",
       "            3.8773e-07, 2.3499e-05, 7.7586e-07, 7.8024e-06, 8.6367e-07, 2.1097e-05,\n",
       "            1.4790e-05, 3.5061e-07, 0.0000e+00, 8.7685e-13, 1.9249e-06, 2.9286e-08,\n",
       "            1.5319e-05, 3.0794e-05, 3.2942e-06, 2.8180e-06, 5.4253e-05, 2.0201e-06,\n",
       "            4.6896e-08, 7.8555e-06, 0.0000e+00, 0.0000e+00, 8.0945e-06, 4.6066e-07,\n",
       "            5.4397e-06, 2.3851e-05, 0.0000e+00, 3.2409e-06, 7.4765e-07, 2.0150e-07,\n",
       "            4.6588e-07, 0.0000e+00, 0.0000e+00, 0.0000e+00, 3.8992e-06, 5.9994e-07,\n",
       "            1.5177e-06, 8.3645e-07, 1.4973e-06, 0.0000e+00, 4.8192e-07, 0.0000e+00,\n",
       "            0.0000e+00, 3.6154e-07, 3.1311e-06, 1.4561e-06, 1.7221e-06, 2.3784e-06,\n",
       "            1.1373e-05, 3.5380e-06, 1.0274e-05, 1.5629e-05, 8.3231e-08, 0.0000e+00,\n",
       "            3.4307e-06, 4.1784e-06])},\n",
       "   4: {'step': 100,\n",
       "    'exp_avg': tensor([[-8.6253e-06,  3.6328e-04,  3.1796e-05,  ...,  1.2801e-05,\n",
       "             -5.8058e-04, -4.5003e-04],\n",
       "            [ 1.3190e-03, -2.8382e-04,  2.8116e-04,  ...,  4.3473e-04,\n",
       "             -5.7647e-04,  1.1772e-03],\n",
       "            [-5.2974e-04, -2.0966e-04, -5.4498e-05,  ..., -6.4074e-05,\n",
       "              1.2858e-04, -3.3776e-04],\n",
       "            ...,\n",
       "            [ 9.7168e-04, -5.3996e-04,  1.7924e-04,  ..., -2.8275e-04,\n",
       "             -1.3527e-04, -2.6165e-03],\n",
       "            [ 1.3482e-03, -6.3201e-04,  3.8182e-04,  ...,  2.1347e-05,\n",
       "             -1.9077e-04,  1.1420e-03],\n",
       "            [-3.0362e-04,  3.7328e-05, -8.2026e-05,  ..., -6.3027e-05,\n",
       "              7.4621e-06, -2.3012e-04]]),\n",
       "    'exp_avg_sq': tensor([[5.4137e-07, 4.0319e-07, 2.7392e-07,  ..., 5.0844e-08, 2.6835e-07,\n",
       "             2.7684e-06],\n",
       "            [6.4898e-06, 5.5158e-06, 2.1375e-06,  ..., 5.3534e-07, 1.4606e-06,\n",
       "             1.3119e-05],\n",
       "            [4.0443e-07, 6.5194e-07, 6.8941e-08,  ..., 4.6570e-08, 9.2530e-08,\n",
       "             1.2681e-06],\n",
       "            ...,\n",
       "            [7.0565e-07, 5.9498e-06, 6.2144e-07,  ..., 3.7363e-07, 4.7545e-07,\n",
       "             6.9960e-06],\n",
       "            [2.4872e-06, 4.1983e-06, 6.6957e-07,  ..., 1.3629e-07, 6.8625e-07,\n",
       "             1.1070e-05],\n",
       "            [7.1216e-07, 1.5648e-06, 2.1726e-07,  ..., 4.0713e-08, 2.9109e-07,\n",
       "             3.9774e-06]])},\n",
       "   5: {'step': 100,\n",
       "    'exp_avg': tensor([-1.1025e-03,  3.0235e-03, -5.4821e-04, -6.1430e-06, -1.6711e-03,\n",
       "             1.6782e-03, -4.4829e-04, -1.1225e-03, -1.5316e-03,  2.5438e-03,\n",
       "            -5.9587e-04,  2.4197e-03, -2.0332e-03,  1.9377e-03, -1.0496e-03,\n",
       "             3.0850e-04, -3.1009e-04, -3.2148e-04,  3.6261e-03,  2.5671e-03,\n",
       "            -1.5430e-03,  1.9373e-03, -1.2580e-03, -1.6618e-03,  1.7592e-03,\n",
       "             7.8992e-04,  4.6671e-03,  4.5212e-04, -6.7133e-04,  1.9340e-03,\n",
       "             8.1402e-04,  2.0398e-03,  5.5140e-03, -9.7909e-04,  2.9435e-03,\n",
       "            -6.7324e-04,  7.8804e-04,  1.3285e-03,  1.1411e-03, -1.6967e-03,\n",
       "             1.0217e-03, -2.9659e-04,  2.3575e-04,  7.4765e-04, -9.5402e-04,\n",
       "            -4.7970e-04,  1.7981e-03, -1.1556e-03, -4.8798e-04, -1.9220e-03,\n",
       "             1.4166e-03,  1.4341e-03,  2.6647e-03,  1.3106e-03, -1.7461e-03,\n",
       "            -2.0193e-03, -1.2494e-04,  2.8421e-03, -1.7950e-03,  8.1527e-04,\n",
       "            -2.1531e-03,  1.2998e-08, -2.1438e-03,  5.3541e-04,  3.9960e-04,\n",
       "             2.7932e-03, -9.3641e-04, -1.8300e-03,  1.2871e-03, -5.1842e-04,\n",
       "             2.7875e-03,  6.1539e-04,  1.1806e-03,  2.3773e-03,  4.4447e-04,\n",
       "            -3.8636e-05,  1.3539e-03, -6.9027e-04,  5.8278e-09, -2.8933e-03,\n",
       "             7.9591e-04, -2.6181e-03,  1.0329e-03,  2.3731e-03, -7.9108e-04,\n",
       "            -1.5052e-03,  6.8919e-04,  3.5435e-03, -1.2751e-03,  3.5013e-04,\n",
       "            -5.8501e-04,  3.3761e-04, -2.9697e-03, -1.5155e-03, -1.2162e-03,\n",
       "            -1.7510e-03, -2.4972e-03,  3.4621e-03,  1.9739e-03,  2.9673e-03,\n",
       "             1.7068e-03, -2.7903e-03, -1.3047e-03, -1.2130e-03,  1.3289e-03,\n",
       "             3.6821e-04, -3.0126e-04,  1.0074e-03,  1.1400e-04, -3.0260e-03,\n",
       "             1.1567e-03,  1.6975e-03, -2.3622e-03,  6.6414e-04,  7.2042e-04,\n",
       "             1.0827e-03, -2.3631e-03,  5.5399e-04,  1.0728e-03, -7.9255e-04,\n",
       "            -3.6616e-04, -2.9102e-03, -3.0073e-03,  3.6226e-04, -5.7645e-04,\n",
       "             1.8242e-03,  1.4076e-03, -5.3629e-04]),\n",
       "    'exp_avg_sq': tensor([1.2335e-05, 6.2572e-05, 7.0007e-06, 4.4082e-08, 3.6659e-05, 3.0997e-05,\n",
       "            1.0904e-05, 1.6767e-05, 2.6931e-05, 5.8059e-05, 9.1867e-06, 6.4205e-05,\n",
       "            1.5567e-05, 5.9415e-05, 1.6303e-05, 1.6227e-05, 2.6883e-06, 4.1062e-06,\n",
       "            9.5352e-05, 7.2554e-05, 3.7021e-05, 5.4524e-05, 2.0876e-05, 4.8470e-05,\n",
       "            7.3140e-05, 5.9956e-05, 1.6287e-04, 1.1985e-04, 8.8879e-06, 4.6784e-05,\n",
       "            3.0788e-05, 4.7851e-05, 6.1245e-05, 7.8667e-06, 7.9123e-05, 8.6732e-06,\n",
       "            9.4562e-05, 4.5786e-05, 1.1833e-05, 4.4120e-05, 8.8901e-06, 3.5906e-06,\n",
       "            6.8782e-05, 1.4086e-05, 1.4687e-05, 1.3491e-05, 3.4498e-05, 4.7625e-05,\n",
       "            1.2593e-05, 5.1000e-05, 2.0432e-05, 3.8210e-05, 4.5048e-05, 4.8672e-05,\n",
       "            5.2392e-05, 5.1503e-05, 1.3721e-06, 5.4541e-05, 4.4058e-05, 7.9803e-06,\n",
       "            2.2574e-05, 1.0051e-09, 4.6235e-05, 4.1299e-05, 2.6410e-05, 9.5652e-05,\n",
       "            2.9665e-06, 6.4751e-05, 3.7460e-05, 3.8390e-05, 9.1685e-05, 7.1765e-06,\n",
       "            1.3963e-05, 6.3754e-05, 1.0894e-06, 6.8729e-05, 3.2343e-05, 1.6496e-05,\n",
       "            2.7225e-09, 9.7454e-05, 2.1565e-05, 1.8628e-05, 9.6584e-06, 8.2983e-05,\n",
       "            2.9431e-05, 5.6591e-05, 1.6496e-05, 9.3875e-05, 6.0270e-05, 4.2100e-06,\n",
       "            4.5092e-05, 4.1434e-06, 5.4859e-05, 2.7019e-05, 1.3660e-05, 2.2804e-05,\n",
       "            4.2429e-05, 9.3771e-05, 6.5824e-05, 9.1000e-05, 6.2588e-05, 3.3931e-05,\n",
       "            1.9326e-05, 2.2789e-05, 4.5996e-05, 1.6848e-05, 9.0235e-06, 9.1095e-05,\n",
       "            1.7089e-07, 3.3962e-05, 5.3993e-05, 3.4214e-05, 2.8248e-05, 2.0203e-05,\n",
       "            9.0146e-06, 1.4296e-05, 7.0360e-05, 7.3426e-05, 8.8940e-06, 1.2450e-05,\n",
       "            2.6193e-05, 7.4509e-05, 2.8626e-05, 1.3058e-06, 1.5121e-05, 4.6356e-05,\n",
       "            4.2060e-05, 1.0551e-05])},\n",
       "   6: {'step': 100,\n",
       "    'exp_avg': tensor([[-1.9455e-04, -2.8103e-04, -2.1442e-04,  ..., -1.3176e-04,\n",
       "             -1.7516e-04, -9.1953e-04],\n",
       "            [-6.9624e-05, -1.3834e-04, -1.0091e-04,  ..., -4.7665e-05,\n",
       "             -6.0499e-05, -4.2667e-04],\n",
       "            [ 1.8083e-09, -1.2301e-10,  3.1504e-10,  ...,  5.7153e-10,\n",
       "              5.1325e-09,  1.0370e-09],\n",
       "            ...,\n",
       "            [ 7.1983e-05,  9.8674e-05,  7.5379e-05,  ...,  4.7995e-05,\n",
       "              6.2741e-05,  3.3960e-04],\n",
       "            [-1.3142e-04, -2.1334e-04, -1.4561e-04,  ..., -1.0053e-04,\n",
       "             -1.2877e-04, -6.3261e-04],\n",
       "            [ 2.1496e-07,  1.4062e-07,  5.3338e-08,  ...,  3.8304e-07,\n",
       "              4.6608e-07,  2.2871e-07]]),\n",
       "    'exp_avg_sq': tensor([[4.7835e-07, 9.0575e-07, 1.8050e-06,  ..., 1.4703e-06, 1.6989e-06,\n",
       "             2.5991e-05],\n",
       "            [7.8430e-08, 8.1176e-08, 1.5203e-07,  ..., 1.2140e-07, 2.9226e-07,\n",
       "             3.6617e-06],\n",
       "            [8.0103e-11, 3.1980e-11, 2.0982e-10,  ..., 1.8338e-11, 4.4543e-10,\n",
       "             2.8949e-11],\n",
       "            ...,\n",
       "            [6.9178e-08, 1.1371e-07, 2.3964e-07,  ..., 1.9316e-07, 3.9368e-07,\n",
       "             2.2601e-06],\n",
       "            [2.8371e-07, 3.3359e-07, 5.6325e-07,  ..., 3.7952e-07, 9.2383e-07,\n",
       "             8.2236e-06],\n",
       "            [9.7400e-10, 3.4340e-10, 4.6861e-10,  ..., 7.3394e-10, 1.6926e-09,\n",
       "             4.1057e-11]])},\n",
       "   7: {'step': 100,\n",
       "    'exp_avg': tensor([-2.2293e-03, -9.9539e-04,  2.1505e-08,  4.5771e-07, -1.3869e-03,\n",
       "            -1.1915e-03,  1.0775e-03,  2.5844e-08, -1.6137e-03,  2.7073e-08,\n",
       "            -7.7165e-04,  1.9071e-03, -3.5102e-05,  2.1047e-08,  1.0030e-03,\n",
       "            -6.3295e-04, -1.5239e-03,  4.4673e-04,  4.4402e-07, -2.1784e-03,\n",
       "             2.0290e-03,  2.6324e-03,  1.3055e-03, -1.1943e-03, -1.7220e-04,\n",
       "            -1.4837e-03, -1.5587e-03, -1.5131e-03,  1.1581e-03, -1.1907e-03,\n",
       "             1.6936e-03,  1.5819e-03,  8.5631e-04, -1.2851e-03,  1.5964e-03,\n",
       "             1.3381e-03,  1.3362e-03,  1.8059e-07, -2.2980e-05,  1.4947e-03,\n",
       "            -1.7516e-03,  1.1727e-06, -1.4883e-03,  8.7820e-04,  3.4601e-07,\n",
       "             1.6570e-03,  1.2927e-03, -1.2040e-03,  5.1314e-05,  1.9842e-03,\n",
       "             1.5683e-03,  1.9303e-03,  1.4116e-03, -1.7668e-03,  3.5598e-04,\n",
       "            -1.3732e-03,  1.0048e-03,  2.1438e-03, -1.5402e-03,  9.1564e-04,\n",
       "             9.2116e-04, -1.5396e-03,  1.4900e-05,  1.5962e-05, -7.6464e-04,\n",
       "            -2.0151e-03, -6.6918e-06,  2.1968e-03, -4.8287e-05, -1.2207e-03,\n",
       "            -1.5201e-03,  1.8682e-03,  1.1027e-03,  2.0130e-03, -8.9201e-04,\n",
       "            -8.4044e-05,  1.7320e-03, -1.3456e-03, -1.7143e-03,  1.5345e-03,\n",
       "            -8.2577e-04,  5.5251e-06,  1.9905e-03,  3.9893e-06,  6.4961e-04,\n",
       "             1.5248e-03, -8.1134e-04,  7.3203e-04, -1.7191e-03,  1.9720e-03,\n",
       "             1.0764e-03,  1.1343e-04,  1.0805e-03,  1.4280e-03,  1.1336e-09,\n",
       "            -1.7751e-03,  1.4896e-03, -1.0138e-03, -1.1097e-03,  1.6442e-03,\n",
       "             1.2363e-03, -1.3047e-03,  2.4581e-04,  1.6769e-03, -3.4312e-04,\n",
       "             1.7427e-03,  8.2602e-07,  1.5117e-03,  1.6358e-03,  1.4108e-03,\n",
       "             1.8577e-03,  1.1218e-03, -1.2377e-03,  5.7168e-05,  1.4814e-07,\n",
       "             2.8294e-09,  1.9471e-03, -1.0303e-03, -1.0722e-03,  1.6517e-03,\n",
       "             9.0721e-04, -1.4815e-03, -1.3363e-05, -1.7256e-03, -7.9973e-04,\n",
       "             8.2918e-04, -1.5494e-03,  2.3786e-06]),\n",
       "    'exp_avg_sq': tensor([5.5713e-05, 1.1536e-05, 8.2756e-09, 9.9909e-06, 3.7591e-05, 1.7202e-05,\n",
       "            4.9958e-05, 1.3865e-07, 5.1099e-05, 3.3534e-08, 1.6172e-05, 4.0574e-05,\n",
       "            8.9045e-06, 1.6032e-08, 1.4301e-05, 2.0380e-06, 2.6024e-05, 2.7944e-06,\n",
       "            8.4036e-06, 7.4599e-05, 5.1193e-05, 4.6956e-05, 2.8014e-05, 1.7057e-05,\n",
       "            6.5707e-06, 2.2943e-05, 3.1792e-05, 2.3424e-05, 1.5290e-05, 1.5768e-05,\n",
       "            3.2601e-05, 3.7605e-05, 4.3350e-05, 1.9905e-05, 2.6884e-05, 1.6684e-05,\n",
       "            1.6702e-05, 2.8034e-06, 2.8315e-06, 2.1194e-05, 3.7526e-05, 2.2392e-07,\n",
       "            2.2077e-05, 1.0923e-05, 5.0344e-06, 2.6120e-05, 1.9874e-05, 1.4348e-05,\n",
       "            2.2491e-06, 4.9611e-05, 2.8907e-05, 3.7891e-05, 4.9707e-05, 3.5636e-05,\n",
       "            1.2454e-06, 2.0243e-05, 1.1962e-05, 5.8603e-05, 2.5308e-05, 2.5381e-05,\n",
       "            9.9316e-06, 2.4292e-05, 3.0411e-07, 8.9102e-06, 6.3394e-06, 5.1499e-05,\n",
       "            3.3641e-07, 5.3834e-05, 9.0166e-06, 1.5589e-05, 2.3867e-05, 4.3283e-05,\n",
       "            1.8971e-05, 5.2955e-05, 2.5936e-06, 7.5605e-06, 3.1844e-05, 2.1453e-05,\n",
       "            3.0906e-05, 3.3713e-05, 7.9082e-06, 3.0081e-06, 6.2208e-05, 2.3004e-06,\n",
       "            1.0648e-05, 3.6740e-05, 8.8722e-06, 9.0232e-06, 3.1027e-05, 3.1413e-05,\n",
       "            1.6218e-05, 2.2490e-06, 2.2240e-05, 3.6007e-05, 3.8058e-11, 3.5312e-05,\n",
       "            1.8546e-05, 2.8442e-05, 2.2526e-05, 3.6274e-05, 3.9738e-05, 1.8652e-05,\n",
       "            1.6630e-06, 2.6479e-05, 2.7942e-06, 3.7754e-05, 7.5266e-06, 2.5452e-05,\n",
       "            2.8418e-05, 2.5545e-05, 3.9872e-05, 1.4470e-05, 2.0225e-05, 2.3100e-05,\n",
       "            2.5468e-08, 2.9391e-09, 3.7103e-05, 1.3615e-05, 1.1852e-05, 3.1963e-05,\n",
       "            1.3335e-05, 2.5505e-05, 1.5642e-06, 3.1873e-05, 1.1472e-05, 1.1127e-05,\n",
       "            3.5374e-05, 6.7249e-08])},\n",
       "   8: {'step': 100,\n",
       "    'exp_avg': tensor([[0.0000e+00, 0.0000e+00, 0.0000e+00,  ..., 0.0000e+00, 0.0000e+00,\n",
       "             0.0000e+00],\n",
       "            [0.0000e+00, 0.0000e+00, 0.0000e+00,  ..., 0.0000e+00, 0.0000e+00,\n",
       "             0.0000e+00],\n",
       "            [8.7810e-09, 0.0000e+00, 0.0000e+00,  ..., 1.7553e-04, 2.1958e-04,\n",
       "             3.6522e-07],\n",
       "            ...,\n",
       "            [2.3314e-08, 0.0000e+00, 0.0000e+00,  ..., 4.2109e-04, 5.3099e-04,\n",
       "             8.8578e-07],\n",
       "            [2.2144e-08, 0.0000e+00, 0.0000e+00,  ..., 4.0558e-04, 5.1062e-04,\n",
       "             8.5261e-07],\n",
       "            [0.0000e+00, 0.0000e+00, 0.0000e+00,  ..., 3.2346e-09, 1.3681e-09,\n",
       "             3.8423e-11]]),\n",
       "    'exp_avg_sq': tensor([[0.0000e+00, 0.0000e+00, 0.0000e+00,  ..., 0.0000e+00, 0.0000e+00,\n",
       "             0.0000e+00],\n",
       "            [0.0000e+00, 0.0000e+00, 0.0000e+00,  ..., 0.0000e+00, 0.0000e+00,\n",
       "             0.0000e+00],\n",
       "            [1.4947e-09, 0.0000e+00, 0.0000e+00,  ..., 1.6979e-06, 4.3050e-07,\n",
       "             1.4247e-10],\n",
       "            ...,\n",
       "            [1.0538e-08, 0.0000e+00, 0.0000e+00,  ..., 1.1353e-05, 2.6603e-06,\n",
       "             1.0195e-09],\n",
       "            [9.5078e-09, 0.0000e+00, 0.0000e+00,  ..., 1.0322e-05, 2.4370e-06,\n",
       "             9.3394e-10],\n",
       "            [0.0000e+00, 0.0000e+00, 0.0000e+00,  ..., 1.0879e-09, 1.9464e-10,\n",
       "             1.5352e-13]])},\n",
       "   9: {'step': 100,\n",
       "    'exp_avg': tensor([ 0.0000e+00,  0.0000e+00,  3.0194e-04,  2.9589e-08,  1.1057e-03,\n",
       "            -5.8585e-06, -4.0503e-04,  1.0134e-06,  5.7606e-07,  1.4413e-07,\n",
       "            -1.7469e-07,  8.1976e-07,  4.0499e-08, -4.4042e-04,  0.0000e+00,\n",
       "            -9.4983e-04,  3.0369e-09,  1.2335e-03,  4.1425e-10,  4.4571e-07,\n",
       "             7.4309e-07,  0.0000e+00,  1.2386e-04,  3.8346e-07,  0.0000e+00,\n",
       "             3.6803e-07,  1.2190e-03,  4.4438e-08,  5.5765e-07,  0.0000e+00,\n",
       "             1.0205e-06,  7.0924e-04,  7.9584e-07,  1.4061e-07,  8.2728e-07,\n",
       "             1.3238e-06,  0.0000e+00,  2.8289e-07,  0.0000e+00,  0.0000e+00,\n",
       "             3.1444e-07,  7.2690e-10, -9.5268e-04, -6.2920e-04,  4.0572e-07,\n",
       "             8.4863e-04,  0.0000e+00, -1.1709e-05,  7.1089e-07,  6.8111e-07,\n",
       "            -1.7536e-04,  7.0429e-07,  9.7113e-04,  4.0384e-07,  0.0000e+00,\n",
       "             9.5397e-08,  1.0577e-03,  0.0000e+00,  1.6296e-09,  8.4443e-04,\n",
       "             3.2844e-07, -5.0131e-08,  2.6128e-07,  7.3970e-07,  6.7618e-09,\n",
       "             1.6778e-07, -6.2180e-04,  0.0000e+00,  2.0727e-06, -1.1879e-03,\n",
       "             0.0000e+00,  1.1449e-03, -5.8674e-04,  3.5953e-04,  1.7205e-07,\n",
       "             8.6260e-04, -8.1215e-08,  4.1518e-07,  9.6143e-04, -1.5192e-03,\n",
       "            -1.4725e-03,  1.3013e-03,  2.5839e-04,  1.1612e-03,  2.4142e-04,\n",
       "             6.3292e-04,  2.4955e-07,  0.0000e+00,  7.6808e-07,  0.0000e+00,\n",
       "             6.3167e-07,  5.8734e-04,  1.3976e-06,  6.8720e-04, -9.1345e-10,\n",
       "             5.2002e-08,  0.0000e+00,  8.3924e-07,  1.0689e-03,  7.0361e-07,\n",
       "             1.0727e-03,  0.0000e+00,  1.7542e-04,  6.0607e-07,  3.8326e-07,\n",
       "             8.7333e-04,  5.2464e-07,  0.0000e+00,  1.9077e-11,  0.0000e+00,\n",
       "             1.0767e-04,  2.3220e-07,  0.0000e+00,  4.1899e-07,  9.7705e-04,\n",
       "             5.1565e-07, -8.1221e-04, -1.5975e-09,  1.9117e-06, -1.4950e-04,\n",
       "             0.0000e+00,  3.1930e-04, -1.0117e-03,  1.2611e-03,  7.0594e-07,\n",
       "             7.2785e-04,  7.0027e-04,  2.0001e-08]),\n",
       "    'exp_avg_sq': tensor([0.0000e+00, 0.0000e+00, 1.6784e-05, 6.1993e-09, 5.4805e-05, 2.3836e-07,\n",
       "            6.1294e-06, 1.0678e-04, 3.4506e-05, 1.4217e-04, 1.8964e-04, 6.9879e-05,\n",
       "            1.3734e-04, 2.3038e-05, 0.0000e+00, 2.6596e-04, 9.5902e-10, 3.1706e-04,\n",
       "            1.7844e-11, 1.8836e-04, 5.7419e-05, 0.0000e+00, 3.9838e-06, 1.5290e-05,\n",
       "            0.0000e+00, 5.1162e-05, 3.1331e-04, 3.0301e-05, 2.4916e-05, 0.0000e+00,\n",
       "            5.1776e-05, 1.1286e-04, 6.5860e-05, 2.7934e-05, 3.6267e-05, 8.7206e-05,\n",
       "            0.0000e+00, 8.3214e-06, 0.0000e+00, 0.0000e+00, 5.7757e-06, 1.9254e-11,\n",
       "            1.9701e-04, 3.7827e-05, 1.5308e-05, 1.5238e-04, 0.0000e+00, 1.9998e-09,\n",
       "            5.2550e-05, 3.2569e-06, 1.0918e-06, 3.3920e-05, 1.9256e-04, 9.2343e-05,\n",
       "            0.0000e+00, 1.0102e-04, 2.4024e-04, 0.0000e+00, 2.7614e-10, 1.5968e-04,\n",
       "            6.3568e-06, 3.8335e-07, 5.9561e-06, 3.7544e-05, 1.6303e-14, 1.8733e-07,\n",
       "            1.1326e-05, 0.0000e+00, 5.2971e-08, 3.8579e-05, 0.0000e+00, 6.0207e-05,\n",
       "            8.7765e-05, 3.6608e-05, 1.5784e-04, 2.9350e-05, 9.1722e-07, 1.7924e-05,\n",
       "            3.7420e-05, 4.2404e-05, 5.6315e-05, 8.0071e-05, 7.7129e-06, 2.8868e-04,\n",
       "            3.6852e-06, 1.2544e-05, 9.0323e-05, 0.0000e+00, 4.3017e-05, 0.0000e+00,\n",
       "            4.1491e-05, 7.3979e-05, 1.5880e-04, 1.7765e-05, 8.6765e-11, 6.5330e-05,\n",
       "            0.0000e+00, 1.0908e-05, 2.6137e-04, 1.3539e-04, 1.3462e-05, 0.0000e+00,\n",
       "            1.9863e-06, 3.8195e-05, 1.5274e-05, 1.6878e-04, 1.4540e-05, 0.0000e+00,\n",
       "            8.6555e-15, 0.0000e+00, 5.5480e-07, 7.8723e-07, 0.0000e+00, 1.8254e-05,\n",
       "            2.0889e-04, 9.0689e-05, 2.4090e-04, 2.6537e-10, 3.5707e-05, 1.9021e-06,\n",
       "            0.0000e+00, 1.5555e-05, 1.4574e-04, 3.5612e-04, 5.1821e-05, 1.1788e-04,\n",
       "            1.0779e-04, 4.1597e-08])},\n",
       "   10: {'step': 100,\n",
       "    'exp_avg': tensor([[ 0.0000e+00,  0.0000e+00,  4.5311e-02,  1.3213e-08,  4.7018e-02,\n",
       "              3.2781e-02,  1.8083e-02, -2.0366e-06, -3.0678e-06,  5.6417e-05,\n",
       "              5.1414e-05, -4.7259e-06, -1.8180e-06,  3.5016e-02,  0.0000e+00,\n",
       "              1.0684e-02, -5.8475e-08,  4.3460e-02, -1.7530e-10,  3.2435e-05,\n",
       "             -6.5989e-07,  0.0000e+00,  4.6693e-02, -3.2558e-07,  0.0000e+00,\n",
       "              1.0708e-05,  1.0215e-02, -1.7709e-06,  3.2140e-05,  0.0000e+00,\n",
       "             -1.8642e-05,  4.5828e-02, -3.1187e-06,  3.3696e-05,  2.0135e-05,\n",
       "              2.1647e-05,  0.0000e+00, -1.6982e-06,  0.0000e+00,  0.0000e+00,\n",
       "              1.1290e-05, -7.5280e-11,  6.1852e-02,  2.6777e-02, -4.5132e-06,\n",
       "              2.8648e-02,  0.0000e+00,  3.1563e-05, -1.6273e-06,  7.8425e-06,\n",
       "              2.1566e-02,  1.0156e-05,  1.9938e-02, -3.3688e-06,  0.0000e+00,\n",
       "              4.6329e-05,  1.3134e-02,  0.0000e+00, -1.7639e-09,  2.0337e-02,\n",
       "             -2.2431e-06,  1.7088e-05, -7.5090e-06,  2.5155e-06,  6.4271e-09,\n",
       "              2.9947e-06,  1.3359e-02,  0.0000e+00, -4.4946e-06,  5.8724e-02,\n",
       "              0.0000e+00,  2.6885e-02,  1.1427e-02,  1.3198e-02,  6.3137e-05,\n",
       "              2.9024e-02, -5.0751e-07, -3.1245e-06,  3.5844e-02,  3.3352e-02,\n",
       "              3.2501e-02,  4.3678e-02,  3.4078e-02,  1.4166e-02,  2.9307e-02,\n",
       "              2.4528e-02,  1.2606e-05,  0.0000e+00,  2.9818e-05,  0.0000e+00,\n",
       "             -3.2749e-06,  2.2080e-02,  2.2208e-05,  4.3398e-02, -8.7501e-11,\n",
       "             -8.1704e-06,  0.0000e+00, -1.9663e-06,  1.1658e-02, -5.2398e-06,\n",
       "              3.9833e-02,  0.0000e+00,  1.9914e-02, -5.7389e-06, -3.7695e-06,\n",
       "              4.1909e-02,  1.2743e-05,  0.0000e+00, -9.7824e-10,  0.0000e+00,\n",
       "              1.6183e-02,  8.6866e-07,  0.0000e+00, -3.9508e-07,  3.5388e-02,\n",
       "             -1.0561e-06,  5.3344e-03, -4.0655e-06, -8.9535e-06,  3.2652e-02,\n",
       "              0.0000e+00,  2.5924e-02,  4.0495e-02,  4.3780e-02, -2.6396e-06,\n",
       "              3.3833e-02,  2.1085e-02, -7.7292e-09]]),\n",
       "    'exp_avg_sq': tensor([[0.0000e+00, 0.0000e+00, 1.7555e-01, 1.3176e-09, 9.5702e-02, 5.4961e-01,\n",
       "             7.1985e-03, 4.3130e-04, 9.7862e-04, 3.0395e-01, 2.1894e-01, 2.3224e-03,\n",
       "             5.9152e-04, 1.1595e-01, 0.0000e+00, 3.2249e-02, 3.5556e-07, 1.7657e-01,\n",
       "             3.1955e-12, 8.0417e-02, 4.5280e-05, 0.0000e+00, 6.4903e-01, 1.1023e-05,\n",
       "             0.0000e+00, 1.1639e-02, 1.7948e-01, 8.5478e-04, 5.3925e-02, 0.0000e+00,\n",
       "             8.8897e-03, 7.2555e-01, 1.0114e-03, 1.1308e-01, 2.2478e-02, 2.9297e-02,\n",
       "             0.0000e+00, 2.9986e-04, 0.0000e+00, 0.0000e+00, 1.1100e-03, 2.0651e-13,\n",
       "             1.6878e-01, 3.9467e-02, 2.0984e-03, 1.5009e-01, 0.0000e+00, 2.1727e-08,\n",
       "             2.7536e-04, 3.7464e-04, 7.6703e-03, 7.0507e-03, 5.2698e-02, 1.3752e-03,\n",
       "             0.0000e+00, 1.2142e-01, 2.4030e-01, 0.0000e+00, 3.2352e-10, 1.8617e-01,\n",
       "             3.5072e-04, 6.2596e-02, 5.7813e-03, 4.3293e-04, 1.4729e-14, 7.7807e-05,\n",
       "             1.3162e-02, 0.0000e+00, 2.5271e-07, 6.5156e-02, 0.0000e+00, 3.0945e-02,\n",
       "             2.3826e-02, 6.4750e-01, 2.8674e-01, 3.7022e-02, 2.8332e-05, 1.0152e-03,\n",
       "             7.7969e-02, 6.3982e-03, 1.9212e-02, 7.4141e-02, 1.5870e-01, 3.6972e-01,\n",
       "             3.9045e-02, 1.7123e-02, 1.3447e-02, 0.0000e+00, 4.8610e-02, 0.0000e+00,\n",
       "             1.1152e-03, 1.3001e-01, 3.4074e-02, 7.2070e-02, 7.9615e-13, 1.2307e-02,\n",
       "             0.0000e+00, 6.0285e-05, 1.6105e-01, 1.9319e-03, 1.8881e-02, 0.0000e+00,\n",
       "             5.0768e-02, 3.4247e-03, 1.4776e-03, 3.6158e-01, 1.0134e-02, 0.0000e+00,\n",
       "             1.0529e-11, 0.0000e+00, 4.9026e-02, 1.3012e-05, 0.0000e+00, 1.6231e-05,\n",
       "             1.7708e-01, 2.2462e-02, 3.9864e-02, 1.7187e-03, 9.4405e-04, 5.5369e-02,\n",
       "             0.0000e+00, 6.8165e-02, 3.2589e-02, 6.5008e-01, 7.2452e-04, 2.6245e-01,\n",
       "             1.3092e-01, 6.2121e-09]])},\n",
       "   11: {'step': 100,\n",
       "    'exp_avg': tensor([0.0147]),\n",
       "    'exp_avg_sq': tensor([0.0482])}},\n",
       "  'param_groups': [{'lr': 0.001,\n",
       "    'betas': (0.9, 0.999),\n",
       "    'eps': 1e-08,\n",
       "    'weight_decay': 0,\n",
       "    'amsgrad': False,\n",
       "    'maximize': False,\n",
       "    'params': [0, 1, 2, 3, 4, 5, 6, 7, 8, 9, 10, 11]}]},\n",
       " 'loss_func': MSELoss(),\n",
       " 'loss_values_train': [3.1865809632783194e-05,\n",
       "  2.0198543500242528e-05,\n",
       "  3.377422772135173e-05,\n",
       "  2.193656592302843e-05,\n",
       "  2.0062672488487865e-05,\n",
       "  2.194359708046292e-05,\n",
       "  2.1386112417945827e-05,\n",
       "  2.0102386316658986e-05,\n",
       "  2.0085493543166468e-05,\n",
       "  2.0883938670311028e-05,\n",
       "  2.0145515462070225e-05,\n",
       "  2.01865056959694e-05,\n",
       "  2.0442052920115442e-05,\n",
       "  1.99773204071702e-05,\n",
       "  1.9572850183593107e-05,\n",
       "  1.96508484711845e-05,\n",
       "  1.9372345224986798e-05,\n",
       "  1.9726957215553095e-05,\n",
       "  1.9214085054147315e-05,\n",
       "  1.975749583316345e-05,\n",
       "  1.9566061967430118e-05,\n",
       "  1.9403750204591822e-05,\n",
       "  1.9504815058940426e-05,\n",
       "  1.890653940007486e-05,\n",
       "  1.92466597509855e-05,\n",
       "  1.875449672622087e-05,\n",
       "  1.8941490808082402e-05,\n",
       "  1.8507737806166162e-05,\n",
       "  1.8301283999916923e-05,\n",
       "  1.7951196629856916e-05,\n",
       "  1.7708620412963422e-05,\n",
       "  1.7425664528858393e-05,\n",
       "  1.66418472941461e-05,\n",
       "  1.6166399657183687e-05,\n",
       "  1.59667186422548e-05,\n",
       "  1.5172355956794325e-05,\n",
       "  1.4926427407434807e-05,\n",
       "  1.409283934715332e-05,\n",
       "  1.392354784302265e-05,\n",
       "  1.3129856138216799e-05,\n",
       "  1.3152468957519827e-05,\n",
       "  1.263385104223248e-05,\n",
       "  1.2423706842382796e-05,\n",
       "  1.2050813842486824e-05,\n",
       "  1.1848335789426776e-05,\n",
       "  1.1641971961426241e-05,\n",
       "  1.1644074881638824e-05,\n",
       "  1.0997113277802733e-05,\n",
       "  1.0909912786175963e-05,\n",
       "  1.0773117569266748e-05,\n",
       "  1.054672458310456e-05,\n",
       "  1.0342199524886481e-05,\n",
       "  1.0282632638840458e-05,\n",
       "  1.002935672277243e-05,\n",
       "  9.88751115530378e-06,\n",
       "  9.482852620106186e-06,\n",
       "  9.59425276172207e-06,\n",
       "  9.315802217070037e-06,\n",
       "  9.331992517520884e-06,\n",
       "  9.022769411811865e-06,\n",
       "  9.081759794364403e-06,\n",
       "  8.927029341681248e-06,\n",
       "  8.826983812350113e-06,\n",
       "  8.834538129030644e-06,\n",
       "  8.811890603831686e-06,\n",
       "  8.905396642587322e-06,\n",
       "  8.420991028264585e-06,\n",
       "  8.618866051201614e-06,\n",
       "  8.520296807851012e-06,\n",
       "  8.521485806137467e-06,\n",
       "  8.481573383117418e-06,\n",
       "  8.312216323405548e-06,\n",
       "  8.309452705766762e-06,\n",
       "  8.09253314378962e-06,\n",
       "  8.391820722736318e-06,\n",
       "  8.432458113360214e-06,\n",
       "  8.331431821118199e-06,\n",
       "  8.428837131551629e-06,\n",
       "  8.440539445497444e-06,\n",
       "  8.249885819720739e-06,\n",
       "  8.28817927696588e-06,\n",
       "  8.335348445743957e-06,\n",
       "  8.241082733488544e-06,\n",
       "  8.131668540361926e-06,\n",
       "  8.293734148419838e-06,\n",
       "  8.330190763987853e-06,\n",
       "  8.336750821020197e-06,\n",
       "  8.413119859608259e-06,\n",
       "  8.342333328650544e-06,\n",
       "  8.187088714546219e-06,\n",
       "  8.421597738741565e-06,\n",
       "  8.196787727054803e-06,\n",
       "  8.270555751553523e-06,\n",
       "  8.20354702163785e-06,\n",
       "  8.294757972349742e-06,\n",
       "  8.15286934386207e-06,\n",
       "  8.185426045050512e-06,\n",
       "  8.124248548352676e-06,\n",
       "  8.166779981111805e-06,\n",
       "  8.216363780464049e-06],\n",
       " 'loss_values_test': [tensor(6.5983),\n",
       "  tensor(10.8301),\n",
       "  tensor(7.0957),\n",
       "  tensor(6.5860),\n",
       "  tensor(7.0842),\n",
       "  tensor(6.9158),\n",
       "  tensor(6.5150),\n",
       "  tensor(6.5593),\n",
       "  tensor(6.7283),\n",
       "  tensor(6.5253),\n",
       "  tensor(6.4367),\n",
       "  tensor(6.5262),\n",
       "  tensor(6.5274),\n",
       "  tensor(6.4413),\n",
       "  tensor(6.4055),\n",
       "  tensor(6.4412),\n",
       "  tensor(6.4438),\n",
       "  tensor(6.3868),\n",
       "  tensor(6.3551),\n",
       "  tensor(6.3646),\n",
       "  tensor(6.3488),\n",
       "  tensor(6.2888),\n",
       "  tensor(6.2619),\n",
       "  tensor(6.2493),\n",
       "  tensor(6.1886),\n",
       "  tensor(6.1101),\n",
       "  tensor(6.0509),\n",
       "  tensor(5.9765),\n",
       "  tensor(5.8717),\n",
       "  tensor(5.7694),\n",
       "  tensor(5.6632),\n",
       "  tensor(5.5081),\n",
       "  tensor(5.3476),\n",
       "  tensor(5.1793),\n",
       "  tensor(4.9859),\n",
       "  tensor(4.8113),\n",
       "  tensor(4.6431),\n",
       "  tensor(4.4892),\n",
       "  tensor(4.3532),\n",
       "  tensor(4.2351),\n",
       "  tensor(4.1276),\n",
       "  tensor(4.0458),\n",
       "  tensor(3.9553),\n",
       "  tensor(3.8769),\n",
       "  tensor(3.7835),\n",
       "  tensor(3.7014),\n",
       "  tensor(3.6188),\n",
       "  tensor(3.5410),\n",
       "  tensor(3.4742),\n",
       "  tensor(3.4060),\n",
       "  tensor(3.3491),\n",
       "  tensor(3.3015),\n",
       "  tensor(3.2371),\n",
       "  tensor(3.1955),\n",
       "  tensor(3.1403),\n",
       "  tensor(3.0823),\n",
       "  tensor(3.0424),\n",
       "  tensor(2.9985),\n",
       "  tensor(2.9572),\n",
       "  tensor(2.9306),\n",
       "  tensor(2.9158),\n",
       "  tensor(2.8835),\n",
       "  tensor(2.8518),\n",
       "  tensor(2.8381),\n",
       "  tensor(2.8177),\n",
       "  tensor(2.7956),\n",
       "  tensor(2.8087),\n",
       "  tensor(2.8054),\n",
       "  tensor(2.7579),\n",
       "  tensor(2.7560),\n",
       "  tensor(2.7506),\n",
       "  tensor(2.7311),\n",
       "  tensor(2.7384),\n",
       "  tensor(2.7473),\n",
       "  tensor(2.7264),\n",
       "  tensor(2.7067),\n",
       "  tensor(2.7415),\n",
       "  tensor(2.7198),\n",
       "  tensor(2.6926),\n",
       "  tensor(2.7160),\n",
       "  tensor(2.7131),\n",
       "  tensor(2.6843),\n",
       "  tensor(2.7103),\n",
       "  tensor(2.6911),\n",
       "  tensor(2.6804),\n",
       "  tensor(2.7017),\n",
       "  tensor(2.6784),\n",
       "  tensor(2.6842),\n",
       "  tensor(2.6912),\n",
       "  tensor(2.6681),\n",
       "  tensor(2.6850),\n",
       "  tensor(2.6837),\n",
       "  tensor(2.6649),\n",
       "  tensor(2.6838),\n",
       "  tensor(2.6682),\n",
       "  tensor(2.6689),\n",
       "  tensor(2.6762),\n",
       "  tensor(2.6617),\n",
       "  tensor(2.6671),\n",
       "  tensor(2.6756)]}"
      ]
     },
     "execution_count": 573,
     "metadata": {},
     "output_type": "execute_result"
    }
   ],
   "source": [
    "model_load = torch.load(PATH_TO_SAVE_MODELS_TO+'simpleNN_extensive.pkl')\n",
    "model_load"
   ]
  },
  {
   "cell_type": "code",
   "execution_count": 569,
   "metadata": {},
   "outputs": [],
   "source": [
    "# load model for testing purposes.\n",
    "model_load = torch.load(PATH_TO_SAVE_MODELS_TO+'simpleNN.pkl')"
   ]
  },
  {
   "cell_type": "code",
   "execution_count": 571,
   "metadata": {},
   "outputs": [
    {
     "data": {
      "text/plain": [
       "<bound method Module.state_dict of Model(\n",
       "  (cell_branch): Sequential(\n",
       "    (0): Linear(in_features=908, out_features=256, bias=True)\n",
       "    (1): ReLU()\n",
       "    (2): Linear(in_features=256, out_features=128, bias=True)\n",
       "    (3): ReLU()\n",
       "  )\n",
       "  (drug_branch): Sequential(\n",
       "    (0): Linear(in_features=256, out_features=128, bias=True)\n",
       "    (1): ReLU()\n",
       "    (2): Linear(in_features=128, out_features=128, bias=True)\n",
       "    (3): ReLU()\n",
       "  )\n",
       "  (fcn): Sequential(\n",
       "    (0): Linear(in_features=256, out_features=128, bias=True)\n",
       "    (1): ReLU()\n",
       "    (2): Linear(in_features=128, out_features=1, bias=True)\n",
       "    (3): ReLU()\n",
       "  )\n",
       ")>"
      ]
     },
     "execution_count": 571,
     "metadata": {},
     "output_type": "execute_result"
    }
   ],
   "source": [
    "model.state_dict"
   ]
  },
  {
   "cell_type": "code",
   "execution_count": 570,
   "metadata": {},
   "outputs": [
    {
     "data": {
      "text/plain": [
       "OrderedDict([('cell_branch.0.weight',\n",
       "              tensor([[ 0.0254,  0.0275, -0.0078,  ...,  0.0115, -0.0314,  0.0030],\n",
       "                      [-0.0082, -0.0246, -0.0318,  ...,  0.0231, -0.0057,  0.0260],\n",
       "                      [-0.0058, -0.0181, -0.0198,  ...,  0.0294,  0.0285, -0.0156],\n",
       "                      ...,\n",
       "                      [-0.0120, -0.0154, -0.0158,  ...,  0.0054, -0.0155,  0.0159],\n",
       "                      [-0.0287,  0.0330,  0.0186,  ...,  0.0319, -0.0094,  0.0122],\n",
       "                      [-0.0364,  0.0239,  0.0016,  ..., -0.0126, -0.0059, -0.0121]])),\n",
       "             ('cell_branch.0.bias',\n",
       "              tensor([-6.4251e-03, -4.3917e-03,  7.8201e-03,  2.2410e-02,  1.9945e-02,\n",
       "                      -1.7462e-02, -5.7303e-03, -3.2234e-03, -2.7765e-02, -1.6945e-02,\n",
       "                       2.8574e-02,  1.9936e-02, -2.3944e-02,  1.5986e-03,  4.7320e-03,\n",
       "                      -2.8071e-02,  2.3325e-02, -5.8056e-04, -8.6648e-03, -2.8837e-02,\n",
       "                       2.8342e-03, -1.4823e-02,  7.5143e-03, -2.1161e-03,  1.5171e-02,\n",
       "                      -3.3186e-02, -2.1901e-02, -1.5355e-02,  1.0974e-03, -6.0246e-03,\n",
       "                      -3.0042e-02,  3.2410e-02,  3.1080e-03, -1.9177e-02,  2.0462e-02,\n",
       "                      -3.4935e-03,  5.3778e-03,  3.0157e-02,  9.4681e-03,  9.2738e-04,\n",
       "                      -1.7876e-02, -1.7488e-02, -5.2400e-03,  2.0699e-02, -2.2489e-02,\n",
       "                      -3.6457e-02,  2.9333e-02, -8.7942e-03,  2.0739e-02,  6.4652e-03,\n",
       "                       1.7454e-02, -1.9109e-03,  1.4440e-02,  3.8548e-02,  1.6609e-02,\n",
       "                      -1.1417e-02, -2.1943e-02, -3.0768e-02,  3.2729e-03, -1.6325e-02,\n",
       "                       1.7885e-02, -2.7998e-02, -3.7285e-02, -2.2896e-02,  1.5884e-02,\n",
       "                       2.4318e-02,  2.1892e-02,  2.4630e-02, -1.2593e-02, -6.4393e-04,\n",
       "                       2.5856e-03, -1.2900e-02,  2.9312e-02, -9.0311e-03,  4.8648e-03,\n",
       "                       7.4295e-03,  1.3104e-02,  1.4794e-02,  9.0610e-03,  1.6868e-02,\n",
       "                      -2.6563e-02,  5.7246e-03,  1.9647e-02,  1.4631e-02,  6.2519e-03,\n",
       "                       6.1514e-03,  2.1702e-02, -3.1483e-02,  2.7097e-03, -3.3110e-02,\n",
       "                      -3.3152e-02, -8.3657e-03,  9.7176e-03,  1.5435e-03,  2.9708e-02,\n",
       "                      -1.5421e-02,  8.4603e-03, -2.8348e-02,  1.2750e-02, -1.6537e-02,\n",
       "                       2.6188e-02,  2.4874e-02, -2.0885e-02, -3.1611e-02,  1.7128e-02,\n",
       "                      -2.8791e-02, -3.1604e-02,  2.6719e-03,  2.4340e-02,  1.5699e-02,\n",
       "                       2.5721e-02,  2.6329e-02,  4.5827e-03, -1.9735e-02,  2.3376e-02,\n",
       "                       4.3525e-03, -6.8326e-03, -5.0368e-04,  1.8420e-02, -9.0641e-03,\n",
       "                      -1.5227e-02,  2.5574e-02, -3.1076e-02, -2.7650e-02,  3.8436e-02,\n",
       "                      -1.2108e-02, -5.5816e-03, -2.2154e-02, -3.8396e-02, -3.2460e-02,\n",
       "                      -2.7458e-02, -6.4683e-03, -3.7524e-02, -3.5855e-02, -2.3076e-02,\n",
       "                      -1.6353e-02, -1.6345e-02,  1.1880e-02, -2.7571e-02,  3.3378e-02,\n",
       "                      -3.4750e-02, -9.3690e-03, -1.6343e-03, -1.9401e-02,  3.1953e-02,\n",
       "                      -2.8146e-02, -3.2638e-02, -1.7995e-02,  8.6674e-03, -6.4634e-03,\n",
       "                       2.8294e-02,  3.2725e-02, -2.7735e-02, -2.1904e-02,  1.3414e-02,\n",
       "                      -1.8400e-02,  4.0293e-03,  1.0455e-02,  8.5641e-03,  1.8178e-02,\n",
       "                      -5.3553e-03, -3.3886e-03,  1.5742e-02, -4.9136e-03, -2.9123e-02,\n",
       "                       5.3294e-03, -3.8312e-02, -1.6857e-02, -3.7635e-02, -2.8996e-02,\n",
       "                       3.2193e-02,  1.8884e-02, -6.3947e-05, -2.0989e-02,  1.0180e-02,\n",
       "                      -2.5675e-02,  8.3561e-03,  3.0815e-02,  1.8931e-02, -2.6424e-03,\n",
       "                       3.2272e-02, -1.7947e-02,  1.8742e-02,  1.1253e-02,  2.5696e-02,\n",
       "                       1.8957e-02,  1.1155e-03, -2.4493e-02,  1.9144e-02,  1.7132e-02,\n",
       "                      -2.3915e-02, -1.2763e-02, -1.4067e-02,  1.8228e-02,  8.4060e-03,\n",
       "                       2.1741e-02, -2.2249e-02, -2.8999e-02,  1.5825e-02,  2.1678e-02,\n",
       "                       1.3293e-02, -2.7882e-02, -3.5463e-02,  2.9737e-02,  2.1029e-02,\n",
       "                       1.3231e-02,  6.7419e-03,  1.4840e-02,  9.5785e-03, -1.4314e-02,\n",
       "                       8.4703e-04,  5.0314e-03, -2.8123e-02, -5.1825e-03,  3.3864e-02,\n",
       "                      -3.0390e-02,  1.1418e-02, -2.7366e-02,  2.0307e-03,  2.5161e-02,\n",
       "                       3.2228e-03, -8.3809e-03, -3.0889e-02, -3.2740e-02,  5.5893e-03,\n",
       "                      -4.5994e-03,  3.0208e-02,  2.7873e-03, -2.9341e-02,  3.3478e-02,\n",
       "                       5.7844e-03,  2.6763e-02,  2.0481e-02, -1.5319e-02,  3.9997e-03,\n",
       "                      -9.0729e-03, -7.1388e-03,  1.0826e-02,  2.8758e-02, -1.4151e-02,\n",
       "                       2.3785e-02, -1.4723e-02, -2.3774e-02, -2.9472e-02,  6.0686e-03,\n",
       "                       3.0596e-02, -6.6243e-03,  3.7363e-03, -1.5471e-02,  4.5983e-03,\n",
       "                      -2.2205e-02, -1.3045e-02, -2.0317e-03,  2.4729e-02, -1.7984e-02,\n",
       "                      -1.8716e-02])),\n",
       "             ('cell_branch.2.weight',\n",
       "              tensor([[-0.0127, -0.0426,  0.0517,  ..., -0.0439,  0.0141,  0.0104],\n",
       "                      [ 0.0234, -0.0329,  0.0468,  ..., -0.0418, -0.0199, -0.0058],\n",
       "                      [-0.0225, -0.0512,  0.0217,  ...,  0.0547,  0.0579, -0.0388],\n",
       "                      ...,\n",
       "                      [-0.0213, -0.0119, -0.0233,  ..., -0.0135,  0.0371,  0.0033],\n",
       "                      [ 0.0494,  0.0380, -0.0611,  ...,  0.0599,  0.0267,  0.0024],\n",
       "                      [ 0.0527, -0.0203,  0.0591,  ..., -0.0410, -0.0476, -0.0231]])),\n",
       "             ('cell_branch.2.bias',\n",
       "              tensor([ 0.0038, -0.0328, -0.0056, -0.0022,  0.0209, -0.0424, -0.0281,  0.0140,\n",
       "                       0.0472,  0.0221,  0.0599,  0.0179,  0.0215,  0.0161, -0.0572, -0.0477,\n",
       "                      -0.0268,  0.0323,  0.0312,  0.0095,  0.0113, -0.0051,  0.0307,  0.0281,\n",
       "                      -0.0324,  0.0383, -0.0086,  0.0404,  0.0269,  0.0378,  0.0130,  0.0620,\n",
       "                       0.0500, -0.0353, -0.0533,  0.0197,  0.0204,  0.0181, -0.0262,  0.0522,\n",
       "                       0.0187, -0.0145, -0.0293, -0.0196, -0.0103,  0.0093, -0.0216,  0.0254,\n",
       "                      -0.0399, -0.0396,  0.0613, -0.0306, -0.0388, -0.0249, -0.0499, -0.0305,\n",
       "                       0.0416,  0.0480, -0.0412,  0.0469,  0.0475, -0.0519, -0.0316, -0.0079,\n",
       "                      -0.0032,  0.0547, -0.0145,  0.0289,  0.0018,  0.0279,  0.0412,  0.0517,\n",
       "                       0.0119, -0.0547,  0.0642, -0.0154,  0.0054,  0.0142, -0.0290,  0.0510,\n",
       "                       0.0583,  0.0122, -0.0105, -0.0401, -0.0643,  0.0645,  0.0022, -0.0155,\n",
       "                       0.0026, -0.0190,  0.0346, -0.0243, -0.0596,  0.0524, -0.0220,  0.0121,\n",
       "                      -0.0112,  0.0250,  0.0145, -0.0066,  0.0312,  0.0485, -0.0652, -0.0035,\n",
       "                      -0.0244,  0.0478,  0.0199, -0.0218,  0.0221, -0.0663,  0.0487,  0.0018,\n",
       "                       0.0443,  0.0113,  0.0182,  0.0518, -0.0649, -0.0007,  0.0127,  0.0478,\n",
       "                       0.0285, -0.0046, -0.0217, -0.0252, -0.0063,  0.0541,  0.0581, -0.0483])),\n",
       "             ('drug_branch.0.weight',\n",
       "              tensor([[-0.0562,  0.0271,  0.0313,  ...,  0.0462,  0.0830,  0.0593],\n",
       "                      [ 0.0553, -0.0469,  0.0854,  ...,  0.0302, -0.0521, -0.0144],\n",
       "                      [ 0.0257,  0.0181, -0.0620,  ...,  0.0460, -0.0773, -0.0306],\n",
       "                      ...,\n",
       "                      [-0.0193, -0.0283, -0.1059,  ...,  0.0805, -0.1384, -0.0687],\n",
       "                      [ 0.0421, -0.0097,  0.0888,  ...,  0.0328, -0.0266,  0.0350],\n",
       "                      [ 0.0458,  0.0498, -0.0326,  ..., -0.0171,  0.0419,  0.0178]])),\n",
       "             ('drug_branch.0.bias',\n",
       "              tensor([-0.0059,  0.0416, -0.0059,  0.0390,  0.0482, -0.0025,  0.0325, -0.0483,\n",
       "                      -0.0330,  0.0637, -0.0360,  0.0259,  0.0189,  0.0159,  0.0214,  0.0555,\n",
       "                       0.0603,  0.0555, -0.0313,  0.0140,  0.0265, -0.0085, -0.0337, -0.0656,\n",
       "                      -0.0158, -0.0095,  0.0770, -0.0130,  0.0292,  0.0249, -0.0016,  0.0319,\n",
       "                       0.0059,  0.0241,  0.0427,  0.0395, -0.0238,  0.0057, -0.0165, -0.0352,\n",
       "                       0.0448,  0.0039,  0.0163,  0.0256,  0.0399, -0.0718,  0.0557, -0.0607,\n",
       "                       0.0545, -0.0128,  0.0456,  0.0689,  0.0098, -0.0498, -0.0056,  0.0628,\n",
       "                       0.0111,  0.0218, -0.0021,  0.0448,  0.0083, -0.0409, -0.0457, -0.0181,\n",
       "                      -0.0402,  0.0775,  0.0294,  0.0071,  0.0258,  0.0155, -0.0249, -0.0052,\n",
       "                       0.0688,  0.0708,  0.0479, -0.0424,  0.0012, -0.0604, -0.0128, -0.0232,\n",
       "                      -0.0144,  0.0549,  0.0024,  0.0068, -0.0800, -0.0453, -0.0259, -0.0027,\n",
       "                      -0.0147, -0.0130,  0.0241,  0.0793, -0.0414, -0.0677, -0.0545, -0.0386,\n",
       "                      -0.0285,  0.0266,  0.0110,  0.0767,  0.0074,  0.0209,  0.0366,  0.0336,\n",
       "                       0.0788, -0.0310,  0.0003,  0.0047,  0.0063, -0.0630,  0.0346, -0.0008,\n",
       "                      -0.0348, -0.0353,  0.0348,  0.0203, -0.0446,  0.0119,  0.0710, -0.0776,\n",
       "                       0.0171,  0.0496, -0.0174, -0.0079,  0.0412,  0.0722,  0.0371, -0.0244])),\n",
       "             ('drug_branch.2.weight',\n",
       "              tensor([[ 0.1531, -0.1183, -0.0013,  ..., -0.0851, -0.0663,  0.0888],\n",
       "                      [-0.0317,  0.0064,  0.0275,  ...,  0.0330, -0.0387,  0.0799],\n",
       "                      [ 0.0334,  0.0329, -0.0757,  ..., -0.0181,  0.0286, -0.0605],\n",
       "                      ...,\n",
       "                      [ 0.0244,  0.1242,  0.0453,  ..., -0.0208,  0.0740, -0.0250],\n",
       "                      [ 0.0959,  0.0440, -0.0246,  ..., -0.1003,  0.0155, -0.0398],\n",
       "                      [-0.0335,  0.0684, -0.0941,  ...,  0.0084, -0.0164, -0.0219]])),\n",
       "             ('drug_branch.2.bias',\n",
       "              tensor([-0.0443,  0.0712, -0.0615,  0.0653,  0.0613,  0.0638,  0.0827, -0.0125,\n",
       "                       0.0220,  0.0407,  0.0400, -0.0432,  0.0177, -0.0402,  0.0459,  0.0724,\n",
       "                      -0.0521, -0.0367,  0.0408, -0.0143, -0.0304,  0.0407,  0.0115, -0.0473,\n",
       "                       0.0322, -0.0030,  0.0371,  0.0403,  0.0704,  0.0340,  0.0476,  0.0775,\n",
       "                       0.0599,  0.0267, -0.0043,  0.0188,  0.0176,  0.0139,  0.0751,  0.0034,\n",
       "                       0.0256, -0.0876,  0.0886,  0.0901,  0.0083,  0.0750,  0.0219, -0.0163,\n",
       "                      -0.0795,  0.1209, -0.0009, -0.0354,  0.0731,  0.0654,  0.0427,  0.0708,\n",
       "                       0.0934,  0.0232, -0.0634, -0.0154,  0.0825, -0.0209,  0.0526,  0.0451,\n",
       "                       0.0310, -0.0004,  0.0091,  0.0279,  0.0663,  0.0192,  0.0790, -0.0076,\n",
       "                       0.0320,  0.1125, -0.0692,  0.0717, -0.0575, -0.0364,  0.0015, -0.0349,\n",
       "                       0.0533, -0.0251,  0.0375, -0.0673,  0.0653,  0.0157, -0.0355,  0.0646,\n",
       "                       0.0028, -0.0315,  0.0822,  0.0189,  0.0425,  0.0790, -0.0619, -0.0404,\n",
       "                      -0.0703,  0.0666, -0.0800,  0.0502, -0.0432, -0.0535, -0.0403, -0.0298,\n",
       "                       0.0726, -0.0518,  0.0382,  0.0466,  0.0216,  0.0597,  0.0686, -0.0179,\n",
       "                      -0.0216,  0.0845, -0.0608, -0.0578, -0.0651,  0.0965,  0.0732,  0.0564,\n",
       "                       0.0427, -0.0010,  0.0479, -0.0447, -0.0079,  0.0737, -0.0042, -0.0715])),\n",
       "             ('fcn.0.weight',\n",
       "              tensor([[ 0.0284, -0.0445, -0.0590,  ..., -0.0202, -0.0454,  0.0403],\n",
       "                      [ 0.0029,  0.0172, -0.0077,  ...,  0.0168,  0.0387, -0.0256],\n",
       "                      [-0.0110,  0.0274, -0.0487,  ...,  0.0446,  0.0002, -0.0213],\n",
       "                      ...,\n",
       "                      [ 0.0536, -0.0348,  0.0615,  ...,  0.0556, -0.0824, -0.0550],\n",
       "                      [ 0.0161,  0.0610, -0.0107,  ..., -0.0115, -0.0689, -0.0473],\n",
       "                      [ 0.0256, -0.0570,  0.0491,  ...,  0.0192, -0.0034,  0.0166]])),\n",
       "             ('fcn.0.bias',\n",
       "              tensor([-1.0866e-02, -3.9528e-02, -7.9923e-03,  3.4119e-02,  3.2920e-02,\n",
       "                      -7.5221e-04,  1.4431e-03,  4.5203e-02,  6.0339e-03, -3.2227e-02,\n",
       "                      -1.9403e-02,  1.3366e-02, -1.4344e-02, -1.2197e-02, -4.9072e-02,\n",
       "                       4.3954e-02, -8.8084e-04,  1.8529e-02, -3.4614e-02,  3.9769e-02,\n",
       "                       4.1965e-02,  5.3472e-02,  1.7988e-02, -2.2006e-02, -2.2680e-02,\n",
       "                      -4.3734e-02, -5.2992e-02, -1.6380e-02, -5.2719e-02, -5.7728e-02,\n",
       "                       1.7814e-02,  4.7800e-02, -1.2953e-02, -1.6082e-02,  1.5348e-02,\n",
       "                      -1.6949e-02,  4.3994e-02,  3.6537e-02,  4.0121e-02, -4.2881e-02,\n",
       "                      -2.9535e-03,  3.2071e-02, -3.4770e-02, -5.9869e-02, -5.0691e-02,\n",
       "                       5.3464e-02, -5.5090e-02, -2.2438e-02, -5.5428e-02, -4.1717e-02,\n",
       "                       1.3345e-02, -3.8869e-02,  1.0525e-02,  6.9953e-03, -5.0838e-02,\n",
       "                       2.4346e-03, -6.0588e-02, -2.1157e-02,  3.7973e-02, -1.5815e-02,\n",
       "                      -3.4429e-02, -3.4631e-02, -6.5661e-02,  1.7498e-02, -2.5271e-02,\n",
       "                      -4.8593e-02, -3.3176e-02, -3.2518e-02, -5.7104e-02, -4.2404e-02,\n",
       "                      -5.5721e-02,  4.4308e-02, -1.1237e-02,  3.2654e-02,  4.4908e-02,\n",
       "                       3.5891e-02, -4.9786e-02,  5.3932e-02, -1.6647e-02,  4.3329e-02,\n",
       "                      -7.2958e-03,  6.2099e-02,  4.1379e-02,  5.7409e-02,  4.6239e-02,\n",
       "                      -3.6729e-02,  2.8596e-02, -2.3398e-02,  5.7652e-02, -5.0867e-02,\n",
       "                       2.5102e-02, -5.4844e-02, -4.0640e-02,  3.1892e-03, -2.0158e-02,\n",
       "                       7.7421e-03, -1.4496e-02, -6.7331e-02, -4.7846e-02,  4.6042e-02,\n",
       "                       2.7891e-02,  1.5467e-02, -1.9338e-02,  1.6682e-02,  2.8122e-02,\n",
       "                       2.6626e-02, -9.9263e-03, -5.1142e-02, -3.8441e-02, -3.2266e-02,\n",
       "                      -6.0432e-02, -3.5823e-04, -2.8734e-02,  2.8596e-02,  6.1710e-02,\n",
       "                      -5.8636e-04,  3.6863e-02, -5.6483e-02, -5.0528e-02,  4.1808e-02,\n",
       "                       1.1554e-03,  3.7504e-02,  1.5563e-05, -1.5313e-02, -1.5177e-02,\n",
       "                       2.9524e-02,  2.1765e-02, -1.2955e-03])),\n",
       "             ('fcn.2.weight',\n",
       "              tensor([[-8.3808e-02, -7.6648e-03,  2.0248e-02,  4.5447e-02,  7.4706e-02,\n",
       "                       -5.0044e-04, -2.7898e-02, -8.2009e-02, -4.3298e-02,  5.3769e-02,\n",
       "                        6.2104e-02, -6.4156e-02,  8.0016e-02, -3.0712e-02, -9.4112e-04,\n",
       "                       -8.2982e-02,  4.2370e-03,  8.3478e-02, -1.4343e-02,  6.2157e-02,\n",
       "                       -7.1078e-02,  6.4295e-02,  8.2557e-03, -5.4217e-02, -7.0221e-02,\n",
       "                        3.7173e-02,  8.4764e-02,  3.8773e-02,  2.7468e-02, -1.0321e-02,\n",
       "                       -6.7900e-02,  4.8005e-02, -6.2109e-02,  2.1777e-02,  3.5022e-02,\n",
       "                        5.7832e-02, -8.4020e-02, -1.8700e-02,  1.4983e-05,  4.2912e-02,\n",
       "                        3.8398e-02, -8.0670e-02, -6.5019e-02, -4.2411e-02, -2.6764e-02,\n",
       "                        5.7411e-02, -2.6629e-02, -1.1047e-02, -5.5897e-02,  3.0500e-02,\n",
       "                       -1.1959e-02,  3.7356e-02,  6.5722e-02, -6.8305e-02,  3.8012e-02,\n",
       "                        4.3921e-02,  7.1717e-02,  1.1727e-02, -1.1037e-02,  5.7668e-02,\n",
       "                       -1.3689e-02, -5.2370e-03, -1.4368e-02,  4.0459e-02,  3.5231e-02,\n",
       "                        3.1158e-03, -4.1652e-02, -1.7539e-02, -2.4790e-02, -8.1122e-02,\n",
       "                        4.9668e-03,  7.7842e-02, -5.1664e-02,  2.6643e-02,  6.0990e-02,\n",
       "                        5.8208e-02,  1.7248e-02, -2.9529e-02,  6.4943e-02, -9.7362e-02,\n",
       "                       -1.0186e-01,  8.7968e-02,  1.7314e-02,  7.8740e-02,  1.6011e-02,\n",
       "                        4.2601e-02,  5.2461e-02, -3.5821e-03,  3.8110e-02, -1.0180e-02,\n",
       "                       -4.8058e-02,  3.9737e-02,  8.3047e-02,  4.6221e-02,  8.6522e-02,\n",
       "                       -4.0521e-02, -6.3609e-02, -4.2455e-02,  7.3001e-02, -5.4442e-02,\n",
       "                        7.2294e-02,  3.5026e-02,  1.1775e-02, -4.5867e-02, -2.6797e-02,\n",
       "                        5.9106e-02,  2.0366e-02, -4.4333e-02,  6.7968e-03,  4.5161e-02,\n",
       "                        6.8550e-03,  2.9515e-02,  6.4681e-04, -4.9724e-02,  6.6123e-02,\n",
       "                       -4.8918e-02, -7.6417e-02,  6.1419e-03, -7.3249e-02, -1.0629e-02,\n",
       "                       -4.2828e-02,  2.1555e-02, -6.9178e-02,  8.5456e-02, -5.4484e-02,\n",
       "                        4.9254e-02,  4.7401e-02, -8.0233e-02]])),\n",
       "             ('fcn.2.bias', tensor([-0.0509]))])"
      ]
     },
     "execution_count": 570,
     "metadata": {},
     "output_type": "execute_result"
    }
   ],
   "source": [
    "model_load"
   ]
  },
  {
   "cell_type": "markdown",
   "metadata": {},
   "source": [
    "__CONCLUSION__: \n",
    "- The model is highly overfitted\n",
    "  - While the train set has loss values of far below 1, the test set has values highly over 1"
   ]
  },
  {
   "cell_type": "code",
   "execution_count": null,
   "metadata": {},
   "outputs": [],
   "source": []
  },
  {
   "cell_type": "code",
   "execution_count": 536,
   "metadata": {},
   "outputs": [
    {
     "data": {
      "text/plain": [
       "100"
      ]
     },
     "execution_count": 536,
     "metadata": {},
     "output_type": "execute_result"
    }
   ],
   "source": [
    "len(loss_values)"
   ]
  },
  {
   "cell_type": "code",
   "execution_count": 387,
   "metadata": {},
   "outputs": [
    {
     "data": {
      "image/png": "[encoded data removed]",
      "text/plain": [
       "<Figure size 432x288 with 1 Axes>"
      ]
     },
     "metadata": {},
     "output_type": "display_data"
    }
   ],
   "source": [
    "plt.hist(modeling_dataset.LN_IC50, bins=20);"
   ]
  },
  {
   "cell_type": "markdown",
   "metadata": {},
   "source": [
    "---\n",
    "\n",
    "## Model2 | Prevent Overfitting\n",
    "\n",
    "- __Early Stopping__ doesn't make too much sense here (yet).\n",
    "- __Dropout__ could prevent overfitting here and therefore be tried.\n",
    "- "
   ]
  },
  {
   "cell_type": "code",
   "execution_count": null,
   "metadata": {},
   "outputs": [],
   "source": [
    "# ---------------- # \n",
    "# HYPER-PARAMETERS #\n",
    "# ---------------- #\n",
    "input_size   = 910 # which is gene_expr_base.shape[0]-1 = 911 - 1\n",
    "                   # One value per feature\n",
    "hidden_size   = 100\n",
    "num_classes   = 1\n",
    "num_epochs    = 100\n",
    "batch_size    = 20_000\n",
    "learning_rate = 0.001  \n",
    "\n",
    "# ---------------------------- #\n",
    "# CREATE TRAIN & TEST DATASETS #\n",
    "# ---------------------------- #\n",
    "train_loader = torch.utils.data.DataLoader(dataset     = train_set, \n",
    "                                           batch_size  = batch_size, \n",
    "                                           shuffle     = True,\n",
    "                                           num_workers = 0)\n",
    "\n",
    "test_loader = torch.utils.data.DataLoader(dataset     = test_set, \n",
    "                                          batch_size  = batch_size, \n",
    "                                          shuffle     = True,\n",
    "                                          num_workers = 0) "
   ]
  },
  {
   "cell_type": "code",
   "execution_count": 579,
   "metadata": {},
   "outputs": [
    {
     "name": "stdout",
     "output_type": "stream",
     "text": [
      "The autoreload extension is already loaded. To reload it, use:\n",
      "  %reload_ext autoreload\n"
     ]
    },
    {
     "name": "stderr",
     "output_type": "stream",
     "text": [
      "0it [00:02, ?it/s]\n"
     ]
    },
    {
     "name": "stdout",
     "output_type": "stream",
     "text": [
      "Epoch [1/100], Step [1/15], Loss: 11.5953\n",
      "loss_values : 0.0000\n"
     ]
    },
    {
     "name": "stderr",
     "output_type": "stream",
     "text": [
      "4it [00:06,  1.74s/it]\n"
     ]
    },
    {
     "name": "stdout",
     "output_type": "stream",
     "text": [
      "MSE (test) : 10.166900634765625\n"
     ]
    },
    {
     "name": "stderr",
     "output_type": "stream",
     "text": [
      "0it [00:02, ?it/s]\n"
     ]
    },
    {
     "name": "stdout",
     "output_type": "stream",
     "text": [
      "Epoch [2/100], Step [1/15], Loss: 11.6228\n",
      "loss_values : 0.0000\n"
     ]
    },
    {
     "name": "stderr",
     "output_type": "stream",
     "text": [
      "4it [00:07,  1.85s/it]\n"
     ]
    },
    {
     "name": "stdout",
     "output_type": "stream",
     "text": [
      "MSE (test) : 10.166901588439941\n"
     ]
    },
    {
     "name": "stderr",
     "output_type": "stream",
     "text": [
      "0it [00:02, ?it/s]\n"
     ]
    },
    {
     "name": "stdout",
     "output_type": "stream",
     "text": [
      "Epoch [3/100], Step [1/15], Loss: 11.5949\n",
      "loss_values : 0.0000\n"
     ]
    },
    {
     "name": "stderr",
     "output_type": "stream",
     "text": [
      "4it [00:07,  1.86s/it]\n"
     ]
    },
    {
     "name": "stdout",
     "output_type": "stream",
     "text": [
      "MSE (test) : 10.166900634765625\n"
     ]
    },
    {
     "name": "stderr",
     "output_type": "stream",
     "text": [
      "0it [00:03, ?it/s]\n"
     ]
    },
    {
     "name": "stdout",
     "output_type": "stream",
     "text": [
      "Epoch [4/100], Step [1/15], Loss: 11.4223\n",
      "loss_values : 0.0000\n"
     ]
    },
    {
     "name": "stderr",
     "output_type": "stream",
     "text": [
      "4it [00:07,  1.90s/it]\n"
     ]
    },
    {
     "name": "stdout",
     "output_type": "stream",
     "text": [
      "MSE (test) : 10.166900634765625\n"
     ]
    },
    {
     "name": "stderr",
     "output_type": "stream",
     "text": [
      "0it [00:02, ?it/s]\n"
     ]
    },
    {
     "name": "stdout",
     "output_type": "stream",
     "text": [
      "Epoch [5/100], Step [1/15], Loss: 11.5735\n",
      "loss_values : 0.0000\n"
     ]
    },
    {
     "name": "stderr",
     "output_type": "stream",
     "text": [
      "4it [00:07,  1.94s/it]\n"
     ]
    },
    {
     "name": "stdout",
     "output_type": "stream",
     "text": [
      "MSE (test) : 10.166900634765625\n"
     ]
    },
    {
     "name": "stderr",
     "output_type": "stream",
     "text": [
      "0it [00:02, ?it/s]\n"
     ]
    },
    {
     "name": "stdout",
     "output_type": "stream",
     "text": [
      "Epoch [6/100], Step [1/15], Loss: 11.5213\n",
      "loss_values : 0.0000\n"
     ]
    },
    {
     "name": "stderr",
     "output_type": "stream",
     "text": [
      "4it [00:07,  1.89s/it]\n"
     ]
    },
    {
     "name": "stdout",
     "output_type": "stream",
     "text": [
      "MSE (test) : 10.166900634765625\n"
     ]
    },
    {
     "name": "stderr",
     "output_type": "stream",
     "text": [
      "0it [00:02, ?it/s]\n"
     ]
    },
    {
     "name": "stdout",
     "output_type": "stream",
     "text": [
      "Epoch [7/100], Step [1/15], Loss: 11.7625\n",
      "loss_values : 0.0000\n"
     ]
    },
    {
     "name": "stderr",
     "output_type": "stream",
     "text": [
      "4it [00:07,  1.89s/it]\n"
     ]
    },
    {
     "name": "stdout",
     "output_type": "stream",
     "text": [
      "MSE (test) : 10.166901588439941\n"
     ]
    },
    {
     "name": "stderr",
     "output_type": "stream",
     "text": [
      "0it [00:02, ?it/s]\n"
     ]
    },
    {
     "name": "stdout",
     "output_type": "stream",
     "text": [
      "Epoch [8/100], Step [1/15], Loss: 11.5808\n",
      "loss_values : 0.0000\n"
     ]
    },
    {
     "name": "stderr",
     "output_type": "stream",
     "text": [
      "4it [00:07,  1.78s/it]\n"
     ]
    },
    {
     "name": "stdout",
     "output_type": "stream",
     "text": [
      "MSE (test) : 10.166901588439941\n"
     ]
    },
    {
     "name": "stderr",
     "output_type": "stream",
     "text": [
      "0it [00:02, ?it/s]\n"
     ]
    },
    {
     "name": "stdout",
     "output_type": "stream",
     "text": [
      "Epoch [9/100], Step [1/15], Loss: 11.4807\n",
      "loss_values : 0.0000\n"
     ]
    },
    {
     "name": "stderr",
     "output_type": "stream",
     "text": [
      "4it [00:07,  1.83s/it]\n"
     ]
    },
    {
     "name": "stdout",
     "output_type": "stream",
     "text": [
      "MSE (test) : 10.166901588439941\n"
     ]
    },
    {
     "name": "stderr",
     "output_type": "stream",
     "text": [
      "0it [00:02, ?it/s]\n"
     ]
    },
    {
     "name": "stdout",
     "output_type": "stream",
     "text": [
      "Epoch [10/100], Step [1/15], Loss: 11.4059\n",
      "loss_values : 0.0000\n"
     ]
    },
    {
     "name": "stderr",
     "output_type": "stream",
     "text": [
      "4it [00:07,  1.85s/it]\n"
     ]
    },
    {
     "name": "stdout",
     "output_type": "stream",
     "text": [
      "MSE (test) : 10.166901588439941\n"
     ]
    },
    {
     "name": "stderr",
     "output_type": "stream",
     "text": [
      "0it [00:02, ?it/s]\n"
     ]
    },
    {
     "name": "stdout",
     "output_type": "stream",
     "text": [
      "Epoch [11/100], Step [1/15], Loss: 11.6090\n",
      "loss_values : 0.0000\n"
     ]
    },
    {
     "name": "stderr",
     "output_type": "stream",
     "text": [
      "4it [00:07,  1.81s/it]\n"
     ]
    },
    {
     "name": "stdout",
     "output_type": "stream",
     "text": [
      "MSE (test) : 10.166901588439941\n"
     ]
    },
    {
     "name": "stderr",
     "output_type": "stream",
     "text": [
      "0it [00:02, ?it/s]\n"
     ]
    },
    {
     "name": "stdout",
     "output_type": "stream",
     "text": [
      "Epoch [12/100], Step [1/15], Loss: 11.5921\n",
      "loss_values : 0.0000\n"
     ]
    },
    {
     "name": "stderr",
     "output_type": "stream",
     "text": [
      "4it [00:07,  1.83s/it]\n"
     ]
    },
    {
     "name": "stdout",
     "output_type": "stream",
     "text": [
      "MSE (test) : 10.166901588439941\n"
     ]
    },
    {
     "name": "stderr",
     "output_type": "stream",
     "text": [
      "0it [00:03, ?it/s]\n"
     ]
    },
    {
     "name": "stdout",
     "output_type": "stream",
     "text": [
      "Epoch [13/100], Step [1/15], Loss: 11.5124\n",
      "loss_values : 0.0000\n"
     ]
    },
    {
     "name": "stderr",
     "output_type": "stream",
     "text": [
      "4it [00:07,  1.85s/it]\n"
     ]
    },
    {
     "name": "stdout",
     "output_type": "stream",
     "text": [
      "MSE (test) : 10.166901588439941\n"
     ]
    },
    {
     "name": "stderr",
     "output_type": "stream",
     "text": [
      "0it [00:02, ?it/s]\n"
     ]
    },
    {
     "name": "stdout",
     "output_type": "stream",
     "text": [
      "Epoch [14/100], Step [1/15], Loss: 11.6343\n",
      "loss_values : 0.0000\n"
     ]
    },
    {
     "name": "stderr",
     "output_type": "stream",
     "text": [
      "4it [00:07,  1.80s/it]\n"
     ]
    },
    {
     "name": "stdout",
     "output_type": "stream",
     "text": [
      "MSE (test) : 10.166900634765625\n"
     ]
    },
    {
     "name": "stderr",
     "output_type": "stream",
     "text": [
      "0it [00:02, ?it/s]\n"
     ]
    },
    {
     "name": "stdout",
     "output_type": "stream",
     "text": [
      "Epoch [15/100], Step [1/15], Loss: 11.5332\n",
      "loss_values : 0.0000\n"
     ]
    },
    {
     "name": "stderr",
     "output_type": "stream",
     "text": [
      "4it [00:07,  1.80s/it]\n"
     ]
    },
    {
     "name": "stdout",
     "output_type": "stream",
     "text": [
      "MSE (test) : 10.166902542114258\n"
     ]
    },
    {
     "name": "stderr",
     "output_type": "stream",
     "text": [
      "0it [00:02, ?it/s]\n"
     ]
    },
    {
     "name": "stdout",
     "output_type": "stream",
     "text": [
      "Epoch [16/100], Step [1/15], Loss: 11.6050\n",
      "loss_values : 0.0000\n"
     ]
    },
    {
     "name": "stderr",
     "output_type": "stream",
     "text": [
      "4it [00:09,  2.34s/it]\n"
     ]
    },
    {
     "name": "stdout",
     "output_type": "stream",
     "text": [
      "MSE (test) : 10.166902542114258\n"
     ]
    },
    {
     "name": "stderr",
     "output_type": "stream",
     "text": [
      "0it [00:02, ?it/s]\n"
     ]
    },
    {
     "name": "stdout",
     "output_type": "stream",
     "text": [
      "Epoch [17/100], Step [1/15], Loss: 11.5985\n",
      "loss_values : 0.0000\n"
     ]
    },
    {
     "name": "stderr",
     "output_type": "stream",
     "text": [
      "4it [00:06,  1.73s/it]\n"
     ]
    },
    {
     "name": "stdout",
     "output_type": "stream",
     "text": [
      "MSE (test) : 10.166901588439941\n"
     ]
    },
    {
     "name": "stderr",
     "output_type": "stream",
     "text": [
      "0it [00:02, ?it/s]\n"
     ]
    },
    {
     "name": "stdout",
     "output_type": "stream",
     "text": [
      "Epoch [18/100], Step [1/15], Loss: 11.4482\n",
      "loss_values : 0.0000\n"
     ]
    },
    {
     "name": "stderr",
     "output_type": "stream",
     "text": [
      "4it [00:07,  1.80s/it]\n"
     ]
    },
    {
     "name": "stdout",
     "output_type": "stream",
     "text": [
      "MSE (test) : 10.166900634765625\n"
     ]
    },
    {
     "name": "stderr",
     "output_type": "stream",
     "text": [
      "0it [00:04, ?it/s]\n"
     ]
    },
    {
     "name": "stdout",
     "output_type": "stream",
     "text": [
      "Epoch [19/100], Step [1/15], Loss: 11.6508\n",
      "loss_values : 0.0000\n"
     ]
    },
    {
     "name": "stderr",
     "output_type": "stream",
     "text": [
      "4it [00:09,  2.25s/it]\n"
     ]
    },
    {
     "name": "stdout",
     "output_type": "stream",
     "text": [
      "MSE (test) : 10.166900634765625\n"
     ]
    },
    {
     "name": "stderr",
     "output_type": "stream",
     "text": [
      "0it [00:03, ?it/s]\n"
     ]
    },
    {
     "name": "stdout",
     "output_type": "stream",
     "text": [
      "Epoch [20/100], Step [1/15], Loss: 11.5077\n",
      "loss_values : 0.0000\n"
     ]
    },
    {
     "name": "stderr",
     "output_type": "stream",
     "text": [
      "4it [00:07,  1.86s/it]\n"
     ]
    },
    {
     "name": "stdout",
     "output_type": "stream",
     "text": [
      "MSE (test) : 10.166901588439941\n"
     ]
    },
    {
     "name": "stderr",
     "output_type": "stream",
     "text": [
      "0it [00:02, ?it/s]\n"
     ]
    },
    {
     "name": "stdout",
     "output_type": "stream",
     "text": [
      "Epoch [21/100], Step [1/15], Loss: 11.5813\n",
      "loss_values : 0.0000\n"
     ]
    },
    {
     "name": "stderr",
     "output_type": "stream",
     "text": [
      "4it [00:07,  1.87s/it]\n"
     ]
    },
    {
     "name": "stdout",
     "output_type": "stream",
     "text": [
      "MSE (test) : 10.166902542114258\n"
     ]
    },
    {
     "name": "stderr",
     "output_type": "stream",
     "text": [
      "0it [00:02, ?it/s]\n"
     ]
    },
    {
     "name": "stdout",
     "output_type": "stream",
     "text": [
      "Epoch [22/100], Step [1/15], Loss: 11.5638\n",
      "loss_values : 0.0000\n"
     ]
    },
    {
     "name": "stderr",
     "output_type": "stream",
     "text": [
      "4it [00:06,  1.69s/it]\n"
     ]
    },
    {
     "name": "stdout",
     "output_type": "stream",
     "text": [
      "MSE (test) : 10.166901588439941\n"
     ]
    },
    {
     "name": "stderr",
     "output_type": "stream",
     "text": [
      "0it [00:03, ?it/s]\n"
     ]
    },
    {
     "name": "stdout",
     "output_type": "stream",
     "text": [
      "Epoch [23/100], Step [1/15], Loss: 11.6083\n",
      "loss_values : 0.0000\n"
     ]
    },
    {
     "name": "stderr",
     "output_type": "stream",
     "text": [
      "4it [00:07,  1.94s/it]\n"
     ]
    },
    {
     "name": "stdout",
     "output_type": "stream",
     "text": [
      "MSE (test) : 10.166901588439941\n"
     ]
    },
    {
     "name": "stderr",
     "output_type": "stream",
     "text": [
      "0it [00:02, ?it/s]\n"
     ]
    },
    {
     "name": "stdout",
     "output_type": "stream",
     "text": [
      "Epoch [24/100], Step [1/15], Loss: 11.6083\n",
      "loss_values : 0.0000\n"
     ]
    },
    {
     "name": "stderr",
     "output_type": "stream",
     "text": [
      "4it [00:06,  1.68s/it]\n"
     ]
    },
    {
     "name": "stdout",
     "output_type": "stream",
     "text": [
      "MSE (test) : 10.166901588439941\n"
     ]
    },
    {
     "name": "stderr",
     "output_type": "stream",
     "text": [
      "0it [00:02, ?it/s]\n"
     ]
    },
    {
     "name": "stdout",
     "output_type": "stream",
     "text": [
      "Epoch [25/100], Step [1/15], Loss: 11.6260\n",
      "loss_values : 0.0000\n"
     ]
    },
    {
     "name": "stderr",
     "output_type": "stream",
     "text": [
      "4it [00:07,  1.78s/it]\n"
     ]
    },
    {
     "name": "stdout",
     "output_type": "stream",
     "text": [
      "MSE (test) : 10.166901588439941\n"
     ]
    },
    {
     "name": "stderr",
     "output_type": "stream",
     "text": [
      "0it [00:02, ?it/s]\n"
     ]
    },
    {
     "name": "stdout",
     "output_type": "stream",
     "text": [
      "Epoch [26/100], Step [1/15], Loss: 11.7809\n",
      "loss_values : 0.0000\n"
     ]
    },
    {
     "name": "stderr",
     "output_type": "stream",
     "text": [
      "4it [00:07,  1.85s/it]\n"
     ]
    },
    {
     "name": "stdout",
     "output_type": "stream",
     "text": [
      "MSE (test) : 10.166901588439941\n"
     ]
    },
    {
     "name": "stderr",
     "output_type": "stream",
     "text": [
      "0it [00:02, ?it/s]\n"
     ]
    },
    {
     "name": "stdout",
     "output_type": "stream",
     "text": [
      "Epoch [27/100], Step [1/15], Loss: 11.5944\n",
      "loss_values : 0.0000\n"
     ]
    },
    {
     "name": "stderr",
     "output_type": "stream",
     "text": [
      "4it [00:08,  2.04s/it]\n"
     ]
    },
    {
     "name": "stdout",
     "output_type": "stream",
     "text": [
      "MSE (test) : 10.166901588439941\n"
     ]
    },
    {
     "name": "stderr",
     "output_type": "stream",
     "text": [
      "0it [00:02, ?it/s]\n"
     ]
    },
    {
     "name": "stdout",
     "output_type": "stream",
     "text": [
      "Epoch [28/100], Step [1/15], Loss: 11.7286\n",
      "loss_values : 0.0000\n"
     ]
    },
    {
     "name": "stderr",
     "output_type": "stream",
     "text": [
      "4it [00:07,  1.81s/it]\n"
     ]
    },
    {
     "name": "stdout",
     "output_type": "stream",
     "text": [
      "MSE (test) : 10.166900634765625\n"
     ]
    },
    {
     "name": "stderr",
     "output_type": "stream",
     "text": [
      "0it [00:02, ?it/s]\n"
     ]
    },
    {
     "name": "stdout",
     "output_type": "stream",
     "text": [
      "Epoch [29/100], Step [1/15], Loss: 11.5975\n",
      "loss_values : 0.0000\n"
     ]
    },
    {
     "name": "stderr",
     "output_type": "stream",
     "text": [
      "4it [00:07,  1.79s/it]\n"
     ]
    },
    {
     "name": "stdout",
     "output_type": "stream",
     "text": [
      "MSE (test) : 10.166901588439941\n"
     ]
    },
    {
     "name": "stderr",
     "output_type": "stream",
     "text": [
      "0it [00:02, ?it/s]\n"
     ]
    },
    {
     "name": "stdout",
     "output_type": "stream",
     "text": [
      "Epoch [30/100], Step [1/15], Loss: 11.6314\n",
      "loss_values : 0.0000\n"
     ]
    },
    {
     "name": "stderr",
     "output_type": "stream",
     "text": [
      "4it [00:06,  1.71s/it]\n"
     ]
    },
    {
     "name": "stdout",
     "output_type": "stream",
     "text": [
      "MSE (test) : 10.166901588439941\n"
     ]
    },
    {
     "name": "stderr",
     "output_type": "stream",
     "text": [
      "0it [00:02, ?it/s]\n"
     ]
    },
    {
     "name": "stdout",
     "output_type": "stream",
     "text": [
      "Epoch [31/100], Step [1/15], Loss: 11.5899\n",
      "loss_values : 0.0000\n"
     ]
    },
    {
     "name": "stderr",
     "output_type": "stream",
     "text": [
      "4it [00:07,  1.79s/it]\n"
     ]
    },
    {
     "name": "stdout",
     "output_type": "stream",
     "text": [
      "MSE (test) : 10.166900634765625\n"
     ]
    },
    {
     "name": "stderr",
     "output_type": "stream",
     "text": [
      "0it [00:03, ?it/s]\n"
     ]
    },
    {
     "name": "stdout",
     "output_type": "stream",
     "text": [
      "Epoch [32/100], Step [1/15], Loss: 11.7065\n",
      "loss_values : 0.0000\n"
     ]
    },
    {
     "name": "stderr",
     "output_type": "stream",
     "text": [
      "4it [00:06,  1.74s/it]\n"
     ]
    },
    {
     "name": "stdout",
     "output_type": "stream",
     "text": [
      "MSE (test) : 10.166900634765625\n"
     ]
    },
    {
     "name": "stderr",
     "output_type": "stream",
     "text": [
      "0it [00:02, ?it/s]\n"
     ]
    },
    {
     "name": "stdout",
     "output_type": "stream",
     "text": [
      "Epoch [33/100], Step [1/15], Loss: 11.4146\n",
      "loss_values : 0.0000\n"
     ]
    },
    {
     "name": "stderr",
     "output_type": "stream",
     "text": [
      "4it [00:06,  1.67s/it]\n"
     ]
    },
    {
     "name": "stdout",
     "output_type": "stream",
     "text": [
      "MSE (test) : 10.166900634765625\n"
     ]
    },
    {
     "name": "stderr",
     "output_type": "stream",
     "text": [
      "0it [00:02, ?it/s]\n"
     ]
    },
    {
     "name": "stdout",
     "output_type": "stream",
     "text": [
      "Epoch [34/100], Step [1/15], Loss: 11.5727\n",
      "loss_values : 0.0000\n"
     ]
    },
    {
     "name": "stderr",
     "output_type": "stream",
     "text": [
      "4it [00:06,  1.73s/it]\n"
     ]
    },
    {
     "name": "stdout",
     "output_type": "stream",
     "text": [
      "MSE (test) : 10.166899681091309\n"
     ]
    },
    {
     "name": "stderr",
     "output_type": "stream",
     "text": [
      "0it [00:03, ?it/s]\n"
     ]
    },
    {
     "name": "stdout",
     "output_type": "stream",
     "text": [
      "Epoch [35/100], Step [1/15], Loss: 11.4995\n",
      "loss_values : 0.0000\n"
     ]
    },
    {
     "name": "stderr",
     "output_type": "stream",
     "text": [
      "4it [00:07,  1.79s/it]\n"
     ]
    },
    {
     "name": "stdout",
     "output_type": "stream",
     "text": [
      "MSE (test) : 10.166901588439941\n"
     ]
    },
    {
     "name": "stderr",
     "output_type": "stream",
     "text": [
      "0it [00:03, ?it/s]\n"
     ]
    },
    {
     "name": "stdout",
     "output_type": "stream",
     "text": [
      "Epoch [36/100], Step [1/15], Loss: 11.5138\n",
      "loss_values : 0.0000\n"
     ]
    },
    {
     "name": "stderr",
     "output_type": "stream",
     "text": [
      "4it [00:10,  2.64s/it]\n"
     ]
    },
    {
     "name": "stdout",
     "output_type": "stream",
     "text": [
      "MSE (test) : 10.166899681091309\n"
     ]
    },
    {
     "name": "stderr",
     "output_type": "stream",
     "text": [
      "0it [00:03, ?it/s]\n"
     ]
    },
    {
     "name": "stdout",
     "output_type": "stream",
     "text": [
      "Epoch [37/100], Step [1/15], Loss: 11.5943\n",
      "loss_values : 0.0000\n"
     ]
    },
    {
     "name": "stderr",
     "output_type": "stream",
     "text": [
      "4it [00:07,  1.91s/it]\n"
     ]
    },
    {
     "name": "stdout",
     "output_type": "stream",
     "text": [
      "MSE (test) : 10.166901588439941\n"
     ]
    },
    {
     "name": "stderr",
     "output_type": "stream",
     "text": [
      "0it [00:02, ?it/s]\n"
     ]
    },
    {
     "name": "stdout",
     "output_type": "stream",
     "text": [
      "Epoch [38/100], Step [1/15], Loss: 11.5034\n",
      "loss_values : 0.0000\n"
     ]
    },
    {
     "name": "stderr",
     "output_type": "stream",
     "text": [
      "4it [00:07,  1.92s/it]\n"
     ]
    },
    {
     "name": "stdout",
     "output_type": "stream",
     "text": [
      "MSE (test) : 10.166901588439941\n"
     ]
    },
    {
     "name": "stderr",
     "output_type": "stream",
     "text": [
      "0it [00:02, ?it/s]\n"
     ]
    },
    {
     "name": "stdout",
     "output_type": "stream",
     "text": [
      "Epoch [39/100], Step [1/15], Loss: 11.5158\n",
      "loss_values : 0.0000\n"
     ]
    },
    {
     "name": "stderr",
     "output_type": "stream",
     "text": [
      "4it [00:07,  1.89s/it]\n"
     ]
    },
    {
     "name": "stdout",
     "output_type": "stream",
     "text": [
      "MSE (test) : 10.166900634765625\n"
     ]
    },
    {
     "name": "stderr",
     "output_type": "stream",
     "text": [
      "0it [00:02, ?it/s]\n"
     ]
    },
    {
     "name": "stdout",
     "output_type": "stream",
     "text": [
      "Epoch [40/100], Step [1/15], Loss: 11.5442\n",
      "loss_values : 0.0000\n"
     ]
    },
    {
     "name": "stderr",
     "output_type": "stream",
     "text": [
      "4it [00:07,  1.92s/it]\n"
     ]
    },
    {
     "name": "stdout",
     "output_type": "stream",
     "text": [
      "MSE (test) : 10.166899681091309\n"
     ]
    },
    {
     "name": "stderr",
     "output_type": "stream",
     "text": [
      "0it [00:02, ?it/s]\n"
     ]
    },
    {
     "name": "stdout",
     "output_type": "stream",
     "text": [
      "Epoch [41/100], Step [1/15], Loss: 11.4385\n",
      "loss_values : 0.0000\n"
     ]
    },
    {
     "name": "stderr",
     "output_type": "stream",
     "text": [
      "4it [00:06,  1.72s/it]\n"
     ]
    },
    {
     "name": "stdout",
     "output_type": "stream",
     "text": [
      "MSE (test) : 10.166900634765625\n"
     ]
    },
    {
     "name": "stderr",
     "output_type": "stream",
     "text": [
      "0it [00:02, ?it/s]\n"
     ]
    },
    {
     "name": "stdout",
     "output_type": "stream",
     "text": [
      "Epoch [42/100], Step [1/15], Loss: 11.5612\n",
      "loss_values : 0.0000\n"
     ]
    },
    {
     "name": "stderr",
     "output_type": "stream",
     "text": [
      "4it [00:06,  1.72s/it]\n"
     ]
    },
    {
     "name": "stdout",
     "output_type": "stream",
     "text": [
      "MSE (test) : 10.166901588439941\n"
     ]
    },
    {
     "name": "stderr",
     "output_type": "stream",
     "text": [
      "0it [00:02, ?it/s]\n"
     ]
    },
    {
     "name": "stdout",
     "output_type": "stream",
     "text": [
      "Epoch [43/100], Step [1/15], Loss: 11.6539\n",
      "loss_values : 0.0000\n"
     ]
    },
    {
     "name": "stderr",
     "output_type": "stream",
     "text": [
      "4it [00:06,  1.74s/it]\n"
     ]
    },
    {
     "name": "stdout",
     "output_type": "stream",
     "text": [
      "MSE (test) : 10.166900634765625\n"
     ]
    },
    {
     "name": "stderr",
     "output_type": "stream",
     "text": [
      "0it [00:03, ?it/s]\n"
     ]
    },
    {
     "name": "stdout",
     "output_type": "stream",
     "text": [
      "Epoch [44/100], Step [1/15], Loss: 11.4624\n",
      "loss_values : 0.0000\n"
     ]
    },
    {
     "name": "stderr",
     "output_type": "stream",
     "text": [
      "4it [00:06,  1.74s/it]\n"
     ]
    },
    {
     "name": "stdout",
     "output_type": "stream",
     "text": [
      "MSE (test) : 10.166900634765625\n"
     ]
    },
    {
     "name": "stderr",
     "output_type": "stream",
     "text": [
      "0it [00:02, ?it/s]\n"
     ]
    },
    {
     "name": "stdout",
     "output_type": "stream",
     "text": [
      "Epoch [45/100], Step [1/15], Loss: 11.5661\n",
      "loss_values : 0.0000\n"
     ]
    },
    {
     "name": "stderr",
     "output_type": "stream",
     "text": [
      "4it [00:07,  1.87s/it]\n"
     ]
    },
    {
     "name": "stdout",
     "output_type": "stream",
     "text": [
      "MSE (test) : 10.166900634765625\n"
     ]
    },
    {
     "name": "stderr",
     "output_type": "stream",
     "text": [
      "0it [00:03, ?it/s]\n"
     ]
    },
    {
     "name": "stdout",
     "output_type": "stream",
     "text": [
      "Epoch [46/100], Step [1/15], Loss: 11.5555\n",
      "loss_values : 0.0000\n"
     ]
    },
    {
     "name": "stderr",
     "output_type": "stream",
     "text": [
      "4it [00:07,  1.84s/it]\n"
     ]
    },
    {
     "name": "stdout",
     "output_type": "stream",
     "text": [
      "MSE (test) : 10.166901588439941\n"
     ]
    },
    {
     "name": "stderr",
     "output_type": "stream",
     "text": [
      "0it [00:02, ?it/s]\n"
     ]
    },
    {
     "name": "stdout",
     "output_type": "stream",
     "text": [
      "Epoch [47/100], Step [1/15], Loss: 11.5081\n",
      "loss_values : 0.0000\n"
     ]
    },
    {
     "name": "stderr",
     "output_type": "stream",
     "text": [
      "4it [00:06,  1.74s/it]\n"
     ]
    },
    {
     "name": "stdout",
     "output_type": "stream",
     "text": [
      "MSE (test) : 10.166901588439941\n"
     ]
    },
    {
     "name": "stderr",
     "output_type": "stream",
     "text": [
      "0it [00:02, ?it/s]\n"
     ]
    },
    {
     "name": "stdout",
     "output_type": "stream",
     "text": [
      "Epoch [48/100], Step [1/15], Loss: 11.6358\n",
      "loss_values : 0.0000\n"
     ]
    },
    {
     "name": "stderr",
     "output_type": "stream",
     "text": [
      "4it [00:06,  1.68s/it]\n"
     ]
    },
    {
     "name": "stdout",
     "output_type": "stream",
     "text": [
      "MSE (test) : 10.166900634765625\n"
     ]
    },
    {
     "name": "stderr",
     "output_type": "stream",
     "text": [
      "0it [00:03, ?it/s]\n"
     ]
    },
    {
     "name": "stdout",
     "output_type": "stream",
     "text": [
      "Epoch [49/100], Step [1/15], Loss: 11.5915\n",
      "loss_values : 0.0000\n"
     ]
    },
    {
     "name": "stderr",
     "output_type": "stream",
     "text": [
      "4it [00:07,  1.86s/it]\n"
     ]
    },
    {
     "name": "stdout",
     "output_type": "stream",
     "text": [
      "MSE (test) : 10.166900634765625\n"
     ]
    },
    {
     "name": "stderr",
     "output_type": "stream",
     "text": [
      "0it [00:02, ?it/s]\n"
     ]
    },
    {
     "name": "stdout",
     "output_type": "stream",
     "text": [
      "Epoch [50/100], Step [1/15], Loss: 11.5053\n",
      "loss_values : 0.0000\n"
     ]
    },
    {
     "name": "stderr",
     "output_type": "stream",
     "text": [
      "4it [00:07,  1.92s/it]\n"
     ]
    },
    {
     "name": "stdout",
     "output_type": "stream",
     "text": [
      "MSE (test) : 10.166900634765625\n"
     ]
    },
    {
     "name": "stderr",
     "output_type": "stream",
     "text": [
      "0it [00:03, ?it/s]\n"
     ]
    },
    {
     "name": "stdout",
     "output_type": "stream",
     "text": [
      "Epoch [51/100], Step [1/15], Loss: 11.6065\n",
      "loss_values : 0.0000\n"
     ]
    },
    {
     "name": "stderr",
     "output_type": "stream",
     "text": [
      "4it [00:08,  2.10s/it]\n"
     ]
    },
    {
     "name": "stdout",
     "output_type": "stream",
     "text": [
      "MSE (test) : 10.166900634765625\n"
     ]
    },
    {
     "name": "stderr",
     "output_type": "stream",
     "text": [
      "0it [00:02, ?it/s]\n"
     ]
    },
    {
     "name": "stdout",
     "output_type": "stream",
     "text": [
      "Epoch [52/100], Step [1/15], Loss: 11.5622\n",
      "loss_values : 0.0000\n"
     ]
    },
    {
     "name": "stderr",
     "output_type": "stream",
     "text": [
      "4it [00:07,  1.89s/it]\n"
     ]
    },
    {
     "name": "stdout",
     "output_type": "stream",
     "text": [
      "MSE (test) : 10.166901588439941\n"
     ]
    },
    {
     "name": "stderr",
     "output_type": "stream",
     "text": [
      "0it [00:03, ?it/s]\n"
     ]
    },
    {
     "name": "stdout",
     "output_type": "stream",
     "text": [
      "Epoch [53/100], Step [1/15], Loss: 11.5420\n",
      "loss_values : 0.0000\n"
     ]
    },
    {
     "name": "stderr",
     "output_type": "stream",
     "text": [
      "4it [00:07,  1.96s/it]\n"
     ]
    },
    {
     "name": "stdout",
     "output_type": "stream",
     "text": [
      "MSE (test) : 10.166901588439941\n"
     ]
    },
    {
     "name": "stderr",
     "output_type": "stream",
     "text": [
      "0it [00:02, ?it/s]\n"
     ]
    },
    {
     "name": "stdout",
     "output_type": "stream",
     "text": [
      "Epoch [54/100], Step [1/15], Loss: 11.4827\n",
      "loss_values : 0.0000\n"
     ]
    },
    {
     "name": "stderr",
     "output_type": "stream",
     "text": [
      "4it [00:07,  1.84s/it]\n"
     ]
    },
    {
     "name": "stdout",
     "output_type": "stream",
     "text": [
      "MSE (test) : 10.166900634765625\n"
     ]
    },
    {
     "name": "stderr",
     "output_type": "stream",
     "text": [
      "0it [00:03, ?it/s]\n"
     ]
    },
    {
     "name": "stdout",
     "output_type": "stream",
     "text": [
      "Epoch [55/100], Step [1/15], Loss: 11.6876\n",
      "loss_values : 0.0000\n"
     ]
    },
    {
     "name": "stderr",
     "output_type": "stream",
     "text": [
      "4it [00:10,  2.54s/it]\n"
     ]
    },
    {
     "name": "stdout",
     "output_type": "stream",
     "text": [
      "MSE (test) : 10.166901588439941\n"
     ]
    },
    {
     "name": "stderr",
     "output_type": "stream",
     "text": [
      "0it [00:03, ?it/s]\n"
     ]
    },
    {
     "name": "stdout",
     "output_type": "stream",
     "text": [
      "Epoch [56/100], Step [1/15], Loss: 11.5740\n",
      "loss_values : 0.0000\n"
     ]
    },
    {
     "name": "stderr",
     "output_type": "stream",
     "text": [
      "4it [00:07,  1.85s/it]\n"
     ]
    },
    {
     "name": "stdout",
     "output_type": "stream",
     "text": [
      "MSE (test) : 10.166900634765625\n"
     ]
    },
    {
     "name": "stderr",
     "output_type": "stream",
     "text": [
      "0it [00:06, ?it/s]"
     ]
    },
    {
     "name": "stdout",
     "output_type": "stream",
     "text": [
      "Epoch [57/100], Step [1/15], Loss: 11.3710\n"
     ]
    },
    {
     "name": "stderr",
     "output_type": "stream",
     "text": [
      "\n"
     ]
    },
    {
     "name": "stdout",
     "output_type": "stream",
     "text": [
      "loss_values : 0.0000\n"
     ]
    },
    {
     "name": "stderr",
     "output_type": "stream",
     "text": [
      "4it [00:12,  3.01s/it]\n"
     ]
    },
    {
     "name": "stdout",
     "output_type": "stream",
     "text": [
      "MSE (test) : 10.166901588439941\n"
     ]
    },
    {
     "name": "stderr",
     "output_type": "stream",
     "text": [
      "0it [00:02, ?it/s]\n"
     ]
    },
    {
     "name": "stdout",
     "output_type": "stream",
     "text": [
      "Epoch [58/100], Step [1/15], Loss: 11.5618\n",
      "loss_values : 0.0000\n"
     ]
    },
    {
     "name": "stderr",
     "output_type": "stream",
     "text": [
      "4it [00:06,  1.64s/it]\n"
     ]
    },
    {
     "name": "stdout",
     "output_type": "stream",
     "text": [
      "MSE (test) : 10.166901588439941\n"
     ]
    },
    {
     "name": "stderr",
     "output_type": "stream",
     "text": [
      "0it [00:02, ?it/s]\n"
     ]
    },
    {
     "name": "stdout",
     "output_type": "stream",
     "text": [
      "Epoch [59/100], Step [1/15], Loss: 11.6234\n",
      "loss_values : 0.0000\n"
     ]
    },
    {
     "name": "stderr",
     "output_type": "stream",
     "text": [
      "4it [00:06,  1.71s/it]\n"
     ]
    },
    {
     "name": "stdout",
     "output_type": "stream",
     "text": [
      "MSE (test) : 10.166900634765625\n"
     ]
    },
    {
     "name": "stderr",
     "output_type": "stream",
     "text": [
      "0it [00:03, ?it/s]\n"
     ]
    },
    {
     "name": "stdout",
     "output_type": "stream",
     "text": [
      "Epoch [60/100], Step [1/15], Loss: 11.5174\n",
      "loss_values : 0.0000\n"
     ]
    },
    {
     "name": "stderr",
     "output_type": "stream",
     "text": [
      "4it [00:07,  1.93s/it]\n"
     ]
    },
    {
     "name": "stdout",
     "output_type": "stream",
     "text": [
      "MSE (test) : 10.166901588439941\n"
     ]
    },
    {
     "name": "stderr",
     "output_type": "stream",
     "text": [
      "0it [00:02, ?it/s]\n"
     ]
    },
    {
     "name": "stdout",
     "output_type": "stream",
     "text": [
      "Epoch [61/100], Step [1/15], Loss: 11.5902\n",
      "loss_values : 0.0000\n"
     ]
    },
    {
     "name": "stderr",
     "output_type": "stream",
     "text": [
      "4it [00:07,  1.78s/it]\n"
     ]
    },
    {
     "name": "stdout",
     "output_type": "stream",
     "text": [
      "MSE (test) : 10.166900634765625\n"
     ]
    },
    {
     "name": "stderr",
     "output_type": "stream",
     "text": [
      "0it [00:02, ?it/s]\n"
     ]
    },
    {
     "name": "stdout",
     "output_type": "stream",
     "text": [
      "Epoch [62/100], Step [1/15], Loss: 11.5813\n",
      "loss_values : 0.0000\n"
     ]
    },
    {
     "name": "stderr",
     "output_type": "stream",
     "text": [
      "4it [00:11,  2.75s/it]\n"
     ]
    },
    {
     "name": "stdout",
     "output_type": "stream",
     "text": [
      "MSE (test) : 10.166901588439941\n"
     ]
    },
    {
     "name": "stderr",
     "output_type": "stream",
     "text": [
      "0it [00:02, ?it/s]\n"
     ]
    },
    {
     "name": "stdout",
     "output_type": "stream",
     "text": [
      "Epoch [63/100], Step [1/15], Loss: 11.6278\n",
      "loss_values : 0.0000\n"
     ]
    },
    {
     "name": "stderr",
     "output_type": "stream",
     "text": [
      "4it [00:07,  1.79s/it]\n"
     ]
    },
    {
     "name": "stdout",
     "output_type": "stream",
     "text": [
      "MSE (test) : 10.166899681091309\n"
     ]
    },
    {
     "name": "stderr",
     "output_type": "stream",
     "text": [
      "0it [00:02, ?it/s]\n"
     ]
    },
    {
     "name": "stdout",
     "output_type": "stream",
     "text": [
      "Epoch [64/100], Step [1/15], Loss: 11.6508\n",
      "loss_values : 0.0000\n"
     ]
    },
    {
     "name": "stderr",
     "output_type": "stream",
     "text": [
      "4it [00:07,  1.75s/it]\n"
     ]
    },
    {
     "name": "stdout",
     "output_type": "stream",
     "text": [
      "MSE (test) : 10.166900634765625\n"
     ]
    },
    {
     "name": "stderr",
     "output_type": "stream",
     "text": [
      "0it [00:02, ?it/s]\n"
     ]
    },
    {
     "name": "stdout",
     "output_type": "stream",
     "text": [
      "Epoch [65/100], Step [1/15], Loss: 11.6432\n",
      "loss_values : 0.0000\n"
     ]
    },
    {
     "name": "stderr",
     "output_type": "stream",
     "text": [
      "4it [00:07,  1.77s/it]\n"
     ]
    },
    {
     "name": "stdout",
     "output_type": "stream",
     "text": [
      "MSE (test) : 10.166901588439941\n"
     ]
    },
    {
     "name": "stderr",
     "output_type": "stream",
     "text": [
      "0it [00:02, ?it/s]\n"
     ]
    },
    {
     "name": "stdout",
     "output_type": "stream",
     "text": [
      "Epoch [66/100], Step [1/15], Loss: 11.6784\n",
      "loss_values : 0.0000\n"
     ]
    },
    {
     "name": "stderr",
     "output_type": "stream",
     "text": [
      "4it [00:07,  1.77s/it]\n"
     ]
    },
    {
     "name": "stdout",
     "output_type": "stream",
     "text": [
      "MSE (test) : 10.166900634765625\n"
     ]
    },
    {
     "name": "stderr",
     "output_type": "stream",
     "text": [
      "0it [00:02, ?it/s]\n"
     ]
    },
    {
     "name": "stdout",
     "output_type": "stream",
     "text": [
      "Epoch [67/100], Step [1/15], Loss: 11.6328\n",
      "loss_values : 0.0000\n"
     ]
    },
    {
     "name": "stderr",
     "output_type": "stream",
     "text": [
      "4it [00:07,  1.82s/it]\n"
     ]
    },
    {
     "name": "stdout",
     "output_type": "stream",
     "text": [
      "MSE (test) : 10.166901588439941\n"
     ]
    },
    {
     "name": "stderr",
     "output_type": "stream",
     "text": [
      "0it [00:02, ?it/s]\n"
     ]
    },
    {
     "name": "stdout",
     "output_type": "stream",
     "text": [
      "Epoch [68/100], Step [1/15], Loss: 11.6561\n",
      "loss_values : 0.0000\n"
     ]
    },
    {
     "name": "stderr",
     "output_type": "stream",
     "text": [
      "4it [00:06,  1.72s/it]\n"
     ]
    },
    {
     "name": "stdout",
     "output_type": "stream",
     "text": [
      "MSE (test) : 10.166900634765625\n"
     ]
    },
    {
     "name": "stderr",
     "output_type": "stream",
     "text": [
      "0it [00:06, ?it/s]\n"
     ]
    },
    {
     "name": "stdout",
     "output_type": "stream",
     "text": [
      "Epoch [69/100], Step [1/15], Loss: 11.7567\n",
      "loss_values : 0.0000\n"
     ]
    },
    {
     "name": "stderr",
     "output_type": "stream",
     "text": [
      "4it [00:07,  1.87s/it]\n"
     ]
    },
    {
     "name": "stdout",
     "output_type": "stream",
     "text": [
      "MSE (test) : 10.166900634765625\n"
     ]
    },
    {
     "name": "stderr",
     "output_type": "stream",
     "text": [
      "0it [00:02, ?it/s]\n"
     ]
    },
    {
     "name": "stdout",
     "output_type": "stream",
     "text": [
      "Epoch [70/100], Step [1/15], Loss: 11.6405\n",
      "loss_values : 0.0000\n"
     ]
    },
    {
     "name": "stderr",
     "output_type": "stream",
     "text": [
      "4it [00:07,  1.81s/it]\n"
     ]
    },
    {
     "name": "stdout",
     "output_type": "stream",
     "text": [
      "MSE (test) : 10.166901588439941\n"
     ]
    },
    {
     "name": "stderr",
     "output_type": "stream",
     "text": [
      "0it [00:02, ?it/s]\n"
     ]
    },
    {
     "name": "stdout",
     "output_type": "stream",
     "text": [
      "Epoch [71/100], Step [1/15], Loss: 11.6289\n",
      "loss_values : 0.0000\n"
     ]
    },
    {
     "name": "stderr",
     "output_type": "stream",
     "text": [
      "4it [00:07,  1.84s/it]\n"
     ]
    },
    {
     "name": "stdout",
     "output_type": "stream",
     "text": [
      "MSE (test) : 10.166900634765625\n"
     ]
    },
    {
     "name": "stderr",
     "output_type": "stream",
     "text": [
      "0it [00:02, ?it/s]\n"
     ]
    },
    {
     "name": "stdout",
     "output_type": "stream",
     "text": [
      "Epoch [72/100], Step [1/15], Loss: 11.5650\n",
      "loss_values : 0.0000\n"
     ]
    },
    {
     "name": "stderr",
     "output_type": "stream",
     "text": [
      "4it [00:07,  1.90s/it]\n"
     ]
    },
    {
     "name": "stdout",
     "output_type": "stream",
     "text": [
      "MSE (test) : 10.166900634765625\n"
     ]
    },
    {
     "name": "stderr",
     "output_type": "stream",
     "text": [
      "0it [00:02, ?it/s]\n"
     ]
    },
    {
     "name": "stdout",
     "output_type": "stream",
     "text": [
      "Epoch [73/100], Step [1/15], Loss: 11.5924\n",
      "loss_values : 0.0000\n"
     ]
    },
    {
     "name": "stderr",
     "output_type": "stream",
     "text": [
      "4it [00:07,  1.88s/it]\n"
     ]
    },
    {
     "name": "stdout",
     "output_type": "stream",
     "text": [
      "MSE (test) : 10.166901588439941\n"
     ]
    },
    {
     "name": "stderr",
     "output_type": "stream",
     "text": [
      "0it [00:05, ?it/s]\n"
     ]
    },
    {
     "name": "stdout",
     "output_type": "stream",
     "text": [
      "Epoch [74/100], Step [1/15], Loss: 11.5020\n",
      "loss_values : 0.0000\n"
     ]
    },
    {
     "name": "stderr",
     "output_type": "stream",
     "text": [
      "4it [00:07,  1.83s/it]\n"
     ]
    },
    {
     "name": "stdout",
     "output_type": "stream",
     "text": [
      "MSE (test) : 10.166901588439941\n"
     ]
    },
    {
     "name": "stderr",
     "output_type": "stream",
     "text": [
      "0it [00:02, ?it/s]\n"
     ]
    },
    {
     "name": "stdout",
     "output_type": "stream",
     "text": [
      "Epoch [75/100], Step [1/15], Loss: 11.5356\n",
      "loss_values : 0.0000\n"
     ]
    },
    {
     "name": "stderr",
     "output_type": "stream",
     "text": [
      "4it [00:07,  1.81s/it]\n"
     ]
    },
    {
     "name": "stdout",
     "output_type": "stream",
     "text": [
      "MSE (test) : 10.166900634765625\n"
     ]
    },
    {
     "name": "stderr",
     "output_type": "stream",
     "text": [
      "0it [00:02, ?it/s]\n"
     ]
    },
    {
     "name": "stdout",
     "output_type": "stream",
     "text": [
      "Epoch [76/100], Step [1/15], Loss: 11.6511\n",
      "loss_values : 0.0000\n"
     ]
    },
    {
     "name": "stderr",
     "output_type": "stream",
     "text": [
      "4it [00:07,  1.83s/it]\n"
     ]
    },
    {
     "name": "stdout",
     "output_type": "stream",
     "text": [
      "MSE (test) : 10.166901588439941\n"
     ]
    },
    {
     "name": "stderr",
     "output_type": "stream",
     "text": [
      "0it [00:03, ?it/s]\n"
     ]
    },
    {
     "name": "stdout",
     "output_type": "stream",
     "text": [
      "Epoch [77/100], Step [1/15], Loss: 11.5640\n",
      "loss_values : 0.0000\n"
     ]
    },
    {
     "name": "stderr",
     "output_type": "stream",
     "text": [
      "4it [00:06,  1.68s/it]\n"
     ]
    },
    {
     "name": "stdout",
     "output_type": "stream",
     "text": [
      "MSE (test) : 10.166901588439941\n"
     ]
    },
    {
     "name": "stderr",
     "output_type": "stream",
     "text": [
      "0it [00:02, ?it/s]\n"
     ]
    },
    {
     "name": "stdout",
     "output_type": "stream",
     "text": [
      "Epoch [78/100], Step [1/15], Loss: 11.5623\n",
      "loss_values : 0.0000\n"
     ]
    },
    {
     "name": "stderr",
     "output_type": "stream",
     "text": [
      "4it [00:06,  1.54s/it]\n"
     ]
    },
    {
     "name": "stdout",
     "output_type": "stream",
     "text": [
      "MSE (test) : 10.166901588439941\n"
     ]
    },
    {
     "name": "stderr",
     "output_type": "stream",
     "text": [
      "0it [00:02, ?it/s]\n"
     ]
    },
    {
     "name": "stdout",
     "output_type": "stream",
     "text": [
      "Epoch [79/100], Step [1/15], Loss: 11.5473\n",
      "loss_values : 0.0000\n"
     ]
    },
    {
     "name": "stderr",
     "output_type": "stream",
     "text": [
      "4it [00:06,  1.68s/it]\n"
     ]
    },
    {
     "name": "stdout",
     "output_type": "stream",
     "text": [
      "MSE (test) : 10.166901588439941\n"
     ]
    },
    {
     "name": "stderr",
     "output_type": "stream",
     "text": [
      "0it [00:02, ?it/s]\n"
     ]
    },
    {
     "name": "stdout",
     "output_type": "stream",
     "text": [
      "Epoch [80/100], Step [1/15], Loss: 11.5191\n",
      "loss_values : 0.0000\n"
     ]
    },
    {
     "name": "stderr",
     "output_type": "stream",
     "text": [
      "4it [00:06,  1.67s/it]\n"
     ]
    },
    {
     "name": "stdout",
     "output_type": "stream",
     "text": [
      "MSE (test) : 10.166901588439941\n"
     ]
    },
    {
     "name": "stderr",
     "output_type": "stream",
     "text": [
      "0it [00:02, ?it/s]\n"
     ]
    },
    {
     "name": "stdout",
     "output_type": "stream",
     "text": [
      "Epoch [81/100], Step [1/15], Loss: 11.5766\n",
      "loss_values : 0.0000\n"
     ]
    },
    {
     "name": "stderr",
     "output_type": "stream",
     "text": [
      "4it [00:07,  1.86s/it]\n"
     ]
    },
    {
     "name": "stdout",
     "output_type": "stream",
     "text": [
      "MSE (test) : 10.166901588439941\n"
     ]
    },
    {
     "name": "stderr",
     "output_type": "stream",
     "text": [
      "0it [00:02, ?it/s]\n"
     ]
    },
    {
     "name": "stdout",
     "output_type": "stream",
     "text": [
      "Epoch [82/100], Step [1/15], Loss: 11.4923\n",
      "loss_values : 0.0000\n"
     ]
    },
    {
     "name": "stderr",
     "output_type": "stream",
     "text": [
      "4it [00:07,  1.75s/it]\n"
     ]
    },
    {
     "name": "stdout",
     "output_type": "stream",
     "text": [
      "MSE (test) : 10.166900634765625\n"
     ]
    },
    {
     "name": "stderr",
     "output_type": "stream",
     "text": [
      "0it [00:02, ?it/s]\n"
     ]
    },
    {
     "name": "stdout",
     "output_type": "stream",
     "text": [
      "Epoch [83/100], Step [1/15], Loss: 11.5767\n",
      "loss_values : 0.0000\n"
     ]
    },
    {
     "name": "stderr",
     "output_type": "stream",
     "text": [
      "4it [00:07,  1.81s/it]\n"
     ]
    },
    {
     "name": "stdout",
     "output_type": "stream",
     "text": [
      "MSE (test) : 10.166901588439941\n"
     ]
    },
    {
     "name": "stderr",
     "output_type": "stream",
     "text": [
      "0it [00:02, ?it/s]\n"
     ]
    },
    {
     "name": "stdout",
     "output_type": "stream",
     "text": [
      "Epoch [84/100], Step [1/15], Loss: 11.5268\n",
      "loss_values : 0.0000\n"
     ]
    },
    {
     "name": "stderr",
     "output_type": "stream",
     "text": [
      "4it [00:06,  1.72s/it]\n"
     ]
    },
    {
     "name": "stdout",
     "output_type": "stream",
     "text": [
      "MSE (test) : 10.166901588439941\n"
     ]
    },
    {
     "name": "stderr",
     "output_type": "stream",
     "text": [
      "0it [00:02, ?it/s]\n"
     ]
    },
    {
     "name": "stdout",
     "output_type": "stream",
     "text": [
      "Epoch [85/100], Step [1/15], Loss: 11.5140\n",
      "loss_values : 0.0000\n"
     ]
    },
    {
     "name": "stderr",
     "output_type": "stream",
     "text": [
      "4it [00:06,  1.66s/it]\n"
     ]
    },
    {
     "name": "stdout",
     "output_type": "stream",
     "text": [
      "MSE (test) : 10.166901588439941\n"
     ]
    },
    {
     "name": "stderr",
     "output_type": "stream",
     "text": [
      "0it [00:02, ?it/s]\n"
     ]
    },
    {
     "name": "stdout",
     "output_type": "stream",
     "text": [
      "Epoch [86/100], Step [1/15], Loss: 11.7286\n",
      "loss_values : 0.0000\n"
     ]
    },
    {
     "name": "stderr",
     "output_type": "stream",
     "text": [
      "4it [00:07,  1.77s/it]\n"
     ]
    },
    {
     "name": "stdout",
     "output_type": "stream",
     "text": [
      "MSE (test) : 10.166900634765625\n"
     ]
    },
    {
     "name": "stderr",
     "output_type": "stream",
     "text": [
      "0it [00:02, ?it/s]\n"
     ]
    },
    {
     "name": "stdout",
     "output_type": "stream",
     "text": [
      "Epoch [87/100], Step [1/15], Loss: 11.4683\n",
      "loss_values : 0.0000\n"
     ]
    },
    {
     "name": "stderr",
     "output_type": "stream",
     "text": [
      "4it [00:07,  1.86s/it]\n"
     ]
    },
    {
     "name": "stdout",
     "output_type": "stream",
     "text": [
      "MSE (test) : 10.166900634765625\n"
     ]
    },
    {
     "name": "stderr",
     "output_type": "stream",
     "text": [
      "0it [00:02, ?it/s]\n"
     ]
    },
    {
     "name": "stdout",
     "output_type": "stream",
     "text": [
      "Epoch [88/100], Step [1/15], Loss: 11.7625\n",
      "loss_values : 0.0000\n"
     ]
    },
    {
     "name": "stderr",
     "output_type": "stream",
     "text": [
      "4it [00:07,  1.77s/it]\n"
     ]
    },
    {
     "name": "stdout",
     "output_type": "stream",
     "text": [
      "MSE (test) : 10.166901588439941\n"
     ]
    },
    {
     "name": "stderr",
     "output_type": "stream",
     "text": [
      "0it [00:02, ?it/s]\n"
     ]
    },
    {
     "name": "stdout",
     "output_type": "stream",
     "text": [
      "Epoch [89/100], Step [1/15], Loss: 11.5183\n",
      "loss_values : 0.0000\n"
     ]
    },
    {
     "name": "stderr",
     "output_type": "stream",
     "text": [
      "4it [00:07,  1.88s/it]\n"
     ]
    },
    {
     "name": "stdout",
     "output_type": "stream",
     "text": [
      "MSE (test) : 10.166901588439941\n"
     ]
    },
    {
     "name": "stderr",
     "output_type": "stream",
     "text": [
      "0it [00:02, ?it/s]\n"
     ]
    },
    {
     "name": "stdout",
     "output_type": "stream",
     "text": [
      "Epoch [90/100], Step [1/15], Loss: 11.4583\n",
      "loss_values : 0.0000\n"
     ]
    },
    {
     "name": "stderr",
     "output_type": "stream",
     "text": [
      "4it [00:06,  1.74s/it]\n"
     ]
    },
    {
     "name": "stdout",
     "output_type": "stream",
     "text": [
      "MSE (test) : 10.166901588439941\n"
     ]
    },
    {
     "name": "stderr",
     "output_type": "stream",
     "text": [
      "0it [00:02, ?it/s]\n"
     ]
    },
    {
     "name": "stdout",
     "output_type": "stream",
     "text": [
      "Epoch [91/100], Step [1/15], Loss: 11.6002\n",
      "loss_values : 0.0000\n"
     ]
    },
    {
     "name": "stderr",
     "output_type": "stream",
     "text": [
      "4it [00:07,  1.77s/it]\n"
     ]
    },
    {
     "name": "stdout",
     "output_type": "stream",
     "text": [
      "MSE (test) : 10.166899681091309\n"
     ]
    },
    {
     "name": "stderr",
     "output_type": "stream",
     "text": [
      "0it [00:02, ?it/s]\n"
     ]
    },
    {
     "name": "stdout",
     "output_type": "stream",
     "text": [
      "Epoch [92/100], Step [1/15], Loss: 11.6064\n",
      "loss_values : 0.0000\n"
     ]
    },
    {
     "name": "stderr",
     "output_type": "stream",
     "text": [
      "4it [00:07,  1.80s/it]\n"
     ]
    },
    {
     "name": "stdout",
     "output_type": "stream",
     "text": [
      "MSE (test) : 10.166901588439941\n"
     ]
    },
    {
     "name": "stderr",
     "output_type": "stream",
     "text": [
      "0it [00:02, ?it/s]\n"
     ]
    },
    {
     "name": "stdout",
     "output_type": "stream",
     "text": [
      "Epoch [93/100], Step [1/15], Loss: 11.6438\n",
      "loss_values : 0.0000\n"
     ]
    },
    {
     "name": "stderr",
     "output_type": "stream",
     "text": [
      "4it [00:08,  2.00s/it]\n"
     ]
    },
    {
     "name": "stdout",
     "output_type": "stream",
     "text": [
      "MSE (test) : 10.166900634765625\n"
     ]
    },
    {
     "name": "stderr",
     "output_type": "stream",
     "text": [
      "0it [00:02, ?it/s]\n"
     ]
    },
    {
     "name": "stdout",
     "output_type": "stream",
     "text": [
      "Epoch [94/100], Step [1/15], Loss: 11.5397\n",
      "loss_values : 0.0000\n"
     ]
    },
    {
     "name": "stderr",
     "output_type": "stream",
     "text": [
      "4it [00:07,  1.86s/it]\n"
     ]
    },
    {
     "name": "stdout",
     "output_type": "stream",
     "text": [
      "MSE (test) : 10.166901588439941\n"
     ]
    },
    {
     "name": "stderr",
     "output_type": "stream",
     "text": [
      "0it [00:02, ?it/s]\n"
     ]
    },
    {
     "name": "stdout",
     "output_type": "stream",
     "text": [
      "Epoch [95/100], Step [1/15], Loss: 11.5128\n",
      "loss_values : 0.0000\n"
     ]
    },
    {
     "name": "stderr",
     "output_type": "stream",
     "text": [
      "4it [00:07,  1.89s/it]\n"
     ]
    },
    {
     "name": "stdout",
     "output_type": "stream",
     "text": [
      "MSE (test) : 10.166901588439941\n"
     ]
    },
    {
     "name": "stderr",
     "output_type": "stream",
     "text": [
      "0it [00:03, ?it/s]\n"
     ]
    },
    {
     "name": "stdout",
     "output_type": "stream",
     "text": [
      "Epoch [96/100], Step [1/15], Loss: 11.5767\n",
      "loss_values : 0.0000\n"
     ]
    },
    {
     "name": "stderr",
     "output_type": "stream",
     "text": [
      "4it [00:07,  1.84s/it]\n"
     ]
    },
    {
     "name": "stdout",
     "output_type": "stream",
     "text": [
      "MSE (test) : 10.166900634765625\n"
     ]
    },
    {
     "name": "stderr",
     "output_type": "stream",
     "text": [
      "0it [00:02, ?it/s]\n"
     ]
    },
    {
     "name": "stdout",
     "output_type": "stream",
     "text": [
      "Epoch [97/100], Step [1/15], Loss: 11.5133\n",
      "loss_values : 0.0000\n"
     ]
    },
    {
     "name": "stderr",
     "output_type": "stream",
     "text": [
      "4it [00:07,  1.84s/it]\n"
     ]
    },
    {
     "name": "stdout",
     "output_type": "stream",
     "text": [
      "MSE (test) : 10.166901588439941\n"
     ]
    },
    {
     "name": "stderr",
     "output_type": "stream",
     "text": [
      "0it [00:03, ?it/s]\n"
     ]
    },
    {
     "name": "stdout",
     "output_type": "stream",
     "text": [
      "Epoch [98/100], Step [1/15], Loss: 11.5818\n",
      "loss_values : 0.0000\n"
     ]
    },
    {
     "name": "stderr",
     "output_type": "stream",
     "text": [
      "4it [00:06,  1.71s/it]\n"
     ]
    },
    {
     "name": "stdout",
     "output_type": "stream",
     "text": [
      "MSE (test) : 10.166901588439941\n"
     ]
    },
    {
     "name": "stderr",
     "output_type": "stream",
     "text": [
      "0it [00:03, ?it/s]\n"
     ]
    },
    {
     "name": "stdout",
     "output_type": "stream",
     "text": [
      "Epoch [99/100], Step [1/15], Loss: 11.5625\n",
      "loss_values : 0.0000\n"
     ]
    },
    {
     "name": "stderr",
     "output_type": "stream",
     "text": [
      "4it [00:07,  1.78s/it]\n"
     ]
    },
    {
     "name": "stdout",
     "output_type": "stream",
     "text": [
      "MSE (test) : 10.166901588439941\n"
     ]
    },
    {
     "name": "stderr",
     "output_type": "stream",
     "text": [
      "0it [00:02, ?it/s]\n"
     ]
    },
    {
     "name": "stdout",
     "output_type": "stream",
     "text": [
      "Epoch [100/100], Step [1/15], Loss: 11.6291\n",
      "loss_values : 0.0000\n"
     ]
    },
    {
     "name": "stderr",
     "output_type": "stream",
     "text": [
      "4it [00:07,  1.83s/it]\n"
     ]
    },
    {
     "name": "stdout",
     "output_type": "stream",
     "text": [
      "MSE (test) : 10.166901588439941\n"
     ]
    }
   ],
   "source": [
    "%load_ext autoreload\n",
    "%autoreload 24\n",
    "from v1_NormalNN            import Model2\n",
    "from my_utils.model_helpers import train_and_test_model\n",
    "\n",
    "\n",
    "# ---------- #\n",
    "# INITIALIZE #\n",
    "# ---------- #\n",
    "model2 = Model2().to(device)\n",
    "loss_func = nn.MSELoss()\n",
    "optimizer = torch.optim.Adam(params=model.parameters(), lr=learning_rate)\n",
    "\n",
    "# ---------------- #\n",
    "# TRAIN & EVALUATE #\n",
    "# ---------------- #\n",
    "model2, loss_values2, loss_values_test2 = train_and_test_model(\n",
    "    modeling_dataset = modeling_dataset,\n",
    "    model            = model2,\n",
    "    criterion        = loss_func,\n",
    "    optimizer        = optimizer,\n",
    "    num_epochs       = 100,\n",
    "    device           = device,\n",
    "    train_loader     = train_loader,\n",
    "    test_loader      = test_loader\n",
    ")"
   ]
  },
  {
   "cell_type": "code",
   "execution_count": 608,
   "metadata": {},
   "outputs": [
    {
     "name": "stdout",
     "output_type": "stream",
     "text": [
      "\n",
      "TRAIN\n",
      "    min  : 0.00003065\n",
      "    mean : 0.00003120\n",
      "    max  : 0.00003176\n",
      "TEST\n",
      "    min  : 10.16689968\n",
      "    mean : 10.16690159\n",
      "    max  : 10.16690254\n",
      "\n"
     ]
    },
    {
     "data": {
      "image/png": "[encoded data removed]",
      "text/plain": [
       "<Figure size 720x504 with 2 Axes>"
      ]
     },
     "metadata": {},
     "output_type": "display_data"
    }
   ],
   "source": [
    "from matplotlib.ticker import FormatStrFormatter\n",
    "\n",
    "plt.rcParams[\"figure.figsize\"] = (10, 7)\n",
    "\n",
    "fig, axs = plt.subplots(2)\n",
    "fig.suptitle(\"v1_NormalNN - Model2\");\n",
    "# Train\n",
    "axs[0].plot(loss_values2, linestyle='-', label='Train', color='C0');\n",
    "axs[0].legend();\n",
    "axs[0].ticklabel_format(style='plain');\n",
    "axs[0].set_xlim(0, num_epochs, 1);\n",
    "axs[0].set_ylabel(\"MSE\");\n",
    "# Test\n",
    "axs[1].plot(loss_values_test2, linestyle='-', label='Test', color='C1');\n",
    "axs[1].legend();\n",
    "# axs[1].ticklabel_format(style='plain');\n",
    "axs[1].yaxis.set_major_formatter(FormatStrFormatter('%.7f'))\n",
    "axs[1].set_xlim(0, num_epochs, 1);\n",
    "axs[1].set_xlabel(\"Epochs\");\n",
    "axs[1].set_ylabel(\"MSE\");\n",
    "\n",
    "print(f\"\"\"\n",
    "TRAIN\n",
    "    min  : {np.min(loss_values2):2.8f}\n",
    "    mean : {np.mean(loss_values2):2.8f}\n",
    "    max  : {np.max(loss_values2):2.8f}\n",
    "TEST\n",
    "    min  : {np.min(loss_values_test2):2.8f}\n",
    "    mean : {np.mean(loss_values_test2):2.8f}\n",
    "    max  : {np.max(loss_values_test2):2.8f}\n",
    "\"\"\")\n",
    "\n"
   ]
  },
  {
   "cell_type": "markdown",
   "metadata": {},
   "source": [
    "---\n",
    "\n",
    "## Model3 | Use [DeepCDR](http://liuqiao.me/files/DeepCDR.pdf)'s gene epxression network structure | Prevent Overfitting\n",
    "\n",
    "- __Early Stopping__ doesn't make too much sense here (yet).\n",
    "- __Dropout__ could prevent overfitting here and therefore be tried.\n",
    "- "
   ]
  },
  {
   "cell_type": "code",
   "execution_count": 613,
   "metadata": {},
   "outputs": [
    {
     "name": "stdout",
     "output_type": "stream",
     "text": [
      "The autoreload extension is already loaded. To reload it, use:\n",
      "  %reload_ext autoreload\n"
     ]
    },
    {
     "name": "stderr",
     "output_type": "stream",
     "text": [
      "0it [00:02, ?it/s]\n"
     ]
    },
    {
     "name": "stdout",
     "output_type": "stream",
     "text": [
      "Epoch [1/100], Step [1/15], Loss: 11.7447\n",
      "loss_values : 0.0000\n"
     ]
    },
    {
     "name": "stderr",
     "output_type": "stream",
     "text": [
      "4it [00:06,  1.65s/it]\n"
     ]
    },
    {
     "name": "stdout",
     "output_type": "stream",
     "text": [
      "MSE (test) : 10.347090721130371\n"
     ]
    },
    {
     "name": "stderr",
     "output_type": "stream",
     "text": [
      "0it [00:02, ?it/s]\n"
     ]
    },
    {
     "name": "stdout",
     "output_type": "stream",
     "text": [
      "Epoch [2/100], Step [1/15], Loss: 11.6912\n",
      "loss_values : 0.0000\n"
     ]
    },
    {
     "name": "stderr",
     "output_type": "stream",
     "text": [
      "4it [00:06,  1.66s/it]\n"
     ]
    },
    {
     "name": "stdout",
     "output_type": "stream",
     "text": [
      "MSE (test) : 10.347039222717285\n"
     ]
    },
    {
     "name": "stderr",
     "output_type": "stream",
     "text": [
      "0it [00:02, ?it/s]\n"
     ]
    },
    {
     "name": "stdout",
     "output_type": "stream",
     "text": [
      "Epoch [3/100], Step [1/15], Loss: 11.9560\n",
      "loss_values : 0.0000\n"
     ]
    },
    {
     "name": "stderr",
     "output_type": "stream",
     "text": [
      "4it [00:06,  1.71s/it]\n"
     ]
    },
    {
     "name": "stdout",
     "output_type": "stream",
     "text": [
      "MSE (test) : 10.34700870513916\n"
     ]
    },
    {
     "name": "stderr",
     "output_type": "stream",
     "text": [
      "0it [00:02, ?it/s]\n"
     ]
    },
    {
     "name": "stdout",
     "output_type": "stream",
     "text": [
      "Epoch [4/100], Step [1/15], Loss: 11.7206\n",
      "loss_values : 0.0000\n"
     ]
    },
    {
     "name": "stderr",
     "output_type": "stream",
     "text": [
      "4it [00:06,  1.60s/it]\n"
     ]
    },
    {
     "name": "stdout",
     "output_type": "stream",
     "text": [
      "MSE (test) : 10.346997261047363\n"
     ]
    },
    {
     "name": "stderr",
     "output_type": "stream",
     "text": [
      "0it [00:02, ?it/s]\n"
     ]
    },
    {
     "name": "stdout",
     "output_type": "stream",
     "text": [
      "Epoch [5/100], Step [1/15], Loss: 11.7516\n",
      "loss_values : 0.0000\n"
     ]
    },
    {
     "name": "stderr",
     "output_type": "stream",
     "text": [
      "4it [00:06,  1.67s/it]\n"
     ]
    },
    {
     "name": "stdout",
     "output_type": "stream",
     "text": [
      "MSE (test) : 10.346997261047363\n"
     ]
    },
    {
     "name": "stderr",
     "output_type": "stream",
     "text": [
      "0it [00:02, ?it/s]\n"
     ]
    },
    {
     "name": "stdout",
     "output_type": "stream",
     "text": [
      "Epoch [6/100], Step [1/15], Loss: 11.8599\n",
      "loss_values : 0.0000\n"
     ]
    },
    {
     "name": "stderr",
     "output_type": "stream",
     "text": [
      "4it [00:09,  2.40s/it]\n"
     ]
    },
    {
     "name": "stdout",
     "output_type": "stream",
     "text": [
      "MSE (test) : 10.34701156616211\n"
     ]
    },
    {
     "name": "stderr",
     "output_type": "stream",
     "text": [
      "0it [00:01, ?it/s]\n"
     ]
    },
    {
     "name": "stdout",
     "output_type": "stream",
     "text": [
      "Epoch [7/100], Step [1/15], Loss: 11.7261\n",
      "loss_values : 0.0000\n"
     ]
    },
    {
     "name": "stderr",
     "output_type": "stream",
     "text": [
      "4it [00:06,  1.59s/it]\n"
     ]
    },
    {
     "name": "stdout",
     "output_type": "stream",
     "text": [
      "MSE (test) : 10.34703254699707\n"
     ]
    },
    {
     "name": "stderr",
     "output_type": "stream",
     "text": [
      "0it [00:01, ?it/s]\n"
     ]
    },
    {
     "name": "stdout",
     "output_type": "stream",
     "text": [
      "Epoch [8/100], Step [1/15], Loss: 11.7791\n",
      "loss_values : 0.0000\n"
     ]
    },
    {
     "name": "stderr",
     "output_type": "stream",
     "text": [
      "4it [00:06,  1.64s/it]\n"
     ]
    },
    {
     "name": "stdout",
     "output_type": "stream",
     "text": [
      "MSE (test) : 10.347062110900879\n"
     ]
    },
    {
     "name": "stderr",
     "output_type": "stream",
     "text": [
      "0it [00:02, ?it/s]\n"
     ]
    },
    {
     "name": "stdout",
     "output_type": "stream",
     "text": [
      "Epoch [9/100], Step [1/15], Loss: 11.7418\n",
      "loss_values : 0.0000\n"
     ]
    },
    {
     "name": "stderr",
     "output_type": "stream",
     "text": [
      "4it [00:06,  1.50s/it]\n"
     ]
    },
    {
     "name": "stdout",
     "output_type": "stream",
     "text": [
      "MSE (test) : 10.347094535827637\n"
     ]
    },
    {
     "name": "stderr",
     "output_type": "stream",
     "text": [
      "0it [00:02, ?it/s]\n"
     ]
    },
    {
     "name": "stdout",
     "output_type": "stream",
     "text": [
      "Epoch [10/100], Step [1/15], Loss: 11.7164\n",
      "loss_values : 0.0000\n"
     ]
    },
    {
     "name": "stderr",
     "output_type": "stream",
     "text": [
      "4it [00:06,  1.60s/it]\n"
     ]
    },
    {
     "name": "stdout",
     "output_type": "stream",
     "text": [
      "MSE (test) : 10.34713077545166\n"
     ]
    },
    {
     "name": "stderr",
     "output_type": "stream",
     "text": [
      "0it [00:02, ?it/s]\n"
     ]
    },
    {
     "name": "stdout",
     "output_type": "stream",
     "text": [
      "Epoch [11/100], Step [1/15], Loss: 11.8950\n",
      "loss_values : 0.0000\n"
     ]
    },
    {
     "name": "stderr",
     "output_type": "stream",
     "text": [
      "4it [00:06,  1.51s/it]\n"
     ]
    },
    {
     "name": "stdout",
     "output_type": "stream",
     "text": [
      "MSE (test) : 10.34716796875\n"
     ]
    },
    {
     "name": "stderr",
     "output_type": "stream",
     "text": [
      "0it [00:01, ?it/s]\n"
     ]
    },
    {
     "name": "stdout",
     "output_type": "stream",
     "text": [
      "Epoch [12/100], Step [1/15], Loss: 11.7631\n",
      "loss_values : 0.0000\n"
     ]
    },
    {
     "name": "stderr",
     "output_type": "stream",
     "text": [
      "4it [00:06,  1.71s/it]\n"
     ]
    },
    {
     "name": "stdout",
     "output_type": "stream",
     "text": [
      "MSE (test) : 10.347208023071289\n"
     ]
    },
    {
     "name": "stderr",
     "output_type": "stream",
     "text": [
      "0it [00:02, ?it/s]\n"
     ]
    },
    {
     "name": "stdout",
     "output_type": "stream",
     "text": [
      "Epoch [13/100], Step [1/15], Loss: 11.8914\n",
      "loss_values : 0.0000\n"
     ]
    },
    {
     "name": "stderr",
     "output_type": "stream",
     "text": [
      "4it [00:07,  1.79s/it]\n"
     ]
    },
    {
     "name": "stdout",
     "output_type": "stream",
     "text": [
      "MSE (test) : 10.347245216369629\n"
     ]
    },
    {
     "name": "stderr",
     "output_type": "stream",
     "text": [
      "0it [00:02, ?it/s]\n"
     ]
    },
    {
     "name": "stdout",
     "output_type": "stream",
     "text": [
      "Epoch [14/100], Step [1/15], Loss: 11.6813\n",
      "loss_values : 0.0000\n"
     ]
    },
    {
     "name": "stderr",
     "output_type": "stream",
     "text": [
      "4it [00:06,  1.62s/it]\n"
     ]
    },
    {
     "name": "stdout",
     "output_type": "stream",
     "text": [
      "MSE (test) : 10.347284317016602\n"
     ]
    },
    {
     "name": "stderr",
     "output_type": "stream",
     "text": [
      "0it [00:02, ?it/s]\n"
     ]
    },
    {
     "name": "stdout",
     "output_type": "stream",
     "text": [
      "Epoch [15/100], Step [1/15], Loss: 11.7822\n",
      "loss_values : 0.0000\n"
     ]
    },
    {
     "name": "stderr",
     "output_type": "stream",
     "text": [
      "4it [00:06,  1.62s/it]\n"
     ]
    },
    {
     "name": "stdout",
     "output_type": "stream",
     "text": [
      "MSE (test) : 10.347320556640625\n"
     ]
    },
    {
     "name": "stderr",
     "output_type": "stream",
     "text": [
      "0it [00:02, ?it/s]\n"
     ]
    },
    {
     "name": "stdout",
     "output_type": "stream",
     "text": [
      "Epoch [16/100], Step [1/15], Loss: 11.8289\n",
      "loss_values : 0.0000\n"
     ]
    },
    {
     "name": "stderr",
     "output_type": "stream",
     "text": [
      "4it [00:06,  1.61s/it]\n"
     ]
    },
    {
     "name": "stdout",
     "output_type": "stream",
     "text": [
      "MSE (test) : 10.347355842590332\n"
     ]
    },
    {
     "name": "stderr",
     "output_type": "stream",
     "text": [
      "0it [00:02, ?it/s]\n"
     ]
    },
    {
     "name": "stdout",
     "output_type": "stream",
     "text": [
      "Epoch [17/100], Step [1/15], Loss: 11.7440\n",
      "loss_values : 0.0000\n"
     ]
    },
    {
     "name": "stderr",
     "output_type": "stream",
     "text": [
      "4it [00:06,  1.55s/it]\n"
     ]
    },
    {
     "name": "stdout",
     "output_type": "stream",
     "text": [
      "MSE (test) : 10.347387313842773\n"
     ]
    },
    {
     "name": "stderr",
     "output_type": "stream",
     "text": [
      "0it [00:02, ?it/s]\n"
     ]
    },
    {
     "name": "stdout",
     "output_type": "stream",
     "text": [
      "Epoch [18/100], Step [1/15], Loss: 11.7280\n",
      "loss_values : 0.0000\n"
     ]
    },
    {
     "name": "stderr",
     "output_type": "stream",
     "text": [
      "4it [00:06,  1.60s/it]\n"
     ]
    },
    {
     "name": "stdout",
     "output_type": "stream",
     "text": [
      "MSE (test) : 10.347418785095215\n"
     ]
    },
    {
     "name": "stderr",
     "output_type": "stream",
     "text": [
      "0it [00:02, ?it/s]\n"
     ]
    },
    {
     "name": "stdout",
     "output_type": "stream",
     "text": [
      "Epoch [19/100], Step [1/15], Loss: 11.7343\n",
      "loss_values : 0.0000\n"
     ]
    },
    {
     "name": "stderr",
     "output_type": "stream",
     "text": [
      "4it [00:06,  1.72s/it]\n"
     ]
    },
    {
     "name": "stdout",
     "output_type": "stream",
     "text": [
      "MSE (test) : 10.347448348999023\n"
     ]
    },
    {
     "name": "stderr",
     "output_type": "stream",
     "text": [
      "0it [00:02, ?it/s]\n"
     ]
    },
    {
     "name": "stdout",
     "output_type": "stream",
     "text": [
      "Epoch [20/100], Step [1/15], Loss: 11.7641\n",
      "loss_values : 0.0000\n"
     ]
    },
    {
     "name": "stderr",
     "output_type": "stream",
     "text": [
      "4it [00:06,  1.72s/it]\n"
     ]
    },
    {
     "name": "stdout",
     "output_type": "stream",
     "text": [
      "MSE (test) : 10.3474760055542\n"
     ]
    },
    {
     "name": "stderr",
     "output_type": "stream",
     "text": [
      "0it [00:02, ?it/s]\n"
     ]
    },
    {
     "name": "stdout",
     "output_type": "stream",
     "text": [
      "Epoch [21/100], Step [1/15], Loss: 11.8539\n",
      "loss_values : 0.0000\n"
     ]
    },
    {
     "name": "stderr",
     "output_type": "stream",
     "text": [
      "4it [00:06,  1.66s/it]\n"
     ]
    },
    {
     "name": "stdout",
     "output_type": "stream",
     "text": [
      "MSE (test) : 10.347500801086426\n"
     ]
    },
    {
     "name": "stderr",
     "output_type": "stream",
     "text": [
      "0it [00:02, ?it/s]\n"
     ]
    },
    {
     "name": "stdout",
     "output_type": "stream",
     "text": [
      "Epoch [22/100], Step [1/15], Loss: 11.6825\n",
      "loss_values : 0.0000\n"
     ]
    },
    {
     "name": "stderr",
     "output_type": "stream",
     "text": [
      "4it [00:06,  1.69s/it]\n"
     ]
    },
    {
     "name": "stdout",
     "output_type": "stream",
     "text": [
      "MSE (test) : 10.347524642944336\n"
     ]
    },
    {
     "name": "stderr",
     "output_type": "stream",
     "text": [
      "0it [00:02, ?it/s]\n"
     ]
    },
    {
     "name": "stdout",
     "output_type": "stream",
     "text": [
      "Epoch [23/100], Step [1/15], Loss: 11.8265\n",
      "loss_values : 0.0000\n"
     ]
    },
    {
     "name": "stderr",
     "output_type": "stream",
     "text": [
      "4it [00:06,  1.68s/it]\n"
     ]
    },
    {
     "name": "stdout",
     "output_type": "stream",
     "text": [
      "MSE (test) : 10.347545623779297\n"
     ]
    },
    {
     "name": "stderr",
     "output_type": "stream",
     "text": [
      "0it [00:02, ?it/s]\n"
     ]
    },
    {
     "name": "stdout",
     "output_type": "stream",
     "text": [
      "Epoch [24/100], Step [1/15], Loss: 11.8819\n",
      "loss_values : 0.0000\n"
     ]
    },
    {
     "name": "stderr",
     "output_type": "stream",
     "text": [
      "4it [00:06,  1.61s/it]\n"
     ]
    },
    {
     "name": "stdout",
     "output_type": "stream",
     "text": [
      "MSE (test) : 10.347564697265625\n"
     ]
    },
    {
     "name": "stderr",
     "output_type": "stream",
     "text": [
      "0it [00:02, ?it/s]\n"
     ]
    },
    {
     "name": "stdout",
     "output_type": "stream",
     "text": [
      "Epoch [25/100], Step [1/15], Loss: 11.9767\n",
      "loss_values : 0.0000\n"
     ]
    },
    {
     "name": "stderr",
     "output_type": "stream",
     "text": [
      "4it [00:06,  1.70s/it]\n"
     ]
    },
    {
     "name": "stdout",
     "output_type": "stream",
     "text": [
      "MSE (test) : 10.347582817077637\n"
     ]
    },
    {
     "name": "stderr",
     "output_type": "stream",
     "text": [
      "0it [00:01, ?it/s]\n"
     ]
    },
    {
     "name": "stdout",
     "output_type": "stream",
     "text": [
      "Epoch [26/100], Step [1/15], Loss: 11.8113\n",
      "loss_values : 0.0000\n"
     ]
    },
    {
     "name": "stderr",
     "output_type": "stream",
     "text": [
      "4it [00:06,  1.54s/it]\n"
     ]
    },
    {
     "name": "stdout",
     "output_type": "stream",
     "text": [
      "MSE (test) : 10.347599983215332\n"
     ]
    },
    {
     "name": "stderr",
     "output_type": "stream",
     "text": [
      "0it [00:02, ?it/s]\n"
     ]
    },
    {
     "name": "stdout",
     "output_type": "stream",
     "text": [
      "Epoch [27/100], Step [1/15], Loss: 11.8429\n",
      "loss_values : 0.0000\n"
     ]
    },
    {
     "name": "stderr",
     "output_type": "stream",
     "text": [
      "4it [00:06,  1.57s/it]\n"
     ]
    },
    {
     "name": "stdout",
     "output_type": "stream",
     "text": [
      "MSE (test) : 10.347615242004395\n"
     ]
    },
    {
     "name": "stderr",
     "output_type": "stream",
     "text": [
      "0it [00:02, ?it/s]\n"
     ]
    },
    {
     "name": "stdout",
     "output_type": "stream",
     "text": [
      "Epoch [28/100], Step [1/15], Loss: 11.8102\n",
      "loss_values : 0.0000\n"
     ]
    },
    {
     "name": "stderr",
     "output_type": "stream",
     "text": [
      "4it [00:06,  1.65s/it]\n"
     ]
    },
    {
     "name": "stdout",
     "output_type": "stream",
     "text": [
      "MSE (test) : 10.347630500793457\n"
     ]
    },
    {
     "name": "stderr",
     "output_type": "stream",
     "text": [
      "0it [00:02, ?it/s]\n"
     ]
    },
    {
     "name": "stdout",
     "output_type": "stream",
     "text": [
      "Epoch [29/100], Step [1/15], Loss: 11.7422\n",
      "loss_values : 0.0000\n"
     ]
    },
    {
     "name": "stderr",
     "output_type": "stream",
     "text": [
      "4it [00:06,  1.73s/it]\n"
     ]
    },
    {
     "name": "stdout",
     "output_type": "stream",
     "text": [
      "MSE (test) : 10.347641944885254\n"
     ]
    },
    {
     "name": "stderr",
     "output_type": "stream",
     "text": [
      "0it [00:02, ?it/s]\n"
     ]
    },
    {
     "name": "stdout",
     "output_type": "stream",
     "text": [
      "Epoch [30/100], Step [1/15], Loss: 11.8041\n",
      "loss_values : 0.0000\n"
     ]
    },
    {
     "name": "stderr",
     "output_type": "stream",
     "text": [
      "4it [00:07,  1.76s/it]\n"
     ]
    },
    {
     "name": "stdout",
     "output_type": "stream",
     "text": [
      "MSE (test) : 10.347654342651367\n"
     ]
    },
    {
     "name": "stderr",
     "output_type": "stream",
     "text": [
      "0it [00:02, ?it/s]\n"
     ]
    },
    {
     "name": "stdout",
     "output_type": "stream",
     "text": [
      "Epoch [31/100], Step [1/15], Loss: 11.8353\n",
      "loss_values : 0.0000\n"
     ]
    },
    {
     "name": "stderr",
     "output_type": "stream",
     "text": [
      "4it [00:06,  1.73s/it]\n"
     ]
    },
    {
     "name": "stdout",
     "output_type": "stream",
     "text": [
      "MSE (test) : 10.347664833068848\n"
     ]
    },
    {
     "name": "stderr",
     "output_type": "stream",
     "text": [
      "0it [00:02, ?it/s]\n"
     ]
    },
    {
     "name": "stdout",
     "output_type": "stream",
     "text": [
      "Epoch [32/100], Step [1/15], Loss: 11.8619\n",
      "loss_values : 0.0000\n"
     ]
    },
    {
     "name": "stderr",
     "output_type": "stream",
     "text": [
      "4it [00:06,  1.70s/it]\n"
     ]
    },
    {
     "name": "stdout",
     "output_type": "stream",
     "text": [
      "MSE (test) : 10.347673416137695\n"
     ]
    },
    {
     "name": "stderr",
     "output_type": "stream",
     "text": [
      "0it [00:02, ?it/s]\n"
     ]
    },
    {
     "name": "stdout",
     "output_type": "stream",
     "text": [
      "Epoch [33/100], Step [1/15], Loss: 11.9390\n",
      "loss_values : 0.0000\n"
     ]
    },
    {
     "name": "stderr",
     "output_type": "stream",
     "text": [
      "4it [00:06,  1.56s/it]\n"
     ]
    },
    {
     "name": "stdout",
     "output_type": "stream",
     "text": [
      "MSE (test) : 10.34768295288086\n"
     ]
    },
    {
     "name": "stderr",
     "output_type": "stream",
     "text": [
      "0it [00:02, ?it/s]\n"
     ]
    },
    {
     "name": "stdout",
     "output_type": "stream",
     "text": [
      "Epoch [34/100], Step [1/15], Loss: 11.7470\n",
      "loss_values : 0.0000\n"
     ]
    },
    {
     "name": "stderr",
     "output_type": "stream",
     "text": [
      "4it [00:06,  1.67s/it]\n"
     ]
    },
    {
     "name": "stdout",
     "output_type": "stream",
     "text": [
      "MSE (test) : 10.347689628601074\n"
     ]
    },
    {
     "name": "stderr",
     "output_type": "stream",
     "text": [
      "0it [00:02, ?it/s]\n"
     ]
    },
    {
     "name": "stdout",
     "output_type": "stream",
     "text": [
      "Epoch [35/100], Step [1/15], Loss: 11.8167\n",
      "loss_values : 0.0000\n"
     ]
    },
    {
     "name": "stderr",
     "output_type": "stream",
     "text": [
      "4it [00:06,  1.70s/it]\n"
     ]
    },
    {
     "name": "stdout",
     "output_type": "stream",
     "text": [
      "MSE (test) : 10.347697257995605\n"
     ]
    },
    {
     "name": "stderr",
     "output_type": "stream",
     "text": [
      "0it [00:02, ?it/s]\n"
     ]
    },
    {
     "name": "stdout",
     "output_type": "stream",
     "text": [
      "Epoch [36/100], Step [1/15], Loss: 11.8971\n",
      "loss_values : 0.0000\n"
     ]
    },
    {
     "name": "stderr",
     "output_type": "stream",
     "text": [
      "4it [00:07,  1.80s/it]\n"
     ]
    },
    {
     "name": "stdout",
     "output_type": "stream",
     "text": [
      "MSE (test) : 10.347702980041504\n"
     ]
    },
    {
     "name": "stderr",
     "output_type": "stream",
     "text": [
      "0it [00:02, ?it/s]\n"
     ]
    },
    {
     "name": "stdout",
     "output_type": "stream",
     "text": [
      "Epoch [37/100], Step [1/15], Loss: 11.7774\n",
      "loss_values : 0.0000\n"
     ]
    },
    {
     "name": "stderr",
     "output_type": "stream",
     "text": [
      "4it [00:07,  1.79s/it]\n"
     ]
    },
    {
     "name": "stdout",
     "output_type": "stream",
     "text": [
      "MSE (test) : 10.347710609436035\n"
     ]
    },
    {
     "name": "stderr",
     "output_type": "stream",
     "text": [
      "0it [00:02, ?it/s]\n"
     ]
    },
    {
     "name": "stdout",
     "output_type": "stream",
     "text": [
      "Epoch [38/100], Step [1/15], Loss: 11.6440\n",
      "loss_values : 0.0000\n"
     ]
    },
    {
     "name": "stderr",
     "output_type": "stream",
     "text": [
      "4it [00:06,  1.69s/it]\n"
     ]
    },
    {
     "name": "stdout",
     "output_type": "stream",
     "text": [
      "MSE (test) : 10.347716331481934\n"
     ]
    },
    {
     "name": "stderr",
     "output_type": "stream",
     "text": [
      "0it [00:01, ?it/s]\n"
     ]
    },
    {
     "name": "stdout",
     "output_type": "stream",
     "text": [
      "Epoch [39/100], Step [1/15], Loss: 11.8299\n",
      "loss_values : 0.0000\n"
     ]
    },
    {
     "name": "stderr",
     "output_type": "stream",
     "text": [
      "4it [00:06,  1.68s/it]\n"
     ]
    },
    {
     "name": "stdout",
     "output_type": "stream",
     "text": [
      "MSE (test) : 10.3477201461792\n"
     ]
    },
    {
     "name": "stderr",
     "output_type": "stream",
     "text": [
      "0it [00:02, ?it/s]\n"
     ]
    },
    {
     "name": "stdout",
     "output_type": "stream",
     "text": [
      "Epoch [40/100], Step [1/15], Loss: 11.8729\n",
      "loss_values : 0.0000\n"
     ]
    },
    {
     "name": "stderr",
     "output_type": "stream",
     "text": [
      "4it [00:06,  1.68s/it]\n"
     ]
    },
    {
     "name": "stdout",
     "output_type": "stream",
     "text": [
      "MSE (test) : 10.347724914550781\n"
     ]
    },
    {
     "name": "stderr",
     "output_type": "stream",
     "text": [
      "0it [00:02, ?it/s]\n"
     ]
    },
    {
     "name": "stdout",
     "output_type": "stream",
     "text": [
      "Epoch [41/100], Step [1/15], Loss: 11.7502\n",
      "loss_values : 0.0000\n"
     ]
    },
    {
     "name": "stderr",
     "output_type": "stream",
     "text": [
      "4it [00:06,  1.74s/it]\n"
     ]
    },
    {
     "name": "stdout",
     "output_type": "stream",
     "text": [
      "MSE (test) : 10.347729682922363\n"
     ]
    },
    {
     "name": "stderr",
     "output_type": "stream",
     "text": [
      "0it [00:02, ?it/s]\n"
     ]
    },
    {
     "name": "stdout",
     "output_type": "stream",
     "text": [
      "Epoch [42/100], Step [1/15], Loss: 11.8256\n",
      "loss_values : 0.0000\n"
     ]
    },
    {
     "name": "stderr",
     "output_type": "stream",
     "text": [
      "4it [00:07,  1.76s/it]\n"
     ]
    },
    {
     "name": "stdout",
     "output_type": "stream",
     "text": [
      "MSE (test) : 10.347731590270996\n"
     ]
    },
    {
     "name": "stderr",
     "output_type": "stream",
     "text": [
      "0it [00:02, ?it/s]\n"
     ]
    },
    {
     "name": "stdout",
     "output_type": "stream",
     "text": [
      "Epoch [43/100], Step [1/15], Loss: 11.7015\n",
      "loss_values : 0.0000\n"
     ]
    },
    {
     "name": "stderr",
     "output_type": "stream",
     "text": [
      "4it [00:06,  1.73s/it]\n"
     ]
    },
    {
     "name": "stdout",
     "output_type": "stream",
     "text": [
      "MSE (test) : 10.347733497619629\n"
     ]
    },
    {
     "name": "stderr",
     "output_type": "stream",
     "text": [
      "0it [00:02, ?it/s]\n"
     ]
    },
    {
     "name": "stdout",
     "output_type": "stream",
     "text": [
      "Epoch [44/100], Step [1/15], Loss: 11.8459\n",
      "loss_values : 0.0000\n"
     ]
    },
    {
     "name": "stderr",
     "output_type": "stream",
     "text": [
      "4it [00:06,  1.73s/it]\n"
     ]
    },
    {
     "name": "stdout",
     "output_type": "stream",
     "text": [
      "MSE (test) : 10.347737312316895\n"
     ]
    },
    {
     "name": "stderr",
     "output_type": "stream",
     "text": [
      "0it [00:02, ?it/s]\n"
     ]
    },
    {
     "name": "stdout",
     "output_type": "stream",
     "text": [
      "Epoch [45/100], Step [1/15], Loss: 11.9851\n",
      "loss_values : 0.0000\n"
     ]
    },
    {
     "name": "stderr",
     "output_type": "stream",
     "text": [
      "4it [00:06,  1.73s/it]\n"
     ]
    },
    {
     "name": "stdout",
     "output_type": "stream",
     "text": [
      "MSE (test) : 10.347740173339844\n"
     ]
    },
    {
     "name": "stderr",
     "output_type": "stream",
     "text": [
      "0it [00:02, ?it/s]\n"
     ]
    },
    {
     "name": "stdout",
     "output_type": "stream",
     "text": [
      "Epoch [46/100], Step [1/15], Loss: 11.7424\n",
      "loss_values : 0.0000\n"
     ]
    },
    {
     "name": "stderr",
     "output_type": "stream",
     "text": [
      "4it [00:08,  2.17s/it]\n"
     ]
    },
    {
     "name": "stdout",
     "output_type": "stream",
     "text": [
      "MSE (test) : 10.347744941711426\n"
     ]
    },
    {
     "name": "stderr",
     "output_type": "stream",
     "text": [
      "0it [00:02, ?it/s]\n"
     ]
    },
    {
     "name": "stdout",
     "output_type": "stream",
     "text": [
      "Epoch [47/100], Step [1/15], Loss: 11.9407\n",
      "loss_values : 0.0000\n"
     ]
    },
    {
     "name": "stderr",
     "output_type": "stream",
     "text": [
      "4it [00:07,  1.85s/it]\n"
     ]
    },
    {
     "name": "stdout",
     "output_type": "stream",
     "text": [
      "MSE (test) : 10.347744941711426\n"
     ]
    },
    {
     "name": "stderr",
     "output_type": "stream",
     "text": [
      "0it [00:02, ?it/s]\n"
     ]
    },
    {
     "name": "stdout",
     "output_type": "stream",
     "text": [
      "Epoch [48/100], Step [1/15], Loss: 11.8863\n",
      "loss_values : 0.0000\n"
     ]
    },
    {
     "name": "stderr",
     "output_type": "stream",
     "text": [
      "4it [00:06,  1.75s/it]\n"
     ]
    },
    {
     "name": "stdout",
     "output_type": "stream",
     "text": [
      "MSE (test) : 10.347748756408691\n"
     ]
    },
    {
     "name": "stderr",
     "output_type": "stream",
     "text": [
      "0it [00:02, ?it/s]\n"
     ]
    },
    {
     "name": "stdout",
     "output_type": "stream",
     "text": [
      "Epoch [49/100], Step [1/15], Loss: 11.7424\n",
      "loss_values : 0.0000\n"
     ]
    },
    {
     "name": "stderr",
     "output_type": "stream",
     "text": [
      "4it [00:07,  1.80s/it]\n"
     ]
    },
    {
     "name": "stdout",
     "output_type": "stream",
     "text": [
      "MSE (test) : 10.347750663757324\n"
     ]
    },
    {
     "name": "stderr",
     "output_type": "stream",
     "text": [
      "0it [00:02, ?it/s]\n"
     ]
    },
    {
     "name": "stdout",
     "output_type": "stream",
     "text": [
      "Epoch [50/100], Step [1/15], Loss: 11.9266\n",
      "loss_values : 0.0000\n"
     ]
    },
    {
     "name": "stderr",
     "output_type": "stream",
     "text": [
      "4it [00:06,  1.64s/it]\n"
     ]
    },
    {
     "name": "stdout",
     "output_type": "stream",
     "text": [
      "MSE (test) : 10.347752571105957\n"
     ]
    },
    {
     "name": "stderr",
     "output_type": "stream",
     "text": [
      "0it [00:02, ?it/s]\n"
     ]
    },
    {
     "name": "stdout",
     "output_type": "stream",
     "text": [
      "Epoch [51/100], Step [1/15], Loss: 11.7040\n",
      "loss_values : 0.0000\n"
     ]
    },
    {
     "name": "stderr",
     "output_type": "stream",
     "text": [
      "4it [00:06,  1.64s/it]\n"
     ]
    },
    {
     "name": "stdout",
     "output_type": "stream",
     "text": [
      "MSE (test) : 10.347753524780273\n"
     ]
    },
    {
     "name": "stderr",
     "output_type": "stream",
     "text": [
      "0it [00:02, ?it/s]\n"
     ]
    },
    {
     "name": "stdout",
     "output_type": "stream",
     "text": [
      "Epoch [52/100], Step [1/15], Loss: 11.8347\n",
      "loss_values : 0.0000\n"
     ]
    },
    {
     "name": "stderr",
     "output_type": "stream",
     "text": [
      "4it [00:06,  1.66s/it]\n"
     ]
    },
    {
     "name": "stdout",
     "output_type": "stream",
     "text": [
      "MSE (test) : 10.347753524780273\n"
     ]
    },
    {
     "name": "stderr",
     "output_type": "stream",
     "text": [
      "0it [00:02, ?it/s]\n"
     ]
    },
    {
     "name": "stdout",
     "output_type": "stream",
     "text": [
      "Epoch [53/100], Step [1/15], Loss: 11.7667\n",
      "loss_values : 0.0000\n"
     ]
    },
    {
     "name": "stderr",
     "output_type": "stream",
     "text": [
      "4it [00:06,  1.53s/it]\n"
     ]
    },
    {
     "name": "stdout",
     "output_type": "stream",
     "text": [
      "MSE (test) : 10.34775447845459\n"
     ]
    },
    {
     "name": "stderr",
     "output_type": "stream",
     "text": [
      "0it [00:02, ?it/s]\n"
     ]
    },
    {
     "name": "stdout",
     "output_type": "stream",
     "text": [
      "Epoch [54/100], Step [1/15], Loss: 11.6865\n",
      "loss_values : 0.0000\n"
     ]
    },
    {
     "name": "stderr",
     "output_type": "stream",
     "text": [
      "4it [00:06,  1.55s/it]\n"
     ]
    },
    {
     "name": "stdout",
     "output_type": "stream",
     "text": [
      "MSE (test) : 10.347756385803223\n"
     ]
    },
    {
     "name": "stderr",
     "output_type": "stream",
     "text": [
      "0it [00:02, ?it/s]\n"
     ]
    },
    {
     "name": "stdout",
     "output_type": "stream",
     "text": [
      "Epoch [55/100], Step [1/15], Loss: 11.8903\n",
      "loss_values : 0.0000\n"
     ]
    },
    {
     "name": "stderr",
     "output_type": "stream",
     "text": [
      "4it [00:06,  1.57s/it]\n"
     ]
    },
    {
     "name": "stdout",
     "output_type": "stream",
     "text": [
      "MSE (test) : 10.347757339477539\n"
     ]
    },
    {
     "name": "stderr",
     "output_type": "stream",
     "text": [
      "0it [00:02, ?it/s]\n"
     ]
    },
    {
     "name": "stdout",
     "output_type": "stream",
     "text": [
      "Epoch [56/100], Step [1/15], Loss: 11.7256\n",
      "loss_values : 0.0000\n"
     ]
    },
    {
     "name": "stderr",
     "output_type": "stream",
     "text": [
      "4it [00:06,  1.53s/it]\n"
     ]
    },
    {
     "name": "stdout",
     "output_type": "stream",
     "text": [
      "MSE (test) : 10.347757339477539\n"
     ]
    },
    {
     "name": "stderr",
     "output_type": "stream",
     "text": [
      "0it [00:02, ?it/s]\n"
     ]
    },
    {
     "name": "stdout",
     "output_type": "stream",
     "text": [
      "Epoch [57/100], Step [1/15], Loss: 11.8411\n",
      "loss_values : 0.0000\n"
     ]
    },
    {
     "name": "stderr",
     "output_type": "stream",
     "text": [
      "4it [00:06,  1.64s/it]\n"
     ]
    },
    {
     "name": "stdout",
     "output_type": "stream",
     "text": [
      "MSE (test) : 10.347758293151855\n"
     ]
    },
    {
     "name": "stderr",
     "output_type": "stream",
     "text": [
      "0it [00:01, ?it/s]\n"
     ]
    },
    {
     "name": "stdout",
     "output_type": "stream",
     "text": [
      "Epoch [58/100], Step [1/15], Loss: 11.8148\n",
      "loss_values : 0.0000\n"
     ]
    },
    {
     "name": "stderr",
     "output_type": "stream",
     "text": [
      "4it [00:06,  1.64s/it]\n"
     ]
    },
    {
     "name": "stdout",
     "output_type": "stream",
     "text": [
      "MSE (test) : 10.347759246826172\n"
     ]
    },
    {
     "name": "stderr",
     "output_type": "stream",
     "text": [
      "0it [00:01, ?it/s]\n"
     ]
    },
    {
     "name": "stdout",
     "output_type": "stream",
     "text": [
      "Epoch [59/100], Step [1/15], Loss: 11.7292\n",
      "loss_values : 0.0000\n"
     ]
    },
    {
     "name": "stderr",
     "output_type": "stream",
     "text": [
      "4it [00:06,  1.63s/it]\n"
     ]
    },
    {
     "name": "stdout",
     "output_type": "stream",
     "text": [
      "MSE (test) : 10.347760200500488\n"
     ]
    },
    {
     "name": "stderr",
     "output_type": "stream",
     "text": [
      "0it [00:02, ?it/s]\n"
     ]
    },
    {
     "name": "stdout",
     "output_type": "stream",
     "text": [
      "Epoch [60/100], Step [1/15], Loss: 11.8282\n",
      "loss_values : 0.0000\n"
     ]
    },
    {
     "name": "stderr",
     "output_type": "stream",
     "text": [
      "4it [00:06,  1.70s/it]\n"
     ]
    },
    {
     "name": "stdout",
     "output_type": "stream",
     "text": [
      "MSE (test) : 10.347760200500488\n"
     ]
    },
    {
     "name": "stderr",
     "output_type": "stream",
     "text": [
      "0it [00:02, ?it/s]\n"
     ]
    },
    {
     "name": "stdout",
     "output_type": "stream",
     "text": [
      "Epoch [61/100], Step [1/15], Loss: 11.7647\n",
      "loss_values : 0.0000\n"
     ]
    },
    {
     "name": "stderr",
     "output_type": "stream",
     "text": [
      "4it [00:06,  1.62s/it]\n"
     ]
    },
    {
     "name": "stdout",
     "output_type": "stream",
     "text": [
      "MSE (test) : 10.347760200500488\n"
     ]
    },
    {
     "name": "stderr",
     "output_type": "stream",
     "text": [
      "0it [00:02, ?it/s]\n"
     ]
    },
    {
     "name": "stdout",
     "output_type": "stream",
     "text": [
      "Epoch [62/100], Step [1/15], Loss: 11.8152\n",
      "loss_values : 0.0000\n"
     ]
    },
    {
     "name": "stderr",
     "output_type": "stream",
     "text": [
      "4it [00:06,  1.64s/it]\n"
     ]
    },
    {
     "name": "stdout",
     "output_type": "stream",
     "text": [
      "MSE (test) : 10.347759246826172\n"
     ]
    },
    {
     "name": "stderr",
     "output_type": "stream",
     "text": [
      "0it [00:02, ?it/s]\n"
     ]
    },
    {
     "name": "stdout",
     "output_type": "stream",
     "text": [
      "Epoch [63/100], Step [1/15], Loss: 11.7988\n",
      "loss_values : 0.0000\n"
     ]
    },
    {
     "name": "stderr",
     "output_type": "stream",
     "text": [
      "4it [00:06,  1.74s/it]\n"
     ]
    },
    {
     "name": "stdout",
     "output_type": "stream",
     "text": [
      "MSE (test) : 10.347759246826172\n"
     ]
    },
    {
     "name": "stderr",
     "output_type": "stream",
     "text": [
      "0it [00:02, ?it/s]\n"
     ]
    },
    {
     "name": "stdout",
     "output_type": "stream",
     "text": [
      "Epoch [64/100], Step [1/15], Loss: 11.8292\n",
      "loss_values : 0.0000\n"
     ]
    },
    {
     "name": "stderr",
     "output_type": "stream",
     "text": [
      "4it [00:06,  1.63s/it]\n"
     ]
    },
    {
     "name": "stdout",
     "output_type": "stream",
     "text": [
      "MSE (test) : 10.347761154174805\n"
     ]
    },
    {
     "name": "stderr",
     "output_type": "stream",
     "text": [
      "0it [00:02, ?it/s]\n"
     ]
    },
    {
     "name": "stdout",
     "output_type": "stream",
     "text": [
      "Epoch [65/100], Step [1/15], Loss: 11.5773\n",
      "loss_values : 0.0000\n"
     ]
    },
    {
     "name": "stderr",
     "output_type": "stream",
     "text": [
      "4it [00:06,  1.67s/it]\n"
     ]
    },
    {
     "name": "stdout",
     "output_type": "stream",
     "text": [
      "MSE (test) : 10.347759246826172\n"
     ]
    },
    {
     "name": "stderr",
     "output_type": "stream",
     "text": [
      "0it [00:02, ?it/s]\n"
     ]
    },
    {
     "name": "stdout",
     "output_type": "stream",
     "text": [
      "Epoch [66/100], Step [1/15], Loss: 11.6635\n",
      "loss_values : 0.0000\n"
     ]
    },
    {
     "name": "stderr",
     "output_type": "stream",
     "text": [
      "4it [00:06,  1.62s/it]\n"
     ]
    },
    {
     "name": "stdout",
     "output_type": "stream",
     "text": [
      "MSE (test) : 10.347761154174805\n"
     ]
    },
    {
     "name": "stderr",
     "output_type": "stream",
     "text": [
      "0it [00:02, ?it/s]\n"
     ]
    },
    {
     "name": "stdout",
     "output_type": "stream",
     "text": [
      "Epoch [67/100], Step [1/15], Loss: 11.8144\n",
      "loss_values : 0.0000\n"
     ]
    },
    {
     "name": "stderr",
     "output_type": "stream",
     "text": [
      "4it [00:06,  1.57s/it]\n"
     ]
    },
    {
     "name": "stdout",
     "output_type": "stream",
     "text": [
      "MSE (test) : 10.347760200500488\n"
     ]
    },
    {
     "name": "stderr",
     "output_type": "stream",
     "text": [
      "0it [00:02, ?it/s]\n"
     ]
    },
    {
     "name": "stdout",
     "output_type": "stream",
     "text": [
      "Epoch [68/100], Step [1/15], Loss: 11.8214\n",
      "loss_values : 0.0000\n"
     ]
    },
    {
     "name": "stderr",
     "output_type": "stream",
     "text": [
      "4it [00:06,  1.55s/it]\n"
     ]
    },
    {
     "name": "stdout",
     "output_type": "stream",
     "text": [
      "MSE (test) : 10.347762107849121\n"
     ]
    },
    {
     "name": "stderr",
     "output_type": "stream",
     "text": [
      "0it [00:02, ?it/s]\n"
     ]
    },
    {
     "name": "stdout",
     "output_type": "stream",
     "text": [
      "Epoch [69/100], Step [1/15], Loss: 11.8989\n",
      "loss_values : 0.0000\n"
     ]
    },
    {
     "name": "stderr",
     "output_type": "stream",
     "text": [
      "4it [00:07,  1.78s/it]\n"
     ]
    },
    {
     "name": "stdout",
     "output_type": "stream",
     "text": [
      "MSE (test) : 10.347762107849121\n"
     ]
    },
    {
     "name": "stderr",
     "output_type": "stream",
     "text": [
      "0it [00:02, ?it/s]\n"
     ]
    },
    {
     "name": "stdout",
     "output_type": "stream",
     "text": [
      "Epoch [70/100], Step [1/15], Loss: 11.8988\n",
      "loss_values : 0.0000\n"
     ]
    },
    {
     "name": "stderr",
     "output_type": "stream",
     "text": [
      "4it [00:07,  1.82s/it]\n"
     ]
    },
    {
     "name": "stdout",
     "output_type": "stream",
     "text": [
      "MSE (test) : 10.347762107849121\n"
     ]
    },
    {
     "name": "stderr",
     "output_type": "stream",
     "text": [
      "0it [00:01, ?it/s]\n"
     ]
    },
    {
     "name": "stdout",
     "output_type": "stream",
     "text": [
      "Epoch [71/100], Step [1/15], Loss: 11.7131\n",
      "loss_values : 0.0000\n"
     ]
    },
    {
     "name": "stderr",
     "output_type": "stream",
     "text": [
      "4it [00:07,  1.78s/it]\n"
     ]
    },
    {
     "name": "stdout",
     "output_type": "stream",
     "text": [
      "MSE (test) : 10.347762107849121\n"
     ]
    },
    {
     "name": "stderr",
     "output_type": "stream",
     "text": [
      "0it [00:02, ?it/s]\n"
     ]
    },
    {
     "name": "stdout",
     "output_type": "stream",
     "text": [
      "Epoch [72/100], Step [1/15], Loss: 11.6250\n",
      "loss_values : 0.0000\n"
     ]
    },
    {
     "name": "stderr",
     "output_type": "stream",
     "text": [
      "4it [00:07,  1.76s/it]\n"
     ]
    },
    {
     "name": "stdout",
     "output_type": "stream",
     "text": [
      "MSE (test) : 10.347762107849121\n"
     ]
    },
    {
     "name": "stderr",
     "output_type": "stream",
     "text": [
      "0it [00:02, ?it/s]\n"
     ]
    },
    {
     "name": "stdout",
     "output_type": "stream",
     "text": [
      "Epoch [73/100], Step [1/15], Loss: 11.7810\n",
      "loss_values : 0.0000\n"
     ]
    },
    {
     "name": "stderr",
     "output_type": "stream",
     "text": [
      "4it [00:07,  1.76s/it]\n"
     ]
    },
    {
     "name": "stdout",
     "output_type": "stream",
     "text": [
      "MSE (test) : 10.347761154174805\n"
     ]
    },
    {
     "name": "stderr",
     "output_type": "stream",
     "text": [
      "0it [00:01, ?it/s]\n"
     ]
    },
    {
     "name": "stdout",
     "output_type": "stream",
     "text": [
      "Epoch [74/100], Step [1/15], Loss: 11.8394\n",
      "loss_values : 0.0000\n"
     ]
    },
    {
     "name": "stderr",
     "output_type": "stream",
     "text": [
      "4it [00:07,  1.76s/it]\n"
     ]
    },
    {
     "name": "stdout",
     "output_type": "stream",
     "text": [
      "MSE (test) : 10.347762107849121\n"
     ]
    },
    {
     "name": "stderr",
     "output_type": "stream",
     "text": [
      "0it [00:02, ?it/s]\n"
     ]
    },
    {
     "name": "stdout",
     "output_type": "stream",
     "text": [
      "Epoch [75/100], Step [1/15], Loss: 11.7514\n",
      "loss_values : 0.0000\n"
     ]
    },
    {
     "name": "stderr",
     "output_type": "stream",
     "text": [
      "4it [00:06,  1.65s/it]\n"
     ]
    },
    {
     "name": "stdout",
     "output_type": "stream",
     "text": [
      "MSE (test) : 10.347762107849121\n"
     ]
    },
    {
     "name": "stderr",
     "output_type": "stream",
     "text": [
      "0it [00:02, ?it/s]\n"
     ]
    },
    {
     "name": "stdout",
     "output_type": "stream",
     "text": [
      "Epoch [76/100], Step [1/15], Loss: 11.7793\n",
      "loss_values : 0.0000\n"
     ]
    },
    {
     "name": "stderr",
     "output_type": "stream",
     "text": [
      "4it [00:06,  1.69s/it]\n"
     ]
    },
    {
     "name": "stdout",
     "output_type": "stream",
     "text": [
      "MSE (test) : 10.347763061523438\n"
     ]
    },
    {
     "name": "stderr",
     "output_type": "stream",
     "text": [
      "0it [00:02, ?it/s]\n"
     ]
    },
    {
     "name": "stdout",
     "output_type": "stream",
     "text": [
      "Epoch [77/100], Step [1/15], Loss: 11.8195\n",
      "loss_values : 0.0000\n"
     ]
    },
    {
     "name": "stderr",
     "output_type": "stream",
     "text": [
      "4it [00:06,  1.55s/it]\n"
     ]
    },
    {
     "name": "stdout",
     "output_type": "stream",
     "text": [
      "MSE (test) : 10.347763061523438\n"
     ]
    },
    {
     "name": "stderr",
     "output_type": "stream",
     "text": [
      "0it [00:02, ?it/s]\n"
     ]
    },
    {
     "name": "stdout",
     "output_type": "stream",
     "text": [
      "Epoch [78/100], Step [1/15], Loss: 11.9549\n",
      "loss_values : 0.0000\n"
     ]
    },
    {
     "name": "stderr",
     "output_type": "stream",
     "text": [
      "4it [00:07,  1.78s/it]\n"
     ]
    },
    {
     "name": "stdout",
     "output_type": "stream",
     "text": [
      "MSE (test) : 10.347762107849121\n"
     ]
    },
    {
     "name": "stderr",
     "output_type": "stream",
     "text": [
      "0it [00:02, ?it/s]\n"
     ]
    },
    {
     "name": "stdout",
     "output_type": "stream",
     "text": [
      "Epoch [79/100], Step [1/15], Loss: 11.9071\n",
      "loss_values : 0.0000\n"
     ]
    },
    {
     "name": "stderr",
     "output_type": "stream",
     "text": [
      "4it [00:06,  1.67s/it]\n"
     ]
    },
    {
     "name": "stdout",
     "output_type": "stream",
     "text": [
      "MSE (test) : 10.347763061523438\n"
     ]
    },
    {
     "name": "stderr",
     "output_type": "stream",
     "text": [
      "0it [00:02, ?it/s]\n"
     ]
    },
    {
     "name": "stdout",
     "output_type": "stream",
     "text": [
      "Epoch [80/100], Step [1/15], Loss: 11.8264\n",
      "loss_values : 0.0000\n"
     ]
    },
    {
     "name": "stderr",
     "output_type": "stream",
     "text": [
      "4it [00:06,  1.58s/it]\n"
     ]
    },
    {
     "name": "stdout",
     "output_type": "stream",
     "text": [
      "MSE (test) : 10.347762107849121\n"
     ]
    },
    {
     "name": "stderr",
     "output_type": "stream",
     "text": [
      "0it [00:02, ?it/s]\n"
     ]
    },
    {
     "name": "stdout",
     "output_type": "stream",
     "text": [
      "Epoch [81/100], Step [1/15], Loss: 11.7221\n",
      "loss_values : 0.0000\n"
     ]
    },
    {
     "name": "stderr",
     "output_type": "stream",
     "text": [
      "4it [00:06,  1.64s/it]\n"
     ]
    },
    {
     "name": "stdout",
     "output_type": "stream",
     "text": [
      "MSE (test) : 10.347762107849121\n"
     ]
    },
    {
     "name": "stderr",
     "output_type": "stream",
     "text": [
      "0it [00:02, ?it/s]\n"
     ]
    },
    {
     "name": "stdout",
     "output_type": "stream",
     "text": [
      "Epoch [82/100], Step [1/15], Loss: 11.7978\n",
      "loss_values : 0.0000\n"
     ]
    },
    {
     "name": "stderr",
     "output_type": "stream",
     "text": [
      "4it [00:06,  1.65s/it]\n"
     ]
    },
    {
     "name": "stdout",
     "output_type": "stream",
     "text": [
      "MSE (test) : 10.347762107849121\n"
     ]
    },
    {
     "name": "stderr",
     "output_type": "stream",
     "text": [
      "0it [00:02, ?it/s]\n"
     ]
    },
    {
     "name": "stdout",
     "output_type": "stream",
     "text": [
      "Epoch [83/100], Step [1/15], Loss: 11.6780\n",
      "loss_values : 0.0000\n"
     ]
    },
    {
     "name": "stderr",
     "output_type": "stream",
     "text": [
      "4it [00:06,  1.70s/it]\n"
     ]
    },
    {
     "name": "stdout",
     "output_type": "stream",
     "text": [
      "MSE (test) : 10.347763061523438\n"
     ]
    },
    {
     "name": "stderr",
     "output_type": "stream",
     "text": [
      "0it [00:02, ?it/s]\n"
     ]
    },
    {
     "name": "stdout",
     "output_type": "stream",
     "text": [
      "Epoch [84/100], Step [1/15], Loss: 11.8544\n",
      "loss_values : 0.0000\n"
     ]
    },
    {
     "name": "stderr",
     "output_type": "stream",
     "text": [
      "4it [00:06,  1.62s/it]\n"
     ]
    },
    {
     "name": "stdout",
     "output_type": "stream",
     "text": [
      "MSE (test) : 10.347763061523438\n"
     ]
    },
    {
     "name": "stderr",
     "output_type": "stream",
     "text": [
      "0it [00:02, ?it/s]\n"
     ]
    },
    {
     "name": "stdout",
     "output_type": "stream",
     "text": [
      "Epoch [85/100], Step [1/15], Loss: 11.6179\n",
      "loss_values : 0.0000\n"
     ]
    },
    {
     "name": "stderr",
     "output_type": "stream",
     "text": [
      "4it [00:06,  1.62s/it]\n"
     ]
    },
    {
     "name": "stdout",
     "output_type": "stream",
     "text": [
      "MSE (test) : 10.347764015197754\n"
     ]
    },
    {
     "name": "stderr",
     "output_type": "stream",
     "text": [
      "0it [00:02, ?it/s]\n"
     ]
    },
    {
     "name": "stdout",
     "output_type": "stream",
     "text": [
      "Epoch [86/100], Step [1/15], Loss: 11.6611\n",
      "loss_values : 0.0000\n"
     ]
    },
    {
     "name": "stderr",
     "output_type": "stream",
     "text": [
      "4it [00:06,  1.53s/it]\n"
     ]
    },
    {
     "name": "stdout",
     "output_type": "stream",
     "text": [
      "MSE (test) : 10.347764015197754\n"
     ]
    },
    {
     "name": "stderr",
     "output_type": "stream",
     "text": [
      "0it [00:02, ?it/s]\n"
     ]
    },
    {
     "name": "stdout",
     "output_type": "stream",
     "text": [
      "Epoch [87/100], Step [1/15], Loss: 11.8655\n",
      "loss_values : 0.0000\n"
     ]
    },
    {
     "name": "stderr",
     "output_type": "stream",
     "text": [
      "4it [00:06,  1.62s/it]\n"
     ]
    },
    {
     "name": "stdout",
     "output_type": "stream",
     "text": [
      "MSE (test) : 10.347764015197754\n"
     ]
    },
    {
     "name": "stderr",
     "output_type": "stream",
     "text": [
      "0it [00:01, ?it/s]\n"
     ]
    },
    {
     "name": "stdout",
     "output_type": "stream",
     "text": [
      "Epoch [88/100], Step [1/15], Loss: 11.7708\n",
      "loss_values : 0.0000\n"
     ]
    },
    {
     "name": "stderr",
     "output_type": "stream",
     "text": [
      "4it [00:06,  1.67s/it]\n"
     ]
    },
    {
     "name": "stdout",
     "output_type": "stream",
     "text": [
      "MSE (test) : 10.347764015197754\n"
     ]
    },
    {
     "name": "stderr",
     "output_type": "stream",
     "text": [
      "0it [00:02, ?it/s]\n"
     ]
    },
    {
     "name": "stdout",
     "output_type": "stream",
     "text": [
      "Epoch [89/100], Step [1/15], Loss: 11.8507\n",
      "loss_values : 0.0000\n"
     ]
    },
    {
     "name": "stderr",
     "output_type": "stream",
     "text": [
      "4it [00:06,  1.66s/it]\n"
     ]
    },
    {
     "name": "stdout",
     "output_type": "stream",
     "text": [
      "MSE (test) : 10.34776496887207\n"
     ]
    },
    {
     "name": "stderr",
     "output_type": "stream",
     "text": [
      "0it [00:02, ?it/s]\n"
     ]
    },
    {
     "name": "stdout",
     "output_type": "stream",
     "text": [
      "Epoch [90/100], Step [1/15], Loss: 11.7157\n",
      "loss_values : 0.0000\n"
     ]
    },
    {
     "name": "stderr",
     "output_type": "stream",
     "text": [
      "4it [00:07,  1.79s/it]\n"
     ]
    },
    {
     "name": "stdout",
     "output_type": "stream",
     "text": [
      "MSE (test) : 10.34776496887207\n"
     ]
    },
    {
     "name": "stderr",
     "output_type": "stream",
     "text": [
      "0it [00:02, ?it/s]\n"
     ]
    },
    {
     "name": "stdout",
     "output_type": "stream",
     "text": [
      "Epoch [91/100], Step [1/15], Loss: 11.8316\n",
      "loss_values : 0.0000\n"
     ]
    },
    {
     "name": "stderr",
     "output_type": "stream",
     "text": [
      "4it [00:06,  1.72s/it]\n"
     ]
    },
    {
     "name": "stdout",
     "output_type": "stream",
     "text": [
      "MSE (test) : 10.347765922546387\n"
     ]
    },
    {
     "name": "stderr",
     "output_type": "stream",
     "text": [
      "0it [00:02, ?it/s]\n"
     ]
    },
    {
     "name": "stdout",
     "output_type": "stream",
     "text": [
      "Epoch [92/100], Step [1/15], Loss: 11.7888\n",
      "loss_values : 0.0000\n"
     ]
    },
    {
     "name": "stderr",
     "output_type": "stream",
     "text": [
      "4it [00:07,  1.75s/it]\n"
     ]
    },
    {
     "name": "stdout",
     "output_type": "stream",
     "text": [
      "MSE (test) : 10.347765922546387\n"
     ]
    },
    {
     "name": "stderr",
     "output_type": "stream",
     "text": [
      "0it [00:02, ?it/s]\n"
     ]
    },
    {
     "name": "stdout",
     "output_type": "stream",
     "text": [
      "Epoch [93/100], Step [1/15], Loss: 11.8017\n",
      "loss_values : 0.0000\n"
     ]
    },
    {
     "name": "stderr",
     "output_type": "stream",
     "text": [
      "4it [00:06,  1.69s/it]\n"
     ]
    },
    {
     "name": "stdout",
     "output_type": "stream",
     "text": [
      "MSE (test) : 10.347765922546387\n"
     ]
    },
    {
     "name": "stderr",
     "output_type": "stream",
     "text": [
      "0it [00:02, ?it/s]\n"
     ]
    },
    {
     "name": "stdout",
     "output_type": "stream",
     "text": [
      "Epoch [94/100], Step [1/15], Loss: 11.7852\n",
      "loss_values : 0.0000\n"
     ]
    },
    {
     "name": "stderr",
     "output_type": "stream",
     "text": [
      "4it [00:07,  1.77s/it]\n"
     ]
    },
    {
     "name": "stdout",
     "output_type": "stream",
     "text": [
      "MSE (test) : 10.34776496887207\n"
     ]
    },
    {
     "name": "stderr",
     "output_type": "stream",
     "text": [
      "0it [00:02, ?it/s]\n"
     ]
    },
    {
     "name": "stdout",
     "output_type": "stream",
     "text": [
      "Epoch [95/100], Step [1/15], Loss: 11.9008\n",
      "loss_values : 0.0000\n"
     ]
    },
    {
     "name": "stderr",
     "output_type": "stream",
     "text": [
      "4it [00:06,  1.71s/it]\n"
     ]
    },
    {
     "name": "stdout",
     "output_type": "stream",
     "text": [
      "MSE (test) : 10.34776496887207\n"
     ]
    },
    {
     "name": "stderr",
     "output_type": "stream",
     "text": [
      "0it [00:01, ?it/s]\n"
     ]
    },
    {
     "name": "stdout",
     "output_type": "stream",
     "text": [
      "Epoch [96/100], Step [1/15], Loss: 11.7071\n",
      "loss_values : 0.0000\n"
     ]
    },
    {
     "name": "stderr",
     "output_type": "stream",
     "text": [
      "4it [00:05,  1.39s/it]\n"
     ]
    },
    {
     "name": "stdout",
     "output_type": "stream",
     "text": [
      "MSE (test) : 10.347766876220703\n"
     ]
    },
    {
     "name": "stderr",
     "output_type": "stream",
     "text": [
      "0it [00:02, ?it/s]\n"
     ]
    },
    {
     "name": "stdout",
     "output_type": "stream",
     "text": [
      "Epoch [97/100], Step [1/15], Loss: 11.8362\n",
      "loss_values : 0.0000\n"
     ]
    },
    {
     "name": "stderr",
     "output_type": "stream",
     "text": [
      "4it [00:07,  1.85s/it]\n"
     ]
    },
    {
     "name": "stdout",
     "output_type": "stream",
     "text": [
      "MSE (test) : 10.34776496887207\n"
     ]
    },
    {
     "name": "stderr",
     "output_type": "stream",
     "text": [
      "0it [00:02, ?it/s]\n"
     ]
    },
    {
     "name": "stdout",
     "output_type": "stream",
     "text": [
      "Epoch [98/100], Step [1/15], Loss: 11.6104\n",
      "loss_values : 0.0000\n"
     ]
    },
    {
     "name": "stderr",
     "output_type": "stream",
     "text": [
      "4it [00:06,  1.68s/it]\n"
     ]
    },
    {
     "name": "stdout",
     "output_type": "stream",
     "text": [
      "MSE (test) : 10.347765922546387\n"
     ]
    },
    {
     "name": "stderr",
     "output_type": "stream",
     "text": [
      "0it [00:02, ?it/s]\n"
     ]
    },
    {
     "name": "stdout",
     "output_type": "stream",
     "text": [
      "Epoch [99/100], Step [1/15], Loss: 11.7231\n",
      "loss_values : 0.0000\n"
     ]
    },
    {
     "name": "stderr",
     "output_type": "stream",
     "text": [
      "4it [00:07,  1.82s/it]\n"
     ]
    },
    {
     "name": "stdout",
     "output_type": "stream",
     "text": [
      "MSE (test) : 10.347765922546387\n"
     ]
    },
    {
     "name": "stderr",
     "output_type": "stream",
     "text": [
      "0it [00:02, ?it/s]\n"
     ]
    },
    {
     "name": "stdout",
     "output_type": "stream",
     "text": [
      "Epoch [100/100], Step [1/15], Loss: 11.7291\n",
      "loss_values : 0.0000\n"
     ]
    },
    {
     "name": "stderr",
     "output_type": "stream",
     "text": [
      "4it [00:07,  1.77s/it]\n"
     ]
    },
    {
     "name": "stdout",
     "output_type": "stream",
     "text": [
      "MSE (test) : 10.347766876220703\n"
     ]
    }
   ],
   "source": [
    "%load_ext autoreload\n",
    "%autoreload 24\n",
    "from v1_NormalNN            import Model3\n",
    "from my_utils.model_helpers import train_and_test_model\n",
    "\n",
    "\n",
    "# ---------- #\n",
    "# INITIALIZE #\n",
    "# ---------- #\n",
    "model3 = Model3().to(device)\n",
    "loss_func = nn.MSELoss()\n",
    "optimizer = torch.optim.Adam(params=model.parameters(), lr=learning_rate)\n",
    "\n",
    "# ---------------- #\n",
    "# TRAIN & EVALUATE #\n",
    "# ---------------- #\n",
    "model3, loss_values3, loss_values_test3 = train_and_test_model(\n",
    "    modeling_dataset = modeling_dataset,\n",
    "    model            = model3,\n",
    "    criterion        = loss_func,\n",
    "    optimizer        = optimizer,\n",
    "    num_epochs       = 100,\n",
    "    device           = device,\n",
    "    train_loader     = train_loader,\n",
    "    test_loader      = test_loader\n",
    ")"
   ]
  },
  {
   "cell_type": "code",
   "execution_count": 614,
   "metadata": {},
   "outputs": [
    {
     "name": "stdout",
     "output_type": "stream",
     "text": [
      "\n",
      "TRAIN\n",
      "    min  : 0.00003065\n",
      "    mean : 0.00003120\n",
      "    max  : 0.00003176\n",
      "TEST\n",
      "    min  : 10.16689968\n",
      "    mean : 10.16690159\n",
      "    max  : 10.16690254\n",
      "\n"
     ]
    },
    {
     "data": {
      "image/png": "[encoded data removed]",
      "text/plain": [
       "<Figure size 720x504 with 2 Axes>"
      ]
     },
     "metadata": {},
     "output_type": "display_data"
    }
   ],
   "source": [
    "from matplotlib.ticker import FormatStrFormatter\n",
    "\n",
    "plt.rcParams[\"figure.figsize\"] = (10, 7)\n",
    "\n",
    "fig, axs = plt.subplots(2)\n",
    "fig.suptitle(\"v1_NormalNN - Model3\");\n",
    "# Train\n",
    "axs[0].plot(loss_values3, linestyle='-', label='Train', color='C0');\n",
    "axs[0].legend();\n",
    "axs[0].ticklabel_format(style='plain');\n",
    "axs[0].set_xlim(0, num_epochs, 1);\n",
    "axs[0].set_ylabel(\"MSE\");\n",
    "# Test\n",
    "axs[1].plot(loss_values_test3, linestyle='-', label='Test', color='C1');\n",
    "axs[1].legend();\n",
    "# axs[1].ticklabel_format(style='plain');\n",
    "axs[1].yaxis.set_major_formatter(FormatStrFormatter('%.7f'))\n",
    "axs[1].set_xlim(0, num_epochs, 1);\n",
    "axs[1].set_xlabel(\"Epochs\");\n",
    "axs[1].set_ylabel(\"MSE\");\n",
    "\n",
    "print(f\"\"\"\n",
    "TRAIN\n",
    "    min  : {np.min(loss_values3):2.8f}\n",
    "    mean : {np.mean(loss_values3):2.8f}\n",
    "    max  : {np.max(loss_values3):2.8f}\n",
    "TEST\n",
    "    min  : {np.min(loss_values_test3):2.8f}\n",
    "    mean : {np.mean(loss_values_test3):2.8f}\n",
    "    max  : {np.max(loss_values_test3):2.8f}\n",
    "\"\"\")\n",
    "\n"
   ]
  },
  {
   "cell_type": "code",
   "execution_count": null,
   "metadata": {},
   "outputs": [],
   "source": []
  },
  {
   "cell_type": "code",
   "execution_count": null,
   "metadata": {},
   "outputs": [],
   "source": []
  },
  {
   "cell_type": "code",
   "execution_count": null,
   "metadata": {},
   "outputs": [],
   "source": []
  },
  {
   "cell_type": "code",
   "execution_count": null,
   "metadata": {},
   "outputs": [],
   "source": []
  },
  {
   "cell_type": "code",
   "execution_count": null,
   "metadata": {},
   "outputs": [],
   "source": []
  },
  {
   "cell_type": "code",
   "execution_count": 202,
   "metadata": {},
   "outputs": [
    {
     "data": {
      "text/plain": [
       "tensor([[7.4722, 5.8678, 4.9159,  ..., 6.6141, 8.5520, 3.2697],\n",
       "        [7.4081, 6.1157, 6.0675,  ..., 3.6499, 6.8504, 3.5596],\n",
       "        [7.2114, 7.4453, 5.6951,  ..., 3.6498, 8.3988, 3.8715],\n",
       "        ...,\n",
       "        [7.0449, 6.8248, 4.8239,  ..., 4.6832, 9.6526, 3.7312],\n",
       "        [7.1434, 6.8708, 6.0484,  ..., 7.9259, 8.3798, 3.4813],\n",
       "        [7.5782, 7.3208, 5.1952,  ..., 7.5937, 7.9628, 3.4822]],\n",
       "       dtype=torch.float64)"
      ]
     },
     "execution_count": 202,
     "metadata": {},
     "output_type": "execute_result"
    }
   ],
   "source": [
    "gene_expr_data"
   ]
  },
  {
   "cell_type": "code",
   "execution_count": 132,
   "metadata": {},
   "outputs": [
    {
     "name": "stdout",
     "output_type": "stream",
     "text": [
      "torch.Size([3, 2, 1])\n"
     ]
    },
    {
     "data": {
      "text/plain": [
       "tensor([[[1],\n",
       "         [2]],\n",
       "\n",
       "        [[3],\n",
       "         [4]],\n",
       "\n",
       "        [[5],\n",
       "         [6]]])"
      ]
     },
     "execution_count": 132,
     "metadata": {},
     "output_type": "execute_result"
    }
   ],
   "source": [
    "np1 = np.array([[1], \n",
    "                [2]])\n",
    "np2 = np.array([[3], \n",
    "                [4]])\n",
    "np3 = np.array([[5], \n",
    "                [6]])\n",
    "\n",
    "\"\"\"\n",
    "1.dim = features\n",
    "2.dim = cell-lines\n",
    "3.dim = genes\n",
    "\"\"\"\n",
    "\n",
    "t = torch.tensor([np1, np2, np3])\n",
    "print(t.shape)\n",
    "t"
   ]
  },
  {
   "cell_type": "code",
   "execution_count": 138,
   "metadata": {},
   "outputs": [
    {
     "data": {
      "text/plain": [
       "tensor([[1, 2],\n",
       "        [3, 4],\n",
       "        [5, 6]])"
      ]
     },
     "execution_count": 138,
     "metadata": {},
     "output_type": "execute_result"
    }
   ],
   "source": [
    "t2 = torch.flatten(t, start_dim=1)\n",
    "t2"
   ]
  },
  {
   "cell_type": "code",
   "execution_count": 154,
   "metadata": {},
   "outputs": [
    {
     "data": {
      "text/plain": [
       "tensor([[1, 5, 4],\n",
       "        [3, 2, 6]])"
      ]
     },
     "execution_count": 154,
     "metadata": {},
     "output_type": "execute_result"
    }
   ],
   "source": [
    "np.reshape(t, (2, 3), order='F')"
   ]
  },
  {
   "cell_type": "code",
   "execution_count": 156,
   "metadata": {},
   "outputs": [
    {
     "data": {
      "text/plain": [
       "array([[1, 3, 5],\n",
       "       [2, 4, 6]])"
      ]
     },
     "execution_count": 156,
     "metadata": {},
     "output_type": "execute_result"
    }
   ],
   "source": [
    "np.ravel(t, order='F').reshape((2, t.shape[0] * t.shape[2]))"
   ]
  },
  {
   "cell_type": "markdown",
   "metadata": {},
   "source": [
    "---\n",
    "\n",
    "## Drug Features"
   ]
  },
  {
   "cell_type": "code",
   "execution_count": 27,
   "metadata": {},
   "outputs": [
    {
     "name": "stdout",
     "output_type": "stream",
     "text": [
      "Shape: (367, 257)\n"
     ]
    },
    {
     "data": {
      "text/html": [
       "<div>\n",
       "<style scoped>\n",
       "    .dataframe tbody tr th:only-of-type {\n",
       "        vertical-align: middle;\n",
       "    }\n",
       "\n",
       "    .dataframe tbody tr th {\n",
       "        vertical-align: top;\n",
       "    }\n",
       "\n",
       "    .dataframe thead th {\n",
       "        text-align: right;\n",
       "    }\n",
       "</style>\n",
       "<table border=\"1\" class=\"dataframe\">\n",
       "  <thead>\n",
       "    <tr style=\"text-align: right;\">\n",
       "      <th></th>\n",
       "      <th>drug_name</th>\n",
       "      <th>0</th>\n",
       "      <th>1</th>\n",
       "      <th>2</th>\n",
       "      <th>3</th>\n",
       "      <th>4</th>\n",
       "      <th>5</th>\n",
       "      <th>6</th>\n",
       "      <th>7</th>\n",
       "      <th>8</th>\n",
       "      <th>...</th>\n",
       "      <th>246</th>\n",
       "      <th>247</th>\n",
       "      <th>248</th>\n",
       "      <th>249</th>\n",
       "      <th>250</th>\n",
       "      <th>251</th>\n",
       "      <th>252</th>\n",
       "      <th>253</th>\n",
       "      <th>254</th>\n",
       "      <th>255</th>\n",
       "    </tr>\n",
       "  </thead>\n",
       "  <tbody>\n",
       "    <tr>\n",
       "      <th>0</th>\n",
       "      <td>(5Z)-7-Oxozeaenol</td>\n",
       "      <td>1</td>\n",
       "      <td>0</td>\n",
       "      <td>0</td>\n",
       "      <td>1</td>\n",
       "      <td>1</td>\n",
       "      <td>0</td>\n",
       "      <td>0</td>\n",
       "      <td>0</td>\n",
       "      <td>0</td>\n",
       "      <td>...</td>\n",
       "      <td>0</td>\n",
       "      <td>0</td>\n",
       "      <td>0</td>\n",
       "      <td>0</td>\n",
       "      <td>0</td>\n",
       "      <td>1</td>\n",
       "      <td>1</td>\n",
       "      <td>0</td>\n",
       "      <td>1</td>\n",
       "      <td>0</td>\n",
       "    </tr>\n",
       "    <tr>\n",
       "      <th>1</th>\n",
       "      <td>5-Fluorouracil</td>\n",
       "      <td>0</td>\n",
       "      <td>0</td>\n",
       "      <td>0</td>\n",
       "      <td>0</td>\n",
       "      <td>0</td>\n",
       "      <td>0</td>\n",
       "      <td>0</td>\n",
       "      <td>0</td>\n",
       "      <td>0</td>\n",
       "      <td>...</td>\n",
       "      <td>0</td>\n",
       "      <td>0</td>\n",
       "      <td>0</td>\n",
       "      <td>0</td>\n",
       "      <td>0</td>\n",
       "      <td>0</td>\n",
       "      <td>0</td>\n",
       "      <td>0</td>\n",
       "      <td>0</td>\n",
       "      <td>1</td>\n",
       "    </tr>\n",
       "    <tr>\n",
       "      <th>2</th>\n",
       "      <td>A-443654</td>\n",
       "      <td>0</td>\n",
       "      <td>1</td>\n",
       "      <td>0</td>\n",
       "      <td>0</td>\n",
       "      <td>0</td>\n",
       "      <td>0</td>\n",
       "      <td>0</td>\n",
       "      <td>0</td>\n",
       "      <td>0</td>\n",
       "      <td>...</td>\n",
       "      <td>0</td>\n",
       "      <td>1</td>\n",
       "      <td>0</td>\n",
       "      <td>0</td>\n",
       "      <td>0</td>\n",
       "      <td>0</td>\n",
       "      <td>0</td>\n",
       "      <td>0</td>\n",
       "      <td>0</td>\n",
       "      <td>1</td>\n",
       "    </tr>\n",
       "  </tbody>\n",
       "</table>\n",
       "<p>3 rows × 257 columns</p>\n",
       "</div>"
      ],
      "text/plain": [
       "           drug_name  0  1  2  3  4  5  6  7  8  ...  246  247  248  249  250  \\\n",
       "0  (5Z)-7-Oxozeaenol  1  0  0  1  1  0  0  0  0  ...    0    0    0    0    0   \n",
       "1     5-Fluorouracil  0  0  0  0  0  0  0  0  0  ...    0    0    0    0    0   \n",
       "2           A-443654  0  1  0  0  0  0  0  0  0  ...    0    1    0    0    0   \n",
       "\n",
       "   251  252  253  254  255  \n",
       "0    1    1    0    1    0  \n",
       "1    0    0    0    0    1  \n",
       "2    0    0    0    0    1  \n",
       "\n",
       "[3 rows x 257 columns]"
      ]
     },
     "execution_count": 27,
     "metadata": {},
     "output_type": "execute_result"
    }
   ],
   "source": [
    "with open(f'{PATH_TO_SAVED_DRUG_FEATURES}drug_name_fingerprints_dataframe.pkl', 'rb') as f:\n",
    "    drug_name_fps = pickle.load(f)\n",
    "print(f\"Shape: {drug_name_fps.shape}\")\n",
    "drug_name_fps.head(3)   "
   ]
  },
  {
   "cell_type": "markdown",
   "metadata": {},
   "source": [
    "The encoded drug feature dataset has 367 unique drug names and per drug name a 256 sized De-Morgan fingerprint."
   ]
  },
  {
   "cell_type": "code",
   "execution_count": null,
   "metadata": {},
   "outputs": [],
   "source": []
  }
 ],
 "metadata": {
  "interpreter": {
   "hash": "c78b81650a0bd32063743affb6953ff71b1a0dba806fbca9e2db842718495748"
  },
  "kernelspec": {
   "display_name": "Python 3.10.4 ('master-thesis-log')",
   "language": "python",
   "name": "python3"
  },
  "language_info": {
   "codemirror_mode": {
    "name": "ipython",
    "version": 3
   },
   "file_extension": ".py",
   "mimetype": "text/x-python",
   "name": "python",
   "nbconvert_exporter": "python",
   "pygments_lexer": "ipython3",
   "version": "3.10.4"
  },
  "orig_nbformat": 4
 },
 "nbformat": 4,
 "nbformat_minor": 2
}
