{
 "cells": [
  {
   "cell_type": "code",
   "execution_count": 77,
   "metadata": {},
   "outputs": [],
   "source": [
    "import sys\n",
    "import torch\n",
    "import time\n",
    "import numpy as np\n",
    "import pandas as pd\n",
    "import matplotlib.pyplot as plt \n",
    "import seaborn as sns\n",
    "\n",
    "sns.set_theme(style=\"white\")"
   ]
  },
  {
   "cell_type": "markdown",
   "metadata": {},
   "source": [
    "# GDSC Insight\n",
    "\n",
    "This script is intended to get an overview about the data sources provided by the GDSC database."
   ]
  },
  {
   "cell_type": "code",
   "execution_count": 20,
   "metadata": {},
   "outputs": [
    {
     "name": "stdout",
     "output_type": "stream",
     "text": [
      "\n",
      "    Python version:   3.10.4 | packaged by conda-forge | (main, Mar 24 2022, 17:45:10) [Clang 12.0.1 ]\n",
      "    PyTorch version:  1.11.0\n",
      "    Device:           cpu\n",
      "    CUDA available:   False\n",
      "\n"
     ]
    }
   ],
   "source": [
    "device = torch.device(\"cpu\")\n",
    "\n",
    "print(f\"\"\"\n",
    "    Python version:   {sys.version}\n",
    "    PyTorch version:  {torch.__version__}\n",
    "    Device:           {device}\n",
    "    CUDA available:   {torch.cuda.is_available()}\n",
    "\"\"\")"
   ]
  },
  {
   "cell_type": "code",
   "execution_count": 17,
   "metadata": {},
   "outputs": [
    {
     "name": "stdout",
     "output_type": "stream",
     "text": [
      "/Users/cwoest/Documents/Academics/Data_Science_UP/master_thesis/material/GNN-material\n",
      "-rw-r--r--@ 1 cwoest  staff    11M Apr 27 11:28 GDSC2_fitted_dose_response_25Feb20.xlsx\n",
      "-rw-r--r--@ 1 cwoest  staff    26M Apr 21 17:03 GDSC1_fitted_dose_response_25Feb20.xlsx\n",
      "-rw-r--r--@ 1 cwoest  staff   115K Apr 27 11:29 Cell_Lines_Details.xlsx\n",
      "-rw-r--r--@ 1 cwoest  staff   669M Apr 27 11:31 GDSC1_public_raw_data_25Feb20.csv\n",
      "-rw-r--r--@ 1 cwoest  staff   826M Apr 27 11:32 GDSC2_public_raw_data_25Feb20.csv\n"
     ]
    }
   ],
   "source": [
    "!pwd\n",
    "!ls -lh ../../datasets/gdsc/screening_data | grep '/\\|[xlsx|csv]$' | sort"
   ]
  },
  {
   "cell_type": "markdown",
   "metadata": {},
   "source": [
    "Different __Screening Data__ from the [GDSC's download page](https://www.cancerrxgene.org/downloads/bulk_download) has been saved in the folder above. The description to each file compared to the website is as follows: \n",
    "- __Drug Screening - IC50s__\n",
    "  - __GDSC1-dataset__: `GDSC1_fitted_dose_response_25Feb20.xlsx`\n",
    "  - __GDSC2-dataset__: `GDSC2_fitted_dose_response_25Feb20.xlsx`\n",
    "- __Drug Screening - Raw data__: \n",
    "  - __GDSC1-raw-data__: `GDSC1_public_raw_data_25Feb20.csv`\n",
    "  - __GDSC2-raw-data__: `GDSC2_public_raw_data_25Feb20.csv`\n",
    "- __All cell lines screened__: `Cell_Lines_Details.xlsx`\n",
    "\n",
    "In the following we will investigate each of these data sources."
   ]
  },
  {
   "cell_type": "markdown",
   "metadata": {},
   "source": [
    "## Drug Screening"
   ]
  },
  {
   "cell_type": "code",
   "execution_count": 47,
   "metadata": {},
   "outputs": [],
   "source": [
    "PATH_TO_GDSC_SCREENING_DATA = '../../datasets/gdsc/screening_data/'"
   ]
  },
  {
   "cell_type": "markdown",
   "metadata": {},
   "source": [
    "### IC50s"
   ]
  },
  {
   "cell_type": "code",
   "execution_count": 12,
   "metadata": {},
   "outputs": [],
   "source": [
    "GDSC1_IC50_FILE = 'GDSC1_fitted_dose_response_25Feb20.xlsx'\n",
    "GDSC2_IC50_FILE = 'GDSC2_fitted_dose_response_25Feb20.xlsx'"
   ]
  },
  {
   "cell_type": "code",
   "execution_count": 20,
   "metadata": {},
   "outputs": [
    {
     "name": "stdout",
     "output_type": "stream",
     "text": [
      "File `GDSC1_fitted_dose_response_25Feb20.xlsx` took 57.11425 seconds to import. It has shape (310904, 19)\n",
      "File `GDSC2_fitted_dose_response_25Feb20.xlsx` took 24.19299 seconds to import. It has shape (135242, 19)\n"
     ]
    }
   ],
   "source": [
    "# Read the IC50 files.\n",
    "\n",
    "# GDSC1\n",
    "start = time.time()\n",
    "gdsc1_ic50s = pd.read_excel(f'{PATH_TO_GDSC_SCREENING_DATA}{GDSC1_IC50_FILE}', header=0)\n",
    "print(f\"File `{GDSC1_IC50_FILE}` took {time.time()-start:.5f} seconds to import. It has shape {gdsc1_ic50s.shape}\")\n",
    "\n",
    "# GDSC2\n",
    "start = time.time()\n",
    "gdsc2_ic50s = pd.read_excel(f'{PATH_TO_GDSC_SCREENING_DATA}{GDSC2_IC50_FILE}', header=0)\n",
    "print(f\"File `{GDSC2_IC50_FILE}` took {time.time()-start:.5f} seconds to import. It has shape {gdsc2_ic50s.shape}\")"
   ]
  },
  {
   "cell_type": "code",
   "execution_count": 17,
   "metadata": {},
   "outputs": [
    {
     "data": {
      "text/html": [
       "<div>\n",
       "<style scoped>\n",
       "    .dataframe tbody tr th:only-of-type {\n",
       "        vertical-align: middle;\n",
       "    }\n",
       "\n",
       "    .dataframe tbody tr th {\n",
       "        vertical-align: top;\n",
       "    }\n",
       "\n",
       "    .dataframe thead th {\n",
       "        text-align: right;\n",
       "    }\n",
       "</style>\n",
       "<table border=\"1\" class=\"dataframe\">\n",
       "  <thead>\n",
       "    <tr style=\"text-align: right;\">\n",
       "      <th></th>\n",
       "      <th>DATASET</th>\n",
       "      <th>NLME_RESULT_ID</th>\n",
       "      <th>NLME_CURVE_ID</th>\n",
       "      <th>COSMIC_ID</th>\n",
       "      <th>CELL_LINE_NAME</th>\n",
       "      <th>SANGER_MODEL_ID</th>\n",
       "      <th>TCGA_DESC</th>\n",
       "      <th>DRUG_ID</th>\n",
       "      <th>DRUG_NAME</th>\n",
       "      <th>PUTATIVE_TARGET</th>\n",
       "      <th>PATHWAY_NAME</th>\n",
       "      <th>COMPANY_ID</th>\n",
       "      <th>WEBRELEASE</th>\n",
       "      <th>MIN_CONC</th>\n",
       "      <th>MAX_CONC</th>\n",
       "      <th>LN_IC50</th>\n",
       "      <th>AUC</th>\n",
       "      <th>RMSE</th>\n",
       "      <th>Z_SCORE</th>\n",
       "    </tr>\n",
       "  </thead>\n",
       "  <tbody>\n",
       "    <tr>\n",
       "      <th>0</th>\n",
       "      <td>GDSC1</td>\n",
       "      <td>281</td>\n",
       "      <td>12974350</td>\n",
       "      <td>683665</td>\n",
       "      <td>MC-CAR</td>\n",
       "      <td>SIDM00636</td>\n",
       "      <td>MM</td>\n",
       "      <td>1</td>\n",
       "      <td>Erlotinib</td>\n",
       "      <td>EGFR</td>\n",
       "      <td>EGFR signaling</td>\n",
       "      <td>1045</td>\n",
       "      <td>Y</td>\n",
       "      <td>0.007813</td>\n",
       "      <td>2.0</td>\n",
       "      <td>2.395685</td>\n",
       "      <td>0.982114</td>\n",
       "      <td>0.022521</td>\n",
       "      <td>-0.189576</td>\n",
       "    </tr>\n",
       "    <tr>\n",
       "      <th>1</th>\n",
       "      <td>GDSC1</td>\n",
       "      <td>281</td>\n",
       "      <td>12975300</td>\n",
       "      <td>684055</td>\n",
       "      <td>ES3</td>\n",
       "      <td>SIDM00265</td>\n",
       "      <td>UNCLASSIFIED</td>\n",
       "      <td>1</td>\n",
       "      <td>Erlotinib</td>\n",
       "      <td>EGFR</td>\n",
       "      <td>EGFR signaling</td>\n",
       "      <td>1045</td>\n",
       "      <td>Y</td>\n",
       "      <td>0.007813</td>\n",
       "      <td>2.0</td>\n",
       "      <td>3.140923</td>\n",
       "      <td>0.984816</td>\n",
       "      <td>0.031840</td>\n",
       "      <td>0.508635</td>\n",
       "    </tr>\n",
       "    <tr>\n",
       "      <th>2</th>\n",
       "      <td>GDSC1</td>\n",
       "      <td>281</td>\n",
       "      <td>12975647</td>\n",
       "      <td>684057</td>\n",
       "      <td>ES5</td>\n",
       "      <td>SIDM00263</td>\n",
       "      <td>UNCLASSIFIED</td>\n",
       "      <td>1</td>\n",
       "      <td>Erlotinib</td>\n",
       "      <td>EGFR</td>\n",
       "      <td>EGFR signaling</td>\n",
       "      <td>1045</td>\n",
       "      <td>Y</td>\n",
       "      <td>0.007813</td>\n",
       "      <td>2.0</td>\n",
       "      <td>3.968757</td>\n",
       "      <td>0.985693</td>\n",
       "      <td>0.026052</td>\n",
       "      <td>1.284229</td>\n",
       "    </tr>\n",
       "    <tr>\n",
       "      <th>3</th>\n",
       "      <td>GDSC1</td>\n",
       "      <td>281</td>\n",
       "      <td>12975980</td>\n",
       "      <td>684059</td>\n",
       "      <td>ES7</td>\n",
       "      <td>SIDM00269</td>\n",
       "      <td>UNCLASSIFIED</td>\n",
       "      <td>1</td>\n",
       "      <td>Erlotinib</td>\n",
       "      <td>EGFR</td>\n",
       "      <td>EGFR signaling</td>\n",
       "      <td>1045</td>\n",
       "      <td>Y</td>\n",
       "      <td>0.007813</td>\n",
       "      <td>2.0</td>\n",
       "      <td>2.692768</td>\n",
       "      <td>0.972699</td>\n",
       "      <td>0.110056</td>\n",
       "      <td>0.088760</td>\n",
       "    </tr>\n",
       "    <tr>\n",
       "      <th>4</th>\n",
       "      <td>GDSC1</td>\n",
       "      <td>281</td>\n",
       "      <td>12976330</td>\n",
       "      <td>684062</td>\n",
       "      <td>EW-11</td>\n",
       "      <td>SIDM00203</td>\n",
       "      <td>UNCLASSIFIED</td>\n",
       "      <td>1</td>\n",
       "      <td>Erlotinib</td>\n",
       "      <td>EGFR</td>\n",
       "      <td>EGFR signaling</td>\n",
       "      <td>1045</td>\n",
       "      <td>Y</td>\n",
       "      <td>0.007813</td>\n",
       "      <td>2.0</td>\n",
       "      <td>2.478678</td>\n",
       "      <td>0.944462</td>\n",
       "      <td>0.087011</td>\n",
       "      <td>-0.111820</td>\n",
       "    </tr>\n",
       "  </tbody>\n",
       "</table>\n",
       "</div>"
      ],
      "text/plain": [
       "  DATASET  NLME_RESULT_ID  NLME_CURVE_ID  COSMIC_ID CELL_LINE_NAME  \\\n",
       "0   GDSC1             281       12974350     683665         MC-CAR   \n",
       "1   GDSC1             281       12975300     684055            ES3   \n",
       "2   GDSC1             281       12975647     684057            ES5   \n",
       "3   GDSC1             281       12975980     684059            ES7   \n",
       "4   GDSC1             281       12976330     684062          EW-11   \n",
       "\n",
       "  SANGER_MODEL_ID     TCGA_DESC  DRUG_ID  DRUG_NAME PUTATIVE_TARGET  \\\n",
       "0       SIDM00636            MM        1  Erlotinib            EGFR   \n",
       "1       SIDM00265  UNCLASSIFIED        1  Erlotinib            EGFR   \n",
       "2       SIDM00263  UNCLASSIFIED        1  Erlotinib            EGFR   \n",
       "3       SIDM00269  UNCLASSIFIED        1  Erlotinib            EGFR   \n",
       "4       SIDM00203  UNCLASSIFIED        1  Erlotinib            EGFR   \n",
       "\n",
       "     PATHWAY_NAME  COMPANY_ID WEBRELEASE  MIN_CONC  MAX_CONC   LN_IC50  \\\n",
       "0  EGFR signaling        1045          Y  0.007813       2.0  2.395685   \n",
       "1  EGFR signaling        1045          Y  0.007813       2.0  3.140923   \n",
       "2  EGFR signaling        1045          Y  0.007813       2.0  3.968757   \n",
       "3  EGFR signaling        1045          Y  0.007813       2.0  2.692768   \n",
       "4  EGFR signaling        1045          Y  0.007813       2.0  2.478678   \n",
       "\n",
       "        AUC      RMSE   Z_SCORE  \n",
       "0  0.982114  0.022521 -0.189576  \n",
       "1  0.984816  0.031840  0.508635  \n",
       "2  0.985693  0.026052  1.284229  \n",
       "3  0.972699  0.110056  0.088760  \n",
       "4  0.944462  0.087011 -0.111820  "
      ]
     },
     "execution_count": 17,
     "metadata": {},
     "output_type": "execute_result"
    }
   ],
   "source": [
    "gdsc1_ic50s.head(5)"
   ]
  },
  {
   "cell_type": "code",
   "execution_count": 18,
   "metadata": {},
   "outputs": [
    {
     "data": {
      "text/html": [
       "<div>\n",
       "<style scoped>\n",
       "    .dataframe tbody tr th:only-of-type {\n",
       "        vertical-align: middle;\n",
       "    }\n",
       "\n",
       "    .dataframe tbody tr th {\n",
       "        vertical-align: top;\n",
       "    }\n",
       "\n",
       "    .dataframe thead th {\n",
       "        text-align: right;\n",
       "    }\n",
       "</style>\n",
       "<table border=\"1\" class=\"dataframe\">\n",
       "  <thead>\n",
       "    <tr style=\"text-align: right;\">\n",
       "      <th></th>\n",
       "      <th>DATASET</th>\n",
       "      <th>NLME_RESULT_ID</th>\n",
       "      <th>NLME_CURVE_ID</th>\n",
       "      <th>COSMIC_ID</th>\n",
       "      <th>CELL_LINE_NAME</th>\n",
       "      <th>SANGER_MODEL_ID</th>\n",
       "      <th>TCGA_DESC</th>\n",
       "      <th>DRUG_ID</th>\n",
       "      <th>DRUG_NAME</th>\n",
       "      <th>PUTATIVE_TARGET</th>\n",
       "      <th>PATHWAY_NAME</th>\n",
       "      <th>COMPANY_ID</th>\n",
       "      <th>WEBRELEASE</th>\n",
       "      <th>MIN_CONC</th>\n",
       "      <th>MAX_CONC</th>\n",
       "      <th>LN_IC50</th>\n",
       "      <th>AUC</th>\n",
       "      <th>RMSE</th>\n",
       "      <th>Z_SCORE</th>\n",
       "    </tr>\n",
       "  </thead>\n",
       "  <tbody>\n",
       "    <tr>\n",
       "      <th>0</th>\n",
       "      <td>GDSC2</td>\n",
       "      <td>282</td>\n",
       "      <td>13320532</td>\n",
       "      <td>749709</td>\n",
       "      <td>HCC1954</td>\n",
       "      <td>SIDM00872</td>\n",
       "      <td>BRCA</td>\n",
       "      <td>1003</td>\n",
       "      <td>Camptothecin</td>\n",
       "      <td>TOP1</td>\n",
       "      <td>DNA replication</td>\n",
       "      <td>1046</td>\n",
       "      <td>Y</td>\n",
       "      <td>0.000098</td>\n",
       "      <td>0.1</td>\n",
       "      <td>-0.251083</td>\n",
       "      <td>0.975203</td>\n",
       "      <td>0.112373</td>\n",
       "      <td>0.906631</td>\n",
       "    </tr>\n",
       "    <tr>\n",
       "      <th>1</th>\n",
       "      <td>GDSC2</td>\n",
       "      <td>282</td>\n",
       "      <td>13320565</td>\n",
       "      <td>749710</td>\n",
       "      <td>HCC1143</td>\n",
       "      <td>SIDM00866</td>\n",
       "      <td>BRCA</td>\n",
       "      <td>1003</td>\n",
       "      <td>Camptothecin</td>\n",
       "      <td>TOP1</td>\n",
       "      <td>DNA replication</td>\n",
       "      <td>1046</td>\n",
       "      <td>Y</td>\n",
       "      <td>0.000098</td>\n",
       "      <td>0.1</td>\n",
       "      <td>1.343315</td>\n",
       "      <td>0.978464</td>\n",
       "      <td>0.067577</td>\n",
       "      <td>1.683567</td>\n",
       "    </tr>\n",
       "    <tr>\n",
       "      <th>2</th>\n",
       "      <td>GDSC2</td>\n",
       "      <td>282</td>\n",
       "      <td>13320598</td>\n",
       "      <td>749711</td>\n",
       "      <td>HCC1187</td>\n",
       "      <td>SIDM00885</td>\n",
       "      <td>BRCA</td>\n",
       "      <td>1003</td>\n",
       "      <td>Camptothecin</td>\n",
       "      <td>TOP1</td>\n",
       "      <td>DNA replication</td>\n",
       "      <td>1046</td>\n",
       "      <td>Y</td>\n",
       "      <td>0.000098</td>\n",
       "      <td>0.1</td>\n",
       "      <td>1.736985</td>\n",
       "      <td>0.995100</td>\n",
       "      <td>0.045205</td>\n",
       "      <td>1.875399</td>\n",
       "    </tr>\n",
       "    <tr>\n",
       "      <th>3</th>\n",
       "      <td>GDSC2</td>\n",
       "      <td>282</td>\n",
       "      <td>13320631</td>\n",
       "      <td>749712</td>\n",
       "      <td>HCC1395</td>\n",
       "      <td>SIDM00884</td>\n",
       "      <td>BRCA</td>\n",
       "      <td>1003</td>\n",
       "      <td>Camptothecin</td>\n",
       "      <td>TOP1</td>\n",
       "      <td>DNA replication</td>\n",
       "      <td>1046</td>\n",
       "      <td>Y</td>\n",
       "      <td>0.000098</td>\n",
       "      <td>0.1</td>\n",
       "      <td>-2.309078</td>\n",
       "      <td>0.867832</td>\n",
       "      <td>0.107282</td>\n",
       "      <td>-0.096212</td>\n",
       "    </tr>\n",
       "    <tr>\n",
       "      <th>4</th>\n",
       "      <td>GDSC2</td>\n",
       "      <td>282</td>\n",
       "      <td>13320668</td>\n",
       "      <td>749713</td>\n",
       "      <td>HCC1599</td>\n",
       "      <td>SIDM00877</td>\n",
       "      <td>BRCA</td>\n",
       "      <td>1003</td>\n",
       "      <td>Camptothecin</td>\n",
       "      <td>TOP1</td>\n",
       "      <td>DNA replication</td>\n",
       "      <td>1046</td>\n",
       "      <td>Y</td>\n",
       "      <td>0.000098</td>\n",
       "      <td>0.1</td>\n",
       "      <td>-3.106684</td>\n",
       "      <td>0.777532</td>\n",
       "      <td>0.098286</td>\n",
       "      <td>-0.484878</td>\n",
       "    </tr>\n",
       "  </tbody>\n",
       "</table>\n",
       "</div>"
      ],
      "text/plain": [
       "  DATASET  NLME_RESULT_ID  NLME_CURVE_ID  COSMIC_ID CELL_LINE_NAME  \\\n",
       "0   GDSC2             282       13320532     749709        HCC1954   \n",
       "1   GDSC2             282       13320565     749710        HCC1143   \n",
       "2   GDSC2             282       13320598     749711        HCC1187   \n",
       "3   GDSC2             282       13320631     749712        HCC1395   \n",
       "4   GDSC2             282       13320668     749713        HCC1599   \n",
       "\n",
       "  SANGER_MODEL_ID TCGA_DESC  DRUG_ID     DRUG_NAME PUTATIVE_TARGET  \\\n",
       "0       SIDM00872      BRCA     1003  Camptothecin            TOP1   \n",
       "1       SIDM00866      BRCA     1003  Camptothecin            TOP1   \n",
       "2       SIDM00885      BRCA     1003  Camptothecin            TOP1   \n",
       "3       SIDM00884      BRCA     1003  Camptothecin            TOP1   \n",
       "4       SIDM00877      BRCA     1003  Camptothecin            TOP1   \n",
       "\n",
       "      PATHWAY_NAME  COMPANY_ID WEBRELEASE  MIN_CONC  MAX_CONC   LN_IC50  \\\n",
       "0  DNA replication        1046          Y  0.000098       0.1 -0.251083   \n",
       "1  DNA replication        1046          Y  0.000098       0.1  1.343315   \n",
       "2  DNA replication        1046          Y  0.000098       0.1  1.736985   \n",
       "3  DNA replication        1046          Y  0.000098       0.1 -2.309078   \n",
       "4  DNA replication        1046          Y  0.000098       0.1 -3.106684   \n",
       "\n",
       "        AUC      RMSE   Z_SCORE  \n",
       "0  0.975203  0.112373  0.906631  \n",
       "1  0.978464  0.067577  1.683567  \n",
       "2  0.995100  0.045205  1.875399  \n",
       "3  0.867832  0.107282 -0.096212  \n",
       "4  0.777532  0.098286 -0.484878  "
      ]
     },
     "execution_count": 18,
     "metadata": {},
     "output_type": "execute_result"
    }
   ],
   "source": [
    "gdsc2_ic50s.head(5)"
   ]
  },
  {
   "cell_type": "markdown",
   "metadata": {},
   "source": [
    "- GDSC1 contains $310,904$ rows\n",
    "- GDSC2 contains $135,242$ rows\n",
    "\n",
    "Each dataset contains the same $19$ columns. They hold the following informations:\n",
    "<details>\n",
    "  <summary>Click to see column descriptions:</summary>\n",
    "\n",
    "| Column | Description |\n",
    "| ------ | ----------- | \n",
    "| `DATASET` |  Name of the dataset. |\n",
    "| `NLME_RESULT_ID` |  |\n",
    "| `NLME_CURVE_ID` |  |\n",
    "| `COSMIC_ID` | Cell identifier from the COSMIC database. |\n",
    "| `CELL_LINE_NAME` | Primary name for the cell line. |\n",
    "| `SANGER_MODEL_ID` |  |\n",
    "| `TCGA_DESC` |  |\n",
    "| `DRUG_ID` | Unique identifier for a drug. Used for internal lab tracking. |\n",
    "| `DRUG_NAME` | Primary name for the drug. |\n",
    "| `PUTATIVE_TARGET` | Putative drug target. |\n",
    "| `PATHWAY_NAME` |  |\n",
    "| `COMPANY_ID` |  |\n",
    "| `WEBRELEASE` |  |\n",
    "| `MIN_CONC` | Minimum screening concentration of the drug. |\n",
    "| `MAX_CONC` | Maximum screening concentration of the drug. |\n",
    "| `LN_IC50` | Natural log of the fitted IC50. To convert to micromolar take the exponent of this value, i.e. $\\exp(\\text{IC50\\_nat\\_log})$. |\n",
    "| `AUC` | Area Under the Curve for the fitted model. Presented as a fraction of the total area between the highest and lowest screening concentration. |\n",
    "| `RMSE` | Root Mean Squared Error, a measurement of how well the modelled curve fits the data points. |\n",
    "| `Z_SCORE` | Z score of the LN_IC50 ($x$) comparing it to the mean ($\\mu$) and standard deviation ($\\sigma^2$) of the LN_IC50 values for the drug in question over all cell lines treated. $Z = \\frac{x-\\mu}{\\sigma^2}$ |\n",
    "\n",
    "</details>\n",
    "\n",
    "The tables contain the IC50 values (`LN_IC50`) for specific drugs (`DRUG_NAME`) on cancer cell lines (`CELL_LINE_NAME`). Thus, they hold information about how specific drugs influence the killing of cancer cells."
   ]
  },
  {
   "cell_type": "markdown",
   "metadata": {},
   "source": [
    "#### EDA\n",
    "\n",
    "__Questions to answer__: \n",
    "\n",
    "- [x] How many unique drugs, cell-lines and cell-line-drug combinations are there (per database)? \n",
    "- [x] How many number of observations does each drug (`DRUG_NAME`) have (per database)? \n",
    "- [ ] How many number of observations does each cell line (`CELL_LINE_NAME`) have (per database)?\n",
    "- [ ] How are the IC50 values distributed (per database)?"
   ]
  },
  {
   "cell_type": "code",
   "execution_count": 205,
   "metadata": {},
   "outputs": [
    {
     "name": "stdout",
     "output_type": "stream",
     "text": [
      "\n",
      "      Number of unique DRUG_NAME's \n",
      "          - for GDSC1 is 345\n",
      "          - for GDSC2 is 192\n",
      "          - in total for both is 449\n",
      "            Thus, 88 DRUG_NAME's are contained in both databases (since the full join is 537).\n",
      "  \n",
      "\n",
      "      Number of unique CELL_LINE_NAME's \n",
      "          - for GDSC1 is 987\n",
      "          - for GDSC2 is 809\n",
      "          - in total for both is 988\n",
      "            Thus, 808 CELL_LINE_NAME's are contained in both databases (since the full join is 1796).\n",
      "  \n",
      "\n",
      "      Number of unique ['DRUG_NAME', 'CELL_LINE_NAME']'s \n",
      "          - for GDSC1 is 1331\n",
      "          - for GDSC2 is 1001\n",
      "          - in total for both is 1436\n",
      "            Thus, 896 ['DRUG_NAME', 'CELL_LINE_NAME']'s are contained in both databases (since the full join is 2332).\n",
      "  \n"
     ]
    }
   ],
   "source": [
    "columns = ['DRUG_NAME', 'CELL_LINE_NAME', ['DRUG_NAME', 'CELL_LINE_NAME']]\n",
    "\n",
    "for col in columns:\n",
    "  gdsc1_uniq, gdsc2_uniq = np.unique(gdsc1_ic50s[col]), np.unique(gdsc2_ic50s[col])\n",
    "\n",
    "  print(f\"\"\"\n",
    "      Number of unique {col}'s \n",
    "          - for GDSC1 is {gdsc1_uniq.size}\n",
    "          - for GDSC2 is {gdsc2_uniq.size}\n",
    "          - in total for both is {set(gdsc1_uniq.tolist() + gdsc2_uniq.tolist()).__len__()}\n",
    "            Thus, {(gdsc1_uniq.size+gdsc2_uniq.size) - set(gdsc1_uniq.tolist() + gdsc2_uniq.tolist()).__len__()} {col}'s are contained in both databases (since the full join is {(gdsc1_uniq.size+gdsc2_uniq.size)}).\n",
    "  \"\"\")"
   ]
  },
  {
   "cell_type": "code",
   "execution_count": 293,
   "metadata": {},
   "outputs": [],
   "source": [
    "# Join both datasets for analysis purposes.\n",
    "gdsc_join = pd.concat([gdsc1_ic50s, gdsc2_ic50s], ignore_index=True)\n",
    "assert gdsc_join[gdsc_join.index.duplicated()].shape[0] == 0\n",
    "assert gdsc_join.shape[0] == gdsc1_ic50s.shape[0] + gdsc2_ic50s.shape[0]"
   ]
  },
  {
   "cell_type": "markdown",
   "metadata": {},
   "source": [
    "1. We start by investigating the `DRUG_NAME` column."
   ]
  },
  {
   "cell_type": "code",
   "execution_count": 294,
   "metadata": {},
   "outputs": [],
   "source": [
    "col = 'DRUG_NAME'"
   ]
  },
  {
   "cell_type": "code",
   "execution_count": 295,
   "metadata": {},
   "outputs": [
    {
     "data": {
      "text/html": [
       "<div>\n",
       "<style scoped>\n",
       "    .dataframe tbody tr th:only-of-type {\n",
       "        vertical-align: middle;\n",
       "    }\n",
       "\n",
       "    .dataframe tbody tr th {\n",
       "        vertical-align: top;\n",
       "    }\n",
       "\n",
       "    .dataframe thead th {\n",
       "        text-align: right;\n",
       "    }\n",
       "</style>\n",
       "<table border=\"1\" class=\"dataframe\">\n",
       "  <thead>\n",
       "    <tr style=\"text-align: right;\">\n",
       "      <th></th>\n",
       "      <th>DATASET</th>\n",
       "      <th>DRUG_NAME</th>\n",
       "      <th>counts</th>\n",
       "    </tr>\n",
       "  </thead>\n",
       "  <tbody>\n",
       "    <tr>\n",
       "      <th>0</th>\n",
       "      <td>GDSC1</td>\n",
       "      <td>Cisplatin</td>\n",
       "      <td>1879</td>\n",
       "    </tr>\n",
       "    <tr>\n",
       "      <th>1</th>\n",
       "      <td>GDSC1</td>\n",
       "      <td>AZD7762</td>\n",
       "      <td>1878</td>\n",
       "    </tr>\n",
       "    <tr>\n",
       "      <th>2</th>\n",
       "      <td>GDSC1</td>\n",
       "      <td>SN-38</td>\n",
       "      <td>1876</td>\n",
       "    </tr>\n",
       "    <tr>\n",
       "      <th>3</th>\n",
       "      <td>GDSC1</td>\n",
       "      <td>PLX-4720</td>\n",
       "      <td>1869</td>\n",
       "    </tr>\n",
       "    <tr>\n",
       "      <th>4</th>\n",
       "      <td>GDSC1</td>\n",
       "      <td>Avagacestat</td>\n",
       "      <td>1861</td>\n",
       "    </tr>\n",
       "    <tr>\n",
       "      <th>...</th>\n",
       "      <td>...</td>\n",
       "      <td>...</td>\n",
       "      <td>...</td>\n",
       "    </tr>\n",
       "    <tr>\n",
       "      <th>527</th>\n",
       "      <td>GDSC2</td>\n",
       "      <td>PF-4708671</td>\n",
       "      <td>49</td>\n",
       "    </tr>\n",
       "    <tr>\n",
       "      <th>528</th>\n",
       "      <td>GDSC2</td>\n",
       "      <td>NU7441</td>\n",
       "      <td>48</td>\n",
       "    </tr>\n",
       "    <tr>\n",
       "      <th>529</th>\n",
       "      <td>GDSC2</td>\n",
       "      <td>AZD6482</td>\n",
       "      <td>48</td>\n",
       "    </tr>\n",
       "    <tr>\n",
       "      <th>530</th>\n",
       "      <td>GDSC2</td>\n",
       "      <td>JQ1</td>\n",
       "      <td>48</td>\n",
       "    </tr>\n",
       "    <tr>\n",
       "      <th>531</th>\n",
       "      <td>GDSC2</td>\n",
       "      <td>ZM447439</td>\n",
       "      <td>48</td>\n",
       "    </tr>\n",
       "  </tbody>\n",
       "</table>\n",
       "<p>532 rows × 3 columns</p>\n",
       "</div>"
      ],
      "text/plain": [
       "    DATASET    DRUG_NAME  counts\n",
       "0     GDSC1    Cisplatin    1879\n",
       "1     GDSC1      AZD7762    1878\n",
       "2     GDSC1        SN-38    1876\n",
       "3     GDSC1     PLX-4720    1869\n",
       "4     GDSC1  Avagacestat    1861\n",
       "..      ...          ...     ...\n",
       "527   GDSC2   PF-4708671      49\n",
       "528   GDSC2       NU7441      48\n",
       "529   GDSC2      AZD6482      48\n",
       "530   GDSC2          JQ1      48\n",
       "531   GDSC2     ZM447439      48\n",
       "\n",
       "[532 rows x 3 columns]"
      ]
     },
     "execution_count": 295,
     "metadata": {},
     "output_type": "execute_result"
    }
   ],
   "source": [
    "# How many number of observations does each drug have per database? \n",
    "gdsc_value_counts = gdsc_join[['DATASET', col]].value_counts().to_frame().reset_index()\n",
    "gdsc_value_counts.rename(columns={0:'counts'}, inplace=True)\n",
    "gdsc_value_counts.head(-5)"
   ]
  },
  {
   "cell_type": "code",
   "execution_count": 296,
   "metadata": {},
   "outputs": [
    {
     "data": {
      "image/png": "[encoded data removed]",
      "text/plain": [
       "<Figure size 1080x360 with 2 Axes>"
      ]
     },
     "metadata": {},
     "output_type": "display_data"
    }
   ],
   "source": [
    "# Distribution of counts per DRUG_NAME.\n",
    "\n",
    "figure, axs = plt.subplots(1, 2, figsize=(15, 5))\n",
    "figure.suptitle(f\"Counts of Data Points per {col} for GDSC1 & GDSC2\")\n",
    "\n",
    "sns.boxplot(data=gdsc_value_counts, x='counts', y='DATASET', linewidth=2, ax=axs[0]);\n",
    "axs[0].set_xlabel(f\"Count of Data Points per {col} Group\");\n",
    "sns.kdeplot(data=gdsc_value_counts, x='counts', hue='DATASET', linewidth=2, ax=axs[1]);\n",
    "axs[1].set_xlabel(f\"Count of Data Points per {col} Group\");"
   ]
  },
  {
   "cell_type": "markdown",
   "metadata": {},
   "source": [
    "- The counts per cell-line (`DRUG_NAME`) are not different strongly between the two databases.\n",
    "- Outliers are going in both directions, smaller as well as larger counts. This means, that there are some drugs for which their number of observations is relatively low and some where its relatively high."
   ]
  },
  {
   "cell_type": "code",
   "execution_count": 297,
   "metadata": {},
   "outputs": [
    {
     "name": "stdout",
     "output_type": "stream",
     "text": [
      "\n",
      "Database `GDSC1`\n",
      "---------------\n",
      "count     345.000000\n",
      "mean      901.171014\n",
      "std       289.660963\n",
      "min       358.000000\n",
      "25%       881.000000\n",
      "50%       917.000000\n",
      "75%       929.000000\n",
      "max      1879.000000\n",
      "Name: counts, dtype: float64\n",
      "\n",
      "Database `GDSC2`\n",
      "---------------\n",
      "count     192.000000\n",
      "mean      704.385417\n",
      "std       245.918063\n",
      "min        44.000000\n",
      "25%       728.000000\n",
      "50%       745.000000\n",
      "75%       752.750000\n",
      "max      1530.000000\n",
      "Name: counts, dtype: float64\n"
     ]
    }
   ],
   "source": [
    "describes = []\n",
    "for db in ['GDSC1', 'GDSC2']:\n",
    "    print(f\"\\nDatabase `{db}`\\n{15*'-'}\")\n",
    "    describe = gdsc_value_counts[gdsc_value_counts.DATASET==db].counts.describe()\n",
    "    describes.append(describe)\n",
    "    print(describe)"
   ]
  },
  {
   "cell_type": "code",
   "execution_count": 298,
   "metadata": {},
   "outputs": [
    {
     "name": "stdout",
     "output_type": "stream",
     "text": [
      "The drugs (`DRUG_NAME`) for\n",
      " \n",
      "        - GDSC1 have\n",
      "            - mostly (IQR) between 881 and 929 observations\n",
      "            - on average 901 observations per drug. This corresponds to 0.29% out of all observations (310904) in GDSC1.\n",
      "    \n",
      " \n",
      "        - GDSC2 have\n",
      "            - mostly (IQR) between 728 and 753 observations\n",
      "            - on average 704 observations per drug. This corresponds to 0.52% out of all observations (135242) in GDSC2.\n",
      "    \n"
     ]
    }
   ],
   "source": [
    "print(f\"The drugs (`{col}`) for\")\n",
    "for i, db in enumerate(['GDSC1', 'GDSC2']):\n",
    "    print(f\"\"\" \n",
    "        - {db} have\n",
    "            - mostly (IQR) between {round(describes[i]['25%'])} and {round(describes[i]['75%'])} observations\n",
    "            - on average {round(describes[i]['mean'])} observations per drug. This corresponds to {100*round(describes[i]['mean'])/gdsc_join[gdsc_join.DATASET==db].shape[0]:2.2f}% out of all observations ({gdsc_join[gdsc_join.DATASET==db].shape[0]}) in {db}.\n",
    "    \"\"\")"
   ]
  },
  {
   "cell_type": "markdown",
   "metadata": {},
   "source": [
    "2. Now we investigate analogous the `CELL_LINE_NAME` column."
   ]
  },
  {
   "cell_type": "code",
   "execution_count": 299,
   "metadata": {},
   "outputs": [],
   "source": [
    "col = 'CELL_LINE_NAME'"
   ]
  },
  {
   "cell_type": "code",
   "execution_count": 300,
   "metadata": {},
   "outputs": [
    {
     "data": {
      "text/html": [
       "<div>\n",
       "<style scoped>\n",
       "    .dataframe tbody tr th:only-of-type {\n",
       "        vertical-align: middle;\n",
       "    }\n",
       "\n",
       "    .dataframe tbody tr th {\n",
       "        vertical-align: top;\n",
       "    }\n",
       "\n",
       "    .dataframe thead th {\n",
       "        text-align: right;\n",
       "    }\n",
       "</style>\n",
       "<table border=\"1\" class=\"dataframe\">\n",
       "  <thead>\n",
       "    <tr style=\"text-align: right;\">\n",
       "      <th></th>\n",
       "      <th>DATASET</th>\n",
       "      <th>CELL_LINE_NAME</th>\n",
       "      <th>counts</th>\n",
       "    </tr>\n",
       "  </thead>\n",
       "  <tbody>\n",
       "    <tr>\n",
       "      <th>0</th>\n",
       "      <td>GDSC1</td>\n",
       "      <td>LS-123</td>\n",
       "      <td>367</td>\n",
       "    </tr>\n",
       "    <tr>\n",
       "      <th>1</th>\n",
       "      <td>GDSC1</td>\n",
       "      <td>TE-12</td>\n",
       "      <td>367</td>\n",
       "    </tr>\n",
       "    <tr>\n",
       "      <th>2</th>\n",
       "      <td>GDSC1</td>\n",
       "      <td>NCI-H1304</td>\n",
       "      <td>367</td>\n",
       "    </tr>\n",
       "    <tr>\n",
       "      <th>3</th>\n",
       "      <td>GDSC1</td>\n",
       "      <td>MZ1-PC</td>\n",
       "      <td>367</td>\n",
       "    </tr>\n",
       "    <tr>\n",
       "      <th>4</th>\n",
       "      <td>GDSC1</td>\n",
       "      <td>KCL-22</td>\n",
       "      <td>367</td>\n",
       "    </tr>\n",
       "    <tr>\n",
       "      <th>...</th>\n",
       "      <td>...</td>\n",
       "      <td>...</td>\n",
       "      <td>...</td>\n",
       "    </tr>\n",
       "    <tr>\n",
       "      <th>1786</th>\n",
       "      <td>GDSC1</td>\n",
       "      <td>NCI-H128</td>\n",
       "      <td>41</td>\n",
       "    </tr>\n",
       "    <tr>\n",
       "      <th>1787</th>\n",
       "      <td>GDSC1</td>\n",
       "      <td>ECC12</td>\n",
       "      <td>32</td>\n",
       "    </tr>\n",
       "    <tr>\n",
       "      <th>1788</th>\n",
       "      <td>GDSC2</td>\n",
       "      <td>NCI-H508</td>\n",
       "      <td>27</td>\n",
       "    </tr>\n",
       "    <tr>\n",
       "      <th>1789</th>\n",
       "      <td>GDSC1</td>\n",
       "      <td>KP-N-RT-BM-1</td>\n",
       "      <td>25</td>\n",
       "    </tr>\n",
       "    <tr>\n",
       "      <th>1790</th>\n",
       "      <td>GDSC2</td>\n",
       "      <td>COR-L95</td>\n",
       "      <td>24</td>\n",
       "    </tr>\n",
       "  </tbody>\n",
       "</table>\n",
       "<p>1791 rows × 3 columns</p>\n",
       "</div>"
      ],
      "text/plain": [
       "     DATASET CELL_LINE_NAME  counts\n",
       "0      GDSC1         LS-123     367\n",
       "1      GDSC1          TE-12     367\n",
       "2      GDSC1      NCI-H1304     367\n",
       "3      GDSC1         MZ1-PC     367\n",
       "4      GDSC1         KCL-22     367\n",
       "...      ...            ...     ...\n",
       "1786   GDSC1       NCI-H128      41\n",
       "1787   GDSC1          ECC12      32\n",
       "1788   GDSC2       NCI-H508      27\n",
       "1789   GDSC1   KP-N-RT-BM-1      25\n",
       "1790   GDSC2        COR-L95      24\n",
       "\n",
       "[1791 rows x 3 columns]"
      ]
     },
     "execution_count": 300,
     "metadata": {},
     "output_type": "execute_result"
    }
   ],
   "source": [
    "# How many number of observations does each drug have per database? \n",
    "gdsc_cell_line_value_counts = gdsc_join[['DATASET', col]].value_counts().to_frame().reset_index()\n",
    "gdsc_cell_line_value_counts.rename(columns={0:'counts'}, inplace=True)\n",
    "gdsc_cell_line_value_counts.head(-5)"
   ]
  },
  {
   "cell_type": "code",
   "execution_count": 301,
   "metadata": {},
   "outputs": [
    {
     "data": {
      "image/png": "[encoded data removed]",
      "text/plain": [
       "<Figure size 1080x360 with 2 Axes>"
      ]
     },
     "metadata": {},
     "output_type": "display_data"
    }
   ],
   "source": [
    "# Distribution of counts per CELL_LINE_NAME.\n",
    "\n",
    "figure, axs = plt.subplots(1, 2, figsize=(15, 5))\n",
    "figure.suptitle(f\"Counts of Data Points per {col} for GDSC1 & GDSC2\")\n",
    "\n",
    "sns.boxplot(data=gdsc_cell_line_value_counts, x='counts', y='DATASET', linewidth=2, ax=axs[0]);\n",
    "axs[0].set_xlabel(f\"Count of Data Points per {col} Group\");\n",
    "sns.kdeplot(data=gdsc_cell_line_value_counts, x='counts', hue='DATASET', linewidth=2, ax=axs[1]);\n",
    "axs[1].set_xlabel(f\"Count of Data Points per {col} Group\");"
   ]
  },
  {
   "cell_type": "markdown",
   "metadata": {},
   "source": [
    "- The counts per cell-line (`CELL_LINE_NAME`) different strongly between the two databases.\n",
    "- Outliers are mostly in the directions of smaller counts. This means, that it is more unlikely that cell-lines have relatively low counts."
   ]
  },
  {
   "cell_type": "code",
   "execution_count": 302,
   "metadata": {},
   "outputs": [
    {
     "name": "stdout",
     "output_type": "stream",
     "text": [
      "\n",
      "Database `GDSC1`\n",
      "---------------\n",
      "count    987.000000\n",
      "mean     314.998987\n",
      "std       57.980194\n",
      "min        1.000000\n",
      "25%      314.000000\n",
      "50%      322.000000\n",
      "75%      358.000000\n",
      "max      367.000000\n",
      "Name: counts, dtype: float64\n",
      "\n",
      "Database `GDSC2`\n",
      "---------------\n",
      "count    809.000000\n",
      "mean     167.171817\n",
      "std       31.114829\n",
      "min       14.000000\n",
      "25%      178.000000\n",
      "50%      179.000000\n",
      "75%      180.000000\n",
      "max      196.000000\n",
      "Name: counts, dtype: float64\n"
     ]
    }
   ],
   "source": [
    "describes = []\n",
    "for db in ['GDSC1', 'GDSC2']:\n",
    "    print(f\"\\nDatabase `{db}`\\n{15*'-'}\")\n",
    "    describe = gdsc_cell_line_value_counts[gdsc_cell_line_value_counts.DATASET==db].counts.describe()\n",
    "    describes.append(describe)\n",
    "    print(describe)"
   ]
  },
  {
   "cell_type": "code",
   "execution_count": 303,
   "metadata": {},
   "outputs": [
    {
     "name": "stdout",
     "output_type": "stream",
     "text": [
      "The cell-lines (`CELL_LINE_NAME`) for\n",
      " \n",
      "        - GDSC1 have\n",
      "            - mostly (IQR) between 314 and 358 observations\n",
      "            - on average 315 observations per cell-line. This corresponds to 0.10% out of all observations (310904) in GDSC1.\n",
      "    \n",
      " \n",
      "        - GDSC2 have\n",
      "            - mostly (IQR) between 178 and 180 observations\n",
      "            - on average 167 observations per cell-line. This corresponds to 0.12% out of all observations (135242) in GDSC2.\n",
      "    \n"
     ]
    }
   ],
   "source": [
    "print(f\"The cell-lines (`{col}`) for\")\n",
    "for i, db in enumerate(['GDSC1', 'GDSC2']):\n",
    "    print(f\"\"\" \n",
    "        - {db} have\n",
    "            - mostly (IQR) between {round(describes[i]['25%'])} and {round(describes[i]['75%'])} observations\n",
    "            - on average {round(describes[i]['mean'])} observations per cell-line. This corresponds to {100*round(describes[i]['mean'])/gdsc_join[gdsc_join.DATASET==db].shape[0]:2.2f}% out of all observations ({gdsc_join[gdsc_join.DATASET==db].shape[0]}) in {db}.\n",
    "    \"\"\")"
   ]
  },
  {
   "cell_type": "markdown",
   "metadata": {},
   "source": [
    "3. Investigation of the distribution of IC50 values."
   ]
  },
  {
   "cell_type": "code",
   "execution_count": 304,
   "metadata": {},
   "outputs": [
    {
     "data": {
      "image/png": "[encoded data removed]",
      "text/plain": [
       "<Figure size 432x288 with 1 Axes>"
      ]
     },
     "metadata": {},
     "output_type": "display_data"
    }
   ],
   "source": [
    "# Compare general IC50 distribution for both GDSC datasets.\n",
    "sns.boxplot(data=gdsc_join, y='DATASET', x='LN_IC50', linewidth=2);\n",
    "plt.xlabel(\"ln(IC50)\");\n",
    "plt.ylabel(\"Dataset\");\n",
    "plt.title(\"Distribution of the logarithm of the IC50 values\\n for GDSC1 & GDSC2\");"
   ]
  },
  {
   "cell_type": "code",
   "execution_count": 305,
   "metadata": {},
   "outputs": [
    {
     "data": {
      "image/png": "[encoded data removed]",
      "text/plain": [
       "<Figure size 1080x720 with 4 Axes>"
      ]
     },
     "metadata": {},
     "output_type": "display_data"
    }
   ],
   "source": [
    "# Distribution of the IC50 values.\n",
    "\n",
    "figure, axs = plt.subplots(2, 2, figsize=(15, 10))\n",
    "figure.suptitle(f\"Distributions of the ln(IC50) and IC50 values \\n for GDSC1 & GDSC2\")\n",
    "\n",
    "sns.boxplot(data=gdsc_join, y='DATASET', x='LN_IC50', linewidth=2, ax=axs[0, 0]);\n",
    "axs[0, 0].set_xlabel(f\"ln(IC50)\");\n",
    "sns.boxplot(y=gdsc_join.DATASET, x=np.exp(gdsc_join.LN_IC50), linewidth=2, ax=axs[0, 1]);\n",
    "axs[0, 1].set_xlabel(f\"IC50\");\n",
    "sns.kdeplot(data=gdsc_join, hue='DATASET', x='LN_IC50', linewidth=2, ax=axs[1, 0]);\n",
    "axs[1, 0].set_xlabel(f\"ln(IC50)\");\n",
    "sns.kdeplot(hue=gdsc_join.DATASET, x=np.exp(gdsc_join.LN_IC50), linewidth=2, ax=axs[1, 1]);\n",
    "axs[1, 1].set_xlabel(f\"IC50\");"
   ]
  },
  {
   "cell_type": "markdown",
   "metadata": {},
   "source": [
    "- The distribution of the $ln(IC50)$ values is very similar between the two databases GDSC1 and GDSC2."
   ]
  },
  {
   "cell_type": "markdown",
   "metadata": {},
   "source": [
    "## Raw Data"
   ]
  },
  {
   "cell_type": "code",
   "execution_count": 48,
   "metadata": {},
   "outputs": [],
   "source": [
    "GDSC1_RAW_FILE = 'GDSC1_public_raw_data_25Feb20.csv.xlsx'\n",
    "GDSC2_RAW_FILE = 'GDSC2_public_raw_data_25Feb20.csv.xlsx'"
   ]
  },
  {
   "cell_type": "code",
   "execution_count": null,
   "metadata": {},
   "outputs": [],
   "source": []
  },
  {
   "cell_type": "code",
   "execution_count": null,
   "metadata": {},
   "outputs": [],
   "source": []
  }
 ],
 "metadata": {
  "interpreter": {
   "hash": "c78b81650a0bd32063743affb6953ff71b1a0dba806fbca9e2db842718495748"
  },
  "kernelspec": {
   "display_name": "Python 3.10.4 ('master-thesis-log')",
   "language": "python",
   "name": "python3"
  },
  "language_info": {
   "codemirror_mode": {
    "name": "ipython",
    "version": 3
   },
   "file_extension": ".py",
   "mimetype": "text/x-python",
   "name": "python",
   "nbconvert_exporter": "python",
   "pygments_lexer": "ipython3",
   "version": "3.10.4"
  },
  "orig_nbformat": 4
 },
 "nbformat": 4,
 "nbformat_minor": 2
}
