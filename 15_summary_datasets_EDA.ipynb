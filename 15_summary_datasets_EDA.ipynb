{
 "cells": [
  {
   "cell_type": "code",
   "execution_count": 16,
   "metadata": {},
   "outputs": [],
   "source": [
    "import pickle\n",
    "import pandas as pd\n",
    "import numpy as np\n",
    "\n",
    "PATH_SUMMARY_DATASETS = '../../datasets/datasets_for_model_building/summary_datasets'\n",
    "NEW_FOLDER = '/without_missing/'"
   ]
  },
  {
   "cell_type": "code",
   "execution_count": 20,
   "metadata": {},
   "outputs": [],
   "source": [
    "with open(f'{PATH_SUMMARY_DATASETS}{NEW_FOLDER}drug_response_matrix__gdsc2.pkl', 'rb') as f: \n",
    "    drm = pickle.load(f)  \n",
    "\n",
    "smiles_mat = pd.read_pickle(f'{PATH_SUMMARY_DATASETS}/drug_smiles_fingerprints_matrix.pkl')\n",
    "smiles_graphs = pd.read_pickle(f'{PATH_SUMMARY_DATASETS}/drug_graphs_dict.pkl')\n",
    "\n",
    "cl_mat = pd.read_pickle(f'{PATH_SUMMARY_DATASETS}{NEW_FOLDER}cell_line_gene_matrix.pkl')\n",
    "cl_graphs = pd.read_pickle(f'{PATH_SUMMARY_DATASETS}{NEW_FOLDER}cell_line_graphs_dict.pkl')"
   ]
  },
  {
   "cell_type": "code",
   "execution_count": null,
   "metadata": {},
   "outputs": [],
   "source": []
  }
 ],
 "metadata": {
  "interpreter": {
   "hash": "c78b81650a0bd32063743affb6953ff71b1a0dba806fbca9e2db842718495748"
  },
  "kernelspec": {
   "display_name": "Python 3.10.4 ('master-thesis-log')",
   "language": "python",
   "name": "python3"
  },
  "language_info": {
   "codemirror_mode": {
    "name": "ipython",
    "version": 3
   },
   "file_extension": ".py",
   "mimetype": "text/x-python",
   "name": "python",
   "nbconvert_exporter": "python",
   "pygments_lexer": "ipython3",
   "version": "3.10.4"
  },
  "orig_nbformat": 4
 },
 "nbformat": 4,
 "nbformat_minor": 2
}
