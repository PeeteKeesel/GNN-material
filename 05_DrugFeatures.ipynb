{
 "cells": [
  {
   "cell_type": "code",
   "execution_count": 5,
   "metadata": {},
   "outputs": [],
   "source": [
    "import sys\n",
    "import time\n",
    "import os\n",
    "import numpy as np\n",
    "import pandas as pd\n",
    "import matplotlib.pyplot as plt \n",
    "import seaborn as sns\n",
    "\n",
    "from rdkit import Chem\n",
    "from rdkit.Chem import AllChem\n",
    "\n",
    "sns.set_theme(style=\"white\")"
   ]
  },
  {
   "cell_type": "code",
   "execution_count": 6,
   "metadata": {},
   "outputs": [
    {
     "name": "stdout",
     "output_type": "stream",
     "text": [
      "# conda environments:\n",
      "#\n",
      "base                     /users/cwoest/Applications/anaconda3\n",
      "gdsctools_env            /users/cwoest/Applications/anaconda3/envs/gdsctools_env\n",
      "master-thesis-log     *  /users/cwoest/Applications/anaconda3/envs/master-thesis-log\n",
      "r-env                    /users/cwoest/Applications/anaconda3/envs/r-env\n",
      "\n",
      "\n",
      "CommandNotFoundError: Your shell has not been properly configured to use 'conda activate'.\n",
      "To initialize your shell, run\n",
      "\n",
      "    $ conda init <SHELL_NAME>\n",
      "\n",
      "Currently supported shells are:\n",
      "  - bash\n",
      "  - fish\n",
      "  - tcsh\n",
      "  - xonsh\n",
      "  - zsh\n",
      "  - powershell\n",
      "\n",
      "See 'conda init --help' for more information and options.\n",
      "\n",
      "IMPORTANT: You may need to close and restart your shell after running 'conda init'.\n",
      "\n",
      "\n"
     ]
    }
   ],
   "source": [
    "!conda env list \n",
    "!conda activate master-thesis-log"
   ]
  },
  {
   "cell_type": "markdown",
   "metadata": {},
   "source": [
    "Run the following if `rdkit` is not installed.\n",
    "```bash\n",
    "    !conda install -c rdkit rdkit\n",
    "```"
   ]
  },
  {
   "cell_type": "code",
   "execution_count": 10,
   "metadata": {},
   "outputs": [
    {
     "name": "stdout",
     "output_type": "stream",
     "text": [
      "/Users/cwoest/Documents/Academics/Data_Science_UP/master_thesis/material/GNN-material\n",
      "37474177       88 -rw-r--r--    1 cwoest           staff               41866 Apr 28 16:31 ../../datasets/gdsc/GDSC_compounds_inchi_key_with_smiles.csv\n"
     ]
    }
   ],
   "source": [
    "!pwd\n",
    "!find ../../datasets/gdsc -name '*smiles*.csv' -ls"
   ]
  },
  {
   "cell_type": "code",
   "execution_count": 13,
   "metadata": {},
   "outputs": [
    {
     "name": "stdout",
     "output_type": "stream",
     "text": [
      "(446521, 14)\n"
     ]
    },
    {
     "data": {
      "text/html": [
       "<div>\n",
       "<style scoped>\n",
       "    .dataframe tbody tr th:only-of-type {\n",
       "        vertical-align: middle;\n",
       "    }\n",
       "\n",
       "    .dataframe tbody tr th {\n",
       "        vertical-align: top;\n",
       "    }\n",
       "\n",
       "    .dataframe thead th {\n",
       "        text-align: right;\n",
       "    }\n",
       "</style>\n",
       "<table border=\"1\" class=\"dataframe\">\n",
       "  <thead>\n",
       "    <tr style=\"text-align: right;\">\n",
       "      <th></th>\n",
       "      <th>DRUG_ID</th>\n",
       "      <th>CELL_LINE_NAME</th>\n",
       "      <th>AUC</th>\n",
       "      <th>CELL_ID</th>\n",
       "      <th>LN_IC50</th>\n",
       "      <th>CONC</th>\n",
       "      <th>MASTER_CELL_ID</th>\n",
       "      <th>INTENSITY</th>\n",
       "      <th>DATASET</th>\n",
       "      <th>Z_SCORE</th>\n",
       "      <th>DRUG_NAME</th>\n",
       "      <th>RMSE</th>\n",
       "      <th>COSMIC_ID</th>\n",
       "      <th>POSITION</th>\n",
       "    </tr>\n",
       "  </thead>\n",
       "  <tbody>\n",
       "    <tr>\n",
       "      <th>0</th>\n",
       "      <td>1</td>\n",
       "      <td>MC-CAR</td>\n",
       "      <td>0.982114</td>\n",
       "      <td>3137</td>\n",
       "      <td>2.395685</td>\n",
       "      <td>2.0</td>\n",
       "      <td>49</td>\n",
       "      <td>544404</td>\n",
       "      <td>GDSC1</td>\n",
       "      <td>-0.189576</td>\n",
       "      <td>Erlotinib</td>\n",
       "      <td>0.022521</td>\n",
       "      <td>683665</td>\n",
       "      <td>14</td>\n",
       "    </tr>\n",
       "    <tr>\n",
       "      <th>9</th>\n",
       "      <td>1</td>\n",
       "      <td>ES3</td>\n",
       "      <td>0.984816</td>\n",
       "      <td>2366</td>\n",
       "      <td>3.140923</td>\n",
       "      <td>2.0</td>\n",
       "      <td>1342</td>\n",
       "      <td>404197</td>\n",
       "      <td>GDSC1</td>\n",
       "      <td>0.508635</td>\n",
       "      <td>Erlotinib</td>\n",
       "      <td>0.031840</td>\n",
       "      <td>684055</td>\n",
       "      <td>14</td>\n",
       "    </tr>\n",
       "    <tr>\n",
       "      <th>27</th>\n",
       "      <td>1</td>\n",
       "      <td>ES5</td>\n",
       "      <td>0.985693</td>\n",
       "      <td>2368</td>\n",
       "      <td>3.968757</td>\n",
       "      <td>2.0</td>\n",
       "      <td>610</td>\n",
       "      <td>797378</td>\n",
       "      <td>GDSC1</td>\n",
       "      <td>1.284229</td>\n",
       "      <td>Erlotinib</td>\n",
       "      <td>0.026052</td>\n",
       "      <td>684057</td>\n",
       "      <td>14</td>\n",
       "    </tr>\n",
       "  </tbody>\n",
       "</table>\n",
       "</div>"
      ],
      "text/plain": [
       "    DRUG_ID CELL_LINE_NAME       AUC  CELL_ID   LN_IC50  CONC  MASTER_CELL_ID  \\\n",
       "0         1         MC-CAR  0.982114     3137  2.395685   2.0              49   \n",
       "9         1            ES3  0.984816     2366  3.140923   2.0            1342   \n",
       "27        1            ES5  0.985693     2368  3.968757   2.0             610   \n",
       "\n",
       "    INTENSITY DATASET   Z_SCORE  DRUG_NAME      RMSE  COSMIC_ID  POSITION  \n",
       "0      544404   GDSC1 -0.189576  Erlotinib  0.022521     683665        14  \n",
       "9      404197   GDSC1  0.508635  Erlotinib  0.031840     684055        14  \n",
       "27     797378   GDSC1  1.284229  Erlotinib  0.026052     684057        14  "
      ]
     },
     "execution_count": 13,
     "metadata": {},
     "output_type": "execute_result"
    }
   ],
   "source": [
    "# Get GDSC base data.\n",
    "PATH_TO_SAVE_DATA_TO = '../../datasets/gdsc/my_datasets/'\n",
    "gdsc_base = pd.read_pickle(f'{PATH_TO_SAVE_DATA_TO}gdsc_base.pkl')\n",
    "print(gdsc_base.shape)\n",
    "gdsc_base.head(3)"
   ]
  },
  {
   "cell_type": "code",
   "execution_count": 15,
   "metadata": {},
   "outputs": [
    {
     "name": "stdout",
     "output_type": "stream",
     "text": [
      "\n",
      "    There are 449 different DRUG_NAME's in the GDSC base table.\n",
      "\n"
     ]
    }
   ],
   "source": [
    "uniq_drug_names = np.unique(gdsc_base.DRUG_NAME)\n",
    "print(f\"\"\"\n",
    "    There are {len(uniq_drug_names)} different DRUG_NAME's in the GDSC base table.\n",
    "\"\"\")"
   ]
  },
  {
   "cell_type": "markdown",
   "metadata": {},
   "source": [
    "The wanted dataset lies in here and the used code is taken from [this repository](https://github.com/PascalIversen/GDSC_utils/blob/main/GDSC_utils.py#L50-L105)."
   ]
  },
  {
   "cell_type": "code",
   "execution_count": 55,
   "metadata": {},
   "outputs": [
    {
     "name": "stdout",
     "output_type": "stream",
     "text": [
      "File `GDSC_compounds_inchi_key_with_smiles.csv` took 0.00802 seconds to import. \n",
      "Shape: (425, 4)\n"
     ]
    },
    {
     "data": {
      "text/html": [
       "<div>\n",
       "<style scoped>\n",
       "    .dataframe tbody tr th:only-of-type {\n",
       "        vertical-align: middle;\n",
       "    }\n",
       "\n",
       "    .dataframe tbody tr th {\n",
       "        vertical-align: top;\n",
       "    }\n",
       "\n",
       "    .dataframe thead th {\n",
       "        text-align: right;\n",
       "    }\n",
       "</style>\n",
       "<table border=\"1\" class=\"dataframe\">\n",
       "  <thead>\n",
       "    <tr style=\"text-align: right;\">\n",
       "      <th></th>\n",
       "      <th>Unnamed: 0</th>\n",
       "      <th>drug_name</th>\n",
       "      <th>inchi_key</th>\n",
       "      <th>smiles</th>\n",
       "    </tr>\n",
       "  </thead>\n",
       "  <tbody>\n",
       "    <tr>\n",
       "      <th>0</th>\n",
       "      <td>0</td>\n",
       "      <td>(5Z)-7-Oxozeaenol</td>\n",
       "      <td>NEQZWEXWOFPKOT-BYRRXHGESA-N</td>\n",
       "      <td>C[C@H]1CC=CC(=O)[C@H]([C@H](CC=Cc2cc(cc(c2C(=O...</td>\n",
       "    </tr>\n",
       "    <tr>\n",
       "      <th>1</th>\n",
       "      <td>1</td>\n",
       "      <td>5-Fluorouracil</td>\n",
       "      <td>GHASVSINZRGABV-UHFFFAOYSA-N</td>\n",
       "      <td>c1c(c(nc(n1)O)O)F</td>\n",
       "    </tr>\n",
       "    <tr>\n",
       "      <th>2</th>\n",
       "      <td>2</td>\n",
       "      <td>A-443654</td>\n",
       "      <td>YWTBGJGMTBHQTM-IBGZPJMESA-N</td>\n",
       "      <td>Cc1c2cc(ccc2n[nH]1)c1cc(cnc1)OC[C@H](Cc1c[nH]c...</td>\n",
       "    </tr>\n",
       "  </tbody>\n",
       "</table>\n",
       "</div>"
      ],
      "text/plain": [
       "   Unnamed: 0          drug_name                    inchi_key  \\\n",
       "0           0  (5Z)-7-Oxozeaenol  NEQZWEXWOFPKOT-BYRRXHGESA-N   \n",
       "1           1     5-Fluorouracil  GHASVSINZRGABV-UHFFFAOYSA-N   \n",
       "2           2           A-443654  YWTBGJGMTBHQTM-IBGZPJMESA-N   \n",
       "\n",
       "                                              smiles  \n",
       "0  C[C@H]1CC=CC(=O)[C@H]([C@H](CC=Cc2cc(cc(c2C(=O...  \n",
       "1                                  c1c(c(nc(n1)O)O)F  \n",
       "2  Cc1c2cc(ccc2n[nH]1)c1cc(cnc1)OC[C@H](Cc1c[nH]c...  "
      ]
     },
     "execution_count": 55,
     "metadata": {},
     "output_type": "execute_result"
    }
   ],
   "source": [
    "PATH_TO_GDSC_DATA = '../../datasets/gdsc/'\n",
    "SMILES_FILE = 'GDSC_compounds_inchi_key_with_smiles.csv'\n",
    "\n",
    "start = time.time()\n",
    "smiles_data = pd.read_csv(f'{PATH_TO_GDSC_DATA}{SMILES_FILE}', sep=\",\", header=0)\n",
    "print(f\"File `{SMILES_FILE}` took {time.time()-start:.5f} seconds to import. \\nShape: {smiles_data.shape}\")\n",
    "smiles_data.head(3)"
   ]
  },
  {
   "cell_type": "code",
   "execution_count": 53,
   "metadata": {},
   "outputs": [
    {
     "name": "stdout",
     "output_type": "stream",
     "text": [
      "(256,)\n"
     ]
    },
    {
     "data": {
      "text/plain": [
       "array([1, 0, 0, 1, 1, 0, 0, 0, 0, 0, 0, 0, 0, 1, 0, 0, 0, 1, 0, 0, 0, 0,\n",
       "       0, 0, 0, 0, 0, 0, 0, 1, 0, 0, 0, 1, 0, 1, 0, 0, 0, 1, 0, 0, 0, 0,\n",
       "       0, 0, 1, 0, 0, 0, 0, 0, 0, 0, 0, 0, 0, 0, 1, 0, 0, 0, 0, 0, 1, 0,\n",
       "       1, 0, 0, 0, 0, 1, 0, 1, 0, 1, 0, 0, 0, 0, 0, 1, 0, 0, 0, 0, 1, 0,\n",
       "       0, 0, 0, 0, 0, 0, 0, 0, 0, 0, 0, 0, 1, 0, 0, 0, 1, 0, 0, 1, 0, 0,\n",
       "       0, 0, 0, 0, 0, 0, 0, 0, 0, 0, 0, 1, 0, 0, 0, 0, 0, 0, 0, 0, 0, 0,\n",
       "       0, 0, 0, 0, 0, 0, 1, 0, 0, 0, 0, 0, 1, 0, 0, 0, 0, 0, 0, 0, 1, 0,\n",
       "       0, 0, 0, 0, 1, 0, 0, 0, 0, 0, 1, 0, 0, 0, 1, 0, 0, 0, 0, 0, 0, 0,\n",
       "       0, 0, 0, 0, 0, 0, 0, 1, 0, 0, 0, 0, 0, 0, 0, 0, 0, 0, 1, 0, 0, 0,\n",
       "       0, 0, 0, 1, 0, 0, 0, 0, 1, 1, 1, 0, 0, 1, 1, 0, 1, 0, 0, 0, 0, 0,\n",
       "       0, 0, 1, 0, 0, 0, 0, 0, 0, 0, 0, 0, 0, 1, 0, 0, 0, 0, 1, 0, 0, 0,\n",
       "       0, 0, 0, 0, 0, 0, 0, 0, 0, 1, 1, 0, 1, 0])"
      ]
     },
     "execution_count": 53,
     "metadata": {},
     "output_type": "execute_result"
    }
   ],
   "source": [
    "from external.gdsc_utils.GDSC_utils import get_demorgen_fingerprints\n",
    "\n",
    "# Returns a list of fingerprints or nans.\n",
    "fps = get_demorgen_fingerprints(\n",
    "    drugs=uniq_drug_names,\n",
    "    n_bits=256,\n",
    "    path_drug_smiles=f'{PATH_TO_GDSC_DATA}{SMILES_FILE}'\n",
    ")\n",
    "\n",
    "print(fps[0].shape)\n",
    "fps[0]"
   ]
  },
  {
   "cell_type": "code",
   "execution_count": 59,
   "metadata": {},
   "outputs": [
    {
     "name": "stdout",
     "output_type": "stream",
     "text": [
      "\n",
      "    Each fingerprint has a shape of (256,).\n",
      "    There are 449 unique DRUG_NAME's in the GDSC table. Each will get a fingerprint.\n",
      "    82 (18.26%) out of 449 fingerprints are None.\n",
      "        - Thus, they didn't get a fingerprint.\n",
      "        - They are None if the fingerprint is inaccessible.\n",
      "\n"
     ]
    }
   ],
   "source": [
    "print(f\"\"\"\n",
    "    Each fingerprint has a shape of {fps[0].shape}.\n",
    "    There are {len(uniq_drug_names)} unique DRUG_NAME's in the GDSC table. Each will get a fingerprint.\n",
    "    {len([fp for fp in fps if fp is None])} ({100*len([fp for fp in fps if fp is None])/len(fps):2.2f}%) out of {len(fps)} fingerprints are None.\n",
    "        - Thus, they didn't get a fingerprint.\n",
    "        - They are None if the fingerprint is inaccessible.\n",
    "\"\"\")"
   ]
  },
  {
   "cell_type": "code",
   "execution_count": 64,
   "metadata": {},
   "outputs": [],
   "source": [
    "# Append the fingerprints to the corresponding drug names. \n",
    "drug_name_fps = {uniq_drug_name: fps[i] for i, uniq_drug_name in enumerate(uniq_drug_names)}\n",
    "assert len(uniq_drug_names) == len(uniq_drug_names) == len(fps)"
   ]
  },
  {
   "cell_type": "markdown",
   "metadata": {},
   "source": [
    "Now the dictionary `drug_name_fps` consists of the following:\n",
    "- _Keys_: `DRUG_NAME`'s\n",
    "- _Values_: corresponding SMILE fingerprints"
   ]
  },
  {
   "cell_type": "code",
   "execution_count": 67,
   "metadata": {},
   "outputs": [],
   "source": [
    "# Save the DRUG_NAME - fingerprint dictionary to a file.\n",
    "import pickle \n",
    "with open(f'{PATH_TO_SAVE_DATA_TO}drug_name_fingerprints.pkl', 'wb') as f:\n",
    "    pickle.dump(drug_name_fps, f)"
   ]
  },
  {
   "cell_type": "code",
   "execution_count": 95,
   "metadata": {},
   "outputs": [],
   "source": [
    "# Test if the read works.\n",
    "with open(f'{PATH_TO_SAVE_DATA_TO}drug_name_fingerprints.pkl', 'rb') as f:\n",
    "    loaded_drug_name_fps = pickle.load(f)\n",
    "\n",
    "assert loaded_drug_name_fps.keys() == drug_name_fps.keys()\n",
    "#assert np.array_equal(loaded_drug_name_fps.values(), drug_name_fps.values())"
   ]
  },
  {
   "cell_type": "code",
   "execution_count": null,
   "metadata": {},
   "outputs": [],
   "source": []
  }
 ],
 "metadata": {
  "interpreter": {
   "hash": "c78b81650a0bd32063743affb6953ff71b1a0dba806fbca9e2db842718495748"
  },
  "kernelspec": {
   "display_name": "Python 3.10.4 ('master-thesis-log')",
   "language": "python",
   "name": "python3"
  },
  "language_info": {
   "codemirror_mode": {
    "name": "ipython",
    "version": 3
   },
   "file_extension": ".py",
   "mimetype": "text/x-python",
   "name": "python",
   "nbconvert_exporter": "python",
   "pygments_lexer": "ipython3",
   "version": "3.10.4"
  },
  "orig_nbformat": 4
 },
 "nbformat": 4,
 "nbformat_minor": 2
}
