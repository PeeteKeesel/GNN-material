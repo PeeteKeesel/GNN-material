{
 "cells": [
  {
   "cell_type": "code",
   "execution_count": 15,
   "metadata": {},
   "outputs": [],
   "source": [
    "import time\n",
    "import pickle \n",
    "import numpy as np\n",
    "import pandas as pd\n",
    "import matplotlib.pyplot as plt \n",
    "import seaborn as sns\n",
    "\n",
    "from rdkit import Chem\n",
    "from rdkit.Chem import AllChem\n",
    "\n",
    "sns.set_theme(style=\"white\")"
   ]
  },
  {
   "cell_type": "code",
   "execution_count": 6,
   "metadata": {},
   "outputs": [
    {
     "name": "stdout",
     "output_type": "stream",
     "text": [
      "# conda environments:\n",
      "#\n",
      "base                     /users/cwoest/Applications/anaconda3\n",
      "gdsctools_env            /users/cwoest/Applications/anaconda3/envs/gdsctools_env\n",
      "master-thesis-log     *  /users/cwoest/Applications/anaconda3/envs/master-thesis-log\n",
      "r-env                    /users/cwoest/Applications/anaconda3/envs/r-env\n",
      "\n",
      "\n",
      "CommandNotFoundError: Your shell has not been properly configured to use 'conda activate'.\n",
      "To initialize your shell, run\n",
      "\n",
      "    $ conda init <SHELL_NAME>\n",
      "\n",
      "Currently supported shells are:\n",
      "  - bash\n",
      "  - fish\n",
      "  - tcsh\n",
      "  - xonsh\n",
      "  - zsh\n",
      "  - powershell\n",
      "\n",
      "See 'conda init --help' for more information and options.\n",
      "\n",
      "IMPORTANT: You may need to close and restart your shell after running 'conda init'.\n",
      "\n",
      "\n"
     ]
    }
   ],
   "source": [
    "!conda env list \n",
    "!conda activate master-thesis-log"
   ]
  },
  {
   "cell_type": "markdown",
   "metadata": {},
   "source": [
    "Run the following if `rdkit` is not installed.\n",
    "```bash\n",
    "    !conda install -c rdkit rdkit\n",
    "```"
   ]
  },
  {
   "cell_type": "code",
   "execution_count": 3,
   "metadata": {},
   "outputs": [
    {
     "name": "stdout",
     "output_type": "stream",
     "text": [
      "/Users/cwoest/Documents/Academics/Data_Science_UP/master_thesis/material/GNN-material\n",
      "37474177       88 -rw-r--r--    1 cwoest           staff               41866 Apr 28 16:31 ../../datasets/gdsc/GDSC_compounds_inchi_key_with_smiles.csv\n"
     ]
    }
   ],
   "source": [
    "!pwd\n",
    "!find ../../datasets/gdsc -name '*smiles*.csv' -ls"
   ]
  },
  {
   "cell_type": "markdown",
   "metadata": {},
   "source": [
    "__Background__: \n",
    "  Conventionally, molecular fingerprints (numerical representations of molecules) are calculated through rule-based algorithms that map molecules to a sparse discrete space.\n",
    "However, these algorithms perform poorly for shallow prediction models or small datasets. To address this issue, we present SMILES Transformer. Inspired by Transformer and pre-trained language models from natural language processing, SMILES Transformer learns molecular fingerprints through unsupervised pre-training of the sequence-to-sequence language model using a huge corpus of SMILES, a text representation system for molecules.\n",
    "\n",
    "__Conclusion__: \n",
    "- fingerprint = numerical representation of molecules (via SMILES)\n",
    "- https://www.rdkit.org/docs/GettingStartedInPython.html#morgan-fingerprints-circular-fingerprints"
   ]
  },
  {
   "cell_type": "code",
   "execution_count": 4,
   "metadata": {},
   "outputs": [
    {
     "name": "stdout",
     "output_type": "stream",
     "text": [
      "(446521, 14)\n"
     ]
    },
    {
     "data": {
      "text/html": [
       "<div>\n",
       "<style scoped>\n",
       "    .dataframe tbody tr th:only-of-type {\n",
       "        vertical-align: middle;\n",
       "    }\n",
       "\n",
       "    .dataframe tbody tr th {\n",
       "        vertical-align: top;\n",
       "    }\n",
       "\n",
       "    .dataframe thead th {\n",
       "        text-align: right;\n",
       "    }\n",
       "</style>\n",
       "<table border=\"1\" class=\"dataframe\">\n",
       "  <thead>\n",
       "    <tr style=\"text-align: right;\">\n",
       "      <th></th>\n",
       "      <th>DRUG_ID</th>\n",
       "      <th>CELL_LINE_NAME</th>\n",
       "      <th>AUC</th>\n",
       "      <th>CELL_ID</th>\n",
       "      <th>LN_IC50</th>\n",
       "      <th>CONC</th>\n",
       "      <th>MASTER_CELL_ID</th>\n",
       "      <th>INTENSITY</th>\n",
       "      <th>DATASET</th>\n",
       "      <th>Z_SCORE</th>\n",
       "      <th>DRUG_NAME</th>\n",
       "      <th>RMSE</th>\n",
       "      <th>COSMIC_ID</th>\n",
       "      <th>POSITION</th>\n",
       "    </tr>\n",
       "  </thead>\n",
       "  <tbody>\n",
       "    <tr>\n",
       "      <th>0</th>\n",
       "      <td>1</td>\n",
       "      <td>MC-CAR</td>\n",
       "      <td>0.982114</td>\n",
       "      <td>3137</td>\n",
       "      <td>2.395685</td>\n",
       "      <td>2.0</td>\n",
       "      <td>49</td>\n",
       "      <td>544404</td>\n",
       "      <td>GDSC1</td>\n",
       "      <td>-0.189576</td>\n",
       "      <td>Erlotinib</td>\n",
       "      <td>0.022521</td>\n",
       "      <td>683665</td>\n",
       "      <td>14</td>\n",
       "    </tr>\n",
       "    <tr>\n",
       "      <th>9</th>\n",
       "      <td>1</td>\n",
       "      <td>ES3</td>\n",
       "      <td>0.984816</td>\n",
       "      <td>2366</td>\n",
       "      <td>3.140923</td>\n",
       "      <td>2.0</td>\n",
       "      <td>1342</td>\n",
       "      <td>404197</td>\n",
       "      <td>GDSC1</td>\n",
       "      <td>0.508635</td>\n",
       "      <td>Erlotinib</td>\n",
       "      <td>0.031840</td>\n",
       "      <td>684055</td>\n",
       "      <td>14</td>\n",
       "    </tr>\n",
       "    <tr>\n",
       "      <th>27</th>\n",
       "      <td>1</td>\n",
       "      <td>ES5</td>\n",
       "      <td>0.985693</td>\n",
       "      <td>2368</td>\n",
       "      <td>3.968757</td>\n",
       "      <td>2.0</td>\n",
       "      <td>610</td>\n",
       "      <td>797378</td>\n",
       "      <td>GDSC1</td>\n",
       "      <td>1.284229</td>\n",
       "      <td>Erlotinib</td>\n",
       "      <td>0.026052</td>\n",
       "      <td>684057</td>\n",
       "      <td>14</td>\n",
       "    </tr>\n",
       "  </tbody>\n",
       "</table>\n",
       "</div>"
      ],
      "text/plain": [
       "    DRUG_ID CELL_LINE_NAME       AUC  CELL_ID   LN_IC50  CONC  MASTER_CELL_ID  \\\n",
       "0         1         MC-CAR  0.982114     3137  2.395685   2.0              49   \n",
       "9         1            ES3  0.984816     2366  3.140923   2.0            1342   \n",
       "27        1            ES5  0.985693     2368  3.968757   2.0             610   \n",
       "\n",
       "    INTENSITY DATASET   Z_SCORE  DRUG_NAME      RMSE  COSMIC_ID  POSITION  \n",
       "0      544404   GDSC1 -0.189576  Erlotinib  0.022521     683665        14  \n",
       "9      404197   GDSC1  0.508635  Erlotinib  0.031840     684055        14  \n",
       "27     797378   GDSC1  1.284229  Erlotinib  0.026052     684057        14  "
      ]
     },
     "execution_count": 4,
     "metadata": {},
     "output_type": "execute_result"
    }
   ],
   "source": [
    "# Get GDSC base data.\n",
    "PATH_TO_SAVE_DATA_TO = '../../datasets/gdsc/my_datasets/'\n",
    "gdsc_base = pd.read_pickle(f'{PATH_TO_SAVE_DATA_TO}gdsc_base.pkl')\n",
    "print(gdsc_base.shape)\n",
    "gdsc_base.head(3)"
   ]
  },
  {
   "cell_type": "code",
   "execution_count": 5,
   "metadata": {},
   "outputs": [
    {
     "name": "stdout",
     "output_type": "stream",
     "text": [
      "\n",
      "    There are 449 different DRUG_NAME's in the GDSC base table.\n",
      "\n"
     ]
    }
   ],
   "source": [
    "uniq_drug_names = np.unique(gdsc_base.DRUG_NAME)\n",
    "print(f\"\"\"\n",
    "    There are {len(uniq_drug_names)} different DRUG_NAME's in the GDSC base table.\n",
    "\"\"\")"
   ]
  },
  {
   "cell_type": "markdown",
   "metadata": {},
   "source": [
    "The wanted dataset lies in here and the used code is taken from [this repository](https://github.com/PascalIversen/GDSC_utils/blob/main/GDSC_utils.py#L50-L105)."
   ]
  },
  {
   "cell_type": "code",
   "execution_count": 6,
   "metadata": {},
   "outputs": [
    {
     "name": "stdout",
     "output_type": "stream",
     "text": [
      "File `GDSC_compounds_inchi_key_with_smiles.csv` took 0.00821 seconds to import. \n",
      "Shape: (425, 4)\n"
     ]
    },
    {
     "data": {
      "text/html": [
       "<div>\n",
       "<style scoped>\n",
       "    .dataframe tbody tr th:only-of-type {\n",
       "        vertical-align: middle;\n",
       "    }\n",
       "\n",
       "    .dataframe tbody tr th {\n",
       "        vertical-align: top;\n",
       "    }\n",
       "\n",
       "    .dataframe thead th {\n",
       "        text-align: right;\n",
       "    }\n",
       "</style>\n",
       "<table border=\"1\" class=\"dataframe\">\n",
       "  <thead>\n",
       "    <tr style=\"text-align: right;\">\n",
       "      <th></th>\n",
       "      <th>Unnamed: 0</th>\n",
       "      <th>drug_name</th>\n",
       "      <th>inchi_key</th>\n",
       "      <th>smiles</th>\n",
       "    </tr>\n",
       "  </thead>\n",
       "  <tbody>\n",
       "    <tr>\n",
       "      <th>0</th>\n",
       "      <td>0</td>\n",
       "      <td>(5Z)-7-Oxozeaenol</td>\n",
       "      <td>NEQZWEXWOFPKOT-BYRRXHGESA-N</td>\n",
       "      <td>C[C@H]1CC=CC(=O)[C@H]([C@H](CC=Cc2cc(cc(c2C(=O...</td>\n",
       "    </tr>\n",
       "    <tr>\n",
       "      <th>1</th>\n",
       "      <td>1</td>\n",
       "      <td>5-Fluorouracil</td>\n",
       "      <td>GHASVSINZRGABV-UHFFFAOYSA-N</td>\n",
       "      <td>c1c(c(nc(n1)O)O)F</td>\n",
       "    </tr>\n",
       "    <tr>\n",
       "      <th>2</th>\n",
       "      <td>2</td>\n",
       "      <td>A-443654</td>\n",
       "      <td>YWTBGJGMTBHQTM-IBGZPJMESA-N</td>\n",
       "      <td>Cc1c2cc(ccc2n[nH]1)c1cc(cnc1)OC[C@H](Cc1c[nH]c...</td>\n",
       "    </tr>\n",
       "  </tbody>\n",
       "</table>\n",
       "</div>"
      ],
      "text/plain": [
       "   Unnamed: 0          drug_name                    inchi_key  \\\n",
       "0           0  (5Z)-7-Oxozeaenol  NEQZWEXWOFPKOT-BYRRXHGESA-N   \n",
       "1           1     5-Fluorouracil  GHASVSINZRGABV-UHFFFAOYSA-N   \n",
       "2           2           A-443654  YWTBGJGMTBHQTM-IBGZPJMESA-N   \n",
       "\n",
       "                                              smiles  \n",
       "0  C[C@H]1CC=CC(=O)[C@H]([C@H](CC=Cc2cc(cc(c2C(=O...  \n",
       "1                                  c1c(c(nc(n1)O)O)F  \n",
       "2  Cc1c2cc(ccc2n[nH]1)c1cc(cnc1)OC[C@H](Cc1c[nH]c...  "
      ]
     },
     "execution_count": 6,
     "metadata": {},
     "output_type": "execute_result"
    }
   ],
   "source": [
    "PATH_TO_GDSC_DATA = '../../datasets/gdsc/'\n",
    "SMILES_FILE = 'GDSC_compounds_inchi_key_with_smiles.csv'\n",
    "\n",
    "start = time.time()\n",
    "smiles_data = pd.read_csv(f'{PATH_TO_GDSC_DATA}{SMILES_FILE}', sep=\",\", header=0)\n",
    "print(f\"File `{SMILES_FILE}` took {time.time()-start:.5f} seconds to import. \\nShape: {smiles_data.shape}\")\n",
    "smiles_data.head(3)"
   ]
  },
  {
   "cell_type": "markdown",
   "metadata": {},
   "source": [
    "### Create De Morgan Fingerprints"
   ]
  },
  {
   "cell_type": "code",
   "execution_count": 34,
   "metadata": {},
   "outputs": [],
   "source": [
    "# TODO: This can be varied as a hyper-parameter.\n",
    "N_BITS = 256"
   ]
  },
  {
   "cell_type": "code",
   "execution_count": 9,
   "metadata": {},
   "outputs": [
    {
     "name": "stdout",
     "output_type": "stream",
     "text": [
      "(256,)\n"
     ]
    },
    {
     "data": {
      "text/plain": [
       "array([1, 0, 0, 1, 1, 0, 0, 0, 0, 0, 0, 0, 0, 1, 0, 0, 0, 1, 0, 0, 0, 0,\n",
       "       0, 0, 0, 0, 0, 0, 0, 1, 0, 0, 0, 1, 0, 1, 0, 0, 0, 1, 0, 0, 0, 0,\n",
       "       0, 0, 1, 0, 0, 0, 0, 0, 0, 0, 0, 0, 0, 0, 1, 0, 0, 0, 0, 0, 1, 0,\n",
       "       1, 0, 0, 0, 0, 1, 0, 1, 0, 1, 0, 0, 0, 0, 0, 1, 0, 0, 0, 0, 1, 0,\n",
       "       0, 0, 0, 0, 0, 0, 0, 0, 0, 0, 0, 0, 1, 0, 0, 0, 1, 0, 0, 1, 0, 0,\n",
       "       0, 0, 0, 0, 0, 0, 0, 0, 0, 0, 0, 1, 0, 0, 0, 0, 0, 0, 0, 0, 0, 0,\n",
       "       0, 0, 0, 0, 0, 0, 1, 0, 0, 0, 0, 0, 1, 0, 0, 0, 0, 0, 0, 0, 1, 0,\n",
       "       0, 0, 0, 0, 1, 0, 0, 0, 0, 0, 1, 0, 0, 0, 1, 0, 0, 0, 0, 0, 0, 0,\n",
       "       0, 0, 0, 0, 0, 0, 0, 1, 0, 0, 0, 0, 0, 0, 0, 0, 0, 0, 1, 0, 0, 0,\n",
       "       0, 0, 0, 1, 0, 0, 0, 0, 1, 1, 1, 0, 0, 1, 1, 0, 1, 0, 0, 0, 0, 0,\n",
       "       0, 0, 1, 0, 0, 0, 0, 0, 0, 0, 0, 0, 0, 1, 0, 0, 0, 0, 1, 0, 0, 0,\n",
       "       0, 0, 0, 0, 0, 0, 0, 0, 0, 1, 1, 0, 1, 0])"
      ]
     },
     "execution_count": 9,
     "metadata": {},
     "output_type": "execute_result"
    }
   ],
   "source": [
    "from external.gdsc_utils.GDSC_utils import get_demorgen_fingerprints\n",
    "\n",
    "# Returns a list of fingerprints or nans.\n",
    "fps = get_demorgen_fingerprints(drugs            = uniq_drug_names,\n",
    "                                n_bits           = N_BITS,\n",
    "                                path_drug_smiles = f'{PATH_TO_GDSC_DATA}{SMILES_FILE}')\n",
    "\n",
    "print(fps[0].shape)\n",
    "fps[0]"
   ]
  },
  {
   "cell_type": "code",
   "execution_count": 10,
   "metadata": {},
   "outputs": [
    {
     "name": "stdout",
     "output_type": "stream",
     "text": [
      "\n",
      "    Each fingerprint has a shape of (256,).\n",
      "    There are 449 unique DRUG_NAME's in the GDSC table. Each will get a fingerprint.\n",
      "    82 (18.26%) out of 449 fingerprints are None.\n",
      "        - Thus, they didn't get a fingerprint.\n",
      "        - They are None if the fingerprint is inaccessible.\n",
      "\n"
     ]
    }
   ],
   "source": [
    "print(f\"\"\"\n",
    "    Each fingerprint has a shape of {fps[0].shape}.\n",
    "    There are {len(uniq_drug_names)} unique DRUG_NAME's in the GDSC table. Each will get a fingerprint.\n",
    "    {len([fp for fp in fps if fp is None])} ({100*len([fp for fp in fps if fp is None])/len(fps):2.2f}%) out of {len(fps)} fingerprints are None.\n",
    "        - Thus, they didn't get a fingerprint.\n",
    "        - They are None if the fingerprint is inaccessible.\n",
    "\"\"\")"
   ]
  },
  {
   "cell_type": "code",
   "execution_count": 11,
   "metadata": {},
   "outputs": [],
   "source": [
    "# Append the fingerprints to the corresponding drug names. \n",
    "drug_name_fps = {uniq_drug_name: fps[i] for i, uniq_drug_name in enumerate(uniq_drug_names)}\n",
    "assert len(uniq_drug_names) == len(uniq_drug_names) == len(fps)"
   ]
  },
  {
   "cell_type": "markdown",
   "metadata": {},
   "source": [
    "This would correspond to a $449 \\times 256$ matrix. Each row containing a fingerprint for a drug."
   ]
  },
  {
   "cell_type": "markdown",
   "metadata": {},
   "source": [
    "Now the dictionary `drug_name_fps` consists of the following:\n",
    "- _Keys_: `DRUG_NAME`'s\n",
    "- _Values_: corresponding SMILE fingerprints"
   ]
  },
  {
   "cell_type": "code",
   "execution_count": 67,
   "metadata": {},
   "outputs": [],
   "source": [
    "# Save the DRUG_NAME - fingerprint dictionary to a file.\n",
    "with open(f'{PATH_TO_SAVE_DATA_TO}drug_name_fingerprints.pkl', 'wb') as f:\n",
    "    pickle.dump(drug_name_fps, f)"
   ]
  },
  {
   "cell_type": "code",
   "execution_count": 16,
   "metadata": {},
   "outputs": [],
   "source": [
    "# Test if the read works.\n",
    "with open(f'{PATH_TO_SAVE_DATA_TO}drug_name_fingerprints.pkl', 'rb') as f:\n",
    "    loaded_drug_name_fps = pickle.load(f)\n",
    "\n",
    "assert loaded_drug_name_fps.keys() == drug_name_fps.keys()\n",
    "#assert np.array_equal(loaded_drug_name_fps.values(), drug_name_fps.values())"
   ]
  },
  {
   "cell_type": "markdown",
   "metadata": {},
   "source": [
    "### Transform To DataFrame"
   ]
  },
  {
   "cell_type": "code",
   "execution_count": null,
   "metadata": {},
   "outputs": [
    {
     "name": "stdout",
     "output_type": "stream",
     "text": [
      "There are 367 drug with a non None fingerprint.\n"
     ]
    }
   ],
   "source": [
    "# Take only the drugs which have a fingerprint.\n",
    "drug_name_fps_v2 = {drug: fp for drug, fp in drug_name_fps.items() if fp is not None}\n",
    "print(f\"There are {len(drug_name_fps_v2.keys())} drug with a non None fingerprint.\")"
   ]
  },
  {
   "cell_type": "code",
   "execution_count": null,
   "metadata": {},
   "outputs": [
    {
     "name": "stdout",
     "output_type": "stream",
     "text": [
      "Drug name: (5Z)-7-Oxozeaenol\n",
      "[1 0 0 1 1 0 0 0 0 0 0 0 0 1 0 0 0 1 0 0 0 0 0 0 0 0 0 0 0 1 0 0 0 1 0 1 0\n",
      " 0 0 1 0 0 0 0 0 0 1 0 0 0 0 0 0 0 0 0 0 0 1 0 0 0 0 0 1 0 1 0 0 0 0 1 0 1\n",
      " 0 1 0 0 0 0 0 1 0 0 0 0 1 0 0 0 0 0 0 0 0 0 0 0 0 0 1 0 0 0 1 0 0 1 0 0 0\n",
      " 0 0 0 0 0 0 0 0 0 0 1 0 0 0 0 0 0 0 0 0 0 0 0 0 0 0 0 1 0 0 0 0 0 1 0 0 0\n",
      " 0 0 0 0 1 0 0 0 0 0 1 0 0 0 0 0 1 0 0 0 1 0 0 0 0 0 0 0 0 0 0 0 0 0 0 1 0\n",
      " 0 0 0 0 0 0 0 0 0 1 0 0 0 0 0 0 1 0 0 0 0 1 1 1 0 0 1 1 0 1 0 0 0 0 0 0 0\n",
      " 1 0 0 0 0 0 0 0 0 0 0 1 0 0 0 0 1 0 0 0 0 0 0 0 0 0 0 0 0 1 1 0 1 0]\n",
      "Drug name: 5-Fluorouracil\n",
      "[0 0 0 0 0 0 0 0 0 0 0 0 0 0 0 0 0 0 0 0 0 0 0 1 0 0 0 1 0 0 0 0 0 0 0 0 0\n",
      " 0 0 1 0 0 0 0 0 0 0 0 1 0 0 0 0 0 0 0 0 0 0 0 0 0 0 1 0 0 1 0 0 0 0 0 0 0\n",
      " 0 0 0 0 0 0 0 1 0 0 0 0 0 0 0 0 0 0 0 0 0 0 0 0 0 0 1 0 0 0 0 0 1 0 0 0 0\n",
      " 0 1 0 0 0 0 0 0 0 0 0 1 0 0 0 0 0 0 0 0 0 0 0 0 0 1 0 0 0 0 0 0 0 0 0 0 0\n",
      " 0 0 0 0 0 0 0 0 0 0 0 0 0 0 0 0 0 0 0 0 0 0 0 0 1 0 0 0 1 0 0 0 0 0 0 1 0\n",
      " 0 0 1 0 0 1 0 0 0 0 0 0 0 0 0 0 0 0 0 0 0 0 0 0 0 0 0 0 0 0 0 0 0 0 0 0 0\n",
      " 0 0 0 0 0 0 0 0 0 0 0 0 0 0 0 0 0 0 0 0 0 0 0 0 0 0 0 0 0 0 0 0 0 1]\n"
     ]
    }
   ],
   "source": [
    "for i, (drug_name, fp) in enumerate(drug_name_fps_v2.items()):\n",
    "    print(f\"Drug name: {drug_name}\")\n",
    "    print(drug_name_fps_v2[drug_name])\n",
    "    if i > 0: \n",
    "        break"
   ]
  },
  {
   "cell_type": "code",
   "execution_count": null,
   "metadata": {},
   "outputs": [
    {
     "name": "stdout",
     "output_type": "stream",
     "text": [
      "Shape: (367, 257)\n"
     ]
    },
    {
     "data": {
      "text/html": [
       "<div>\n",
       "<style scoped>\n",
       "    .dataframe tbody tr th:only-of-type {\n",
       "        vertical-align: middle;\n",
       "    }\n",
       "\n",
       "    .dataframe tbody tr th {\n",
       "        vertical-align: top;\n",
       "    }\n",
       "\n",
       "    .dataframe thead th {\n",
       "        text-align: right;\n",
       "    }\n",
       "</style>\n",
       "<table border=\"1\" class=\"dataframe\">\n",
       "  <thead>\n",
       "    <tr style=\"text-align: right;\">\n",
       "      <th></th>\n",
       "      <th>drug_name</th>\n",
       "      <th>0</th>\n",
       "      <th>1</th>\n",
       "      <th>2</th>\n",
       "      <th>3</th>\n",
       "      <th>4</th>\n",
       "      <th>5</th>\n",
       "      <th>6</th>\n",
       "      <th>7</th>\n",
       "      <th>8</th>\n",
       "      <th>...</th>\n",
       "      <th>246</th>\n",
       "      <th>247</th>\n",
       "      <th>248</th>\n",
       "      <th>249</th>\n",
       "      <th>250</th>\n",
       "      <th>251</th>\n",
       "      <th>252</th>\n",
       "      <th>253</th>\n",
       "      <th>254</th>\n",
       "      <th>255</th>\n",
       "    </tr>\n",
       "  </thead>\n",
       "  <tbody>\n",
       "    <tr>\n",
       "      <th>0</th>\n",
       "      <td>(5Z)-7-Oxozeaenol</td>\n",
       "      <td>1</td>\n",
       "      <td>0</td>\n",
       "      <td>0</td>\n",
       "      <td>1</td>\n",
       "      <td>1</td>\n",
       "      <td>0</td>\n",
       "      <td>0</td>\n",
       "      <td>0</td>\n",
       "      <td>0</td>\n",
       "      <td>...</td>\n",
       "      <td>0</td>\n",
       "      <td>0</td>\n",
       "      <td>0</td>\n",
       "      <td>0</td>\n",
       "      <td>0</td>\n",
       "      <td>1</td>\n",
       "      <td>1</td>\n",
       "      <td>0</td>\n",
       "      <td>1</td>\n",
       "      <td>0</td>\n",
       "    </tr>\n",
       "    <tr>\n",
       "      <th>1</th>\n",
       "      <td>5-Fluorouracil</td>\n",
       "      <td>0</td>\n",
       "      <td>0</td>\n",
       "      <td>0</td>\n",
       "      <td>0</td>\n",
       "      <td>0</td>\n",
       "      <td>0</td>\n",
       "      <td>0</td>\n",
       "      <td>0</td>\n",
       "      <td>0</td>\n",
       "      <td>...</td>\n",
       "      <td>0</td>\n",
       "      <td>0</td>\n",
       "      <td>0</td>\n",
       "      <td>0</td>\n",
       "      <td>0</td>\n",
       "      <td>0</td>\n",
       "      <td>0</td>\n",
       "      <td>0</td>\n",
       "      <td>0</td>\n",
       "      <td>1</td>\n",
       "    </tr>\n",
       "    <tr>\n",
       "      <th>2</th>\n",
       "      <td>A-443654</td>\n",
       "      <td>0</td>\n",
       "      <td>1</td>\n",
       "      <td>0</td>\n",
       "      <td>0</td>\n",
       "      <td>0</td>\n",
       "      <td>0</td>\n",
       "      <td>0</td>\n",
       "      <td>0</td>\n",
       "      <td>0</td>\n",
       "      <td>...</td>\n",
       "      <td>0</td>\n",
       "      <td>1</td>\n",
       "      <td>0</td>\n",
       "      <td>0</td>\n",
       "      <td>0</td>\n",
       "      <td>0</td>\n",
       "      <td>0</td>\n",
       "      <td>0</td>\n",
       "      <td>0</td>\n",
       "      <td>1</td>\n",
       "    </tr>\n",
       "    <tr>\n",
       "      <th>3</th>\n",
       "      <td>A-770041</td>\n",
       "      <td>1</td>\n",
       "      <td>1</td>\n",
       "      <td>0</td>\n",
       "      <td>0</td>\n",
       "      <td>0</td>\n",
       "      <td>1</td>\n",
       "      <td>0</td>\n",
       "      <td>0</td>\n",
       "      <td>0</td>\n",
       "      <td>...</td>\n",
       "      <td>0</td>\n",
       "      <td>0</td>\n",
       "      <td>0</td>\n",
       "      <td>1</td>\n",
       "      <td>0</td>\n",
       "      <td>1</td>\n",
       "      <td>0</td>\n",
       "      <td>0</td>\n",
       "      <td>0</td>\n",
       "      <td>0</td>\n",
       "    </tr>\n",
       "    <tr>\n",
       "      <th>4</th>\n",
       "      <td>A-83-01</td>\n",
       "      <td>0</td>\n",
       "      <td>0</td>\n",
       "      <td>0</td>\n",
       "      <td>1</td>\n",
       "      <td>1</td>\n",
       "      <td>0</td>\n",
       "      <td>0</td>\n",
       "      <td>0</td>\n",
       "      <td>0</td>\n",
       "      <td>...</td>\n",
       "      <td>0</td>\n",
       "      <td>1</td>\n",
       "      <td>0</td>\n",
       "      <td>0</td>\n",
       "      <td>0</td>\n",
       "      <td>0</td>\n",
       "      <td>0</td>\n",
       "      <td>0</td>\n",
       "      <td>0</td>\n",
       "      <td>0</td>\n",
       "    </tr>\n",
       "  </tbody>\n",
       "</table>\n",
       "<p>5 rows × 257 columns</p>\n",
       "</div>"
      ],
      "text/plain": [
       "           drug_name  0  1  2  3  4  5  6  7  8  ...  246  247  248  249  250  \\\n",
       "0  (5Z)-7-Oxozeaenol  1  0  0  1  1  0  0  0  0  ...    0    0    0    0    0   \n",
       "1     5-Fluorouracil  0  0  0  0  0  0  0  0  0  ...    0    0    0    0    0   \n",
       "2           A-443654  0  1  0  0  0  0  0  0  0  ...    0    1    0    0    0   \n",
       "3           A-770041  1  1  0  0  0  1  0  0  0  ...    0    0    0    1    0   \n",
       "4            A-83-01  0  0  0  1  1  0  0  0  0  ...    0    1    0    0    0   \n",
       "\n",
       "   251  252  253  254  255  \n",
       "0    1    1    0    1    0  \n",
       "1    0    0    0    0    1  \n",
       "2    0    0    0    0    1  \n",
       "3    1    0    0    0    0  \n",
       "4    0    0    0    0    0  \n",
       "\n",
       "[5 rows x 257 columns]"
      ]
     },
     "metadata": {},
     "output_type": "display_data"
    }
   ],
   "source": [
    "drug_name_fps_df = pd.DataFrame.from_dict(drug_name_fps_v2, orient='index').rename_axis('drug_name').reset_index()\n",
    "print(f\"Shape: {drug_name_fps_df.shape}\")\n",
    "drug_name_fps_df.head(5)"
   ]
  },
  {
   "cell_type": "code",
   "execution_count": 60,
   "metadata": {},
   "outputs": [],
   "source": [
    "# Save dataframe.\n",
    "with open(f'{PATH_TO_SAVE_DATA_TO}drug_name_fingerprints_dataframe.pkl', 'wb') as f:\n",
    "    pickle.dump(drug_name_fps_df, f)"
   ]
  },
  {
   "cell_type": "markdown",
   "metadata": {},
   "source": [
    "- 1st column: unique drug name which has a non None fingerprint\n",
    "- Rows: fingerprints per drug-name\n",
    "- Columns: drug name + column for each of the 256 bits of the fingerprint\n",
    "- Final Shape: (367, 257)"
   ]
  },
  {
   "cell_type": "markdown",
   "metadata": {},
   "source": [
    "---\n",
    "\n",
    "# Ideas For Molecular Encoders\n",
    "\n",
    "Which molecular encoders can be used to represent drugs via molecules? \n",
    "\n",
    "- [Uniform graph convolutional network (UGCN)](https://watermark.silverchair.com/btaa822.pdf?token=AQECAHi208BE49Ooan9kkhW_Ercy7Dm3ZL_9Cf3qfKAc485ysgAAAvUwggLxBgkqhkiG9w0BBwagggLiMIIC3gIBADCCAtcGCSqGSIb3DQEHATAeBglghkgBZQMEAS4wEQQMhe8Xk6GEgEcX0QaGAgEQgIICqLK3TSZXgAet8ktRILuaRtU-o4b_3Y1WUmbEvuZVvvTNSz9KR7FC5NUjAUJo8XJH0EOzYXj1ZgARvTOY32fWr3yLDUBpH1moa0EVAy2gLDXMz1mIJpXmNmn156RxSWR6wmTGVQUvHKT2_k8K-cj1hetzTpUKLWlAlCZz9t-EYOiEYkJhRiYr7ob7IOOM9HpR-ba4-mwc-zNpBY1Wd1tgXk6CTHyv1SyCErZELB6wQKn9e-NbAPgda8Lxk82EVn6GPi5dKc2cSKUAAa052dF_hso3ys8JFxHUZEbyOJuzjEje7xNFf-mAyUJ-GJLapWRdj2VK9JMr4ec8KMLdtuMeeVYC9b4MkPEhny20Z7ym7MO11Yg-zl-A8HZkxx9V-CW7G1O43R1JNYJfiChDa6tmoYnvl05opceZF_0dBE7DZzG4PKM5tjhZOds2o2DE6iK8HShvZmZ4NR50V5i_1NQtz5zv4A_IJIQtnmjy2e6BJZSlMI_2WhPkorz6Gn_ZmCfFVzgzxF4bpE3qWIB1ybpw2OzCOtrXwBsaYcY9_5h_ATBw1Ttk0lalBJRFEf31R-UyNLFm1G8iist5vi2-a8JwwXrmFvhKfbe9nkI3dR_NyLjXbEumlbaRq_NcmJCAbRSKhR7MbfCdWOVcKtHKubhOP2vX-IUQYOtZBZF7c67Gg4T5N7hUvDvrs2XIvG4EhJBA1frhiGxhp81fSxt7A-XseCToHLS7mfqGWU5YoBhkd3ECJSvRRqJ-rp8cVGb5xw1UnQI6FBpHQlWx59jy1tBiHiXH-KYjtNn7jWkFBW9o6DaRUHe8Vm7MOydFUK2MLtglVVW2ascdzKXo32qdYfG_hI9WxipUDrVq1CnqrD8N5gOMdKEGmzfcXwGENLUjjQvHCvdi1R7uswvn) \n",
    "  - for drug representation based on the chemical structure of drugs\n",
    "  - for novel feature extreaction of drugs\n",
    "  - can automatically capture drug structures by considering the interactions among atoms within a compound\n",
    "- [SMILES](https://de.wikipedia.org/wiki/Simplified_Molecular_Input_Line_Entry_Specification) \n",
    "  - string-based features\n",
    "- [molecular fingerprints](https://towardsdatascience.com/a-practical-introduction-to-the-use-of-molecular-fingerprints-in-drug-discovery-7f15021be2b1)\n",
    "  - hand-crafted features"
   ]
  },
  {
   "cell_type": "markdown",
   "metadata": {},
   "source": [
    "---\n",
    "\n",
    "## Other Approaches Of Drug Representation"
   ]
  },
  {
   "cell_type": "code",
   "execution_count": null,
   "metadata": {},
   "outputs": [
    {
     "name": "stdout",
     "output_type": "stream",
     "text": [
      "<class 'rdkit.Chem.rdchem.Mol'>\n"
     ]
    },
    {
     "data": {
      "image/png": "[encoded data removed]",
      "text/plain": [
       "<rdkit.Chem.rdchem.Mol at 0x127236d40>"
      ]
     },
     "metadata": {},
     "output_type": "display_data"
    }
   ],
   "source": [
    "from rdkit import Chem\n",
    "\n",
    "m = Chem.MolFromSmiles('c1c(c(nc(n1)O)O)F')\n",
    "print(type(m))\n",
    "m"
   ]
  },
  {
   "cell_type": "code",
   "execution_count": null,
   "metadata": {},
   "outputs": [
    {
     "name": "stderr",
     "output_type": "stream",
     "text": [
      "Downloading https://www.chrsmrrs.com/graphkerneldatasets/PROTEINS.zip\n",
      "Extracting ./PROTEINS/PROTEINS.zip\n",
      "Processing...\n",
      "Done!\n"
     ]
    },
    {
     "data": {
      "text/plain": [
       "PROTEINS(1113)"
      ]
     },
     "metadata": {},
     "output_type": "display_data"
    }
   ],
   "source": [
    "from torch_geometric.datasets import TUDataset\n",
    "\n",
    "dataset = TUDataset(root='.', name='PROTEINS').shuffle()\n",
    "dataset"
   ]
  },
  {
   "cell_type": "code",
   "execution_count": null,
   "metadata": {},
   "outputs": [
    {
     "name": "stdout",
     "output_type": "stream",
     "text": [
      "Training set   = 890 graphs\n",
      "Validation set = 111 graphs\n",
      "Test set       = 112 graphs\n",
      "\n",
      "Train loader:\n",
      " - Subgraph 0: DataBatch(edge_index=[2, 10130], x=[2786, 3], y=[64], batch=[2786], ptr=[65])\n",
      " - Subgraph 1: DataBatch(edge_index=[2, 9128], x=[2496, 3], y=[64], batch=[2496], ptr=[65])\n",
      " - Subgraph 2: DataBatch(edge_index=[2, 8520], x=[2231, 3], y=[64], batch=[2231], ptr=[65])\n",
      " - Subgraph 3: DataBatch(edge_index=[2, 10192], x=[2763, 3], y=[64], batch=[2763], ptr=[65])\n",
      " - Subgraph 4: DataBatch(edge_index=[2, 8774], x=[2419, 3], y=[64], batch=[2419], ptr=[65])\n",
      " - Subgraph 5: DataBatch(edge_index=[2, 10080], x=[2626, 3], y=[64], batch=[2626], ptr=[65])\n",
      " - Subgraph 6: DataBatch(edge_index=[2, 9420], x=[2549, 3], y=[64], batch=[2549], ptr=[65])\n",
      " - Subgraph 7: DataBatch(edge_index=[2, 8584], x=[2310, 3], y=[64], batch=[2310], ptr=[65])\n",
      " - Subgraph 8: DataBatch(edge_index=[2, 9400], x=[2573, 3], y=[64], batch=[2573], ptr=[65])\n",
      " - Subgraph 9: DataBatch(edge_index=[2, 8816], x=[2281, 3], y=[64], batch=[2281], ptr=[65])\n",
      " - Subgraph 10: DataBatch(edge_index=[2, 8938], x=[2362, 3], y=[64], batch=[2362], ptr=[65])\n",
      " - Subgraph 11: DataBatch(edge_index=[2, 9182], x=[2468, 3], y=[64], batch=[2468], ptr=[65])\n",
      " - Subgraph 12: DataBatch(edge_index=[2, 9300], x=[2515, 3], y=[64], batch=[2515], ptr=[65])\n",
      " - Subgraph 13: DataBatch(edge_index=[2, 7422], x=[1891, 3], y=[58], batch=[1891], ptr=[59])\n"
     ]
    }
   ],
   "source": [
    "from torch_geometric.loader import DataLoader\n",
    "\n",
    "# Create training, validation, and test sets\n",
    "train_dataset = dataset[:int(len(dataset)*0.8)]\n",
    "val_dataset   = dataset[int(len(dataset)*0.8):int(len(dataset)*0.9)]\n",
    "test_dataset  = dataset[int(len(dataset)*0.9):]\n",
    "\n",
    "print(f'Training set   = {len(train_dataset)} graphs')\n",
    "print(f'Validation set = {len(val_dataset)} graphs')\n",
    "print(f'Test set       = {len(test_dataset)} graphs')\n",
    "\n",
    "# Create mini-batches\n",
    "train_loader = DataLoader(train_dataset, batch_size=64, shuffle=True)\n",
    "\n",
    "print('\\nTrain loader:')\n",
    "for i, subgraph in enumerate(train_loader):\n",
    "    print(f' - Subgraph {i}: {subgraph}')"
   ]
  },
  {
   "cell_type": "code",
   "execution_count": null,
   "metadata": {},
   "outputs": [
    {
     "data": {
      "text/plain": [
       "PROTEINS(890)"
      ]
     },
     "metadata": {},
     "output_type": "display_data"
    }
   ],
   "source": [
    "train_dataset"
   ]
  },
  {
   "cell_type": "code",
   "execution_count": null,
   "metadata": {},
   "outputs": [
    {
     "name": "stdout",
     "output_type": "stream",
     "text": [
      "DataBatch(edge_index=[2, 8126], x=[2106, 3], y=[64], batch=[2106], ptr=[65])\n",
      "tensor([1, 0, 0, 0, 1, 0, 0, 0, 0, 1, 0, 0, 0, 0, 0, 0, 0, 1, 1, 0, 0, 0, 0, 0,\n",
      "        1, 1, 1, 0, 1, 0, 0, 1, 0, 0, 1, 0, 0, 0, 0, 0, 1, 1, 0, 0, 1, 1, 1, 1,\n",
      "        0, 0, 0, 1, 1, 0, 0, 0, 0, 0, 0, 1, 1, 0, 1, 0])\n"
     ]
    }
   ],
   "source": [
    "for data in train_loader:\n",
    "    print(data)\n",
    "    print(data.y)\n",
    "    break\n"
   ]
  },
  {
   "cell_type": "code",
   "execution_count": null,
   "metadata": {},
   "outputs": [],
   "source": []
  }
 ],
 "metadata": {
  "interpreter": {
   "hash": "c78b81650a0bd32063743affb6953ff71b1a0dba806fbca9e2db842718495748"
  },
  "kernelspec": {
   "display_name": "Python 3.10.4 ('master-thesis-log')",
   "language": "python",
   "name": "python3"
  },
  "language_info": {
   "codemirror_mode": {
    "name": "ipython",
    "version": 3
   },
   "file_extension": ".py",
   "mimetype": "text/x-python",
   "name": "python",
   "nbconvert_exporter": "python",
   "pygments_lexer": "ipython3",
   "version": "3.10.4"
  },
  "orig_nbformat": 4
 },
 "nbformat": 4,
 "nbformat_minor": 2
}
