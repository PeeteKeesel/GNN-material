{
 "cells": [
  {
   "cell_type": "code",
   "execution_count": 7,
   "metadata": {},
   "outputs": [],
   "source": [
    "%reset"
   ]
  },
  {
   "cell_type": "code",
   "execution_count": 126,
   "metadata": {},
   "outputs": [
    {
     "name": "stdout",
     "output_type": "stream",
     "text": [
      "1.11.0\n",
      "False\n"
     ]
    }
   ],
   "source": [
    "import sys\n",
    "import time\n",
    "import os\n",
    "import copy\n",
    "import gzip\n",
    "import pickle\n",
    "import numpy as np\n",
    "import pandas as pd\n",
    "import matplotlib.pyplot as plt \n",
    "import seaborn as sns\n",
    "import torch\n",
    "import torch.nn as nn\n",
    "\n",
    "from io import BytesIO\n",
    "from time import sleep \n",
    "from tqdm import tqdm\n",
    "from torch_geometric.data import Data\n",
    "from torch_geometric.utils import to_undirected\n",
    "\n",
    "from config import PATH_TO_FEATURES\n",
    "\n",
    "PATH_TO_LINKING_DATA = '../../datasets/string/'\n",
    "PATH_TO_SAVE_DATA_TO = '../../datasets/string/my_datasets/'\n",
    "\n",
    "PROTEIN_LINKS_FILE = '9606.protein.links.detailed.v11.5.txt.gz'\n",
    "PROTEIN_INFO_FILE = '9606.protein.info.v11.5.txt.gz'\n",
    "\n",
    "sns.set_theme(style=\"white\")\n",
    "\n",
    "print(torch.__version__)\n",
    "print(torch.cuda.is_available())"
   ]
  },
  {
   "cell_type": "markdown",
   "metadata": {},
   "source": [
    "# Build a More Sparser Graph\n",
    "\n",
    "The every single graph in the current set of graphs lying in `../../datasets/datasets_for_model_building/cl_graphs_as_dict.pkl` has the topology \n",
    "```python \n",
    "  Data(x=[858, 4], edge_index=[2, 83126])\n",
    "```\n",
    "which means it has 83,126 connection __per graph__. On average each node had 97 neighbors. This is way too much and has the reason that we took all the connection found in the protein-linking dataset, independent of their `combined_score` column value. In this notebook we will use the same approach as in `07_v1_get_linking_dataset.ipynb` but instead of using all found connection __we will only use connection which exceed a specified combined score threshold__.\n",
    "\n",
    "_Objective_: The objective of this notebook is to bring the number of connection 83,126 significantly down. Therefore, bring the average of neighbors per node in the graph down (was 97 on average).\n",
    "\n",
    "_Approach_: Use the `combined_score` column in the protein-interaction dataset.\n",
    "\n",
    "_TODOs_: \n",
    "- [ ] incorporate the `combined_score` column\n",
    "- [ ] decrease the number of connection to a number significantly smaller than 83,126\n",
    "- [ ] decrease the average number of neighbors per node to a number significantly smaller then 97"
   ]
  },
  {
   "cell_type": "markdown",
   "metadata": {},
   "source": [
    "### Helper Methods"
   ]
  },
  {
   "cell_type": "code",
   "execution_count": 20,
   "metadata": {},
   "outputs": [],
   "source": [
    "def read_protein_links(path: str):\n",
    "    contents = gzip.open(path, \"rb\").read()\n",
    "    data = BytesIO(contents)\n",
    "    protein_links_v1 = pd.read_csv(data, sep=' ')\n",
    "\n",
    "    # Exclude the Homo Sapiens taxonomy ID from the protein columns.\n",
    "    protein_links_v2 = protein_links_v1.copy()\n",
    "    protein_links_v2.protein1 = protein_links_v2.protein1.str[5:]\n",
    "    protein_links_v2.protein2 = protein_links_v2.protein2.str[5:]\n",
    "\n",
    "    return protein_links_v2\n",
    "\n",
    "def read_protein_info(path: str):\n",
    "    contents = gzip.open(path, \"rb\").read()\n",
    "    data = BytesIO(contents)\n",
    "    protein_info_v1 = pd.read_csv(data, sep='\\t')\n",
    "    protein_info_v2 = protein_info_v1.rename(columns={'#string_protein_id': 'string_protein_id'}, inplace=False)\n",
    "\n",
    "    # Exclude the Homo Sapiens taxonomy ID from the protein columns.\n",
    "    protein_info_v2.string_protein_id = protein_info_v2.string_protein_id.str[5:]\n",
    "\n",
    "    return protein_info_v2\n",
    "\n",
    "def combine_protein_links_with_info(links: pd.DataFrame, infos: pd.DataFrame):\n",
    "    \"\"\"\n",
    "    Maps the corresponding gene symbols to the proteins in the protein link dataset.\n",
    "\n",
    "    Args:\n",
    "        links (pd.DataFrame): DataFrame containing at least the columns `protein1` and `protein2`.\n",
    "        infos (pd.DataFrame): DataFrame containing at least the columns `string_protein_id` and `preferred_name`.\n",
    "    Returns:\n",
    "        (pd.DataFrame): DataFrame containing the corresponding `gene_symbol` per `protein1` and `protein2`.\n",
    "    \"\"\"\n",
    "    # Get the gene symbols for the protein1 column.\n",
    "    res = links.merge(right    = infos[['string_protein_id', 'preferred_name']],\n",
    "                      how      = 'left',\n",
    "                      left_on  = 'protein1',\n",
    "                      right_on = 'string_protein_id')\n",
    "    res.rename(columns={'preferred_name': 'gene_symbol1'}, inplace=True)\n",
    "    res.drop(['string_protein_id'], axis=1, inplace=True)\n",
    "\n",
    "    # Get the gene symbols for the protein2 column.\n",
    "    res = res.merge(right    = infos[['string_protein_id', 'preferred_name']],\n",
    "                    how      = 'left',\n",
    "                    left_on  = 'protein2',\n",
    "                    right_on = 'string_protein_id')\n",
    "    res.rename(columns={'preferred_name': 'gene_symbol2'}, inplace=True)\n",
    "    res.drop(['string_protein_id'], axis=1, inplace=True)\n",
    "\n",
    "    # Drop all rows where the gene symbol has not been found.\n",
    "    res.dropna(subset=['gene_symbol1', 'gene_symbol2'], inplace=True)\n",
    "\n",
    "    assert not res[['gene_symbol1', 'gene_symbol2']].isna().sum().any(),\\\n",
    "        \"Some gene_symbol columns are missing!\"\n",
    "\n",
    "    return res    "
   ]
  },
  {
   "cell_type": "markdown",
   "metadata": {},
   "source": [
    "## Load Protein Link Dataset"
   ]
  },
  {
   "cell_type": "code",
   "execution_count": 3,
   "metadata": {},
   "outputs": [
    {
     "name": "stdout",
     "output_type": "stream",
     "text": [
      "(11938498, 10)\n"
     ]
    },
    {
     "data": {
      "text/html": [
       "<div>\n",
       "<style scoped>\n",
       "    .dataframe tbody tr th:only-of-type {\n",
       "        vertical-align: middle;\n",
       "    }\n",
       "\n",
       "    .dataframe tbody tr th {\n",
       "        vertical-align: top;\n",
       "    }\n",
       "\n",
       "    .dataframe thead th {\n",
       "        text-align: right;\n",
       "    }\n",
       "</style>\n",
       "<table border=\"1\" class=\"dataframe\">\n",
       "  <thead>\n",
       "    <tr style=\"text-align: right;\">\n",
       "      <th></th>\n",
       "      <th>protein1</th>\n",
       "      <th>protein2</th>\n",
       "      <th>neighborhood</th>\n",
       "      <th>fusion</th>\n",
       "      <th>cooccurence</th>\n",
       "      <th>coexpression</th>\n",
       "      <th>experimental</th>\n",
       "      <th>database</th>\n",
       "      <th>textmining</th>\n",
       "      <th>combined_score</th>\n",
       "    </tr>\n",
       "  </thead>\n",
       "  <tbody>\n",
       "    <tr>\n",
       "      <th>0</th>\n",
       "      <td>ENSP00000000233</td>\n",
       "      <td>ENSP00000379496</td>\n",
       "      <td>0</td>\n",
       "      <td>0</td>\n",
       "      <td>0</td>\n",
       "      <td>54</td>\n",
       "      <td>0</td>\n",
       "      <td>0</td>\n",
       "      <td>144</td>\n",
       "      <td>155</td>\n",
       "    </tr>\n",
       "    <tr>\n",
       "      <th>1</th>\n",
       "      <td>ENSP00000000233</td>\n",
       "      <td>ENSP00000314067</td>\n",
       "      <td>0</td>\n",
       "      <td>0</td>\n",
       "      <td>0</td>\n",
       "      <td>0</td>\n",
       "      <td>180</td>\n",
       "      <td>0</td>\n",
       "      <td>61</td>\n",
       "      <td>197</td>\n",
       "    </tr>\n",
       "    <tr>\n",
       "      <th>2</th>\n",
       "      <td>ENSP00000000233</td>\n",
       "      <td>ENSP00000263116</td>\n",
       "      <td>0</td>\n",
       "      <td>0</td>\n",
       "      <td>0</td>\n",
       "      <td>62</td>\n",
       "      <td>152</td>\n",
       "      <td>0</td>\n",
       "      <td>101</td>\n",
       "      <td>222</td>\n",
       "    </tr>\n",
       "  </tbody>\n",
       "</table>\n",
       "</div>"
      ],
      "text/plain": [
       "          protein1         protein2  neighborhood  fusion  cooccurence  \\\n",
       "0  ENSP00000000233  ENSP00000379496             0       0            0   \n",
       "1  ENSP00000000233  ENSP00000314067             0       0            0   \n",
       "2  ENSP00000000233  ENSP00000263116             0       0            0   \n",
       "\n",
       "   coexpression  experimental  database  textmining  combined_score  \n",
       "0            54             0         0         144             155  \n",
       "1             0           180         0          61             197  \n",
       "2            62           152         0         101             222  "
      ]
     },
     "execution_count": 3,
     "metadata": {},
     "output_type": "execute_result"
    }
   ],
   "source": [
    "protein_links = read_protein_links(f'{PATH_TO_LINKING_DATA}{PROTEIN_LINKS_FILE}')\n",
    "print(protein_links.shape)\n",
    "protein_links.head(3)"
   ]
  },
  {
   "cell_type": "markdown",
   "metadata": {},
   "source": [
    "- there are 11,938,498 protein-protein connections in the given dataset\n",
    "- each connection row contains a `combined_score` value"
   ]
  },
  {
   "cell_type": "code",
   "execution_count": 4,
   "metadata": {},
   "outputs": [
    {
     "name": "stdout",
     "output_type": "stream",
     "text": [
      "      coexpression textmining combined_score\n",
      "count     11938498   11938498       11938498\n",
      "mean            62        180            280\n",
      "std             97        153            167\n",
      "min              0          0            150\n",
      "25%              0         67            175\n",
      "50%             54        161            216\n",
      "75%             76        241            309\n",
      "max            999        997            999\n"
     ]
    },
    {
     "data": {
      "image/png": "[encoded data removed]",
      "text/plain": [
       "<Figure size 432x288 with 1 Axes>"
      ]
     },
     "metadata": {},
     "output_type": "display_data"
    }
   ],
   "source": [
    "print(protein_links[['coexpression', 'textmining', 'combined_score']].describe().apply(lambda s: s.apply('{0:.0f}'.format)))\n",
    "protein_links[['coexpression', 'textmining', 'combined_score']].boxplot(showfliers=False);"
   ]
  },
  {
   "cell_type": "markdown",
   "metadata": {},
   "source": [
    "- the `combined_score` column seems to lie in $[150, 999]$\n",
    "\n",
    "Let's get an overview of how many percentage of the dataset would be deleted when we chose specific thresholds for the `combined_score`."
   ]
  },
  {
   "cell_type": "code",
   "execution_count": 5,
   "metadata": {},
   "outputs": [
    {
     "name": "stdout",
     "output_type": "stream",
     "text": [
      "Out of 11938498 rows...\n",
      "  for 200 threshold    6969260 would remain and    4969238 (41.62%) would get removed.\n",
      "  for 250 threshold    4628886 would remain and    7309612 (61.23%) would get removed.\n",
      "  for 300 threshold    3193022 would remain and    8745476 (73.25%) would get removed.\n",
      "  for 350 threshold    2329706 would remain and    9608792 (80.49%) would get removed.\n",
      "  for 400 threshold    1795134 would remain and   10143364 (84.96%) would get removed.\n",
      "  for 450 threshold    1427778 would remain and   10510720 (88.04%) would get removed.\n",
      "  for 500 threshold    1149772 would remain and   10788726 (90.37%) would get removed.\n",
      "  for 550 threshold     951666 would remain and   10986832 (92.03%) would get removed.\n",
      "  for 600 threshold     809380 would remain and   11129118 (93.22%) would get removed.\n",
      "  for 650 threshold     630798 would remain and   11307700 (94.72%) would get removed.\n",
      "  for 700 threshold     505968 would remain and   11432530 (95.76%) would get removed.\n",
      "  for 750 threshold     420606 would remain and   11517892 (96.48%) would get removed.\n",
      "  for 800 threshold     360782 would remain and   11577716 (96.98%) would get removed.\n",
      "  for 850 threshold     295902 would remain and   11642596 (97.52%) would get removed.\n",
      "  for 900 threshold     247200 would remain and   11691298 (97.93%) would get removed.\n",
      "  for 950 threshold     111842 would remain and   11826656 (99.06%) would get removed.\n"
     ]
    }
   ],
   "source": [
    "threshs = np.arange(200, 951, 50)\n",
    "before = protein_links.shape[0]\n",
    "print(f\"Out of {before} rows...\")\n",
    "for thresh in threshs:\n",
    "    after = protein_links[protein_links.combined_score < thresh].shape[0]\n",
    "    print(f\"  for {thresh:3.0f} threshold {before-after:10.0f} would remain and {after:10.0f} ({100*after/before:05.2f}%) would get removed.\")"
   ]
  },
  {
   "cell_type": "markdown",
   "metadata": {},
   "source": [
    "## Load Protein Info Dataset"
   ]
  },
  {
   "cell_type": "code",
   "execution_count": 6,
   "metadata": {},
   "outputs": [
    {
     "name": "stdout",
     "output_type": "stream",
     "text": [
      "(19566, 4)\n",
      "There are 19563 unique gene symbols in `preferred_name`.\n"
     ]
    },
    {
     "data": {
      "text/html": [
       "<div>\n",
       "<style scoped>\n",
       "    .dataframe tbody tr th:only-of-type {\n",
       "        vertical-align: middle;\n",
       "    }\n",
       "\n",
       "    .dataframe tbody tr th {\n",
       "        vertical-align: top;\n",
       "    }\n",
       "\n",
       "    .dataframe thead th {\n",
       "        text-align: right;\n",
       "    }\n",
       "</style>\n",
       "<table border=\"1\" class=\"dataframe\">\n",
       "  <thead>\n",
       "    <tr style=\"text-align: right;\">\n",
       "      <th></th>\n",
       "      <th>string_protein_id</th>\n",
       "      <th>preferred_name</th>\n",
       "      <th>protein_size</th>\n",
       "      <th>annotation</th>\n",
       "    </tr>\n",
       "  </thead>\n",
       "  <tbody>\n",
       "    <tr>\n",
       "      <th>0</th>\n",
       "      <td>ENSP00000000233</td>\n",
       "      <td>ARF5</td>\n",
       "      <td>180</td>\n",
       "      <td>ADP-ribosylation factor 5; GTP-binding protein...</td>\n",
       "    </tr>\n",
       "    <tr>\n",
       "      <th>1</th>\n",
       "      <td>ENSP00000000412</td>\n",
       "      <td>M6PR</td>\n",
       "      <td>277</td>\n",
       "      <td>Cation-dependent mannose-6-phosphate receptor;...</td>\n",
       "    </tr>\n",
       "    <tr>\n",
       "      <th>2</th>\n",
       "      <td>ENSP00000001008</td>\n",
       "      <td>FKBP4</td>\n",
       "      <td>459</td>\n",
       "      <td>Peptidyl-prolyl cis-trans isomerase FKBP4; Imm...</td>\n",
       "    </tr>\n",
       "  </tbody>\n",
       "</table>\n",
       "</div>"
      ],
      "text/plain": [
       "  string_protein_id preferred_name  protein_size  \\\n",
       "0   ENSP00000000233           ARF5           180   \n",
       "1   ENSP00000000412           M6PR           277   \n",
       "2   ENSP00000001008          FKBP4           459   \n",
       "\n",
       "                                          annotation  \n",
       "0  ADP-ribosylation factor 5; GTP-binding protein...  \n",
       "1  Cation-dependent mannose-6-phosphate receptor;...  \n",
       "2  Peptidyl-prolyl cis-trans isomerase FKBP4; Imm...  "
      ]
     },
     "execution_count": 6,
     "metadata": {},
     "output_type": "execute_result"
    }
   ],
   "source": [
    "protein_infos_v0 = read_protein_info(f'{PATH_TO_LINKING_DATA}{PROTEIN_INFO_FILE}')\n",
    "print(protein_infos_v0.shape)\n",
    "print(f\"There are {len(protein_infos_v0.preferred_name.unique())} unique gene symbols in `preferred_name`.\")\n",
    "protein_infos_v0.head(3)"
   ]
  },
  {
   "cell_type": "markdown",
   "metadata": {},
   "source": [
    "- this dataset gives us the gene symbol for each protein ID.\n",
    "- some `preferred_name` (gene symbols) occur more then one time"
   ]
  },
  {
   "cell_type": "code",
   "execution_count": 7,
   "metadata": {},
   "outputs": [
    {
     "data": {
      "text/html": [
       "<div>\n",
       "<style scoped>\n",
       "    .dataframe tbody tr th:only-of-type {\n",
       "        vertical-align: middle;\n",
       "    }\n",
       "\n",
       "    .dataframe tbody tr th {\n",
       "        vertical-align: top;\n",
       "    }\n",
       "\n",
       "    .dataframe thead th {\n",
       "        text-align: right;\n",
       "    }\n",
       "</style>\n",
       "<table border=\"1\" class=\"dataframe\">\n",
       "  <thead>\n",
       "    <tr style=\"text-align: right;\">\n",
       "      <th></th>\n",
       "      <th>preferred_name</th>\n",
       "      <th>freq</th>\n",
       "    </tr>\n",
       "  </thead>\n",
       "  <tbody>\n",
       "    <tr>\n",
       "      <th>5100</th>\n",
       "      <td>ENSG00000205457</td>\n",
       "      <td>2</td>\n",
       "    </tr>\n",
       "    <tr>\n",
       "      <th>5106</th>\n",
       "      <td>ENSG00000229117</td>\n",
       "      <td>2</td>\n",
       "    </tr>\n",
       "    <tr>\n",
       "      <th>5243</th>\n",
       "      <td>ENSG00000268221</td>\n",
       "      <td>2</td>\n",
       "    </tr>\n",
       "  </tbody>\n",
       "</table>\n",
       "</div>"
      ],
      "text/plain": [
       "       preferred_name  freq\n",
       "5100  ENSG00000205457     2\n",
       "5106  ENSG00000229117     2\n",
       "5243  ENSG00000268221     2"
      ]
     },
     "execution_count": 7,
     "metadata": {},
     "output_type": "execute_result"
    }
   ],
   "source": [
    "freq_per_gene = protein_infos_v0.groupby(['preferred_name']).size().reset_index(name='freq', inplace=False).sort_values(['freq'], ascending=False)\n",
    "freq_per_gene[freq_per_gene.freq>1]"
   ]
  },
  {
   "cell_type": "markdown",
   "metadata": {},
   "source": [
    "We will remove the gene symbols which frequency higher then one"
   ]
  },
  {
   "cell_type": "code",
   "execution_count": 8,
   "metadata": {},
   "outputs": [
    {
     "name": "stdout",
     "output_type": "stream",
     "text": [
      "(19560, 4)\n"
     ]
    },
    {
     "data": {
      "text/html": [
       "<div>\n",
       "<style scoped>\n",
       "    .dataframe tbody tr th:only-of-type {\n",
       "        vertical-align: middle;\n",
       "    }\n",
       "\n",
       "    .dataframe tbody tr th {\n",
       "        vertical-align: top;\n",
       "    }\n",
       "\n",
       "    .dataframe thead th {\n",
       "        text-align: right;\n",
       "    }\n",
       "</style>\n",
       "<table border=\"1\" class=\"dataframe\">\n",
       "  <thead>\n",
       "    <tr style=\"text-align: right;\">\n",
       "      <th></th>\n",
       "      <th>string_protein_id</th>\n",
       "      <th>preferred_name</th>\n",
       "      <th>protein_size</th>\n",
       "      <th>annotation</th>\n",
       "    </tr>\n",
       "  </thead>\n",
       "  <tbody>\n",
       "    <tr>\n",
       "      <th>0</th>\n",
       "      <td>ENSP00000000233</td>\n",
       "      <td>ARF5</td>\n",
       "      <td>180</td>\n",
       "      <td>ADP-ribosylation factor 5; GTP-binding protein...</td>\n",
       "    </tr>\n",
       "    <tr>\n",
       "      <th>1</th>\n",
       "      <td>ENSP00000000412</td>\n",
       "      <td>M6PR</td>\n",
       "      <td>277</td>\n",
       "      <td>Cation-dependent mannose-6-phosphate receptor;...</td>\n",
       "    </tr>\n",
       "    <tr>\n",
       "      <th>2</th>\n",
       "      <td>ENSP00000001008</td>\n",
       "      <td>FKBP4</td>\n",
       "      <td>459</td>\n",
       "      <td>Peptidyl-prolyl cis-trans isomerase FKBP4; Imm...</td>\n",
       "    </tr>\n",
       "  </tbody>\n",
       "</table>\n",
       "</div>"
      ],
      "text/plain": [
       "  string_protein_id preferred_name  protein_size  \\\n",
       "0   ENSP00000000233           ARF5           180   \n",
       "1   ENSP00000000412           M6PR           277   \n",
       "2   ENSP00000001008          FKBP4           459   \n",
       "\n",
       "                                          annotation  \n",
       "0  ADP-ribosylation factor 5; GTP-binding protein...  \n",
       "1  Cation-dependent mannose-6-phosphate receptor;...  \n",
       "2  Peptidyl-prolyl cis-trans isomerase FKBP4; Imm...  "
      ]
     },
     "execution_count": 8,
     "metadata": {},
     "output_type": "execute_result"
    }
   ],
   "source": [
    "protein_infos = protein_infos_v0[~protein_infos_v0.preferred_name.isin(freq_per_gene[freq_per_gene.freq>1].preferred_name.tolist())]\n",
    "print(protein_infos.shape)\n",
    "protein_infos.head(3)"
   ]
  },
  {
   "cell_type": "markdown",
   "metadata": {},
   "source": [
    "## Combine Protein Links and Info"
   ]
  },
  {
   "cell_type": "code",
   "execution_count": 21,
   "metadata": {},
   "outputs": [
    {
     "name": "stdout",
     "output_type": "stream",
     "text": [
      "(11936122, 12)\n"
     ]
    },
    {
     "data": {
      "text/html": [
       "<div>\n",
       "<style scoped>\n",
       "    .dataframe tbody tr th:only-of-type {\n",
       "        vertical-align: middle;\n",
       "    }\n",
       "\n",
       "    .dataframe tbody tr th {\n",
       "        vertical-align: top;\n",
       "    }\n",
       "\n",
       "    .dataframe thead th {\n",
       "        text-align: right;\n",
       "    }\n",
       "</style>\n",
       "<table border=\"1\" class=\"dataframe\">\n",
       "  <thead>\n",
       "    <tr style=\"text-align: right;\">\n",
       "      <th></th>\n",
       "      <th>protein1</th>\n",
       "      <th>protein2</th>\n",
       "      <th>neighborhood</th>\n",
       "      <th>fusion</th>\n",
       "      <th>cooccurence</th>\n",
       "      <th>coexpression</th>\n",
       "      <th>experimental</th>\n",
       "      <th>database</th>\n",
       "      <th>textmining</th>\n",
       "      <th>combined_score</th>\n",
       "      <th>gene_symbol1</th>\n",
       "      <th>gene_symbol2</th>\n",
       "    </tr>\n",
       "  </thead>\n",
       "  <tbody>\n",
       "    <tr>\n",
       "      <th>0</th>\n",
       "      <td>ENSP00000000233</td>\n",
       "      <td>ENSP00000379496</td>\n",
       "      <td>0</td>\n",
       "      <td>0</td>\n",
       "      <td>0</td>\n",
       "      <td>54</td>\n",
       "      <td>0</td>\n",
       "      <td>0</td>\n",
       "      <td>144</td>\n",
       "      <td>155</td>\n",
       "      <td>ARF5</td>\n",
       "      <td>PDE1C</td>\n",
       "    </tr>\n",
       "    <tr>\n",
       "      <th>1</th>\n",
       "      <td>ENSP00000000233</td>\n",
       "      <td>ENSP00000314067</td>\n",
       "      <td>0</td>\n",
       "      <td>0</td>\n",
       "      <td>0</td>\n",
       "      <td>0</td>\n",
       "      <td>180</td>\n",
       "      <td>0</td>\n",
       "      <td>61</td>\n",
       "      <td>197</td>\n",
       "      <td>ARF5</td>\n",
       "      <td>PAK2</td>\n",
       "    </tr>\n",
       "    <tr>\n",
       "      <th>2</th>\n",
       "      <td>ENSP00000000233</td>\n",
       "      <td>ENSP00000263116</td>\n",
       "      <td>0</td>\n",
       "      <td>0</td>\n",
       "      <td>0</td>\n",
       "      <td>62</td>\n",
       "      <td>152</td>\n",
       "      <td>0</td>\n",
       "      <td>101</td>\n",
       "      <td>222</td>\n",
       "      <td>ARF5</td>\n",
       "      <td>RAB36</td>\n",
       "    </tr>\n",
       "  </tbody>\n",
       "</table>\n",
       "</div>"
      ],
      "text/plain": [
       "          protein1         protein2  neighborhood  fusion  cooccurence  \\\n",
       "0  ENSP00000000233  ENSP00000379496             0       0            0   \n",
       "1  ENSP00000000233  ENSP00000314067             0       0            0   \n",
       "2  ENSP00000000233  ENSP00000263116             0       0            0   \n",
       "\n",
       "   coexpression  experimental  database  textmining  combined_score  \\\n",
       "0            54             0         0         144             155   \n",
       "1             0           180         0          61             197   \n",
       "2            62           152         0         101             222   \n",
       "\n",
       "  gene_symbol1 gene_symbol2  \n",
       "0         ARF5        PDE1C  \n",
       "1         ARF5         PAK2  \n",
       "2         ARF5        RAB36  "
      ]
     },
     "execution_count": 21,
     "metadata": {},
     "output_type": "execute_result"
    }
   ],
   "source": [
    "proteins = combine_protein_links_with_info(protein_links, protein_infos)\n",
    "print(proteins.shape)\n",
    "proteins.head(3)"
   ]
  },
  {
   "cell_type": "code",
   "execution_count": 22,
   "metadata": {},
   "outputs": [
    {
     "name": "stdout",
     "output_type": "stream",
     "text": [
      "Shapes\n",
      "    before joining : (11938498, 10)\n",
      "    after  joining : (11936122, 12)\n",
      "There are \n",
      "    19379 unique genes (gene_symbol1) per column\n",
      "    19379 unique genes (gene_symbol2) per column    \n",
      "\n"
     ]
    },
    {
     "data": {
      "text/html": [
       "<div>\n",
       "<style scoped>\n",
       "    .dataframe tbody tr th:only-of-type {\n",
       "        vertical-align: middle;\n",
       "    }\n",
       "\n",
       "    .dataframe tbody tr th {\n",
       "        vertical-align: top;\n",
       "    }\n",
       "\n",
       "    .dataframe thead th {\n",
       "        text-align: right;\n",
       "    }\n",
       "</style>\n",
       "<table border=\"1\" class=\"dataframe\">\n",
       "  <thead>\n",
       "    <tr style=\"text-align: right;\">\n",
       "      <th></th>\n",
       "      <th>freq</th>\n",
       "      <th>count</th>\n",
       "    </tr>\n",
       "  </thead>\n",
       "  <tbody>\n",
       "    <tr>\n",
       "      <th>0</th>\n",
       "      <td>1</td>\n",
       "      <td>11936122</td>\n",
       "    </tr>\n",
       "  </tbody>\n",
       "</table>\n",
       "</div>"
      ],
      "text/plain": [
       "   freq     count\n",
       "0     1  11936122"
      ]
     },
     "execution_count": 22,
     "metadata": {},
     "output_type": "execute_result"
    }
   ],
   "source": [
    "print(f\"\"\"Shapes\n",
    "    before joining : {protein_links.shape}\n",
    "    after  joining : {proteins.shape}\n",
    "There are \n",
    "    {len(proteins.gene_symbol1.unique())} unique genes (gene_symbol1) per column\n",
    "    {len(proteins.gene_symbol2.unique())} unique genes (gene_symbol2) per column    \n",
    "\"\"\")\n",
    "# Unique number of gene-gene combinations.\n",
    "freq_per_tuple = proteins\\\n",
    "    .groupby(['gene_symbol1', 'gene_symbol2']).size()\\\n",
    "    .reset_index(name='freq', inplace=False)\\\n",
    "    .sort_values(['freq'], ascending=False)\n",
    "freq_per_tuple.groupby(['freq']).size().reset_index(name='count', inplace=False)"
   ]
  },
  {
   "cell_type": "code",
   "execution_count": 154,
   "metadata": {},
   "outputs": [
    {
     "name": "stdout",
     "output_type": "stream",
     "text": [
      "Number of uniq gene_symbol1: 9570\n",
      "Number of uniq gene_symbol2: 9570\n"
     ]
    },
    {
     "data": {
      "text/plain": [
       "(110254, 12)"
      ]
     },
     "execution_count": 154,
     "metadata": {},
     "output_type": "execute_result"
    }
   ],
   "source": [
    "THRESH = 0.95\n",
    "proteins = proteins[proteins['combined_score'] > (THRESH * 1_000)]\n",
    "print(\"Number of uniq gene_symbol1:\", len(proteins.gene_symbol1.unique()))\n",
    "print(\"Number of uniq gene_symbol2:\", len(proteins.gene_symbol2.unique()))\n",
    "proteins.shape"
   ]
  },
  {
   "cell_type": "markdown",
   "metadata": {},
   "source": [
    "All gene-gene tuples occur exactly one time which is what we want. Now the protein-protein interaction dataset is preprocessed."
   ]
  },
  {
   "cell_type": "markdown",
   "metadata": {},
   "source": [
    "## Read Overlapping Genes and Cell-lines\n",
    "\n",
    "The following intersecting cell-lines and genes got created in `07_v1_get_linking_dataset.ipynb`."
   ]
  },
  {
   "cell_type": "code",
   "execution_count": 23,
   "metadata": {},
   "outputs": [
    {
     "name": "stdout",
     "output_type": "stream",
     "text": [
      "Number of intersecting cell-lines: 983\n",
      "Number of intersecting genes: 858\n"
     ]
    }
   ],
   "source": [
    "with open(f'{PATH_TO_FEATURES}intersecting_cls.pkl', 'rb') as f:\n",
    "    INTER_CLS = list(pd.read_pickle(f))\n",
    "with open(f'{PATH_TO_FEATURES}intersecting_genes.pkl', 'rb') as f:\n",
    "    INTER_GENES = list(pd.read_pickle(f))\n",
    "print(\"Number of intersecting cell-lines:\", len(INTER_CLS))\n",
    "print(\"Number of intersecting genes:\", len(INTER_GENES))"
   ]
  },
  {
   "cell_type": "code",
   "execution_count": 27,
   "metadata": {},
   "outputs": [
    {
     "data": {
      "text/html": [
       "<div>\n",
       "<style scoped>\n",
       "    .dataframe tbody tr th:only-of-type {\n",
       "        vertical-align: middle;\n",
       "    }\n",
       "\n",
       "    .dataframe tbody tr th {\n",
       "        vertical-align: top;\n",
       "    }\n",
       "\n",
       "    .dataframe thead th {\n",
       "        text-align: right;\n",
       "    }\n",
       "</style>\n",
       "<table border=\"1\" class=\"dataframe\">\n",
       "  <thead>\n",
       "    <tr style=\"text-align: right;\">\n",
       "      <th></th>\n",
       "      <th>GENE_SYMBOL</th>\n",
       "      <th>GENE_INDEX</th>\n",
       "    </tr>\n",
       "  </thead>\n",
       "  <tbody>\n",
       "    <tr>\n",
       "      <th>0</th>\n",
       "      <td>PACSIN3</td>\n",
       "      <td>0</td>\n",
       "    </tr>\n",
       "    <tr>\n",
       "      <th>1</th>\n",
       "      <td>PIH1D1</td>\n",
       "      <td>1</td>\n",
       "    </tr>\n",
       "    <tr>\n",
       "      <th>2</th>\n",
       "      <td>CEBPD</td>\n",
       "      <td>2</td>\n",
       "    </tr>\n",
       "    <tr>\n",
       "      <th>3</th>\n",
       "      <td>SGCB</td>\n",
       "      <td>3</td>\n",
       "    </tr>\n",
       "    <tr>\n",
       "      <th>4</th>\n",
       "      <td>FCHO1</td>\n",
       "      <td>4</td>\n",
       "    </tr>\n",
       "  </tbody>\n",
       "</table>\n",
       "</div>"
      ],
      "text/plain": [
       "  GENE_SYMBOL  GENE_INDEX\n",
       "0     PACSIN3           0\n",
       "1      PIH1D1           1\n",
       "2       CEBPD           2\n",
       "3        SGCB           3\n",
       "4       FCHO1           4"
      ]
     },
     "execution_count": 27,
     "metadata": {},
     "output_type": "execute_result"
    }
   ],
   "source": [
    "# Assign unique index to each of the genes.\n",
    "INTER_GENES_IDXS = pd.DataFrame({'GENE_SYMBOL': list(INTER_GENES)})\n",
    "INTER_GENES_IDXS['GENE_INDEX'] = INTER_GENES_IDXS.index\n",
    "INTER_GENES_IDXS.head(5)"
   ]
  },
  {
   "cell_type": "markdown",
   "metadata": {},
   "source": [
    "## Sparse Protein-Protein Interaction Dataset Using Intersecting Genes\n",
    "\n",
    "Now we will use the set of intersecting genes to sparse down the protein-protein interaction dataset."
   ]
  },
  {
   "cell_type": "code",
   "execution_count": 69,
   "metadata": {},
   "outputs": [
    {
     "name": "stdout",
     "output_type": "stream",
     "text": [
      "We have 9570 unique genes in the protein-protein interaction dataset.\n",
      "We have 858 unique genes in the intersection dataset.\n"
     ]
    }
   ],
   "source": [
    "print(f\"We have {len(proteins.gene_symbol1.unique())} unique genes in the protein-protein interaction dataset.\")\n",
    "print(f\"We have {len(INTER_GENES_IDXS.GENE_SYMBOL.unique())} unique genes in the intersection dataset.\")"
   ]
  },
  {
   "cell_type": "code",
   "execution_count": 155,
   "metadata": {},
   "outputs": [
    {
     "name": "stdout",
     "output_type": "stream",
     "text": [
      "679\n",
      "679\n"
     ]
    }
   ],
   "source": [
    "# How many of the intersecting genes are also in the protein-protein interaction dataset?\n",
    "print(len(list(set(proteins.gene_symbol1.unique()).intersection(set(INTER_GENES_IDXS.GENE_SYMBOL.unique())))))\n",
    "print(len(list(set(proteins.gene_symbol2.unique()).intersection(set(INTER_GENES_IDXS.GENE_SYMBOL.unique())))))"
   ]
  },
  {
   "cell_type": "code",
   "execution_count": 160,
   "metadata": {},
   "outputs": [
    {
     "name": "stdout",
     "output_type": "stream",
     "text": [
      "679\n",
      "679\n",
      "458\n",
      "458\n"
     ]
    }
   ],
   "source": [
    "t1 = proteins[proteins.gene_symbol1.isin(INTER_GENES_IDXS.GENE_SYMBOL)]\n",
    "print(len(t1.gene_symbol1.unique()))\n",
    "t2 = proteins[proteins.gene_symbol2.isin(INTER_GENES_IDXS.GENE_SYMBOL)]\n",
    "print(len(t2.gene_symbol2.unique()))\n",
    "t = proteins[(proteins.gene_symbol1.isin(INTER_GENES_IDXS.GENE_SYMBOL)) & (proteins.gene_symbol2.isin(INTER_GENES_IDXS.GENE_SYMBOL))]\n",
    "print(len(t.gene_symbol1.unique()))\n",
    "print(len(t.gene_symbol2.unique()))"
   ]
  },
  {
   "cell_type": "markdown",
   "metadata": {},
   "source": [
    "All of the intersecting genes are also in the protein-protein interaction dataset."
   ]
  },
  {
   "cell_type": "code",
   "execution_count": 74,
   "metadata": {},
   "outputs": [
    {
     "name": "stdout",
     "output_type": "stream",
     "text": [
      "After filtered down such that both columns ´gene_symbol1´ and ´gene_symbol2´ are landmark genes the shape is 2380 (2.16 %). \n",
      "This means 107874 (97.84%) have either one \n",
      "or both gene symbols not in the set of 858 intersecting genes.\n",
      "Number of unique gene_symbol1: 458\n",
      "Number of unique gene_symbol2: 458\n",
      "Shape before: (110254, 12)\n",
      "Shape now   : (2380, 12)\n"
     ]
    },
    {
     "data": {
      "text/html": [
       "<div>\n",
       "<style scoped>\n",
       "    .dataframe tbody tr th:only-of-type {\n",
       "        vertical-align: middle;\n",
       "    }\n",
       "\n",
       "    .dataframe tbody tr th {\n",
       "        vertical-align: top;\n",
       "    }\n",
       "\n",
       "    .dataframe thead th {\n",
       "        text-align: right;\n",
       "    }\n",
       "</style>\n",
       "<table border=\"1\" class=\"dataframe\">\n",
       "  <thead>\n",
       "    <tr style=\"text-align: right;\">\n",
       "      <th></th>\n",
       "      <th>protein1</th>\n",
       "      <th>protein2</th>\n",
       "      <th>neighborhood</th>\n",
       "      <th>fusion</th>\n",
       "      <th>cooccurence</th>\n",
       "      <th>coexpression</th>\n",
       "      <th>experimental</th>\n",
       "      <th>database</th>\n",
       "      <th>textmining</th>\n",
       "      <th>combined_score</th>\n",
       "      <th>gene_symbol1</th>\n",
       "      <th>gene_symbol2</th>\n",
       "    </tr>\n",
       "  </thead>\n",
       "  <tbody>\n",
       "    <tr>\n",
       "      <th>2544</th>\n",
       "      <td>ENSP00000001008</td>\n",
       "      <td>ENSP00000302961</td>\n",
       "      <td>0</td>\n",
       "      <td>0</td>\n",
       "      <td>0</td>\n",
       "      <td>256</td>\n",
       "      <td>376</td>\n",
       "      <td>0</td>\n",
       "      <td>976</td>\n",
       "      <td>988</td>\n",
       "      <td>FKBP4</td>\n",
       "      <td>HSPA4</td>\n",
       "    </tr>\n",
       "    <tr>\n",
       "      <th>3364</th>\n",
       "      <td>ENSP00000001008</td>\n",
       "      <td>ENSP00000231509</td>\n",
       "      <td>0</td>\n",
       "      <td>0</td>\n",
       "      <td>0</td>\n",
       "      <td>0</td>\n",
       "      <td>848</td>\n",
       "      <td>900</td>\n",
       "      <td>980</td>\n",
       "      <td>999</td>\n",
       "      <td>FKBP4</td>\n",
       "      <td>NR3C1</td>\n",
       "    </tr>\n",
       "    <tr>\n",
       "      <th>13731</th>\n",
       "      <td>ENSP00000005257</td>\n",
       "      <td>ENSP00000361120</td>\n",
       "      <td>0</td>\n",
       "      <td>0</td>\n",
       "      <td>0</td>\n",
       "      <td>0</td>\n",
       "      <td>247</td>\n",
       "      <td>900</td>\n",
       "      <td>977</td>\n",
       "      <td>998</td>\n",
       "      <td>RALA</td>\n",
       "      <td>RALGDS</td>\n",
       "    </tr>\n",
       "  </tbody>\n",
       "</table>\n",
       "</div>"
      ],
      "text/plain": [
       "              protein1         protein2  neighborhood  fusion  cooccurence  \\\n",
       "2544   ENSP00000001008  ENSP00000302961             0       0            0   \n",
       "3364   ENSP00000001008  ENSP00000231509             0       0            0   \n",
       "13731  ENSP00000005257  ENSP00000361120             0       0            0   \n",
       "\n",
       "       coexpression  experimental  database  textmining  combined_score  \\\n",
       "2544            256           376         0         976             988   \n",
       "3364              0           848       900         980             999   \n",
       "13731             0           247       900         977             998   \n",
       "\n",
       "      gene_symbol1 gene_symbol2  \n",
       "2544         FKBP4        HSPA4  \n",
       "3364         FKBP4        NR3C1  \n",
       "13731         RALA       RALGDS  "
      ]
     },
     "execution_count": 74,
     "metadata": {},
     "output_type": "execute_result"
    }
   ],
   "source": [
    "proteins_v2 = proteins.loc[(proteins.gene_symbol1.isin(INTER_GENES_IDXS.GENE_SYMBOL)) &\n",
    "                           (proteins.gene_symbol2.isin(INTER_GENES_IDXS.GENE_SYMBOL))]\n",
    "n_rows = proteins_v2.shape[0]\n",
    "perc_kept = 100*n_rows/proteins.shape[0]\n",
    "print(f\"\"\"After filtered down such that both columns ´gene_symbol1´ and ´gene_symbol2´ are landmark genes the shape is {n_rows} ({perc_kept:2.2f} %). \n",
    "This means {proteins.shape[0]-proteins_v2.shape[0]} ({100*(proteins.shape[0]-proteins_v2.shape[0])/proteins.shape[0]:2.2f}%) have either one \n",
    "or both gene symbols not in the set of {INTER_GENES_IDXS.shape[0]} intersecting genes.\"\"\")\n",
    "print(\"Number of unique gene_symbol1:\", len(proteins_v2.gene_symbol1.unique()))\n",
    "print(\"Number of unique gene_symbol2:\", len(proteins_v2.gene_symbol2.unique()))\n",
    "print(\"Shape before:\", proteins.shape)\n",
    "print(\"Shape now   :\", proteins_v2.shape)\n",
    "proteins_v2.head(3)"
   ]
  },
  {
   "cell_type": "code",
   "execution_count": 61,
   "metadata": {},
   "outputs": [
    {
     "name": "stdout",
     "output_type": "stream",
     "text": [
      "thresh: 500, new shape: (13732, 12) (16.52%).\n",
      "  uniq cols in `gene_symbol1`: 793 (92.42%); in `gene_symbol2`: 793 (92.42%) out of all 858 intersecting genes.\n",
      "thresh: 550, new shape: (11898, 12) (14.31%).\n",
      "  uniq cols in `gene_symbol1`: 773 (90.09%); in `gene_symbol2`: 773 (90.09%) out of all 858 intersecting genes.\n",
      "thresh: 600, new shape: (10436, 12) (12.55%).\n",
      "  uniq cols in `gene_symbol1`: 751 (87.53%); in `gene_symbol2`: 751 (87.53%) out of all 858 intersecting genes.\n",
      "thresh: 650, new shape: (8986, 12) (10.81%).\n",
      "  uniq cols in `gene_symbol1`: 721 (84.03%); in `gene_symbol2`: 721 (84.03%) out of all 858 intersecting genes.\n",
      "thresh: 700, new shape: (7794, 12) (9.38%).\n",
      "  uniq cols in `gene_symbol1`: 696 (81.12%); in `gene_symbol2`: 696 (81.12%) out of all 858 intersecting genes.\n",
      "thresh: 750, new shape: (6828, 12) (8.21%).\n",
      "  uniq cols in `gene_symbol1`: 672 (78.32%); in `gene_symbol2`: 672 (78.32%) out of all 858 intersecting genes.\n",
      "thresh: 800, new shape: (6080, 12) (7.31%).\n",
      "  uniq cols in `gene_symbol1`: 643 (74.94%); in `gene_symbol2`: 643 (74.94%) out of all 858 intersecting genes.\n",
      "thresh: 850, new shape: (5340, 12) (6.42%).\n",
      "  uniq cols in `gene_symbol1`: 602 (70.16%); in `gene_symbol2`: 602 (70.16%) out of all 858 intersecting genes.\n",
      "thresh: 900, new shape: (4536, 12) (5.46%).\n",
      "  uniq cols in `gene_symbol1`: 564 (65.73%); in `gene_symbol2`: 564 (65.73%) out of all 858 intersecting genes.\n",
      "thresh: 950, new shape: (2380, 12) (2.86%).\n",
      "  uniq cols in `gene_symbol1`: 458 (53.38%); in `gene_symbol2`: 458 (53.38%) out of all 858 intersecting genes.\n"
     ]
    }
   ],
   "source": [
    "threshs = np.arange(0.5, 1.0, 0.05)\n",
    "for THRESH in threshs:\n",
    "    temp = proteins_v2[proteins_v2.combined_score > (THRESH * 1_000)]\n",
    "    print(f\"thresh: {round(THRESH*1_000)}, new shape: {temp.shape} ({100*temp.shape[0]/proteins_v2.shape[0]:2.2f}%).\")\n",
    "    len_inter = INTER_GENES_IDXS.shape[0]\n",
    "    g1, g2 = len(temp.gene_symbol1.unique()), len(temp.gene_symbol2.unique())\n",
    "    print(f\"  uniq cols in `gene_symbol1`: {g1} ({100*g1/len_inter:2.2f}%); in `gene_symbol2`: {g2} ({100*g2/len_inter:2.2f}%) out of all {len_inter} intersecting genes.\")"
   ]
  },
  {
   "cell_type": "code",
   "execution_count": 75,
   "metadata": {},
   "outputs": [
    {
     "name": "stdout",
     "output_type": "stream",
     "text": [
      "Shape: (2380, 14)\n"
     ]
    },
    {
     "data": {
      "text/html": [
       "<div>\n",
       "<style scoped>\n",
       "    .dataframe tbody tr th:only-of-type {\n",
       "        vertical-align: middle;\n",
       "    }\n",
       "\n",
       "    .dataframe tbody tr th {\n",
       "        vertical-align: top;\n",
       "    }\n",
       "\n",
       "    .dataframe thead th {\n",
       "        text-align: right;\n",
       "    }\n",
       "</style>\n",
       "<table border=\"1\" class=\"dataframe\">\n",
       "  <thead>\n",
       "    <tr style=\"text-align: right;\">\n",
       "      <th></th>\n",
       "      <th>protein1</th>\n",
       "      <th>protein2</th>\n",
       "      <th>neighborhood</th>\n",
       "      <th>fusion</th>\n",
       "      <th>cooccurence</th>\n",
       "      <th>coexpression</th>\n",
       "      <th>experimental</th>\n",
       "      <th>database</th>\n",
       "      <th>textmining</th>\n",
       "      <th>combined_score</th>\n",
       "      <th>gene_symbol1</th>\n",
       "      <th>gene_symbol2</th>\n",
       "      <th>index_gene_symbol1</th>\n",
       "      <th>index_gene_symbol2</th>\n",
       "    </tr>\n",
       "  </thead>\n",
       "  <tbody>\n",
       "    <tr>\n",
       "      <th>0</th>\n",
       "      <td>ENSP00000001008</td>\n",
       "      <td>ENSP00000302961</td>\n",
       "      <td>0</td>\n",
       "      <td>0</td>\n",
       "      <td>0</td>\n",
       "      <td>256</td>\n",
       "      <td>376</td>\n",
       "      <td>0</td>\n",
       "      <td>976</td>\n",
       "      <td>988</td>\n",
       "      <td>FKBP4</td>\n",
       "      <td>HSPA4</td>\n",
       "      <td>163</td>\n",
       "      <td>414</td>\n",
       "    </tr>\n",
       "    <tr>\n",
       "      <th>1</th>\n",
       "      <td>ENSP00000001008</td>\n",
       "      <td>ENSP00000231509</td>\n",
       "      <td>0</td>\n",
       "      <td>0</td>\n",
       "      <td>0</td>\n",
       "      <td>0</td>\n",
       "      <td>848</td>\n",
       "      <td>900</td>\n",
       "      <td>980</td>\n",
       "      <td>999</td>\n",
       "      <td>FKBP4</td>\n",
       "      <td>NR3C1</td>\n",
       "      <td>163</td>\n",
       "      <td>93</td>\n",
       "    </tr>\n",
       "    <tr>\n",
       "      <th>2</th>\n",
       "      <td>ENSP00000005257</td>\n",
       "      <td>ENSP00000361120</td>\n",
       "      <td>0</td>\n",
       "      <td>0</td>\n",
       "      <td>0</td>\n",
       "      <td>0</td>\n",
       "      <td>247</td>\n",
       "      <td>900</td>\n",
       "      <td>977</td>\n",
       "      <td>998</td>\n",
       "      <td>RALA</td>\n",
       "      <td>RALGDS</td>\n",
       "      <td>811</td>\n",
       "      <td>795</td>\n",
       "    </tr>\n",
       "  </tbody>\n",
       "</table>\n",
       "</div>"
      ],
      "text/plain": [
       "          protein1         protein2  neighborhood  fusion  cooccurence  \\\n",
       "0  ENSP00000001008  ENSP00000302961             0       0            0   \n",
       "1  ENSP00000001008  ENSP00000231509             0       0            0   \n",
       "2  ENSP00000005257  ENSP00000361120             0       0            0   \n",
       "\n",
       "   coexpression  experimental  database  textmining  combined_score  \\\n",
       "0           256           376         0         976             988   \n",
       "1             0           848       900         980             999   \n",
       "2             0           247       900         977             998   \n",
       "\n",
       "  gene_symbol1 gene_symbol2  index_gene_symbol1  index_gene_symbol2  \n",
       "0        FKBP4        HSPA4                 163                 414  \n",
       "1        FKBP4        NR3C1                 163                  93  \n",
       "2         RALA       RALGDS                 811                 795  "
      ]
     },
     "execution_count": 75,
     "metadata": {},
     "output_type": "execute_result"
    }
   ],
   "source": [
    "# Append corresponding index for each gene symbol column as new column(s).\n",
    "proteins_v3 = proteins_v2.merge(\n",
    "    right=INTER_GENES_IDXS,\n",
    "    how='left',\n",
    "    left_on=['gene_symbol1'],\n",
    "    right_on=['GENE_SYMBOL'])\n",
    "proteins_v3.rename(columns={'GENE_INDEX': 'index_gene_symbol1'}, inplace=True)\n",
    "proteins_v3.drop(['GENE_SYMBOL'], axis=1, inplace=True)\n",
    "\n",
    "proteins_v4 = proteins_v3.merge(\n",
    "    right=INTER_GENES_IDXS,\n",
    "    how='left',\n",
    "    left_on=['gene_symbol2'],\n",
    "    right_on=['GENE_SYMBOL'])\n",
    "proteins_v4.rename(columns={'GENE_INDEX': 'index_gene_symbol2'}, inplace=True)\n",
    "proteins_v4.drop(['GENE_SYMBOL'], axis=1, inplace=True)\n",
    "\n",
    "print(f\"Shape: {proteins_v4.shape}\")\n",
    "proteins_v4.head(3)"
   ]
  },
  {
   "cell_type": "code",
   "execution_count": 101,
   "metadata": {},
   "outputs": [
    {
     "name": "stdout",
     "output_type": "stream",
     "text": [
      "There will be 458 nodes in the graph.\n",
      "There will be 458 indices in the graph.\n",
      "(2380, 7)\n"
     ]
    },
    {
     "data": {
      "text/html": [
       "<div>\n",
       "<style scoped>\n",
       "    .dataframe tbody tr th:only-of-type {\n",
       "        vertical-align: middle;\n",
       "    }\n",
       "\n",
       "    .dataframe tbody tr th {\n",
       "        vertical-align: top;\n",
       "    }\n",
       "\n",
       "    .dataframe thead th {\n",
       "        text-align: right;\n",
       "    }\n",
       "</style>\n",
       "<table border=\"1\" class=\"dataframe\">\n",
       "  <thead>\n",
       "    <tr style=\"text-align: right;\">\n",
       "      <th></th>\n",
       "      <th>protein1</th>\n",
       "      <th>protein2</th>\n",
       "      <th>gene_symbol1</th>\n",
       "      <th>gene_symbol2</th>\n",
       "      <th>index_gene_symbol1</th>\n",
       "      <th>index_gene_symbol2</th>\n",
       "      <th>combined_score</th>\n",
       "    </tr>\n",
       "  </thead>\n",
       "  <tbody>\n",
       "    <tr>\n",
       "      <th>0</th>\n",
       "      <td>ENSP00000001008</td>\n",
       "      <td>ENSP00000302961</td>\n",
       "      <td>FKBP4</td>\n",
       "      <td>HSPA4</td>\n",
       "      <td>163</td>\n",
       "      <td>414</td>\n",
       "      <td>988</td>\n",
       "    </tr>\n",
       "    <tr>\n",
       "      <th>1</th>\n",
       "      <td>ENSP00000001008</td>\n",
       "      <td>ENSP00000231509</td>\n",
       "      <td>FKBP4</td>\n",
       "      <td>NR3C1</td>\n",
       "      <td>163</td>\n",
       "      <td>93</td>\n",
       "      <td>999</td>\n",
       "    </tr>\n",
       "    <tr>\n",
       "      <th>2</th>\n",
       "      <td>ENSP00000005257</td>\n",
       "      <td>ENSP00000361120</td>\n",
       "      <td>RALA</td>\n",
       "      <td>RALGDS</td>\n",
       "      <td>811</td>\n",
       "      <td>795</td>\n",
       "      <td>998</td>\n",
       "    </tr>\n",
       "  </tbody>\n",
       "</table>\n",
       "</div>"
      ],
      "text/plain": [
       "          protein1         protein2 gene_symbol1 gene_symbol2  \\\n",
       "0  ENSP00000001008  ENSP00000302961        FKBP4        HSPA4   \n",
       "1  ENSP00000001008  ENSP00000231509        FKBP4        NR3C1   \n",
       "2  ENSP00000005257  ENSP00000361120         RALA       RALGDS   \n",
       "\n",
       "   index_gene_symbol1  index_gene_symbol2  combined_score  \n",
       "0                 163                 414             988  \n",
       "1                 163                  93             999  \n",
       "2                 811                 795             998  "
      ]
     },
     "execution_count": 101,
     "metadata": {},
     "output_type": "execute_result"
    }
   ],
   "source": [
    "proteins_v5 = proteins_v4[['protein1', 'protein2', 'gene_symbol1', 'gene_symbol2', 'index_gene_symbol1', 'index_gene_symbol2', 'combined_score']]\n",
    "NODES_AS_SYMBOLS = np.unique(proteins_v5[['gene_symbol1', 'gene_symbol2']].values)\n",
    "NODES_AS_INDECES = np.unique(proteins_v5[['index_gene_symbol1', 'index_gene_symbol2']].values)\n",
    "print(f\"There will be {len(NODES_AS_SYMBOLS)} nodes in the graph.\")\n",
    "print(f\"There will be {len(NODES_AS_INDECES)} indices in the graph.\")\n",
    "print(proteins_v5.shape)\n",
    "proteins_v5.head(3)"
   ]
  },
  {
   "cell_type": "code",
   "execution_count": 98,
   "metadata": {},
   "outputs": [
    {
     "name": "stdout",
     "output_type": "stream",
     "text": [
      "[('SOCS2', 'GHR'), ('POLR2K', 'GTF2E2'), ('PXN', 'PTK2'), ('FYN', 'CDC42'), ('ILK', 'IQGAP1')]\n",
      "[(613, 196), (178, 557), (450, 320), (819, 846), (488, 304)]\n",
      "Number of neighbor tuples: 2380\n"
     ]
    }
   ],
   "source": [
    "# Create a list of tuples which hold neighbor nodes.\n",
    "gene_symbol_tuples = list(set(list(zip(proteins_v5.gene_symbol1, proteins_v5.gene_symbol2))))\n",
    "print(gene_symbol_tuples[:5])\n",
    "\n",
    "# Map the list of tuples of neighbor gene nodes to the corresponding int. \n",
    "transform_gene_tuple_to_index_tuple = lambda x : (\n",
    "    INTER_GENES_IDXS[INTER_GENES_IDXS['GENE_SYMBOL']==x[0]]['GENE_INDEX'].values[0], \n",
    "    INTER_GENES_IDXS[INTER_GENES_IDXS['GENE_SYMBOL']==x[1]]['GENE_INDEX'].values[0])\n",
    "input_vec = [transform_gene_tuple_to_index_tuple(tup) for tup in gene_symbol_tuples]\n",
    "print(input_vec[:5])\n",
    "\n",
    "neighbor_gene_tuples = copy.deepcopy(input_vec)\n",
    "print(\"Number of neighbor tuples:\", len(neighbor_gene_tuples))"
   ]
  },
  {
   "cell_type": "markdown",
   "metadata": {},
   "source": [
    "## Create Undirected Neighbor Tuples"
   ]
  },
  {
   "cell_type": "code",
   "execution_count": 100,
   "metadata": {},
   "outputs": [
    {
     "name": "stdout",
     "output_type": "stream",
     "text": [
      "4760\n",
      "[[613, 196], [178, 557], [450, 320], [819, 846], [488, 304]]\n"
     ]
    }
   ],
   "source": [
    "# Saving all tuples the other way around.\n",
    "a_to_b = [[tup[0], tup[1]] for tup in neighbor_gene_tuples]\n",
    "b_to_a = [[tup[1], tup[0]] for tup in neighbor_gene_tuples]\n",
    "\n",
    "NEIGHBOR_GENES_UNDIRECTED = a_to_b + b_to_a\n",
    "assert len(NEIGHBOR_GENES_UNDIRECTED) == 2*len(neighbor_gene_tuples), \\\n",
    "    \"The undirected list of gene tuples needs to be exactly two times the directed one!\"\n",
    "\n",
    "for tup in NEIGHBOR_GENES_UNDIRECTED:\n",
    "    assert [tup[1], tup[0]] in NEIGHBOR_GENES_UNDIRECTED, f\"{tup} not undirected!\"\n",
    "\n",
    "print(len(NEIGHBOR_GENES_UNDIRECTED))\n",
    "print(NEIGHBOR_GENES_UNDIRECTED[:5])"
   ]
  },
  {
   "cell_type": "markdown",
   "metadata": {},
   "source": [
    "## Dictionary of Neighbors Per Gene"
   ]
  },
  {
   "cell_type": "markdown",
   "metadata": {},
   "source": [
    "### Using `GENE_INDEX`"
   ]
  },
  {
   "cell_type": "code",
   "execution_count": 105,
   "metadata": {},
   "outputs": [],
   "source": [
    "# Find neighbors using the indices.\n",
    "dict_as_indices = {gene_node: [] for gene_node in NODES_AS_INDECES}  # or dict(zip(nodes, []*len(nodes)))\n",
    "\n",
    "# Get the edges.\n",
    "for gene in dict_as_indices:\n",
    "    exists_in_gene_symbol1 = not proteins_v5.loc[proteins_v5.index_gene_symbol1==gene].empty\n",
    "    exists_in_gene_symbol2 = not proteins_v5.loc[proteins_v5.index_gene_symbol2==gene].empty\n",
    "\n",
    "    neighbor_nodes = None \n",
    "    if exists_in_gene_symbol1:\n",
    "        neighbor_nodes = list(set(proteins_v5.loc[proteins_v5.index_gene_symbol1==gene].index_gene_symbol2))\n",
    "    elif exists_in_gene_symbol2: \n",
    "        neighbor_nodes = list(set(proteins_v5.loc[proteins_v5.index_gene_symbol2==gene].index_gene_symbol1))\n",
    "    else: \n",
    "        print(f\"The gene {gene} couldn't be found in the dataset!\") \n",
    "\n",
    "    # Set neighbors for the gene.\n",
    "    dict_as_indices[gene] += [neighbor_node for neighbor_node in neighbor_nodes if neighbor_node not in dict_as_indices[gene]]"
   ]
  },
  {
   "cell_type": "markdown",
   "metadata": {},
   "source": [
    "__Format__: \n",
    "- _key_: unique index of the gene symbol\n",
    "- _value_: list of  gene symbol indices which are neighbors of the gene symbol index of the key"
   ]
  },
  {
   "cell_type": "code",
   "execution_count": 111,
   "metadata": {},
   "outputs": [
    {
     "name": "stdout",
     "output_type": "stream",
     "text": [
      "On average there are     5 neighbors per node.\n",
      "Note that there are 458 keys/nodes/genes in total.\n",
      "Thus, on average 1.13 % of all genes are neighbors.\n"
     ]
    },
    {
     "data": {
      "text/html": [
       "<div>\n",
       "<style scoped>\n",
       "    .dataframe tbody tr th:only-of-type {\n",
       "        vertical-align: middle;\n",
       "    }\n",
       "\n",
       "    .dataframe tbody tr th {\n",
       "        vertical-align: top;\n",
       "    }\n",
       "\n",
       "    .dataframe thead th {\n",
       "        text-align: right;\n",
       "    }\n",
       "</style>\n",
       "<table border=\"1\" class=\"dataframe\">\n",
       "  <thead>\n",
       "    <tr style=\"text-align: right;\">\n",
       "      <th></th>\n",
       "      <th>nr_neighbors</th>\n",
       "    </tr>\n",
       "  </thead>\n",
       "  <tbody>\n",
       "    <tr>\n",
       "      <th>count</th>\n",
       "      <td>458.000000</td>\n",
       "    </tr>\n",
       "    <tr>\n",
       "      <th>mean</th>\n",
       "      <td>5.196507</td>\n",
       "    </tr>\n",
       "    <tr>\n",
       "      <th>std</th>\n",
       "      <td>7.032328</td>\n",
       "    </tr>\n",
       "    <tr>\n",
       "      <th>min</th>\n",
       "      <td>1.000000</td>\n",
       "    </tr>\n",
       "    <tr>\n",
       "      <th>25%</th>\n",
       "      <td>1.000000</td>\n",
       "    </tr>\n",
       "    <tr>\n",
       "      <th>50%</th>\n",
       "      <td>2.000000</td>\n",
       "    </tr>\n",
       "    <tr>\n",
       "      <th>75%</th>\n",
       "      <td>6.000000</td>\n",
       "    </tr>\n",
       "    <tr>\n",
       "      <th>max</th>\n",
       "      <td>63.000000</td>\n",
       "    </tr>\n",
       "  </tbody>\n",
       "</table>\n",
       "</div>"
      ],
      "text/plain": [
       "       nr_neighbors\n",
       "count    458.000000\n",
       "mean       5.196507\n",
       "std        7.032328\n",
       "min        1.000000\n",
       "25%        1.000000\n",
       "50%        2.000000\n",
       "75%        6.000000\n",
       "max       63.000000"
      ]
     },
     "execution_count": 111,
     "metadata": {},
     "output_type": "execute_result"
    },
    {
     "data": {
      "image/png": "[encoded data removed]",
      "text/plain": [
       "<Figure size 432x288 with 1 Axes>"
      ]
     },
     "metadata": {},
     "output_type": "display_data"
    }
   ],
   "source": [
    "# How many neighbors are there on average?\n",
    "len_of_neighbors = [len(neighbors) for _, neighbors in dict_as_indices.items()]\n",
    "assert len(len_of_neighbors) == len(NODES_AS_INDECES)\n",
    "print(f\"On average there are {np.mean(len_of_neighbors):5.0f} neighbors per node.\")\n",
    "print(f\"Note that there are {len(dict_as_indices.keys())} keys/nodes/genes in total.\")\n",
    "print(f\"Thus, on average {100*np.mean(len_of_neighbors)/len(dict_as_indices.keys()):2.2f} %\" +\n",
    "    \" of all genes are neighbors.\")\n",
    "plt.hist(len_of_neighbors, bins=50);\n",
    "plt.title(\"Number of neighbors\");\n",
    "plt.xlabel(\"Number of neighbors\");\n",
    "plt.ylabel(\"Frequency\");\n",
    "pd.DataFrame(len_of_neighbors, columns=['nr_neighbors']).describe()"
   ]
  },
  {
   "cell_type": "code",
   "execution_count": 114,
   "metadata": {},
   "outputs": [
    {
     "data": {
      "image/png": "[encoded data removed]",
      "text/plain": [
       "<Figure size 432x288 with 1 Axes>"
      ]
     },
     "metadata": {},
     "output_type": "display_data"
    }
   ],
   "source": [
    "plt.boxplot(len_of_neighbors);\n",
    "plt.ylabel('Number of Neighbors');"
   ]
  },
  {
   "cell_type": "markdown",
   "metadata": {},
   "source": [
    "---\n",
    "\n",
    "### Loading the Node Feature Datasets"
   ]
  },
  {
   "cell_type": "code",
   "execution_count": 121,
   "metadata": {},
   "outputs": [
    {
     "name": "stdout",
     "output_type": "stream",
     "text": [
      "Took 0.01642 seconds to read the cell-line feature datasets.\n",
      "Shapes\n",
      "    Gene Expression : (983, 859)\n",
      "    CNV Gistic      : (983, 859)\n",
      "    CNV Picnic      : (983, 859)\n",
      "    Mutation        : (983, 859)\n",
      "    \n"
     ]
    }
   ],
   "source": [
    "# -------------------------------------- #\n",
    "# Read cell-line - gene feature datasets #\n",
    "# -------------------------------------- #\n",
    "READ = True\n",
    "\n",
    "if READ:\n",
    "    start = time.time()\n",
    "    with open(f'{PATH_TO_FEATURES}gexpr_sparse.pkl', 'rb') as f: \n",
    "        gexpr = pickle.load(f)\n",
    "    with open(f'{PATH_TO_FEATURES}cnvg_sparse.pkl', 'rb') as f: \n",
    "        cnvg = pickle.load(f)\n",
    "    with open(f'{PATH_TO_FEATURES}cnvp_sparse.pkl', 'rb') as f: \n",
    "        cnvp = pickle.load(f)\n",
    "    with open(f'{PATH_TO_FEATURES}mut_sparse.pkl', 'rb') as f: \n",
    "        mut = pickle.load(f)  \n",
    "    print(f\"Took {time.time()-start:.5f} seconds to read the cell-line feature datasets.\")\n",
    "    print(f\"\"\"Shapes\n",
    "    Gene Expression : {gexpr.shape}\n",
    "    CNV Gistic      : {cnvg.shape}\n",
    "    CNV Picnic      : {cnvp.shape}\n",
    "    Mutation        : {mut.shape}\n",
    "    \"\"\")"
   ]
  },
  {
   "cell_type": "code",
   "execution_count": 122,
   "metadata": {},
   "outputs": [],
   "source": [
    "def get_uniqs(df: pd.DataFrame, col: str):\n",
    "    return np.unique(df[col].values).tolist()\n",
    "\n",
    "# Test that all feature datasets contains exactly the same cell-lines.\n",
    "gexpr_cls = get_uniqs(gexpr, 'CELL_LINE_NAME')\n",
    "cnvg_cls = get_uniqs(cnvg, 'CELL_LINE_NAME')\n",
    "cnvp_cls = get_uniqs(cnvp, 'CELL_LINE_NAME')\n",
    "mut_cls = get_uniqs(mut, 'CELL_LINE_NAME')\n",
    "inter_cls = set(gexpr_cls) \\\n",
    "    .intersection(set(cnvp_cls)) \\\n",
    "    .intersection(set(cnvp_cls)) \\\n",
    "    .intersection(set(mut_cls))\n",
    "\n",
    "assert len(inter_cls) == len(gexpr_cls) == len(cnvg_cls) == len(cnvp_cls) == len(mut_cls), \\\n",
    "    \"Not all feature datasets contain the exact same cell-lines as rows!\"\n",
    "\n",
    "# Test that all feature datasets contains exactly the same gene symbols.\n",
    "inter_genes = set(np.unique(gexpr.columns.values).tolist()) \\\n",
    "    .intersection(set(np.unique(cnvg.columns.values).tolist())) \\\n",
    "    .intersection(set(np.unique(cnvp.columns.values).tolist())) \\\n",
    "    .intersection(set(np.unique(mut.columns.values).tolist()))\n",
    "\n",
    "assert len(inter_genes) == \\\n",
    "    len(np.unique(gexpr.columns.values).tolist()) == \\\n",
    "    len(np.unique(cnvg.columns.values).tolist()) == \\\n",
    "    len(np.unique(cnvp.columns.values).tolist()) == \\\n",
    "    len(np.unique(mut.columns.values).tolist()), \\\n",
    "        \"Not all feature datasets contain the exact same gene symbols as columns!\"\n",
    "\n",
    "del gexpr_cls, cnvg_cls, cnvp_cls, mut_cls, inter_cls, inter_genes"
   ]
  },
  {
   "cell_type": "code",
   "execution_count": 123,
   "metadata": {},
   "outputs": [],
   "source": [
    "gexpr.set_index('CELL_LINE_NAME', inplace=True)\n",
    "cnvg.set_index('CELL_LINE_NAME', inplace=True)\n",
    "cnvp.set_index('CELL_LINE_NAME', inplace=True)\n",
    "mut.set_index('CELL_LINE_NAME', inplace=True)"
   ]
  },
  {
   "cell_type": "code",
   "execution_count": 118,
   "metadata": {},
   "outputs": [
    {
     "data": {
      "text/html": [
       "<div>\n",
       "<style scoped>\n",
       "    .dataframe tbody tr th:only-of-type {\n",
       "        vertical-align: middle;\n",
       "    }\n",
       "\n",
       "    .dataframe tbody tr th {\n",
       "        vertical-align: top;\n",
       "    }\n",
       "\n",
       "    .dataframe thead th {\n",
       "        text-align: right;\n",
       "    }\n",
       "</style>\n",
       "<table border=\"1\" class=\"dataframe\">\n",
       "  <thead>\n",
       "    <tr style=\"text-align: right;\">\n",
       "      <th></th>\n",
       "      <th>CELL_LINE_NAME</th>\n",
       "      <th>FBXL12</th>\n",
       "      <th>PIN1</th>\n",
       "      <th>PAK4</th>\n",
       "      <th>GNA15</th>\n",
       "      <th>ARPP19</th>\n",
       "      <th>EAPP</th>\n",
       "      <th>MOK</th>\n",
       "      <th>MTHFD2</th>\n",
       "      <th>TIPARP</th>\n",
       "      <th>...</th>\n",
       "      <th>PDHX</th>\n",
       "      <th>DFFB</th>\n",
       "      <th>FOSL1</th>\n",
       "      <th>ETS1</th>\n",
       "      <th>EBNA1BP2</th>\n",
       "      <th>MYL9</th>\n",
       "      <th>MLLT11</th>\n",
       "      <th>PFKL</th>\n",
       "      <th>FGFR4</th>\n",
       "      <th>SDHB</th>\n",
       "    </tr>\n",
       "  </thead>\n",
       "  <tbody>\n",
       "    <tr>\n",
       "      <th>0</th>\n",
       "      <td>22RV1</td>\n",
       "      <td>7.023759</td>\n",
       "      <td>6.067534</td>\n",
       "      <td>4.318750</td>\n",
       "      <td>3.261427</td>\n",
       "      <td>6.297582</td>\n",
       "      <td>8.313991</td>\n",
       "      <td>5.514912</td>\n",
       "      <td>10.594112</td>\n",
       "      <td>5.222366</td>\n",
       "      <td>...</td>\n",
       "      <td>7.821536</td>\n",
       "      <td>3.601622</td>\n",
       "      <td>3.225596</td>\n",
       "      <td>3.651201</td>\n",
       "      <td>7.895763</td>\n",
       "      <td>3.953414</td>\n",
       "      <td>4.059382</td>\n",
       "      <td>4.376822</td>\n",
       "      <td>3.215209</td>\n",
       "      <td>9.267565</td>\n",
       "    </tr>\n",
       "    <tr>\n",
       "      <th>1</th>\n",
       "      <td>23132-87</td>\n",
       "      <td>6.714387</td>\n",
       "      <td>5.695096</td>\n",
       "      <td>4.536146</td>\n",
       "      <td>3.295886</td>\n",
       "      <td>7.021037</td>\n",
       "      <td>8.500080</td>\n",
       "      <td>4.862145</td>\n",
       "      <td>10.609245</td>\n",
       "      <td>6.528668</td>\n",
       "      <td>...</td>\n",
       "      <td>8.094289</td>\n",
       "      <td>3.596762</td>\n",
       "      <td>3.486299</td>\n",
       "      <td>3.127452</td>\n",
       "      <td>7.852436</td>\n",
       "      <td>3.869411</td>\n",
       "      <td>4.248318</td>\n",
       "      <td>4.989945</td>\n",
       "      <td>4.328643</td>\n",
       "      <td>9.515870</td>\n",
       "    </tr>\n",
       "    <tr>\n",
       "      <th>2</th>\n",
       "      <td>42-MG-BA</td>\n",
       "      <td>7.752402</td>\n",
       "      <td>5.475753</td>\n",
       "      <td>4.033714</td>\n",
       "      <td>3.176525</td>\n",
       "      <td>7.279671</td>\n",
       "      <td>8.013367</td>\n",
       "      <td>4.957332</td>\n",
       "      <td>11.266705</td>\n",
       "      <td>7.445954</td>\n",
       "      <td>...</td>\n",
       "      <td>7.984052</td>\n",
       "      <td>3.317746</td>\n",
       "      <td>5.106906</td>\n",
       "      <td>5.305024</td>\n",
       "      <td>6.508066</td>\n",
       "      <td>7.840349</td>\n",
       "      <td>8.632889</td>\n",
       "      <td>4.792137</td>\n",
       "      <td>3.078971</td>\n",
       "      <td>8.495921</td>\n",
       "    </tr>\n",
       "  </tbody>\n",
       "</table>\n",
       "<p>3 rows × 859 columns</p>\n",
       "</div>"
      ],
      "text/plain": [
       "  CELL_LINE_NAME    FBXL12      PIN1      PAK4     GNA15    ARPP19      EAPP  \\\n",
       "0          22RV1  7.023759  6.067534  4.318750  3.261427  6.297582  8.313991   \n",
       "1       23132-87  6.714387  5.695096  4.536146  3.295886  7.021037  8.500080   \n",
       "2       42-MG-BA  7.752402  5.475753  4.033714  3.176525  7.279671  8.013367   \n",
       "\n",
       "        MOK     MTHFD2    TIPARP  ...      PDHX      DFFB     FOSL1      ETS1  \\\n",
       "0  5.514912  10.594112  5.222366  ...  7.821536  3.601622  3.225596  3.651201   \n",
       "1  4.862145  10.609245  6.528668  ...  8.094289  3.596762  3.486299  3.127452   \n",
       "2  4.957332  11.266705  7.445954  ...  7.984052  3.317746  5.106906  5.305024   \n",
       "\n",
       "   EBNA1BP2      MYL9    MLLT11      PFKL     FGFR4      SDHB  \n",
       "0  7.895763  3.953414  4.059382  4.376822  3.215209  9.267565  \n",
       "1  7.852436  3.869411  4.248318  4.989945  4.328643  9.515870  \n",
       "2  6.508066  7.840349  8.632889  4.792137  3.078971  8.495921  \n",
       "\n",
       "[3 rows x 859 columns]"
      ]
     },
     "execution_count": 118,
     "metadata": {},
     "output_type": "execute_result"
    }
   ],
   "source": [
    "gexpr.head(3)"
   ]
  },
  {
   "cell_type": "markdown",
   "metadata": {},
   "source": [
    "## Build PyTorch-Geometric Formatted Graph\n",
    "\n",
    "Note that since the topology of each graph per cell-line will be identical, only the feature values are changing.\n",
    "\n",
    "```python\n",
    "    Data(\n",
    "        x           # changing for each cell-line.\n",
    "        edge_index  # doesn't change for each cell-line.\n",
    "    )\n",
    "```"
   ]
  },
  {
   "cell_type": "code",
   "execution_count": 145,
   "metadata": {},
   "outputs": [
    {
     "name": "stdout",
     "output_type": "stream",
     "text": [
      "858\n"
     ]
    }
   ],
   "source": [
    "print(len(GENES))"
   ]
  },
  {
   "cell_type": "code",
   "execution_count": 146,
   "metadata": {},
   "outputs": [
    {
     "data": {
      "text/plain": [
       "4760"
      ]
     },
     "execution_count": 146,
     "metadata": {},
     "output_type": "execute_result"
    }
   ],
   "source": [
    "len(NEIGHBOR_GENES_UNDIRECTED)"
   ]
  },
  {
   "cell_type": "code",
   "execution_count": 150,
   "metadata": {},
   "outputs": [
    {
     "name": "stderr",
     "output_type": "stream",
     "text": [
      "100%|██████████| 983/983 [00:08<00:00, 112.59it/s]\n"
     ]
    }
   ],
   "source": [
    "GENES = list(NODES_AS_SYMBOLS) # list(INTER_GENES)\n",
    "Gs = {}\n",
    "for cl in tqdm(list(INTER_CLS)):\n",
    "    # Convert the feature values to tensors and stack them up.\n",
    "    gexpr_cl = torch.tensor(gexpr.loc[cl][GENES].values, dtype=torch.float64)\n",
    "    cnvg_cl = torch.tensor(cnvg.loc[cl][GENES].values, dtype=torch.float64)\n",
    "    cnvp_cl = torch.tensor(cnvp.loc[cl][GENES].values, dtype=torch.float64)\n",
    "    mut_cl = torch.tensor(mut.loc[cl][GENES].values, dtype=torch.float64)\n",
    "\n",
    "    features = torch.stack([gexpr_cl, cnvg_cl, cnvp_cl, mut_cl]).t()\n",
    "\n",
    "    # Generate the graph.\n",
    "    edge_index = torch.tensor(NEIGHBOR_GENES_UNDIRECTED, dtype=torch.long).t().contiguous()\n",
    "    # G_cl = Data(x=features, edge_index=to_undirected(edge_index)) --> gives Data(x=[858, 4], edge_index=[2, 2380])\n",
    "    G_cl = Data(x=features, edge_index=edge_index)\n",
    "\n",
    "    Gs[cl] = G_cl"
   ]
  },
  {
   "cell_type": "code",
   "execution_count": 153,
   "metadata": {},
   "outputs": [],
   "source": [
    "with open(f'{PATH_TO_FEATURES}cl_graphs_as_dict_SPARSE.pkl', 'wb') as f:\n",
    "    pickle.dump(Gs, f, protocol=pickle.HIGHEST_PROTOCOL)"
   ]
  },
  {
   "cell_type": "code",
   "execution_count": 152,
   "metadata": {},
   "outputs": [
    {
     "name": "stdout",
     "output_type": "stream",
     "text": [
      "Data(x=[458, 4], edge_index=[2, 4760])\n",
      "tensor([[ 5.2021, -1.0000,  2.0000,  1.0000],\n",
      "        [ 6.3496,  0.0000,  2.0000,  0.0000],\n",
      "        [ 9.8674,  0.0000,  2.0000,  0.0000],\n",
      "        ...,\n",
      "        [ 6.1017,  0.0000,  2.0000,  0.0000],\n",
      "        [ 6.5084,  1.0000,  3.0000,  1.0000],\n",
      "        [ 7.0576,  0.0000,  2.0000,  0.0000]], dtype=torch.float64)\n"
     ]
    }
   ],
   "source": [
    "print(Gs['22RV1'])\n",
    "print(Gs['22RV1'].x)"
   ]
  },
  {
   "cell_type": "code",
   "execution_count": 135,
   "metadata": {},
   "outputs": [
    {
     "data": {
      "text/plain": [
       "4760"
      ]
     },
     "execution_count": 135,
     "metadata": {},
     "output_type": "execute_result"
    }
   ],
   "source": [
    "len(NEIGHBOR_GENES_UNDIRECTED)"
   ]
  },
  {
   "cell_type": "code",
   "execution_count": 144,
   "metadata": {},
   "outputs": [
    {
     "data": {
      "text/plain": [
       "458"
      ]
     },
     "execution_count": 144,
     "metadata": {},
     "output_type": "execute_result"
    }
   ],
   "source": [
    "len(NODES_AS_SYMBOLS)"
   ]
  }
 ],
 "metadata": {
  "interpreter": {
   "hash": "c78b81650a0bd32063743affb6953ff71b1a0dba806fbca9e2db842718495748"
  },
  "kernelspec": {
   "display_name": "Python 3.10.4 ('master-thesis-log')",
   "language": "python",
   "name": "python3"
  },
  "language_info": {
   "codemirror_mode": {
    "name": "ipython",
    "version": 3
   },
   "file_extension": ".py",
   "mimetype": "text/x-python",
   "name": "python",
   "nbconvert_exporter": "python",
   "pygments_lexer": "ipython3",
   "version": "3.10.4"
  },
  "orig_nbformat": 4
 },
 "nbformat": 4,
 "nbformat_minor": 2
}
