{
 "cells": [
  {
   "cell_type": "code",
   "execution_count": 1,
   "metadata": {},
   "outputs": [
    {
     "name": "stdout",
     "output_type": "stream",
     "text": [
      "1.11.0\n",
      "False\n"
     ]
    }
   ],
   "source": [
    "import sys\n",
    "import time\n",
    "import os\n",
    "import gzip\n",
    "import numpy as np\n",
    "import pandas as pd\n",
    "import matplotlib.pyplot as plt \n",
    "import seaborn as sns\n",
    "import torch\n",
    "import torch.nn as nn\n",
    "\n",
    "from io import BytesIO\n",
    "from time import sleep \n",
    "from tqdm import tqdm\n",
    "\n",
    "from config import (\n",
    "    # Drug features.\n",
    "    PATH_TO_SAVED_DRUG_FEATURES,\n",
    "    DRUG_FPS_FINAL_FILE_NAME,\n",
    "    # Cell line features.\n",
    "    PATH_TO_SAVED_CL_FEATURES,\n",
    "    GENE_EXPR_FINAL_FILE_NAME,\n",
    "    CNV_GISTIC_FINAL_FILE_NAME,\n",
    "    CNV_PICNIC_FINAL_FILE_NAME    \n",
    ")\n",
    "\n",
    "sns.set_theme(style=\"white\")\n",
    "\n",
    "print(torch.__version__)\n",
    "print(torch.cuda.is_available())"
   ]
  },
  {
   "cell_type": "markdown",
   "metadata": {},
   "source": [
    "---\n",
    "\n",
    "# Model using GNN for Cell Encoding\n",
    "\n",
    "To build a model which uses a GNN for the cell-line encoding a corresponding fitting dataset is needed. The drug dataset can stay as is for now."
   ]
  },
  {
   "cell_type": "code",
   "execution_count": 2,
   "metadata": {},
   "outputs": [
    {
     "name": "stdout",
     "output_type": "stream",
     "text": [
      "Gene Expression: (446521, 922) took 3.51627 seconds.\n",
      "    Number of unique cell-lines : 988\n",
      "    Number of gene columns      : 908\n",
      "\n",
      "CNV Gistic: (446521, 952) took 110.35721 seconds.\n",
      "    Number of unique cell-lines : 988\n",
      "    Number of gene columns      : 938\n",
      "\n",
      "CNV Picnic: (446521, 980) took 117.35387 seconds.\n",
      "    Number of unique cell-lines : 988\n",
      "    Number of gene columns      : 966\n",
      "\n"
     ]
    }
   ],
   "source": [
    "# ----------------------- #\n",
    "# IMPORT FEATURE DATASETS #\n",
    "# ----------------------- #\n",
    "# Gene expression.\n",
    "start = time.time()\n",
    "gene_expr = pd.read_pickle(f'{PATH_TO_SAVED_CL_FEATURES}{GENE_EXPR_FINAL_FILE_NAME}')\n",
    "print(f\"\"\"Gene Expression: {gene_expr.shape} took {time.time()-start:.5f} seconds.\n",
    "    Number of unique cell-lines : {len(np.unique(gene_expr.CELL_LINE_NAME.values))}\n",
    "    Number of gene columns      : {len(gene_expr.columns[14:])}\n",
    "\"\"\")\n",
    "\n",
    "# CNV gistic.\n",
    "start = time.time()\n",
    "cnv_gistic = pd.read_pickle(f'{PATH_TO_SAVED_CL_FEATURES}{CNV_GISTIC_FINAL_FILE_NAME}')\n",
    "print(f\"\"\"CNV Gistic: {cnv_gistic.shape} took {time.time()-start:.5f} seconds.\n",
    "    Number of unique cell-lines : {len(np.unique(cnv_gistic.CELL_LINE_NAME.values))}\n",
    "    Number of gene columns      : {len(cnv_gistic.columns[14:])}\n",
    "\"\"\")\n",
    "\n",
    "# CNV picnic.\n",
    "start = time.time()\n",
    "cnv_picnic = pd.read_pickle(f'{PATH_TO_SAVED_CL_FEATURES}{CNV_PICNIC_FINAL_FILE_NAME}')\n",
    "print(f\"\"\"CNV Picnic: {cnv_picnic.shape} took {time.time()-start:.5f} seconds.\n",
    "    Number of unique cell-lines : {len(np.unique(cnv_picnic.CELL_LINE_NAME.values))}\n",
    "    Number of gene columns      : {len(cnv_picnic.columns[14:])}\n",
    "\"\"\")"
   ]
  },
  {
   "cell_type": "code",
   "execution_count": 3,
   "metadata": {},
   "outputs": [
    {
     "name": "stdout",
     "output_type": "stream",
     "text": [
      "There are  988 intersecting cell lines in the 3 datasets.\n",
      "There are  870 intersecting genes in the 3 datasets.\n"
     ]
    }
   ],
   "source": [
    "# Only the intersection genes of the datasets are making sense to use for the graph since \n",
    "# all graphs should have the exact same structure per cell-line.\n",
    "intersection_cell_lines = set(np.unique(gene_expr.CELL_LINE_NAME.values).tolist()) \\\n",
    "    .intersection(set(np.unique(cnv_gistic.CELL_LINE_NAME.values).tolist())) \\\n",
    "    .intersection(set(np.unique(cnv_picnic.CELL_LINE_NAME.values).tolist()))\n",
    "print(f\"There are {len(intersection_cell_lines):4.0f} intersecting cell lines in the 3 datasets.\")   \n",
    "\n",
    "intersection_genes = set(gene_expr.columns[14:]) \\\n",
    "    .intersection(set(cnv_gistic.columns[14:])) \\\n",
    "    .intersection(set(cnv_picnic.columns[14:]))\n",
    "print(f\"There are {len(intersection_genes):4.0f} intersecting genes in the 3 datasets.\")  "
   ]
  },
  {
   "cell_type": "code",
   "execution_count": 7,
   "metadata": {},
   "outputs": [
    {
     "name": "stdout",
     "output_type": "stream",
     "text": [
      "\n",
      "    Shape after removing duplicate feature value rows for...\n",
      "        ... gene expression : (988, 922)\n",
      "        ... cnv gistic      : (988, 952)\n",
      "        ... cnv picnic      : (988, 980)\n",
      "\n",
      "\n",
      "    Shape after only taking the intersection genes...\n",
      "        ... gene expression : (988, 884)\n",
      "        ... cnv gistic      : (988, 884)\n",
      "        ... cnv picnic      : (988, 884)\n",
      "\n",
      "Number of unique cell-line names: 988\n"
     ]
    }
   ],
   "source": [
    "# Only take a single row per cell-line, since the features are the same,\n",
    "# only another drug was tested on it, thus a different IC50 value.\n",
    "gene_expr_v2 = gene_expr.groupby(['CELL_LINE_NAME']).first().reset_index()\n",
    "cnv_gistic_v2 = cnv_gistic.groupby(['CELL_LINE_NAME']).first().reset_index()\n",
    "cnv_picnic_v2 = cnv_picnic.groupby(['CELL_LINE_NAME']).first().reset_index()\n",
    "\n",
    "print(f\"\"\"\n",
    "    Shape after removing duplicate feature value rows for...\n",
    "        ... gene expression : {gene_expr_v2.shape}\n",
    "        ... cnv gistic      : {cnv_gistic_v2.shape}\n",
    "        ... cnv picnic      : {cnv_picnic_v2.shape}\n",
    "\"\"\")\n",
    "\n",
    "# Only take the intersection genes which are in all feature dataset.\n",
    "gene_expr_v3 = gene_expr_v2[list(gene_expr_v2.columns[:14]) + list(intersection_genes)]\n",
    "cnv_gistic_v3 = cnv_gistic_v2[list(cnv_gistic_v2.columns[:14]) + list(intersection_genes)]\n",
    "cnv_picnic_v3 = cnv_picnic_v2[list(cnv_picnic_v2.columns[:14]) + list(intersection_genes)]\n",
    "print(f\"\"\"\n",
    "    Shape after only taking the intersection genes...\n",
    "        ... gene expression : {gene_expr_v3.shape}\n",
    "        ... cnv gistic      : {cnv_gistic_v3.shape}\n",
    "        ... cnv picnic      : {cnv_picnic_v3.shape}\n",
    "\"\"\")\n",
    "\n",
    "# Assert that all cell-line rows are unique.\n",
    "assert gene_expr_v3.shape[0] == len(list(np.unique(gene_expr_v3.CELL_LINE_NAME)))\n",
    "assert cnv_gistic_v3.shape[0] == len(list(np.unique(cnv_gistic_v3.CELL_LINE_NAME)))\n",
    "assert cnv_picnic_v3.shape[0] == len(list(np.unique(cnv_picnic_v3.CELL_LINE_NAME)))\n",
    "\n",
    "# Unique cell-line names. \n",
    "uniq_cell_line_names = list(np.unique(gene_expr_v3.CELL_LINE_NAME))\n",
    "print(f\"Number of unique cell-line names: {len(uniq_cell_line_names)}\")"
   ]
  },
  {
   "cell_type": "code",
   "execution_count": null,
   "metadata": {},
   "outputs": [],
   "source": []
  },
  {
   "cell_type": "code",
   "execution_count": null,
   "metadata": {},
   "outputs": [],
   "source": []
  }
 ],
 "metadata": {
  "interpreter": {
   "hash": "c78b81650a0bd32063743affb6953ff71b1a0dba806fbca9e2db842718495748"
  },
  "kernelspec": {
   "display_name": "Python 3.10.4 ('master-thesis-log')",
   "language": "python",
   "name": "python3"
  },
  "language_info": {
   "codemirror_mode": {
    "name": "ipython",
    "version": 3
   },
   "file_extension": ".py",
   "mimetype": "text/x-python",
   "name": "python",
   "nbconvert_exporter": "python",
   "pygments_lexer": "ipython3",
   "version": "3.10.4"
  },
  "orig_nbformat": 4
 },
 "nbformat": 4,
 "nbformat_minor": 2
}
