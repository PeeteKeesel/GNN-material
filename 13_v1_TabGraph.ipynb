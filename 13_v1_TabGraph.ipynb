{
 "cells": [
  {
   "cell_type": "code",
   "execution_count": 1,
   "metadata": {},
   "outputs": [],
   "source": [
    "import time\n",
    "import pickle\n",
    "import torch\n",
    "import copy\n",
    "import torch.nn          as nn\n",
    "import numpy             as np\n",
    "import pandas            as pd\n",
    "import matplotlib.pyplot as plt \n",
    "import seaborn           as sns\n",
    "\n",
    "from typing           import List\n",
    "from torch.utils.data import Dataset, DataLoader\n",
    "from torch_geometric.loader import DataLoader as PyG_Dataloader\n",
    "\n",
    "from config import (\n",
    "    PATH_TO_FEATURES,\n",
    "    PATH_TO_SAVED_DRUG_FEATURES,\n",
    "    PATH_SUMMARY_DATASETS\n",
    ")\n",
    "WITHOUT_MISSING_FOLDER = '/without_missing/'\n",
    "\n",
    "torch.manual_seed(42)\n",
    "sns.set_theme(style=\"white\")"
   ]
  },
  {
   "cell_type": "markdown",
   "metadata": {},
   "source": [
    "---\n",
    "\n",
    "# Experiments on the `TabGraph` approach\n",
    "\n",
    "In this notebook we are going to expirment the approach of \n",
    "- having the cell-line branch using tabular input (`Tab`)\n",
    "- replacing the drug branch by a GNN (`Graph`)"
   ]
  },
  {
   "cell_type": "markdown",
   "metadata": {},
   "source": [
    "## Base Datasets"
   ]
  },
  {
   "cell_type": "code",
   "execution_count": 2,
   "metadata": {},
   "outputs": [],
   "source": [
    "# (Tab) Reading cell-line gene matrix.\n",
    "with open(f'{PATH_SUMMARY_DATASETS}{WITHOUT_MISSING_FOLDER}cell_line_gene_matrix.pkl', 'rb') as f: cl_gene_mat = pickle.load(f)\n",
    "# (Graph) Reading drug SMILES graph.\n",
    "with open(f'{PATH_SUMMARY_DATASETS}drug_graphs_dict.pkl', 'rb') as f: drug_graphs = pickle.load(f)\n",
    "# (Tab) Reading drug response matrix.\n",
    "with open(f'{PATH_SUMMARY_DATASETS}{WITHOUT_MISSING_FOLDER}drug_response_matrix__gdsc2.pkl', 'rb') as f: drug_response_matrix = pickle.load(f)  "
   ]
  },
  {
   "cell_type": "code",
   "execution_count": 3,
   "metadata": {},
   "outputs": [
    {
     "name": "stdout",
     "output_type": "stream",
     "text": [
      "Cell-line gene matrix\n",
      "=====================\n",
      "(732, 3432)\n"
     ]
    },
    {
     "data": {
      "text/html": [
       "<div>\n",
       "<style scoped>\n",
       "    .dataframe tbody tr th:only-of-type {\n",
       "        vertical-align: middle;\n",
       "    }\n",
       "\n",
       "    .dataframe tbody tr th {\n",
       "        vertical-align: top;\n",
       "    }\n",
       "\n",
       "    .dataframe thead th {\n",
       "        text-align: right;\n",
       "    }\n",
       "</style>\n",
       "<table border=\"1\" class=\"dataframe\">\n",
       "  <thead>\n",
       "    <tr style=\"text-align: right;\">\n",
       "      <th></th>\n",
       "      <th>FBXL12_gexpr</th>\n",
       "      <th>PIN1_gexpr</th>\n",
       "      <th>PAK4_gexpr</th>\n",
       "      <th>GNA15_gexpr</th>\n",
       "      <th>ARPP19_gexpr</th>\n",
       "      <th>EAPP_gexpr</th>\n",
       "      <th>MOK_gexpr</th>\n",
       "      <th>MTHFD2_gexpr</th>\n",
       "      <th>TIPARP_gexpr</th>\n",
       "      <th>CASP3_gexpr</th>\n",
       "      <th>...</th>\n",
       "      <th>PDHX_mut</th>\n",
       "      <th>DFFB_mut</th>\n",
       "      <th>FOSL1_mut</th>\n",
       "      <th>ETS1_mut</th>\n",
       "      <th>EBNA1BP2_mut</th>\n",
       "      <th>MYL9_mut</th>\n",
       "      <th>MLLT11_mut</th>\n",
       "      <th>PFKL_mut</th>\n",
       "      <th>FGFR4_mut</th>\n",
       "      <th>SDHB_mut</th>\n",
       "    </tr>\n",
       "    <tr>\n",
       "      <th>CELL_LINE_NAME</th>\n",
       "      <th></th>\n",
       "      <th></th>\n",
       "      <th></th>\n",
       "      <th></th>\n",
       "      <th></th>\n",
       "      <th></th>\n",
       "      <th></th>\n",
       "      <th></th>\n",
       "      <th></th>\n",
       "      <th></th>\n",
       "      <th></th>\n",
       "      <th></th>\n",
       "      <th></th>\n",
       "      <th></th>\n",
       "      <th></th>\n",
       "      <th></th>\n",
       "      <th></th>\n",
       "      <th></th>\n",
       "      <th></th>\n",
       "      <th></th>\n",
       "      <th></th>\n",
       "    </tr>\n",
       "  </thead>\n",
       "  <tbody>\n",
       "    <tr>\n",
       "      <th>22RV1</th>\n",
       "      <td>7.023759</td>\n",
       "      <td>6.067534</td>\n",
       "      <td>4.318750</td>\n",
       "      <td>3.261427</td>\n",
       "      <td>6.297582</td>\n",
       "      <td>8.313991</td>\n",
       "      <td>5.514912</td>\n",
       "      <td>10.594112</td>\n",
       "      <td>5.222366</td>\n",
       "      <td>6.635925</td>\n",
       "      <td>...</td>\n",
       "      <td>1.0</td>\n",
       "      <td>0.0</td>\n",
       "      <td>0.0</td>\n",
       "      <td>0.0</td>\n",
       "      <td>0.0</td>\n",
       "      <td>0.0</td>\n",
       "      <td>1.0</td>\n",
       "      <td>0.0</td>\n",
       "      <td>1.0</td>\n",
       "      <td>0.0</td>\n",
       "    </tr>\n",
       "    <tr>\n",
       "      <th>23132-87</th>\n",
       "      <td>6.714387</td>\n",
       "      <td>5.695096</td>\n",
       "      <td>4.536146</td>\n",
       "      <td>3.295886</td>\n",
       "      <td>7.021037</td>\n",
       "      <td>8.500080</td>\n",
       "      <td>4.862145</td>\n",
       "      <td>10.609245</td>\n",
       "      <td>6.528668</td>\n",
       "      <td>7.238143</td>\n",
       "      <td>...</td>\n",
       "      <td>0.0</td>\n",
       "      <td>0.0</td>\n",
       "      <td>0.0</td>\n",
       "      <td>0.0</td>\n",
       "      <td>0.0</td>\n",
       "      <td>0.0</td>\n",
       "      <td>0.0</td>\n",
       "      <td>0.0</td>\n",
       "      <td>0.0</td>\n",
       "      <td>0.0</td>\n",
       "    </tr>\n",
       "    <tr>\n",
       "      <th>42-MG-BA</th>\n",
       "      <td>7.752402</td>\n",
       "      <td>5.475753</td>\n",
       "      <td>4.033714</td>\n",
       "      <td>3.176525</td>\n",
       "      <td>7.279671</td>\n",
       "      <td>8.013367</td>\n",
       "      <td>4.957332</td>\n",
       "      <td>11.266705</td>\n",
       "      <td>7.445954</td>\n",
       "      <td>6.312424</td>\n",
       "      <td>...</td>\n",
       "      <td>0.0</td>\n",
       "      <td>0.0</td>\n",
       "      <td>0.0</td>\n",
       "      <td>0.0</td>\n",
       "      <td>0.0</td>\n",
       "      <td>0.0</td>\n",
       "      <td>0.0</td>\n",
       "      <td>0.0</td>\n",
       "      <td>0.0</td>\n",
       "      <td>0.0</td>\n",
       "    </tr>\n",
       "  </tbody>\n",
       "</table>\n",
       "<p>3 rows × 3432 columns</p>\n",
       "</div>"
      ],
      "text/plain": [
       "                FBXL12_gexpr  PIN1_gexpr  PAK4_gexpr  GNA15_gexpr  \\\n",
       "CELL_LINE_NAME                                                      \n",
       "22RV1               7.023759    6.067534    4.318750     3.261427   \n",
       "23132-87            6.714387    5.695096    4.536146     3.295886   \n",
       "42-MG-BA            7.752402    5.475753    4.033714     3.176525   \n",
       "\n",
       "                ARPP19_gexpr  EAPP_gexpr  MOK_gexpr  MTHFD2_gexpr  \\\n",
       "CELL_LINE_NAME                                                      \n",
       "22RV1               6.297582    8.313991   5.514912     10.594112   \n",
       "23132-87            7.021037    8.500080   4.862145     10.609245   \n",
       "42-MG-BA            7.279671    8.013367   4.957332     11.266705   \n",
       "\n",
       "                TIPARP_gexpr  CASP3_gexpr  ...  PDHX_mut  DFFB_mut  FOSL1_mut  \\\n",
       "CELL_LINE_NAME                             ...                                  \n",
       "22RV1               5.222366     6.635925  ...       1.0       0.0        0.0   \n",
       "23132-87            6.528668     7.238143  ...       0.0       0.0        0.0   \n",
       "42-MG-BA            7.445954     6.312424  ...       0.0       0.0        0.0   \n",
       "\n",
       "                ETS1_mut  EBNA1BP2_mut  MYL9_mut  MLLT11_mut  PFKL_mut  \\\n",
       "CELL_LINE_NAME                                                           \n",
       "22RV1                0.0           0.0       0.0         1.0       0.0   \n",
       "23132-87             0.0           0.0       0.0         0.0       0.0   \n",
       "42-MG-BA             0.0           0.0       0.0         0.0       0.0   \n",
       "\n",
       "                FGFR4_mut  SDHB_mut  \n",
       "CELL_LINE_NAME                       \n",
       "22RV1                 1.0       0.0  \n",
       "23132-87              0.0       0.0  \n",
       "42-MG-BA              0.0       0.0  \n",
       "\n",
       "[3 rows x 3432 columns]"
      ]
     },
     "execution_count": 3,
     "metadata": {},
     "output_type": "execute_result"
    }
   ],
   "source": [
    "print(f\"Cell-line gene matrix\\n{21*'='}\")\n",
    "cl_gene_mat.set_index(['CELL_LINE_NAME'], inplace=True)\n",
    "print(cl_gene_mat.shape)\n",
    "cl_gene_mat.head(3)"
   ]
  },
  {
   "cell_type": "code",
   "execution_count": 4,
   "metadata": {},
   "outputs": [
    {
     "name": "stdout",
     "output_type": "stream",
     "text": [
      "Drug SMILES fingerprint graphs\n",
      "==============================\n",
      "Number of drugs: 152\n",
      "SUCCESS: All drugs succeeded according to this issue: https://github.com/pyg-team/pytorch_geometric/issues/4588\n",
      "Examples:\n",
      "---------\n",
      "drug_id 1003 = Camptothecin  has graph: Data(x=[26, 9], edge_index=[2, 60], edge_attr=[60, 3], smiles='CC[C@@]1(c2cc3c4c(cc5ccccc5n4)Cn3c(=O)c2COC1=O)O')\n",
      "drug_id 1004 = Vinblastine   has graph: Data(x=[59, 9], edge_index=[2, 134], edge_attr=[134, 3], smiles='CC[C@@]1(C[C@@H]2C[C@](c3cc4c(cc3OC)N(C)[C@@H]3[C@@]54CCN4CC=C[C@](CC)([C@@H]54)[C@H]([C@@]3(C(=O)OC)O)OC(=O)C)(c3c(CCN(C2)C1)c1ccccc1[nH]3)C(=O)OC)O')\n",
      "drug_id 1006 = Cytarabine    has graph: Data(x=[17, 9], edge_index=[2, 36], edge_attr=[36, 3], smiles='c1cn([C@H]2[C@H]([C@@H]([C@@H](CO)O2)O)O)c(nc1=N)O')\n"
     ]
    }
   ],
   "source": [
    "print(f\"Drug SMILES fingerprint graphs\\n{30*'='}\")\n",
    "print(f\"Number of drugs: {len(list(drug_graphs.keys()))}\")\n",
    "for drug, G in drug_graphs.items():\n",
    "    assert G.edge_index.max() < G.num_nodes, f'FAIL for drug: {drug}'\n",
    "print(\"SUCCESS: All drugs succeeded according to this issue: https://github.com/pyg-team/pytorch_geometric/issues/4588\")\n",
    "print(f\"Examples:\\n{9*'-'}\")\n",
    "for drug_id in [1003, 1004, 1006]:  \n",
    "    drug_name = drug_response_matrix.loc[drug_response_matrix.DRUG_ID==drug_id].DRUG_NAME.unique()[0]\n",
    "    print(f\"drug_id {drug_id} = {drug_name:13s} has graph: {drug_graphs[drug_id]}\")"
   ]
  },
  {
   "cell_type": "code",
   "execution_count": 5,
   "metadata": {},
   "outputs": [
    {
     "name": "stdout",
     "output_type": "stream",
     "text": [
      "Drug response matrix\n",
      "====================\n",
      "(91991, 5)\n",
      "Number of unique cell lines: 732\n",
      "Number of unique drug id's: 152\n",
      "Number of unique drug names's: 152\n",
      "CELL_LINE_NAME    0\n",
      "DRUG_ID           0\n",
      "DRUG_NAME         0\n",
      "DATASET           0\n",
      "LN_IC50           0\n",
      "dtype: int64\n"
     ]
    },
    {
     "data": {
      "text/html": [
       "<div>\n",
       "<style scoped>\n",
       "    .dataframe tbody tr th:only-of-type {\n",
       "        vertical-align: middle;\n",
       "    }\n",
       "\n",
       "    .dataframe tbody tr th {\n",
       "        vertical-align: top;\n",
       "    }\n",
       "\n",
       "    .dataframe thead th {\n",
       "        text-align: right;\n",
       "    }\n",
       "</style>\n",
       "<table border=\"1\" class=\"dataframe\">\n",
       "  <thead>\n",
       "    <tr style=\"text-align: right;\">\n",
       "      <th></th>\n",
       "      <th>CELL_LINE_NAME</th>\n",
       "      <th>DRUG_ID</th>\n",
       "      <th>DRUG_NAME</th>\n",
       "      <th>DATASET</th>\n",
       "      <th>LN_IC50</th>\n",
       "    </tr>\n",
       "  </thead>\n",
       "  <tbody>\n",
       "    <tr>\n",
       "      <th>3441054</th>\n",
       "      <td>22RV1</td>\n",
       "      <td>1003</td>\n",
       "      <td>Camptothecin</td>\n",
       "      <td>GDSC2</td>\n",
       "      <td>-3.142631</td>\n",
       "    </tr>\n",
       "    <tr>\n",
       "      <th>3459252</th>\n",
       "      <td>22RV1</td>\n",
       "      <td>1004</td>\n",
       "      <td>Vinblastine</td>\n",
       "      <td>GDSC2</td>\n",
       "      <td>-4.459259</td>\n",
       "    </tr>\n",
       "    <tr>\n",
       "      <th>3508920</th>\n",
       "      <td>22RV1</td>\n",
       "      <td>1006</td>\n",
       "      <td>Cytarabine</td>\n",
       "      <td>GDSC2</td>\n",
       "      <td>3.826935</td>\n",
       "    </tr>\n",
       "  </tbody>\n",
       "</table>\n",
       "</div>"
      ],
      "text/plain": [
       "        CELL_LINE_NAME  DRUG_ID     DRUG_NAME DATASET   LN_IC50\n",
       "3441054          22RV1     1003  Camptothecin   GDSC2 -3.142631\n",
       "3459252          22RV1     1004   Vinblastine   GDSC2 -4.459259\n",
       "3508920          22RV1     1006    Cytarabine   GDSC2  3.826935"
      ]
     },
     "execution_count": 5,
     "metadata": {},
     "output_type": "execute_result"
    }
   ],
   "source": [
    "print(f\"Drug response matrix\\n{20*'='}\")\n",
    "print(drug_response_matrix.shape)\n",
    "print(\"Number of unique cell lines:\", len(drug_response_matrix.CELL_LINE_NAME.unique()))\n",
    "print(\"Number of unique drug id's:\", len(drug_response_matrix.DRUG_ID.unique()))\n",
    "print(\"Number of unique drug names's:\", len(drug_response_matrix.DRUG_NAME.unique()))\n",
    "print(drug_response_matrix.isna().sum())\n",
    "drug_response_matrix.head(3)"
   ]
  },
  {
   "cell_type": "markdown",
   "metadata": {},
   "source": [
    "## Build PyTorch Dataset"
   ]
  },
  {
   "cell_type": "code",
   "execution_count": 6,
   "metadata": {},
   "outputs": [],
   "source": [
    "from torch_geometric.data import Dataset\n",
    "\n",
    "class TabGraphDataset(Dataset): \n",
    "    def __init__(self, cl_gene_mat, drug_graphs, drm):\n",
    "        super().__init__()\n",
    "\n",
    "        # Cell-line gene matrix and drug SMILES fingerprints graphs.\n",
    "        self.cl_gene_mat = cl_gene_mat\n",
    "        self.drug_graphs = drug_graphs\n",
    "\n",
    "        # Lookup datasets for the response values.\n",
    "        drm.reset_index(drop=True, inplace=True)\n",
    "        self.cell_lines = drm['CELL_LINE_NAME']\n",
    "        self.drug_ids = drm['DRUG_ID']\n",
    "        self.drug_names = drm['DRUG_NAME']\n",
    "        self.ic50s = drm['LN_IC50']\n",
    "\n",
    "    def __len__(self):\n",
    "        return len(self.ic50s)\n",
    "\n",
    "    def __getitem__(self, idx: int):\n",
    "        \"\"\"\n",
    "        Returns a tuple of cell-line, drug and the corresponding ln(IC50)\n",
    "        value for a given index.\n",
    "\n",
    "        Args:\n",
    "            idx (`int`): Index to specify the row in the drug response matrix.  \n",
    "        Returns:\n",
    "            `np.ndarray, Tuple[torch_geometric.data.data.Data], np.float64]`:\n",
    "            Tuple of a cell-line gene values, drug SMILES fingerprint graph and \n",
    "            the corresponding ln(IC50) value.\n",
    "        \"\"\"\n",
    "        return (self.cl_gene_mat.loc[self.cell_lines.iloc[idx]].values.tolist(),\n",
    "                self.drug_graphs[self.drug_ids.iloc[idx]],\n",
    "                self.ic50s.iloc[idx])\n",
    "\n",
    "    def print_dataset_summary(self):\n",
    "        print(f\"TabGraphDataset Summary\")\n",
    "        print(f\"{23*'='}\")\n",
    "        print(f\"# observations : {len(self.ic50s)}\")\n",
    "        print(f\"# cell-lines   : {len(np.unique(self.cell_lines))}\")\n",
    "        print(f\"# drugs        : {len(self.drug_graphs.keys())}\")\n",
    "        print(f\"# genes        : {len(self.cl_gene_mat.columns)/4}\")"
   ]
  },
  {
   "cell_type": "code",
   "execution_count": 7,
   "metadata": {},
   "outputs": [
    {
     "name": "stdout",
     "output_type": "stream",
     "text": [
      "TabGraphDataset Summary\n",
      "=======================\n",
      "# observations : 91991\n",
      "# cell-lines   : 732\n",
      "# drugs        : 152\n",
      "# genes        : 858.0\n"
     ]
    }
   ],
   "source": [
    "tab_graph_dataset = TabGraphDataset(cl_gene_mat=cl_gene_mat, drug_graphs=drug_graphs, drm=drug_response_matrix)\n",
    "tab_graph_dataset.print_dataset_summary()   "
   ]
  },
  {
   "cell_type": "markdown",
   "metadata": {},
   "source": [
    "## Set Hyperparamaters"
   ]
  },
  {
   "cell_type": "code",
   "execution_count": 8,
   "metadata": {},
   "outputs": [],
   "source": [
    "class Args:\n",
    "    def __init__(self, batch_size, lr, train_ratio, val_ratio, num_epochs):\n",
    "        self.BATCH_SIZE = batch_size\n",
    "        self.LR = lr\n",
    "        self.TRAIN_RATIO = train_ratio\n",
    "        self.TEST_VAL_RATIO = 1-self.TRAIN_RATIO\n",
    "        self.VAL_RATIO = val_ratio\n",
    "        self.NUM_EPOCHS = num_epochs\n",
    "        self.RANDOM_SEED = 12345      \n",
    "\n",
    "args = Args(batch_size=1_000, \n",
    "            lr=0.0001, \n",
    "            train_ratio=0.8, \n",
    "            val_ratio=0.5, \n",
    "            num_epochs=5)"
   ]
  },
  {
   "cell_type": "markdown",
   "metadata": {},
   "source": [
    "## Create `DataLoader` Datasets"
   ]
  },
  {
   "cell_type": "code",
   "execution_count": 9,
   "metadata": {},
   "outputs": [
    {
     "name": "stdout",
     "output_type": "stream",
     "text": [
      "Full     shape: (91991, 5)\n",
      "train    shape: (73592, 5)\n",
      "test_val shape: (18399, 5)\n",
      "test     shape: (9199, 5)\n",
      "val      shape: (9200, 5)\n",
      "\n",
      "train_dataset:\n",
      "TabGraphDataset Summary\n",
      "=======================\n",
      "# observations : 73592\n",
      "# cell-lines   : 732\n",
      "# drugs        : 152\n",
      "# genes        : 858.0\n",
      "\n",
      "\n",
      "test_dataset:\n",
      "TabGraphDataset Summary\n",
      "=======================\n",
      "# observations : 9199\n",
      "# cell-lines   : 732\n",
      "# drugs        : 152\n",
      "# genes        : 858.0\n",
      "\n",
      "\n",
      "val_dataset:\n",
      "TabGraphDataset Summary\n",
      "=======================\n",
      "# observations : 9200\n",
      "# cell-lines   : 732\n",
      "# drugs        : 152\n",
      "# genes        : 858.0\n"
     ]
    }
   ],
   "source": [
    "from sklearn.model_selection import train_test_split\n",
    "from torch_geometric.data import Batch\n",
    "from torch_geometric.loader import DataLoader as PyG_DataLoader\n",
    "\n",
    "\n",
    "def _collate_tab_graph(samples):\n",
    "    cls, drugs, ic50s = map(list, zip(*samples))\n",
    "    cls = [torch.tensor(cl, dtype=torch.float64) for cl in cls]\n",
    "    return torch.stack(cls, 0), Batch.from_data_list(drugs), torch.tensor(ic50s)\n",
    "\n",
    "def create_datasets(drm, cl_gene_mat, drug_graphs, args):\n",
    "    print(f\"Full     shape: {drm.shape}\")\n",
    "    train_set, test_val_set = train_test_split(drm, \n",
    "                                               test_size=args.TEST_VAL_RATIO, \n",
    "                                               random_state=args.RANDOM_SEED,\n",
    "                                               stratify=drm['CELL_LINE_NAME'])\n",
    "    test_set, val_set = train_test_split(test_val_set,\n",
    "                                         test_size=args.VAL_RATIO,\n",
    "                                         random_state=args.RANDOM_SEED,\n",
    "                                         stratify=test_val_set['CELL_LINE_NAME'])\n",
    "    print(f\"train    shape: {train_set.shape}\")\n",
    "    print(f\"test_val shape: {test_val_set.shape}\")\n",
    "    print(f\"test     shape: {test_set.shape}\")\n",
    "    print(f\"val      shape: {val_set.shape}\")\n",
    "\n",
    "    train_dataset = TabGraphDataset(cl_gene_mat=cl_gene_mat, drug_graphs=drug_graphs, drm=train_set)\n",
    "    test_dataset = TabGraphDataset(cl_gene_mat=cl_gene_mat, drug_graphs=drug_graphs, drm=test_set)\n",
    "    val_dataset = TabGraphDataset(cl_gene_mat=cl_gene_mat, drug_graphs=drug_graphs, drm=val_set)\n",
    "\n",
    "    print(\"\\ntrain_dataset:\")\n",
    "    train_dataset.print_dataset_summary()\n",
    "    print(\"\\n\\ntest_dataset:\")\n",
    "    test_dataset.print_dataset_summary()\n",
    "    print(\"\\n\\nval_dataset:\")\n",
    "    val_dataset.print_dataset_summary()\n",
    "\n",
    "    # TODO: try out different `num_workers` (by using external python files).\n",
    "    train_loader = PyG_DataLoader(dataset=train_dataset, batch_size=args.BATCH_SIZE, shuffle=True)\n",
    "    test_loader = PyG_DataLoader(dataset=test_dataset, batch_size=args.BATCH_SIZE, shuffle=True)\n",
    "    val_loader = PyG_DataLoader(dataset=val_dataset, batch_size=args.BATCH_SIZE, shuffle=True)\n",
    "\n",
    "    return train_loader, test_loader, val_loader\n",
    "\n",
    "train_loader, test_loader, val_loader = create_datasets(drug_response_matrix, cl_gene_mat, drug_graphs, args)"
   ]
  },
  {
   "cell_type": "code",
   "execution_count": 10,
   "metadata": {},
   "outputs": [
    {
     "name": "stdout",
     "output_type": "stream",
     "text": [
      "Number of batches per dataset:\n",
      "  train : 74\n",
      "  test  : 10\n",
      "  val   : 10\n"
     ]
    }
   ],
   "source": [
    "print(\"Number of batches per dataset:\")\n",
    "print(f\"  train : {len(train_loader)}\")\n",
    "print(f\"  test  : {len(test_loader)}\")\n",
    "print(f\"  val   : {len(val_loader)}\")"
   ]
  },
  {
   "cell_type": "code",
   "execution_count": 11,
   "metadata": {},
   "outputs": [
    {
     "name": "stdout",
     "output_type": "stream",
     "text": [
      "Step 1:\n",
      "=======\n",
      "Number of graphs in the batch: 1000\n",
      "3432\n",
      "torch.Size([1000])\n",
      "Step 2:\n",
      "=======\n",
      "Number of graphs in the batch: 1000\n",
      "3432\n",
      "torch.Size([1000])\n",
      "Step 3:\n",
      "=======\n",
      "Number of graphs in the batch: 1000\n",
      "3432\n",
      "torch.Size([1000])\n",
      "... step 10\n",
      "... step 20\n",
      "... step 30\n",
      "... step 40\n",
      "... step 50\n",
      "... step 60\n",
      "... step 70\n",
      "Step 74:\n",
      "=======\n",
      "Number of graphs in the batch: 592\n",
      "3432\n",
      "torch.Size([592])\n"
     ]
    }
   ],
   "source": [
    "for step, data in enumerate(train_loader):\n",
    "    if (step > 2) & (step < len(train_loader)-1):\n",
    "        if step % 10 == 0: \n",
    "            print(\"... step\", step) \n",
    "        continue\n",
    "    else:    \n",
    "        cl_genes, drugs, targets = data\n",
    "        print(f'Step {step + 1}:')\n",
    "        print(f'=======')\n",
    "        print(\"Number of graphs in the batch:\", drugs.num_graphs)\n",
    "        print(len(cl_genes))\n",
    "        print(targets.shape)"
   ]
  },
  {
   "cell_type": "markdown",
   "metadata": {},
   "source": [
    "## Model development"
   ]
  },
  {
   "cell_type": "code",
   "execution_count": 12,
   "metadata": {},
   "outputs": [],
   "source": [
    "from tqdm import tqdm\n",
    "from time import sleep\n",
    "from sklearn.metrics import r2_score, mean_absolute_error\n",
    "from scipy.stats import pearsonr\n",
    "\n",
    "class BuildModel():\n",
    "    def __init__(self, model, criterion, optimizer, num_epochs, \n",
    "        train_loader, test_loader, val_loader, device):\n",
    "        self.train_losses = []\n",
    "        self.test_losses = []\n",
    "        self.val_losses = []\n",
    "        self.train_loader = train_loader\n",
    "        self.test_loader = test_loader\n",
    "        self.val_loader = val_loader\n",
    "        self.num_epochs = num_epochs\n",
    "        self.model = model\n",
    "        self.criterion = criterion\n",
    "        self.optimizer = optimizer\n",
    "        self.device = device\n",
    "\n",
    "    def train(self, loader): \n",
    "        train_epoch_losses, val_epoch_losses = [], []\n",
    "        all_batch_losses = [] # TODO: this is just for monitoring\n",
    "        n_batches = len(loader)\n",
    "\n",
    "        self.model = self.model.float() # TODO: maybe remove\n",
    "        for epoch in range(self.num_epochs):\n",
    "            self.model.train()\n",
    "            batch_losses = []\n",
    "            for i, data in enumerate(tqdm(loader, desc='Iteration')):\n",
    "                sleep(0.01)\n",
    "                cell, drug, targets = data\n",
    "                cell = torch.stack(cell, 0).transpose(1, 0) # Note that this is only neede when geometric \n",
    "                                                            # Dataloader is used and no collate.\n",
    "                cell, drug, targets = cell.to(device), drug.to(device), targets.to(device)\n",
    "\n",
    "                self.optimizer.zero_grad()\n",
    "\n",
    "                #print('cell.shape    : ', cell.size)\n",
    "                # print('drug.shape    : ', drug.shape)\n",
    "                # print('targets.size  : ', targets.shape)\n",
    "\n",
    "                # Models predictions of the ic50s for a batch of cell-lines and drugs\n",
    "                preds = self.model(cell.float(), drug).unsqueeze(1)\n",
    "                # print(100*\"=\")\n",
    "                # print(targets)\n",
    "                # print(targets.view(-1, 1))\n",
    "                loss = self.criterion(preds, targets.view(-1, 1).float()) # =train_loss\n",
    "                batch_losses.append(loss)\n",
    "\n",
    "                loss.backward()\n",
    "                self.optimizer.step()\n",
    "\n",
    "            all_batch_losses.append(batch_losses) # TODO: this is just for monitoring\n",
    "            total_epoch_loss = sum(batch_losses)\n",
    "            train_epoch_losses.append(total_epoch_loss / n_batches)\n",
    "\n",
    "            mse, _, _, _, _ = self.validate(self.val_loader)\n",
    "            val_epoch_losses.append(mse)\n",
    "\n",
    "            print(\"=====Epoch \", epoch)\n",
    "            print(f\"Train      | MSE: {train_epoch_losses[-1]:2.5f}\")\n",
    "            print(f\"Validation | MSE: {mse:2.5f}\")\n",
    "\n",
    "        return train_epoch_losses, val_epoch_losses            \n",
    "\n",
    "    def validate(self, loader):\n",
    "        self.model.eval()\n",
    "        y_true, y_pred = [], []\n",
    "        total_loss = 0\n",
    "        with torch.no_grad():\n",
    "            for data in tqdm(loader, desc='Iter', position=0, leave=True):\n",
    "                sleep(0.01)\n",
    "                cl, dr, ic50 = data\n",
    "                cl = torch.stack(cl, 0).transpose(1, 0)\n",
    "\n",
    "                preds = self.model(cl.float(), dr).unsqueeze(1)\n",
    "                ic50 = ic50.to(self.device)\n",
    "                total_loss += self.criterion(preds, ic50.view(-1,1).float())\n",
    "                y_true.append(ic50.view(-1, 1))\n",
    "                y_pred.append(preds)\n",
    "        \n",
    "        y_true = torch.cat(y_true, dim=0)\n",
    "        y_pred = torch.cat(y_pred, dim=0)\n",
    "        mse = total_loss / len(loader)\n",
    "        rmse = torch.sqrt(mse)\n",
    "        mae = mean_absolute_error(y_true.cpu(), y_pred.cpu())\n",
    "        r2 = r2_score(y_true.cpu(), y_pred.cpu())\n",
    "        pearson_corr_coef, _ = pearsonr(y_true.cpu().numpy().flatten(), \n",
    "                                        y_pred.cpu().numpy().flatten())\n",
    "\n",
    "        return mse, rmse, mae, r2, pearson_corr_coef"
   ]
  },
  {
   "cell_type": "code",
   "execution_count": 13,
   "metadata": {},
   "outputs": [
    {
     "name": "stdout",
     "output_type": "stream",
     "text": [
      "device: cpu\n"
     ]
    }
   ],
   "source": [
    "%load_ext autoreload\n",
    "%autoreload\n",
    "# from v3_GCN import GraphTab_v1\n",
    "# from my_utils.model_helpers import train_and_test_model\n",
    "from torch_geometric.nn import Sequential, GINConv, global_mean_pool, global_max_pool\n",
    "\n",
    "\n",
    "class TabGraph_v1(torch.nn.Module):\n",
    "    def __init__(self):\n",
    "        super(TabGraph_v1, self).__init__()\n",
    "        # torch.manual_seed(12345)\n",
    "\n",
    "        self.cell_emb = nn.Sequential(\n",
    "            nn.Linear(3432, 516),\n",
    "            nn.BatchNorm1d(516),\n",
    "            nn.ReLU(),\n",
    "            nn.Dropout(p=0.1),\n",
    "            nn.Linear(516, 256),\n",
    "            nn.BatchNorm1d(256),\n",
    "            nn.ReLU(),\n",
    "            nn.Dropout(p=0.1),\n",
    "            nn.Linear(256, 128),\n",
    "            nn.BatchNorm1d(128),\n",
    "            nn.ReLU()         \n",
    "        )\n",
    "\n",
    "        self.drug_emb = Sequential('x, edge_index, batch', \n",
    "            [\n",
    "                (GINConv(\n",
    "                    nn.Sequential(\n",
    "                        nn.Linear(9, 128), # 9 = num_node_features\n",
    "                        nn.BatchNorm1d(128),\n",
    "                        nn.ReLU(),\n",
    "                        nn.Linear(128, 128)\n",
    "                    )\n",
    "                ), 'x, edge_index -> x1'),\n",
    "                nn.ReLU(inplace=True),\n",
    "                nn.BatchNorm1d(128),\n",
    "                (GINConv(\n",
    "                    nn.Sequential(\n",
    "                        nn.Linear(128, 128),\n",
    "                        nn.BatchNorm1d(128),\n",
    "                        nn.ReLU(),\n",
    "                        nn.Linear(128, 128)\n",
    "                    )\n",
    "                ), 'x1, edge_index -> x2'),\n",
    "                nn.ReLU(inplace=True),\n",
    "                nn.BatchNorm1d(128),\n",
    "                # TODO: research maybe JumpingKnowledge at this point\n",
    "                (global_max_pool, 'x2, batch -> x3'),\n",
    "                nn.Linear(128, 128),\n",
    "                nn.BatchNorm1d(128),\n",
    "                nn.ReLU(),\n",
    "                nn.Dropout(p=0.1),\n",
    "                nn.Linear(128, 128),\n",
    "                nn.ReLU()\n",
    "            ]\n",
    "        )\n",
    "\n",
    "        self.fcn = nn.Sequential(\n",
    "            nn.Linear(2*128, 128),\n",
    "            nn.BatchNorm1d(128),\n",
    "            nn.ELU(),\n",
    "            nn.Dropout(p=0.1),\n",
    "            nn.Linear(128, 64),\n",
    "            nn.BatchNorm1d(64),\n",
    "            nn.ELU(),\n",
    "            nn.Dropout(p=0.1),\n",
    "            nn.Linear(64, 1)\n",
    "        )\n",
    "\n",
    "    def forward(self, cell, drug):\n",
    "        cell_emb = self.cell_emb(cell)\n",
    "        drug_emb = self.drug_emb(drug.x.float(), drug.edge_index, drug.batch)\n",
    "        concat = torch.cat([cell_emb, drug_emb], -1)\n",
    "        y_pred = self.fcn(concat)\n",
    "        y_pred = y_pred.reshape(y_pred.shape[0])\n",
    "        return y_pred\n",
    "\n",
    "torch.manual_seed(args.RANDOM_SEED)\n",
    "device = torch.device(\"cuda\" if torch.cuda.is_available() else \"cpu\")\n",
    "print(f\"device: {device}\")\n",
    "\n",
    "model = TabGraph_v1().to(device)\n",
    "loss_func = nn.MSELoss()\n",
    "optimizer = torch.optim.Adam(params=model.parameters(), lr=args.LR) # TODO: include weight_decay of lr\n",
    "\n",
    "build_model = BuildModel(model=model,\n",
    "                         criterion=loss_func,\n",
    "                         optimizer=optimizer,\n",
    "                         num_epochs=20,\n",
    "                         train_loader=train_loader,\n",
    "                         test_loader=test_loader,\n",
    "                         val_loader=val_loader, \n",
    "                         device=device)"
   ]
  },
  {
   "cell_type": "code",
   "execution_count": 150,
   "metadata": {},
   "outputs": [
    {
     "name": "stderr",
     "output_type": "stream",
     "text": [
      "Iteration: 100%|██████████| 74/74 [03:25<00:00,  2.78s/it]\n",
      "Iter: 100%|██████████| 10/10 [00:19<00:00,  1.93s/it]\n"
     ]
    },
    {
     "name": "stdout",
     "output_type": "stream",
     "text": [
      "=====Epoch  0\n",
      "Train      | MSE: 9.92948\n",
      "Validation | MSE: 7.26444\n"
     ]
    },
    {
     "name": "stderr",
     "output_type": "stream",
     "text": [
      "Iteration: 100%|██████████| 74/74 [03:16<00:00,  2.66s/it]\n",
      "Iter: 100%|██████████| 10/10 [00:20<00:00,  2.08s/it]\n"
     ]
    },
    {
     "name": "stdout",
     "output_type": "stream",
     "text": [
      "=====Epoch  1\n",
      "Train      | MSE: 7.04456\n",
      "Validation | MSE: 6.17102\n"
     ]
    },
    {
     "name": "stderr",
     "output_type": "stream",
     "text": [
      "Iteration: 100%|██████████| 74/74 [03:06<00:00,  2.53s/it]\n",
      "Iter: 100%|██████████| 10/10 [00:16<00:00,  1.60s/it]\n"
     ]
    },
    {
     "name": "stdout",
     "output_type": "stream",
     "text": [
      "=====Epoch  2\n",
      "Train      | MSE: 6.25747\n",
      "Validation | MSE: 5.91426\n"
     ]
    },
    {
     "name": "stderr",
     "output_type": "stream",
     "text": [
      "Iteration: 100%|██████████| 74/74 [02:48<00:00,  2.28s/it]\n",
      "Iter: 100%|██████████| 10/10 [00:15<00:00,  1.59s/it]\n"
     ]
    },
    {
     "name": "stdout",
     "output_type": "stream",
     "text": [
      "=====Epoch  3\n",
      "Train      | MSE: 5.64175\n",
      "Validation | MSE: 5.25848\n"
     ]
    },
    {
     "name": "stderr",
     "output_type": "stream",
     "text": [
      "Iteration: 100%|██████████| 74/74 [03:05<00:00,  2.50s/it]\n",
      "Iter: 100%|██████████| 10/10 [00:17<00:00,  1.70s/it]\n"
     ]
    },
    {
     "name": "stdout",
     "output_type": "stream",
     "text": [
      "=====Epoch  4\n",
      "Train      | MSE: 5.12141\n",
      "Validation | MSE: 4.23384\n"
     ]
    },
    {
     "name": "stderr",
     "output_type": "stream",
     "text": [
      "Iteration: 100%|██████████| 74/74 [02:59<00:00,  2.42s/it]\n",
      "Iter: 100%|██████████| 10/10 [00:16<00:00,  1.64s/it]\n"
     ]
    },
    {
     "name": "stdout",
     "output_type": "stream",
     "text": [
      "=====Epoch  5\n",
      "Train      | MSE: 4.65983\n",
      "Validation | MSE: 3.87459\n"
     ]
    },
    {
     "name": "stderr",
     "output_type": "stream",
     "text": [
      "Iteration: 100%|██████████| 74/74 [03:00<00:00,  2.44s/it]\n",
      "Iter: 100%|██████████| 10/10 [00:17<00:00,  1.77s/it]\n"
     ]
    },
    {
     "name": "stdout",
     "output_type": "stream",
     "text": [
      "=====Epoch  6\n",
      "Train      | MSE: 4.22909\n",
      "Validation | MSE: 4.34660\n"
     ]
    },
    {
     "name": "stderr",
     "output_type": "stream",
     "text": [
      "Iteration: 100%|██████████| 74/74 [02:49<00:00,  2.29s/it]\n",
      "Iter: 100%|██████████| 10/10 [00:17<00:00,  1.72s/it]\n"
     ]
    },
    {
     "name": "stdout",
     "output_type": "stream",
     "text": [
      "=====Epoch  7\n",
      "Train      | MSE: 3.83737\n",
      "Validation | MSE: 3.67671\n"
     ]
    },
    {
     "name": "stderr",
     "output_type": "stream",
     "text": [
      "Iteration: 100%|██████████| 74/74 [02:59<00:00,  2.43s/it]\n",
      "Iter: 100%|██████████| 10/10 [00:17<00:00,  1.75s/it]\n"
     ]
    },
    {
     "name": "stdout",
     "output_type": "stream",
     "text": [
      "=====Epoch  8\n",
      "Train      | MSE: 3.46817\n",
      "Validation | MSE: 3.00270\n"
     ]
    },
    {
     "name": "stderr",
     "output_type": "stream",
     "text": [
      "Iteration: 100%|██████████| 74/74 [02:50<00:00,  2.30s/it]\n",
      "Iter: 100%|██████████| 10/10 [00:16<00:00,  1.64s/it]\n"
     ]
    },
    {
     "name": "stdout",
     "output_type": "stream",
     "text": [
      "=====Epoch  9\n",
      "Train      | MSE: 3.15483\n",
      "Validation | MSE: 3.12171\n"
     ]
    },
    {
     "name": "stderr",
     "output_type": "stream",
     "text": [
      "Iteration: 100%|██████████| 74/74 [03:00<00:00,  2.43s/it]\n",
      "Iter: 100%|██████████| 10/10 [00:18<00:00,  1.81s/it]\n"
     ]
    },
    {
     "name": "stdout",
     "output_type": "stream",
     "text": [
      "=====Epoch  10\n",
      "Train      | MSE: 2.84782\n",
      "Validation | MSE: 2.74759\n"
     ]
    },
    {
     "name": "stderr",
     "output_type": "stream",
     "text": [
      "Iteration: 100%|██████████| 74/74 [02:57<00:00,  2.40s/it]\n",
      "Iter: 100%|██████████| 10/10 [00:19<00:00,  1.94s/it]\n"
     ]
    },
    {
     "name": "stdout",
     "output_type": "stream",
     "text": [
      "=====Epoch  11\n",
      "Train      | MSE: 2.59350\n",
      "Validation | MSE: 2.33532\n"
     ]
    },
    {
     "name": "stderr",
     "output_type": "stream",
     "text": [
      "Iteration: 100%|██████████| 74/74 [02:58<00:00,  2.41s/it]\n",
      "Iter: 100%|██████████| 10/10 [00:16<00:00,  1.65s/it]\n"
     ]
    },
    {
     "name": "stdout",
     "output_type": "stream",
     "text": [
      "=====Epoch  12\n",
      "Train      | MSE: 2.36423\n",
      "Validation | MSE: 2.11116\n"
     ]
    },
    {
     "name": "stderr",
     "output_type": "stream",
     "text": [
      "Iteration: 100%|██████████| 74/74 [02:55<00:00,  2.37s/it]\n",
      "Iter: 100%|██████████| 10/10 [00:18<00:00,  1.85s/it]\n"
     ]
    },
    {
     "name": "stdout",
     "output_type": "stream",
     "text": [
      "=====Epoch  13\n",
      "Train      | MSE: 2.16472\n",
      "Validation | MSE: 1.76590\n"
     ]
    },
    {
     "name": "stderr",
     "output_type": "stream",
     "text": [
      "Iteration: 100%|██████████| 74/74 [03:04<00:00,  2.50s/it]\n",
      "Iter: 100%|██████████| 10/10 [00:17<00:00,  1.73s/it]\n"
     ]
    },
    {
     "name": "stdout",
     "output_type": "stream",
     "text": [
      "=====Epoch  14\n",
      "Train      | MSE: 1.99389\n",
      "Validation | MSE: 1.87217\n"
     ]
    },
    {
     "name": "stderr",
     "output_type": "stream",
     "text": [
      "Iteration: 100%|██████████| 74/74 [03:06<00:00,  2.52s/it]\n",
      "Iter: 100%|██████████| 10/10 [00:18<00:00,  1.83s/it]\n"
     ]
    },
    {
     "name": "stdout",
     "output_type": "stream",
     "text": [
      "=====Epoch  15\n",
      "Train      | MSE: 1.85516\n",
      "Validation | MSE: 1.63568\n"
     ]
    },
    {
     "name": "stderr",
     "output_type": "stream",
     "text": [
      "Iteration: 100%|██████████| 74/74 [02:59<00:00,  2.42s/it]\n",
      "Iter: 100%|██████████| 10/10 [00:16<00:00,  1.64s/it]\n"
     ]
    },
    {
     "name": "stdout",
     "output_type": "stream",
     "text": [
      "=====Epoch  16\n",
      "Train      | MSE: 1.74592\n",
      "Validation | MSE: 1.55687\n"
     ]
    },
    {
     "name": "stderr",
     "output_type": "stream",
     "text": [
      "Iteration: 100%|██████████| 74/74 [02:53<00:00,  2.35s/it]\n",
      "Iter: 100%|██████████| 10/10 [00:16<00:00,  1.65s/it]\n"
     ]
    },
    {
     "name": "stdout",
     "output_type": "stream",
     "text": [
      "=====Epoch  17\n",
      "Train      | MSE: 1.65012\n",
      "Validation | MSE: 1.55923\n"
     ]
    },
    {
     "name": "stderr",
     "output_type": "stream",
     "text": [
      "Iteration: 100%|██████████| 74/74 [02:41<00:00,  2.19s/it]\n",
      "Iter: 100%|██████████| 10/10 [00:15<00:00,  1.58s/it]\n"
     ]
    },
    {
     "name": "stdout",
     "output_type": "stream",
     "text": [
      "=====Epoch  18\n",
      "Train      | MSE: 1.58180\n",
      "Validation | MSE: 1.58497\n"
     ]
    },
    {
     "name": "stderr",
     "output_type": "stream",
     "text": [
      "Iteration: 100%|██████████| 74/74 [03:01<00:00,  2.46s/it]\n",
      "Iter: 100%|██████████| 10/10 [00:23<00:00,  2.35s/it]\n"
     ]
    },
    {
     "name": "stdout",
     "output_type": "stream",
     "text": [
      "=====Epoch  19\n",
      "Train      | MSE: 1.52831\n",
      "Validation | MSE: 1.40334\n"
     ]
    },
    {
     "name": "stderr",
     "output_type": "stream",
     "text": [
      "Iteration: 100%|██████████| 74/74 [03:04<00:00,  2.50s/it]\n",
      "Iter: 100%|██████████| 10/10 [00:15<00:00,  1.59s/it]\n"
     ]
    },
    {
     "name": "stdout",
     "output_type": "stream",
     "text": [
      "=====Epoch  20\n",
      "Train      | MSE: 1.47629\n",
      "Validation | MSE: 1.39805\n"
     ]
    },
    {
     "name": "stderr",
     "output_type": "stream",
     "text": [
      "Iteration: 100%|██████████| 74/74 [02:43<00:00,  2.21s/it]\n",
      "Iter: 100%|██████████| 10/10 [00:16<00:00,  1.66s/it]\n"
     ]
    },
    {
     "name": "stdout",
     "output_type": "stream",
     "text": [
      "=====Epoch  21\n",
      "Train      | MSE: 1.45808\n",
      "Validation | MSE: 1.40369\n"
     ]
    },
    {
     "name": "stderr",
     "output_type": "stream",
     "text": [
      "Iteration: 100%|██████████| 74/74 [03:01<00:00,  2.46s/it]\n",
      "Iter: 100%|██████████| 10/10 [00:20<00:00,  2.00s/it]\n"
     ]
    },
    {
     "name": "stdout",
     "output_type": "stream",
     "text": [
      "=====Epoch  22\n",
      "Train      | MSE: 1.41938\n",
      "Validation | MSE: 1.34122\n"
     ]
    },
    {
     "name": "stderr",
     "output_type": "stream",
     "text": [
      "Iteration: 100%|██████████| 74/74 [03:10<00:00,  2.57s/it]\n",
      "Iter: 100%|██████████| 10/10 [00:19<00:00,  1.97s/it]\n"
     ]
    },
    {
     "name": "stdout",
     "output_type": "stream",
     "text": [
      "=====Epoch  23\n",
      "Train      | MSE: 1.39795\n",
      "Validation | MSE: 1.32620\n"
     ]
    },
    {
     "name": "stderr",
     "output_type": "stream",
     "text": [
      "Iteration: 100%|██████████| 74/74 [03:08<00:00,  2.55s/it]\n",
      "Iter: 100%|██████████| 10/10 [00:20<00:00,  2.03s/it]\n"
     ]
    },
    {
     "name": "stdout",
     "output_type": "stream",
     "text": [
      "=====Epoch  24\n",
      "Train      | MSE: 1.37905\n",
      "Validation | MSE: 1.27177\n"
     ]
    },
    {
     "name": "stderr",
     "output_type": "stream",
     "text": [
      "Iteration: 100%|██████████| 74/74 [03:19<00:00,  2.70s/it]\n",
      "Iter: 100%|██████████| 10/10 [00:16<00:00,  1.69s/it]\n"
     ]
    },
    {
     "name": "stdout",
     "output_type": "stream",
     "text": [
      "=====Epoch  25\n",
      "Train      | MSE: 1.37930\n",
      "Validation | MSE: 1.27288\n"
     ]
    },
    {
     "name": "stderr",
     "output_type": "stream",
     "text": [
      "Iteration: 100%|██████████| 74/74 [02:53<00:00,  2.34s/it]\n",
      "Iter: 100%|██████████| 10/10 [00:15<00:00,  1.58s/it]\n"
     ]
    },
    {
     "name": "stdout",
     "output_type": "stream",
     "text": [
      "=====Epoch  26\n",
      "Train      | MSE: 1.35394\n",
      "Validation | MSE: 1.29869\n"
     ]
    },
    {
     "name": "stderr",
     "output_type": "stream",
     "text": [
      "Iteration: 100%|██████████| 74/74 [02:37<00:00,  2.13s/it]\n",
      "Iter: 100%|██████████| 10/10 [00:15<00:00,  1.55s/it]\n"
     ]
    },
    {
     "name": "stdout",
     "output_type": "stream",
     "text": [
      "=====Epoch  27\n",
      "Train      | MSE: 1.34701\n",
      "Validation | MSE: 1.28977\n"
     ]
    },
    {
     "name": "stderr",
     "output_type": "stream",
     "text": [
      "Iteration: 100%|██████████| 74/74 [02:39<00:00,  2.15s/it]\n",
      "Iter: 100%|██████████| 10/10 [00:15<00:00,  1.53s/it]\n"
     ]
    },
    {
     "name": "stdout",
     "output_type": "stream",
     "text": [
      "=====Epoch  28\n",
      "Train      | MSE: 1.33672\n",
      "Validation | MSE: 1.28424\n"
     ]
    },
    {
     "name": "stderr",
     "output_type": "stream",
     "text": [
      "Iteration: 100%|██████████| 74/74 [02:46<00:00,  2.25s/it]\n",
      "Iter: 100%|██████████| 10/10 [00:18<00:00,  1.83s/it]\n"
     ]
    },
    {
     "name": "stdout",
     "output_type": "stream",
     "text": [
      "=====Epoch  29\n",
      "Train      | MSE: 1.33391\n",
      "Validation | MSE: 1.24056\n"
     ]
    },
    {
     "name": "stderr",
     "output_type": "stream",
     "text": [
      "Iteration: 100%|██████████| 74/74 [03:08<00:00,  2.55s/it]\n",
      "Iter: 100%|██████████| 10/10 [00:20<00:00,  2.08s/it]\n"
     ]
    },
    {
     "name": "stdout",
     "output_type": "stream",
     "text": [
      "=====Epoch  30\n",
      "Train      | MSE: 1.32257\n",
      "Validation | MSE: 1.31365\n"
     ]
    },
    {
     "name": "stderr",
     "output_type": "stream",
     "text": [
      "Iteration: 100%|██████████| 74/74 [03:09<00:00,  2.56s/it]\n",
      "Iter: 100%|██████████| 10/10 [00:18<00:00,  1.80s/it]\n"
     ]
    },
    {
     "name": "stdout",
     "output_type": "stream",
     "text": [
      "=====Epoch  31\n",
      "Train      | MSE: 1.30753\n",
      "Validation | MSE: 1.27190\n"
     ]
    },
    {
     "name": "stderr",
     "output_type": "stream",
     "text": [
      "Iteration: 100%|██████████| 74/74 [03:11<00:00,  2.59s/it]\n",
      "Iter: 100%|██████████| 10/10 [00:22<00:00,  2.27s/it]\n"
     ]
    },
    {
     "name": "stdout",
     "output_type": "stream",
     "text": [
      "=====Epoch  32\n",
      "Train      | MSE: 1.29936\n",
      "Validation | MSE: 1.23165\n"
     ]
    },
    {
     "name": "stderr",
     "output_type": "stream",
     "text": [
      "Iteration: 100%|██████████| 74/74 [03:17<00:00,  2.67s/it]\n",
      "Iter: 100%|██████████| 10/10 [00:22<00:00,  2.29s/it]\n"
     ]
    },
    {
     "name": "stdout",
     "output_type": "stream",
     "text": [
      "=====Epoch  33\n",
      "Train      | MSE: 1.30104\n",
      "Validation | MSE: 1.26342\n"
     ]
    },
    {
     "name": "stderr",
     "output_type": "stream",
     "text": [
      "Iteration:  59%|█████▉    | 44/74 [02:02<01:32,  3.09s/it]"
     ]
    }
   ],
   "source": [
    "train_losses, val_losses = build_model.train(build_model.train_loader)"
   ]
  },
  {
   "cell_type": "code",
   "execution_count": null,
   "metadata": {},
   "outputs": [],
   "source": []
  }
 ],
 "metadata": {
  "interpreter": {
   "hash": "c78b81650a0bd32063743affb6953ff71b1a0dba806fbca9e2db842718495748"
  },
  "kernelspec": {
   "display_name": "Python 3.10.4 ('master-thesis-log')",
   "language": "python",
   "name": "python3"
  },
  "language_info": {
   "codemirror_mode": {
    "name": "ipython",
    "version": 3
   },
   "file_extension": ".py",
   "mimetype": "text/x-python",
   "name": "python",
   "nbconvert_exporter": "python",
   "pygments_lexer": "ipython3",
   "version": "3.10.4"
  },
  "orig_nbformat": 4
 },
 "nbformat": 4,
 "nbformat_minor": 2
}
